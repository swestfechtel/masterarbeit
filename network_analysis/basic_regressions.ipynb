{
 "cells": [
  {
   "cell_type": "code",
   "execution_count": 1,
   "outputs": [],
   "source": [
    "import pandas as pd\n",
    "import numpy as np\n",
    "from sklearn.preprocessing import normalize, scale\n",
    "from sklearn.feature_selection import r_regression, f_regression"
   ],
   "metadata": {
    "collapsed": false,
    "pycharm": {
     "name": "#%%\n"
    }
   }
  },
  {
   "cell_type": "markdown",
   "source": [
    "# Yunnan"
   ],
   "metadata": {
    "collapsed": false,
    "pycharm": {
     "name": "#%% md\n"
    }
   }
  },
  {
   "cell_type": "code",
   "execution_count": 2,
   "outputs": [],
   "source": [
    "yunnan_nodelist = pd.read_csv('../Data/Preprocessed/yunnan_nodelist.csv')\n",
    "yunnan_edgelist = pd.read_csv('../Data/Preprocessed/yunnan_edgelist.csv')"
   ],
   "metadata": {
    "collapsed": false,
    "pycharm": {
     "name": "#%%\n"
    }
   }
  },
  {
   "cell_type": "code",
   "execution_count": 3,
   "outputs": [
    {
     "data": {
      "text/plain": "     Unnamed: 0  Referee  Referral    Date\n0             0        1       NaN  200117\n1             1        1      10.0  200117\n2             2        2       NaN  200122\n3             3        3       NaN  200124\n4             4        4       NaN  200124\n..          ...      ...       ...     ...\n270         273      171     156.0  200216\n271         269      170     155.0  200216\n272         268      170       NaN  200216\n273         270      170     156.0  200216\n274         274      171     170.0  200216\n\n[275 rows x 4 columns]",
      "text/html": "<div>\n<style scoped>\n    .dataframe tbody tr th:only-of-type {\n        vertical-align: middle;\n    }\n\n    .dataframe tbody tr th {\n        vertical-align: top;\n    }\n\n    .dataframe thead th {\n        text-align: right;\n    }\n</style>\n<table border=\"1\" class=\"dataframe\">\n  <thead>\n    <tr style=\"text-align: right;\">\n      <th></th>\n      <th>Unnamed: 0</th>\n      <th>Referee</th>\n      <th>Referral</th>\n      <th>Date</th>\n    </tr>\n  </thead>\n  <tbody>\n    <tr>\n      <th>0</th>\n      <td>0</td>\n      <td>1</td>\n      <td>NaN</td>\n      <td>200117</td>\n    </tr>\n    <tr>\n      <th>1</th>\n      <td>1</td>\n      <td>1</td>\n      <td>10.0</td>\n      <td>200117</td>\n    </tr>\n    <tr>\n      <th>2</th>\n      <td>2</td>\n      <td>2</td>\n      <td>NaN</td>\n      <td>200122</td>\n    </tr>\n    <tr>\n      <th>3</th>\n      <td>3</td>\n      <td>3</td>\n      <td>NaN</td>\n      <td>200124</td>\n    </tr>\n    <tr>\n      <th>4</th>\n      <td>4</td>\n      <td>4</td>\n      <td>NaN</td>\n      <td>200124</td>\n    </tr>\n    <tr>\n      <th>...</th>\n      <td>...</td>\n      <td>...</td>\n      <td>...</td>\n      <td>...</td>\n    </tr>\n    <tr>\n      <th>270</th>\n      <td>273</td>\n      <td>171</td>\n      <td>156.0</td>\n      <td>200216</td>\n    </tr>\n    <tr>\n      <th>271</th>\n      <td>269</td>\n      <td>170</td>\n      <td>155.0</td>\n      <td>200216</td>\n    </tr>\n    <tr>\n      <th>272</th>\n      <td>268</td>\n      <td>170</td>\n      <td>NaN</td>\n      <td>200216</td>\n    </tr>\n    <tr>\n      <th>273</th>\n      <td>270</td>\n      <td>170</td>\n      <td>156.0</td>\n      <td>200216</td>\n    </tr>\n    <tr>\n      <th>274</th>\n      <td>274</td>\n      <td>171</td>\n      <td>170.0</td>\n      <td>200216</td>\n    </tr>\n  </tbody>\n</table>\n<p>275 rows × 4 columns</p>\n</div>"
     },
     "execution_count": 3,
     "metadata": {},
     "output_type": "execute_result"
    }
   ],
   "source": [
    "yunnan_edgelist"
   ],
   "metadata": {
    "collapsed": false,
    "pycharm": {
     "name": "#%%\n"
    }
   }
  },
  {
   "cell_type": "code",
   "execution_count": 4,
   "outputs": [
    {
     "data": {
      "text/plain": "(array([ 1.,  0., nan]), array([ 1., nan,  0.]))"
     },
     "execution_count": 4,
     "metadata": {},
     "output_type": "execute_result"
    }
   ],
   "source": [
    "yunnan_nodelist['gender'].unique(), yunnan_nodelist['relatives'].unique()"
   ],
   "metadata": {
    "collapsed": false,
    "pycharm": {
     "name": "#%%\n"
    }
   }
  },
  {
   "cell_type": "code",
   "execution_count": 5,
   "outputs": [
    {
     "data": {
      "text/plain": "Index(['Unnamed: 0', 'node_id', 'age', 'gender', 'relatives'], dtype='object')"
     },
     "execution_count": 5,
     "metadata": {},
     "output_type": "execute_result"
    }
   ],
   "source": [
    "yunnan_nodelist.columns"
   ],
   "metadata": {
    "collapsed": false,
    "pycharm": {
     "name": "#%%\n"
    }
   }
  },
  {
   "cell_type": "code",
   "execution_count": 6,
   "outputs": [],
   "source": [
    "yunnan_nodelist['age'] = yunnan_nodelist['age'].fillna(value=int(yunnan_nodelist['age'].mean()))\n",
    "yunnan_nodelist['gender'] = yunnan_nodelist['gender'].mask(yunnan_nodelist['gender'].isnull(), np.random.randint(0, 2, size=yunnan_nodelist.shape[0]))\n",
    "yunnan_nodelist['relatives'] = yunnan_nodelist['relatives'].mask(yunnan_nodelist['relatives'].isnull(), np.random.randint(0, 2, size=yunnan_nodelist.shape[0]))"
   ],
   "metadata": {
    "collapsed": false,
    "pycharm": {
     "name": "#%%\n"
    }
   }
  },
  {
   "cell_type": "code",
   "execution_count": 7,
   "outputs": [
    {
     "data": {
      "text/plain": "(array([1., 0.]), array([1., 0.]))"
     },
     "execution_count": 7,
     "metadata": {},
     "output_type": "execute_result"
    }
   ],
   "source": [
    "yunnan_nodelist['gender'].unique(), yunnan_nodelist['relatives'].unique()"
   ],
   "metadata": {
    "collapsed": false,
    "pycharm": {
     "name": "#%%\n"
    }
   }
  },
  {
   "cell_type": "code",
   "execution_count": 8,
   "outputs": [],
   "source": [
    "yunnan_data = pd.DataFrame(columns=['referee', 'referral', 'contact', 'referee_age', 'referral_age', 'age_diff', 'referee_gender', 'referral_gender', 'gender_diff', 'referee_relatives', 'referral_relatives', 'relatives_diff'])"
   ],
   "metadata": {
    "collapsed": false,
    "pycharm": {
     "name": "#%%\n"
    }
   }
  },
  {
   "cell_type": "code",
   "execution_count": 9,
   "outputs": [],
   "source": [
    "added_combinations = set()\n",
    "for index, row in yunnan_edgelist[~yunnan_edgelist['Referral'].isna()].iterrows():\n",
    "    referee = yunnan_nodelist.loc[yunnan_nodelist['node_id'] == row['Referee']]\n",
    "    referral = yunnan_nodelist.loc[yunnan_nodelist['node_id'] == row['Referral']]\n",
    "    new_row = pd.Series({'referee': row['Referee'], 'referral': row['Referral'], 'contact': 1, 'referee_age': referee['age'].iloc[0], 'referral_age': referral['age'].iloc[0], 'age_diff': abs(referee['age'].iloc[0] - referral['age'].iloc[0]),\n",
    "                         'referee_gender': referee['gender'].iloc[0], 'referral_gender': referral['gender'].iloc[0], 'gender_diff': abs(referee['gender'].iloc[0] - referral['gender'].iloc[0]),\n",
    "                         'referee_relatives': referee['relatives'].iloc[0], 'referral_relatives': referral['relatives'].iloc[0], 'relatives_diff': abs(referee['relatives'].iloc[0] - referral['relatives'].iloc[0])})\n",
    "    yunnan_data = pd.concat([yunnan_data, new_row.to_frame().T], axis='index', ignore_index=True)\n",
    "\n",
    "    added_combinations.add((referee['node_id'].iloc[0], referral['node_id'].iloc[0]))\n",
    "    added_combinations.add((referral['node_id'].iloc[0], referee['node_id'].iloc[0]))"
   ],
   "metadata": {
    "collapsed": false,
    "pycharm": {
     "name": "#%%\n"
    }
   }
  },
  {
   "cell_type": "code",
   "execution_count": 10,
   "outputs": [],
   "source": [
    "for ref_a in yunnan_nodelist['node_id']:\n",
    "    for ref_b in yunnan_nodelist['node_id']:\n",
    "        if ref_a == ref_b:\n",
    "            continue\n",
    "        if (ref_a, ref_b) in added_combinations:\n",
    "            continue\n",
    "        if (ref_b, ref_a) in added_combinations:\n",
    "            continue\n",
    "\n",
    "        referee = yunnan_nodelist.loc[yunnan_nodelist['node_id'] == ref_a]\n",
    "        referral = yunnan_nodelist.loc[yunnan_nodelist['node_id'] == ref_b]\n",
    "\n",
    "        new_row = pd.Series({'referee': ref_a, 'referral': ref_b, 'contact': 0, 'referee_age': referee['age'].iloc[0], 'referral_age': referral['age'].iloc[0], 'age_diff': abs(referee['age'].iloc[0] - referral['age'].iloc[0]),\n",
    "                             'referee_gender': referee['gender'].iloc[0], 'referral_gender': referral['gender'].iloc[0], 'gender_diff': abs(referee['gender'].iloc[0] - referral['gender'].iloc[0]),\n",
    "                             'referee_relatives': referee['relatives'].iloc[0], 'referral_relatives': referral['relatives'].iloc[0], 'relatives_diff': abs(referee['relatives'].iloc[0] - referral['relatives'].iloc[0])})\n",
    "        yunnan_data = pd.concat([yunnan_data, new_row.to_frame().T], axis='index', ignore_index=True)\n",
    "\n",
    "        added_combinations.add((ref_a, ref_b))\n",
    "        added_combinations.add((ref_b, ref_a))"
   ],
   "metadata": {
    "collapsed": false,
    "pycharm": {
     "name": "#%%\n"
    }
   }
  },
  {
   "cell_type": "code",
   "execution_count": 11,
   "outputs": [
    {
     "data": {
      "text/plain": "       referee  referral  contact  referee_age  referral_age  age_diff  \\\n0          1.0      10.0      1.0         41.0          63.0      22.0   \n1         16.0      15.0      1.0         68.0          71.0       3.0   \n2         90.0      75.0      1.0         34.0          76.0      42.0   \n3         86.0      85.0      1.0         79.0          67.0      12.0   \n4         86.0      81.0      1.0         79.0          46.0      33.0   \n...        ...       ...      ...          ...           ...       ...   \n14530    168.0     169.0      0.0         62.0          41.0      21.0   \n14531    168.0     170.0      0.0         62.0          52.0      10.0   \n14532    168.0     171.0      0.0         62.0          24.0      38.0   \n14533    169.0     170.0      0.0         41.0          52.0      11.0   \n14534    169.0     171.0      0.0         41.0          24.0      17.0   \n\n       referee_gender  referral_gender  gender_diff  referee_relatives  \\\n0                 1.0              1.0          0.0                1.0   \n1                 0.0              1.0          1.0                1.0   \n2                 0.0              1.0          1.0                1.0   \n3                 0.0              0.0          0.0                0.0   \n4                 0.0              0.0          0.0                0.0   \n...               ...              ...          ...                ...   \n14530             0.0              1.0          1.0                0.0   \n14531             0.0              1.0          1.0                0.0   \n14532             0.0              0.0          0.0                0.0   \n14533             1.0              1.0          0.0                1.0   \n14534             1.0              0.0          1.0                1.0   \n\n       referral_relatives  relatives_diff  \n0                     0.0             1.0  \n1                     1.0             0.0  \n2                     0.0             1.0  \n3                     0.0             0.0  \n4                     0.0             0.0  \n...                   ...             ...  \n14530                 1.0             1.0  \n14531                 1.0             1.0  \n14532                 1.0             1.0  \n14533                 1.0             0.0  \n14534                 1.0             0.0  \n\n[14535 rows x 12 columns]",
      "text/html": "<div>\n<style scoped>\n    .dataframe tbody tr th:only-of-type {\n        vertical-align: middle;\n    }\n\n    .dataframe tbody tr th {\n        vertical-align: top;\n    }\n\n    .dataframe thead th {\n        text-align: right;\n    }\n</style>\n<table border=\"1\" class=\"dataframe\">\n  <thead>\n    <tr style=\"text-align: right;\">\n      <th></th>\n      <th>referee</th>\n      <th>referral</th>\n      <th>contact</th>\n      <th>referee_age</th>\n      <th>referral_age</th>\n      <th>age_diff</th>\n      <th>referee_gender</th>\n      <th>referral_gender</th>\n      <th>gender_diff</th>\n      <th>referee_relatives</th>\n      <th>referral_relatives</th>\n      <th>relatives_diff</th>\n    </tr>\n  </thead>\n  <tbody>\n    <tr>\n      <th>0</th>\n      <td>1.0</td>\n      <td>10.0</td>\n      <td>1.0</td>\n      <td>41.0</td>\n      <td>63.0</td>\n      <td>22.0</td>\n      <td>1.0</td>\n      <td>1.0</td>\n      <td>0.0</td>\n      <td>1.0</td>\n      <td>0.0</td>\n      <td>1.0</td>\n    </tr>\n    <tr>\n      <th>1</th>\n      <td>16.0</td>\n      <td>15.0</td>\n      <td>1.0</td>\n      <td>68.0</td>\n      <td>71.0</td>\n      <td>3.0</td>\n      <td>0.0</td>\n      <td>1.0</td>\n      <td>1.0</td>\n      <td>1.0</td>\n      <td>1.0</td>\n      <td>0.0</td>\n    </tr>\n    <tr>\n      <th>2</th>\n      <td>90.0</td>\n      <td>75.0</td>\n      <td>1.0</td>\n      <td>34.0</td>\n      <td>76.0</td>\n      <td>42.0</td>\n      <td>0.0</td>\n      <td>1.0</td>\n      <td>1.0</td>\n      <td>1.0</td>\n      <td>0.0</td>\n      <td>1.0</td>\n    </tr>\n    <tr>\n      <th>3</th>\n      <td>86.0</td>\n      <td>85.0</td>\n      <td>1.0</td>\n      <td>79.0</td>\n      <td>67.0</td>\n      <td>12.0</td>\n      <td>0.0</td>\n      <td>0.0</td>\n      <td>0.0</td>\n      <td>0.0</td>\n      <td>0.0</td>\n      <td>0.0</td>\n    </tr>\n    <tr>\n      <th>4</th>\n      <td>86.0</td>\n      <td>81.0</td>\n      <td>1.0</td>\n      <td>79.0</td>\n      <td>46.0</td>\n      <td>33.0</td>\n      <td>0.0</td>\n      <td>0.0</td>\n      <td>0.0</td>\n      <td>0.0</td>\n      <td>0.0</td>\n      <td>0.0</td>\n    </tr>\n    <tr>\n      <th>...</th>\n      <td>...</td>\n      <td>...</td>\n      <td>...</td>\n      <td>...</td>\n      <td>...</td>\n      <td>...</td>\n      <td>...</td>\n      <td>...</td>\n      <td>...</td>\n      <td>...</td>\n      <td>...</td>\n      <td>...</td>\n    </tr>\n    <tr>\n      <th>14530</th>\n      <td>168.0</td>\n      <td>169.0</td>\n      <td>0.0</td>\n      <td>62.0</td>\n      <td>41.0</td>\n      <td>21.0</td>\n      <td>0.0</td>\n      <td>1.0</td>\n      <td>1.0</td>\n      <td>0.0</td>\n      <td>1.0</td>\n      <td>1.0</td>\n    </tr>\n    <tr>\n      <th>14531</th>\n      <td>168.0</td>\n      <td>170.0</td>\n      <td>0.0</td>\n      <td>62.0</td>\n      <td>52.0</td>\n      <td>10.0</td>\n      <td>0.0</td>\n      <td>1.0</td>\n      <td>1.0</td>\n      <td>0.0</td>\n      <td>1.0</td>\n      <td>1.0</td>\n    </tr>\n    <tr>\n      <th>14532</th>\n      <td>168.0</td>\n      <td>171.0</td>\n      <td>0.0</td>\n      <td>62.0</td>\n      <td>24.0</td>\n      <td>38.0</td>\n      <td>0.0</td>\n      <td>0.0</td>\n      <td>0.0</td>\n      <td>0.0</td>\n      <td>1.0</td>\n      <td>1.0</td>\n    </tr>\n    <tr>\n      <th>14533</th>\n      <td>169.0</td>\n      <td>170.0</td>\n      <td>0.0</td>\n      <td>41.0</td>\n      <td>52.0</td>\n      <td>11.0</td>\n      <td>1.0</td>\n      <td>1.0</td>\n      <td>0.0</td>\n      <td>1.0</td>\n      <td>1.0</td>\n      <td>0.0</td>\n    </tr>\n    <tr>\n      <th>14534</th>\n      <td>169.0</td>\n      <td>171.0</td>\n      <td>0.0</td>\n      <td>41.0</td>\n      <td>24.0</td>\n      <td>17.0</td>\n      <td>1.0</td>\n      <td>0.0</td>\n      <td>1.0</td>\n      <td>1.0</td>\n      <td>1.0</td>\n      <td>0.0</td>\n    </tr>\n  </tbody>\n</table>\n<p>14535 rows × 12 columns</p>\n</div>"
     },
     "execution_count": 11,
     "metadata": {},
     "output_type": "execute_result"
    }
   ],
   "source": [
    "yunnan_data"
   ],
   "metadata": {
    "collapsed": false,
    "pycharm": {
     "name": "#%%\n"
    }
   }
  },
  {
   "cell_type": "code",
   "execution_count": 91,
   "outputs": [
    {
     "data": {
      "text/plain": "14535.0"
     },
     "execution_count": 91,
     "metadata": {},
     "output_type": "execute_result"
    }
   ],
   "source": [
    "(yunnan_nodelist.shape[0] * (yunnan_nodelist.shape[0] - 1)) / 2"
   ],
   "metadata": {
    "collapsed": false,
    "pycharm": {
     "name": "#%%\n"
    }
   }
  },
  {
   "cell_type": "code",
   "execution_count": 92,
   "outputs": [
    {
     "data": {
      "text/plain": "       referee  referral  contact  referee_age  referral_age  age_diff  \\\n0          1.0      10.0      1.0    -0.900396      0.938726  0.135464   \n1         16.0      15.0      1.0     0.156549      0.499161 -1.193047   \n2         90.0      75.0      1.0    -1.900825      0.995179  1.034717   \n3         86.0      85.0      1.0     0.573515      0.076514 -0.744325   \n4         86.0      81.0      1.0     0.921381     -0.824737  0.446583   \n...        ...       ...      ...          ...           ...       ...   \n14530    168.0     169.0      0.0     0.857522     -0.518396  0.087612   \n14531    168.0     170.0      0.0     0.591272      0.051218 -0.704163   \n14532    168.0     171.0      0.0     0.901288     -1.676312  1.277942   \n14533    169.0     170.0      0.0    -0.350791      0.780328 -0.485451   \n14534    169.0     171.0      0.0     0.919632     -0.812238  0.432657   \n\n       referee_gender  referral_gender  gender_diff  referee_relatives  \\\n0                 1.0              1.0          0.0                1.0   \n1                 0.0              1.0          1.0                1.0   \n2                 0.0              1.0          1.0                1.0   \n3                 0.0              0.0          0.0                0.0   \n4                 0.0              0.0          0.0                0.0   \n...               ...              ...          ...                ...   \n14530             0.0              1.0          1.0                0.0   \n14531             0.0              1.0          1.0                0.0   \n14532             0.0              0.0          0.0                0.0   \n14533             1.0              1.0          0.0                1.0   \n14534             1.0              0.0          1.0                1.0   \n\n       referral_relatives  relatives_diff  \n0                     1.0             0.0  \n1                     1.0             0.0  \n2                     1.0             0.0  \n3                     0.0             0.0  \n4                     0.0             0.0  \n...                   ...             ...  \n14530                 1.0             1.0  \n14531                 1.0             1.0  \n14532                 1.0             1.0  \n14533                 1.0             0.0  \n14534                 1.0             0.0  \n\n[14535 rows x 12 columns]",
      "text/html": "<div>\n<style scoped>\n    .dataframe tbody tr th:only-of-type {\n        vertical-align: middle;\n    }\n\n    .dataframe tbody tr th {\n        vertical-align: top;\n    }\n\n    .dataframe thead th {\n        text-align: right;\n    }\n</style>\n<table border=\"1\" class=\"dataframe\">\n  <thead>\n    <tr style=\"text-align: right;\">\n      <th></th>\n      <th>referee</th>\n      <th>referral</th>\n      <th>contact</th>\n      <th>referee_age</th>\n      <th>referral_age</th>\n      <th>age_diff</th>\n      <th>referee_gender</th>\n      <th>referral_gender</th>\n      <th>gender_diff</th>\n      <th>referee_relatives</th>\n      <th>referral_relatives</th>\n      <th>relatives_diff</th>\n    </tr>\n  </thead>\n  <tbody>\n    <tr>\n      <th>0</th>\n      <td>1.0</td>\n      <td>10.0</td>\n      <td>1.0</td>\n      <td>-0.900396</td>\n      <td>0.938726</td>\n      <td>0.135464</td>\n      <td>1.0</td>\n      <td>1.0</td>\n      <td>0.0</td>\n      <td>1.0</td>\n      <td>1.0</td>\n      <td>0.0</td>\n    </tr>\n    <tr>\n      <th>1</th>\n      <td>16.0</td>\n      <td>15.0</td>\n      <td>1.0</td>\n      <td>0.156549</td>\n      <td>0.499161</td>\n      <td>-1.193047</td>\n      <td>0.0</td>\n      <td>1.0</td>\n      <td>1.0</td>\n      <td>1.0</td>\n      <td>1.0</td>\n      <td>0.0</td>\n    </tr>\n    <tr>\n      <th>2</th>\n      <td>90.0</td>\n      <td>75.0</td>\n      <td>1.0</td>\n      <td>-1.900825</td>\n      <td>0.995179</td>\n      <td>1.034717</td>\n      <td>0.0</td>\n      <td>1.0</td>\n      <td>1.0</td>\n      <td>1.0</td>\n      <td>1.0</td>\n      <td>0.0</td>\n    </tr>\n    <tr>\n      <th>3</th>\n      <td>86.0</td>\n      <td>85.0</td>\n      <td>1.0</td>\n      <td>0.573515</td>\n      <td>0.076514</td>\n      <td>-0.744325</td>\n      <td>0.0</td>\n      <td>0.0</td>\n      <td>0.0</td>\n      <td>0.0</td>\n      <td>0.0</td>\n      <td>0.0</td>\n    </tr>\n    <tr>\n      <th>4</th>\n      <td>86.0</td>\n      <td>81.0</td>\n      <td>1.0</td>\n      <td>0.921381</td>\n      <td>-0.824737</td>\n      <td>0.446583</td>\n      <td>0.0</td>\n      <td>0.0</td>\n      <td>0.0</td>\n      <td>0.0</td>\n      <td>0.0</td>\n      <td>0.0</td>\n    </tr>\n    <tr>\n      <th>...</th>\n      <td>...</td>\n      <td>...</td>\n      <td>...</td>\n      <td>...</td>\n      <td>...</td>\n      <td>...</td>\n      <td>...</td>\n      <td>...</td>\n      <td>...</td>\n      <td>...</td>\n      <td>...</td>\n      <td>...</td>\n    </tr>\n    <tr>\n      <th>14530</th>\n      <td>168.0</td>\n      <td>169.0</td>\n      <td>0.0</td>\n      <td>0.857522</td>\n      <td>-0.518396</td>\n      <td>0.087612</td>\n      <td>0.0</td>\n      <td>1.0</td>\n      <td>1.0</td>\n      <td>0.0</td>\n      <td>1.0</td>\n      <td>1.0</td>\n    </tr>\n    <tr>\n      <th>14531</th>\n      <td>168.0</td>\n      <td>170.0</td>\n      <td>0.0</td>\n      <td>0.591272</td>\n      <td>0.051218</td>\n      <td>-0.704163</td>\n      <td>0.0</td>\n      <td>1.0</td>\n      <td>1.0</td>\n      <td>0.0</td>\n      <td>1.0</td>\n      <td>1.0</td>\n    </tr>\n    <tr>\n      <th>14532</th>\n      <td>168.0</td>\n      <td>171.0</td>\n      <td>0.0</td>\n      <td>0.901288</td>\n      <td>-1.676312</td>\n      <td>1.277942</td>\n      <td>0.0</td>\n      <td>0.0</td>\n      <td>0.0</td>\n      <td>0.0</td>\n      <td>1.0</td>\n      <td>1.0</td>\n    </tr>\n    <tr>\n      <th>14533</th>\n      <td>169.0</td>\n      <td>170.0</td>\n      <td>0.0</td>\n      <td>-0.350791</td>\n      <td>0.780328</td>\n      <td>-0.485451</td>\n      <td>1.0</td>\n      <td>1.0</td>\n      <td>0.0</td>\n      <td>1.0</td>\n      <td>1.0</td>\n      <td>0.0</td>\n    </tr>\n    <tr>\n      <th>14534</th>\n      <td>169.0</td>\n      <td>171.0</td>\n      <td>0.0</td>\n      <td>0.919632</td>\n      <td>-0.812238</td>\n      <td>0.432657</td>\n      <td>1.0</td>\n      <td>0.0</td>\n      <td>1.0</td>\n      <td>1.0</td>\n      <td>1.0</td>\n      <td>0.0</td>\n    </tr>\n  </tbody>\n</table>\n<p>14535 rows × 12 columns</p>\n</div>"
     },
     "execution_count": 92,
     "metadata": {},
     "output_type": "execute_result"
    }
   ],
   "source": [
    "yunnan_data[['referee_age', 'referral_age', 'age_diff']] = normalize(yunnan_data[['referee_age', 'referral_age', 'age_diff']])\n",
    "yunnan_data[['referee_age', 'referral_age', 'age_diff']] = scale(yunnan_data[['referee_age', 'referral_age', 'age_diff']])\n",
    "yunnan_data"
   ],
   "metadata": {
    "collapsed": false,
    "pycharm": {
     "name": "#%%\n"
    }
   }
  },
  {
   "cell_type": "code",
   "execution_count": 95,
   "outputs": [
    {
     "data": {
      "text/plain": "array([-0.00678707,  0.02617738, -0.01872828, -0.00044435,  0.02559778,\n        0.00603384, -0.03436659, -0.04232978, -0.07552437])"
     },
     "execution_count": 95,
     "metadata": {},
     "output_type": "execute_result"
    }
   ],
   "source": [
    "r_regression(yunnan_data[yunnan_data.columns[3:]], yunnan_data['contact'])"
   ],
   "metadata": {
    "collapsed": false,
    "pycharm": {
     "name": "#%%\n"
    }
   }
  },
  {
   "cell_type": "code",
   "execution_count": 96,
   "outputs": [
    {
     "data": {
      "text/plain": "(array([6.69482834e-01, 9.96564130e+00, 5.09921708e+00, 2.86951615e-03,\n        9.52893597e+00, 5.29124778e-01, 1.71846820e+01, 2.60871260e+01,\n        8.33707713e+01]),\n array([4.13245388e-01, 1.59814490e-03, 2.39514127e-02, 9.57280196e-01,\n        2.02637953e-03, 4.66986771e-01, 3.41083645e-05, 3.30483031e-07,\n        7.68428865e-20]))"
     },
     "execution_count": 96,
     "metadata": {},
     "output_type": "execute_result"
    }
   ],
   "source": [
    "f_regression(yunnan_data[yunnan_data.columns[3:]], yunnan_data['contact'])"
   ],
   "metadata": {
    "collapsed": false,
    "pycharm": {
     "name": "#%%\n"
    }
   }
  },
  {
   "cell_type": "markdown",
   "source": [
    "# Hainan"
   ],
   "metadata": {
    "collapsed": false,
    "pycharm": {
     "name": "#%% md\n"
    }
   }
  },
  {
   "cell_type": "code",
   "execution_count": 2,
   "outputs": [],
   "source": [
    "hainan_edgelist = pd.read_csv('../Data/Preprocessed/hainan_edgelist.csv')\n",
    "hainan_nodelist = pd.read_csv('../Data/Preprocessed/hainan_nodelist.csv')"
   ],
   "metadata": {
    "collapsed": false,
    "pycharm": {
     "name": "#%%\n"
    }
   }
  },
  {
   "cell_type": "code",
   "execution_count": 3,
   "outputs": [
    {
     "data": {
      "text/plain": "(array([1., 0.]), array([0., 1.]))"
     },
     "execution_count": 3,
     "metadata": {},
     "output_type": "execute_result"
    }
   ],
   "source": [
    "hainan_nodelist['gender'].unique(), hainan_nodelist['relatives'].unique()"
   ],
   "metadata": {
    "collapsed": false,
    "pycharm": {
     "name": "#%%\n"
    }
   }
  },
  {
   "cell_type": "markdown",
   "source": [
    "Don't need to fill nans"
   ],
   "metadata": {
    "collapsed": false,
    "pycharm": {
     "name": "#%% md\n"
    }
   }
  },
  {
   "cell_type": "code",
   "execution_count": 6,
   "outputs": [],
   "source": [
    "hainan_data = pd.DataFrame(columns=['referee', 'referral', 'contact', 'referee_age', 'referral_age', 'age_diff', 'referee_gender', 'referral_gender', 'gender_diff', 'referee_relatives', 'referral_relatives', 'relatives_diff'])"
   ],
   "metadata": {
    "collapsed": false,
    "pycharm": {
     "name": "#%%\n"
    }
   }
  },
  {
   "cell_type": "code",
   "execution_count": 7,
   "outputs": [],
   "source": [
    "added_combinations = set()\n",
    "for index, row in hainan_edgelist[~hainan_edgelist['Referral'].isna()].iterrows():\n",
    "    referee = hainan_nodelist.loc[hainan_nodelist['node_id'] == row['Referee']]\n",
    "    referral = hainan_nodelist.loc[hainan_nodelist['node_id'] == row['Referral']]\n",
    "    new_row = pd.Series({'referee': row['Referee'], 'referral': row['Referral'], 'contact': 1, 'referee_age': referee['age'].iloc[0], 'referral_age': referral['age'].iloc[0], 'age_diff': abs(referee['age'].iloc[0] - referral['age'].iloc[0]),\n",
    "                         'referee_gender': referee['gender'].iloc[0], 'referral_gender': referral['gender'].iloc[0], 'gender_diff': abs(referee['gender'].iloc[0] - referral['gender'].iloc[0]),\n",
    "                         'referee_relatives': referee['relatives'].iloc[0], 'referral_relatives': referral['relatives'].iloc[0], 'relatives_diff': abs(referee['relatives'].iloc[0] - referral['relatives'].iloc[0])})\n",
    "    hainan_data = pd.concat([hainan_data, new_row.to_frame().T], axis='index', ignore_index=True)\n",
    "\n",
    "    added_combinations.add((referee['node_id'].iloc[0], referral['node_id'].iloc[0]))\n",
    "    added_combinations.add((referral['node_id'].iloc[0], referee['node_id'].iloc[0]))"
   ],
   "metadata": {
    "collapsed": false,
    "pycharm": {
     "name": "#%%\n"
    }
   }
  },
  {
   "cell_type": "code",
   "execution_count": 8,
   "outputs": [],
   "source": [
    "for ref_a in hainan_nodelist['node_id']:\n",
    "    for ref_b in hainan_nodelist['node_id']:\n",
    "        if ref_a == ref_b:\n",
    "            continue\n",
    "        if (ref_a, ref_b) in added_combinations:\n",
    "            continue\n",
    "        if (ref_b, ref_a) in added_combinations:\n",
    "            continue\n",
    "\n",
    "        referee = hainan_nodelist.loc[hainan_nodelist['node_id'] == ref_a]\n",
    "        referral = hainan_nodelist.loc[hainan_nodelist['node_id'] == ref_b]\n",
    "\n",
    "        new_row = pd.Series({'referee': ref_a, 'referral': ref_b, 'contact': 0, 'referee_age': referee['age'].iloc[0], 'referral_age': referral['age'].iloc[0], 'age_diff': abs(referee['age'].iloc[0] - referral['age'].iloc[0]),\n",
    "                             'referee_gender': referee['gender'].iloc[0], 'referral_gender': referral['gender'].iloc[0], 'gender_diff': abs(referee['gender'].iloc[0] - referral['gender'].iloc[0]),\n",
    "                             'referee_relatives': referee['relatives'].iloc[0], 'referral_relatives': referral['relatives'].iloc[0], 'relatives_diff': abs(referee['relatives'].iloc[0] - referral['relatives'].iloc[0])})\n",
    "        hainan_data = pd.concat([hainan_data, new_row.to_frame().T], axis='index', ignore_index=True)\n",
    "\n",
    "        added_combinations.add((ref_a, ref_b))\n",
    "        added_combinations.add((ref_b, ref_a))"
   ],
   "metadata": {
    "collapsed": false,
    "pycharm": {
     "name": "#%%\n"
    }
   }
  },
  {
   "cell_type": "code",
   "execution_count": 9,
   "outputs": [
    {
     "data": {
      "text/plain": "       referee  referral  contact  referee_age  referral_age  age_diff  \\\n0          5.0       3.0      1.0         27.0          27.0       0.0   \n1         15.0       7.0      1.0         54.0          53.0       1.0   \n2         14.0      13.0      1.0         44.0          47.0       3.0   \n3         36.0      35.0      1.0         17.0           8.0       9.0   \n4         43.0      42.0      1.0         69.0          68.0       1.0   \n...        ...       ...      ...          ...           ...       ...   \n13036    158.0     159.0      0.0         62.0          27.0      35.0   \n13037    158.0     162.0      0.0         62.0          73.0      11.0   \n13038    160.0     159.0      0.0         25.0          27.0       2.0   \n13039    160.0     162.0      0.0         25.0          73.0      48.0   \n13040    159.0     162.0      0.0         27.0          73.0      46.0   \n\n       referee_gender  referral_gender  gender_diff  referee_relatives  \\\n0                 0.0              1.0          1.0                0.0   \n1                 0.0              1.0          1.0                1.0   \n2                 0.0              1.0          1.0                1.0   \n3                 0.0              1.0          1.0                1.0   \n4                 0.0              1.0          1.0                1.0   \n...               ...              ...          ...                ...   \n13036             1.0              0.0          1.0                1.0   \n13037             1.0              1.0          0.0                1.0   \n13038             0.0              0.0          0.0                1.0   \n13039             0.0              1.0          1.0                1.0   \n13040             0.0              1.0          1.0                1.0   \n\n       referral_relatives  relatives_diff  \n0                     0.0             0.0  \n1                     1.0             0.0  \n2                     1.0             0.0  \n3                     1.0             0.0  \n4                     1.0             0.0  \n...                   ...             ...  \n13036                 1.0             0.0  \n13037                 0.0             1.0  \n13038                 1.0             0.0  \n13039                 0.0             1.0  \n13040                 0.0             1.0  \n\n[13041 rows x 12 columns]",
      "text/html": "<div>\n<style scoped>\n    .dataframe tbody tr th:only-of-type {\n        vertical-align: middle;\n    }\n\n    .dataframe tbody tr th {\n        vertical-align: top;\n    }\n\n    .dataframe thead th {\n        text-align: right;\n    }\n</style>\n<table border=\"1\" class=\"dataframe\">\n  <thead>\n    <tr style=\"text-align: right;\">\n      <th></th>\n      <th>referee</th>\n      <th>referral</th>\n      <th>contact</th>\n      <th>referee_age</th>\n      <th>referral_age</th>\n      <th>age_diff</th>\n      <th>referee_gender</th>\n      <th>referral_gender</th>\n      <th>gender_diff</th>\n      <th>referee_relatives</th>\n      <th>referral_relatives</th>\n      <th>relatives_diff</th>\n    </tr>\n  </thead>\n  <tbody>\n    <tr>\n      <th>0</th>\n      <td>5.0</td>\n      <td>3.0</td>\n      <td>1.0</td>\n      <td>27.0</td>\n      <td>27.0</td>\n      <td>0.0</td>\n      <td>0.0</td>\n      <td>1.0</td>\n      <td>1.0</td>\n      <td>0.0</td>\n      <td>0.0</td>\n      <td>0.0</td>\n    </tr>\n    <tr>\n      <th>1</th>\n      <td>15.0</td>\n      <td>7.0</td>\n      <td>1.0</td>\n      <td>54.0</td>\n      <td>53.0</td>\n      <td>1.0</td>\n      <td>0.0</td>\n      <td>1.0</td>\n      <td>1.0</td>\n      <td>1.0</td>\n      <td>1.0</td>\n      <td>0.0</td>\n    </tr>\n    <tr>\n      <th>2</th>\n      <td>14.0</td>\n      <td>13.0</td>\n      <td>1.0</td>\n      <td>44.0</td>\n      <td>47.0</td>\n      <td>3.0</td>\n      <td>0.0</td>\n      <td>1.0</td>\n      <td>1.0</td>\n      <td>1.0</td>\n      <td>1.0</td>\n      <td>0.0</td>\n    </tr>\n    <tr>\n      <th>3</th>\n      <td>36.0</td>\n      <td>35.0</td>\n      <td>1.0</td>\n      <td>17.0</td>\n      <td>8.0</td>\n      <td>9.0</td>\n      <td>0.0</td>\n      <td>1.0</td>\n      <td>1.0</td>\n      <td>1.0</td>\n      <td>1.0</td>\n      <td>0.0</td>\n    </tr>\n    <tr>\n      <th>4</th>\n      <td>43.0</td>\n      <td>42.0</td>\n      <td>1.0</td>\n      <td>69.0</td>\n      <td>68.0</td>\n      <td>1.0</td>\n      <td>0.0</td>\n      <td>1.0</td>\n      <td>1.0</td>\n      <td>1.0</td>\n      <td>1.0</td>\n      <td>0.0</td>\n    </tr>\n    <tr>\n      <th>...</th>\n      <td>...</td>\n      <td>...</td>\n      <td>...</td>\n      <td>...</td>\n      <td>...</td>\n      <td>...</td>\n      <td>...</td>\n      <td>...</td>\n      <td>...</td>\n      <td>...</td>\n      <td>...</td>\n      <td>...</td>\n    </tr>\n    <tr>\n      <th>13036</th>\n      <td>158.0</td>\n      <td>159.0</td>\n      <td>0.0</td>\n      <td>62.0</td>\n      <td>27.0</td>\n      <td>35.0</td>\n      <td>1.0</td>\n      <td>0.0</td>\n      <td>1.0</td>\n      <td>1.0</td>\n      <td>1.0</td>\n      <td>0.0</td>\n    </tr>\n    <tr>\n      <th>13037</th>\n      <td>158.0</td>\n      <td>162.0</td>\n      <td>0.0</td>\n      <td>62.0</td>\n      <td>73.0</td>\n      <td>11.0</td>\n      <td>1.0</td>\n      <td>1.0</td>\n      <td>0.0</td>\n      <td>1.0</td>\n      <td>0.0</td>\n      <td>1.0</td>\n    </tr>\n    <tr>\n      <th>13038</th>\n      <td>160.0</td>\n      <td>159.0</td>\n      <td>0.0</td>\n      <td>25.0</td>\n      <td>27.0</td>\n      <td>2.0</td>\n      <td>0.0</td>\n      <td>0.0</td>\n      <td>0.0</td>\n      <td>1.0</td>\n      <td>1.0</td>\n      <td>0.0</td>\n    </tr>\n    <tr>\n      <th>13039</th>\n      <td>160.0</td>\n      <td>162.0</td>\n      <td>0.0</td>\n      <td>25.0</td>\n      <td>73.0</td>\n      <td>48.0</td>\n      <td>0.0</td>\n      <td>1.0</td>\n      <td>1.0</td>\n      <td>1.0</td>\n      <td>0.0</td>\n      <td>1.0</td>\n    </tr>\n    <tr>\n      <th>13040</th>\n      <td>159.0</td>\n      <td>162.0</td>\n      <td>0.0</td>\n      <td>27.0</td>\n      <td>73.0</td>\n      <td>46.0</td>\n      <td>0.0</td>\n      <td>1.0</td>\n      <td>1.0</td>\n      <td>1.0</td>\n      <td>0.0</td>\n      <td>1.0</td>\n    </tr>\n  </tbody>\n</table>\n<p>13041 rows × 12 columns</p>\n</div>"
     },
     "execution_count": 9,
     "metadata": {},
     "output_type": "execute_result"
    }
   ],
   "source": [
    "hainan_data"
   ],
   "metadata": {
    "collapsed": false,
    "pycharm": {
     "name": "#%%\n"
    }
   }
  },
  {
   "cell_type": "code",
   "execution_count": 10,
   "outputs": [
    {
     "data": {
      "text/plain": "13041.0"
     },
     "execution_count": 10,
     "metadata": {},
     "output_type": "execute_result"
    }
   ],
   "source": [
    "(hainan_nodelist.shape[0] * (hainan_nodelist.shape[0] - 1)) / 2"
   ],
   "metadata": {
    "collapsed": false,
    "pycharm": {
     "name": "#%%\n"
    }
   }
  },
  {
   "cell_type": "code",
   "execution_count": 11,
   "outputs": [
    {
     "data": {
      "text/plain": "       referee  referral  contact  referee_age  referral_age  age_diff  \\\n0          5.0       3.0      1.0     0.339552      0.355452 -1.397497   \n1         15.0       7.0      1.0     0.375219      0.318290 -1.327254   \n2         14.0      13.0      1.0     0.205842      0.478156 -1.150086   \n3         36.0      35.0      1.0     0.935850     -1.436547  0.898807   \n4         43.0      42.0      1.0     0.367497      0.326514 -1.342633   \n...        ...       ...      ...          ...           ...       ...   \n13036    158.0     159.0      0.0     0.926073     -1.599742  1.045712   \n13037    158.0     162.0      0.0    -0.010768      0.633392 -0.791008   \n13038    160.0     159.0      0.0     0.182428      0.497286 -1.109020   \n13039    160.0     162.0      0.0    -2.025503      0.889053  1.410104   \n13040    159.0     162.0      0.0    -1.896677      0.911887  1.306911   \n\n       referee_gender  referral_gender  gender_diff  referee_relatives  \\\n0                 0.0              1.0          1.0                0.0   \n1                 0.0              1.0          1.0                1.0   \n2                 0.0              1.0          1.0                1.0   \n3                 0.0              1.0          1.0                1.0   \n4                 0.0              1.0          1.0                1.0   \n...               ...              ...          ...                ...   \n13036             1.0              0.0          1.0                1.0   \n13037             1.0              1.0          0.0                1.0   \n13038             0.0              0.0          0.0                1.0   \n13039             0.0              1.0          1.0                1.0   \n13040             0.0              1.0          1.0                1.0   \n\n       referral_relatives  relatives_diff  \n0                     0.0             0.0  \n1                     1.0             0.0  \n2                     1.0             0.0  \n3                     1.0             0.0  \n4                     1.0             0.0  \n...                   ...             ...  \n13036                 1.0             0.0  \n13037                 0.0             1.0  \n13038                 1.0             0.0  \n13039                 0.0             1.0  \n13040                 0.0             1.0  \n\n[13041 rows x 12 columns]",
      "text/html": "<div>\n<style scoped>\n    .dataframe tbody tr th:only-of-type {\n        vertical-align: middle;\n    }\n\n    .dataframe tbody tr th {\n        vertical-align: top;\n    }\n\n    .dataframe thead th {\n        text-align: right;\n    }\n</style>\n<table border=\"1\" class=\"dataframe\">\n  <thead>\n    <tr style=\"text-align: right;\">\n      <th></th>\n      <th>referee</th>\n      <th>referral</th>\n      <th>contact</th>\n      <th>referee_age</th>\n      <th>referral_age</th>\n      <th>age_diff</th>\n      <th>referee_gender</th>\n      <th>referral_gender</th>\n      <th>gender_diff</th>\n      <th>referee_relatives</th>\n      <th>referral_relatives</th>\n      <th>relatives_diff</th>\n    </tr>\n  </thead>\n  <tbody>\n    <tr>\n      <th>0</th>\n      <td>5.0</td>\n      <td>3.0</td>\n      <td>1.0</td>\n      <td>0.339552</td>\n      <td>0.355452</td>\n      <td>-1.397497</td>\n      <td>0.0</td>\n      <td>1.0</td>\n      <td>1.0</td>\n      <td>0.0</td>\n      <td>0.0</td>\n      <td>0.0</td>\n    </tr>\n    <tr>\n      <th>1</th>\n      <td>15.0</td>\n      <td>7.0</td>\n      <td>1.0</td>\n      <td>0.375219</td>\n      <td>0.318290</td>\n      <td>-1.327254</td>\n      <td>0.0</td>\n      <td>1.0</td>\n      <td>1.0</td>\n      <td>1.0</td>\n      <td>1.0</td>\n      <td>0.0</td>\n    </tr>\n    <tr>\n      <th>2</th>\n      <td>14.0</td>\n      <td>13.0</td>\n      <td>1.0</td>\n      <td>0.205842</td>\n      <td>0.478156</td>\n      <td>-1.150086</td>\n      <td>0.0</td>\n      <td>1.0</td>\n      <td>1.0</td>\n      <td>1.0</td>\n      <td>1.0</td>\n      <td>0.0</td>\n    </tr>\n    <tr>\n      <th>3</th>\n      <td>36.0</td>\n      <td>35.0</td>\n      <td>1.0</td>\n      <td>0.935850</td>\n      <td>-1.436547</td>\n      <td>0.898807</td>\n      <td>0.0</td>\n      <td>1.0</td>\n      <td>1.0</td>\n      <td>1.0</td>\n      <td>1.0</td>\n      <td>0.0</td>\n    </tr>\n    <tr>\n      <th>4</th>\n      <td>43.0</td>\n      <td>42.0</td>\n      <td>1.0</td>\n      <td>0.367497</td>\n      <td>0.326514</td>\n      <td>-1.342633</td>\n      <td>0.0</td>\n      <td>1.0</td>\n      <td>1.0</td>\n      <td>1.0</td>\n      <td>1.0</td>\n      <td>0.0</td>\n    </tr>\n    <tr>\n      <th>...</th>\n      <td>...</td>\n      <td>...</td>\n      <td>...</td>\n      <td>...</td>\n      <td>...</td>\n      <td>...</td>\n      <td>...</td>\n      <td>...</td>\n      <td>...</td>\n      <td>...</td>\n      <td>...</td>\n      <td>...</td>\n    </tr>\n    <tr>\n      <th>13036</th>\n      <td>158.0</td>\n      <td>159.0</td>\n      <td>0.0</td>\n      <td>0.926073</td>\n      <td>-1.599742</td>\n      <td>1.045712</td>\n      <td>1.0</td>\n      <td>0.0</td>\n      <td>1.0</td>\n      <td>1.0</td>\n      <td>1.0</td>\n      <td>0.0</td>\n    </tr>\n    <tr>\n      <th>13037</th>\n      <td>158.0</td>\n      <td>162.0</td>\n      <td>0.0</td>\n      <td>-0.010768</td>\n      <td>0.633392</td>\n      <td>-0.791008</td>\n      <td>1.0</td>\n      <td>1.0</td>\n      <td>0.0</td>\n      <td>1.0</td>\n      <td>0.0</td>\n      <td>1.0</td>\n    </tr>\n    <tr>\n      <th>13038</th>\n      <td>160.0</td>\n      <td>159.0</td>\n      <td>0.0</td>\n      <td>0.182428</td>\n      <td>0.497286</td>\n      <td>-1.109020</td>\n      <td>0.0</td>\n      <td>0.0</td>\n      <td>0.0</td>\n      <td>1.0</td>\n      <td>1.0</td>\n      <td>0.0</td>\n    </tr>\n    <tr>\n      <th>13039</th>\n      <td>160.0</td>\n      <td>162.0</td>\n      <td>0.0</td>\n      <td>-2.025503</td>\n      <td>0.889053</td>\n      <td>1.410104</td>\n      <td>0.0</td>\n      <td>1.0</td>\n      <td>1.0</td>\n      <td>1.0</td>\n      <td>0.0</td>\n      <td>1.0</td>\n    </tr>\n    <tr>\n      <th>13040</th>\n      <td>159.0</td>\n      <td>162.0</td>\n      <td>0.0</td>\n      <td>-1.896677</td>\n      <td>0.911887</td>\n      <td>1.306911</td>\n      <td>0.0</td>\n      <td>1.0</td>\n      <td>1.0</td>\n      <td>1.0</td>\n      <td>0.0</td>\n      <td>1.0</td>\n    </tr>\n  </tbody>\n</table>\n<p>13041 rows × 12 columns</p>\n</div>"
     },
     "execution_count": 11,
     "metadata": {},
     "output_type": "execute_result"
    }
   ],
   "source": [
    "hainan_data[['referee_age', 'referral_age', 'age_diff']] = normalize(hainan_data[['referee_age', 'referral_age', 'age_diff']])\n",
    "hainan_data[['referee_age', 'referral_age', 'age_diff']] = scale(hainan_data[['referee_age', 'referral_age', 'age_diff']])\n",
    "hainan_data"
   ],
   "metadata": {
    "collapsed": false,
    "pycharm": {
     "name": "#%%\n"
    }
   }
  },
  {
   "cell_type": "code",
   "execution_count": 12,
   "outputs": [
    {
     "data": {
      "text/plain": "array([-0.00488427, -0.01012421,  0.00804319,  0.0058602 ,  0.00772179,\n        0.007496  ,  0.0871856 ,  0.08413633, -0.07812765])"
     },
     "execution_count": 12,
     "metadata": {},
     "output_type": "execute_result"
    }
   ],
   "source": [
    "r_regression(hainan_data[hainan_data.columns[3:]], hainan_data['contact'])"
   ],
   "metadata": {
    "collapsed": false,
    "pycharm": {
     "name": "#%%\n"
    }
   }
  },
  {
   "cell_type": "code",
   "execution_count": 13,
   "outputs": [
    {
     "data": {
      "text/plain": "(array([ 0.31106709,  1.33662901,  0.84358488,  0.44780005,  0.77751038,\n         0.73270189, 99.8728961 , 92.96012754, 80.07793457]),\n array([5.77035687e-01, 2.47650508e-01, 3.58390491e-01, 5.03393377e-01,\n        3.77919892e-01, 3.92024531e-01, 1.97302275e-23, 6.31474686e-22,\n        4.08053745e-19]))"
     },
     "execution_count": 13,
     "metadata": {},
     "output_type": "execute_result"
    }
   ],
   "source": [
    "f_regression(hainan_data[hainan_data.columns[3:]], hainan_data['contact'])"
   ],
   "metadata": {
    "collapsed": false,
    "pycharm": {
     "name": "#%%\n"
    }
   }
  },
  {
   "cell_type": "markdown",
   "source": [
    "# Shanxi"
   ],
   "metadata": {
    "collapsed": false,
    "pycharm": {
     "name": "#%% md\n"
    }
   }
  },
  {
   "cell_type": "code",
   "execution_count": 67,
   "outputs": [],
   "source": [
    "shanxi_edgelist = pd.read_csv('../Data/Preprocessed/shanxi_edgelist.csv')\n",
    "shanxi_nodelist = pd.read_csv('../Data/Preprocessed/shanxi_nodelist.csv')"
   ],
   "metadata": {
    "collapsed": false,
    "pycharm": {
     "name": "#%%\n"
    }
   }
  },
  {
   "cell_type": "code",
   "execution_count": 68,
   "outputs": [
    {
     "data": {
      "text/plain": "(array([1, 0], dtype=int64),\n array([0, 1], dtype=int64),\n array(['xianyang', 'xian', 'ankang', 'yanan', 'wuhan', 'dazhi',\n        'hanzhong', 'tongchuan', 'weinan', 'baoji', 'henan', 'shangluo',\n        'xiaogan', 'hancheng', 'yulin', 'lantian', 'shanghai', 'lingbao',\n        'tianmen', 'nanjing', 'yichang', 'suizhou', 'pingdingshan',\n        'yingcheng', 'yanglin'], dtype=object))"
     },
     "execution_count": 68,
     "metadata": {},
     "output_type": "execute_result"
    }
   ],
   "source": [
    "shanxi_nodelist['gender'].unique(), shanxi_nodelist['relatives'].unique(), shanxi_nodelist['hukou'].unique()"
   ],
   "metadata": {
    "collapsed": false,
    "pycharm": {
     "name": "#%%\n"
    }
   }
  },
  {
   "cell_type": "code",
   "execution_count": 69,
   "outputs": [
    {
     "data": {
      "text/plain": "     Unnamed: 0  node_id  age  gender     hukou  relatives  hukou_ints\n0             0        1   42       1  xianyang          0           0\n1             1        2   32       0      xian          0           1\n2             2        3   22       1      xian          0           1\n3             3        4   49       1    ankang          0           2\n4             4        5   23       1     yanan          0           3\n..          ...      ...  ...     ...       ...        ...         ...\n232         232      233   67       0    weinan          0           8\n233         233      234   46       1  hanzhong          0           6\n234         234      235   71       1  hanzhong          1           6\n235         235      236   66       0  hanzhong          1           6\n236         236      237   65       0  hanzhong          1           6\n\n[237 rows x 7 columns]",
      "text/html": "<div>\n<style scoped>\n    .dataframe tbody tr th:only-of-type {\n        vertical-align: middle;\n    }\n\n    .dataframe tbody tr th {\n        vertical-align: top;\n    }\n\n    .dataframe thead th {\n        text-align: right;\n    }\n</style>\n<table border=\"1\" class=\"dataframe\">\n  <thead>\n    <tr style=\"text-align: right;\">\n      <th></th>\n      <th>Unnamed: 0</th>\n      <th>node_id</th>\n      <th>age</th>\n      <th>gender</th>\n      <th>hukou</th>\n      <th>relatives</th>\n      <th>hukou_ints</th>\n    </tr>\n  </thead>\n  <tbody>\n    <tr>\n      <th>0</th>\n      <td>0</td>\n      <td>1</td>\n      <td>42</td>\n      <td>1</td>\n      <td>xianyang</td>\n      <td>0</td>\n      <td>0</td>\n    </tr>\n    <tr>\n      <th>1</th>\n      <td>1</td>\n      <td>2</td>\n      <td>32</td>\n      <td>0</td>\n      <td>xian</td>\n      <td>0</td>\n      <td>1</td>\n    </tr>\n    <tr>\n      <th>2</th>\n      <td>2</td>\n      <td>3</td>\n      <td>22</td>\n      <td>1</td>\n      <td>xian</td>\n      <td>0</td>\n      <td>1</td>\n    </tr>\n    <tr>\n      <th>3</th>\n      <td>3</td>\n      <td>4</td>\n      <td>49</td>\n      <td>1</td>\n      <td>ankang</td>\n      <td>0</td>\n      <td>2</td>\n    </tr>\n    <tr>\n      <th>4</th>\n      <td>4</td>\n      <td>5</td>\n      <td>23</td>\n      <td>1</td>\n      <td>yanan</td>\n      <td>0</td>\n      <td>3</td>\n    </tr>\n    <tr>\n      <th>...</th>\n      <td>...</td>\n      <td>...</td>\n      <td>...</td>\n      <td>...</td>\n      <td>...</td>\n      <td>...</td>\n      <td>...</td>\n    </tr>\n    <tr>\n      <th>232</th>\n      <td>232</td>\n      <td>233</td>\n      <td>67</td>\n      <td>0</td>\n      <td>weinan</td>\n      <td>0</td>\n      <td>8</td>\n    </tr>\n    <tr>\n      <th>233</th>\n      <td>233</td>\n      <td>234</td>\n      <td>46</td>\n      <td>1</td>\n      <td>hanzhong</td>\n      <td>0</td>\n      <td>6</td>\n    </tr>\n    <tr>\n      <th>234</th>\n      <td>234</td>\n      <td>235</td>\n      <td>71</td>\n      <td>1</td>\n      <td>hanzhong</td>\n      <td>1</td>\n      <td>6</td>\n    </tr>\n    <tr>\n      <th>235</th>\n      <td>235</td>\n      <td>236</td>\n      <td>66</td>\n      <td>0</td>\n      <td>hanzhong</td>\n      <td>1</td>\n      <td>6</td>\n    </tr>\n    <tr>\n      <th>236</th>\n      <td>236</td>\n      <td>237</td>\n      <td>65</td>\n      <td>0</td>\n      <td>hanzhong</td>\n      <td>1</td>\n      <td>6</td>\n    </tr>\n  </tbody>\n</table>\n<p>237 rows × 7 columns</p>\n</div>"
     },
     "execution_count": 69,
     "metadata": {},
     "output_type": "execute_result"
    }
   ],
   "source": [
    "shanxi_nodelist['hukou_ints'] = pd.factorize(shanxi_nodelist['hukou'])[0]\n",
    "shanxi_nodelist"
   ],
   "metadata": {
    "collapsed": false,
    "pycharm": {
     "name": "#%%\n"
    }
   }
  },
  {
   "cell_type": "code",
   "execution_count": 70,
   "outputs": [],
   "source": [
    "shanxi_dummies = pd.get_dummies(shanxi_nodelist)"
   ],
   "metadata": {
    "collapsed": false,
    "pycharm": {
     "name": "#%%\n"
    }
   }
  },
  {
   "cell_type": "code",
   "execution_count": 71,
   "outputs": [
    {
     "data": {
      "text/plain": "Index(['Unnamed: 0', 'node_id', 'age', 'gender', 'relatives', 'hukou_ints',\n       'hukou_ankang', 'hukou_baoji', 'hukou_dazhi', 'hukou_hancheng',\n       'hukou_hanzhong', 'hukou_henan', 'hukou_lantian', 'hukou_lingbao',\n       'hukou_nanjing', 'hukou_pingdingshan', 'hukou_shanghai',\n       'hukou_shangluo', 'hukou_suizhou', 'hukou_tianmen', 'hukou_tongchuan',\n       'hukou_weinan', 'hukou_wuhan', 'hukou_xian', 'hukou_xianyang',\n       'hukou_xiaogan', 'hukou_yanan', 'hukou_yanglin', 'hukou_yichang',\n       'hukou_yingcheng', 'hukou_yulin'],\n      dtype='object')"
     },
     "execution_count": 71,
     "metadata": {},
     "output_type": "execute_result"
    }
   ],
   "source": [
    "shanxi_dummies.columns"
   ],
   "metadata": {
    "collapsed": false,
    "pycharm": {
     "name": "#%%\n"
    }
   }
  },
  {
   "cell_type": "markdown",
   "source": [
    "Don't need to fill nans"
   ],
   "metadata": {
    "collapsed": false,
    "pycharm": {
     "name": "#%% md\n"
    }
   }
  },
  {
   "cell_type": "code",
   "execution_count": 100,
   "outputs": [],
   "source": [
    "shanxi_data = pd.DataFrame(columns=['referee', 'referral', 'contact', 'referee_age', 'referral_age', 'age_diff', 'referee_gender', 'referral_gender', 'gender_diff', 'referee_relatives', 'referral_relatives', 'relatives_diff',\n",
    "                                    'hukou_diff'])\n",
    "referees_hukou = pd.DataFrame(columns=['hukou_ankang', 'hukou_baoji', 'hukou_dazhi', 'hukou_hancheng',\n",
    "                                       'hukou_hanzhong', 'hukou_henan', 'hukou_lantian', 'hukou_lingbao',\n",
    "                                       'hukou_nanjing', 'hukou_pingdingshan', 'hukou_shanghai',\n",
    "                                       'hukou_shangluo', 'hukou_suizhou', 'hukou_tianmen', 'hukou_tongchuan',\n",
    "                                       'hukou_weinan', 'hukou_wuhan', 'hukou_xian', 'hukou_xianyang',\n",
    "                                       'hukou_xiaogan', 'hukou_yanan', 'hukou_yanglin', 'hukou_yichang',\n",
    "                                       'hukou_yingcheng', 'hukou_yulin'])\n",
    "referrals_hukou = referees_hukou.copy()"
   ],
   "metadata": {
    "collapsed": false,
    "pycharm": {
     "name": "#%%\n"
    }
   }
  },
  {
   "cell_type": "code",
   "execution_count": 101,
   "outputs": [],
   "source": [
    "added_combinations = set()\n",
    "for index, row in shanxi_edgelist[~shanxi_edgelist['Referral'].isna()].iterrows():\n",
    "    referee = shanxi_nodelist.loc[shanxi_nodelist['node_id'] == row['Referee']]\n",
    "    referral = shanxi_nodelist.loc[shanxi_nodelist['node_id'] == row['Referral']]\n",
    "    new_row = pd.Series({'referee': row['Referee'], 'referral': row['Referral'], 'contact': 1, 'referee_age': referee['age'].iloc[0], 'referral_age': referral['age'].iloc[0], 'age_diff': abs(referee['age'].iloc[0] - referral['age'].iloc[0]),\n",
    "                         'referee_gender': referee['gender'].iloc[0], 'referral_gender': referral['gender'].iloc[0], 'gender_diff': abs(referee['gender'].iloc[0] - referral['gender'].iloc[0]),\n",
    "                         'referee_relatives': referee['relatives'].iloc[0], 'referral_relatives': referral['relatives'].iloc[0], 'relatives_diff': abs(referee['relatives'].iloc[0] - referral['relatives'].iloc[0]),\n",
    "                         'hukou_diff': abs(referee['hukou_ints'].iloc[0] - referral['hukou_ints'].iloc[0])})\n",
    "\n",
    "    referee_dummies = shanxi_dummies.loc[shanxi_dummies['node_id'] == row['Referee']][shanxi_dummies.columns[6:]]\n",
    "    referral_dummies = shanxi_dummies.loc[shanxi_dummies['node_id'] == row['Referral']][shanxi_dummies.columns[6:]]\n",
    "\n",
    "    shanxi_data = pd.concat([shanxi_data, new_row.to_frame().T], axis='index', ignore_index=True)\n",
    "    shanxi_data['hukou_diff'] = shanxi_data['hukou_diff'].where(shanxi_data['hukou_diff'] == 0, 1)\n",
    "\n",
    "    referees_hukou = pd.concat([referees_hukou, referee_dummies], axis='index', ignore_index=True)\n",
    "    referrals_hukou = pd.concat([referrals_hukou, referral_dummies], axis='index', ignore_index=True)\n",
    "\n",
    "    added_combinations.add((referee['node_id'].iloc[0], referral['node_id'].iloc[0]))\n",
    "    added_combinations.add((referral['node_id'].iloc[0], referee['node_id'].iloc[0]))"
   ],
   "metadata": {
    "collapsed": false,
    "pycharm": {
     "name": "#%%\n"
    }
   }
  },
  {
   "cell_type": "code",
   "execution_count": 102,
   "outputs": [
    {
     "data": {
      "text/plain": "     referee  referral  contact  referee_age  referral_age  age_diff  \\\n0       11.0      10.0      1.0          9.0          45.0      36.0   \n1       11.0       9.0      1.0          9.0          46.0      37.0   \n2       10.0       9.0      1.0         45.0          46.0       1.0   \n3       22.0       2.0      1.0         33.0          32.0       1.0   \n4       20.0      19.0      1.0         52.0          70.0      18.0   \n..       ...       ...      ...          ...           ...       ...   \n120    235.0     234.0      1.0         71.0          46.0      25.0   \n121    236.0     234.0      1.0         66.0          46.0      20.0   \n122    236.0     235.0      1.0         66.0          71.0       5.0   \n123    237.0     234.0      1.0         65.0          46.0      19.0   \n124    237.0     236.0      1.0         65.0          66.0       1.0   \n\n     referee_gender  referral_gender  gender_diff  referee_relatives  \\\n0               0.0              0.0          0.0                1.0   \n1               0.0              1.0          1.0                1.0   \n2               0.0              1.0          1.0                1.0   \n3               1.0              0.0          1.0                0.0   \n4               0.0              0.0          0.0                0.0   \n..              ...              ...          ...                ...   \n120             1.0              1.0          0.0                1.0   \n121             0.0              1.0          1.0                1.0   \n122             0.0              1.0          1.0                1.0   \n123             0.0              1.0          1.0                1.0   \n124             0.0              0.0          0.0                1.0   \n\n     referral_relatives  relatives_diff  hukou_diff  \n0                   1.0             0.0         0.0  \n1                   1.0             0.0         0.0  \n2                   1.0             0.0         0.0  \n3                   0.0             0.0         0.0  \n4                   1.0             1.0         1.0  \n..                  ...             ...         ...  \n120                 0.0             1.0         0.0  \n121                 0.0             1.0         0.0  \n122                 1.0             0.0         0.0  \n123                 0.0             1.0         0.0  \n124                 1.0             0.0         0.0  \n\n[125 rows x 13 columns]",
      "text/html": "<div>\n<style scoped>\n    .dataframe tbody tr th:only-of-type {\n        vertical-align: middle;\n    }\n\n    .dataframe tbody tr th {\n        vertical-align: top;\n    }\n\n    .dataframe thead th {\n        text-align: right;\n    }\n</style>\n<table border=\"1\" class=\"dataframe\">\n  <thead>\n    <tr style=\"text-align: right;\">\n      <th></th>\n      <th>referee</th>\n      <th>referral</th>\n      <th>contact</th>\n      <th>referee_age</th>\n      <th>referral_age</th>\n      <th>age_diff</th>\n      <th>referee_gender</th>\n      <th>referral_gender</th>\n      <th>gender_diff</th>\n      <th>referee_relatives</th>\n      <th>referral_relatives</th>\n      <th>relatives_diff</th>\n      <th>hukou_diff</th>\n    </tr>\n  </thead>\n  <tbody>\n    <tr>\n      <th>0</th>\n      <td>11.0</td>\n      <td>10.0</td>\n      <td>1.0</td>\n      <td>9.0</td>\n      <td>45.0</td>\n      <td>36.0</td>\n      <td>0.0</td>\n      <td>0.0</td>\n      <td>0.0</td>\n      <td>1.0</td>\n      <td>1.0</td>\n      <td>0.0</td>\n      <td>0.0</td>\n    </tr>\n    <tr>\n      <th>1</th>\n      <td>11.0</td>\n      <td>9.0</td>\n      <td>1.0</td>\n      <td>9.0</td>\n      <td>46.0</td>\n      <td>37.0</td>\n      <td>0.0</td>\n      <td>1.0</td>\n      <td>1.0</td>\n      <td>1.0</td>\n      <td>1.0</td>\n      <td>0.0</td>\n      <td>0.0</td>\n    </tr>\n    <tr>\n      <th>2</th>\n      <td>10.0</td>\n      <td>9.0</td>\n      <td>1.0</td>\n      <td>45.0</td>\n      <td>46.0</td>\n      <td>1.0</td>\n      <td>0.0</td>\n      <td>1.0</td>\n      <td>1.0</td>\n      <td>1.0</td>\n      <td>1.0</td>\n      <td>0.0</td>\n      <td>0.0</td>\n    </tr>\n    <tr>\n      <th>3</th>\n      <td>22.0</td>\n      <td>2.0</td>\n      <td>1.0</td>\n      <td>33.0</td>\n      <td>32.0</td>\n      <td>1.0</td>\n      <td>1.0</td>\n      <td>0.0</td>\n      <td>1.0</td>\n      <td>0.0</td>\n      <td>0.0</td>\n      <td>0.0</td>\n      <td>0.0</td>\n    </tr>\n    <tr>\n      <th>4</th>\n      <td>20.0</td>\n      <td>19.0</td>\n      <td>1.0</td>\n      <td>52.0</td>\n      <td>70.0</td>\n      <td>18.0</td>\n      <td>0.0</td>\n      <td>0.0</td>\n      <td>0.0</td>\n      <td>0.0</td>\n      <td>1.0</td>\n      <td>1.0</td>\n      <td>1.0</td>\n    </tr>\n    <tr>\n      <th>...</th>\n      <td>...</td>\n      <td>...</td>\n      <td>...</td>\n      <td>...</td>\n      <td>...</td>\n      <td>...</td>\n      <td>...</td>\n      <td>...</td>\n      <td>...</td>\n      <td>...</td>\n      <td>...</td>\n      <td>...</td>\n      <td>...</td>\n    </tr>\n    <tr>\n      <th>120</th>\n      <td>235.0</td>\n      <td>234.0</td>\n      <td>1.0</td>\n      <td>71.0</td>\n      <td>46.0</td>\n      <td>25.0</td>\n      <td>1.0</td>\n      <td>1.0</td>\n      <td>0.0</td>\n      <td>1.0</td>\n      <td>0.0</td>\n      <td>1.0</td>\n      <td>0.0</td>\n    </tr>\n    <tr>\n      <th>121</th>\n      <td>236.0</td>\n      <td>234.0</td>\n      <td>1.0</td>\n      <td>66.0</td>\n      <td>46.0</td>\n      <td>20.0</td>\n      <td>0.0</td>\n      <td>1.0</td>\n      <td>1.0</td>\n      <td>1.0</td>\n      <td>0.0</td>\n      <td>1.0</td>\n      <td>0.0</td>\n    </tr>\n    <tr>\n      <th>122</th>\n      <td>236.0</td>\n      <td>235.0</td>\n      <td>1.0</td>\n      <td>66.0</td>\n      <td>71.0</td>\n      <td>5.0</td>\n      <td>0.0</td>\n      <td>1.0</td>\n      <td>1.0</td>\n      <td>1.0</td>\n      <td>1.0</td>\n      <td>0.0</td>\n      <td>0.0</td>\n    </tr>\n    <tr>\n      <th>123</th>\n      <td>237.0</td>\n      <td>234.0</td>\n      <td>1.0</td>\n      <td>65.0</td>\n      <td>46.0</td>\n      <td>19.0</td>\n      <td>0.0</td>\n      <td>1.0</td>\n      <td>1.0</td>\n      <td>1.0</td>\n      <td>0.0</td>\n      <td>1.0</td>\n      <td>0.0</td>\n    </tr>\n    <tr>\n      <th>124</th>\n      <td>237.0</td>\n      <td>236.0</td>\n      <td>1.0</td>\n      <td>65.0</td>\n      <td>66.0</td>\n      <td>1.0</td>\n      <td>0.0</td>\n      <td>0.0</td>\n      <td>0.0</td>\n      <td>1.0</td>\n      <td>1.0</td>\n      <td>0.0</td>\n      <td>0.0</td>\n    </tr>\n  </tbody>\n</table>\n<p>125 rows × 13 columns</p>\n</div>"
     },
     "execution_count": 102,
     "metadata": {},
     "output_type": "execute_result"
    }
   ],
   "source": [
    "shanxi_data"
   ],
   "metadata": {
    "collapsed": false,
    "pycharm": {
     "name": "#%%\n"
    }
   }
  },
  {
   "cell_type": "code",
   "execution_count": 103,
   "outputs": [],
   "source": [
    "for ref_a in shanxi_nodelist['node_id']:\n",
    "    for ref_b in shanxi_nodelist['node_id']:\n",
    "        if ref_a == ref_b:\n",
    "            continue\n",
    "        if (ref_a, ref_b) in added_combinations:\n",
    "            continue\n",
    "        if (ref_b, ref_a) in added_combinations:\n",
    "            continue\n",
    "\n",
    "        referee = shanxi_nodelist.loc[shanxi_nodelist['node_id'] == ref_a]\n",
    "        referral = shanxi_nodelist.loc[shanxi_nodelist['node_id'] == ref_b]\n",
    "\n",
    "        new_row = pd.Series({'referee': ref_a, 'referral': ref_b, 'contact': 0, 'referee_age': referee['age'].iloc[0], 'referral_age': referral['age'].iloc[0], 'age_diff': abs(referee['age'].iloc[0] - referral['age'].iloc[0]),\n",
    "                             'referee_gender': referee['gender'].iloc[0], 'referral_gender': referral['gender'].iloc[0], 'gender_diff': abs(referee['gender'].iloc[0] - referral['gender'].iloc[0]),\n",
    "                             'referee_relatives': referee['relatives'].iloc[0], 'referral_relatives': referral['relatives'].iloc[0], 'relatives_diff': abs(referee['relatives'].iloc[0] - referral['relatives'].iloc[0]),\n",
    "                             'hukou_diff': abs(referee['hukou_ints'].iloc[0] - referral['hukou_ints'].iloc[0])})\n",
    "        referee_dummies = shanxi_dummies.loc[shanxi_dummies['node_id'] == ref_a][shanxi_dummies.columns[6:]]\n",
    "        referral_dummies = shanxi_dummies.loc[shanxi_dummies['node_id'] == ref_b][shanxi_dummies.columns[6:]]\n",
    "\n",
    "        shanxi_data = pd.concat([shanxi_data, new_row.to_frame().T], axis='index', ignore_index=True)\n",
    "        shanxi_data['hukou_diff'] = shanxi_data['hukou_diff'].where(shanxi_data['hukou_diff'] == 0, 1)\n",
    "\n",
    "        referees_hukou = pd.concat([referees_hukou, referee_dummies], axis='index', ignore_index=True)\n",
    "        referrals_hukou = pd.concat([referrals_hukou, referral_dummies], axis='index', ignore_index=True)\n",
    "\n",
    "        added_combinations.add((ref_a, ref_b))\n",
    "        added_combinations.add((ref_b, ref_a))"
   ],
   "metadata": {
    "collapsed": false,
    "pycharm": {
     "name": "#%%\n"
    }
   }
  },
  {
   "cell_type": "code",
   "execution_count": 104,
   "outputs": [],
   "source": [
    "shanxi_data = shanxi_data.join(referees_hukou)\n",
    "shanxi_data = shanxi_data.join(referrals_hukou, lsuffix='_referee', rsuffix='_referral')"
   ],
   "metadata": {
    "collapsed": false,
    "pycharm": {
     "name": "#%%\n"
    }
   }
  },
  {
   "cell_type": "code",
   "execution_count": 105,
   "outputs": [
    {
     "data": {
      "text/plain": "       referee  referral  contact  referee_age  referral_age  age_diff  \\\n0         11.0      10.0      1.0          9.0          45.0      36.0   \n1         11.0       9.0      1.0          9.0          46.0      37.0   \n2         10.0       9.0      1.0         45.0          46.0       1.0   \n3         22.0       2.0      1.0         33.0          32.0       1.0   \n4         20.0      19.0      1.0         52.0          70.0      18.0   \n...        ...       ...      ...          ...           ...       ...   \n27967    232.0     237.0      0.0         46.0          65.0      19.0   \n27968    233.0     234.0      0.0         67.0          46.0      21.0   \n27969    233.0     235.0      0.0         67.0          71.0       4.0   \n27970    233.0     236.0      0.0         67.0          66.0       1.0   \n27971    233.0     237.0      0.0         67.0          65.0       2.0   \n\n       referee_gender  referral_gender  gender_diff  referee_relatives  ...  \\\n0                 0.0              0.0          0.0                1.0  ...   \n1                 0.0              1.0          1.0                1.0  ...   \n2                 0.0              1.0          1.0                1.0  ...   \n3                 1.0              0.0          1.0                0.0  ...   \n4                 0.0              0.0          0.0                0.0  ...   \n...               ...              ...          ...                ...  ...   \n27967             0.0              0.0          0.0                0.0  ...   \n27968             0.0              1.0          1.0                0.0  ...   \n27969             0.0              1.0          1.0                0.0  ...   \n27970             0.0              0.0          0.0                0.0  ...   \n27971             0.0              0.0          0.0                0.0  ...   \n\n       hukou_weinan_referral  hukou_wuhan_referral  hukou_xian_referral  \\\n0                          0                     1                    0   \n1                          0                     1                    0   \n2                          0                     1                    0   \n3                          0                     0                    1   \n4                          0                     1                    0   \n...                      ...                   ...                  ...   \n27967                      0                     0                    0   \n27968                      0                     0                    0   \n27969                      0                     0                    0   \n27970                      0                     0                    0   \n27971                      0                     0                    0   \n\n      hukou_xianyang_referral hukou_xiaogan_referral hukou_yanan_referral  \\\n0                           0                      0                    0   \n1                           0                      0                    0   \n2                           0                      0                    0   \n3                           0                      0                    0   \n4                           0                      0                    0   \n...                       ...                    ...                  ...   \n27967                       0                      0                    0   \n27968                       0                      0                    0   \n27969                       0                      0                    0   \n27970                       0                      0                    0   \n27971                       0                      0                    0   \n\n      hukou_yanglin_referral hukou_yichang_referral hukou_yingcheng_referral  \\\n0                          0                      0                        0   \n1                          0                      0                        0   \n2                          0                      0                        0   \n3                          0                      0                        0   \n4                          0                      0                        0   \n...                      ...                    ...                      ...   \n27967                      0                      0                        0   \n27968                      0                      0                        0   \n27969                      0                      0                        0   \n27970                      0                      0                        0   \n27971                      0                      0                        0   \n\n      hukou_yulin_referral  \n0                        0  \n1                        0  \n2                        0  \n3                        0  \n4                        0  \n...                    ...  \n27967                    0  \n27968                    0  \n27969                    0  \n27970                    0  \n27971                    0  \n\n[27972 rows x 63 columns]",
      "text/html": "<div>\n<style scoped>\n    .dataframe tbody tr th:only-of-type {\n        vertical-align: middle;\n    }\n\n    .dataframe tbody tr th {\n        vertical-align: top;\n    }\n\n    .dataframe thead th {\n        text-align: right;\n    }\n</style>\n<table border=\"1\" class=\"dataframe\">\n  <thead>\n    <tr style=\"text-align: right;\">\n      <th></th>\n      <th>referee</th>\n      <th>referral</th>\n      <th>contact</th>\n      <th>referee_age</th>\n      <th>referral_age</th>\n      <th>age_diff</th>\n      <th>referee_gender</th>\n      <th>referral_gender</th>\n      <th>gender_diff</th>\n      <th>referee_relatives</th>\n      <th>...</th>\n      <th>hukou_weinan_referral</th>\n      <th>hukou_wuhan_referral</th>\n      <th>hukou_xian_referral</th>\n      <th>hukou_xianyang_referral</th>\n      <th>hukou_xiaogan_referral</th>\n      <th>hukou_yanan_referral</th>\n      <th>hukou_yanglin_referral</th>\n      <th>hukou_yichang_referral</th>\n      <th>hukou_yingcheng_referral</th>\n      <th>hukou_yulin_referral</th>\n    </tr>\n  </thead>\n  <tbody>\n    <tr>\n      <th>0</th>\n      <td>11.0</td>\n      <td>10.0</td>\n      <td>1.0</td>\n      <td>9.0</td>\n      <td>45.0</td>\n      <td>36.0</td>\n      <td>0.0</td>\n      <td>0.0</td>\n      <td>0.0</td>\n      <td>1.0</td>\n      <td>...</td>\n      <td>0</td>\n      <td>1</td>\n      <td>0</td>\n      <td>0</td>\n      <td>0</td>\n      <td>0</td>\n      <td>0</td>\n      <td>0</td>\n      <td>0</td>\n      <td>0</td>\n    </tr>\n    <tr>\n      <th>1</th>\n      <td>11.0</td>\n      <td>9.0</td>\n      <td>1.0</td>\n      <td>9.0</td>\n      <td>46.0</td>\n      <td>37.0</td>\n      <td>0.0</td>\n      <td>1.0</td>\n      <td>1.0</td>\n      <td>1.0</td>\n      <td>...</td>\n      <td>0</td>\n      <td>1</td>\n      <td>0</td>\n      <td>0</td>\n      <td>0</td>\n      <td>0</td>\n      <td>0</td>\n      <td>0</td>\n      <td>0</td>\n      <td>0</td>\n    </tr>\n    <tr>\n      <th>2</th>\n      <td>10.0</td>\n      <td>9.0</td>\n      <td>1.0</td>\n      <td>45.0</td>\n      <td>46.0</td>\n      <td>1.0</td>\n      <td>0.0</td>\n      <td>1.0</td>\n      <td>1.0</td>\n      <td>1.0</td>\n      <td>...</td>\n      <td>0</td>\n      <td>1</td>\n      <td>0</td>\n      <td>0</td>\n      <td>0</td>\n      <td>0</td>\n      <td>0</td>\n      <td>0</td>\n      <td>0</td>\n      <td>0</td>\n    </tr>\n    <tr>\n      <th>3</th>\n      <td>22.0</td>\n      <td>2.0</td>\n      <td>1.0</td>\n      <td>33.0</td>\n      <td>32.0</td>\n      <td>1.0</td>\n      <td>1.0</td>\n      <td>0.0</td>\n      <td>1.0</td>\n      <td>0.0</td>\n      <td>...</td>\n      <td>0</td>\n      <td>0</td>\n      <td>1</td>\n      <td>0</td>\n      <td>0</td>\n      <td>0</td>\n      <td>0</td>\n      <td>0</td>\n      <td>0</td>\n      <td>0</td>\n    </tr>\n    <tr>\n      <th>4</th>\n      <td>20.0</td>\n      <td>19.0</td>\n      <td>1.0</td>\n      <td>52.0</td>\n      <td>70.0</td>\n      <td>18.0</td>\n      <td>0.0</td>\n      <td>0.0</td>\n      <td>0.0</td>\n      <td>0.0</td>\n      <td>...</td>\n      <td>0</td>\n      <td>1</td>\n      <td>0</td>\n      <td>0</td>\n      <td>0</td>\n      <td>0</td>\n      <td>0</td>\n      <td>0</td>\n      <td>0</td>\n      <td>0</td>\n    </tr>\n    <tr>\n      <th>...</th>\n      <td>...</td>\n      <td>...</td>\n      <td>...</td>\n      <td>...</td>\n      <td>...</td>\n      <td>...</td>\n      <td>...</td>\n      <td>...</td>\n      <td>...</td>\n      <td>...</td>\n      <td>...</td>\n      <td>...</td>\n      <td>...</td>\n      <td>...</td>\n      <td>...</td>\n      <td>...</td>\n      <td>...</td>\n      <td>...</td>\n      <td>...</td>\n      <td>...</td>\n      <td>...</td>\n    </tr>\n    <tr>\n      <th>27967</th>\n      <td>232.0</td>\n      <td>237.0</td>\n      <td>0.0</td>\n      <td>46.0</td>\n      <td>65.0</td>\n      <td>19.0</td>\n      <td>0.0</td>\n      <td>0.0</td>\n      <td>0.0</td>\n      <td>0.0</td>\n      <td>...</td>\n      <td>0</td>\n      <td>0</td>\n      <td>0</td>\n      <td>0</td>\n      <td>0</td>\n      <td>0</td>\n      <td>0</td>\n      <td>0</td>\n      <td>0</td>\n      <td>0</td>\n    </tr>\n    <tr>\n      <th>27968</th>\n      <td>233.0</td>\n      <td>234.0</td>\n      <td>0.0</td>\n      <td>67.0</td>\n      <td>46.0</td>\n      <td>21.0</td>\n      <td>0.0</td>\n      <td>1.0</td>\n      <td>1.0</td>\n      <td>0.0</td>\n      <td>...</td>\n      <td>0</td>\n      <td>0</td>\n      <td>0</td>\n      <td>0</td>\n      <td>0</td>\n      <td>0</td>\n      <td>0</td>\n      <td>0</td>\n      <td>0</td>\n      <td>0</td>\n    </tr>\n    <tr>\n      <th>27969</th>\n      <td>233.0</td>\n      <td>235.0</td>\n      <td>0.0</td>\n      <td>67.0</td>\n      <td>71.0</td>\n      <td>4.0</td>\n      <td>0.0</td>\n      <td>1.0</td>\n      <td>1.0</td>\n      <td>0.0</td>\n      <td>...</td>\n      <td>0</td>\n      <td>0</td>\n      <td>0</td>\n      <td>0</td>\n      <td>0</td>\n      <td>0</td>\n      <td>0</td>\n      <td>0</td>\n      <td>0</td>\n      <td>0</td>\n    </tr>\n    <tr>\n      <th>27970</th>\n      <td>233.0</td>\n      <td>236.0</td>\n      <td>0.0</td>\n      <td>67.0</td>\n      <td>66.0</td>\n      <td>1.0</td>\n      <td>0.0</td>\n      <td>0.0</td>\n      <td>0.0</td>\n      <td>0.0</td>\n      <td>...</td>\n      <td>0</td>\n      <td>0</td>\n      <td>0</td>\n      <td>0</td>\n      <td>0</td>\n      <td>0</td>\n      <td>0</td>\n      <td>0</td>\n      <td>0</td>\n      <td>0</td>\n    </tr>\n    <tr>\n      <th>27971</th>\n      <td>233.0</td>\n      <td>237.0</td>\n      <td>0.0</td>\n      <td>67.0</td>\n      <td>65.0</td>\n      <td>2.0</td>\n      <td>0.0</td>\n      <td>0.0</td>\n      <td>0.0</td>\n      <td>0.0</td>\n      <td>...</td>\n      <td>0</td>\n      <td>0</td>\n      <td>0</td>\n      <td>0</td>\n      <td>0</td>\n      <td>0</td>\n      <td>0</td>\n      <td>0</td>\n      <td>0</td>\n      <td>0</td>\n    </tr>\n  </tbody>\n</table>\n<p>27972 rows × 63 columns</p>\n</div>"
     },
     "execution_count": 105,
     "metadata": {},
     "output_type": "execute_result"
    }
   ],
   "source": [
    "shanxi_data"
   ],
   "metadata": {
    "collapsed": false,
    "pycharm": {
     "name": "#%%\n"
    }
   }
  },
  {
   "cell_type": "code",
   "execution_count": 106,
   "outputs": [
    {
     "data": {
      "text/plain": "       referee  referral  contact  referee_age  referral_age  age_diff  \\\n0         11.0      10.0      1.0    -2.550020      0.526766  2.075856   \n1         11.0       9.0      1.0    -2.570205      0.518849  2.089778   \n2         10.0       9.0      1.0     0.513760      0.153427 -1.434770   \n3         22.0       2.0      1.0     0.617895      0.030009 -1.398528   \n4         20.0      19.0      1.0    -0.133950      0.623130 -0.345889   \n...        ...       ...      ...          ...           ...       ...   \n27967    232.0     237.0      0.0    -0.258300      0.674514 -0.171259   \n27968    233.0     234.0      0.0     1.070256     -0.943135 -0.065708   \n27969    233.0     235.0      0.0     0.438066      0.231947 -1.286554   \n27970    233.0     236.0      0.0     0.587715      0.067820 -1.463393   \n27971    233.0     237.0      0.0     0.617012      0.031141 -1.400449   \n\n       referee_gender  referral_gender  gender_diff  referee_relatives  ...  \\\n0                 0.0              0.0          0.0                1.0  ...   \n1                 0.0              1.0          1.0                1.0  ...   \n2                 0.0              1.0          1.0                1.0  ...   \n3                 1.0              0.0          1.0                0.0  ...   \n4                 0.0              0.0          0.0                0.0  ...   \n...               ...              ...          ...                ...  ...   \n27967             0.0              0.0          0.0                0.0  ...   \n27968             0.0              1.0          1.0                0.0  ...   \n27969             0.0              1.0          1.0                0.0  ...   \n27970             0.0              0.0          0.0                0.0  ...   \n27971             0.0              0.0          0.0                0.0  ...   \n\n       hukou_weinan_referral  hukou_wuhan_referral  hukou_xian_referral  \\\n0                          0                     1                    0   \n1                          0                     1                    0   \n2                          0                     1                    0   \n3                          0                     0                    1   \n4                          0                     1                    0   \n...                      ...                   ...                  ...   \n27967                      0                     0                    0   \n27968                      0                     0                    0   \n27969                      0                     0                    0   \n27970                      0                     0                    0   \n27971                      0                     0                    0   \n\n      hukou_xianyang_referral hukou_xiaogan_referral hukou_yanan_referral  \\\n0                           0                      0                    0   \n1                           0                      0                    0   \n2                           0                      0                    0   \n3                           0                      0                    0   \n4                           0                      0                    0   \n...                       ...                    ...                  ...   \n27967                       0                      0                    0   \n27968                       0                      0                    0   \n27969                       0                      0                    0   \n27970                       0                      0                    0   \n27971                       0                      0                    0   \n\n      hukou_yanglin_referral hukou_yichang_referral hukou_yingcheng_referral  \\\n0                          0                      0                        0   \n1                          0                      0                        0   \n2                          0                      0                        0   \n3                          0                      0                        0   \n4                          0                      0                        0   \n...                      ...                    ...                      ...   \n27967                      0                      0                        0   \n27968                      0                      0                        0   \n27969                      0                      0                        0   \n27970                      0                      0                        0   \n27971                      0                      0                        0   \n\n      hukou_yulin_referral  \n0                        0  \n1                        0  \n2                        0  \n3                        0  \n4                        0  \n...                    ...  \n27967                    0  \n27968                    0  \n27969                    0  \n27970                    0  \n27971                    0  \n\n[27972 rows x 63 columns]",
      "text/html": "<div>\n<style scoped>\n    .dataframe tbody tr th:only-of-type {\n        vertical-align: middle;\n    }\n\n    .dataframe tbody tr th {\n        vertical-align: top;\n    }\n\n    .dataframe thead th {\n        text-align: right;\n    }\n</style>\n<table border=\"1\" class=\"dataframe\">\n  <thead>\n    <tr style=\"text-align: right;\">\n      <th></th>\n      <th>referee</th>\n      <th>referral</th>\n      <th>contact</th>\n      <th>referee_age</th>\n      <th>referral_age</th>\n      <th>age_diff</th>\n      <th>referee_gender</th>\n      <th>referral_gender</th>\n      <th>gender_diff</th>\n      <th>referee_relatives</th>\n      <th>...</th>\n      <th>hukou_weinan_referral</th>\n      <th>hukou_wuhan_referral</th>\n      <th>hukou_xian_referral</th>\n      <th>hukou_xianyang_referral</th>\n      <th>hukou_xiaogan_referral</th>\n      <th>hukou_yanan_referral</th>\n      <th>hukou_yanglin_referral</th>\n      <th>hukou_yichang_referral</th>\n      <th>hukou_yingcheng_referral</th>\n      <th>hukou_yulin_referral</th>\n    </tr>\n  </thead>\n  <tbody>\n    <tr>\n      <th>0</th>\n      <td>11.0</td>\n      <td>10.0</td>\n      <td>1.0</td>\n      <td>-2.550020</td>\n      <td>0.526766</td>\n      <td>2.075856</td>\n      <td>0.0</td>\n      <td>0.0</td>\n      <td>0.0</td>\n      <td>1.0</td>\n      <td>...</td>\n      <td>0</td>\n      <td>1</td>\n      <td>0</td>\n      <td>0</td>\n      <td>0</td>\n      <td>0</td>\n      <td>0</td>\n      <td>0</td>\n      <td>0</td>\n      <td>0</td>\n    </tr>\n    <tr>\n      <th>1</th>\n      <td>11.0</td>\n      <td>9.0</td>\n      <td>1.0</td>\n      <td>-2.570205</td>\n      <td>0.518849</td>\n      <td>2.089778</td>\n      <td>0.0</td>\n      <td>1.0</td>\n      <td>1.0</td>\n      <td>1.0</td>\n      <td>...</td>\n      <td>0</td>\n      <td>1</td>\n      <td>0</td>\n      <td>0</td>\n      <td>0</td>\n      <td>0</td>\n      <td>0</td>\n      <td>0</td>\n      <td>0</td>\n      <td>0</td>\n    </tr>\n    <tr>\n      <th>2</th>\n      <td>10.0</td>\n      <td>9.0</td>\n      <td>1.0</td>\n      <td>0.513760</td>\n      <td>0.153427</td>\n      <td>-1.434770</td>\n      <td>0.0</td>\n      <td>1.0</td>\n      <td>1.0</td>\n      <td>1.0</td>\n      <td>...</td>\n      <td>0</td>\n      <td>1</td>\n      <td>0</td>\n      <td>0</td>\n      <td>0</td>\n      <td>0</td>\n      <td>0</td>\n      <td>0</td>\n      <td>0</td>\n      <td>0</td>\n    </tr>\n    <tr>\n      <th>3</th>\n      <td>22.0</td>\n      <td>2.0</td>\n      <td>1.0</td>\n      <td>0.617895</td>\n      <td>0.030009</td>\n      <td>-1.398528</td>\n      <td>1.0</td>\n      <td>0.0</td>\n      <td>1.0</td>\n      <td>0.0</td>\n      <td>...</td>\n      <td>0</td>\n      <td>0</td>\n      <td>1</td>\n      <td>0</td>\n      <td>0</td>\n      <td>0</td>\n      <td>0</td>\n      <td>0</td>\n      <td>0</td>\n      <td>0</td>\n    </tr>\n    <tr>\n      <th>4</th>\n      <td>20.0</td>\n      <td>19.0</td>\n      <td>1.0</td>\n      <td>-0.133950</td>\n      <td>0.623130</td>\n      <td>-0.345889</td>\n      <td>0.0</td>\n      <td>0.0</td>\n      <td>0.0</td>\n      <td>0.0</td>\n      <td>...</td>\n      <td>0</td>\n      <td>1</td>\n      <td>0</td>\n      <td>0</td>\n      <td>0</td>\n      <td>0</td>\n      <td>0</td>\n      <td>0</td>\n      <td>0</td>\n      <td>0</td>\n    </tr>\n    <tr>\n      <th>...</th>\n      <td>...</td>\n      <td>...</td>\n      <td>...</td>\n      <td>...</td>\n      <td>...</td>\n      <td>...</td>\n      <td>...</td>\n      <td>...</td>\n      <td>...</td>\n      <td>...</td>\n      <td>...</td>\n      <td>...</td>\n      <td>...</td>\n      <td>...</td>\n      <td>...</td>\n      <td>...</td>\n      <td>...</td>\n      <td>...</td>\n      <td>...</td>\n      <td>...</td>\n      <td>...</td>\n    </tr>\n    <tr>\n      <th>27967</th>\n      <td>232.0</td>\n      <td>237.0</td>\n      <td>0.0</td>\n      <td>-0.258300</td>\n      <td>0.674514</td>\n      <td>-0.171259</td>\n      <td>0.0</td>\n      <td>0.0</td>\n      <td>0.0</td>\n      <td>0.0</td>\n      <td>...</td>\n      <td>0</td>\n      <td>0</td>\n      <td>0</td>\n      <td>0</td>\n      <td>0</td>\n      <td>0</td>\n      <td>0</td>\n      <td>0</td>\n      <td>0</td>\n      <td>0</td>\n    </tr>\n    <tr>\n      <th>27968</th>\n      <td>233.0</td>\n      <td>234.0</td>\n      <td>0.0</td>\n      <td>1.070256</td>\n      <td>-0.943135</td>\n      <td>-0.065708</td>\n      <td>0.0</td>\n      <td>1.0</td>\n      <td>1.0</td>\n      <td>0.0</td>\n      <td>...</td>\n      <td>0</td>\n      <td>0</td>\n      <td>0</td>\n      <td>0</td>\n      <td>0</td>\n      <td>0</td>\n      <td>0</td>\n      <td>0</td>\n      <td>0</td>\n      <td>0</td>\n    </tr>\n    <tr>\n      <th>27969</th>\n      <td>233.0</td>\n      <td>235.0</td>\n      <td>0.0</td>\n      <td>0.438066</td>\n      <td>0.231947</td>\n      <td>-1.286554</td>\n      <td>0.0</td>\n      <td>1.0</td>\n      <td>1.0</td>\n      <td>0.0</td>\n      <td>...</td>\n      <td>0</td>\n      <td>0</td>\n      <td>0</td>\n      <td>0</td>\n      <td>0</td>\n      <td>0</td>\n      <td>0</td>\n      <td>0</td>\n      <td>0</td>\n      <td>0</td>\n    </tr>\n    <tr>\n      <th>27970</th>\n      <td>233.0</td>\n      <td>236.0</td>\n      <td>0.0</td>\n      <td>0.587715</td>\n      <td>0.067820</td>\n      <td>-1.463393</td>\n      <td>0.0</td>\n      <td>0.0</td>\n      <td>0.0</td>\n      <td>0.0</td>\n      <td>...</td>\n      <td>0</td>\n      <td>0</td>\n      <td>0</td>\n      <td>0</td>\n      <td>0</td>\n      <td>0</td>\n      <td>0</td>\n      <td>0</td>\n      <td>0</td>\n      <td>0</td>\n    </tr>\n    <tr>\n      <th>27971</th>\n      <td>233.0</td>\n      <td>237.0</td>\n      <td>0.0</td>\n      <td>0.617012</td>\n      <td>0.031141</td>\n      <td>-1.400449</td>\n      <td>0.0</td>\n      <td>0.0</td>\n      <td>0.0</td>\n      <td>0.0</td>\n      <td>...</td>\n      <td>0</td>\n      <td>0</td>\n      <td>0</td>\n      <td>0</td>\n      <td>0</td>\n      <td>0</td>\n      <td>0</td>\n      <td>0</td>\n      <td>0</td>\n      <td>0</td>\n    </tr>\n  </tbody>\n</table>\n<p>27972 rows × 63 columns</p>\n</div>"
     },
     "execution_count": 106,
     "metadata": {},
     "output_type": "execute_result"
    }
   ],
   "source": [
    "shanxi_data[['referee_age', 'referral_age', 'age_diff']] = normalize(shanxi_data[['referee_age', 'referral_age', 'age_diff']])\n",
    "shanxi_data[['referee_age', 'referral_age', 'age_diff']] = scale(shanxi_data[['referee_age', 'referral_age', 'age_diff']])\n",
    "shanxi_data"
   ],
   "metadata": {
    "collapsed": false,
    "pycharm": {
     "name": "#%%\n"
    }
   }
  },
  {
   "cell_type": "code",
   "execution_count": 108,
   "outputs": [
    {
     "data": {
      "text/plain": "array([ 0.01518204, -0.01658974, -0.01035794, -0.01539246,  0.00552877,\n        0.01150495,  0.05974816,  0.02571722, -0.00035044, -0.09406561,\n       -0.01563898, -0.00247156, -0.00599254, -0.0053919 ,  0.01984591,\n       -0.00567128, -0.00528536,  0.00872287, -0.00476882, -0.00439773,\n       -0.00522352,  0.00775906, -0.00083405,  0.00258529,  0.00653225,\n        0.01552357,  0.0050572 , -0.00205082, -0.01283002, -0.0053919 ,\n        0.00130601, -0.00411259, -0.00466575,  0.01263303, -0.00141748,\n       -0.00901522,  0.00086992, -0.00149926, -0.00300077,  0.02854928,\n       -0.00243833,  0.01943025, -0.00335581,  0.01451457, -0.0043235 ,\n        0.01864667,  0.00164337,  0.00024069,  0.00565797, -0.00386471,\n       -0.00488967,  0.05070957, -0.03270524, -0.00487585,  0.02098141,\n       -0.00316615, -0.00459578, -0.0040332 , -0.0044526 , -0.00394016])"
     },
     "execution_count": 108,
     "metadata": {},
     "output_type": "execute_result"
    }
   ],
   "source": [
    "r_regression(shanxi_data[shanxi_data.columns[3:]], shanxi_data['contact'])"
   ],
   "metadata": {
    "collapsed": false,
    "pycharm": {
     "name": "#%%\n"
    }
   }
  },
  {
   "cell_type": "code",
   "execution_count": 109,
   "outputs": [
    {
     "data": {
      "text/plain": "(array([6.44840887e+00, 7.70000462e+00, 3.00113997e+00, 6.62843994e+00,\n        8.54992530e-01, 3.70270591e+00, 1.00206212e+02, 1.85109144e+01,\n        3.43501594e-03, 2.49697442e+02, 6.84251119e+00, 1.70858304e-01,\n        1.00445306e+00, 8.13185067e-01, 1.10206131e+01, 8.99639085e-01,\n        7.81363511e-01, 2.12835701e+00, 6.36098311e-01, 5.40950247e-01,\n        7.63186992e-01, 1.68397859e+00, 1.94571934e-02, 1.86945294e-01,\n        1.19353722e+00, 6.74186572e+00, 7.15359676e-01, 1.17638405e-01,\n        4.60488020e+00, 8.13185067e-01, 4.77074253e-02, 4.73075538e-01,\n        6.08898435e-01, 4.46453955e+00, 5.61987561e-02, 2.27342367e+00,\n        2.11668080e-02, 6.28705089e-02, 2.51862096e-01, 2.28158684e+01,\n        1.66295193e-01, 1.05636348e+01, 3.14986297e-01, 5.89375791e+00,\n        5.22843145e-01, 9.72850894e+00, 7.55379519e-02, 1.62034067e-03,\n        8.95422386e-01, 4.17765315e-01, 6.68746238e-01, 7.21091688e+01,\n        2.99496690e+01, 6.64973036e-01, 1.23183622e+01, 2.80388822e-01,\n        5.90771727e-01, 4.54988010e-01, 5.54534003e-01, 4.34237298e-01]),\n array([1.11105427e-02, 5.52573266e-03, 8.32169755e-02, 1.00414063e-02,\n        3.55151778e-01, 5.43344351e-02, 1.50458858e-23, 1.69507094e-05,\n        9.53263954e-01, 5.28348334e-56, 8.90614266e-03, 6.79353298e-01,\n        3.16244061e-01, 3.67188022e-01, 9.02194212e-04, 3.42886699e-01,\n        3.76732052e-01, 1.44606900e-01, 4.25133967e-01, 4.62045347e-01,\n        3.82340499e-01, 1.94407331e-01, 8.89064717e-01, 6.65474610e-01,\n        2.74626625e-01, 9.42253426e-03, 3.97677486e-01, 7.31612657e-01,\n        3.18896599e-02, 3.67188022e-01, 8.27103248e-01, 4.91581373e-01,\n        4.35209474e-01, 3.46142498e-02, 8.12609832e-01, 1.31620172e-01,\n        8.84326503e-01, 8.02017034e-01, 6.15770910e-01, 1.79190432e-06,\n        6.83428719e-01, 1.15470473e-03, 5.74640888e-01, 1.52009091e-02,\n        4.69637437e-01, 1.81615840e-03, 7.83439901e-01, 9.67891348e-01,\n        3.44020285e-01, 5.18059523e-01, 4.13496033e-01, 2.13558107e-17,\n        4.47210352e-08, 4.14816689e-01, 4.49229157e-04, 5.96450685e-01,\n        4.42127341e-01, 4.99981272e-01, 4.56477255e-01, 5.09922487e-01]))"
     },
     "execution_count": 109,
     "metadata": {},
     "output_type": "execute_result"
    }
   ],
   "source": [
    "f_regression(shanxi_data[shanxi_data.columns[3:]], shanxi_data['contact'])"
   ],
   "metadata": {
    "collapsed": false,
    "pycharm": {
     "name": "#%%\n"
    }
   }
  },
  {
   "cell_type": "markdown",
   "source": [
    "# Bucharest"
   ],
   "metadata": {
    "collapsed": false,
    "pycharm": {
     "name": "#%% md\n"
    }
   }
  },
  {
   "cell_type": "code",
   "execution_count": 110,
   "outputs": [],
   "source": [
    "bucharest_nodelist = pd.read_csv('../Data/Preprocessed/bucharest_nodelist.csv')\n",
    "bucharest_edgelist = pd.read_csv('../Data/Preprocessed/bucharest_edgelist.csv')"
   ],
   "metadata": {
    "collapsed": false,
    "pycharm": {
     "name": "#%%\n"
    }
   }
  },
  {
   "cell_type": "code",
   "execution_count": 112,
   "outputs": [],
   "source": [
    "bucharest_nodelist['medical_ints'] = pd.factorize(bucharest_nodelist['medical'])[0]\n",
    "bucharest_nodelist['isco08_code_ints'] = pd.factorize(bucharest_nodelist['isco08_code'])[0]"
   ],
   "metadata": {
    "collapsed": false,
    "pycharm": {
     "name": "#%%\n"
    }
   }
  },
  {
   "cell_type": "code",
   "execution_count": 113,
   "outputs": [
    {
     "data": {
      "text/plain": "       Unnamed: 0   node_id   age  gender medical isco08_code  \\\n0               0    179373  65.0       1     NAP         NAP   \n1               1  1S179373  63.0     NaN     NaN         NaN   \n2               2    146179  40.0       1      No         EMP   \n3               3    235990  32.0     2.0     NaN         NaN   \n4               4  3S146179   3.0     NaN     NAC         NAC   \n...           ...       ...   ...     ...     ...         ...   \n57830       57830        19  32.0    male     NaN         NaN   \n57831       57831        18  30.0  female     NaN         NaN   \n57832       57832        16  60.0    male     NaN         NaN   \n57833       57833        14  42.0  female     NaN         NaN   \n57834       57834        12  49.0    male     NaN         NaN   \n\n                   isco08_label  medical_ints  isco08_code_ints  \n0        Not Active - pensioner             0                 0  \n1                           NaN            -1                -1  \n2      Employee - unknown group             1                 1  \n3                           NaN            -1                -1  \n4            Not Active - Child             2                 2  \n...                         ...           ...               ...  \n57830                       NaN            -1                -1  \n57831                       NaN            -1                -1  \n57832                       NaN            -1                -1  \n57833                       NaN            -1                -1  \n57834                       NaN            -1                -1  \n\n[57835 rows x 9 columns]",
      "text/html": "<div>\n<style scoped>\n    .dataframe tbody tr th:only-of-type {\n        vertical-align: middle;\n    }\n\n    .dataframe tbody tr th {\n        vertical-align: top;\n    }\n\n    .dataframe thead th {\n        text-align: right;\n    }\n</style>\n<table border=\"1\" class=\"dataframe\">\n  <thead>\n    <tr style=\"text-align: right;\">\n      <th></th>\n      <th>Unnamed: 0</th>\n      <th>node_id</th>\n      <th>age</th>\n      <th>gender</th>\n      <th>medical</th>\n      <th>isco08_code</th>\n      <th>isco08_label</th>\n      <th>medical_ints</th>\n      <th>isco08_code_ints</th>\n    </tr>\n  </thead>\n  <tbody>\n    <tr>\n      <th>0</th>\n      <td>0</td>\n      <td>179373</td>\n      <td>65.0</td>\n      <td>1</td>\n      <td>NAP</td>\n      <td>NAP</td>\n      <td>Not Active - pensioner</td>\n      <td>0</td>\n      <td>0</td>\n    </tr>\n    <tr>\n      <th>1</th>\n      <td>1</td>\n      <td>1S179373</td>\n      <td>63.0</td>\n      <td>NaN</td>\n      <td>NaN</td>\n      <td>NaN</td>\n      <td>NaN</td>\n      <td>-1</td>\n      <td>-1</td>\n    </tr>\n    <tr>\n      <th>2</th>\n      <td>2</td>\n      <td>146179</td>\n      <td>40.0</td>\n      <td>1</td>\n      <td>No</td>\n      <td>EMP</td>\n      <td>Employee - unknown group</td>\n      <td>1</td>\n      <td>1</td>\n    </tr>\n    <tr>\n      <th>3</th>\n      <td>3</td>\n      <td>235990</td>\n      <td>32.0</td>\n      <td>2.0</td>\n      <td>NaN</td>\n      <td>NaN</td>\n      <td>NaN</td>\n      <td>-1</td>\n      <td>-1</td>\n    </tr>\n    <tr>\n      <th>4</th>\n      <td>4</td>\n      <td>3S146179</td>\n      <td>3.0</td>\n      <td>NaN</td>\n      <td>NAC</td>\n      <td>NAC</td>\n      <td>Not Active - Child</td>\n      <td>2</td>\n      <td>2</td>\n    </tr>\n    <tr>\n      <th>...</th>\n      <td>...</td>\n      <td>...</td>\n      <td>...</td>\n      <td>...</td>\n      <td>...</td>\n      <td>...</td>\n      <td>...</td>\n      <td>...</td>\n      <td>...</td>\n    </tr>\n    <tr>\n      <th>57830</th>\n      <td>57830</td>\n      <td>19</td>\n      <td>32.0</td>\n      <td>male</td>\n      <td>NaN</td>\n      <td>NaN</td>\n      <td>NaN</td>\n      <td>-1</td>\n      <td>-1</td>\n    </tr>\n    <tr>\n      <th>57831</th>\n      <td>57831</td>\n      <td>18</td>\n      <td>30.0</td>\n      <td>female</td>\n      <td>NaN</td>\n      <td>NaN</td>\n      <td>NaN</td>\n      <td>-1</td>\n      <td>-1</td>\n    </tr>\n    <tr>\n      <th>57832</th>\n      <td>57832</td>\n      <td>16</td>\n      <td>60.0</td>\n      <td>male</td>\n      <td>NaN</td>\n      <td>NaN</td>\n      <td>NaN</td>\n      <td>-1</td>\n      <td>-1</td>\n    </tr>\n    <tr>\n      <th>57833</th>\n      <td>57833</td>\n      <td>14</td>\n      <td>42.0</td>\n      <td>female</td>\n      <td>NaN</td>\n      <td>NaN</td>\n      <td>NaN</td>\n      <td>-1</td>\n      <td>-1</td>\n    </tr>\n    <tr>\n      <th>57834</th>\n      <td>57834</td>\n      <td>12</td>\n      <td>49.0</td>\n      <td>male</td>\n      <td>NaN</td>\n      <td>NaN</td>\n      <td>NaN</td>\n      <td>-1</td>\n      <td>-1</td>\n    </tr>\n  </tbody>\n</table>\n<p>57835 rows × 9 columns</p>\n</div>"
     },
     "execution_count": 113,
     "metadata": {},
     "output_type": "execute_result"
    }
   ],
   "source": [
    "bucharest_nodelist"
   ],
   "metadata": {
    "collapsed": false,
    "pycharm": {
     "name": "#%%\n"
    }
   }
  },
  {
   "cell_type": "code",
   "execution_count": null,
   "outputs": [],
   "source": [
    "bucharest_nodelist['age'] = bucharest_nodelist['age'].fillna(value=int(bucharest_nodelist['age'].mean()))\n",
    "bucharest_nodelist['gender'] = bucharest_nodelist['gender'].mask(bucharest_nodelist['gender'].isnull(), np.random.randint(0, 2, size=bucharest_nodelist.shape[0]))"
   ],
   "metadata": {
    "collapsed": false,
    "pycharm": {
     "name": "#%%\n"
    }
   }
  }
 ],
 "metadata": {
  "kernelspec": {
   "display_name": "Python 3",
   "language": "python",
   "name": "python3"
  },
  "language_info": {
   "codemirror_mode": {
    "name": "ipython",
    "version": 2
   },
   "file_extension": ".py",
   "mimetype": "text/x-python",
   "name": "python",
   "nbconvert_exporter": "python",
   "pygments_lexer": "ipython2",
   "version": "2.7.6"
  }
 },
 "nbformat": 4,
 "nbformat_minor": 0
}