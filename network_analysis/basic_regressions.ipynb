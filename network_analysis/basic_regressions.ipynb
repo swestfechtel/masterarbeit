{
 "cells": [
  {
   "cell_type": "code",
   "execution_count": 76,
   "outputs": [],
   "source": [
    "import pandas as pd\n",
    "import numpy as np\n",
    "from sklearn.preprocessing import normalize, scale\n",
    "from sklearn.feature_selection import r_regression, f_regression"
   ],
   "metadata": {
    "collapsed": false,
    "pycharm": {
     "name": "#%%\n"
    }
   }
  },
  {
   "cell_type": "code",
   "execution_count": 20,
   "outputs": [],
   "source": [
    "yunnan_nodelist = pd.read_csv('../Data/Preprocessed/yunnan_nodelist.csv')\n",
    "yunnan_edgelist = pd.read_csv('../Data/Preprocessed/yunnan_edgelist.csv')"
   ],
   "metadata": {
    "collapsed": false,
    "pycharm": {
     "name": "#%%\n"
    }
   }
  },
  {
   "cell_type": "code",
   "execution_count": 21,
   "outputs": [
    {
     "data": {
      "text/plain": "     Unnamed: 0  Referee  Referral    Date\n0             0        1       NaN  200117\n1             1        1      10.0  200117\n2             2        2       NaN  200122\n3             3        3       NaN  200124\n4             4        4       NaN  200124\n..          ...      ...       ...     ...\n270         273      171     156.0  200216\n271         269      170     155.0  200216\n272         268      170       NaN  200216\n273         270      170     156.0  200216\n274         274      171     170.0  200216\n\n[275 rows x 4 columns]",
      "text/html": "<div>\n<style scoped>\n    .dataframe tbody tr th:only-of-type {\n        vertical-align: middle;\n    }\n\n    .dataframe tbody tr th {\n        vertical-align: top;\n    }\n\n    .dataframe thead th {\n        text-align: right;\n    }\n</style>\n<table border=\"1\" class=\"dataframe\">\n  <thead>\n    <tr style=\"text-align: right;\">\n      <th></th>\n      <th>Unnamed: 0</th>\n      <th>Referee</th>\n      <th>Referral</th>\n      <th>Date</th>\n    </tr>\n  </thead>\n  <tbody>\n    <tr>\n      <th>0</th>\n      <td>0</td>\n      <td>1</td>\n      <td>NaN</td>\n      <td>200117</td>\n    </tr>\n    <tr>\n      <th>1</th>\n      <td>1</td>\n      <td>1</td>\n      <td>10.0</td>\n      <td>200117</td>\n    </tr>\n    <tr>\n      <th>2</th>\n      <td>2</td>\n      <td>2</td>\n      <td>NaN</td>\n      <td>200122</td>\n    </tr>\n    <tr>\n      <th>3</th>\n      <td>3</td>\n      <td>3</td>\n      <td>NaN</td>\n      <td>200124</td>\n    </tr>\n    <tr>\n      <th>4</th>\n      <td>4</td>\n      <td>4</td>\n      <td>NaN</td>\n      <td>200124</td>\n    </tr>\n    <tr>\n      <th>...</th>\n      <td>...</td>\n      <td>...</td>\n      <td>...</td>\n      <td>...</td>\n    </tr>\n    <tr>\n      <th>270</th>\n      <td>273</td>\n      <td>171</td>\n      <td>156.0</td>\n      <td>200216</td>\n    </tr>\n    <tr>\n      <th>271</th>\n      <td>269</td>\n      <td>170</td>\n      <td>155.0</td>\n      <td>200216</td>\n    </tr>\n    <tr>\n      <th>272</th>\n      <td>268</td>\n      <td>170</td>\n      <td>NaN</td>\n      <td>200216</td>\n    </tr>\n    <tr>\n      <th>273</th>\n      <td>270</td>\n      <td>170</td>\n      <td>156.0</td>\n      <td>200216</td>\n    </tr>\n    <tr>\n      <th>274</th>\n      <td>274</td>\n      <td>171</td>\n      <td>170.0</td>\n      <td>200216</td>\n    </tr>\n  </tbody>\n</table>\n<p>275 rows × 4 columns</p>\n</div>"
     },
     "execution_count": 21,
     "metadata": {},
     "output_type": "execute_result"
    }
   ],
   "source": [
    "yunnan_edgelist"
   ],
   "metadata": {
    "collapsed": false,
    "pycharm": {
     "name": "#%%\n"
    }
   }
  },
  {
   "cell_type": "code",
   "execution_count": 22,
   "outputs": [
    {
     "data": {
      "text/plain": "(array([ 1.,  0., nan]), array([ 1., nan,  0.]))"
     },
     "execution_count": 22,
     "metadata": {},
     "output_type": "execute_result"
    }
   ],
   "source": [
    "yunnan_nodelist['gender'].unique(), yunnan_nodelist['relatives'].unique()"
   ],
   "metadata": {
    "collapsed": false,
    "pycharm": {
     "name": "#%%\n"
    }
   }
  },
  {
   "cell_type": "code",
   "execution_count": 23,
   "outputs": [
    {
     "data": {
      "text/plain": "Index(['Unnamed: 0', 'node_id', 'age', 'gender', 'relatives'], dtype='object')"
     },
     "execution_count": 23,
     "metadata": {},
     "output_type": "execute_result"
    }
   ],
   "source": [
    "yunnan_nodelist.columns"
   ],
   "metadata": {
    "collapsed": false,
    "pycharm": {
     "name": "#%%\n"
    }
   }
  },
  {
   "cell_type": "code",
   "execution_count": 24,
   "outputs": [],
   "source": [
    "yunnan_nodelist['age'] = yunnan_nodelist['age'].fillna(value=int(yunnan_nodelist['age'].mean()))\n",
    "yunnan_nodelist['gender'] = yunnan_nodelist['gender'].mask(yunnan_nodelist['gender'].isnull(), np.random.randint(0, 2, size=yunnan_nodelist.shape[0]))\n",
    "yunnan_nodelist['relatives'] = yunnan_nodelist['relatives'].mask(yunnan_nodelist['relatives'].isnull(), np.random.randint(0, 2, size=yunnan_nodelist.shape[0]))"
   ],
   "metadata": {
    "collapsed": false,
    "pycharm": {
     "name": "#%%\n"
    }
   }
  },
  {
   "cell_type": "code",
   "execution_count": 25,
   "outputs": [
    {
     "data": {
      "text/plain": "(array([1., 0.]), array([1., 0.]))"
     },
     "execution_count": 25,
     "metadata": {},
     "output_type": "execute_result"
    }
   ],
   "source": [
    "yunnan_nodelist['gender'].unique(), yunnan_nodelist['relatives'].unique()"
   ],
   "metadata": {
    "collapsed": false,
    "pycharm": {
     "name": "#%%\n"
    }
   }
  },
  {
   "cell_type": "code",
   "execution_count": 87,
   "outputs": [],
   "source": [
    "yunnan_data = pd.DataFrame(columns=['referee', 'referral', 'contact', 'referee_age', 'referral_age', 'age_diff', 'referee_gender', 'referral_gender', 'gender_diff', 'referee_relatives', 'referral_relatives', 'relatives_diff'])"
   ],
   "metadata": {
    "collapsed": false,
    "pycharm": {
     "name": "#%%\n"
    }
   }
  },
  {
   "cell_type": "code",
   "execution_count": 88,
   "outputs": [],
   "source": [
    "added_combinations = set()\n",
    "for index, row in yunnan_edgelist[~yunnan_edgelist['Referral'].isna()].iterrows():\n",
    "    referee = yunnan_nodelist.loc[yunnan_nodelist['node_id'] == row['Referee']]\n",
    "    referral = yunnan_nodelist.loc[yunnan_nodelist['node_id'] == row['Referral']]\n",
    "    new_row = pd.Series({'referee': row['Referee'], 'referral': row['Referral'], 'contact': 1, 'referee_age': referee['age'].iloc[0], 'referral_age': referral['age'].iloc[0], 'age_diff': abs(referee['age'].iloc[0] - referral['age'].iloc[0]),\n",
    "                         'referee_gender': referee['gender'].iloc[0], 'referral_gender': referral['gender'].iloc[0], 'gender_diff': abs(referee['gender'].iloc[0] - referral['gender'].iloc[0]),\n",
    "                         'referee_relatives': referee['relatives'].iloc[0], 'referral_relatives': referral['relatives'].iloc[0], 'relatives_diff': abs(referee['relatives'].iloc[0] - referral['relatives'].iloc[0])})\n",
    "    yunnan_data = pd.concat([yunnan_data, new_row.to_frame().T], axis='index', ignore_index=True)\n",
    "\n",
    "    added_combinations.add((referee['node_id'].iloc[0], referral['node_id'].iloc[0]))\n",
    "    added_combinations.add((referral['node_id'].iloc[0], referee['node_id'].iloc[0]))"
   ],
   "metadata": {
    "collapsed": false,
    "pycharm": {
     "name": "#%%\n"
    }
   }
  },
  {
   "cell_type": "code",
   "execution_count": 89,
   "outputs": [],
   "source": [
    "for ref_a in yunnan_nodelist['node_id']:\n",
    "    for ref_b in yunnan_nodelist['node_id']:\n",
    "        if ref_a == ref_b:\n",
    "            continue\n",
    "        if (ref_a, ref_b) in added_combinations:\n",
    "            continue\n",
    "        if (ref_b, ref_a) in added_combinations:\n",
    "            continue\n",
    "\n",
    "        referee = yunnan_nodelist.loc[yunnan_nodelist['node_id'] == ref_a]\n",
    "        referral = yunnan_nodelist.loc[yunnan_nodelist['node_id'] == ref_b]\n",
    "\n",
    "        new_row = pd.Series({'referee': ref_a, 'referral': ref_b, 'contact': 0, 'referee_age': referee['age'].iloc[0], 'referral_age': referral['age'].iloc[0], 'age_diff': abs(referee['age'].iloc[0] - referral['age'].iloc[0]),\n",
    "                             'referee_gender': referee['gender'].iloc[0], 'referral_gender': referral['gender'].iloc[0], 'gender_diff': abs(referee['gender'].iloc[0] - referral['gender'].iloc[0]),\n",
    "                             'referee_relatives': referee['relatives'].iloc[0], 'referral_relatives': referral['relatives'].iloc[0], 'relatives_diff': abs(referee['relatives'].iloc[0] - referral['relatives'].iloc[0])})\n",
    "        yunnan_data = pd.concat([yunnan_data, new_row.to_frame().T], axis='index', ignore_index=True)\n",
    "\n",
    "        added_combinations.add((ref_a, ref_b))\n",
    "        added_combinations.add((ref_b, ref_a))"
   ],
   "metadata": {
    "collapsed": false,
    "pycharm": {
     "name": "#%%\n"
    }
   }
  },
  {
   "cell_type": "code",
   "execution_count": 90,
   "outputs": [
    {
     "data": {
      "text/plain": "       referee  referral  contact  referee_age  referral_age  age_diff  \\\n0          1.0      10.0      1.0         41.0          63.0      22.0   \n1         16.0      15.0      1.0         68.0          71.0       3.0   \n2         90.0      75.0      1.0         34.0          76.0      42.0   \n3         86.0      85.0      1.0         79.0          67.0      12.0   \n4         86.0      81.0      1.0         79.0          46.0      33.0   \n...        ...       ...      ...          ...           ...       ...   \n14530    168.0     169.0      0.0         62.0          41.0      21.0   \n14531    168.0     170.0      0.0         62.0          52.0      10.0   \n14532    168.0     171.0      0.0         62.0          24.0      38.0   \n14533    169.0     170.0      0.0         41.0          52.0      11.0   \n14534    169.0     171.0      0.0         41.0          24.0      17.0   \n\n       referee_gender  referral_gender  gender_diff  referee_relatives  \\\n0                 1.0              1.0          0.0                1.0   \n1                 0.0              1.0          1.0                1.0   \n2                 0.0              1.0          1.0                1.0   \n3                 0.0              0.0          0.0                0.0   \n4                 0.0              0.0          0.0                0.0   \n...               ...              ...          ...                ...   \n14530             0.0              1.0          1.0                0.0   \n14531             0.0              1.0          1.0                0.0   \n14532             0.0              0.0          0.0                0.0   \n14533             1.0              1.0          0.0                1.0   \n14534             1.0              0.0          1.0                1.0   \n\n       referral_relatives  relatives_diff  \n0                     1.0             0.0  \n1                     1.0             0.0  \n2                     1.0             0.0  \n3                     0.0             0.0  \n4                     0.0             0.0  \n...                   ...             ...  \n14530                 1.0             1.0  \n14531                 1.0             1.0  \n14532                 1.0             1.0  \n14533                 1.0             0.0  \n14534                 1.0             0.0  \n\n[14535 rows x 12 columns]",
      "text/html": "<div>\n<style scoped>\n    .dataframe tbody tr th:only-of-type {\n        vertical-align: middle;\n    }\n\n    .dataframe tbody tr th {\n        vertical-align: top;\n    }\n\n    .dataframe thead th {\n        text-align: right;\n    }\n</style>\n<table border=\"1\" class=\"dataframe\">\n  <thead>\n    <tr style=\"text-align: right;\">\n      <th></th>\n      <th>referee</th>\n      <th>referral</th>\n      <th>contact</th>\n      <th>referee_age</th>\n      <th>referral_age</th>\n      <th>age_diff</th>\n      <th>referee_gender</th>\n      <th>referral_gender</th>\n      <th>gender_diff</th>\n      <th>referee_relatives</th>\n      <th>referral_relatives</th>\n      <th>relatives_diff</th>\n    </tr>\n  </thead>\n  <tbody>\n    <tr>\n      <th>0</th>\n      <td>1.0</td>\n      <td>10.0</td>\n      <td>1.0</td>\n      <td>41.0</td>\n      <td>63.0</td>\n      <td>22.0</td>\n      <td>1.0</td>\n      <td>1.0</td>\n      <td>0.0</td>\n      <td>1.0</td>\n      <td>1.0</td>\n      <td>0.0</td>\n    </tr>\n    <tr>\n      <th>1</th>\n      <td>16.0</td>\n      <td>15.0</td>\n      <td>1.0</td>\n      <td>68.0</td>\n      <td>71.0</td>\n      <td>3.0</td>\n      <td>0.0</td>\n      <td>1.0</td>\n      <td>1.0</td>\n      <td>1.0</td>\n      <td>1.0</td>\n      <td>0.0</td>\n    </tr>\n    <tr>\n      <th>2</th>\n      <td>90.0</td>\n      <td>75.0</td>\n      <td>1.0</td>\n      <td>34.0</td>\n      <td>76.0</td>\n      <td>42.0</td>\n      <td>0.0</td>\n      <td>1.0</td>\n      <td>1.0</td>\n      <td>1.0</td>\n      <td>1.0</td>\n      <td>0.0</td>\n    </tr>\n    <tr>\n      <th>3</th>\n      <td>86.0</td>\n      <td>85.0</td>\n      <td>1.0</td>\n      <td>79.0</td>\n      <td>67.0</td>\n      <td>12.0</td>\n      <td>0.0</td>\n      <td>0.0</td>\n      <td>0.0</td>\n      <td>0.0</td>\n      <td>0.0</td>\n      <td>0.0</td>\n    </tr>\n    <tr>\n      <th>4</th>\n      <td>86.0</td>\n      <td>81.0</td>\n      <td>1.0</td>\n      <td>79.0</td>\n      <td>46.0</td>\n      <td>33.0</td>\n      <td>0.0</td>\n      <td>0.0</td>\n      <td>0.0</td>\n      <td>0.0</td>\n      <td>0.0</td>\n      <td>0.0</td>\n    </tr>\n    <tr>\n      <th>...</th>\n      <td>...</td>\n      <td>...</td>\n      <td>...</td>\n      <td>...</td>\n      <td>...</td>\n      <td>...</td>\n      <td>...</td>\n      <td>...</td>\n      <td>...</td>\n      <td>...</td>\n      <td>...</td>\n      <td>...</td>\n    </tr>\n    <tr>\n      <th>14530</th>\n      <td>168.0</td>\n      <td>169.0</td>\n      <td>0.0</td>\n      <td>62.0</td>\n      <td>41.0</td>\n      <td>21.0</td>\n      <td>0.0</td>\n      <td>1.0</td>\n      <td>1.0</td>\n      <td>0.0</td>\n      <td>1.0</td>\n      <td>1.0</td>\n    </tr>\n    <tr>\n      <th>14531</th>\n      <td>168.0</td>\n      <td>170.0</td>\n      <td>0.0</td>\n      <td>62.0</td>\n      <td>52.0</td>\n      <td>10.0</td>\n      <td>0.0</td>\n      <td>1.0</td>\n      <td>1.0</td>\n      <td>0.0</td>\n      <td>1.0</td>\n      <td>1.0</td>\n    </tr>\n    <tr>\n      <th>14532</th>\n      <td>168.0</td>\n      <td>171.0</td>\n      <td>0.0</td>\n      <td>62.0</td>\n      <td>24.0</td>\n      <td>38.0</td>\n      <td>0.0</td>\n      <td>0.0</td>\n      <td>0.0</td>\n      <td>0.0</td>\n      <td>1.0</td>\n      <td>1.0</td>\n    </tr>\n    <tr>\n      <th>14533</th>\n      <td>169.0</td>\n      <td>170.0</td>\n      <td>0.0</td>\n      <td>41.0</td>\n      <td>52.0</td>\n      <td>11.0</td>\n      <td>1.0</td>\n      <td>1.0</td>\n      <td>0.0</td>\n      <td>1.0</td>\n      <td>1.0</td>\n      <td>0.0</td>\n    </tr>\n    <tr>\n      <th>14534</th>\n      <td>169.0</td>\n      <td>171.0</td>\n      <td>0.0</td>\n      <td>41.0</td>\n      <td>24.0</td>\n      <td>17.0</td>\n      <td>1.0</td>\n      <td>0.0</td>\n      <td>1.0</td>\n      <td>1.0</td>\n      <td>1.0</td>\n      <td>0.0</td>\n    </tr>\n  </tbody>\n</table>\n<p>14535 rows × 12 columns</p>\n</div>"
     },
     "execution_count": 90,
     "metadata": {},
     "output_type": "execute_result"
    }
   ],
   "source": [
    "yunnan_data"
   ],
   "metadata": {
    "collapsed": false,
    "pycharm": {
     "name": "#%%\n"
    }
   }
  },
  {
   "cell_type": "code",
   "execution_count": 91,
   "outputs": [
    {
     "data": {
      "text/plain": "14535.0"
     },
     "execution_count": 91,
     "metadata": {},
     "output_type": "execute_result"
    }
   ],
   "source": [
    "(yunnan_nodelist.shape[0] * (yunnan_nodelist.shape[0] - 1)) / 2"
   ],
   "metadata": {
    "collapsed": false,
    "pycharm": {
     "name": "#%%\n"
    }
   }
  },
  {
   "cell_type": "code",
   "execution_count": 92,
   "outputs": [
    {
     "data": {
      "text/plain": "       referee  referral  contact  referee_age  referral_age  age_diff  \\\n0          1.0      10.0      1.0    -0.900396      0.938726  0.135464   \n1         16.0      15.0      1.0     0.156549      0.499161 -1.193047   \n2         90.0      75.0      1.0    -1.900825      0.995179  1.034717   \n3         86.0      85.0      1.0     0.573515      0.076514 -0.744325   \n4         86.0      81.0      1.0     0.921381     -0.824737  0.446583   \n...        ...       ...      ...          ...           ...       ...   \n14530    168.0     169.0      0.0     0.857522     -0.518396  0.087612   \n14531    168.0     170.0      0.0     0.591272      0.051218 -0.704163   \n14532    168.0     171.0      0.0     0.901288     -1.676312  1.277942   \n14533    169.0     170.0      0.0    -0.350791      0.780328 -0.485451   \n14534    169.0     171.0      0.0     0.919632     -0.812238  0.432657   \n\n       referee_gender  referral_gender  gender_diff  referee_relatives  \\\n0                 1.0              1.0          0.0                1.0   \n1                 0.0              1.0          1.0                1.0   \n2                 0.0              1.0          1.0                1.0   \n3                 0.0              0.0          0.0                0.0   \n4                 0.0              0.0          0.0                0.0   \n...               ...              ...          ...                ...   \n14530             0.0              1.0          1.0                0.0   \n14531             0.0              1.0          1.0                0.0   \n14532             0.0              0.0          0.0                0.0   \n14533             1.0              1.0          0.0                1.0   \n14534             1.0              0.0          1.0                1.0   \n\n       referral_relatives  relatives_diff  \n0                     1.0             0.0  \n1                     1.0             0.0  \n2                     1.0             0.0  \n3                     0.0             0.0  \n4                     0.0             0.0  \n...                   ...             ...  \n14530                 1.0             1.0  \n14531                 1.0             1.0  \n14532                 1.0             1.0  \n14533                 1.0             0.0  \n14534                 1.0             0.0  \n\n[14535 rows x 12 columns]",
      "text/html": "<div>\n<style scoped>\n    .dataframe tbody tr th:only-of-type {\n        vertical-align: middle;\n    }\n\n    .dataframe tbody tr th {\n        vertical-align: top;\n    }\n\n    .dataframe thead th {\n        text-align: right;\n    }\n</style>\n<table border=\"1\" class=\"dataframe\">\n  <thead>\n    <tr style=\"text-align: right;\">\n      <th></th>\n      <th>referee</th>\n      <th>referral</th>\n      <th>contact</th>\n      <th>referee_age</th>\n      <th>referral_age</th>\n      <th>age_diff</th>\n      <th>referee_gender</th>\n      <th>referral_gender</th>\n      <th>gender_diff</th>\n      <th>referee_relatives</th>\n      <th>referral_relatives</th>\n      <th>relatives_diff</th>\n    </tr>\n  </thead>\n  <tbody>\n    <tr>\n      <th>0</th>\n      <td>1.0</td>\n      <td>10.0</td>\n      <td>1.0</td>\n      <td>-0.900396</td>\n      <td>0.938726</td>\n      <td>0.135464</td>\n      <td>1.0</td>\n      <td>1.0</td>\n      <td>0.0</td>\n      <td>1.0</td>\n      <td>1.0</td>\n      <td>0.0</td>\n    </tr>\n    <tr>\n      <th>1</th>\n      <td>16.0</td>\n      <td>15.0</td>\n      <td>1.0</td>\n      <td>0.156549</td>\n      <td>0.499161</td>\n      <td>-1.193047</td>\n      <td>0.0</td>\n      <td>1.0</td>\n      <td>1.0</td>\n      <td>1.0</td>\n      <td>1.0</td>\n      <td>0.0</td>\n    </tr>\n    <tr>\n      <th>2</th>\n      <td>90.0</td>\n      <td>75.0</td>\n      <td>1.0</td>\n      <td>-1.900825</td>\n      <td>0.995179</td>\n      <td>1.034717</td>\n      <td>0.0</td>\n      <td>1.0</td>\n      <td>1.0</td>\n      <td>1.0</td>\n      <td>1.0</td>\n      <td>0.0</td>\n    </tr>\n    <tr>\n      <th>3</th>\n      <td>86.0</td>\n      <td>85.0</td>\n      <td>1.0</td>\n      <td>0.573515</td>\n      <td>0.076514</td>\n      <td>-0.744325</td>\n      <td>0.0</td>\n      <td>0.0</td>\n      <td>0.0</td>\n      <td>0.0</td>\n      <td>0.0</td>\n      <td>0.0</td>\n    </tr>\n    <tr>\n      <th>4</th>\n      <td>86.0</td>\n      <td>81.0</td>\n      <td>1.0</td>\n      <td>0.921381</td>\n      <td>-0.824737</td>\n      <td>0.446583</td>\n      <td>0.0</td>\n      <td>0.0</td>\n      <td>0.0</td>\n      <td>0.0</td>\n      <td>0.0</td>\n      <td>0.0</td>\n    </tr>\n    <tr>\n      <th>...</th>\n      <td>...</td>\n      <td>...</td>\n      <td>...</td>\n      <td>...</td>\n      <td>...</td>\n      <td>...</td>\n      <td>...</td>\n      <td>...</td>\n      <td>...</td>\n      <td>...</td>\n      <td>...</td>\n      <td>...</td>\n    </tr>\n    <tr>\n      <th>14530</th>\n      <td>168.0</td>\n      <td>169.0</td>\n      <td>0.0</td>\n      <td>0.857522</td>\n      <td>-0.518396</td>\n      <td>0.087612</td>\n      <td>0.0</td>\n      <td>1.0</td>\n      <td>1.0</td>\n      <td>0.0</td>\n      <td>1.0</td>\n      <td>1.0</td>\n    </tr>\n    <tr>\n      <th>14531</th>\n      <td>168.0</td>\n      <td>170.0</td>\n      <td>0.0</td>\n      <td>0.591272</td>\n      <td>0.051218</td>\n      <td>-0.704163</td>\n      <td>0.0</td>\n      <td>1.0</td>\n      <td>1.0</td>\n      <td>0.0</td>\n      <td>1.0</td>\n      <td>1.0</td>\n    </tr>\n    <tr>\n      <th>14532</th>\n      <td>168.0</td>\n      <td>171.0</td>\n      <td>0.0</td>\n      <td>0.901288</td>\n      <td>-1.676312</td>\n      <td>1.277942</td>\n      <td>0.0</td>\n      <td>0.0</td>\n      <td>0.0</td>\n      <td>0.0</td>\n      <td>1.0</td>\n      <td>1.0</td>\n    </tr>\n    <tr>\n      <th>14533</th>\n      <td>169.0</td>\n      <td>170.0</td>\n      <td>0.0</td>\n      <td>-0.350791</td>\n      <td>0.780328</td>\n      <td>-0.485451</td>\n      <td>1.0</td>\n      <td>1.0</td>\n      <td>0.0</td>\n      <td>1.0</td>\n      <td>1.0</td>\n      <td>0.0</td>\n    </tr>\n    <tr>\n      <th>14534</th>\n      <td>169.0</td>\n      <td>171.0</td>\n      <td>0.0</td>\n      <td>0.919632</td>\n      <td>-0.812238</td>\n      <td>0.432657</td>\n      <td>1.0</td>\n      <td>0.0</td>\n      <td>1.0</td>\n      <td>1.0</td>\n      <td>1.0</td>\n      <td>0.0</td>\n    </tr>\n  </tbody>\n</table>\n<p>14535 rows × 12 columns</p>\n</div>"
     },
     "execution_count": 92,
     "metadata": {},
     "output_type": "execute_result"
    }
   ],
   "source": [
    "yunnan_data[['referee_age', 'referral_age', 'age_diff']] = normalize(yunnan_data[['referee_age', 'referral_age', 'age_diff']])\n",
    "yunnan_data[['referee_age', 'referral_age', 'age_diff']] = scale(yunnan_data[['referee_age', 'referral_age', 'age_diff']])\n",
    "yunnan_data"
   ],
   "metadata": {
    "collapsed": false,
    "pycharm": {
     "name": "#%%\n"
    }
   }
  },
  {
   "cell_type": "code",
   "execution_count": 95,
   "outputs": [
    {
     "data": {
      "text/plain": "array([-0.00678707,  0.02617738, -0.01872828, -0.00044435,  0.02559778,\n        0.00603384, -0.03436659, -0.04232978, -0.07552437])"
     },
     "execution_count": 95,
     "metadata": {},
     "output_type": "execute_result"
    }
   ],
   "source": [
    "r_regression(yunnan_data[yunnan_data.columns[3:]], yunnan_data['contact'])"
   ],
   "metadata": {
    "collapsed": false,
    "pycharm": {
     "name": "#%%\n"
    }
   }
  },
  {
   "cell_type": "code",
   "execution_count": 96,
   "outputs": [
    {
     "data": {
      "text/plain": "(array([6.69482834e-01, 9.96564130e+00, 5.09921708e+00, 2.86951615e-03,\n        9.52893597e+00, 5.29124778e-01, 1.71846820e+01, 2.60871260e+01,\n        8.33707713e+01]),\n array([4.13245388e-01, 1.59814490e-03, 2.39514127e-02, 9.57280196e-01,\n        2.02637953e-03, 4.66986771e-01, 3.41083645e-05, 3.30483031e-07,\n        7.68428865e-20]))"
     },
     "execution_count": 96,
     "metadata": {},
     "output_type": "execute_result"
    }
   ],
   "source": [
    "f_regression(yunnan_data[yunnan_data.columns[3:]], yunnan_data['contact'])"
   ],
   "metadata": {
    "collapsed": false,
    "pycharm": {
     "name": "#%%\n"
    }
   }
  },
  {
   "cell_type": "code",
   "execution_count": null,
   "outputs": [],
   "source": [],
   "metadata": {
    "collapsed": false,
    "pycharm": {
     "name": "#%%\n"
    }
   }
  }
 ],
 "metadata": {
  "kernelspec": {
   "display_name": "Python 3",
   "language": "python",
   "name": "python3"
  },
  "language_info": {
   "codemirror_mode": {
    "name": "ipython",
    "version": 2
   },
   "file_extension": ".py",
   "mimetype": "text/x-python",
   "name": "python",
   "nbconvert_exporter": "python",
   "pygments_lexer": "ipython2",
   "version": "2.7.6"
  }
 },
 "nbformat": 4,
 "nbformat_minor": 0
}