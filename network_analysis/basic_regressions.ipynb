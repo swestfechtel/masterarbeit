{
 "cells": [
  {
   "cell_type": "code",
   "execution_count": 9,
   "outputs": [],
   "source": [
    "import pandas as pd\n",
    "import numpy as np\n",
    "from sklearn.preprocessing import normalize, scale\n",
    "from sklearn.feature_selection import r_regression, f_regression\n",
    "from sklearn.preprocessing import LabelEncoder\n",
    "from tqdm.notebook import tqdm\n",
    "from collections import Counter\n",
    "import statsmodels.api as sm"
   ],
   "metadata": {
    "collapsed": false,
    "pycharm": {
     "name": "#%%\n"
    }
   }
  },
  {
   "cell_type": "markdown",
   "source": [
    "# Yunnan"
   ],
   "metadata": {
    "collapsed": false,
    "pycharm": {
     "name": "#%% md\n"
    }
   }
  },
  {
   "cell_type": "code",
   "execution_count": 10,
   "outputs": [],
   "source": [
    "yunnan_nodelist = pd.read_csv('../Data/Preprocessed/yunnan_nodelist.csv')\n",
    "yunnan_edgelist = pd.read_csv('../Data/Preprocessed/yunnan_edgelist.csv')\n",
    "yunnan_network = pd.read_csv('../Data/Tables/basic/yunnan_basic_analysis.csv')"
   ],
   "metadata": {
    "collapsed": false,
    "pycharm": {
     "name": "#%%\n"
    }
   }
  },
  {
   "cell_type": "code",
   "execution_count": 11,
   "outputs": [
    {
     "data": {
      "text/plain": "     Unnamed: 0  node_id   age  gender  relatives\n0             0      1.0   NaN     1.0        1.0\n1             1      2.0  53.0     1.0        NaN\n2             2      3.0  39.0     0.0        0.0\n3             3      4.0  34.0     0.0        NaN\n4             4      5.0  49.0     1.0        NaN\n..          ...      ...   ...     ...        ...\n166         166    167.0  33.0     1.0        0.0\n167         167    168.0  62.0     0.0        0.0\n168         168    169.0  41.0     1.0        1.0\n169         169    170.0  52.0     1.0        1.0\n170         170    171.0  24.0     0.0        1.0\n\n[171 rows x 5 columns]",
      "text/html": "<div>\n<style scoped>\n    .dataframe tbody tr th:only-of-type {\n        vertical-align: middle;\n    }\n\n    .dataframe tbody tr th {\n        vertical-align: top;\n    }\n\n    .dataframe thead th {\n        text-align: right;\n    }\n</style>\n<table border=\"1\" class=\"dataframe\">\n  <thead>\n    <tr style=\"text-align: right;\">\n      <th></th>\n      <th>Unnamed: 0</th>\n      <th>node_id</th>\n      <th>age</th>\n      <th>gender</th>\n      <th>relatives</th>\n    </tr>\n  </thead>\n  <tbody>\n    <tr>\n      <th>0</th>\n      <td>0</td>\n      <td>1.0</td>\n      <td>NaN</td>\n      <td>1.0</td>\n      <td>1.0</td>\n    </tr>\n    <tr>\n      <th>1</th>\n      <td>1</td>\n      <td>2.0</td>\n      <td>53.0</td>\n      <td>1.0</td>\n      <td>NaN</td>\n    </tr>\n    <tr>\n      <th>2</th>\n      <td>2</td>\n      <td>3.0</td>\n      <td>39.0</td>\n      <td>0.0</td>\n      <td>0.0</td>\n    </tr>\n    <tr>\n      <th>3</th>\n      <td>3</td>\n      <td>4.0</td>\n      <td>34.0</td>\n      <td>0.0</td>\n      <td>NaN</td>\n    </tr>\n    <tr>\n      <th>4</th>\n      <td>4</td>\n      <td>5.0</td>\n      <td>49.0</td>\n      <td>1.0</td>\n      <td>NaN</td>\n    </tr>\n    <tr>\n      <th>...</th>\n      <td>...</td>\n      <td>...</td>\n      <td>...</td>\n      <td>...</td>\n      <td>...</td>\n    </tr>\n    <tr>\n      <th>166</th>\n      <td>166</td>\n      <td>167.0</td>\n      <td>33.0</td>\n      <td>1.0</td>\n      <td>0.0</td>\n    </tr>\n    <tr>\n      <th>167</th>\n      <td>167</td>\n      <td>168.0</td>\n      <td>62.0</td>\n      <td>0.0</td>\n      <td>0.0</td>\n    </tr>\n    <tr>\n      <th>168</th>\n      <td>168</td>\n      <td>169.0</td>\n      <td>41.0</td>\n      <td>1.0</td>\n      <td>1.0</td>\n    </tr>\n    <tr>\n      <th>169</th>\n      <td>169</td>\n      <td>170.0</td>\n      <td>52.0</td>\n      <td>1.0</td>\n      <td>1.0</td>\n    </tr>\n    <tr>\n      <th>170</th>\n      <td>170</td>\n      <td>171.0</td>\n      <td>24.0</td>\n      <td>0.0</td>\n      <td>1.0</td>\n    </tr>\n  </tbody>\n</table>\n<p>171 rows × 5 columns</p>\n</div>"
     },
     "execution_count": 11,
     "metadata": {},
     "output_type": "execute_result"
    }
   ],
   "source": [
    "yunnan_nodelist"
   ],
   "metadata": {
    "collapsed": false,
    "pycharm": {
     "name": "#%%\n"
    }
   }
  },
  {
   "cell_type": "code",
   "execution_count": 12,
   "outputs": [
    {
     "data": {
      "text/plain": "     Unnamed: 0  Referee  Degree_Centrality  Betweenness_Centrality  \\\n0             0        1           0.005882                     0.0   \n1             1       10           0.005882                     0.0   \n2             2       16           0.005882                     0.0   \n3             3       15           0.005882                     0.0   \n4             4       90           0.005882                     0.0   \n..          ...      ...                ...                     ...   \n166         166      143           0.000000                     0.0   \n167         167      142           0.000000                     0.0   \n168         168      153           0.000000                     0.0   \n169         169      162           0.000000                     0.0   \n170         170      169           0.000000                     0.0   \n\n     Pagerank_Centrality  Component_Size  Avg_Shortest_Path_Length  \n0               0.013495               2                       0.5  \n1               0.013495               2                       0.5  \n2               0.013495               2                       0.5  \n3               0.013495               2                       0.5  \n4               0.013495               2                       0.5  \n..                   ...             ...                       ...  \n166             0.002024               1                       0.0  \n167             0.002024               1                       0.0  \n168             0.002024               1                       0.0  \n169             0.002024               1                       0.0  \n170             0.002024               1                       0.0  \n\n[171 rows x 7 columns]",
      "text/html": "<div>\n<style scoped>\n    .dataframe tbody tr th:only-of-type {\n        vertical-align: middle;\n    }\n\n    .dataframe tbody tr th {\n        vertical-align: top;\n    }\n\n    .dataframe thead th {\n        text-align: right;\n    }\n</style>\n<table border=\"1\" class=\"dataframe\">\n  <thead>\n    <tr style=\"text-align: right;\">\n      <th></th>\n      <th>Unnamed: 0</th>\n      <th>Referee</th>\n      <th>Degree_Centrality</th>\n      <th>Betweenness_Centrality</th>\n      <th>Pagerank_Centrality</th>\n      <th>Component_Size</th>\n      <th>Avg_Shortest_Path_Length</th>\n    </tr>\n  </thead>\n  <tbody>\n    <tr>\n      <th>0</th>\n      <td>0</td>\n      <td>1</td>\n      <td>0.005882</td>\n      <td>0.0</td>\n      <td>0.013495</td>\n      <td>2</td>\n      <td>0.5</td>\n    </tr>\n    <tr>\n      <th>1</th>\n      <td>1</td>\n      <td>10</td>\n      <td>0.005882</td>\n      <td>0.0</td>\n      <td>0.013495</td>\n      <td>2</td>\n      <td>0.5</td>\n    </tr>\n    <tr>\n      <th>2</th>\n      <td>2</td>\n      <td>16</td>\n      <td>0.005882</td>\n      <td>0.0</td>\n      <td>0.013495</td>\n      <td>2</td>\n      <td>0.5</td>\n    </tr>\n    <tr>\n      <th>3</th>\n      <td>3</td>\n      <td>15</td>\n      <td>0.005882</td>\n      <td>0.0</td>\n      <td>0.013495</td>\n      <td>2</td>\n      <td>0.5</td>\n    </tr>\n    <tr>\n      <th>4</th>\n      <td>4</td>\n      <td>90</td>\n      <td>0.005882</td>\n      <td>0.0</td>\n      <td>0.013495</td>\n      <td>2</td>\n      <td>0.5</td>\n    </tr>\n    <tr>\n      <th>...</th>\n      <td>...</td>\n      <td>...</td>\n      <td>...</td>\n      <td>...</td>\n      <td>...</td>\n      <td>...</td>\n      <td>...</td>\n    </tr>\n    <tr>\n      <th>166</th>\n      <td>166</td>\n      <td>143</td>\n      <td>0.000000</td>\n      <td>0.0</td>\n      <td>0.002024</td>\n      <td>1</td>\n      <td>0.0</td>\n    </tr>\n    <tr>\n      <th>167</th>\n      <td>167</td>\n      <td>142</td>\n      <td>0.000000</td>\n      <td>0.0</td>\n      <td>0.002024</td>\n      <td>1</td>\n      <td>0.0</td>\n    </tr>\n    <tr>\n      <th>168</th>\n      <td>168</td>\n      <td>153</td>\n      <td>0.000000</td>\n      <td>0.0</td>\n      <td>0.002024</td>\n      <td>1</td>\n      <td>0.0</td>\n    </tr>\n    <tr>\n      <th>169</th>\n      <td>169</td>\n      <td>162</td>\n      <td>0.000000</td>\n      <td>0.0</td>\n      <td>0.002024</td>\n      <td>1</td>\n      <td>0.0</td>\n    </tr>\n    <tr>\n      <th>170</th>\n      <td>170</td>\n      <td>169</td>\n      <td>0.000000</td>\n      <td>0.0</td>\n      <td>0.002024</td>\n      <td>1</td>\n      <td>0.0</td>\n    </tr>\n  </tbody>\n</table>\n<p>171 rows × 7 columns</p>\n</div>"
     },
     "execution_count": 12,
     "metadata": {},
     "output_type": "execute_result"
    }
   ],
   "source": [
    "yunnan_network"
   ],
   "metadata": {
    "collapsed": false,
    "pycharm": {
     "name": "#%%\n"
    }
   }
  },
  {
   "cell_type": "code",
   "execution_count": 13,
   "outputs": [
    {
     "data": {
      "text/plain": "(array([ 1.,  0., nan]), array([ 1., nan,  0.]))"
     },
     "execution_count": 13,
     "metadata": {},
     "output_type": "execute_result"
    }
   ],
   "source": [
    "yunnan_nodelist['gender'].unique(), yunnan_nodelist['relatives'].unique()"
   ],
   "metadata": {
    "collapsed": false,
    "pycharm": {
     "name": "#%%\n"
    }
   }
  },
  {
   "cell_type": "code",
   "execution_count": 14,
   "outputs": [
    {
     "data": {
      "text/plain": "(Index(['Unnamed: 0', 'node_id', 'age', 'gender', 'relatives'], dtype='object'),\n Index(['Unnamed: 0', 'Referee', 'Degree_Centrality', 'Betweenness_Centrality',\n        'Pagerank_Centrality', 'Component_Size', 'Avg_Shortest_Path_Length'],\n       dtype='object'))"
     },
     "execution_count": 14,
     "metadata": {},
     "output_type": "execute_result"
    }
   ],
   "source": [
    "yunnan_nodelist.columns, yunnan_network.columns"
   ],
   "metadata": {
    "collapsed": false,
    "pycharm": {
     "name": "#%%\n"
    }
   }
  },
  {
   "cell_type": "code",
   "execution_count": 15,
   "outputs": [],
   "source": [
    "yunnan_nodelist['age'] = yunnan_nodelist['age'].fillna(value=int(yunnan_nodelist['age'].mean()))\n",
    "yunnan_nodelist['gender'] = yunnan_nodelist['gender'].mask(yunnan_nodelist['gender'].isnull(), np.random.randint(0, 2, size=yunnan_nodelist.shape[0]))\n",
    "yunnan_nodelist['relatives'] = yunnan_nodelist['relatives'].mask(yunnan_nodelist['relatives'].isnull(), np.random.randint(0, 2, size=yunnan_nodelist.shape[0]))"
   ],
   "metadata": {
    "collapsed": false,
    "pycharm": {
     "name": "#%%\n"
    }
   }
  },
  {
   "cell_type": "code",
   "execution_count": 16,
   "outputs": [
    {
     "data": {
      "text/plain": "(array([1., 0.]), array([1., 0.]))"
     },
     "execution_count": 16,
     "metadata": {},
     "output_type": "execute_result"
    }
   ],
   "source": [
    "yunnan_nodelist['gender'].unique(), yunnan_nodelist['relatives'].unique()"
   ],
   "metadata": {
    "collapsed": false,
    "pycharm": {
     "name": "#%%\n"
    }
   }
  },
  {
   "cell_type": "code",
   "execution_count": 17,
   "outputs": [],
   "source": [
    "yunnan_data = pd.DataFrame(columns=['referee', 'referral', 'contact', 'referee_age', 'referral_age', 'age_diff', 'referee_gender', 'referral_gender', 'gender_diff', 'referee_relatives', 'referral_relatives', 'relatives_diff',\n",
    "                                    'referee_degree_centrality', 'referral_degree_centrality', 'degree_centrality_diff', 'referee_betweenness_centrality', 'referral_betweenness_centrality', 'betweenness_centrality_diff',\n",
    "                                    'referee_pagerank_centrality', 'referral_pagerank_centrality', 'pagerank_centrality_diff', 'referee_component_size', 'referral_component_size', 'component_size_diff', 'referee_avg_path_len',\n",
    "                                    'referral_avg_path_len', 'avg_path_len_diff'])"
   ],
   "metadata": {
    "collapsed": false,
    "pycharm": {
     "name": "#%%\n"
    }
   }
  },
  {
   "cell_type": "code",
   "execution_count": 18,
   "outputs": [],
   "source": [
    "added_combinations = set()\n",
    "for index, row in yunnan_edgelist[~yunnan_edgelist['Referral'].isna()].iterrows():\n",
    "    referee_id = row['Referee']\n",
    "    referral_id = row['Referral']\n",
    "    referee = yunnan_nodelist.query('node_id == @referee_id')\n",
    "    referral = yunnan_nodelist.query('node_id == @referral_id')\n",
    "    referee_network_stats = yunnan_network.query('Referee == @referee_id')\n",
    "    referral_network_stats = yunnan_network.query('Referee == @referral_id')\n",
    "\n",
    "    referee_age = referee['age'].iloc[0]\n",
    "    referral_age = referral['age'].iloc[0]\n",
    "    referee_gender = referee['gender'].iloc[0]\n",
    "    referral_gender = referral['gender'].iloc[0]\n",
    "    referee_relatives = referee['relatives'].iloc[0]\n",
    "    referral_relatives = referral['relatives'].iloc[0]\n",
    "\n",
    "    referee_degree_centrality = referee_network_stats['Degree_Centrality'].iloc[0]\n",
    "    referral_degree_centrality = referral_network_stats['Degree_Centrality'].iloc[0]\n",
    "    referee_betweenness_centrality = referee_network_stats['Betweenness_Centrality'].iloc[0]\n",
    "    referral_betweenness_centrality = referral_network_stats['Betweenness_Centrality'].iloc[0]\n",
    "    referee_pagerank_centrality = referee_network_stats['Pagerank_Centrality'].iloc[0]\n",
    "    referral_pagerank_centrality = referral_network_stats['Pagerank_Centrality'].iloc[0]\n",
    "    referee_component_size = referee_network_stats['Component_Size'].iloc[0]\n",
    "    referral_component_size = referral_network_stats['Component_Size'].iloc[0]\n",
    "    referee_avg_path_len = referee_network_stats['Avg_Shortest_Path_Length'].iloc[0]\n",
    "    referral_avg_path_len = referral_network_stats['Avg_Shortest_Path_Length'].iloc[0]\n",
    "\n",
    "    new_row = pd.Series({'referee': referee_id, 'referral': referral_id, 'contact': 1, 'referee_age': referee_age, 'referral_age': referral_age, 'age_diff': abs(referee_age - referral_age),\n",
    "                         'referee_gender': referee_gender, 'referral_gender': referral_gender, 'gender_diff': abs(referee_gender - referral_gender),\n",
    "                         'referee_relatives': referee_relatives, 'referral_relatives': referral_relatives, 'relatives_diff': abs(referee_relatives - referral_relatives),\n",
    "                         'referee_degree_centrality': referee_degree_centrality, 'referral_degree_centrality': referral_degree_centrality, 'degree_centrality_diff': abs(referee_degree_centrality - referral_degree_centrality),\n",
    "                         'referee_betweenness_centrality': referee_betweenness_centrality, 'referral_betweenness_centrality': referral_betweenness_centrality, 'betweenness_centrality_diff': abs(referee_betweenness_centrality - referral_betweenness_centrality),\n",
    "                         'referee_pagerank_centrality': referee_pagerank_centrality, 'referral_pagerank_centrality': referral_pagerank_centrality, 'pagerank_centrality_diff': abs(referee_pagerank_centrality - referral_pagerank_centrality),\n",
    "                         'referee_component_size': referee_component_size, 'referral_component_size': referral_component_size, 'component_size_diff': abs(referee_component_size - referral_component_size),\n",
    "                         'referee_avg_path_len': referee_avg_path_len, 'referral_avg_path_len': referral_avg_path_len, 'avg_path_len_diff': abs(referee_avg_path_len - referral_avg_path_len)})\n",
    "    yunnan_data = pd.concat([yunnan_data, new_row.to_frame().T], axis='index', ignore_index=True)\n",
    "\n",
    "    added_combinations.add((referee_id, referral_id))\n",
    "    added_combinations.add((referral_id, referee_id))"
   ],
   "metadata": {
    "collapsed": false,
    "pycharm": {
     "name": "#%%\n"
    }
   }
  },
  {
   "cell_type": "code",
   "execution_count": 19,
   "outputs": [],
   "source": [
    "for ref_a in yunnan_nodelist['node_id']:\n",
    "    for ref_b in yunnan_nodelist['node_id']:\n",
    "        if ref_a == ref_b:\n",
    "            continue\n",
    "        if (ref_a, ref_b) in added_combinations:\n",
    "            continue\n",
    "        if (ref_b, ref_a) in added_combinations:\n",
    "            continue\n",
    "\n",
    "        referee = yunnan_nodelist.query('node_id == @ref_a')\n",
    "        referral = yunnan_nodelist.query('node_id == @ref_b')\n",
    "        referee_network_stats = yunnan_network.query('Referee == @ref_a')\n",
    "        referral_network_stats = yunnan_network.query('Referee == @ref_b')\n",
    "\n",
    "        referee_age = referee['age'].iloc[0]\n",
    "        referral_age = referral['age'].iloc[0]\n",
    "        referee_gender = referee['gender'].iloc[0]\n",
    "        referral_gender = referral['gender'].iloc[0]\n",
    "        referee_relatives = referee['relatives'].iloc[0]\n",
    "        referral_relatives = referral['relatives'].iloc[0]\n",
    "\n",
    "        referee_degree_centrality = referee_network_stats['Degree_Centrality'].iloc[0]\n",
    "        referral_degree_centrality = referral_network_stats['Degree_Centrality'].iloc[0]\n",
    "        referee_betweenness_centrality = referee_network_stats['Betweenness_Centrality'].iloc[0]\n",
    "        referral_betweenness_centrality = referral_network_stats['Betweenness_Centrality'].iloc[0]\n",
    "        referee_pagerank_centrality = referee_network_stats['Pagerank_Centrality'].iloc[0]\n",
    "        referral_pagerank_centrality = referral_network_stats['Pagerank_Centrality'].iloc[0]\n",
    "        referee_component_size = referee_network_stats['Component_Size'].iloc[0]\n",
    "        referral_component_size = referral_network_stats['Component_Size'].iloc[0]\n",
    "        referee_avg_path_len = referee_network_stats['Avg_Shortest_Path_Length'].iloc[0]\n",
    "        referral_avg_path_len = referral_network_stats['Avg_Shortest_Path_Length'].iloc[0]\n",
    "\n",
    "        new_row = pd.Series({'referee': ref_a, 'referral': ref_b, 'contact': 0, 'referee_age': referee_age, 'referral_age': referral_age, 'age_diff': abs(referee_age - referral_age),\n",
    "                             'referee_gender': referee_gender, 'referral_gender': referral_gender, 'gender_diff': abs(referee_gender - referral_gender),\n",
    "                             'referee_relatives': referee_relatives, 'referral_relatives': referral_relatives, 'relatives_diff': abs(referee_relatives - referral_relatives),\n",
    "                             'referee_degree_centrality': referee_degree_centrality, 'referral_degree_centrality': referral_degree_centrality, 'degree_centrality_diff': abs(referee_degree_centrality - referral_degree_centrality),\n",
    "                             'referee_betweenness_centrality': referee_betweenness_centrality, 'referral_betweenness_centrality': referral_betweenness_centrality, 'betweenness_centrality_diff': abs(referee_betweenness_centrality - referral_betweenness_centrality),\n",
    "                             'referee_pagerank_centrality': referee_pagerank_centrality, 'referral_pagerank_centrality': referral_pagerank_centrality, 'pagerank_centrality_diff': abs(referee_pagerank_centrality - referral_pagerank_centrality),\n",
    "                             'referee_component_size': referee_component_size, 'referral_component_size': referral_component_size, 'component_size_diff': abs(referee_component_size - referral_component_size),\n",
    "                             'referee_avg_path_len': referee_avg_path_len, 'referral_avg_path_len': referral_avg_path_len, 'avg_path_len_diff': abs(referee_avg_path_len - referral_avg_path_len)})\n",
    "        yunnan_data = pd.concat([yunnan_data, new_row.to_frame().T], axis='index', ignore_index=True)\n",
    "\n",
    "        added_combinations.add((ref_a, ref_b))\n",
    "        added_combinations.add((ref_b, ref_a))"
   ],
   "metadata": {
    "collapsed": false,
    "pycharm": {
     "name": "#%%\n"
    }
   }
  },
  {
   "cell_type": "code",
   "execution_count": 20,
   "outputs": [
    {
     "data": {
      "text/plain": "       referee  referral  contact  referee_age  referral_age  age_diff  \\\n0          1.0      10.0      1.0         41.0          63.0      22.0   \n1         16.0      15.0      1.0         68.0          71.0       3.0   \n2         90.0      75.0      1.0         34.0          76.0      42.0   \n3         86.0      85.0      1.0         79.0          67.0      12.0   \n4         86.0      81.0      1.0         79.0          46.0      33.0   \n...        ...       ...      ...          ...           ...       ...   \n14530    168.0     169.0      0.0         62.0          41.0      21.0   \n14531    168.0     170.0      0.0         62.0          52.0      10.0   \n14532    168.0     171.0      0.0         62.0          24.0      38.0   \n14533    169.0     170.0      0.0         41.0          52.0      11.0   \n14534    169.0     171.0      0.0         41.0          24.0      17.0   \n\n       referee_gender  referral_gender  gender_diff  referee_relatives  ...  \\\n0                 1.0              1.0          0.0                1.0  ...   \n1                 0.0              1.0          1.0                1.0  ...   \n2                 0.0              1.0          1.0                1.0  ...   \n3                 0.0              0.0          0.0                0.0  ...   \n4                 0.0              0.0          0.0                0.0  ...   \n...               ...              ...          ...                ...  ...   \n14530             0.0              1.0          1.0                0.0  ...   \n14531             0.0              1.0          1.0                0.0  ...   \n14532             0.0              0.0          0.0                0.0  ...   \n14533             1.0              1.0          0.0                1.0  ...   \n14534             1.0              0.0          1.0                1.0  ...   \n\n       betweenness_centrality_diff  referee_pagerank_centrality  \\\n0                              0.0                     0.013495   \n1                              0.0                     0.013495   \n2                              0.0                     0.013495   \n3                              0.0                     0.013495   \n4                              0.0                     0.013495   \n...                            ...                          ...   \n14530                          0.0                     0.010376   \n14531                          0.0                     0.010376   \n14532                          0.0                     0.010376   \n14533                          0.0                     0.002024   \n14534                          0.0                     0.002024   \n\n       referral_pagerank_centrality  pagerank_centrality_diff  \\\n0                          0.013495                  0.000000   \n1                          0.013495                  0.000000   \n2                          0.013495                  0.000000   \n3                          0.013495                  0.000000   \n4                          0.013495                  0.000000   \n...                             ...                       ...   \n14530                      0.002024                  0.008352   \n14531                      0.013495                  0.003119   \n14532                      0.013495                  0.003119   \n14533                      0.013495                  0.011471   \n14534                      0.013495                  0.011471   \n\n       referee_component_size  referral_component_size  component_size_diff  \\\n0                         2.0                      2.0                  0.0   \n1                         2.0                      2.0                  0.0   \n2                         2.0                      2.0                  0.0   \n3                         3.0                      3.0                  0.0   \n4                         3.0                      3.0                  0.0   \n...                       ...                      ...                  ...   \n14530                     3.0                      1.0                  2.0   \n14531                     3.0                      4.0                  1.0   \n14532                     3.0                      4.0                  1.0   \n14533                     1.0                      4.0                  3.0   \n14534                     1.0                      4.0                  3.0   \n\n       referee_avg_path_len  referral_avg_path_len  avg_path_len_diff  \n0                  0.500000               0.500000               0.00  \n1                  0.500000               0.500000               0.00  \n2                  0.500000               0.500000               0.00  \n3                  0.666667               0.666667               0.00  \n4                  0.666667               0.666667               0.00  \n...                     ...                    ...                ...  \n14530              1.000000               0.000000               1.00  \n14531              1.000000               0.750000               0.25  \n14532              1.000000               0.750000               0.25  \n14533              0.000000               0.750000               0.75  \n14534              0.000000               0.750000               0.75  \n\n[14535 rows x 27 columns]",
      "text/html": "<div>\n<style scoped>\n    .dataframe tbody tr th:only-of-type {\n        vertical-align: middle;\n    }\n\n    .dataframe tbody tr th {\n        vertical-align: top;\n    }\n\n    .dataframe thead th {\n        text-align: right;\n    }\n</style>\n<table border=\"1\" class=\"dataframe\">\n  <thead>\n    <tr style=\"text-align: right;\">\n      <th></th>\n      <th>referee</th>\n      <th>referral</th>\n      <th>contact</th>\n      <th>referee_age</th>\n      <th>referral_age</th>\n      <th>age_diff</th>\n      <th>referee_gender</th>\n      <th>referral_gender</th>\n      <th>gender_diff</th>\n      <th>referee_relatives</th>\n      <th>...</th>\n      <th>betweenness_centrality_diff</th>\n      <th>referee_pagerank_centrality</th>\n      <th>referral_pagerank_centrality</th>\n      <th>pagerank_centrality_diff</th>\n      <th>referee_component_size</th>\n      <th>referral_component_size</th>\n      <th>component_size_diff</th>\n      <th>referee_avg_path_len</th>\n      <th>referral_avg_path_len</th>\n      <th>avg_path_len_diff</th>\n    </tr>\n  </thead>\n  <tbody>\n    <tr>\n      <th>0</th>\n      <td>1.0</td>\n      <td>10.0</td>\n      <td>1.0</td>\n      <td>41.0</td>\n      <td>63.0</td>\n      <td>22.0</td>\n      <td>1.0</td>\n      <td>1.0</td>\n      <td>0.0</td>\n      <td>1.0</td>\n      <td>...</td>\n      <td>0.0</td>\n      <td>0.013495</td>\n      <td>0.013495</td>\n      <td>0.000000</td>\n      <td>2.0</td>\n      <td>2.0</td>\n      <td>0.0</td>\n      <td>0.500000</td>\n      <td>0.500000</td>\n      <td>0.00</td>\n    </tr>\n    <tr>\n      <th>1</th>\n      <td>16.0</td>\n      <td>15.0</td>\n      <td>1.0</td>\n      <td>68.0</td>\n      <td>71.0</td>\n      <td>3.0</td>\n      <td>0.0</td>\n      <td>1.0</td>\n      <td>1.0</td>\n      <td>1.0</td>\n      <td>...</td>\n      <td>0.0</td>\n      <td>0.013495</td>\n      <td>0.013495</td>\n      <td>0.000000</td>\n      <td>2.0</td>\n      <td>2.0</td>\n      <td>0.0</td>\n      <td>0.500000</td>\n      <td>0.500000</td>\n      <td>0.00</td>\n    </tr>\n    <tr>\n      <th>2</th>\n      <td>90.0</td>\n      <td>75.0</td>\n      <td>1.0</td>\n      <td>34.0</td>\n      <td>76.0</td>\n      <td>42.0</td>\n      <td>0.0</td>\n      <td>1.0</td>\n      <td>1.0</td>\n      <td>1.0</td>\n      <td>...</td>\n      <td>0.0</td>\n      <td>0.013495</td>\n      <td>0.013495</td>\n      <td>0.000000</td>\n      <td>2.0</td>\n      <td>2.0</td>\n      <td>0.0</td>\n      <td>0.500000</td>\n      <td>0.500000</td>\n      <td>0.00</td>\n    </tr>\n    <tr>\n      <th>3</th>\n      <td>86.0</td>\n      <td>85.0</td>\n      <td>1.0</td>\n      <td>79.0</td>\n      <td>67.0</td>\n      <td>12.0</td>\n      <td>0.0</td>\n      <td>0.0</td>\n      <td>0.0</td>\n      <td>0.0</td>\n      <td>...</td>\n      <td>0.0</td>\n      <td>0.013495</td>\n      <td>0.013495</td>\n      <td>0.000000</td>\n      <td>3.0</td>\n      <td>3.0</td>\n      <td>0.0</td>\n      <td>0.666667</td>\n      <td>0.666667</td>\n      <td>0.00</td>\n    </tr>\n    <tr>\n      <th>4</th>\n      <td>86.0</td>\n      <td>81.0</td>\n      <td>1.0</td>\n      <td>79.0</td>\n      <td>46.0</td>\n      <td>33.0</td>\n      <td>0.0</td>\n      <td>0.0</td>\n      <td>0.0</td>\n      <td>0.0</td>\n      <td>...</td>\n      <td>0.0</td>\n      <td>0.013495</td>\n      <td>0.013495</td>\n      <td>0.000000</td>\n      <td>3.0</td>\n      <td>3.0</td>\n      <td>0.0</td>\n      <td>0.666667</td>\n      <td>0.666667</td>\n      <td>0.00</td>\n    </tr>\n    <tr>\n      <th>...</th>\n      <td>...</td>\n      <td>...</td>\n      <td>...</td>\n      <td>...</td>\n      <td>...</td>\n      <td>...</td>\n      <td>...</td>\n      <td>...</td>\n      <td>...</td>\n      <td>...</td>\n      <td>...</td>\n      <td>...</td>\n      <td>...</td>\n      <td>...</td>\n      <td>...</td>\n      <td>...</td>\n      <td>...</td>\n      <td>...</td>\n      <td>...</td>\n      <td>...</td>\n      <td>...</td>\n    </tr>\n    <tr>\n      <th>14530</th>\n      <td>168.0</td>\n      <td>169.0</td>\n      <td>0.0</td>\n      <td>62.0</td>\n      <td>41.0</td>\n      <td>21.0</td>\n      <td>0.0</td>\n      <td>1.0</td>\n      <td>1.0</td>\n      <td>0.0</td>\n      <td>...</td>\n      <td>0.0</td>\n      <td>0.010376</td>\n      <td>0.002024</td>\n      <td>0.008352</td>\n      <td>3.0</td>\n      <td>1.0</td>\n      <td>2.0</td>\n      <td>1.000000</td>\n      <td>0.000000</td>\n      <td>1.00</td>\n    </tr>\n    <tr>\n      <th>14531</th>\n      <td>168.0</td>\n      <td>170.0</td>\n      <td>0.0</td>\n      <td>62.0</td>\n      <td>52.0</td>\n      <td>10.0</td>\n      <td>0.0</td>\n      <td>1.0</td>\n      <td>1.0</td>\n      <td>0.0</td>\n      <td>...</td>\n      <td>0.0</td>\n      <td>0.010376</td>\n      <td>0.013495</td>\n      <td>0.003119</td>\n      <td>3.0</td>\n      <td>4.0</td>\n      <td>1.0</td>\n      <td>1.000000</td>\n      <td>0.750000</td>\n      <td>0.25</td>\n    </tr>\n    <tr>\n      <th>14532</th>\n      <td>168.0</td>\n      <td>171.0</td>\n      <td>0.0</td>\n      <td>62.0</td>\n      <td>24.0</td>\n      <td>38.0</td>\n      <td>0.0</td>\n      <td>0.0</td>\n      <td>0.0</td>\n      <td>0.0</td>\n      <td>...</td>\n      <td>0.0</td>\n      <td>0.010376</td>\n      <td>0.013495</td>\n      <td>0.003119</td>\n      <td>3.0</td>\n      <td>4.0</td>\n      <td>1.0</td>\n      <td>1.000000</td>\n      <td>0.750000</td>\n      <td>0.25</td>\n    </tr>\n    <tr>\n      <th>14533</th>\n      <td>169.0</td>\n      <td>170.0</td>\n      <td>0.0</td>\n      <td>41.0</td>\n      <td>52.0</td>\n      <td>11.0</td>\n      <td>1.0</td>\n      <td>1.0</td>\n      <td>0.0</td>\n      <td>1.0</td>\n      <td>...</td>\n      <td>0.0</td>\n      <td>0.002024</td>\n      <td>0.013495</td>\n      <td>0.011471</td>\n      <td>1.0</td>\n      <td>4.0</td>\n      <td>3.0</td>\n      <td>0.000000</td>\n      <td>0.750000</td>\n      <td>0.75</td>\n    </tr>\n    <tr>\n      <th>14534</th>\n      <td>169.0</td>\n      <td>171.0</td>\n      <td>0.0</td>\n      <td>41.0</td>\n      <td>24.0</td>\n      <td>17.0</td>\n      <td>1.0</td>\n      <td>0.0</td>\n      <td>1.0</td>\n      <td>1.0</td>\n      <td>...</td>\n      <td>0.0</td>\n      <td>0.002024</td>\n      <td>0.013495</td>\n      <td>0.011471</td>\n      <td>1.0</td>\n      <td>4.0</td>\n      <td>3.0</td>\n      <td>0.000000</td>\n      <td>0.750000</td>\n      <td>0.75</td>\n    </tr>\n  </tbody>\n</table>\n<p>14535 rows × 27 columns</p>\n</div>"
     },
     "execution_count": 20,
     "metadata": {},
     "output_type": "execute_result"
    }
   ],
   "source": [
    "yunnan_data"
   ],
   "metadata": {
    "collapsed": false,
    "pycharm": {
     "name": "#%%\n"
    }
   }
  },
  {
   "cell_type": "code",
   "execution_count": 21,
   "outputs": [
    {
     "data": {
      "text/plain": "14535.0"
     },
     "execution_count": 21,
     "metadata": {},
     "output_type": "execute_result"
    }
   ],
   "source": [
    "(yunnan_nodelist.shape[0] * (yunnan_nodelist.shape[0] - 1)) / 2"
   ],
   "metadata": {
    "collapsed": false,
    "pycharm": {
     "name": "#%%\n"
    }
   }
  },
  {
   "cell_type": "code",
   "execution_count": 22,
   "outputs": [
    {
     "data": {
      "text/plain": "Index(['referee', 'referral', 'contact', 'referee_age', 'referral_age',\n       'age_diff', 'referee_gender', 'referral_gender', 'gender_diff',\n       'referee_relatives', 'referral_relatives', 'relatives_diff',\n       'referee_degree_centrality', 'referral_degree_centrality',\n       'degree_centrality_diff', 'referee_betweenness_centrality',\n       'referral_betweenness_centrality', 'betweenness_centrality_diff',\n       'referee_pagerank_centrality', 'referral_pagerank_centrality',\n       'pagerank_centrality_diff', 'referee_component_size',\n       'referral_component_size', 'component_size_diff',\n       'referee_avg_path_len', 'referral_avg_path_len', 'avg_path_len_diff'],\n      dtype='object')"
     },
     "execution_count": 22,
     "metadata": {},
     "output_type": "execute_result"
    }
   ],
   "source": [
    "yunnan_data.columns"
   ],
   "metadata": {
    "collapsed": false,
    "pycharm": {
     "name": "#%%\n"
    }
   }
  },
  {
   "cell_type": "code",
   "execution_count": 23,
   "outputs": [
    {
     "data": {
      "text/plain": "       referee  referral  contact  referee_age  referral_age  age_diff  \\\n0          1.0      10.0      1.0    -0.873428      0.969984  0.145853   \n1         16.0      15.0      1.0     0.190044      0.529141 -1.188026   \n2         90.0      75.0      1.0    -1.878515      1.027616  1.049256   \n3         86.0      85.0      1.0     0.607199      0.102742 -0.737626   \n4         86.0      81.0      1.0     0.956113     -0.803310  0.457684   \n...        ...       ...      ...          ...           ...       ...   \n14530    168.0     169.0      0.0     0.890219     -0.496457  0.096869   \n14531    168.0     170.0      0.0     0.619246      0.073207 -0.698094   \n14532    168.0     171.0      0.0     0.929007     -1.661259  1.288605   \n14533    169.0     170.0      0.0    -0.329918      0.801210 -0.479604   \n14534    169.0     171.0      0.0     0.932297     -0.801673  0.436007   \n\n       referee_gender  referral_gender  gender_diff  referee_relatives  ...  \\\n0                 1.0              1.0          0.0                1.0  ...   \n1                 0.0              1.0          1.0                1.0  ...   \n2                 0.0              1.0          1.0                1.0  ...   \n3                 0.0              0.0          0.0                0.0  ...   \n4                 0.0              0.0          0.0                0.0  ...   \n...               ...              ...          ...                ...  ...   \n14530             0.0              1.0          1.0                0.0  ...   \n14531             0.0              1.0          1.0                0.0  ...   \n14532             0.0              0.0          0.0                0.0  ...   \n14533             1.0              1.0          0.0                1.0  ...   \n14534             1.0              0.0          1.0                1.0  ...   \n\n       betweenness_centrality_diff  referee_pagerank_centrality  \\\n0                        -0.300416                     1.390802   \n1                        -0.300416                     0.922140   \n2                        -0.300416                     1.022439   \n3                        -0.300416                     0.817234   \n4                        -0.300416                     0.943106   \n...                            ...                          ...   \n14530                    -0.300416                     0.882087   \n14531                    -0.300416                     0.786322   \n14532                    -0.300416                     0.895795   \n14533                    -0.300416                    -0.509960   \n14534                    -0.300416                    -0.378353   \n\n       referral_pagerank_centrality  pagerank_centrality_diff  \\\n0                          0.543677                 -0.852743   \n1                          0.194138                 -0.852743   \n2                          0.268943                 -0.852743   \n3                          0.115896                 -0.852743   \n4                          0.209774                 -0.852743   \n...                             ...                       ...   \n14530                     -0.912789                  0.233808   \n14531                      0.473668                 -0.468558   \n14532                      0.579863                 -0.443794   \n14533                      0.825447                  0.861645   \n14534                      1.479813                  1.422760   \n\n       referee_component_size  referral_component_size  component_size_diff  \\\n0                    0.057621                -0.415697            -0.567127   \n1                   -0.139986                -0.487708            -0.567127   \n2                   -0.097695                -0.472297            -0.567127   \n3                    0.180352                -0.370971            -0.567127   \n4                    0.259961                -0.341961            -0.567127   \n...                       ...                      ...                  ...   \n14530                0.562521                -0.590260            -0.191780   \n14531                0.483743                -0.090701            -0.389471   \n14532                0.573797                -0.046944            -0.378019   \n14533               -0.348221                 0.054245             0.079642   \n14534               -0.163253                 0.323868             0.291328   \n\n       referee_avg_path_len  referral_avg_path_len  avg_path_len_diff  \n0                  1.007831               0.073212          -0.847309  \n1                  0.712674              -0.104450          -0.847309  \n2                  0.775841              -0.066429          -0.847309  \n3                  1.009634               0.074297          -0.847309  \n4                  1.115331               0.137919          -0.847309  \n...                     ...                    ...                ...  \n14530              2.496797              -0.799767           1.019560  \n14531              2.339908               0.456325          -0.405504  \n14532              2.519255               0.537290          -0.377026  \n14533             -0.442481               0.724527           0.761111  \n14534             -0.442481               1.223424           1.287543  \n\n[14535 rows x 27 columns]",
      "text/html": "<div>\n<style scoped>\n    .dataframe tbody tr th:only-of-type {\n        vertical-align: middle;\n    }\n\n    .dataframe tbody tr th {\n        vertical-align: top;\n    }\n\n    .dataframe thead th {\n        text-align: right;\n    }\n</style>\n<table border=\"1\" class=\"dataframe\">\n  <thead>\n    <tr style=\"text-align: right;\">\n      <th></th>\n      <th>referee</th>\n      <th>referral</th>\n      <th>contact</th>\n      <th>referee_age</th>\n      <th>referral_age</th>\n      <th>age_diff</th>\n      <th>referee_gender</th>\n      <th>referral_gender</th>\n      <th>gender_diff</th>\n      <th>referee_relatives</th>\n      <th>...</th>\n      <th>betweenness_centrality_diff</th>\n      <th>referee_pagerank_centrality</th>\n      <th>referral_pagerank_centrality</th>\n      <th>pagerank_centrality_diff</th>\n      <th>referee_component_size</th>\n      <th>referral_component_size</th>\n      <th>component_size_diff</th>\n      <th>referee_avg_path_len</th>\n      <th>referral_avg_path_len</th>\n      <th>avg_path_len_diff</th>\n    </tr>\n  </thead>\n  <tbody>\n    <tr>\n      <th>0</th>\n      <td>1.0</td>\n      <td>10.0</td>\n      <td>1.0</td>\n      <td>-0.873428</td>\n      <td>0.969984</td>\n      <td>0.145853</td>\n      <td>1.0</td>\n      <td>1.0</td>\n      <td>0.0</td>\n      <td>1.0</td>\n      <td>...</td>\n      <td>-0.300416</td>\n      <td>1.390802</td>\n      <td>0.543677</td>\n      <td>-0.852743</td>\n      <td>0.057621</td>\n      <td>-0.415697</td>\n      <td>-0.567127</td>\n      <td>1.007831</td>\n      <td>0.073212</td>\n      <td>-0.847309</td>\n    </tr>\n    <tr>\n      <th>1</th>\n      <td>16.0</td>\n      <td>15.0</td>\n      <td>1.0</td>\n      <td>0.190044</td>\n      <td>0.529141</td>\n      <td>-1.188026</td>\n      <td>0.0</td>\n      <td>1.0</td>\n      <td>1.0</td>\n      <td>1.0</td>\n      <td>...</td>\n      <td>-0.300416</td>\n      <td>0.922140</td>\n      <td>0.194138</td>\n      <td>-0.852743</td>\n      <td>-0.139986</td>\n      <td>-0.487708</td>\n      <td>-0.567127</td>\n      <td>0.712674</td>\n      <td>-0.104450</td>\n      <td>-0.847309</td>\n    </tr>\n    <tr>\n      <th>2</th>\n      <td>90.0</td>\n      <td>75.0</td>\n      <td>1.0</td>\n      <td>-1.878515</td>\n      <td>1.027616</td>\n      <td>1.049256</td>\n      <td>0.0</td>\n      <td>1.0</td>\n      <td>1.0</td>\n      <td>1.0</td>\n      <td>...</td>\n      <td>-0.300416</td>\n      <td>1.022439</td>\n      <td>0.268943</td>\n      <td>-0.852743</td>\n      <td>-0.097695</td>\n      <td>-0.472297</td>\n      <td>-0.567127</td>\n      <td>0.775841</td>\n      <td>-0.066429</td>\n      <td>-0.847309</td>\n    </tr>\n    <tr>\n      <th>3</th>\n      <td>86.0</td>\n      <td>85.0</td>\n      <td>1.0</td>\n      <td>0.607199</td>\n      <td>0.102742</td>\n      <td>-0.737626</td>\n      <td>0.0</td>\n      <td>0.0</td>\n      <td>0.0</td>\n      <td>0.0</td>\n      <td>...</td>\n      <td>-0.300416</td>\n      <td>0.817234</td>\n      <td>0.115896</td>\n      <td>-0.852743</td>\n      <td>0.180352</td>\n      <td>-0.370971</td>\n      <td>-0.567127</td>\n      <td>1.009634</td>\n      <td>0.074297</td>\n      <td>-0.847309</td>\n    </tr>\n    <tr>\n      <th>4</th>\n      <td>86.0</td>\n      <td>81.0</td>\n      <td>1.0</td>\n      <td>0.956113</td>\n      <td>-0.803310</td>\n      <td>0.457684</td>\n      <td>0.0</td>\n      <td>0.0</td>\n      <td>0.0</td>\n      <td>0.0</td>\n      <td>...</td>\n      <td>-0.300416</td>\n      <td>0.943106</td>\n      <td>0.209774</td>\n      <td>-0.852743</td>\n      <td>0.259961</td>\n      <td>-0.341961</td>\n      <td>-0.567127</td>\n      <td>1.115331</td>\n      <td>0.137919</td>\n      <td>-0.847309</td>\n    </tr>\n    <tr>\n      <th>...</th>\n      <td>...</td>\n      <td>...</td>\n      <td>...</td>\n      <td>...</td>\n      <td>...</td>\n      <td>...</td>\n      <td>...</td>\n      <td>...</td>\n      <td>...</td>\n      <td>...</td>\n      <td>...</td>\n      <td>...</td>\n      <td>...</td>\n      <td>...</td>\n      <td>...</td>\n      <td>...</td>\n      <td>...</td>\n      <td>...</td>\n      <td>...</td>\n      <td>...</td>\n      <td>...</td>\n    </tr>\n    <tr>\n      <th>14530</th>\n      <td>168.0</td>\n      <td>169.0</td>\n      <td>0.0</td>\n      <td>0.890219</td>\n      <td>-0.496457</td>\n      <td>0.096869</td>\n      <td>0.0</td>\n      <td>1.0</td>\n      <td>1.0</td>\n      <td>0.0</td>\n      <td>...</td>\n      <td>-0.300416</td>\n      <td>0.882087</td>\n      <td>-0.912789</td>\n      <td>0.233808</td>\n      <td>0.562521</td>\n      <td>-0.590260</td>\n      <td>-0.191780</td>\n      <td>2.496797</td>\n      <td>-0.799767</td>\n      <td>1.019560</td>\n    </tr>\n    <tr>\n      <th>14531</th>\n      <td>168.0</td>\n      <td>170.0</td>\n      <td>0.0</td>\n      <td>0.619246</td>\n      <td>0.073207</td>\n      <td>-0.698094</td>\n      <td>0.0</td>\n      <td>1.0</td>\n      <td>1.0</td>\n      <td>0.0</td>\n      <td>...</td>\n      <td>-0.300416</td>\n      <td>0.786322</td>\n      <td>0.473668</td>\n      <td>-0.468558</td>\n      <td>0.483743</td>\n      <td>-0.090701</td>\n      <td>-0.389471</td>\n      <td>2.339908</td>\n      <td>0.456325</td>\n      <td>-0.405504</td>\n    </tr>\n    <tr>\n      <th>14532</th>\n      <td>168.0</td>\n      <td>171.0</td>\n      <td>0.0</td>\n      <td>0.929007</td>\n      <td>-1.661259</td>\n      <td>1.288605</td>\n      <td>0.0</td>\n      <td>0.0</td>\n      <td>0.0</td>\n      <td>0.0</td>\n      <td>...</td>\n      <td>-0.300416</td>\n      <td>0.895795</td>\n      <td>0.579863</td>\n      <td>-0.443794</td>\n      <td>0.573797</td>\n      <td>-0.046944</td>\n      <td>-0.378019</td>\n      <td>2.519255</td>\n      <td>0.537290</td>\n      <td>-0.377026</td>\n    </tr>\n    <tr>\n      <th>14533</th>\n      <td>169.0</td>\n      <td>170.0</td>\n      <td>0.0</td>\n      <td>-0.329918</td>\n      <td>0.801210</td>\n      <td>-0.479604</td>\n      <td>1.0</td>\n      <td>1.0</td>\n      <td>0.0</td>\n      <td>1.0</td>\n      <td>...</td>\n      <td>-0.300416</td>\n      <td>-0.509960</td>\n      <td>0.825447</td>\n      <td>0.861645</td>\n      <td>-0.348221</td>\n      <td>0.054245</td>\n      <td>0.079642</td>\n      <td>-0.442481</td>\n      <td>0.724527</td>\n      <td>0.761111</td>\n    </tr>\n    <tr>\n      <th>14534</th>\n      <td>169.0</td>\n      <td>171.0</td>\n      <td>0.0</td>\n      <td>0.932297</td>\n      <td>-0.801673</td>\n      <td>0.436007</td>\n      <td>1.0</td>\n      <td>0.0</td>\n      <td>1.0</td>\n      <td>1.0</td>\n      <td>...</td>\n      <td>-0.300416</td>\n      <td>-0.378353</td>\n      <td>1.479813</td>\n      <td>1.422760</td>\n      <td>-0.163253</td>\n      <td>0.323868</td>\n      <td>0.291328</td>\n      <td>-0.442481</td>\n      <td>1.223424</td>\n      <td>1.287543</td>\n    </tr>\n  </tbody>\n</table>\n<p>14535 rows × 27 columns</p>\n</div>"
     },
     "execution_count": 23,
     "metadata": {},
     "output_type": "execute_result"
    }
   ],
   "source": [
    "yunnan_data[['referee_age', 'referral_age', 'age_diff', 'referee_degree_centrality', 'referral_degree_centrality',\n",
    "             'degree_centrality_diff', 'referee_betweenness_centrality',\n",
    "             'referral_betweenness_centrality', 'betweenness_centrality_diff',\n",
    "             'referee_pagerank_centrality', 'referral_pagerank_centrality',\n",
    "             'pagerank_centrality_diff', 'referee_component_size',\n",
    "             'referral_component_size', 'component_size_diff', 'referee_avg_path_len',\n",
    "             'referral_avg_path_len', 'avg_path_len_diff']] = normalize(yunnan_data[['referee_age', 'referral_age', 'age_diff', 'referee_degree_centrality', 'referral_degree_centrality',\n",
    "                                                                                         'degree_centrality_diff', 'referee_betweenness_centrality',\n",
    "                                                                                         'referral_betweenness_centrality', 'betweenness_centrality_diff',\n",
    "                                                                                         'referee_pagerank_centrality', 'referral_pagerank_centrality',\n",
    "                                                                                         'pagerank_centrality_diff', 'referee_component_size',\n",
    "                                                                                         'referral_component_size', 'component_size_diff', 'referee_avg_path_len',\n",
    "                                                                                     'referral_avg_path_len', 'avg_path_len_diff']])\n",
    "\n",
    "yunnan_data[['referee_age', 'referral_age', 'age_diff', 'referee_degree_centrality', 'referral_degree_centrality',\n",
    "             'degree_centrality_diff', 'referee_betweenness_centrality',\n",
    "             'referral_betweenness_centrality', 'betweenness_centrality_diff',\n",
    "             'referee_pagerank_centrality', 'referral_pagerank_centrality',\n",
    "             'pagerank_centrality_diff', 'referee_component_size',\n",
    "             'referral_component_size', 'component_size_diff', 'referee_avg_path_len',\n",
    "             'referral_avg_path_len', 'avg_path_len_diff']] = scale(yunnan_data[['referee_age', 'referral_age', 'age_diff', 'referee_degree_centrality', 'referral_degree_centrality',\n",
    "                                                                                     'degree_centrality_diff', 'referee_betweenness_centrality',\n",
    "                                                                                     'referral_betweenness_centrality', 'betweenness_centrality_diff',\n",
    "                                                                                     'referee_pagerank_centrality', 'referral_pagerank_centrality',\n",
    "                                                                                     'pagerank_centrality_diff', 'referee_component_size',\n",
    "                                                                                     'referral_component_size', 'component_size_diff', 'referee_avg_path_len',\n",
    "                                                                                 'referral_avg_path_len', 'avg_path_len_diff']])\n",
    "yunnan_data"
   ],
   "metadata": {
    "collapsed": false,
    "pycharm": {
     "name": "#%%\n"
    }
   }
  },
  {
   "cell_type": "code",
   "execution_count": 24,
   "outputs": [
    {
     "data": {
      "text/plain": "array([-0.01826755,  0.01610531, -0.02117468, -0.00252344,  0.02569006,\n        0.00605719, -0.04726125, -0.03999255, -0.0672912 ,  0.46673806,\n        0.1548551 , -0.01554568,  0.06450678,  0.17198082,  0.11798308,\n        0.16829081,  0.11251789, -0.04322958,  0.47163359,  0.13479964,\n       -0.04814475,  0.28100767,  0.10123703, -0.04805675])"
     },
     "execution_count": 24,
     "metadata": {},
     "output_type": "execute_result"
    }
   ],
   "source": [
    "r_regression(yunnan_data[yunnan_data.columns[3:]], yunnan_data['contact'])"
   ],
   "metadata": {
    "collapsed": false,
    "pycharm": {
     "name": "#%%\n"
    }
   }
  },
  {
   "cell_type": "code",
   "execution_count": 25,
   "outputs": [
    {
     "data": {
      "text/plain": "(array([4.85133281e+00, 3.77056382e+00, 6.51903933e+00, 9.25428475e-02,\n        9.59781321e+00, 5.33228651e-01, 3.25339467e+01, 2.32813797e+01,\n        6.61063017e+01, 4.04770226e+03, 3.57065300e+02, 3.51301063e+00,\n        6.07263142e+01, 4.42949672e+02, 2.05155243e+02, 4.23597741e+02,\n        1.86351026e+02, 2.72100649e+01, 4.15747674e+03, 2.68965693e+02,\n        3.37645515e+01, 1.24599305e+03, 1.50490144e+02, 3.36409410e+01]),\n array([2.76404206e-002, 5.21813466e-002, 1.06826858e-002, 7.60973360e-001,\n        1.95180697e-003, 4.65264392e-001, 1.19409382e-008, 1.41369216e-006,\n        4.61538236e-016, 0.00000000e+000, 1.07412804e-078, 6.09087593e-002,\n        7.00154290e-015, 6.85002169e-097, 3.23190079e-046, 8.42620173e-093,\n        3.62128937e-042, 1.85012998e-007, 0.00000000e+000, 6.57946137e-060,\n        6.35047644e-009, 6.06961466e-262, 2.00489660e-034, 6.76610928e-009]))"
     },
     "execution_count": 25,
     "metadata": {},
     "output_type": "execute_result"
    }
   ],
   "source": [
    "f_regression(yunnan_data[yunnan_data.columns[3:]], yunnan_data['contact'])"
   ],
   "metadata": {
    "collapsed": false,
    "pycharm": {
     "name": "#%%\n"
    }
   }
  },
  {
   "cell_type": "code",
   "execution_count": 26,
   "outputs": [
    {
     "name": "stdout",
     "output_type": "stream",
     "text": [
      "                                 OLS Regression Results                                \n",
      "=======================================================================================\n",
      "Dep. Variable:                contact   R-squared (uncentered):                   0.591\n",
      "Model:                            OLS   Adj. R-squared (uncentered):              0.591\n",
      "Method:                 Least Squares   F-statistic:                              875.4\n",
      "Date:                Fri, 30 Jun 2023   Prob (F-statistic):                        0.00\n",
      "Time:                        13:04:54   Log-Likelihood:                          21782.\n",
      "No. Observations:               14535   AIC:                                 -4.352e+04\n",
      "Df Residuals:                   14511   BIC:                                 -4.333e+04\n",
      "Df Model:                          24                                                  \n",
      "Covariance Type:            nonrobust                                                  \n",
      "===================================================================================================\n",
      "                                      coef    std err          t      P>|t|      [0.025      0.975]\n",
      "---------------------------------------------------------------------------------------------------\n",
      "referee_age                        -0.0015      0.001     -1.096      0.273      -0.004       0.001\n",
      "referral_age                       -0.0005      0.002     -0.292      0.770      -0.004       0.003\n",
      "age_diff                           -0.0013      0.001     -1.035      0.301      -0.004       0.001\n",
      "referee_gender                      0.0036      0.001      4.304      0.000       0.002       0.005\n",
      "referral_gender                     0.0013      0.001      1.467      0.142      -0.000       0.003\n",
      "gender_diff                         0.0033      0.001      3.952      0.000       0.002       0.005\n",
      "referee_relatives                   0.0036      0.001      4.134      0.000       0.002       0.005\n",
      "referral_relatives                  0.0011      0.001      1.226      0.220      -0.001       0.003\n",
      "relatives_diff                     -0.0012      0.001     -1.457      0.145      -0.003       0.000\n",
      "referee_degree_centrality           0.0874      0.002     37.002      0.000       0.083       0.092\n",
      "referral_degree_centrality          0.0901      0.006     14.157      0.000       0.078       0.103\n",
      "degree_centrality_diff             -0.0880      0.005    -16.376      0.000      -0.099      -0.077\n",
      "referee_betweenness_centrality     -0.0103      0.001     -8.399      0.000      -0.013      -0.008\n",
      "referral_betweenness_centrality    -0.0114      0.002     -4.669      0.000      -0.016      -0.007\n",
      "betweenness_centrality_diff         0.0182      0.003      6.913      0.000       0.013       0.023\n",
      "referee_pagerank_centrality        -0.0182      0.001    -12.612      0.000      -0.021      -0.015\n",
      "referral_pagerank_centrality        0.0172      0.002      8.307      0.000       0.013       0.021\n",
      "pagerank_centrality_diff           -0.0193      0.002    -10.641      0.000      -0.023      -0.016\n",
      "referee_component_size             -0.0350      0.003    -12.665      0.000      -0.040      -0.030\n",
      "referral_component_size             0.1101      0.007     16.219      0.000       0.097       0.123\n",
      "component_size_diff                -0.1140      0.005    -20.835      0.000      -0.125      -0.103\n",
      "referee_avg_path_len                0.0023      0.002      1.215      0.224      -0.001       0.006\n",
      "referral_avg_path_len              -0.0665      0.003    -21.114      0.000      -0.073      -0.060\n",
      "avg_path_len_diff                   0.0702      0.003     26.412      0.000       0.065       0.075\n",
      "==============================================================================\n",
      "Omnibus:                    25588.069   Durbin-Watson:                   0.425\n",
      "Prob(Omnibus):                  0.000   Jarque-Bera (JB):         32636951.863\n",
      "Skew:                          12.572   Prob(JB):                         0.00\n",
      "Kurtosis:                     233.776   Cond. No.                         69.7\n",
      "==============================================================================\n",
      "\n",
      "Notes:\n",
      "[1] R² is computed without centering (uncentered) since the model does not contain a constant.\n",
      "[2] Standard Errors assume that the covariance matrix of the errors is correctly specified.\n"
     ]
    }
   ],
   "source": [
    "print(sm.OLS(yunnan_data['contact'], yunnan_data[yunnan_data.columns[3:]]).fit().summary())"
   ],
   "metadata": {
    "collapsed": false,
    "pycharm": {
     "name": "#%%\n"
    }
   }
  },
  {
   "cell_type": "markdown",
   "source": [
    "# Hainan"
   ],
   "metadata": {
    "collapsed": false,
    "pycharm": {
     "name": "#%% md\n"
    }
   }
  },
  {
   "cell_type": "code",
   "execution_count": 27,
   "outputs": [],
   "source": [
    "hainan_edgelist = pd.read_csv('../Data/Preprocessed/hainan_edgelist.csv')\n",
    "hainan_nodelist = pd.read_csv('../Data/Preprocessed/hainan_nodelist.csv')\n",
    "hainan_network = pd.read_csv('../Data/Tables/basic/hainan_basic_analysis.csv')"
   ],
   "metadata": {
    "collapsed": false,
    "pycharm": {
     "name": "#%%\n"
    }
   }
  },
  {
   "cell_type": "code",
   "execution_count": 28,
   "outputs": [
    {
     "data": {
      "text/plain": "(array([1., 0.]), array([0., 1.]))"
     },
     "execution_count": 28,
     "metadata": {},
     "output_type": "execute_result"
    }
   ],
   "source": [
    "hainan_nodelist['gender'].unique(), hainan_nodelist['relatives'].unique()"
   ],
   "metadata": {
    "collapsed": false,
    "pycharm": {
     "name": "#%%\n"
    }
   }
  },
  {
   "cell_type": "markdown",
   "source": [
    "Don't need to fill nans"
   ],
   "metadata": {
    "collapsed": false,
    "pycharm": {
     "name": "#%% md\n"
    }
   }
  },
  {
   "cell_type": "code",
   "execution_count": 29,
   "outputs": [],
   "source": [
    "hainan_data = pd.DataFrame(columns=['referee', 'referral', 'contact', 'referee_age', 'referral_age', 'age_diff', 'referee_gender', 'referral_gender', 'gender_diff', 'referee_relatives', 'referral_relatives', 'relatives_diff',\n",
    "                                    'referee_degree_centrality', 'referral_degree_centrality', 'degree_centrality_diff', 'referee_betweenness_centrality', 'referral_betweenness_centrality', 'betweenness_centrality_diff',\n",
    "                                    'referee_pagerank_centrality', 'referral_pagerank_centrality', 'pagerank_centrality_diff', 'referee_component_size', 'referral_component_size', 'component_size_diff',\n",
    "                                    'referee_avg_path_len', 'referral_avg_path_len', 'avg_path_len_diff'])"
   ],
   "metadata": {
    "collapsed": false,
    "pycharm": {
     "name": "#%%\n"
    }
   }
  },
  {
   "cell_type": "code",
   "execution_count": 30,
   "outputs": [],
   "source": [
    "added_combinations = set()\n",
    "for index, row in hainan_edgelist[~hainan_edgelist['Referral'].isna()].iterrows():\n",
    "    referee_id = row['Referee']\n",
    "    referral_id = row['Referral']\n",
    "    referee = hainan_nodelist.query('node_id == @referee_id')\n",
    "    referral = hainan_nodelist.query('node_id == @referral_id')\n",
    "    referee_network_stats = hainan_network.query('Referee == @referee_id')\n",
    "    referral_network_stats = hainan_network.query('Referee == @referral_id')\n",
    "\n",
    "    referee_age = referee['age'].iloc[0]\n",
    "    referral_age = referral['age'].iloc[0]\n",
    "    referee_gender = referee['gender'].iloc[0]\n",
    "    referral_gender = referral['gender'].iloc[0]\n",
    "    referee_relatives = referee['relatives'].iloc[0]\n",
    "    referral_relatives = referral['relatives'].iloc[0]\n",
    "\n",
    "    referee_degree_centrality = referee_network_stats['Degree_Centrality'].iloc[0]\n",
    "    referral_degree_centrality = referral_network_stats['Degree_Centrality'].iloc[0]\n",
    "    referee_betweenness_centrality = referee_network_stats['Betweenness_Centrality'].iloc[0]\n",
    "    referral_betweenness_centrality = referral_network_stats['Betweenness_Centrality'].iloc[0]\n",
    "    referee_pagerank_centrality = referee_network_stats['Pagerank_Centrality'].iloc[0]\n",
    "    referral_pagerank_centrality = referral_network_stats['Pagerank_Centrality'].iloc[0]\n",
    "    referee_component_size = referee_network_stats['Component_Size'].iloc[0]\n",
    "    referral_component_size = referral_network_stats['Component_Size'].iloc[0]\n",
    "    referee_avg_path_len = referee_network_stats['Avg_Shortest_Path_Length'].iloc[0]\n",
    "    referral_avg_path_len = referral_network_stats['Avg_Shortest_Path_Length'].iloc[0]\n",
    "\n",
    "    new_row = pd.Series({'referee': referee_id, 'referral': referral_id, 'contact': 1, 'referee_age': referee_age, 'referral_age': referral_age, 'age_diff': abs(referee_age - referral_age),\n",
    "                         'referee_gender': referee_gender, 'referral_gender': referral_gender, 'gender_diff': abs(referee_gender - referral_gender),\n",
    "                         'referee_relatives': referee_relatives, 'referral_relatives': referral_relatives, 'relatives_diff': abs(referee_relatives - referral_relatives),\n",
    "                         'referee_degree_centrality': referee_degree_centrality, 'referral_degree_centrality': referral_degree_centrality, 'degree_centrality_diff': abs(referee_degree_centrality - referral_degree_centrality),\n",
    "                         'referee_betweenness_centrality': referee_betweenness_centrality, 'referral_betweenness_centrality': referral_betweenness_centrality, 'betweenness_centrality_diff': abs(referee_betweenness_centrality - referral_betweenness_centrality),\n",
    "                         'referee_pagerank_centrality': referee_pagerank_centrality, 'referral_pagerank_centrality': referral_pagerank_centrality, 'pagerank_centrality_diff': abs(referee_pagerank_centrality - referral_pagerank_centrality),\n",
    "                         'referee_component_size': referee_component_size, 'referral_component_size': referral_component_size, 'component_size_diff': abs(referee_component_size - referral_component_size),\n",
    "                         'referee_avg_path_len': referee_avg_path_len, 'referral_avg_path_len': referral_avg_path_len, 'avg_path_len_diff': abs(referee_avg_path_len - referral_avg_path_len)})\n",
    "    hainan_data = pd.concat([hainan_data, new_row.to_frame().T], axis='index', ignore_index=True)\n",
    "\n",
    "    added_combinations.add((referee_id, referral_id))\n",
    "    added_combinations.add((referral_id, referee_id))"
   ],
   "metadata": {
    "collapsed": false,
    "pycharm": {
     "name": "#%%\n"
    }
   }
  },
  {
   "cell_type": "code",
   "execution_count": 31,
   "outputs": [],
   "source": [
    "for ref_a in hainan_nodelist['node_id']:\n",
    "    for ref_b in hainan_nodelist['node_id']:\n",
    "        if ref_a == ref_b:\n",
    "            continue\n",
    "        if (ref_a, ref_b) in added_combinations:\n",
    "            continue\n",
    "        if (ref_b, ref_a) in added_combinations:\n",
    "            continue\n",
    "\n",
    "        referee = hainan_nodelist.query('node_id == @ref_a')\n",
    "        referral = hainan_nodelist.query('node_id == @ref_b')\n",
    "        referee_network_stats = hainan_network.query('Referee == @ref_a')\n",
    "        referral_network_stats = hainan_network.query('Referee == @ref_b')\n",
    "\n",
    "        referee_age = referee['age'].iloc[0]\n",
    "        referral_age = referral['age'].iloc[0]\n",
    "        referee_gender = referee['gender'].iloc[0]\n",
    "        referral_gender = referral['gender'].iloc[0]\n",
    "        referee_relatives = referee['relatives'].iloc[0]\n",
    "        referral_relatives = referral['relatives'].iloc[0]\n",
    "\n",
    "        referee_degree_centrality = referee_network_stats['Degree_Centrality'].iloc[0]\n",
    "        referral_degree_centrality = referral_network_stats['Degree_Centrality'].iloc[0]\n",
    "        referee_betweenness_centrality = referee_network_stats['Betweenness_Centrality'].iloc[0]\n",
    "        referral_betweenness_centrality = referral_network_stats['Betweenness_Centrality'].iloc[0]\n",
    "        referee_pagerank_centrality = referee_network_stats['Pagerank_Centrality'].iloc[0]\n",
    "        referral_pagerank_centrality = referral_network_stats['Pagerank_Centrality'].iloc[0]\n",
    "        referee_component_size = referee_network_stats['Component_Size'].iloc[0]\n",
    "        referral_component_size = referral_network_stats['Component_Size'].iloc[0]\n",
    "        referee_avg_path_len = referee_network_stats['Avg_Shortest_Path_Length'].iloc[0]\n",
    "        referral_avg_path_len = referral_network_stats['Avg_Shortest_Path_Length'].iloc[0]\n",
    "\n",
    "        new_row = pd.Series({'referee': ref_a, 'referral': ref_b, 'contact': 0, 'referee_age': referee_age, 'referral_age': referral_age, 'age_diff': abs(referee_age - referral_age),\n",
    "                             'referee_gender': referee_gender, 'referral_gender': referral_gender, 'gender_diff': abs(referee_gender - referral_gender),\n",
    "                             'referee_relatives': referee_relatives, 'referral_relatives': referral_relatives, 'relatives_diff': abs(referee_relatives - referral_relatives),\n",
    "                             'referee_degree_centrality': referee_degree_centrality, 'referral_degree_centrality': referral_degree_centrality, 'degree_centrality_diff': abs(referee_degree_centrality - referral_degree_centrality),\n",
    "                             'referee_betweenness_centrality': referee_betweenness_centrality, 'referral_betweenness_centrality': referral_betweenness_centrality, 'betweenness_centrality_diff': abs(referee_betweenness_centrality - referral_betweenness_centrality),\n",
    "                             'referee_pagerank_centrality': referee_pagerank_centrality, 'referral_pagerank_centrality': referral_pagerank_centrality, 'pagerank_centrality_diff': abs(referee_pagerank_centrality - referral_pagerank_centrality),\n",
    "                             'referee_component_size': referee_component_size, 'referral_component_size': referral_component_size, 'component_size_diff': abs(referee_component_size - referral_component_size),\n",
    "                             'referee_avg_path_len': referee_avg_path_len, 'referral_avg_path_len': referral_avg_path_len, 'avg_path_len_diff': abs(referee_avg_path_len - referral_avg_path_len)})\n",
    "        hainan_data = pd.concat([hainan_data, new_row.to_frame().T], axis='index', ignore_index=True)\n",
    "\n",
    "        added_combinations.add((ref_a, ref_b))\n",
    "        added_combinations.add((ref_b, ref_a))"
   ],
   "metadata": {
    "collapsed": false,
    "pycharm": {
     "name": "#%%\n"
    }
   }
  },
  {
   "cell_type": "code",
   "execution_count": 32,
   "outputs": [
    {
     "data": {
      "text/plain": "       referee  referral  contact  referee_age  referral_age  age_diff  \\\n0          5.0       3.0      1.0         27.0          27.0       0.0   \n1         15.0       7.0      1.0         54.0          53.0       1.0   \n2         14.0      13.0      1.0         44.0          47.0       3.0   \n3         36.0      35.0      1.0         17.0           8.0       9.0   \n4         43.0      42.0      1.0         69.0          68.0       1.0   \n...        ...       ...      ...          ...           ...       ...   \n13036    158.0     159.0      0.0         62.0          27.0      35.0   \n13037    158.0     162.0      0.0         62.0          73.0      11.0   \n13038    160.0     159.0      0.0         25.0          27.0       2.0   \n13039    160.0     162.0      0.0         25.0          73.0      48.0   \n13040    159.0     162.0      0.0         27.0          73.0      46.0   \n\n       referee_gender  referral_gender  gender_diff  referee_relatives  ...  \\\n0                 0.0              1.0          1.0                0.0  ...   \n1                 0.0              1.0          1.0                1.0  ...   \n2                 0.0              1.0          1.0                1.0  ...   \n3                 0.0              1.0          1.0                1.0  ...   \n4                 0.0              1.0          1.0                1.0  ...   \n...               ...              ...          ...                ...  ...   \n13036             1.0              0.0          1.0                1.0  ...   \n13037             1.0              1.0          0.0                1.0  ...   \n13038             0.0              0.0          0.0                1.0  ...   \n13039             0.0              1.0          1.0                1.0  ...   \n13040             0.0              1.0          1.0                1.0  ...   \n\n       betweenness_centrality_diff  referee_pagerank_centrality  \\\n0                              0.0                     0.009838   \n1                              0.0                     0.009838   \n2                              0.0                     0.008852   \n3                              0.0                     0.009838   \n4                              0.0                     0.009838   \n...                            ...                          ...   \n13036                          0.0                     0.009838   \n13037                          0.0                     0.009838   \n13038                          0.0                     0.009838   \n13039                          0.0                     0.009838   \n13040                          0.0                     0.009838   \n\n       referral_pagerank_centrality  pagerank_centrality_diff  \\\n0                          0.009838                  0.000000   \n1                          0.009838                  0.000000   \n2                          0.008852                  0.000000   \n3                          0.009838                  0.000000   \n4                          0.009838                  0.000000   \n...                             ...                       ...   \n13036                      0.009838                  0.000000   \n13037                      0.001476                  0.008362   \n13038                      0.009838                  0.000000   \n13039                      0.001476                  0.008362   \n13040                      0.001476                  0.008362   \n\n       referee_component_size  referral_component_size  component_size_diff  \\\n0                         2.0                      2.0                  0.0   \n1                         2.0                      2.0                  0.0   \n2                         6.0                      6.0                  0.0   \n3                         2.0                      2.0                  0.0   \n4                         2.0                      2.0                  0.0   \n...                       ...                      ...                  ...   \n13036                     7.0                      4.0                  3.0   \n13037                     7.0                      1.0                  6.0   \n13038                     7.0                      4.0                  3.0   \n13039                     7.0                      1.0                  6.0   \n13040                     4.0                      1.0                  3.0   \n\n       referee_avg_path_len  referral_avg_path_len  avg_path_len_diff  \n0                  0.500000               0.500000           0.000000  \n1                  0.500000               0.500000           0.000000  \n2                  1.166667               1.166667           0.000000  \n3                  0.500000               0.500000           0.000000  \n4                  0.500000               0.500000           0.000000  \n...                     ...                    ...                ...  \n13036              0.857143               0.750000           0.107143  \n13037              0.857143               0.000000           0.857143  \n13038              0.857143               0.750000           0.107143  \n13039              0.857143               0.000000           0.857143  \n13040              0.750000               0.000000           0.750000  \n\n[13041 rows x 27 columns]",
      "text/html": "<div>\n<style scoped>\n    .dataframe tbody tr th:only-of-type {\n        vertical-align: middle;\n    }\n\n    .dataframe tbody tr th {\n        vertical-align: top;\n    }\n\n    .dataframe thead th {\n        text-align: right;\n    }\n</style>\n<table border=\"1\" class=\"dataframe\">\n  <thead>\n    <tr style=\"text-align: right;\">\n      <th></th>\n      <th>referee</th>\n      <th>referral</th>\n      <th>contact</th>\n      <th>referee_age</th>\n      <th>referral_age</th>\n      <th>age_diff</th>\n      <th>referee_gender</th>\n      <th>referral_gender</th>\n      <th>gender_diff</th>\n      <th>referee_relatives</th>\n      <th>...</th>\n      <th>betweenness_centrality_diff</th>\n      <th>referee_pagerank_centrality</th>\n      <th>referral_pagerank_centrality</th>\n      <th>pagerank_centrality_diff</th>\n      <th>referee_component_size</th>\n      <th>referral_component_size</th>\n      <th>component_size_diff</th>\n      <th>referee_avg_path_len</th>\n      <th>referral_avg_path_len</th>\n      <th>avg_path_len_diff</th>\n    </tr>\n  </thead>\n  <tbody>\n    <tr>\n      <th>0</th>\n      <td>5.0</td>\n      <td>3.0</td>\n      <td>1.0</td>\n      <td>27.0</td>\n      <td>27.0</td>\n      <td>0.0</td>\n      <td>0.0</td>\n      <td>1.0</td>\n      <td>1.0</td>\n      <td>0.0</td>\n      <td>...</td>\n      <td>0.0</td>\n      <td>0.009838</td>\n      <td>0.009838</td>\n      <td>0.000000</td>\n      <td>2.0</td>\n      <td>2.0</td>\n      <td>0.0</td>\n      <td>0.500000</td>\n      <td>0.500000</td>\n      <td>0.000000</td>\n    </tr>\n    <tr>\n      <th>1</th>\n      <td>15.0</td>\n      <td>7.0</td>\n      <td>1.0</td>\n      <td>54.0</td>\n      <td>53.0</td>\n      <td>1.0</td>\n      <td>0.0</td>\n      <td>1.0</td>\n      <td>1.0</td>\n      <td>1.0</td>\n      <td>...</td>\n      <td>0.0</td>\n      <td>0.009838</td>\n      <td>0.009838</td>\n      <td>0.000000</td>\n      <td>2.0</td>\n      <td>2.0</td>\n      <td>0.0</td>\n      <td>0.500000</td>\n      <td>0.500000</td>\n      <td>0.000000</td>\n    </tr>\n    <tr>\n      <th>2</th>\n      <td>14.0</td>\n      <td>13.0</td>\n      <td>1.0</td>\n      <td>44.0</td>\n      <td>47.0</td>\n      <td>3.0</td>\n      <td>0.0</td>\n      <td>1.0</td>\n      <td>1.0</td>\n      <td>1.0</td>\n      <td>...</td>\n      <td>0.0</td>\n      <td>0.008852</td>\n      <td>0.008852</td>\n      <td>0.000000</td>\n      <td>6.0</td>\n      <td>6.0</td>\n      <td>0.0</td>\n      <td>1.166667</td>\n      <td>1.166667</td>\n      <td>0.000000</td>\n    </tr>\n    <tr>\n      <th>3</th>\n      <td>36.0</td>\n      <td>35.0</td>\n      <td>1.0</td>\n      <td>17.0</td>\n      <td>8.0</td>\n      <td>9.0</td>\n      <td>0.0</td>\n      <td>1.0</td>\n      <td>1.0</td>\n      <td>1.0</td>\n      <td>...</td>\n      <td>0.0</td>\n      <td>0.009838</td>\n      <td>0.009838</td>\n      <td>0.000000</td>\n      <td>2.0</td>\n      <td>2.0</td>\n      <td>0.0</td>\n      <td>0.500000</td>\n      <td>0.500000</td>\n      <td>0.000000</td>\n    </tr>\n    <tr>\n      <th>4</th>\n      <td>43.0</td>\n      <td>42.0</td>\n      <td>1.0</td>\n      <td>69.0</td>\n      <td>68.0</td>\n      <td>1.0</td>\n      <td>0.0</td>\n      <td>1.0</td>\n      <td>1.0</td>\n      <td>1.0</td>\n      <td>...</td>\n      <td>0.0</td>\n      <td>0.009838</td>\n      <td>0.009838</td>\n      <td>0.000000</td>\n      <td>2.0</td>\n      <td>2.0</td>\n      <td>0.0</td>\n      <td>0.500000</td>\n      <td>0.500000</td>\n      <td>0.000000</td>\n    </tr>\n    <tr>\n      <th>...</th>\n      <td>...</td>\n      <td>...</td>\n      <td>...</td>\n      <td>...</td>\n      <td>...</td>\n      <td>...</td>\n      <td>...</td>\n      <td>...</td>\n      <td>...</td>\n      <td>...</td>\n      <td>...</td>\n      <td>...</td>\n      <td>...</td>\n      <td>...</td>\n      <td>...</td>\n      <td>...</td>\n      <td>...</td>\n      <td>...</td>\n      <td>...</td>\n      <td>...</td>\n      <td>...</td>\n    </tr>\n    <tr>\n      <th>13036</th>\n      <td>158.0</td>\n      <td>159.0</td>\n      <td>0.0</td>\n      <td>62.0</td>\n      <td>27.0</td>\n      <td>35.0</td>\n      <td>1.0</td>\n      <td>0.0</td>\n      <td>1.0</td>\n      <td>1.0</td>\n      <td>...</td>\n      <td>0.0</td>\n      <td>0.009838</td>\n      <td>0.009838</td>\n      <td>0.000000</td>\n      <td>7.0</td>\n      <td>4.0</td>\n      <td>3.0</td>\n      <td>0.857143</td>\n      <td>0.750000</td>\n      <td>0.107143</td>\n    </tr>\n    <tr>\n      <th>13037</th>\n      <td>158.0</td>\n      <td>162.0</td>\n      <td>0.0</td>\n      <td>62.0</td>\n      <td>73.0</td>\n      <td>11.0</td>\n      <td>1.0</td>\n      <td>1.0</td>\n      <td>0.0</td>\n      <td>1.0</td>\n      <td>...</td>\n      <td>0.0</td>\n      <td>0.009838</td>\n      <td>0.001476</td>\n      <td>0.008362</td>\n      <td>7.0</td>\n      <td>1.0</td>\n      <td>6.0</td>\n      <td>0.857143</td>\n      <td>0.000000</td>\n      <td>0.857143</td>\n    </tr>\n    <tr>\n      <th>13038</th>\n      <td>160.0</td>\n      <td>159.0</td>\n      <td>0.0</td>\n      <td>25.0</td>\n      <td>27.0</td>\n      <td>2.0</td>\n      <td>0.0</td>\n      <td>0.0</td>\n      <td>0.0</td>\n      <td>1.0</td>\n      <td>...</td>\n      <td>0.0</td>\n      <td>0.009838</td>\n      <td>0.009838</td>\n      <td>0.000000</td>\n      <td>7.0</td>\n      <td>4.0</td>\n      <td>3.0</td>\n      <td>0.857143</td>\n      <td>0.750000</td>\n      <td>0.107143</td>\n    </tr>\n    <tr>\n      <th>13039</th>\n      <td>160.0</td>\n      <td>162.0</td>\n      <td>0.0</td>\n      <td>25.0</td>\n      <td>73.0</td>\n      <td>48.0</td>\n      <td>0.0</td>\n      <td>1.0</td>\n      <td>1.0</td>\n      <td>1.0</td>\n      <td>...</td>\n      <td>0.0</td>\n      <td>0.009838</td>\n      <td>0.001476</td>\n      <td>0.008362</td>\n      <td>7.0</td>\n      <td>1.0</td>\n      <td>6.0</td>\n      <td>0.857143</td>\n      <td>0.000000</td>\n      <td>0.857143</td>\n    </tr>\n    <tr>\n      <th>13040</th>\n      <td>159.0</td>\n      <td>162.0</td>\n      <td>0.0</td>\n      <td>27.0</td>\n      <td>73.0</td>\n      <td>46.0</td>\n      <td>0.0</td>\n      <td>1.0</td>\n      <td>1.0</td>\n      <td>1.0</td>\n      <td>...</td>\n      <td>0.0</td>\n      <td>0.009838</td>\n      <td>0.001476</td>\n      <td>0.008362</td>\n      <td>4.0</td>\n      <td>1.0</td>\n      <td>3.0</td>\n      <td>0.750000</td>\n      <td>0.000000</td>\n      <td>0.750000</td>\n    </tr>\n  </tbody>\n</table>\n<p>13041 rows × 27 columns</p>\n</div>"
     },
     "execution_count": 32,
     "metadata": {},
     "output_type": "execute_result"
    }
   ],
   "source": [
    "hainan_data"
   ],
   "metadata": {
    "collapsed": false,
    "pycharm": {
     "name": "#%%\n"
    }
   }
  },
  {
   "cell_type": "code",
   "execution_count": 33,
   "outputs": [
    {
     "data": {
      "text/plain": "13041.0"
     },
     "execution_count": 33,
     "metadata": {},
     "output_type": "execute_result"
    }
   ],
   "source": [
    "(hainan_nodelist.shape[0] * (hainan_nodelist.shape[0] - 1)) / 2"
   ],
   "metadata": {
    "collapsed": false,
    "pycharm": {
     "name": "#%%\n"
    }
   }
  },
  {
   "cell_type": "code",
   "execution_count": 34,
   "outputs": [
    {
     "data": {
      "text/plain": "       referee  referral  contact  referee_age  referral_age  age_diff  \\\n0          5.0       3.0      1.0     0.344824      0.360335 -1.398943   \n1         15.0       7.0      1.0     0.388989      0.331585 -1.328331   \n2         14.0      13.0      1.0     0.188618      0.458837 -1.152257   \n3         36.0      35.0      1.0     0.911283     -1.446505  0.888826   \n4         43.0      42.0      1.0     0.382375      0.340957 -1.343774   \n...        ...       ...      ...          ...           ...       ...   \n13036    158.0     159.0      0.0     0.915969     -1.602282  1.043098   \n13037    158.0     162.0      0.0    -0.012001      0.630882 -0.791670   \n13038    160.0     159.0      0.0     0.099158      0.405492 -1.116464   \n13039    160.0     162.0      0.0    -2.025460      0.883548  1.410642   \n13040    159.0     162.0      0.0    -1.890940      0.922504  1.317168   \n\n       referee_gender  referral_gender  gender_diff  referee_relatives  ...  \\\n0                 0.0              1.0          1.0                0.0  ...   \n1                 0.0              1.0          1.0                1.0  ...   \n2                 0.0              1.0          1.0                1.0  ...   \n3                 0.0              1.0          1.0                1.0  ...   \n4                 0.0              1.0          1.0                1.0  ...   \n...               ...              ...          ...                ...  ...   \n13036             1.0              0.0          1.0                1.0  ...   \n13037             1.0              1.0          0.0                1.0  ...   \n13038             0.0              0.0          0.0                1.0  ...   \n13039             0.0              1.0          1.0                1.0  ...   \n13040             0.0              1.0          1.0                1.0  ...   \n\n       betweenness_centrality_diff  referee_pagerank_centrality  \\\n0                        -0.201886                     2.444011   \n1                        -0.201886                     0.656699   \n2                        -0.201886                     0.744085   \n3                        -0.201886                     5.410718   \n4                        -0.201886                     0.256776   \n...                            ...                          ...   \n13036                    -0.201886                     0.634962   \n13037                    -0.201886                     0.257767   \n13038                    -0.201886                     2.485636   \n13039                    -0.201886                     0.343907   \n13040                    -0.201886                     0.357188   \n\n       referral_pagerank_centrality  pagerank_centrality_diff  \\\n0                          2.367555                 -1.006181   \n1                          0.558689                 -1.006181   \n2                          0.647129                 -1.006181   \n3                          5.370036                 -1.006181   \n4                          0.153943                 -1.006181   \n...                             ...                       ...   \n13036                      0.536690                 -1.006181   \n13037                     -1.074870                  0.361991   \n13038                      2.409681                 -1.006181   \n13039                     -1.061793                  0.444430   \n13040                     -1.059777                  0.457140   \n\n       referee_component_size  referral_component_size  component_size_diff  \\\n0                    0.506155                 0.179543            -0.977939   \n1                   -0.291145                -0.447296            -0.977939   \n2                    1.742799                 1.151796            -0.977939   \n3                    1.829568                 1.220015            -0.977939   \n4                   -0.469546                -0.587556            -0.977939   \n...                       ...                      ...                  ...   \n13036                1.714139                 0.178754             0.159729   \n13037                1.125221                -0.837900             0.822388   \n13038                4.603614                 1.476875             1.325023   \n13039                1.259712                -0.822795             0.930866   \n13040                0.257327                -0.820466            -0.015174   \n\n       referee_avg_path_len  referral_avg_path_len  avg_path_len_diff  \n0                  1.000436               0.836707          -1.089657  \n1                  0.090971              -0.037618          -1.089657  \n2                  1.688716               1.498393          -1.089657  \n3                  2.510032               2.287975          -1.089657  \n4                 -0.112529              -0.233255          -1.089657  \n...                     ...                    ...                ...  \n13036              0.736611               0.393677          -0.874662  \n13037              0.407581              -0.932110           0.271239  \n13038              2.350965               1.751659          -0.654446  \n13039              0.482722              -0.932110           0.353239  \n13040              0.327584              -0.932110           0.183939  \n\n[13041 rows x 27 columns]",
      "text/html": "<div>\n<style scoped>\n    .dataframe tbody tr th:only-of-type {\n        vertical-align: middle;\n    }\n\n    .dataframe tbody tr th {\n        vertical-align: top;\n    }\n\n    .dataframe thead th {\n        text-align: right;\n    }\n</style>\n<table border=\"1\" class=\"dataframe\">\n  <thead>\n    <tr style=\"text-align: right;\">\n      <th></th>\n      <th>referee</th>\n      <th>referral</th>\n      <th>contact</th>\n      <th>referee_age</th>\n      <th>referral_age</th>\n      <th>age_diff</th>\n      <th>referee_gender</th>\n      <th>referral_gender</th>\n      <th>gender_diff</th>\n      <th>referee_relatives</th>\n      <th>...</th>\n      <th>betweenness_centrality_diff</th>\n      <th>referee_pagerank_centrality</th>\n      <th>referral_pagerank_centrality</th>\n      <th>pagerank_centrality_diff</th>\n      <th>referee_component_size</th>\n      <th>referral_component_size</th>\n      <th>component_size_diff</th>\n      <th>referee_avg_path_len</th>\n      <th>referral_avg_path_len</th>\n      <th>avg_path_len_diff</th>\n    </tr>\n  </thead>\n  <tbody>\n    <tr>\n      <th>0</th>\n      <td>5.0</td>\n      <td>3.0</td>\n      <td>1.0</td>\n      <td>0.344824</td>\n      <td>0.360335</td>\n      <td>-1.398943</td>\n      <td>0.0</td>\n      <td>1.0</td>\n      <td>1.0</td>\n      <td>0.0</td>\n      <td>...</td>\n      <td>-0.201886</td>\n      <td>2.444011</td>\n      <td>2.367555</td>\n      <td>-1.006181</td>\n      <td>0.506155</td>\n      <td>0.179543</td>\n      <td>-0.977939</td>\n      <td>1.000436</td>\n      <td>0.836707</td>\n      <td>-1.089657</td>\n    </tr>\n    <tr>\n      <th>1</th>\n      <td>15.0</td>\n      <td>7.0</td>\n      <td>1.0</td>\n      <td>0.388989</td>\n      <td>0.331585</td>\n      <td>-1.328331</td>\n      <td>0.0</td>\n      <td>1.0</td>\n      <td>1.0</td>\n      <td>1.0</td>\n      <td>...</td>\n      <td>-0.201886</td>\n      <td>0.656699</td>\n      <td>0.558689</td>\n      <td>-1.006181</td>\n      <td>-0.291145</td>\n      <td>-0.447296</td>\n      <td>-0.977939</td>\n      <td>0.090971</td>\n      <td>-0.037618</td>\n      <td>-1.089657</td>\n    </tr>\n    <tr>\n      <th>2</th>\n      <td>14.0</td>\n      <td>13.0</td>\n      <td>1.0</td>\n      <td>0.188618</td>\n      <td>0.458837</td>\n      <td>-1.152257</td>\n      <td>0.0</td>\n      <td>1.0</td>\n      <td>1.0</td>\n      <td>1.0</td>\n      <td>...</td>\n      <td>-0.201886</td>\n      <td>0.744085</td>\n      <td>0.647129</td>\n      <td>-1.006181</td>\n      <td>1.742799</td>\n      <td>1.151796</td>\n      <td>-0.977939</td>\n      <td>1.688716</td>\n      <td>1.498393</td>\n      <td>-1.089657</td>\n    </tr>\n    <tr>\n      <th>3</th>\n      <td>36.0</td>\n      <td>35.0</td>\n      <td>1.0</td>\n      <td>0.911283</td>\n      <td>-1.446505</td>\n      <td>0.888826</td>\n      <td>0.0</td>\n      <td>1.0</td>\n      <td>1.0</td>\n      <td>1.0</td>\n      <td>...</td>\n      <td>-0.201886</td>\n      <td>5.410718</td>\n      <td>5.370036</td>\n      <td>-1.006181</td>\n      <td>1.829568</td>\n      <td>1.220015</td>\n      <td>-0.977939</td>\n      <td>2.510032</td>\n      <td>2.287975</td>\n      <td>-1.089657</td>\n    </tr>\n    <tr>\n      <th>4</th>\n      <td>43.0</td>\n      <td>42.0</td>\n      <td>1.0</td>\n      <td>0.382375</td>\n      <td>0.340957</td>\n      <td>-1.343774</td>\n      <td>0.0</td>\n      <td>1.0</td>\n      <td>1.0</td>\n      <td>1.0</td>\n      <td>...</td>\n      <td>-0.201886</td>\n      <td>0.256776</td>\n      <td>0.153943</td>\n      <td>-1.006181</td>\n      <td>-0.469546</td>\n      <td>-0.587556</td>\n      <td>-0.977939</td>\n      <td>-0.112529</td>\n      <td>-0.233255</td>\n      <td>-1.089657</td>\n    </tr>\n    <tr>\n      <th>...</th>\n      <td>...</td>\n      <td>...</td>\n      <td>...</td>\n      <td>...</td>\n      <td>...</td>\n      <td>...</td>\n      <td>...</td>\n      <td>...</td>\n      <td>...</td>\n      <td>...</td>\n      <td>...</td>\n      <td>...</td>\n      <td>...</td>\n      <td>...</td>\n      <td>...</td>\n      <td>...</td>\n      <td>...</td>\n      <td>...</td>\n      <td>...</td>\n      <td>...</td>\n      <td>...</td>\n    </tr>\n    <tr>\n      <th>13036</th>\n      <td>158.0</td>\n      <td>159.0</td>\n      <td>0.0</td>\n      <td>0.915969</td>\n      <td>-1.602282</td>\n      <td>1.043098</td>\n      <td>1.0</td>\n      <td>0.0</td>\n      <td>1.0</td>\n      <td>1.0</td>\n      <td>...</td>\n      <td>-0.201886</td>\n      <td>0.634962</td>\n      <td>0.536690</td>\n      <td>-1.006181</td>\n      <td>1.714139</td>\n      <td>0.178754</td>\n      <td>0.159729</td>\n      <td>0.736611</td>\n      <td>0.393677</td>\n      <td>-0.874662</td>\n    </tr>\n    <tr>\n      <th>13037</th>\n      <td>158.0</td>\n      <td>162.0</td>\n      <td>0.0</td>\n      <td>-0.012001</td>\n      <td>0.630882</td>\n      <td>-0.791670</td>\n      <td>1.0</td>\n      <td>1.0</td>\n      <td>0.0</td>\n      <td>1.0</td>\n      <td>...</td>\n      <td>-0.201886</td>\n      <td>0.257767</td>\n      <td>-1.074870</td>\n      <td>0.361991</td>\n      <td>1.125221</td>\n      <td>-0.837900</td>\n      <td>0.822388</td>\n      <td>0.407581</td>\n      <td>-0.932110</td>\n      <td>0.271239</td>\n    </tr>\n    <tr>\n      <th>13038</th>\n      <td>160.0</td>\n      <td>159.0</td>\n      <td>0.0</td>\n      <td>0.099158</td>\n      <td>0.405492</td>\n      <td>-1.116464</td>\n      <td>0.0</td>\n      <td>0.0</td>\n      <td>0.0</td>\n      <td>1.0</td>\n      <td>...</td>\n      <td>-0.201886</td>\n      <td>2.485636</td>\n      <td>2.409681</td>\n      <td>-1.006181</td>\n      <td>4.603614</td>\n      <td>1.476875</td>\n      <td>1.325023</td>\n      <td>2.350965</td>\n      <td>1.751659</td>\n      <td>-0.654446</td>\n    </tr>\n    <tr>\n      <th>13039</th>\n      <td>160.0</td>\n      <td>162.0</td>\n      <td>0.0</td>\n      <td>-2.025460</td>\n      <td>0.883548</td>\n      <td>1.410642</td>\n      <td>0.0</td>\n      <td>1.0</td>\n      <td>1.0</td>\n      <td>1.0</td>\n      <td>...</td>\n      <td>-0.201886</td>\n      <td>0.343907</td>\n      <td>-1.061793</td>\n      <td>0.444430</td>\n      <td>1.259712</td>\n      <td>-0.822795</td>\n      <td>0.930866</td>\n      <td>0.482722</td>\n      <td>-0.932110</td>\n      <td>0.353239</td>\n    </tr>\n    <tr>\n      <th>13040</th>\n      <td>159.0</td>\n      <td>162.0</td>\n      <td>0.0</td>\n      <td>-1.890940</td>\n      <td>0.922504</td>\n      <td>1.317168</td>\n      <td>0.0</td>\n      <td>1.0</td>\n      <td>1.0</td>\n      <td>1.0</td>\n      <td>...</td>\n      <td>-0.201886</td>\n      <td>0.357188</td>\n      <td>-1.059777</td>\n      <td>0.457140</td>\n      <td>0.257327</td>\n      <td>-0.820466</td>\n      <td>-0.015174</td>\n      <td>0.327584</td>\n      <td>-0.932110</td>\n      <td>0.183939</td>\n    </tr>\n  </tbody>\n</table>\n<p>13041 rows × 27 columns</p>\n</div>"
     },
     "execution_count": 34,
     "metadata": {},
     "output_type": "execute_result"
    }
   ],
   "source": [
    "hainan_data[['referee_age', 'referral_age', 'age_diff', 'referee_degree_centrality', 'referral_degree_centrality',\n",
    "             'degree_centrality_diff', 'referee_betweenness_centrality',\n",
    "             'referral_betweenness_centrality', 'betweenness_centrality_diff',\n",
    "             'referee_pagerank_centrality', 'referral_pagerank_centrality',\n",
    "             'pagerank_centrality_diff', 'referee_component_size',\n",
    "             'referral_component_size', 'component_size_diff', 'referee_avg_path_len',\n",
    "             'referral_avg_path_len', 'avg_path_len_diff']] = normalize(hainan_data[['referee_age', 'referral_age', 'age_diff', 'referee_degree_centrality', 'referral_degree_centrality',\n",
    "                                                                                         'degree_centrality_diff', 'referee_betweenness_centrality',\n",
    "                                                                                         'referral_betweenness_centrality', 'betweenness_centrality_diff',\n",
    "                                                                                         'referee_pagerank_centrality', 'referral_pagerank_centrality',\n",
    "                                                                                         'pagerank_centrality_diff', 'referee_component_size',\n",
    "                                                                                         'referral_component_size', 'component_size_diff', 'referee_avg_path_len',\n",
    "                                                                                     'referral_avg_path_len', 'avg_path_len_diff']])\n",
    "\n",
    "hainan_data[['referee_age', 'referral_age', 'age_diff', 'referee_degree_centrality', 'referral_degree_centrality',\n",
    "             'degree_centrality_diff', 'referee_betweenness_centrality',\n",
    "             'referral_betweenness_centrality', 'betweenness_centrality_diff',\n",
    "             'referee_pagerank_centrality', 'referral_pagerank_centrality',\n",
    "             'pagerank_centrality_diff', 'referee_component_size',\n",
    "             'referral_component_size', 'component_size_diff', 'referee_avg_path_len',\n",
    "             'referral_avg_path_len', 'avg_path_len_diff']] = scale(hainan_data[['referee_age', 'referral_age', 'age_diff', 'referee_degree_centrality', 'referral_degree_centrality',\n",
    "                                                                                     'degree_centrality_diff', 'referee_betweenness_centrality',\n",
    "                                                                                     'referral_betweenness_centrality', 'betweenness_centrality_diff',\n",
    "                                                                                     'referee_pagerank_centrality', 'referral_pagerank_centrality',\n",
    "                                                                                     'pagerank_centrality_diff', 'referee_component_size',\n",
    "                                                                                     'referral_component_size', 'component_size_diff', 'referee_avg_path_len',\n",
    "                                                                                 'referral_avg_path_len', 'avg_path_len_diff']])\n",
    "hainan_data"
   ],
   "metadata": {
    "collapsed": false,
    "pycharm": {
     "name": "#%%\n"
    }
   }
  },
  {
   "cell_type": "code",
   "execution_count": 35,
   "outputs": [
    {
     "data": {
      "text/plain": "array([-0.00616692, -0.01122213,  0.00740684,  0.0058602 ,  0.00772179,\n        0.007496  ,  0.0871856 ,  0.08413633, -0.07812765,  0.16198783,\n        0.07839425, -0.07209395,  0.0689273 ,  0.01106468,  0.03157248,\n        0.09585184,  0.07694475, -0.07107369,  0.12996357,  0.08095444,\n       -0.09503362,  0.09426274,  0.08291782, -0.08691061])"
     },
     "execution_count": 35,
     "metadata": {},
     "output_type": "execute_result"
    }
   ],
   "source": [
    "r_regression(hainan_data[hainan_data.columns[3:]], hainan_data['contact'])"
   ],
   "metadata": {
    "collapsed": false,
    "pycharm": {
     "name": "#%%\n"
    }
   }
  },
  {
   "cell_type": "code",
   "execution_count": 36,
   "outputs": [
    {
     "data": {
      "text/plain": "(array([  0.49590343,   1.64228849,   0.71537469,   0.44780005,\n          0.77751038,   0.73270189,  99.8728961 ,  92.96012754,\n         80.07793457, 351.36391993,  80.62874986,  68.12477048,\n         62.24364453,   1.59652167,  13.01052834, 120.90763719,\n         77.65710067,  66.20052386, 224.01943842,  86.01639407,\n        118.8335103 , 116.89624958,  90.26852058,  99.2390933 ]),\n array([4.81318247e-01, 2.00034556e-01, 3.97680819e-01, 5.03393377e-01,\n        3.77919892e-01, 3.92024531e-01, 1.97302275e-23, 6.31474686e-22,\n        4.08053745e-19, 2.21714829e-77, 3.09312475e-19, 1.68135700e-16,\n        3.27585504e-15, 2.06419429e-01, 3.10902161e-04, 5.31384830e-28,\n        1.37943370e-18, 4.43997626e-16, 3.13705524e-50, 2.06194036e-20,\n        1.49747717e-27, 3.94222623e-27, 2.43756633e-21, 2.71058630e-23]))"
     },
     "execution_count": 36,
     "metadata": {},
     "output_type": "execute_result"
    }
   ],
   "source": [
    "f_regression(hainan_data[hainan_data.columns[3:]], hainan_data['contact'])"
   ],
   "metadata": {
    "collapsed": false,
    "pycharm": {
     "name": "#%%\n"
    }
   }
  },
  {
   "cell_type": "code",
   "execution_count": 37,
   "outputs": [
    {
     "name": "stdout",
     "output_type": "stream",
     "text": [
      "                                 OLS Regression Results                                \n",
      "=======================================================================================\n",
      "Dep. Variable:                contact   R-squared (uncentered):                   0.125\n",
      "Model:                            OLS   Adj. R-squared (uncentered):              0.124\n",
      "Method:                 Least Squares   F-statistic:                              77.61\n",
      "Date:                Fri, 30 Jun 2023   Prob (F-statistic):                        0.00\n",
      "Time:                        13:09:53   Log-Likelihood:                          12830.\n",
      "No. Observations:               13041   AIC:                                 -2.561e+04\n",
      "Df Residuals:                   13017   BIC:                                 -2.543e+04\n",
      "Df Model:                          24                                                  \n",
      "Covariance Type:            nonrobust                                                  \n",
      "===================================================================================================\n",
      "                                      coef    std err          t      P>|t|      [0.025      0.975]\n",
      "---------------------------------------------------------------------------------------------------\n",
      "referee_age                         0.0019      0.002      0.789      0.430      -0.003       0.007\n",
      "referral_age                        0.0005      0.002      0.203      0.839      -0.004       0.005\n",
      "age_diff                           -0.0001      0.002     -0.054      0.957      -0.004       0.004\n",
      "referee_gender                     -0.0008      0.002     -0.497      0.619      -0.004       0.002\n",
      "referral_gender                     0.0021      0.002      1.367      0.172      -0.001       0.005\n",
      "gender_diff                         0.0006      0.002      0.395      0.693      -0.002       0.004\n",
      "referee_relatives                   0.0025      0.002      1.057      0.290      -0.002       0.007\n",
      "referral_relatives                  0.0132      0.002      5.758      0.000       0.009       0.018\n",
      "relatives_diff                      0.0026      0.002      1.291      0.197      -0.001       0.006\n",
      "referee_degree_centrality           0.0385      0.004     10.872      0.000       0.032       0.045\n",
      "referral_degree_centrality          0.0038      0.005      0.781      0.435      -0.006       0.013\n",
      "degree_centrality_diff             -0.0125      0.003     -4.720      0.000      -0.018      -0.007\n",
      "referee_betweenness_centrality      0.0431      0.004     10.509      0.000       0.035       0.051\n",
      "referral_betweenness_centrality     0.0733      0.008      9.766      0.000       0.059       0.088\n",
      "betweenness_centrality_diff        -0.0820      0.008     -9.696      0.000      -0.099      -0.065\n",
      "referee_pagerank_centrality        -0.0114      0.002     -4.890      0.000      -0.016      -0.007\n",
      "referral_pagerank_centrality        0.0011      0.003      0.378      0.705      -0.004       0.007\n",
      "pagerank_centrality_diff           -0.0032      0.002     -1.529      0.126      -0.007       0.001\n",
      "referee_component_size             -0.0014      0.005     -0.266      0.790      -0.011       0.009\n",
      "referral_component_size             0.0506      0.006      7.999      0.000       0.038       0.063\n",
      "component_size_diff                -0.0487      0.003    -14.822      0.000      -0.055      -0.042\n",
      "referee_avg_path_len               -0.0105      0.004     -2.662      0.008      -0.018      -0.003\n",
      "referral_avg_path_len              -0.0268      0.005     -5.890      0.000      -0.036      -0.018\n",
      "avg_path_len_diff                   0.0289      0.003      8.572      0.000       0.022       0.036\n",
      "==============================================================================\n",
      "Omnibus:                    18489.494   Durbin-Watson:                   0.186\n",
      "Prob(Omnibus):                  0.000   Jarque-Bera (JB):          4172110.948\n",
      "Skew:                           8.636   Prob(JB):                         0.00\n",
      "Kurtosis:                      88.906   Cond. No.                         36.7\n",
      "==============================================================================\n",
      "\n",
      "Notes:\n",
      "[1] R² is computed without centering (uncentered) since the model does not contain a constant.\n",
      "[2] Standard Errors assume that the covariance matrix of the errors is correctly specified.\n"
     ]
    }
   ],
   "source": [
    "print(sm.OLS(hainan_data['contact'], hainan_data[hainan_data.columns[3:]]).fit().summary())"
   ],
   "metadata": {
    "collapsed": false,
    "pycharm": {
     "name": "#%%\n"
    }
   }
  },
  {
   "cell_type": "markdown",
   "source": [
    "# Shanxi"
   ],
   "metadata": {
    "collapsed": false,
    "pycharm": {
     "name": "#%% md\n"
    }
   }
  },
  {
   "cell_type": "code",
   "execution_count": 38,
   "outputs": [],
   "source": [
    "shanxi_edgelist = pd.read_csv('../Data/Preprocessed/shanxi_edgelist.csv')\n",
    "shanxi_nodelist = pd.read_csv('../Data/Preprocessed/shanxi_nodelist.csv')\n",
    "shanxi_network = pd.read_csv('../Data/Tables/basic/shanxi_basic_analysis.csv')"
   ],
   "metadata": {
    "collapsed": false,
    "pycharm": {
     "name": "#%%\n"
    }
   }
  },
  {
   "cell_type": "code",
   "execution_count": 39,
   "outputs": [
    {
     "data": {
      "text/plain": "(array([1, 0], dtype=int64),\n array([0, 1], dtype=int64),\n array(['xianyang', 'xian', 'ankang', 'yanan', 'wuhan', 'dazhi',\n        'hanzhong', 'tongchuan', 'weinan', 'baoji', 'henan', 'shangluo',\n        'xiaogan', 'hancheng', 'yulin', 'lantian', 'shanghai', 'lingbao',\n        'tianmen', 'nanjing', 'yichang', 'suizhou', 'pingdingshan',\n        'yingcheng', 'yanglin'], dtype=object))"
     },
     "execution_count": 39,
     "metadata": {},
     "output_type": "execute_result"
    }
   ],
   "source": [
    "shanxi_nodelist['gender'].unique(), shanxi_nodelist['relatives'].unique(), shanxi_nodelist['hukou'].unique()"
   ],
   "metadata": {
    "collapsed": false,
    "pycharm": {
     "name": "#%%\n"
    }
   }
  },
  {
   "cell_type": "markdown",
   "source": [
    "No missing values to fill"
   ],
   "metadata": {
    "collapsed": false,
    "pycharm": {
     "name": "#%% md\n"
    }
   }
  },
  {
   "cell_type": "code",
   "execution_count": 40,
   "outputs": [
    {
     "data": {
      "text/plain": "     Unnamed: 0  node_id  age  gender     hukou  relatives  hukou_ints\n0             0        1   42       1  xianyang          0           0\n1             1        2   32       0      xian          0           1\n2             2        3   22       1      xian          0           1\n3             3        4   49       1    ankang          0           2\n4             4        5   23       1     yanan          0           3\n..          ...      ...  ...     ...       ...        ...         ...\n232         232      233   67       0    weinan          0           8\n233         233      234   46       1  hanzhong          0           6\n234         234      235   71       1  hanzhong          1           6\n235         235      236   66       0  hanzhong          1           6\n236         236      237   65       0  hanzhong          1           6\n\n[237 rows x 7 columns]",
      "text/html": "<div>\n<style scoped>\n    .dataframe tbody tr th:only-of-type {\n        vertical-align: middle;\n    }\n\n    .dataframe tbody tr th {\n        vertical-align: top;\n    }\n\n    .dataframe thead th {\n        text-align: right;\n    }\n</style>\n<table border=\"1\" class=\"dataframe\">\n  <thead>\n    <tr style=\"text-align: right;\">\n      <th></th>\n      <th>Unnamed: 0</th>\n      <th>node_id</th>\n      <th>age</th>\n      <th>gender</th>\n      <th>hukou</th>\n      <th>relatives</th>\n      <th>hukou_ints</th>\n    </tr>\n  </thead>\n  <tbody>\n    <tr>\n      <th>0</th>\n      <td>0</td>\n      <td>1</td>\n      <td>42</td>\n      <td>1</td>\n      <td>xianyang</td>\n      <td>0</td>\n      <td>0</td>\n    </tr>\n    <tr>\n      <th>1</th>\n      <td>1</td>\n      <td>2</td>\n      <td>32</td>\n      <td>0</td>\n      <td>xian</td>\n      <td>0</td>\n      <td>1</td>\n    </tr>\n    <tr>\n      <th>2</th>\n      <td>2</td>\n      <td>3</td>\n      <td>22</td>\n      <td>1</td>\n      <td>xian</td>\n      <td>0</td>\n      <td>1</td>\n    </tr>\n    <tr>\n      <th>3</th>\n      <td>3</td>\n      <td>4</td>\n      <td>49</td>\n      <td>1</td>\n      <td>ankang</td>\n      <td>0</td>\n      <td>2</td>\n    </tr>\n    <tr>\n      <th>4</th>\n      <td>4</td>\n      <td>5</td>\n      <td>23</td>\n      <td>1</td>\n      <td>yanan</td>\n      <td>0</td>\n      <td>3</td>\n    </tr>\n    <tr>\n      <th>...</th>\n      <td>...</td>\n      <td>...</td>\n      <td>...</td>\n      <td>...</td>\n      <td>...</td>\n      <td>...</td>\n      <td>...</td>\n    </tr>\n    <tr>\n      <th>232</th>\n      <td>232</td>\n      <td>233</td>\n      <td>67</td>\n      <td>0</td>\n      <td>weinan</td>\n      <td>0</td>\n      <td>8</td>\n    </tr>\n    <tr>\n      <th>233</th>\n      <td>233</td>\n      <td>234</td>\n      <td>46</td>\n      <td>1</td>\n      <td>hanzhong</td>\n      <td>0</td>\n      <td>6</td>\n    </tr>\n    <tr>\n      <th>234</th>\n      <td>234</td>\n      <td>235</td>\n      <td>71</td>\n      <td>1</td>\n      <td>hanzhong</td>\n      <td>1</td>\n      <td>6</td>\n    </tr>\n    <tr>\n      <th>235</th>\n      <td>235</td>\n      <td>236</td>\n      <td>66</td>\n      <td>0</td>\n      <td>hanzhong</td>\n      <td>1</td>\n      <td>6</td>\n    </tr>\n    <tr>\n      <th>236</th>\n      <td>236</td>\n      <td>237</td>\n      <td>65</td>\n      <td>0</td>\n      <td>hanzhong</td>\n      <td>1</td>\n      <td>6</td>\n    </tr>\n  </tbody>\n</table>\n<p>237 rows × 7 columns</p>\n</div>"
     },
     "execution_count": 40,
     "metadata": {},
     "output_type": "execute_result"
    }
   ],
   "source": [
    "shanxi_nodelist['hukou_ints'] = pd.factorize(shanxi_nodelist['hukou'])[0]\n",
    "shanxi_nodelist"
   ],
   "metadata": {
    "collapsed": false,
    "pycharm": {
     "name": "#%%\n"
    }
   }
  },
  {
   "cell_type": "code",
   "execution_count": 41,
   "outputs": [],
   "source": [
    "shanxi_dummies = pd.get_dummies(shanxi_nodelist)"
   ],
   "metadata": {
    "collapsed": false,
    "pycharm": {
     "name": "#%%\n"
    }
   }
  },
  {
   "cell_type": "code",
   "execution_count": 42,
   "outputs": [
    {
     "data": {
      "text/plain": "Index(['Unnamed: 0', 'node_id', 'age', 'gender', 'relatives', 'hukou_ints',\n       'hukou_ankang', 'hukou_baoji', 'hukou_dazhi', 'hukou_hancheng',\n       'hukou_hanzhong', 'hukou_henan', 'hukou_lantian', 'hukou_lingbao',\n       'hukou_nanjing', 'hukou_pingdingshan', 'hukou_shanghai',\n       'hukou_shangluo', 'hukou_suizhou', 'hukou_tianmen', 'hukou_tongchuan',\n       'hukou_weinan', 'hukou_wuhan', 'hukou_xian', 'hukou_xianyang',\n       'hukou_xiaogan', 'hukou_yanan', 'hukou_yanglin', 'hukou_yichang',\n       'hukou_yingcheng', 'hukou_yulin'],\n      dtype='object')"
     },
     "execution_count": 42,
     "metadata": {},
     "output_type": "execute_result"
    }
   ],
   "source": [
    "shanxi_dummies.columns"
   ],
   "metadata": {
    "collapsed": false,
    "pycharm": {
     "name": "#%%\n"
    }
   }
  },
  {
   "cell_type": "markdown",
   "source": [
    "Don't need to fill nans"
   ],
   "metadata": {
    "collapsed": false,
    "pycharm": {
     "name": "#%% md\n"
    }
   }
  },
  {
   "cell_type": "code",
   "execution_count": 43,
   "outputs": [],
   "source": [
    "shanxi_data = pd.DataFrame(columns=['referee', 'referral', 'contact', 'referee_age', 'referral_age', 'age_diff', 'referee_gender', 'referral_gender', 'gender_diff', 'referee_relatives', 'referral_relatives', 'relatives_diff',\n",
    "                                    'referee_hukou', 'referral_hukou', 'hukou_diff', 'referee_degree_centrality', 'referral_degree_centrality', 'degree_centrality_diff', 'referee_betweenness_centrality', 'referral_betweenness_centrality', 'betweenness_centrality_diff',\n",
    "                                    'referee_pagerank_centrality', 'referral_pagerank_centrality', 'pagerank_centrality_diff', 'referee_component_size', 'referral_component_size', 'component_size_diff',\n",
    "                                    'referee_avg_path_len', 'referral_avg_path_len', 'avg_path_len_diff'])\n",
    "\n",
    "referees_hukou = pd.DataFrame(columns=['hukou_ankang', 'hukou_baoji', 'hukou_dazhi', 'hukou_hancheng',\n",
    "                                       'hukou_hanzhong', 'hukou_henan', 'hukou_lantian', 'hukou_lingbao',\n",
    "                                       'hukou_nanjing', 'hukou_pingdingshan', 'hukou_shanghai',\n",
    "                                       'hukou_shangluo', 'hukou_suizhou', 'hukou_tianmen', 'hukou_tongchuan',\n",
    "                                       'hukou_weinan', 'hukou_wuhan', 'hukou_xian', 'hukou_xianyang',\n",
    "                                       'hukou_xiaogan', 'hukou_yanan', 'hukou_yanglin', 'hukou_yichang',\n",
    "                                       'hukou_yingcheng', 'hukou_yulin'])\n",
    "referrals_hukou = referees_hukou.copy()"
   ],
   "metadata": {
    "collapsed": false,
    "pycharm": {
     "name": "#%%\n"
    }
   }
  },
  {
   "cell_type": "code",
   "execution_count": 44,
   "outputs": [],
   "source": [
    "added_combinations = set()\n",
    "for index, row in shanxi_edgelist[~shanxi_edgelist['Referral'].isna()].iterrows():\n",
    "    \"\"\"\n",
    "    referee = shanxi_nodelist.loc[shanxi_nodelist['node_id'] == row['Referee']]\n",
    "    referral = shanxi_nodelist.loc[shanxi_nodelist['node_id'] == row['Referral']]\n",
    "    new_row = pd.Series({'referee': row['Referee'], 'referral': row['Referral'], 'contact': 1, 'referee_age': referee['age'].iloc[0], 'referral_age': referral['age'].iloc[0], 'age_diff': abs(referee['age'].iloc[0] - referral['age'].iloc[0]),\n",
    "                         'referee_gender': referee['gender'].iloc[0], 'referral_gender': referral['gender'].iloc[0], 'gender_diff': abs(referee['gender'].iloc[0] - referral['gender'].iloc[0]),\n",
    "                         'referee_relatives': referee['relatives'].iloc[0], 'referral_relatives': referral['relatives'].iloc[0], 'relatives_diff': abs(referee['relatives'].iloc[0] - referral['relatives'].iloc[0]),\n",
    "                         'hukou_diff': abs(referee['hukou_ints'].iloc[0] - referral['hukou_ints'].iloc[0])})\n",
    "\n",
    "    referee_dummies = shanxi_dummies.loc[shanxi_dummies['node_id'] == row['Referee']][shanxi_dummies.columns[6:]]\n",
    "    referral_dummies = shanxi_dummies.loc[shanxi_dummies['node_id'] == row['Referral']][shanxi_dummies.columns[6:]]\n",
    "\n",
    "    shanxi_data = pd.concat([shanxi_data, new_row.to_frame().T], axis='index', ignore_index=True)\n",
    "    shanxi_data['hukou_diff'] = shanxi_data['hukou_diff'].where(shanxi_data['hukou_diff'] == 0, 1)\n",
    "\n",
    "    referees_hukou = pd.concat([referees_hukou, referee_dummies], axis='index', ignore_index=True)\n",
    "    referrals_hukou = pd.concat([referrals_hukou, referral_dummies], axis='index', ignore_index=True)\n",
    "\n",
    "    added_combinations.add((referee['node_id'].iloc[0], referral['node_id'].iloc[0]))\n",
    "    added_combinations.add((referral['node_id'].iloc[0], referee['node_id'].iloc[0]))\n",
    "    \"\"\"\n",
    "    referee_id = row['Referee']\n",
    "    referral_id = row['Referral']\n",
    "    referee = shanxi_nodelist.query('node_id == @referee_id')\n",
    "    referral = shanxi_nodelist.query('node_id == @referral_id')\n",
    "    referee_network_stats = shanxi_network.query('Referee == @referee_id')\n",
    "    referral_network_stats = shanxi_network.query('Referee == @referral_id')\n",
    "\n",
    "    referee_age = referee['age'].iloc[0]\n",
    "    referral_age = referral['age'].iloc[0]\n",
    "    referee_gender = referee['gender'].iloc[0]\n",
    "    referral_gender = referral['gender'].iloc[0]\n",
    "    referee_relatives = referee['relatives'].iloc[0]\n",
    "    referral_relatives = referral['relatives'].iloc[0]\n",
    "    referee_hukou = referee['hukou_ints'].iloc[0]\n",
    "    referral_hukou = referral['hukou_ints'].iloc[0]\n",
    "\n",
    "    referee_degree_centrality = referee_network_stats['Degree_Centrality'].iloc[0]\n",
    "    referral_degree_centrality = referral_network_stats['Degree_Centrality'].iloc[0]\n",
    "    referee_betweenness_centrality = referee_network_stats['Betweenness_Centrality'].iloc[0]\n",
    "    referral_betweenness_centrality = referral_network_stats['Betweenness_Centrality'].iloc[0]\n",
    "    referee_pagerank_centrality = referee_network_stats['Pagerank_Centrality'].iloc[0]\n",
    "    referral_pagerank_centrality = referral_network_stats['Pagerank_Centrality'].iloc[0]\n",
    "    referee_component_size = referee_network_stats['Component_Size'].iloc[0]\n",
    "    referral_component_size = referral_network_stats['Component_Size'].iloc[0]\n",
    "    referee_avg_path_len = referee_network_stats['Avg_Shortest_Path_Length'].iloc[0]\n",
    "    referral_avg_path_len = referral_network_stats['Avg_Shortest_Path_Length'].iloc[0]\n",
    "\n",
    "    new_row = pd.Series({'referee': referee_id, 'referral': referral_id, 'contact': 1, 'referee_age': referee_age, 'referral_age': referral_age, 'age_diff': abs(referee_age - referral_age),\n",
    "                         'referee_gender': referee_gender, 'referral_gender': referral_gender, 'gender_diff': abs(referee_gender - referral_gender),\n",
    "                         'referee_relatives': referee_relatives, 'referral_relatives': referral_relatives, 'relatives_diff': abs(referee_relatives - referral_relatives),\n",
    "                         'referee_hukou': referee_hukou, 'referral_hukou': referral_hukou, 'hukou_diff': abs(referee_hukou - referral_hukou),\n",
    "                         'referee_degree_centrality': referee_degree_centrality, 'referral_degree_centrality': referral_degree_centrality, 'degree_centrality_diff': abs(referee_degree_centrality - referral_degree_centrality),\n",
    "                         'referee_betweenness_centrality': referee_betweenness_centrality, 'referral_betweenness_centrality': referral_betweenness_centrality, 'betweenness_centrality_diff': abs(referee_betweenness_centrality - referral_betweenness_centrality),\n",
    "                         'referee_pagerank_centrality': referee_pagerank_centrality, 'referral_pagerank_centrality': referral_pagerank_centrality, 'pagerank_centrality_diff': abs(referee_pagerank_centrality - referral_pagerank_centrality),\n",
    "                         'referee_component_size': referee_component_size, 'referral_component_size': referral_component_size, 'component_size_diff': abs(referee_component_size - referral_component_size),\n",
    "                         'referee_avg_path_len': referee_avg_path_len, 'referral_avg_path_len': referral_avg_path_len, 'avg_path_len_diff': abs(referee_avg_path_len - referral_avg_path_len)})\n",
    "    shanxi_data = pd.concat([shanxi_data, new_row.to_frame().T], axis='index', ignore_index=True)\n",
    "\n",
    "    added_combinations.add((referee_id, referral_id))\n",
    "    added_combinations.add((referral_id, referee_id))"
   ],
   "metadata": {
    "collapsed": false,
    "pycharm": {
     "name": "#%%\n"
    }
   }
  },
  {
   "cell_type": "code",
   "execution_count": 45,
   "outputs": [
    {
     "data": {
      "text/plain": "     referee  referral  contact  referee_age  referral_age  age_diff  \\\n0       11.0      10.0      1.0          9.0          45.0      36.0   \n1       11.0       9.0      1.0          9.0          46.0      37.0   \n2       10.0       9.0      1.0         45.0          46.0       1.0   \n3       22.0       2.0      1.0         33.0          32.0       1.0   \n4       20.0      19.0      1.0         52.0          70.0      18.0   \n..       ...       ...      ...          ...           ...       ...   \n120    235.0     234.0      1.0         71.0          46.0      25.0   \n121    236.0     234.0      1.0         66.0          46.0      20.0   \n122    236.0     235.0      1.0         66.0          71.0       5.0   \n123    237.0     234.0      1.0         65.0          46.0      19.0   \n124    237.0     236.0      1.0         65.0          66.0       1.0   \n\n     referee_gender  referral_gender  gender_diff  referee_relatives  ...  \\\n0               0.0              0.0          0.0                1.0  ...   \n1               0.0              1.0          1.0                1.0  ...   \n2               0.0              1.0          1.0                1.0  ...   \n3               1.0              0.0          1.0                0.0  ...   \n4               0.0              0.0          0.0                0.0  ...   \n..              ...              ...          ...                ...  ...   \n120             1.0              1.0          0.0                1.0  ...   \n121             0.0              1.0          1.0                1.0  ...   \n122             0.0              1.0          1.0                1.0  ...   \n123             0.0              1.0          1.0                1.0  ...   \n124             0.0              0.0          0.0                1.0  ...   \n\n     betweenness_centrality_diff  referee_pagerank_centrality  \\\n0                       0.000000                     0.007450   \n1                       0.000541                     0.007450   \n2                       0.000541                     0.007450   \n3                       0.000108                     0.004612   \n4                       0.000216                     0.003142   \n..                           ...                          ...   \n120                     0.000000                     0.006653   \n121                     0.000000                     0.006653   \n122                     0.000000                     0.006653   \n123                     0.000000                     0.006653   \n124                     0.000000                     0.006653   \n\n     referral_pagerank_centrality  pagerank_centrality_diff  \\\n0                        0.007450                  0.000000   \n1                        0.015512                  0.008062   \n2                        0.015512                  0.008062   \n3                        0.012776                  0.008164   \n4                        0.010087                  0.006946   \n..                            ...                       ...   \n120                      0.006653                  0.000000   \n121                      0.006653                  0.000000   \n122                      0.006653                  0.000000   \n123                      0.006653                  0.000000   \n124                      0.006653                  0.000000   \n\n     referee_component_size  referral_component_size  component_size_diff  \\\n0                       8.0                      8.0                  0.0   \n1                       8.0                      8.0                  0.0   \n2                       8.0                      8.0                  0.0   \n3                       4.0                      4.0                  0.0   \n4                       8.0                      8.0                  0.0   \n..                      ...                      ...                  ...   \n120                     4.0                      4.0                  0.0   \n121                     4.0                      4.0                  0.0   \n122                     4.0                      4.0                  0.0   \n123                     4.0                      4.0                  0.0   \n124                     4.0                      4.0                  0.0   \n\n     referee_avg_path_len  referral_avg_path_len  avg_path_len_diff  \n0                   1.375                  1.375              0.000  \n1                   1.375                  1.000              0.375  \n2                   1.375                  1.000              0.375  \n3                   1.250                  0.750              0.500  \n4                   2.000                  1.250              0.750  \n..                    ...                    ...                ...  \n120                 0.750                  0.750              0.000  \n121                 0.750                  0.750              0.000  \n122                 0.750                  0.750              0.000  \n123                 0.750                  0.750              0.000  \n124                 0.750                  0.750              0.000  \n\n[125 rows x 30 columns]",
      "text/html": "<div>\n<style scoped>\n    .dataframe tbody tr th:only-of-type {\n        vertical-align: middle;\n    }\n\n    .dataframe tbody tr th {\n        vertical-align: top;\n    }\n\n    .dataframe thead th {\n        text-align: right;\n    }\n</style>\n<table border=\"1\" class=\"dataframe\">\n  <thead>\n    <tr style=\"text-align: right;\">\n      <th></th>\n      <th>referee</th>\n      <th>referral</th>\n      <th>contact</th>\n      <th>referee_age</th>\n      <th>referral_age</th>\n      <th>age_diff</th>\n      <th>referee_gender</th>\n      <th>referral_gender</th>\n      <th>gender_diff</th>\n      <th>referee_relatives</th>\n      <th>...</th>\n      <th>betweenness_centrality_diff</th>\n      <th>referee_pagerank_centrality</th>\n      <th>referral_pagerank_centrality</th>\n      <th>pagerank_centrality_diff</th>\n      <th>referee_component_size</th>\n      <th>referral_component_size</th>\n      <th>component_size_diff</th>\n      <th>referee_avg_path_len</th>\n      <th>referral_avg_path_len</th>\n      <th>avg_path_len_diff</th>\n    </tr>\n  </thead>\n  <tbody>\n    <tr>\n      <th>0</th>\n      <td>11.0</td>\n      <td>10.0</td>\n      <td>1.0</td>\n      <td>9.0</td>\n      <td>45.0</td>\n      <td>36.0</td>\n      <td>0.0</td>\n      <td>0.0</td>\n      <td>0.0</td>\n      <td>1.0</td>\n      <td>...</td>\n      <td>0.000000</td>\n      <td>0.007450</td>\n      <td>0.007450</td>\n      <td>0.000000</td>\n      <td>8.0</td>\n      <td>8.0</td>\n      <td>0.0</td>\n      <td>1.375</td>\n      <td>1.375</td>\n      <td>0.000</td>\n    </tr>\n    <tr>\n      <th>1</th>\n      <td>11.0</td>\n      <td>9.0</td>\n      <td>1.0</td>\n      <td>9.0</td>\n      <td>46.0</td>\n      <td>37.0</td>\n      <td>0.0</td>\n      <td>1.0</td>\n      <td>1.0</td>\n      <td>1.0</td>\n      <td>...</td>\n      <td>0.000541</td>\n      <td>0.007450</td>\n      <td>0.015512</td>\n      <td>0.008062</td>\n      <td>8.0</td>\n      <td>8.0</td>\n      <td>0.0</td>\n      <td>1.375</td>\n      <td>1.000</td>\n      <td>0.375</td>\n    </tr>\n    <tr>\n      <th>2</th>\n      <td>10.0</td>\n      <td>9.0</td>\n      <td>1.0</td>\n      <td>45.0</td>\n      <td>46.0</td>\n      <td>1.0</td>\n      <td>0.0</td>\n      <td>1.0</td>\n      <td>1.0</td>\n      <td>1.0</td>\n      <td>...</td>\n      <td>0.000541</td>\n      <td>0.007450</td>\n      <td>0.015512</td>\n      <td>0.008062</td>\n      <td>8.0</td>\n      <td>8.0</td>\n      <td>0.0</td>\n      <td>1.375</td>\n      <td>1.000</td>\n      <td>0.375</td>\n    </tr>\n    <tr>\n      <th>3</th>\n      <td>22.0</td>\n      <td>2.0</td>\n      <td>1.0</td>\n      <td>33.0</td>\n      <td>32.0</td>\n      <td>1.0</td>\n      <td>1.0</td>\n      <td>0.0</td>\n      <td>1.0</td>\n      <td>0.0</td>\n      <td>...</td>\n      <td>0.000108</td>\n      <td>0.004612</td>\n      <td>0.012776</td>\n      <td>0.008164</td>\n      <td>4.0</td>\n      <td>4.0</td>\n      <td>0.0</td>\n      <td>1.250</td>\n      <td>0.750</td>\n      <td>0.500</td>\n    </tr>\n    <tr>\n      <th>4</th>\n      <td>20.0</td>\n      <td>19.0</td>\n      <td>1.0</td>\n      <td>52.0</td>\n      <td>70.0</td>\n      <td>18.0</td>\n      <td>0.0</td>\n      <td>0.0</td>\n      <td>0.0</td>\n      <td>0.0</td>\n      <td>...</td>\n      <td>0.000216</td>\n      <td>0.003142</td>\n      <td>0.010087</td>\n      <td>0.006946</td>\n      <td>8.0</td>\n      <td>8.0</td>\n      <td>0.0</td>\n      <td>2.000</td>\n      <td>1.250</td>\n      <td>0.750</td>\n    </tr>\n    <tr>\n      <th>...</th>\n      <td>...</td>\n      <td>...</td>\n      <td>...</td>\n      <td>...</td>\n      <td>...</td>\n      <td>...</td>\n      <td>...</td>\n      <td>...</td>\n      <td>...</td>\n      <td>...</td>\n      <td>...</td>\n      <td>...</td>\n      <td>...</td>\n      <td>...</td>\n      <td>...</td>\n      <td>...</td>\n      <td>...</td>\n      <td>...</td>\n      <td>...</td>\n      <td>...</td>\n      <td>...</td>\n    </tr>\n    <tr>\n      <th>120</th>\n      <td>235.0</td>\n      <td>234.0</td>\n      <td>1.0</td>\n      <td>71.0</td>\n      <td>46.0</td>\n      <td>25.0</td>\n      <td>1.0</td>\n      <td>1.0</td>\n      <td>0.0</td>\n      <td>1.0</td>\n      <td>...</td>\n      <td>0.000000</td>\n      <td>0.006653</td>\n      <td>0.006653</td>\n      <td>0.000000</td>\n      <td>4.0</td>\n      <td>4.0</td>\n      <td>0.0</td>\n      <td>0.750</td>\n      <td>0.750</td>\n      <td>0.000</td>\n    </tr>\n    <tr>\n      <th>121</th>\n      <td>236.0</td>\n      <td>234.0</td>\n      <td>1.0</td>\n      <td>66.0</td>\n      <td>46.0</td>\n      <td>20.0</td>\n      <td>0.0</td>\n      <td>1.0</td>\n      <td>1.0</td>\n      <td>1.0</td>\n      <td>...</td>\n      <td>0.000000</td>\n      <td>0.006653</td>\n      <td>0.006653</td>\n      <td>0.000000</td>\n      <td>4.0</td>\n      <td>4.0</td>\n      <td>0.0</td>\n      <td>0.750</td>\n      <td>0.750</td>\n      <td>0.000</td>\n    </tr>\n    <tr>\n      <th>122</th>\n      <td>236.0</td>\n      <td>235.0</td>\n      <td>1.0</td>\n      <td>66.0</td>\n      <td>71.0</td>\n      <td>5.0</td>\n      <td>0.0</td>\n      <td>1.0</td>\n      <td>1.0</td>\n      <td>1.0</td>\n      <td>...</td>\n      <td>0.000000</td>\n      <td>0.006653</td>\n      <td>0.006653</td>\n      <td>0.000000</td>\n      <td>4.0</td>\n      <td>4.0</td>\n      <td>0.0</td>\n      <td>0.750</td>\n      <td>0.750</td>\n      <td>0.000</td>\n    </tr>\n    <tr>\n      <th>123</th>\n      <td>237.0</td>\n      <td>234.0</td>\n      <td>1.0</td>\n      <td>65.0</td>\n      <td>46.0</td>\n      <td>19.0</td>\n      <td>0.0</td>\n      <td>1.0</td>\n      <td>1.0</td>\n      <td>1.0</td>\n      <td>...</td>\n      <td>0.000000</td>\n      <td>0.006653</td>\n      <td>0.006653</td>\n      <td>0.000000</td>\n      <td>4.0</td>\n      <td>4.0</td>\n      <td>0.0</td>\n      <td>0.750</td>\n      <td>0.750</td>\n      <td>0.000</td>\n    </tr>\n    <tr>\n      <th>124</th>\n      <td>237.0</td>\n      <td>236.0</td>\n      <td>1.0</td>\n      <td>65.0</td>\n      <td>66.0</td>\n      <td>1.0</td>\n      <td>0.0</td>\n      <td>0.0</td>\n      <td>0.0</td>\n      <td>1.0</td>\n      <td>...</td>\n      <td>0.000000</td>\n      <td>0.006653</td>\n      <td>0.006653</td>\n      <td>0.000000</td>\n      <td>4.0</td>\n      <td>4.0</td>\n      <td>0.0</td>\n      <td>0.750</td>\n      <td>0.750</td>\n      <td>0.000</td>\n    </tr>\n  </tbody>\n</table>\n<p>125 rows × 30 columns</p>\n</div>"
     },
     "execution_count": 45,
     "metadata": {},
     "output_type": "execute_result"
    }
   ],
   "source": [
    "shanxi_data"
   ],
   "metadata": {
    "collapsed": false,
    "pycharm": {
     "name": "#%%\n"
    }
   }
  },
  {
   "cell_type": "code",
   "execution_count": 46,
   "outputs": [],
   "source": [
    "for ref_a in shanxi_nodelist['node_id']:\n",
    "    for ref_b in shanxi_nodelist['node_id']:\n",
    "        if ref_a == ref_b:\n",
    "            continue\n",
    "        if (ref_a, ref_b) in added_combinations:\n",
    "            continue\n",
    "        if (ref_b, ref_a) in added_combinations:\n",
    "            continue\n",
    "\n",
    "        \"\"\"\n",
    "        referee = shanxi_nodelist.loc[shanxi_nodelist['node_id'] == ref_a]\n",
    "        referral = shanxi_nodelist.loc[shanxi_nodelist['node_id'] == ref_b]\n",
    "\n",
    "        new_row = pd.Series({'referee': ref_a, 'referral': ref_b, 'contact': 0, 'referee_age': referee['age'].iloc[0], 'referral_age': referral['age'].iloc[0], 'age_diff': abs(referee['age'].iloc[0] - referral['age'].iloc[0]),\n",
    "                             'referee_gender': referee['gender'].iloc[0], 'referral_gender': referral['gender'].iloc[0], 'gender_diff': abs(referee['gender'].iloc[0] - referral['gender'].iloc[0]),\n",
    "                             'referee_relatives': referee['relatives'].iloc[0], 'referral_relatives': referral['relatives'].iloc[0], 'relatives_diff': abs(referee['relatives'].iloc[0] - referral['relatives'].iloc[0]),\n",
    "                             'hukou_diff': abs(referee['hukou_ints'].iloc[0] - referral['hukou_ints'].iloc[0])})\n",
    "        referee_dummies = shanxi_dummies.loc[shanxi_dummies['node_id'] == ref_a][shanxi_dummies.columns[6:]]\n",
    "        referral_dummies = shanxi_dummies.loc[shanxi_dummies['node_id'] == ref_b][shanxi_dummies.columns[6:]]\n",
    "\n",
    "        shanxi_data = pd.concat([shanxi_data, new_row.to_frame().T], axis='index', ignore_index=True)\n",
    "        shanxi_data['hukou_diff'] = shanxi_data['hukou_diff'].where(shanxi_data['hukou_diff'] == 0, 1)\n",
    "\n",
    "        referees_hukou = pd.concat([referees_hukou, referee_dummies], axis='index', ignore_index=True)\n",
    "        referrals_hukou = pd.concat([referrals_hukou, referral_dummies], axis='index', ignore_index=True)\n",
    "        \"\"\"\n",
    "        referee = shanxi_nodelist.query('node_id == @ref_a')\n",
    "        referral = shanxi_nodelist.query('node_id == @ref_b')\n",
    "        referee_network_stats = shanxi_network.query('Referee == @ref_a')\n",
    "        referral_network_stats = shanxi_network.query('Referee == @ref_b')\n",
    "\n",
    "        referee_age = referee['age'].iloc[0]\n",
    "        referral_age = referral['age'].iloc[0]\n",
    "        referee_gender = referee['gender'].iloc[0]\n",
    "        referral_gender = referral['gender'].iloc[0]\n",
    "        referee_relatives = referee['relatives'].iloc[0]\n",
    "        referral_relatives = referral['relatives'].iloc[0]\n",
    "        referee_hukou = referee['hukou_ints'].iloc[0]\n",
    "        referral_hukou = referral['hukou_ints'].iloc[0]\n",
    "\n",
    "        referee_degree_centrality = referee_network_stats['Degree_Centrality'].iloc[0]\n",
    "        referral_degree_centrality = referral_network_stats['Degree_Centrality'].iloc[0]\n",
    "        referee_betweenness_centrality = referee_network_stats['Betweenness_Centrality'].iloc[0]\n",
    "        referral_betweenness_centrality = referral_network_stats['Betweenness_Centrality'].iloc[0]\n",
    "        referee_pagerank_centrality = referee_network_stats['Pagerank_Centrality'].iloc[0]\n",
    "        referral_pagerank_centrality = referral_network_stats['Pagerank_Centrality'].iloc[0]\n",
    "        referee_component_size = referee_network_stats['Component_Size'].iloc[0]\n",
    "        referral_component_size = referral_network_stats['Component_Size'].iloc[0]\n",
    "        referee_avg_path_len = referee_network_stats['Avg_Shortest_Path_Length'].iloc[0]\n",
    "        referral_avg_path_len = referral_network_stats['Avg_Shortest_Path_Length'].iloc[0]\n",
    "\n",
    "        new_row = pd.Series({'referee': ref_a, 'referral': ref_b, 'contact': 0, 'referee_age': referee_age, 'referral_age': referral_age, 'age_diff': abs(referee_age - referral_age),\n",
    "                             'referee_gender': referee_gender, 'referral_gender': referral_gender, 'gender_diff': abs(referee_gender - referral_gender),\n",
    "                             'referee_relatives': referee_relatives, 'referral_relatives': referral_relatives, 'relatives_diff': abs(referee_relatives - referral_relatives),\n",
    "                             'referee_hukou': referee_hukou, 'referral_hukou': referral_hukou, 'hukou_diff': abs(referee_hukou - referral_hukou),\n",
    "                             'referee_degree_centrality': referee_degree_centrality, 'referral_degree_centrality': referral_degree_centrality, 'degree_centrality_diff': abs(referee_degree_centrality - referral_degree_centrality),\n",
    "                             'referee_betweenness_centrality': referee_betweenness_centrality, 'referral_betweenness_centrality': referral_betweenness_centrality, 'betweenness_centrality_diff': abs(referee_betweenness_centrality - referral_betweenness_centrality),\n",
    "                             'referee_pagerank_centrality': referee_pagerank_centrality, 'referral_pagerank_centrality': referral_pagerank_centrality, 'pagerank_centrality_diff': abs(referee_pagerank_centrality - referral_pagerank_centrality),\n",
    "                             'referee_component_size': referee_component_size, 'referral_component_size': referral_component_size, 'component_size_diff': abs(referee_component_size - referral_component_size),\n",
    "                             'referee_avg_path_len': referee_avg_path_len, 'referral_avg_path_len': referral_avg_path_len, 'avg_path_len_diff': abs(referee_avg_path_len - referral_avg_path_len)})\n",
    "        shanxi_data = pd.concat([shanxi_data, new_row.to_frame().T], axis='index', ignore_index=True)\n",
    "\n",
    "        added_combinations.add((ref_a, ref_b))\n",
    "        added_combinations.add((ref_b, ref_a))\n"
   ],
   "metadata": {
    "collapsed": false,
    "pycharm": {
     "name": "#%%\n"
    }
   }
  },
  {
   "cell_type": "code",
   "execution_count": 47,
   "outputs": [],
   "source": [
    "#shanxi_data = shanxi_data.join(referees_hukou)\n",
    "#shanxi_data = shanxi_data.join(referrals_hukou, lsuffix='_referee', rsuffix='_referral')\n",
    "shanxi_data['hukou_diff'] = shanxi_data['hukou_diff'].where(shanxi_data['hukou_diff'] == 0, 1)"
   ],
   "metadata": {
    "collapsed": false,
    "pycharm": {
     "name": "#%%\n"
    }
   }
  },
  {
   "cell_type": "code",
   "execution_count": 48,
   "outputs": [
    {
     "data": {
      "text/plain": "       referee  referral  contact  referee_age  referral_age  age_diff  \\\n0         11.0      10.0      1.0          9.0          45.0      36.0   \n1         11.0       9.0      1.0          9.0          46.0      37.0   \n2         10.0       9.0      1.0         45.0          46.0       1.0   \n3         22.0       2.0      1.0         33.0          32.0       1.0   \n4         20.0      19.0      1.0         52.0          70.0      18.0   \n...        ...       ...      ...          ...           ...       ...   \n27967    232.0     237.0      0.0         46.0          65.0      19.0   \n27968    233.0     234.0      0.0         67.0          46.0      21.0   \n27969    233.0     235.0      0.0         67.0          71.0       4.0   \n27970    233.0     236.0      0.0         67.0          66.0       1.0   \n27971    233.0     237.0      0.0         67.0          65.0       2.0   \n\n       referee_gender  referral_gender  gender_diff  referee_relatives  ...  \\\n0                 0.0              0.0          0.0                1.0  ...   \n1                 0.0              1.0          1.0                1.0  ...   \n2                 0.0              1.0          1.0                1.0  ...   \n3                 1.0              0.0          1.0                0.0  ...   \n4                 0.0              0.0          0.0                0.0  ...   \n...               ...              ...          ...                ...  ...   \n27967             0.0              0.0          0.0                0.0  ...   \n27968             0.0              1.0          1.0                0.0  ...   \n27969             0.0              1.0          1.0                0.0  ...   \n27970             0.0              0.0          0.0                0.0  ...   \n27971             0.0              0.0          0.0                0.0  ...   \n\n       betweenness_centrality_diff  referee_pagerank_centrality  \\\n0                         0.000000                     0.007450   \n1                         0.000541                     0.007450   \n2                         0.000541                     0.007450   \n3                         0.000108                     0.004612   \n4                         0.000216                     0.003142   \n...                            ...                          ...   \n27967                     0.000000                     0.000998   \n27968                     0.000000                     0.000998   \n27969                     0.000000                     0.000998   \n27970                     0.000000                     0.000998   \n27971                     0.000000                     0.000998   \n\n       referral_pagerank_centrality  pagerank_centrality_diff  \\\n0                          0.007450                  0.000000   \n1                          0.015512                  0.008062   \n2                          0.015512                  0.008062   \n3                          0.012776                  0.008164   \n4                          0.010087                  0.006946   \n...                             ...                       ...   \n27967                      0.006653                  0.005655   \n27968                      0.006653                  0.005655   \n27969                      0.006653                  0.005655   \n27970                      0.006653                  0.005655   \n27971                      0.006653                  0.005655   \n\n       referee_component_size  referral_component_size  component_size_diff  \\\n0                         8.0                      8.0                  0.0   \n1                         8.0                      8.0                  0.0   \n2                         8.0                      8.0                  0.0   \n3                         4.0                      4.0                  0.0   \n4                         8.0                      8.0                  0.0   \n...                       ...                      ...                  ...   \n27967                     1.0                      4.0                  3.0   \n27968                     1.0                      4.0                  3.0   \n27969                     1.0                      4.0                  3.0   \n27970                     1.0                      4.0                  3.0   \n27971                     1.0                      4.0                  3.0   \n\n       referee_avg_path_len  referral_avg_path_len  avg_path_len_diff  \n0                     1.375                  1.375              0.000  \n1                     1.375                  1.000              0.375  \n2                     1.375                  1.000              0.375  \n3                     1.250                  0.750              0.500  \n4                     2.000                  1.250              0.750  \n...                     ...                    ...                ...  \n27967                 0.000                  0.750              0.750  \n27968                 0.000                  0.750              0.750  \n27969                 0.000                  0.750              0.750  \n27970                 0.000                  0.750              0.750  \n27971                 0.000                  0.750              0.750  \n\n[27972 rows x 30 columns]",
      "text/html": "<div>\n<style scoped>\n    .dataframe tbody tr th:only-of-type {\n        vertical-align: middle;\n    }\n\n    .dataframe tbody tr th {\n        vertical-align: top;\n    }\n\n    .dataframe thead th {\n        text-align: right;\n    }\n</style>\n<table border=\"1\" class=\"dataframe\">\n  <thead>\n    <tr style=\"text-align: right;\">\n      <th></th>\n      <th>referee</th>\n      <th>referral</th>\n      <th>contact</th>\n      <th>referee_age</th>\n      <th>referral_age</th>\n      <th>age_diff</th>\n      <th>referee_gender</th>\n      <th>referral_gender</th>\n      <th>gender_diff</th>\n      <th>referee_relatives</th>\n      <th>...</th>\n      <th>betweenness_centrality_diff</th>\n      <th>referee_pagerank_centrality</th>\n      <th>referral_pagerank_centrality</th>\n      <th>pagerank_centrality_diff</th>\n      <th>referee_component_size</th>\n      <th>referral_component_size</th>\n      <th>component_size_diff</th>\n      <th>referee_avg_path_len</th>\n      <th>referral_avg_path_len</th>\n      <th>avg_path_len_diff</th>\n    </tr>\n  </thead>\n  <tbody>\n    <tr>\n      <th>0</th>\n      <td>11.0</td>\n      <td>10.0</td>\n      <td>1.0</td>\n      <td>9.0</td>\n      <td>45.0</td>\n      <td>36.0</td>\n      <td>0.0</td>\n      <td>0.0</td>\n      <td>0.0</td>\n      <td>1.0</td>\n      <td>...</td>\n      <td>0.000000</td>\n      <td>0.007450</td>\n      <td>0.007450</td>\n      <td>0.000000</td>\n      <td>8.0</td>\n      <td>8.0</td>\n      <td>0.0</td>\n      <td>1.375</td>\n      <td>1.375</td>\n      <td>0.000</td>\n    </tr>\n    <tr>\n      <th>1</th>\n      <td>11.0</td>\n      <td>9.0</td>\n      <td>1.0</td>\n      <td>9.0</td>\n      <td>46.0</td>\n      <td>37.0</td>\n      <td>0.0</td>\n      <td>1.0</td>\n      <td>1.0</td>\n      <td>1.0</td>\n      <td>...</td>\n      <td>0.000541</td>\n      <td>0.007450</td>\n      <td>0.015512</td>\n      <td>0.008062</td>\n      <td>8.0</td>\n      <td>8.0</td>\n      <td>0.0</td>\n      <td>1.375</td>\n      <td>1.000</td>\n      <td>0.375</td>\n    </tr>\n    <tr>\n      <th>2</th>\n      <td>10.0</td>\n      <td>9.0</td>\n      <td>1.0</td>\n      <td>45.0</td>\n      <td>46.0</td>\n      <td>1.0</td>\n      <td>0.0</td>\n      <td>1.0</td>\n      <td>1.0</td>\n      <td>1.0</td>\n      <td>...</td>\n      <td>0.000541</td>\n      <td>0.007450</td>\n      <td>0.015512</td>\n      <td>0.008062</td>\n      <td>8.0</td>\n      <td>8.0</td>\n      <td>0.0</td>\n      <td>1.375</td>\n      <td>1.000</td>\n      <td>0.375</td>\n    </tr>\n    <tr>\n      <th>3</th>\n      <td>22.0</td>\n      <td>2.0</td>\n      <td>1.0</td>\n      <td>33.0</td>\n      <td>32.0</td>\n      <td>1.0</td>\n      <td>1.0</td>\n      <td>0.0</td>\n      <td>1.0</td>\n      <td>0.0</td>\n      <td>...</td>\n      <td>0.000108</td>\n      <td>0.004612</td>\n      <td>0.012776</td>\n      <td>0.008164</td>\n      <td>4.0</td>\n      <td>4.0</td>\n      <td>0.0</td>\n      <td>1.250</td>\n      <td>0.750</td>\n      <td>0.500</td>\n    </tr>\n    <tr>\n      <th>4</th>\n      <td>20.0</td>\n      <td>19.0</td>\n      <td>1.0</td>\n      <td>52.0</td>\n      <td>70.0</td>\n      <td>18.0</td>\n      <td>0.0</td>\n      <td>0.0</td>\n      <td>0.0</td>\n      <td>0.0</td>\n      <td>...</td>\n      <td>0.000216</td>\n      <td>0.003142</td>\n      <td>0.010087</td>\n      <td>0.006946</td>\n      <td>8.0</td>\n      <td>8.0</td>\n      <td>0.0</td>\n      <td>2.000</td>\n      <td>1.250</td>\n      <td>0.750</td>\n    </tr>\n    <tr>\n      <th>...</th>\n      <td>...</td>\n      <td>...</td>\n      <td>...</td>\n      <td>...</td>\n      <td>...</td>\n      <td>...</td>\n      <td>...</td>\n      <td>...</td>\n      <td>...</td>\n      <td>...</td>\n      <td>...</td>\n      <td>...</td>\n      <td>...</td>\n      <td>...</td>\n      <td>...</td>\n      <td>...</td>\n      <td>...</td>\n      <td>...</td>\n      <td>...</td>\n      <td>...</td>\n      <td>...</td>\n    </tr>\n    <tr>\n      <th>27967</th>\n      <td>232.0</td>\n      <td>237.0</td>\n      <td>0.0</td>\n      <td>46.0</td>\n      <td>65.0</td>\n      <td>19.0</td>\n      <td>0.0</td>\n      <td>0.0</td>\n      <td>0.0</td>\n      <td>0.0</td>\n      <td>...</td>\n      <td>0.000000</td>\n      <td>0.000998</td>\n      <td>0.006653</td>\n      <td>0.005655</td>\n      <td>1.0</td>\n      <td>4.0</td>\n      <td>3.0</td>\n      <td>0.000</td>\n      <td>0.750</td>\n      <td>0.750</td>\n    </tr>\n    <tr>\n      <th>27968</th>\n      <td>233.0</td>\n      <td>234.0</td>\n      <td>0.0</td>\n      <td>67.0</td>\n      <td>46.0</td>\n      <td>21.0</td>\n      <td>0.0</td>\n      <td>1.0</td>\n      <td>1.0</td>\n      <td>0.0</td>\n      <td>...</td>\n      <td>0.000000</td>\n      <td>0.000998</td>\n      <td>0.006653</td>\n      <td>0.005655</td>\n      <td>1.0</td>\n      <td>4.0</td>\n      <td>3.0</td>\n      <td>0.000</td>\n      <td>0.750</td>\n      <td>0.750</td>\n    </tr>\n    <tr>\n      <th>27969</th>\n      <td>233.0</td>\n      <td>235.0</td>\n      <td>0.0</td>\n      <td>67.0</td>\n      <td>71.0</td>\n      <td>4.0</td>\n      <td>0.0</td>\n      <td>1.0</td>\n      <td>1.0</td>\n      <td>0.0</td>\n      <td>...</td>\n      <td>0.000000</td>\n      <td>0.000998</td>\n      <td>0.006653</td>\n      <td>0.005655</td>\n      <td>1.0</td>\n      <td>4.0</td>\n      <td>3.0</td>\n      <td>0.000</td>\n      <td>0.750</td>\n      <td>0.750</td>\n    </tr>\n    <tr>\n      <th>27970</th>\n      <td>233.0</td>\n      <td>236.0</td>\n      <td>0.0</td>\n      <td>67.0</td>\n      <td>66.0</td>\n      <td>1.0</td>\n      <td>0.0</td>\n      <td>0.0</td>\n      <td>0.0</td>\n      <td>0.0</td>\n      <td>...</td>\n      <td>0.000000</td>\n      <td>0.000998</td>\n      <td>0.006653</td>\n      <td>0.005655</td>\n      <td>1.0</td>\n      <td>4.0</td>\n      <td>3.0</td>\n      <td>0.000</td>\n      <td>0.750</td>\n      <td>0.750</td>\n    </tr>\n    <tr>\n      <th>27971</th>\n      <td>233.0</td>\n      <td>237.0</td>\n      <td>0.0</td>\n      <td>67.0</td>\n      <td>65.0</td>\n      <td>2.0</td>\n      <td>0.0</td>\n      <td>0.0</td>\n      <td>0.0</td>\n      <td>0.0</td>\n      <td>...</td>\n      <td>0.000000</td>\n      <td>0.000998</td>\n      <td>0.006653</td>\n      <td>0.005655</td>\n      <td>1.0</td>\n      <td>4.0</td>\n      <td>3.0</td>\n      <td>0.000</td>\n      <td>0.750</td>\n      <td>0.750</td>\n    </tr>\n  </tbody>\n</table>\n<p>27972 rows × 30 columns</p>\n</div>"
     },
     "execution_count": 48,
     "metadata": {},
     "output_type": "execute_result"
    }
   ],
   "source": [
    "shanxi_data"
   ],
   "metadata": {
    "collapsed": false,
    "pycharm": {
     "name": "#%%\n"
    }
   }
  },
  {
   "cell_type": "code",
   "execution_count": 49,
   "outputs": [
    {
     "data": {
      "text/plain": "       referee  referral  contact  referee_age  referral_age  age_diff  \\\n0         11.0      10.0      1.0    -2.565122      0.456532  2.025931   \n1         11.0       9.0      1.0    -2.584266      0.453531  2.043080   \n2         10.0       9.0      1.0     0.476145      0.105467 -1.435083   \n3         22.0       2.0      1.0     0.609572      0.017766 -1.398281   \n4         20.0      19.0      1.0    -0.142704      0.605468 -0.349392   \n...        ...       ...      ...          ...           ...       ...   \n27967    232.0     237.0      0.0    -0.246748      0.689649 -0.166755   \n27968    233.0     234.0      0.0     1.089188     -0.927143 -0.060760   \n27969    233.0     235.0      0.0     0.455583      0.250091 -1.285078   \n27970    233.0     236.0      0.0     0.605653      0.085399 -1.462533   \n27971    233.0     237.0      0.0     0.635025      0.048611 -1.399382   \n\n       referee_gender  referral_gender  gender_diff  referee_relatives  ...  \\\n0                 0.0              0.0          0.0                1.0  ...   \n1                 0.0              1.0          1.0                1.0  ...   \n2                 0.0              1.0          1.0                1.0  ...   \n3                 1.0              0.0          1.0                0.0  ...   \n4                 0.0              0.0          0.0                0.0  ...   \n...               ...              ...          ...                ...  ...   \n27967             0.0              0.0          0.0                0.0  ...   \n27968             0.0              1.0          1.0                0.0  ...   \n27969             0.0              1.0          1.0                0.0  ...   \n27970             0.0              0.0          0.0                0.0  ...   \n27971             0.0              0.0          0.0                0.0  ...   \n\n       betweenness_centrality_diff  referee_pagerank_centrality  \\\n0                        -0.217599                     1.096045   \n1                         3.856677                     1.048526   \n2                         3.572137                     0.903212   \n3                         0.851337                     0.657692   \n4                         0.886002                    -0.438020   \n...                            ...                          ...   \n27967                    -0.217599                    -0.825591   \n27968                    -0.217599                    -0.830678   \n27969                    -0.217599                    -0.858978   \n27970                    -0.217599                    -0.852275   \n27971                    -0.217599                    -0.850963   \n\n       referral_pagerank_centrality  pagerank_centrality_diff  \\\n0                          1.322771                 -0.976088   \n1                          4.024152                  1.479961   \n2                          3.653328                  1.308435   \n3                          4.451560                  2.286666   \n4                          1.052678                  0.456862   \n...                             ...                       ...   \n27967                      0.402512                  0.300973   \n27968                      0.360950                  0.269531   \n27969                      0.129715                  0.094603   \n27970                      0.184483                  0.136034   \n27971                      0.195202                  0.144144   \n\n       referee_component_size  referral_component_size  component_size_diff  \\\n0                    1.915282                 2.611252            -0.815722   \n1                    1.850954                 2.529321            -0.815722   \n2                    1.654238                 2.278777            -0.815722   \n3                    0.881734                 1.294883            -0.815722   \n4                    0.941647                 1.371191            -0.815722   \n...                       ...                      ...                  ...   \n27967               -0.704799                 0.271385            -0.011150   \n27968               -0.711224                 0.238650            -0.030959   \n27969               -0.746972                 0.056530            -0.141167   \n27970               -0.738505                 0.099665            -0.115064   \n27971               -0.736848                 0.108108            -0.109955   \n\n       referee_avg_path_len  referral_avg_path_len  avg_path_len_diff  \n0                  1.725098               1.915777          -1.075193  \n1                  1.667717               1.100768          -0.333923  \n2                  1.492246               0.960713          -0.385692  \n3                  2.151522               1.068398           0.221349  \n4                  1.629989               0.792876          -0.071252  \n...                     ...                    ...                ...  \n27967             -0.844823               0.210188           0.023696  \n27968             -0.844823               0.182740          -0.003360  \n27969             -0.844823               0.030032          -0.153882  \n27970             -0.844823               0.066201          -0.118231  \n27971             -0.844823               0.073280          -0.111253  \n\n[27972 rows x 30 columns]",
      "text/html": "<div>\n<style scoped>\n    .dataframe tbody tr th:only-of-type {\n        vertical-align: middle;\n    }\n\n    .dataframe tbody tr th {\n        vertical-align: top;\n    }\n\n    .dataframe thead th {\n        text-align: right;\n    }\n</style>\n<table border=\"1\" class=\"dataframe\">\n  <thead>\n    <tr style=\"text-align: right;\">\n      <th></th>\n      <th>referee</th>\n      <th>referral</th>\n      <th>contact</th>\n      <th>referee_age</th>\n      <th>referral_age</th>\n      <th>age_diff</th>\n      <th>referee_gender</th>\n      <th>referral_gender</th>\n      <th>gender_diff</th>\n      <th>referee_relatives</th>\n      <th>...</th>\n      <th>betweenness_centrality_diff</th>\n      <th>referee_pagerank_centrality</th>\n      <th>referral_pagerank_centrality</th>\n      <th>pagerank_centrality_diff</th>\n      <th>referee_component_size</th>\n      <th>referral_component_size</th>\n      <th>component_size_diff</th>\n      <th>referee_avg_path_len</th>\n      <th>referral_avg_path_len</th>\n      <th>avg_path_len_diff</th>\n    </tr>\n  </thead>\n  <tbody>\n    <tr>\n      <th>0</th>\n      <td>11.0</td>\n      <td>10.0</td>\n      <td>1.0</td>\n      <td>-2.565122</td>\n      <td>0.456532</td>\n      <td>2.025931</td>\n      <td>0.0</td>\n      <td>0.0</td>\n      <td>0.0</td>\n      <td>1.0</td>\n      <td>...</td>\n      <td>-0.217599</td>\n      <td>1.096045</td>\n      <td>1.322771</td>\n      <td>-0.976088</td>\n      <td>1.915282</td>\n      <td>2.611252</td>\n      <td>-0.815722</td>\n      <td>1.725098</td>\n      <td>1.915777</td>\n      <td>-1.075193</td>\n    </tr>\n    <tr>\n      <th>1</th>\n      <td>11.0</td>\n      <td>9.0</td>\n      <td>1.0</td>\n      <td>-2.584266</td>\n      <td>0.453531</td>\n      <td>2.043080</td>\n      <td>0.0</td>\n      <td>1.0</td>\n      <td>1.0</td>\n      <td>1.0</td>\n      <td>...</td>\n      <td>3.856677</td>\n      <td>1.048526</td>\n      <td>4.024152</td>\n      <td>1.479961</td>\n      <td>1.850954</td>\n      <td>2.529321</td>\n      <td>-0.815722</td>\n      <td>1.667717</td>\n      <td>1.100768</td>\n      <td>-0.333923</td>\n    </tr>\n    <tr>\n      <th>2</th>\n      <td>10.0</td>\n      <td>9.0</td>\n      <td>1.0</td>\n      <td>0.476145</td>\n      <td>0.105467</td>\n      <td>-1.435083</td>\n      <td>0.0</td>\n      <td>1.0</td>\n      <td>1.0</td>\n      <td>1.0</td>\n      <td>...</td>\n      <td>3.572137</td>\n      <td>0.903212</td>\n      <td>3.653328</td>\n      <td>1.308435</td>\n      <td>1.654238</td>\n      <td>2.278777</td>\n      <td>-0.815722</td>\n      <td>1.492246</td>\n      <td>0.960713</td>\n      <td>-0.385692</td>\n    </tr>\n    <tr>\n      <th>3</th>\n      <td>22.0</td>\n      <td>2.0</td>\n      <td>1.0</td>\n      <td>0.609572</td>\n      <td>0.017766</td>\n      <td>-1.398281</td>\n      <td>1.0</td>\n      <td>0.0</td>\n      <td>1.0</td>\n      <td>0.0</td>\n      <td>...</td>\n      <td>0.851337</td>\n      <td>0.657692</td>\n      <td>4.451560</td>\n      <td>2.286666</td>\n      <td>0.881734</td>\n      <td>1.294883</td>\n      <td>-0.815722</td>\n      <td>2.151522</td>\n      <td>1.068398</td>\n      <td>0.221349</td>\n    </tr>\n    <tr>\n      <th>4</th>\n      <td>20.0</td>\n      <td>19.0</td>\n      <td>1.0</td>\n      <td>-0.142704</td>\n      <td>0.605468</td>\n      <td>-0.349392</td>\n      <td>0.0</td>\n      <td>0.0</td>\n      <td>0.0</td>\n      <td>0.0</td>\n      <td>...</td>\n      <td>0.886002</td>\n      <td>-0.438020</td>\n      <td>1.052678</td>\n      <td>0.456862</td>\n      <td>0.941647</td>\n      <td>1.371191</td>\n      <td>-0.815722</td>\n      <td>1.629989</td>\n      <td>0.792876</td>\n      <td>-0.071252</td>\n    </tr>\n    <tr>\n      <th>...</th>\n      <td>...</td>\n      <td>...</td>\n      <td>...</td>\n      <td>...</td>\n      <td>...</td>\n      <td>...</td>\n      <td>...</td>\n      <td>...</td>\n      <td>...</td>\n      <td>...</td>\n      <td>...</td>\n      <td>...</td>\n      <td>...</td>\n      <td>...</td>\n      <td>...</td>\n      <td>...</td>\n      <td>...</td>\n      <td>...</td>\n      <td>...</td>\n      <td>...</td>\n      <td>...</td>\n    </tr>\n    <tr>\n      <th>27967</th>\n      <td>232.0</td>\n      <td>237.0</td>\n      <td>0.0</td>\n      <td>-0.246748</td>\n      <td>0.689649</td>\n      <td>-0.166755</td>\n      <td>0.0</td>\n      <td>0.0</td>\n      <td>0.0</td>\n      <td>0.0</td>\n      <td>...</td>\n      <td>-0.217599</td>\n      <td>-0.825591</td>\n      <td>0.402512</td>\n      <td>0.300973</td>\n      <td>-0.704799</td>\n      <td>0.271385</td>\n      <td>-0.011150</td>\n      <td>-0.844823</td>\n      <td>0.210188</td>\n      <td>0.023696</td>\n    </tr>\n    <tr>\n      <th>27968</th>\n      <td>233.0</td>\n      <td>234.0</td>\n      <td>0.0</td>\n      <td>1.089188</td>\n      <td>-0.927143</td>\n      <td>-0.060760</td>\n      <td>0.0</td>\n      <td>1.0</td>\n      <td>1.0</td>\n      <td>0.0</td>\n      <td>...</td>\n      <td>-0.217599</td>\n      <td>-0.830678</td>\n      <td>0.360950</td>\n      <td>0.269531</td>\n      <td>-0.711224</td>\n      <td>0.238650</td>\n      <td>-0.030959</td>\n      <td>-0.844823</td>\n      <td>0.182740</td>\n      <td>-0.003360</td>\n    </tr>\n    <tr>\n      <th>27969</th>\n      <td>233.0</td>\n      <td>235.0</td>\n      <td>0.0</td>\n      <td>0.455583</td>\n      <td>0.250091</td>\n      <td>-1.285078</td>\n      <td>0.0</td>\n      <td>1.0</td>\n      <td>1.0</td>\n      <td>0.0</td>\n      <td>...</td>\n      <td>-0.217599</td>\n      <td>-0.858978</td>\n      <td>0.129715</td>\n      <td>0.094603</td>\n      <td>-0.746972</td>\n      <td>0.056530</td>\n      <td>-0.141167</td>\n      <td>-0.844823</td>\n      <td>0.030032</td>\n      <td>-0.153882</td>\n    </tr>\n    <tr>\n      <th>27970</th>\n      <td>233.0</td>\n      <td>236.0</td>\n      <td>0.0</td>\n      <td>0.605653</td>\n      <td>0.085399</td>\n      <td>-1.462533</td>\n      <td>0.0</td>\n      <td>0.0</td>\n      <td>0.0</td>\n      <td>0.0</td>\n      <td>...</td>\n      <td>-0.217599</td>\n      <td>-0.852275</td>\n      <td>0.184483</td>\n      <td>0.136034</td>\n      <td>-0.738505</td>\n      <td>0.099665</td>\n      <td>-0.115064</td>\n      <td>-0.844823</td>\n      <td>0.066201</td>\n      <td>-0.118231</td>\n    </tr>\n    <tr>\n      <th>27971</th>\n      <td>233.0</td>\n      <td>237.0</td>\n      <td>0.0</td>\n      <td>0.635025</td>\n      <td>0.048611</td>\n      <td>-1.399382</td>\n      <td>0.0</td>\n      <td>0.0</td>\n      <td>0.0</td>\n      <td>0.0</td>\n      <td>...</td>\n      <td>-0.217599</td>\n      <td>-0.850963</td>\n      <td>0.195202</td>\n      <td>0.144144</td>\n      <td>-0.736848</td>\n      <td>0.108108</td>\n      <td>-0.109955</td>\n      <td>-0.844823</td>\n      <td>0.073280</td>\n      <td>-0.111253</td>\n    </tr>\n  </tbody>\n</table>\n<p>27972 rows × 30 columns</p>\n</div>"
     },
     "execution_count": 49,
     "metadata": {},
     "output_type": "execute_result"
    }
   ],
   "source": [
    "shanxi_data[['referee_age', 'referral_age', 'age_diff', 'referee_degree_centrality', 'referral_degree_centrality',\n",
    "             'degree_centrality_diff', 'referee_betweenness_centrality',\n",
    "             'referral_betweenness_centrality', 'betweenness_centrality_diff',\n",
    "             'referee_pagerank_centrality', 'referral_pagerank_centrality',\n",
    "             'pagerank_centrality_diff', 'referee_component_size',\n",
    "             'referral_component_size', 'component_size_diff', 'referee_avg_path_len',\n",
    "             'referral_avg_path_len', 'avg_path_len_diff']] = normalize(shanxi_data[['referee_age', 'referral_age', 'age_diff', 'referee_degree_centrality', 'referral_degree_centrality',\n",
    "                                                                                         'degree_centrality_diff', 'referee_betweenness_centrality',\n",
    "                                                                                         'referral_betweenness_centrality', 'betweenness_centrality_diff',\n",
    "                                                                                         'referee_pagerank_centrality', 'referral_pagerank_centrality',\n",
    "                                                                                         'pagerank_centrality_diff', 'referee_component_size',\n",
    "                                                                                         'referral_component_size', 'component_size_diff', 'referee_avg_path_len',\n",
    "                                                                                     'referral_avg_path_len', 'avg_path_len_diff']])\n",
    "shanxi_data[['referee_age', 'referral_age', 'age_diff', 'referee_degree_centrality', 'referral_degree_centrality',\n",
    "             'degree_centrality_diff', 'referee_betweenness_centrality',\n",
    "             'referral_betweenness_centrality', 'betweenness_centrality_diff',\n",
    "             'referee_pagerank_centrality', 'referral_pagerank_centrality',\n",
    "             'pagerank_centrality_diff', 'referee_component_size',\n",
    "             'referral_component_size', 'component_size_diff', 'referee_avg_path_len',\n",
    "             'referral_avg_path_len', 'avg_path_len_diff']] = scale(shanxi_data[['referee_age', 'referral_age', 'age_diff', 'referee_degree_centrality', 'referral_degree_centrality',\n",
    "                                                                                         'degree_centrality_diff', 'referee_betweenness_centrality',\n",
    "                                                                                         'referral_betweenness_centrality', 'betweenness_centrality_diff',\n",
    "                                                                                         'referee_pagerank_centrality', 'referral_pagerank_centrality',\n",
    "                                                                                         'pagerank_centrality_diff', 'referee_component_size',\n",
    "                                                                                         'referral_component_size', 'component_size_diff', 'referee_avg_path_len',\n",
    "                                                                                 'referral_avg_path_len', 'avg_path_len_diff']])\n",
    "shanxi_data"
   ],
   "metadata": {
    "collapsed": false,
    "pycharm": {
     "name": "#%%\n"
    }
   }
  },
  {
   "cell_type": "code",
   "execution_count": 50,
   "outputs": [
    {
     "data": {
      "text/plain": "array([ 0.01450159, -0.0175731 , -0.01056091, -0.01539246,  0.00552877,\n        0.01150495,  0.05974816,  0.02571722, -0.00035044,  0.00788541,\n        0.01891385, -0.09406561,  0.03385996,  0.14421896,  0.02751665,\n       -0.00160706,  0.21000583,  0.08109907,  0.02975455,  0.11685592,\n        0.01861931,  0.04097268,  0.06369963, -0.05465225,  0.05224747,\n        0.03406456, -0.04175386])"
     },
     "execution_count": 50,
     "metadata": {},
     "output_type": "execute_result"
    }
   ],
   "source": [
    "r_regression(shanxi_data[shanxi_data.columns[3:]], shanxi_data['contact'])"
   ],
   "metadata": {
    "collapsed": false,
    "pycharm": {
     "name": "#%%\n"
    }
   }
  },
  {
   "cell_type": "code",
   "execution_count": 51,
   "outputs": [
    {
     "data": {
      "text/plain": "(array([5.88321597e+00, 8.64019394e+00, 3.11992060e+00, 6.62843994e+00,\n        8.54992530e-01, 3.70270591e+00, 1.00206212e+02, 1.85109144e+01,\n        3.43501594e-03, 1.73927197e+00, 1.00093878e+01, 2.49697442e+02,\n        3.21043161e+01, 5.94107967e+02, 2.11939786e+01, 7.22366126e-02,\n        1.29045779e+03, 1.85178262e+02, 2.47847187e+01, 3.87226624e+02,\n        9.69996400e+00, 4.70338997e+01, 1.13954654e+02, 8.37929933e+01,\n        7.65614650e+01, 3.24939391e+01, 4.88476413e+01]),\n array([1.52921619e-002, 3.29095226e-003, 7.73514580e-002, 1.00414063e-002,\n        3.55151778e-001, 5.43344351e-002, 1.50458858e-023, 1.69507094e-005,\n        9.53263954e-001, 1.87241897e-001, 1.55910923e-003, 5.28348334e-056,\n        1.47547129e-008, 7.26053267e-130, 4.16890605e-006, 7.88109666e-001,\n        2.56300410e-276, 4.88468766e-042, 6.44845067e-007, 1.26289579e-085,\n        1.84457727e-003, 7.12204047e-012, 1.49987365e-026, 5.85772469e-020,\n        2.25231012e-018, 1.20766903e-008, 2.82838670e-012]))"
     },
     "execution_count": 51,
     "metadata": {},
     "output_type": "execute_result"
    }
   ],
   "source": [
    "f_regression(shanxi_data[shanxi_data.columns[3:]], shanxi_data['contact'])"
   ],
   "metadata": {
    "collapsed": false,
    "pycharm": {
     "name": "#%%\n"
    }
   }
  },
  {
   "cell_type": "code",
   "execution_count": 52,
   "outputs": [
    {
     "name": "stdout",
     "output_type": "stream",
     "text": [
      "                                 OLS Regression Results                                \n",
      "=======================================================================================\n",
      "Dep. Variable:                contact   R-squared (uncentered):                   0.107\n",
      "Model:                            OLS   Adj. R-squared (uncentered):              0.107\n",
      "Method:                 Least Squares   F-statistic:                              124.6\n",
      "Date:                Fri, 30 Jun 2023   Prob (F-statistic):                        0.00\n",
      "Time:                        13:16:00   Log-Likelihood:                          37573.\n",
      "No. Observations:               27972   AIC:                                 -7.509e+04\n",
      "Df Residuals:                   27945   BIC:                                 -7.487e+04\n",
      "Df Model:                          27                                                  \n",
      "Covariance Type:            nonrobust                                                  \n",
      "===================================================================================================\n",
      "                                      coef    std err          t      P>|t|      [0.025      0.975]\n",
      "---------------------------------------------------------------------------------------------------\n",
      "referee_age                        -0.0033      0.001     -2.403      0.016      -0.006      -0.001\n",
      "referral_age                       -0.0032      0.001     -2.659      0.008      -0.005      -0.001\n",
      "age_diff                           -0.0028      0.001     -2.689      0.007      -0.005      -0.001\n",
      "referee_gender                      0.0025      0.001      3.321      0.001       0.001       0.004\n",
      "referral_gender                     0.0028      0.001      3.965      0.000       0.001       0.004\n",
      "gender_diff                         0.0040      0.001      5.633      0.000       0.003       0.005\n",
      "referee_relatives                   0.0107      0.001     10.532      0.000       0.009       0.013\n",
      "referral_relatives                  0.0008      0.001      0.857      0.391      -0.001       0.003\n",
      "relatives_diff                      0.0017      0.001      2.001      0.045    3.52e-05       0.003\n",
      "referee_hukou                       0.0007   8.51e-05      7.936      0.000       0.001       0.001\n",
      "referral_hukou                      0.0006    8.6e-05      7.008      0.000       0.000       0.001\n",
      "hukou_diff                         -0.0145      0.001    -15.937      0.000      -0.016      -0.013\n",
      "referee_degree_centrality           0.0171      0.002      9.103      0.000       0.013       0.021\n",
      "referral_degree_centrality          0.0101      0.001      8.757      0.000       0.008       0.012\n",
      "degree_centrality_diff             -0.0110      0.001     -8.503      0.000      -0.013      -0.008\n",
      "referee_betweenness_centrality     -0.0163      0.004     -4.632      0.000      -0.023      -0.009\n",
      "referral_betweenness_centrality     0.0034      0.002      2.139      0.032       0.000       0.006\n",
      "betweenness_centrality_diff         0.0204      0.004      5.345      0.000       0.013       0.028\n",
      "referee_pagerank_centrality        -0.0103      0.001     -7.775      0.000      -0.013      -0.008\n",
      "referral_pagerank_centrality       -0.0019      0.001     -1.983      0.047      -0.004   -2.15e-05\n",
      "pagerank_centrality_diff           -0.0011      0.001     -1.164      0.244      -0.003       0.001\n",
      "referee_component_size              0.0293      0.002     19.310      0.000       0.026       0.032\n",
      "referral_component_size             0.0218      0.001     18.538      0.000       0.020       0.024\n",
      "component_size_diff                -0.0381      0.001    -30.697      0.000      -0.041      -0.036\n",
      "referee_avg_path_len               -0.0162      0.001    -12.421      0.000      -0.019      -0.014\n",
      "referral_avg_path_len              -0.0166      0.001    -14.701      0.000      -0.019      -0.014\n",
      "avg_path_len_diff                   0.0206      0.001     19.936      0.000       0.019       0.023\n",
      "==============================================================================\n",
      "Omnibus:                    49904.877   Durbin-Watson:                   0.153\n",
      "Prob(Omnibus):                  0.000   Jarque-Bera (JB):         45236126.474\n",
      "Skew:                          13.198   Prob(JB):                         0.00\n",
      "Kurtosis:                     198.233   Cond. No.                         110.\n",
      "==============================================================================\n",
      "\n",
      "Notes:\n",
      "[1] R² is computed without centering (uncentered) since the model does not contain a constant.\n",
      "[2] Standard Errors assume that the covariance matrix of the errors is correctly specified.\n"
     ]
    }
   ],
   "source": [
    "print(sm.OLS(shanxi_data['contact'], shanxi_data[shanxi_data.columns[3:]]).fit().summary())"
   ],
   "metadata": {
    "collapsed": false,
    "pycharm": {
     "name": "#%%\n"
    }
   }
  },
  {
   "cell_type": "markdown",
   "source": [
    "# Bucharest"
   ],
   "metadata": {
    "collapsed": false,
    "pycharm": {
     "name": "#%% md\n"
    }
   }
  },
  {
   "cell_type": "code",
   "execution_count": 53,
   "outputs": [],
   "source": [
    "bucharest_nodelist = pd.read_csv('../Data/Preprocessed/bucharest_nodelist.csv')\n",
    "bucharest_edgelist = pd.read_csv('../Data/Preprocessed/bucharest_edgelist.csv')\n",
    "bucharest_network = pd.read_csv('../Data/Tables/basic/bucharest_basic_analysis.csv')"
   ],
   "metadata": {
    "collapsed": false,
    "pycharm": {
     "name": "#%%\n"
    }
   }
  },
  {
   "cell_type": "code",
   "execution_count": 63,
   "outputs": [
    {
     "data": {
      "text/plain": "       Unnamed: 0      Referee  Degree_Centrality  Betweenness_Centrality  \\\n0               0        53594           0.000035            5.979585e-10   \n1               1  10330S53594           0.000017            0.000000e+00   \n2               2  10331S53594           0.000017            0.000000e+00   \n3               3        58373           0.000017            0.000000e+00   \n4               4  11577S58373           0.000017            0.000000e+00   \n...           ...          ...                ...                     ...   \n57830       57830       256534           0.000000            0.000000e+00   \n57831       57831       256533           0.000000            0.000000e+00   \n57832       57832       256514           0.000000            0.000000e+00   \n57833       57833       256531           0.000000            0.000000e+00   \n57834       57834       256532           0.000000            0.000000e+00   \n\n       Pagerank_Centrality  Component_Size  Avg_Shortest_Path_Length  \n0                 0.000058               3                  0.666667  \n1                 0.000029               3                  1.000000  \n2                 0.000029               3                  1.000000  \n3                 0.000039               2                  0.500000  \n4                 0.000039               2                  0.500000  \n...                    ...             ...                       ...  \n57830             0.000006               1                  0.000000  \n57831             0.000006               1                  0.000000  \n57832             0.000006               1                  0.000000  \n57833             0.000006               1                  0.000000  \n57834             0.000006               1                  0.000000  \n\n[57835 rows x 7 columns]",
      "text/html": "<div>\n<style scoped>\n    .dataframe tbody tr th:only-of-type {\n        vertical-align: middle;\n    }\n\n    .dataframe tbody tr th {\n        vertical-align: top;\n    }\n\n    .dataframe thead th {\n        text-align: right;\n    }\n</style>\n<table border=\"1\" class=\"dataframe\">\n  <thead>\n    <tr style=\"text-align: right;\">\n      <th></th>\n      <th>Unnamed: 0</th>\n      <th>Referee</th>\n      <th>Degree_Centrality</th>\n      <th>Betweenness_Centrality</th>\n      <th>Pagerank_Centrality</th>\n      <th>Component_Size</th>\n      <th>Avg_Shortest_Path_Length</th>\n    </tr>\n  </thead>\n  <tbody>\n    <tr>\n      <th>0</th>\n      <td>0</td>\n      <td>53594</td>\n      <td>0.000035</td>\n      <td>5.979585e-10</td>\n      <td>0.000058</td>\n      <td>3</td>\n      <td>0.666667</td>\n    </tr>\n    <tr>\n      <th>1</th>\n      <td>1</td>\n      <td>10330S53594</td>\n      <td>0.000017</td>\n      <td>0.000000e+00</td>\n      <td>0.000029</td>\n      <td>3</td>\n      <td>1.000000</td>\n    </tr>\n    <tr>\n      <th>2</th>\n      <td>2</td>\n      <td>10331S53594</td>\n      <td>0.000017</td>\n      <td>0.000000e+00</td>\n      <td>0.000029</td>\n      <td>3</td>\n      <td>1.000000</td>\n    </tr>\n    <tr>\n      <th>3</th>\n      <td>3</td>\n      <td>58373</td>\n      <td>0.000017</td>\n      <td>0.000000e+00</td>\n      <td>0.000039</td>\n      <td>2</td>\n      <td>0.500000</td>\n    </tr>\n    <tr>\n      <th>4</th>\n      <td>4</td>\n      <td>11577S58373</td>\n      <td>0.000017</td>\n      <td>0.000000e+00</td>\n      <td>0.000039</td>\n      <td>2</td>\n      <td>0.500000</td>\n    </tr>\n    <tr>\n      <th>...</th>\n      <td>...</td>\n      <td>...</td>\n      <td>...</td>\n      <td>...</td>\n      <td>...</td>\n      <td>...</td>\n      <td>...</td>\n    </tr>\n    <tr>\n      <th>57830</th>\n      <td>57830</td>\n      <td>256534</td>\n      <td>0.000000</td>\n      <td>0.000000e+00</td>\n      <td>0.000006</td>\n      <td>1</td>\n      <td>0.000000</td>\n    </tr>\n    <tr>\n      <th>57831</th>\n      <td>57831</td>\n      <td>256533</td>\n      <td>0.000000</td>\n      <td>0.000000e+00</td>\n      <td>0.000006</td>\n      <td>1</td>\n      <td>0.000000</td>\n    </tr>\n    <tr>\n      <th>57832</th>\n      <td>57832</td>\n      <td>256514</td>\n      <td>0.000000</td>\n      <td>0.000000e+00</td>\n      <td>0.000006</td>\n      <td>1</td>\n      <td>0.000000</td>\n    </tr>\n    <tr>\n      <th>57833</th>\n      <td>57833</td>\n      <td>256531</td>\n      <td>0.000000</td>\n      <td>0.000000e+00</td>\n      <td>0.000006</td>\n      <td>1</td>\n      <td>0.000000</td>\n    </tr>\n    <tr>\n      <th>57834</th>\n      <td>57834</td>\n      <td>256532</td>\n      <td>0.000000</td>\n      <td>0.000000e+00</td>\n      <td>0.000006</td>\n      <td>1</td>\n      <td>0.000000</td>\n    </tr>\n  </tbody>\n</table>\n<p>57835 rows × 7 columns</p>\n</div>"
     },
     "execution_count": 63,
     "metadata": {},
     "output_type": "execute_result"
    }
   ],
   "source": [
    "bucharest_network"
   ],
   "metadata": {
    "collapsed": false,
    "pycharm": {
     "name": "#%%\n"
    }
   }
  },
  {
   "cell_type": "code",
   "execution_count": 54,
   "outputs": [],
   "source": [
    "bucharest_nodelist['medical_ints'] = pd.factorize(bucharest_nodelist['medical'])[0]\n",
    "bucharest_nodelist['isco08_code_ints'] = pd.factorize(bucharest_nodelist['isco08_code'])[0]"
   ],
   "metadata": {
    "collapsed": false,
    "pycharm": {
     "name": "#%%\n"
    }
   }
  },
  {
   "cell_type": "code",
   "execution_count": 55,
   "outputs": [
    {
     "data": {
      "text/plain": "       Unnamed: 0   node_id   age  gender medical isco08_code  \\\n0               0    179373  65.0       1      No         NAP   \n1               1  1S179373  63.0     NaN     NaN         NaN   \n2               2    146179  40.0       1      No         EMP   \n3               3    235990  32.0     2.0     NaN         NaN   \n4               4  3S146179   3.0     NaN      No         NAC   \n...           ...       ...   ...     ...     ...         ...   \n57830       57830        19  32.0    male     NaN         NaN   \n57831       57831        18  30.0  female     NaN         NaN   \n57832       57832        16  60.0    male     NaN         NaN   \n57833       57833        14  42.0  female     NaN         NaN   \n57834       57834        12  49.0    male     NaN         NaN   \n\n                   isco08_label  medical_ints  isco08_code_ints  \n0        Not Active - pensioner             0                 0  \n1                           NaN            -1                -1  \n2      Employee - unknown group             0                 1  \n3                           NaN            -1                -1  \n4            Not Active - Child             0                 2  \n...                         ...           ...               ...  \n57830                       NaN            -1                -1  \n57831                       NaN            -1                -1  \n57832                       NaN            -1                -1  \n57833                       NaN            -1                -1  \n57834                       NaN            -1                -1  \n\n[57835 rows x 9 columns]",
      "text/html": "<div>\n<style scoped>\n    .dataframe tbody tr th:only-of-type {\n        vertical-align: middle;\n    }\n\n    .dataframe tbody tr th {\n        vertical-align: top;\n    }\n\n    .dataframe thead th {\n        text-align: right;\n    }\n</style>\n<table border=\"1\" class=\"dataframe\">\n  <thead>\n    <tr style=\"text-align: right;\">\n      <th></th>\n      <th>Unnamed: 0</th>\n      <th>node_id</th>\n      <th>age</th>\n      <th>gender</th>\n      <th>medical</th>\n      <th>isco08_code</th>\n      <th>isco08_label</th>\n      <th>medical_ints</th>\n      <th>isco08_code_ints</th>\n    </tr>\n  </thead>\n  <tbody>\n    <tr>\n      <th>0</th>\n      <td>0</td>\n      <td>179373</td>\n      <td>65.0</td>\n      <td>1</td>\n      <td>No</td>\n      <td>NAP</td>\n      <td>Not Active - pensioner</td>\n      <td>0</td>\n      <td>0</td>\n    </tr>\n    <tr>\n      <th>1</th>\n      <td>1</td>\n      <td>1S179373</td>\n      <td>63.0</td>\n      <td>NaN</td>\n      <td>NaN</td>\n      <td>NaN</td>\n      <td>NaN</td>\n      <td>-1</td>\n      <td>-1</td>\n    </tr>\n    <tr>\n      <th>2</th>\n      <td>2</td>\n      <td>146179</td>\n      <td>40.0</td>\n      <td>1</td>\n      <td>No</td>\n      <td>EMP</td>\n      <td>Employee - unknown group</td>\n      <td>0</td>\n      <td>1</td>\n    </tr>\n    <tr>\n      <th>3</th>\n      <td>3</td>\n      <td>235990</td>\n      <td>32.0</td>\n      <td>2.0</td>\n      <td>NaN</td>\n      <td>NaN</td>\n      <td>NaN</td>\n      <td>-1</td>\n      <td>-1</td>\n    </tr>\n    <tr>\n      <th>4</th>\n      <td>4</td>\n      <td>3S146179</td>\n      <td>3.0</td>\n      <td>NaN</td>\n      <td>No</td>\n      <td>NAC</td>\n      <td>Not Active - Child</td>\n      <td>0</td>\n      <td>2</td>\n    </tr>\n    <tr>\n      <th>...</th>\n      <td>...</td>\n      <td>...</td>\n      <td>...</td>\n      <td>...</td>\n      <td>...</td>\n      <td>...</td>\n      <td>...</td>\n      <td>...</td>\n      <td>...</td>\n    </tr>\n    <tr>\n      <th>57830</th>\n      <td>57830</td>\n      <td>19</td>\n      <td>32.0</td>\n      <td>male</td>\n      <td>NaN</td>\n      <td>NaN</td>\n      <td>NaN</td>\n      <td>-1</td>\n      <td>-1</td>\n    </tr>\n    <tr>\n      <th>57831</th>\n      <td>57831</td>\n      <td>18</td>\n      <td>30.0</td>\n      <td>female</td>\n      <td>NaN</td>\n      <td>NaN</td>\n      <td>NaN</td>\n      <td>-1</td>\n      <td>-1</td>\n    </tr>\n    <tr>\n      <th>57832</th>\n      <td>57832</td>\n      <td>16</td>\n      <td>60.0</td>\n      <td>male</td>\n      <td>NaN</td>\n      <td>NaN</td>\n      <td>NaN</td>\n      <td>-1</td>\n      <td>-1</td>\n    </tr>\n    <tr>\n      <th>57833</th>\n      <td>57833</td>\n      <td>14</td>\n      <td>42.0</td>\n      <td>female</td>\n      <td>NaN</td>\n      <td>NaN</td>\n      <td>NaN</td>\n      <td>-1</td>\n      <td>-1</td>\n    </tr>\n    <tr>\n      <th>57834</th>\n      <td>57834</td>\n      <td>12</td>\n      <td>49.0</td>\n      <td>male</td>\n      <td>NaN</td>\n      <td>NaN</td>\n      <td>NaN</td>\n      <td>-1</td>\n      <td>-1</td>\n    </tr>\n  </tbody>\n</table>\n<p>57835 rows × 9 columns</p>\n</div>"
     },
     "execution_count": 55,
     "metadata": {},
     "output_type": "execute_result"
    }
   ],
   "source": [
    "bucharest_nodelist"
   ],
   "metadata": {
    "collapsed": false,
    "pycharm": {
     "name": "#%%\n"
    }
   }
  },
  {
   "cell_type": "code",
   "execution_count": 56,
   "outputs": [
    {
     "data": {
      "text/plain": "array(['1', nan, '2.0', '2', '1.0', 'male', 'female'], dtype=object)"
     },
     "execution_count": 56,
     "metadata": {},
     "output_type": "execute_result"
    }
   ],
   "source": [
    "bucharest_nodelist['gender'].unique()"
   ],
   "metadata": {
    "collapsed": false,
    "pycharm": {
     "name": "#%%\n"
    }
   }
  },
  {
   "cell_type": "code",
   "execution_count": 57,
   "outputs": [
    {
     "name": "stderr",
     "output_type": "stream",
     "text": [
      "C:\\Users\\simon\\AppData\\Local\\Temp\\ipykernel_13528\\618193415.py:4: SettingWithCopyWarning: \n",
      "A value is trying to be set on a copy of a slice from a DataFrame\n",
      "\n",
      "See the caveats in the documentation: https://pandas.pydata.org/pandas-docs/stable/user_guide/indexing.html#returning-a-view-versus-a-copy\n",
      "  bucharest_nodelist['gender'][~bucharest_nodelist['gender'].isnull()] = bucharest_nodelist['gender'][~bucharest_nodelist['gender'].isnull()].apply(lambda x: float(x))\n"
     ]
    }
   ],
   "source": [
    "bucharest_nodelist['age'] = bucharest_nodelist['age'].fillna(value=int(bucharest_nodelist['age'].mean()))\n",
    "bucharest_nodelist['gender'] = bucharest_nodelist['gender'].where(bucharest_nodelist['gender'] != 'male', 1)\n",
    "bucharest_nodelist['gender'] = bucharest_nodelist['gender'].where(bucharest_nodelist['gender'] != 'female', 2)\n",
    "bucharest_nodelist['gender'][~bucharest_nodelist['gender'].isnull()] = bucharest_nodelist['gender'][~bucharest_nodelist['gender'].isnull()].apply(lambda x: float(x))\n",
    "bucharest_nodelist['gender'] = bucharest_nodelist['gender'].astype('Int64', errors='ignore')\n",
    "bucharest_nodelist['gender'] = bucharest_nodelist['gender'].where(bucharest_nodelist['gender'] != 0, np.nan)\n",
    "#bucharest_nodelist['gender'] = bucharest_nodelist['gender'].mask(bucharest_nodelist['gender'].isnull(), np.random.randint(0, 2, size=bucharest_nodelist.shape[0]))"
   ],
   "metadata": {
    "collapsed": false,
    "pycharm": {
     "name": "#%%\n"
    }
   }
  },
  {
   "cell_type": "code",
   "execution_count": 92,
   "outputs": [],
   "source": [
    "bucharest_data = pd.DataFrame(columns=['referee', 'referral', 'contact', 'referee_age', 'referral_age', 'age_diff', 'referee_gender', 'referral_gender', 'gender_diff', 'referee_medical', 'referral_medical', 'medical_diff',\n",
    "                                    'referee_isco08_label', 'referral_isco08_label', 'isco08_label_diff', 'referee_degree_centrality', 'referral_degree_centrality', 'degree_centrality_diff', 'referee_betweenness_centrality', 'referral_betweenness_centrality', 'betweenness_centrality_diff',\n",
    "                                    'referee_pagerank_centrality', 'referral_pagerank_centrality', 'pagerank_centrality_diff', 'referee_component_size', 'referral_component_size', 'component_size_diff',\n",
    "                                       'referee_avg_path_len', 'referral_avg_path_len', 'avg_path_len_diff'])"
   ],
   "metadata": {
    "collapsed": false,
    "pycharm": {
     "name": "#%%\n"
    }
   }
  },
  {
   "cell_type": "code",
   "execution_count": 93,
   "outputs": [],
   "source": [
    "added_combinations = set()\n",
    "for index, row in bucharest_edgelist[~bucharest_edgelist['Referral'].isna()].iterrows():\n",
    "    referee_id = row['Referee']\n",
    "    referral_id = row['Referral']\n",
    "    referee = bucharest_nodelist.query('node_id == @referee_id')\n",
    "    referral = bucharest_nodelist.query('node_id == @referral_id')\n",
    "    referee_network_stats = bucharest_network.query('Referee == @referee_id')\n",
    "    referral_network_stats = bucharest_network.query('Referee == @referral_id')\n",
    "\n",
    "    referee_age = referee['age'].iloc[0]\n",
    "    referral_age = referral['age'].iloc[0]\n",
    "    referee_gender = referee['gender'].iloc[0]\n",
    "    referral_gender = referral['gender'].iloc[0]\n",
    "    referee_medical = referee['medical_ints'].iloc[0]\n",
    "    referral_medical = referral['medical_ints'].iloc[0]\n",
    "    referee_isco08_label = referee['isco08_code_ints'].iloc[0]\n",
    "    referral_isco08_label = referral['isco08_code_ints'].iloc[0]\n",
    "\n",
    "    referee_degree_centrality = referee_network_stats['Degree_Centrality'].iloc[0]\n",
    "    referral_degree_centrality = referral_network_stats['Degree_Centrality'].iloc[0]\n",
    "    referee_betweenness_centrality = referee_network_stats['Betweenness_Centrality'].iloc[0]\n",
    "    referral_betweenness_centrality = referral_network_stats['Betweenness_Centrality'].iloc[0]\n",
    "    referee_pagerank_centrality = referee_network_stats['Pagerank_Centrality'].iloc[0]\n",
    "    referral_pagerank_centrality = referral_network_stats['Pagerank_Centrality'].iloc[0]\n",
    "    referee_component_size = referee_network_stats['Component_Size'].iloc[0]\n",
    "    referral_component_size = referral_network_stats['Component_Size'].iloc[0]\n",
    "    referee_avg_path_len = referee_network_stats['Avg_Shortest_Path_Length'].iloc[0]\n",
    "    referral_avg_path_len = referral_network_stats['Avg_Shortest_Path_Length'].iloc[0]\n",
    "\n",
    "    new_row = pd.Series({'referee': referee_id, 'referral': referral_id, 'contact': 1, 'referee_age': referee_age, 'referral_age': referral_age, 'age_diff': abs(referee_age - referral_age),\n",
    "                         'referee_gender': referee_gender, 'referral_gender': referral_gender, 'gender_diff': abs(referee_gender - referral_gender),\n",
    "                         'referee_medical': referee_medical, 'referral_medical': referral_medical, 'medical_diff': abs(referee_medical - referral_medical),\n",
    "                         'referee_isco08_label': referee_isco08_label, 'referral_isco08_label': referral_isco08_label, 'isco08_label_diff': abs(referee_isco08_label - referral_isco08_label),\n",
    "                         'referee_degree_centrality': referee_degree_centrality, 'referral_degree_centrality': referral_degree_centrality, 'degree_centrality_diff': abs(referee_degree_centrality - referral_degree_centrality),\n",
    "                         'referee_betweenness_centrality': referee_betweenness_centrality, 'referral_betweenness_centrality': referral_betweenness_centrality, 'betweenness_centrality_diff': abs(referee_betweenness_centrality - referral_betweenness_centrality),\n",
    "                         'referee_pagerank_centrality': referee_pagerank_centrality, 'referral_pagerank_centrality': referral_pagerank_centrality, 'pagerank_centrality_diff': abs(referee_pagerank_centrality - referral_pagerank_centrality),\n",
    "                         'referee_component_size': referee_component_size, 'referral_component_size': referral_component_size, 'component_size_diff': abs(referee_component_size - referral_component_size),\n",
    "                         'referee_avg_path_len': referee_avg_path_len, 'referral_avg_path_len': referral_avg_path_len, 'avg_path_len_diff': abs(referee_avg_path_len - referral_avg_path_len)})\n",
    "    bucharest_data = pd.concat([bucharest_data, new_row.to_frame().T], axis='index', ignore_index=True)\n",
    "\n",
    "    added_combinations.add((referee_id, referral_id))\n",
    "    added_combinations.add((referral_id, referee_id))"
   ],
   "metadata": {
    "collapsed": false,
    "pycharm": {
     "name": "#%%\n"
    }
   }
  },
  {
   "cell_type": "code",
   "execution_count": 90,
   "outputs": [
    {
     "data": {
      "text/plain": "array(['4394S232148', '120360', '128766', '61879', '5175S107889',\n       '247362', '229981', '58707', '196047', '131303', '284618',\n       '193467', '172994', '94987', '312541', '300385', '229690',\n       '116862', '237183', '242621', '149951', '136030', '8070', '149196',\n       '20210', '244529', '103735', '202196', '87200', '9077S170606',\n       '93263', '179085', '72414', '50039', '297676', '161847',\n       '5418S174311', '286339', '299813', '203037', '13263S153068',\n       '14207S122960', '140907', '261852', '267495', '7829S138649',\n       '12712', '66929', '101104', '176873', '30964', '8842S122821',\n       '211822', '7853S71416', '116601', '112154', '68592', '297456',\n       '133232', '268920', '233318', '63133', '166087', '209310',\n       '5091S119819', '277774', '7420S192463', '12878S178597', '164759',\n       '162709', '92809', '286489', '139642', '265332', '6478S147312',\n       '263525', '166876', '123483', '4674S181934', '6889S136711',\n       '3527S95319', '113105', '263408', '254', '61111', '314246',\n       '64209', '34568', '192774', '311717', '10573S135911', '178587',\n       '131494', '56735', '211554', '255398', '38744', '38273', '116542',\n       '830S124615', '179243', '126338', '6277S180755', '120688', '17093',\n       '107S118931', '24657', '25776', '11870S124175', '9582S60626',\n       '141231', '303670', '102414', '81862', '206694', '5103S104317',\n       '262909', '253436', '180697', '105785', '250795', '242553',\n       '203374', '285286', '59972', '27540', '162104', '105789',\n       '749S192791', '1882S107128', '265110', '9561S165513', '119871',\n       '320601', '219136', '7661S186984', '61102', '10284S184698',\n       '2046S169850', '8249S105510', '295757', '110835', '423S136561',\n       '235848', '114201', '134930', '181467', '1475S156639', '97104',\n       '197955'], dtype=object)"
     },
     "execution_count": 90,
     "metadata": {},
     "output_type": "execute_result"
    }
   ],
   "source": [
    "sample = np.random.choice(bucharest_nodelist['node_id'], size=150, replace=False)\n",
    "sample"
   ],
   "metadata": {
    "collapsed": false,
    "pycharm": {
     "name": "#%%\n"
    }
   }
  },
  {
   "cell_type": "code",
   "execution_count": 94,
   "outputs": [
    {
     "data": {
      "text/plain": "  0%|          | 0/150 [00:00<?, ?it/s]",
      "application/vnd.jupyter.widget-view+json": {
       "version_major": 2,
       "version_minor": 0,
       "model_id": "bf3d9f8690fb4ab8b84c9a48e9bd7d69"
      }
     },
     "metadata": {},
     "output_type": "display_data"
    }
   ],
   "source": [
    "for ref_a in tqdm(sample):\n",
    "    for ref_b in sample:\n",
    "        if ref_a == ref_b:\n",
    "            continue\n",
    "        if (ref_a, ref_b) in added_combinations:\n",
    "            continue\n",
    "        if (ref_b, ref_a) in added_combinations:\n",
    "            continue\n",
    "\n",
    "        referee = bucharest_nodelist.query('node_id == @ref_a')\n",
    "        referral = bucharest_nodelist.query('node_id == @ref_b')\n",
    "        referee_network_stats = bucharest_network.query('Referee == @ref_a')\n",
    "        referral_network_stats = bucharest_network.query('Referee == @ref_b')\n",
    "\n",
    "        referee_age = referee['age'].iloc[0]\n",
    "        referral_age = referral['age'].iloc[0]\n",
    "        referee_gender = referee['gender'].iloc[0]\n",
    "        referral_gender = referral['gender'].iloc[0]\n",
    "        referee_medical = referee['medical_ints'].iloc[0]\n",
    "        referral_medical = referral['medical_ints'].iloc[0]\n",
    "        referee_isco08_label = referee['isco08_code_ints'].iloc[0]\n",
    "        referral_isco08_label = referral['isco08_code_ints'].iloc[0]\n",
    "\n",
    "        referee_degree_centrality = referee_network_stats['Degree_Centrality'].iloc[0]\n",
    "        referral_degree_centrality = referral_network_stats['Degree_Centrality'].iloc[0]\n",
    "        referee_betweenness_centrality = referee_network_stats['Betweenness_Centrality'].iloc[0]\n",
    "        referral_betweenness_centrality = referral_network_stats['Betweenness_Centrality'].iloc[0]\n",
    "        referee_pagerank_centrality = referee_network_stats['Pagerank_Centrality'].iloc[0]\n",
    "        referral_pagerank_centrality = referral_network_stats['Pagerank_Centrality'].iloc[0]\n",
    "        referee_component_size = referee_network_stats['Component_Size'].iloc[0]\n",
    "        referral_component_size = referral_network_stats['Component_Size'].iloc[0]\n",
    "        referee_avg_path_len = referee_network_stats['Avg_Shortest_Path_Length'].iloc[0]\n",
    "        referral_avg_path_len = referral_network_stats['Avg_Shortest_Path_Length'].iloc[0]\n",
    "\n",
    "        new_row = pd.Series({'referee': ref_a, 'referral': ref_b, 'contact': 0, 'referee_age': referee_age, 'referral_age': referral_age, 'age_diff': abs(referee_age - referral_age),\n",
    "                             'referee_gender': referee_gender, 'referral_gender': referral_gender, 'gender_diff': abs(referee_gender - referral_gender),\n",
    "                             'referee_medical': referee_medical, 'referral_medical': referral_medical, 'medical_diff': abs(referee_medical - referral_medical),\n",
    "                             'referee_isco08_label': referee_isco08_label, 'referral_isco08_label': referral_isco08_label, 'isco08_label_diff': abs(referee_isco08_label - referral_isco08_label),\n",
    "                             'referee_degree_centrality': referee_degree_centrality, 'referral_degree_centrality': referral_degree_centrality, 'degree_centrality_diff': abs(referee_degree_centrality - referral_degree_centrality),\n",
    "                             'referee_betweenness_centrality': referee_betweenness_centrality, 'referral_betweenness_centrality': referral_betweenness_centrality, 'betweenness_centrality_diff': abs(referee_betweenness_centrality - referral_betweenness_centrality),\n",
    "                             'referee_pagerank_centrality': referee_pagerank_centrality, 'referral_pagerank_centrality': referral_pagerank_centrality, 'pagerank_centrality_diff': abs(referee_pagerank_centrality - referral_pagerank_centrality),\n",
    "                             'referee_component_size': referee_component_size, 'referral_component_size': referral_component_size, 'component_size_diff': abs(referee_component_size - referral_component_size),\n",
    "                             'referee_avg_path_len': referee_avg_path_len, 'referral_avg_path_len': referral_avg_path_len, 'avg_path_len_diff': abs(referee_avg_path_len - referral_avg_path_len)})\n",
    "        bucharest_data = pd.concat([bucharest_data, new_row.to_frame().T], axis='index', ignore_index=True)\n",
    "\n",
    "        added_combinations.add((ref_a, ref_b))\n",
    "        added_combinations.add((ref_b, ref_a))"
   ],
   "metadata": {
    "collapsed": false,
    "pycharm": {
     "name": "#%%\n"
    }
   }
  },
  {
   "cell_type": "code",
   "execution_count": 95,
   "outputs": [],
   "source": [
    "bucharest_data[['referee_age', 'referral_age', 'age_diff', 'referee_degree_centrality', 'referral_degree_centrality',\n",
    "             'degree_centrality_diff', 'referee_betweenness_centrality',\n",
    "             'referral_betweenness_centrality', 'betweenness_centrality_diff',\n",
    "             'referee_pagerank_centrality', 'referral_pagerank_centrality',\n",
    "             'pagerank_centrality_diff', 'referee_component_size',\n",
    "             'referral_component_size', 'component_size_diff', 'referee_avg_path_len',\n",
    "                'referral_avg_path_len', 'avg_path_len_diff']] = normalize(bucharest_data[['referee_age', 'referral_age', 'age_diff', 'referee_degree_centrality', 'referral_degree_centrality',\n",
    "                                                                                         'degree_centrality_diff', 'referee_betweenness_centrality',\n",
    "                                                                                         'referral_betweenness_centrality', 'betweenness_centrality_diff',\n",
    "                                                                                         'referee_pagerank_centrality', 'referral_pagerank_centrality',\n",
    "                                                                                         'pagerank_centrality_diff', 'referee_component_size',\n",
    "                                                                                         'referral_component_size', 'component_size_diff', 'referee_avg_path_len',\n",
    "                                                                                           'referral_avg_path_len', 'avg_path_len_diff']])\n",
    "bucharest_data[['referee_age', 'referral_age', 'age_diff', 'referee_degree_centrality', 'referral_degree_centrality',\n",
    "             'degree_centrality_diff', 'referee_betweenness_centrality',\n",
    "             'referral_betweenness_centrality', 'betweenness_centrality_diff',\n",
    "             'referee_pagerank_centrality', 'referral_pagerank_centrality',\n",
    "             'pagerank_centrality_diff', 'referee_component_size',\n",
    "             'referral_component_size', 'component_size_diff', 'referee_avg_path_len',\n",
    "                'referral_avg_path_len', 'avg_path_len_diff']] = scale(bucharest_data[['referee_age', 'referral_age', 'age_diff', 'referee_degree_centrality', 'referral_degree_centrality',\n",
    "                                                                                     'degree_centrality_diff', 'referee_betweenness_centrality',\n",
    "                                                                                     'referral_betweenness_centrality', 'betweenness_centrality_diff',\n",
    "                                                                                     'referee_pagerank_centrality', 'referral_pagerank_centrality',\n",
    "                                                                                     'pagerank_centrality_diff', 'referee_component_size',\n",
    "                                                                                     'referral_component_size', 'component_size_diff', 'referee_avg_path_len',\n",
    "                                                                                       'referral_avg_path_len', 'avg_path_len_diff']])"
   ],
   "metadata": {
    "collapsed": false,
    "pycharm": {
     "name": "#%%\n"
    }
   }
  },
  {
   "cell_type": "code",
   "execution_count": 96,
   "outputs": [
    {
     "data": {
      "text/plain": "(array([1, 0, 2], dtype=object),\n array([<NA>, 0, 1], dtype=object),\n array([1, 0, 3, 4, 2, 11, 7, 6, 5, 16, 8, 15, 12, 9, 10, 13, 17, 14],\n       dtype=object))"
     },
     "execution_count": 96,
     "metadata": {},
     "output_type": "execute_result"
    }
   ],
   "source": [
    "bucharest_data['medical_diff'].unique(), bucharest_data['gender_diff'].unique(), bucharest_data['isco08_label_diff'].unique()"
   ],
   "metadata": {
    "collapsed": false,
    "pycharm": {
     "name": "#%%\n"
    }
   }
  },
  {
   "cell_type": "code",
   "execution_count": 97,
   "outputs": [
    {
     "data": {
      "text/plain": "           referee     referral contact  referee_age  referral_age  age_diff  \\\n0            53594  10330S53594       1    -0.051854      0.752419 -0.838612   \n1            53594  10331S53594       1     0.913335     -1.025053  0.793839   \n2            58373  11577S58373       1     0.181020      0.640961 -1.148650   \n3            63203   5541S63203       1     0.908249     -0.283359 -0.033671   \n4            63203   5540S63203       1     0.936469     -0.429938  0.151639   \n...            ...          ...     ...          ...           ...       ...   \n24547       181467        97104       0     0.872844     -0.155319 -0.204146   \n24548       181467       197955       0     0.910859     -0.284588 -0.030218   \n24549  1475S156639        97104       0     0.918132     -0.314170  0.008442   \n24550  1475S156639       197955       0     0.940541     -0.440430  0.166545   \n24551        97104       197955       0     0.477698      0.432699 -1.173083   \n\n      referee_gender referral_gender gender_diff referee_medical  ...  \\\n0                  2            <NA>        <NA>              -1  ...   \n1                  2            <NA>        <NA>              -1  ...   \n2                  2            <NA>        <NA>              -1  ...   \n3                  2            <NA>        <NA>               0  ...   \n4                  2            <NA>        <NA>               0  ...   \n...              ...             ...         ...             ...  ...   \n24547              1               2           1               0  ...   \n24548              1               1           0               0  ...   \n24549           <NA>               2        <NA>               0  ...   \n24550           <NA>               1        <NA>               0  ...   \n24551              2               1           1              -1  ...   \n\n      betweenness_centrality_diff  referee_pagerank_centrality  \\\n0                       -0.259327                    -0.206958   \n1                       -0.240209                    -0.004983   \n2                       -0.329478                    -0.345273   \n3                       -0.268583                    -0.304741   \n4                       -0.268201                    -0.300708   \n...                           ...                          ...   \n24547                   -0.329478                    -0.418513   \n24548                   -0.329478                    -0.414005   \n24549                   -0.329478                    -0.457721   \n24550                   -0.329478                    -0.455286   \n24551                   -0.329478                    -0.834734   \n\n      referral_pagerank_centrality pagerank_centrality_diff  \\\n0                        -0.326106                -0.319645   \n1                        -0.081030                -0.197507   \n2                         0.232592                -0.767813   \n3                        -0.444756                -0.378775   \n4                        -0.439862                -0.376337   \n...                            ...                      ...   \n24547                    -1.024880                -0.225769   \n24548                    -1.023174                -0.221155   \n24549                    -1.039725                -0.265901   \n24550                    -1.038803                -0.263408   \n24551                    -0.951237                -0.767813   \n\n       referee_component_size  referral_component_size  component_size_diff  \\\n0                   -0.382101                -0.433184            -0.403701   \n1                   -0.207457                -0.258824            -0.403701   \n2                   -0.502576                -0.553463            -0.403701   \n3                   -0.466652                -0.517597            -0.403701   \n4                   -0.463164                -0.514115            -0.403701   \n...                       ...                      ...                  ...   \n24547               -0.565799                -0.844778             0.019936   \n24548               -0.561908                -0.842836             0.023541   \n24549               -0.599644                -0.861674            -0.011430   \n24550               -0.597542                -0.860624            -0.009481   \n24551               -0.710415                -0.760964            -0.403701   \n\n       referee_avg_path_len  referral_avg_path_len  avg_path_len_diff  \n0                 -0.201715              -0.193448          -0.423637  \n1                 -0.001801               0.024905          -0.308756  \n2                 -0.265166              -0.506724          -0.845177  \n3                 -0.298500              -0.299160          -0.479254  \n4                 -0.294508              -0.294800          -0.476960  \n...                     ...                    ...                ...  \n24547             -0.346582              -0.994668          -0.168593  \n24548             -0.341572              -0.994668          -0.162834  \n24549             -0.390168              -0.994668          -0.218686  \n24550             -0.387461              -0.994668          -0.215574  \n24551             -0.935272              -0.994668          -0.845177  \n\n[24552 rows x 30 columns]",
      "text/html": "<div>\n<style scoped>\n    .dataframe tbody tr th:only-of-type {\n        vertical-align: middle;\n    }\n\n    .dataframe tbody tr th {\n        vertical-align: top;\n    }\n\n    .dataframe thead th {\n        text-align: right;\n    }\n</style>\n<table border=\"1\" class=\"dataframe\">\n  <thead>\n    <tr style=\"text-align: right;\">\n      <th></th>\n      <th>referee</th>\n      <th>referral</th>\n      <th>contact</th>\n      <th>referee_age</th>\n      <th>referral_age</th>\n      <th>age_diff</th>\n      <th>referee_gender</th>\n      <th>referral_gender</th>\n      <th>gender_diff</th>\n      <th>referee_medical</th>\n      <th>...</th>\n      <th>betweenness_centrality_diff</th>\n      <th>referee_pagerank_centrality</th>\n      <th>referral_pagerank_centrality</th>\n      <th>pagerank_centrality_diff</th>\n      <th>referee_component_size</th>\n      <th>referral_component_size</th>\n      <th>component_size_diff</th>\n      <th>referee_avg_path_len</th>\n      <th>referral_avg_path_len</th>\n      <th>avg_path_len_diff</th>\n    </tr>\n  </thead>\n  <tbody>\n    <tr>\n      <th>0</th>\n      <td>53594</td>\n      <td>10330S53594</td>\n      <td>1</td>\n      <td>-0.051854</td>\n      <td>0.752419</td>\n      <td>-0.838612</td>\n      <td>2</td>\n      <td>&lt;NA&gt;</td>\n      <td>&lt;NA&gt;</td>\n      <td>-1</td>\n      <td>...</td>\n      <td>-0.259327</td>\n      <td>-0.206958</td>\n      <td>-0.326106</td>\n      <td>-0.319645</td>\n      <td>-0.382101</td>\n      <td>-0.433184</td>\n      <td>-0.403701</td>\n      <td>-0.201715</td>\n      <td>-0.193448</td>\n      <td>-0.423637</td>\n    </tr>\n    <tr>\n      <th>1</th>\n      <td>53594</td>\n      <td>10331S53594</td>\n      <td>1</td>\n      <td>0.913335</td>\n      <td>-1.025053</td>\n      <td>0.793839</td>\n      <td>2</td>\n      <td>&lt;NA&gt;</td>\n      <td>&lt;NA&gt;</td>\n      <td>-1</td>\n      <td>...</td>\n      <td>-0.240209</td>\n      <td>-0.004983</td>\n      <td>-0.081030</td>\n      <td>-0.197507</td>\n      <td>-0.207457</td>\n      <td>-0.258824</td>\n      <td>-0.403701</td>\n      <td>-0.001801</td>\n      <td>0.024905</td>\n      <td>-0.308756</td>\n    </tr>\n    <tr>\n      <th>2</th>\n      <td>58373</td>\n      <td>11577S58373</td>\n      <td>1</td>\n      <td>0.181020</td>\n      <td>0.640961</td>\n      <td>-1.148650</td>\n      <td>2</td>\n      <td>&lt;NA&gt;</td>\n      <td>&lt;NA&gt;</td>\n      <td>-1</td>\n      <td>...</td>\n      <td>-0.329478</td>\n      <td>-0.345273</td>\n      <td>0.232592</td>\n      <td>-0.767813</td>\n      <td>-0.502576</td>\n      <td>-0.553463</td>\n      <td>-0.403701</td>\n      <td>-0.265166</td>\n      <td>-0.506724</td>\n      <td>-0.845177</td>\n    </tr>\n    <tr>\n      <th>3</th>\n      <td>63203</td>\n      <td>5541S63203</td>\n      <td>1</td>\n      <td>0.908249</td>\n      <td>-0.283359</td>\n      <td>-0.033671</td>\n      <td>2</td>\n      <td>&lt;NA&gt;</td>\n      <td>&lt;NA&gt;</td>\n      <td>0</td>\n      <td>...</td>\n      <td>-0.268583</td>\n      <td>-0.304741</td>\n      <td>-0.444756</td>\n      <td>-0.378775</td>\n      <td>-0.466652</td>\n      <td>-0.517597</td>\n      <td>-0.403701</td>\n      <td>-0.298500</td>\n      <td>-0.299160</td>\n      <td>-0.479254</td>\n    </tr>\n    <tr>\n      <th>4</th>\n      <td>63203</td>\n      <td>5540S63203</td>\n      <td>1</td>\n      <td>0.936469</td>\n      <td>-0.429938</td>\n      <td>0.151639</td>\n      <td>2</td>\n      <td>&lt;NA&gt;</td>\n      <td>&lt;NA&gt;</td>\n      <td>0</td>\n      <td>...</td>\n      <td>-0.268201</td>\n      <td>-0.300708</td>\n      <td>-0.439862</td>\n      <td>-0.376337</td>\n      <td>-0.463164</td>\n      <td>-0.514115</td>\n      <td>-0.403701</td>\n      <td>-0.294508</td>\n      <td>-0.294800</td>\n      <td>-0.476960</td>\n    </tr>\n    <tr>\n      <th>...</th>\n      <td>...</td>\n      <td>...</td>\n      <td>...</td>\n      <td>...</td>\n      <td>...</td>\n      <td>...</td>\n      <td>...</td>\n      <td>...</td>\n      <td>...</td>\n      <td>...</td>\n      <td>...</td>\n      <td>...</td>\n      <td>...</td>\n      <td>...</td>\n      <td>...</td>\n      <td>...</td>\n      <td>...</td>\n      <td>...</td>\n      <td>...</td>\n      <td>...</td>\n      <td>...</td>\n    </tr>\n    <tr>\n      <th>24547</th>\n      <td>181467</td>\n      <td>97104</td>\n      <td>0</td>\n      <td>0.872844</td>\n      <td>-0.155319</td>\n      <td>-0.204146</td>\n      <td>1</td>\n      <td>2</td>\n      <td>1</td>\n      <td>0</td>\n      <td>...</td>\n      <td>-0.329478</td>\n      <td>-0.418513</td>\n      <td>-1.024880</td>\n      <td>-0.225769</td>\n      <td>-0.565799</td>\n      <td>-0.844778</td>\n      <td>0.019936</td>\n      <td>-0.346582</td>\n      <td>-0.994668</td>\n      <td>-0.168593</td>\n    </tr>\n    <tr>\n      <th>24548</th>\n      <td>181467</td>\n      <td>197955</td>\n      <td>0</td>\n      <td>0.910859</td>\n      <td>-0.284588</td>\n      <td>-0.030218</td>\n      <td>1</td>\n      <td>1</td>\n      <td>0</td>\n      <td>0</td>\n      <td>...</td>\n      <td>-0.329478</td>\n      <td>-0.414005</td>\n      <td>-1.023174</td>\n      <td>-0.221155</td>\n      <td>-0.561908</td>\n      <td>-0.842836</td>\n      <td>0.023541</td>\n      <td>-0.341572</td>\n      <td>-0.994668</td>\n      <td>-0.162834</td>\n    </tr>\n    <tr>\n      <th>24549</th>\n      <td>1475S156639</td>\n      <td>97104</td>\n      <td>0</td>\n      <td>0.918132</td>\n      <td>-0.314170</td>\n      <td>0.008442</td>\n      <td>&lt;NA&gt;</td>\n      <td>2</td>\n      <td>&lt;NA&gt;</td>\n      <td>0</td>\n      <td>...</td>\n      <td>-0.329478</td>\n      <td>-0.457721</td>\n      <td>-1.039725</td>\n      <td>-0.265901</td>\n      <td>-0.599644</td>\n      <td>-0.861674</td>\n      <td>-0.011430</td>\n      <td>-0.390168</td>\n      <td>-0.994668</td>\n      <td>-0.218686</td>\n    </tr>\n    <tr>\n      <th>24550</th>\n      <td>1475S156639</td>\n      <td>197955</td>\n      <td>0</td>\n      <td>0.940541</td>\n      <td>-0.440430</td>\n      <td>0.166545</td>\n      <td>&lt;NA&gt;</td>\n      <td>1</td>\n      <td>&lt;NA&gt;</td>\n      <td>0</td>\n      <td>...</td>\n      <td>-0.329478</td>\n      <td>-0.455286</td>\n      <td>-1.038803</td>\n      <td>-0.263408</td>\n      <td>-0.597542</td>\n      <td>-0.860624</td>\n      <td>-0.009481</td>\n      <td>-0.387461</td>\n      <td>-0.994668</td>\n      <td>-0.215574</td>\n    </tr>\n    <tr>\n      <th>24551</th>\n      <td>97104</td>\n      <td>197955</td>\n      <td>0</td>\n      <td>0.477698</td>\n      <td>0.432699</td>\n      <td>-1.173083</td>\n      <td>2</td>\n      <td>1</td>\n      <td>1</td>\n      <td>-1</td>\n      <td>...</td>\n      <td>-0.329478</td>\n      <td>-0.834734</td>\n      <td>-0.951237</td>\n      <td>-0.767813</td>\n      <td>-0.710415</td>\n      <td>-0.760964</td>\n      <td>-0.403701</td>\n      <td>-0.935272</td>\n      <td>-0.994668</td>\n      <td>-0.845177</td>\n    </tr>\n  </tbody>\n</table>\n<p>24552 rows × 30 columns</p>\n</div>"
     },
     "execution_count": 97,
     "metadata": {},
     "output_type": "execute_result"
    }
   ],
   "source": [
    "#bucharest_data['gender_diff'] = bucharest_data['gender_diff'].fillna(value=-999)\n",
    "bucharest_data['medical_diff'] = bucharest_data['medical_diff'].fillna(value=-999)\n",
    "bucharest_data['isco08_label_diff'] = bucharest_data['isco08_label_diff'].fillna(value=-999)\n",
    "\n",
    "#bucharest_data['gender_diff'] = bucharest_data['gender_diff'].where(bucharest_data['gender_diff'] <= 0, 1)\n",
    "bucharest_data['medical_diff'] = bucharest_data['medical_diff'].where(bucharest_data['medical_diff'] <= 0, 1)\n",
    "bucharest_data['isco08_label_diff'] = bucharest_data['isco08_label_diff'].where(bucharest_data['isco08_label_diff'] <= 0, 1)\n",
    "\n",
    "#bucharest_data['gender_diff'] = bucharest_data['gender_diff'].where(bucharest_data['gender_diff'] != -999, np.nan)\n",
    "bucharest_data['medical_diff'] = bucharest_data['medical_diff'].where(bucharest_data['medical_diff'] != -999, np.nan)\n",
    "bucharest_data['isco08_label_diff'] = bucharest_data['isco08_label_diff'].where(bucharest_data['isco08_label_diff'] != -999, np.nan)\n",
    "\n",
    "bucharest_data"
   ],
   "metadata": {
    "collapsed": false,
    "pycharm": {
     "name": "#%%\n"
    }
   }
  },
  {
   "cell_type": "code",
   "execution_count": 98,
   "outputs": [],
   "source": [
    "bucharest_data = bucharest_data.fillna(value=-999)"
   ],
   "metadata": {
    "collapsed": false,
    "pycharm": {
     "name": "#%%\n"
    }
   }
  },
  {
   "cell_type": "code",
   "execution_count": 99,
   "outputs": [
    {
     "data": {
      "text/plain": "(array([1, 0], dtype=int64),\n array([-999,    0,    1], dtype=int64),\n array([1, 0], dtype=int64))"
     },
     "execution_count": 99,
     "metadata": {},
     "output_type": "execute_result"
    }
   ],
   "source": [
    "bucharest_data['medical_diff'].unique(), bucharest_data['gender_diff'].unique(), bucharest_data['isco08_label_diff'].unique()"
   ],
   "metadata": {
    "collapsed": false,
    "pycharm": {
     "name": "#%%\n"
    }
   }
  },
  {
   "cell_type": "code",
   "execution_count": 100,
   "outputs": [
    {
     "data": {
      "text/plain": "array([ 0.09996407, -0.16304809,  0.01308077,  0.32643396, -0.62382406,\n       -0.50194852,  0.26334057,  0.24521254,  0.25243247,  0.14806399,\n        0.18518453,  0.25481499,  0.55040941,  0.31713901,  0.30487823,\n        0.27037807, -0.02838417,  0.24793928,  0.584051  ,  0.30140632,\n        0.32361342,  0.41776502,  0.36051635, -0.44168793,  0.40831264,\n        0.47662166, -0.08279867])"
     },
     "execution_count": 100,
     "metadata": {},
     "output_type": "execute_result"
    }
   ],
   "source": [
    "r_regression(bucharest_data[bucharest_data.columns[3:]], bucharest_data['contact'])"
   ],
   "metadata": {
    "collapsed": false,
    "pycharm": {
     "name": "#%%\n"
    }
   }
  },
  {
   "cell_type": "code",
   "execution_count": 101,
   "outputs": [
    {
     "data": {
      "text/plain": "(array([2.47799825e+02, 6.70478346e+02, 4.20138216e+00, 2.92803562e+03,\n        1.56403244e+04, 8.26876371e+03, 1.82936285e+03, 1.57061116e+03,\n        1.67084886e+03, 5.50271911e+02, 8.71797543e+02, 1.70473804e+03,\n        1.06698810e+04, 2.74528172e+03, 2.51578459e+03, 1.93625951e+03,\n        1.97949339e+01, 1.60803615e+03, 1.27099487e+04, 2.45311912e+03,\n        2.87176160e+03, 5.19054648e+03, 3.66748396e+03, 5.95023727e+03,\n        4.91185770e+03, 7.21629134e+03, 1.69467287e+02]),\n array([1.46566407e-055, 7.14615561e-146, 4.04016463e-002, 0.00000000e+000,\n        0.00000000e+000, 0.00000000e+000, 0.00000000e+000, 0.00000000e+000,\n        0.00000000e+000, 2.31799218e-120, 2.59500794e-188, 0.00000000e+000,\n        0.00000000e+000, 0.00000000e+000, 0.00000000e+000, 0.00000000e+000,\n        8.65896413e-006, 0.00000000e+000, 0.00000000e+000, 0.00000000e+000,\n        0.00000000e+000, 0.00000000e+000, 0.00000000e+000, 0.00000000e+000,\n        0.00000000e+000, 0.00000000e+000, 1.29848664e-038]))"
     },
     "execution_count": 101,
     "metadata": {},
     "output_type": "execute_result"
    }
   ],
   "source": [
    "f_regression(bucharest_data[bucharest_data.columns[3:]], bucharest_data['contact'])"
   ],
   "metadata": {
    "collapsed": false,
    "pycharm": {
     "name": "#%%\n"
    }
   }
  },
  {
   "cell_type": "code",
   "execution_count": 102,
   "outputs": [
    {
     "name": "stdout",
     "output_type": "stream",
     "text": [
      "                                 OLS Regression Results                                \n",
      "=======================================================================================\n",
      "Dep. Variable:                contact   R-squared (uncentered):                   0.888\n",
      "Model:                            OLS   Adj. R-squared (uncentered):              0.888\n",
      "Method:                 Least Squares   F-statistic:                              7188.\n",
      "Date:                Fri, 30 Jun 2023   Prob (F-statistic):                        0.00\n",
      "Time:                        13:41:58   Log-Likelihood:                         -528.95\n",
      "No. Observations:               24552   AIC:                                      1112.\n",
      "Df Residuals:                   24525   BIC:                                      1331.\n",
      "Df Model:                          27                                                  \n",
      "Covariance Type:            nonrobust                                                  \n",
      "===================================================================================================\n",
      "                                      coef    std err          t      P>|t|      [0.025      0.975]\n",
      "---------------------------------------------------------------------------------------------------\n",
      "referee_age                         0.0009      0.005      0.194      0.846      -0.008       0.010\n",
      "referral_age                       -0.0007      0.006     -0.113      0.910      -0.012       0.011\n",
      "age_diff                           -0.0290      0.005     -5.925      0.000      -0.039      -0.019\n",
      "referee_gender                      0.0008   1.31e-05     62.061      0.000       0.001       0.001\n",
      "referral_gender                     0.0002   1.51e-05     11.915      0.000       0.000       0.000\n",
      "gender_diff                        -0.0007    1.5e-05    -43.386      0.000      -0.001      -0.001\n",
      "referee_medical                    -0.0827      0.004    -21.338      0.000      -0.090      -0.075\n",
      "referral_medical                   -0.1616      0.005    -33.611      0.000      -0.171      -0.152\n",
      "medical_diff                        0.0588      0.006      9.062      0.000       0.046       0.071\n",
      "referee_isco08_label               -0.0084      0.001     -8.247      0.000      -0.010      -0.006\n",
      "referral_isco08_label               0.0086      0.002      4.723      0.000       0.005       0.012\n",
      "isco08_label_diff                   0.1852      0.007     25.077      0.000       0.171       0.200\n",
      "referee_degree_centrality           0.3564      0.035     10.231      0.000       0.288       0.425\n",
      "referral_degree_centrality          0.1728      0.014     12.540      0.000       0.146       0.200\n",
      "degree_centrality_diff              0.1853      0.025      7.372      0.000       0.136       0.235\n",
      "referee_betweenness_centrality     -0.0820      0.017     -4.847      0.000      -0.115      -0.049\n",
      "referral_betweenness_centrality     0.0301      0.004      8.338      0.000       0.023       0.037\n",
      "betweenness_centrality_diff         0.1155      0.017      6.880      0.000       0.083       0.148\n",
      "referee_pagerank_centrality         0.0816      0.027      3.028      0.002       0.029       0.134\n",
      "referral_pagerank_centrality       -0.1084      0.012     -9.011      0.000      -0.132      -0.085\n",
      "pagerank_centrality_diff           -0.4072      0.020    -20.482      0.000      -0.446      -0.368\n",
      "referee_component_size             -0.2374      0.011    -20.651      0.000      -0.260      -0.215\n",
      "referral_component_size            -0.0984      0.009    -10.437      0.000      -0.117      -0.080\n",
      "component_size_diff                -0.0769      0.004    -18.014      0.000      -0.085      -0.069\n",
      "referee_avg_path_len                0.2308      0.008     29.771      0.000       0.216       0.246\n",
      "referral_avg_path_len               0.0424      0.009      4.691      0.000       0.025       0.060\n",
      "avg_path_len_diff                  -0.0548      0.005     -9.989      0.000      -0.066      -0.044\n",
      "==============================================================================\n",
      "Omnibus:                     3774.213   Durbin-Watson:                   1.358\n",
      "Prob(Omnibus):                  0.000   Jarque-Bera (JB):            49885.586\n",
      "Skew:                          -0.302   Prob(JB):                         0.00\n",
      "Kurtosis:                       9.957   Cond. No.                     3.67e+04\n",
      "==============================================================================\n",
      "\n",
      "Notes:\n",
      "[1] R² is computed without centering (uncentered) since the model does not contain a constant.\n",
      "[2] Standard Errors assume that the covariance matrix of the errors is correctly specified.\n",
      "[3] The condition number is large, 3.67e+04. This might indicate that there are\n",
      "strong multicollinearity or other numerical problems.\n"
     ]
    }
   ],
   "source": [
    "print(sm.OLS(bucharest_data['contact'], bucharest_data[bucharest_data.columns[3:]]).fit().summary())"
   ],
   "metadata": {
    "collapsed": false,
    "pycharm": {
     "name": "#%%\n"
    }
   }
  },
  {
   "cell_type": "markdown",
   "source": [
    "# China"
   ],
   "metadata": {
    "collapsed": false,
    "pycharm": {
     "name": "#%% md\n"
    }
   }
  },
  {
   "cell_type": "code",
   "execution_count": 103,
   "outputs": [],
   "source": [
    "china_nodelist = pd.read_csv('../Data/Preprocessed/china_nodelist.csv')\n",
    "china_edgelist = pd.read_csv('../Data/Preprocessed/china_edgelist.csv')\n",
    "china_network = pd.read_csv('../Data/Tables/basic/china_basic_analysis.csv')"
   ],
   "metadata": {
    "collapsed": false,
    "pycharm": {
     "name": "#%%\n"
    }
   }
  },
  {
   "cell_type": "code",
   "execution_count": 104,
   "outputs": [
    {
     "data": {
      "text/plain": "       Unnamed: 0       node_id  age  gender        residency  \\\n0               0      anqing-1   49    Male              NaN   \n1               1     anqing-10   54    Male              NaN   \n2               2     anqing-11   50  Female      Hubei_Wuhan   \n3               3     anqing-12   46    Male              NaN   \n4               4     anqing-13   58    Male      Hubei_Wuhan   \n...           ...           ...  ...     ...              ...   \n25872       25872    ningbo-255  NaN    male  Zhejiang-Ningbo   \n25873       25873    ningbo-256  NaN  Female  Zhejiang-Ningbo   \n25874       25874    ningbo-257  NaN  Female  Zhejiang-Ningbo   \n25875       25875    ningbo-258  NaN  Female  Zhejiang-Ningbo   \n25876       25876  chongqing-23  NaN     NaN              NaN   \n\n            place_event possible_source  \\\n0          Wuhan Travel             NaN   \n1           Hainan Work             NaN   \n2          Wuhan Travel             NaN   \n3      Yellowstone Work             NaN   \n4         Work In Wuhan             NaN   \n...                 ...             ...   \n25872               NaN             NaN   \n25873               NaN             NaN   \n25874               NaN             NaN   \n25875               NaN             NaN   \n25876               NaN             NaN   \n\n                                              symptom symptom_severity  \\\n0                                                 NaN              NaN   \n1              Somatosensory Related-Sign Description           Stable   \n2      Respiratory System Related-Symptom Description           Stable   \n3              Somatosensory Related-Sign Description           Stable   \n4                                                 NaN           Stable   \n...                                               ...              ...   \n25872                                             NaN              NaN   \n25873                                             NaN              NaN   \n25874                                             NaN              NaN   \n25875                                             NaN              NaN   \n25876                                             NaN              NaN   \n\n       place_admission  \n0         Anhui_Anqing  \n1         Anhui_Anqing  \n2         Anhui_Anqing  \n3         Anhui_Anqing  \n4         Anhui_Anqing  \n...                ...  \n25872  Zhejiang-Ningbo  \n25873  Zhejiang-Ningbo  \n25874  Zhejiang-Ningbo  \n25875  Zhejiang-Ningbo  \n25876        Chongqing  \n\n[25877 rows x 10 columns]",
      "text/html": "<div>\n<style scoped>\n    .dataframe tbody tr th:only-of-type {\n        vertical-align: middle;\n    }\n\n    .dataframe tbody tr th {\n        vertical-align: top;\n    }\n\n    .dataframe thead th {\n        text-align: right;\n    }\n</style>\n<table border=\"1\" class=\"dataframe\">\n  <thead>\n    <tr style=\"text-align: right;\">\n      <th></th>\n      <th>Unnamed: 0</th>\n      <th>node_id</th>\n      <th>age</th>\n      <th>gender</th>\n      <th>residency</th>\n      <th>place_event</th>\n      <th>possible_source</th>\n      <th>symptom</th>\n      <th>symptom_severity</th>\n      <th>place_admission</th>\n    </tr>\n  </thead>\n  <tbody>\n    <tr>\n      <th>0</th>\n      <td>0</td>\n      <td>anqing-1</td>\n      <td>49</td>\n      <td>Male</td>\n      <td>NaN</td>\n      <td>Wuhan Travel</td>\n      <td>NaN</td>\n      <td>NaN</td>\n      <td>NaN</td>\n      <td>Anhui_Anqing</td>\n    </tr>\n    <tr>\n      <th>1</th>\n      <td>1</td>\n      <td>anqing-10</td>\n      <td>54</td>\n      <td>Male</td>\n      <td>NaN</td>\n      <td>Hainan Work</td>\n      <td>NaN</td>\n      <td>Somatosensory Related-Sign Description</td>\n      <td>Stable</td>\n      <td>Anhui_Anqing</td>\n    </tr>\n    <tr>\n      <th>2</th>\n      <td>2</td>\n      <td>anqing-11</td>\n      <td>50</td>\n      <td>Female</td>\n      <td>Hubei_Wuhan</td>\n      <td>Wuhan Travel</td>\n      <td>NaN</td>\n      <td>Respiratory System Related-Symptom Description</td>\n      <td>Stable</td>\n      <td>Anhui_Anqing</td>\n    </tr>\n    <tr>\n      <th>3</th>\n      <td>3</td>\n      <td>anqing-12</td>\n      <td>46</td>\n      <td>Male</td>\n      <td>NaN</td>\n      <td>Yellowstone Work</td>\n      <td>NaN</td>\n      <td>Somatosensory Related-Sign Description</td>\n      <td>Stable</td>\n      <td>Anhui_Anqing</td>\n    </tr>\n    <tr>\n      <th>4</th>\n      <td>4</td>\n      <td>anqing-13</td>\n      <td>58</td>\n      <td>Male</td>\n      <td>Hubei_Wuhan</td>\n      <td>Work In Wuhan</td>\n      <td>NaN</td>\n      <td>NaN</td>\n      <td>Stable</td>\n      <td>Anhui_Anqing</td>\n    </tr>\n    <tr>\n      <th>...</th>\n      <td>...</td>\n      <td>...</td>\n      <td>...</td>\n      <td>...</td>\n      <td>...</td>\n      <td>...</td>\n      <td>...</td>\n      <td>...</td>\n      <td>...</td>\n      <td>...</td>\n    </tr>\n    <tr>\n      <th>25872</th>\n      <td>25872</td>\n      <td>ningbo-255</td>\n      <td>NaN</td>\n      <td>male</td>\n      <td>Zhejiang-Ningbo</td>\n      <td>NaN</td>\n      <td>NaN</td>\n      <td>NaN</td>\n      <td>NaN</td>\n      <td>Zhejiang-Ningbo</td>\n    </tr>\n    <tr>\n      <th>25873</th>\n      <td>25873</td>\n      <td>ningbo-256</td>\n      <td>NaN</td>\n      <td>Female</td>\n      <td>Zhejiang-Ningbo</td>\n      <td>NaN</td>\n      <td>NaN</td>\n      <td>NaN</td>\n      <td>NaN</td>\n      <td>Zhejiang-Ningbo</td>\n    </tr>\n    <tr>\n      <th>25874</th>\n      <td>25874</td>\n      <td>ningbo-257</td>\n      <td>NaN</td>\n      <td>Female</td>\n      <td>Zhejiang-Ningbo</td>\n      <td>NaN</td>\n      <td>NaN</td>\n      <td>NaN</td>\n      <td>NaN</td>\n      <td>Zhejiang-Ningbo</td>\n    </tr>\n    <tr>\n      <th>25875</th>\n      <td>25875</td>\n      <td>ningbo-258</td>\n      <td>NaN</td>\n      <td>Female</td>\n      <td>Zhejiang-Ningbo</td>\n      <td>NaN</td>\n      <td>NaN</td>\n      <td>NaN</td>\n      <td>NaN</td>\n      <td>Zhejiang-Ningbo</td>\n    </tr>\n    <tr>\n      <th>25876</th>\n      <td>25876</td>\n      <td>chongqing-23</td>\n      <td>NaN</td>\n      <td>NaN</td>\n      <td>NaN</td>\n      <td>NaN</td>\n      <td>NaN</td>\n      <td>NaN</td>\n      <td>NaN</td>\n      <td>Chongqing</td>\n    </tr>\n  </tbody>\n</table>\n<p>25877 rows × 10 columns</p>\n</div>"
     },
     "execution_count": 104,
     "metadata": {},
     "output_type": "execute_result"
    }
   ],
   "source": [
    "china_nodelist"
   ],
   "metadata": {
    "collapsed": false,
    "pycharm": {
     "name": "#%%\n"
    }
   }
  },
  {
   "cell_type": "code",
   "execution_count": 105,
   "outputs": [],
   "source": [
    "china_nodelist['gender'] = china_nodelist['gender'].apply(lambda x: str(x).lower())\n",
    "china_nodelist['gender'] = china_nodelist['gender'].apply(lambda x: x.strip())\n",
    "china_nodelist['gender'] = china_nodelist['gender'].apply(lambda x: 'male' if x in ('male', 'man') else x)\n",
    "china_nodelist['gender'] = china_nodelist['gender'].apply(lambda x: np.nan if x not in ('male', 'female') else x)\n",
    "china_nodelist['gender_ints'] = LabelEncoder().fit_transform(china_nodelist['gender'])\n",
    "\n",
    "china_nodelist['residency'] = china_nodelist['residency'].apply(lambda x: str(x).lower())\n",
    "china_nodelist['residency'] = china_nodelist['residency'].apply(lambda x: x.strip())\n",
    "china_nodelist['residency_ints'] = LabelEncoder().fit_transform(china_nodelist['residency'])\n",
    "\n",
    "china_nodelist['place_event'] = china_nodelist['place_event'].apply(lambda x: str(x).lower())\n",
    "china_nodelist['place_event'] = china_nodelist['place_event'].apply(lambda x: x.strip())\n",
    "china_nodelist['place_event_ints'] = LabelEncoder().fit_transform(china_nodelist['place_event'])\n",
    "\n",
    "china_nodelist['symptom'] = china_nodelist['symptom'].apply(lambda x: str(x).lower())\n",
    "china_nodelist['symptom'] = china_nodelist['symptom'].apply(lambda x: x.strip())\n",
    "most_common_symptoms = Counter(china_nodelist['symptom']).most_common()\n",
    "symptom_keys = set([x[0] for x in most_common_symptoms])\n",
    "china_nodelist['symptom'] = china_nodelist['symptom'].apply(lambda x: x if x in symptom_keys else np.nan)\n",
    "china_nodelist['symptom_ints'] = LabelEncoder().fit_transform(china_nodelist['symptom'])\n",
    "\n",
    "china_nodelist['place_admission'] = china_nodelist['place_admission'].apply(lambda x: str(x).lower())\n",
    "china_nodelist['place_admission'] = china_nodelist['place_admission'].apply(lambda x: x.strip())\n",
    "china_nodelist['place_admission_ints'] = LabelEncoder().fit_transform(china_nodelist['place_admission'])\n",
    "\n",
    "china_nodelist['symptom_severity'] = china_nodelist['symptom_severity'].apply(lambda x: str(x).lower())\n",
    "china_nodelist['symptom_severity'] = china_nodelist['symptom_severity'].apply(lambda x: x.strip())\n",
    "china_nodelist['symptom_severity'] = china_nodelist['symptom_severity'].apply(lambda x: x if x in ('stable', 'mild', 'light', 'severe') else np.nan)\n",
    "china_nodelist['symptom_severity_ints'] = LabelEncoder().fit_transform(china_nodelist['symptom_severity'])"
   ],
   "metadata": {
    "collapsed": false,
    "pycharm": {
     "name": "#%%\n"
    }
   }
  },
  {
   "cell_type": "code",
   "execution_count": 106,
   "outputs": [
    {
     "data": {
      "text/plain": "       Unnamed: 0       node_id  age  gender        residency  \\\n0               0      anqing-1   49    male              nan   \n1               1     anqing-10   54    male              nan   \n2               2     anqing-11   50  female      hubei_wuhan   \n3               3     anqing-12   46    male              nan   \n4               4     anqing-13   58    male      hubei_wuhan   \n...           ...           ...  ...     ...              ...   \n25872       25872    ningbo-255  NaN    male  zhejiang-ningbo   \n25873       25873    ningbo-256  NaN  female  zhejiang-ningbo   \n25874       25874    ningbo-257  NaN  female  zhejiang-ningbo   \n25875       25875    ningbo-258  NaN  female  zhejiang-ningbo   \n25876       25876  chongqing-23  NaN     NaN              nan   \n\n            place_event possible_source  \\\n0          wuhan travel             NaN   \n1           hainan work             NaN   \n2          wuhan travel             NaN   \n3      yellowstone work             NaN   \n4         work in wuhan             NaN   \n...                 ...             ...   \n25872               nan             NaN   \n25873               nan             NaN   \n25874               nan             NaN   \n25875               nan             NaN   \n25876               nan             NaN   \n\n                                              symptom symptom_severity  \\\n0                                                 nan              NaN   \n1              somatosensory related-sign description           stable   \n2      respiratory system related-symptom description           stable   \n3              somatosensory related-sign description           stable   \n4                                                 nan           stable   \n...                                               ...              ...   \n25872                                             nan              NaN   \n25873                                             nan              NaN   \n25874                                             nan              NaN   \n25875                                             nan              NaN   \n25876                                             nan              NaN   \n\n       place_admission  gender_ints  residency_ints  place_event_ints  \\\n0         anhui_anqing            1             480              1538   \n1         anhui_anqing            1             480               449   \n2         anhui_anqing            0             318              1538   \n3         anhui_anqing            1             480              1624   \n4         anhui_anqing            1             318              1481   \n...                ...          ...             ...               ...   \n25872  zhejiang-ningbo            1             749               748   \n25873  zhejiang-ningbo            0             749               748   \n25874  zhejiang-ningbo            0             749               748   \n25875  zhejiang-ningbo            0             749               748   \n25876        chongqing            2             480               748   \n\n       symptom_ints  place_admission_ints  symptom_severity_ints  \n0                55                     0                      4  \n1               186                     0                      3  \n2               103                     0                      3  \n3               186                     0                      3  \n4                55                     0                      3  \n...             ...                   ...                    ...  \n25872            55                   461                      4  \n25873            55                   461                      4  \n25874            55                   461                      4  \n25875            55                   461                      4  \n25876            55                    34                      4  \n\n[25877 rows x 16 columns]",
      "text/html": "<div>\n<style scoped>\n    .dataframe tbody tr th:only-of-type {\n        vertical-align: middle;\n    }\n\n    .dataframe tbody tr th {\n        vertical-align: top;\n    }\n\n    .dataframe thead th {\n        text-align: right;\n    }\n</style>\n<table border=\"1\" class=\"dataframe\">\n  <thead>\n    <tr style=\"text-align: right;\">\n      <th></th>\n      <th>Unnamed: 0</th>\n      <th>node_id</th>\n      <th>age</th>\n      <th>gender</th>\n      <th>residency</th>\n      <th>place_event</th>\n      <th>possible_source</th>\n      <th>symptom</th>\n      <th>symptom_severity</th>\n      <th>place_admission</th>\n      <th>gender_ints</th>\n      <th>residency_ints</th>\n      <th>place_event_ints</th>\n      <th>symptom_ints</th>\n      <th>place_admission_ints</th>\n      <th>symptom_severity_ints</th>\n    </tr>\n  </thead>\n  <tbody>\n    <tr>\n      <th>0</th>\n      <td>0</td>\n      <td>anqing-1</td>\n      <td>49</td>\n      <td>male</td>\n      <td>nan</td>\n      <td>wuhan travel</td>\n      <td>NaN</td>\n      <td>nan</td>\n      <td>NaN</td>\n      <td>anhui_anqing</td>\n      <td>1</td>\n      <td>480</td>\n      <td>1538</td>\n      <td>55</td>\n      <td>0</td>\n      <td>4</td>\n    </tr>\n    <tr>\n      <th>1</th>\n      <td>1</td>\n      <td>anqing-10</td>\n      <td>54</td>\n      <td>male</td>\n      <td>nan</td>\n      <td>hainan work</td>\n      <td>NaN</td>\n      <td>somatosensory related-sign description</td>\n      <td>stable</td>\n      <td>anhui_anqing</td>\n      <td>1</td>\n      <td>480</td>\n      <td>449</td>\n      <td>186</td>\n      <td>0</td>\n      <td>3</td>\n    </tr>\n    <tr>\n      <th>2</th>\n      <td>2</td>\n      <td>anqing-11</td>\n      <td>50</td>\n      <td>female</td>\n      <td>hubei_wuhan</td>\n      <td>wuhan travel</td>\n      <td>NaN</td>\n      <td>respiratory system related-symptom description</td>\n      <td>stable</td>\n      <td>anhui_anqing</td>\n      <td>0</td>\n      <td>318</td>\n      <td>1538</td>\n      <td>103</td>\n      <td>0</td>\n      <td>3</td>\n    </tr>\n    <tr>\n      <th>3</th>\n      <td>3</td>\n      <td>anqing-12</td>\n      <td>46</td>\n      <td>male</td>\n      <td>nan</td>\n      <td>yellowstone work</td>\n      <td>NaN</td>\n      <td>somatosensory related-sign description</td>\n      <td>stable</td>\n      <td>anhui_anqing</td>\n      <td>1</td>\n      <td>480</td>\n      <td>1624</td>\n      <td>186</td>\n      <td>0</td>\n      <td>3</td>\n    </tr>\n    <tr>\n      <th>4</th>\n      <td>4</td>\n      <td>anqing-13</td>\n      <td>58</td>\n      <td>male</td>\n      <td>hubei_wuhan</td>\n      <td>work in wuhan</td>\n      <td>NaN</td>\n      <td>nan</td>\n      <td>stable</td>\n      <td>anhui_anqing</td>\n      <td>1</td>\n      <td>318</td>\n      <td>1481</td>\n      <td>55</td>\n      <td>0</td>\n      <td>3</td>\n    </tr>\n    <tr>\n      <th>...</th>\n      <td>...</td>\n      <td>...</td>\n      <td>...</td>\n      <td>...</td>\n      <td>...</td>\n      <td>...</td>\n      <td>...</td>\n      <td>...</td>\n      <td>...</td>\n      <td>...</td>\n      <td>...</td>\n      <td>...</td>\n      <td>...</td>\n      <td>...</td>\n      <td>...</td>\n      <td>...</td>\n    </tr>\n    <tr>\n      <th>25872</th>\n      <td>25872</td>\n      <td>ningbo-255</td>\n      <td>NaN</td>\n      <td>male</td>\n      <td>zhejiang-ningbo</td>\n      <td>nan</td>\n      <td>NaN</td>\n      <td>nan</td>\n      <td>NaN</td>\n      <td>zhejiang-ningbo</td>\n      <td>1</td>\n      <td>749</td>\n      <td>748</td>\n      <td>55</td>\n      <td>461</td>\n      <td>4</td>\n    </tr>\n    <tr>\n      <th>25873</th>\n      <td>25873</td>\n      <td>ningbo-256</td>\n      <td>NaN</td>\n      <td>female</td>\n      <td>zhejiang-ningbo</td>\n      <td>nan</td>\n      <td>NaN</td>\n      <td>nan</td>\n      <td>NaN</td>\n      <td>zhejiang-ningbo</td>\n      <td>0</td>\n      <td>749</td>\n      <td>748</td>\n      <td>55</td>\n      <td>461</td>\n      <td>4</td>\n    </tr>\n    <tr>\n      <th>25874</th>\n      <td>25874</td>\n      <td>ningbo-257</td>\n      <td>NaN</td>\n      <td>female</td>\n      <td>zhejiang-ningbo</td>\n      <td>nan</td>\n      <td>NaN</td>\n      <td>nan</td>\n      <td>NaN</td>\n      <td>zhejiang-ningbo</td>\n      <td>0</td>\n      <td>749</td>\n      <td>748</td>\n      <td>55</td>\n      <td>461</td>\n      <td>4</td>\n    </tr>\n    <tr>\n      <th>25875</th>\n      <td>25875</td>\n      <td>ningbo-258</td>\n      <td>NaN</td>\n      <td>female</td>\n      <td>zhejiang-ningbo</td>\n      <td>nan</td>\n      <td>NaN</td>\n      <td>nan</td>\n      <td>NaN</td>\n      <td>zhejiang-ningbo</td>\n      <td>0</td>\n      <td>749</td>\n      <td>748</td>\n      <td>55</td>\n      <td>461</td>\n      <td>4</td>\n    </tr>\n    <tr>\n      <th>25876</th>\n      <td>25876</td>\n      <td>chongqing-23</td>\n      <td>NaN</td>\n      <td>NaN</td>\n      <td>nan</td>\n      <td>nan</td>\n      <td>NaN</td>\n      <td>nan</td>\n      <td>NaN</td>\n      <td>chongqing</td>\n      <td>2</td>\n      <td>480</td>\n      <td>748</td>\n      <td>55</td>\n      <td>34</td>\n      <td>4</td>\n    </tr>\n  </tbody>\n</table>\n<p>25877 rows × 16 columns</p>\n</div>"
     },
     "execution_count": 106,
     "metadata": {},
     "output_type": "execute_result"
    }
   ],
   "source": [
    "china_nodelist"
   ],
   "metadata": {
    "collapsed": false,
    "pycharm": {
     "name": "#%%\n"
    }
   }
  },
  {
   "cell_type": "code",
   "execution_count": 107,
   "outputs": [
    {
     "data": {
      "text/plain": "array([ 49. ,  54. ,  50. ,  46. ,  58. ,  51. ,  41. ,  37. ,  42. ,\n        52. ,  25. ,  53. ,  45. ,  39. ,  65. ,  31. ,  27. ,  57. ,\n        21. ,  47. ,  36. ,  64. ,  28. ,  40. ,  34. ,  29. ,  62. ,\n        56. ,  75. ,  33. ,  43. ,  30. ,  55. ,  35. ,  38. ,  20. ,\n        71. ,  24. ,  17. ,  86. ,  44. ,  63. ,  70. ,  48. ,  60. ,\n        67. ,  59. ,  74. ,  68. ,  83. ,  80. ,  19. ,  78. ,  66. ,\n        82. ,  69. ,   2. ,  22. ,  13. ,  12. ,  85. ,  18. ,  89. ,\n        14. ,  72. ,  10. ,  32. ,   5. ,  16. ,   8. ,  26. ,   7. ,\n        61. ,  73. ,   6. ,  76. ,   nan,  15. ,   1. ,  23. ,  91. ,\n         3. ,   4. ,   9. ,  87. ,  79. ,  77. ,  11. ,  84. ,  81. ,\n        94. ,  90. ,   0. ,  88. , 644. ,  95. ,  97. ,  96. ,  93. ,\n        92. ,  99. ,   2.5])"
     },
     "execution_count": 107,
     "metadata": {},
     "output_type": "execute_result"
    }
   ],
   "source": [
    "china_nodelist['age'] = pd.to_numeric(china_nodelist['age'], errors='coerce')\n",
    "china_nodelist['age'].unique()"
   ],
   "metadata": {
    "collapsed": false,
    "pycharm": {
     "name": "#%%\n"
    }
   }
  },
  {
   "cell_type": "code",
   "execution_count": 108,
   "outputs": [],
   "source": [
    "china_data = pd.DataFrame(columns=['referee', 'referral', 'contact', 'referee_age', 'referral_age', 'age_diff', 'referee_gender', 'referral_gender', 'gender_diff', 'referee_residency', 'referral_residency', 'residency_diff',\n",
    "                                       'referee_place_event', 'referral_place_event', 'place_event_diff', 'referee_symptom', 'referral_symptom', 'symptom_diff', 'referee_symptom_severity', 'referral_symptom_severity', 'symptom_severity_diff', 'referee_place_admission', 'referral_place_admission', 'place_admission_diff', 'referee_degree_centrality', 'referral_degree_centrality', 'degree_centrality_diff', 'referee_betweenness_centrality', 'referral_betweenness_centrality', 'betweenness_centrality_diff',\n",
    "                                       'referee_pagerank_centrality', 'referral_pagerank_centrality', 'pagerank_centrality_diff', 'referee_component_size', 'referral_component_size', 'component_size_diff',\n",
    "                                   'referee_avg_path_len', 'referral_avg_path_len', 'avg_path_len_diff'])"
   ],
   "metadata": {
    "collapsed": false,
    "pycharm": {
     "name": "#%%\n"
    }
   }
  },
  {
   "cell_type": "code",
   "execution_count": 109,
   "outputs": [],
   "source": [
    "added_combinations = set()\n",
    "for index, row in china_edgelist[~china_edgelist['Referral'].isna()].iterrows():\n",
    "    referee_id = row['Referee']\n",
    "    referral_id = row['Referral']\n",
    "    referee = china_nodelist.query('node_id == @referee_id')\n",
    "    referral = china_nodelist.query('node_id == @referral_id')\n",
    "    referee_network_stats = china_network.query('Referee == @referee_id')\n",
    "    referral_network_stats = china_network.query('Referee == @referral_id')\n",
    "\n",
    "    referee_age = referee['age'].iloc[0]\n",
    "    referral_age = referral['age'].iloc[0]\n",
    "    referee_gender = referee['gender_ints'].iloc[0]\n",
    "    referral_gender = referral['gender_ints'].iloc[0]\n",
    "    referee_residency = referee['residency_ints'].iloc[0]\n",
    "    referral_residency = referral['residency_ints'].iloc[0]\n",
    "    referee_place_event = referee['place_event_ints'].iloc[0]\n",
    "    referral_place_event = referral['place_event_ints'].iloc[0]\n",
    "    referee_symptom = referee['symptom_ints'].iloc[0]\n",
    "    referral_symptom = referral['symptom_ints'].iloc[0]\n",
    "    referee_symptom_severity = referee['symptom_severity_ints'].iloc[0]\n",
    "    referral_symptom_severity = referral['symptom_severity_ints'].iloc[0]\n",
    "    referee_place_admission = referee['place_admission_ints'].iloc[0]\n",
    "    referral_place_admission = referral['place_admission_ints'].iloc[0]\n",
    "\n",
    "    referee_degree_centrality = referee_network_stats['Degree_Centrality'].iloc[0]\n",
    "    referral_degree_centrality = referral_network_stats['Degree_Centrality'].iloc[0]\n",
    "    referee_betweenness_centrality = referee_network_stats['Betweenness_Centrality'].iloc[0]\n",
    "    referral_betweenness_centrality = referral_network_stats['Betweenness_Centrality'].iloc[0]\n",
    "    referee_pagerank_centrality = referee_network_stats['Pagerank_Centrality'].iloc[0]\n",
    "    referral_pagerank_centrality = referral_network_stats['Pagerank_Centrality'].iloc[0]\n",
    "    referee_component_size = referee_network_stats['Component_Size'].iloc[0]\n",
    "    referral_component_size = referral_network_stats['Component_Size'].iloc[0]\n",
    "    referee_avg_path_len = referee_network_stats['Avg_Shortest_Path_Length'].iloc[0]\n",
    "    referral_avg_path_len = referral_network_stats['Avg_Shortest_Path_Length'].iloc[0]\n",
    "\n",
    "    new_row = pd.Series({'referee': referee_id, 'referral': referral_id, 'contact': 1, 'referee_age': referee_age, 'referral_age': referral_age, 'age_diff': abs(referee_age - referral_age),\n",
    "                         'referee_gender': referee_gender, 'referral_gender': referral_gender, 'gender_diff': abs(referee_gender - referral_gender),\n",
    "                         'referee_residency': referee_residency, 'referral_residency': referral_residency, 'residency_diff': abs(referee_residency - referral_residency),\n",
    "                         'referee_place_event': referee_place_event, 'referral_place_event': referral_place_event, 'place_event_diff': abs(referee_place_event - referral_place_event),\n",
    "                         'referee_symptom': referee_symptom, 'referral_symptom': referral_symptom, 'symptom_diff': abs(referee_symptom - referral_symptom),\n",
    "                         'referee_symptom_severity': referee_symptom_severity, 'referral_symptom_severity': referral_symptom_severity, 'symptom_severity_diff': abs(referee_symptom_severity - referral_symptom_severity),\n",
    "                         'referee_place_admission': referee_place_admission, 'referral_place_admission': referral_place_admission, 'place_admission_diff': abs(referee_place_admission - referral_place_admission),\n",
    "                         'referee_degree_centrality': referee_degree_centrality, 'referral_degree_centrality': referral_degree_centrality, 'degree_centrality_diff': abs(referee_degree_centrality - referral_degree_centrality),\n",
    "                         'referee_betweenness_centrality': referee_betweenness_centrality, 'referral_betweenness_centrality': referral_betweenness_centrality, 'betweenness_centrality_diff': abs(referee_betweenness_centrality - referral_betweenness_centrality),\n",
    "                         'referee_pagerank_centrality': referee_pagerank_centrality, 'referral_pagerank_centrality': referral_pagerank_centrality, 'pagerank_centrality_diff': abs(referee_pagerank_centrality - referral_pagerank_centrality),\n",
    "                         'referee_component_size': referee_component_size, 'referral_component_size': referral_component_size, 'component_size_diff': abs(referee_component_size - referral_component_size),\n",
    "                         'referee_avg_path_len': referee_avg_path_len, 'referral_avg_path_len': referral_avg_path_len, 'avg_path_len_diff': abs(referee_avg_path_len - referral_avg_path_len)})\n",
    "    china_data = pd.concat([china_data, new_row.to_frame().T], axis='index', ignore_index=True)\n",
    "\n",
    "    added_combinations.add((referee_id, referral_id))\n",
    "    added_combinations.add((referral_id, referee_id))"
   ],
   "metadata": {
    "collapsed": false,
    "pycharm": {
     "name": "#%%\n"
    }
   }
  },
  {
   "cell_type": "code",
   "execution_count": 110,
   "outputs": [
    {
     "data": {
      "text/plain": "(11436, 39)"
     },
     "execution_count": 110,
     "metadata": {},
     "output_type": "execute_result"
    }
   ],
   "source": [
    "china_data.shape"
   ],
   "metadata": {
    "collapsed": false,
    "pycharm": {
     "name": "#%%\n"
    }
   }
  },
  {
   "cell_type": "code",
   "execution_count": 111,
   "outputs": [
    {
     "data": {
      "text/plain": "array(['hengshui-2', 'bozhou-78', 'liangjiangnewdistrict-12', 'an-1795',\n       'hebeibaoding-30', 'shangqiu-5', 'shenzhen-370', 'xinxiang-38',\n       'nanjing-10', 'tianjin-107', 'taizhou-135', 'an-1249',\n       'fengjie-13', 'shenzhen-179', 'panjin-17', 'shanghai-991',\n       'shenzhen-11', 'guangzhou-1389', 'guangdonghuizhou-36',\n       'guangzhou-322', 'garz-15', 'changchun-52', 'chengdu-344',\n       'shenzhen-247', 'shanghai-194', 'shijiazhuang-107', 'jiaxing-6',\n       'shanghai-1584', 'yangzhou-33', 'putian-198', 'an-726',\n       'hulunbeier-510', 'shanghai-1523', 'jiaozuo-3', 'kunming-353',\n       'changjiang-7', 'guangzhou-1457', 'taizhou-31', 'tianjin-319',\n       'jiangsuwuxi-15', 'an-2078', 'guangzhou-1563', 'tonghua-199',\n       'changchun-49', 'shanghai-1552', 'fuyang-122', 'zhongshan-108',\n       'tonghua-155', 'wenzhou-387', 'nanyang-95', 'chengdu-162',\n       'wanzhou-13', 'chengdu-656', 'zhenjiang-13', 'wenzhou-241',\n       'shanghai-1213', 'zhengzhou-64', 'harbin-2', 'shijiazhuang-763',\n       'hebeibaoding-3', 'guangzhou-1710', 'dalian-60', 'shenzhen-126',\n       'yangzhou-169', 'guangzhou-184', 'an-1278', 'hulunbeier-259',\n       'harbin-185', 'shanghai-1939', 'tonghua-116', 'guangzhou-65',\n       'wenzhou-272', 'taizhou-35', 'pingxiang-26', 'hulunbeier-449',\n       'guangzhou-1337', 'foshan-364', 'tonghua-308', 'jinan-52',\n       'yueyang-78', 'tonghua-93', 'qingdao-80', 'sanya-31', 'foshan-235',\n       'shantou-14', 'wanzhou-115', 'zhengzhou-217', 'an-2232',\n       'foshan-4', 'an-2589', 'guangzhou-101', 'xiamen-404',\n       'hulunbeier-149', 'ruili-146', 'jinhua-41', 'xuchang-355',\n       'yangzhou-342', 'guangzhou-807', 'kunming-341', 'anyang-65',\n       'shanghai-317', 'huainan-9', 'shanghai-409', 'zhaotong-20',\n       'jilin-38', 'shenzhen-491', 'an-941', 'an-1238', 'wenzhou-395',\n       'xiamen-276', 'xinyu-130', 'anyang-11', 'shijiazhuang-600',\n       'guangzhou-541', 'shanghai-371', 'shenzhen-155', 'tianjin-626',\n       'foshan-343', 'hulunbeier-71', 'ningbo-115', 'guangzhou-890',\n       'hefei-170', 'guangzhou-1127', 'nanyang-8', 'luan-77',\n       'guangzhou-1446', 'suzhou-1', 'foshan-155', 'shaoxing-5',\n       'hulunbeier-84', 'xiangtan-23', 'an-1344', 'guangzhou-1608',\n       'taizhou-87', 'guangzhou-1294', 'taiyuan-10', 'luan-73',\n       'yangjiang-7', 'alxa-50', 'guangzhou-639', 'tianjin-668', 'an-689',\n       'mudanjiang-182', 'guangzhou-1354', 'shenzhen-384', 'harbin-130',\n       'tonghua-163', 'guangzhou-1718', 'an-450', 'yingtan-8'],\n      dtype=object)"
     },
     "execution_count": 111,
     "metadata": {},
     "output_type": "execute_result"
    }
   ],
   "source": [
    "sample = np.random.choice(china_nodelist['node_id'], size=150, replace=False)\n",
    "sample"
   ],
   "metadata": {
    "collapsed": false,
    "pycharm": {
     "name": "#%%\n"
    }
   }
  },
  {
   "cell_type": "code",
   "execution_count": 112,
   "outputs": [
    {
     "data": {
      "text/plain": "  0%|          | 0/150 [00:00<?, ?it/s]",
      "application/vnd.jupyter.widget-view+json": {
       "version_major": 2,
       "version_minor": 0,
       "model_id": "21bce1809f4e42978245ba23e6480ea6"
      }
     },
     "metadata": {},
     "output_type": "display_data"
    }
   ],
   "source": [
    "for ref_a in tqdm(sample):\n",
    "    for ref_b in sample:\n",
    "        if ref_a == ref_b:\n",
    "            continue\n",
    "        if (ref_a, ref_b) in added_combinations:\n",
    "            continue\n",
    "        if (ref_b, ref_a) in added_combinations:\n",
    "            continue\n",
    "\n",
    "        referee = china_nodelist.query('node_id == @ref_a')\n",
    "        referral = china_nodelist.query('node_id == @ref_b')\n",
    "        referee_network_stats = china_network.query('Referee == @ref_a')\n",
    "        referral_network_stats = china_network.query('Referee == @ref_b')\n",
    "\n",
    "        referee_age = referee['age'].iloc[0]\n",
    "        referral_age = referral['age'].iloc[0]\n",
    "        referee_gender = referee['gender_ints'].iloc[0]\n",
    "        referral_gender = referral['gender_ints'].iloc[0]\n",
    "        referee_residency = referee['residency_ints'].iloc[0]\n",
    "        referral_residency = referral['residency_ints'].iloc[0]\n",
    "        referee_place_event = referee['place_event_ints'].iloc[0]\n",
    "        referral_place_event = referral['place_event_ints'].iloc[0]\n",
    "        referee_symptom = referee['symptom_ints'].iloc[0]\n",
    "        referral_symptom = referral['symptom_ints'].iloc[0]\n",
    "        referee_symptom_severity = referee['symptom_severity_ints'].iloc[0]\n",
    "        referral_symptom_severity = referral['symptom_severity_ints'].iloc[0]\n",
    "        referee_place_admission = referee['place_admission_ints'].iloc[0]\n",
    "        referral_place_admission = referral['place_admission_ints'].iloc[0]\n",
    "\n",
    "        referee_degree_centrality = referee_network_stats['Degree_Centrality'].iloc[0]\n",
    "        referral_degree_centrality = referral_network_stats['Degree_Centrality'].iloc[0]\n",
    "        referee_betweenness_centrality = referee_network_stats['Betweenness_Centrality'].iloc[0]\n",
    "        referral_betweenness_centrality = referral_network_stats['Betweenness_Centrality'].iloc[0]\n",
    "        referee_pagerank_centrality = referee_network_stats['Pagerank_Centrality'].iloc[0]\n",
    "        referral_pagerank_centrality = referral_network_stats['Pagerank_Centrality'].iloc[0]\n",
    "        referee_component_size = referee_network_stats['Component_Size'].iloc[0]\n",
    "        referral_component_size = referral_network_stats['Component_Size'].iloc[0]\n",
    "        referee_avg_path_len = referee_network_stats['Avg_Shortest_Path_Length'].iloc[0]\n",
    "        referral_avg_path_len = referral_network_stats['Avg_Shortest_Path_Length'].iloc[0]\n",
    "\n",
    "        new_row = pd.Series({'referee': ref_a, 'referral': ref_b, 'contact': 0, 'referee_age': referee_age, 'referral_age': referral_age, 'age_diff': abs(referee_age - referral_age),\n",
    "                             'referee_gender': referee_gender, 'referral_gender': referral_gender, 'gender_diff': abs(referee_gender - referral_gender),\n",
    "                             'referee_residency': referee_residency, 'referral_residency': referral_residency, 'residency_diff': abs(referee_residency - referral_residency),\n",
    "                             'referee_place_event': referee_place_event, 'referral_place_event': referral_place_event, 'place_event_diff': abs(referee_place_event - referral_place_event),\n",
    "                             'referee_symptom': referee_symptom, 'referral_symptom': referral_symptom, 'symptom_diff': abs(referee_symptom - referral_symptom),\n",
    "                             'referee_symptom_severity': referee_symptom_severity, 'referral_symptom_severity': referral_symptom_severity, 'symptom_severity_diff': abs(referee_symptom_severity - referral_symptom_severity),\n",
    "                             'referee_place_admission': referee_place_admission, 'referral_place_admission': referral_place_admission, 'place_admission_diff': abs(referee_place_admission - referral_place_admission),\n",
    "                             'referee_degree_centrality': referee_degree_centrality, 'referral_degree_centrality': referral_degree_centrality, 'degree_centrality_diff': abs(referee_degree_centrality - referral_degree_centrality),\n",
    "                             'referee_betweenness_centrality': referee_betweenness_centrality, 'referral_betweenness_centrality': referral_betweenness_centrality, 'betweenness_centrality_diff': abs(referee_betweenness_centrality - referral_betweenness_centrality),\n",
    "                             'referee_pagerank_centrality': referee_pagerank_centrality, 'referral_pagerank_centrality': referral_pagerank_centrality, 'pagerank_centrality_diff': abs(referee_pagerank_centrality - referral_pagerank_centrality),\n",
    "                             'referee_component_size': referee_component_size, 'referral_component_size': referral_component_size, 'component_size_diff': abs(referee_component_size - referral_component_size),\n",
    "                             'referee_avg_path_len': referee_avg_path_len, 'referral_avg_path_len': referral_avg_path_len, 'avg_path_len_diff': abs(referee_avg_path_len - referral_avg_path_len)})\n",
    "        china_data = pd.concat([china_data, new_row.to_frame().T], axis='index', ignore_index=True)\n",
    "\n",
    "        added_combinations.add((ref_a, ref_b))\n",
    "        added_combinations.add((ref_b, ref_a))"
   ],
   "metadata": {
    "collapsed": false,
    "pycharm": {
     "name": "#%%\n"
    }
   }
  },
  {
   "cell_type": "code",
   "execution_count": 113,
   "outputs": [
    {
     "data": {
      "text/plain": "                referee          referral contact referee_age referral_age  \\\n0      shijiazhuang-155  shijiazhuang-176       1        29.0         61.0   \n1      shijiazhuang-155  shijiazhuang-156       1        29.0         35.0   \n2      shijiazhuang-150   shijiazhuang-38       1         3.0         55.0   \n3      shijiazhuang-150  shijiazhuang-151       1         3.0         33.0   \n4      shijiazhuang-145  shijiazhuang-146       1        15.0         52.0   \n...                 ...               ...     ...         ...          ...   \n22606       tonghua-163            an-450       0        54.0         35.0   \n22607       tonghua-163         yingtan-8       0        54.0         29.0   \n22608    guangzhou-1718            an-450       0        24.0         35.0   \n22609    guangzhou-1718         yingtan-8       0        24.0         29.0   \n22610            an-450         yingtan-8       0        35.0         29.0   \n\n      age_diff referee_gender referral_gender gender_diff referee_residency  \\\n0         32.0              0               1           1               244   \n1          6.0              0               0           0               244   \n2         52.0              0               0           0               244   \n3         30.0              0               0           0               244   \n4         37.0              0               0           0               244   \n...        ...            ...             ...         ...               ...   \n22606     19.0              1               1           0               416   \n22607     25.0              1               1           0               416   \n22608     11.0              1               1           0               480   \n22609      5.0              1               1           0               480   \n22610      6.0              1               1           0               480   \n\n       ... betweenness_centrality_diff referee_pagerank_centrality  \\\n0      ...                         0.0                    0.000116   \n1      ...                         0.0                    0.000116   \n2      ...                         0.0                    0.000166   \n3      ...                         0.0                    0.000166   \n4      ...                         0.0                      0.0002   \n...    ...                         ...                         ...   \n22606  ...                         0.0                    0.000083   \n22607  ...                         0.0                    0.000083   \n22608  ...                         0.0                    0.000019   \n22609  ...                         0.0                    0.000019   \n22610  ...                         0.0                    0.000019   \n\n      referral_pagerank_centrality pagerank_centrality_diff  \\\n0                         0.000116                      0.0   \n1                         0.000116                      0.0   \n2                         0.000091                 0.000075   \n3                         0.000091                 0.000075   \n4                         0.000061                 0.000139   \n...                            ...                      ...   \n22606                     0.000019                 0.000064   \n22607                     0.000019                 0.000064   \n22608                     0.000019                      0.0   \n22609                     0.000019                      0.0   \n22610                     0.000019                      0.0   \n\n      referee_component_size referral_component_size component_size_diff  \\\n0                          4                       4                   0   \n1                          4                       4                   0   \n2                          3                       3                   0   \n3                          3                       3                   0   \n4                          7                       7                   0   \n...                      ...                     ...                 ...   \n22606                    142                       1                 141   \n22607                    142                       1                 141   \n22608                      1                       1                   0   \n22609                      1                       1                   0   \n22610                      1                       1                   0   \n\n      referee_avg_path_len referral_avg_path_len avg_path_len_diff  \n0                      1.0                   1.0               0.0  \n1                      1.0                   1.0               0.0  \n2                 0.666667                   1.0          0.333333  \n3                 0.666667                   1.0          0.333333  \n4                 1.142857              1.857143          0.714286  \n...                    ...                   ...               ...  \n22606             2.014085                   0.0          2.014085  \n22607             2.014085                   0.0          2.014085  \n22608                  0.0                   0.0               0.0  \n22609                  0.0                   0.0               0.0  \n22610                  0.0                   0.0               0.0  \n\n[22611 rows x 39 columns]",
      "text/html": "<div>\n<style scoped>\n    .dataframe tbody tr th:only-of-type {\n        vertical-align: middle;\n    }\n\n    .dataframe tbody tr th {\n        vertical-align: top;\n    }\n\n    .dataframe thead th {\n        text-align: right;\n    }\n</style>\n<table border=\"1\" class=\"dataframe\">\n  <thead>\n    <tr style=\"text-align: right;\">\n      <th></th>\n      <th>referee</th>\n      <th>referral</th>\n      <th>contact</th>\n      <th>referee_age</th>\n      <th>referral_age</th>\n      <th>age_diff</th>\n      <th>referee_gender</th>\n      <th>referral_gender</th>\n      <th>gender_diff</th>\n      <th>referee_residency</th>\n      <th>...</th>\n      <th>betweenness_centrality_diff</th>\n      <th>referee_pagerank_centrality</th>\n      <th>referral_pagerank_centrality</th>\n      <th>pagerank_centrality_diff</th>\n      <th>referee_component_size</th>\n      <th>referral_component_size</th>\n      <th>component_size_diff</th>\n      <th>referee_avg_path_len</th>\n      <th>referral_avg_path_len</th>\n      <th>avg_path_len_diff</th>\n    </tr>\n  </thead>\n  <tbody>\n    <tr>\n      <th>0</th>\n      <td>shijiazhuang-155</td>\n      <td>shijiazhuang-176</td>\n      <td>1</td>\n      <td>29.0</td>\n      <td>61.0</td>\n      <td>32.0</td>\n      <td>0</td>\n      <td>1</td>\n      <td>1</td>\n      <td>244</td>\n      <td>...</td>\n      <td>0.0</td>\n      <td>0.000116</td>\n      <td>0.000116</td>\n      <td>0.0</td>\n      <td>4</td>\n      <td>4</td>\n      <td>0</td>\n      <td>1.0</td>\n      <td>1.0</td>\n      <td>0.0</td>\n    </tr>\n    <tr>\n      <th>1</th>\n      <td>shijiazhuang-155</td>\n      <td>shijiazhuang-156</td>\n      <td>1</td>\n      <td>29.0</td>\n      <td>35.0</td>\n      <td>6.0</td>\n      <td>0</td>\n      <td>0</td>\n      <td>0</td>\n      <td>244</td>\n      <td>...</td>\n      <td>0.0</td>\n      <td>0.000116</td>\n      <td>0.000116</td>\n      <td>0.0</td>\n      <td>4</td>\n      <td>4</td>\n      <td>0</td>\n      <td>1.0</td>\n      <td>1.0</td>\n      <td>0.0</td>\n    </tr>\n    <tr>\n      <th>2</th>\n      <td>shijiazhuang-150</td>\n      <td>shijiazhuang-38</td>\n      <td>1</td>\n      <td>3.0</td>\n      <td>55.0</td>\n      <td>52.0</td>\n      <td>0</td>\n      <td>0</td>\n      <td>0</td>\n      <td>244</td>\n      <td>...</td>\n      <td>0.0</td>\n      <td>0.000166</td>\n      <td>0.000091</td>\n      <td>0.000075</td>\n      <td>3</td>\n      <td>3</td>\n      <td>0</td>\n      <td>0.666667</td>\n      <td>1.0</td>\n      <td>0.333333</td>\n    </tr>\n    <tr>\n      <th>3</th>\n      <td>shijiazhuang-150</td>\n      <td>shijiazhuang-151</td>\n      <td>1</td>\n      <td>3.0</td>\n      <td>33.0</td>\n      <td>30.0</td>\n      <td>0</td>\n      <td>0</td>\n      <td>0</td>\n      <td>244</td>\n      <td>...</td>\n      <td>0.0</td>\n      <td>0.000166</td>\n      <td>0.000091</td>\n      <td>0.000075</td>\n      <td>3</td>\n      <td>3</td>\n      <td>0</td>\n      <td>0.666667</td>\n      <td>1.0</td>\n      <td>0.333333</td>\n    </tr>\n    <tr>\n      <th>4</th>\n      <td>shijiazhuang-145</td>\n      <td>shijiazhuang-146</td>\n      <td>1</td>\n      <td>15.0</td>\n      <td>52.0</td>\n      <td>37.0</td>\n      <td>0</td>\n      <td>0</td>\n      <td>0</td>\n      <td>244</td>\n      <td>...</td>\n      <td>0.0</td>\n      <td>0.0002</td>\n      <td>0.000061</td>\n      <td>0.000139</td>\n      <td>7</td>\n      <td>7</td>\n      <td>0</td>\n      <td>1.142857</td>\n      <td>1.857143</td>\n      <td>0.714286</td>\n    </tr>\n    <tr>\n      <th>...</th>\n      <td>...</td>\n      <td>...</td>\n      <td>...</td>\n      <td>...</td>\n      <td>...</td>\n      <td>...</td>\n      <td>...</td>\n      <td>...</td>\n      <td>...</td>\n      <td>...</td>\n      <td>...</td>\n      <td>...</td>\n      <td>...</td>\n      <td>...</td>\n      <td>...</td>\n      <td>...</td>\n      <td>...</td>\n      <td>...</td>\n      <td>...</td>\n      <td>...</td>\n      <td>...</td>\n    </tr>\n    <tr>\n      <th>22606</th>\n      <td>tonghua-163</td>\n      <td>an-450</td>\n      <td>0</td>\n      <td>54.0</td>\n      <td>35.0</td>\n      <td>19.0</td>\n      <td>1</td>\n      <td>1</td>\n      <td>0</td>\n      <td>416</td>\n      <td>...</td>\n      <td>0.0</td>\n      <td>0.000083</td>\n      <td>0.000019</td>\n      <td>0.000064</td>\n      <td>142</td>\n      <td>1</td>\n      <td>141</td>\n      <td>2.014085</td>\n      <td>0.0</td>\n      <td>2.014085</td>\n    </tr>\n    <tr>\n      <th>22607</th>\n      <td>tonghua-163</td>\n      <td>yingtan-8</td>\n      <td>0</td>\n      <td>54.0</td>\n      <td>29.0</td>\n      <td>25.0</td>\n      <td>1</td>\n      <td>1</td>\n      <td>0</td>\n      <td>416</td>\n      <td>...</td>\n      <td>0.0</td>\n      <td>0.000083</td>\n      <td>0.000019</td>\n      <td>0.000064</td>\n      <td>142</td>\n      <td>1</td>\n      <td>141</td>\n      <td>2.014085</td>\n      <td>0.0</td>\n      <td>2.014085</td>\n    </tr>\n    <tr>\n      <th>22608</th>\n      <td>guangzhou-1718</td>\n      <td>an-450</td>\n      <td>0</td>\n      <td>24.0</td>\n      <td>35.0</td>\n      <td>11.0</td>\n      <td>1</td>\n      <td>1</td>\n      <td>0</td>\n      <td>480</td>\n      <td>...</td>\n      <td>0.0</td>\n      <td>0.000019</td>\n      <td>0.000019</td>\n      <td>0.0</td>\n      <td>1</td>\n      <td>1</td>\n      <td>0</td>\n      <td>0.0</td>\n      <td>0.0</td>\n      <td>0.0</td>\n    </tr>\n    <tr>\n      <th>22609</th>\n      <td>guangzhou-1718</td>\n      <td>yingtan-8</td>\n      <td>0</td>\n      <td>24.0</td>\n      <td>29.0</td>\n      <td>5.0</td>\n      <td>1</td>\n      <td>1</td>\n      <td>0</td>\n      <td>480</td>\n      <td>...</td>\n      <td>0.0</td>\n      <td>0.000019</td>\n      <td>0.000019</td>\n      <td>0.0</td>\n      <td>1</td>\n      <td>1</td>\n      <td>0</td>\n      <td>0.0</td>\n      <td>0.0</td>\n      <td>0.0</td>\n    </tr>\n    <tr>\n      <th>22610</th>\n      <td>an-450</td>\n      <td>yingtan-8</td>\n      <td>0</td>\n      <td>35.0</td>\n      <td>29.0</td>\n      <td>6.0</td>\n      <td>1</td>\n      <td>1</td>\n      <td>0</td>\n      <td>480</td>\n      <td>...</td>\n      <td>0.0</td>\n      <td>0.000019</td>\n      <td>0.000019</td>\n      <td>0.0</td>\n      <td>1</td>\n      <td>1</td>\n      <td>0</td>\n      <td>0.0</td>\n      <td>0.0</td>\n      <td>0.0</td>\n    </tr>\n  </tbody>\n</table>\n<p>22611 rows × 39 columns</p>\n</div>"
     },
     "execution_count": 113,
     "metadata": {},
     "output_type": "execute_result"
    }
   ],
   "source": [
    "china_data"
   ],
   "metadata": {
    "collapsed": false,
    "pycharm": {
     "name": "#%%\n"
    }
   }
  },
  {
   "cell_type": "code",
   "execution_count": 114,
   "outputs": [],
   "source": [
    "china_data = china_data.fillna(value=-999)\n",
    "\n",
    "china_data['gender_diff'] = china_data['gender_diff'].where(china_data['gender_diff'] <= 0, 1)\n",
    "china_data['residency_diff'] = china_data['residency_diff'].where(china_data['residency_diff'] <= 0, 1)\n",
    "china_data['place_event_diff'] = china_data['place_event_diff'].where(china_data['place_event_diff'] <= 0, 1)\n",
    "china_data['symptom_diff'] = china_data['symptom_diff'].where(china_data['symptom_diff'] <= 0, 1)\n",
    "china_data['symptom_severity_diff'] = china_data['symptom_severity_diff'].where(china_data['symptom_severity_diff'] <= 0, 1)\n",
    "china_data['place_admission_diff'] = china_data['place_admission_diff'].where(china_data['place_admission_diff'] <= 0, 1)"
   ],
   "metadata": {
    "collapsed": false,
    "pycharm": {
     "name": "#%%\n"
    }
   }
  },
  {
   "cell_type": "code",
   "execution_count": 115,
   "outputs": [],
   "source": [
    "china_data[['referee_age', 'referral_age', 'age_diff', 'referee_degree_centrality', 'referral_degree_centrality',\n",
    "                'degree_centrality_diff', 'referee_betweenness_centrality',\n",
    "                'referral_betweenness_centrality', 'betweenness_centrality_diff',\n",
    "                'referee_pagerank_centrality', 'referral_pagerank_centrality',\n",
    "                'pagerank_centrality_diff', 'referee_component_size',\n",
    "                'referral_component_size', 'component_size_diff', 'referee_avg_path_len',\n",
    "            'referral_avg_path_len', 'avg_path_len_diff']] = normalize(china_data[['referee_age', 'referral_age', 'age_diff', 'referee_degree_centrality', 'referral_degree_centrality',\n",
    "                                                                                               'degree_centrality_diff', 'referee_betweenness_centrality',\n",
    "                                                                                               'referral_betweenness_centrality', 'betweenness_centrality_diff',\n",
    "                                                                                               'referee_pagerank_centrality', 'referral_pagerank_centrality',\n",
    "                                                                                               'pagerank_centrality_diff', 'referee_component_size',\n",
    "                                                                                               'referral_component_size', 'component_size_diff', 'referee_avg_path_len',\n",
    "                                                                                   'referral_avg_path_len', 'avg_path_len_diff']])\n",
    "china_data[['referee_age', 'referral_age', 'age_diff', 'referee_degree_centrality', 'referral_degree_centrality',\n",
    "                'degree_centrality_diff', 'referee_betweenness_centrality',\n",
    "                'referral_betweenness_centrality', 'betweenness_centrality_diff',\n",
    "                'referee_pagerank_centrality', 'referral_pagerank_centrality',\n",
    "                'pagerank_centrality_diff', 'referee_component_size',\n",
    "                'referral_component_size', 'component_size_diff', 'referee_avg_path_len',\n",
    "            'referral_avg_path_len', 'avg_path_len_diff']] = scale(china_data[['referee_age', 'referral_age', 'age_diff', 'referee_degree_centrality', 'referral_degree_centrality',\n",
    "                                                                                           'degree_centrality_diff', 'referee_betweenness_centrality',\n",
    "                                                                                           'referral_betweenness_centrality', 'betweenness_centrality_diff',\n",
    "                                                                                           'referee_pagerank_centrality', 'referral_pagerank_centrality',\n",
    "                                                                                           'pagerank_centrality_diff', 'referee_component_size',\n",
    "                                                                                           'referral_component_size', 'component_size_diff', 'referee_avg_path_len',\n",
    "                                                                               'referral_avg_path_len', 'avg_path_len_diff']])"
   ],
   "metadata": {
    "collapsed": false,
    "pycharm": {
     "name": "#%%\n"
    }
   }
  },
  {
   "cell_type": "code",
   "execution_count": 116,
   "outputs": [
    {
     "data": {
      "text/plain": "array([ 0.27338409,  0.33910138,  0.34160139, -0.29405836, -0.27846425,\n       -0.06479354, -0.011047  , -0.02769734, -0.65401936, -0.05050589,\n       -0.01114833, -0.13039696,  0.06887405,  0.19934472, -0.00374581,\n       -0.02996944, -0.01795474, -0.33296848, -0.22844268, -0.2082084 ,\n       -0.93102273,  0.5375845 ,  0.52273315,  0.0882801 ,  0.0551724 ,\n        0.13400891,  0.13509557,  0.54293197,  0.39075424,  0.11148472,\n        0.41826937,  0.39754313, -0.24640582,  0.5098621 ,  0.57255551,\n       -0.22590777])"
     },
     "execution_count": 116,
     "metadata": {},
     "output_type": "execute_result"
    }
   ],
   "source": [
    "r_regression(china_data[china_data.columns[3:]], china_data['contact'])"
   ],
   "metadata": {
    "collapsed": false,
    "pycharm": {
     "name": "#%%\n"
    }
   }
  },
  {
   "cell_type": "code",
   "execution_count": 117,
   "outputs": [
    {
     "data": {
      "text/plain": "(array([1.82626385e+03, 2.93759674e+03, 2.98681424e+03, 2.14005904e+03,\n        1.90052597e+03, 9.53173320e+01, 2.75945455e+00, 1.73576377e+01,\n        1.68993571e+04, 5.78195365e+01, 2.81031354e+00, 3.91078765e+02,\n        1.07760025e+02, 9.35623700e+02, 3.17233267e-01, 2.03249159e+01,\n        7.29087687e+00, 2.81917072e+03, 1.24483771e+03, 1.02453101e+03,\n        1.47132463e+05, 9.18974502e+03, 8.50073297e+03, 1.77584439e+02,\n        6.90317980e+01, 4.13446031e+02, 4.20303541e+02, 9.45027756e+03,\n        4.07423284e+03, 2.84540230e+02, 4.79416341e+03, 4.24383693e+03,\n        1.46145778e+03, 7.94202512e+03, 1.10263262e+04, 1.21588695e+03]),\n array([0.00000000e+000, 0.00000000e+000, 0.00000000e+000, 0.00000000e+000,\n        0.00000000e+000, 1.79652363e-022, 9.66950606e-002, 3.10801053e-005,\n        0.00000000e+000, 2.98480642e-014, 9.36738940e-002, 2.58733874e-086,\n        3.45616478e-025, 2.22823645e-201, 5.73280699e-001, 6.56720796e-006,\n        6.93572190e-003, 0.00000000e+000, 1.70561281e-265, 6.68701206e-220,\n        0.00000000e+000, 0.00000000e+000, 0.00000000e+000, 2.31848780e-040,\n        1.02274777e-016, 4.25560627e-091, 1.45660219e-092, 0.00000000e+000,\n        0.00000000e+000, 1.88153535e-063, 0.00000000e+000, 0.00000000e+000,\n        6.55508473e-310, 0.00000000e+000, 0.00000000e+000, 1.58068159e-259]))"
     },
     "execution_count": 117,
     "metadata": {},
     "output_type": "execute_result"
    }
   ],
   "source": [
    "f_regression(china_data[china_data.columns[3:]], china_data['contact'])"
   ],
   "metadata": {
    "collapsed": false,
    "pycharm": {
     "name": "#%%\n"
    }
   }
  },
  {
   "cell_type": "code",
   "execution_count": 118,
   "outputs": [],
   "source": [
    "model = sm.OLS(china_data['contact'], china_data[china_data.columns[3:]])"
   ],
   "metadata": {
    "collapsed": false,
    "pycharm": {
     "name": "#%%\n"
    }
   }
  },
  {
   "cell_type": "code",
   "execution_count": 119,
   "outputs": [
    {
     "name": "stdout",
     "output_type": "stream",
     "text": [
      "                                 OLS Regression Results                                \n",
      "=======================================================================================\n",
      "Dep. Variable:                contact   R-squared (uncentered):                   0.927\n",
      "Model:                            OLS   Adj. R-squared (uncentered):              0.927\n",
      "Method:                 Least Squares   F-statistic:                              8010.\n",
      "Date:                Fri, 30 Jun 2023   Prob (F-statistic):                        0.00\n",
      "Time:                        13:51:27   Log-Likelihood:                          5274.1\n",
      "No. Observations:               22611   AIC:                                 -1.048e+04\n",
      "Df Residuals:                   22575   BIC:                                 -1.019e+04\n",
      "Df Model:                          36                                                  \n",
      "Covariance Type:            nonrobust                                                  \n",
      "===================================================================================================\n",
      "                                      coef    std err          t      P>|t|      [0.025      0.975]\n",
      "---------------------------------------------------------------------------------------------------\n",
      "referee_age                        -0.0046      0.002     -2.145      0.032      -0.009      -0.000\n",
      "referral_age                        0.0130      0.002      5.902      0.000       0.009       0.017\n",
      "age_diff                            0.0087      0.002      3.626      0.000       0.004       0.013\n",
      "referee_gender                      0.0144      0.002      6.070      0.000       0.010       0.019\n",
      "referral_gender                     0.0161      0.002      6.685      0.000       0.011       0.021\n",
      "gender_diff                         0.0409      0.003     15.290      0.000       0.036       0.046\n",
      "referee_residency                   0.0001   1.09e-05     11.830      0.000       0.000       0.000\n",
      "referral_residency                  0.0002   1.11e-05     13.775      0.000       0.000       0.000\n",
      "residency_diff                      0.0136      0.004      3.742      0.000       0.006       0.021\n",
      "referee_place_event              3.962e-05   4.09e-06      9.699      0.000    3.16e-05    4.76e-05\n",
      "referral_place_event             6.302e-05   4.17e-06     15.097      0.000    5.48e-05    7.12e-05\n",
      "place_event_diff                   -0.0148      0.003     -5.357      0.000      -0.020      -0.009\n",
      "referee_symptom                     0.0005   2.83e-05     17.301      0.000       0.000       0.001\n",
      "referral_symptom                    0.0006   2.99e-05     20.591      0.000       0.001       0.001\n",
      "symptom_diff                       -0.0405      0.004    -11.342      0.000      -0.047      -0.033\n",
      "referee_symptom_severity            0.0689      0.002     45.680      0.000       0.066       0.072\n",
      "referral_symptom_severity           0.0788      0.002     52.136      0.000       0.076       0.082\n",
      "symptom_severity_diff               0.0999      0.003     29.524      0.000       0.093       0.107\n",
      "referee_place_admission          5.513e-06   1.43e-05      0.385      0.700   -2.26e-05    3.36e-05\n",
      "referral_place_admission        -1.619e-06   1.37e-05     -0.118      0.906   -2.85e-05    2.53e-05\n",
      "place_admission_diff               -0.7422      0.005   -159.091      0.000      -0.751      -0.733\n",
      "referee_degree_centrality           0.0155      0.004      3.581      0.000       0.007       0.024\n",
      "referral_degree_centrality         -0.0284      0.006     -5.091      0.000      -0.039      -0.017\n",
      "degree_centrality_diff             -0.0368      0.004     -8.618      0.000      -0.045      -0.028\n",
      "referee_betweenness_centrality      0.0037      0.001      2.719      0.007       0.001       0.006\n",
      "referral_betweenness_centrality     0.0841      0.015      5.589      0.000       0.055       0.114\n",
      "betweenness_centrality_diff        -0.0417      0.015     -2.744      0.006      -0.071      -0.012\n",
      "referee_pagerank_centrality         0.0246      0.003      9.004      0.000       0.019       0.030\n",
      "referral_pagerank_centrality        0.1119      0.006     19.027      0.000       0.100       0.123\n",
      "pagerank_centrality_diff           -0.0497      0.006     -8.704      0.000      -0.061      -0.039\n",
      "referee_component_size              0.0060      0.003      2.162      0.031       0.001       0.011\n",
      "referral_component_size             0.0295      0.003     10.257      0.000       0.024       0.035\n",
      "component_size_diff                -0.0156      0.002     -9.171      0.000      -0.019      -0.012\n",
      "referee_avg_path_len                0.0420      0.003     15.882      0.000       0.037       0.047\n",
      "referral_avg_path_len               0.0236      0.002      9.575      0.000       0.019       0.028\n",
      "avg_path_len_diff                  -0.0370      0.002    -16.285      0.000      -0.041      -0.033\n",
      "==============================================================================\n",
      "Omnibus:                     3887.715   Durbin-Watson:                   1.235\n",
      "Prob(Omnibus):                  0.000   Jarque-Bera (JB):            62646.992\n",
      "Skew:                           0.338   Prob(JB):                         0.00\n",
      "Kurtosis:                      11.126   Cond. No.                     2.31e+04\n",
      "==============================================================================\n",
      "\n",
      "Notes:\n",
      "[1] R² is computed without centering (uncentered) since the model does not contain a constant.\n",
      "[2] Standard Errors assume that the covariance matrix of the errors is correctly specified.\n",
      "[3] The condition number is large, 2.31e+04. This might indicate that there are\n",
      "strong multicollinearity or other numerical problems.\n"
     ]
    }
   ],
   "source": [
    "print(model.fit().summary())"
   ],
   "metadata": {
    "collapsed": false,
    "pycharm": {
     "name": "#%%\n"
    }
   }
  },
  {
   "cell_type": "code",
   "execution_count": null,
   "outputs": [],
   "source": [],
   "metadata": {
    "collapsed": false,
    "pycharm": {
     "name": "#%%\n"
    }
   }
  },
  {
   "cell_type": "code",
   "execution_count": 137,
   "outputs": [
    {
     "name": "stdout",
     "output_type": "stream",
     "text": [
      ",coef,stderr,t,P>|t|,[0.025,0.975]\n",
      "nominator age,-0.0015,0.001,-1.096,0.273,-0.004,0.001\n",
      "nominee age,-0.0005,0.002,-0.292,0.770,-0.004,0.003\n",
      "age diff,-0.0013,0.001,-1.035,0.301,-0.004,0.001\n",
      "nominator gender,0.0036,0.001,4.304,0.000,0.002,0.005\n",
      "nominee gender,0.0013,0.001,1.467,0.142,-0.000,0.003\n",
      "gender diff,0.0033,0.001,3.952,0.000,0.002,0.005\n",
      "nominator relatives,0.0036,0.001,4.134,0.000,0.002,0.005\n",
      "nominee relatives,0.0011,0.001,1.226,0.220,-0.001,0.003\n",
      "relatives diff,-0.0012,0.001,-1.457,0.145,-0.003,0.000\n",
      "nominator degree centrality,0.0874,0.002,37.002,0.000,0.083,0.092\n",
      "nominee degree centrality,0.0901,0.006,14.157,0.000,0.078,0.103\n",
      "degree centrality diff,-0.0880,0.005,-16.376,0.000,-0.099,-0.077\n",
      "nominator betweenness centrality,-0.0103,0.001,-8.399,0.000,-0.013,-0.008\n",
      "nominee betweenness centrality,-0.0114,0.002,-4.669,0.000,-0.016,-0.007\n",
      "betweenness centrality diff,0.0182,0.003,6.913,0.000,0.013,0.023\n",
      "nominator pagerank centrality,-0.0182,0.001,-12.612,0.000,-0.021,-0.015\n",
      "nominee pagerank centrality,0.0172,0.002,8.307,0.000,0.013,0.021\n",
      "pagerank centrality diff,-0.0193,0.002,-10.641,0.000,-0.023,-0.016\n",
      "nominator component size,-0.0350,0.003,-12.665,0.000,-0.040,-0.030\n",
      "nominee component size,0.1101,0.007,16.219,0.000,0.097,0.123\n",
      "component size diff,-0.1140,0.005,-20.835,0.000,-0.125,-0.103\n",
      "nominator avg path len,0.0023,0.002,1.215,0.224,-0.001,0.006\n",
      "nominee avg path len,-0.0665,0.003,-21.114,0.000,-0.073,-0.060\n",
      "avg path len diff,0.0702,0.003,26.412,0.000,0.065,0.075\n"
     ]
    }
   ],
   "source": [
    "print(sm.OLS(yunnan_data['contact'], yunnan_data[yunnan_data.columns[3:]]).fit().summary().tables[1].as_csv().replace(' ','').replace('_', ' ').replace('referee', 'nominator').replace('referral', 'nominee'))"
   ],
   "metadata": {
    "collapsed": false,
    "pycharm": {
     "name": "#%%\n"
    }
   }
  },
  {
   "cell_type": "code",
   "execution_count": 138,
   "outputs": [
    {
     "name": "stdout",
     "output_type": "stream",
     "text": [
      ",coef,stderr,t,P>|t|,[0.025,0.975]\n",
      "nominator age,0.0019,0.002,0.789,0.430,-0.003,0.007\n",
      "nominee age,0.0005,0.002,0.203,0.839,-0.004,0.005\n",
      "age diff,-0.0001,0.002,-0.054,0.957,-0.004,0.004\n",
      "nominator gender,-0.0008,0.002,-0.497,0.619,-0.004,0.002\n",
      "nominee gender,0.0021,0.002,1.367,0.172,-0.001,0.005\n",
      "gender diff,0.0006,0.002,0.395,0.693,-0.002,0.004\n",
      "nominator relatives,0.0025,0.002,1.057,0.290,-0.002,0.007\n",
      "nominee relatives,0.0132,0.002,5.758,0.000,0.009,0.018\n",
      "relatives diff,0.0026,0.002,1.291,0.197,-0.001,0.006\n",
      "nominator degree centrality,0.0385,0.004,10.872,0.000,0.032,0.045\n",
      "nominee degree centrality,0.0038,0.005,0.781,0.435,-0.006,0.013\n",
      "degree centrality diff,-0.0125,0.003,-4.720,0.000,-0.018,-0.007\n",
      "nominator betweenness centrality,0.0431,0.004,10.509,0.000,0.035,0.051\n",
      "nominee betweenness centrality,0.0733,0.008,9.766,0.000,0.059,0.088\n",
      "betweenness centrality diff,-0.0820,0.008,-9.696,0.000,-0.099,-0.065\n",
      "nominator pagerank centrality,-0.0114,0.002,-4.890,0.000,-0.016,-0.007\n",
      "nominee pagerank centrality,0.0011,0.003,0.378,0.705,-0.004,0.007\n",
      "pagerank centrality diff,-0.0032,0.002,-1.529,0.126,-0.007,0.001\n",
      "nominator component size,-0.0014,0.005,-0.266,0.790,-0.011,0.009\n",
      "nominee component size,0.0506,0.006,7.999,0.000,0.038,0.063\n",
      "component size diff,-0.0487,0.003,-14.822,0.000,-0.055,-0.042\n",
      "nominator avg path len,-0.0105,0.004,-2.662,0.008,-0.018,-0.003\n",
      "nominee avg path len,-0.0268,0.005,-5.890,0.000,-0.036,-0.018\n",
      "avg path len diff,0.0289,0.003,8.572,0.000,0.022,0.036\n"
     ]
    }
   ],
   "source": [
    "print(sm.OLS(hainan_data['contact'], hainan_data[hainan_data.columns[3:]]).fit().summary().tables[1].as_csv().replace(' ','').replace('_', ' ').replace('referee', 'nominator').replace('referral', 'nominee'))"
   ],
   "metadata": {
    "collapsed": false,
    "pycharm": {
     "name": "#%%\n"
    }
   }
  },
  {
   "cell_type": "code",
   "execution_count": 139,
   "outputs": [
    {
     "name": "stdout",
     "output_type": "stream",
     "text": [
      ",coef,stderr,t,P>|t|,[0.025,0.975]\n",
      "nominator age,-0.0033,0.001,-2.403,0.016,-0.006,-0.001\n",
      "nominee age,-0.0032,0.001,-2.659,0.008,-0.005,-0.001\n",
      "age diff,-0.0028,0.001,-2.689,0.007,-0.005,-0.001\n",
      "nominator gender,0.0025,0.001,3.321,0.001,0.001,0.004\n",
      "nominee gender,0.0028,0.001,3.965,0.000,0.001,0.004\n",
      "gender diff,0.0040,0.001,5.633,0.000,0.003,0.005\n",
      "nominator relatives,0.0107,0.001,10.532,0.000,0.009,0.013\n",
      "nominee relatives,0.0008,0.001,0.857,0.391,-0.001,0.003\n",
      "relatives diff,0.0017,0.001,2.001,0.045,3.52e-05,0.003\n",
      "nominator hukou,0.0007,8.51e-05,7.936,0.000,0.001,0.001\n",
      "nominee hukou,0.0006,8.6e-05,7.008,0.000,0.000,0.001\n",
      "hukou diff,-0.0145,0.001,-15.937,0.000,-0.016,-0.013\n",
      "nominator degree centrality,0.0171,0.002,9.103,0.000,0.013,0.021\n",
      "nominee degree centrality,0.0101,0.001,8.757,0.000,0.008,0.012\n",
      "degree centrality diff,-0.0110,0.001,-8.503,0.000,-0.013,-0.008\n",
      "nominator betweenness centrality,-0.0163,0.004,-4.632,0.000,-0.023,-0.009\n",
      "nominee betweenness centrality,0.0034,0.002,2.139,0.032,0.000,0.006\n",
      "betweenness centrality diff,0.0204,0.004,5.345,0.000,0.013,0.028\n",
      "nominator pagerank centrality,-0.0103,0.001,-7.775,0.000,-0.013,-0.008\n",
      "nominee pagerank centrality,-0.0019,0.001,-1.983,0.047,-0.004,-2.15e-05\n",
      "pagerank centrality diff,-0.0011,0.001,-1.164,0.244,-0.003,0.001\n",
      "nominator component size,0.0293,0.002,19.310,0.000,0.026,0.032\n",
      "nominee component size,0.0218,0.001,18.538,0.000,0.020,0.024\n",
      "component size diff,-0.0381,0.001,-30.697,0.000,-0.041,-0.036\n",
      "nominator avg path len,-0.0162,0.001,-12.421,0.000,-0.019,-0.014\n",
      "nominee avg path len,-0.0166,0.001,-14.701,0.000,-0.019,-0.014\n",
      "avg path len diff,0.0206,0.001,19.936,0.000,0.019,0.023\n"
     ]
    }
   ],
   "source": [
    "print(sm.OLS(shanxi_data['contact'], shanxi_data[shanxi_data.columns[3:]]).fit().summary().tables[1].as_csv().replace(' ','').replace('_', ' ').replace('referee', 'nominator').replace('referral', 'nominee'))"
   ],
   "metadata": {
    "collapsed": false,
    "pycharm": {
     "name": "#%%\n"
    }
   }
  },
  {
   "cell_type": "code",
   "execution_count": 140,
   "outputs": [
    {
     "name": "stdout",
     "output_type": "stream",
     "text": [
      ",coef,stderr,t,P>|t|,[0.025,0.975]\n",
      "nominator age,0.0009,0.005,0.194,0.846,-0.008,0.010\n",
      "nominee age,-0.0007,0.006,-0.113,0.910,-0.012,0.011\n",
      "age diff,-0.0290,0.005,-5.925,0.000,-0.039,-0.019\n",
      "nominator gender,0.0008,1.31e-05,62.061,0.000,0.001,0.001\n",
      "nominee gender,0.0002,1.51e-05,11.915,0.000,0.000,0.000\n",
      "gender diff,-0.0007,1.5e-05,-43.386,0.000,-0.001,-0.001\n",
      "nominator medical,-0.0827,0.004,-21.338,0.000,-0.090,-0.075\n",
      "nominee medical,-0.1616,0.005,-33.611,0.000,-0.171,-0.152\n",
      "medical diff,0.0588,0.006,9.062,0.000,0.046,0.071\n",
      "nominator isco08 label,-0.0084,0.001,-8.247,0.000,-0.010,-0.006\n",
      "nominee isco08 label,0.0086,0.002,4.723,0.000,0.005,0.012\n",
      "isco08 label diff,0.1852,0.007,25.077,0.000,0.171,0.200\n",
      "nominator degree centrality,0.3564,0.035,10.231,0.000,0.288,0.425\n",
      "nominee degree centrality,0.1728,0.014,12.540,0.000,0.146,0.200\n",
      "degree centrality diff,0.1853,0.025,7.372,0.000,0.136,0.235\n",
      "nominator betweenness centrality,-0.0820,0.017,-4.847,0.000,-0.115,-0.049\n",
      "nominee betweenness centrality,0.0301,0.004,8.338,0.000,0.023,0.037\n",
      "betweenness centrality diff,0.1155,0.017,6.880,0.000,0.083,0.148\n",
      "nominator pagerank centrality,0.0816,0.027,3.028,0.002,0.029,0.134\n",
      "nominee pagerank centrality,-0.1084,0.012,-9.011,0.000,-0.132,-0.085\n",
      "pagerank centrality diff,-0.4072,0.020,-20.482,0.000,-0.446,-0.368\n",
      "nominator component size,-0.2374,0.011,-20.651,0.000,-0.260,-0.215\n",
      "nominee component size,-0.0984,0.009,-10.437,0.000,-0.117,-0.080\n",
      "component size diff,-0.0769,0.004,-18.014,0.000,-0.085,-0.069\n",
      "nominator avg path len,0.2308,0.008,29.771,0.000,0.216,0.246\n",
      "nominee avg path len,0.0424,0.009,4.691,0.000,0.025,0.060\n",
      "avg path len diff,-0.0548,0.005,-9.989,0.000,-0.066,-0.044\n"
     ]
    }
   ],
   "source": [
    "print(sm.OLS(bucharest_data['contact'], bucharest_data[bucharest_data.columns[3:]]).fit().summary().tables[1].as_csv().replace(' ','').replace('_', ' ').replace('referee', 'nominator').replace('referral', 'nominee'))"
   ],
   "metadata": {
    "collapsed": false,
    "pycharm": {
     "name": "#%%\n"
    }
   }
  },
  {
   "cell_type": "code",
   "execution_count": 141,
   "outputs": [
    {
     "name": "stdout",
     "output_type": "stream",
     "text": [
      ",coef,stderr,t,P>|t|,[0.025,0.975]\n",
      "nominator age,-0.0046,0.002,-2.145,0.032,-0.009,-0.000\n",
      "nominee age,0.0130,0.002,5.902,0.000,0.009,0.017\n",
      "age diff,0.0087,0.002,3.626,0.000,0.004,0.013\n",
      "nominator gender,0.0144,0.002,6.070,0.000,0.010,0.019\n",
      "nominee gender,0.0161,0.002,6.685,0.000,0.011,0.021\n",
      "gender diff,0.0409,0.003,15.290,0.000,0.036,0.046\n",
      "nominator residency,0.0001,1.09e-05,11.830,0.000,0.000,0.000\n",
      "nominee residency,0.0002,1.11e-05,13.775,0.000,0.000,0.000\n",
      "residency diff,0.0136,0.004,3.742,0.000,0.006,0.021\n",
      "nominator place event,3.962e-05,4.09e-06,9.699,0.000,3.16e-05,4.76e-05\n",
      "nominee place event,6.302e-05,4.17e-06,15.097,0.000,5.48e-05,7.12e-05\n",
      "place event diff,-0.0148,0.003,-5.357,0.000,-0.020,-0.009\n",
      "nominator symptom,0.0005,2.83e-05,17.301,0.000,0.000,0.001\n",
      "nominee symptom,0.0006,2.99e-05,20.591,0.000,0.001,0.001\n",
      "symptom diff,-0.0405,0.004,-11.342,0.000,-0.047,-0.033\n",
      "nominator symptom severity,0.0689,0.002,45.680,0.000,0.066,0.072\n",
      "nominee symptom severity,0.0788,0.002,52.136,0.000,0.076,0.082\n",
      "symptom severity diff,0.0999,0.003,29.524,0.000,0.093,0.107\n",
      "nominator place admission,5.513e-06,1.43e-05,0.385,0.700,-2.26e-05,3.36e-05\n",
      "nominee place admission,-1.619e-06,1.37e-05,-0.118,0.906,-2.85e-05,2.53e-05\n",
      "place admission diff,-0.7422,0.005,-159.091,0.000,-0.751,-0.733\n",
      "nominator degree centrality,0.0155,0.004,3.581,0.000,0.007,0.024\n",
      "nominee degree centrality,-0.0284,0.006,-5.091,0.000,-0.039,-0.017\n",
      "degree centrality diff,-0.0368,0.004,-8.618,0.000,-0.045,-0.028\n",
      "nominator betweenness centrality,0.0037,0.001,2.719,0.007,0.001,0.006\n",
      "nominee betweenness centrality,0.0841,0.015,5.589,0.000,0.055,0.114\n",
      "betweenness centrality diff,-0.0417,0.015,-2.744,0.006,-0.071,-0.012\n",
      "nominator pagerank centrality,0.0246,0.003,9.004,0.000,0.019,0.030\n",
      "nominee pagerank centrality,0.1119,0.006,19.027,0.000,0.100,0.123\n",
      "pagerank centrality diff,-0.0497,0.006,-8.704,0.000,-0.061,-0.039\n",
      "nominator component size,0.0060,0.003,2.162,0.031,0.001,0.011\n",
      "nominee component size,0.0295,0.003,10.257,0.000,0.024,0.035\n",
      "component size diff,-0.0156,0.002,-9.171,0.000,-0.019,-0.012\n",
      "nominator avg path len,0.0420,0.003,15.882,0.000,0.037,0.047\n",
      "nominee avg path len,0.0236,0.002,9.575,0.000,0.019,0.028\n",
      "avg path len diff,-0.0370,0.002,-16.285,0.000,-0.041,-0.033\n"
     ]
    }
   ],
   "source": [
    "print(sm.OLS(china_data['contact'], china_data[china_data.columns[3:]]).fit().summary().tables[1].as_csv().replace(' ','').replace('_', ' ').replace('referee', 'nominator').replace('referral', 'nominee'))"
   ],
   "metadata": {
    "collapsed": false,
    "pycharm": {
     "name": "#%%\n"
    }
   }
  },
  {
   "cell_type": "code",
   "execution_count": null,
   "outputs": [],
   "source": [],
   "metadata": {
    "collapsed": false,
    "pycharm": {
     "name": "#%%\n"
    }
   }
  }
 ],
 "metadata": {
  "kernelspec": {
   "display_name": "Python 3",
   "language": "python",
   "name": "python3"
  },
  "language_info": {
   "codemirror_mode": {
    "name": "ipython",
    "version": 2
   },
   "file_extension": ".py",
   "mimetype": "text/x-python",
   "name": "python",
   "nbconvert_exporter": "python",
   "pygments_lexer": "ipython2",
   "version": "2.7.6"
  }
 },
 "nbformat": 4,
 "nbformat_minor": 0
}