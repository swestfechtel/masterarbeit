{
 "cells": [
  {
   "cell_type": "code",
   "execution_count": 54,
   "outputs": [],
   "source": [
    "import pandas as pd\n",
    "import numpy as np\n",
    "from sklearn.preprocessing import normalize, scale\n",
    "from sklearn.feature_selection import r_regression, f_regression\n",
    "from sklearn.preprocessing import LabelEncoder\n",
    "from tqdm.notebook import tqdm\n",
    "from collections import Counter"
   ],
   "metadata": {
    "collapsed": false,
    "pycharm": {
     "name": "#%%\n"
    }
   }
  },
  {
   "cell_type": "markdown",
   "source": [
    "# Yunnan"
   ],
   "metadata": {
    "collapsed": false,
    "pycharm": {
     "name": "#%% md\n"
    }
   }
  },
  {
   "cell_type": "code",
   "execution_count": 13,
   "outputs": [],
   "source": [
    "yunnan_nodelist = pd.read_csv('../Data/Preprocessed/yunnan_nodelist.csv')\n",
    "yunnan_edgelist = pd.read_csv('../Data/Preprocessed/yunnan_edgelist.csv')\n",
    "yunnan_network = pd.read_csv('../Data/Tables/basic/yunnan_basic_analysis.csv')"
   ],
   "metadata": {
    "collapsed": false,
    "pycharm": {
     "name": "#%%\n"
    }
   }
  },
  {
   "cell_type": "code",
   "execution_count": 14,
   "outputs": [
    {
     "data": {
      "text/plain": "     Unnamed: 0  node_id   age  gender  relatives\n0             0      1.0   NaN     1.0        1.0\n1             1      2.0  53.0     1.0        NaN\n2             2      3.0  39.0     0.0        0.0\n3             3      4.0  34.0     0.0        NaN\n4             4      5.0  49.0     1.0        NaN\n..          ...      ...   ...     ...        ...\n166         166    167.0  33.0     1.0        0.0\n167         167    168.0  62.0     0.0        0.0\n168         168    169.0  41.0     1.0        1.0\n169         169    170.0  52.0     1.0        1.0\n170         170    171.0  24.0     0.0        1.0\n\n[171 rows x 5 columns]",
      "text/html": "<div>\n<style scoped>\n    .dataframe tbody tr th:only-of-type {\n        vertical-align: middle;\n    }\n\n    .dataframe tbody tr th {\n        vertical-align: top;\n    }\n\n    .dataframe thead th {\n        text-align: right;\n    }\n</style>\n<table border=\"1\" class=\"dataframe\">\n  <thead>\n    <tr style=\"text-align: right;\">\n      <th></th>\n      <th>Unnamed: 0</th>\n      <th>node_id</th>\n      <th>age</th>\n      <th>gender</th>\n      <th>relatives</th>\n    </tr>\n  </thead>\n  <tbody>\n    <tr>\n      <th>0</th>\n      <td>0</td>\n      <td>1.0</td>\n      <td>NaN</td>\n      <td>1.0</td>\n      <td>1.0</td>\n    </tr>\n    <tr>\n      <th>1</th>\n      <td>1</td>\n      <td>2.0</td>\n      <td>53.0</td>\n      <td>1.0</td>\n      <td>NaN</td>\n    </tr>\n    <tr>\n      <th>2</th>\n      <td>2</td>\n      <td>3.0</td>\n      <td>39.0</td>\n      <td>0.0</td>\n      <td>0.0</td>\n    </tr>\n    <tr>\n      <th>3</th>\n      <td>3</td>\n      <td>4.0</td>\n      <td>34.0</td>\n      <td>0.0</td>\n      <td>NaN</td>\n    </tr>\n    <tr>\n      <th>4</th>\n      <td>4</td>\n      <td>5.0</td>\n      <td>49.0</td>\n      <td>1.0</td>\n      <td>NaN</td>\n    </tr>\n    <tr>\n      <th>...</th>\n      <td>...</td>\n      <td>...</td>\n      <td>...</td>\n      <td>...</td>\n      <td>...</td>\n    </tr>\n    <tr>\n      <th>166</th>\n      <td>166</td>\n      <td>167.0</td>\n      <td>33.0</td>\n      <td>1.0</td>\n      <td>0.0</td>\n    </tr>\n    <tr>\n      <th>167</th>\n      <td>167</td>\n      <td>168.0</td>\n      <td>62.0</td>\n      <td>0.0</td>\n      <td>0.0</td>\n    </tr>\n    <tr>\n      <th>168</th>\n      <td>168</td>\n      <td>169.0</td>\n      <td>41.0</td>\n      <td>1.0</td>\n      <td>1.0</td>\n    </tr>\n    <tr>\n      <th>169</th>\n      <td>169</td>\n      <td>170.0</td>\n      <td>52.0</td>\n      <td>1.0</td>\n      <td>1.0</td>\n    </tr>\n    <tr>\n      <th>170</th>\n      <td>170</td>\n      <td>171.0</td>\n      <td>24.0</td>\n      <td>0.0</td>\n      <td>1.0</td>\n    </tr>\n  </tbody>\n</table>\n<p>171 rows × 5 columns</p>\n</div>"
     },
     "execution_count": 14,
     "metadata": {},
     "output_type": "execute_result"
    }
   ],
   "source": [
    "yunnan_nodelist"
   ],
   "metadata": {
    "collapsed": false,
    "pycharm": {
     "name": "#%%\n"
    }
   }
  },
  {
   "cell_type": "code",
   "execution_count": 15,
   "outputs": [
    {
     "data": {
      "text/plain": "     Unnamed: 0  Referee  Degree_Centrality  Betweenness_Centrality  \\\n0             0        1           0.005882                     0.0   \n1             1       10           0.005882                     0.0   \n2             2       16           0.005882                     0.0   \n3             3       15           0.005882                     0.0   \n4             4       90           0.005882                     0.0   \n..          ...      ...                ...                     ...   \n166         166      143           0.000000                     0.0   \n167         167      142           0.000000                     0.0   \n168         168      153           0.000000                     0.0   \n169         169      162           0.000000                     0.0   \n170         170      169           0.000000                     0.0   \n\n     Pagerank_Centrality  Component_Size  \n0               0.013495               2  \n1               0.013495               2  \n2               0.013495               2  \n3               0.013495               2  \n4               0.013495               2  \n..                   ...             ...  \n166             0.002024               1  \n167             0.002024               1  \n168             0.002024               1  \n169             0.002024               1  \n170             0.002024               1  \n\n[171 rows x 6 columns]",
      "text/html": "<div>\n<style scoped>\n    .dataframe tbody tr th:only-of-type {\n        vertical-align: middle;\n    }\n\n    .dataframe tbody tr th {\n        vertical-align: top;\n    }\n\n    .dataframe thead th {\n        text-align: right;\n    }\n</style>\n<table border=\"1\" class=\"dataframe\">\n  <thead>\n    <tr style=\"text-align: right;\">\n      <th></th>\n      <th>Unnamed: 0</th>\n      <th>Referee</th>\n      <th>Degree_Centrality</th>\n      <th>Betweenness_Centrality</th>\n      <th>Pagerank_Centrality</th>\n      <th>Component_Size</th>\n    </tr>\n  </thead>\n  <tbody>\n    <tr>\n      <th>0</th>\n      <td>0</td>\n      <td>1</td>\n      <td>0.005882</td>\n      <td>0.0</td>\n      <td>0.013495</td>\n      <td>2</td>\n    </tr>\n    <tr>\n      <th>1</th>\n      <td>1</td>\n      <td>10</td>\n      <td>0.005882</td>\n      <td>0.0</td>\n      <td>0.013495</td>\n      <td>2</td>\n    </tr>\n    <tr>\n      <th>2</th>\n      <td>2</td>\n      <td>16</td>\n      <td>0.005882</td>\n      <td>0.0</td>\n      <td>0.013495</td>\n      <td>2</td>\n    </tr>\n    <tr>\n      <th>3</th>\n      <td>3</td>\n      <td>15</td>\n      <td>0.005882</td>\n      <td>0.0</td>\n      <td>0.013495</td>\n      <td>2</td>\n    </tr>\n    <tr>\n      <th>4</th>\n      <td>4</td>\n      <td>90</td>\n      <td>0.005882</td>\n      <td>0.0</td>\n      <td>0.013495</td>\n      <td>2</td>\n    </tr>\n    <tr>\n      <th>...</th>\n      <td>...</td>\n      <td>...</td>\n      <td>...</td>\n      <td>...</td>\n      <td>...</td>\n      <td>...</td>\n    </tr>\n    <tr>\n      <th>166</th>\n      <td>166</td>\n      <td>143</td>\n      <td>0.000000</td>\n      <td>0.0</td>\n      <td>0.002024</td>\n      <td>1</td>\n    </tr>\n    <tr>\n      <th>167</th>\n      <td>167</td>\n      <td>142</td>\n      <td>0.000000</td>\n      <td>0.0</td>\n      <td>0.002024</td>\n      <td>1</td>\n    </tr>\n    <tr>\n      <th>168</th>\n      <td>168</td>\n      <td>153</td>\n      <td>0.000000</td>\n      <td>0.0</td>\n      <td>0.002024</td>\n      <td>1</td>\n    </tr>\n    <tr>\n      <th>169</th>\n      <td>169</td>\n      <td>162</td>\n      <td>0.000000</td>\n      <td>0.0</td>\n      <td>0.002024</td>\n      <td>1</td>\n    </tr>\n    <tr>\n      <th>170</th>\n      <td>170</td>\n      <td>169</td>\n      <td>0.000000</td>\n      <td>0.0</td>\n      <td>0.002024</td>\n      <td>1</td>\n    </tr>\n  </tbody>\n</table>\n<p>171 rows × 6 columns</p>\n</div>"
     },
     "execution_count": 15,
     "metadata": {},
     "output_type": "execute_result"
    }
   ],
   "source": [
    "yunnan_network"
   ],
   "metadata": {
    "collapsed": false,
    "pycharm": {
     "name": "#%%\n"
    }
   }
  },
  {
   "cell_type": "code",
   "execution_count": 16,
   "outputs": [
    {
     "data": {
      "text/plain": "(array([ 1.,  0., nan]), array([ 1., nan,  0.]))"
     },
     "execution_count": 16,
     "metadata": {},
     "output_type": "execute_result"
    }
   ],
   "source": [
    "yunnan_nodelist['gender'].unique(), yunnan_nodelist['relatives'].unique()"
   ],
   "metadata": {
    "collapsed": false,
    "pycharm": {
     "name": "#%%\n"
    }
   }
  },
  {
   "cell_type": "code",
   "execution_count": 17,
   "outputs": [
    {
     "data": {
      "text/plain": "(Index(['Unnamed: 0', 'node_id', 'age', 'gender', 'relatives'], dtype='object'),\n Index(['Unnamed: 0', 'Referee', 'Degree_Centrality', 'Betweenness_Centrality',\n        'Pagerank_Centrality', 'Component_Size'],\n       dtype='object'))"
     },
     "execution_count": 17,
     "metadata": {},
     "output_type": "execute_result"
    }
   ],
   "source": [
    "yunnan_nodelist.columns, yunnan_network.columns"
   ],
   "metadata": {
    "collapsed": false,
    "pycharm": {
     "name": "#%%\n"
    }
   }
  },
  {
   "cell_type": "code",
   "execution_count": 18,
   "outputs": [],
   "source": [
    "yunnan_nodelist['age'] = yunnan_nodelist['age'].fillna(value=int(yunnan_nodelist['age'].mean()))\n",
    "yunnan_nodelist['gender'] = yunnan_nodelist['gender'].mask(yunnan_nodelist['gender'].isnull(), np.random.randint(0, 2, size=yunnan_nodelist.shape[0]))\n",
    "yunnan_nodelist['relatives'] = yunnan_nodelist['relatives'].mask(yunnan_nodelist['relatives'].isnull(), np.random.randint(0, 2, size=yunnan_nodelist.shape[0]))"
   ],
   "metadata": {
    "collapsed": false,
    "pycharm": {
     "name": "#%%\n"
    }
   }
  },
  {
   "cell_type": "code",
   "execution_count": 19,
   "outputs": [
    {
     "data": {
      "text/plain": "(array([1., 0.]), array([1., 0.]))"
     },
     "execution_count": 19,
     "metadata": {},
     "output_type": "execute_result"
    }
   ],
   "source": [
    "yunnan_nodelist['gender'].unique(), yunnan_nodelist['relatives'].unique()"
   ],
   "metadata": {
    "collapsed": false,
    "pycharm": {
     "name": "#%%\n"
    }
   }
  },
  {
   "cell_type": "code",
   "execution_count": 20,
   "outputs": [],
   "source": [
    "yunnan_data = pd.DataFrame(columns=['referee', 'referral', 'contact', 'referee_age', 'referral_age', 'age_diff', 'referee_gender', 'referral_gender', 'gender_diff', 'referee_relatives', 'referral_relatives', 'relatives_diff',\n",
    "                                    'referee_degree_centrality', 'referral_degree_centrality', 'degree_centrality_diff', 'referee_betweenness_centrality', 'referral_betweenness_centrality', 'betweenness_centrality_diff',\n",
    "                                    'referee_pagerank_centrality', 'referral_pagerank_centrality', 'pagerank_centrality_diff', 'referee_component_size', 'referral_component_size', 'component_size_diff'])"
   ],
   "metadata": {
    "collapsed": false,
    "pycharm": {
     "name": "#%%\n"
    }
   }
  },
  {
   "cell_type": "code",
   "execution_count": 26,
   "outputs": [],
   "source": [
    "added_combinations = set()\n",
    "for index, row in yunnan_edgelist[~yunnan_edgelist['Referral'].isna()].iterrows():\n",
    "    referee_id = row['Referee']\n",
    "    referral_id = row['Referral']\n",
    "    referee = yunnan_nodelist.query('node_id == @referee_id')\n",
    "    referral = yunnan_nodelist.query('node_id == @referral_id')\n",
    "    referee_network_stats = yunnan_network.query('Referee == @referee_id')\n",
    "    referral_network_stats = yunnan_network.query('Referee == @referral_id')\n",
    "\n",
    "    referee_age = referee['age'].iloc[0]\n",
    "    referral_age = referral['age'].iloc[0]\n",
    "    referee_gender = referee['gender'].iloc[0]\n",
    "    referral_gender = referral['gender'].iloc[0]\n",
    "    referee_relatives = referee['relatives'].iloc[0]\n",
    "    referral_relatives = referral['relatives'].iloc[0]\n",
    "\n",
    "    referee_degree_centrality = referee_network_stats['Degree_Centrality'].iloc[0]\n",
    "    referral_degree_centrality = referral_network_stats['Degree_Centrality'].iloc[0]\n",
    "    referee_betweenness_centrality = referee_network_stats['Betweenness_Centrality'].iloc[0]\n",
    "    referral_betweenness_centrality = referral_network_stats['Betweenness_Centrality'].iloc[0]\n",
    "    referee_pagerank_centrality = referee_network_stats['Pagerank_Centrality'].iloc[0]\n",
    "    referral_pagerank_centrality = referral_network_stats['Pagerank_Centrality'].iloc[0]\n",
    "    referee_component_size = referee_network_stats['Component_Size'].iloc[0]\n",
    "    referral_component_size = referral_network_stats['Component_Size'].iloc[0]\n",
    "\n",
    "    new_row = pd.Series({'referee': referee_id, 'referral': referral_id, 'contact': 1, 'referee_age': referee_age, 'referral_age': referral_age, 'age_diff': abs(referee_age - referral_age),\n",
    "                         'referee_gender': referee_gender, 'referral_gender': referral_gender, 'gender_diff': abs(referee_gender - referral_gender),\n",
    "                         'referee_relatives': referee_relatives, 'referral_relatives': referral_relatives, 'relatives_diff': abs(referee_relatives - referral_relatives),\n",
    "                         'referee_degree_centrality': referee_degree_centrality, 'referral_degree_centrality': referral_degree_centrality, 'degree_centrality_diff': abs(referee_degree_centrality - referral_degree_centrality),\n",
    "                         'referee_betweenness_centrality': referee_betweenness_centrality, 'referral_betweenness_centrality': referral_betweenness_centrality, 'betweenness_centrality_diff': abs(referee_betweenness_centrality - referral_betweenness_centrality),\n",
    "                         'referee_pagerank_centrality': referee_pagerank_centrality, 'referral_pagerank_centrality': referral_pagerank_centrality, 'pagerank_centrality_diff': abs(referee_pagerank_centrality - referral_pagerank_centrality),\n",
    "                         'referee_component_size': referee_component_size, 'referral_component_size': referral_component_size, 'component_size_diff': abs(referee_component_size - referral_component_size)})\n",
    "    yunnan_data = pd.concat([yunnan_data, new_row.to_frame().T], axis='index', ignore_index=True)\n",
    "\n",
    "    added_combinations.add((referee_id, referral_id))\n",
    "    added_combinations.add((referral_id, referee_id))"
   ],
   "metadata": {
    "collapsed": false,
    "pycharm": {
     "name": "#%%\n"
    }
   }
  },
  {
   "cell_type": "code",
   "execution_count": 27,
   "outputs": [],
   "source": [
    "for ref_a in yunnan_nodelist['node_id']:\n",
    "    for ref_b in yunnan_nodelist['node_id']:\n",
    "        if ref_a == ref_b:\n",
    "            continue\n",
    "        if (ref_a, ref_b) in added_combinations:\n",
    "            continue\n",
    "        if (ref_b, ref_a) in added_combinations:\n",
    "            continue\n",
    "\n",
    "        referee = yunnan_nodelist.query('node_id == @ref_a')\n",
    "        referral = yunnan_nodelist.query('node_id == @ref_b')\n",
    "        referee_network_stats = yunnan_network.query('Referee == @ref_a')\n",
    "        referral_network_stats = yunnan_network.query('Referee == @ref_b')\n",
    "\n",
    "        referee_age = referee['age'].iloc[0]\n",
    "        referral_age = referral['age'].iloc[0]\n",
    "        referee_gender = referee['gender'].iloc[0]\n",
    "        referral_gender = referral['gender'].iloc[0]\n",
    "        referee_relatives = referee['relatives'].iloc[0]\n",
    "        referral_relatives = referral['relatives'].iloc[0]\n",
    "\n",
    "        referee_degree_centrality = referee_network_stats['Degree_Centrality'].iloc[0]\n",
    "        referral_degree_centrality = referral_network_stats['Degree_Centrality'].iloc[0]\n",
    "        referee_betweenness_centrality = referee_network_stats['Betweenness_Centrality'].iloc[0]\n",
    "        referral_betweenness_centrality = referral_network_stats['Betweenness_Centrality'].iloc[0]\n",
    "        referee_pagerank_centrality = referee_network_stats['Pagerank_Centrality'].iloc[0]\n",
    "        referral_pagerank_centrality = referral_network_stats['Pagerank_Centrality'].iloc[0]\n",
    "        referee_component_size = referee_network_stats['Component_Size'].iloc[0]\n",
    "        referral_component_size = referral_network_stats['Component_Size'].iloc[0]\n",
    "\n",
    "        new_row = pd.Series({'referee': ref_a, 'referral': ref_b, 'contact': 0, 'referee_age': referee_age, 'referral_age': referral_age, 'age_diff': abs(referee_age - referral_age),\n",
    "                             'referee_gender': referee_gender, 'referral_gender': referral_gender, 'gender_diff': abs(referee_gender - referral_gender),\n",
    "                             'referee_relatives': referee_relatives, 'referral_relatives': referral_relatives, 'relatives_diff': abs(referee_relatives - referral_relatives),\n",
    "                             'referee_degree_centrality': referee_degree_centrality, 'referral_degree_centrality': referral_degree_centrality, 'degree_centrality_diff': abs(referee_degree_centrality - referral_degree_centrality),\n",
    "                             'referee_betweenness_centrality': referee_betweenness_centrality, 'referral_betweenness_centrality': referral_betweenness_centrality, 'betweenness_centrality_diff': abs(referee_betweenness_centrality - referral_betweenness_centrality),\n",
    "                             'referee_pagerank_centrality': referee_pagerank_centrality, 'referral_pagerank_centrality': referral_pagerank_centrality, 'pagerank_centrality_diff': abs(referee_pagerank_centrality - referral_pagerank_centrality),\n",
    "                             'referee_component_size': referee_component_size, 'referral_component_size': referral_component_size, 'component_size_diff': abs(referee_component_size - referral_component_size)})\n",
    "        yunnan_data = pd.concat([yunnan_data, new_row.to_frame().T], axis='index', ignore_index=True)\n",
    "\n",
    "        added_combinations.add((ref_a, ref_b))\n",
    "        added_combinations.add((ref_b, ref_a))"
   ],
   "metadata": {
    "collapsed": false,
    "pycharm": {
     "name": "#%%\n"
    }
   }
  },
  {
   "cell_type": "code",
   "execution_count": 28,
   "outputs": [
    {
     "data": {
      "text/plain": "       referee  referral  contact  referee_age  referral_age  age_diff  \\\n0          1.0      10.0      1.0         41.0          63.0      22.0   \n1         16.0      15.0      1.0         68.0          71.0       3.0   \n2         90.0      75.0      1.0         34.0          76.0      42.0   \n3         86.0      85.0      1.0         79.0          67.0      12.0   \n4         86.0      81.0      1.0         79.0          46.0      33.0   \n...        ...       ...      ...          ...           ...       ...   \n14530    168.0     169.0      0.0         62.0          41.0      21.0   \n14531    168.0     170.0      0.0         62.0          52.0      10.0   \n14532    168.0     171.0      0.0         62.0          24.0      38.0   \n14533    169.0     170.0      0.0         41.0          52.0      11.0   \n14534    169.0     171.0      0.0         41.0          24.0      17.0   \n\n       referee_gender  referral_gender  gender_diff  referee_relatives  ...  \\\n0                 1.0              1.0          0.0                1.0  ...   \n1                 0.0              1.0          1.0                1.0  ...   \n2                 0.0              1.0          1.0                1.0  ...   \n3                 0.0              0.0          0.0                0.0  ...   \n4                 0.0              0.0          0.0                0.0  ...   \n...               ...              ...          ...                ...  ...   \n14530             0.0              1.0          1.0                0.0  ...   \n14531             0.0              1.0          1.0                0.0  ...   \n14532             0.0              0.0          0.0                0.0  ...   \n14533             1.0              1.0          0.0                1.0  ...   \n14534             1.0              0.0          1.0                1.0  ...   \n\n       degree_centrality_diff  referee_betweenness_centrality  \\\n0                    0.000000                             0.0   \n1                    0.000000                             0.0   \n2                    0.000000                             0.0   \n3                    0.000000                             0.0   \n4                    0.000000                             0.0   \n...                       ...                             ...   \n14530                0.005882                             0.0   \n14531                0.011765                             0.0   \n14532                0.011765                             0.0   \n14533                0.017647                             0.0   \n14534                0.017647                             0.0   \n\n       referral_betweenness_centrality  betweenness_centrality_diff  \\\n0                                  0.0                          0.0   \n1                                  0.0                          0.0   \n2                                  0.0                          0.0   \n3                                  0.0                          0.0   \n4                                  0.0                          0.0   \n...                                ...                          ...   \n14530                              0.0                          0.0   \n14531                              0.0                          0.0   \n14532                              0.0                          0.0   \n14533                              0.0                          0.0   \n14534                              0.0                          0.0   \n\n       referee_pagerank_centrality  referral_pagerank_centrality  \\\n0                         0.013495                      0.013495   \n1                         0.013495                      0.013495   \n2                         0.013495                      0.013495   \n3                         0.013495                      0.013495   \n4                         0.013495                      0.013495   \n...                            ...                           ...   \n14530                     0.010376                      0.002024   \n14531                     0.010376                      0.013495   \n14532                     0.010376                      0.013495   \n14533                     0.002024                      0.013495   \n14534                     0.002024                      0.013495   \n\n       pagerank_centrality_diff  referee_component_size  \\\n0                      0.000000                     2.0   \n1                      0.000000                     2.0   \n2                      0.000000                     2.0   \n3                      0.000000                     3.0   \n4                      0.000000                     3.0   \n...                         ...                     ...   \n14530                  0.008352                     3.0   \n14531                  0.003119                     3.0   \n14532                  0.003119                     3.0   \n14533                  0.011471                     1.0   \n14534                  0.011471                     1.0   \n\n       referral_component_size  component_size_diff  \n0                          2.0                  0.0  \n1                          2.0                  0.0  \n2                          2.0                  0.0  \n3                          3.0                  0.0  \n4                          3.0                  0.0  \n...                        ...                  ...  \n14530                      1.0                  2.0  \n14531                      4.0                  1.0  \n14532                      4.0                  1.0  \n14533                      4.0                  3.0  \n14534                      4.0                  3.0  \n\n[14535 rows x 24 columns]",
      "text/html": "<div>\n<style scoped>\n    .dataframe tbody tr th:only-of-type {\n        vertical-align: middle;\n    }\n\n    .dataframe tbody tr th {\n        vertical-align: top;\n    }\n\n    .dataframe thead th {\n        text-align: right;\n    }\n</style>\n<table border=\"1\" class=\"dataframe\">\n  <thead>\n    <tr style=\"text-align: right;\">\n      <th></th>\n      <th>referee</th>\n      <th>referral</th>\n      <th>contact</th>\n      <th>referee_age</th>\n      <th>referral_age</th>\n      <th>age_diff</th>\n      <th>referee_gender</th>\n      <th>referral_gender</th>\n      <th>gender_diff</th>\n      <th>referee_relatives</th>\n      <th>...</th>\n      <th>degree_centrality_diff</th>\n      <th>referee_betweenness_centrality</th>\n      <th>referral_betweenness_centrality</th>\n      <th>betweenness_centrality_diff</th>\n      <th>referee_pagerank_centrality</th>\n      <th>referral_pagerank_centrality</th>\n      <th>pagerank_centrality_diff</th>\n      <th>referee_component_size</th>\n      <th>referral_component_size</th>\n      <th>component_size_diff</th>\n    </tr>\n  </thead>\n  <tbody>\n    <tr>\n      <th>0</th>\n      <td>1.0</td>\n      <td>10.0</td>\n      <td>1.0</td>\n      <td>41.0</td>\n      <td>63.0</td>\n      <td>22.0</td>\n      <td>1.0</td>\n      <td>1.0</td>\n      <td>0.0</td>\n      <td>1.0</td>\n      <td>...</td>\n      <td>0.000000</td>\n      <td>0.0</td>\n      <td>0.0</td>\n      <td>0.0</td>\n      <td>0.013495</td>\n      <td>0.013495</td>\n      <td>0.000000</td>\n      <td>2.0</td>\n      <td>2.0</td>\n      <td>0.0</td>\n    </tr>\n    <tr>\n      <th>1</th>\n      <td>16.0</td>\n      <td>15.0</td>\n      <td>1.0</td>\n      <td>68.0</td>\n      <td>71.0</td>\n      <td>3.0</td>\n      <td>0.0</td>\n      <td>1.0</td>\n      <td>1.0</td>\n      <td>1.0</td>\n      <td>...</td>\n      <td>0.000000</td>\n      <td>0.0</td>\n      <td>0.0</td>\n      <td>0.0</td>\n      <td>0.013495</td>\n      <td>0.013495</td>\n      <td>0.000000</td>\n      <td>2.0</td>\n      <td>2.0</td>\n      <td>0.0</td>\n    </tr>\n    <tr>\n      <th>2</th>\n      <td>90.0</td>\n      <td>75.0</td>\n      <td>1.0</td>\n      <td>34.0</td>\n      <td>76.0</td>\n      <td>42.0</td>\n      <td>0.0</td>\n      <td>1.0</td>\n      <td>1.0</td>\n      <td>1.0</td>\n      <td>...</td>\n      <td>0.000000</td>\n      <td>0.0</td>\n      <td>0.0</td>\n      <td>0.0</td>\n      <td>0.013495</td>\n      <td>0.013495</td>\n      <td>0.000000</td>\n      <td>2.0</td>\n      <td>2.0</td>\n      <td>0.0</td>\n    </tr>\n    <tr>\n      <th>3</th>\n      <td>86.0</td>\n      <td>85.0</td>\n      <td>1.0</td>\n      <td>79.0</td>\n      <td>67.0</td>\n      <td>12.0</td>\n      <td>0.0</td>\n      <td>0.0</td>\n      <td>0.0</td>\n      <td>0.0</td>\n      <td>...</td>\n      <td>0.000000</td>\n      <td>0.0</td>\n      <td>0.0</td>\n      <td>0.0</td>\n      <td>0.013495</td>\n      <td>0.013495</td>\n      <td>0.000000</td>\n      <td>3.0</td>\n      <td>3.0</td>\n      <td>0.0</td>\n    </tr>\n    <tr>\n      <th>4</th>\n      <td>86.0</td>\n      <td>81.0</td>\n      <td>1.0</td>\n      <td>79.0</td>\n      <td>46.0</td>\n      <td>33.0</td>\n      <td>0.0</td>\n      <td>0.0</td>\n      <td>0.0</td>\n      <td>0.0</td>\n      <td>...</td>\n      <td>0.000000</td>\n      <td>0.0</td>\n      <td>0.0</td>\n      <td>0.0</td>\n      <td>0.013495</td>\n      <td>0.013495</td>\n      <td>0.000000</td>\n      <td>3.0</td>\n      <td>3.0</td>\n      <td>0.0</td>\n    </tr>\n    <tr>\n      <th>...</th>\n      <td>...</td>\n      <td>...</td>\n      <td>...</td>\n      <td>...</td>\n      <td>...</td>\n      <td>...</td>\n      <td>...</td>\n      <td>...</td>\n      <td>...</td>\n      <td>...</td>\n      <td>...</td>\n      <td>...</td>\n      <td>...</td>\n      <td>...</td>\n      <td>...</td>\n      <td>...</td>\n      <td>...</td>\n      <td>...</td>\n      <td>...</td>\n      <td>...</td>\n      <td>...</td>\n    </tr>\n    <tr>\n      <th>14530</th>\n      <td>168.0</td>\n      <td>169.0</td>\n      <td>0.0</td>\n      <td>62.0</td>\n      <td>41.0</td>\n      <td>21.0</td>\n      <td>0.0</td>\n      <td>1.0</td>\n      <td>1.0</td>\n      <td>0.0</td>\n      <td>...</td>\n      <td>0.005882</td>\n      <td>0.0</td>\n      <td>0.0</td>\n      <td>0.0</td>\n      <td>0.010376</td>\n      <td>0.002024</td>\n      <td>0.008352</td>\n      <td>3.0</td>\n      <td>1.0</td>\n      <td>2.0</td>\n    </tr>\n    <tr>\n      <th>14531</th>\n      <td>168.0</td>\n      <td>170.0</td>\n      <td>0.0</td>\n      <td>62.0</td>\n      <td>52.0</td>\n      <td>10.0</td>\n      <td>0.0</td>\n      <td>1.0</td>\n      <td>1.0</td>\n      <td>0.0</td>\n      <td>...</td>\n      <td>0.011765</td>\n      <td>0.0</td>\n      <td>0.0</td>\n      <td>0.0</td>\n      <td>0.010376</td>\n      <td>0.013495</td>\n      <td>0.003119</td>\n      <td>3.0</td>\n      <td>4.0</td>\n      <td>1.0</td>\n    </tr>\n    <tr>\n      <th>14532</th>\n      <td>168.0</td>\n      <td>171.0</td>\n      <td>0.0</td>\n      <td>62.0</td>\n      <td>24.0</td>\n      <td>38.0</td>\n      <td>0.0</td>\n      <td>0.0</td>\n      <td>0.0</td>\n      <td>0.0</td>\n      <td>...</td>\n      <td>0.011765</td>\n      <td>0.0</td>\n      <td>0.0</td>\n      <td>0.0</td>\n      <td>0.010376</td>\n      <td>0.013495</td>\n      <td>0.003119</td>\n      <td>3.0</td>\n      <td>4.0</td>\n      <td>1.0</td>\n    </tr>\n    <tr>\n      <th>14533</th>\n      <td>169.0</td>\n      <td>170.0</td>\n      <td>0.0</td>\n      <td>41.0</td>\n      <td>52.0</td>\n      <td>11.0</td>\n      <td>1.0</td>\n      <td>1.0</td>\n      <td>0.0</td>\n      <td>1.0</td>\n      <td>...</td>\n      <td>0.017647</td>\n      <td>0.0</td>\n      <td>0.0</td>\n      <td>0.0</td>\n      <td>0.002024</td>\n      <td>0.013495</td>\n      <td>0.011471</td>\n      <td>1.0</td>\n      <td>4.0</td>\n      <td>3.0</td>\n    </tr>\n    <tr>\n      <th>14534</th>\n      <td>169.0</td>\n      <td>171.0</td>\n      <td>0.0</td>\n      <td>41.0</td>\n      <td>24.0</td>\n      <td>17.0</td>\n      <td>1.0</td>\n      <td>0.0</td>\n      <td>1.0</td>\n      <td>1.0</td>\n      <td>...</td>\n      <td>0.017647</td>\n      <td>0.0</td>\n      <td>0.0</td>\n      <td>0.0</td>\n      <td>0.002024</td>\n      <td>0.013495</td>\n      <td>0.011471</td>\n      <td>1.0</td>\n      <td>4.0</td>\n      <td>3.0</td>\n    </tr>\n  </tbody>\n</table>\n<p>14535 rows × 24 columns</p>\n</div>"
     },
     "execution_count": 28,
     "metadata": {},
     "output_type": "execute_result"
    }
   ],
   "source": [
    "yunnan_data"
   ],
   "metadata": {
    "collapsed": false,
    "pycharm": {
     "name": "#%%\n"
    }
   }
  },
  {
   "cell_type": "code",
   "execution_count": 29,
   "outputs": [
    {
     "data": {
      "text/plain": "14535.0"
     },
     "execution_count": 29,
     "metadata": {},
     "output_type": "execute_result"
    }
   ],
   "source": [
    "(yunnan_nodelist.shape[0] * (yunnan_nodelist.shape[0] - 1)) / 2"
   ],
   "metadata": {
    "collapsed": false,
    "pycharm": {
     "name": "#%%\n"
    }
   }
  },
  {
   "cell_type": "code",
   "execution_count": 31,
   "outputs": [
    {
     "data": {
      "text/plain": "Index(['referee', 'referral', 'contact', 'referee_age', 'referral_age',\n       'age_diff', 'referee_gender', 'referral_gender', 'gender_diff',\n       'referee_relatives', 'referral_relatives', 'relatives_diff',\n       'referee_degree_centrality', 'referral_degree_centrality',\n       'degree_centrality_diff', 'referee_betweenness_centrality',\n       'referral_betweenness_centrality', 'betweenness_centrality_diff',\n       'referee_pagerank_centrality', 'referral_pagerank_centrality',\n       'pagerank_centrality_diff', 'referee_component_size',\n       'referral_component_size', 'component_size_diff'],\n      dtype='object')"
     },
     "execution_count": 31,
     "metadata": {},
     "output_type": "execute_result"
    }
   ],
   "source": [
    "yunnan_data.columns"
   ],
   "metadata": {
    "collapsed": false,
    "pycharm": {
     "name": "#%%\n"
    }
   }
  },
  {
   "cell_type": "code",
   "execution_count": 32,
   "outputs": [
    {
     "data": {
      "text/plain": "       referee  referral  contact  referee_age  referral_age  age_diff  \\\n0          1.0      10.0      1.0    -0.873643      0.969757  0.145773   \n1         16.0      15.0      1.0     0.189764      0.528873 -1.188070   \n2         90.0      75.0      1.0    -1.878759      1.027335  1.049123   \n3         86.0      85.0      1.0     0.606984      0.102548 -0.737680   \n4         86.0      81.0      1.0     0.955931     -0.803455  0.457608   \n...        ...       ...      ...          ...           ...       ...   \n14530    168.0     169.0      0.0     0.890647     -0.496269  0.096975   \n14531    168.0     170.0      0.0     0.619421      0.073290 -0.698097   \n14532    168.0     171.0      0.0     0.929290     -1.661225  1.288750   \n14533    169.0     170.0      0.0    -0.329812      0.801335 -0.479592   \n14534    169.0     171.0      0.0     0.932993     -0.801382  0.436238   \n\n       referee_gender  referral_gender  gender_diff  referee_relatives  ...  \\\n0                 1.0              1.0          0.0                1.0  ...   \n1                 0.0              1.0          1.0                1.0  ...   \n2                 0.0              1.0          1.0                1.0  ...   \n3                 0.0              0.0          0.0                0.0  ...   \n4                 0.0              0.0          0.0                0.0  ...   \n...               ...              ...          ...                ...  ...   \n14530             0.0              1.0          1.0                0.0  ...   \n14531             0.0              1.0          1.0                0.0  ...   \n14532             0.0              0.0          0.0                0.0  ...   \n14533             1.0              1.0          0.0                1.0  ...   \n14534             1.0              0.0          1.0                1.0  ...   \n\n       degree_centrality_diff  referee_betweenness_centrality  \\\n0                   -0.555292                       -0.120199   \n1                   -0.555292                       -0.120199   \n2                   -0.555292                       -0.120199   \n3                   -0.555292                       -0.120199   \n4                   -0.555292                       -0.120199   \n...                       ...                             ...   \n14530               -0.341824                       -0.120199   \n14531               -0.151162                       -0.120199   \n14532               -0.125105                       -0.120199   \n14533                0.180341                       -0.120199   \n14534                0.421204                       -0.120199   \n\n       referral_betweenness_centrality  betweenness_centrality_diff  \\\n0                            -0.277396                    -0.300419   \n1                            -0.277396                    -0.300419   \n2                            -0.277396                    -0.300419   \n3                            -0.277396                    -0.300419   \n4                            -0.277396                    -0.300419   \n...                                ...                          ...   \n14530                        -0.277396                    -0.300419   \n14531                        -0.277396                    -0.300419   \n14532                        -0.277396                    -0.300419   \n14533                        -0.277396                    -0.300419   \n14534                        -0.277396                    -0.300419   \n\n       referee_pagerank_centrality  referral_pagerank_centrality  \\\n0                         1.390432                      0.543375   \n1                         0.921838                      0.193908   \n2                         1.022121                      0.268696   \n3                         0.816982                      0.115708   \n4                         0.942839                      0.209569   \n...                            ...                           ...   \n14530                     0.882048                     -0.912674   \n14531                     0.786213                      0.473518   \n14532                     0.895702                      0.579722   \n14533                    -0.509908                      0.825238   \n14534                    -0.378266                      1.479737   \n\n       pagerank_centrality_diff  referee_component_size  \\\n0                     -0.852693                0.057503   \n1                     -0.852693               -0.140043   \n2                     -0.852693               -0.097767   \n3                     -0.852693                0.180189   \n4                     -0.852693                0.259775   \n...                         ...                     ...   \n14530                  0.233762                0.562403   \n14531                 -0.468560                0.483581   \n14532                 -0.443793                0.573634   \n14533                  0.861469               -0.348144   \n14534                  1.422726               -0.163157   \n\n       referral_component_size  component_size_diff  \n0                    -0.415690            -0.567064  \n1                    -0.487675            -0.567064  \n2                    -0.472270            -0.567064  \n3                    -0.370983            -0.567064  \n4                    -0.341982            -0.567064  \n...                        ...                  ...  \n14530                -0.590158            -0.191814  \n14531                -0.090774            -0.389462  \n14532                -0.047021            -0.378011  \n14533                 0.054125             0.079509  \n14534                 0.323761             0.291213  \n\n[14535 rows x 24 columns]",
      "text/html": "<div>\n<style scoped>\n    .dataframe tbody tr th:only-of-type {\n        vertical-align: middle;\n    }\n\n    .dataframe tbody tr th {\n        vertical-align: top;\n    }\n\n    .dataframe thead th {\n        text-align: right;\n    }\n</style>\n<table border=\"1\" class=\"dataframe\">\n  <thead>\n    <tr style=\"text-align: right;\">\n      <th></th>\n      <th>referee</th>\n      <th>referral</th>\n      <th>contact</th>\n      <th>referee_age</th>\n      <th>referral_age</th>\n      <th>age_diff</th>\n      <th>referee_gender</th>\n      <th>referral_gender</th>\n      <th>gender_diff</th>\n      <th>referee_relatives</th>\n      <th>...</th>\n      <th>degree_centrality_diff</th>\n      <th>referee_betweenness_centrality</th>\n      <th>referral_betweenness_centrality</th>\n      <th>betweenness_centrality_diff</th>\n      <th>referee_pagerank_centrality</th>\n      <th>referral_pagerank_centrality</th>\n      <th>pagerank_centrality_diff</th>\n      <th>referee_component_size</th>\n      <th>referral_component_size</th>\n      <th>component_size_diff</th>\n    </tr>\n  </thead>\n  <tbody>\n    <tr>\n      <th>0</th>\n      <td>1.0</td>\n      <td>10.0</td>\n      <td>1.0</td>\n      <td>-0.873643</td>\n      <td>0.969757</td>\n      <td>0.145773</td>\n      <td>1.0</td>\n      <td>1.0</td>\n      <td>0.0</td>\n      <td>1.0</td>\n      <td>...</td>\n      <td>-0.555292</td>\n      <td>-0.120199</td>\n      <td>-0.277396</td>\n      <td>-0.300419</td>\n      <td>1.390432</td>\n      <td>0.543375</td>\n      <td>-0.852693</td>\n      <td>0.057503</td>\n      <td>-0.415690</td>\n      <td>-0.567064</td>\n    </tr>\n    <tr>\n      <th>1</th>\n      <td>16.0</td>\n      <td>15.0</td>\n      <td>1.0</td>\n      <td>0.189764</td>\n      <td>0.528873</td>\n      <td>-1.188070</td>\n      <td>0.0</td>\n      <td>1.0</td>\n      <td>1.0</td>\n      <td>1.0</td>\n      <td>...</td>\n      <td>-0.555292</td>\n      <td>-0.120199</td>\n      <td>-0.277396</td>\n      <td>-0.300419</td>\n      <td>0.921838</td>\n      <td>0.193908</td>\n      <td>-0.852693</td>\n      <td>-0.140043</td>\n      <td>-0.487675</td>\n      <td>-0.567064</td>\n    </tr>\n    <tr>\n      <th>2</th>\n      <td>90.0</td>\n      <td>75.0</td>\n      <td>1.0</td>\n      <td>-1.878759</td>\n      <td>1.027335</td>\n      <td>1.049123</td>\n      <td>0.0</td>\n      <td>1.0</td>\n      <td>1.0</td>\n      <td>1.0</td>\n      <td>...</td>\n      <td>-0.555292</td>\n      <td>-0.120199</td>\n      <td>-0.277396</td>\n      <td>-0.300419</td>\n      <td>1.022121</td>\n      <td>0.268696</td>\n      <td>-0.852693</td>\n      <td>-0.097767</td>\n      <td>-0.472270</td>\n      <td>-0.567064</td>\n    </tr>\n    <tr>\n      <th>3</th>\n      <td>86.0</td>\n      <td>85.0</td>\n      <td>1.0</td>\n      <td>0.606984</td>\n      <td>0.102548</td>\n      <td>-0.737680</td>\n      <td>0.0</td>\n      <td>0.0</td>\n      <td>0.0</td>\n      <td>0.0</td>\n      <td>...</td>\n      <td>-0.555292</td>\n      <td>-0.120199</td>\n      <td>-0.277396</td>\n      <td>-0.300419</td>\n      <td>0.816982</td>\n      <td>0.115708</td>\n      <td>-0.852693</td>\n      <td>0.180189</td>\n      <td>-0.370983</td>\n      <td>-0.567064</td>\n    </tr>\n    <tr>\n      <th>4</th>\n      <td>86.0</td>\n      <td>81.0</td>\n      <td>1.0</td>\n      <td>0.955931</td>\n      <td>-0.803455</td>\n      <td>0.457608</td>\n      <td>0.0</td>\n      <td>0.0</td>\n      <td>0.0</td>\n      <td>0.0</td>\n      <td>...</td>\n      <td>-0.555292</td>\n      <td>-0.120199</td>\n      <td>-0.277396</td>\n      <td>-0.300419</td>\n      <td>0.942839</td>\n      <td>0.209569</td>\n      <td>-0.852693</td>\n      <td>0.259775</td>\n      <td>-0.341982</td>\n      <td>-0.567064</td>\n    </tr>\n    <tr>\n      <th>...</th>\n      <td>...</td>\n      <td>...</td>\n      <td>...</td>\n      <td>...</td>\n      <td>...</td>\n      <td>...</td>\n      <td>...</td>\n      <td>...</td>\n      <td>...</td>\n      <td>...</td>\n      <td>...</td>\n      <td>...</td>\n      <td>...</td>\n      <td>...</td>\n      <td>...</td>\n      <td>...</td>\n      <td>...</td>\n      <td>...</td>\n      <td>...</td>\n      <td>...</td>\n      <td>...</td>\n    </tr>\n    <tr>\n      <th>14530</th>\n      <td>168.0</td>\n      <td>169.0</td>\n      <td>0.0</td>\n      <td>0.890647</td>\n      <td>-0.496269</td>\n      <td>0.096975</td>\n      <td>0.0</td>\n      <td>1.0</td>\n      <td>1.0</td>\n      <td>0.0</td>\n      <td>...</td>\n      <td>-0.341824</td>\n      <td>-0.120199</td>\n      <td>-0.277396</td>\n      <td>-0.300419</td>\n      <td>0.882048</td>\n      <td>-0.912674</td>\n      <td>0.233762</td>\n      <td>0.562403</td>\n      <td>-0.590158</td>\n      <td>-0.191814</td>\n    </tr>\n    <tr>\n      <th>14531</th>\n      <td>168.0</td>\n      <td>170.0</td>\n      <td>0.0</td>\n      <td>0.619421</td>\n      <td>0.073290</td>\n      <td>-0.698097</td>\n      <td>0.0</td>\n      <td>1.0</td>\n      <td>1.0</td>\n      <td>0.0</td>\n      <td>...</td>\n      <td>-0.151162</td>\n      <td>-0.120199</td>\n      <td>-0.277396</td>\n      <td>-0.300419</td>\n      <td>0.786213</td>\n      <td>0.473518</td>\n      <td>-0.468560</td>\n      <td>0.483581</td>\n      <td>-0.090774</td>\n      <td>-0.389462</td>\n    </tr>\n    <tr>\n      <th>14532</th>\n      <td>168.0</td>\n      <td>171.0</td>\n      <td>0.0</td>\n      <td>0.929290</td>\n      <td>-1.661225</td>\n      <td>1.288750</td>\n      <td>0.0</td>\n      <td>0.0</td>\n      <td>0.0</td>\n      <td>0.0</td>\n      <td>...</td>\n      <td>-0.125105</td>\n      <td>-0.120199</td>\n      <td>-0.277396</td>\n      <td>-0.300419</td>\n      <td>0.895702</td>\n      <td>0.579722</td>\n      <td>-0.443793</td>\n      <td>0.573634</td>\n      <td>-0.047021</td>\n      <td>-0.378011</td>\n    </tr>\n    <tr>\n      <th>14533</th>\n      <td>169.0</td>\n      <td>170.0</td>\n      <td>0.0</td>\n      <td>-0.329812</td>\n      <td>0.801335</td>\n      <td>-0.479592</td>\n      <td>1.0</td>\n      <td>1.0</td>\n      <td>0.0</td>\n      <td>1.0</td>\n      <td>...</td>\n      <td>0.180341</td>\n      <td>-0.120199</td>\n      <td>-0.277396</td>\n      <td>-0.300419</td>\n      <td>-0.509908</td>\n      <td>0.825238</td>\n      <td>0.861469</td>\n      <td>-0.348144</td>\n      <td>0.054125</td>\n      <td>0.079509</td>\n    </tr>\n    <tr>\n      <th>14534</th>\n      <td>169.0</td>\n      <td>171.0</td>\n      <td>0.0</td>\n      <td>0.932993</td>\n      <td>-0.801382</td>\n      <td>0.436238</td>\n      <td>1.0</td>\n      <td>0.0</td>\n      <td>1.0</td>\n      <td>1.0</td>\n      <td>...</td>\n      <td>0.421204</td>\n      <td>-0.120199</td>\n      <td>-0.277396</td>\n      <td>-0.300419</td>\n      <td>-0.378266</td>\n      <td>1.479737</td>\n      <td>1.422726</td>\n      <td>-0.163157</td>\n      <td>0.323761</td>\n      <td>0.291213</td>\n    </tr>\n  </tbody>\n</table>\n<p>14535 rows × 24 columns</p>\n</div>"
     },
     "execution_count": 32,
     "metadata": {},
     "output_type": "execute_result"
    }
   ],
   "source": [
    "yunnan_data[['referee_age', 'referral_age', 'age_diff', 'referee_degree_centrality', 'referral_degree_centrality',\n",
    "             'degree_centrality_diff', 'referee_betweenness_centrality',\n",
    "             'referral_betweenness_centrality', 'betweenness_centrality_diff',\n",
    "             'referee_pagerank_centrality', 'referral_pagerank_centrality',\n",
    "             'pagerank_centrality_diff', 'referee_component_size',\n",
    "             'referral_component_size', 'component_size_diff']] = normalize(yunnan_data[['referee_age', 'referral_age', 'age_diff', 'referee_degree_centrality', 'referral_degree_centrality',\n",
    "                                                                                         'degree_centrality_diff', 'referee_betweenness_centrality',\n",
    "                                                                                         'referral_betweenness_centrality', 'betweenness_centrality_diff',\n",
    "                                                                                         'referee_pagerank_centrality', 'referral_pagerank_centrality',\n",
    "                                                                                         'pagerank_centrality_diff', 'referee_component_size',\n",
    "                                                                                         'referral_component_size', 'component_size_diff']])\n",
    "\n",
    "yunnan_data[['referee_age', 'referral_age', 'age_diff', 'referee_degree_centrality', 'referral_degree_centrality',\n",
    "             'degree_centrality_diff', 'referee_betweenness_centrality',\n",
    "             'referral_betweenness_centrality', 'betweenness_centrality_diff',\n",
    "             'referee_pagerank_centrality', 'referral_pagerank_centrality',\n",
    "             'pagerank_centrality_diff', 'referee_component_size',\n",
    "             'referral_component_size', 'component_size_diff']] = scale(yunnan_data[['referee_age', 'referral_age', 'age_diff', 'referee_degree_centrality', 'referral_degree_centrality',\n",
    "                                                                                     'degree_centrality_diff', 'referee_betweenness_centrality',\n",
    "                                                                                     'referral_betweenness_centrality', 'betweenness_centrality_diff',\n",
    "                                                                                     'referee_pagerank_centrality', 'referral_pagerank_centrality',\n",
    "                                                                                     'pagerank_centrality_diff', 'referee_component_size',\n",
    "                                                                                     'referral_component_size', 'component_size_diff']])\n",
    "yunnan_data"
   ],
   "metadata": {
    "collapsed": false,
    "pycharm": {
     "name": "#%%\n"
    }
   }
  },
  {
   "cell_type": "code",
   "execution_count": 33,
   "outputs": [
    {
     "data": {
      "text/plain": "array([-0.01820585,  0.01615919, -0.02116207, -0.00440439,  0.0236299 ,\n        0.00617396, -0.03715761, -0.03858047, -0.07069708,  0.4667575 ,\n        0.1548591 , -0.01553951,  0.06451917,  0.17200157,  0.11800226,\n        0.16831431,  0.11253321, -0.04322172,  0.47163262,  0.13479507,\n       -0.04813939])"
     },
     "execution_count": 33,
     "metadata": {},
     "output_type": "execute_result"
    }
   ],
   "source": [
    "r_regression(yunnan_data[yunnan_data.columns[3:]], yunnan_data['contact'])"
   ],
   "metadata": {
    "collapsed": false,
    "pycharm": {
     "name": "#%%\n"
    }
   }
  },
  {
   "cell_type": "code",
   "execution_count": 34,
   "outputs": [
    {
     "data": {
      "text/plain": "(array([4.81860476e+00, 3.79584120e+00, 6.51127598e+00, 2.81926377e-01,\n        8.11935330e+00, 5.53986908e-01, 2.00932799e+01, 2.16639262e+01,\n        7.30019291e+01, 4.04813345e+03, 3.57084195e+02, 3.51022250e+00,\n        6.07497361e+01, 4.43059818e+02, 2.05222880e+02, 4.23719463e+02,\n        1.86402451e+02, 2.72001611e+01, 4.15745492e+03, 2.68947107e+02,\n        3.37570204e+01]),\n array([2.81698836e-02, 5.13992718e-02, 1.07294013e-02, 5.95449486e-01,\n        4.38567396e-03, 4.56705240e-01, 7.43193460e-06, 3.27713514e-06,\n        1.42268957e-17, 0.00000000e+00, 1.06424184e-78, 6.10113160e-02,\n        6.91907561e-15, 6.49276118e-97, 3.12539937e-46, 7.94124714e-93,\n        3.53003730e-42, 1.85961374e-07, 0.00000000e+00, 6.63999346e-60,\n        6.37505155e-09]))"
     },
     "execution_count": 34,
     "metadata": {},
     "output_type": "execute_result"
    }
   ],
   "source": [
    "f_regression(yunnan_data[yunnan_data.columns[3:]], yunnan_data['contact'])"
   ],
   "metadata": {
    "collapsed": false,
    "pycharm": {
     "name": "#%%\n"
    }
   }
  },
  {
   "cell_type": "markdown",
   "source": [
    "# Hainan"
   ],
   "metadata": {
    "collapsed": false,
    "pycharm": {
     "name": "#%% md\n"
    }
   }
  },
  {
   "cell_type": "code",
   "execution_count": 35,
   "outputs": [],
   "source": [
    "hainan_edgelist = pd.read_csv('../Data/Preprocessed/hainan_edgelist.csv')\n",
    "hainan_nodelist = pd.read_csv('../Data/Preprocessed/hainan_nodelist.csv')\n",
    "hainan_network = pd.read_csv('../Data/Tables/basic/hainan_basic_analysis.csv')"
   ],
   "metadata": {
    "collapsed": false,
    "pycharm": {
     "name": "#%%\n"
    }
   }
  },
  {
   "cell_type": "code",
   "execution_count": 36,
   "outputs": [
    {
     "data": {
      "text/plain": "(array([1., 0.]), array([0., 1.]))"
     },
     "execution_count": 36,
     "metadata": {},
     "output_type": "execute_result"
    }
   ],
   "source": [
    "hainan_nodelist['gender'].unique(), hainan_nodelist['relatives'].unique()"
   ],
   "metadata": {
    "collapsed": false,
    "pycharm": {
     "name": "#%%\n"
    }
   }
  },
  {
   "cell_type": "markdown",
   "source": [
    "Don't need to fill nans"
   ],
   "metadata": {
    "collapsed": false,
    "pycharm": {
     "name": "#%% md\n"
    }
   }
  },
  {
   "cell_type": "code",
   "execution_count": 37,
   "outputs": [],
   "source": [
    "hainan_data = pd.DataFrame(columns=['referee', 'referral', 'contact', 'referee_age', 'referral_age', 'age_diff', 'referee_gender', 'referral_gender', 'gender_diff', 'referee_relatives', 'referral_relatives', 'relatives_diff',\n",
    "                                    'referee_degree_centrality', 'referral_degree_centrality', 'degree_centrality_diff', 'referee_betweenness_centrality', 'referral_betweenness_centrality', 'betweenness_centrality_diff',\n",
    "                                    'referee_pagerank_centrality', 'referral_pagerank_centrality', 'pagerank_centrality_diff', 'referee_component_size', 'referral_component_size', 'component_size_diff'])"
   ],
   "metadata": {
    "collapsed": false,
    "pycharm": {
     "name": "#%%\n"
    }
   }
  },
  {
   "cell_type": "code",
   "execution_count": 38,
   "outputs": [],
   "source": [
    "added_combinations = set()\n",
    "for index, row in hainan_edgelist[~hainan_edgelist['Referral'].isna()].iterrows():\n",
    "    referee_id = row['Referee']\n",
    "    referral_id = row['Referral']\n",
    "    referee = hainan_nodelist.query('node_id == @referee_id')\n",
    "    referral = hainan_nodelist.query('node_id == @referral_id')\n",
    "    referee_network_stats = hainan_network.query('Referee == @referee_id')\n",
    "    referral_network_stats = hainan_network.query('Referee == @referral_id')\n",
    "\n",
    "    referee_age = referee['age'].iloc[0]\n",
    "    referral_age = referral['age'].iloc[0]\n",
    "    referee_gender = referee['gender'].iloc[0]\n",
    "    referral_gender = referral['gender'].iloc[0]\n",
    "    referee_relatives = referee['relatives'].iloc[0]\n",
    "    referral_relatives = referral['relatives'].iloc[0]\n",
    "\n",
    "    referee_degree_centrality = referee_network_stats['Degree_Centrality'].iloc[0]\n",
    "    referral_degree_centrality = referral_network_stats['Degree_Centrality'].iloc[0]\n",
    "    referee_betweenness_centrality = referee_network_stats['Betweenness_Centrality'].iloc[0]\n",
    "    referral_betweenness_centrality = referral_network_stats['Betweenness_Centrality'].iloc[0]\n",
    "    referee_pagerank_centrality = referee_network_stats['Pagerank_Centrality'].iloc[0]\n",
    "    referral_pagerank_centrality = referral_network_stats['Pagerank_Centrality'].iloc[0]\n",
    "    referee_component_size = referee_network_stats['Component_Size'].iloc[0]\n",
    "    referral_component_size = referral_network_stats['Component_Size'].iloc[0]\n",
    "\n",
    "    new_row = pd.Series({'referee': referee_id, 'referral': referral_id, 'contact': 1, 'referee_age': referee_age, 'referral_age': referral_age, 'age_diff': abs(referee_age - referral_age),\n",
    "                         'referee_gender': referee_gender, 'referral_gender': referral_gender, 'gender_diff': abs(referee_gender - referral_gender),\n",
    "                         'referee_relatives': referee_relatives, 'referral_relatives': referral_relatives, 'relatives_diff': abs(referee_relatives - referral_relatives),\n",
    "                         'referee_degree_centrality': referee_degree_centrality, 'referral_degree_centrality': referral_degree_centrality, 'degree_centrality_diff': abs(referee_degree_centrality - referral_degree_centrality),\n",
    "                         'referee_betweenness_centrality': referee_betweenness_centrality, 'referral_betweenness_centrality': referral_betweenness_centrality, 'betweenness_centrality_diff': abs(referee_betweenness_centrality - referral_betweenness_centrality),\n",
    "                         'referee_pagerank_centrality': referee_pagerank_centrality, 'referral_pagerank_centrality': referral_pagerank_centrality, 'pagerank_centrality_diff': abs(referee_pagerank_centrality - referral_pagerank_centrality),\n",
    "                         'referee_component_size': referee_component_size, 'referral_component_size': referral_component_size, 'component_size_diff': abs(referee_component_size - referral_component_size)})\n",
    "    hainan_data = pd.concat([hainan_data, new_row.to_frame().T], axis='index', ignore_index=True)\n",
    "\n",
    "    added_combinations.add((referee_id, referral_id))\n",
    "    added_combinations.add((referral_id, referee_id))"
   ],
   "metadata": {
    "collapsed": false,
    "pycharm": {
     "name": "#%%\n"
    }
   }
  },
  {
   "cell_type": "code",
   "execution_count": 39,
   "outputs": [],
   "source": [
    "for ref_a in hainan_nodelist['node_id']:\n",
    "    for ref_b in hainan_nodelist['node_id']:\n",
    "        if ref_a == ref_b:\n",
    "            continue\n",
    "        if (ref_a, ref_b) in added_combinations:\n",
    "            continue\n",
    "        if (ref_b, ref_a) in added_combinations:\n",
    "            continue\n",
    "\n",
    "        referee = hainan_nodelist.query('node_id == @ref_a')\n",
    "        referral = hainan_nodelist.query('node_id == @ref_b')\n",
    "        referee_network_stats = hainan_network.query('Referee == @ref_a')\n",
    "        referral_network_stats = hainan_network.query('Referee == @ref_b')\n",
    "\n",
    "        referee_age = referee['age'].iloc[0]\n",
    "        referral_age = referral['age'].iloc[0]\n",
    "        referee_gender = referee['gender'].iloc[0]\n",
    "        referral_gender = referral['gender'].iloc[0]\n",
    "        referee_relatives = referee['relatives'].iloc[0]\n",
    "        referral_relatives = referral['relatives'].iloc[0]\n",
    "\n",
    "        referee_degree_centrality = referee_network_stats['Degree_Centrality'].iloc[0]\n",
    "        referral_degree_centrality = referral_network_stats['Degree_Centrality'].iloc[0]\n",
    "        referee_betweenness_centrality = referee_network_stats['Betweenness_Centrality'].iloc[0]\n",
    "        referral_betweenness_centrality = referral_network_stats['Betweenness_Centrality'].iloc[0]\n",
    "        referee_pagerank_centrality = referee_network_stats['Pagerank_Centrality'].iloc[0]\n",
    "        referral_pagerank_centrality = referral_network_stats['Pagerank_Centrality'].iloc[0]\n",
    "        referee_component_size = referee_network_stats['Component_Size'].iloc[0]\n",
    "        referral_component_size = referral_network_stats['Component_Size'].iloc[0]\n",
    "\n",
    "        new_row = pd.Series({'referee': ref_a, 'referral': ref_b, 'contact': 0, 'referee_age': referee_age, 'referral_age': referral_age, 'age_diff': abs(referee_age - referral_age),\n",
    "                             'referee_gender': referee_gender, 'referral_gender': referral_gender, 'gender_diff': abs(referee_gender - referral_gender),\n",
    "                             'referee_relatives': referee_relatives, 'referral_relatives': referral_relatives, 'relatives_diff': abs(referee_relatives - referral_relatives),\n",
    "                             'referee_degree_centrality': referee_degree_centrality, 'referral_degree_centrality': referral_degree_centrality, 'degree_centrality_diff': abs(referee_degree_centrality - referral_degree_centrality),\n",
    "                             'referee_betweenness_centrality': referee_betweenness_centrality, 'referral_betweenness_centrality': referral_betweenness_centrality, 'betweenness_centrality_diff': abs(referee_betweenness_centrality - referral_betweenness_centrality),\n",
    "                             'referee_pagerank_centrality': referee_pagerank_centrality, 'referral_pagerank_centrality': referral_pagerank_centrality, 'pagerank_centrality_diff': abs(referee_pagerank_centrality - referral_pagerank_centrality),\n",
    "                             'referee_component_size': referee_component_size, 'referral_component_size': referral_component_size, 'component_size_diff': abs(referee_component_size - referral_component_size)})\n",
    "        hainan_data = pd.concat([hainan_data, new_row.to_frame().T], axis='index', ignore_index=True)\n",
    "\n",
    "        added_combinations.add((ref_a, ref_b))\n",
    "        added_combinations.add((ref_b, ref_a))"
   ],
   "metadata": {
    "collapsed": false,
    "pycharm": {
     "name": "#%%\n"
    }
   }
  },
  {
   "cell_type": "code",
   "execution_count": 40,
   "outputs": [
    {
     "data": {
      "text/plain": "       referee  referral  contact  referee_age  referral_age  age_diff  \\\n0          5.0       3.0      1.0         27.0          27.0       0.0   \n1         15.0       7.0      1.0         54.0          53.0       1.0   \n2         14.0      13.0      1.0         44.0          47.0       3.0   \n3         36.0      35.0      1.0         17.0           8.0       9.0   \n4         43.0      42.0      1.0         69.0          68.0       1.0   \n...        ...       ...      ...          ...           ...       ...   \n13036    158.0     159.0      0.0         62.0          27.0      35.0   \n13037    158.0     162.0      0.0         62.0          73.0      11.0   \n13038    160.0     159.0      0.0         25.0          27.0       2.0   \n13039    160.0     162.0      0.0         25.0          73.0      48.0   \n13040    159.0     162.0      0.0         27.0          73.0      46.0   \n\n       referee_gender  referral_gender  gender_diff  referee_relatives  ...  \\\n0                 0.0              1.0          1.0                0.0  ...   \n1                 0.0              1.0          1.0                1.0  ...   \n2                 0.0              1.0          1.0                1.0  ...   \n3                 0.0              1.0          1.0                1.0  ...   \n4                 0.0              1.0          1.0                1.0  ...   \n...               ...              ...          ...                ...  ...   \n13036             1.0              0.0          1.0                1.0  ...   \n13037             1.0              1.0          0.0                1.0  ...   \n13038             0.0              0.0          0.0                1.0  ...   \n13039             0.0              1.0          1.0                1.0  ...   \n13040             0.0              1.0          1.0                1.0  ...   \n\n       degree_centrality_diff  referee_betweenness_centrality  \\\n0                    0.000000                             0.0   \n1                    0.000000                             0.0   \n2                    0.000000                             0.0   \n3                    0.000000                             0.0   \n4                    0.000000                             0.0   \n...                       ...                             ...   \n13036                0.018634                             0.0   \n13037                0.037267                             0.0   \n13038                0.018634                             0.0   \n13039                0.037267                             0.0   \n13040                0.018634                             0.0   \n\n       referral_betweenness_centrality  betweenness_centrality_diff  \\\n0                                  0.0                          0.0   \n1                                  0.0                          0.0   \n2                                  0.0                          0.0   \n3                                  0.0                          0.0   \n4                                  0.0                          0.0   \n...                                ...                          ...   \n13036                              0.0                          0.0   \n13037                              0.0                          0.0   \n13038                              0.0                          0.0   \n13039                              0.0                          0.0   \n13040                              0.0                          0.0   \n\n       referee_pagerank_centrality  referral_pagerank_centrality  \\\n0                         0.009838                      0.009838   \n1                         0.009838                      0.009838   \n2                         0.008852                      0.008852   \n3                         0.009838                      0.009838   \n4                         0.009838                      0.009838   \n...                            ...                           ...   \n13036                     0.009838                      0.009838   \n13037                     0.009838                      0.001476   \n13038                     0.009838                      0.009838   \n13039                     0.009838                      0.001476   \n13040                     0.009838                      0.001476   \n\n       pagerank_centrality_diff  referee_component_size  \\\n0                      0.000000                     2.0   \n1                      0.000000                     2.0   \n2                      0.000000                     6.0   \n3                      0.000000                     2.0   \n4                      0.000000                     2.0   \n...                         ...                     ...   \n13036                  0.000000                     7.0   \n13037                  0.008362                     7.0   \n13038                  0.000000                     7.0   \n13039                  0.008362                     7.0   \n13040                  0.008362                     4.0   \n\n       referral_component_size  component_size_diff  \n0                          2.0                  0.0  \n1                          2.0                  0.0  \n2                          6.0                  0.0  \n3                          2.0                  0.0  \n4                          2.0                  0.0  \n...                        ...                  ...  \n13036                      4.0                  3.0  \n13037                      1.0                  6.0  \n13038                      4.0                  3.0  \n13039                      1.0                  6.0  \n13040                      1.0                  3.0  \n\n[13041 rows x 24 columns]",
      "text/html": "<div>\n<style scoped>\n    .dataframe tbody tr th:only-of-type {\n        vertical-align: middle;\n    }\n\n    .dataframe tbody tr th {\n        vertical-align: top;\n    }\n\n    .dataframe thead th {\n        text-align: right;\n    }\n</style>\n<table border=\"1\" class=\"dataframe\">\n  <thead>\n    <tr style=\"text-align: right;\">\n      <th></th>\n      <th>referee</th>\n      <th>referral</th>\n      <th>contact</th>\n      <th>referee_age</th>\n      <th>referral_age</th>\n      <th>age_diff</th>\n      <th>referee_gender</th>\n      <th>referral_gender</th>\n      <th>gender_diff</th>\n      <th>referee_relatives</th>\n      <th>...</th>\n      <th>degree_centrality_diff</th>\n      <th>referee_betweenness_centrality</th>\n      <th>referral_betweenness_centrality</th>\n      <th>betweenness_centrality_diff</th>\n      <th>referee_pagerank_centrality</th>\n      <th>referral_pagerank_centrality</th>\n      <th>pagerank_centrality_diff</th>\n      <th>referee_component_size</th>\n      <th>referral_component_size</th>\n      <th>component_size_diff</th>\n    </tr>\n  </thead>\n  <tbody>\n    <tr>\n      <th>0</th>\n      <td>5.0</td>\n      <td>3.0</td>\n      <td>1.0</td>\n      <td>27.0</td>\n      <td>27.0</td>\n      <td>0.0</td>\n      <td>0.0</td>\n      <td>1.0</td>\n      <td>1.0</td>\n      <td>0.0</td>\n      <td>...</td>\n      <td>0.000000</td>\n      <td>0.0</td>\n      <td>0.0</td>\n      <td>0.0</td>\n      <td>0.009838</td>\n      <td>0.009838</td>\n      <td>0.000000</td>\n      <td>2.0</td>\n      <td>2.0</td>\n      <td>0.0</td>\n    </tr>\n    <tr>\n      <th>1</th>\n      <td>15.0</td>\n      <td>7.0</td>\n      <td>1.0</td>\n      <td>54.0</td>\n      <td>53.0</td>\n      <td>1.0</td>\n      <td>0.0</td>\n      <td>1.0</td>\n      <td>1.0</td>\n      <td>1.0</td>\n      <td>...</td>\n      <td>0.000000</td>\n      <td>0.0</td>\n      <td>0.0</td>\n      <td>0.0</td>\n      <td>0.009838</td>\n      <td>0.009838</td>\n      <td>0.000000</td>\n      <td>2.0</td>\n      <td>2.0</td>\n      <td>0.0</td>\n    </tr>\n    <tr>\n      <th>2</th>\n      <td>14.0</td>\n      <td>13.0</td>\n      <td>1.0</td>\n      <td>44.0</td>\n      <td>47.0</td>\n      <td>3.0</td>\n      <td>0.0</td>\n      <td>1.0</td>\n      <td>1.0</td>\n      <td>1.0</td>\n      <td>...</td>\n      <td>0.000000</td>\n      <td>0.0</td>\n      <td>0.0</td>\n      <td>0.0</td>\n      <td>0.008852</td>\n      <td>0.008852</td>\n      <td>0.000000</td>\n      <td>6.0</td>\n      <td>6.0</td>\n      <td>0.0</td>\n    </tr>\n    <tr>\n      <th>3</th>\n      <td>36.0</td>\n      <td>35.0</td>\n      <td>1.0</td>\n      <td>17.0</td>\n      <td>8.0</td>\n      <td>9.0</td>\n      <td>0.0</td>\n      <td>1.0</td>\n      <td>1.0</td>\n      <td>1.0</td>\n      <td>...</td>\n      <td>0.000000</td>\n      <td>0.0</td>\n      <td>0.0</td>\n      <td>0.0</td>\n      <td>0.009838</td>\n      <td>0.009838</td>\n      <td>0.000000</td>\n      <td>2.0</td>\n      <td>2.0</td>\n      <td>0.0</td>\n    </tr>\n    <tr>\n      <th>4</th>\n      <td>43.0</td>\n      <td>42.0</td>\n      <td>1.0</td>\n      <td>69.0</td>\n      <td>68.0</td>\n      <td>1.0</td>\n      <td>0.0</td>\n      <td>1.0</td>\n      <td>1.0</td>\n      <td>1.0</td>\n      <td>...</td>\n      <td>0.000000</td>\n      <td>0.0</td>\n      <td>0.0</td>\n      <td>0.0</td>\n      <td>0.009838</td>\n      <td>0.009838</td>\n      <td>0.000000</td>\n      <td>2.0</td>\n      <td>2.0</td>\n      <td>0.0</td>\n    </tr>\n    <tr>\n      <th>...</th>\n      <td>...</td>\n      <td>...</td>\n      <td>...</td>\n      <td>...</td>\n      <td>...</td>\n      <td>...</td>\n      <td>...</td>\n      <td>...</td>\n      <td>...</td>\n      <td>...</td>\n      <td>...</td>\n      <td>...</td>\n      <td>...</td>\n      <td>...</td>\n      <td>...</td>\n      <td>...</td>\n      <td>...</td>\n      <td>...</td>\n      <td>...</td>\n      <td>...</td>\n      <td>...</td>\n    </tr>\n    <tr>\n      <th>13036</th>\n      <td>158.0</td>\n      <td>159.0</td>\n      <td>0.0</td>\n      <td>62.0</td>\n      <td>27.0</td>\n      <td>35.0</td>\n      <td>1.0</td>\n      <td>0.0</td>\n      <td>1.0</td>\n      <td>1.0</td>\n      <td>...</td>\n      <td>0.018634</td>\n      <td>0.0</td>\n      <td>0.0</td>\n      <td>0.0</td>\n      <td>0.009838</td>\n      <td>0.009838</td>\n      <td>0.000000</td>\n      <td>7.0</td>\n      <td>4.0</td>\n      <td>3.0</td>\n    </tr>\n    <tr>\n      <th>13037</th>\n      <td>158.0</td>\n      <td>162.0</td>\n      <td>0.0</td>\n      <td>62.0</td>\n      <td>73.0</td>\n      <td>11.0</td>\n      <td>1.0</td>\n      <td>1.0</td>\n      <td>0.0</td>\n      <td>1.0</td>\n      <td>...</td>\n      <td>0.037267</td>\n      <td>0.0</td>\n      <td>0.0</td>\n      <td>0.0</td>\n      <td>0.009838</td>\n      <td>0.001476</td>\n      <td>0.008362</td>\n      <td>7.0</td>\n      <td>1.0</td>\n      <td>6.0</td>\n    </tr>\n    <tr>\n      <th>13038</th>\n      <td>160.0</td>\n      <td>159.0</td>\n      <td>0.0</td>\n      <td>25.0</td>\n      <td>27.0</td>\n      <td>2.0</td>\n      <td>0.0</td>\n      <td>0.0</td>\n      <td>0.0</td>\n      <td>1.0</td>\n      <td>...</td>\n      <td>0.018634</td>\n      <td>0.0</td>\n      <td>0.0</td>\n      <td>0.0</td>\n      <td>0.009838</td>\n      <td>0.009838</td>\n      <td>0.000000</td>\n      <td>7.0</td>\n      <td>4.0</td>\n      <td>3.0</td>\n    </tr>\n    <tr>\n      <th>13039</th>\n      <td>160.0</td>\n      <td>162.0</td>\n      <td>0.0</td>\n      <td>25.0</td>\n      <td>73.0</td>\n      <td>48.0</td>\n      <td>0.0</td>\n      <td>1.0</td>\n      <td>1.0</td>\n      <td>1.0</td>\n      <td>...</td>\n      <td>0.037267</td>\n      <td>0.0</td>\n      <td>0.0</td>\n      <td>0.0</td>\n      <td>0.009838</td>\n      <td>0.001476</td>\n      <td>0.008362</td>\n      <td>7.0</td>\n      <td>1.0</td>\n      <td>6.0</td>\n    </tr>\n    <tr>\n      <th>13040</th>\n      <td>159.0</td>\n      <td>162.0</td>\n      <td>0.0</td>\n      <td>27.0</td>\n      <td>73.0</td>\n      <td>46.0</td>\n      <td>0.0</td>\n      <td>1.0</td>\n      <td>1.0</td>\n      <td>1.0</td>\n      <td>...</td>\n      <td>0.018634</td>\n      <td>0.0</td>\n      <td>0.0</td>\n      <td>0.0</td>\n      <td>0.009838</td>\n      <td>0.001476</td>\n      <td>0.008362</td>\n      <td>4.0</td>\n      <td>1.0</td>\n      <td>3.0</td>\n    </tr>\n  </tbody>\n</table>\n<p>13041 rows × 24 columns</p>\n</div>"
     },
     "execution_count": 40,
     "metadata": {},
     "output_type": "execute_result"
    }
   ],
   "source": [
    "hainan_data"
   ],
   "metadata": {
    "collapsed": false,
    "pycharm": {
     "name": "#%%\n"
    }
   }
  },
  {
   "cell_type": "code",
   "execution_count": 41,
   "outputs": [
    {
     "data": {
      "text/plain": "13041.0"
     },
     "execution_count": 41,
     "metadata": {},
     "output_type": "execute_result"
    }
   ],
   "source": [
    "(hainan_nodelist.shape[0] * (hainan_nodelist.shape[0] - 1)) / 2"
   ],
   "metadata": {
    "collapsed": false,
    "pycharm": {
     "name": "#%%\n"
    }
   }
  },
  {
   "cell_type": "code",
   "execution_count": 42,
   "outputs": [
    {
     "data": {
      "text/plain": "       referee  referral  contact  referee_age  referral_age  age_diff  \\\n0          5.0       3.0      1.0     0.344977      0.360479 -1.398907   \n1         15.0       7.0      1.0     0.388648      0.331234 -1.328305   \n2         14.0      13.0      1.0     0.189325      0.459596 -1.152186   \n3         36.0      35.0      1.0     0.913226     -1.445623  0.889752   \n4         43.0      42.0      1.0     0.381969      0.340539 -1.343747   \n...        ...       ...      ...          ...           ...       ...   \n13036    158.0     159.0      0.0     0.915896     -1.602360  1.042976   \n13037    158.0     162.0      0.0    -0.012194      0.630654 -0.791694   \n13038    160.0     159.0      0.0     0.100335      0.406775 -1.116349   \n13039    160.0     162.0      0.0    -2.025581      0.883355  1.410430   \n13040    159.0     162.0      0.0    -1.891096      0.922222  1.316911   \n\n       referee_gender  referral_gender  gender_diff  referee_relatives  ...  \\\n0                 0.0              1.0          1.0                0.0  ...   \n1                 0.0              1.0          1.0                1.0  ...   \n2                 0.0              1.0          1.0                1.0  ...   \n3                 0.0              1.0          1.0                1.0  ...   \n4                 0.0              1.0          1.0                1.0  ...   \n...               ...              ...          ...                ...  ...   \n13036             1.0              0.0          1.0                1.0  ...   \n13037             1.0              1.0          0.0                1.0  ...   \n13038             0.0              0.0          0.0                1.0  ...   \n13039             0.0              1.0          1.0                1.0  ...   \n13040             0.0              1.0          1.0                1.0  ...   \n\n       degree_centrality_diff  referee_betweenness_centrality  \\\n0                   -0.948469                       -0.165307   \n1                   -0.948469                       -0.165307   \n2                   -0.948469                       -0.165307   \n3                   -0.948469                       -0.165307   \n4                   -0.948469                       -0.165307   \n...                       ...                             ...   \n13036                0.429174                       -0.165307   \n13037                1.231540                       -0.165307   \n13038                1.841233                       -0.165307   \n13039                1.362917                       -0.165307   \n13040                0.217327                       -0.165307   \n\n       referral_betweenness_centrality  betweenness_centrality_diff  \\\n0                            -0.140069                    -0.201868   \n1                            -0.140069                    -0.201868   \n2                            -0.140069                    -0.201868   \n3                            -0.140069                    -0.201868   \n4                            -0.140069                    -0.201868   \n...                                ...                          ...   \n13036                        -0.140069                    -0.201868   \n13037                        -0.140069                    -0.201868   \n13038                        -0.140069                    -0.201868   \n13039                        -0.140069                    -0.201868   \n13040                        -0.140069                    -0.201868   \n\n       referee_pagerank_centrality  referral_pagerank_centrality  \\\n0                         2.441132                      2.365345   \n1                         0.655624                      0.557864   \n2                         0.743432                      0.646752   \n3                         5.407056                      5.367767   \n4                         0.256183                      0.153507   \n...                            ...                           ...   \n13036                     0.634037                      0.536011   \n13037                     0.257247                     -1.074019   \n13038                     2.483755                      2.408492   \n13039                     0.343295                     -1.060953   \n13040                     0.356530                     -1.058943   \n\n       pagerank_centrality_diff  referee_component_size  \\\n0                     -1.005913                0.505432   \n1                     -1.005913               -0.291031   \n2                     -1.005913                1.741051   \n3                     -1.005913                1.828445   \n4                     -1.005913               -0.469211   \n...                         ...                     ...   \n13036                 -1.005913                1.711827   \n13037                  0.361705                1.123564   \n13038                 -1.005913                4.599697   \n13039                  0.444124                1.257907   \n13040                  0.456801                0.256759   \n\n       referral_component_size  component_size_diff  \n0                     0.179204            -0.977502  \n1                    -0.446993            -0.977502  \n2                     1.150673            -0.977502  \n3                     1.219384            -0.977502  \n4                    -0.587081            -0.977502  \n...                        ...                  ...  \n13036                 0.178340             0.159450  \n13037                -0.837088             0.821633  \n13038                 1.475771             1.324806  \n13039                -0.821999             0.930057  \n13040                -0.819678            -0.015384  \n\n[13041 rows x 24 columns]",
      "text/html": "<div>\n<style scoped>\n    .dataframe tbody tr th:only-of-type {\n        vertical-align: middle;\n    }\n\n    .dataframe tbody tr th {\n        vertical-align: top;\n    }\n\n    .dataframe thead th {\n        text-align: right;\n    }\n</style>\n<table border=\"1\" class=\"dataframe\">\n  <thead>\n    <tr style=\"text-align: right;\">\n      <th></th>\n      <th>referee</th>\n      <th>referral</th>\n      <th>contact</th>\n      <th>referee_age</th>\n      <th>referral_age</th>\n      <th>age_diff</th>\n      <th>referee_gender</th>\n      <th>referral_gender</th>\n      <th>gender_diff</th>\n      <th>referee_relatives</th>\n      <th>...</th>\n      <th>degree_centrality_diff</th>\n      <th>referee_betweenness_centrality</th>\n      <th>referral_betweenness_centrality</th>\n      <th>betweenness_centrality_diff</th>\n      <th>referee_pagerank_centrality</th>\n      <th>referral_pagerank_centrality</th>\n      <th>pagerank_centrality_diff</th>\n      <th>referee_component_size</th>\n      <th>referral_component_size</th>\n      <th>component_size_diff</th>\n    </tr>\n  </thead>\n  <tbody>\n    <tr>\n      <th>0</th>\n      <td>5.0</td>\n      <td>3.0</td>\n      <td>1.0</td>\n      <td>0.344977</td>\n      <td>0.360479</td>\n      <td>-1.398907</td>\n      <td>0.0</td>\n      <td>1.0</td>\n      <td>1.0</td>\n      <td>0.0</td>\n      <td>...</td>\n      <td>-0.948469</td>\n      <td>-0.165307</td>\n      <td>-0.140069</td>\n      <td>-0.201868</td>\n      <td>2.441132</td>\n      <td>2.365345</td>\n      <td>-1.005913</td>\n      <td>0.505432</td>\n      <td>0.179204</td>\n      <td>-0.977502</td>\n    </tr>\n    <tr>\n      <th>1</th>\n      <td>15.0</td>\n      <td>7.0</td>\n      <td>1.0</td>\n      <td>0.388648</td>\n      <td>0.331234</td>\n      <td>-1.328305</td>\n      <td>0.0</td>\n      <td>1.0</td>\n      <td>1.0</td>\n      <td>1.0</td>\n      <td>...</td>\n      <td>-0.948469</td>\n      <td>-0.165307</td>\n      <td>-0.140069</td>\n      <td>-0.201868</td>\n      <td>0.655624</td>\n      <td>0.557864</td>\n      <td>-1.005913</td>\n      <td>-0.291031</td>\n      <td>-0.446993</td>\n      <td>-0.977502</td>\n    </tr>\n    <tr>\n      <th>2</th>\n      <td>14.0</td>\n      <td>13.0</td>\n      <td>1.0</td>\n      <td>0.189325</td>\n      <td>0.459596</td>\n      <td>-1.152186</td>\n      <td>0.0</td>\n      <td>1.0</td>\n      <td>1.0</td>\n      <td>1.0</td>\n      <td>...</td>\n      <td>-0.948469</td>\n      <td>-0.165307</td>\n      <td>-0.140069</td>\n      <td>-0.201868</td>\n      <td>0.743432</td>\n      <td>0.646752</td>\n      <td>-1.005913</td>\n      <td>1.741051</td>\n      <td>1.150673</td>\n      <td>-0.977502</td>\n    </tr>\n    <tr>\n      <th>3</th>\n      <td>36.0</td>\n      <td>35.0</td>\n      <td>1.0</td>\n      <td>0.913226</td>\n      <td>-1.445623</td>\n      <td>0.889752</td>\n      <td>0.0</td>\n      <td>1.0</td>\n      <td>1.0</td>\n      <td>1.0</td>\n      <td>...</td>\n      <td>-0.948469</td>\n      <td>-0.165307</td>\n      <td>-0.140069</td>\n      <td>-0.201868</td>\n      <td>5.407056</td>\n      <td>5.367767</td>\n      <td>-1.005913</td>\n      <td>1.828445</td>\n      <td>1.219384</td>\n      <td>-0.977502</td>\n    </tr>\n    <tr>\n      <th>4</th>\n      <td>43.0</td>\n      <td>42.0</td>\n      <td>1.0</td>\n      <td>0.381969</td>\n      <td>0.340539</td>\n      <td>-1.343747</td>\n      <td>0.0</td>\n      <td>1.0</td>\n      <td>1.0</td>\n      <td>1.0</td>\n      <td>...</td>\n      <td>-0.948469</td>\n      <td>-0.165307</td>\n      <td>-0.140069</td>\n      <td>-0.201868</td>\n      <td>0.256183</td>\n      <td>0.153507</td>\n      <td>-1.005913</td>\n      <td>-0.469211</td>\n      <td>-0.587081</td>\n      <td>-0.977502</td>\n    </tr>\n    <tr>\n      <th>...</th>\n      <td>...</td>\n      <td>...</td>\n      <td>...</td>\n      <td>...</td>\n      <td>...</td>\n      <td>...</td>\n      <td>...</td>\n      <td>...</td>\n      <td>...</td>\n      <td>...</td>\n      <td>...</td>\n      <td>...</td>\n      <td>...</td>\n      <td>...</td>\n      <td>...</td>\n      <td>...</td>\n      <td>...</td>\n      <td>...</td>\n      <td>...</td>\n      <td>...</td>\n      <td>...</td>\n    </tr>\n    <tr>\n      <th>13036</th>\n      <td>158.0</td>\n      <td>159.0</td>\n      <td>0.0</td>\n      <td>0.915896</td>\n      <td>-1.602360</td>\n      <td>1.042976</td>\n      <td>1.0</td>\n      <td>0.0</td>\n      <td>1.0</td>\n      <td>1.0</td>\n      <td>...</td>\n      <td>0.429174</td>\n      <td>-0.165307</td>\n      <td>-0.140069</td>\n      <td>-0.201868</td>\n      <td>0.634037</td>\n      <td>0.536011</td>\n      <td>-1.005913</td>\n      <td>1.711827</td>\n      <td>0.178340</td>\n      <td>0.159450</td>\n    </tr>\n    <tr>\n      <th>13037</th>\n      <td>158.0</td>\n      <td>162.0</td>\n      <td>0.0</td>\n      <td>-0.012194</td>\n      <td>0.630654</td>\n      <td>-0.791694</td>\n      <td>1.0</td>\n      <td>1.0</td>\n      <td>0.0</td>\n      <td>1.0</td>\n      <td>...</td>\n      <td>1.231540</td>\n      <td>-0.165307</td>\n      <td>-0.140069</td>\n      <td>-0.201868</td>\n      <td>0.257247</td>\n      <td>-1.074019</td>\n      <td>0.361705</td>\n      <td>1.123564</td>\n      <td>-0.837088</td>\n      <td>0.821633</td>\n    </tr>\n    <tr>\n      <th>13038</th>\n      <td>160.0</td>\n      <td>159.0</td>\n      <td>0.0</td>\n      <td>0.100335</td>\n      <td>0.406775</td>\n      <td>-1.116349</td>\n      <td>0.0</td>\n      <td>0.0</td>\n      <td>0.0</td>\n      <td>1.0</td>\n      <td>...</td>\n      <td>1.841233</td>\n      <td>-0.165307</td>\n      <td>-0.140069</td>\n      <td>-0.201868</td>\n      <td>2.483755</td>\n      <td>2.408492</td>\n      <td>-1.005913</td>\n      <td>4.599697</td>\n      <td>1.475771</td>\n      <td>1.324806</td>\n    </tr>\n    <tr>\n      <th>13039</th>\n      <td>160.0</td>\n      <td>162.0</td>\n      <td>0.0</td>\n      <td>-2.025581</td>\n      <td>0.883355</td>\n      <td>1.410430</td>\n      <td>0.0</td>\n      <td>1.0</td>\n      <td>1.0</td>\n      <td>1.0</td>\n      <td>...</td>\n      <td>1.362917</td>\n      <td>-0.165307</td>\n      <td>-0.140069</td>\n      <td>-0.201868</td>\n      <td>0.343295</td>\n      <td>-1.060953</td>\n      <td>0.444124</td>\n      <td>1.257907</td>\n      <td>-0.821999</td>\n      <td>0.930057</td>\n    </tr>\n    <tr>\n      <th>13040</th>\n      <td>159.0</td>\n      <td>162.0</td>\n      <td>0.0</td>\n      <td>-1.891096</td>\n      <td>0.922222</td>\n      <td>1.316911</td>\n      <td>0.0</td>\n      <td>1.0</td>\n      <td>1.0</td>\n      <td>1.0</td>\n      <td>...</td>\n      <td>0.217327</td>\n      <td>-0.165307</td>\n      <td>-0.140069</td>\n      <td>-0.201868</td>\n      <td>0.356530</td>\n      <td>-1.058943</td>\n      <td>0.456801</td>\n      <td>0.256759</td>\n      <td>-0.819678</td>\n      <td>-0.015384</td>\n    </tr>\n  </tbody>\n</table>\n<p>13041 rows × 24 columns</p>\n</div>"
     },
     "execution_count": 42,
     "metadata": {},
     "output_type": "execute_result"
    }
   ],
   "source": [
    "hainan_data[['referee_age', 'referral_age', 'age_diff', 'referee_degree_centrality', 'referral_degree_centrality',\n",
    "             'degree_centrality_diff', 'referee_betweenness_centrality',\n",
    "             'referral_betweenness_centrality', 'betweenness_centrality_diff',\n",
    "             'referee_pagerank_centrality', 'referral_pagerank_centrality',\n",
    "             'pagerank_centrality_diff', 'referee_component_size',\n",
    "             'referral_component_size', 'component_size_diff']] = normalize(hainan_data[['referee_age', 'referral_age', 'age_diff', 'referee_degree_centrality', 'referral_degree_centrality',\n",
    "                                                                                         'degree_centrality_diff', 'referee_betweenness_centrality',\n",
    "                                                                                         'referral_betweenness_centrality', 'betweenness_centrality_diff',\n",
    "                                                                                         'referee_pagerank_centrality', 'referral_pagerank_centrality',\n",
    "                                                                                         'pagerank_centrality_diff', 'referee_component_size',\n",
    "                                                                                         'referral_component_size', 'component_size_diff']])\n",
    "\n",
    "hainan_data[['referee_age', 'referral_age', 'age_diff', 'referee_degree_centrality', 'referral_degree_centrality',\n",
    "             'degree_centrality_diff', 'referee_betweenness_centrality',\n",
    "             'referral_betweenness_centrality', 'betweenness_centrality_diff',\n",
    "             'referee_pagerank_centrality', 'referral_pagerank_centrality',\n",
    "             'pagerank_centrality_diff', 'referee_component_size',\n",
    "             'referral_component_size', 'component_size_diff']] = scale(hainan_data[['referee_age', 'referral_age', 'age_diff', 'referee_degree_centrality', 'referral_degree_centrality',\n",
    "                                                                                     'degree_centrality_diff', 'referee_betweenness_centrality',\n",
    "                                                                                     'referral_betweenness_centrality', 'betweenness_centrality_diff',\n",
    "                                                                                     'referee_pagerank_centrality', 'referral_pagerank_centrality',\n",
    "                                                                                     'pagerank_centrality_diff', 'referee_component_size',\n",
    "                                                                                     'referral_component_size', 'component_size_diff']])\n",
    "hainan_data"
   ],
   "metadata": {
    "collapsed": false,
    "pycharm": {
     "name": "#%%\n"
    }
   }
  },
  {
   "cell_type": "code",
   "execution_count": 43,
   "outputs": [
    {
     "data": {
      "text/plain": "array([-0.00614373, -0.01120263,  0.00741489,  0.0058602 ,  0.00772179,\n        0.007496  ,  0.0871856 ,  0.08413633, -0.07812765,  0.16186753,\n        0.07832695, -0.07204061,  0.06893415,  0.01106648,  0.03157675,\n        0.09574911,  0.07687999, -0.07105161,  0.12982275,  0.0808674 ,\n       -0.09499119])"
     },
     "execution_count": 43,
     "metadata": {},
     "output_type": "execute_result"
    }
   ],
   "source": [
    "r_regression(hainan_data[hainan_data.columns[3:]], hainan_data['contact'])"
   ],
   "metadata": {
    "collapsed": false,
    "pycharm": {
     "name": "#%%\n"
    }
   }
  },
  {
   "cell_type": "code",
   "execution_count": 44,
   "outputs": [
    {
     "data": {
      "text/plain": "(array([  0.4921806 ,   1.63658725,   0.71693189,   0.44780005,\n          0.77751038,   0.73270189,  99.8728961 ,  92.96012754,\n         80.07793457, 350.82821091,  80.4895305 ,  68.02348356,\n         62.25608058,   1.59704358,  13.01404911, 120.64620456,\n         77.52565188,  66.15918386, 223.52588695,  85.83030683,\n        118.72646017]),\n array([4.82968721e-01, 2.00817120e-01, 3.97167692e-01, 5.03393377e-01,\n        3.77919892e-01, 3.92024531e-01, 1.97302275e-23, 6.31474686e-22,\n        4.08053745e-19, 2.88000389e-77, 3.31747061e-19, 1.76950761e-16,\n        3.25533112e-15, 2.06345275e-01, 3.10318752e-04, 6.05502239e-28,\n        1.47377945e-18, 4.53360128e-16, 4.00270813e-50, 2.26400167e-20,\n        1.57974423e-27]))"
     },
     "execution_count": 44,
     "metadata": {},
     "output_type": "execute_result"
    }
   ],
   "source": [
    "f_regression(hainan_data[hainan_data.columns[3:]], hainan_data['contact'])"
   ],
   "metadata": {
    "collapsed": false,
    "pycharm": {
     "name": "#%%\n"
    }
   }
  },
  {
   "cell_type": "markdown",
   "source": [
    "# Shanxi"
   ],
   "metadata": {
    "collapsed": false,
    "pycharm": {
     "name": "#%% md\n"
    }
   }
  },
  {
   "cell_type": "code",
   "execution_count": 2,
   "outputs": [],
   "source": [
    "shanxi_edgelist = pd.read_csv('../Data/Preprocessed/shanxi_edgelist.csv')\n",
    "shanxi_nodelist = pd.read_csv('../Data/Preprocessed/shanxi_nodelist.csv')\n",
    "shanxi_network = pd.read_csv('../Data/Tables/basic/shanxi_basic_analysis.csv')"
   ],
   "metadata": {
    "collapsed": false,
    "pycharm": {
     "name": "#%%\n"
    }
   }
  },
  {
   "cell_type": "code",
   "execution_count": 3,
   "outputs": [
    {
     "data": {
      "text/plain": "(array([1, 0], dtype=int64),\n array([0, 1], dtype=int64),\n array(['xianyang', 'xian', 'ankang', 'yanan', 'wuhan', 'dazhi',\n        'hanzhong', 'tongchuan', 'weinan', 'baoji', 'henan', 'shangluo',\n        'xiaogan', 'hancheng', 'yulin', 'lantian', 'shanghai', 'lingbao',\n        'tianmen', 'nanjing', 'yichang', 'suizhou', 'pingdingshan',\n        'yingcheng', 'yanglin'], dtype=object))"
     },
     "execution_count": 3,
     "metadata": {},
     "output_type": "execute_result"
    }
   ],
   "source": [
    "shanxi_nodelist['gender'].unique(), shanxi_nodelist['relatives'].unique(), shanxi_nodelist['hukou'].unique()"
   ],
   "metadata": {
    "collapsed": false,
    "pycharm": {
     "name": "#%%\n"
    }
   }
  },
  {
   "cell_type": "markdown",
   "source": [
    "No missing values to fill"
   ],
   "metadata": {
    "collapsed": false,
    "pycharm": {
     "name": "#%% md\n"
    }
   }
  },
  {
   "cell_type": "code",
   "execution_count": 4,
   "outputs": [
    {
     "data": {
      "text/plain": "     Unnamed: 0  node_id  age  gender     hukou  relatives  hukou_ints\n0             0        1   42       1  xianyang          0           0\n1             1        2   32       0      xian          0           1\n2             2        3   22       1      xian          0           1\n3             3        4   49       1    ankang          0           2\n4             4        5   23       1     yanan          0           3\n..          ...      ...  ...     ...       ...        ...         ...\n232         232      233   67       0    weinan          0           8\n233         233      234   46       1  hanzhong          0           6\n234         234      235   71       1  hanzhong          1           6\n235         235      236   66       0  hanzhong          1           6\n236         236      237   65       0  hanzhong          1           6\n\n[237 rows x 7 columns]",
      "text/html": "<div>\n<style scoped>\n    .dataframe tbody tr th:only-of-type {\n        vertical-align: middle;\n    }\n\n    .dataframe tbody tr th {\n        vertical-align: top;\n    }\n\n    .dataframe thead th {\n        text-align: right;\n    }\n</style>\n<table border=\"1\" class=\"dataframe\">\n  <thead>\n    <tr style=\"text-align: right;\">\n      <th></th>\n      <th>Unnamed: 0</th>\n      <th>node_id</th>\n      <th>age</th>\n      <th>gender</th>\n      <th>hukou</th>\n      <th>relatives</th>\n      <th>hukou_ints</th>\n    </tr>\n  </thead>\n  <tbody>\n    <tr>\n      <th>0</th>\n      <td>0</td>\n      <td>1</td>\n      <td>42</td>\n      <td>1</td>\n      <td>xianyang</td>\n      <td>0</td>\n      <td>0</td>\n    </tr>\n    <tr>\n      <th>1</th>\n      <td>1</td>\n      <td>2</td>\n      <td>32</td>\n      <td>0</td>\n      <td>xian</td>\n      <td>0</td>\n      <td>1</td>\n    </tr>\n    <tr>\n      <th>2</th>\n      <td>2</td>\n      <td>3</td>\n      <td>22</td>\n      <td>1</td>\n      <td>xian</td>\n      <td>0</td>\n      <td>1</td>\n    </tr>\n    <tr>\n      <th>3</th>\n      <td>3</td>\n      <td>4</td>\n      <td>49</td>\n      <td>1</td>\n      <td>ankang</td>\n      <td>0</td>\n      <td>2</td>\n    </tr>\n    <tr>\n      <th>4</th>\n      <td>4</td>\n      <td>5</td>\n      <td>23</td>\n      <td>1</td>\n      <td>yanan</td>\n      <td>0</td>\n      <td>3</td>\n    </tr>\n    <tr>\n      <th>...</th>\n      <td>...</td>\n      <td>...</td>\n      <td>...</td>\n      <td>...</td>\n      <td>...</td>\n      <td>...</td>\n      <td>...</td>\n    </tr>\n    <tr>\n      <th>232</th>\n      <td>232</td>\n      <td>233</td>\n      <td>67</td>\n      <td>0</td>\n      <td>weinan</td>\n      <td>0</td>\n      <td>8</td>\n    </tr>\n    <tr>\n      <th>233</th>\n      <td>233</td>\n      <td>234</td>\n      <td>46</td>\n      <td>1</td>\n      <td>hanzhong</td>\n      <td>0</td>\n      <td>6</td>\n    </tr>\n    <tr>\n      <th>234</th>\n      <td>234</td>\n      <td>235</td>\n      <td>71</td>\n      <td>1</td>\n      <td>hanzhong</td>\n      <td>1</td>\n      <td>6</td>\n    </tr>\n    <tr>\n      <th>235</th>\n      <td>235</td>\n      <td>236</td>\n      <td>66</td>\n      <td>0</td>\n      <td>hanzhong</td>\n      <td>1</td>\n      <td>6</td>\n    </tr>\n    <tr>\n      <th>236</th>\n      <td>236</td>\n      <td>237</td>\n      <td>65</td>\n      <td>0</td>\n      <td>hanzhong</td>\n      <td>1</td>\n      <td>6</td>\n    </tr>\n  </tbody>\n</table>\n<p>237 rows × 7 columns</p>\n</div>"
     },
     "execution_count": 4,
     "metadata": {},
     "output_type": "execute_result"
    }
   ],
   "source": [
    "shanxi_nodelist['hukou_ints'] = pd.factorize(shanxi_nodelist['hukou'])[0]\n",
    "shanxi_nodelist"
   ],
   "metadata": {
    "collapsed": false,
    "pycharm": {
     "name": "#%%\n"
    }
   }
  },
  {
   "cell_type": "code",
   "execution_count": 48,
   "outputs": [],
   "source": [
    "shanxi_dummies = pd.get_dummies(shanxi_nodelist)"
   ],
   "metadata": {
    "collapsed": false,
    "pycharm": {
     "name": "#%%\n"
    }
   }
  },
  {
   "cell_type": "code",
   "execution_count": 49,
   "outputs": [
    {
     "data": {
      "text/plain": "Index(['Unnamed: 0', 'node_id', 'age', 'gender', 'relatives', 'hukou_ints',\n       'hukou_ankang', 'hukou_baoji', 'hukou_dazhi', 'hukou_hancheng',\n       'hukou_hanzhong', 'hukou_henan', 'hukou_lantian', 'hukou_lingbao',\n       'hukou_nanjing', 'hukou_pingdingshan', 'hukou_shanghai',\n       'hukou_shangluo', 'hukou_suizhou', 'hukou_tianmen', 'hukou_tongchuan',\n       'hukou_weinan', 'hukou_wuhan', 'hukou_xian', 'hukou_xianyang',\n       'hukou_xiaogan', 'hukou_yanan', 'hukou_yanglin', 'hukou_yichang',\n       'hukou_yingcheng', 'hukou_yulin'],\n      dtype='object')"
     },
     "execution_count": 49,
     "metadata": {},
     "output_type": "execute_result"
    }
   ],
   "source": [
    "shanxi_dummies.columns"
   ],
   "metadata": {
    "collapsed": false,
    "pycharm": {
     "name": "#%%\n"
    }
   }
  },
  {
   "cell_type": "markdown",
   "source": [
    "Don't need to fill nans"
   ],
   "metadata": {
    "collapsed": false,
    "pycharm": {
     "name": "#%% md\n"
    }
   }
  },
  {
   "cell_type": "code",
   "execution_count": 5,
   "outputs": [],
   "source": [
    "shanxi_data = pd.DataFrame(columns=['referee', 'referral', 'contact', 'referee_age', 'referral_age', 'age_diff', 'referee_gender', 'referral_gender', 'gender_diff', 'referee_relatives', 'referral_relatives', 'relatives_diff',\n",
    "                                    'referee_hukou', 'referral_hukou', 'hukou_diff', 'referee_degree_centrality', 'referral_degree_centrality', 'degree_centrality_diff', 'referee_betweenness_centrality', 'referral_betweenness_centrality', 'betweenness_centrality_diff',\n",
    "                                    'referee_pagerank_centrality', 'referral_pagerank_centrality', 'pagerank_centrality_diff', 'referee_component_size', 'referral_component_size', 'component_size_diff'])\n",
    "\n",
    "referees_hukou = pd.DataFrame(columns=['hukou_ankang', 'hukou_baoji', 'hukou_dazhi', 'hukou_hancheng',\n",
    "                                       'hukou_hanzhong', 'hukou_henan', 'hukou_lantian', 'hukou_lingbao',\n",
    "                                       'hukou_nanjing', 'hukou_pingdingshan', 'hukou_shanghai',\n",
    "                                       'hukou_shangluo', 'hukou_suizhou', 'hukou_tianmen', 'hukou_tongchuan',\n",
    "                                       'hukou_weinan', 'hukou_wuhan', 'hukou_xian', 'hukou_xianyang',\n",
    "                                       'hukou_xiaogan', 'hukou_yanan', 'hukou_yanglin', 'hukou_yichang',\n",
    "                                       'hukou_yingcheng', 'hukou_yulin'])\n",
    "referrals_hukou = referees_hukou.copy()"
   ],
   "metadata": {
    "collapsed": false,
    "pycharm": {
     "name": "#%%\n"
    }
   }
  },
  {
   "cell_type": "code",
   "execution_count": 7,
   "outputs": [],
   "source": [
    "added_combinations = set()\n",
    "for index, row in shanxi_edgelist[~shanxi_edgelist['Referral'].isna()].iterrows():\n",
    "    \"\"\"\n",
    "    referee = shanxi_nodelist.loc[shanxi_nodelist['node_id'] == row['Referee']]\n",
    "    referral = shanxi_nodelist.loc[shanxi_nodelist['node_id'] == row['Referral']]\n",
    "    new_row = pd.Series({'referee': row['Referee'], 'referral': row['Referral'], 'contact': 1, 'referee_age': referee['age'].iloc[0], 'referral_age': referral['age'].iloc[0], 'age_diff': abs(referee['age'].iloc[0] - referral['age'].iloc[0]),\n",
    "                         'referee_gender': referee['gender'].iloc[0], 'referral_gender': referral['gender'].iloc[0], 'gender_diff': abs(referee['gender'].iloc[0] - referral['gender'].iloc[0]),\n",
    "                         'referee_relatives': referee['relatives'].iloc[0], 'referral_relatives': referral['relatives'].iloc[0], 'relatives_diff': abs(referee['relatives'].iloc[0] - referral['relatives'].iloc[0]),\n",
    "                         'hukou_diff': abs(referee['hukou_ints'].iloc[0] - referral['hukou_ints'].iloc[0])})\n",
    "\n",
    "    referee_dummies = shanxi_dummies.loc[shanxi_dummies['node_id'] == row['Referee']][shanxi_dummies.columns[6:]]\n",
    "    referral_dummies = shanxi_dummies.loc[shanxi_dummies['node_id'] == row['Referral']][shanxi_dummies.columns[6:]]\n",
    "\n",
    "    shanxi_data = pd.concat([shanxi_data, new_row.to_frame().T], axis='index', ignore_index=True)\n",
    "    shanxi_data['hukou_diff'] = shanxi_data['hukou_diff'].where(shanxi_data['hukou_diff'] == 0, 1)\n",
    "\n",
    "    referees_hukou = pd.concat([referees_hukou, referee_dummies], axis='index', ignore_index=True)\n",
    "    referrals_hukou = pd.concat([referrals_hukou, referral_dummies], axis='index', ignore_index=True)\n",
    "\n",
    "    added_combinations.add((referee['node_id'].iloc[0], referral['node_id'].iloc[0]))\n",
    "    added_combinations.add((referral['node_id'].iloc[0], referee['node_id'].iloc[0]))\n",
    "    \"\"\"\n",
    "    referee_id = row['Referee']\n",
    "    referral_id = row['Referral']\n",
    "    referee = shanxi_nodelist.query('node_id == @referee_id')\n",
    "    referral = shanxi_nodelist.query('node_id == @referral_id')\n",
    "    referee_network_stats = shanxi_network.query('Referee == @referee_id')\n",
    "    referral_network_stats = shanxi_network.query('Referee == @referral_id')\n",
    "\n",
    "    referee_age = referee['age'].iloc[0]\n",
    "    referral_age = referral['age'].iloc[0]\n",
    "    referee_gender = referee['gender'].iloc[0]\n",
    "    referral_gender = referral['gender'].iloc[0]\n",
    "    referee_relatives = referee['relatives'].iloc[0]\n",
    "    referral_relatives = referral['relatives'].iloc[0]\n",
    "    referee_hukou = referee['hukou_ints'].iloc[0]\n",
    "    referral_hukou = referral['hukou_ints'].iloc[0]\n",
    "\n",
    "    referee_degree_centrality = referee_network_stats['Degree_Centrality'].iloc[0]\n",
    "    referral_degree_centrality = referral_network_stats['Degree_Centrality'].iloc[0]\n",
    "    referee_betweenness_centrality = referee_network_stats['Betweenness_Centrality'].iloc[0]\n",
    "    referral_betweenness_centrality = referral_network_stats['Betweenness_Centrality'].iloc[0]\n",
    "    referee_pagerank_centrality = referee_network_stats['Pagerank_Centrality'].iloc[0]\n",
    "    referral_pagerank_centrality = referral_network_stats['Pagerank_Centrality'].iloc[0]\n",
    "    referee_component_size = referee_network_stats['Component_Size'].iloc[0]\n",
    "    referral_component_size = referral_network_stats['Component_Size'].iloc[0]\n",
    "\n",
    "    new_row = pd.Series({'referee': referee_id, 'referral': referral_id, 'contact': 1, 'referee_age': referee_age, 'referral_age': referral_age, 'age_diff': abs(referee_age - referral_age),\n",
    "                         'referee_gender': referee_gender, 'referral_gender': referral_gender, 'gender_diff': abs(referee_gender - referral_gender),\n",
    "                         'referee_relatives': referee_relatives, 'referral_relatives': referral_relatives, 'relatives_diff': abs(referee_relatives - referral_relatives),\n",
    "                         'referee_hukou': referee_hukou, 'referral_hukou': referral_hukou, 'hukou_diff': abs(referee_hukou - referral_hukou),\n",
    "                         'referee_degree_centrality': referee_degree_centrality, 'referral_degree_centrality': referral_degree_centrality, 'degree_centrality_diff': abs(referee_degree_centrality - referral_degree_centrality),\n",
    "                         'referee_betweenness_centrality': referee_betweenness_centrality, 'referral_betweenness_centrality': referral_betweenness_centrality, 'betweenness_centrality_diff': abs(referee_betweenness_centrality - referral_betweenness_centrality),\n",
    "                         'referee_pagerank_centrality': referee_pagerank_centrality, 'referral_pagerank_centrality': referral_pagerank_centrality, 'pagerank_centrality_diff': abs(referee_pagerank_centrality - referral_pagerank_centrality),\n",
    "                         'referee_component_size': referee_component_size, 'referral_component_size': referral_component_size, 'component_size_diff': abs(referee_component_size - referral_component_size)})\n",
    "    shanxi_data = pd.concat([shanxi_data, new_row.to_frame().T], axis='index', ignore_index=True)\n",
    "\n",
    "    added_combinations.add((referee_id, referral_id))\n",
    "    added_combinations.add((referral_id, referee_id))"
   ],
   "metadata": {
    "collapsed": false,
    "pycharm": {
     "name": "#%%\n"
    }
   }
  },
  {
   "cell_type": "code",
   "execution_count": 8,
   "outputs": [
    {
     "data": {
      "text/plain": "     referee  referral  contact  referee_age  referral_age  age_diff  \\\n0       11.0      10.0      1.0          9.0          45.0      36.0   \n1       11.0       9.0      1.0          9.0          46.0      37.0   \n2       10.0       9.0      1.0         45.0          46.0       1.0   \n3       22.0       2.0      1.0         33.0          32.0       1.0   \n4       20.0      19.0      1.0         52.0          70.0      18.0   \n..       ...       ...      ...          ...           ...       ...   \n120    235.0     234.0      1.0         71.0          46.0      25.0   \n121    236.0     234.0      1.0         66.0          46.0      20.0   \n122    236.0     235.0      1.0         66.0          71.0       5.0   \n123    237.0     234.0      1.0         65.0          46.0      19.0   \n124    237.0     236.0      1.0         65.0          66.0       1.0   \n\n     referee_gender  referral_gender  gender_diff  referee_relatives  ...  \\\n0               0.0              0.0          0.0                1.0  ...   \n1               0.0              1.0          1.0                1.0  ...   \n2               0.0              1.0          1.0                1.0  ...   \n3               1.0              0.0          1.0                0.0  ...   \n4               0.0              0.0          0.0                0.0  ...   \n..              ...              ...          ...                ...  ...   \n120             1.0              1.0          0.0                1.0  ...   \n121             0.0              1.0          1.0                1.0  ...   \n122             0.0              1.0          1.0                1.0  ...   \n123             0.0              1.0          1.0                1.0  ...   \n124             0.0              0.0          0.0                1.0  ...   \n\n     degree_centrality_diff  referee_betweenness_centrality  \\\n0                  0.000000                             0.0   \n1                  0.012712                             0.0   \n2                  0.012712                             0.0   \n3                  0.008475                             0.0   \n4                  0.012712                             0.0   \n..                      ...                             ...   \n120                0.000000                             0.0   \n121                0.000000                             0.0   \n122                0.000000                             0.0   \n123                0.000000                             0.0   \n124                0.000000                             0.0   \n\n     referral_betweenness_centrality  betweenness_centrality_diff  \\\n0                           0.000000                     0.000000   \n1                           0.000541                     0.000541   \n2                           0.000541                     0.000541   \n3                           0.000108                     0.000108   \n4                           0.000216                     0.000216   \n..                               ...                          ...   \n120                         0.000000                     0.000000   \n121                         0.000000                     0.000000   \n122                         0.000000                     0.000000   \n123                         0.000000                     0.000000   \n124                         0.000000                     0.000000   \n\n     referee_pagerank_centrality  referral_pagerank_centrality  \\\n0                       0.007450                      0.007450   \n1                       0.007450                      0.015512   \n2                       0.007450                      0.015512   \n3                       0.004612                      0.012776   \n4                       0.003142                      0.010087   \n..                           ...                           ...   \n120                     0.006653                      0.006653   \n121                     0.006653                      0.006653   \n122                     0.006653                      0.006653   \n123                     0.006653                      0.006653   \n124                     0.006653                      0.006653   \n\n     pagerank_centrality_diff  referee_component_size  \\\n0                    0.000000                     8.0   \n1                    0.008062                     8.0   \n2                    0.008062                     8.0   \n3                    0.008164                     4.0   \n4                    0.006946                     8.0   \n..                        ...                     ...   \n120                  0.000000                     4.0   \n121                  0.000000                     4.0   \n122                  0.000000                     4.0   \n123                  0.000000                     4.0   \n124                  0.000000                     4.0   \n\n     referral_component_size  component_size_diff  \n0                        8.0                  0.0  \n1                        8.0                  0.0  \n2                        8.0                  0.0  \n3                        4.0                  0.0  \n4                        8.0                  0.0  \n..                       ...                  ...  \n120                      4.0                  0.0  \n121                      4.0                  0.0  \n122                      4.0                  0.0  \n123                      4.0                  0.0  \n124                      4.0                  0.0  \n\n[125 rows x 27 columns]",
      "text/html": "<div>\n<style scoped>\n    .dataframe tbody tr th:only-of-type {\n        vertical-align: middle;\n    }\n\n    .dataframe tbody tr th {\n        vertical-align: top;\n    }\n\n    .dataframe thead th {\n        text-align: right;\n    }\n</style>\n<table border=\"1\" class=\"dataframe\">\n  <thead>\n    <tr style=\"text-align: right;\">\n      <th></th>\n      <th>referee</th>\n      <th>referral</th>\n      <th>contact</th>\n      <th>referee_age</th>\n      <th>referral_age</th>\n      <th>age_diff</th>\n      <th>referee_gender</th>\n      <th>referral_gender</th>\n      <th>gender_diff</th>\n      <th>referee_relatives</th>\n      <th>...</th>\n      <th>degree_centrality_diff</th>\n      <th>referee_betweenness_centrality</th>\n      <th>referral_betweenness_centrality</th>\n      <th>betweenness_centrality_diff</th>\n      <th>referee_pagerank_centrality</th>\n      <th>referral_pagerank_centrality</th>\n      <th>pagerank_centrality_diff</th>\n      <th>referee_component_size</th>\n      <th>referral_component_size</th>\n      <th>component_size_diff</th>\n    </tr>\n  </thead>\n  <tbody>\n    <tr>\n      <th>0</th>\n      <td>11.0</td>\n      <td>10.0</td>\n      <td>1.0</td>\n      <td>9.0</td>\n      <td>45.0</td>\n      <td>36.0</td>\n      <td>0.0</td>\n      <td>0.0</td>\n      <td>0.0</td>\n      <td>1.0</td>\n      <td>...</td>\n      <td>0.000000</td>\n      <td>0.0</td>\n      <td>0.000000</td>\n      <td>0.000000</td>\n      <td>0.007450</td>\n      <td>0.007450</td>\n      <td>0.000000</td>\n      <td>8.0</td>\n      <td>8.0</td>\n      <td>0.0</td>\n    </tr>\n    <tr>\n      <th>1</th>\n      <td>11.0</td>\n      <td>9.0</td>\n      <td>1.0</td>\n      <td>9.0</td>\n      <td>46.0</td>\n      <td>37.0</td>\n      <td>0.0</td>\n      <td>1.0</td>\n      <td>1.0</td>\n      <td>1.0</td>\n      <td>...</td>\n      <td>0.012712</td>\n      <td>0.0</td>\n      <td>0.000541</td>\n      <td>0.000541</td>\n      <td>0.007450</td>\n      <td>0.015512</td>\n      <td>0.008062</td>\n      <td>8.0</td>\n      <td>8.0</td>\n      <td>0.0</td>\n    </tr>\n    <tr>\n      <th>2</th>\n      <td>10.0</td>\n      <td>9.0</td>\n      <td>1.0</td>\n      <td>45.0</td>\n      <td>46.0</td>\n      <td>1.0</td>\n      <td>0.0</td>\n      <td>1.0</td>\n      <td>1.0</td>\n      <td>1.0</td>\n      <td>...</td>\n      <td>0.012712</td>\n      <td>0.0</td>\n      <td>0.000541</td>\n      <td>0.000541</td>\n      <td>0.007450</td>\n      <td>0.015512</td>\n      <td>0.008062</td>\n      <td>8.0</td>\n      <td>8.0</td>\n      <td>0.0</td>\n    </tr>\n    <tr>\n      <th>3</th>\n      <td>22.0</td>\n      <td>2.0</td>\n      <td>1.0</td>\n      <td>33.0</td>\n      <td>32.0</td>\n      <td>1.0</td>\n      <td>1.0</td>\n      <td>0.0</td>\n      <td>1.0</td>\n      <td>0.0</td>\n      <td>...</td>\n      <td>0.008475</td>\n      <td>0.0</td>\n      <td>0.000108</td>\n      <td>0.000108</td>\n      <td>0.004612</td>\n      <td>0.012776</td>\n      <td>0.008164</td>\n      <td>4.0</td>\n      <td>4.0</td>\n      <td>0.0</td>\n    </tr>\n    <tr>\n      <th>4</th>\n      <td>20.0</td>\n      <td>19.0</td>\n      <td>1.0</td>\n      <td>52.0</td>\n      <td>70.0</td>\n      <td>18.0</td>\n      <td>0.0</td>\n      <td>0.0</td>\n      <td>0.0</td>\n      <td>0.0</td>\n      <td>...</td>\n      <td>0.012712</td>\n      <td>0.0</td>\n      <td>0.000216</td>\n      <td>0.000216</td>\n      <td>0.003142</td>\n      <td>0.010087</td>\n      <td>0.006946</td>\n      <td>8.0</td>\n      <td>8.0</td>\n      <td>0.0</td>\n    </tr>\n    <tr>\n      <th>...</th>\n      <td>...</td>\n      <td>...</td>\n      <td>...</td>\n      <td>...</td>\n      <td>...</td>\n      <td>...</td>\n      <td>...</td>\n      <td>...</td>\n      <td>...</td>\n      <td>...</td>\n      <td>...</td>\n      <td>...</td>\n      <td>...</td>\n      <td>...</td>\n      <td>...</td>\n      <td>...</td>\n      <td>...</td>\n      <td>...</td>\n      <td>...</td>\n      <td>...</td>\n      <td>...</td>\n    </tr>\n    <tr>\n      <th>120</th>\n      <td>235.0</td>\n      <td>234.0</td>\n      <td>1.0</td>\n      <td>71.0</td>\n      <td>46.0</td>\n      <td>25.0</td>\n      <td>1.0</td>\n      <td>1.0</td>\n      <td>0.0</td>\n      <td>1.0</td>\n      <td>...</td>\n      <td>0.000000</td>\n      <td>0.0</td>\n      <td>0.000000</td>\n      <td>0.000000</td>\n      <td>0.006653</td>\n      <td>0.006653</td>\n      <td>0.000000</td>\n      <td>4.0</td>\n      <td>4.0</td>\n      <td>0.0</td>\n    </tr>\n    <tr>\n      <th>121</th>\n      <td>236.0</td>\n      <td>234.0</td>\n      <td>1.0</td>\n      <td>66.0</td>\n      <td>46.0</td>\n      <td>20.0</td>\n      <td>0.0</td>\n      <td>1.0</td>\n      <td>1.0</td>\n      <td>1.0</td>\n      <td>...</td>\n      <td>0.000000</td>\n      <td>0.0</td>\n      <td>0.000000</td>\n      <td>0.000000</td>\n      <td>0.006653</td>\n      <td>0.006653</td>\n      <td>0.000000</td>\n      <td>4.0</td>\n      <td>4.0</td>\n      <td>0.0</td>\n    </tr>\n    <tr>\n      <th>122</th>\n      <td>236.0</td>\n      <td>235.0</td>\n      <td>1.0</td>\n      <td>66.0</td>\n      <td>71.0</td>\n      <td>5.0</td>\n      <td>0.0</td>\n      <td>1.0</td>\n      <td>1.0</td>\n      <td>1.0</td>\n      <td>...</td>\n      <td>0.000000</td>\n      <td>0.0</td>\n      <td>0.000000</td>\n      <td>0.000000</td>\n      <td>0.006653</td>\n      <td>0.006653</td>\n      <td>0.000000</td>\n      <td>4.0</td>\n      <td>4.0</td>\n      <td>0.0</td>\n    </tr>\n    <tr>\n      <th>123</th>\n      <td>237.0</td>\n      <td>234.0</td>\n      <td>1.0</td>\n      <td>65.0</td>\n      <td>46.0</td>\n      <td>19.0</td>\n      <td>0.0</td>\n      <td>1.0</td>\n      <td>1.0</td>\n      <td>1.0</td>\n      <td>...</td>\n      <td>0.000000</td>\n      <td>0.0</td>\n      <td>0.000000</td>\n      <td>0.000000</td>\n      <td>0.006653</td>\n      <td>0.006653</td>\n      <td>0.000000</td>\n      <td>4.0</td>\n      <td>4.0</td>\n      <td>0.0</td>\n    </tr>\n    <tr>\n      <th>124</th>\n      <td>237.0</td>\n      <td>236.0</td>\n      <td>1.0</td>\n      <td>65.0</td>\n      <td>66.0</td>\n      <td>1.0</td>\n      <td>0.0</td>\n      <td>0.0</td>\n      <td>0.0</td>\n      <td>1.0</td>\n      <td>...</td>\n      <td>0.000000</td>\n      <td>0.0</td>\n      <td>0.000000</td>\n      <td>0.000000</td>\n      <td>0.006653</td>\n      <td>0.006653</td>\n      <td>0.000000</td>\n      <td>4.0</td>\n      <td>4.0</td>\n      <td>0.0</td>\n    </tr>\n  </tbody>\n</table>\n<p>125 rows × 27 columns</p>\n</div>"
     },
     "execution_count": 8,
     "metadata": {},
     "output_type": "execute_result"
    }
   ],
   "source": [
    "shanxi_data"
   ],
   "metadata": {
    "collapsed": false,
    "pycharm": {
     "name": "#%%\n"
    }
   }
  },
  {
   "cell_type": "code",
   "execution_count": 9,
   "outputs": [],
   "source": [
    "for ref_a in shanxi_nodelist['node_id']:\n",
    "    for ref_b in shanxi_nodelist['node_id']:\n",
    "        if ref_a == ref_b:\n",
    "            continue\n",
    "        if (ref_a, ref_b) in added_combinations:\n",
    "            continue\n",
    "        if (ref_b, ref_a) in added_combinations:\n",
    "            continue\n",
    "\n",
    "        \"\"\"\n",
    "        referee = shanxi_nodelist.loc[shanxi_nodelist['node_id'] == ref_a]\n",
    "        referral = shanxi_nodelist.loc[shanxi_nodelist['node_id'] == ref_b]\n",
    "\n",
    "        new_row = pd.Series({'referee': ref_a, 'referral': ref_b, 'contact': 0, 'referee_age': referee['age'].iloc[0], 'referral_age': referral['age'].iloc[0], 'age_diff': abs(referee['age'].iloc[0] - referral['age'].iloc[0]),\n",
    "                             'referee_gender': referee['gender'].iloc[0], 'referral_gender': referral['gender'].iloc[0], 'gender_diff': abs(referee['gender'].iloc[0] - referral['gender'].iloc[0]),\n",
    "                             'referee_relatives': referee['relatives'].iloc[0], 'referral_relatives': referral['relatives'].iloc[0], 'relatives_diff': abs(referee['relatives'].iloc[0] - referral['relatives'].iloc[0]),\n",
    "                             'hukou_diff': abs(referee['hukou_ints'].iloc[0] - referral['hukou_ints'].iloc[0])})\n",
    "        referee_dummies = shanxi_dummies.loc[shanxi_dummies['node_id'] == ref_a][shanxi_dummies.columns[6:]]\n",
    "        referral_dummies = shanxi_dummies.loc[shanxi_dummies['node_id'] == ref_b][shanxi_dummies.columns[6:]]\n",
    "\n",
    "        shanxi_data = pd.concat([shanxi_data, new_row.to_frame().T], axis='index', ignore_index=True)\n",
    "        shanxi_data['hukou_diff'] = shanxi_data['hukou_diff'].where(shanxi_data['hukou_diff'] == 0, 1)\n",
    "\n",
    "        referees_hukou = pd.concat([referees_hukou, referee_dummies], axis='index', ignore_index=True)\n",
    "        referrals_hukou = pd.concat([referrals_hukou, referral_dummies], axis='index', ignore_index=True)\n",
    "        \"\"\"\n",
    "        referee = shanxi_nodelist.query('node_id == @ref_a')\n",
    "        referral = shanxi_nodelist.query('node_id == @ref_b')\n",
    "        referee_network_stats = shanxi_network.query('Referee == @ref_a')\n",
    "        referral_network_stats = shanxi_network.query('Referee == @ref_b')\n",
    "\n",
    "        referee_age = referee['age'].iloc[0]\n",
    "        referral_age = referral['age'].iloc[0]\n",
    "        referee_gender = referee['gender'].iloc[0]\n",
    "        referral_gender = referral['gender'].iloc[0]\n",
    "        referee_relatives = referee['relatives'].iloc[0]\n",
    "        referral_relatives = referral['relatives'].iloc[0]\n",
    "        referee_hukou = referee['hukou_ints'].iloc[0]\n",
    "        referral_hukou = referral['hukou_ints'].iloc[0]\n",
    "\n",
    "        referee_degree_centrality = referee_network_stats['Degree_Centrality'].iloc[0]\n",
    "        referral_degree_centrality = referral_network_stats['Degree_Centrality'].iloc[0]\n",
    "        referee_betweenness_centrality = referee_network_stats['Betweenness_Centrality'].iloc[0]\n",
    "        referral_betweenness_centrality = referral_network_stats['Betweenness_Centrality'].iloc[0]\n",
    "        referee_pagerank_centrality = referee_network_stats['Pagerank_Centrality'].iloc[0]\n",
    "        referral_pagerank_centrality = referral_network_stats['Pagerank_Centrality'].iloc[0]\n",
    "        referee_component_size = referee_network_stats['Component_Size'].iloc[0]\n",
    "        referral_component_size = referral_network_stats['Component_Size'].iloc[0]\n",
    "\n",
    "        new_row = pd.Series({'referee': ref_a, 'referral': ref_b, 'contact': 0, 'referee_age': referee_age, 'referral_age': referral_age, 'age_diff': abs(referee_age - referral_age),\n",
    "                             'referee_gender': referee_gender, 'referral_gender': referral_gender, 'gender_diff': abs(referee_gender - referral_gender),\n",
    "                             'referee_relatives': referee_relatives, 'referral_relatives': referral_relatives, 'relatives_diff': abs(referee_relatives - referral_relatives),\n",
    "                             'referee_hukou': referee_hukou, 'referral_hukou': referral_hukou, 'hukou_diff': abs(referee_hukou - referral_hukou),\n",
    "                             'referee_degree_centrality': referee_degree_centrality, 'referral_degree_centrality': referral_degree_centrality, 'degree_centrality_diff': abs(referee_degree_centrality - referral_degree_centrality),\n",
    "                             'referee_betweenness_centrality': referee_betweenness_centrality, 'referral_betweenness_centrality': referral_betweenness_centrality, 'betweenness_centrality_diff': abs(referee_betweenness_centrality - referral_betweenness_centrality),\n",
    "                             'referee_pagerank_centrality': referee_pagerank_centrality, 'referral_pagerank_centrality': referral_pagerank_centrality, 'pagerank_centrality_diff': abs(referee_pagerank_centrality - referral_pagerank_centrality),\n",
    "                             'referee_component_size': referee_component_size, 'referral_component_size': referral_component_size, 'component_size_diff': abs(referee_component_size - referral_component_size)})\n",
    "        shanxi_data = pd.concat([shanxi_data, new_row.to_frame().T], axis='index', ignore_index=True)\n",
    "\n",
    "        added_combinations.add((ref_a, ref_b))\n",
    "        added_combinations.add((ref_b, ref_a))\n"
   ],
   "metadata": {
    "collapsed": false,
    "pycharm": {
     "name": "#%%\n"
    }
   }
  },
  {
   "cell_type": "code",
   "execution_count": 10,
   "outputs": [],
   "source": [
    "#shanxi_data = shanxi_data.join(referees_hukou)\n",
    "#shanxi_data = shanxi_data.join(referrals_hukou, lsuffix='_referee', rsuffix='_referral')\n",
    "shanxi_data['hukou_diff'] = shanxi_data['hukou_diff'].where(shanxi_data['hukou_diff'] == 0, 1)"
   ],
   "metadata": {
    "collapsed": false,
    "pycharm": {
     "name": "#%%\n"
    }
   }
  },
  {
   "cell_type": "code",
   "execution_count": 11,
   "outputs": [
    {
     "data": {
      "text/plain": "       referee  referral  contact  referee_age  referral_age  age_diff  \\\n0         11.0      10.0      1.0          9.0          45.0      36.0   \n1         11.0       9.0      1.0          9.0          46.0      37.0   \n2         10.0       9.0      1.0         45.0          46.0       1.0   \n3         22.0       2.0      1.0         33.0          32.0       1.0   \n4         20.0      19.0      1.0         52.0          70.0      18.0   \n...        ...       ...      ...          ...           ...       ...   \n27967    232.0     237.0      0.0         46.0          65.0      19.0   \n27968    233.0     234.0      0.0         67.0          46.0      21.0   \n27969    233.0     235.0      0.0         67.0          71.0       4.0   \n27970    233.0     236.0      0.0         67.0          66.0       1.0   \n27971    233.0     237.0      0.0         67.0          65.0       2.0   \n\n       referee_gender  referral_gender  gender_diff  referee_relatives  ...  \\\n0                 0.0              0.0          0.0                1.0  ...   \n1                 0.0              1.0          1.0                1.0  ...   \n2                 0.0              1.0          1.0                1.0  ...   \n3                 1.0              0.0          1.0                0.0  ...   \n4                 0.0              0.0          0.0                0.0  ...   \n...               ...              ...          ...                ...  ...   \n27967             0.0              0.0          0.0                0.0  ...   \n27968             0.0              1.0          1.0                0.0  ...   \n27969             0.0              1.0          1.0                0.0  ...   \n27970             0.0              0.0          0.0                0.0  ...   \n27971             0.0              0.0          0.0                0.0  ...   \n\n       degree_centrality_diff  referee_betweenness_centrality  \\\n0                    0.000000                             0.0   \n1                    0.012712                             0.0   \n2                    0.012712                             0.0   \n3                    0.008475                             0.0   \n4                    0.012712                             0.0   \n...                       ...                             ...   \n27967                0.012712                             0.0   \n27968                0.012712                             0.0   \n27969                0.012712                             0.0   \n27970                0.012712                             0.0   \n27971                0.012712                             0.0   \n\n       referral_betweenness_centrality  betweenness_centrality_diff  \\\n0                             0.000000                     0.000000   \n1                             0.000541                     0.000541   \n2                             0.000541                     0.000541   \n3                             0.000108                     0.000108   \n4                             0.000216                     0.000216   \n...                                ...                          ...   \n27967                         0.000000                     0.000000   \n27968                         0.000000                     0.000000   \n27969                         0.000000                     0.000000   \n27970                         0.000000                     0.000000   \n27971                         0.000000                     0.000000   \n\n       referee_pagerank_centrality  referral_pagerank_centrality  \\\n0                         0.007450                      0.007450   \n1                         0.007450                      0.015512   \n2                         0.007450                      0.015512   \n3                         0.004612                      0.012776   \n4                         0.003142                      0.010087   \n...                            ...                           ...   \n27967                     0.000998                      0.006653   \n27968                     0.000998                      0.006653   \n27969                     0.000998                      0.006653   \n27970                     0.000998                      0.006653   \n27971                     0.000998                      0.006653   \n\n       pagerank_centrality_diff  referee_component_size  \\\n0                      0.000000                     8.0   \n1                      0.008062                     8.0   \n2                      0.008062                     8.0   \n3                      0.008164                     4.0   \n4                      0.006946                     8.0   \n...                         ...                     ...   \n27967                  0.005655                     1.0   \n27968                  0.005655                     1.0   \n27969                  0.005655                     1.0   \n27970                  0.005655                     1.0   \n27971                  0.005655                     1.0   \n\n       referral_component_size  component_size_diff  \n0                          8.0                  0.0  \n1                          8.0                  0.0  \n2                          8.0                  0.0  \n3                          4.0                  0.0  \n4                          8.0                  0.0  \n...                        ...                  ...  \n27967                      4.0                  3.0  \n27968                      4.0                  3.0  \n27969                      4.0                  3.0  \n27970                      4.0                  3.0  \n27971                      4.0                  3.0  \n\n[27972 rows x 27 columns]",
      "text/html": "<div>\n<style scoped>\n    .dataframe tbody tr th:only-of-type {\n        vertical-align: middle;\n    }\n\n    .dataframe tbody tr th {\n        vertical-align: top;\n    }\n\n    .dataframe thead th {\n        text-align: right;\n    }\n</style>\n<table border=\"1\" class=\"dataframe\">\n  <thead>\n    <tr style=\"text-align: right;\">\n      <th></th>\n      <th>referee</th>\n      <th>referral</th>\n      <th>contact</th>\n      <th>referee_age</th>\n      <th>referral_age</th>\n      <th>age_diff</th>\n      <th>referee_gender</th>\n      <th>referral_gender</th>\n      <th>gender_diff</th>\n      <th>referee_relatives</th>\n      <th>...</th>\n      <th>degree_centrality_diff</th>\n      <th>referee_betweenness_centrality</th>\n      <th>referral_betweenness_centrality</th>\n      <th>betweenness_centrality_diff</th>\n      <th>referee_pagerank_centrality</th>\n      <th>referral_pagerank_centrality</th>\n      <th>pagerank_centrality_diff</th>\n      <th>referee_component_size</th>\n      <th>referral_component_size</th>\n      <th>component_size_diff</th>\n    </tr>\n  </thead>\n  <tbody>\n    <tr>\n      <th>0</th>\n      <td>11.0</td>\n      <td>10.0</td>\n      <td>1.0</td>\n      <td>9.0</td>\n      <td>45.0</td>\n      <td>36.0</td>\n      <td>0.0</td>\n      <td>0.0</td>\n      <td>0.0</td>\n      <td>1.0</td>\n      <td>...</td>\n      <td>0.000000</td>\n      <td>0.0</td>\n      <td>0.000000</td>\n      <td>0.000000</td>\n      <td>0.007450</td>\n      <td>0.007450</td>\n      <td>0.000000</td>\n      <td>8.0</td>\n      <td>8.0</td>\n      <td>0.0</td>\n    </tr>\n    <tr>\n      <th>1</th>\n      <td>11.0</td>\n      <td>9.0</td>\n      <td>1.0</td>\n      <td>9.0</td>\n      <td>46.0</td>\n      <td>37.0</td>\n      <td>0.0</td>\n      <td>1.0</td>\n      <td>1.0</td>\n      <td>1.0</td>\n      <td>...</td>\n      <td>0.012712</td>\n      <td>0.0</td>\n      <td>0.000541</td>\n      <td>0.000541</td>\n      <td>0.007450</td>\n      <td>0.015512</td>\n      <td>0.008062</td>\n      <td>8.0</td>\n      <td>8.0</td>\n      <td>0.0</td>\n    </tr>\n    <tr>\n      <th>2</th>\n      <td>10.0</td>\n      <td>9.0</td>\n      <td>1.0</td>\n      <td>45.0</td>\n      <td>46.0</td>\n      <td>1.0</td>\n      <td>0.0</td>\n      <td>1.0</td>\n      <td>1.0</td>\n      <td>1.0</td>\n      <td>...</td>\n      <td>0.012712</td>\n      <td>0.0</td>\n      <td>0.000541</td>\n      <td>0.000541</td>\n      <td>0.007450</td>\n      <td>0.015512</td>\n      <td>0.008062</td>\n      <td>8.0</td>\n      <td>8.0</td>\n      <td>0.0</td>\n    </tr>\n    <tr>\n      <th>3</th>\n      <td>22.0</td>\n      <td>2.0</td>\n      <td>1.0</td>\n      <td>33.0</td>\n      <td>32.0</td>\n      <td>1.0</td>\n      <td>1.0</td>\n      <td>0.0</td>\n      <td>1.0</td>\n      <td>0.0</td>\n      <td>...</td>\n      <td>0.008475</td>\n      <td>0.0</td>\n      <td>0.000108</td>\n      <td>0.000108</td>\n      <td>0.004612</td>\n      <td>0.012776</td>\n      <td>0.008164</td>\n      <td>4.0</td>\n      <td>4.0</td>\n      <td>0.0</td>\n    </tr>\n    <tr>\n      <th>4</th>\n      <td>20.0</td>\n      <td>19.0</td>\n      <td>1.0</td>\n      <td>52.0</td>\n      <td>70.0</td>\n      <td>18.0</td>\n      <td>0.0</td>\n      <td>0.0</td>\n      <td>0.0</td>\n      <td>0.0</td>\n      <td>...</td>\n      <td>0.012712</td>\n      <td>0.0</td>\n      <td>0.000216</td>\n      <td>0.000216</td>\n      <td>0.003142</td>\n      <td>0.010087</td>\n      <td>0.006946</td>\n      <td>8.0</td>\n      <td>8.0</td>\n      <td>0.0</td>\n    </tr>\n    <tr>\n      <th>...</th>\n      <td>...</td>\n      <td>...</td>\n      <td>...</td>\n      <td>...</td>\n      <td>...</td>\n      <td>...</td>\n      <td>...</td>\n      <td>...</td>\n      <td>...</td>\n      <td>...</td>\n      <td>...</td>\n      <td>...</td>\n      <td>...</td>\n      <td>...</td>\n      <td>...</td>\n      <td>...</td>\n      <td>...</td>\n      <td>...</td>\n      <td>...</td>\n      <td>...</td>\n      <td>...</td>\n    </tr>\n    <tr>\n      <th>27967</th>\n      <td>232.0</td>\n      <td>237.0</td>\n      <td>0.0</td>\n      <td>46.0</td>\n      <td>65.0</td>\n      <td>19.0</td>\n      <td>0.0</td>\n      <td>0.0</td>\n      <td>0.0</td>\n      <td>0.0</td>\n      <td>...</td>\n      <td>0.012712</td>\n      <td>0.0</td>\n      <td>0.000000</td>\n      <td>0.000000</td>\n      <td>0.000998</td>\n      <td>0.006653</td>\n      <td>0.005655</td>\n      <td>1.0</td>\n      <td>4.0</td>\n      <td>3.0</td>\n    </tr>\n    <tr>\n      <th>27968</th>\n      <td>233.0</td>\n      <td>234.0</td>\n      <td>0.0</td>\n      <td>67.0</td>\n      <td>46.0</td>\n      <td>21.0</td>\n      <td>0.0</td>\n      <td>1.0</td>\n      <td>1.0</td>\n      <td>0.0</td>\n      <td>...</td>\n      <td>0.012712</td>\n      <td>0.0</td>\n      <td>0.000000</td>\n      <td>0.000000</td>\n      <td>0.000998</td>\n      <td>0.006653</td>\n      <td>0.005655</td>\n      <td>1.0</td>\n      <td>4.0</td>\n      <td>3.0</td>\n    </tr>\n    <tr>\n      <th>27969</th>\n      <td>233.0</td>\n      <td>235.0</td>\n      <td>0.0</td>\n      <td>67.0</td>\n      <td>71.0</td>\n      <td>4.0</td>\n      <td>0.0</td>\n      <td>1.0</td>\n      <td>1.0</td>\n      <td>0.0</td>\n      <td>...</td>\n      <td>0.012712</td>\n      <td>0.0</td>\n      <td>0.000000</td>\n      <td>0.000000</td>\n      <td>0.000998</td>\n      <td>0.006653</td>\n      <td>0.005655</td>\n      <td>1.0</td>\n      <td>4.0</td>\n      <td>3.0</td>\n    </tr>\n    <tr>\n      <th>27970</th>\n      <td>233.0</td>\n      <td>236.0</td>\n      <td>0.0</td>\n      <td>67.0</td>\n      <td>66.0</td>\n      <td>1.0</td>\n      <td>0.0</td>\n      <td>0.0</td>\n      <td>0.0</td>\n      <td>0.0</td>\n      <td>...</td>\n      <td>0.012712</td>\n      <td>0.0</td>\n      <td>0.000000</td>\n      <td>0.000000</td>\n      <td>0.000998</td>\n      <td>0.006653</td>\n      <td>0.005655</td>\n      <td>1.0</td>\n      <td>4.0</td>\n      <td>3.0</td>\n    </tr>\n    <tr>\n      <th>27971</th>\n      <td>233.0</td>\n      <td>237.0</td>\n      <td>0.0</td>\n      <td>67.0</td>\n      <td>65.0</td>\n      <td>2.0</td>\n      <td>0.0</td>\n      <td>0.0</td>\n      <td>0.0</td>\n      <td>0.0</td>\n      <td>...</td>\n      <td>0.012712</td>\n      <td>0.0</td>\n      <td>0.000000</td>\n      <td>0.000000</td>\n      <td>0.000998</td>\n      <td>0.006653</td>\n      <td>0.005655</td>\n      <td>1.0</td>\n      <td>4.0</td>\n      <td>3.0</td>\n    </tr>\n  </tbody>\n</table>\n<p>27972 rows × 27 columns</p>\n</div>"
     },
     "execution_count": 11,
     "metadata": {},
     "output_type": "execute_result"
    }
   ],
   "source": [
    "shanxi_data"
   ],
   "metadata": {
    "collapsed": false,
    "pycharm": {
     "name": "#%%\n"
    }
   }
  },
  {
   "cell_type": "code",
   "execution_count": 13,
   "outputs": [
    {
     "data": {
      "text/plain": "       referee  referral  contact  referee_age  referral_age  age_diff  \\\n0         11.0      10.0      1.0    -2.564772      0.458266  2.027137   \n1         11.0       9.0      1.0    -2.584027      0.454640  2.043845   \n2         10.0       9.0      1.0     0.476704      0.106205 -1.435078   \n3         22.0       2.0      1.0     0.610947      0.019382 -1.398245   \n4         20.0      19.0      1.0    -0.142136      0.606472 -0.349182   \n...        ...       ...      ...          ...           ...       ...   \n27967    232.0     237.0      0.0    -0.247137      0.689131 -0.166914   \n27968    233.0     234.0      0.0     1.088579     -0.927678 -0.060936   \n27969    233.0     235.0      0.0     0.454992      0.249454 -1.285120   \n27970    233.0     236.0      0.0     0.605054      0.084787 -1.462551   \n27971    233.0     237.0      0.0     0.634425      0.048003 -1.399408   \n\n       referee_gender  referral_gender  gender_diff  referee_relatives  ...  \\\n0                 0.0              0.0          0.0                1.0  ...   \n1                 0.0              1.0          1.0                1.0  ...   \n2                 0.0              1.0          1.0                1.0  ...   \n3                 1.0              0.0          1.0                0.0  ...   \n4                 0.0              0.0          0.0                0.0  ...   \n...               ...              ...          ...                ...  ...   \n27967             0.0              0.0          0.0                0.0  ...   \n27968             0.0              1.0          1.0                0.0  ...   \n27969             0.0              1.0          1.0                0.0  ...   \n27970             0.0              0.0          0.0                0.0  ...   \n27971             0.0              0.0          0.0                0.0  ...   \n\n       degree_centrality_diff  referee_betweenness_centrality  \\\n0                   -0.803756                         -0.1903   \n1                    1.362364                         -0.1903   \n2                    1.210975                         -0.1903   \n3                    1.090876                         -0.1903   \n4                    0.663045                         -0.1903   \n...                       ...                             ...   \n27967                0.801292                         -0.1903   \n27968                0.761769                         -0.1903   \n27969                0.541887                         -0.1903   \n27970                0.593964                         -0.1903   \n27971                0.604158                         -0.1903   \n\n       referral_betweenness_centrality  betweenness_centrality_diff  \\\n0                            -0.114410                    -0.217595   \n1                             9.589142                     3.857281   \n2                             8.910965                     3.572490   \n3                             2.431801                     0.851652   \n4                             2.513918                     0.886136   \n...                                ...                          ...   \n27967                        -0.114410                    -0.217595   \n27968                        -0.114410                    -0.217595   \n27969                        -0.114410                    -0.217595   \n27970                        -0.114410                    -0.217595   \n27971                        -0.114410                    -0.217595   \n\n       referee_pagerank_centrality  referral_pagerank_centrality  \\\n0                         1.096269                      1.323232   \n1                         1.048491                      4.024155   \n2                         0.903095                      3.653076   \n3                         0.657964                      4.452361   \n4                        -0.437826                      1.052755   \n...                            ...                           ...   \n27967                    -0.825382                      0.402140   \n27968                    -0.830467                      0.360586   \n27969                    -0.858757                      0.129410   \n27970                    -0.852057                      0.184163   \n27971                    -0.850745                      0.194879   \n\n       pagerank_centrality_diff  referee_component_size  \\\n0                     -0.975878                1.914651   \n1                      1.479956                1.849997   \n2                      1.308319                1.653242   \n3                      2.287056                0.881558   \n4                      0.456904                0.941118   \n...                         ...                     ...   \n27967                  0.300654               -0.704477   \n27968                  0.269220               -0.710898   \n27969                  0.094343               -0.746620   \n27970                  0.135762               -0.738159   \n27971                  0.143869               -0.736503   \n\n       referral_component_size  component_size_diff  \n0                     2.610474            -0.815370  \n1                     2.528125            -0.815370  \n2                     2.277520            -0.815370  \n3                     1.294634            -0.815370  \n4                     1.370495            -0.815370  \n...                        ...                  ...  \n27967                 0.270872            -0.011454  \n27968                 0.238159            -0.031250  \n27969                 0.056166            -0.141382  \n27970                 0.099270            -0.115298  \n27971                 0.107707            -0.110192  \n\n[27972 rows x 27 columns]",
      "text/html": "<div>\n<style scoped>\n    .dataframe tbody tr th:only-of-type {\n        vertical-align: middle;\n    }\n\n    .dataframe tbody tr th {\n        vertical-align: top;\n    }\n\n    .dataframe thead th {\n        text-align: right;\n    }\n</style>\n<table border=\"1\" class=\"dataframe\">\n  <thead>\n    <tr style=\"text-align: right;\">\n      <th></th>\n      <th>referee</th>\n      <th>referral</th>\n      <th>contact</th>\n      <th>referee_age</th>\n      <th>referral_age</th>\n      <th>age_diff</th>\n      <th>referee_gender</th>\n      <th>referral_gender</th>\n      <th>gender_diff</th>\n      <th>referee_relatives</th>\n      <th>...</th>\n      <th>degree_centrality_diff</th>\n      <th>referee_betweenness_centrality</th>\n      <th>referral_betweenness_centrality</th>\n      <th>betweenness_centrality_diff</th>\n      <th>referee_pagerank_centrality</th>\n      <th>referral_pagerank_centrality</th>\n      <th>pagerank_centrality_diff</th>\n      <th>referee_component_size</th>\n      <th>referral_component_size</th>\n      <th>component_size_diff</th>\n    </tr>\n  </thead>\n  <tbody>\n    <tr>\n      <th>0</th>\n      <td>11.0</td>\n      <td>10.0</td>\n      <td>1.0</td>\n      <td>-2.564772</td>\n      <td>0.458266</td>\n      <td>2.027137</td>\n      <td>0.0</td>\n      <td>0.0</td>\n      <td>0.0</td>\n      <td>1.0</td>\n      <td>...</td>\n      <td>-0.803756</td>\n      <td>-0.1903</td>\n      <td>-0.114410</td>\n      <td>-0.217595</td>\n      <td>1.096269</td>\n      <td>1.323232</td>\n      <td>-0.975878</td>\n      <td>1.914651</td>\n      <td>2.610474</td>\n      <td>-0.815370</td>\n    </tr>\n    <tr>\n      <th>1</th>\n      <td>11.0</td>\n      <td>9.0</td>\n      <td>1.0</td>\n      <td>-2.584027</td>\n      <td>0.454640</td>\n      <td>2.043845</td>\n      <td>0.0</td>\n      <td>1.0</td>\n      <td>1.0</td>\n      <td>1.0</td>\n      <td>...</td>\n      <td>1.362364</td>\n      <td>-0.1903</td>\n      <td>9.589142</td>\n      <td>3.857281</td>\n      <td>1.048491</td>\n      <td>4.024155</td>\n      <td>1.479956</td>\n      <td>1.849997</td>\n      <td>2.528125</td>\n      <td>-0.815370</td>\n    </tr>\n    <tr>\n      <th>2</th>\n      <td>10.0</td>\n      <td>9.0</td>\n      <td>1.0</td>\n      <td>0.476704</td>\n      <td>0.106205</td>\n      <td>-1.435078</td>\n      <td>0.0</td>\n      <td>1.0</td>\n      <td>1.0</td>\n      <td>1.0</td>\n      <td>...</td>\n      <td>1.210975</td>\n      <td>-0.1903</td>\n      <td>8.910965</td>\n      <td>3.572490</td>\n      <td>0.903095</td>\n      <td>3.653076</td>\n      <td>1.308319</td>\n      <td>1.653242</td>\n      <td>2.277520</td>\n      <td>-0.815370</td>\n    </tr>\n    <tr>\n      <th>3</th>\n      <td>22.0</td>\n      <td>2.0</td>\n      <td>1.0</td>\n      <td>0.610947</td>\n      <td>0.019382</td>\n      <td>-1.398245</td>\n      <td>1.0</td>\n      <td>0.0</td>\n      <td>1.0</td>\n      <td>0.0</td>\n      <td>...</td>\n      <td>1.090876</td>\n      <td>-0.1903</td>\n      <td>2.431801</td>\n      <td>0.851652</td>\n      <td>0.657964</td>\n      <td>4.452361</td>\n      <td>2.287056</td>\n      <td>0.881558</td>\n      <td>1.294634</td>\n      <td>-0.815370</td>\n    </tr>\n    <tr>\n      <th>4</th>\n      <td>20.0</td>\n      <td>19.0</td>\n      <td>1.0</td>\n      <td>-0.142136</td>\n      <td>0.606472</td>\n      <td>-0.349182</td>\n      <td>0.0</td>\n      <td>0.0</td>\n      <td>0.0</td>\n      <td>0.0</td>\n      <td>...</td>\n      <td>0.663045</td>\n      <td>-0.1903</td>\n      <td>2.513918</td>\n      <td>0.886136</td>\n      <td>-0.437826</td>\n      <td>1.052755</td>\n      <td>0.456904</td>\n      <td>0.941118</td>\n      <td>1.370495</td>\n      <td>-0.815370</td>\n    </tr>\n    <tr>\n      <th>...</th>\n      <td>...</td>\n      <td>...</td>\n      <td>...</td>\n      <td>...</td>\n      <td>...</td>\n      <td>...</td>\n      <td>...</td>\n      <td>...</td>\n      <td>...</td>\n      <td>...</td>\n      <td>...</td>\n      <td>...</td>\n      <td>...</td>\n      <td>...</td>\n      <td>...</td>\n      <td>...</td>\n      <td>...</td>\n      <td>...</td>\n      <td>...</td>\n      <td>...</td>\n      <td>...</td>\n    </tr>\n    <tr>\n      <th>27967</th>\n      <td>232.0</td>\n      <td>237.0</td>\n      <td>0.0</td>\n      <td>-0.247137</td>\n      <td>0.689131</td>\n      <td>-0.166914</td>\n      <td>0.0</td>\n      <td>0.0</td>\n      <td>0.0</td>\n      <td>0.0</td>\n      <td>...</td>\n      <td>0.801292</td>\n      <td>-0.1903</td>\n      <td>-0.114410</td>\n      <td>-0.217595</td>\n      <td>-0.825382</td>\n      <td>0.402140</td>\n      <td>0.300654</td>\n      <td>-0.704477</td>\n      <td>0.270872</td>\n      <td>-0.011454</td>\n    </tr>\n    <tr>\n      <th>27968</th>\n      <td>233.0</td>\n      <td>234.0</td>\n      <td>0.0</td>\n      <td>1.088579</td>\n      <td>-0.927678</td>\n      <td>-0.060936</td>\n      <td>0.0</td>\n      <td>1.0</td>\n      <td>1.0</td>\n      <td>0.0</td>\n      <td>...</td>\n      <td>0.761769</td>\n      <td>-0.1903</td>\n      <td>-0.114410</td>\n      <td>-0.217595</td>\n      <td>-0.830467</td>\n      <td>0.360586</td>\n      <td>0.269220</td>\n      <td>-0.710898</td>\n      <td>0.238159</td>\n      <td>-0.031250</td>\n    </tr>\n    <tr>\n      <th>27969</th>\n      <td>233.0</td>\n      <td>235.0</td>\n      <td>0.0</td>\n      <td>0.454992</td>\n      <td>0.249454</td>\n      <td>-1.285120</td>\n      <td>0.0</td>\n      <td>1.0</td>\n      <td>1.0</td>\n      <td>0.0</td>\n      <td>...</td>\n      <td>0.541887</td>\n      <td>-0.1903</td>\n      <td>-0.114410</td>\n      <td>-0.217595</td>\n      <td>-0.858757</td>\n      <td>0.129410</td>\n      <td>0.094343</td>\n      <td>-0.746620</td>\n      <td>0.056166</td>\n      <td>-0.141382</td>\n    </tr>\n    <tr>\n      <th>27970</th>\n      <td>233.0</td>\n      <td>236.0</td>\n      <td>0.0</td>\n      <td>0.605054</td>\n      <td>0.084787</td>\n      <td>-1.462551</td>\n      <td>0.0</td>\n      <td>0.0</td>\n      <td>0.0</td>\n      <td>0.0</td>\n      <td>...</td>\n      <td>0.593964</td>\n      <td>-0.1903</td>\n      <td>-0.114410</td>\n      <td>-0.217595</td>\n      <td>-0.852057</td>\n      <td>0.184163</td>\n      <td>0.135762</td>\n      <td>-0.738159</td>\n      <td>0.099270</td>\n      <td>-0.115298</td>\n    </tr>\n    <tr>\n      <th>27971</th>\n      <td>233.0</td>\n      <td>237.0</td>\n      <td>0.0</td>\n      <td>0.634425</td>\n      <td>0.048003</td>\n      <td>-1.399408</td>\n      <td>0.0</td>\n      <td>0.0</td>\n      <td>0.0</td>\n      <td>0.0</td>\n      <td>...</td>\n      <td>0.604158</td>\n      <td>-0.1903</td>\n      <td>-0.114410</td>\n      <td>-0.217595</td>\n      <td>-0.850745</td>\n      <td>0.194879</td>\n      <td>0.143869</td>\n      <td>-0.736503</td>\n      <td>0.107707</td>\n      <td>-0.110192</td>\n    </tr>\n  </tbody>\n</table>\n<p>27972 rows × 27 columns</p>\n</div>"
     },
     "execution_count": 13,
     "metadata": {},
     "output_type": "execute_result"
    }
   ],
   "source": [
    "shanxi_data[['referee_age', 'referral_age', 'age_diff', 'referee_degree_centrality', 'referral_degree_centrality',\n",
    "             'degree_centrality_diff', 'referee_betweenness_centrality',\n",
    "             'referral_betweenness_centrality', 'betweenness_centrality_diff',\n",
    "             'referee_pagerank_centrality', 'referral_pagerank_centrality',\n",
    "             'pagerank_centrality_diff', 'referee_component_size',\n",
    "             'referral_component_size', 'component_size_diff']] = normalize(shanxi_data[['referee_age', 'referral_age', 'age_diff', 'referee_degree_centrality', 'referral_degree_centrality',\n",
    "                                                                                         'degree_centrality_diff', 'referee_betweenness_centrality',\n",
    "                                                                                         'referral_betweenness_centrality', 'betweenness_centrality_diff',\n",
    "                                                                                         'referee_pagerank_centrality', 'referral_pagerank_centrality',\n",
    "                                                                                         'pagerank_centrality_diff', 'referee_component_size',\n",
    "                                                                                         'referral_component_size', 'component_size_diff']])\n",
    "shanxi_data[['referee_age', 'referral_age', 'age_diff', 'referee_degree_centrality', 'referral_degree_centrality',\n",
    "             'degree_centrality_diff', 'referee_betweenness_centrality',\n",
    "             'referral_betweenness_centrality', 'betweenness_centrality_diff',\n",
    "             'referee_pagerank_centrality', 'referral_pagerank_centrality',\n",
    "             'pagerank_centrality_diff', 'referee_component_size',\n",
    "             'referral_component_size', 'component_size_diff']] = scale(shanxi_data[['referee_age', 'referral_age', 'age_diff', 'referee_degree_centrality', 'referral_degree_centrality',\n",
    "                                                                                         'degree_centrality_diff', 'referee_betweenness_centrality',\n",
    "                                                                                         'referral_betweenness_centrality', 'betweenness_centrality_diff',\n",
    "                                                                                         'referee_pagerank_centrality', 'referral_pagerank_centrality',\n",
    "                                                                                         'pagerank_centrality_diff', 'referee_component_size',\n",
    "                                                                                         'referral_component_size', 'component_size_diff']])\n",
    "shanxi_data"
   ],
   "metadata": {
    "collapsed": false,
    "pycharm": {
     "name": "#%%\n"
    }
   }
  },
  {
   "cell_type": "code",
   "execution_count": 14,
   "outputs": [
    {
     "data": {
      "text/plain": "array([ 0.01450487, -0.01756589, -0.01055913, -0.01539246,  0.00552877,\n        0.01150495,  0.05974816,  0.02571722, -0.00035044,  0.00788541,\n        0.01891385, -0.09406561,  0.03384481,  0.14420642,  0.02752034,\n       -0.00160701,  0.21003348,  0.08112133,  0.02974129,  0.11684756,\n        0.01862876,  0.04094681,  0.0636641 , -0.05462866])"
     },
     "execution_count": 14,
     "metadata": {},
     "output_type": "execute_result"
    }
   ],
   "source": [
    "r_regression(shanxi_data[shanxi_data.columns[3:]], shanxi_data['contact'])"
   ],
   "metadata": {
    "collapsed": false,
    "pycharm": {
     "name": "#%%\n"
    }
   }
  },
  {
   "cell_type": "code",
   "execution_count": 15,
   "outputs": [
    {
     "data": {
      "text/plain": "(array([5.88588400e+00, 8.63309898e+00, 3.11887093e+00, 6.62843994e+00,\n        8.54992530e-01, 3.70270591e+00, 1.00206212e+02, 1.85109144e+01,\n        3.43501594e-03, 1.73927197e+00, 1.00093878e+01, 2.49697442e+02,\n        3.20755617e+01, 5.94002489e+02, 2.11996723e+01, 7.22321195e-02,\n        1.29081331e+03, 1.85280628e+02, 2.47626058e+01, 3.87170464e+02,\n        9.70981631e+00, 4.69744061e+01, 1.13827072e+02, 8.37204591e+01]),\n array([1.52690138e-002, 3.30378981e-003, 7.74012973e-002, 1.00414063e-002,\n        3.55151778e-001, 5.43344351e-002, 1.50458858e-023, 1.69507094e-005,\n        9.53263954e-001, 1.87241897e-001, 1.55910923e-003, 5.28348334e-056,\n        1.49744656e-008, 7.64599317e-130, 4.15654911e-006, 7.88116098e-001,\n        2.16220984e-276, 4.64126800e-042, 6.52278945e-007, 1.29845554e-085,\n        1.83471789e-003, 7.34117189e-012, 1.59913336e-026, 6.07597237e-020]))"
     },
     "execution_count": 15,
     "metadata": {},
     "output_type": "execute_result"
    }
   ],
   "source": [
    "f_regression(shanxi_data[shanxi_data.columns[3:]], shanxi_data['contact'])"
   ],
   "metadata": {
    "collapsed": false,
    "pycharm": {
     "name": "#%%\n"
    }
   }
  },
  {
   "cell_type": "markdown",
   "source": [
    "# Bucharest"
   ],
   "metadata": {
    "collapsed": false,
    "pycharm": {
     "name": "#%% md\n"
    }
   }
  },
  {
   "cell_type": "code",
   "execution_count": 2,
   "outputs": [],
   "source": [
    "bucharest_nodelist = pd.read_csv('../Data/Preprocessed/bucharest_nodelist.csv')\n",
    "bucharest_edgelist = pd.read_csv('../Data/Preprocessed/bucharest_edgelist.csv')\n",
    "bucharest_network = pd.read_csv('../Data/Tables/basic/bucharest_basic_analysis.csv')"
   ],
   "metadata": {
    "collapsed": false,
    "pycharm": {
     "name": "#%%\n"
    }
   }
  },
  {
   "cell_type": "code",
   "execution_count": 3,
   "outputs": [],
   "source": [
    "bucharest_nodelist['medical_ints'] = pd.factorize(bucharest_nodelist['medical'])[0]\n",
    "bucharest_nodelist['isco08_code_ints'] = pd.factorize(bucharest_nodelist['isco08_code'])[0]"
   ],
   "metadata": {
    "collapsed": false,
    "pycharm": {
     "name": "#%%\n"
    }
   }
  },
  {
   "cell_type": "code",
   "execution_count": 4,
   "outputs": [
    {
     "data": {
      "text/plain": "       Unnamed: 0   node_id   age  gender medical isco08_code  \\\n0               0    179373  65.0       1     NAP         NAP   \n1               1  1S179373  63.0     NaN     NaN         NaN   \n2               2    146179  40.0       1      No         EMP   \n3               3    235990  32.0     2.0     NaN         NaN   \n4               4  3S146179   3.0     NaN     NAC         NAC   \n...           ...       ...   ...     ...     ...         ...   \n57830       57830        19  32.0    male     NaN         NaN   \n57831       57831        18  30.0  female     NaN         NaN   \n57832       57832        16  60.0    male     NaN         NaN   \n57833       57833        14  42.0  female     NaN         NaN   \n57834       57834        12  49.0    male     NaN         NaN   \n\n                   isco08_label  medical_ints  isco08_code_ints  \n0        Not Active - pensioner             0                 0  \n1                           NaN            -1                -1  \n2      Employee - unknown group             1                 1  \n3                           NaN            -1                -1  \n4            Not Active - Child             2                 2  \n...                         ...           ...               ...  \n57830                       NaN            -1                -1  \n57831                       NaN            -1                -1  \n57832                       NaN            -1                -1  \n57833                       NaN            -1                -1  \n57834                       NaN            -1                -1  \n\n[57835 rows x 9 columns]",
      "text/html": "<div>\n<style scoped>\n    .dataframe tbody tr th:only-of-type {\n        vertical-align: middle;\n    }\n\n    .dataframe tbody tr th {\n        vertical-align: top;\n    }\n\n    .dataframe thead th {\n        text-align: right;\n    }\n</style>\n<table border=\"1\" class=\"dataframe\">\n  <thead>\n    <tr style=\"text-align: right;\">\n      <th></th>\n      <th>Unnamed: 0</th>\n      <th>node_id</th>\n      <th>age</th>\n      <th>gender</th>\n      <th>medical</th>\n      <th>isco08_code</th>\n      <th>isco08_label</th>\n      <th>medical_ints</th>\n      <th>isco08_code_ints</th>\n    </tr>\n  </thead>\n  <tbody>\n    <tr>\n      <th>0</th>\n      <td>0</td>\n      <td>179373</td>\n      <td>65.0</td>\n      <td>1</td>\n      <td>NAP</td>\n      <td>NAP</td>\n      <td>Not Active - pensioner</td>\n      <td>0</td>\n      <td>0</td>\n    </tr>\n    <tr>\n      <th>1</th>\n      <td>1</td>\n      <td>1S179373</td>\n      <td>63.0</td>\n      <td>NaN</td>\n      <td>NaN</td>\n      <td>NaN</td>\n      <td>NaN</td>\n      <td>-1</td>\n      <td>-1</td>\n    </tr>\n    <tr>\n      <th>2</th>\n      <td>2</td>\n      <td>146179</td>\n      <td>40.0</td>\n      <td>1</td>\n      <td>No</td>\n      <td>EMP</td>\n      <td>Employee - unknown group</td>\n      <td>1</td>\n      <td>1</td>\n    </tr>\n    <tr>\n      <th>3</th>\n      <td>3</td>\n      <td>235990</td>\n      <td>32.0</td>\n      <td>2.0</td>\n      <td>NaN</td>\n      <td>NaN</td>\n      <td>NaN</td>\n      <td>-1</td>\n      <td>-1</td>\n    </tr>\n    <tr>\n      <th>4</th>\n      <td>4</td>\n      <td>3S146179</td>\n      <td>3.0</td>\n      <td>NaN</td>\n      <td>NAC</td>\n      <td>NAC</td>\n      <td>Not Active - Child</td>\n      <td>2</td>\n      <td>2</td>\n    </tr>\n    <tr>\n      <th>...</th>\n      <td>...</td>\n      <td>...</td>\n      <td>...</td>\n      <td>...</td>\n      <td>...</td>\n      <td>...</td>\n      <td>...</td>\n      <td>...</td>\n      <td>...</td>\n    </tr>\n    <tr>\n      <th>57830</th>\n      <td>57830</td>\n      <td>19</td>\n      <td>32.0</td>\n      <td>male</td>\n      <td>NaN</td>\n      <td>NaN</td>\n      <td>NaN</td>\n      <td>-1</td>\n      <td>-1</td>\n    </tr>\n    <tr>\n      <th>57831</th>\n      <td>57831</td>\n      <td>18</td>\n      <td>30.0</td>\n      <td>female</td>\n      <td>NaN</td>\n      <td>NaN</td>\n      <td>NaN</td>\n      <td>-1</td>\n      <td>-1</td>\n    </tr>\n    <tr>\n      <th>57832</th>\n      <td>57832</td>\n      <td>16</td>\n      <td>60.0</td>\n      <td>male</td>\n      <td>NaN</td>\n      <td>NaN</td>\n      <td>NaN</td>\n      <td>-1</td>\n      <td>-1</td>\n    </tr>\n    <tr>\n      <th>57833</th>\n      <td>57833</td>\n      <td>14</td>\n      <td>42.0</td>\n      <td>female</td>\n      <td>NaN</td>\n      <td>NaN</td>\n      <td>NaN</td>\n      <td>-1</td>\n      <td>-1</td>\n    </tr>\n    <tr>\n      <th>57834</th>\n      <td>57834</td>\n      <td>12</td>\n      <td>49.0</td>\n      <td>male</td>\n      <td>NaN</td>\n      <td>NaN</td>\n      <td>NaN</td>\n      <td>-1</td>\n      <td>-1</td>\n    </tr>\n  </tbody>\n</table>\n<p>57835 rows × 9 columns</p>\n</div>"
     },
     "execution_count": 4,
     "metadata": {},
     "output_type": "execute_result"
    }
   ],
   "source": [
    "bucharest_nodelist"
   ],
   "metadata": {
    "collapsed": false,
    "pycharm": {
     "name": "#%%\n"
    }
   }
  },
  {
   "cell_type": "code",
   "execution_count": 5,
   "outputs": [
    {
     "data": {
      "text/plain": "array(['1', nan, '2.0', '2', '1.0', 'male', 'female'], dtype=object)"
     },
     "execution_count": 5,
     "metadata": {},
     "output_type": "execute_result"
    }
   ],
   "source": [
    "bucharest_nodelist['gender'].unique()"
   ],
   "metadata": {
    "collapsed": false,
    "pycharm": {
     "name": "#%%\n"
    }
   }
  },
  {
   "cell_type": "code",
   "execution_count": 6,
   "outputs": [
    {
     "name": "stderr",
     "output_type": "stream",
     "text": [
      "C:\\Users\\simon\\AppData\\Local\\Temp\\ipykernel_7104\\618193415.py:4: SettingWithCopyWarning: \n",
      "A value is trying to be set on a copy of a slice from a DataFrame\n",
      "\n",
      "See the caveats in the documentation: https://pandas.pydata.org/pandas-docs/stable/user_guide/indexing.html#returning-a-view-versus-a-copy\n",
      "  bucharest_nodelist['gender'][~bucharest_nodelist['gender'].isnull()] = bucharest_nodelist['gender'][~bucharest_nodelist['gender'].isnull()].apply(lambda x: float(x))\n"
     ]
    }
   ],
   "source": [
    "bucharest_nodelist['age'] = bucharest_nodelist['age'].fillna(value=int(bucharest_nodelist['age'].mean()))\n",
    "bucharest_nodelist['gender'] = bucharest_nodelist['gender'].where(bucharest_nodelist['gender'] != 'male', 1)\n",
    "bucharest_nodelist['gender'] = bucharest_nodelist['gender'].where(bucharest_nodelist['gender'] != 'female', 2)\n",
    "bucharest_nodelist['gender'][~bucharest_nodelist['gender'].isnull()] = bucharest_nodelist['gender'][~bucharest_nodelist['gender'].isnull()].apply(lambda x: float(x))\n",
    "bucharest_nodelist['gender'] = bucharest_nodelist['gender'].astype('Int64', errors='ignore')\n",
    "bucharest_nodelist['gender'] = bucharest_nodelist['gender'].where(bucharest_nodelist['gender'] != 0, np.nan)\n",
    "#bucharest_nodelist['gender'] = bucharest_nodelist['gender'].mask(bucharest_nodelist['gender'].isnull(), np.random.randint(0, 2, size=bucharest_nodelist.shape[0]))"
   ],
   "metadata": {
    "collapsed": false,
    "pycharm": {
     "name": "#%%\n"
    }
   }
  },
  {
   "cell_type": "code",
   "execution_count": 31,
   "outputs": [],
   "source": [
    "bucharest_data = pd.DataFrame(columns=['referee', 'referral', 'contact', 'referee_age', 'referral_age', 'age_diff', 'referee_gender', 'referral_gender', 'gender_diff', 'referee_medical', 'referral_medical', 'medical_diff',\n",
    "                                    'referee_isco08_label', 'referral_isco08_label', 'isco08_label_diff', 'referee_degree_centrality', 'referral_degree_centrality', 'degree_centrality_diff', 'referee_betweenness_centrality', 'referral_betweenness_centrality', 'betweenness_centrality_diff',\n",
    "                                    'referee_pagerank_centrality', 'referral_pagerank_centrality', 'pagerank_centrality_diff', 'referee_component_size', 'referral_component_size', 'component_size_diff'])"
   ],
   "metadata": {
    "collapsed": false,
    "pycharm": {
     "name": "#%%\n"
    }
   }
  },
  {
   "cell_type": "code",
   "execution_count": 32,
   "outputs": [],
   "source": [
    "added_combinations = set()\n",
    "for index, row in bucharest_edgelist[~bucharest_edgelist['Referral'].isna()].iterrows():\n",
    "    referee_id = row['Referee']\n",
    "    referral_id = row['Referral']\n",
    "    referee = bucharest_nodelist.query('node_id == @referee_id')\n",
    "    referral = bucharest_nodelist.query('node_id == @referral_id')\n",
    "    referee_network_stats = bucharest_network.query('Referee == @referee_id')\n",
    "    referral_network_stats = bucharest_network.query('Referee == @referral_id')\n",
    "\n",
    "    referee_age = referee['age'].iloc[0]\n",
    "    referral_age = referral['age'].iloc[0]\n",
    "    referee_gender = referee['gender'].iloc[0]\n",
    "    referral_gender = referral['gender'].iloc[0]\n",
    "    referee_medical = referee['medical_ints'].iloc[0]\n",
    "    referral_medical = referral['medical_ints'].iloc[0]\n",
    "    referee_isco08_label = referee['isco08_code_ints'].iloc[0]\n",
    "    referral_isco08_label = referral['isco08_code_ints'].iloc[0]\n",
    "\n",
    "    referee_degree_centrality = referee_network_stats['Degree_Centrality'].iloc[0]\n",
    "    referral_degree_centrality = referral_network_stats['Degree_Centrality'].iloc[0]\n",
    "    referee_betweenness_centrality = referee_network_stats['Betweenness_Centrality'].iloc[0]\n",
    "    referral_betweenness_centrality = referral_network_stats['Betweenness_Centrality'].iloc[0]\n",
    "    referee_pagerank_centrality = referee_network_stats['Pagerank_Centrality'].iloc[0]\n",
    "    referral_pagerank_centrality = referral_network_stats['Pagerank_Centrality'].iloc[0]\n",
    "    referee_component_size = referee_network_stats['Component_Size'].iloc[0]\n",
    "    referral_component_size = referral_network_stats['Component_Size'].iloc[0]\n",
    "\n",
    "    new_row = pd.Series({'referee': referee_id, 'referral': referral_id, 'contact': 1, 'referee_age': referee_age, 'referral_age': referral_age, 'age_diff': abs(referee_age - referral_age),\n",
    "                         'referee_gender': referee_gender, 'referral_gender': referral_gender, 'gender_diff': abs(referee_gender - referral_gender),\n",
    "                         'referee_medical': referee_medical, 'referral_medical': referral_medical, 'medical_diff': abs(referee_medical - referral_medical),\n",
    "                         'referee_isco08_label': referee_isco08_label, 'referral_isco08_label': referral_isco08_label, 'isco08_label_diff': abs(referee_isco08_label - referral_isco08_label),\n",
    "                         'referee_degree_centrality': referee_degree_centrality, 'referral_degree_centrality': referral_degree_centrality, 'degree_centrality_diff': abs(referee_degree_centrality - referral_degree_centrality),\n",
    "                         'referee_betweenness_centrality': referee_betweenness_centrality, 'referral_betweenness_centrality': referral_betweenness_centrality, 'betweenness_centrality_diff': abs(referee_betweenness_centrality - referral_betweenness_centrality),\n",
    "                         'referee_pagerank_centrality': referee_pagerank_centrality, 'referral_pagerank_centrality': referral_pagerank_centrality, 'pagerank_centrality_diff': abs(referee_pagerank_centrality - referral_pagerank_centrality),\n",
    "                         'referee_component_size': referee_component_size, 'referral_component_size': referral_component_size, 'component_size_diff': abs(referee_component_size - referral_component_size)})\n",
    "    bucharest_data = pd.concat([bucharest_data, new_row.to_frame().T], axis='index', ignore_index=True)\n",
    "\n",
    "    added_combinations.add((referee_id, referral_id))\n",
    "    added_combinations.add((referral_id, referee_id))"
   ],
   "metadata": {
    "collapsed": false,
    "pycharm": {
     "name": "#%%\n"
    }
   }
  },
  {
   "cell_type": "code",
   "execution_count": 19,
   "outputs": [
    {
     "data": {
      "text/plain": "array(['10678', '1240S135972', '64904', '37094', '192597', '309273',\n       '35502', '166657', '235478', '26785', '121325', '302894', '113898',\n       '176239', '125757', '142503', '230357', '251894', '32876',\n       '152220', '244868', '191845', '154113', '123997', '262911',\n       '164958', '61172', '157907', '170039', '8309S126602', '64336',\n       '275271', '307748', '76161', '214746', '214933', '270799',\n       '164630', '98427', '133183', '133136', '93340', '305', '247259',\n       '3389S126108', '35344', '296708', '33935', '149377', '62162',\n       '224606', '93035', '266495', '8659S179417', '266586', '124673',\n       '265304', '247186', '11381', '271698', '312489', '191289',\n       '232846', '10458S216629', '295747', '83762', '164417', '214937',\n       '162552', '307039', '49179', '222865', '7511S213625', '251256',\n       '264405', '93993', '168920', '303025', '9404S111064', '128523',\n       '112263', '1203S150706', '9068S112099', '1642S76388', '90404',\n       '316768', '1687S74173', '219740', '13343S223502', '310087',\n       '196522', '101432', '233068', '296295', '170082', '122086',\n       '434S206054', '93391', '135437', '131301', '256596', '223251',\n       '102684', '143688', '104712', '22802', '2629S131851', '209585',\n       '29029', '109548', '80270', '6631S173771', '60132', '161898',\n       '13460S136657', '136794', '225900', '72394', '19452', '95454',\n       '10108S75492', '3652S201077', '37795', '20318', '14123S124020',\n       '291873', '251211', '131343', '25292', '140534', '137010', '98377',\n       '284880', '12745S131367', '99962', '151251', '284414', '147042',\n       '192430', '9166S75647', '14432S157423', '128880', '224211',\n       '320601', '263123', '191215', '203441', '55S241953', '430S181880',\n       '135465'], dtype=object)"
     },
     "execution_count": 19,
     "metadata": {},
     "output_type": "execute_result"
    }
   ],
   "source": [
    "sample = np.random.choice(bucharest_nodelist['node_id'], size=150, replace=False)\n",
    "sample"
   ],
   "metadata": {
    "collapsed": false,
    "pycharm": {
     "name": "#%%\n"
    }
   }
  },
  {
   "cell_type": "code",
   "execution_count": 33,
   "outputs": [
    {
     "data": {
      "text/plain": "  0%|          | 0/150 [00:00<?, ?it/s]",
      "application/vnd.jupyter.widget-view+json": {
       "version_major": 2,
       "version_minor": 0,
       "model_id": "e540c05b500648958ac96c1b3bfb07f8"
      }
     },
     "metadata": {},
     "output_type": "display_data"
    }
   ],
   "source": [
    "for ref_a in tqdm(sample):\n",
    "    for ref_b in sample:\n",
    "        if ref_a == ref_b:\n",
    "            continue\n",
    "        if (ref_a, ref_b) in added_combinations:\n",
    "            continue\n",
    "        if (ref_b, ref_a) in added_combinations:\n",
    "            continue\n",
    "\n",
    "        referee = bucharest_nodelist.query('node_id == @ref_a')\n",
    "        referral = bucharest_nodelist.query('node_id == @ref_b')\n",
    "        referee_network_stats = bucharest_network.query('Referee == @ref_a')\n",
    "        referral_network_stats = bucharest_network.query('Referee == @ref_b')\n",
    "\n",
    "        referee_age = referee['age'].iloc[0]\n",
    "        referral_age = referral['age'].iloc[0]\n",
    "        referee_gender = referee['gender'].iloc[0]\n",
    "        referral_gender = referral['gender'].iloc[0]\n",
    "        referee_medical = referee['medical_ints'].iloc[0]\n",
    "        referral_medical = referral['medical_ints'].iloc[0]\n",
    "        referee_isco08_label = referee['isco08_code_ints'].iloc[0]\n",
    "        referral_isco08_label = referral['isco08_code_ints'].iloc[0]\n",
    "\n",
    "        referee_degree_centrality = referee_network_stats['Degree_Centrality'].iloc[0]\n",
    "        referral_degree_centrality = referral_network_stats['Degree_Centrality'].iloc[0]\n",
    "        referee_betweenness_centrality = referee_network_stats['Betweenness_Centrality'].iloc[0]\n",
    "        referral_betweenness_centrality = referral_network_stats['Betweenness_Centrality'].iloc[0]\n",
    "        referee_pagerank_centrality = referee_network_stats['Pagerank_Centrality'].iloc[0]\n",
    "        referral_pagerank_centrality = referral_network_stats['Pagerank_Centrality'].iloc[0]\n",
    "        referee_component_size = referee_network_stats['Component_Size'].iloc[0]\n",
    "        referral_component_size = referral_network_stats['Component_Size'].iloc[0]\n",
    "\n",
    "        new_row = pd.Series({'referee': ref_a, 'referral': ref_b, 'contact': 0, 'referee_age': referee_age, 'referral_age': referral_age, 'age_diff': abs(referee_age - referral_age),\n",
    "                             'referee_gender': referee_gender, 'referral_gender': referral_gender, 'gender_diff': abs(referee_gender - referral_gender),\n",
    "                             'referee_medical': referee_medical, 'referral_medical': referral_medical, 'medical_diff': abs(referee_medical - referral_medical),\n",
    "                             'referee_isco08_label': referee_isco08_label, 'referral_isco08_label': referral_isco08_label, 'isco08_label_diff': abs(referee_isco08_label - referral_isco08_label),\n",
    "                             'referee_degree_centrality': referee_degree_centrality, 'referral_degree_centrality': referral_degree_centrality, 'degree_centrality_diff': abs(referee_degree_centrality - referral_degree_centrality),\n",
    "                             'referee_betweenness_centrality': referee_betweenness_centrality, 'referral_betweenness_centrality': referral_betweenness_centrality, 'betweenness_centrality_diff': abs(referee_betweenness_centrality - referral_betweenness_centrality),\n",
    "                             'referee_pagerank_centrality': referee_pagerank_centrality, 'referral_pagerank_centrality': referral_pagerank_centrality, 'pagerank_centrality_diff': abs(referee_pagerank_centrality - referral_pagerank_centrality),\n",
    "                             'referee_component_size': referee_component_size, 'referral_component_size': referral_component_size, 'component_size_diff': abs(referee_component_size - referral_component_size)})\n",
    "        bucharest_data = pd.concat([bucharest_data, new_row.to_frame().T], axis='index', ignore_index=True)\n",
    "\n",
    "        added_combinations.add((ref_a, ref_b))\n",
    "        added_combinations.add((ref_b, ref_a))"
   ],
   "metadata": {
    "collapsed": false,
    "pycharm": {
     "name": "#%%\n"
    }
   }
  },
  {
   "cell_type": "code",
   "execution_count": 34,
   "outputs": [],
   "source": [
    "bucharest_data[['referee_age', 'referral_age', 'age_diff', 'referee_degree_centrality', 'referral_degree_centrality',\n",
    "             'degree_centrality_diff', 'referee_betweenness_centrality',\n",
    "             'referral_betweenness_centrality', 'betweenness_centrality_diff',\n",
    "             'referee_pagerank_centrality', 'referral_pagerank_centrality',\n",
    "             'pagerank_centrality_diff', 'referee_component_size',\n",
    "             'referral_component_size', 'component_size_diff']] = normalize(bucharest_data[['referee_age', 'referral_age', 'age_diff', 'referee_degree_centrality', 'referral_degree_centrality',\n",
    "                                                                                         'degree_centrality_diff', 'referee_betweenness_centrality',\n",
    "                                                                                         'referral_betweenness_centrality', 'betweenness_centrality_diff',\n",
    "                                                                                         'referee_pagerank_centrality', 'referral_pagerank_centrality',\n",
    "                                                                                         'pagerank_centrality_diff', 'referee_component_size',\n",
    "                                                                                         'referral_component_size', 'component_size_diff']])\n",
    "bucharest_data[['referee_age', 'referral_age', 'age_diff', 'referee_degree_centrality', 'referral_degree_centrality',\n",
    "             'degree_centrality_diff', 'referee_betweenness_centrality',\n",
    "             'referral_betweenness_centrality', 'betweenness_centrality_diff',\n",
    "             'referee_pagerank_centrality', 'referral_pagerank_centrality',\n",
    "             'pagerank_centrality_diff', 'referee_component_size',\n",
    "             'referral_component_size', 'component_size_diff']] = scale(bucharest_data[['referee_age', 'referral_age', 'age_diff', 'referee_degree_centrality', 'referral_degree_centrality',\n",
    "                                                                                     'degree_centrality_diff', 'referee_betweenness_centrality',\n",
    "                                                                                     'referral_betweenness_centrality', 'betweenness_centrality_diff',\n",
    "                                                                                     'referee_pagerank_centrality', 'referral_pagerank_centrality',\n",
    "                                                                                     'pagerank_centrality_diff', 'referee_component_size',\n",
    "                                                                                     'referral_component_size', 'component_size_diff']])"
   ],
   "metadata": {
    "collapsed": false,
    "pycharm": {
     "name": "#%%\n"
    }
   }
  },
  {
   "cell_type": "code",
   "execution_count": 35,
   "outputs": [
    {
     "data": {
      "text/plain": "(array([1, 0, 3, 4, 2, 7, 5, 6], dtype=object),\n array([<NA>, 0, 1], dtype=object),\n array([1, 0, 3, 4, 2, 11, 7, 6, 5, 16, 8, 15, 12, 9, 10, 13, 17, 14],\n       dtype=object))"
     },
     "execution_count": 35,
     "metadata": {},
     "output_type": "execute_result"
    }
   ],
   "source": [
    "bucharest_data['medical_diff'].unique(), bucharest_data['gender_diff'].unique(), bucharest_data['isco08_label_diff'].unique()"
   ],
   "metadata": {
    "collapsed": false,
    "pycharm": {
     "name": "#%%\n"
    }
   }
  },
  {
   "cell_type": "code",
   "execution_count": 36,
   "outputs": [
    {
     "data": {
      "text/plain": "          referee     referral contact  referee_age  referral_age  age_diff  \\\n0           53594  10330S53594       1    -0.041165      0.761358 -0.825894   \n1           53594  10331S53594       1     0.884368     -1.007123  0.778263   \n2           58373  11577S58373       1     0.181887      0.650306 -1.130545   \n3           63203   5541S63203       1     0.879118     -0.269276 -0.035003   \n4           63203   5540S63203       1     0.906174     -0.415114  0.147077   \n...           ...          ...     ...          ...           ...       ...   \n24547      203441   430S181880       0     0.282401      0.584044 -1.285613   \n24548      203441       135465       0    -1.124992      0.983058  0.305877   \n24549   55S241953   430S181880       0    -2.763561      0.742235  1.385419   \n24550   55S241953       135465       0    -3.078706      0.665300  1.559477   \n24551  430S181880       135465       0    -1.061494      0.979577  0.249993   \n\n      referee_gender referral_gender gender_diff referee_medical  ...  \\\n0                  2            <NA>        <NA>              -1  ...   \n1                  2            <NA>        <NA>              -1  ...   \n2                  2            <NA>        <NA>              -1  ...   \n3                  2            <NA>        <NA>               0  ...   \n4                  2            <NA>        <NA>               0  ...   \n...              ...             ...         ...             ...  ...   \n24547              2            <NA>        <NA>              -1  ...   \n24548              2               1           1              -1  ...   \n24549           <NA>            <NA>        <NA>               3  ...   \n24550           <NA>               1        <NA>               3  ...   \n24551           <NA>               1        <NA>              -1  ...   \n\n      degree_centrality_diff  referee_betweenness_centrality  \\\n0                  -0.340700                       -0.244387   \n1                  -0.247164                       -0.225550   \n2                  -0.683815                       -0.313487   \n3                  -0.385977                       -0.253505   \n4                  -0.384110                       -0.253129   \n...                      ...                             ...   \n24547              -0.082510                       -0.313487   \n24548              -0.683815                       -0.313487   \n24549              -0.683815                       -0.313487   \n24550              -0.346514                       -0.313487   \n24551              -0.310481                       -0.313487   \n\n      referral_betweenness_centrality betweenness_centrality_diff  \\\n0                           -0.130587                   -0.248910   \n1                           -0.130587                   -0.229749   \n2                           -0.130587                   -0.319197   \n3                           -0.130587                   -0.258185   \n4                           -0.130587                   -0.257802   \n...                               ...                         ...   \n24547                       -0.130587                   -0.319197   \n24548                       -0.130587                   -0.319197   \n24549                       -0.130587                   -0.319197   \n24550                       -0.130587                   -0.319197   \n24551                       -0.130587                   -0.319197   \n\n       referee_pagerank_centrality  referral_pagerank_centrality  \\\n0                        -0.190461                     -0.285841   \n1                         0.008784                     -0.061280   \n2                        -0.326897                      0.225870   \n3                        -0.286909                     -0.394544   \n4                        -0.282932                     -0.390061   \n...                            ...                           ...   \n24547                    -0.787455                      0.811998   \n24548                    -0.838131                     -0.922637   \n24549                    -0.355481                      0.918261   \n24550                    -0.620562                     -0.940862   \n24551                    -0.390284                     -0.922836   \n\n       pagerank_centrality_diff  referee_component_size  \\\n0                     -0.296191               -0.364853   \n1                     -0.176198               -0.196799   \n2                     -0.736364               -0.480774   \n3                     -0.354276               -0.446202   \n4                     -0.351881               -0.442847   \n...                         ...                     ...   \n24547                  0.135562               -0.621206   \n24548                 -0.736364               -0.757498   \n24549                 -0.329337                0.918844   \n24550                 -0.463616                0.028716   \n24551                 -0.195009               -0.534148   \n\n       referral_component_size  component_size_diff  \n0                    -0.401506            -0.350583  \n1                    -0.236993            -0.350583  \n2                    -0.514985            -0.350583  \n3                    -0.481141            -0.350583  \n4                    -0.477857            -0.350583  \n...                        ...                  ...  \n24547                -0.299926             0.274379  \n24548                -0.785877            -0.350583  \n24549                -0.260936             1.627981  \n24550                -0.807237             1.051701  \n24551                -0.786111             0.037439  \n\n[24552 rows x 27 columns]",
      "text/html": "<div>\n<style scoped>\n    .dataframe tbody tr th:only-of-type {\n        vertical-align: middle;\n    }\n\n    .dataframe tbody tr th {\n        vertical-align: top;\n    }\n\n    .dataframe thead th {\n        text-align: right;\n    }\n</style>\n<table border=\"1\" class=\"dataframe\">\n  <thead>\n    <tr style=\"text-align: right;\">\n      <th></th>\n      <th>referee</th>\n      <th>referral</th>\n      <th>contact</th>\n      <th>referee_age</th>\n      <th>referral_age</th>\n      <th>age_diff</th>\n      <th>referee_gender</th>\n      <th>referral_gender</th>\n      <th>gender_diff</th>\n      <th>referee_medical</th>\n      <th>...</th>\n      <th>degree_centrality_diff</th>\n      <th>referee_betweenness_centrality</th>\n      <th>referral_betweenness_centrality</th>\n      <th>betweenness_centrality_diff</th>\n      <th>referee_pagerank_centrality</th>\n      <th>referral_pagerank_centrality</th>\n      <th>pagerank_centrality_diff</th>\n      <th>referee_component_size</th>\n      <th>referral_component_size</th>\n      <th>component_size_diff</th>\n    </tr>\n  </thead>\n  <tbody>\n    <tr>\n      <th>0</th>\n      <td>53594</td>\n      <td>10330S53594</td>\n      <td>1</td>\n      <td>-0.041165</td>\n      <td>0.761358</td>\n      <td>-0.825894</td>\n      <td>2</td>\n      <td>&lt;NA&gt;</td>\n      <td>&lt;NA&gt;</td>\n      <td>-1</td>\n      <td>...</td>\n      <td>-0.340700</td>\n      <td>-0.244387</td>\n      <td>-0.130587</td>\n      <td>-0.248910</td>\n      <td>-0.190461</td>\n      <td>-0.285841</td>\n      <td>-0.296191</td>\n      <td>-0.364853</td>\n      <td>-0.401506</td>\n      <td>-0.350583</td>\n    </tr>\n    <tr>\n      <th>1</th>\n      <td>53594</td>\n      <td>10331S53594</td>\n      <td>1</td>\n      <td>0.884368</td>\n      <td>-1.007123</td>\n      <td>0.778263</td>\n      <td>2</td>\n      <td>&lt;NA&gt;</td>\n      <td>&lt;NA&gt;</td>\n      <td>-1</td>\n      <td>...</td>\n      <td>-0.247164</td>\n      <td>-0.225550</td>\n      <td>-0.130587</td>\n      <td>-0.229749</td>\n      <td>0.008784</td>\n      <td>-0.061280</td>\n      <td>-0.176198</td>\n      <td>-0.196799</td>\n      <td>-0.236993</td>\n      <td>-0.350583</td>\n    </tr>\n    <tr>\n      <th>2</th>\n      <td>58373</td>\n      <td>11577S58373</td>\n      <td>1</td>\n      <td>0.181887</td>\n      <td>0.650306</td>\n      <td>-1.130545</td>\n      <td>2</td>\n      <td>&lt;NA&gt;</td>\n      <td>&lt;NA&gt;</td>\n      <td>-1</td>\n      <td>...</td>\n      <td>-0.683815</td>\n      <td>-0.313487</td>\n      <td>-0.130587</td>\n      <td>-0.319197</td>\n      <td>-0.326897</td>\n      <td>0.225870</td>\n      <td>-0.736364</td>\n      <td>-0.480774</td>\n      <td>-0.514985</td>\n      <td>-0.350583</td>\n    </tr>\n    <tr>\n      <th>3</th>\n      <td>63203</td>\n      <td>5541S63203</td>\n      <td>1</td>\n      <td>0.879118</td>\n      <td>-0.269276</td>\n      <td>-0.035003</td>\n      <td>2</td>\n      <td>&lt;NA&gt;</td>\n      <td>&lt;NA&gt;</td>\n      <td>0</td>\n      <td>...</td>\n      <td>-0.385977</td>\n      <td>-0.253505</td>\n      <td>-0.130587</td>\n      <td>-0.258185</td>\n      <td>-0.286909</td>\n      <td>-0.394544</td>\n      <td>-0.354276</td>\n      <td>-0.446202</td>\n      <td>-0.481141</td>\n      <td>-0.350583</td>\n    </tr>\n    <tr>\n      <th>4</th>\n      <td>63203</td>\n      <td>5540S63203</td>\n      <td>1</td>\n      <td>0.906174</td>\n      <td>-0.415114</td>\n      <td>0.147077</td>\n      <td>2</td>\n      <td>&lt;NA&gt;</td>\n      <td>&lt;NA&gt;</td>\n      <td>0</td>\n      <td>...</td>\n      <td>-0.384110</td>\n      <td>-0.253129</td>\n      <td>-0.130587</td>\n      <td>-0.257802</td>\n      <td>-0.282932</td>\n      <td>-0.390061</td>\n      <td>-0.351881</td>\n      <td>-0.442847</td>\n      <td>-0.477857</td>\n      <td>-0.350583</td>\n    </tr>\n    <tr>\n      <th>...</th>\n      <td>...</td>\n      <td>...</td>\n      <td>...</td>\n      <td>...</td>\n      <td>...</td>\n      <td>...</td>\n      <td>...</td>\n      <td>...</td>\n      <td>...</td>\n      <td>...</td>\n      <td>...</td>\n      <td>...</td>\n      <td>...</td>\n      <td>...</td>\n      <td>...</td>\n      <td>...</td>\n      <td>...</td>\n      <td>...</td>\n      <td>...</td>\n      <td>...</td>\n      <td>...</td>\n    </tr>\n    <tr>\n      <th>24547</th>\n      <td>203441</td>\n      <td>430S181880</td>\n      <td>0</td>\n      <td>0.282401</td>\n      <td>0.584044</td>\n      <td>-1.285613</td>\n      <td>2</td>\n      <td>&lt;NA&gt;</td>\n      <td>&lt;NA&gt;</td>\n      <td>-1</td>\n      <td>...</td>\n      <td>-0.082510</td>\n      <td>-0.313487</td>\n      <td>-0.130587</td>\n      <td>-0.319197</td>\n      <td>-0.787455</td>\n      <td>0.811998</td>\n      <td>0.135562</td>\n      <td>-0.621206</td>\n      <td>-0.299926</td>\n      <td>0.274379</td>\n    </tr>\n    <tr>\n      <th>24548</th>\n      <td>203441</td>\n      <td>135465</td>\n      <td>0</td>\n      <td>-1.124992</td>\n      <td>0.983058</td>\n      <td>0.305877</td>\n      <td>2</td>\n      <td>1</td>\n      <td>1</td>\n      <td>-1</td>\n      <td>...</td>\n      <td>-0.683815</td>\n      <td>-0.313487</td>\n      <td>-0.130587</td>\n      <td>-0.319197</td>\n      <td>-0.838131</td>\n      <td>-0.922637</td>\n      <td>-0.736364</td>\n      <td>-0.757498</td>\n      <td>-0.785877</td>\n      <td>-0.350583</td>\n    </tr>\n    <tr>\n      <th>24549</th>\n      <td>55S241953</td>\n      <td>430S181880</td>\n      <td>0</td>\n      <td>-2.763561</td>\n      <td>0.742235</td>\n      <td>1.385419</td>\n      <td>&lt;NA&gt;</td>\n      <td>&lt;NA&gt;</td>\n      <td>&lt;NA&gt;</td>\n      <td>3</td>\n      <td>...</td>\n      <td>-0.683815</td>\n      <td>-0.313487</td>\n      <td>-0.130587</td>\n      <td>-0.319197</td>\n      <td>-0.355481</td>\n      <td>0.918261</td>\n      <td>-0.329337</td>\n      <td>0.918844</td>\n      <td>-0.260936</td>\n      <td>1.627981</td>\n    </tr>\n    <tr>\n      <th>24550</th>\n      <td>55S241953</td>\n      <td>135465</td>\n      <td>0</td>\n      <td>-3.078706</td>\n      <td>0.665300</td>\n      <td>1.559477</td>\n      <td>&lt;NA&gt;</td>\n      <td>1</td>\n      <td>&lt;NA&gt;</td>\n      <td>3</td>\n      <td>...</td>\n      <td>-0.346514</td>\n      <td>-0.313487</td>\n      <td>-0.130587</td>\n      <td>-0.319197</td>\n      <td>-0.620562</td>\n      <td>-0.940862</td>\n      <td>-0.463616</td>\n      <td>0.028716</td>\n      <td>-0.807237</td>\n      <td>1.051701</td>\n    </tr>\n    <tr>\n      <th>24551</th>\n      <td>430S181880</td>\n      <td>135465</td>\n      <td>0</td>\n      <td>-1.061494</td>\n      <td>0.979577</td>\n      <td>0.249993</td>\n      <td>&lt;NA&gt;</td>\n      <td>1</td>\n      <td>&lt;NA&gt;</td>\n      <td>-1</td>\n      <td>...</td>\n      <td>-0.310481</td>\n      <td>-0.313487</td>\n      <td>-0.130587</td>\n      <td>-0.319197</td>\n      <td>-0.390284</td>\n      <td>-0.922836</td>\n      <td>-0.195009</td>\n      <td>-0.534148</td>\n      <td>-0.786111</td>\n      <td>0.037439</td>\n    </tr>\n  </tbody>\n</table>\n<p>24552 rows × 27 columns</p>\n</div>"
     },
     "execution_count": 36,
     "metadata": {},
     "output_type": "execute_result"
    }
   ],
   "source": [
    "#bucharest_data['gender_diff'] = bucharest_data['gender_diff'].fillna(value=-999)\n",
    "bucharest_data['medical_diff'] = bucharest_data['medical_diff'].fillna(value=-999)\n",
    "bucharest_data['isco08_label_diff'] = bucharest_data['isco08_label_diff'].fillna(value=-999)\n",
    "\n",
    "#bucharest_data['gender_diff'] = bucharest_data['gender_diff'].where(bucharest_data['gender_diff'] <= 0, 1)\n",
    "bucharest_data['medical_diff'] = bucharest_data['medical_diff'].where(bucharest_data['medical_diff'] <= 0, 1)\n",
    "bucharest_data['isco08_label_diff'] = bucharest_data['isco08_label_diff'].where(bucharest_data['isco08_label_diff'] <= 0, 1)\n",
    "\n",
    "#bucharest_data['gender_diff'] = bucharest_data['gender_diff'].where(bucharest_data['gender_diff'] != -999, np.nan)\n",
    "bucharest_data['medical_diff'] = bucharest_data['medical_diff'].where(bucharest_data['medical_diff'] != -999, np.nan)\n",
    "bucharest_data['isco08_label_diff'] = bucharest_data['isco08_label_diff'].where(bucharest_data['isco08_label_diff'] != -999, np.nan)\n",
    "\n",
    "bucharest_data"
   ],
   "metadata": {
    "collapsed": false,
    "pycharm": {
     "name": "#%%\n"
    }
   }
  },
  {
   "cell_type": "code",
   "execution_count": 39,
   "outputs": [],
   "source": [
    "bucharest_data = bucharest_data.fillna(value=-999)"
   ],
   "metadata": {
    "collapsed": false,
    "pycharm": {
     "name": "#%%\n"
    }
   }
  },
  {
   "cell_type": "code",
   "execution_count": 40,
   "outputs": [
    {
     "data": {
      "text/plain": "(array([1, 0], dtype=int64),\n array([-999,    0,    1], dtype=int64),\n array([1, 0], dtype=int64))"
     },
     "execution_count": 40,
     "metadata": {},
     "output_type": "execute_result"
    }
   ],
   "source": [
    "bucharest_data['medical_diff'].unique(), bucharest_data['gender_diff'].unique(), bucharest_data['isco08_label_diff'].unique()"
   ],
   "metadata": {
    "collapsed": false,
    "pycharm": {
     "name": "#%%\n"
    }
   }
  },
  {
   "cell_type": "code",
   "execution_count": 41,
   "outputs": [
    {
     "data": {
      "text/plain": "array([ 0.10644435, -0.14761348,  0.01134502,  0.26053551, -0.66511142,\n       -0.58003904,  0.27985634,  0.29603158,  0.39838073,  0.16094323,\n        0.08227855,  0.25537315,  0.56034267,  0.35189251,  0.32530651,\n        0.27427833,  0.01638329,  0.2611126 ,  0.59235566,  0.29120703,\n        0.33847135,  0.40635151,  0.34927571, -0.38357129])"
     },
     "execution_count": 41,
     "metadata": {},
     "output_type": "execute_result"
    }
   ],
   "source": [
    "r_regression(bucharest_data[bucharest_data.columns[3:]], bucharest_data['contact'])"
   ],
   "metadata": {
    "collapsed": false,
    "pycharm": {
     "name": "#%%\n"
    }
   }
  },
  {
   "cell_type": "code",
   "execution_count": 43,
   "outputs": [
    {
     "data": {
      "text/plain": "(array([2.81349099e+02, 5.46853892e+02, 3.16022563e+00, 1.78777535e+03,\n        1.94758607e+04, 1.24477027e+04, 2.08613024e+03, 2.35808151e+03,\n        4.63127944e+03, 6.52821708e+02, 1.67330382e+02, 1.71273599e+03,\n        1.12363326e+04, 3.46962345e+03, 2.90545504e+03, 1.99710128e+03,\n        6.59129208e+00, 1.79628412e+03, 1.32707383e+04, 2.27478278e+03,\n        3.17641763e+03, 4.85547800e+03, 3.41106939e+03, 4.23505712e+03]),\n array([8.54086834e-063, 1.23714864e-119, 7.54651300e-002, 0.00000000e+000,\n        0.00000000e+000, 0.00000000e+000, 0.00000000e+000, 0.00000000e+000,\n        0.00000000e+000, 3.91892798e-142, 3.77575768e-038, 0.00000000e+000,\n        0.00000000e+000, 0.00000000e+000, 0.00000000e+000, 0.00000000e+000,\n        1.02537435e-002, 0.00000000e+000, 0.00000000e+000, 0.00000000e+000,\n        0.00000000e+000, 0.00000000e+000, 0.00000000e+000, 0.00000000e+000]))"
     },
     "execution_count": 43,
     "metadata": {},
     "output_type": "execute_result"
    }
   ],
   "source": [
    "f_regression(bucharest_data[bucharest_data.columns[3:]], bucharest_data['contact'])"
   ],
   "metadata": {
    "collapsed": false,
    "pycharm": {
     "name": "#%%\n"
    }
   }
  },
  {
   "cell_type": "markdown",
   "source": [
    "# China"
   ],
   "metadata": {
    "collapsed": false,
    "pycharm": {
     "name": "#%% md\n"
    }
   }
  },
  {
   "cell_type": "code",
   "execution_count": 68,
   "outputs": [],
   "source": [
    "china_nodelist = pd.read_csv('../Data/Preprocessed/china_nodelist.csv')\n",
    "china_edgelist = pd.read_csv('../Data/Preprocessed/china_edgelist.csv')\n",
    "china_network = pd.read_csv('../Data/Tables/basic/china_basic_analysis.csv')"
   ],
   "metadata": {
    "collapsed": false,
    "pycharm": {
     "name": "#%%\n"
    }
   }
  },
  {
   "cell_type": "code",
   "execution_count": 69,
   "outputs": [
    {
     "data": {
      "text/plain": "       Unnamed: 0       node_id  age  gender        residency  \\\n0               0      anqing-1   49    Male              NaN   \n1               1     anqing-10   54    Male              NaN   \n2               2     anqing-11   50  Female      Hubei_Wuhan   \n3               3     anqing-12   46    Male              NaN   \n4               4     anqing-13   58    Male      Hubei_Wuhan   \n...           ...           ...  ...     ...              ...   \n25872       25872    ningbo-255  NaN    male  Zhejiang-Ningbo   \n25873       25873    ningbo-256  NaN  Female  Zhejiang-Ningbo   \n25874       25874    ningbo-257  NaN  Female  Zhejiang-Ningbo   \n25875       25875    ningbo-258  NaN  Female  Zhejiang-Ningbo   \n25876       25876  chongqing-23  NaN     NaN              NaN   \n\n            place_event possible_source  \\\n0          Wuhan Travel             NaN   \n1           Hainan Work             NaN   \n2          Wuhan Travel             NaN   \n3      Yellowstone Work             NaN   \n4         Work In Wuhan             NaN   \n...                 ...             ...   \n25872               NaN             NaN   \n25873               NaN             NaN   \n25874               NaN             NaN   \n25875               NaN             NaN   \n25876               NaN             NaN   \n\n                                              symptom symptom_severity  \\\n0                                                 NaN              NaN   \n1              Somatosensory Related-Sign Description           Stable   \n2      Respiratory System Related-Symptom Description           Stable   \n3              Somatosensory Related-Sign Description           Stable   \n4                                                 NaN           Stable   \n...                                               ...              ...   \n25872                                             NaN              NaN   \n25873                                             NaN              NaN   \n25874                                             NaN              NaN   \n25875                                             NaN              NaN   \n25876                                             NaN              NaN   \n\n       place_admission  \n0         Anhui_Anqing  \n1         Anhui_Anqing  \n2         Anhui_Anqing  \n3         Anhui_Anqing  \n4         Anhui_Anqing  \n...                ...  \n25872  Zhejiang-Ningbo  \n25873  Zhejiang-Ningbo  \n25874  Zhejiang-Ningbo  \n25875  Zhejiang-Ningbo  \n25876        Chongqing  \n\n[25877 rows x 10 columns]",
      "text/html": "<div>\n<style scoped>\n    .dataframe tbody tr th:only-of-type {\n        vertical-align: middle;\n    }\n\n    .dataframe tbody tr th {\n        vertical-align: top;\n    }\n\n    .dataframe thead th {\n        text-align: right;\n    }\n</style>\n<table border=\"1\" class=\"dataframe\">\n  <thead>\n    <tr style=\"text-align: right;\">\n      <th></th>\n      <th>Unnamed: 0</th>\n      <th>node_id</th>\n      <th>age</th>\n      <th>gender</th>\n      <th>residency</th>\n      <th>place_event</th>\n      <th>possible_source</th>\n      <th>symptom</th>\n      <th>symptom_severity</th>\n      <th>place_admission</th>\n    </tr>\n  </thead>\n  <tbody>\n    <tr>\n      <th>0</th>\n      <td>0</td>\n      <td>anqing-1</td>\n      <td>49</td>\n      <td>Male</td>\n      <td>NaN</td>\n      <td>Wuhan Travel</td>\n      <td>NaN</td>\n      <td>NaN</td>\n      <td>NaN</td>\n      <td>Anhui_Anqing</td>\n    </tr>\n    <tr>\n      <th>1</th>\n      <td>1</td>\n      <td>anqing-10</td>\n      <td>54</td>\n      <td>Male</td>\n      <td>NaN</td>\n      <td>Hainan Work</td>\n      <td>NaN</td>\n      <td>Somatosensory Related-Sign Description</td>\n      <td>Stable</td>\n      <td>Anhui_Anqing</td>\n    </tr>\n    <tr>\n      <th>2</th>\n      <td>2</td>\n      <td>anqing-11</td>\n      <td>50</td>\n      <td>Female</td>\n      <td>Hubei_Wuhan</td>\n      <td>Wuhan Travel</td>\n      <td>NaN</td>\n      <td>Respiratory System Related-Symptom Description</td>\n      <td>Stable</td>\n      <td>Anhui_Anqing</td>\n    </tr>\n    <tr>\n      <th>3</th>\n      <td>3</td>\n      <td>anqing-12</td>\n      <td>46</td>\n      <td>Male</td>\n      <td>NaN</td>\n      <td>Yellowstone Work</td>\n      <td>NaN</td>\n      <td>Somatosensory Related-Sign Description</td>\n      <td>Stable</td>\n      <td>Anhui_Anqing</td>\n    </tr>\n    <tr>\n      <th>4</th>\n      <td>4</td>\n      <td>anqing-13</td>\n      <td>58</td>\n      <td>Male</td>\n      <td>Hubei_Wuhan</td>\n      <td>Work In Wuhan</td>\n      <td>NaN</td>\n      <td>NaN</td>\n      <td>Stable</td>\n      <td>Anhui_Anqing</td>\n    </tr>\n    <tr>\n      <th>...</th>\n      <td>...</td>\n      <td>...</td>\n      <td>...</td>\n      <td>...</td>\n      <td>...</td>\n      <td>...</td>\n      <td>...</td>\n      <td>...</td>\n      <td>...</td>\n      <td>...</td>\n    </tr>\n    <tr>\n      <th>25872</th>\n      <td>25872</td>\n      <td>ningbo-255</td>\n      <td>NaN</td>\n      <td>male</td>\n      <td>Zhejiang-Ningbo</td>\n      <td>NaN</td>\n      <td>NaN</td>\n      <td>NaN</td>\n      <td>NaN</td>\n      <td>Zhejiang-Ningbo</td>\n    </tr>\n    <tr>\n      <th>25873</th>\n      <td>25873</td>\n      <td>ningbo-256</td>\n      <td>NaN</td>\n      <td>Female</td>\n      <td>Zhejiang-Ningbo</td>\n      <td>NaN</td>\n      <td>NaN</td>\n      <td>NaN</td>\n      <td>NaN</td>\n      <td>Zhejiang-Ningbo</td>\n    </tr>\n    <tr>\n      <th>25874</th>\n      <td>25874</td>\n      <td>ningbo-257</td>\n      <td>NaN</td>\n      <td>Female</td>\n      <td>Zhejiang-Ningbo</td>\n      <td>NaN</td>\n      <td>NaN</td>\n      <td>NaN</td>\n      <td>NaN</td>\n      <td>Zhejiang-Ningbo</td>\n    </tr>\n    <tr>\n      <th>25875</th>\n      <td>25875</td>\n      <td>ningbo-258</td>\n      <td>NaN</td>\n      <td>Female</td>\n      <td>Zhejiang-Ningbo</td>\n      <td>NaN</td>\n      <td>NaN</td>\n      <td>NaN</td>\n      <td>NaN</td>\n      <td>Zhejiang-Ningbo</td>\n    </tr>\n    <tr>\n      <th>25876</th>\n      <td>25876</td>\n      <td>chongqing-23</td>\n      <td>NaN</td>\n      <td>NaN</td>\n      <td>NaN</td>\n      <td>NaN</td>\n      <td>NaN</td>\n      <td>NaN</td>\n      <td>NaN</td>\n      <td>Chongqing</td>\n    </tr>\n  </tbody>\n</table>\n<p>25877 rows × 10 columns</p>\n</div>"
     },
     "execution_count": 69,
     "metadata": {},
     "output_type": "execute_result"
    }
   ],
   "source": [
    "china_nodelist"
   ],
   "metadata": {
    "collapsed": false,
    "pycharm": {
     "name": "#%%\n"
    }
   }
  },
  {
   "cell_type": "code",
   "execution_count": 70,
   "outputs": [],
   "source": [
    "china_nodelist['gender'] = china_nodelist['gender'].apply(lambda x: str(x).lower())\n",
    "china_nodelist['gender'] = china_nodelist['gender'].apply(lambda x: x.strip())\n",
    "china_nodelist['gender'] = china_nodelist['gender'].apply(lambda x: 'male' if x in ('male', 'man') else x)\n",
    "china_nodelist['gender'] = china_nodelist['gender'].apply(lambda x: np.nan if x not in ('male', 'female') else x)\n",
    "china_nodelist['gender_ints'] = LabelEncoder().fit_transform(china_nodelist['gender'])\n",
    "\n",
    "china_nodelist['residency'] = china_nodelist['residency'].apply(lambda x: str(x).lower())\n",
    "china_nodelist['residency'] = china_nodelist['residency'].apply(lambda x: x.strip())\n",
    "china_nodelist['residency_ints'] = LabelEncoder().fit_transform(china_nodelist['residency'])\n",
    "\n",
    "china_nodelist['place_event'] = china_nodelist['place_event'].apply(lambda x: str(x).lower())\n",
    "china_nodelist['place_event'] = china_nodelist['place_event'].apply(lambda x: x.strip())\n",
    "china_nodelist['place_event_ints'] = LabelEncoder().fit_transform(china_nodelist['place_event'])\n",
    "\n",
    "china_nodelist['symptom'] = china_nodelist['symptom'].apply(lambda x: str(x).lower())\n",
    "china_nodelist['symptom'] = china_nodelist['symptom'].apply(lambda x: x.strip())\n",
    "most_common_symptoms = Counter(china_nodelist['symptom']).most_common()\n",
    "symptom_keys = set([x[0] for x in most_common_symptoms])\n",
    "china_nodelist['symptom'] = china_nodelist['symptom'].apply(lambda x: x if x in symptom_keys else np.nan)\n",
    "china_nodelist['symptom_ints'] = LabelEncoder().fit_transform(china_nodelist['symptom'])\n",
    "\n",
    "china_nodelist['place_admission'] = china_nodelist['place_admission'].apply(lambda x: str(x).lower())\n",
    "china_nodelist['place_admission'] = china_nodelist['place_admission'].apply(lambda x: x.strip())\n",
    "china_nodelist['place_admission_ints'] = LabelEncoder().fit_transform(china_nodelist['place_admission'])\n",
    "\n",
    "china_nodelist['symptom_severity'] = china_nodelist['symptom_severity'].apply(lambda x: str(x).lower())\n",
    "china_nodelist['symptom_severity'] = china_nodelist['symptom_severity'].apply(lambda x: x.strip())\n",
    "china_nodelist['symptom_severity'] = china_nodelist['symptom_severity'].apply(lambda x: x if x in ('stable', 'mild', 'light', 'severe') else np.nan)\n",
    "china_nodelist['symptom_severity_ints'] = LabelEncoder().fit_transform(china_nodelist['symptom_severity'])"
   ],
   "metadata": {
    "collapsed": false,
    "pycharm": {
     "name": "#%%\n"
    }
   }
  },
  {
   "cell_type": "code",
   "execution_count": 71,
   "outputs": [
    {
     "data": {
      "text/plain": "       Unnamed: 0       node_id  age  gender        residency  \\\n0               0      anqing-1   49    male              nan   \n1               1     anqing-10   54    male              nan   \n2               2     anqing-11   50  female      hubei_wuhan   \n3               3     anqing-12   46    male              nan   \n4               4     anqing-13   58    male      hubei_wuhan   \n...           ...           ...  ...     ...              ...   \n25872       25872    ningbo-255  NaN    male  zhejiang-ningbo   \n25873       25873    ningbo-256  NaN  female  zhejiang-ningbo   \n25874       25874    ningbo-257  NaN  female  zhejiang-ningbo   \n25875       25875    ningbo-258  NaN  female  zhejiang-ningbo   \n25876       25876  chongqing-23  NaN     NaN              nan   \n\n            place_event possible_source  \\\n0          wuhan travel             NaN   \n1           hainan work             NaN   \n2          wuhan travel             NaN   \n3      yellowstone work             NaN   \n4         work in wuhan             NaN   \n...                 ...             ...   \n25872               nan             NaN   \n25873               nan             NaN   \n25874               nan             NaN   \n25875               nan             NaN   \n25876               nan             NaN   \n\n                                              symptom symptom_severity  \\\n0                                                 nan              NaN   \n1              somatosensory related-sign description           stable   \n2      respiratory system related-symptom description           stable   \n3              somatosensory related-sign description           stable   \n4                                                 nan           stable   \n...                                               ...              ...   \n25872                                             nan              NaN   \n25873                                             nan              NaN   \n25874                                             nan              NaN   \n25875                                             nan              NaN   \n25876                                             nan              NaN   \n\n       place_admission  gender_ints  residency_ints  place_event_ints  \\\n0         anhui_anqing            1             480              1538   \n1         anhui_anqing            1             480               449   \n2         anhui_anqing            0             318              1538   \n3         anhui_anqing            1             480              1624   \n4         anhui_anqing            1             318              1481   \n...                ...          ...             ...               ...   \n25872  zhejiang-ningbo            1             749               748   \n25873  zhejiang-ningbo            0             749               748   \n25874  zhejiang-ningbo            0             749               748   \n25875  zhejiang-ningbo            0             749               748   \n25876        chongqing            2             480               748   \n\n       symptom_ints  place_admission_ints  symptom_severity_ints  \n0                55                     0                      4  \n1               186                     0                      3  \n2               103                     0                      3  \n3               186                     0                      3  \n4                55                     0                      3  \n...             ...                   ...                    ...  \n25872            55                   461                      4  \n25873            55                   461                      4  \n25874            55                   461                      4  \n25875            55                   461                      4  \n25876            55                    34                      4  \n\n[25877 rows x 16 columns]",
      "text/html": "<div>\n<style scoped>\n    .dataframe tbody tr th:only-of-type {\n        vertical-align: middle;\n    }\n\n    .dataframe tbody tr th {\n        vertical-align: top;\n    }\n\n    .dataframe thead th {\n        text-align: right;\n    }\n</style>\n<table border=\"1\" class=\"dataframe\">\n  <thead>\n    <tr style=\"text-align: right;\">\n      <th></th>\n      <th>Unnamed: 0</th>\n      <th>node_id</th>\n      <th>age</th>\n      <th>gender</th>\n      <th>residency</th>\n      <th>place_event</th>\n      <th>possible_source</th>\n      <th>symptom</th>\n      <th>symptom_severity</th>\n      <th>place_admission</th>\n      <th>gender_ints</th>\n      <th>residency_ints</th>\n      <th>place_event_ints</th>\n      <th>symptom_ints</th>\n      <th>place_admission_ints</th>\n      <th>symptom_severity_ints</th>\n    </tr>\n  </thead>\n  <tbody>\n    <tr>\n      <th>0</th>\n      <td>0</td>\n      <td>anqing-1</td>\n      <td>49</td>\n      <td>male</td>\n      <td>nan</td>\n      <td>wuhan travel</td>\n      <td>NaN</td>\n      <td>nan</td>\n      <td>NaN</td>\n      <td>anhui_anqing</td>\n      <td>1</td>\n      <td>480</td>\n      <td>1538</td>\n      <td>55</td>\n      <td>0</td>\n      <td>4</td>\n    </tr>\n    <tr>\n      <th>1</th>\n      <td>1</td>\n      <td>anqing-10</td>\n      <td>54</td>\n      <td>male</td>\n      <td>nan</td>\n      <td>hainan work</td>\n      <td>NaN</td>\n      <td>somatosensory related-sign description</td>\n      <td>stable</td>\n      <td>anhui_anqing</td>\n      <td>1</td>\n      <td>480</td>\n      <td>449</td>\n      <td>186</td>\n      <td>0</td>\n      <td>3</td>\n    </tr>\n    <tr>\n      <th>2</th>\n      <td>2</td>\n      <td>anqing-11</td>\n      <td>50</td>\n      <td>female</td>\n      <td>hubei_wuhan</td>\n      <td>wuhan travel</td>\n      <td>NaN</td>\n      <td>respiratory system related-symptom description</td>\n      <td>stable</td>\n      <td>anhui_anqing</td>\n      <td>0</td>\n      <td>318</td>\n      <td>1538</td>\n      <td>103</td>\n      <td>0</td>\n      <td>3</td>\n    </tr>\n    <tr>\n      <th>3</th>\n      <td>3</td>\n      <td>anqing-12</td>\n      <td>46</td>\n      <td>male</td>\n      <td>nan</td>\n      <td>yellowstone work</td>\n      <td>NaN</td>\n      <td>somatosensory related-sign description</td>\n      <td>stable</td>\n      <td>anhui_anqing</td>\n      <td>1</td>\n      <td>480</td>\n      <td>1624</td>\n      <td>186</td>\n      <td>0</td>\n      <td>3</td>\n    </tr>\n    <tr>\n      <th>4</th>\n      <td>4</td>\n      <td>anqing-13</td>\n      <td>58</td>\n      <td>male</td>\n      <td>hubei_wuhan</td>\n      <td>work in wuhan</td>\n      <td>NaN</td>\n      <td>nan</td>\n      <td>stable</td>\n      <td>anhui_anqing</td>\n      <td>1</td>\n      <td>318</td>\n      <td>1481</td>\n      <td>55</td>\n      <td>0</td>\n      <td>3</td>\n    </tr>\n    <tr>\n      <th>...</th>\n      <td>...</td>\n      <td>...</td>\n      <td>...</td>\n      <td>...</td>\n      <td>...</td>\n      <td>...</td>\n      <td>...</td>\n      <td>...</td>\n      <td>...</td>\n      <td>...</td>\n      <td>...</td>\n      <td>...</td>\n      <td>...</td>\n      <td>...</td>\n      <td>...</td>\n      <td>...</td>\n    </tr>\n    <tr>\n      <th>25872</th>\n      <td>25872</td>\n      <td>ningbo-255</td>\n      <td>NaN</td>\n      <td>male</td>\n      <td>zhejiang-ningbo</td>\n      <td>nan</td>\n      <td>NaN</td>\n      <td>nan</td>\n      <td>NaN</td>\n      <td>zhejiang-ningbo</td>\n      <td>1</td>\n      <td>749</td>\n      <td>748</td>\n      <td>55</td>\n      <td>461</td>\n      <td>4</td>\n    </tr>\n    <tr>\n      <th>25873</th>\n      <td>25873</td>\n      <td>ningbo-256</td>\n      <td>NaN</td>\n      <td>female</td>\n      <td>zhejiang-ningbo</td>\n      <td>nan</td>\n      <td>NaN</td>\n      <td>nan</td>\n      <td>NaN</td>\n      <td>zhejiang-ningbo</td>\n      <td>0</td>\n      <td>749</td>\n      <td>748</td>\n      <td>55</td>\n      <td>461</td>\n      <td>4</td>\n    </tr>\n    <tr>\n      <th>25874</th>\n      <td>25874</td>\n      <td>ningbo-257</td>\n      <td>NaN</td>\n      <td>female</td>\n      <td>zhejiang-ningbo</td>\n      <td>nan</td>\n      <td>NaN</td>\n      <td>nan</td>\n      <td>NaN</td>\n      <td>zhejiang-ningbo</td>\n      <td>0</td>\n      <td>749</td>\n      <td>748</td>\n      <td>55</td>\n      <td>461</td>\n      <td>4</td>\n    </tr>\n    <tr>\n      <th>25875</th>\n      <td>25875</td>\n      <td>ningbo-258</td>\n      <td>NaN</td>\n      <td>female</td>\n      <td>zhejiang-ningbo</td>\n      <td>nan</td>\n      <td>NaN</td>\n      <td>nan</td>\n      <td>NaN</td>\n      <td>zhejiang-ningbo</td>\n      <td>0</td>\n      <td>749</td>\n      <td>748</td>\n      <td>55</td>\n      <td>461</td>\n      <td>4</td>\n    </tr>\n    <tr>\n      <th>25876</th>\n      <td>25876</td>\n      <td>chongqing-23</td>\n      <td>NaN</td>\n      <td>NaN</td>\n      <td>nan</td>\n      <td>nan</td>\n      <td>NaN</td>\n      <td>nan</td>\n      <td>NaN</td>\n      <td>chongqing</td>\n      <td>2</td>\n      <td>480</td>\n      <td>748</td>\n      <td>55</td>\n      <td>34</td>\n      <td>4</td>\n    </tr>\n  </tbody>\n</table>\n<p>25877 rows × 16 columns</p>\n</div>"
     },
     "execution_count": 71,
     "metadata": {},
     "output_type": "execute_result"
    }
   ],
   "source": [
    "china_nodelist"
   ],
   "metadata": {
    "collapsed": false,
    "pycharm": {
     "name": "#%%\n"
    }
   }
  },
  {
   "cell_type": "code",
   "execution_count": 72,
   "outputs": [
    {
     "data": {
      "text/plain": "array([ 49. ,  54. ,  50. ,  46. ,  58. ,  51. ,  41. ,  37. ,  42. ,\n        52. ,  25. ,  53. ,  45. ,  39. ,  65. ,  31. ,  27. ,  57. ,\n        21. ,  47. ,  36. ,  64. ,  28. ,  40. ,  34. ,  29. ,  62. ,\n        56. ,  75. ,  33. ,  43. ,  30. ,  55. ,  35. ,  38. ,  20. ,\n        71. ,  24. ,  17. ,  86. ,  44. ,  63. ,  70. ,  48. ,  60. ,\n        67. ,  59. ,  74. ,  68. ,  83. ,  80. ,  19. ,  78. ,  66. ,\n        82. ,  69. ,   2. ,  22. ,  13. ,  12. ,  85. ,  18. ,  89. ,\n        14. ,  72. ,  10. ,  32. ,   5. ,  16. ,   8. ,  26. ,   7. ,\n        61. ,  73. ,   6. ,  76. ,   nan,  15. ,   1. ,  23. ,  91. ,\n         3. ,   4. ,   9. ,  87. ,  79. ,  77. ,  11. ,  84. ,  81. ,\n        94. ,  90. ,   0. ,  88. , 644. ,  95. ,  97. ,  96. ,  93. ,\n        92. ,  99. ,   2.5])"
     },
     "execution_count": 72,
     "metadata": {},
     "output_type": "execute_result"
    }
   ],
   "source": [
    "china_nodelist['age'] = pd.to_numeric(china_nodelist['age'], errors='coerce')\n",
    "china_nodelist['age'].unique()"
   ],
   "metadata": {
    "collapsed": false,
    "pycharm": {
     "name": "#%%\n"
    }
   }
  },
  {
   "cell_type": "code",
   "execution_count": 85,
   "outputs": [],
   "source": [
    "china_data = pd.DataFrame(columns=['referee', 'referral', 'contact', 'referee_age', 'referral_age', 'age_diff', 'referee_gender', 'referral_gender', 'gender_diff', 'referee_residency', 'referral_residency', 'residency_diff',\n",
    "                                       'referee_place_event', 'referral_place_event', 'place_event_diff', 'referee_symptom', 'referral_symptom', 'symptom_diff', 'referee_symptom_severity', 'referral_symptom_severity', 'symptom_severity_diff', 'referee_place_admission', 'referral_place_admission', 'place_admission_diff', 'referee_degree_centrality', 'referral_degree_centrality', 'degree_centrality_diff', 'referee_betweenness_centrality', 'referral_betweenness_centrality', 'betweenness_centrality_diff',\n",
    "                                       'referee_pagerank_centrality', 'referral_pagerank_centrality', 'pagerank_centrality_diff', 'referee_component_size', 'referral_component_size', 'component_size_diff'])"
   ],
   "metadata": {
    "collapsed": false,
    "pycharm": {
     "name": "#%%\n"
    }
   }
  },
  {
   "cell_type": "code",
   "execution_count": 86,
   "outputs": [],
   "source": [
    "added_combinations = set()\n",
    "for index, row in china_edgelist[~china_edgelist['Referral'].isna()].iterrows():\n",
    "    referee_id = row['Referee']\n",
    "    referral_id = row['Referral']\n",
    "    referee = china_nodelist.query('node_id == @referee_id')\n",
    "    referral = china_nodelist.query('node_id == @referral_id')\n",
    "    referee_network_stats = china_network.query('Referee == @referee_id')\n",
    "    referral_network_stats = china_network.query('Referee == @referral_id')\n",
    "\n",
    "    referee_age = referee['age'].iloc[0]\n",
    "    referral_age = referral['age'].iloc[0]\n",
    "    referee_gender = referee['gender_ints'].iloc[0]\n",
    "    referral_gender = referral['gender_ints'].iloc[0]\n",
    "    referee_residency = referee['residency_ints'].iloc[0]\n",
    "    referral_residency = referral['residency_ints'].iloc[0]\n",
    "    referee_place_event = referee['place_event_ints'].iloc[0]\n",
    "    referral_place_event = referral['place_event_ints'].iloc[0]\n",
    "    referee_symptom = referee['symptom_ints'].iloc[0]\n",
    "    referral_symptom = referral['symptom_ints'].iloc[0]\n",
    "    referee_symptom_severity = referee['symptom_severity_ints'].iloc[0]\n",
    "    referral_symptom_severity = referral['symptom_severity_ints'].iloc[0]\n",
    "    referee_place_admission = referee['place_admission_ints'].iloc[0]\n",
    "    referral_place_admission = referral['place_admission_ints'].iloc[0]\n",
    "\n",
    "    referee_degree_centrality = referee_network_stats['Degree_Centrality'].iloc[0]\n",
    "    referral_degree_centrality = referral_network_stats['Degree_Centrality'].iloc[0]\n",
    "    referee_betweenness_centrality = referee_network_stats['Betweenness_Centrality'].iloc[0]\n",
    "    referral_betweenness_centrality = referral_network_stats['Betweenness_Centrality'].iloc[0]\n",
    "    referee_pagerank_centrality = referee_network_stats['Pagerank_Centrality'].iloc[0]\n",
    "    referral_pagerank_centrality = referral_network_stats['Pagerank_Centrality'].iloc[0]\n",
    "    referee_component_size = referee_network_stats['Component_Size'].iloc[0]\n",
    "    referral_component_size = referral_network_stats['Component_Size'].iloc[0]\n",
    "\n",
    "    new_row = pd.Series({'referee': referee_id, 'referral': referral_id, 'contact': 1, 'referee_age': referee_age, 'referral_age': referral_age, 'age_diff': abs(referee_age - referral_age),\n",
    "                         'referee_gender': referee_gender, 'referral_gender': referral_gender, 'gender_diff': abs(referee_gender - referral_gender),\n",
    "                         'referee_residency': referee_residency, 'referral_residency': referral_residency, 'residency_diff': abs(referee_residency - referral_residency),\n",
    "                         'referee_place_event': referee_place_event, 'referral_place_event': referral_place_event, 'place_event_diff': abs(referee_place_event - referral_place_event),\n",
    "                         'referee_symptom': referee_symptom, 'referral_symptom': referral_symptom, 'symptom_diff': abs(referee_symptom - referral_symptom),\n",
    "                         'referee_symptom_severity': referee_symptom_severity, 'referral_symptom_severity': referral_symptom_severity, 'symptom_severity_diff': abs(referee_symptom_severity - referral_symptom_severity),\n",
    "                         'referee_place_admission': referee_place_admission, 'referral_place_admission': referral_place_admission, 'place_admission_diff': abs(referee_place_admission - referral_place_admission),\n",
    "                         'referee_degree_centrality': referee_degree_centrality, 'referral_degree_centrality': referral_degree_centrality, 'degree_centrality_diff': abs(referee_degree_centrality - referral_degree_centrality),\n",
    "                         'referee_betweenness_centrality': referee_betweenness_centrality, 'referral_betweenness_centrality': referral_betweenness_centrality, 'betweenness_centrality_diff': abs(referee_betweenness_centrality - referral_betweenness_centrality),\n",
    "                         'referee_pagerank_centrality': referee_pagerank_centrality, 'referral_pagerank_centrality': referral_pagerank_centrality, 'pagerank_centrality_diff': abs(referee_pagerank_centrality - referral_pagerank_centrality),\n",
    "                         'referee_component_size': referee_component_size, 'referral_component_size': referral_component_size, 'component_size_diff': abs(referee_component_size - referral_component_size)})\n",
    "    china_data = pd.concat([china_data, new_row.to_frame().T], axis='index', ignore_index=True)\n",
    "\n",
    "    added_combinations.add((referee_id, referral_id))\n",
    "    added_combinations.add((referral_id, referee_id))"
   ],
   "metadata": {
    "collapsed": false,
    "pycharm": {
     "name": "#%%\n"
    }
   }
  },
  {
   "cell_type": "code",
   "execution_count": 87,
   "outputs": [
    {
     "data": {
      "text/plain": "(11436, 36)"
     },
     "execution_count": 87,
     "metadata": {},
     "output_type": "execute_result"
    }
   ],
   "source": [
    "china_data.shape"
   ],
   "metadata": {
    "collapsed": false,
    "pycharm": {
     "name": "#%%\n"
    }
   }
  },
  {
   "cell_type": "code",
   "execution_count": 88,
   "outputs": [
    {
     "data": {
      "text/plain": "array(['shenzhen-185', 'nanjing-247', 'shijiazhuang-1022', 'shanghai-388',\n       'shenzhen-428', 'an-98', 'an-2555', 'wenzhou-128', 'anshun-3',\n       'xiamen-383', 'chengdu-554', 'yuzhong-15', 'shijiazhuang-4',\n       'yueyang-36', 'quanzhou-21', 'qingdao-54', 'zhengzhou-224',\n       'alxa-77', 'shanghai-1307', 'ganzhou-3', 'shijiazhuang-396',\n       'gannan-3', 'wenchang-3', 'an-2438', 'anyang-12',\n       'shijiazhuang-804', 'xiangtan-9', 'an-148', 'wenzhou-420',\n       'changjiang-3', 'an-1324', 'yinchuan-35', 'an-486', 'xinyu-46',\n       'yangzhou-74', 'putian-73', 'shijiazhuang-823', 'fujianputian-1',\n       'hulunbeier-290', 'nanchong-18', 'jiaxing-32', 'fuyang-72',\n       'shanghai-1842', 'tianjin-692', 'shanghai-556', 'an-351',\n       'guangzhou-819', 'yangzhou-531', 'guangzhou-14', 'rizhao-25',\n       'hulunbeier-520', 'shijiazhuang-844', 'an-1570', 'yongzhou-23',\n       'shangqiu-36', 'lanzhou-103', 'jining-23', 'xinyu-80',\n       'guangzhou-1064', 'yangzhou-38', 'guangzhou-1681', 'shaoyang-87',\n       'harbin-121', 'tianjin-668', 'tongliang-7', 'mudanjiang-263',\n       'bazhong-20', 'chengdu-457', 'anyang-14', 'shanghai-357',\n       'jinhua-38', 'hebi-13', 'liuzhou-2', 'shanghai-1275',\n       'shenzhen-149', 'langfang-29', 'hulunbeier-114', 'an-1415',\n       'guangzhou-279', 'shijiazhuang-679', 'hulunbeier-127',\n       'qianxinan-2', 'shijiazhuang-98', 'tianjin-400', 'shanghai-785',\n       'loudi-68', 'yiyang-55', 'shanghai-856', 'qingyuan-41',\n       'xuchang-84', 'pingxiang-17', 'lanzhou-136', 'tianjin-342',\n       'guangzhou-1027', 'xinyang-272', 'xuchang-132', 'shanghai-101',\n       'zhongshan-95', 'tianjin-276', 'shenzhen-238', 'ningbo-255',\n       'kunming-142', 'suzhou-18', 'an-130', 'ruili-105', 'shanghai-1190',\n       'tianjin-979', 'foshan-196', 'xiamen-40', 'guangzhou-76',\n       'xuchang-137', 'handan-19', 'shanghai-881', 'guilin-4',\n       'kunming-263', 'zhengzhou-111', 'shanghai-477', 'an-221',\n       'beijing-411', 'zhongxian-8', 'alxa-98', 'an-735', 'beijing-157',\n       'fuyang-75', 'shijiazhuang-805', 'xinyu-19', 'huaibei-16',\n       'guangzhou-438', 'shanghai-1390', 'an-2068', 'an-290', 'ruili-92',\n       'foshan-224', 'shaoyang-21', 'bengbu-40', 'guilin-23',\n       'shijiazhuang-497', 'shangqiu-42', 'guangzhou-334', 'foshan-174',\n       'guangzhou-749', 'zhuzhou-33', 'shenzhen-494', 'putian-11',\n       'taizhou-46', 'alxa-10', 'an-408', 'an-1057', 'yichun-24',\n       'tianjin-139'], dtype=object)"
     },
     "execution_count": 88,
     "metadata": {},
     "output_type": "execute_result"
    }
   ],
   "source": [
    "sample = np.random.choice(china_nodelist['node_id'], size=150, replace=False)\n",
    "sample"
   ],
   "metadata": {
    "collapsed": false,
    "pycharm": {
     "name": "#%%\n"
    }
   }
  },
  {
   "cell_type": "code",
   "execution_count": 89,
   "outputs": [
    {
     "data": {
      "text/plain": "  0%|          | 0/150 [00:00<?, ?it/s]",
      "application/vnd.jupyter.widget-view+json": {
       "version_major": 2,
       "version_minor": 0,
       "model_id": "997782a99a0b4ffe8829e9de83ac1954"
      }
     },
     "metadata": {},
     "output_type": "display_data"
    }
   ],
   "source": [
    "for ref_a in tqdm(sample):\n",
    "    for ref_b in sample:\n",
    "        if ref_a == ref_b:\n",
    "            continue\n",
    "        if (ref_a, ref_b) in added_combinations:\n",
    "            continue\n",
    "        if (ref_b, ref_a) in added_combinations:\n",
    "            continue\n",
    "\n",
    "        referee = china_nodelist.query('node_id == @ref_a')\n",
    "        referral = china_nodelist.query('node_id == @ref_b')\n",
    "        referee_network_stats = china_network.query('Referee == @ref_a')\n",
    "        referral_network_stats = china_network.query('Referee == @ref_b')\n",
    "\n",
    "        referee_age = referee['age'].iloc[0]\n",
    "        referral_age = referral['age'].iloc[0]\n",
    "        referee_gender = referee['gender_ints'].iloc[0]\n",
    "        referral_gender = referral['gender_ints'].iloc[0]\n",
    "        referee_residency = referee['residency_ints'].iloc[0]\n",
    "        referral_residency = referral['residency_ints'].iloc[0]\n",
    "        referee_place_event = referee['place_event_ints'].iloc[0]\n",
    "        referral_place_event = referral['place_event_ints'].iloc[0]\n",
    "        referee_symptom = referee['symptom_ints'].iloc[0]\n",
    "        referral_symptom = referral['symptom_ints'].iloc[0]\n",
    "        referee_symptom_severity = referee['symptom_severity_ints'].iloc[0]\n",
    "        referral_symptom_severity = referral['symptom_severity_ints'].iloc[0]\n",
    "        referee_place_admission = referee['place_admission_ints'].iloc[0]\n",
    "        referral_place_admission = referral['place_admission_ints'].iloc[0]\n",
    "\n",
    "        referee_degree_centrality = referee_network_stats['Degree_Centrality'].iloc[0]\n",
    "        referral_degree_centrality = referral_network_stats['Degree_Centrality'].iloc[0]\n",
    "        referee_betweenness_centrality = referee_network_stats['Betweenness_Centrality'].iloc[0]\n",
    "        referral_betweenness_centrality = referral_network_stats['Betweenness_Centrality'].iloc[0]\n",
    "        referee_pagerank_centrality = referee_network_stats['Pagerank_Centrality'].iloc[0]\n",
    "        referral_pagerank_centrality = referral_network_stats['Pagerank_Centrality'].iloc[0]\n",
    "        referee_component_size = referee_network_stats['Component_Size'].iloc[0]\n",
    "        referral_component_size = referral_network_stats['Component_Size'].iloc[0]\n",
    "\n",
    "        new_row = pd.Series({'referee': ref_a, 'referral': ref_b, 'contact': 0, 'referee_age': referee_age, 'referral_age': referral_age, 'age_diff': abs(referee_age - referral_age),\n",
    "                             'referee_gender': referee_gender, 'referral_gender': referral_gender, 'gender_diff': abs(referee_gender - referral_gender),\n",
    "                             'referee_residency': referee_residency, 'referral_residency': referral_residency, 'residency_diff': abs(referee_residency - referral_residency),\n",
    "                             'referee_place_event': referee_place_event, 'referral_place_event': referral_place_event, 'place_event_diff': abs(referee_place_event - referral_place_event),\n",
    "                             'referee_symptom': referee_symptom, 'referral_symptom': referral_symptom, 'symptom_diff': abs(referee_symptom - referral_symptom),\n",
    "                             'referee_symptom_severity': referee_symptom_severity, 'referral_symptom_severity': referral_symptom_severity, 'symptom_severity_diff': abs(referee_symptom_severity - referral_symptom_severity),\n",
    "                             'referee_place_admission': referee_place_admission, 'referral_place_admission': referral_place_admission, 'place_admission_diff': abs(referee_place_admission - referral_place_admission),\n",
    "                             'referee_degree_centrality': referee_degree_centrality, 'referral_degree_centrality': referral_degree_centrality, 'degree_centrality_diff': abs(referee_degree_centrality - referral_degree_centrality),\n",
    "                             'referee_betweenness_centrality': referee_betweenness_centrality, 'referral_betweenness_centrality': referral_betweenness_centrality, 'betweenness_centrality_diff': abs(referee_betweenness_centrality - referral_betweenness_centrality),\n",
    "                             'referee_pagerank_centrality': referee_pagerank_centrality, 'referral_pagerank_centrality': referral_pagerank_centrality, 'pagerank_centrality_diff': abs(referee_pagerank_centrality - referral_pagerank_centrality),\n",
    "                             'referee_component_size': referee_component_size, 'referral_component_size': referral_component_size, 'component_size_diff': abs(referee_component_size - referral_component_size)})\n",
    "        china_data = pd.concat([china_data, new_row.to_frame().T], axis='index', ignore_index=True)\n",
    "\n",
    "        added_combinations.add((ref_a, ref_b))\n",
    "        added_combinations.add((ref_b, ref_a))"
   ],
   "metadata": {
    "collapsed": false,
    "pycharm": {
     "name": "#%%\n"
    }
   }
  },
  {
   "cell_type": "code",
   "execution_count": 90,
   "outputs": [
    {
     "data": {
      "text/plain": "                referee          referral contact referee_age referral_age  \\\n0      shijiazhuang-155  shijiazhuang-176       1        29.0         61.0   \n1      shijiazhuang-155  shijiazhuang-156       1        29.0         35.0   \n2      shijiazhuang-150   shijiazhuang-38       1         3.0         55.0   \n3      shijiazhuang-150  shijiazhuang-151       1         3.0         33.0   \n4      shijiazhuang-145  shijiazhuang-146       1        15.0         52.0   \n...                 ...               ...     ...         ...          ...   \n22606            an-408         yichun-24       0        49.0         38.0   \n22607            an-408       tianjin-139       0        49.0         31.0   \n22608           an-1057         yichun-24       0        61.0         38.0   \n22609           an-1057       tianjin-139       0        61.0         31.0   \n22610         yichun-24       tianjin-139       0        38.0         31.0   \n\n      age_diff referee_gender referral_gender gender_diff referee_residency  \\\n0         32.0              0               1           1               244   \n1          6.0              0               0           0               244   \n2         52.0              0               0           0               244   \n3         30.0              0               0           0               244   \n4         37.0              0               0           0               244   \n...        ...            ...             ...         ...               ...   \n22606     11.0              1               2           1               480   \n22607     18.0              1               0           1               480   \n22608     23.0              0               2           2               539   \n22609     30.0              0               0           0               539   \n22610      7.0              2               0           2               318   \n\n       ... degree_centrality_diff referee_betweenness_centrality  \\\n0      ...                    0.0                            0.0   \n1      ...                    0.0                            0.0   \n2      ...               0.000039                            0.0   \n3      ...               0.000039                            0.0   \n4      ...               0.000116                            0.0   \n...    ...                    ...                            ...   \n22606  ...                    0.0                            0.0   \n22607  ...               0.000039                            0.0   \n22608  ...                    0.0                            0.0   \n22609  ...               0.000039                            0.0   \n22610  ...               0.000039                            0.0   \n\n      referral_betweenness_centrality betweenness_centrality_diff  \\\n0                                 0.0                         0.0   \n1                                 0.0                         0.0   \n2                                 0.0                         0.0   \n3                                 0.0                         0.0   \n4                                 0.0                         0.0   \n...                               ...                         ...   \n22606                             0.0                         0.0   \n22607                             0.0                         0.0   \n22608                             0.0                         0.0   \n22609                             0.0                         0.0   \n22610                             0.0                         0.0   \n\n      referee_pagerank_centrality referral_pagerank_centrality  \\\n0                        0.000116                     0.000116   \n1                        0.000116                     0.000116   \n2                        0.000166                     0.000091   \n3                        0.000166                     0.000091   \n4                          0.0002                     0.000061   \n...                           ...                          ...   \n22606                    0.000019                     0.000019   \n22607                    0.000019                     0.000116   \n22608                    0.000019                     0.000019   \n22609                    0.000019                     0.000116   \n22610                    0.000019                     0.000116   \n\n      pagerank_centrality_diff referee_component_size referral_component_size  \\\n0                          0.0                      4                       4   \n1                          0.0                      4                       4   \n2                     0.000075                      3                       3   \n3                     0.000075                      3                       3   \n4                     0.000139                      7                       7   \n...                        ...                    ...                     ...   \n22606                      0.0                      1                       1   \n22607                 0.000097                      1                       2   \n22608                      0.0                      1                       1   \n22609                 0.000097                      1                       2   \n22610                 0.000097                      1                       2   \n\n      component_size_diff  \n0                       0  \n1                       0  \n2                       0  \n3                       0  \n4                       0  \n...                   ...  \n22606                   0  \n22607                   1  \n22608                   0  \n22609                   1  \n22610                   1  \n\n[22611 rows x 36 columns]",
      "text/html": "<div>\n<style scoped>\n    .dataframe tbody tr th:only-of-type {\n        vertical-align: middle;\n    }\n\n    .dataframe tbody tr th {\n        vertical-align: top;\n    }\n\n    .dataframe thead th {\n        text-align: right;\n    }\n</style>\n<table border=\"1\" class=\"dataframe\">\n  <thead>\n    <tr style=\"text-align: right;\">\n      <th></th>\n      <th>referee</th>\n      <th>referral</th>\n      <th>contact</th>\n      <th>referee_age</th>\n      <th>referral_age</th>\n      <th>age_diff</th>\n      <th>referee_gender</th>\n      <th>referral_gender</th>\n      <th>gender_diff</th>\n      <th>referee_residency</th>\n      <th>...</th>\n      <th>degree_centrality_diff</th>\n      <th>referee_betweenness_centrality</th>\n      <th>referral_betweenness_centrality</th>\n      <th>betweenness_centrality_diff</th>\n      <th>referee_pagerank_centrality</th>\n      <th>referral_pagerank_centrality</th>\n      <th>pagerank_centrality_diff</th>\n      <th>referee_component_size</th>\n      <th>referral_component_size</th>\n      <th>component_size_diff</th>\n    </tr>\n  </thead>\n  <tbody>\n    <tr>\n      <th>0</th>\n      <td>shijiazhuang-155</td>\n      <td>shijiazhuang-176</td>\n      <td>1</td>\n      <td>29.0</td>\n      <td>61.0</td>\n      <td>32.0</td>\n      <td>0</td>\n      <td>1</td>\n      <td>1</td>\n      <td>244</td>\n      <td>...</td>\n      <td>0.0</td>\n      <td>0.0</td>\n      <td>0.0</td>\n      <td>0.0</td>\n      <td>0.000116</td>\n      <td>0.000116</td>\n      <td>0.0</td>\n      <td>4</td>\n      <td>4</td>\n      <td>0</td>\n    </tr>\n    <tr>\n      <th>1</th>\n      <td>shijiazhuang-155</td>\n      <td>shijiazhuang-156</td>\n      <td>1</td>\n      <td>29.0</td>\n      <td>35.0</td>\n      <td>6.0</td>\n      <td>0</td>\n      <td>0</td>\n      <td>0</td>\n      <td>244</td>\n      <td>...</td>\n      <td>0.0</td>\n      <td>0.0</td>\n      <td>0.0</td>\n      <td>0.0</td>\n      <td>0.000116</td>\n      <td>0.000116</td>\n      <td>0.0</td>\n      <td>4</td>\n      <td>4</td>\n      <td>0</td>\n    </tr>\n    <tr>\n      <th>2</th>\n      <td>shijiazhuang-150</td>\n      <td>shijiazhuang-38</td>\n      <td>1</td>\n      <td>3.0</td>\n      <td>55.0</td>\n      <td>52.0</td>\n      <td>0</td>\n      <td>0</td>\n      <td>0</td>\n      <td>244</td>\n      <td>...</td>\n      <td>0.000039</td>\n      <td>0.0</td>\n      <td>0.0</td>\n      <td>0.0</td>\n      <td>0.000166</td>\n      <td>0.000091</td>\n      <td>0.000075</td>\n      <td>3</td>\n      <td>3</td>\n      <td>0</td>\n    </tr>\n    <tr>\n      <th>3</th>\n      <td>shijiazhuang-150</td>\n      <td>shijiazhuang-151</td>\n      <td>1</td>\n      <td>3.0</td>\n      <td>33.0</td>\n      <td>30.0</td>\n      <td>0</td>\n      <td>0</td>\n      <td>0</td>\n      <td>244</td>\n      <td>...</td>\n      <td>0.000039</td>\n      <td>0.0</td>\n      <td>0.0</td>\n      <td>0.0</td>\n      <td>0.000166</td>\n      <td>0.000091</td>\n      <td>0.000075</td>\n      <td>3</td>\n      <td>3</td>\n      <td>0</td>\n    </tr>\n    <tr>\n      <th>4</th>\n      <td>shijiazhuang-145</td>\n      <td>shijiazhuang-146</td>\n      <td>1</td>\n      <td>15.0</td>\n      <td>52.0</td>\n      <td>37.0</td>\n      <td>0</td>\n      <td>0</td>\n      <td>0</td>\n      <td>244</td>\n      <td>...</td>\n      <td>0.000116</td>\n      <td>0.0</td>\n      <td>0.0</td>\n      <td>0.0</td>\n      <td>0.0002</td>\n      <td>0.000061</td>\n      <td>0.000139</td>\n      <td>7</td>\n      <td>7</td>\n      <td>0</td>\n    </tr>\n    <tr>\n      <th>...</th>\n      <td>...</td>\n      <td>...</td>\n      <td>...</td>\n      <td>...</td>\n      <td>...</td>\n      <td>...</td>\n      <td>...</td>\n      <td>...</td>\n      <td>...</td>\n      <td>...</td>\n      <td>...</td>\n      <td>...</td>\n      <td>...</td>\n      <td>...</td>\n      <td>...</td>\n      <td>...</td>\n      <td>...</td>\n      <td>...</td>\n      <td>...</td>\n      <td>...</td>\n      <td>...</td>\n    </tr>\n    <tr>\n      <th>22606</th>\n      <td>an-408</td>\n      <td>yichun-24</td>\n      <td>0</td>\n      <td>49.0</td>\n      <td>38.0</td>\n      <td>11.0</td>\n      <td>1</td>\n      <td>2</td>\n      <td>1</td>\n      <td>480</td>\n      <td>...</td>\n      <td>0.0</td>\n      <td>0.0</td>\n      <td>0.0</td>\n      <td>0.0</td>\n      <td>0.000019</td>\n      <td>0.000019</td>\n      <td>0.0</td>\n      <td>1</td>\n      <td>1</td>\n      <td>0</td>\n    </tr>\n    <tr>\n      <th>22607</th>\n      <td>an-408</td>\n      <td>tianjin-139</td>\n      <td>0</td>\n      <td>49.0</td>\n      <td>31.0</td>\n      <td>18.0</td>\n      <td>1</td>\n      <td>0</td>\n      <td>1</td>\n      <td>480</td>\n      <td>...</td>\n      <td>0.000039</td>\n      <td>0.0</td>\n      <td>0.0</td>\n      <td>0.0</td>\n      <td>0.000019</td>\n      <td>0.000116</td>\n      <td>0.000097</td>\n      <td>1</td>\n      <td>2</td>\n      <td>1</td>\n    </tr>\n    <tr>\n      <th>22608</th>\n      <td>an-1057</td>\n      <td>yichun-24</td>\n      <td>0</td>\n      <td>61.0</td>\n      <td>38.0</td>\n      <td>23.0</td>\n      <td>0</td>\n      <td>2</td>\n      <td>2</td>\n      <td>539</td>\n      <td>...</td>\n      <td>0.0</td>\n      <td>0.0</td>\n      <td>0.0</td>\n      <td>0.0</td>\n      <td>0.000019</td>\n      <td>0.000019</td>\n      <td>0.0</td>\n      <td>1</td>\n      <td>1</td>\n      <td>0</td>\n    </tr>\n    <tr>\n      <th>22609</th>\n      <td>an-1057</td>\n      <td>tianjin-139</td>\n      <td>0</td>\n      <td>61.0</td>\n      <td>31.0</td>\n      <td>30.0</td>\n      <td>0</td>\n      <td>0</td>\n      <td>0</td>\n      <td>539</td>\n      <td>...</td>\n      <td>0.000039</td>\n      <td>0.0</td>\n      <td>0.0</td>\n      <td>0.0</td>\n      <td>0.000019</td>\n      <td>0.000116</td>\n      <td>0.000097</td>\n      <td>1</td>\n      <td>2</td>\n      <td>1</td>\n    </tr>\n    <tr>\n      <th>22610</th>\n      <td>yichun-24</td>\n      <td>tianjin-139</td>\n      <td>0</td>\n      <td>38.0</td>\n      <td>31.0</td>\n      <td>7.0</td>\n      <td>2</td>\n      <td>0</td>\n      <td>2</td>\n      <td>318</td>\n      <td>...</td>\n      <td>0.000039</td>\n      <td>0.0</td>\n      <td>0.0</td>\n      <td>0.0</td>\n      <td>0.000019</td>\n      <td>0.000116</td>\n      <td>0.000097</td>\n      <td>1</td>\n      <td>2</td>\n      <td>1</td>\n    </tr>\n  </tbody>\n</table>\n<p>22611 rows × 36 columns</p>\n</div>"
     },
     "execution_count": 90,
     "metadata": {},
     "output_type": "execute_result"
    }
   ],
   "source": [
    "china_data"
   ],
   "metadata": {
    "collapsed": false,
    "pycharm": {
     "name": "#%%\n"
    }
   }
  },
  {
   "cell_type": "code",
   "execution_count": 91,
   "outputs": [],
   "source": [
    "china_data = china_data.fillna(value=-999)\n",
    "\n",
    "china_data['gender_diff'] = china_data['gender_diff'].where(china_data['gender_diff'] <= 0, 1)\n",
    "china_data['residency_diff'] = china_data['residency_diff'].where(china_data['residency_diff'] <= 0, 1)\n",
    "china_data['place_event_diff'] = china_data['place_event_diff'].where(china_data['place_event_diff'] <= 0, 1)\n",
    "china_data['symptom_diff'] = china_data['symptom_diff'].where(china_data['symptom_diff'] <= 0, 1)\n",
    "china_data['symptom_severity_diff'] = china_data['symptom_severity_diff'].where(china_data['symptom_severity_diff'] <= 0, 1)\n",
    "china_data['place_admission_diff'] = china_data['place_admission_diff'].where(china_data['place_admission_diff'] <= 0, 1)"
   ],
   "metadata": {
    "collapsed": false,
    "pycharm": {
     "name": "#%%\n"
    }
   }
  },
  {
   "cell_type": "code",
   "execution_count": 92,
   "outputs": [],
   "source": [
    "china_data[['referee_age', 'referral_age', 'age_diff', 'referee_degree_centrality', 'referral_degree_centrality',\n",
    "                'degree_centrality_diff', 'referee_betweenness_centrality',\n",
    "                'referral_betweenness_centrality', 'betweenness_centrality_diff',\n",
    "                'referee_pagerank_centrality', 'referral_pagerank_centrality',\n",
    "                'pagerank_centrality_diff', 'referee_component_size',\n",
    "                'referral_component_size', 'component_size_diff']] = normalize(china_data[['referee_age', 'referral_age', 'age_diff', 'referee_degree_centrality', 'referral_degree_centrality',\n",
    "                                                                                               'degree_centrality_diff', 'referee_betweenness_centrality',\n",
    "                                                                                               'referral_betweenness_centrality', 'betweenness_centrality_diff',\n",
    "                                                                                               'referee_pagerank_centrality', 'referral_pagerank_centrality',\n",
    "                                                                                               'pagerank_centrality_diff', 'referee_component_size',\n",
    "                                                                                               'referral_component_size', 'component_size_diff']])\n",
    "china_data[['referee_age', 'referral_age', 'age_diff', 'referee_degree_centrality', 'referral_degree_centrality',\n",
    "                'degree_centrality_diff', 'referee_betweenness_centrality',\n",
    "                'referral_betweenness_centrality', 'betweenness_centrality_diff',\n",
    "                'referee_pagerank_centrality', 'referral_pagerank_centrality',\n",
    "                'pagerank_centrality_diff', 'referee_component_size',\n",
    "                'referral_component_size', 'component_size_diff']] = scale(china_data[['referee_age', 'referral_age', 'age_diff', 'referee_degree_centrality', 'referral_degree_centrality',\n",
    "                                                                                           'degree_centrality_diff', 'referee_betweenness_centrality',\n",
    "                                                                                           'referral_betweenness_centrality', 'betweenness_centrality_diff',\n",
    "                                                                                           'referee_pagerank_centrality', 'referral_pagerank_centrality',\n",
    "                                                                                           'pagerank_centrality_diff', 'referee_component_size',\n",
    "                                                                                           'referral_component_size', 'component_size_diff']])"
   ],
   "metadata": {
    "collapsed": false,
    "pycharm": {
     "name": "#%%\n"
    }
   }
  },
  {
   "cell_type": "code",
   "execution_count": 93,
   "outputs": [
    {
     "data": {
      "text/plain": "array([ 0.3333702 ,  0.41207751,  0.38931445, -0.30083026, -0.23272957,\n       -0.09646081, -0.03643705, -0.00890749, -0.63299648, -0.02298823,\n        0.01322318, -0.07837373,  0.13398849,  0.11490282,  0.0336319 ,\n       -0.04831851, -0.02206979, -0.32785323, -0.23998541, -0.20738531,\n       -0.93147155,  0.56505346,  0.52427747,  0.11257618,  0.0308492 ,\n        0.13327541,  0.13213098,  0.57097862,  0.37805741,  0.11430363,\n        0.39692128,  0.44650685, -0.22236369])"
     },
     "execution_count": 93,
     "metadata": {},
     "output_type": "execute_result"
    }
   ],
   "source": [
    "r_regression(china_data[china_data.columns[3:]], china_data['contact'])"
   ],
   "metadata": {
    "collapsed": false,
    "pycharm": {
     "name": "#%%\n"
    }
   }
  },
  {
   "cell_type": "code",
   "execution_count": 94,
   "outputs": [
    {
     "data": {
      "text/plain": "(array([2.82682831e+03, 4.62445518e+03, 4.03891023e+03, 2.24968206e+03,\n        1.29469725e+03, 2.12345492e+02, 3.00569421e+01, 1.79401772e+00,\n        1.51157067e+04, 1.19542388e+01, 3.95393321e+00, 1.39732749e+02,\n        4.13317730e+02, 3.02492622e+02, 2.56021057e+01, 5.29082709e+01,\n        1.10176610e+01, 2.72286489e+03, 1.38169612e+03, 1.01608333e+03,\n        1.48204468e+05, 1.06046265e+04, 8.57010224e+03, 2.90210751e+02,\n        2.15368705e+01, 4.08850755e+02, 4.01735108e+02, 1.09363358e+04,\n        3.77032917e+03, 2.99304299e+02, 4.22808963e+03, 5.62995433e+03,\n        1.17606712e+03]),\n array([0.00000000e+000, 0.00000000e+000, 0.00000000e+000, 0.00000000e+000,\n        9.39031988e-276, 6.97226186e-048, 4.24030133e-008, 1.80450873e-001,\n        0.00000000e+000, 5.46234741e-004, 4.67739850e-002, 3.78764493e-032,\n        4.53301663e-091, 2.58901136e-067, 4.22866761e-007, 3.60882594e-013,\n        9.03905062e-004, 0.00000000e+000, 1.32881667e-293, 3.82058982e-218,\n        0.00000000e+000, 0.00000000e+000, 0.00000000e+000, 1.13351494e-064,\n        3.49037762e-006, 4.08660725e-090, 1.35838287e-088, 0.00000000e+000,\n        0.00000000e+000, 1.25496595e-066, 0.00000000e+000, 0.00000000e+000,\n        2.61846956e-251]))"
     },
     "execution_count": 94,
     "metadata": {},
     "output_type": "execute_result"
    }
   ],
   "source": [
    "f_regression(china_data[china_data.columns[3:]], china_data['contact'])"
   ],
   "metadata": {
    "collapsed": false,
    "pycharm": {
     "name": "#%%\n"
    }
   }
  },
  {
   "cell_type": "code",
   "execution_count": null,
   "outputs": [],
   "source": [],
   "metadata": {
    "collapsed": false,
    "pycharm": {
     "name": "#%%\n"
    }
   }
  }
 ],
 "metadata": {
  "kernelspec": {
   "display_name": "Python 3",
   "language": "python",
   "name": "python3"
  },
  "language_info": {
   "codemirror_mode": {
    "name": "ipython",
    "version": 2
   },
   "file_extension": ".py",
   "mimetype": "text/x-python",
   "name": "python",
   "nbconvert_exporter": "python",
   "pygments_lexer": "ipython2",
   "version": "2.7.6"
  }
 },
 "nbformat": 4,
 "nbformat_minor": 0
}