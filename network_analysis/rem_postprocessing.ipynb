{
 "cells": [
  {
   "cell_type": "code",
   "execution_count": 1,
   "outputs": [],
   "source": [
    "import pandas as pd\n",
    "import numpy as np"
   ],
   "metadata": {
    "collapsed": false,
    "pycharm": {
     "name": "#%%\n"
    }
   }
  },
  {
   "cell_type": "markdown",
   "source": [
    "# Yunnan"
   ],
   "metadata": {
    "collapsed": false,
    "pycharm": {
     "name": "#%% md\n"
    }
   }
  },
  {
   "cell_type": "markdown",
   "source": [
    "## Uncond"
   ],
   "metadata": {
    "collapsed": false,
    "pycharm": {
     "name": "#%% md\n"
    }
   }
  },
  {
   "cell_type": "code",
   "execution_count": 2,
   "outputs": [
    {
     "data": {
      "text/plain": "        IS_OBSERVED  SOURCE  TARGET    TIME                TYPE  WEIGHT  \\\n0                 1       1      10  200117  contact_nomination     1.0   \n1                 0     100       7  200117                 NaN     0.0   \n2                 0     100       6  200117                 NaN     0.0   \n3                 0     100       5  200117                 NaN     0.0   \n4                 0     100       4  200117                 NaN     0.0   \n...             ...     ...     ...     ...                 ...     ...   \n406975            0      99      94  200216                 NaN     0.0   \n406976            0      99      95  200216                 NaN     0.0   \n406977            0      99      96  200216                 NaN     0.0   \n406978            0      99      97  200216                 NaN     0.0   \n406979            0      99      98  200216                 NaN     0.0   \n\n        EVENT_INTERVAL_ID  EVENT   INTEGER_TIME  TIME_POINT  ...  \\\n0                     0.0    685  1579215600000           2  ...   \n1                     NaN    685  1579215600000           2  ...   \n2                     NaN    685  1579215600000           2  ...   \n3                     NaN    685  1579215600000           2  ...   \n4                     NaN    685  1579215600000           2  ...   \n...                   ...    ...            ...         ...  ...   \n406975                NaN    788  1581807600000          15  ...   \n406976                NaN    788  1581807600000          15  ...   \n406977                NaN    788  1581807600000          15  ...   \n406978                NaN    788  1581807600000          15  ...   \n406979                NaN    788  1581807600000          15  ...   \n\n        triangle_effect_children  triangle_effect_parents  network_activity  \\\n0                              0                        0                 0   \n1                              0                        0                 0   \n2                              0                        0                 0   \n3                              0                        0                 0   \n4                              0                        0                 0   \n...                          ...                      ...               ...   \n406975                         0                        0                99   \n406976                         0                        1                99   \n406977                         0                        2                99   \n406978                         0                        0                99   \n406979                         0                        2                99   \n\n         network_time  referee_age  referral_age  referee_gender  \\\n0                   0           -1            63               1   \n1                   0           56            24               1   \n2                   0           56            42               1   \n3                   0           56            49               1   \n4                   0           56            34               1   \n...               ...          ...           ...             ...   \n406975  1581634800000           37            70               0   \n406976  1581634800000           37            53               0   \n406977  1581634800000           37            72               0   \n406978  1581634800000           37            45               0   \n406979  1581634800000           37            62               0   \n\n        referral_gender  referee_relatives  referral_relatives  \n0                     1                  1                  -1  \n1                     1                 -1                  -1  \n2                     0                 -1                  -1  \n3                     1                 -1                  -1  \n4                     0                 -1                  -1  \n...                 ...                ...                 ...  \n406975                0                  1                  -1  \n406976                0                  1                   1  \n406977                1                  1                   1  \n406978                0                  1                  -1  \n406979                0                  1                   1  \n\n[406980 rows x 28 columns]",
      "text/html": "<div>\n<style scoped>\n    .dataframe tbody tr th:only-of-type {\n        vertical-align: middle;\n    }\n\n    .dataframe tbody tr th {\n        vertical-align: top;\n    }\n\n    .dataframe thead th {\n        text-align: right;\n    }\n</style>\n<table border=\"1\" class=\"dataframe\">\n  <thead>\n    <tr style=\"text-align: right;\">\n      <th></th>\n      <th>IS_OBSERVED</th>\n      <th>SOURCE</th>\n      <th>TARGET</th>\n      <th>TIME</th>\n      <th>TYPE</th>\n      <th>WEIGHT</th>\n      <th>EVENT_INTERVAL_ID</th>\n      <th>EVENT</th>\n      <th>INTEGER_TIME</th>\n      <th>TIME_POINT</th>\n      <th>...</th>\n      <th>triangle_effect_children</th>\n      <th>triangle_effect_parents</th>\n      <th>network_activity</th>\n      <th>network_time</th>\n      <th>referee_age</th>\n      <th>referral_age</th>\n      <th>referee_gender</th>\n      <th>referral_gender</th>\n      <th>referee_relatives</th>\n      <th>referral_relatives</th>\n    </tr>\n  </thead>\n  <tbody>\n    <tr>\n      <th>0</th>\n      <td>1</td>\n      <td>1</td>\n      <td>10</td>\n      <td>200117</td>\n      <td>contact_nomination</td>\n      <td>1.0</td>\n      <td>0.0</td>\n      <td>685</td>\n      <td>1579215600000</td>\n      <td>2</td>\n      <td>...</td>\n      <td>0</td>\n      <td>0</td>\n      <td>0</td>\n      <td>0</td>\n      <td>-1</td>\n      <td>63</td>\n      <td>1</td>\n      <td>1</td>\n      <td>1</td>\n      <td>-1</td>\n    </tr>\n    <tr>\n      <th>1</th>\n      <td>0</td>\n      <td>100</td>\n      <td>7</td>\n      <td>200117</td>\n      <td>NaN</td>\n      <td>0.0</td>\n      <td>NaN</td>\n      <td>685</td>\n      <td>1579215600000</td>\n      <td>2</td>\n      <td>...</td>\n      <td>0</td>\n      <td>0</td>\n      <td>0</td>\n      <td>0</td>\n      <td>56</td>\n      <td>24</td>\n      <td>1</td>\n      <td>1</td>\n      <td>-1</td>\n      <td>-1</td>\n    </tr>\n    <tr>\n      <th>2</th>\n      <td>0</td>\n      <td>100</td>\n      <td>6</td>\n      <td>200117</td>\n      <td>NaN</td>\n      <td>0.0</td>\n      <td>NaN</td>\n      <td>685</td>\n      <td>1579215600000</td>\n      <td>2</td>\n      <td>...</td>\n      <td>0</td>\n      <td>0</td>\n      <td>0</td>\n      <td>0</td>\n      <td>56</td>\n      <td>42</td>\n      <td>1</td>\n      <td>0</td>\n      <td>-1</td>\n      <td>-1</td>\n    </tr>\n    <tr>\n      <th>3</th>\n      <td>0</td>\n      <td>100</td>\n      <td>5</td>\n      <td>200117</td>\n      <td>NaN</td>\n      <td>0.0</td>\n      <td>NaN</td>\n      <td>685</td>\n      <td>1579215600000</td>\n      <td>2</td>\n      <td>...</td>\n      <td>0</td>\n      <td>0</td>\n      <td>0</td>\n      <td>0</td>\n      <td>56</td>\n      <td>49</td>\n      <td>1</td>\n      <td>1</td>\n      <td>-1</td>\n      <td>-1</td>\n    </tr>\n    <tr>\n      <th>4</th>\n      <td>0</td>\n      <td>100</td>\n      <td>4</td>\n      <td>200117</td>\n      <td>NaN</td>\n      <td>0.0</td>\n      <td>NaN</td>\n      <td>685</td>\n      <td>1579215600000</td>\n      <td>2</td>\n      <td>...</td>\n      <td>0</td>\n      <td>0</td>\n      <td>0</td>\n      <td>0</td>\n      <td>56</td>\n      <td>34</td>\n      <td>1</td>\n      <td>0</td>\n      <td>-1</td>\n      <td>-1</td>\n    </tr>\n    <tr>\n      <th>...</th>\n      <td>...</td>\n      <td>...</td>\n      <td>...</td>\n      <td>...</td>\n      <td>...</td>\n      <td>...</td>\n      <td>...</td>\n      <td>...</td>\n      <td>...</td>\n      <td>...</td>\n      <td>...</td>\n      <td>...</td>\n      <td>...</td>\n      <td>...</td>\n      <td>...</td>\n      <td>...</td>\n      <td>...</td>\n      <td>...</td>\n      <td>...</td>\n      <td>...</td>\n      <td>...</td>\n    </tr>\n    <tr>\n      <th>406975</th>\n      <td>0</td>\n      <td>99</td>\n      <td>94</td>\n      <td>200216</td>\n      <td>NaN</td>\n      <td>0.0</td>\n      <td>NaN</td>\n      <td>788</td>\n      <td>1581807600000</td>\n      <td>15</td>\n      <td>...</td>\n      <td>0</td>\n      <td>0</td>\n      <td>99</td>\n      <td>1581634800000</td>\n      <td>37</td>\n      <td>70</td>\n      <td>0</td>\n      <td>0</td>\n      <td>1</td>\n      <td>-1</td>\n    </tr>\n    <tr>\n      <th>406976</th>\n      <td>0</td>\n      <td>99</td>\n      <td>95</td>\n      <td>200216</td>\n      <td>NaN</td>\n      <td>0.0</td>\n      <td>NaN</td>\n      <td>788</td>\n      <td>1581807600000</td>\n      <td>15</td>\n      <td>...</td>\n      <td>0</td>\n      <td>1</td>\n      <td>99</td>\n      <td>1581634800000</td>\n      <td>37</td>\n      <td>53</td>\n      <td>0</td>\n      <td>0</td>\n      <td>1</td>\n      <td>1</td>\n    </tr>\n    <tr>\n      <th>406977</th>\n      <td>0</td>\n      <td>99</td>\n      <td>96</td>\n      <td>200216</td>\n      <td>NaN</td>\n      <td>0.0</td>\n      <td>NaN</td>\n      <td>788</td>\n      <td>1581807600000</td>\n      <td>15</td>\n      <td>...</td>\n      <td>0</td>\n      <td>2</td>\n      <td>99</td>\n      <td>1581634800000</td>\n      <td>37</td>\n      <td>72</td>\n      <td>0</td>\n      <td>1</td>\n      <td>1</td>\n      <td>1</td>\n    </tr>\n    <tr>\n      <th>406978</th>\n      <td>0</td>\n      <td>99</td>\n      <td>97</td>\n      <td>200216</td>\n      <td>NaN</td>\n      <td>0.0</td>\n      <td>NaN</td>\n      <td>788</td>\n      <td>1581807600000</td>\n      <td>15</td>\n      <td>...</td>\n      <td>0</td>\n      <td>0</td>\n      <td>99</td>\n      <td>1581634800000</td>\n      <td>37</td>\n      <td>45</td>\n      <td>0</td>\n      <td>0</td>\n      <td>1</td>\n      <td>-1</td>\n    </tr>\n    <tr>\n      <th>406979</th>\n      <td>0</td>\n      <td>99</td>\n      <td>98</td>\n      <td>200216</td>\n      <td>NaN</td>\n      <td>0.0</td>\n      <td>NaN</td>\n      <td>788</td>\n      <td>1581807600000</td>\n      <td>15</td>\n      <td>...</td>\n      <td>0</td>\n      <td>2</td>\n      <td>99</td>\n      <td>1581634800000</td>\n      <td>37</td>\n      <td>62</td>\n      <td>0</td>\n      <td>0</td>\n      <td>1</td>\n      <td>1</td>\n    </tr>\n  </tbody>\n</table>\n<p>406980 rows × 28 columns</p>\n</div>"
     },
     "execution_count": 2,
     "metadata": {},
     "output_type": "execute_result"
    }
   ],
   "source": [
    "yunnan_rem = pd.read_csv('../Data/Tables/rem/yunnan_eventlist_nomination.csv', low_memory=False)\n",
    "yunnan_rem"
   ],
   "metadata": {
    "collapsed": false,
    "pycharm": {
     "name": "#%%\n"
    }
   }
  },
  {
   "cell_type": "code",
   "execution_count": 3,
   "outputs": [],
   "source": [
    "yunnan_rem['referee_age'] = yunnan_rem['referee_age'].where(yunnan_rem['referee_age'] != -1, np.nan).astype('Int64')\n",
    "yunnan_rem['referral_age'] = yunnan_rem['referral_age'].where(yunnan_rem['referral_age'] != -1, np.nan).astype('Int64')\n",
    "\n",
    "yunnan_rem['referee_gender'] = yunnan_rem['referee_gender'].where(yunnan_rem['referee_gender'] != -1, np.nan).astype('Int64')\n",
    "yunnan_rem['referral_gender'] = yunnan_rem['referral_gender'].where(yunnan_rem['referral_gender'] != -1, np.nan).astype('Int64')\n",
    "\n",
    "yunnan_rem['referee_relatives'] = yunnan_rem['referee_relatives'].where(yunnan_rem['referee_relatives'] != -1, np.nan).astype('Int64')\n",
    "yunnan_rem['referral_relatives'] = yunnan_rem['referral_relatives'].where(yunnan_rem['referral_relatives'] != -1, np.nan).astype('Int64')"
   ],
   "metadata": {
    "collapsed": false,
    "pycharm": {
     "name": "#%%\n"
    }
   }
  },
  {
   "cell_type": "code",
   "execution_count": 4,
   "outputs": [
    {
     "data": {
      "text/plain": "        IS_OBSERVED  SOURCE  TARGET    TIME                TYPE  WEIGHT  \\\n0                 1       1      10  200117  contact_nomination     1.0   \n1                 0     100       7  200117                 NaN     0.0   \n2                 0     100       6  200117                 NaN     0.0   \n3                 0     100       5  200117                 NaN     0.0   \n4                 0     100       4  200117                 NaN     0.0   \n...             ...     ...     ...     ...                 ...     ...   \n406975            0      99      94  200216                 NaN     0.0   \n406976            0      99      95  200216                 NaN     0.0   \n406977            0      99      96  200216                 NaN     0.0   \n406978            0      99      97  200216                 NaN     0.0   \n406979            0      99      98  200216                 NaN     0.0   \n\n        EVENT_INTERVAL_ID  EVENT   INTEGER_TIME  TIME_POINT  ...  \\\n0                     0.0    685  1579215600000           2  ...   \n1                     NaN    685  1579215600000           2  ...   \n2                     NaN    685  1579215600000           2  ...   \n3                     NaN    685  1579215600000           2  ...   \n4                     NaN    685  1579215600000           2  ...   \n...                   ...    ...            ...         ...  ...   \n406975                NaN    788  1581807600000          15  ...   \n406976                NaN    788  1581807600000          15  ...   \n406977                NaN    788  1581807600000          15  ...   \n406978                NaN    788  1581807600000          15  ...   \n406979                NaN    788  1581807600000          15  ...   \n\n         network_time  referee_age  referral_age  referee_gender  \\\n0                   0         <NA>            63               1   \n1                   0           56            24               1   \n2                   0           56            42               1   \n3                   0           56            49               1   \n4                   0           56            34               1   \n...               ...          ...           ...             ...   \n406975  1581634800000           37            70               0   \n406976  1581634800000           37            53               0   \n406977  1581634800000           37            72               0   \n406978  1581634800000           37            45               0   \n406979  1581634800000           37            62               0   \n\n        referral_gender  referee_relatives  referral_relatives  \\\n0                     1                  1                <NA>   \n1                     1               <NA>                <NA>   \n2                     0               <NA>                <NA>   \n3                     1               <NA>                <NA>   \n4                     0               <NA>                <NA>   \n...                 ...                ...                 ...   \n406975                0                  1                <NA>   \n406976                0                  1                   1   \n406977                1                  1                   1   \n406978                0                  1                <NA>   \n406979                0                  1                   1   \n\n        age_difference  gender_difference  relatives_difference  \n0                 <NA>                  0                  <NA>  \n1                   32                  0                  <NA>  \n2                   14                  1                  <NA>  \n3                    7                  0                  <NA>  \n4                   22                  1                  <NA>  \n...                ...                ...                   ...  \n406975              33                  0                  <NA>  \n406976              16                  0                     0  \n406977              35                  1                     0  \n406978               8                  0                  <NA>  \n406979              25                  0                     0  \n\n[406980 rows x 31 columns]",
      "text/html": "<div>\n<style scoped>\n    .dataframe tbody tr th:only-of-type {\n        vertical-align: middle;\n    }\n\n    .dataframe tbody tr th {\n        vertical-align: top;\n    }\n\n    .dataframe thead th {\n        text-align: right;\n    }\n</style>\n<table border=\"1\" class=\"dataframe\">\n  <thead>\n    <tr style=\"text-align: right;\">\n      <th></th>\n      <th>IS_OBSERVED</th>\n      <th>SOURCE</th>\n      <th>TARGET</th>\n      <th>TIME</th>\n      <th>TYPE</th>\n      <th>WEIGHT</th>\n      <th>EVENT_INTERVAL_ID</th>\n      <th>EVENT</th>\n      <th>INTEGER_TIME</th>\n      <th>TIME_POINT</th>\n      <th>...</th>\n      <th>network_time</th>\n      <th>referee_age</th>\n      <th>referral_age</th>\n      <th>referee_gender</th>\n      <th>referral_gender</th>\n      <th>referee_relatives</th>\n      <th>referral_relatives</th>\n      <th>age_difference</th>\n      <th>gender_difference</th>\n      <th>relatives_difference</th>\n    </tr>\n  </thead>\n  <tbody>\n    <tr>\n      <th>0</th>\n      <td>1</td>\n      <td>1</td>\n      <td>10</td>\n      <td>200117</td>\n      <td>contact_nomination</td>\n      <td>1.0</td>\n      <td>0.0</td>\n      <td>685</td>\n      <td>1579215600000</td>\n      <td>2</td>\n      <td>...</td>\n      <td>0</td>\n      <td>&lt;NA&gt;</td>\n      <td>63</td>\n      <td>1</td>\n      <td>1</td>\n      <td>1</td>\n      <td>&lt;NA&gt;</td>\n      <td>&lt;NA&gt;</td>\n      <td>0</td>\n      <td>&lt;NA&gt;</td>\n    </tr>\n    <tr>\n      <th>1</th>\n      <td>0</td>\n      <td>100</td>\n      <td>7</td>\n      <td>200117</td>\n      <td>NaN</td>\n      <td>0.0</td>\n      <td>NaN</td>\n      <td>685</td>\n      <td>1579215600000</td>\n      <td>2</td>\n      <td>...</td>\n      <td>0</td>\n      <td>56</td>\n      <td>24</td>\n      <td>1</td>\n      <td>1</td>\n      <td>&lt;NA&gt;</td>\n      <td>&lt;NA&gt;</td>\n      <td>32</td>\n      <td>0</td>\n      <td>&lt;NA&gt;</td>\n    </tr>\n    <tr>\n      <th>2</th>\n      <td>0</td>\n      <td>100</td>\n      <td>6</td>\n      <td>200117</td>\n      <td>NaN</td>\n      <td>0.0</td>\n      <td>NaN</td>\n      <td>685</td>\n      <td>1579215600000</td>\n      <td>2</td>\n      <td>...</td>\n      <td>0</td>\n      <td>56</td>\n      <td>42</td>\n      <td>1</td>\n      <td>0</td>\n      <td>&lt;NA&gt;</td>\n      <td>&lt;NA&gt;</td>\n      <td>14</td>\n      <td>1</td>\n      <td>&lt;NA&gt;</td>\n    </tr>\n    <tr>\n      <th>3</th>\n      <td>0</td>\n      <td>100</td>\n      <td>5</td>\n      <td>200117</td>\n      <td>NaN</td>\n      <td>0.0</td>\n      <td>NaN</td>\n      <td>685</td>\n      <td>1579215600000</td>\n      <td>2</td>\n      <td>...</td>\n      <td>0</td>\n      <td>56</td>\n      <td>49</td>\n      <td>1</td>\n      <td>1</td>\n      <td>&lt;NA&gt;</td>\n      <td>&lt;NA&gt;</td>\n      <td>7</td>\n      <td>0</td>\n      <td>&lt;NA&gt;</td>\n    </tr>\n    <tr>\n      <th>4</th>\n      <td>0</td>\n      <td>100</td>\n      <td>4</td>\n      <td>200117</td>\n      <td>NaN</td>\n      <td>0.0</td>\n      <td>NaN</td>\n      <td>685</td>\n      <td>1579215600000</td>\n      <td>2</td>\n      <td>...</td>\n      <td>0</td>\n      <td>56</td>\n      <td>34</td>\n      <td>1</td>\n      <td>0</td>\n      <td>&lt;NA&gt;</td>\n      <td>&lt;NA&gt;</td>\n      <td>22</td>\n      <td>1</td>\n      <td>&lt;NA&gt;</td>\n    </tr>\n    <tr>\n      <th>...</th>\n      <td>...</td>\n      <td>...</td>\n      <td>...</td>\n      <td>...</td>\n      <td>...</td>\n      <td>...</td>\n      <td>...</td>\n      <td>...</td>\n      <td>...</td>\n      <td>...</td>\n      <td>...</td>\n      <td>...</td>\n      <td>...</td>\n      <td>...</td>\n      <td>...</td>\n      <td>...</td>\n      <td>...</td>\n      <td>...</td>\n      <td>...</td>\n      <td>...</td>\n      <td>...</td>\n    </tr>\n    <tr>\n      <th>406975</th>\n      <td>0</td>\n      <td>99</td>\n      <td>94</td>\n      <td>200216</td>\n      <td>NaN</td>\n      <td>0.0</td>\n      <td>NaN</td>\n      <td>788</td>\n      <td>1581807600000</td>\n      <td>15</td>\n      <td>...</td>\n      <td>1581634800000</td>\n      <td>37</td>\n      <td>70</td>\n      <td>0</td>\n      <td>0</td>\n      <td>1</td>\n      <td>&lt;NA&gt;</td>\n      <td>33</td>\n      <td>0</td>\n      <td>&lt;NA&gt;</td>\n    </tr>\n    <tr>\n      <th>406976</th>\n      <td>0</td>\n      <td>99</td>\n      <td>95</td>\n      <td>200216</td>\n      <td>NaN</td>\n      <td>0.0</td>\n      <td>NaN</td>\n      <td>788</td>\n      <td>1581807600000</td>\n      <td>15</td>\n      <td>...</td>\n      <td>1581634800000</td>\n      <td>37</td>\n      <td>53</td>\n      <td>0</td>\n      <td>0</td>\n      <td>1</td>\n      <td>1</td>\n      <td>16</td>\n      <td>0</td>\n      <td>0</td>\n    </tr>\n    <tr>\n      <th>406977</th>\n      <td>0</td>\n      <td>99</td>\n      <td>96</td>\n      <td>200216</td>\n      <td>NaN</td>\n      <td>0.0</td>\n      <td>NaN</td>\n      <td>788</td>\n      <td>1581807600000</td>\n      <td>15</td>\n      <td>...</td>\n      <td>1581634800000</td>\n      <td>37</td>\n      <td>72</td>\n      <td>0</td>\n      <td>1</td>\n      <td>1</td>\n      <td>1</td>\n      <td>35</td>\n      <td>1</td>\n      <td>0</td>\n    </tr>\n    <tr>\n      <th>406978</th>\n      <td>0</td>\n      <td>99</td>\n      <td>97</td>\n      <td>200216</td>\n      <td>NaN</td>\n      <td>0.0</td>\n      <td>NaN</td>\n      <td>788</td>\n      <td>1581807600000</td>\n      <td>15</td>\n      <td>...</td>\n      <td>1581634800000</td>\n      <td>37</td>\n      <td>45</td>\n      <td>0</td>\n      <td>0</td>\n      <td>1</td>\n      <td>&lt;NA&gt;</td>\n      <td>8</td>\n      <td>0</td>\n      <td>&lt;NA&gt;</td>\n    </tr>\n    <tr>\n      <th>406979</th>\n      <td>0</td>\n      <td>99</td>\n      <td>98</td>\n      <td>200216</td>\n      <td>NaN</td>\n      <td>0.0</td>\n      <td>NaN</td>\n      <td>788</td>\n      <td>1581807600000</td>\n      <td>15</td>\n      <td>...</td>\n      <td>1581634800000</td>\n      <td>37</td>\n      <td>62</td>\n      <td>0</td>\n      <td>0</td>\n      <td>1</td>\n      <td>1</td>\n      <td>25</td>\n      <td>0</td>\n      <td>0</td>\n    </tr>\n  </tbody>\n</table>\n<p>406980 rows × 31 columns</p>\n</div>"
     },
     "execution_count": 4,
     "metadata": {},
     "output_type": "execute_result"
    }
   ],
   "source": [
    "yunnan_rem['age_difference'] = abs(yunnan_rem['referee_age'] - yunnan_rem['referral_age']).astype('Int64')\n",
    "yunnan_rem['gender_difference'] = abs(yunnan_rem['referee_gender'] - yunnan_rem['referral_gender']).astype('Int64')\n",
    "yunnan_rem['relatives_difference'] = abs(yunnan_rem['referee_relatives'] - yunnan_rem['referral_relatives']).astype('Int64')\n",
    "yunnan_rem"
   ],
   "metadata": {
    "collapsed": false,
    "pycharm": {
     "name": "#%%\n"
    }
   }
  },
  {
   "cell_type": "code",
   "execution_count": 5,
   "outputs": [],
   "source": [
    "yunnan_rem.to_csv('../Data/Tables/rem/yunnan_eventlist_nomination.csv')"
   ],
   "metadata": {
    "collapsed": false,
    "pycharm": {
     "name": "#%%\n"
    }
   }
  },
  {
   "cell_type": "markdown",
   "source": [
    "## Cond referee"
   ],
   "metadata": {
    "collapsed": false,
    "pycharm": {
     "name": "#%% md\n"
    }
   }
  },
  {
   "cell_type": "code",
   "execution_count": 6,
   "outputs": [],
   "source": [
    "yunnan_rem_cond_referee = pd.read_csv('../Data/Tables/rem/yunnan_eventlist_nomination_cond_referee.csv', low_memory=False)"
   ],
   "metadata": {
    "collapsed": false,
    "pycharm": {
     "name": "#%%\n"
    }
   }
  },
  {
   "cell_type": "code",
   "execution_count": 7,
   "outputs": [],
   "source": [
    "yunnan_rem_cond_referee['referee_age'] = yunnan_rem_cond_referee['referee_age'].where(yunnan_rem_cond_referee['referee_age'] != -1, np.nan).astype('Int64')\n",
    "yunnan_rem_cond_referee['referral_age'] = yunnan_rem_cond_referee['referral_age'].where(yunnan_rem_cond_referee['referral_age'] != -1, np.nan).astype('Int64')\n",
    "\n",
    "yunnan_rem_cond_referee['referee_gender'] = yunnan_rem_cond_referee['referee_gender'].where(yunnan_rem_cond_referee['referee_gender'] != -1, np.nan).astype('Int64')\n",
    "yunnan_rem_cond_referee['referral_gender'] = yunnan_rem_cond_referee['referral_gender'].where(yunnan_rem_cond_referee['referral_gender'] != -1, np.nan).astype('Int64')\n",
    "\n",
    "yunnan_rem_cond_referee['referee_relatives'] = yunnan_rem_cond_referee['referee_relatives'].where(yunnan_rem_cond_referee['referee_relatives'] != -1, np.nan).astype('Int64')\n",
    "yunnan_rem_cond_referee['referral_relatives'] = yunnan_rem_cond_referee['referral_relatives'].where(yunnan_rem_cond_referee['referral_relatives'] != -1, np.nan).astype('Int64')"
   ],
   "metadata": {
    "collapsed": false,
    "pycharm": {
     "name": "#%%\n"
    }
   }
  },
  {
   "cell_type": "code",
   "execution_count": 8,
   "outputs": [
    {
     "data": {
      "text/plain": "      IS_OBSERVED  SOURCE  TARGET    TIME                TYPE  WEIGHT  \\\n0               1       1      10  200117  contact_nomination     1.0   \n1               0       1     132  200117                 NaN     0.0   \n2               0       1     133  200117                 NaN     0.0   \n3               0       1     134  200117                 NaN     0.0   \n4               0       1     135  200117                 NaN     0.0   \n...           ...     ...     ...     ...                 ...     ...   \n6625            0     171      94  200216                 NaN     0.0   \n6626            0     171      93  200216                 NaN     0.0   \n6627            0     171      92  200216                 NaN     0.0   \n6628            0     171      91  200216                 NaN     0.0   \n6629            0     171      90  200216                 NaN     0.0   \n\n      EVENT_INTERVAL_ID  EVENT   INTEGER_TIME  TIME_POINT  ...   network_time  \\\n0                   0.0    685  1579215600000           2  ...              0   \n1                   NaN    685  1579215600000           2  ...              0   \n2                   NaN    685  1579215600000           2  ...              0   \n3                   NaN    685  1579215600000           2  ...              0   \n4                   NaN    685  1579215600000           2  ...              0   \n...                 ...    ...            ...         ...  ...            ...   \n6625                NaN    788  1581807600000          15  ...  1581634800000   \n6626                NaN    788  1581807600000          15  ...  1581634800000   \n6627                NaN    788  1581807600000          15  ...  1581634800000   \n6628                NaN    788  1581807600000          15  ...  1581634800000   \n6629                NaN    788  1581807600000          15  ...  1581634800000   \n\n      referee_age  referral_age  referee_gender  referral_gender  \\\n0            <NA>            63               1                1   \n1            <NA>            15               1                1   \n2            <NA>            46               1                1   \n3            <NA>            62               1                0   \n4            <NA>            39               1                1   \n...           ...           ...             ...              ...   \n6625           24            70               0                0   \n6626           24            24               0                1   \n6627           24            63               0                1   \n6628           24            70               0                0   \n6629           24            34               0                0   \n\n      referee_relatives  referral_relatives  age_difference  \\\n0                     1                <NA>            <NA>   \n1                     1                   1            <NA>   \n2                     1                   0            <NA>   \n3                     1                   1            <NA>   \n4                     1                   1            <NA>   \n...                 ...                 ...             ...   \n6625                  1                <NA>              46   \n6626                  1                <NA>               0   \n6627                  1                <NA>              39   \n6628                  1                   1              46   \n6629                  1                   1              10   \n\n      gender_difference  relatives_difference  \n0                     0                  <NA>  \n1                     0                     0  \n2                     0                     1  \n3                     1                     0  \n4                     0                     0  \n...                 ...                   ...  \n6625                  0                  <NA>  \n6626                  1                  <NA>  \n6627                  1                  <NA>  \n6628                  0                     0  \n6629                  0                     0  \n\n[6630 rows x 31 columns]",
      "text/html": "<div>\n<style scoped>\n    .dataframe tbody tr th:only-of-type {\n        vertical-align: middle;\n    }\n\n    .dataframe tbody tr th {\n        vertical-align: top;\n    }\n\n    .dataframe thead th {\n        text-align: right;\n    }\n</style>\n<table border=\"1\" class=\"dataframe\">\n  <thead>\n    <tr style=\"text-align: right;\">\n      <th></th>\n      <th>IS_OBSERVED</th>\n      <th>SOURCE</th>\n      <th>TARGET</th>\n      <th>TIME</th>\n      <th>TYPE</th>\n      <th>WEIGHT</th>\n      <th>EVENT_INTERVAL_ID</th>\n      <th>EVENT</th>\n      <th>INTEGER_TIME</th>\n      <th>TIME_POINT</th>\n      <th>...</th>\n      <th>network_time</th>\n      <th>referee_age</th>\n      <th>referral_age</th>\n      <th>referee_gender</th>\n      <th>referral_gender</th>\n      <th>referee_relatives</th>\n      <th>referral_relatives</th>\n      <th>age_difference</th>\n      <th>gender_difference</th>\n      <th>relatives_difference</th>\n    </tr>\n  </thead>\n  <tbody>\n    <tr>\n      <th>0</th>\n      <td>1</td>\n      <td>1</td>\n      <td>10</td>\n      <td>200117</td>\n      <td>contact_nomination</td>\n      <td>1.0</td>\n      <td>0.0</td>\n      <td>685</td>\n      <td>1579215600000</td>\n      <td>2</td>\n      <td>...</td>\n      <td>0</td>\n      <td>&lt;NA&gt;</td>\n      <td>63</td>\n      <td>1</td>\n      <td>1</td>\n      <td>1</td>\n      <td>&lt;NA&gt;</td>\n      <td>&lt;NA&gt;</td>\n      <td>0</td>\n      <td>&lt;NA&gt;</td>\n    </tr>\n    <tr>\n      <th>1</th>\n      <td>0</td>\n      <td>1</td>\n      <td>132</td>\n      <td>200117</td>\n      <td>NaN</td>\n      <td>0.0</td>\n      <td>NaN</td>\n      <td>685</td>\n      <td>1579215600000</td>\n      <td>2</td>\n      <td>...</td>\n      <td>0</td>\n      <td>&lt;NA&gt;</td>\n      <td>15</td>\n      <td>1</td>\n      <td>1</td>\n      <td>1</td>\n      <td>1</td>\n      <td>&lt;NA&gt;</td>\n      <td>0</td>\n      <td>0</td>\n    </tr>\n    <tr>\n      <th>2</th>\n      <td>0</td>\n      <td>1</td>\n      <td>133</td>\n      <td>200117</td>\n      <td>NaN</td>\n      <td>0.0</td>\n      <td>NaN</td>\n      <td>685</td>\n      <td>1579215600000</td>\n      <td>2</td>\n      <td>...</td>\n      <td>0</td>\n      <td>&lt;NA&gt;</td>\n      <td>46</td>\n      <td>1</td>\n      <td>1</td>\n      <td>1</td>\n      <td>0</td>\n      <td>&lt;NA&gt;</td>\n      <td>0</td>\n      <td>1</td>\n    </tr>\n    <tr>\n      <th>3</th>\n      <td>0</td>\n      <td>1</td>\n      <td>134</td>\n      <td>200117</td>\n      <td>NaN</td>\n      <td>0.0</td>\n      <td>NaN</td>\n      <td>685</td>\n      <td>1579215600000</td>\n      <td>2</td>\n      <td>...</td>\n      <td>0</td>\n      <td>&lt;NA&gt;</td>\n      <td>62</td>\n      <td>1</td>\n      <td>0</td>\n      <td>1</td>\n      <td>1</td>\n      <td>&lt;NA&gt;</td>\n      <td>1</td>\n      <td>0</td>\n    </tr>\n    <tr>\n      <th>4</th>\n      <td>0</td>\n      <td>1</td>\n      <td>135</td>\n      <td>200117</td>\n      <td>NaN</td>\n      <td>0.0</td>\n      <td>NaN</td>\n      <td>685</td>\n      <td>1579215600000</td>\n      <td>2</td>\n      <td>...</td>\n      <td>0</td>\n      <td>&lt;NA&gt;</td>\n      <td>39</td>\n      <td>1</td>\n      <td>1</td>\n      <td>1</td>\n      <td>1</td>\n      <td>&lt;NA&gt;</td>\n      <td>0</td>\n      <td>0</td>\n    </tr>\n    <tr>\n      <th>...</th>\n      <td>...</td>\n      <td>...</td>\n      <td>...</td>\n      <td>...</td>\n      <td>...</td>\n      <td>...</td>\n      <td>...</td>\n      <td>...</td>\n      <td>...</td>\n      <td>...</td>\n      <td>...</td>\n      <td>...</td>\n      <td>...</td>\n      <td>...</td>\n      <td>...</td>\n      <td>...</td>\n      <td>...</td>\n      <td>...</td>\n      <td>...</td>\n      <td>...</td>\n      <td>...</td>\n    </tr>\n    <tr>\n      <th>6625</th>\n      <td>0</td>\n      <td>171</td>\n      <td>94</td>\n      <td>200216</td>\n      <td>NaN</td>\n      <td>0.0</td>\n      <td>NaN</td>\n      <td>788</td>\n      <td>1581807600000</td>\n      <td>15</td>\n      <td>...</td>\n      <td>1581634800000</td>\n      <td>24</td>\n      <td>70</td>\n      <td>0</td>\n      <td>0</td>\n      <td>1</td>\n      <td>&lt;NA&gt;</td>\n      <td>46</td>\n      <td>0</td>\n      <td>&lt;NA&gt;</td>\n    </tr>\n    <tr>\n      <th>6626</th>\n      <td>0</td>\n      <td>171</td>\n      <td>93</td>\n      <td>200216</td>\n      <td>NaN</td>\n      <td>0.0</td>\n      <td>NaN</td>\n      <td>788</td>\n      <td>1581807600000</td>\n      <td>15</td>\n      <td>...</td>\n      <td>1581634800000</td>\n      <td>24</td>\n      <td>24</td>\n      <td>0</td>\n      <td>1</td>\n      <td>1</td>\n      <td>&lt;NA&gt;</td>\n      <td>0</td>\n      <td>1</td>\n      <td>&lt;NA&gt;</td>\n    </tr>\n    <tr>\n      <th>6627</th>\n      <td>0</td>\n      <td>171</td>\n      <td>92</td>\n      <td>200216</td>\n      <td>NaN</td>\n      <td>0.0</td>\n      <td>NaN</td>\n      <td>788</td>\n      <td>1581807600000</td>\n      <td>15</td>\n      <td>...</td>\n      <td>1581634800000</td>\n      <td>24</td>\n      <td>63</td>\n      <td>0</td>\n      <td>1</td>\n      <td>1</td>\n      <td>&lt;NA&gt;</td>\n      <td>39</td>\n      <td>1</td>\n      <td>&lt;NA&gt;</td>\n    </tr>\n    <tr>\n      <th>6628</th>\n      <td>0</td>\n      <td>171</td>\n      <td>91</td>\n      <td>200216</td>\n      <td>NaN</td>\n      <td>0.0</td>\n      <td>NaN</td>\n      <td>788</td>\n      <td>1581807600000</td>\n      <td>15</td>\n      <td>...</td>\n      <td>1581634800000</td>\n      <td>24</td>\n      <td>70</td>\n      <td>0</td>\n      <td>0</td>\n      <td>1</td>\n      <td>1</td>\n      <td>46</td>\n      <td>0</td>\n      <td>0</td>\n    </tr>\n    <tr>\n      <th>6629</th>\n      <td>0</td>\n      <td>171</td>\n      <td>90</td>\n      <td>200216</td>\n      <td>NaN</td>\n      <td>0.0</td>\n      <td>NaN</td>\n      <td>788</td>\n      <td>1581807600000</td>\n      <td>15</td>\n      <td>...</td>\n      <td>1581634800000</td>\n      <td>24</td>\n      <td>34</td>\n      <td>0</td>\n      <td>0</td>\n      <td>1</td>\n      <td>1</td>\n      <td>10</td>\n      <td>0</td>\n      <td>0</td>\n    </tr>\n  </tbody>\n</table>\n<p>6630 rows × 31 columns</p>\n</div>"
     },
     "execution_count": 8,
     "metadata": {},
     "output_type": "execute_result"
    }
   ],
   "source": [
    "yunnan_rem_cond_referee['age_difference'] = abs(yunnan_rem_cond_referee['referee_age'] - yunnan_rem_cond_referee['referral_age']).astype('Int64')\n",
    "yunnan_rem_cond_referee['gender_difference'] = abs(yunnan_rem_cond_referee['referee_gender'] - yunnan_rem_cond_referee['referral_gender']).astype('Int64')\n",
    "yunnan_rem_cond_referee['relatives_difference'] = abs(yunnan_rem_cond_referee['referee_relatives'] - yunnan_rem_cond_referee['referral_relatives']).astype('Int64')\n",
    "yunnan_rem_cond_referee"
   ],
   "metadata": {
    "collapsed": false,
    "pycharm": {
     "name": "#%%\n"
    }
   }
  },
  {
   "cell_type": "code",
   "execution_count": 9,
   "outputs": [],
   "source": [
    "yunnan_rem_cond_referee.to_csv('../Data/Tables/rem/yunnan_eventlist_nomination_cond_referee.csv')"
   ],
   "metadata": {
    "collapsed": false,
    "pycharm": {
     "name": "#%%\n"
    }
   }
  },
  {
   "cell_type": "markdown",
   "source": [
    "## Cond referral"
   ],
   "metadata": {
    "collapsed": false,
    "pycharm": {
     "name": "#%% md\n"
    }
   }
  },
  {
   "cell_type": "code",
   "execution_count": 10,
   "outputs": [],
   "source": [
    "yunnan_rem_cond_referral = pd.read_csv('../Data/Tables/rem/yunnan_eventlist_nomination_cond_referral.csv',\n",
    "                                      low_memory=False)"
   ],
   "metadata": {
    "collapsed": false,
    "pycharm": {
     "name": "#%%\n"
    }
   }
  },
  {
   "cell_type": "code",
   "execution_count": 11,
   "outputs": [],
   "source": [
    "yunnan_rem_cond_referral['referee_age'] = yunnan_rem_cond_referral['referee_age'].where(\n",
    "    yunnan_rem_cond_referral['referee_age'] != -1, np.nan).astype('Int64')\n",
    "yunnan_rem_cond_referral['referral_age'] = yunnan_rem_cond_referral['referral_age'].where(\n",
    "    yunnan_rem_cond_referral['referral_age'] != -1, np.nan).astype('Int64')\n",
    "\n",
    "yunnan_rem_cond_referral['referee_gender'] = yunnan_rem_cond_referral['referee_gender'].where(\n",
    "    yunnan_rem_cond_referral['referee_gender'] != -1, np.nan).astype('Int64')\n",
    "yunnan_rem_cond_referral['referral_gender'] = yunnan_rem_cond_referral['referral_gender'].where(\n",
    "    yunnan_rem_cond_referral['referral_gender'] != -1, np.nan).astype('Int64')\n",
    "\n",
    "yunnan_rem_cond_referral['referee_relatives'] = yunnan_rem_cond_referral['referee_relatives'].where(\n",
    "    yunnan_rem_cond_referral['referee_relatives'] != -1, np.nan).astype('Int64')\n",
    "yunnan_rem_cond_referral['referral_relatives'] = yunnan_rem_cond_referral['referral_relatives'].where(\n",
    "    yunnan_rem_cond_referral['referral_relatives'] != -1, np.nan).astype('Int64')"
   ],
   "metadata": {
    "collapsed": false,
    "pycharm": {
     "name": "#%%\n"
    }
   }
  },
  {
   "cell_type": "code",
   "execution_count": 12,
   "outputs": [
    {
     "data": {
      "text/plain": "      IS_OBSERVED  SOURCE  TARGET    TIME                TYPE  WEIGHT  \\\n0               1       1      10  200117  contact_nomination     1.0   \n1               0      77      10  200117                 NaN     0.0   \n2               0      65      10  200117                 NaN     0.0   \n3               0      53      10  200117                 NaN     0.0   \n4               0      41      10  200117                 NaN     0.0   \n...           ...     ...     ...     ...                 ...     ...   \n7815            0      21     155  200216                 NaN     0.0   \n7816            0      33     156  200216                 NaN     0.0   \n7817            0      33     155  200216                 NaN     0.0   \n7818            0      45     156  200216                 NaN     0.0   \n7819            0      21     156  200216                 NaN     0.0   \n\n      EVENT_INTERVAL_ID  EVENT   INTEGER_TIME  TIME_POINT  ...   network_time  \\\n0                   0.0    685  1579215600000           2  ...              0   \n1                   NaN    685  1579215600000           2  ...              0   \n2                   NaN    685  1579215600000           2  ...              0   \n3                   NaN    685  1579215600000           2  ...              0   \n4                   NaN    685  1579215600000           2  ...              0   \n...                 ...    ...            ...         ...  ...            ...   \n7815                NaN    788  1581807600000          15  ...  1581634800000   \n7816                NaN    788  1581807600000          15  ...  1581634800000   \n7817                NaN    788  1581807600000          15  ...  1581634800000   \n7818                NaN    788  1581807600000          15  ...  1581634800000   \n7819                NaN    788  1581807600000          15  ...  1581634800000   \n\n      referee_age  referral_age  referee_gender  referral_gender  \\\n0            <NA>            63               1                1   \n1              35            63               0                1   \n2            <NA>            63            <NA>                1   \n3            <NA>            63            <NA>                1   \n4            <NA>            63            <NA>                1   \n...           ...           ...             ...              ...   \n7815         <NA>            25            <NA>                1   \n7816         <NA>            47            <NA>                0   \n7817         <NA>            25            <NA>                1   \n7818         <NA>            47            <NA>                0   \n7819         <NA>            47            <NA>                0   \n\n      referee_relatives  referral_relatives  age_difference  \\\n0                     1                <NA>            <NA>   \n1                  <NA>                <NA>              28   \n2                  <NA>                <NA>            <NA>   \n3                  <NA>                <NA>            <NA>   \n4                  <NA>                <NA>            <NA>   \n...                 ...                 ...             ...   \n7815               <NA>                   1            <NA>   \n7816               <NA>                   1            <NA>   \n7817               <NA>                   1            <NA>   \n7818               <NA>                   1            <NA>   \n7819               <NA>                   1            <NA>   \n\n      gender_difference  relatives_difference  \n0                     0                  <NA>  \n1                     1                  <NA>  \n2                  <NA>                  <NA>  \n3                  <NA>                  <NA>  \n4                  <NA>                  <NA>  \n...                 ...                   ...  \n7815               <NA>                  <NA>  \n7816               <NA>                  <NA>  \n7817               <NA>                  <NA>  \n7818               <NA>                  <NA>  \n7819               <NA>                  <NA>  \n\n[7820 rows x 31 columns]",
      "text/html": "<div>\n<style scoped>\n    .dataframe tbody tr th:only-of-type {\n        vertical-align: middle;\n    }\n\n    .dataframe tbody tr th {\n        vertical-align: top;\n    }\n\n    .dataframe thead th {\n        text-align: right;\n    }\n</style>\n<table border=\"1\" class=\"dataframe\">\n  <thead>\n    <tr style=\"text-align: right;\">\n      <th></th>\n      <th>IS_OBSERVED</th>\n      <th>SOURCE</th>\n      <th>TARGET</th>\n      <th>TIME</th>\n      <th>TYPE</th>\n      <th>WEIGHT</th>\n      <th>EVENT_INTERVAL_ID</th>\n      <th>EVENT</th>\n      <th>INTEGER_TIME</th>\n      <th>TIME_POINT</th>\n      <th>...</th>\n      <th>network_time</th>\n      <th>referee_age</th>\n      <th>referral_age</th>\n      <th>referee_gender</th>\n      <th>referral_gender</th>\n      <th>referee_relatives</th>\n      <th>referral_relatives</th>\n      <th>age_difference</th>\n      <th>gender_difference</th>\n      <th>relatives_difference</th>\n    </tr>\n  </thead>\n  <tbody>\n    <tr>\n      <th>0</th>\n      <td>1</td>\n      <td>1</td>\n      <td>10</td>\n      <td>200117</td>\n      <td>contact_nomination</td>\n      <td>1.0</td>\n      <td>0.0</td>\n      <td>685</td>\n      <td>1579215600000</td>\n      <td>2</td>\n      <td>...</td>\n      <td>0</td>\n      <td>&lt;NA&gt;</td>\n      <td>63</td>\n      <td>1</td>\n      <td>1</td>\n      <td>1</td>\n      <td>&lt;NA&gt;</td>\n      <td>&lt;NA&gt;</td>\n      <td>0</td>\n      <td>&lt;NA&gt;</td>\n    </tr>\n    <tr>\n      <th>1</th>\n      <td>0</td>\n      <td>77</td>\n      <td>10</td>\n      <td>200117</td>\n      <td>NaN</td>\n      <td>0.0</td>\n      <td>NaN</td>\n      <td>685</td>\n      <td>1579215600000</td>\n      <td>2</td>\n      <td>...</td>\n      <td>0</td>\n      <td>35</td>\n      <td>63</td>\n      <td>0</td>\n      <td>1</td>\n      <td>&lt;NA&gt;</td>\n      <td>&lt;NA&gt;</td>\n      <td>28</td>\n      <td>1</td>\n      <td>&lt;NA&gt;</td>\n    </tr>\n    <tr>\n      <th>2</th>\n      <td>0</td>\n      <td>65</td>\n      <td>10</td>\n      <td>200117</td>\n      <td>NaN</td>\n      <td>0.0</td>\n      <td>NaN</td>\n      <td>685</td>\n      <td>1579215600000</td>\n      <td>2</td>\n      <td>...</td>\n      <td>0</td>\n      <td>&lt;NA&gt;</td>\n      <td>63</td>\n      <td>&lt;NA&gt;</td>\n      <td>1</td>\n      <td>&lt;NA&gt;</td>\n      <td>&lt;NA&gt;</td>\n      <td>&lt;NA&gt;</td>\n      <td>&lt;NA&gt;</td>\n      <td>&lt;NA&gt;</td>\n    </tr>\n    <tr>\n      <th>3</th>\n      <td>0</td>\n      <td>53</td>\n      <td>10</td>\n      <td>200117</td>\n      <td>NaN</td>\n      <td>0.0</td>\n      <td>NaN</td>\n      <td>685</td>\n      <td>1579215600000</td>\n      <td>2</td>\n      <td>...</td>\n      <td>0</td>\n      <td>&lt;NA&gt;</td>\n      <td>63</td>\n      <td>&lt;NA&gt;</td>\n      <td>1</td>\n      <td>&lt;NA&gt;</td>\n      <td>&lt;NA&gt;</td>\n      <td>&lt;NA&gt;</td>\n      <td>&lt;NA&gt;</td>\n      <td>&lt;NA&gt;</td>\n    </tr>\n    <tr>\n      <th>4</th>\n      <td>0</td>\n      <td>41</td>\n      <td>10</td>\n      <td>200117</td>\n      <td>NaN</td>\n      <td>0.0</td>\n      <td>NaN</td>\n      <td>685</td>\n      <td>1579215600000</td>\n      <td>2</td>\n      <td>...</td>\n      <td>0</td>\n      <td>&lt;NA&gt;</td>\n      <td>63</td>\n      <td>&lt;NA&gt;</td>\n      <td>1</td>\n      <td>&lt;NA&gt;</td>\n      <td>&lt;NA&gt;</td>\n      <td>&lt;NA&gt;</td>\n      <td>&lt;NA&gt;</td>\n      <td>&lt;NA&gt;</td>\n    </tr>\n    <tr>\n      <th>...</th>\n      <td>...</td>\n      <td>...</td>\n      <td>...</td>\n      <td>...</td>\n      <td>...</td>\n      <td>...</td>\n      <td>...</td>\n      <td>...</td>\n      <td>...</td>\n      <td>...</td>\n      <td>...</td>\n      <td>...</td>\n      <td>...</td>\n      <td>...</td>\n      <td>...</td>\n      <td>...</td>\n      <td>...</td>\n      <td>...</td>\n      <td>...</td>\n      <td>...</td>\n      <td>...</td>\n    </tr>\n    <tr>\n      <th>7815</th>\n      <td>0</td>\n      <td>21</td>\n      <td>155</td>\n      <td>200216</td>\n      <td>NaN</td>\n      <td>0.0</td>\n      <td>NaN</td>\n      <td>788</td>\n      <td>1581807600000</td>\n      <td>15</td>\n      <td>...</td>\n      <td>1581634800000</td>\n      <td>&lt;NA&gt;</td>\n      <td>25</td>\n      <td>&lt;NA&gt;</td>\n      <td>1</td>\n      <td>&lt;NA&gt;</td>\n      <td>1</td>\n      <td>&lt;NA&gt;</td>\n      <td>&lt;NA&gt;</td>\n      <td>&lt;NA&gt;</td>\n    </tr>\n    <tr>\n      <th>7816</th>\n      <td>0</td>\n      <td>33</td>\n      <td>156</td>\n      <td>200216</td>\n      <td>NaN</td>\n      <td>0.0</td>\n      <td>NaN</td>\n      <td>788</td>\n      <td>1581807600000</td>\n      <td>15</td>\n      <td>...</td>\n      <td>1581634800000</td>\n      <td>&lt;NA&gt;</td>\n      <td>47</td>\n      <td>&lt;NA&gt;</td>\n      <td>0</td>\n      <td>&lt;NA&gt;</td>\n      <td>1</td>\n      <td>&lt;NA&gt;</td>\n      <td>&lt;NA&gt;</td>\n      <td>&lt;NA&gt;</td>\n    </tr>\n    <tr>\n      <th>7817</th>\n      <td>0</td>\n      <td>33</td>\n      <td>155</td>\n      <td>200216</td>\n      <td>NaN</td>\n      <td>0.0</td>\n      <td>NaN</td>\n      <td>788</td>\n      <td>1581807600000</td>\n      <td>15</td>\n      <td>...</td>\n      <td>1581634800000</td>\n      <td>&lt;NA&gt;</td>\n      <td>25</td>\n      <td>&lt;NA&gt;</td>\n      <td>1</td>\n      <td>&lt;NA&gt;</td>\n      <td>1</td>\n      <td>&lt;NA&gt;</td>\n      <td>&lt;NA&gt;</td>\n      <td>&lt;NA&gt;</td>\n    </tr>\n    <tr>\n      <th>7818</th>\n      <td>0</td>\n      <td>45</td>\n      <td>156</td>\n      <td>200216</td>\n      <td>NaN</td>\n      <td>0.0</td>\n      <td>NaN</td>\n      <td>788</td>\n      <td>1581807600000</td>\n      <td>15</td>\n      <td>...</td>\n      <td>1581634800000</td>\n      <td>&lt;NA&gt;</td>\n      <td>47</td>\n      <td>&lt;NA&gt;</td>\n      <td>0</td>\n      <td>&lt;NA&gt;</td>\n      <td>1</td>\n      <td>&lt;NA&gt;</td>\n      <td>&lt;NA&gt;</td>\n      <td>&lt;NA&gt;</td>\n    </tr>\n    <tr>\n      <th>7819</th>\n      <td>0</td>\n      <td>21</td>\n      <td>156</td>\n      <td>200216</td>\n      <td>NaN</td>\n      <td>0.0</td>\n      <td>NaN</td>\n      <td>788</td>\n      <td>1581807600000</td>\n      <td>15</td>\n      <td>...</td>\n      <td>1581634800000</td>\n      <td>&lt;NA&gt;</td>\n      <td>47</td>\n      <td>&lt;NA&gt;</td>\n      <td>0</td>\n      <td>&lt;NA&gt;</td>\n      <td>1</td>\n      <td>&lt;NA&gt;</td>\n      <td>&lt;NA&gt;</td>\n      <td>&lt;NA&gt;</td>\n    </tr>\n  </tbody>\n</table>\n<p>7820 rows × 31 columns</p>\n</div>"
     },
     "execution_count": 12,
     "metadata": {},
     "output_type": "execute_result"
    }
   ],
   "source": [
    "yunnan_rem_cond_referral['age_difference'] = abs(\n",
    "    yunnan_rem_cond_referral['referee_age'] - yunnan_rem_cond_referral['referral_age']).astype('Int64')\n",
    "yunnan_rem_cond_referral['gender_difference'] = abs(\n",
    "    yunnan_rem_cond_referral['referee_gender'] - yunnan_rem_cond_referral['referral_gender']).astype('Int64')\n",
    "yunnan_rem_cond_referral['relatives_difference'] = abs(\n",
    "    yunnan_rem_cond_referral['referee_relatives'] - yunnan_rem_cond_referral['referral_relatives']).astype('Int64')\n",
    "yunnan_rem_cond_referral"
   ],
   "metadata": {
    "collapsed": false,
    "pycharm": {
     "name": "#%%\n"
    }
   }
  },
  {
   "cell_type": "code",
   "execution_count": 13,
   "outputs": [],
   "source": [
    "yunnan_rem_cond_referral.to_csv('../Data/Tables/rem/yunnan_eventlist_nomination_cond_referral.csv')"
   ],
   "metadata": {
    "collapsed": false,
    "pycharm": {
     "name": "#%%\n"
    }
   }
  },
  {
   "cell_type": "markdown",
   "source": [
    "# Hainan"
   ],
   "metadata": {
    "collapsed": false,
    "pycharm": {
     "name": "#%% md\n"
    }
   }
  },
  {
   "cell_type": "markdown",
   "source": [
    "## Uncond"
   ],
   "metadata": {
    "collapsed": false,
    "pycharm": {
     "name": "#%% md\n"
    }
   }
  },
  {
   "cell_type": "code",
   "execution_count": 14,
   "outputs": [
    {
     "data": {
      "text/plain": "        IS_OBSERVED  SOURCE  TARGET    TIME                TYPE  WEIGHT  \\\n0                 1       5       3  200123  contact_nomination     1.0   \n1                 0      10     151  200123                 NaN     0.0   \n2                 0      12     131  200123                 NaN     0.0   \n3                 0      14     111  200123                 NaN     0.0   \n4                 0      15     101  200123                 NaN     0.0   \n...             ...     ...     ...     ...                 ...     ...   \n444721            0      99      94  200214                 NaN     0.0   \n444722            0      99      95  200214                 NaN     0.0   \n444723            0      99      96  200214                 NaN     0.0   \n444724            0      99      97  200214                 NaN     0.0   \n444725            0      99      98  200214                 NaN     0.0   \n\n        EVENT_INTERVAL_ID  EVENT   INTEGER_TIME  TIME_POINT  ...  \\\n0                     0.0    649  1579734000000           2  ...   \n1                     NaN    649  1579734000000           2  ...   \n2                     NaN    649  1579734000000           2  ...   \n3                     NaN    649  1579734000000           2  ...   \n4                     NaN    649  1579734000000           2  ...   \n...                   ...    ...            ...         ...  ...   \n444721                NaN    770  1581634800000          19  ...   \n444722                NaN    770  1581634800000          19  ...   \n444723                NaN    770  1581634800000          19  ...   \n444724                NaN    770  1581634800000          19  ...   \n444725                NaN    770  1581634800000          19  ...   \n\n        triangle_effect_children  triangle_effect_parents  network_activity  \\\n0                              0                        0                 0   \n1                              0                        0                 0   \n2                              0                        0                 0   \n3                              0                        0                 0   \n4                              0                        0                 0   \n...                          ...                      ...               ...   \n444721                         0                        0               106   \n444722                         0                        0               106   \n444723                         0                        0               106   \n444724                         0                        0               106   \n444725                         0                        0               106   \n\n         network_time  referee_age  referral_age  referee_gender  \\\n0                   0           27            27               0   \n1                   0           29            43               1   \n2                   0           58            76               1   \n3                   0           44            36               0   \n4                   0           54            60               0   \n...               ...          ...           ...             ...   \n444721  1581462000000           55            50               0   \n444722  1581462000000           55             7               0   \n444723  1581462000000           55            28               0   \n444724  1581462000000           55            68               0   \n444725  1581462000000           55            25               0   \n\n        referral_gender  referee_relatives  referral_relatives  \n0                     1                  0                   0  \n1                     0                  0                   1  \n2                     0                  1                   1  \n3                     1                  1                   0  \n4                     0                  1                   0  \n...                 ...                ...                 ...  \n444721                0                  1                   1  \n444722                1                  1                   0  \n444723                0                  1                   0  \n444724                0                  1                   1  \n444725                1                  1                   0  \n\n[444726 rows x 28 columns]",
      "text/html": "<div>\n<style scoped>\n    .dataframe tbody tr th:only-of-type {\n        vertical-align: middle;\n    }\n\n    .dataframe tbody tr th {\n        vertical-align: top;\n    }\n\n    .dataframe thead th {\n        text-align: right;\n    }\n</style>\n<table border=\"1\" class=\"dataframe\">\n  <thead>\n    <tr style=\"text-align: right;\">\n      <th></th>\n      <th>IS_OBSERVED</th>\n      <th>SOURCE</th>\n      <th>TARGET</th>\n      <th>TIME</th>\n      <th>TYPE</th>\n      <th>WEIGHT</th>\n      <th>EVENT_INTERVAL_ID</th>\n      <th>EVENT</th>\n      <th>INTEGER_TIME</th>\n      <th>TIME_POINT</th>\n      <th>...</th>\n      <th>triangle_effect_children</th>\n      <th>triangle_effect_parents</th>\n      <th>network_activity</th>\n      <th>network_time</th>\n      <th>referee_age</th>\n      <th>referral_age</th>\n      <th>referee_gender</th>\n      <th>referral_gender</th>\n      <th>referee_relatives</th>\n      <th>referral_relatives</th>\n    </tr>\n  </thead>\n  <tbody>\n    <tr>\n      <th>0</th>\n      <td>1</td>\n      <td>5</td>\n      <td>3</td>\n      <td>200123</td>\n      <td>contact_nomination</td>\n      <td>1.0</td>\n      <td>0.0</td>\n      <td>649</td>\n      <td>1579734000000</td>\n      <td>2</td>\n      <td>...</td>\n      <td>0</td>\n      <td>0</td>\n      <td>0</td>\n      <td>0</td>\n      <td>27</td>\n      <td>27</td>\n      <td>0</td>\n      <td>1</td>\n      <td>0</td>\n      <td>0</td>\n    </tr>\n    <tr>\n      <th>1</th>\n      <td>0</td>\n      <td>10</td>\n      <td>151</td>\n      <td>200123</td>\n      <td>NaN</td>\n      <td>0.0</td>\n      <td>NaN</td>\n      <td>649</td>\n      <td>1579734000000</td>\n      <td>2</td>\n      <td>...</td>\n      <td>0</td>\n      <td>0</td>\n      <td>0</td>\n      <td>0</td>\n      <td>29</td>\n      <td>43</td>\n      <td>1</td>\n      <td>0</td>\n      <td>0</td>\n      <td>1</td>\n    </tr>\n    <tr>\n      <th>2</th>\n      <td>0</td>\n      <td>12</td>\n      <td>131</td>\n      <td>200123</td>\n      <td>NaN</td>\n      <td>0.0</td>\n      <td>NaN</td>\n      <td>649</td>\n      <td>1579734000000</td>\n      <td>2</td>\n      <td>...</td>\n      <td>0</td>\n      <td>0</td>\n      <td>0</td>\n      <td>0</td>\n      <td>58</td>\n      <td>76</td>\n      <td>1</td>\n      <td>0</td>\n      <td>1</td>\n      <td>1</td>\n    </tr>\n    <tr>\n      <th>3</th>\n      <td>0</td>\n      <td>14</td>\n      <td>111</td>\n      <td>200123</td>\n      <td>NaN</td>\n      <td>0.0</td>\n      <td>NaN</td>\n      <td>649</td>\n      <td>1579734000000</td>\n      <td>2</td>\n      <td>...</td>\n      <td>0</td>\n      <td>0</td>\n      <td>0</td>\n      <td>0</td>\n      <td>44</td>\n      <td>36</td>\n      <td>0</td>\n      <td>1</td>\n      <td>1</td>\n      <td>0</td>\n    </tr>\n    <tr>\n      <th>4</th>\n      <td>0</td>\n      <td>15</td>\n      <td>101</td>\n      <td>200123</td>\n      <td>NaN</td>\n      <td>0.0</td>\n      <td>NaN</td>\n      <td>649</td>\n      <td>1579734000000</td>\n      <td>2</td>\n      <td>...</td>\n      <td>0</td>\n      <td>0</td>\n      <td>0</td>\n      <td>0</td>\n      <td>54</td>\n      <td>60</td>\n      <td>0</td>\n      <td>0</td>\n      <td>1</td>\n      <td>0</td>\n    </tr>\n    <tr>\n      <th>...</th>\n      <td>...</td>\n      <td>...</td>\n      <td>...</td>\n      <td>...</td>\n      <td>...</td>\n      <td>...</td>\n      <td>...</td>\n      <td>...</td>\n      <td>...</td>\n      <td>...</td>\n      <td>...</td>\n      <td>...</td>\n      <td>...</td>\n      <td>...</td>\n      <td>...</td>\n      <td>...</td>\n      <td>...</td>\n      <td>...</td>\n      <td>...</td>\n      <td>...</td>\n      <td>...</td>\n    </tr>\n    <tr>\n      <th>444721</th>\n      <td>0</td>\n      <td>99</td>\n      <td>94</td>\n      <td>200214</td>\n      <td>NaN</td>\n      <td>0.0</td>\n      <td>NaN</td>\n      <td>770</td>\n      <td>1581634800000</td>\n      <td>19</td>\n      <td>...</td>\n      <td>0</td>\n      <td>0</td>\n      <td>106</td>\n      <td>1581462000000</td>\n      <td>55</td>\n      <td>50</td>\n      <td>0</td>\n      <td>0</td>\n      <td>1</td>\n      <td>1</td>\n    </tr>\n    <tr>\n      <th>444722</th>\n      <td>0</td>\n      <td>99</td>\n      <td>95</td>\n      <td>200214</td>\n      <td>NaN</td>\n      <td>0.0</td>\n      <td>NaN</td>\n      <td>770</td>\n      <td>1581634800000</td>\n      <td>19</td>\n      <td>...</td>\n      <td>0</td>\n      <td>0</td>\n      <td>106</td>\n      <td>1581462000000</td>\n      <td>55</td>\n      <td>7</td>\n      <td>0</td>\n      <td>1</td>\n      <td>1</td>\n      <td>0</td>\n    </tr>\n    <tr>\n      <th>444723</th>\n      <td>0</td>\n      <td>99</td>\n      <td>96</td>\n      <td>200214</td>\n      <td>NaN</td>\n      <td>0.0</td>\n      <td>NaN</td>\n      <td>770</td>\n      <td>1581634800000</td>\n      <td>19</td>\n      <td>...</td>\n      <td>0</td>\n      <td>0</td>\n      <td>106</td>\n      <td>1581462000000</td>\n      <td>55</td>\n      <td>28</td>\n      <td>0</td>\n      <td>0</td>\n      <td>1</td>\n      <td>0</td>\n    </tr>\n    <tr>\n      <th>444724</th>\n      <td>0</td>\n      <td>99</td>\n      <td>97</td>\n      <td>200214</td>\n      <td>NaN</td>\n      <td>0.0</td>\n      <td>NaN</td>\n      <td>770</td>\n      <td>1581634800000</td>\n      <td>19</td>\n      <td>...</td>\n      <td>0</td>\n      <td>0</td>\n      <td>106</td>\n      <td>1581462000000</td>\n      <td>55</td>\n      <td>68</td>\n      <td>0</td>\n      <td>0</td>\n      <td>1</td>\n      <td>1</td>\n    </tr>\n    <tr>\n      <th>444725</th>\n      <td>0</td>\n      <td>99</td>\n      <td>98</td>\n      <td>200214</td>\n      <td>NaN</td>\n      <td>0.0</td>\n      <td>NaN</td>\n      <td>770</td>\n      <td>1581634800000</td>\n      <td>19</td>\n      <td>...</td>\n      <td>0</td>\n      <td>0</td>\n      <td>106</td>\n      <td>1581462000000</td>\n      <td>55</td>\n      <td>25</td>\n      <td>0</td>\n      <td>1</td>\n      <td>1</td>\n      <td>0</td>\n    </tr>\n  </tbody>\n</table>\n<p>444726 rows × 28 columns</p>\n</div>"
     },
     "execution_count": 14,
     "metadata": {},
     "output_type": "execute_result"
    }
   ],
   "source": [
    "hainan_rem = pd.read_csv('../Data/Tables/rem/hainan_eventlist_nomination.csv', low_memory=False)\n",
    "hainan_rem"
   ],
   "metadata": {
    "collapsed": false,
    "pycharm": {
     "name": "#%%\n"
    }
   }
  },
  {
   "cell_type": "code",
   "execution_count": 15,
   "outputs": [],
   "source": [
    "hainan_rem['referee_age'] = hainan_rem['referee_age'].where(\n",
    "    hainan_rem['referee_age'] != -1, np.nan).astype('Int64')\n",
    "hainan_rem['referral_age'] = hainan_rem['referral_age'].where(\n",
    "    hainan_rem['referral_age'] != -1, np.nan).astype('Int64')\n",
    "\n",
    "hainan_rem['referee_gender'] = hainan_rem['referee_gender'].where(\n",
    "    hainan_rem['referee_gender'] != -1, np.nan).astype('Int64')\n",
    "hainan_rem['referral_gender'] = hainan_rem['referral_gender'].where(\n",
    "    hainan_rem['referral_gender'] != -1, np.nan).astype('Int64')\n",
    "\n",
    "hainan_rem['referee_relatives'] = hainan_rem['referee_relatives'].where(\n",
    "    hainan_rem['referee_relatives'] != -1, np.nan).astype('Int64')\n",
    "hainan_rem['referral_relatives'] = hainan_rem['referral_relatives'].where(\n",
    "    hainan_rem['referral_relatives'] != -1, np.nan).astype('Int64')\n"
   ],
   "metadata": {
    "collapsed": false,
    "pycharm": {
     "name": "#%%\n"
    }
   }
  },
  {
   "cell_type": "code",
   "execution_count": 16,
   "outputs": [
    {
     "data": {
      "text/plain": "        IS_OBSERVED  SOURCE  TARGET    TIME                TYPE  WEIGHT  \\\n0                 1       5       3  200123  contact_nomination     1.0   \n1                 0      10     151  200123                 NaN     0.0   \n2                 0      12     131  200123                 NaN     0.0   \n3                 0      14     111  200123                 NaN     0.0   \n4                 0      15     101  200123                 NaN     0.0   \n...             ...     ...     ...     ...                 ...     ...   \n444721            0      99      94  200214                 NaN     0.0   \n444722            0      99      95  200214                 NaN     0.0   \n444723            0      99      96  200214                 NaN     0.0   \n444724            0      99      97  200214                 NaN     0.0   \n444725            0      99      98  200214                 NaN     0.0   \n\n        EVENT_INTERVAL_ID  EVENT   INTEGER_TIME  TIME_POINT  ...  \\\n0                     0.0    649  1579734000000           2  ...   \n1                     NaN    649  1579734000000           2  ...   \n2                     NaN    649  1579734000000           2  ...   \n3                     NaN    649  1579734000000           2  ...   \n4                     NaN    649  1579734000000           2  ...   \n...                   ...    ...            ...         ...  ...   \n444721                NaN    770  1581634800000          19  ...   \n444722                NaN    770  1581634800000          19  ...   \n444723                NaN    770  1581634800000          19  ...   \n444724                NaN    770  1581634800000          19  ...   \n444725                NaN    770  1581634800000          19  ...   \n\n         network_time  referee_age  referral_age  referee_gender  \\\n0                   0           27            27               0   \n1                   0           29            43               1   \n2                   0           58            76               1   \n3                   0           44            36               0   \n4                   0           54            60               0   \n...               ...          ...           ...             ...   \n444721  1581462000000           55            50               0   \n444722  1581462000000           55             7               0   \n444723  1581462000000           55            28               0   \n444724  1581462000000           55            68               0   \n444725  1581462000000           55            25               0   \n\n        referral_gender  referee_relatives  referral_relatives  \\\n0                     1                  0                   0   \n1                     0                  0                   1   \n2                     0                  1                   1   \n3                     1                  1                   0   \n4                     0                  1                   0   \n...                 ...                ...                 ...   \n444721                0                  1                   1   \n444722                1                  1                   0   \n444723                0                  1                   0   \n444724                0                  1                   1   \n444725                1                  1                   0   \n\n        age_difference  gender_difference  relatives_difference  \n0                    0                  1                     0  \n1                   14                  1                     1  \n2                   18                  1                     0  \n3                    8                  1                     1  \n4                    6                  0                     1  \n...                ...                ...                   ...  \n444721               5                  0                     0  \n444722              48                  1                     1  \n444723              27                  0                     1  \n444724              13                  0                     0  \n444725              30                  1                     1  \n\n[444726 rows x 31 columns]",
      "text/html": "<div>\n<style scoped>\n    .dataframe tbody tr th:only-of-type {\n        vertical-align: middle;\n    }\n\n    .dataframe tbody tr th {\n        vertical-align: top;\n    }\n\n    .dataframe thead th {\n        text-align: right;\n    }\n</style>\n<table border=\"1\" class=\"dataframe\">\n  <thead>\n    <tr style=\"text-align: right;\">\n      <th></th>\n      <th>IS_OBSERVED</th>\n      <th>SOURCE</th>\n      <th>TARGET</th>\n      <th>TIME</th>\n      <th>TYPE</th>\n      <th>WEIGHT</th>\n      <th>EVENT_INTERVAL_ID</th>\n      <th>EVENT</th>\n      <th>INTEGER_TIME</th>\n      <th>TIME_POINT</th>\n      <th>...</th>\n      <th>network_time</th>\n      <th>referee_age</th>\n      <th>referral_age</th>\n      <th>referee_gender</th>\n      <th>referral_gender</th>\n      <th>referee_relatives</th>\n      <th>referral_relatives</th>\n      <th>age_difference</th>\n      <th>gender_difference</th>\n      <th>relatives_difference</th>\n    </tr>\n  </thead>\n  <tbody>\n    <tr>\n      <th>0</th>\n      <td>1</td>\n      <td>5</td>\n      <td>3</td>\n      <td>200123</td>\n      <td>contact_nomination</td>\n      <td>1.0</td>\n      <td>0.0</td>\n      <td>649</td>\n      <td>1579734000000</td>\n      <td>2</td>\n      <td>...</td>\n      <td>0</td>\n      <td>27</td>\n      <td>27</td>\n      <td>0</td>\n      <td>1</td>\n      <td>0</td>\n      <td>0</td>\n      <td>0</td>\n      <td>1</td>\n      <td>0</td>\n    </tr>\n    <tr>\n      <th>1</th>\n      <td>0</td>\n      <td>10</td>\n      <td>151</td>\n      <td>200123</td>\n      <td>NaN</td>\n      <td>0.0</td>\n      <td>NaN</td>\n      <td>649</td>\n      <td>1579734000000</td>\n      <td>2</td>\n      <td>...</td>\n      <td>0</td>\n      <td>29</td>\n      <td>43</td>\n      <td>1</td>\n      <td>0</td>\n      <td>0</td>\n      <td>1</td>\n      <td>14</td>\n      <td>1</td>\n      <td>1</td>\n    </tr>\n    <tr>\n      <th>2</th>\n      <td>0</td>\n      <td>12</td>\n      <td>131</td>\n      <td>200123</td>\n      <td>NaN</td>\n      <td>0.0</td>\n      <td>NaN</td>\n      <td>649</td>\n      <td>1579734000000</td>\n      <td>2</td>\n      <td>...</td>\n      <td>0</td>\n      <td>58</td>\n      <td>76</td>\n      <td>1</td>\n      <td>0</td>\n      <td>1</td>\n      <td>1</td>\n      <td>18</td>\n      <td>1</td>\n      <td>0</td>\n    </tr>\n    <tr>\n      <th>3</th>\n      <td>0</td>\n      <td>14</td>\n      <td>111</td>\n      <td>200123</td>\n      <td>NaN</td>\n      <td>0.0</td>\n      <td>NaN</td>\n      <td>649</td>\n      <td>1579734000000</td>\n      <td>2</td>\n      <td>...</td>\n      <td>0</td>\n      <td>44</td>\n      <td>36</td>\n      <td>0</td>\n      <td>1</td>\n      <td>1</td>\n      <td>0</td>\n      <td>8</td>\n      <td>1</td>\n      <td>1</td>\n    </tr>\n    <tr>\n      <th>4</th>\n      <td>0</td>\n      <td>15</td>\n      <td>101</td>\n      <td>200123</td>\n      <td>NaN</td>\n      <td>0.0</td>\n      <td>NaN</td>\n      <td>649</td>\n      <td>1579734000000</td>\n      <td>2</td>\n      <td>...</td>\n      <td>0</td>\n      <td>54</td>\n      <td>60</td>\n      <td>0</td>\n      <td>0</td>\n      <td>1</td>\n      <td>0</td>\n      <td>6</td>\n      <td>0</td>\n      <td>1</td>\n    </tr>\n    <tr>\n      <th>...</th>\n      <td>...</td>\n      <td>...</td>\n      <td>...</td>\n      <td>...</td>\n      <td>...</td>\n      <td>...</td>\n      <td>...</td>\n      <td>...</td>\n      <td>...</td>\n      <td>...</td>\n      <td>...</td>\n      <td>...</td>\n      <td>...</td>\n      <td>...</td>\n      <td>...</td>\n      <td>...</td>\n      <td>...</td>\n      <td>...</td>\n      <td>...</td>\n      <td>...</td>\n      <td>...</td>\n    </tr>\n    <tr>\n      <th>444721</th>\n      <td>0</td>\n      <td>99</td>\n      <td>94</td>\n      <td>200214</td>\n      <td>NaN</td>\n      <td>0.0</td>\n      <td>NaN</td>\n      <td>770</td>\n      <td>1581634800000</td>\n      <td>19</td>\n      <td>...</td>\n      <td>1581462000000</td>\n      <td>55</td>\n      <td>50</td>\n      <td>0</td>\n      <td>0</td>\n      <td>1</td>\n      <td>1</td>\n      <td>5</td>\n      <td>0</td>\n      <td>0</td>\n    </tr>\n    <tr>\n      <th>444722</th>\n      <td>0</td>\n      <td>99</td>\n      <td>95</td>\n      <td>200214</td>\n      <td>NaN</td>\n      <td>0.0</td>\n      <td>NaN</td>\n      <td>770</td>\n      <td>1581634800000</td>\n      <td>19</td>\n      <td>...</td>\n      <td>1581462000000</td>\n      <td>55</td>\n      <td>7</td>\n      <td>0</td>\n      <td>1</td>\n      <td>1</td>\n      <td>0</td>\n      <td>48</td>\n      <td>1</td>\n      <td>1</td>\n    </tr>\n    <tr>\n      <th>444723</th>\n      <td>0</td>\n      <td>99</td>\n      <td>96</td>\n      <td>200214</td>\n      <td>NaN</td>\n      <td>0.0</td>\n      <td>NaN</td>\n      <td>770</td>\n      <td>1581634800000</td>\n      <td>19</td>\n      <td>...</td>\n      <td>1581462000000</td>\n      <td>55</td>\n      <td>28</td>\n      <td>0</td>\n      <td>0</td>\n      <td>1</td>\n      <td>0</td>\n      <td>27</td>\n      <td>0</td>\n      <td>1</td>\n    </tr>\n    <tr>\n      <th>444724</th>\n      <td>0</td>\n      <td>99</td>\n      <td>97</td>\n      <td>200214</td>\n      <td>NaN</td>\n      <td>0.0</td>\n      <td>NaN</td>\n      <td>770</td>\n      <td>1581634800000</td>\n      <td>19</td>\n      <td>...</td>\n      <td>1581462000000</td>\n      <td>55</td>\n      <td>68</td>\n      <td>0</td>\n      <td>0</td>\n      <td>1</td>\n      <td>1</td>\n      <td>13</td>\n      <td>0</td>\n      <td>0</td>\n    </tr>\n    <tr>\n      <th>444725</th>\n      <td>0</td>\n      <td>99</td>\n      <td>98</td>\n      <td>200214</td>\n      <td>NaN</td>\n      <td>0.0</td>\n      <td>NaN</td>\n      <td>770</td>\n      <td>1581634800000</td>\n      <td>19</td>\n      <td>...</td>\n      <td>1581462000000</td>\n      <td>55</td>\n      <td>25</td>\n      <td>0</td>\n      <td>1</td>\n      <td>1</td>\n      <td>0</td>\n      <td>30</td>\n      <td>1</td>\n      <td>1</td>\n    </tr>\n  </tbody>\n</table>\n<p>444726 rows × 31 columns</p>\n</div>"
     },
     "execution_count": 16,
     "metadata": {},
     "output_type": "execute_result"
    }
   ],
   "source": [
    "hainan_rem['age_difference'] = abs(\n",
    "    hainan_rem['referee_age'] - hainan_rem['referral_age']).astype('Int64')\n",
    "hainan_rem['gender_difference'] = abs(\n",
    "    hainan_rem['referee_gender'] - hainan_rem['referral_gender']).astype('Int64')\n",
    "hainan_rem['relatives_difference'] = abs(\n",
    "    hainan_rem['referee_relatives'] - hainan_rem['referral_relatives']).astype('Int64')\n",
    "hainan_rem"
   ],
   "metadata": {
    "collapsed": false,
    "pycharm": {
     "name": "#%%\n"
    }
   }
  },
  {
   "cell_type": "code",
   "execution_count": 17,
   "outputs": [],
   "source": [
    "hainan_rem.to_csv('../Data/Tables/rem/hainan_eventlist_nomination.csv')"
   ],
   "metadata": {
    "collapsed": false,
    "pycharm": {
     "name": "#%%\n"
    }
   }
  },
  {
   "cell_type": "markdown",
   "source": [
    "## Cond referee"
   ],
   "metadata": {
    "collapsed": false,
    "pycharm": {
     "name": "#%% md\n"
    }
   }
  },
  {
   "cell_type": "code",
   "execution_count": 18,
   "outputs": [],
   "source": [
    "hainan_rem_cond_referral = pd.read_csv('../Data/Tables/rem/hainan_eventlist_nomination_cond_referral.csv',\n",
    "                                       low_memory=False)"
   ],
   "metadata": {
    "collapsed": false,
    "pycharm": {
     "name": "#%%\n"
    }
   }
  },
  {
   "cell_type": "code",
   "execution_count": 19,
   "outputs": [],
   "source": [
    "hainan_rem_cond_referral['referee_age'] = hainan_rem_cond_referral['referee_age'].where(\n",
    "    hainan_rem_cond_referral['referee_age'] != -1, np.nan).astype('Int64')\n",
    "hainan_rem_cond_referral['referral_age'] = hainan_rem_cond_referral['referral_age'].where(\n",
    "    hainan_rem_cond_referral['referral_age'] != -1, np.nan).astype('Int64')\n",
    "\n",
    "hainan_rem_cond_referral['referee_gender'] = hainan_rem_cond_referral['referee_gender'].where(\n",
    "    hainan_rem_cond_referral['referee_gender'] != -1, np.nan).astype('Int64')\n",
    "hainan_rem_cond_referral['referral_gender'] = hainan_rem_cond_referral['referral_gender'].where(\n",
    "    hainan_rem_cond_referral['referral_gender'] != -1, np.nan).astype('Int64')\n",
    "\n",
    "hainan_rem_cond_referral['referee_relatives'] = hainan_rem_cond_referral['referee_relatives'].where(\n",
    "    hainan_rem_cond_referral['referee_relatives'] != -1, np.nan).astype('Int64')\n",
    "hainan_rem_cond_referral['referral_relatives'] = hainan_rem_cond_referral['referral_relatives'].where(\n",
    "    hainan_rem_cond_referral['referral_relatives'] != -1, np.nan).astype('Int64')"
   ],
   "metadata": {
    "collapsed": false,
    "pycharm": {
     "name": "#%%\n"
    }
   }
  },
  {
   "cell_type": "code",
   "execution_count": 20,
   "outputs": [
    {
     "data": {
      "text/plain": "       IS_OBSERVED  SOURCE  TARGET    TIME                TYPE  WEIGHT  \\\n0                1       5       3  200123  contact_nomination     1.0   \n1                0       2       3  200123                 NaN     0.0   \n2                0     148       3  200123                 NaN     0.0   \n3                0     108       3  200123                 NaN     0.0   \n4                0      49       3  200123                 NaN     0.0   \n...            ...     ...     ...     ...                 ...     ...   \n14807            0      33     158  200214                 NaN     0.0   \n14808            0      57     159  200214                 NaN     0.0   \n14809            0      33     159  200214                 NaN     0.0   \n14810            0      79      76  200214                 NaN     0.0   \n14811            0       2     121  200214                 NaN     0.0   \n\n       EVENT_INTERVAL_ID  EVENT   INTEGER_TIME  TIME_POINT  ...  \\\n0                    0.0    649  1579734000000           2  ...   \n1                    NaN    649  1579734000000           2  ...   \n2                    NaN    649  1579734000000           2  ...   \n3                    NaN    649  1579734000000           2  ...   \n4                    NaN    649  1579734000000           2  ...   \n...                  ...    ...            ...         ...  ...   \n14807                NaN    770  1581634800000          19  ...   \n14808                NaN    770  1581634800000          19  ...   \n14809                NaN    770  1581634800000          19  ...   \n14810                NaN    770  1581634800000          19  ...   \n14811                NaN    770  1581634800000          19  ...   \n\n        network_time  referee_age  referral_age  referee_gender  \\\n0                  0           27            27               0   \n1                  0           68            27               0   \n2                  0           58            27               1   \n3                  0           59            27               1   \n4                  0           62            27               0   \n...              ...          ...           ...             ...   \n14807  1581462000000           63            62               0   \n14808  1581462000000           58            27               1   \n14809  1581462000000           63            27               0   \n14810  1581462000000           62            29               1   \n14811  1581462000000           68            46               0   \n\n       referral_gender  referee_relatives  referral_relatives  age_difference  \\\n0                    1                  0                   0               0   \n1                    1                  0                   0              41   \n2                    1                  0                   0              31   \n3                    1                  1                   0              32   \n4                    1                  1                   0              35   \n...                ...                ...                 ...             ...   \n14807                1                  0                   1               1   \n14808                0                  0                   1              31   \n14809                0                  0                   1              36   \n14810                1                  0                   1              33   \n14811                0                  0                   1              22   \n\n       gender_difference  relatives_difference  \n0                      1                     0  \n1                      1                     0  \n2                      0                     0  \n3                      0                     1  \n4                      1                     1  \n...                  ...                   ...  \n14807                  1                     1  \n14808                  1                     1  \n14809                  0                     1  \n14810                  0                     1  \n14811                  0                     1  \n\n[14812 rows x 31 columns]",
      "text/html": "<div>\n<style scoped>\n    .dataframe tbody tr th:only-of-type {\n        vertical-align: middle;\n    }\n\n    .dataframe tbody tr th {\n        vertical-align: top;\n    }\n\n    .dataframe thead th {\n        text-align: right;\n    }\n</style>\n<table border=\"1\" class=\"dataframe\">\n  <thead>\n    <tr style=\"text-align: right;\">\n      <th></th>\n      <th>IS_OBSERVED</th>\n      <th>SOURCE</th>\n      <th>TARGET</th>\n      <th>TIME</th>\n      <th>TYPE</th>\n      <th>WEIGHT</th>\n      <th>EVENT_INTERVAL_ID</th>\n      <th>EVENT</th>\n      <th>INTEGER_TIME</th>\n      <th>TIME_POINT</th>\n      <th>...</th>\n      <th>network_time</th>\n      <th>referee_age</th>\n      <th>referral_age</th>\n      <th>referee_gender</th>\n      <th>referral_gender</th>\n      <th>referee_relatives</th>\n      <th>referral_relatives</th>\n      <th>age_difference</th>\n      <th>gender_difference</th>\n      <th>relatives_difference</th>\n    </tr>\n  </thead>\n  <tbody>\n    <tr>\n      <th>0</th>\n      <td>1</td>\n      <td>5</td>\n      <td>3</td>\n      <td>200123</td>\n      <td>contact_nomination</td>\n      <td>1.0</td>\n      <td>0.0</td>\n      <td>649</td>\n      <td>1579734000000</td>\n      <td>2</td>\n      <td>...</td>\n      <td>0</td>\n      <td>27</td>\n      <td>27</td>\n      <td>0</td>\n      <td>1</td>\n      <td>0</td>\n      <td>0</td>\n      <td>0</td>\n      <td>1</td>\n      <td>0</td>\n    </tr>\n    <tr>\n      <th>1</th>\n      <td>0</td>\n      <td>2</td>\n      <td>3</td>\n      <td>200123</td>\n      <td>NaN</td>\n      <td>0.0</td>\n      <td>NaN</td>\n      <td>649</td>\n      <td>1579734000000</td>\n      <td>2</td>\n      <td>...</td>\n      <td>0</td>\n      <td>68</td>\n      <td>27</td>\n      <td>0</td>\n      <td>1</td>\n      <td>0</td>\n      <td>0</td>\n      <td>41</td>\n      <td>1</td>\n      <td>0</td>\n    </tr>\n    <tr>\n      <th>2</th>\n      <td>0</td>\n      <td>148</td>\n      <td>3</td>\n      <td>200123</td>\n      <td>NaN</td>\n      <td>0.0</td>\n      <td>NaN</td>\n      <td>649</td>\n      <td>1579734000000</td>\n      <td>2</td>\n      <td>...</td>\n      <td>0</td>\n      <td>58</td>\n      <td>27</td>\n      <td>1</td>\n      <td>1</td>\n      <td>0</td>\n      <td>0</td>\n      <td>31</td>\n      <td>0</td>\n      <td>0</td>\n    </tr>\n    <tr>\n      <th>3</th>\n      <td>0</td>\n      <td>108</td>\n      <td>3</td>\n      <td>200123</td>\n      <td>NaN</td>\n      <td>0.0</td>\n      <td>NaN</td>\n      <td>649</td>\n      <td>1579734000000</td>\n      <td>2</td>\n      <td>...</td>\n      <td>0</td>\n      <td>59</td>\n      <td>27</td>\n      <td>1</td>\n      <td>1</td>\n      <td>1</td>\n      <td>0</td>\n      <td>32</td>\n      <td>0</td>\n      <td>1</td>\n    </tr>\n    <tr>\n      <th>4</th>\n      <td>0</td>\n      <td>49</td>\n      <td>3</td>\n      <td>200123</td>\n      <td>NaN</td>\n      <td>0.0</td>\n      <td>NaN</td>\n      <td>649</td>\n      <td>1579734000000</td>\n      <td>2</td>\n      <td>...</td>\n      <td>0</td>\n      <td>62</td>\n      <td>27</td>\n      <td>0</td>\n      <td>1</td>\n      <td>1</td>\n      <td>0</td>\n      <td>35</td>\n      <td>1</td>\n      <td>1</td>\n    </tr>\n    <tr>\n      <th>...</th>\n      <td>...</td>\n      <td>...</td>\n      <td>...</td>\n      <td>...</td>\n      <td>...</td>\n      <td>...</td>\n      <td>...</td>\n      <td>...</td>\n      <td>...</td>\n      <td>...</td>\n      <td>...</td>\n      <td>...</td>\n      <td>...</td>\n      <td>...</td>\n      <td>...</td>\n      <td>...</td>\n      <td>...</td>\n      <td>...</td>\n      <td>...</td>\n      <td>...</td>\n      <td>...</td>\n    </tr>\n    <tr>\n      <th>14807</th>\n      <td>0</td>\n      <td>33</td>\n      <td>158</td>\n      <td>200214</td>\n      <td>NaN</td>\n      <td>0.0</td>\n      <td>NaN</td>\n      <td>770</td>\n      <td>1581634800000</td>\n      <td>19</td>\n      <td>...</td>\n      <td>1581462000000</td>\n      <td>63</td>\n      <td>62</td>\n      <td>0</td>\n      <td>1</td>\n      <td>0</td>\n      <td>1</td>\n      <td>1</td>\n      <td>1</td>\n      <td>1</td>\n    </tr>\n    <tr>\n      <th>14808</th>\n      <td>0</td>\n      <td>57</td>\n      <td>159</td>\n      <td>200214</td>\n      <td>NaN</td>\n      <td>0.0</td>\n      <td>NaN</td>\n      <td>770</td>\n      <td>1581634800000</td>\n      <td>19</td>\n      <td>...</td>\n      <td>1581462000000</td>\n      <td>58</td>\n      <td>27</td>\n      <td>1</td>\n      <td>0</td>\n      <td>0</td>\n      <td>1</td>\n      <td>31</td>\n      <td>1</td>\n      <td>1</td>\n    </tr>\n    <tr>\n      <th>14809</th>\n      <td>0</td>\n      <td>33</td>\n      <td>159</td>\n      <td>200214</td>\n      <td>NaN</td>\n      <td>0.0</td>\n      <td>NaN</td>\n      <td>770</td>\n      <td>1581634800000</td>\n      <td>19</td>\n      <td>...</td>\n      <td>1581462000000</td>\n      <td>63</td>\n      <td>27</td>\n      <td>0</td>\n      <td>0</td>\n      <td>0</td>\n      <td>1</td>\n      <td>36</td>\n      <td>0</td>\n      <td>1</td>\n    </tr>\n    <tr>\n      <th>14810</th>\n      <td>0</td>\n      <td>79</td>\n      <td>76</td>\n      <td>200214</td>\n      <td>NaN</td>\n      <td>0.0</td>\n      <td>NaN</td>\n      <td>770</td>\n      <td>1581634800000</td>\n      <td>19</td>\n      <td>...</td>\n      <td>1581462000000</td>\n      <td>62</td>\n      <td>29</td>\n      <td>1</td>\n      <td>1</td>\n      <td>0</td>\n      <td>1</td>\n      <td>33</td>\n      <td>0</td>\n      <td>1</td>\n    </tr>\n    <tr>\n      <th>14811</th>\n      <td>0</td>\n      <td>2</td>\n      <td>121</td>\n      <td>200214</td>\n      <td>NaN</td>\n      <td>0.0</td>\n      <td>NaN</td>\n      <td>770</td>\n      <td>1581634800000</td>\n      <td>19</td>\n      <td>...</td>\n      <td>1581462000000</td>\n      <td>68</td>\n      <td>46</td>\n      <td>0</td>\n      <td>0</td>\n      <td>0</td>\n      <td>1</td>\n      <td>22</td>\n      <td>0</td>\n      <td>1</td>\n    </tr>\n  </tbody>\n</table>\n<p>14812 rows × 31 columns</p>\n</div>"
     },
     "execution_count": 20,
     "metadata": {},
     "output_type": "execute_result"
    }
   ],
   "source": [
    "hainan_rem_cond_referral['age_difference'] = abs(\n",
    "    hainan_rem_cond_referral['referee_age'] - hainan_rem_cond_referral['referral_age']).astype('Int64')\n",
    "hainan_rem_cond_referral['gender_difference'] = abs(\n",
    "    hainan_rem_cond_referral['referee_gender'] - hainan_rem_cond_referral['referral_gender']).astype('Int64')\n",
    "hainan_rem_cond_referral['relatives_difference'] = abs(\n",
    "    hainan_rem_cond_referral['referee_relatives'] - hainan_rem_cond_referral['referral_relatives']).astype('Int64')\n",
    "hainan_rem_cond_referral"
   ],
   "metadata": {
    "collapsed": false,
    "pycharm": {
     "name": "#%%\n"
    }
   }
  },
  {
   "cell_type": "code",
   "execution_count": 21,
   "outputs": [],
   "source": [
    "hainan_rem_cond_referral.to_csv('../Data/Tables/rem/hainan_eventlist_nomination_cond_referee.csv')"
   ],
   "metadata": {
    "collapsed": false,
    "pycharm": {
     "name": "#%%\n"
    }
   }
  },
  {
   "cell_type": "markdown",
   "source": [
    "## Cond referral"
   ],
   "metadata": {
    "collapsed": false,
    "pycharm": {
     "name": "#%% md\n"
    }
   }
  },
  {
   "cell_type": "code",
   "execution_count": 22,
   "outputs": [],
   "source": [
    "hainan_rem_cond_referral = pd.read_csv('../Data/Tables/rem/hainan_eventlist_nomination_cond_referral.csv',\n",
    "                                       low_memory=False)"
   ],
   "metadata": {
    "collapsed": false,
    "pycharm": {
     "name": "#%%\n"
    }
   }
  },
  {
   "cell_type": "code",
   "execution_count": 23,
   "outputs": [],
   "source": [
    "hainan_rem_cond_referral['referee_age'] = hainan_rem_cond_referral['referee_age'].where(\n",
    "    hainan_rem_cond_referral['referee_age'] != -1, np.nan).astype('Int64')\n",
    "hainan_rem_cond_referral['referral_age'] = hainan_rem_cond_referral['referral_age'].where(\n",
    "    hainan_rem_cond_referral['referral_age'] != -1, np.nan).astype('Int64')\n",
    "\n",
    "hainan_rem_cond_referral['referee_gender'] = hainan_rem_cond_referral['referee_gender'].where(\n",
    "    hainan_rem_cond_referral['referee_gender'] != -1, np.nan).astype('Int64')\n",
    "hainan_rem_cond_referral['referral_gender'] = hainan_rem_cond_referral['referral_gender'].where(\n",
    "    hainan_rem_cond_referral['referral_gender'] != -1, np.nan).astype('Int64')\n",
    "\n",
    "hainan_rem_cond_referral['referee_relatives'] = hainan_rem_cond_referral['referee_relatives'].where(\n",
    "    hainan_rem_cond_referral['referee_relatives'] != -1, np.nan).astype('Int64')\n",
    "hainan_rem_cond_referral['referral_relatives'] = hainan_rem_cond_referral['referral_relatives'].where(\n",
    "    hainan_rem_cond_referral['referral_relatives'] != -1, np.nan).astype('Int64')"
   ],
   "metadata": {
    "collapsed": false,
    "pycharm": {
     "name": "#%%\n"
    }
   }
  },
  {
   "cell_type": "code",
   "execution_count": 24,
   "outputs": [
    {
     "data": {
      "text/plain": "       IS_OBSERVED  SOURCE  TARGET    TIME                TYPE  WEIGHT  \\\n0                1       5       3  200123  contact_nomination     1.0   \n1                0       2       3  200123                 NaN     0.0   \n2                0     148       3  200123                 NaN     0.0   \n3                0     108       3  200123                 NaN     0.0   \n4                0      49       3  200123                 NaN     0.0   \n...            ...     ...     ...     ...                 ...     ...   \n14807            0      33     158  200214                 NaN     0.0   \n14808            0      57     159  200214                 NaN     0.0   \n14809            0      33     159  200214                 NaN     0.0   \n14810            0      79      76  200214                 NaN     0.0   \n14811            0       2     121  200214                 NaN     0.0   \n\n       EVENT_INTERVAL_ID  EVENT   INTEGER_TIME  TIME_POINT  ...  \\\n0                    0.0    649  1579734000000           2  ...   \n1                    NaN    649  1579734000000           2  ...   \n2                    NaN    649  1579734000000           2  ...   \n3                    NaN    649  1579734000000           2  ...   \n4                    NaN    649  1579734000000           2  ...   \n...                  ...    ...            ...         ...  ...   \n14807                NaN    770  1581634800000          19  ...   \n14808                NaN    770  1581634800000          19  ...   \n14809                NaN    770  1581634800000          19  ...   \n14810                NaN    770  1581634800000          19  ...   \n14811                NaN    770  1581634800000          19  ...   \n\n        network_time  referee_age  referral_age  referee_gender  \\\n0                  0           27            27               0   \n1                  0           68            27               0   \n2                  0           58            27               1   \n3                  0           59            27               1   \n4                  0           62            27               0   \n...              ...          ...           ...             ...   \n14807  1581462000000           63            62               0   \n14808  1581462000000           58            27               1   \n14809  1581462000000           63            27               0   \n14810  1581462000000           62            29               1   \n14811  1581462000000           68            46               0   \n\n       referral_gender  referee_relatives  referral_relatives  age_difference  \\\n0                    1                  0                   0               0   \n1                    1                  0                   0              41   \n2                    1                  0                   0              31   \n3                    1                  1                   0              32   \n4                    1                  1                   0              35   \n...                ...                ...                 ...             ...   \n14807                1                  0                   1               1   \n14808                0                  0                   1              31   \n14809                0                  0                   1              36   \n14810                1                  0                   1              33   \n14811                0                  0                   1              22   \n\n       gender_difference  relatives_difference  \n0                      1                     0  \n1                      1                     0  \n2                      0                     0  \n3                      0                     1  \n4                      1                     1  \n...                  ...                   ...  \n14807                  1                     1  \n14808                  1                     1  \n14809                  0                     1  \n14810                  0                     1  \n14811                  0                     1  \n\n[14812 rows x 31 columns]",
      "text/html": "<div>\n<style scoped>\n    .dataframe tbody tr th:only-of-type {\n        vertical-align: middle;\n    }\n\n    .dataframe tbody tr th {\n        vertical-align: top;\n    }\n\n    .dataframe thead th {\n        text-align: right;\n    }\n</style>\n<table border=\"1\" class=\"dataframe\">\n  <thead>\n    <tr style=\"text-align: right;\">\n      <th></th>\n      <th>IS_OBSERVED</th>\n      <th>SOURCE</th>\n      <th>TARGET</th>\n      <th>TIME</th>\n      <th>TYPE</th>\n      <th>WEIGHT</th>\n      <th>EVENT_INTERVAL_ID</th>\n      <th>EVENT</th>\n      <th>INTEGER_TIME</th>\n      <th>TIME_POINT</th>\n      <th>...</th>\n      <th>network_time</th>\n      <th>referee_age</th>\n      <th>referral_age</th>\n      <th>referee_gender</th>\n      <th>referral_gender</th>\n      <th>referee_relatives</th>\n      <th>referral_relatives</th>\n      <th>age_difference</th>\n      <th>gender_difference</th>\n      <th>relatives_difference</th>\n    </tr>\n  </thead>\n  <tbody>\n    <tr>\n      <th>0</th>\n      <td>1</td>\n      <td>5</td>\n      <td>3</td>\n      <td>200123</td>\n      <td>contact_nomination</td>\n      <td>1.0</td>\n      <td>0.0</td>\n      <td>649</td>\n      <td>1579734000000</td>\n      <td>2</td>\n      <td>...</td>\n      <td>0</td>\n      <td>27</td>\n      <td>27</td>\n      <td>0</td>\n      <td>1</td>\n      <td>0</td>\n      <td>0</td>\n      <td>0</td>\n      <td>1</td>\n      <td>0</td>\n    </tr>\n    <tr>\n      <th>1</th>\n      <td>0</td>\n      <td>2</td>\n      <td>3</td>\n      <td>200123</td>\n      <td>NaN</td>\n      <td>0.0</td>\n      <td>NaN</td>\n      <td>649</td>\n      <td>1579734000000</td>\n      <td>2</td>\n      <td>...</td>\n      <td>0</td>\n      <td>68</td>\n      <td>27</td>\n      <td>0</td>\n      <td>1</td>\n      <td>0</td>\n      <td>0</td>\n      <td>41</td>\n      <td>1</td>\n      <td>0</td>\n    </tr>\n    <tr>\n      <th>2</th>\n      <td>0</td>\n      <td>148</td>\n      <td>3</td>\n      <td>200123</td>\n      <td>NaN</td>\n      <td>0.0</td>\n      <td>NaN</td>\n      <td>649</td>\n      <td>1579734000000</td>\n      <td>2</td>\n      <td>...</td>\n      <td>0</td>\n      <td>58</td>\n      <td>27</td>\n      <td>1</td>\n      <td>1</td>\n      <td>0</td>\n      <td>0</td>\n      <td>31</td>\n      <td>0</td>\n      <td>0</td>\n    </tr>\n    <tr>\n      <th>3</th>\n      <td>0</td>\n      <td>108</td>\n      <td>3</td>\n      <td>200123</td>\n      <td>NaN</td>\n      <td>0.0</td>\n      <td>NaN</td>\n      <td>649</td>\n      <td>1579734000000</td>\n      <td>2</td>\n      <td>...</td>\n      <td>0</td>\n      <td>59</td>\n      <td>27</td>\n      <td>1</td>\n      <td>1</td>\n      <td>1</td>\n      <td>0</td>\n      <td>32</td>\n      <td>0</td>\n      <td>1</td>\n    </tr>\n    <tr>\n      <th>4</th>\n      <td>0</td>\n      <td>49</td>\n      <td>3</td>\n      <td>200123</td>\n      <td>NaN</td>\n      <td>0.0</td>\n      <td>NaN</td>\n      <td>649</td>\n      <td>1579734000000</td>\n      <td>2</td>\n      <td>...</td>\n      <td>0</td>\n      <td>62</td>\n      <td>27</td>\n      <td>0</td>\n      <td>1</td>\n      <td>1</td>\n      <td>0</td>\n      <td>35</td>\n      <td>1</td>\n      <td>1</td>\n    </tr>\n    <tr>\n      <th>...</th>\n      <td>...</td>\n      <td>...</td>\n      <td>...</td>\n      <td>...</td>\n      <td>...</td>\n      <td>...</td>\n      <td>...</td>\n      <td>...</td>\n      <td>...</td>\n      <td>...</td>\n      <td>...</td>\n      <td>...</td>\n      <td>...</td>\n      <td>...</td>\n      <td>...</td>\n      <td>...</td>\n      <td>...</td>\n      <td>...</td>\n      <td>...</td>\n      <td>...</td>\n      <td>...</td>\n    </tr>\n    <tr>\n      <th>14807</th>\n      <td>0</td>\n      <td>33</td>\n      <td>158</td>\n      <td>200214</td>\n      <td>NaN</td>\n      <td>0.0</td>\n      <td>NaN</td>\n      <td>770</td>\n      <td>1581634800000</td>\n      <td>19</td>\n      <td>...</td>\n      <td>1581462000000</td>\n      <td>63</td>\n      <td>62</td>\n      <td>0</td>\n      <td>1</td>\n      <td>0</td>\n      <td>1</td>\n      <td>1</td>\n      <td>1</td>\n      <td>1</td>\n    </tr>\n    <tr>\n      <th>14808</th>\n      <td>0</td>\n      <td>57</td>\n      <td>159</td>\n      <td>200214</td>\n      <td>NaN</td>\n      <td>0.0</td>\n      <td>NaN</td>\n      <td>770</td>\n      <td>1581634800000</td>\n      <td>19</td>\n      <td>...</td>\n      <td>1581462000000</td>\n      <td>58</td>\n      <td>27</td>\n      <td>1</td>\n      <td>0</td>\n      <td>0</td>\n      <td>1</td>\n      <td>31</td>\n      <td>1</td>\n      <td>1</td>\n    </tr>\n    <tr>\n      <th>14809</th>\n      <td>0</td>\n      <td>33</td>\n      <td>159</td>\n      <td>200214</td>\n      <td>NaN</td>\n      <td>0.0</td>\n      <td>NaN</td>\n      <td>770</td>\n      <td>1581634800000</td>\n      <td>19</td>\n      <td>...</td>\n      <td>1581462000000</td>\n      <td>63</td>\n      <td>27</td>\n      <td>0</td>\n      <td>0</td>\n      <td>0</td>\n      <td>1</td>\n      <td>36</td>\n      <td>0</td>\n      <td>1</td>\n    </tr>\n    <tr>\n      <th>14810</th>\n      <td>0</td>\n      <td>79</td>\n      <td>76</td>\n      <td>200214</td>\n      <td>NaN</td>\n      <td>0.0</td>\n      <td>NaN</td>\n      <td>770</td>\n      <td>1581634800000</td>\n      <td>19</td>\n      <td>...</td>\n      <td>1581462000000</td>\n      <td>62</td>\n      <td>29</td>\n      <td>1</td>\n      <td>1</td>\n      <td>0</td>\n      <td>1</td>\n      <td>33</td>\n      <td>0</td>\n      <td>1</td>\n    </tr>\n    <tr>\n      <th>14811</th>\n      <td>0</td>\n      <td>2</td>\n      <td>121</td>\n      <td>200214</td>\n      <td>NaN</td>\n      <td>0.0</td>\n      <td>NaN</td>\n      <td>770</td>\n      <td>1581634800000</td>\n      <td>19</td>\n      <td>...</td>\n      <td>1581462000000</td>\n      <td>68</td>\n      <td>46</td>\n      <td>0</td>\n      <td>0</td>\n      <td>0</td>\n      <td>1</td>\n      <td>22</td>\n      <td>0</td>\n      <td>1</td>\n    </tr>\n  </tbody>\n</table>\n<p>14812 rows × 31 columns</p>\n</div>"
     },
     "execution_count": 24,
     "metadata": {},
     "output_type": "execute_result"
    }
   ],
   "source": [
    "hainan_rem_cond_referral['age_difference'] = abs(\n",
    "    hainan_rem_cond_referral['referee_age'] - hainan_rem_cond_referral['referral_age']).astype('Int64')\n",
    "hainan_rem_cond_referral['gender_difference'] = abs(\n",
    "    hainan_rem_cond_referral['referee_gender'] - hainan_rem_cond_referral['referral_gender']).astype('Int64')\n",
    "hainan_rem_cond_referral['relatives_difference'] = abs(\n",
    "    hainan_rem_cond_referral['referee_relatives'] - hainan_rem_cond_referral['referral_relatives']).astype('Int64')\n",
    "hainan_rem_cond_referral"
   ],
   "metadata": {
    "collapsed": false,
    "pycharm": {
     "name": "#%%\n"
    }
   }
  },
  {
   "cell_type": "code",
   "execution_count": 25,
   "outputs": [],
   "source": [
    "hainan_rem_cond_referral.to_csv('../Data/Tables/rem/hainan_eventlist_nomination_cond_referral.csv')"
   ],
   "metadata": {
    "collapsed": false,
    "pycharm": {
     "name": "#%%\n"
    }
   }
  },
  {
   "cell_type": "markdown",
   "source": [
    "# Shanxi"
   ],
   "metadata": {
    "collapsed": false,
    "pycharm": {
     "name": "#%% md\n"
    }
   }
  },
  {
   "cell_type": "markdown",
   "source": [
    "## Uncond"
   ],
   "metadata": {
    "collapsed": false,
    "pycharm": {
     "name": "#%% md\n"
    }
   }
  },
  {
   "cell_type": "code",
   "execution_count": 26,
   "outputs": [],
   "source": [
    "shanxi_rem = pd.read_csv('../Data/Tables/rem/shanxi_eventlist_nomination.csv',\n",
    "                                       low_memory=False)"
   ],
   "metadata": {
    "collapsed": false,
    "pycharm": {
     "name": "#%%\n"
    }
   }
  },
  {
   "cell_type": "code",
   "execution_count": 27,
   "outputs": [],
   "source": [
    "shanxi_rem['referee_age'] = shanxi_rem['referee_age'].where(\n",
    "    shanxi_rem['referee_age'] != -1, np.nan).astype('Int64')\n",
    "shanxi_rem['referral_age'] = shanxi_rem['referral_age'].where(\n",
    "    shanxi_rem['referral_age'] != -1, np.nan).astype('Int64')\n",
    "\n",
    "shanxi_rem['referee_gender'] = shanxi_rem['referee_gender'].where(\n",
    "    shanxi_rem['referee_gender'] != -1, np.nan).astype('Int64')\n",
    "shanxi_rem['referral_gender'] = shanxi_rem['referral_gender'].where(\n",
    "    shanxi_rem['referral_gender'] != -1, np.nan).astype('Int64')\n",
    "\n",
    "shanxi_rem['referee_relatives'] = shanxi_rem['referee_relatives'].where(\n",
    "    shanxi_rem['referee_relatives'] != -1, np.nan).astype('Int64')\n",
    "shanxi_rem['referral_relatives'] = shanxi_rem['referral_relatives'].where(\n",
    "    shanxi_rem['referral_relatives'] != -1, np.nan).astype('Int64')\n",
    "\n",
    "shanxi_rem['referee_hukou'] = shanxi_rem['referee_hukou'].where(\n",
    "    shanxi_rem['referee_hukou'] != -1, np.nan).astype('Int64')\n",
    "shanxi_rem['referral_hukou'] = shanxi_rem['referral_hukou'].where(\n",
    "    shanxi_rem['referral_hukou'] != -1, np.nan).astype('Int64')"
   ],
   "metadata": {
    "collapsed": false,
    "pycharm": {
     "name": "#%%\n"
    }
   }
  },
  {
   "cell_type": "code",
   "execution_count": 28,
   "outputs": [
    {
     "data": {
      "text/plain": "        IS_OBSERVED  SOURCE  TARGET    TIME                TYPE  WEIGHT  \\\n0                 1      11      10  200125  contact_nomination     1.0   \n1                 1      11       9  200125  contact_nomination     1.0   \n2                 1      10       9  200125  contact_nomination     1.0   \n3                 0     100       3  200125                 NaN     0.0   \n4                 0     100       2  200125                 NaN     0.0   \n...             ...     ...     ...     ...                 ...     ...   \n913762            0     199     235  200216                 NaN     0.0   \n913763            0     199     234  200216                 NaN     0.0   \n913764            0     199     233  200216                 NaN     0.0   \n913765            0     199     232  200216                 NaN     0.0   \n913766            0     199     231  200216                 NaN     0.0   \n\n        EVENT_INTERVAL_ID  EVENT   INTEGER_TIME  TIME_POINT  ...  \\\n0                     0.0   1186  1579906800000           2  ...   \n1                     0.0   1187  1579906800000           2  ...   \n2                     1.0   1188  1579906800000           2  ...   \n3                     NaN   1188  1579906800000           2  ...   \n4                     NaN   1188  1579906800000           2  ...   \n...                   ...    ...            ...         ...  ...   \n913762                NaN   1310  1581807600000          23  ...   \n913763                NaN   1310  1581807600000          23  ...   \n913764                NaN   1310  1581807600000          23  ...   \n913765                NaN   1310  1581807600000          23  ...   \n913766                NaN   1310  1581807600000          23  ...   \n\n        referee_gender  referral_gender  referee_relatives  \\\n0                    0                0                  1   \n1                    0                1                  1   \n2                    0                1                  1   \n3                    0                1                  0   \n4                    0                0                  0   \n...                ...              ...                ...   \n913762               1                1                  0   \n913763               1                1                  0   \n913764               1                0                  0   \n913765               1                0                  0   \n913766               1                0                  0   \n\n        referral_relatives  referee_hukou  referral_hukou  age_difference  \\\n0                        1             16              16              36   \n1                        1             16              16              37   \n2                        1             16              16               1   \n3                        0              4              17              26   \n4                        0              4              17              16   \n...                    ...            ...             ...             ...   \n913762                   1             17               4              21   \n913763                   0             17               4               4   \n913764                   0             17              15              17   \n913765                   0             17               0               4   \n913766                   1             17               0              32   \n\n        gender_difference  relatives_difference  hukou_difference  \n0                       0                     0                 0  \n1                       1                     0                 0  \n2                       1                     0                 0  \n3                       1                     0                13  \n4                       0                     0                13  \n...                   ...                   ...               ...  \n913762                  0                     1                13  \n913763                  0                     0                13  \n913764                  1                     0                 2  \n913765                  1                     0                17  \n913766                  1                     1                17  \n\n[913767 rows x 34 columns]",
      "text/html": "<div>\n<style scoped>\n    .dataframe tbody tr th:only-of-type {\n        vertical-align: middle;\n    }\n\n    .dataframe tbody tr th {\n        vertical-align: top;\n    }\n\n    .dataframe thead th {\n        text-align: right;\n    }\n</style>\n<table border=\"1\" class=\"dataframe\">\n  <thead>\n    <tr style=\"text-align: right;\">\n      <th></th>\n      <th>IS_OBSERVED</th>\n      <th>SOURCE</th>\n      <th>TARGET</th>\n      <th>TIME</th>\n      <th>TYPE</th>\n      <th>WEIGHT</th>\n      <th>EVENT_INTERVAL_ID</th>\n      <th>EVENT</th>\n      <th>INTEGER_TIME</th>\n      <th>TIME_POINT</th>\n      <th>...</th>\n      <th>referee_gender</th>\n      <th>referral_gender</th>\n      <th>referee_relatives</th>\n      <th>referral_relatives</th>\n      <th>referee_hukou</th>\n      <th>referral_hukou</th>\n      <th>age_difference</th>\n      <th>gender_difference</th>\n      <th>relatives_difference</th>\n      <th>hukou_difference</th>\n    </tr>\n  </thead>\n  <tbody>\n    <tr>\n      <th>0</th>\n      <td>1</td>\n      <td>11</td>\n      <td>10</td>\n      <td>200125</td>\n      <td>contact_nomination</td>\n      <td>1.0</td>\n      <td>0.0</td>\n      <td>1186</td>\n      <td>1579906800000</td>\n      <td>2</td>\n      <td>...</td>\n      <td>0</td>\n      <td>0</td>\n      <td>1</td>\n      <td>1</td>\n      <td>16</td>\n      <td>16</td>\n      <td>36</td>\n      <td>0</td>\n      <td>0</td>\n      <td>0</td>\n    </tr>\n    <tr>\n      <th>1</th>\n      <td>1</td>\n      <td>11</td>\n      <td>9</td>\n      <td>200125</td>\n      <td>contact_nomination</td>\n      <td>1.0</td>\n      <td>0.0</td>\n      <td>1187</td>\n      <td>1579906800000</td>\n      <td>2</td>\n      <td>...</td>\n      <td>0</td>\n      <td>1</td>\n      <td>1</td>\n      <td>1</td>\n      <td>16</td>\n      <td>16</td>\n      <td>37</td>\n      <td>1</td>\n      <td>0</td>\n      <td>0</td>\n    </tr>\n    <tr>\n      <th>2</th>\n      <td>1</td>\n      <td>10</td>\n      <td>9</td>\n      <td>200125</td>\n      <td>contact_nomination</td>\n      <td>1.0</td>\n      <td>1.0</td>\n      <td>1188</td>\n      <td>1579906800000</td>\n      <td>2</td>\n      <td>...</td>\n      <td>0</td>\n      <td>1</td>\n      <td>1</td>\n      <td>1</td>\n      <td>16</td>\n      <td>16</td>\n      <td>1</td>\n      <td>1</td>\n      <td>0</td>\n      <td>0</td>\n    </tr>\n    <tr>\n      <th>3</th>\n      <td>0</td>\n      <td>100</td>\n      <td>3</td>\n      <td>200125</td>\n      <td>NaN</td>\n      <td>0.0</td>\n      <td>NaN</td>\n      <td>1188</td>\n      <td>1579906800000</td>\n      <td>2</td>\n      <td>...</td>\n      <td>0</td>\n      <td>1</td>\n      <td>0</td>\n      <td>0</td>\n      <td>4</td>\n      <td>17</td>\n      <td>26</td>\n      <td>1</td>\n      <td>0</td>\n      <td>13</td>\n    </tr>\n    <tr>\n      <th>4</th>\n      <td>0</td>\n      <td>100</td>\n      <td>2</td>\n      <td>200125</td>\n      <td>NaN</td>\n      <td>0.0</td>\n      <td>NaN</td>\n      <td>1188</td>\n      <td>1579906800000</td>\n      <td>2</td>\n      <td>...</td>\n      <td>0</td>\n      <td>0</td>\n      <td>0</td>\n      <td>0</td>\n      <td>4</td>\n      <td>17</td>\n      <td>16</td>\n      <td>0</td>\n      <td>0</td>\n      <td>13</td>\n    </tr>\n    <tr>\n      <th>...</th>\n      <td>...</td>\n      <td>...</td>\n      <td>...</td>\n      <td>...</td>\n      <td>...</td>\n      <td>...</td>\n      <td>...</td>\n      <td>...</td>\n      <td>...</td>\n      <td>...</td>\n      <td>...</td>\n      <td>...</td>\n      <td>...</td>\n      <td>...</td>\n      <td>...</td>\n      <td>...</td>\n      <td>...</td>\n      <td>...</td>\n      <td>...</td>\n      <td>...</td>\n      <td>...</td>\n    </tr>\n    <tr>\n      <th>913762</th>\n      <td>0</td>\n      <td>199</td>\n      <td>235</td>\n      <td>200216</td>\n      <td>NaN</td>\n      <td>0.0</td>\n      <td>NaN</td>\n      <td>1310</td>\n      <td>1581807600000</td>\n      <td>23</td>\n      <td>...</td>\n      <td>1</td>\n      <td>1</td>\n      <td>0</td>\n      <td>1</td>\n      <td>17</td>\n      <td>4</td>\n      <td>21</td>\n      <td>0</td>\n      <td>1</td>\n      <td>13</td>\n    </tr>\n    <tr>\n      <th>913763</th>\n      <td>0</td>\n      <td>199</td>\n      <td>234</td>\n      <td>200216</td>\n      <td>NaN</td>\n      <td>0.0</td>\n      <td>NaN</td>\n      <td>1310</td>\n      <td>1581807600000</td>\n      <td>23</td>\n      <td>...</td>\n      <td>1</td>\n      <td>1</td>\n      <td>0</td>\n      <td>0</td>\n      <td>17</td>\n      <td>4</td>\n      <td>4</td>\n      <td>0</td>\n      <td>0</td>\n      <td>13</td>\n    </tr>\n    <tr>\n      <th>913764</th>\n      <td>0</td>\n      <td>199</td>\n      <td>233</td>\n      <td>200216</td>\n      <td>NaN</td>\n      <td>0.0</td>\n      <td>NaN</td>\n      <td>1310</td>\n      <td>1581807600000</td>\n      <td>23</td>\n      <td>...</td>\n      <td>1</td>\n      <td>0</td>\n      <td>0</td>\n      <td>0</td>\n      <td>17</td>\n      <td>15</td>\n      <td>17</td>\n      <td>1</td>\n      <td>0</td>\n      <td>2</td>\n    </tr>\n    <tr>\n      <th>913765</th>\n      <td>0</td>\n      <td>199</td>\n      <td>232</td>\n      <td>200216</td>\n      <td>NaN</td>\n      <td>0.0</td>\n      <td>NaN</td>\n      <td>1310</td>\n      <td>1581807600000</td>\n      <td>23</td>\n      <td>...</td>\n      <td>1</td>\n      <td>0</td>\n      <td>0</td>\n      <td>0</td>\n      <td>17</td>\n      <td>0</td>\n      <td>4</td>\n      <td>1</td>\n      <td>0</td>\n      <td>17</td>\n    </tr>\n    <tr>\n      <th>913766</th>\n      <td>0</td>\n      <td>199</td>\n      <td>231</td>\n      <td>200216</td>\n      <td>NaN</td>\n      <td>0.0</td>\n      <td>NaN</td>\n      <td>1310</td>\n      <td>1581807600000</td>\n      <td>23</td>\n      <td>...</td>\n      <td>1</td>\n      <td>0</td>\n      <td>0</td>\n      <td>1</td>\n      <td>17</td>\n      <td>0</td>\n      <td>32</td>\n      <td>1</td>\n      <td>1</td>\n      <td>17</td>\n    </tr>\n  </tbody>\n</table>\n<p>913767 rows × 34 columns</p>\n</div>"
     },
     "execution_count": 28,
     "metadata": {},
     "output_type": "execute_result"
    }
   ],
   "source": [
    "shanxi_rem['age_difference'] = abs(\n",
    "    shanxi_rem['referee_age'] - shanxi_rem['referral_age']).astype('Int64')\n",
    "shanxi_rem['gender_difference'] = abs(\n",
    "    shanxi_rem['referee_gender'] - shanxi_rem['referral_gender']).astype('Int64')\n",
    "shanxi_rem['relatives_difference'] = abs(\n",
    "    shanxi_rem['referee_relatives'] - shanxi_rem['referral_relatives']).astype('Int64')\n",
    "shanxi_rem['hukou_difference'] = abs(\n",
    "    shanxi_rem['referee_hukou'] - shanxi_rem['referral_hukou']).astype('Int64')\n",
    "shanxi_rem"
   ],
   "metadata": {
    "collapsed": false,
    "pycharm": {
     "name": "#%%\n"
    }
   }
  },
  {
   "cell_type": "code",
   "execution_count": 29,
   "outputs": [
    {
     "data": {
      "text/plain": "<IntegerArray>\n[0, 1]\nLength: 2, dtype: Int64"
     },
     "execution_count": 29,
     "metadata": {},
     "output_type": "execute_result"
    }
   ],
   "source": [
    "shanxi_rem['hukou_difference'] = shanxi_rem['hukou_difference'].where(shanxi_rem['hukou_difference'] == 0, 1)\n",
    "shanxi_rem['hukou_difference'].unique()"
   ],
   "metadata": {
    "collapsed": false,
    "pycharm": {
     "name": "#%%\n"
    }
   }
  },
  {
   "cell_type": "code",
   "execution_count": 30,
   "outputs": [],
   "source": [
    "shanxi_rem.to_csv('../Data/Tables/rem/shanxi_eventlist_nomination.csv')"
   ],
   "metadata": {
    "collapsed": false,
    "pycharm": {
     "name": "#%%\n"
    }
   }
  },
  {
   "cell_type": "markdown",
   "source": [
    "## Cond referee"
   ],
   "metadata": {
    "collapsed": false,
    "pycharm": {
     "name": "#%% md\n"
    }
   }
  },
  {
   "cell_type": "code",
   "execution_count": 31,
   "outputs": [],
   "source": [
    "shanxi_rem_cond_referee = pd.read_csv('../Data/Tables/rem/shanxi_eventlist_nomination_cond_referee.csv',\n",
    "                         low_memory=False)"
   ],
   "metadata": {
    "collapsed": false,
    "pycharm": {
     "name": "#%%\n"
    }
   }
  },
  {
   "cell_type": "code",
   "execution_count": 32,
   "outputs": [],
   "source": [
    "shanxi_rem_cond_referee['referee_age'] = shanxi_rem_cond_referee['referee_age'].where(\n",
    "    shanxi_rem_cond_referee['referee_age'] != -1, np.nan).astype('Int64')\n",
    "shanxi_rem_cond_referee['referral_age'] = shanxi_rem_cond_referee['referral_age'].where(\n",
    "    shanxi_rem_cond_referee['referral_age'] != -1, np.nan).astype('Int64')\n",
    "\n",
    "shanxi_rem_cond_referee['referee_gender'] = shanxi_rem_cond_referee['referee_gender'].where(\n",
    "    shanxi_rem_cond_referee['referee_gender'] != -1, np.nan).astype('Int64')\n",
    "shanxi_rem_cond_referee['referral_gender'] = shanxi_rem_cond_referee['referral_gender'].where(\n",
    "    shanxi_rem_cond_referee['referral_gender'] != -1, np.nan).astype('Int64')\n",
    "\n",
    "shanxi_rem_cond_referee['referee_relatives'] = shanxi_rem_cond_referee['referee_relatives'].where(\n",
    "    shanxi_rem_cond_referee['referee_relatives'] != -1, np.nan).astype('Int64')\n",
    "shanxi_rem_cond_referee['referral_relatives'] = shanxi_rem_cond_referee['referral_relatives'].where(\n",
    "    shanxi_rem_cond_referee['referral_relatives'] != -1, np.nan).astype('Int64')\n",
    "\n",
    "shanxi_rem_cond_referee['referee_hukou'] = shanxi_rem_cond_referee['referee_hukou'].where(\n",
    "    shanxi_rem_cond_referee['referee_hukou'] != -1, np.nan).astype('Int64')\n",
    "shanxi_rem_cond_referee['referral_hukou'] = shanxi_rem_cond_referee['referral_hukou'].where(\n",
    "    shanxi_rem_cond_referee['referral_hukou'] != -1, np.nan).astype('Int64')"
   ],
   "metadata": {
    "collapsed": false,
    "pycharm": {
     "name": "#%%\n"
    }
   }
  },
  {
   "cell_type": "code",
   "execution_count": 33,
   "outputs": [
    {
     "data": {
      "text/plain": "       IS_OBSERVED  SOURCE  TARGET    TIME                TYPE  WEIGHT  \\\n0                1      11      10  200125  contact_nomination     1.0   \n1                1      11       9  200125  contact_nomination     1.0   \n2                1      10       9  200125  contact_nomination     1.0   \n3                0      11      32  200125                 NaN     0.0   \n4                0      10      42  200125                 NaN     0.0   \n...            ...     ...     ...     ...                 ...     ...   \n21944            0     237      90  200216                 NaN     0.0   \n21945            0     237      99  200216                 NaN     0.0   \n21946            0     237      98  200216                 NaN     0.0   \n21947            0     237      97  200216                 NaN     0.0   \n21948            0     237      96  200216                 NaN     0.0   \n\n       EVENT_INTERVAL_ID  EVENT   INTEGER_TIME  TIME_POINT  ...  \\\n0                    0.0   1186  1579906800000           2  ...   \n1                    0.0   1187  1579906800000           2  ...   \n2                    1.0   1188  1579906800000           2  ...   \n3                    NaN   1188  1579906800000           2  ...   \n4                    NaN   1188  1579906800000           2  ...   \n...                  ...    ...            ...         ...  ...   \n21944                NaN   1310  1581807600000          23  ...   \n21945                NaN   1310  1581807600000          23  ...   \n21946                NaN   1310  1581807600000          23  ...   \n21947                NaN   1310  1581807600000          23  ...   \n21948                NaN   1310  1581807600000          23  ...   \n\n       referee_gender  referral_gender  referee_relatives  referral_relatives  \\\n0                   0                0                  1                   1   \n1                   0                1                  1                   1   \n2                   0                1                  1                   1   \n3                   0                0                  1                   0   \n4                   0                1                  1                   1   \n...               ...              ...                ...                 ...   \n21944               0                1                  1                   0   \n21945               0                0                  1                   1   \n21946               0                1                  1                   0   \n21947               0                1                  1                   0   \n21948               0                0                  1                   0   \n\n       referee_hukou  referral_hukou  age_difference  gender_difference  \\\n0                 16              16              36                  0   \n1                 16              16              37                  1   \n2                 16              16               1                  1   \n3                 16               0              32                  0   \n4                 16              16               9                  1   \n...              ...             ...             ...                ...   \n21944              4              17              17                  1   \n21945              4               1              22                  0   \n21946              4               1              38                  1   \n21947              4               0              39                  1   \n21948              4              18              34                  0   \n\n       relatives_difference  hukou_difference  \n0                         0                 0  \n1                         0                 0  \n2                         0                 0  \n3                         1                16  \n4                         0                 0  \n...                     ...               ...  \n21944                     1                13  \n21945                     0                 3  \n21946                     1                 3  \n21947                     1                 4  \n21948                     1                14  \n\n[21949 rows x 34 columns]",
      "text/html": "<div>\n<style scoped>\n    .dataframe tbody tr th:only-of-type {\n        vertical-align: middle;\n    }\n\n    .dataframe tbody tr th {\n        vertical-align: top;\n    }\n\n    .dataframe thead th {\n        text-align: right;\n    }\n</style>\n<table border=\"1\" class=\"dataframe\">\n  <thead>\n    <tr style=\"text-align: right;\">\n      <th></th>\n      <th>IS_OBSERVED</th>\n      <th>SOURCE</th>\n      <th>TARGET</th>\n      <th>TIME</th>\n      <th>TYPE</th>\n      <th>WEIGHT</th>\n      <th>EVENT_INTERVAL_ID</th>\n      <th>EVENT</th>\n      <th>INTEGER_TIME</th>\n      <th>TIME_POINT</th>\n      <th>...</th>\n      <th>referee_gender</th>\n      <th>referral_gender</th>\n      <th>referee_relatives</th>\n      <th>referral_relatives</th>\n      <th>referee_hukou</th>\n      <th>referral_hukou</th>\n      <th>age_difference</th>\n      <th>gender_difference</th>\n      <th>relatives_difference</th>\n      <th>hukou_difference</th>\n    </tr>\n  </thead>\n  <tbody>\n    <tr>\n      <th>0</th>\n      <td>1</td>\n      <td>11</td>\n      <td>10</td>\n      <td>200125</td>\n      <td>contact_nomination</td>\n      <td>1.0</td>\n      <td>0.0</td>\n      <td>1186</td>\n      <td>1579906800000</td>\n      <td>2</td>\n      <td>...</td>\n      <td>0</td>\n      <td>0</td>\n      <td>1</td>\n      <td>1</td>\n      <td>16</td>\n      <td>16</td>\n      <td>36</td>\n      <td>0</td>\n      <td>0</td>\n      <td>0</td>\n    </tr>\n    <tr>\n      <th>1</th>\n      <td>1</td>\n      <td>11</td>\n      <td>9</td>\n      <td>200125</td>\n      <td>contact_nomination</td>\n      <td>1.0</td>\n      <td>0.0</td>\n      <td>1187</td>\n      <td>1579906800000</td>\n      <td>2</td>\n      <td>...</td>\n      <td>0</td>\n      <td>1</td>\n      <td>1</td>\n      <td>1</td>\n      <td>16</td>\n      <td>16</td>\n      <td>37</td>\n      <td>1</td>\n      <td>0</td>\n      <td>0</td>\n    </tr>\n    <tr>\n      <th>2</th>\n      <td>1</td>\n      <td>10</td>\n      <td>9</td>\n      <td>200125</td>\n      <td>contact_nomination</td>\n      <td>1.0</td>\n      <td>1.0</td>\n      <td>1188</td>\n      <td>1579906800000</td>\n      <td>2</td>\n      <td>...</td>\n      <td>0</td>\n      <td>1</td>\n      <td>1</td>\n      <td>1</td>\n      <td>16</td>\n      <td>16</td>\n      <td>1</td>\n      <td>1</td>\n      <td>0</td>\n      <td>0</td>\n    </tr>\n    <tr>\n      <th>3</th>\n      <td>0</td>\n      <td>11</td>\n      <td>32</td>\n      <td>200125</td>\n      <td>NaN</td>\n      <td>0.0</td>\n      <td>NaN</td>\n      <td>1188</td>\n      <td>1579906800000</td>\n      <td>2</td>\n      <td>...</td>\n      <td>0</td>\n      <td>0</td>\n      <td>1</td>\n      <td>0</td>\n      <td>16</td>\n      <td>0</td>\n      <td>32</td>\n      <td>0</td>\n      <td>1</td>\n      <td>16</td>\n    </tr>\n    <tr>\n      <th>4</th>\n      <td>0</td>\n      <td>10</td>\n      <td>42</td>\n      <td>200125</td>\n      <td>NaN</td>\n      <td>0.0</td>\n      <td>NaN</td>\n      <td>1188</td>\n      <td>1579906800000</td>\n      <td>2</td>\n      <td>...</td>\n      <td>0</td>\n      <td>1</td>\n      <td>1</td>\n      <td>1</td>\n      <td>16</td>\n      <td>16</td>\n      <td>9</td>\n      <td>1</td>\n      <td>0</td>\n      <td>0</td>\n    </tr>\n    <tr>\n      <th>...</th>\n      <td>...</td>\n      <td>...</td>\n      <td>...</td>\n      <td>...</td>\n      <td>...</td>\n      <td>...</td>\n      <td>...</td>\n      <td>...</td>\n      <td>...</td>\n      <td>...</td>\n      <td>...</td>\n      <td>...</td>\n      <td>...</td>\n      <td>...</td>\n      <td>...</td>\n      <td>...</td>\n      <td>...</td>\n      <td>...</td>\n      <td>...</td>\n      <td>...</td>\n      <td>...</td>\n    </tr>\n    <tr>\n      <th>21944</th>\n      <td>0</td>\n      <td>237</td>\n      <td>90</td>\n      <td>200216</td>\n      <td>NaN</td>\n      <td>0.0</td>\n      <td>NaN</td>\n      <td>1310</td>\n      <td>1581807600000</td>\n      <td>23</td>\n      <td>...</td>\n      <td>0</td>\n      <td>1</td>\n      <td>1</td>\n      <td>0</td>\n      <td>4</td>\n      <td>17</td>\n      <td>17</td>\n      <td>1</td>\n      <td>1</td>\n      <td>13</td>\n    </tr>\n    <tr>\n      <th>21945</th>\n      <td>0</td>\n      <td>237</td>\n      <td>99</td>\n      <td>200216</td>\n      <td>NaN</td>\n      <td>0.0</td>\n      <td>NaN</td>\n      <td>1310</td>\n      <td>1581807600000</td>\n      <td>23</td>\n      <td>...</td>\n      <td>0</td>\n      <td>0</td>\n      <td>1</td>\n      <td>1</td>\n      <td>4</td>\n      <td>1</td>\n      <td>22</td>\n      <td>0</td>\n      <td>0</td>\n      <td>3</td>\n    </tr>\n    <tr>\n      <th>21946</th>\n      <td>0</td>\n      <td>237</td>\n      <td>98</td>\n      <td>200216</td>\n      <td>NaN</td>\n      <td>0.0</td>\n      <td>NaN</td>\n      <td>1310</td>\n      <td>1581807600000</td>\n      <td>23</td>\n      <td>...</td>\n      <td>0</td>\n      <td>1</td>\n      <td>1</td>\n      <td>0</td>\n      <td>4</td>\n      <td>1</td>\n      <td>38</td>\n      <td>1</td>\n      <td>1</td>\n      <td>3</td>\n    </tr>\n    <tr>\n      <th>21947</th>\n      <td>0</td>\n      <td>237</td>\n      <td>97</td>\n      <td>200216</td>\n      <td>NaN</td>\n      <td>0.0</td>\n      <td>NaN</td>\n      <td>1310</td>\n      <td>1581807600000</td>\n      <td>23</td>\n      <td>...</td>\n      <td>0</td>\n      <td>1</td>\n      <td>1</td>\n      <td>0</td>\n      <td>4</td>\n      <td>0</td>\n      <td>39</td>\n      <td>1</td>\n      <td>1</td>\n      <td>4</td>\n    </tr>\n    <tr>\n      <th>21948</th>\n      <td>0</td>\n      <td>237</td>\n      <td>96</td>\n      <td>200216</td>\n      <td>NaN</td>\n      <td>0.0</td>\n      <td>NaN</td>\n      <td>1310</td>\n      <td>1581807600000</td>\n      <td>23</td>\n      <td>...</td>\n      <td>0</td>\n      <td>0</td>\n      <td>1</td>\n      <td>0</td>\n      <td>4</td>\n      <td>18</td>\n      <td>34</td>\n      <td>0</td>\n      <td>1</td>\n      <td>14</td>\n    </tr>\n  </tbody>\n</table>\n<p>21949 rows × 34 columns</p>\n</div>"
     },
     "execution_count": 33,
     "metadata": {},
     "output_type": "execute_result"
    }
   ],
   "source": [
    "shanxi_rem_cond_referee['age_difference'] = abs(\n",
    "    shanxi_rem_cond_referee['referee_age'] - shanxi_rem_cond_referee['referral_age']).astype('Int64')\n",
    "shanxi_rem_cond_referee['gender_difference'] = abs(\n",
    "    shanxi_rem_cond_referee['referee_gender'] - shanxi_rem_cond_referee['referral_gender']).astype('Int64')\n",
    "shanxi_rem_cond_referee['relatives_difference'] = abs(\n",
    "    shanxi_rem_cond_referee['referee_relatives'] - shanxi_rem_cond_referee['referral_relatives']).astype('Int64')\n",
    "shanxi_rem_cond_referee['hukou_difference'] = abs(\n",
    "    shanxi_rem_cond_referee['referee_hukou'] - shanxi_rem_cond_referee['referral_hukou']).astype('Int64')\n",
    "shanxi_rem_cond_referee"
   ],
   "metadata": {
    "collapsed": false,
    "pycharm": {
     "name": "#%%\n"
    }
   }
  },
  {
   "cell_type": "code",
   "execution_count": 34,
   "outputs": [
    {
     "data": {
      "text/plain": "<IntegerArray>\n[0, 1]\nLength: 2, dtype: Int64"
     },
     "execution_count": 34,
     "metadata": {},
     "output_type": "execute_result"
    }
   ],
   "source": [
    "shanxi_rem_cond_referee['hukou_difference'] = shanxi_rem_cond_referee['hukou_difference'].where(shanxi_rem_cond_referee['hukou_difference'] == 0, 1)\n",
    "shanxi_rem_cond_referee['hukou_difference'].unique()"
   ],
   "metadata": {
    "collapsed": false,
    "pycharm": {
     "name": "#%%\n"
    }
   }
  },
  {
   "cell_type": "code",
   "execution_count": 35,
   "outputs": [],
   "source": [
    "shanxi_rem_cond_referee.to_csv('../Data/Tables/rem/shanxi_eventlist_nomination_cond_referee.csv')"
   ],
   "metadata": {
    "collapsed": false,
    "pycharm": {
     "name": "#%%\n"
    }
   }
  },
  {
   "cell_type": "markdown",
   "source": [
    "## Cond referral"
   ],
   "metadata": {
    "collapsed": false,
    "pycharm": {
     "name": "#%% md\n"
    }
   }
  },
  {
   "cell_type": "code",
   "execution_count": 36,
   "outputs": [],
   "source": [
    "shanxi_rem_cond_referral = pd.read_csv('../Data/Tables/rem/shanxi_eventlist_nomination_cond_referral.csv',\n",
    "                                      low_memory=False)"
   ],
   "metadata": {
    "collapsed": false,
    "pycharm": {
     "name": "#%%\n"
    }
   }
  },
  {
   "cell_type": "code",
   "execution_count": 37,
   "outputs": [],
   "source": [
    "shanxi_rem_cond_referral['referee_age'] = shanxi_rem_cond_referral['referee_age'].where(\n",
    "    shanxi_rem_cond_referral['referee_age'] != -1, np.nan).astype('Int64')\n",
    "shanxi_rem_cond_referral['referral_age'] = shanxi_rem_cond_referral['referral_age'].where(\n",
    "    shanxi_rem_cond_referral['referral_age'] != -1, np.nan).astype('Int64')\n",
    "\n",
    "shanxi_rem_cond_referral['referee_gender'] = shanxi_rem_cond_referral['referee_gender'].where(\n",
    "    shanxi_rem_cond_referral['referee_gender'] != -1, np.nan).astype('Int64')\n",
    "shanxi_rem_cond_referral['referral_gender'] = shanxi_rem_cond_referral['referral_gender'].where(\n",
    "    shanxi_rem_cond_referral['referral_gender'] != -1, np.nan).astype('Int64')\n",
    "\n",
    "shanxi_rem_cond_referral['referee_relatives'] = shanxi_rem_cond_referral['referee_relatives'].where(\n",
    "    shanxi_rem_cond_referral['referee_relatives'] != -1, np.nan).astype('Int64')\n",
    "shanxi_rem_cond_referral['referral_relatives'] = shanxi_rem_cond_referral['referral_relatives'].where(\n",
    "    shanxi_rem_cond_referral['referral_relatives'] != -1, np.nan).astype('Int64')\n",
    "\n",
    "shanxi_rem_cond_referral['referee_hukou'] = shanxi_rem_cond_referral['referee_hukou'].where(\n",
    "    shanxi_rem_cond_referral['referee_hukou'] != -1, np.nan).astype('Int64')\n",
    "shanxi_rem_cond_referral['referral_hukou'] = shanxi_rem_cond_referral['referral_hukou'].where(\n",
    "    shanxi_rem_cond_referral['referral_hukou'] != -1, np.nan).astype('Int64')"
   ],
   "metadata": {
    "collapsed": false,
    "pycharm": {
     "name": "#%%\n"
    }
   }
  },
  {
   "cell_type": "code",
   "execution_count": 38,
   "outputs": [
    {
     "data": {
      "text/plain": "       IS_OBSERVED  SOURCE  TARGET    TIME                TYPE  WEIGHT  \\\n0                1      11      10  200125  contact_nomination     1.0   \n1                1      11       9  200125  contact_nomination     1.0   \n2                1      10       9  200125  contact_nomination     1.0   \n3                0     180      10  200125                 NaN     0.0   \n4                0     192      10  200125                 NaN     0.0   \n...            ...     ...     ...     ...                 ...     ...   \n24068            0      37     236  200216                 NaN     0.0   \n24069            0      13     236  200216                 NaN     0.0   \n24070            0     191     236  200216                 NaN     0.0   \n24071            0     191     235  200216                 NaN     0.0   \n24072            0     191     234  200216                 NaN     0.0   \n\n       EVENT_INTERVAL_ID  EVENT   INTEGER_TIME  TIME_POINT  ...  \\\n0                    0.0   1186  1579906800000           2  ...   \n1                    0.0   1187  1579906800000           2  ...   \n2                    1.0   1188  1579906800000           2  ...   \n3                    NaN   1188  1579906800000           2  ...   \n4                    NaN   1188  1579906800000           2  ...   \n...                  ...    ...            ...         ...  ...   \n24068                NaN   1310  1581807600000          23  ...   \n24069                NaN   1310  1581807600000          23  ...   \n24070                NaN   1310  1581807600000          23  ...   \n24071                NaN   1310  1581807600000          23  ...   \n24072                NaN   1310  1581807600000          23  ...   \n\n       referee_gender  referral_gender  referee_relatives  referral_relatives  \\\n0                   0                0                  1                   1   \n1                   0                1                  1                   1   \n2                   0                1                  1                   1   \n3                   1                0                  0                   1   \n4                   0                0                  0                   1   \n...               ...              ...                ...                 ...   \n24068               0                0                  0                   1   \n24069               1                0                  0                   1   \n24070               0                0                  0                   1   \n24071               0                1                  0                   1   \n24072               0                1                  0                   0   \n\n       referee_hukou  referral_hukou  age_difference  gender_difference  \\\n0                 16              16              36                  0   \n1                 16              16              37                  1   \n2                 16              16               1                  1   \n3                 17              16               8                  1   \n4                 17              16              14                  0   \n...              ...             ...             ...                ...   \n24068              1               4              25                  0   \n24069             17               4              38                  1   \n24070             17               4               0                  0   \n24071             17               4               5                  1   \n24072             17               4              20                  1   \n\n       relatives_difference  hukou_difference  \n0                         0                 0  \n1                         0                 0  \n2                         0                 0  \n3                         1                 1  \n4                         1                 1  \n...                     ...               ...  \n24068                     1                 3  \n24069                     1                13  \n24070                     1                13  \n24071                     1                13  \n24072                     0                13  \n\n[24073 rows x 34 columns]",
      "text/html": "<div>\n<style scoped>\n    .dataframe tbody tr th:only-of-type {\n        vertical-align: middle;\n    }\n\n    .dataframe tbody tr th {\n        vertical-align: top;\n    }\n\n    .dataframe thead th {\n        text-align: right;\n    }\n</style>\n<table border=\"1\" class=\"dataframe\">\n  <thead>\n    <tr style=\"text-align: right;\">\n      <th></th>\n      <th>IS_OBSERVED</th>\n      <th>SOURCE</th>\n      <th>TARGET</th>\n      <th>TIME</th>\n      <th>TYPE</th>\n      <th>WEIGHT</th>\n      <th>EVENT_INTERVAL_ID</th>\n      <th>EVENT</th>\n      <th>INTEGER_TIME</th>\n      <th>TIME_POINT</th>\n      <th>...</th>\n      <th>referee_gender</th>\n      <th>referral_gender</th>\n      <th>referee_relatives</th>\n      <th>referral_relatives</th>\n      <th>referee_hukou</th>\n      <th>referral_hukou</th>\n      <th>age_difference</th>\n      <th>gender_difference</th>\n      <th>relatives_difference</th>\n      <th>hukou_difference</th>\n    </tr>\n  </thead>\n  <tbody>\n    <tr>\n      <th>0</th>\n      <td>1</td>\n      <td>11</td>\n      <td>10</td>\n      <td>200125</td>\n      <td>contact_nomination</td>\n      <td>1.0</td>\n      <td>0.0</td>\n      <td>1186</td>\n      <td>1579906800000</td>\n      <td>2</td>\n      <td>...</td>\n      <td>0</td>\n      <td>0</td>\n      <td>1</td>\n      <td>1</td>\n      <td>16</td>\n      <td>16</td>\n      <td>36</td>\n      <td>0</td>\n      <td>0</td>\n      <td>0</td>\n    </tr>\n    <tr>\n      <th>1</th>\n      <td>1</td>\n      <td>11</td>\n      <td>9</td>\n      <td>200125</td>\n      <td>contact_nomination</td>\n      <td>1.0</td>\n      <td>0.0</td>\n      <td>1187</td>\n      <td>1579906800000</td>\n      <td>2</td>\n      <td>...</td>\n      <td>0</td>\n      <td>1</td>\n      <td>1</td>\n      <td>1</td>\n      <td>16</td>\n      <td>16</td>\n      <td>37</td>\n      <td>1</td>\n      <td>0</td>\n      <td>0</td>\n    </tr>\n    <tr>\n      <th>2</th>\n      <td>1</td>\n      <td>10</td>\n      <td>9</td>\n      <td>200125</td>\n      <td>contact_nomination</td>\n      <td>1.0</td>\n      <td>1.0</td>\n      <td>1188</td>\n      <td>1579906800000</td>\n      <td>2</td>\n      <td>...</td>\n      <td>0</td>\n      <td>1</td>\n      <td>1</td>\n      <td>1</td>\n      <td>16</td>\n      <td>16</td>\n      <td>1</td>\n      <td>1</td>\n      <td>0</td>\n      <td>0</td>\n    </tr>\n    <tr>\n      <th>3</th>\n      <td>0</td>\n      <td>180</td>\n      <td>10</td>\n      <td>200125</td>\n      <td>NaN</td>\n      <td>0.0</td>\n      <td>NaN</td>\n      <td>1188</td>\n      <td>1579906800000</td>\n      <td>2</td>\n      <td>...</td>\n      <td>1</td>\n      <td>0</td>\n      <td>0</td>\n      <td>1</td>\n      <td>17</td>\n      <td>16</td>\n      <td>8</td>\n      <td>1</td>\n      <td>1</td>\n      <td>1</td>\n    </tr>\n    <tr>\n      <th>4</th>\n      <td>0</td>\n      <td>192</td>\n      <td>10</td>\n      <td>200125</td>\n      <td>NaN</td>\n      <td>0.0</td>\n      <td>NaN</td>\n      <td>1188</td>\n      <td>1579906800000</td>\n      <td>2</td>\n      <td>...</td>\n      <td>0</td>\n      <td>0</td>\n      <td>0</td>\n      <td>1</td>\n      <td>17</td>\n      <td>16</td>\n      <td>14</td>\n      <td>0</td>\n      <td>1</td>\n      <td>1</td>\n    </tr>\n    <tr>\n      <th>...</th>\n      <td>...</td>\n      <td>...</td>\n      <td>...</td>\n      <td>...</td>\n      <td>...</td>\n      <td>...</td>\n      <td>...</td>\n      <td>...</td>\n      <td>...</td>\n      <td>...</td>\n      <td>...</td>\n      <td>...</td>\n      <td>...</td>\n      <td>...</td>\n      <td>...</td>\n      <td>...</td>\n      <td>...</td>\n      <td>...</td>\n      <td>...</td>\n      <td>...</td>\n      <td>...</td>\n    </tr>\n    <tr>\n      <th>24068</th>\n      <td>0</td>\n      <td>37</td>\n      <td>236</td>\n      <td>200216</td>\n      <td>NaN</td>\n      <td>0.0</td>\n      <td>NaN</td>\n      <td>1310</td>\n      <td>1581807600000</td>\n      <td>23</td>\n      <td>...</td>\n      <td>0</td>\n      <td>0</td>\n      <td>0</td>\n      <td>1</td>\n      <td>1</td>\n      <td>4</td>\n      <td>25</td>\n      <td>0</td>\n      <td>1</td>\n      <td>3</td>\n    </tr>\n    <tr>\n      <th>24069</th>\n      <td>0</td>\n      <td>13</td>\n      <td>236</td>\n      <td>200216</td>\n      <td>NaN</td>\n      <td>0.0</td>\n      <td>NaN</td>\n      <td>1310</td>\n      <td>1581807600000</td>\n      <td>23</td>\n      <td>...</td>\n      <td>1</td>\n      <td>0</td>\n      <td>0</td>\n      <td>1</td>\n      <td>17</td>\n      <td>4</td>\n      <td>38</td>\n      <td>1</td>\n      <td>1</td>\n      <td>13</td>\n    </tr>\n    <tr>\n      <th>24070</th>\n      <td>0</td>\n      <td>191</td>\n      <td>236</td>\n      <td>200216</td>\n      <td>NaN</td>\n      <td>0.0</td>\n      <td>NaN</td>\n      <td>1310</td>\n      <td>1581807600000</td>\n      <td>23</td>\n      <td>...</td>\n      <td>0</td>\n      <td>0</td>\n      <td>0</td>\n      <td>1</td>\n      <td>17</td>\n      <td>4</td>\n      <td>0</td>\n      <td>0</td>\n      <td>1</td>\n      <td>13</td>\n    </tr>\n    <tr>\n      <th>24071</th>\n      <td>0</td>\n      <td>191</td>\n      <td>235</td>\n      <td>200216</td>\n      <td>NaN</td>\n      <td>0.0</td>\n      <td>NaN</td>\n      <td>1310</td>\n      <td>1581807600000</td>\n      <td>23</td>\n      <td>...</td>\n      <td>0</td>\n      <td>1</td>\n      <td>0</td>\n      <td>1</td>\n      <td>17</td>\n      <td>4</td>\n      <td>5</td>\n      <td>1</td>\n      <td>1</td>\n      <td>13</td>\n    </tr>\n    <tr>\n      <th>24072</th>\n      <td>0</td>\n      <td>191</td>\n      <td>234</td>\n      <td>200216</td>\n      <td>NaN</td>\n      <td>0.0</td>\n      <td>NaN</td>\n      <td>1310</td>\n      <td>1581807600000</td>\n      <td>23</td>\n      <td>...</td>\n      <td>0</td>\n      <td>1</td>\n      <td>0</td>\n      <td>0</td>\n      <td>17</td>\n      <td>4</td>\n      <td>20</td>\n      <td>1</td>\n      <td>0</td>\n      <td>13</td>\n    </tr>\n  </tbody>\n</table>\n<p>24073 rows × 34 columns</p>\n</div>"
     },
     "execution_count": 38,
     "metadata": {},
     "output_type": "execute_result"
    }
   ],
   "source": [
    "shanxi_rem_cond_referral['age_difference'] = abs(\n",
    "    shanxi_rem_cond_referral['referee_age'] - shanxi_rem_cond_referral['referral_age']).astype('Int64')\n",
    "shanxi_rem_cond_referral['gender_difference'] = abs(\n",
    "    shanxi_rem_cond_referral['referee_gender'] - shanxi_rem_cond_referral['referral_gender']).astype('Int64')\n",
    "shanxi_rem_cond_referral['relatives_difference'] = abs(\n",
    "    shanxi_rem_cond_referral['referee_relatives'] - shanxi_rem_cond_referral['referral_relatives']).astype('Int64')\n",
    "shanxi_rem_cond_referral['hukou_difference'] = abs(\n",
    "    shanxi_rem_cond_referral['referee_hukou'] - shanxi_rem_cond_referral['referral_hukou']).astype('Int64')\n",
    "shanxi_rem_cond_referral"
   ],
   "metadata": {
    "collapsed": false,
    "pycharm": {
     "name": "#%%\n"
    }
   }
  },
  {
   "cell_type": "code",
   "execution_count": 39,
   "outputs": [
    {
     "data": {
      "text/plain": "<IntegerArray>\n[0, 1]\nLength: 2, dtype: Int64"
     },
     "execution_count": 39,
     "metadata": {},
     "output_type": "execute_result"
    }
   ],
   "source": [
    "shanxi_rem_cond_referral['hukou_difference'] = shanxi_rem_cond_referral['hukou_difference'].where(shanxi_rem_cond_referral['hukou_difference'] == 0, 1)\n",
    "shanxi_rem_cond_referral['hukou_difference'].unique()"
   ],
   "metadata": {
    "collapsed": false,
    "pycharm": {
     "name": "#%%\n"
    }
   }
  },
  {
   "cell_type": "code",
   "execution_count": 40,
   "outputs": [],
   "source": [
    "shanxi_rem_cond_referral.to_csv('../Data/Tables/rem/shanxi_eventlist_nomination_cond_referral.csv')"
   ],
   "metadata": {
    "collapsed": false,
    "pycharm": {
     "name": "#%%\n"
    }
   }
  },
  {
   "cell_type": "markdown",
   "source": [
    "# Bucharest"
   ],
   "metadata": {
    "collapsed": false,
    "pycharm": {
     "name": "#%% md\n"
    }
   }
  },
  {
   "cell_type": "markdown",
   "source": [
    "## Uncond"
   ],
   "metadata": {
    "collapsed": false,
    "pycharm": {
     "name": "#%% md\n"
    }
   }
  },
  {
   "cell_type": "code",
   "execution_count": 41,
   "outputs": [
    {
     "data": {
      "text/plain": "         IS_OBSERVED      SOURCE        TARGET    TIME                TYPE  \\\n0                  1       53594   10330S53594  200801  contact_nomination   \n1                  1       53594   10331S53594  200801  contact_nomination   \n2                  0      158714  12851S160980  200801                 NaN   \n3                  0       49897        116510  200801                 NaN   \n4                  0       75285          1902  200801                 NaN   \n...              ...         ...           ...     ...                 ...   \n1351048            0       56685   3483S104124  201031                 NaN   \n1351049            0  764S170418   1759S168278  201031                 NaN   \n1351050            0  990S136878     744S81036  201031                 NaN   \n1351051            0       58671        139927  201031                 NaN   \n1351052            0      119949  12370S167168  201031                 NaN   \n\n         WEIGHT  EVENT_INTERVAL_ID   EVENT   INTEGER_TIME  TIME_POINT  ...  \\\n0           1.0                0.0  289176  1596232800000           2  ...   \n1           1.0                0.0  289177  1596232800000           2  ...   \n2           0.0                NaN  289177  1596232800000           2  ...   \n3           0.0                NaN  289177  1596232800000           2  ...   \n4           0.0                NaN  289177  1596232800000           2  ...   \n...         ...                ...     ...            ...         ...  ...   \n1351048     0.0                NaN  302552  1604098800000          91  ...   \n1351049     0.0                NaN  302552  1604098800000          91  ...   \n1351050     0.0                NaN  302552  1604098800000          91  ...   \n1351051     0.0                NaN  302552  1604098800000          91  ...   \n1351052     0.0                NaN  302552  1604098800000          91  ...   \n\n         network_activity   network_time  referee_age  referral_age  \\\n0                       0              0           56            67   \n1                       0              0           56            22   \n2                       0              0           34            18   \n3                       0              0           24            53   \n4                       0              0           50            31   \n...                   ...            ...          ...           ...   \n1351048             13290  1604012400000           57            44   \n1351049             13290  1604012400000           20             1   \n1351050             13290  1604012400000            3            44   \n1351051             13290  1604012400000           60            42   \n1351052             13290  1604012400000           21            53   \n\n         referee_gender  referral_gender  referee_isco08_label  \\\n0                     2               -1                    20   \n1                     2               -1                    20   \n2                     1               -1                     9   \n3                     2                1                    20   \n4                     2                1                    20   \n...                 ...              ...                   ...   \n1351048               2               -1                    20   \n1351049              -1               -1                    20   \n1351050              -1               -1                    11   \n1351051               2                1                    20   \n1351052               2               -1                    20   \n\n         referral_isco08_label  referee_medical  referral_medical  \n0                           12                2                 0  \n1                           20                2                 2  \n2                           20                0                 2  \n3                           20                2                 2  \n4                           20                2                 2  \n...                        ...              ...               ...  \n1351048                     20                2                 2  \n1351049                     11                2                 0  \n1351050                     20                0                 2  \n1351051                      9                2                 0  \n1351052                     20                2                 2  \n\n[1351053 rows x 30 columns]",
      "text/html": "<div>\n<style scoped>\n    .dataframe tbody tr th:only-of-type {\n        vertical-align: middle;\n    }\n\n    .dataframe tbody tr th {\n        vertical-align: top;\n    }\n\n    .dataframe thead th {\n        text-align: right;\n    }\n</style>\n<table border=\"1\" class=\"dataframe\">\n  <thead>\n    <tr style=\"text-align: right;\">\n      <th></th>\n      <th>IS_OBSERVED</th>\n      <th>SOURCE</th>\n      <th>TARGET</th>\n      <th>TIME</th>\n      <th>TYPE</th>\n      <th>WEIGHT</th>\n      <th>EVENT_INTERVAL_ID</th>\n      <th>EVENT</th>\n      <th>INTEGER_TIME</th>\n      <th>TIME_POINT</th>\n      <th>...</th>\n      <th>network_activity</th>\n      <th>network_time</th>\n      <th>referee_age</th>\n      <th>referral_age</th>\n      <th>referee_gender</th>\n      <th>referral_gender</th>\n      <th>referee_isco08_label</th>\n      <th>referral_isco08_label</th>\n      <th>referee_medical</th>\n      <th>referral_medical</th>\n    </tr>\n  </thead>\n  <tbody>\n    <tr>\n      <th>0</th>\n      <td>1</td>\n      <td>53594</td>\n      <td>10330S53594</td>\n      <td>200801</td>\n      <td>contact_nomination</td>\n      <td>1.0</td>\n      <td>0.0</td>\n      <td>289176</td>\n      <td>1596232800000</td>\n      <td>2</td>\n      <td>...</td>\n      <td>0</td>\n      <td>0</td>\n      <td>56</td>\n      <td>67</td>\n      <td>2</td>\n      <td>-1</td>\n      <td>20</td>\n      <td>12</td>\n      <td>2</td>\n      <td>0</td>\n    </tr>\n    <tr>\n      <th>1</th>\n      <td>1</td>\n      <td>53594</td>\n      <td>10331S53594</td>\n      <td>200801</td>\n      <td>contact_nomination</td>\n      <td>1.0</td>\n      <td>0.0</td>\n      <td>289177</td>\n      <td>1596232800000</td>\n      <td>2</td>\n      <td>...</td>\n      <td>0</td>\n      <td>0</td>\n      <td>56</td>\n      <td>22</td>\n      <td>2</td>\n      <td>-1</td>\n      <td>20</td>\n      <td>20</td>\n      <td>2</td>\n      <td>2</td>\n    </tr>\n    <tr>\n      <th>2</th>\n      <td>0</td>\n      <td>158714</td>\n      <td>12851S160980</td>\n      <td>200801</td>\n      <td>NaN</td>\n      <td>0.0</td>\n      <td>NaN</td>\n      <td>289177</td>\n      <td>1596232800000</td>\n      <td>2</td>\n      <td>...</td>\n      <td>0</td>\n      <td>0</td>\n      <td>34</td>\n      <td>18</td>\n      <td>1</td>\n      <td>-1</td>\n      <td>9</td>\n      <td>20</td>\n      <td>0</td>\n      <td>2</td>\n    </tr>\n    <tr>\n      <th>3</th>\n      <td>0</td>\n      <td>49897</td>\n      <td>116510</td>\n      <td>200801</td>\n      <td>NaN</td>\n      <td>0.0</td>\n      <td>NaN</td>\n      <td>289177</td>\n      <td>1596232800000</td>\n      <td>2</td>\n      <td>...</td>\n      <td>0</td>\n      <td>0</td>\n      <td>24</td>\n      <td>53</td>\n      <td>2</td>\n      <td>1</td>\n      <td>20</td>\n      <td>20</td>\n      <td>2</td>\n      <td>2</td>\n    </tr>\n    <tr>\n      <th>4</th>\n      <td>0</td>\n      <td>75285</td>\n      <td>1902</td>\n      <td>200801</td>\n      <td>NaN</td>\n      <td>0.0</td>\n      <td>NaN</td>\n      <td>289177</td>\n      <td>1596232800000</td>\n      <td>2</td>\n      <td>...</td>\n      <td>0</td>\n      <td>0</td>\n      <td>50</td>\n      <td>31</td>\n      <td>2</td>\n      <td>1</td>\n      <td>20</td>\n      <td>20</td>\n      <td>2</td>\n      <td>2</td>\n    </tr>\n    <tr>\n      <th>...</th>\n      <td>...</td>\n      <td>...</td>\n      <td>...</td>\n      <td>...</td>\n      <td>...</td>\n      <td>...</td>\n      <td>...</td>\n      <td>...</td>\n      <td>...</td>\n      <td>...</td>\n      <td>...</td>\n      <td>...</td>\n      <td>...</td>\n      <td>...</td>\n      <td>...</td>\n      <td>...</td>\n      <td>...</td>\n      <td>...</td>\n      <td>...</td>\n      <td>...</td>\n      <td>...</td>\n    </tr>\n    <tr>\n      <th>1351048</th>\n      <td>0</td>\n      <td>56685</td>\n      <td>3483S104124</td>\n      <td>201031</td>\n      <td>NaN</td>\n      <td>0.0</td>\n      <td>NaN</td>\n      <td>302552</td>\n      <td>1604098800000</td>\n      <td>91</td>\n      <td>...</td>\n      <td>13290</td>\n      <td>1604012400000</td>\n      <td>57</td>\n      <td>44</td>\n      <td>2</td>\n      <td>-1</td>\n      <td>20</td>\n      <td>20</td>\n      <td>2</td>\n      <td>2</td>\n    </tr>\n    <tr>\n      <th>1351049</th>\n      <td>0</td>\n      <td>764S170418</td>\n      <td>1759S168278</td>\n      <td>201031</td>\n      <td>NaN</td>\n      <td>0.0</td>\n      <td>NaN</td>\n      <td>302552</td>\n      <td>1604098800000</td>\n      <td>91</td>\n      <td>...</td>\n      <td>13290</td>\n      <td>1604012400000</td>\n      <td>20</td>\n      <td>1</td>\n      <td>-1</td>\n      <td>-1</td>\n      <td>20</td>\n      <td>11</td>\n      <td>2</td>\n      <td>0</td>\n    </tr>\n    <tr>\n      <th>1351050</th>\n      <td>0</td>\n      <td>990S136878</td>\n      <td>744S81036</td>\n      <td>201031</td>\n      <td>NaN</td>\n      <td>0.0</td>\n      <td>NaN</td>\n      <td>302552</td>\n      <td>1604098800000</td>\n      <td>91</td>\n      <td>...</td>\n      <td>13290</td>\n      <td>1604012400000</td>\n      <td>3</td>\n      <td>44</td>\n      <td>-1</td>\n      <td>-1</td>\n      <td>11</td>\n      <td>20</td>\n      <td>0</td>\n      <td>2</td>\n    </tr>\n    <tr>\n      <th>1351051</th>\n      <td>0</td>\n      <td>58671</td>\n      <td>139927</td>\n      <td>201031</td>\n      <td>NaN</td>\n      <td>0.0</td>\n      <td>NaN</td>\n      <td>302552</td>\n      <td>1604098800000</td>\n      <td>91</td>\n      <td>...</td>\n      <td>13290</td>\n      <td>1604012400000</td>\n      <td>60</td>\n      <td>42</td>\n      <td>2</td>\n      <td>1</td>\n      <td>20</td>\n      <td>9</td>\n      <td>2</td>\n      <td>0</td>\n    </tr>\n    <tr>\n      <th>1351052</th>\n      <td>0</td>\n      <td>119949</td>\n      <td>12370S167168</td>\n      <td>201031</td>\n      <td>NaN</td>\n      <td>0.0</td>\n      <td>NaN</td>\n      <td>302552</td>\n      <td>1604098800000</td>\n      <td>91</td>\n      <td>...</td>\n      <td>13290</td>\n      <td>1604012400000</td>\n      <td>21</td>\n      <td>53</td>\n      <td>2</td>\n      <td>-1</td>\n      <td>20</td>\n      <td>20</td>\n      <td>2</td>\n      <td>2</td>\n    </tr>\n  </tbody>\n</table>\n<p>1351053 rows × 30 columns</p>\n</div>"
     },
     "execution_count": 41,
     "metadata": {},
     "output_type": "execute_result"
    }
   ],
   "source": [
    "bucharest_rem = pd.read_csv('../Data/Tables/rem/bucharest_eventlist_nomination.csv',\n",
    "                            low_memory=False)\n",
    "bucharest_rem"
   ],
   "metadata": {
    "collapsed": false,
    "pycharm": {
     "name": "#%%\n"
    }
   }
  },
  {
   "cell_type": "code",
   "execution_count": 42,
   "outputs": [],
   "source": [
    "bucharest_rem['referee_age'] = bucharest_rem['referee_age'].where(\n",
    "    bucharest_rem['referee_age'] != -1, np.nan).astype('Int64')\n",
    "bucharest_rem['referral_age'] = bucharest_rem['referral_age'].where(\n",
    "    bucharest_rem['referral_age'] != -1, np.nan).astype('Int64')\n",
    "\n",
    "bucharest_rem['referee_gender'] = bucharest_rem['referee_gender'].where(\n",
    "    bucharest_rem['referee_gender'] != -1, np.nan).astype('Int64')\n",
    "bucharest_rem['referral_gender'] = bucharest_rem['referral_gender'].where(\n",
    "    bucharest_rem['referral_gender'] != -1, np.nan).astype('Int64')\n",
    "\n",
    "bucharest_rem['referee_isco08_label'] = bucharest_rem['referee_isco08_label'].where(\n",
    "    bucharest_rem['referee_isco08_label'] != -1, np.nan).astype('Int64')\n",
    "bucharest_rem['referral_isco08_label'] = bucharest_rem['referral_isco08_label'].where(\n",
    "    bucharest_rem['referral_isco08_label'] != -1, np.nan).astype('Int64')\n",
    "\n",
    "bucharest_rem['referee_medical'] = bucharest_rem['referee_medical'].where(\n",
    "    bucharest_rem['referee_medical'] != -1, np.nan).astype('Int64')\n",
    "bucharest_rem['referral_medical'] = bucharest_rem['referral_medical'].where(\n",
    "    bucharest_rem['referral_medical'] != -1, np.nan).astype('Int64')"
   ],
   "metadata": {
    "collapsed": false,
    "pycharm": {
     "name": "#%%\n"
    }
   }
  },
  {
   "cell_type": "code",
   "execution_count": 43,
   "outputs": [
    {
     "data": {
      "text/plain": "         IS_OBSERVED      SOURCE        TARGET    TIME                TYPE  \\\n0                  1       53594   10330S53594  200801  contact_nomination   \n1                  1       53594   10331S53594  200801  contact_nomination   \n2                  0      158714  12851S160980  200801                 NaN   \n3                  0       49897        116510  200801                 NaN   \n4                  0       75285          1902  200801                 NaN   \n...              ...         ...           ...     ...                 ...   \n1351048            0       56685   3483S104124  201031                 NaN   \n1351049            0  764S170418   1759S168278  201031                 NaN   \n1351050            0  990S136878     744S81036  201031                 NaN   \n1351051            0       58671        139927  201031                 NaN   \n1351052            0      119949  12370S167168  201031                 NaN   \n\n         WEIGHT  EVENT_INTERVAL_ID   EVENT   INTEGER_TIME  TIME_POINT  ...  \\\n0           1.0                0.0  289176  1596232800000           2  ...   \n1           1.0                0.0  289177  1596232800000           2  ...   \n2           0.0                NaN  289177  1596232800000           2  ...   \n3           0.0                NaN  289177  1596232800000           2  ...   \n4           0.0                NaN  289177  1596232800000           2  ...   \n...         ...                ...     ...            ...         ...  ...   \n1351048     0.0                NaN  302552  1604098800000          91  ...   \n1351049     0.0                NaN  302552  1604098800000          91  ...   \n1351050     0.0                NaN  302552  1604098800000          91  ...   \n1351051     0.0                NaN  302552  1604098800000          91  ...   \n1351052     0.0                NaN  302552  1604098800000          91  ...   \n\n         referee_gender  referral_gender  referee_isco08_label  \\\n0                     2             <NA>                    20   \n1                     2             <NA>                    20   \n2                     1             <NA>                     9   \n3                     2                1                    20   \n4                     2                1                    20   \n...                 ...              ...                   ...   \n1351048               2             <NA>                    20   \n1351049            <NA>             <NA>                    20   \n1351050            <NA>             <NA>                    11   \n1351051               2                1                    20   \n1351052               2             <NA>                    20   \n\n         referral_isco08_label  referee_medical  referral_medical  \\\n0                           12                2                 0   \n1                           20                2                 2   \n2                           20                0                 2   \n3                           20                2                 2   \n4                           20                2                 2   \n...                        ...              ...               ...   \n1351048                     20                2                 2   \n1351049                     11                2                 0   \n1351050                     20                0                 2   \n1351051                      9                2                 0   \n1351052                     20                2                 2   \n\n         age_difference  gender_difference  isco08_label_difference  \\\n0                    11               <NA>                        8   \n1                    34               <NA>                        0   \n2                    16               <NA>                       11   \n3                    29                  1                        0   \n4                    19                  1                        0   \n...                 ...                ...                      ...   \n1351048              13               <NA>                        0   \n1351049              19               <NA>                        9   \n1351050              41               <NA>                        9   \n1351051              18                  1                       11   \n1351052              32               <NA>                        0   \n\n         medical_difference  \n0                         2  \n1                         0  \n2                         2  \n3                         0  \n4                         0  \n...                     ...  \n1351048                   0  \n1351049                   2  \n1351050                   2  \n1351051                   2  \n1351052                   0  \n\n[1351053 rows x 34 columns]",
      "text/html": "<div>\n<style scoped>\n    .dataframe tbody tr th:only-of-type {\n        vertical-align: middle;\n    }\n\n    .dataframe tbody tr th {\n        vertical-align: top;\n    }\n\n    .dataframe thead th {\n        text-align: right;\n    }\n</style>\n<table border=\"1\" class=\"dataframe\">\n  <thead>\n    <tr style=\"text-align: right;\">\n      <th></th>\n      <th>IS_OBSERVED</th>\n      <th>SOURCE</th>\n      <th>TARGET</th>\n      <th>TIME</th>\n      <th>TYPE</th>\n      <th>WEIGHT</th>\n      <th>EVENT_INTERVAL_ID</th>\n      <th>EVENT</th>\n      <th>INTEGER_TIME</th>\n      <th>TIME_POINT</th>\n      <th>...</th>\n      <th>referee_gender</th>\n      <th>referral_gender</th>\n      <th>referee_isco08_label</th>\n      <th>referral_isco08_label</th>\n      <th>referee_medical</th>\n      <th>referral_medical</th>\n      <th>age_difference</th>\n      <th>gender_difference</th>\n      <th>isco08_label_difference</th>\n      <th>medical_difference</th>\n    </tr>\n  </thead>\n  <tbody>\n    <tr>\n      <th>0</th>\n      <td>1</td>\n      <td>53594</td>\n      <td>10330S53594</td>\n      <td>200801</td>\n      <td>contact_nomination</td>\n      <td>1.0</td>\n      <td>0.0</td>\n      <td>289176</td>\n      <td>1596232800000</td>\n      <td>2</td>\n      <td>...</td>\n      <td>2</td>\n      <td>&lt;NA&gt;</td>\n      <td>20</td>\n      <td>12</td>\n      <td>2</td>\n      <td>0</td>\n      <td>11</td>\n      <td>&lt;NA&gt;</td>\n      <td>8</td>\n      <td>2</td>\n    </tr>\n    <tr>\n      <th>1</th>\n      <td>1</td>\n      <td>53594</td>\n      <td>10331S53594</td>\n      <td>200801</td>\n      <td>contact_nomination</td>\n      <td>1.0</td>\n      <td>0.0</td>\n      <td>289177</td>\n      <td>1596232800000</td>\n      <td>2</td>\n      <td>...</td>\n      <td>2</td>\n      <td>&lt;NA&gt;</td>\n      <td>20</td>\n      <td>20</td>\n      <td>2</td>\n      <td>2</td>\n      <td>34</td>\n      <td>&lt;NA&gt;</td>\n      <td>0</td>\n      <td>0</td>\n    </tr>\n    <tr>\n      <th>2</th>\n      <td>0</td>\n      <td>158714</td>\n      <td>12851S160980</td>\n      <td>200801</td>\n      <td>NaN</td>\n      <td>0.0</td>\n      <td>NaN</td>\n      <td>289177</td>\n      <td>1596232800000</td>\n      <td>2</td>\n      <td>...</td>\n      <td>1</td>\n      <td>&lt;NA&gt;</td>\n      <td>9</td>\n      <td>20</td>\n      <td>0</td>\n      <td>2</td>\n      <td>16</td>\n      <td>&lt;NA&gt;</td>\n      <td>11</td>\n      <td>2</td>\n    </tr>\n    <tr>\n      <th>3</th>\n      <td>0</td>\n      <td>49897</td>\n      <td>116510</td>\n      <td>200801</td>\n      <td>NaN</td>\n      <td>0.0</td>\n      <td>NaN</td>\n      <td>289177</td>\n      <td>1596232800000</td>\n      <td>2</td>\n      <td>...</td>\n      <td>2</td>\n      <td>1</td>\n      <td>20</td>\n      <td>20</td>\n      <td>2</td>\n      <td>2</td>\n      <td>29</td>\n      <td>1</td>\n      <td>0</td>\n      <td>0</td>\n    </tr>\n    <tr>\n      <th>4</th>\n      <td>0</td>\n      <td>75285</td>\n      <td>1902</td>\n      <td>200801</td>\n      <td>NaN</td>\n      <td>0.0</td>\n      <td>NaN</td>\n      <td>289177</td>\n      <td>1596232800000</td>\n      <td>2</td>\n      <td>...</td>\n      <td>2</td>\n      <td>1</td>\n      <td>20</td>\n      <td>20</td>\n      <td>2</td>\n      <td>2</td>\n      <td>19</td>\n      <td>1</td>\n      <td>0</td>\n      <td>0</td>\n    </tr>\n    <tr>\n      <th>...</th>\n      <td>...</td>\n      <td>...</td>\n      <td>...</td>\n      <td>...</td>\n      <td>...</td>\n      <td>...</td>\n      <td>...</td>\n      <td>...</td>\n      <td>...</td>\n      <td>...</td>\n      <td>...</td>\n      <td>...</td>\n      <td>...</td>\n      <td>...</td>\n      <td>...</td>\n      <td>...</td>\n      <td>...</td>\n      <td>...</td>\n      <td>...</td>\n      <td>...</td>\n      <td>...</td>\n    </tr>\n    <tr>\n      <th>1351048</th>\n      <td>0</td>\n      <td>56685</td>\n      <td>3483S104124</td>\n      <td>201031</td>\n      <td>NaN</td>\n      <td>0.0</td>\n      <td>NaN</td>\n      <td>302552</td>\n      <td>1604098800000</td>\n      <td>91</td>\n      <td>...</td>\n      <td>2</td>\n      <td>&lt;NA&gt;</td>\n      <td>20</td>\n      <td>20</td>\n      <td>2</td>\n      <td>2</td>\n      <td>13</td>\n      <td>&lt;NA&gt;</td>\n      <td>0</td>\n      <td>0</td>\n    </tr>\n    <tr>\n      <th>1351049</th>\n      <td>0</td>\n      <td>764S170418</td>\n      <td>1759S168278</td>\n      <td>201031</td>\n      <td>NaN</td>\n      <td>0.0</td>\n      <td>NaN</td>\n      <td>302552</td>\n      <td>1604098800000</td>\n      <td>91</td>\n      <td>...</td>\n      <td>&lt;NA&gt;</td>\n      <td>&lt;NA&gt;</td>\n      <td>20</td>\n      <td>11</td>\n      <td>2</td>\n      <td>0</td>\n      <td>19</td>\n      <td>&lt;NA&gt;</td>\n      <td>9</td>\n      <td>2</td>\n    </tr>\n    <tr>\n      <th>1351050</th>\n      <td>0</td>\n      <td>990S136878</td>\n      <td>744S81036</td>\n      <td>201031</td>\n      <td>NaN</td>\n      <td>0.0</td>\n      <td>NaN</td>\n      <td>302552</td>\n      <td>1604098800000</td>\n      <td>91</td>\n      <td>...</td>\n      <td>&lt;NA&gt;</td>\n      <td>&lt;NA&gt;</td>\n      <td>11</td>\n      <td>20</td>\n      <td>0</td>\n      <td>2</td>\n      <td>41</td>\n      <td>&lt;NA&gt;</td>\n      <td>9</td>\n      <td>2</td>\n    </tr>\n    <tr>\n      <th>1351051</th>\n      <td>0</td>\n      <td>58671</td>\n      <td>139927</td>\n      <td>201031</td>\n      <td>NaN</td>\n      <td>0.0</td>\n      <td>NaN</td>\n      <td>302552</td>\n      <td>1604098800000</td>\n      <td>91</td>\n      <td>...</td>\n      <td>2</td>\n      <td>1</td>\n      <td>20</td>\n      <td>9</td>\n      <td>2</td>\n      <td>0</td>\n      <td>18</td>\n      <td>1</td>\n      <td>11</td>\n      <td>2</td>\n    </tr>\n    <tr>\n      <th>1351052</th>\n      <td>0</td>\n      <td>119949</td>\n      <td>12370S167168</td>\n      <td>201031</td>\n      <td>NaN</td>\n      <td>0.0</td>\n      <td>NaN</td>\n      <td>302552</td>\n      <td>1604098800000</td>\n      <td>91</td>\n      <td>...</td>\n      <td>2</td>\n      <td>&lt;NA&gt;</td>\n      <td>20</td>\n      <td>20</td>\n      <td>2</td>\n      <td>2</td>\n      <td>32</td>\n      <td>&lt;NA&gt;</td>\n      <td>0</td>\n      <td>0</td>\n    </tr>\n  </tbody>\n</table>\n<p>1351053 rows × 34 columns</p>\n</div>"
     },
     "execution_count": 43,
     "metadata": {},
     "output_type": "execute_result"
    }
   ],
   "source": [
    "bucharest_rem['age_difference'] = abs(\n",
    "    bucharest_rem['referee_age'] - bucharest_rem['referral_age']).astype('Int64')\n",
    "bucharest_rem['gender_difference'] = abs(\n",
    "    bucharest_rem['referee_gender'] - bucharest_rem['referral_gender']).astype('Int64')\n",
    "bucharest_rem['isco08_label_difference'] = abs(\n",
    "    bucharest_rem['referee_isco08_label'] - bucharest_rem['referral_isco08_label']).astype('Int64')\n",
    "bucharest_rem['medical_difference'] = abs(\n",
    "    bucharest_rem['referee_medical'] - bucharest_rem['referral_medical']).astype('Int64')\n",
    "bucharest_rem"
   ],
   "metadata": {
    "collapsed": false,
    "pycharm": {
     "name": "#%%\n"
    }
   }
  },
  {
   "cell_type": "code",
   "execution_count": 44,
   "outputs": [
    {
     "data": {
      "text/plain": "(<IntegerArray>\n [1, 0]\n Length: 2, dtype: Int64,\n <IntegerArray>\n [1, 0]\n Length: 2, dtype: Int64)"
     },
     "execution_count": 44,
     "metadata": {},
     "output_type": "execute_result"
    }
   ],
   "source": [
    "bucharest_rem['isco08_label_difference'] = bucharest_rem['isco08_label_difference'].where(bucharest_rem['isco08_label_difference'] == 0, 1)\n",
    "bucharest_rem['medical_difference'] = bucharest_rem['medical_difference'].where(bucharest_rem['medical_difference'] == 0, 1)\n",
    "bucharest_rem['isco08_label_difference'].unique(), bucharest_rem['medical_difference'].unique()"
   ],
   "metadata": {
    "collapsed": false,
    "pycharm": {
     "name": "#%%\n"
    }
   }
  },
  {
   "cell_type": "code",
   "execution_count": 45,
   "outputs": [],
   "source": [
    "bucharest_rem.to_csv('../Data/Tables/rem/bucharest_eventlist_nomination.csv')"
   ],
   "metadata": {
    "collapsed": false,
    "pycharm": {
     "name": "#%%\n"
    }
   }
  },
  {
   "cell_type": "markdown",
   "source": [
    "## Cond referee"
   ],
   "metadata": {
    "collapsed": false,
    "pycharm": {
     "name": "#%% md\n"
    }
   }
  },
  {
   "cell_type": "code",
   "execution_count": 46,
   "outputs": [],
   "source": [
    "bucharest_rem_cond_referee = pd.read_csv('../Data/Tables/rem/bucharest_eventlist_nomination_cond_referee.csv',\n",
    "                         low_memory=False)"
   ],
   "metadata": {
    "collapsed": false,
    "pycharm": {
     "name": "#%%\n"
    }
   }
  },
  {
   "cell_type": "code",
   "execution_count": 47,
   "outputs": [],
   "source": [
    "bucharest_rem_cond_referee['referee_age'] = bucharest_rem_cond_referee['referee_age'].where(\n",
    "    bucharest_rem_cond_referee['referee_age'] != -1, np.nan).astype('Int64')\n",
    "bucharest_rem_cond_referee['referral_age'] = bucharest_rem_cond_referee['referral_age'].where(\n",
    "    bucharest_rem_cond_referee['referral_age'] != -1, np.nan).astype('Int64')\n",
    "\n",
    "bucharest_rem_cond_referee['referee_gender'] = bucharest_rem_cond_referee['referee_gender'].where(\n",
    "    bucharest_rem_cond_referee['referee_gender'] != -1, np.nan).astype('Int64')\n",
    "bucharest_rem_cond_referee['referral_gender'] = bucharest_rem_cond_referee['referral_gender'].where(\n",
    "    bucharest_rem_cond_referee['referral_gender'] != -1, np.nan).astype('Int64')\n",
    "\n",
    "bucharest_rem_cond_referee['referee_isco08_label'] = bucharest_rem_cond_referee['referee_isco08_label'].where(\n",
    "    bucharest_rem_cond_referee['referee_isco08_label'] != -1, np.nan).astype('Int64')\n",
    "bucharest_rem_cond_referee['referral_isco08_label'] = bucharest_rem_cond_referee['referral_isco08_label'].where(\n",
    "    bucharest_rem_cond_referee['referral_isco08_label'] != -1, np.nan).astype('Int64')\n",
    "\n",
    "bucharest_rem_cond_referee['referee_medical'] = bucharest_rem_cond_referee['referee_medical'].where(\n",
    "    bucharest_rem_cond_referee['referee_medical'] != -1, np.nan).astype('Int64')\n",
    "bucharest_rem_cond_referee['referral_medical'] = bucharest_rem_cond_referee['referral_medical'].where(\n",
    "    bucharest_rem_cond_referee['referral_medical'] != -1, np.nan).astype('Int64')"
   ],
   "metadata": {
    "collapsed": false,
    "pycharm": {
     "name": "#%%\n"
    }
   }
  },
  {
   "cell_type": "code",
   "execution_count": 48,
   "outputs": [
    {
     "data": {
      "text/plain": "         IS_OBSERVED  SOURCE       TARGET    TIME                TYPE  WEIGHT  \\\n0                  1   53594  10330S53594  200801  contact_nomination     1.0   \n1                  1   53594  10331S53594  200801  contact_nomination     1.0   \n2                  0   53594       156709  200801                 NaN     0.0   \n3                  0   53594       327835  200801                 NaN     0.0   \n4                  0   53594       319773  200801                 NaN     0.0   \n...              ...     ...          ...     ...                 ...     ...   \n1351046            0  251239  3708S161239  201031                 NaN     0.0   \n1351047            0  251229       161879  201031                 NaN     0.0   \n1351048            0  252582       256358  201031                 NaN     0.0   \n1351049            0  253872        60921  201031                 NaN     0.0   \n1351050            0  251542       180033  201031                 NaN     0.0   \n\n         EVENT_INTERVAL_ID   EVENT   INTEGER_TIME  TIME_POINT  ...  \\\n0                      0.0  289176  1596232800000           2  ...   \n1                      0.0  289177  1596232800000           2  ...   \n2                      NaN  289177  1596232800000           2  ...   \n3                      NaN  289177  1596232800000           2  ...   \n4                      NaN  289177  1596232800000           2  ...   \n...                    ...     ...            ...         ...  ...   \n1351046                NaN  302552  1604098800000          91  ...   \n1351047                NaN  302552  1604098800000          91  ...   \n1351048                NaN  302552  1604098800000          91  ...   \n1351049                NaN  302552  1604098800000          91  ...   \n1351050                NaN  302552  1604098800000          91  ...   \n\n         referee_gender  referral_gender  referee_isco08_label  \\\n0                     2             <NA>                    20   \n1                     2             <NA>                    20   \n2                     2                2                    20   \n3                     2                2                    20   \n4                     2                1                    20   \n...                 ...              ...                   ...   \n1351046               1             <NA>                    20   \n1351047               1                1                    20   \n1351048               1                1                    20   \n1351049               2                1                    20   \n1351050               1                1                    20   \n\n         referral_isco08_label  referee_medical  referral_medical  \\\n0                           12                2                 0   \n1                           20                2                 2   \n2                           20                2                 2   \n3                           20                2                 2   \n4                           20                2                 2   \n...                        ...              ...               ...   \n1351046                     20                2                 2   \n1351047                     20                2                 2   \n1351048                     20                2                 2   \n1351049                     20                2                 2   \n1351050                     20                2                 2   \n\n         age_difference  gender_difference  isco08_label_difference  \\\n0                    11               <NA>                        8   \n1                    34               <NA>                        0   \n2                    17                  0                        0   \n3                     4                  0                        0   \n4                     1                  1                        0   \n...                 ...                ...                      ...   \n1351046              18               <NA>                        0   \n1351047               1                  0                        0   \n1351048              15                  0                        0   \n1351049              10                  1                        0   \n1351050               4                  0                        0   \n\n         medical_difference  \n0                         2  \n1                         0  \n2                         0  \n3                         0  \n4                         0  \n...                     ...  \n1351046                   0  \n1351047                   0  \n1351048                   0  \n1351049                   0  \n1351050                   0  \n\n[1351051 rows x 34 columns]",
      "text/html": "<div>\n<style scoped>\n    .dataframe tbody tr th:only-of-type {\n        vertical-align: middle;\n    }\n\n    .dataframe tbody tr th {\n        vertical-align: top;\n    }\n\n    .dataframe thead th {\n        text-align: right;\n    }\n</style>\n<table border=\"1\" class=\"dataframe\">\n  <thead>\n    <tr style=\"text-align: right;\">\n      <th></th>\n      <th>IS_OBSERVED</th>\n      <th>SOURCE</th>\n      <th>TARGET</th>\n      <th>TIME</th>\n      <th>TYPE</th>\n      <th>WEIGHT</th>\n      <th>EVENT_INTERVAL_ID</th>\n      <th>EVENT</th>\n      <th>INTEGER_TIME</th>\n      <th>TIME_POINT</th>\n      <th>...</th>\n      <th>referee_gender</th>\n      <th>referral_gender</th>\n      <th>referee_isco08_label</th>\n      <th>referral_isco08_label</th>\n      <th>referee_medical</th>\n      <th>referral_medical</th>\n      <th>age_difference</th>\n      <th>gender_difference</th>\n      <th>isco08_label_difference</th>\n      <th>medical_difference</th>\n    </tr>\n  </thead>\n  <tbody>\n    <tr>\n      <th>0</th>\n      <td>1</td>\n      <td>53594</td>\n      <td>10330S53594</td>\n      <td>200801</td>\n      <td>contact_nomination</td>\n      <td>1.0</td>\n      <td>0.0</td>\n      <td>289176</td>\n      <td>1596232800000</td>\n      <td>2</td>\n      <td>...</td>\n      <td>2</td>\n      <td>&lt;NA&gt;</td>\n      <td>20</td>\n      <td>12</td>\n      <td>2</td>\n      <td>0</td>\n      <td>11</td>\n      <td>&lt;NA&gt;</td>\n      <td>8</td>\n      <td>2</td>\n    </tr>\n    <tr>\n      <th>1</th>\n      <td>1</td>\n      <td>53594</td>\n      <td>10331S53594</td>\n      <td>200801</td>\n      <td>contact_nomination</td>\n      <td>1.0</td>\n      <td>0.0</td>\n      <td>289177</td>\n      <td>1596232800000</td>\n      <td>2</td>\n      <td>...</td>\n      <td>2</td>\n      <td>&lt;NA&gt;</td>\n      <td>20</td>\n      <td>20</td>\n      <td>2</td>\n      <td>2</td>\n      <td>34</td>\n      <td>&lt;NA&gt;</td>\n      <td>0</td>\n      <td>0</td>\n    </tr>\n    <tr>\n      <th>2</th>\n      <td>0</td>\n      <td>53594</td>\n      <td>156709</td>\n      <td>200801</td>\n      <td>NaN</td>\n      <td>0.0</td>\n      <td>NaN</td>\n      <td>289177</td>\n      <td>1596232800000</td>\n      <td>2</td>\n      <td>...</td>\n      <td>2</td>\n      <td>2</td>\n      <td>20</td>\n      <td>20</td>\n      <td>2</td>\n      <td>2</td>\n      <td>17</td>\n      <td>0</td>\n      <td>0</td>\n      <td>0</td>\n    </tr>\n    <tr>\n      <th>3</th>\n      <td>0</td>\n      <td>53594</td>\n      <td>327835</td>\n      <td>200801</td>\n      <td>NaN</td>\n      <td>0.0</td>\n      <td>NaN</td>\n      <td>289177</td>\n      <td>1596232800000</td>\n      <td>2</td>\n      <td>...</td>\n      <td>2</td>\n      <td>2</td>\n      <td>20</td>\n      <td>20</td>\n      <td>2</td>\n      <td>2</td>\n      <td>4</td>\n      <td>0</td>\n      <td>0</td>\n      <td>0</td>\n    </tr>\n    <tr>\n      <th>4</th>\n      <td>0</td>\n      <td>53594</td>\n      <td>319773</td>\n      <td>200801</td>\n      <td>NaN</td>\n      <td>0.0</td>\n      <td>NaN</td>\n      <td>289177</td>\n      <td>1596232800000</td>\n      <td>2</td>\n      <td>...</td>\n      <td>2</td>\n      <td>1</td>\n      <td>20</td>\n      <td>20</td>\n      <td>2</td>\n      <td>2</td>\n      <td>1</td>\n      <td>1</td>\n      <td>0</td>\n      <td>0</td>\n    </tr>\n    <tr>\n      <th>...</th>\n      <td>...</td>\n      <td>...</td>\n      <td>...</td>\n      <td>...</td>\n      <td>...</td>\n      <td>...</td>\n      <td>...</td>\n      <td>...</td>\n      <td>...</td>\n      <td>...</td>\n      <td>...</td>\n      <td>...</td>\n      <td>...</td>\n      <td>...</td>\n      <td>...</td>\n      <td>...</td>\n      <td>...</td>\n      <td>...</td>\n      <td>...</td>\n      <td>...</td>\n      <td>...</td>\n    </tr>\n    <tr>\n      <th>1351046</th>\n      <td>0</td>\n      <td>251239</td>\n      <td>3708S161239</td>\n      <td>201031</td>\n      <td>NaN</td>\n      <td>0.0</td>\n      <td>NaN</td>\n      <td>302552</td>\n      <td>1604098800000</td>\n      <td>91</td>\n      <td>...</td>\n      <td>1</td>\n      <td>&lt;NA&gt;</td>\n      <td>20</td>\n      <td>20</td>\n      <td>2</td>\n      <td>2</td>\n      <td>18</td>\n      <td>&lt;NA&gt;</td>\n      <td>0</td>\n      <td>0</td>\n    </tr>\n    <tr>\n      <th>1351047</th>\n      <td>0</td>\n      <td>251229</td>\n      <td>161879</td>\n      <td>201031</td>\n      <td>NaN</td>\n      <td>0.0</td>\n      <td>NaN</td>\n      <td>302552</td>\n      <td>1604098800000</td>\n      <td>91</td>\n      <td>...</td>\n      <td>1</td>\n      <td>1</td>\n      <td>20</td>\n      <td>20</td>\n      <td>2</td>\n      <td>2</td>\n      <td>1</td>\n      <td>0</td>\n      <td>0</td>\n      <td>0</td>\n    </tr>\n    <tr>\n      <th>1351048</th>\n      <td>0</td>\n      <td>252582</td>\n      <td>256358</td>\n      <td>201031</td>\n      <td>NaN</td>\n      <td>0.0</td>\n      <td>NaN</td>\n      <td>302552</td>\n      <td>1604098800000</td>\n      <td>91</td>\n      <td>...</td>\n      <td>1</td>\n      <td>1</td>\n      <td>20</td>\n      <td>20</td>\n      <td>2</td>\n      <td>2</td>\n      <td>15</td>\n      <td>0</td>\n      <td>0</td>\n      <td>0</td>\n    </tr>\n    <tr>\n      <th>1351049</th>\n      <td>0</td>\n      <td>253872</td>\n      <td>60921</td>\n      <td>201031</td>\n      <td>NaN</td>\n      <td>0.0</td>\n      <td>NaN</td>\n      <td>302552</td>\n      <td>1604098800000</td>\n      <td>91</td>\n      <td>...</td>\n      <td>2</td>\n      <td>1</td>\n      <td>20</td>\n      <td>20</td>\n      <td>2</td>\n      <td>2</td>\n      <td>10</td>\n      <td>1</td>\n      <td>0</td>\n      <td>0</td>\n    </tr>\n    <tr>\n      <th>1351050</th>\n      <td>0</td>\n      <td>251542</td>\n      <td>180033</td>\n      <td>201031</td>\n      <td>NaN</td>\n      <td>0.0</td>\n      <td>NaN</td>\n      <td>302552</td>\n      <td>1604098800000</td>\n      <td>91</td>\n      <td>...</td>\n      <td>1</td>\n      <td>1</td>\n      <td>20</td>\n      <td>20</td>\n      <td>2</td>\n      <td>2</td>\n      <td>4</td>\n      <td>0</td>\n      <td>0</td>\n      <td>0</td>\n    </tr>\n  </tbody>\n</table>\n<p>1351051 rows × 34 columns</p>\n</div>"
     },
     "execution_count": 48,
     "metadata": {},
     "output_type": "execute_result"
    }
   ],
   "source": [
    "bucharest_rem_cond_referee['age_difference'] = abs(\n",
    "    bucharest_rem_cond_referee['referee_age'] - bucharest_rem_cond_referee['referral_age']).astype('Int64')\n",
    "bucharest_rem_cond_referee['gender_difference'] = abs(\n",
    "    bucharest_rem_cond_referee['referee_gender'] - bucharest_rem_cond_referee['referral_gender']).astype('Int64')\n",
    "bucharest_rem_cond_referee['isco08_label_difference'] = abs(\n",
    "    bucharest_rem_cond_referee['referee_isco08_label'] - bucharest_rem_cond_referee['referral_isco08_label']).astype('Int64')\n",
    "bucharest_rem_cond_referee['medical_difference'] = abs(\n",
    "    bucharest_rem_cond_referee['referee_medical'] - bucharest_rem_cond_referee['referral_medical']).astype('Int64')\n",
    "bucharest_rem_cond_referee"
   ],
   "metadata": {
    "collapsed": false,
    "pycharm": {
     "name": "#%%\n"
    }
   }
  },
  {
   "cell_type": "code",
   "execution_count": 49,
   "outputs": [
    {
     "data": {
      "text/plain": "(<IntegerArray>\n [1, 0]\n Length: 2, dtype: Int64,\n <IntegerArray>\n [1, 0]\n Length: 2, dtype: Int64)"
     },
     "execution_count": 49,
     "metadata": {},
     "output_type": "execute_result"
    }
   ],
   "source": [
    "bucharest_rem_cond_referee['isco08_label_difference'] = bucharest_rem_cond_referee['isco08_label_difference'].where(bucharest_rem_cond_referee['isco08_label_difference'] == 0, 1)\n",
    "bucharest_rem_cond_referee['medical_difference'] = bucharest_rem_cond_referee['medical_difference'].where(bucharest_rem_cond_referee['medical_difference'] == 0, 1)\n",
    "bucharest_rem_cond_referee['isco08_label_difference'].unique(), bucharest_rem_cond_referee['medical_difference'].unique()"
   ],
   "metadata": {
    "collapsed": false,
    "pycharm": {
     "name": "#%%\n"
    }
   }
  },
  {
   "cell_type": "code",
   "execution_count": 50,
   "outputs": [],
   "source": [
    "bucharest_rem_cond_referee.to_csv('../Data/Tables/rem/bucharest_eventlist_nomination_cond_referee.csv')"
   ],
   "metadata": {
    "collapsed": false,
    "pycharm": {
     "name": "#%%\n"
    }
   }
  },
  {
   "cell_type": "markdown",
   "source": [
    "## Cond referral"
   ],
   "metadata": {
    "collapsed": false,
    "pycharm": {
     "name": "#%% md\n"
    }
   }
  },
  {
   "cell_type": "code",
   "execution_count": 51,
   "outputs": [],
   "source": [
    "bucharest_rem_cond_referral = pd.read_csv('../Data/Tables/rem/bucharest_eventlist_nomination_cond_referral.csv',\n",
    "                         low_memory=False)"
   ],
   "metadata": {
    "collapsed": false,
    "pycharm": {
     "name": "#%%\n"
    }
   }
  },
  {
   "cell_type": "code",
   "execution_count": 52,
   "outputs": [],
   "source": [
    "bucharest_rem_cond_referral['referee_age'] = bucharest_rem_cond_referral['referee_age'].where(\n",
    "    bucharest_rem_cond_referral['referee_age'] != -1, np.nan).astype('Int64')\n",
    "bucharest_rem_cond_referral['referral_age'] = bucharest_rem_cond_referral['referral_age'].where(\n",
    "    bucharest_rem_cond_referral['referral_age'] != -1, np.nan).astype('Int64')\n",
    "\n",
    "bucharest_rem_cond_referral['referee_gender'] = bucharest_rem_cond_referral['referee_gender'].where(\n",
    "    bucharest_rem_cond_referral['referee_gender'] != -1, np.nan).astype('Int64')\n",
    "bucharest_rem_cond_referral['referral_gender'] = bucharest_rem_cond_referral['referral_gender'].where(\n",
    "    bucharest_rem_cond_referral['referral_gender'] != -1, np.nan).astype('Int64')\n",
    "\n",
    "bucharest_rem_cond_referral['referee_isco08_label'] = bucharest_rem_cond_referral['referee_isco08_label'].where(\n",
    "    bucharest_rem_cond_referral['referee_isco08_label'] != -1, np.nan).astype('Int64')\n",
    "bucharest_rem_cond_referral['referral_isco08_label'] = bucharest_rem_cond_referral['referral_isco08_label'].where(\n",
    "    bucharest_rem_cond_referral['referral_isco08_label'] != -1, np.nan).astype('Int64')\n",
    "\n",
    "bucharest_rem_cond_referral['referee_medical'] = bucharest_rem_cond_referral['referee_medical'].where(\n",
    "    bucharest_rem_cond_referral['referee_medical'] != -1, np.nan).astype('Int64')\n",
    "bucharest_rem_cond_referral['referral_medical'] = bucharest_rem_cond_referral['referral_medical'].where(\n",
    "    bucharest_rem_cond_referral['referral_medical'] != -1, np.nan).astype('Int64')"
   ],
   "metadata": {
    "collapsed": false,
    "pycharm": {
     "name": "#%%\n"
    }
   }
  },
  {
   "cell_type": "code",
   "execution_count": 53,
   "outputs": [
    {
     "data": {
      "text/plain": "         IS_OBSERVED      SOURCE        TARGET    TIME                TYPE  \\\n0                  1       53594   10330S53594  200801  contact_nomination   \n1                  1       53594   10331S53594  200801  contact_nomination   \n2                  0        3976   10331S53594  200801                 NaN   \n3                  0      138031   10330S53594  200801                 NaN   \n4                  0      315791   10331S53594  200801                 NaN   \n...              ...         ...           ...     ...                 ...   \n1351051            0       46284   1091S252582  201031                 NaN   \n1351052            0      193799   7199S251497  201031                 NaN   \n1351053            0  2552S67983   6781S251480  201031                 NaN   \n1351054            0      178783  10306S247647  201031                 NaN   \n1351055            0       67337   6249S251542  201031                 NaN   \n\n         WEIGHT  EVENT_INTERVAL_ID   EVENT   INTEGER_TIME  TIME_POINT  ...  \\\n0           1.0                0.0  289176  1596232800000           2  ...   \n1           1.0                0.0  289177  1596232800000           2  ...   \n2           0.0                NaN  289177  1596232800000           2  ...   \n3           0.0                NaN  289177  1596232800000           2  ...   \n4           0.0                NaN  289177  1596232800000           2  ...   \n...         ...                ...     ...            ...         ...  ...   \n1351051     0.0                NaN  302552  1604098800000          91  ...   \n1351052     0.0                NaN  302552  1604098800000          91  ...   \n1351053     0.0                NaN  302552  1604098800000          91  ...   \n1351054     0.0                NaN  302552  1604098800000          91  ...   \n1351055     0.0                NaN  302552  1604098800000          91  ...   \n\n         referee_gender  referral_gender  referee_isco08_label  \\\n0                     2             <NA>                    20   \n1                     2             <NA>                    20   \n2                     2             <NA>                     9   \n3                     1             <NA>                    20   \n4                     1             <NA>                    20   \n...                 ...              ...                   ...   \n1351051               1             <NA>                    20   \n1351052               1             <NA>                    20   \n1351053            <NA>             <NA>                    11   \n1351054               2             <NA>                    20   \n1351055               2             <NA>                    17   \n\n         referral_isco08_label  referee_medical  referral_medical  \\\n0                           12                2                 0   \n1                           20                2                 2   \n2                           20                2                 2   \n3                           12                2                 0   \n4                           20                2                 2   \n...                        ...              ...               ...   \n1351051                     20                2                 2   \n1351052                     20                2                 2   \n1351053                     11                0                 0   \n1351054                     12                2                 0   \n1351055                     14                2                 0   \n\n         age_difference  gender_difference  isco08_label_difference  \\\n0                    11               <NA>                        8   \n1                    34               <NA>                        0   \n2                    25               <NA>                       11   \n3                     4               <NA>                        8   \n4                    31               <NA>                        0   \n...                 ...                ...                      ...   \n1351051              31               <NA>                        0   \n1351052              22               <NA>                        0   \n1351053               4               <NA>                        0   \n1351054              31               <NA>                        8   \n1351055              36               <NA>                        3   \n\n         medical_difference  \n0                         2  \n1                         0  \n2                         0  \n3                         2  \n4                         0  \n...                     ...  \n1351051                   0  \n1351052                   0  \n1351053                   0  \n1351054                   2  \n1351055                   2  \n\n[1351056 rows x 34 columns]",
      "text/html": "<div>\n<style scoped>\n    .dataframe tbody tr th:only-of-type {\n        vertical-align: middle;\n    }\n\n    .dataframe tbody tr th {\n        vertical-align: top;\n    }\n\n    .dataframe thead th {\n        text-align: right;\n    }\n</style>\n<table border=\"1\" class=\"dataframe\">\n  <thead>\n    <tr style=\"text-align: right;\">\n      <th></th>\n      <th>IS_OBSERVED</th>\n      <th>SOURCE</th>\n      <th>TARGET</th>\n      <th>TIME</th>\n      <th>TYPE</th>\n      <th>WEIGHT</th>\n      <th>EVENT_INTERVAL_ID</th>\n      <th>EVENT</th>\n      <th>INTEGER_TIME</th>\n      <th>TIME_POINT</th>\n      <th>...</th>\n      <th>referee_gender</th>\n      <th>referral_gender</th>\n      <th>referee_isco08_label</th>\n      <th>referral_isco08_label</th>\n      <th>referee_medical</th>\n      <th>referral_medical</th>\n      <th>age_difference</th>\n      <th>gender_difference</th>\n      <th>isco08_label_difference</th>\n      <th>medical_difference</th>\n    </tr>\n  </thead>\n  <tbody>\n    <tr>\n      <th>0</th>\n      <td>1</td>\n      <td>53594</td>\n      <td>10330S53594</td>\n      <td>200801</td>\n      <td>contact_nomination</td>\n      <td>1.0</td>\n      <td>0.0</td>\n      <td>289176</td>\n      <td>1596232800000</td>\n      <td>2</td>\n      <td>...</td>\n      <td>2</td>\n      <td>&lt;NA&gt;</td>\n      <td>20</td>\n      <td>12</td>\n      <td>2</td>\n      <td>0</td>\n      <td>11</td>\n      <td>&lt;NA&gt;</td>\n      <td>8</td>\n      <td>2</td>\n    </tr>\n    <tr>\n      <th>1</th>\n      <td>1</td>\n      <td>53594</td>\n      <td>10331S53594</td>\n      <td>200801</td>\n      <td>contact_nomination</td>\n      <td>1.0</td>\n      <td>0.0</td>\n      <td>289177</td>\n      <td>1596232800000</td>\n      <td>2</td>\n      <td>...</td>\n      <td>2</td>\n      <td>&lt;NA&gt;</td>\n      <td>20</td>\n      <td>20</td>\n      <td>2</td>\n      <td>2</td>\n      <td>34</td>\n      <td>&lt;NA&gt;</td>\n      <td>0</td>\n      <td>0</td>\n    </tr>\n    <tr>\n      <th>2</th>\n      <td>0</td>\n      <td>3976</td>\n      <td>10331S53594</td>\n      <td>200801</td>\n      <td>NaN</td>\n      <td>0.0</td>\n      <td>NaN</td>\n      <td>289177</td>\n      <td>1596232800000</td>\n      <td>2</td>\n      <td>...</td>\n      <td>2</td>\n      <td>&lt;NA&gt;</td>\n      <td>9</td>\n      <td>20</td>\n      <td>2</td>\n      <td>2</td>\n      <td>25</td>\n      <td>&lt;NA&gt;</td>\n      <td>11</td>\n      <td>0</td>\n    </tr>\n    <tr>\n      <th>3</th>\n      <td>0</td>\n      <td>138031</td>\n      <td>10330S53594</td>\n      <td>200801</td>\n      <td>NaN</td>\n      <td>0.0</td>\n      <td>NaN</td>\n      <td>289177</td>\n      <td>1596232800000</td>\n      <td>2</td>\n      <td>...</td>\n      <td>1</td>\n      <td>&lt;NA&gt;</td>\n      <td>20</td>\n      <td>12</td>\n      <td>2</td>\n      <td>0</td>\n      <td>4</td>\n      <td>&lt;NA&gt;</td>\n      <td>8</td>\n      <td>2</td>\n    </tr>\n    <tr>\n      <th>4</th>\n      <td>0</td>\n      <td>315791</td>\n      <td>10331S53594</td>\n      <td>200801</td>\n      <td>NaN</td>\n      <td>0.0</td>\n      <td>NaN</td>\n      <td>289177</td>\n      <td>1596232800000</td>\n      <td>2</td>\n      <td>...</td>\n      <td>1</td>\n      <td>&lt;NA&gt;</td>\n      <td>20</td>\n      <td>20</td>\n      <td>2</td>\n      <td>2</td>\n      <td>31</td>\n      <td>&lt;NA&gt;</td>\n      <td>0</td>\n      <td>0</td>\n    </tr>\n    <tr>\n      <th>...</th>\n      <td>...</td>\n      <td>...</td>\n      <td>...</td>\n      <td>...</td>\n      <td>...</td>\n      <td>...</td>\n      <td>...</td>\n      <td>...</td>\n      <td>...</td>\n      <td>...</td>\n      <td>...</td>\n      <td>...</td>\n      <td>...</td>\n      <td>...</td>\n      <td>...</td>\n      <td>...</td>\n      <td>...</td>\n      <td>...</td>\n      <td>...</td>\n      <td>...</td>\n      <td>...</td>\n    </tr>\n    <tr>\n      <th>1351051</th>\n      <td>0</td>\n      <td>46284</td>\n      <td>1091S252582</td>\n      <td>201031</td>\n      <td>NaN</td>\n      <td>0.0</td>\n      <td>NaN</td>\n      <td>302552</td>\n      <td>1604098800000</td>\n      <td>91</td>\n      <td>...</td>\n      <td>1</td>\n      <td>&lt;NA&gt;</td>\n      <td>20</td>\n      <td>20</td>\n      <td>2</td>\n      <td>2</td>\n      <td>31</td>\n      <td>&lt;NA&gt;</td>\n      <td>0</td>\n      <td>0</td>\n    </tr>\n    <tr>\n      <th>1351052</th>\n      <td>0</td>\n      <td>193799</td>\n      <td>7199S251497</td>\n      <td>201031</td>\n      <td>NaN</td>\n      <td>0.0</td>\n      <td>NaN</td>\n      <td>302552</td>\n      <td>1604098800000</td>\n      <td>91</td>\n      <td>...</td>\n      <td>1</td>\n      <td>&lt;NA&gt;</td>\n      <td>20</td>\n      <td>20</td>\n      <td>2</td>\n      <td>2</td>\n      <td>22</td>\n      <td>&lt;NA&gt;</td>\n      <td>0</td>\n      <td>0</td>\n    </tr>\n    <tr>\n      <th>1351053</th>\n      <td>0</td>\n      <td>2552S67983</td>\n      <td>6781S251480</td>\n      <td>201031</td>\n      <td>NaN</td>\n      <td>0.0</td>\n      <td>NaN</td>\n      <td>302552</td>\n      <td>1604098800000</td>\n      <td>91</td>\n      <td>...</td>\n      <td>&lt;NA&gt;</td>\n      <td>&lt;NA&gt;</td>\n      <td>11</td>\n      <td>11</td>\n      <td>0</td>\n      <td>0</td>\n      <td>4</td>\n      <td>&lt;NA&gt;</td>\n      <td>0</td>\n      <td>0</td>\n    </tr>\n    <tr>\n      <th>1351054</th>\n      <td>0</td>\n      <td>178783</td>\n      <td>10306S247647</td>\n      <td>201031</td>\n      <td>NaN</td>\n      <td>0.0</td>\n      <td>NaN</td>\n      <td>302552</td>\n      <td>1604098800000</td>\n      <td>91</td>\n      <td>...</td>\n      <td>2</td>\n      <td>&lt;NA&gt;</td>\n      <td>20</td>\n      <td>12</td>\n      <td>2</td>\n      <td>0</td>\n      <td>31</td>\n      <td>&lt;NA&gt;</td>\n      <td>8</td>\n      <td>2</td>\n    </tr>\n    <tr>\n      <th>1351055</th>\n      <td>0</td>\n      <td>67337</td>\n      <td>6249S251542</td>\n      <td>201031</td>\n      <td>NaN</td>\n      <td>0.0</td>\n      <td>NaN</td>\n      <td>302552</td>\n      <td>1604098800000</td>\n      <td>91</td>\n      <td>...</td>\n      <td>2</td>\n      <td>&lt;NA&gt;</td>\n      <td>17</td>\n      <td>14</td>\n      <td>2</td>\n      <td>0</td>\n      <td>36</td>\n      <td>&lt;NA&gt;</td>\n      <td>3</td>\n      <td>2</td>\n    </tr>\n  </tbody>\n</table>\n<p>1351056 rows × 34 columns</p>\n</div>"
     },
     "execution_count": 53,
     "metadata": {},
     "output_type": "execute_result"
    }
   ],
   "source": [
    "bucharest_rem_cond_referral['age_difference'] = abs(\n",
    "    bucharest_rem_cond_referral['referee_age'] - bucharest_rem_cond_referral['referral_age']).astype('Int64')\n",
    "bucharest_rem_cond_referral['gender_difference'] = abs(\n",
    "    bucharest_rem_cond_referral['referee_gender'] - bucharest_rem_cond_referral['referral_gender']).astype('Int64')\n",
    "bucharest_rem_cond_referral['isco08_label_difference'] = abs(\n",
    "    bucharest_rem_cond_referral['referee_isco08_label'] - bucharest_rem_cond_referral['referral_isco08_label']).astype('Int64')\n",
    "bucharest_rem_cond_referral['medical_difference'] = abs(\n",
    "    bucharest_rem_cond_referral['referee_medical'] - bucharest_rem_cond_referral['referral_medical']).astype('Int64')\n",
    "bucharest_rem_cond_referral"
   ],
   "metadata": {
    "collapsed": false,
    "pycharm": {
     "name": "#%%\n"
    }
   }
  },
  {
   "cell_type": "code",
   "execution_count": 54,
   "outputs": [
    {
     "data": {
      "text/plain": "(<IntegerArray>\n [1, 0]\n Length: 2, dtype: Int64,\n <IntegerArray>\n [1, 0]\n Length: 2, dtype: Int64)"
     },
     "execution_count": 54,
     "metadata": {},
     "output_type": "execute_result"
    }
   ],
   "source": [
    "bucharest_rem_cond_referral['isco08_label_difference'] = bucharest_rem_cond_referral['isco08_label_difference'].where(bucharest_rem_cond_referral['isco08_label_difference'] == 0, 1)\n",
    "bucharest_rem_cond_referral['medical_difference'] = bucharest_rem_cond_referral['medical_difference'].where(bucharest_rem_cond_referral['medical_difference'] == 0, 1)\n",
    "bucharest_rem_cond_referral['isco08_label_difference'].unique(), bucharest_rem_cond_referral['medical_difference'].unique()"
   ],
   "metadata": {
    "collapsed": false,
    "pycharm": {
     "name": "#%%\n"
    }
   }
  },
  {
   "cell_type": "code",
   "execution_count": 55,
   "outputs": [],
   "source": [
    "bucharest_rem_cond_referral.to_csv('../Data/Tables/rem/bucharest_eventlist_nomination_cond_referral.csv')"
   ],
   "metadata": {
    "collapsed": false,
    "pycharm": {
     "name": "#%%\n"
    }
   }
  },
  {
   "cell_type": "markdown",
   "source": [
    "# China"
   ],
   "metadata": {
    "collapsed": false,
    "pycharm": {
     "name": "#%% md\n"
    }
   }
  },
  {
   "cell_type": "markdown",
   "source": [
    "## Uncond"
   ],
   "metadata": {
    "collapsed": false,
    "pycharm": {
     "name": "#%% md\n"
    }
   }
  },
  {
   "cell_type": "code",
   "execution_count": 56,
   "outputs": [
    {
     "data": {
      "text/plain": "        IS_OBSERVED            SOURCE            TARGET    TIME  \\\n0                 1  shijiazhuang-155  shijiazhuang-176  200109   \n1                 1  shijiazhuang-155  shijiazhuang-156  200109   \n2                 1  shijiazhuang-150   shijiazhuang-38  200109   \n3                 1  shijiazhuang-150  shijiazhuang-151  200109   \n4                 1  shijiazhuang-145  shijiazhuang-146  200109   \n...             ...               ...               ...     ...   \n971981            0     hulunbeier-26       beijing-395  220208   \n971982            0            an-527       xinyang-203  220208   \n971983            0      yangzhou-160  shijiazhuang-156  220208   \n971984            0      guangzhou-63        tianjin-57  220208   \n971985            0     hulunbeier-64         guilin-12  220208   \n\n                      TYPE  WEIGHT  EVENT_INTERVAL_ID   EVENT   INTEGER_TIME  \\\n0       contact_nomination     1.0                0.0  207017  1578524400000   \n1       contact_nomination     1.0                0.0  207018  1578524400000   \n2       contact_nomination     1.0                1.0  207019  1578524400000   \n3       contact_nomination     1.0                1.0  207020  1578524400000   \n4       contact_nomination     1.0                2.0  207021  1578524400000   \n...                    ...     ...                ...     ...            ...   \n971981                 NaN     0.0                NaN  218452  1644274800000   \n971982                 NaN     0.0                NaN  218452  1644274800000   \n971983                 NaN     0.0                NaN  218452  1644274800000   \n971984                 NaN     0.0                NaN  218452  1644274800000   \n971985                 NaN     0.0                NaN  218452  1644274800000   \n\n        TIME_POINT  ...  referee_residency  referral_residency  \\\n0                2  ...                244                 244   \n1                2  ...                244                 244   \n2                2  ...                244                 244   \n3                2  ...                244                 244   \n4                2  ...                244                 244   \n...            ...  ...                ...                 ...   \n971981         254  ...                355                  26   \n971982         254  ...                480                 287   \n971983         254  ...                480                 244   \n971984         254  ...                500                 649   \n971985         254  ...                355                 310   \n\n        referee_place_event  referral_place_event  referee_symptom  \\\n0                       748                  1365               55   \n1                       748                   748               55   \n2                       994                  1038               55   \n3                       994                   748               55   \n4                      1010                  1019              186   \n...                     ...                   ...              ...   \n971981                  575                   748               55   \n971982                  748                   748               14   \n971983                  748                   748               55   \n971984                  375                   748              225   \n971985                  555                  1254               55   \n\n        referral_symptom  referee_symptom_severity  referral_symptom_severity  \\\n0                     14                         4                          4   \n1                     55                         4                          4   \n2                     55                         4                          4   \n3                     55                         4                          4   \n4                    186                         4                          4   \n...                  ...                       ...                        ...   \n971981                55                         4                          3   \n971982               186                         4                          4   \n971983                55                         2                          4   \n971984               186                         4                          3   \n971985               114                         4                          3   \n\n        referee_place_admission  referral_place_admission  \n0                           172                       172  \n1                           172                       172  \n2                           172                       172  \n3                           172                       172  \n4                           172                       172  \n...                         ...                       ...  \n971981                      237                        18  \n971982                      314                       206  \n971983                      256                       172  \n971984                      109                       401  \n971985                      237                       135  \n\n[971986 rows x 36 columns]",
      "text/html": "<div>\n<style scoped>\n    .dataframe tbody tr th:only-of-type {\n        vertical-align: middle;\n    }\n\n    .dataframe tbody tr th {\n        vertical-align: top;\n    }\n\n    .dataframe thead th {\n        text-align: right;\n    }\n</style>\n<table border=\"1\" class=\"dataframe\">\n  <thead>\n    <tr style=\"text-align: right;\">\n      <th></th>\n      <th>IS_OBSERVED</th>\n      <th>SOURCE</th>\n      <th>TARGET</th>\n      <th>TIME</th>\n      <th>TYPE</th>\n      <th>WEIGHT</th>\n      <th>EVENT_INTERVAL_ID</th>\n      <th>EVENT</th>\n      <th>INTEGER_TIME</th>\n      <th>TIME_POINT</th>\n      <th>...</th>\n      <th>referee_residency</th>\n      <th>referral_residency</th>\n      <th>referee_place_event</th>\n      <th>referral_place_event</th>\n      <th>referee_symptom</th>\n      <th>referral_symptom</th>\n      <th>referee_symptom_severity</th>\n      <th>referral_symptom_severity</th>\n      <th>referee_place_admission</th>\n      <th>referral_place_admission</th>\n    </tr>\n  </thead>\n  <tbody>\n    <tr>\n      <th>0</th>\n      <td>1</td>\n      <td>shijiazhuang-155</td>\n      <td>shijiazhuang-176</td>\n      <td>200109</td>\n      <td>contact_nomination</td>\n      <td>1.0</td>\n      <td>0.0</td>\n      <td>207017</td>\n      <td>1578524400000</td>\n      <td>2</td>\n      <td>...</td>\n      <td>244</td>\n      <td>244</td>\n      <td>748</td>\n      <td>1365</td>\n      <td>55</td>\n      <td>14</td>\n      <td>4</td>\n      <td>4</td>\n      <td>172</td>\n      <td>172</td>\n    </tr>\n    <tr>\n      <th>1</th>\n      <td>1</td>\n      <td>shijiazhuang-155</td>\n      <td>shijiazhuang-156</td>\n      <td>200109</td>\n      <td>contact_nomination</td>\n      <td>1.0</td>\n      <td>0.0</td>\n      <td>207018</td>\n      <td>1578524400000</td>\n      <td>2</td>\n      <td>...</td>\n      <td>244</td>\n      <td>244</td>\n      <td>748</td>\n      <td>748</td>\n      <td>55</td>\n      <td>55</td>\n      <td>4</td>\n      <td>4</td>\n      <td>172</td>\n      <td>172</td>\n    </tr>\n    <tr>\n      <th>2</th>\n      <td>1</td>\n      <td>shijiazhuang-150</td>\n      <td>shijiazhuang-38</td>\n      <td>200109</td>\n      <td>contact_nomination</td>\n      <td>1.0</td>\n      <td>1.0</td>\n      <td>207019</td>\n      <td>1578524400000</td>\n      <td>2</td>\n      <td>...</td>\n      <td>244</td>\n      <td>244</td>\n      <td>994</td>\n      <td>1038</td>\n      <td>55</td>\n      <td>55</td>\n      <td>4</td>\n      <td>4</td>\n      <td>172</td>\n      <td>172</td>\n    </tr>\n    <tr>\n      <th>3</th>\n      <td>1</td>\n      <td>shijiazhuang-150</td>\n      <td>shijiazhuang-151</td>\n      <td>200109</td>\n      <td>contact_nomination</td>\n      <td>1.0</td>\n      <td>1.0</td>\n      <td>207020</td>\n      <td>1578524400000</td>\n      <td>2</td>\n      <td>...</td>\n      <td>244</td>\n      <td>244</td>\n      <td>994</td>\n      <td>748</td>\n      <td>55</td>\n      <td>55</td>\n      <td>4</td>\n      <td>4</td>\n      <td>172</td>\n      <td>172</td>\n    </tr>\n    <tr>\n      <th>4</th>\n      <td>1</td>\n      <td>shijiazhuang-145</td>\n      <td>shijiazhuang-146</td>\n      <td>200109</td>\n      <td>contact_nomination</td>\n      <td>1.0</td>\n      <td>2.0</td>\n      <td>207021</td>\n      <td>1578524400000</td>\n      <td>2</td>\n      <td>...</td>\n      <td>244</td>\n      <td>244</td>\n      <td>1010</td>\n      <td>1019</td>\n      <td>186</td>\n      <td>186</td>\n      <td>4</td>\n      <td>4</td>\n      <td>172</td>\n      <td>172</td>\n    </tr>\n    <tr>\n      <th>...</th>\n      <td>...</td>\n      <td>...</td>\n      <td>...</td>\n      <td>...</td>\n      <td>...</td>\n      <td>...</td>\n      <td>...</td>\n      <td>...</td>\n      <td>...</td>\n      <td>...</td>\n      <td>...</td>\n      <td>...</td>\n      <td>...</td>\n      <td>...</td>\n      <td>...</td>\n      <td>...</td>\n      <td>...</td>\n      <td>...</td>\n      <td>...</td>\n      <td>...</td>\n      <td>...</td>\n    </tr>\n    <tr>\n      <th>971981</th>\n      <td>0</td>\n      <td>hulunbeier-26</td>\n      <td>beijing-395</td>\n      <td>220208</td>\n      <td>NaN</td>\n      <td>0.0</td>\n      <td>NaN</td>\n      <td>218452</td>\n      <td>1644274800000</td>\n      <td>254</td>\n      <td>...</td>\n      <td>355</td>\n      <td>26</td>\n      <td>575</td>\n      <td>748</td>\n      <td>55</td>\n      <td>55</td>\n      <td>4</td>\n      <td>3</td>\n      <td>237</td>\n      <td>18</td>\n    </tr>\n    <tr>\n      <th>971982</th>\n      <td>0</td>\n      <td>an-527</td>\n      <td>xinyang-203</td>\n      <td>220208</td>\n      <td>NaN</td>\n      <td>0.0</td>\n      <td>NaN</td>\n      <td>218452</td>\n      <td>1644274800000</td>\n      <td>254</td>\n      <td>...</td>\n      <td>480</td>\n      <td>287</td>\n      <td>748</td>\n      <td>748</td>\n      <td>14</td>\n      <td>186</td>\n      <td>4</td>\n      <td>4</td>\n      <td>314</td>\n      <td>206</td>\n    </tr>\n    <tr>\n      <th>971983</th>\n      <td>0</td>\n      <td>yangzhou-160</td>\n      <td>shijiazhuang-156</td>\n      <td>220208</td>\n      <td>NaN</td>\n      <td>0.0</td>\n      <td>NaN</td>\n      <td>218452</td>\n      <td>1644274800000</td>\n      <td>254</td>\n      <td>...</td>\n      <td>480</td>\n      <td>244</td>\n      <td>748</td>\n      <td>748</td>\n      <td>55</td>\n      <td>55</td>\n      <td>2</td>\n      <td>4</td>\n      <td>256</td>\n      <td>172</td>\n    </tr>\n    <tr>\n      <th>971984</th>\n      <td>0</td>\n      <td>guangzhou-63</td>\n      <td>tianjin-57</td>\n      <td>220208</td>\n      <td>NaN</td>\n      <td>0.0</td>\n      <td>NaN</td>\n      <td>218452</td>\n      <td>1644274800000</td>\n      <td>254</td>\n      <td>...</td>\n      <td>500</td>\n      <td>649</td>\n      <td>375</td>\n      <td>748</td>\n      <td>225</td>\n      <td>186</td>\n      <td>4</td>\n      <td>3</td>\n      <td>109</td>\n      <td>401</td>\n    </tr>\n    <tr>\n      <th>971985</th>\n      <td>0</td>\n      <td>hulunbeier-64</td>\n      <td>guilin-12</td>\n      <td>220208</td>\n      <td>NaN</td>\n      <td>0.0</td>\n      <td>NaN</td>\n      <td>218452</td>\n      <td>1644274800000</td>\n      <td>254</td>\n      <td>...</td>\n      <td>355</td>\n      <td>310</td>\n      <td>555</td>\n      <td>1254</td>\n      <td>55</td>\n      <td>114</td>\n      <td>4</td>\n      <td>3</td>\n      <td>237</td>\n      <td>135</td>\n    </tr>\n  </tbody>\n</table>\n<p>971986 rows × 36 columns</p>\n</div>"
     },
     "execution_count": 56,
     "metadata": {},
     "output_type": "execute_result"
    }
   ],
   "source": [
    "china_rem = pd.read_csv('../Data/Tables/rem/china_eventlist_nomination.csv',\n",
    "                                          low_memory=False)\n",
    "china_rem"
   ],
   "metadata": {
    "collapsed": false,
    "pycharm": {
     "name": "#%%\n"
    }
   }
  },
  {
   "cell_type": "code",
   "execution_count": 57,
   "outputs": [],
   "source": [
    "china_rem['referee_age'] = china_rem['referee_age'].where(\n",
    "    china_rem['referee_age'] != -1, np.nan).astype('Int64')\n",
    "china_rem['referral_age'] = china_rem['referral_age'].where(\n",
    "    china_rem['referral_age'] != -1, np.nan).astype('Int64')\n",
    "\n",
    "china_rem['referee_gender'] = china_rem['referee_gender'].where(\n",
    "    china_rem['referee_gender'] != -1, np.nan).astype('Int64')\n",
    "china_rem['referral_gender'] = china_rem['referral_gender'].where(\n",
    "    china_rem['referral_gender'] != -1, np.nan).astype('Int64')\n",
    "\n",
    "china_rem['referee_residency'] = china_rem['referee_residency'].where(\n",
    "    china_rem['referee_residency'] != -1, np.nan).astype('Int64')\n",
    "china_rem['referral_residency'] = china_rem['referral_residency'].where(\n",
    "    china_rem['referral_residency'] != -1, np.nan).astype('Int64')\n",
    "\n",
    "china_rem['referee_place_event'] = china_rem['referee_place_event'].where(\n",
    "    china_rem['referee_place_event'] != -1, np.nan).astype('Int64')\n",
    "china_rem['referral_place_event'] = china_rem['referral_place_event'].where(\n",
    "    china_rem['referral_place_event'] != -1, np.nan).astype('Int64')\n",
    "\n",
    "china_rem['referee_symptom'] = china_rem['referee_symptom'].where(\n",
    "    china_rem['referee_symptom'] != -1, np.nan).astype('Int64')\n",
    "china_rem['referral_symptom'] = china_rem['referral_symptom'].where(\n",
    "    china_rem['referral_symptom'] != -1, np.nan).astype('Int64')\n",
    "\n",
    "china_rem['referee_symptom_severity'] = china_rem['referee_symptom_severity'].where(\n",
    "    china_rem['referee_symptom_severity'] != -1, np.nan).astype('Int64')\n",
    "china_rem['referral_symptom_severity'] = china_rem['referral_symptom_severity'].where(\n",
    "    china_rem['referral_symptom_severity'] != -1, np.nan).astype('Int64')\n",
    "\n",
    "china_rem['referee_place_admission'] = china_rem['referee_place_admission'].where(\n",
    "    china_rem['referee_place_admission'] != -1, np.nan).astype('Int64')\n",
    "china_rem['referral_place_admission'] = china_rem['referral_place_admission'].where(\n",
    "    china_rem['referral_place_admission'] != -1, np.nan).astype('Int64')"
   ],
   "metadata": {
    "collapsed": false,
    "pycharm": {
     "name": "#%%\n"
    }
   }
  },
  {
   "cell_type": "code",
   "execution_count": 58,
   "outputs": [
    {
     "data": {
      "text/plain": "        IS_OBSERVED            SOURCE            TARGET    TIME  \\\n0                 1  shijiazhuang-155  shijiazhuang-176  200109   \n1                 1  shijiazhuang-155  shijiazhuang-156  200109   \n2                 1  shijiazhuang-150   shijiazhuang-38  200109   \n3                 1  shijiazhuang-150  shijiazhuang-151  200109   \n4                 1  shijiazhuang-145  shijiazhuang-146  200109   \n...             ...               ...               ...     ...   \n971981            0     hulunbeier-26       beijing-395  220208   \n971982            0            an-527       xinyang-203  220208   \n971983            0      yangzhou-160  shijiazhuang-156  220208   \n971984            0      guangzhou-63        tianjin-57  220208   \n971985            0     hulunbeier-64         guilin-12  220208   \n\n                      TYPE  WEIGHT  EVENT_INTERVAL_ID   EVENT   INTEGER_TIME  \\\n0       contact_nomination     1.0                0.0  207017  1578524400000   \n1       contact_nomination     1.0                0.0  207018  1578524400000   \n2       contact_nomination     1.0                1.0  207019  1578524400000   \n3       contact_nomination     1.0                1.0  207020  1578524400000   \n4       contact_nomination     1.0                2.0  207021  1578524400000   \n...                    ...     ...                ...     ...            ...   \n971981                 NaN     0.0                NaN  218452  1644274800000   \n971982                 NaN     0.0                NaN  218452  1644274800000   \n971983                 NaN     0.0                NaN  218452  1644274800000   \n971984                 NaN     0.0                NaN  218452  1644274800000   \n971985                 NaN     0.0                NaN  218452  1644274800000   \n\n        TIME_POINT  ...  referral_symptom_severity  referee_place_admission  \\\n0                2  ...                          4                      172   \n1                2  ...                          4                      172   \n2                2  ...                          4                      172   \n3                2  ...                          4                      172   \n4                2  ...                          4                      172   \n...            ...  ...                        ...                      ...   \n971981         254  ...                          3                      237   \n971982         254  ...                          4                      314   \n971983         254  ...                          4                      256   \n971984         254  ...                          3                      109   \n971985         254  ...                          3                      237   \n\n        referral_place_admission  age_difference  gender_difference  \\\n0                            172              32                  1   \n1                            172               6                  0   \n2                            172              52                  0   \n3                            172              30                  0   \n4                            172              37                  0   \n...                          ...             ...                ...   \n971981                        18            <NA>                  1   \n971982                       206              15                  1   \n971983                       172              47                  1   \n971984                       401               1                  0   \n971985                       135            <NA>                  1   \n\n        residency_difference  place_event_difference  symptom_difference  \\\n0                          0                     617                  41   \n1                          0                       0                   0   \n2                          0                      44                   0   \n3                          0                     246                   0   \n4                          0                       9                   0   \n...                      ...                     ...                 ...   \n971981                   329                     173                   0   \n971982                   193                       0                 172   \n971983                   236                       0                   0   \n971984                   149                     373                  39   \n971985                    45                     699                  59   \n\n        symptom_severity_difference  place_admission_difference  \n0                                 0                           0  \n1                                 0                           0  \n2                                 0                           0  \n3                                 0                           0  \n4                                 0                           0  \n...                             ...                         ...  \n971981                            1                         219  \n971982                            0                         108  \n971983                            2                          84  \n971984                            1                         292  \n971985                            1                         102  \n\n[971986 rows x 43 columns]",
      "text/html": "<div>\n<style scoped>\n    .dataframe tbody tr th:only-of-type {\n        vertical-align: middle;\n    }\n\n    .dataframe tbody tr th {\n        vertical-align: top;\n    }\n\n    .dataframe thead th {\n        text-align: right;\n    }\n</style>\n<table border=\"1\" class=\"dataframe\">\n  <thead>\n    <tr style=\"text-align: right;\">\n      <th></th>\n      <th>IS_OBSERVED</th>\n      <th>SOURCE</th>\n      <th>TARGET</th>\n      <th>TIME</th>\n      <th>TYPE</th>\n      <th>WEIGHT</th>\n      <th>EVENT_INTERVAL_ID</th>\n      <th>EVENT</th>\n      <th>INTEGER_TIME</th>\n      <th>TIME_POINT</th>\n      <th>...</th>\n      <th>referral_symptom_severity</th>\n      <th>referee_place_admission</th>\n      <th>referral_place_admission</th>\n      <th>age_difference</th>\n      <th>gender_difference</th>\n      <th>residency_difference</th>\n      <th>place_event_difference</th>\n      <th>symptom_difference</th>\n      <th>symptom_severity_difference</th>\n      <th>place_admission_difference</th>\n    </tr>\n  </thead>\n  <tbody>\n    <tr>\n      <th>0</th>\n      <td>1</td>\n      <td>shijiazhuang-155</td>\n      <td>shijiazhuang-176</td>\n      <td>200109</td>\n      <td>contact_nomination</td>\n      <td>1.0</td>\n      <td>0.0</td>\n      <td>207017</td>\n      <td>1578524400000</td>\n      <td>2</td>\n      <td>...</td>\n      <td>4</td>\n      <td>172</td>\n      <td>172</td>\n      <td>32</td>\n      <td>1</td>\n      <td>0</td>\n      <td>617</td>\n      <td>41</td>\n      <td>0</td>\n      <td>0</td>\n    </tr>\n    <tr>\n      <th>1</th>\n      <td>1</td>\n      <td>shijiazhuang-155</td>\n      <td>shijiazhuang-156</td>\n      <td>200109</td>\n      <td>contact_nomination</td>\n      <td>1.0</td>\n      <td>0.0</td>\n      <td>207018</td>\n      <td>1578524400000</td>\n      <td>2</td>\n      <td>...</td>\n      <td>4</td>\n      <td>172</td>\n      <td>172</td>\n      <td>6</td>\n      <td>0</td>\n      <td>0</td>\n      <td>0</td>\n      <td>0</td>\n      <td>0</td>\n      <td>0</td>\n    </tr>\n    <tr>\n      <th>2</th>\n      <td>1</td>\n      <td>shijiazhuang-150</td>\n      <td>shijiazhuang-38</td>\n      <td>200109</td>\n      <td>contact_nomination</td>\n      <td>1.0</td>\n      <td>1.0</td>\n      <td>207019</td>\n      <td>1578524400000</td>\n      <td>2</td>\n      <td>...</td>\n      <td>4</td>\n      <td>172</td>\n      <td>172</td>\n      <td>52</td>\n      <td>0</td>\n      <td>0</td>\n      <td>44</td>\n      <td>0</td>\n      <td>0</td>\n      <td>0</td>\n    </tr>\n    <tr>\n      <th>3</th>\n      <td>1</td>\n      <td>shijiazhuang-150</td>\n      <td>shijiazhuang-151</td>\n      <td>200109</td>\n      <td>contact_nomination</td>\n      <td>1.0</td>\n      <td>1.0</td>\n      <td>207020</td>\n      <td>1578524400000</td>\n      <td>2</td>\n      <td>...</td>\n      <td>4</td>\n      <td>172</td>\n      <td>172</td>\n      <td>30</td>\n      <td>0</td>\n      <td>0</td>\n      <td>246</td>\n      <td>0</td>\n      <td>0</td>\n      <td>0</td>\n    </tr>\n    <tr>\n      <th>4</th>\n      <td>1</td>\n      <td>shijiazhuang-145</td>\n      <td>shijiazhuang-146</td>\n      <td>200109</td>\n      <td>contact_nomination</td>\n      <td>1.0</td>\n      <td>2.0</td>\n      <td>207021</td>\n      <td>1578524400000</td>\n      <td>2</td>\n      <td>...</td>\n      <td>4</td>\n      <td>172</td>\n      <td>172</td>\n      <td>37</td>\n      <td>0</td>\n      <td>0</td>\n      <td>9</td>\n      <td>0</td>\n      <td>0</td>\n      <td>0</td>\n    </tr>\n    <tr>\n      <th>...</th>\n      <td>...</td>\n      <td>...</td>\n      <td>...</td>\n      <td>...</td>\n      <td>...</td>\n      <td>...</td>\n      <td>...</td>\n      <td>...</td>\n      <td>...</td>\n      <td>...</td>\n      <td>...</td>\n      <td>...</td>\n      <td>...</td>\n      <td>...</td>\n      <td>...</td>\n      <td>...</td>\n      <td>...</td>\n      <td>...</td>\n      <td>...</td>\n      <td>...</td>\n      <td>...</td>\n    </tr>\n    <tr>\n      <th>971981</th>\n      <td>0</td>\n      <td>hulunbeier-26</td>\n      <td>beijing-395</td>\n      <td>220208</td>\n      <td>NaN</td>\n      <td>0.0</td>\n      <td>NaN</td>\n      <td>218452</td>\n      <td>1644274800000</td>\n      <td>254</td>\n      <td>...</td>\n      <td>3</td>\n      <td>237</td>\n      <td>18</td>\n      <td>&lt;NA&gt;</td>\n      <td>1</td>\n      <td>329</td>\n      <td>173</td>\n      <td>0</td>\n      <td>1</td>\n      <td>219</td>\n    </tr>\n    <tr>\n      <th>971982</th>\n      <td>0</td>\n      <td>an-527</td>\n      <td>xinyang-203</td>\n      <td>220208</td>\n      <td>NaN</td>\n      <td>0.0</td>\n      <td>NaN</td>\n      <td>218452</td>\n      <td>1644274800000</td>\n      <td>254</td>\n      <td>...</td>\n      <td>4</td>\n      <td>314</td>\n      <td>206</td>\n      <td>15</td>\n      <td>1</td>\n      <td>193</td>\n      <td>0</td>\n      <td>172</td>\n      <td>0</td>\n      <td>108</td>\n    </tr>\n    <tr>\n      <th>971983</th>\n      <td>0</td>\n      <td>yangzhou-160</td>\n      <td>shijiazhuang-156</td>\n      <td>220208</td>\n      <td>NaN</td>\n      <td>0.0</td>\n      <td>NaN</td>\n      <td>218452</td>\n      <td>1644274800000</td>\n      <td>254</td>\n      <td>...</td>\n      <td>4</td>\n      <td>256</td>\n      <td>172</td>\n      <td>47</td>\n      <td>1</td>\n      <td>236</td>\n      <td>0</td>\n      <td>0</td>\n      <td>2</td>\n      <td>84</td>\n    </tr>\n    <tr>\n      <th>971984</th>\n      <td>0</td>\n      <td>guangzhou-63</td>\n      <td>tianjin-57</td>\n      <td>220208</td>\n      <td>NaN</td>\n      <td>0.0</td>\n      <td>NaN</td>\n      <td>218452</td>\n      <td>1644274800000</td>\n      <td>254</td>\n      <td>...</td>\n      <td>3</td>\n      <td>109</td>\n      <td>401</td>\n      <td>1</td>\n      <td>0</td>\n      <td>149</td>\n      <td>373</td>\n      <td>39</td>\n      <td>1</td>\n      <td>292</td>\n    </tr>\n    <tr>\n      <th>971985</th>\n      <td>0</td>\n      <td>hulunbeier-64</td>\n      <td>guilin-12</td>\n      <td>220208</td>\n      <td>NaN</td>\n      <td>0.0</td>\n      <td>NaN</td>\n      <td>218452</td>\n      <td>1644274800000</td>\n      <td>254</td>\n      <td>...</td>\n      <td>3</td>\n      <td>237</td>\n      <td>135</td>\n      <td>&lt;NA&gt;</td>\n      <td>1</td>\n      <td>45</td>\n      <td>699</td>\n      <td>59</td>\n      <td>1</td>\n      <td>102</td>\n    </tr>\n  </tbody>\n</table>\n<p>971986 rows × 43 columns</p>\n</div>"
     },
     "execution_count": 58,
     "metadata": {},
     "output_type": "execute_result"
    }
   ],
   "source": [
    "china_rem['age_difference'] = abs(\n",
    "    china_rem['referee_age'] - china_rem['referral_age']).astype('Int64')\n",
    "china_rem['gender_difference'] = abs(\n",
    "    china_rem['referee_gender'] - china_rem['referral_gender']).astype('Int64')\n",
    "china_rem['residency_difference'] = abs(\n",
    "    china_rem['referee_residency'] - china_rem['referral_residency']).astype('Int64')\n",
    "china_rem['place_event_difference'] = abs(\n",
    "    china_rem['referee_place_event'] - china_rem['referral_place_event']).astype('Int64')\n",
    "china_rem['symptom_difference'] = abs(\n",
    "    china_rem['referee_symptom'] - china_rem['referral_symptom']).astype('Int64')\n",
    "china_rem['symptom_severity_difference'] = abs(\n",
    "    china_rem['referee_symptom_severity'] - china_rem['referral_symptom_severity']).astype('Int64')\n",
    "china_rem['place_admission_difference'] = abs(\n",
    "    china_rem['referee_place_admission'] - china_rem['referral_place_admission']).astype('Int64')\n",
    "china_rem"
   ],
   "metadata": {
    "collapsed": false,
    "pycharm": {
     "name": "#%%\n"
    }
   }
  },
  {
   "cell_type": "code",
   "execution_count": 59,
   "outputs": [],
   "source": [
    "china_rem['residency_difference'] = china_rem['residency_difference'].where(china_rem['residency_difference'] == 0, 1)\n",
    "china_rem['place_event_difference'] = china_rem['place_event_difference'].where(china_rem['place_event_difference'] == 0, 1)\n",
    "china_rem['symptom_difference'] = china_rem['symptom_difference'].where(china_rem['symptom_difference'] == 0, 1)\n",
    "china_rem['symptom_severity_difference'] = china_rem['symptom_severity_difference'].where(china_rem['symptom_severity_difference'] == 0, 1)\n",
    "china_rem['place_admission_difference'] = china_rem['place_admission_difference'].where(china_rem['place_admission_difference'] == 0, 1)"
   ],
   "metadata": {
    "collapsed": false,
    "pycharm": {
     "name": "#%%\n"
    }
   }
  },
  {
   "cell_type": "code",
   "execution_count": 60,
   "outputs": [],
   "source": [
    "china_rem.to_csv('../Data/Tables/rem/china_eventlist_nomination.csv')"
   ],
   "metadata": {
    "collapsed": false,
    "pycharm": {
     "name": "#%%\n"
    }
   }
  },
  {
   "cell_type": "markdown",
   "source": [
    "## Cond referee"
   ],
   "metadata": {
    "collapsed": false,
    "pycharm": {
     "name": "#%% md\n"
    }
   }
  },
  {
   "cell_type": "code",
   "execution_count": 61,
   "outputs": [],
   "source": [
    "china_rem_cond_referee = pd.read_csv('../Data/Tables/rem/china_eventlist_nomination_cond_referee.csv',\n",
    "                                          low_memory=False)"
   ],
   "metadata": {
    "collapsed": false,
    "pycharm": {
     "name": "#%%\n"
    }
   }
  },
  {
   "cell_type": "code",
   "execution_count": 62,
   "outputs": [],
   "source": [
    "china_rem_cond_referee['referee_age'] = china_rem_cond_referee['referee_age'].where(\n",
    "    china_rem_cond_referee['referee_age'] != -1, np.nan).astype('Int64')\n",
    "china_rem_cond_referee['referral_age'] = china_rem_cond_referee['referral_age'].where(\n",
    "    china_rem_cond_referee['referral_age'] != -1, np.nan).astype('Int64')\n",
    "\n",
    "china_rem_cond_referee['referee_gender'] = china_rem_cond_referee['referee_gender'].where(\n",
    "    china_rem_cond_referee['referee_gender'] != -1, np.nan).astype('Int64')\n",
    "china_rem_cond_referee['referral_gender'] = china_rem_cond_referee['referral_gender'].where(\n",
    "    china_rem_cond_referee['referral_gender'] != -1, np.nan).astype('Int64')\n",
    "\n",
    "china_rem_cond_referee['referee_residency'] = china_rem_cond_referee['referee_residency'].where(\n",
    "    china_rem_cond_referee['referee_residency'] != -1, np.nan).astype('Int64')\n",
    "china_rem_cond_referee['referral_residency'] = china_rem_cond_referee['referral_residency'].where(\n",
    "    china_rem_cond_referee['referral_residency'] != -1, np.nan).astype('Int64')\n",
    "\n",
    "china_rem_cond_referee['referee_place_event'] = china_rem_cond_referee['referee_place_event'].where(\n",
    "    china_rem_cond_referee['referee_place_event'] != -1, np.nan).astype('Int64')\n",
    "china_rem_cond_referee['referral_place_event'] = china_rem_cond_referee['referral_place_event'].where(\n",
    "    china_rem_cond_referee['referral_place_event'] != -1, np.nan).astype('Int64')\n",
    "\n",
    "china_rem_cond_referee['referee_symptom'] = china_rem_cond_referee['referee_symptom'].where(\n",
    "    china_rem_cond_referee['referee_symptom'] != -1, np.nan).astype('Int64')\n",
    "china_rem_cond_referee['referral_symptom'] = china_rem_cond_referee['referral_symptom'].where(\n",
    "    china_rem_cond_referee['referral_symptom'] != -1, np.nan).astype('Int64')\n",
    "\n",
    "china_rem_cond_referee['referee_symptom_severity'] = china_rem_cond_referee['referee_symptom_severity'].where(\n",
    "    china_rem_cond_referee['referee_symptom_severity'] != -1, np.nan).astype('Int64')\n",
    "china_rem_cond_referee['referral_symptom_severity'] = china_rem_cond_referee['referral_symptom_severity'].where(\n",
    "    china_rem_cond_referee['referral_symptom_severity'] != -1, np.nan).astype('Int64')\n",
    "\n",
    "china_rem_cond_referee['referee_place_admission'] = china_rem_cond_referee['referee_place_admission'].where(\n",
    "    china_rem_cond_referee['referee_place_admission'] != -1, np.nan).astype('Int64')\n",
    "china_rem_cond_referee['referral_place_admission'] = china_rem_cond_referee['referral_place_admission'].where(\n",
    "    china_rem_cond_referee['referral_place_admission'] != -1, np.nan).astype('Int64')"
   ],
   "metadata": {
    "collapsed": false,
    "pycharm": {
     "name": "#%%\n"
    }
   }
  },
  {
   "cell_type": "code",
   "execution_count": 63,
   "outputs": [
    {
     "data": {
      "text/plain": "        IS_OBSERVED            SOURCE            TARGET    TIME  \\\n0                 1  shijiazhuang-155  shijiazhuang-176  200109   \n1                 1  shijiazhuang-155  shijiazhuang-156  200109   \n2                 1  shijiazhuang-150   shijiazhuang-38  200109   \n3                 1  shijiazhuang-150  shijiazhuang-151  200109   \n4                 1  shijiazhuang-145  shijiazhuang-146  200109   \n...             ...               ...               ...     ...   \n971994            0       yangzhou-68      shanghai-438  220208   \n971995            0       yangzhou-68    mudanjiang-135  220208   \n971996            0       yangzhou-68           xinyu-5  220208   \n971997            0       yangzhou-68      changzhou-31  220208   \n971998            0       yangzhou-68         beijing-3  220208   \n\n                      TYPE  WEIGHT  EVENT_INTERVAL_ID   EVENT   INTEGER_TIME  \\\n0       contact_nomination     1.0                0.0  207017  1578524400000   \n1       contact_nomination     1.0                0.0  207018  1578524400000   \n2       contact_nomination     1.0                1.0  207019  1578524400000   \n3       contact_nomination     1.0                1.0  207020  1578524400000   \n4       contact_nomination     1.0                2.0  207021  1578524400000   \n...                    ...     ...                ...     ...            ...   \n971994                 NaN     0.0                NaN  218452  1644274800000   \n971995                 NaN     0.0                NaN  218452  1644274800000   \n971996                 NaN     0.0                NaN  218452  1644274800000   \n971997                 NaN     0.0                NaN  218452  1644274800000   \n971998                 NaN     0.0                NaN  218452  1644274800000   \n\n        TIME_POINT  ...  referral_symptom_severity  referee_place_admission  \\\n0                2  ...                          4                      172   \n1                2  ...                          4                      172   \n2                2  ...                          4                      172   \n3                2  ...                          4                      172   \n4                2  ...                          4                      172   \n...            ...  ...                        ...                      ...   \n971994         254  ...                          4                      256   \n971995         254  ...                          4                      256   \n971996         254  ...                          3                      256   \n971997         254  ...                          3                      256   \n971998         254  ...                          4                      256   \n\n        referral_place_admission  age_difference  gender_difference  \\\n0                            172              32                  1   \n1                            172               6                  0   \n2                            172              52                  0   \n3                            172              30                  0   \n4                            172              37                  0   \n...                          ...             ...                ...   \n971994                       339            <NA>                  2   \n971995                       185              55                  1   \n971996                       263              32                  1   \n971997                       245              26                  0   \n971998                        18              23                  1   \n\n        residency_difference  place_event_difference  symptom_difference  \\\n0                          0                     617                  41   \n1                          0                       0                   0   \n2                          0                      44                   0   \n3                          0                     246                   0   \n4                          0                       9                   0   \n...                      ...                     ...                 ...   \n971994                   204                     697                   0   \n971995                   300                       0                   0   \n971996                   162                     764                   0   \n971997                   105                       0                   0   \n971998                   443                     760                  38   \n\n        symptom_severity_difference  place_admission_difference  \n0                                 0                           0  \n1                                 0                           0  \n2                                 0                           0  \n3                                 0                           0  \n4                                 0                           0  \n...                             ...                         ...  \n971994                            4                          83  \n971995                            4                          71  \n971996                            3                           7  \n971997                            3                          11  \n971998                            4                         238  \n\n[971999 rows x 43 columns]",
      "text/html": "<div>\n<style scoped>\n    .dataframe tbody tr th:only-of-type {\n        vertical-align: middle;\n    }\n\n    .dataframe tbody tr th {\n        vertical-align: top;\n    }\n\n    .dataframe thead th {\n        text-align: right;\n    }\n</style>\n<table border=\"1\" class=\"dataframe\">\n  <thead>\n    <tr style=\"text-align: right;\">\n      <th></th>\n      <th>IS_OBSERVED</th>\n      <th>SOURCE</th>\n      <th>TARGET</th>\n      <th>TIME</th>\n      <th>TYPE</th>\n      <th>WEIGHT</th>\n      <th>EVENT_INTERVAL_ID</th>\n      <th>EVENT</th>\n      <th>INTEGER_TIME</th>\n      <th>TIME_POINT</th>\n      <th>...</th>\n      <th>referral_symptom_severity</th>\n      <th>referee_place_admission</th>\n      <th>referral_place_admission</th>\n      <th>age_difference</th>\n      <th>gender_difference</th>\n      <th>residency_difference</th>\n      <th>place_event_difference</th>\n      <th>symptom_difference</th>\n      <th>symptom_severity_difference</th>\n      <th>place_admission_difference</th>\n    </tr>\n  </thead>\n  <tbody>\n    <tr>\n      <th>0</th>\n      <td>1</td>\n      <td>shijiazhuang-155</td>\n      <td>shijiazhuang-176</td>\n      <td>200109</td>\n      <td>contact_nomination</td>\n      <td>1.0</td>\n      <td>0.0</td>\n      <td>207017</td>\n      <td>1578524400000</td>\n      <td>2</td>\n      <td>...</td>\n      <td>4</td>\n      <td>172</td>\n      <td>172</td>\n      <td>32</td>\n      <td>1</td>\n      <td>0</td>\n      <td>617</td>\n      <td>41</td>\n      <td>0</td>\n      <td>0</td>\n    </tr>\n    <tr>\n      <th>1</th>\n      <td>1</td>\n      <td>shijiazhuang-155</td>\n      <td>shijiazhuang-156</td>\n      <td>200109</td>\n      <td>contact_nomination</td>\n      <td>1.0</td>\n      <td>0.0</td>\n      <td>207018</td>\n      <td>1578524400000</td>\n      <td>2</td>\n      <td>...</td>\n      <td>4</td>\n      <td>172</td>\n      <td>172</td>\n      <td>6</td>\n      <td>0</td>\n      <td>0</td>\n      <td>0</td>\n      <td>0</td>\n      <td>0</td>\n      <td>0</td>\n    </tr>\n    <tr>\n      <th>2</th>\n      <td>1</td>\n      <td>shijiazhuang-150</td>\n      <td>shijiazhuang-38</td>\n      <td>200109</td>\n      <td>contact_nomination</td>\n      <td>1.0</td>\n      <td>1.0</td>\n      <td>207019</td>\n      <td>1578524400000</td>\n      <td>2</td>\n      <td>...</td>\n      <td>4</td>\n      <td>172</td>\n      <td>172</td>\n      <td>52</td>\n      <td>0</td>\n      <td>0</td>\n      <td>44</td>\n      <td>0</td>\n      <td>0</td>\n      <td>0</td>\n    </tr>\n    <tr>\n      <th>3</th>\n      <td>1</td>\n      <td>shijiazhuang-150</td>\n      <td>shijiazhuang-151</td>\n      <td>200109</td>\n      <td>contact_nomination</td>\n      <td>1.0</td>\n      <td>1.0</td>\n      <td>207020</td>\n      <td>1578524400000</td>\n      <td>2</td>\n      <td>...</td>\n      <td>4</td>\n      <td>172</td>\n      <td>172</td>\n      <td>30</td>\n      <td>0</td>\n      <td>0</td>\n      <td>246</td>\n      <td>0</td>\n      <td>0</td>\n      <td>0</td>\n    </tr>\n    <tr>\n      <th>4</th>\n      <td>1</td>\n      <td>shijiazhuang-145</td>\n      <td>shijiazhuang-146</td>\n      <td>200109</td>\n      <td>contact_nomination</td>\n      <td>1.0</td>\n      <td>2.0</td>\n      <td>207021</td>\n      <td>1578524400000</td>\n      <td>2</td>\n      <td>...</td>\n      <td>4</td>\n      <td>172</td>\n      <td>172</td>\n      <td>37</td>\n      <td>0</td>\n      <td>0</td>\n      <td>9</td>\n      <td>0</td>\n      <td>0</td>\n      <td>0</td>\n    </tr>\n    <tr>\n      <th>...</th>\n      <td>...</td>\n      <td>...</td>\n      <td>...</td>\n      <td>...</td>\n      <td>...</td>\n      <td>...</td>\n      <td>...</td>\n      <td>...</td>\n      <td>...</td>\n      <td>...</td>\n      <td>...</td>\n      <td>...</td>\n      <td>...</td>\n      <td>...</td>\n      <td>...</td>\n      <td>...</td>\n      <td>...</td>\n      <td>...</td>\n      <td>...</td>\n      <td>...</td>\n      <td>...</td>\n    </tr>\n    <tr>\n      <th>971994</th>\n      <td>0</td>\n      <td>yangzhou-68</td>\n      <td>shanghai-438</td>\n      <td>220208</td>\n      <td>NaN</td>\n      <td>0.0</td>\n      <td>NaN</td>\n      <td>218452</td>\n      <td>1644274800000</td>\n      <td>254</td>\n      <td>...</td>\n      <td>4</td>\n      <td>256</td>\n      <td>339</td>\n      <td>&lt;NA&gt;</td>\n      <td>2</td>\n      <td>204</td>\n      <td>697</td>\n      <td>0</td>\n      <td>4</td>\n      <td>83</td>\n    </tr>\n    <tr>\n      <th>971995</th>\n      <td>0</td>\n      <td>yangzhou-68</td>\n      <td>mudanjiang-135</td>\n      <td>220208</td>\n      <td>NaN</td>\n      <td>0.0</td>\n      <td>NaN</td>\n      <td>218452</td>\n      <td>1644274800000</td>\n      <td>254</td>\n      <td>...</td>\n      <td>4</td>\n      <td>256</td>\n      <td>185</td>\n      <td>55</td>\n      <td>1</td>\n      <td>300</td>\n      <td>0</td>\n      <td>0</td>\n      <td>4</td>\n      <td>71</td>\n    </tr>\n    <tr>\n      <th>971996</th>\n      <td>0</td>\n      <td>yangzhou-68</td>\n      <td>xinyu-5</td>\n      <td>220208</td>\n      <td>NaN</td>\n      <td>0.0</td>\n      <td>NaN</td>\n      <td>218452</td>\n      <td>1644274800000</td>\n      <td>254</td>\n      <td>...</td>\n      <td>3</td>\n      <td>256</td>\n      <td>263</td>\n      <td>32</td>\n      <td>1</td>\n      <td>162</td>\n      <td>764</td>\n      <td>0</td>\n      <td>3</td>\n      <td>7</td>\n    </tr>\n    <tr>\n      <th>971997</th>\n      <td>0</td>\n      <td>yangzhou-68</td>\n      <td>changzhou-31</td>\n      <td>220208</td>\n      <td>NaN</td>\n      <td>0.0</td>\n      <td>NaN</td>\n      <td>218452</td>\n      <td>1644274800000</td>\n      <td>254</td>\n      <td>...</td>\n      <td>3</td>\n      <td>256</td>\n      <td>245</td>\n      <td>26</td>\n      <td>0</td>\n      <td>105</td>\n      <td>0</td>\n      <td>0</td>\n      <td>3</td>\n      <td>11</td>\n    </tr>\n    <tr>\n      <th>971998</th>\n      <td>0</td>\n      <td>yangzhou-68</td>\n      <td>beijing-3</td>\n      <td>220208</td>\n      <td>NaN</td>\n      <td>0.0</td>\n      <td>NaN</td>\n      <td>218452</td>\n      <td>1644274800000</td>\n      <td>254</td>\n      <td>...</td>\n      <td>4</td>\n      <td>256</td>\n      <td>18</td>\n      <td>23</td>\n      <td>1</td>\n      <td>443</td>\n      <td>760</td>\n      <td>38</td>\n      <td>4</td>\n      <td>238</td>\n    </tr>\n  </tbody>\n</table>\n<p>971999 rows × 43 columns</p>\n</div>"
     },
     "execution_count": 63,
     "metadata": {},
     "output_type": "execute_result"
    }
   ],
   "source": [
    "china_rem_cond_referee['age_difference'] = abs(\n",
    "    china_rem_cond_referee['referee_age'] - china_rem_cond_referee['referral_age']).astype('Int64')\n",
    "china_rem_cond_referee['gender_difference'] = abs(\n",
    "    china_rem_cond_referee['referee_gender'] - china_rem_cond_referee['referral_gender']).astype('Int64')\n",
    "china_rem_cond_referee['residency_difference'] = abs(\n",
    "    china_rem_cond_referee['referee_residency'] - china_rem_cond_referee['referral_residency']).astype('Int64')\n",
    "china_rem_cond_referee['place_event_difference'] = abs(\n",
    "    china_rem_cond_referee['referee_place_event'] - china_rem_cond_referee['referral_place_event']).astype('Int64')\n",
    "china_rem_cond_referee['symptom_difference'] = abs(\n",
    "    china_rem_cond_referee['referee_symptom'] - china_rem_cond_referee['referral_symptom']).astype('Int64')\n",
    "china_rem_cond_referee['symptom_severity_difference'] = abs(\n",
    "    china_rem_cond_referee['referee_symptom_severity'] - china_rem_cond_referee['referral_symptom_severity']).astype('Int64')\n",
    "china_rem_cond_referee['place_admission_difference'] = abs(\n",
    "    china_rem_cond_referee['referee_place_admission'] - china_rem_cond_referee['referral_place_admission']).astype('Int64')\n",
    "china_rem_cond_referee"
   ],
   "metadata": {
    "collapsed": false,
    "pycharm": {
     "name": "#%%\n"
    }
   }
  },
  {
   "cell_type": "code",
   "execution_count": 64,
   "outputs": [],
   "source": [
    "china_rem_cond_referee['residency_difference'] = china_rem_cond_referee['residency_difference'].where(china_rem_cond_referee['residency_difference'] == 0, 1)\n",
    "china_rem_cond_referee['place_event_difference'] = china_rem_cond_referee['place_event_difference'].where(china_rem_cond_referee['place_event_difference'] == 0, 1)\n",
    "china_rem_cond_referee['symptom_difference'] = china_rem_cond_referee['symptom_difference'].where(china_rem_cond_referee['symptom_difference'] == 0, 1)\n",
    "china_rem_cond_referee['symptom_severity_difference'] = china_rem_cond_referee['symptom_severity_difference'].where(china_rem_cond_referee['symptom_severity_difference'] == 0, 1)\n",
    "china_rem_cond_referee['place_admission_difference'] = china_rem_cond_referee['place_admission_difference'].where(china_rem_cond_referee['place_admission_difference'] == 0, 1)"
   ],
   "metadata": {
    "collapsed": false,
    "pycharm": {
     "name": "#%%\n"
    }
   }
  },
  {
   "cell_type": "code",
   "execution_count": 65,
   "outputs": [],
   "source": [
    "china_rem_cond_referee.to_csv('../Data/Tables/rem/china_eventlist_nomination_cond_referee.csv')"
   ],
   "metadata": {
    "collapsed": false,
    "pycharm": {
     "name": "#%%\n"
    }
   }
  },
  {
   "cell_type": "markdown",
   "source": [
    "## Cond referral"
   ],
   "metadata": {
    "collapsed": false,
    "pycharm": {
     "name": "#%% md\n"
    }
   }
  },
  {
   "cell_type": "code",
   "execution_count": 66,
   "outputs": [],
   "source": [
    "china_rem_cond_referral = pd.read_csv('../Data/Tables/rem/china_eventlist_nomination_cond_referral.csv',\n",
    "                                          low_memory=False)"
   ],
   "metadata": {
    "collapsed": false,
    "pycharm": {
     "name": "#%%\n"
    }
   }
  },
  {
   "cell_type": "code",
   "execution_count": 67,
   "outputs": [],
   "source": [
    "china_rem_cond_referral['referee_age'] = china_rem_cond_referral['referee_age'].where(\n",
    "    china_rem_cond_referral['referee_age'] != -1, np.nan).astype('Int64')\n",
    "china_rem_cond_referral['referral_age'] = china_rem_cond_referral['referral_age'].where(\n",
    "    china_rem_cond_referral['referral_age'] != -1, np.nan).astype('Int64')\n",
    "\n",
    "china_rem_cond_referral['referee_gender'] = china_rem_cond_referral['referee_gender'].where(\n",
    "    china_rem_cond_referral['referee_gender'] != -1, np.nan).astype('Int64')\n",
    "china_rem_cond_referral['referral_gender'] = china_rem_cond_referral['referral_gender'].where(\n",
    "    china_rem_cond_referral['referral_gender'] != -1, np.nan).astype('Int64')\n",
    "\n",
    "china_rem_cond_referral['referee_residency'] = china_rem_cond_referral['referee_residency'].where(\n",
    "    china_rem_cond_referral['referee_residency'] != -1, np.nan).astype('Int64')\n",
    "china_rem_cond_referral['referral_residency'] = china_rem_cond_referral['referral_residency'].where(\n",
    "    china_rem_cond_referral['referral_residency'] != -1, np.nan).astype('Int64')\n",
    "\n",
    "china_rem_cond_referral['referee_place_event'] = china_rem_cond_referral['referee_place_event'].where(\n",
    "    china_rem_cond_referral['referee_place_event'] != -1, np.nan).astype('Int64')\n",
    "china_rem_cond_referral['referral_place_event'] = china_rem_cond_referral['referral_place_event'].where(\n",
    "    china_rem_cond_referral['referral_place_event'] != -1, np.nan).astype('Int64')\n",
    "\n",
    "china_rem_cond_referral['referee_symptom'] = china_rem_cond_referral['referee_symptom'].where(\n",
    "    china_rem_cond_referral['referee_symptom'] != -1, np.nan).astype('Int64')\n",
    "china_rem_cond_referral['referral_symptom'] = china_rem_cond_referral['referral_symptom'].where(\n",
    "    china_rem_cond_referral['referral_symptom'] != -1, np.nan).astype('Int64')\n",
    "\n",
    "china_rem_cond_referral['referee_symptom_severity'] = china_rem_cond_referral['referee_symptom_severity'].where(\n",
    "    china_rem_cond_referral['referee_symptom_severity'] != -1, np.nan).astype('Int64')\n",
    "china_rem_cond_referral['referral_symptom_severity'] = china_rem_cond_referral['referral_symptom_severity'].where(\n",
    "    china_rem_cond_referral['referral_symptom_severity'] != -1, np.nan).astype('Int64')\n",
    "\n",
    "china_rem_cond_referral['referee_place_admission'] = china_rem_cond_referral['referee_place_admission'].where(\n",
    "    china_rem_cond_referral['referee_place_admission'] != -1, np.nan).astype('Int64')\n",
    "china_rem_cond_referral['referral_place_admission'] = china_rem_cond_referral['referral_place_admission'].where(\n",
    "    china_rem_cond_referral['referral_place_admission'] != -1, np.nan).astype('Int64')"
   ],
   "metadata": {
    "collapsed": false,
    "pycharm": {
     "name": "#%%\n"
    }
   }
  },
  {
   "cell_type": "code",
   "execution_count": 68,
   "outputs": [
    {
     "data": {
      "text/plain": "        IS_OBSERVED            SOURCE            TARGET    TIME  \\\n0                 1  shijiazhuang-155  shijiazhuang-176  200109   \n1                 1  shijiazhuang-155  shijiazhuang-156  200109   \n2                 1  shijiazhuang-150   shijiazhuang-38  200109   \n3                 1  shijiazhuang-150  shijiazhuang-151  200109   \n4                 1  shijiazhuang-145  shijiazhuang-146  200109   \n...             ...               ...               ...     ...   \n971988            0          luohe-28       yangzhou-76  220208   \n971989            0     zhengzhou-165       yangzhou-76  220208   \n971990            0       kunming-164       yangzhou-76  220208   \n971991            0       xuchang-148       yangzhou-76  220208   \n971992            0          alxa-152       yangzhou-76  220208   \n\n                      TYPE  WEIGHT  EVENT_INTERVAL_ID   EVENT   INTEGER_TIME  \\\n0       contact_nomination     1.0                0.0  207017  1578524400000   \n1       contact_nomination     1.0                0.0  207018  1578524400000   \n2       contact_nomination     1.0                1.0  207019  1578524400000   \n3       contact_nomination     1.0                1.0  207020  1578524400000   \n4       contact_nomination     1.0                2.0  207021  1578524400000   \n...                    ...     ...                ...     ...            ...   \n971988                 NaN     0.0                NaN  218452  1644274800000   \n971989                 NaN     0.0                NaN  218452  1644274800000   \n971990                 NaN     0.0                NaN  218452  1644274800000   \n971991                 NaN     0.0                NaN  218452  1644274800000   \n971992                 NaN     0.0                NaN  218452  1644274800000   \n\n        TIME_POINT  ...  referral_symptom_severity  referee_place_admission  \\\n0                2  ...                          4                      172   \n1                2  ...                          4                      172   \n2                2  ...                          4                      172   \n3                2  ...                          4                      172   \n4                2  ...                          4                      172   \n...            ...  ...                        ...                      ...   \n971988         254  ...                          0                      198   \n971989         254  ...                          0                      472   \n971990         254  ...                          0                      450   \n971991         254  ...                          0                      207   \n971992         254  ...                          0                      231   \n\n        referral_place_admission  age_difference  gender_difference  \\\n0                            172              32                  1   \n1                            172               6                  0   \n2                            172              52                  0   \n3                            172              30                  0   \n4                            172              37                  0   \n...                          ...             ...                ...   \n971988                       256              56                  0   \n971989                       256            <NA>                  1   \n971990                       256              29                  0   \n971991                       256              18                  1   \n971992                       256               3                  0   \n\n        residency_difference  place_event_difference  symptom_difference  \\\n0                          0                     617                  41   \n1                          0                       0                   0   \n2                          0                      44                   0   \n3                          0                     246                   0   \n4                          0                       9                   0   \n...                      ...                     ...                 ...   \n971988                   202                       0                   0   \n971989                   283                    1108                   0   \n971990                     0                     519                   0   \n971991                   192                     357                   0   \n971992                   126                       0                   0   \n\n        symptom_severity_difference  place_admission_difference  \n0                                 0                           0  \n1                                 0                           0  \n2                                 0                           0  \n3                                 0                           0  \n4                                 0                           0  \n...                             ...                         ...  \n971988                            4                          58  \n971989                            4                         216  \n971990                            4                         194  \n971991                            4                          49  \n971992                            4                          25  \n\n[971993 rows x 43 columns]",
      "text/html": "<div>\n<style scoped>\n    .dataframe tbody tr th:only-of-type {\n        vertical-align: middle;\n    }\n\n    .dataframe tbody tr th {\n        vertical-align: top;\n    }\n\n    .dataframe thead th {\n        text-align: right;\n    }\n</style>\n<table border=\"1\" class=\"dataframe\">\n  <thead>\n    <tr style=\"text-align: right;\">\n      <th></th>\n      <th>IS_OBSERVED</th>\n      <th>SOURCE</th>\n      <th>TARGET</th>\n      <th>TIME</th>\n      <th>TYPE</th>\n      <th>WEIGHT</th>\n      <th>EVENT_INTERVAL_ID</th>\n      <th>EVENT</th>\n      <th>INTEGER_TIME</th>\n      <th>TIME_POINT</th>\n      <th>...</th>\n      <th>referral_symptom_severity</th>\n      <th>referee_place_admission</th>\n      <th>referral_place_admission</th>\n      <th>age_difference</th>\n      <th>gender_difference</th>\n      <th>residency_difference</th>\n      <th>place_event_difference</th>\n      <th>symptom_difference</th>\n      <th>symptom_severity_difference</th>\n      <th>place_admission_difference</th>\n    </tr>\n  </thead>\n  <tbody>\n    <tr>\n      <th>0</th>\n      <td>1</td>\n      <td>shijiazhuang-155</td>\n      <td>shijiazhuang-176</td>\n      <td>200109</td>\n      <td>contact_nomination</td>\n      <td>1.0</td>\n      <td>0.0</td>\n      <td>207017</td>\n      <td>1578524400000</td>\n      <td>2</td>\n      <td>...</td>\n      <td>4</td>\n      <td>172</td>\n      <td>172</td>\n      <td>32</td>\n      <td>1</td>\n      <td>0</td>\n      <td>617</td>\n      <td>41</td>\n      <td>0</td>\n      <td>0</td>\n    </tr>\n    <tr>\n      <th>1</th>\n      <td>1</td>\n      <td>shijiazhuang-155</td>\n      <td>shijiazhuang-156</td>\n      <td>200109</td>\n      <td>contact_nomination</td>\n      <td>1.0</td>\n      <td>0.0</td>\n      <td>207018</td>\n      <td>1578524400000</td>\n      <td>2</td>\n      <td>...</td>\n      <td>4</td>\n      <td>172</td>\n      <td>172</td>\n      <td>6</td>\n      <td>0</td>\n      <td>0</td>\n      <td>0</td>\n      <td>0</td>\n      <td>0</td>\n      <td>0</td>\n    </tr>\n    <tr>\n      <th>2</th>\n      <td>1</td>\n      <td>shijiazhuang-150</td>\n      <td>shijiazhuang-38</td>\n      <td>200109</td>\n      <td>contact_nomination</td>\n      <td>1.0</td>\n      <td>1.0</td>\n      <td>207019</td>\n      <td>1578524400000</td>\n      <td>2</td>\n      <td>...</td>\n      <td>4</td>\n      <td>172</td>\n      <td>172</td>\n      <td>52</td>\n      <td>0</td>\n      <td>0</td>\n      <td>44</td>\n      <td>0</td>\n      <td>0</td>\n      <td>0</td>\n    </tr>\n    <tr>\n      <th>3</th>\n      <td>1</td>\n      <td>shijiazhuang-150</td>\n      <td>shijiazhuang-151</td>\n      <td>200109</td>\n      <td>contact_nomination</td>\n      <td>1.0</td>\n      <td>1.0</td>\n      <td>207020</td>\n      <td>1578524400000</td>\n      <td>2</td>\n      <td>...</td>\n      <td>4</td>\n      <td>172</td>\n      <td>172</td>\n      <td>30</td>\n      <td>0</td>\n      <td>0</td>\n      <td>246</td>\n      <td>0</td>\n      <td>0</td>\n      <td>0</td>\n    </tr>\n    <tr>\n      <th>4</th>\n      <td>1</td>\n      <td>shijiazhuang-145</td>\n      <td>shijiazhuang-146</td>\n      <td>200109</td>\n      <td>contact_nomination</td>\n      <td>1.0</td>\n      <td>2.0</td>\n      <td>207021</td>\n      <td>1578524400000</td>\n      <td>2</td>\n      <td>...</td>\n      <td>4</td>\n      <td>172</td>\n      <td>172</td>\n      <td>37</td>\n      <td>0</td>\n      <td>0</td>\n      <td>9</td>\n      <td>0</td>\n      <td>0</td>\n      <td>0</td>\n    </tr>\n    <tr>\n      <th>...</th>\n      <td>...</td>\n      <td>...</td>\n      <td>...</td>\n      <td>...</td>\n      <td>...</td>\n      <td>...</td>\n      <td>...</td>\n      <td>...</td>\n      <td>...</td>\n      <td>...</td>\n      <td>...</td>\n      <td>...</td>\n      <td>...</td>\n      <td>...</td>\n      <td>...</td>\n      <td>...</td>\n      <td>...</td>\n      <td>...</td>\n      <td>...</td>\n      <td>...</td>\n      <td>...</td>\n    </tr>\n    <tr>\n      <th>971988</th>\n      <td>0</td>\n      <td>luohe-28</td>\n      <td>yangzhou-76</td>\n      <td>220208</td>\n      <td>NaN</td>\n      <td>0.0</td>\n      <td>NaN</td>\n      <td>218452</td>\n      <td>1644274800000</td>\n      <td>254</td>\n      <td>...</td>\n      <td>0</td>\n      <td>198</td>\n      <td>256</td>\n      <td>56</td>\n      <td>0</td>\n      <td>202</td>\n      <td>0</td>\n      <td>0</td>\n      <td>4</td>\n      <td>58</td>\n    </tr>\n    <tr>\n      <th>971989</th>\n      <td>0</td>\n      <td>zhengzhou-165</td>\n      <td>yangzhou-76</td>\n      <td>220208</td>\n      <td>NaN</td>\n      <td>0.0</td>\n      <td>NaN</td>\n      <td>218452</td>\n      <td>1644274800000</td>\n      <td>254</td>\n      <td>...</td>\n      <td>0</td>\n      <td>472</td>\n      <td>256</td>\n      <td>&lt;NA&gt;</td>\n      <td>1</td>\n      <td>283</td>\n      <td>1108</td>\n      <td>0</td>\n      <td>4</td>\n      <td>216</td>\n    </tr>\n    <tr>\n      <th>971990</th>\n      <td>0</td>\n      <td>kunming-164</td>\n      <td>yangzhou-76</td>\n      <td>220208</td>\n      <td>NaN</td>\n      <td>0.0</td>\n      <td>NaN</td>\n      <td>218452</td>\n      <td>1644274800000</td>\n      <td>254</td>\n      <td>...</td>\n      <td>0</td>\n      <td>450</td>\n      <td>256</td>\n      <td>29</td>\n      <td>0</td>\n      <td>0</td>\n      <td>519</td>\n      <td>0</td>\n      <td>4</td>\n      <td>194</td>\n    </tr>\n    <tr>\n      <th>971991</th>\n      <td>0</td>\n      <td>xuchang-148</td>\n      <td>yangzhou-76</td>\n      <td>220208</td>\n      <td>NaN</td>\n      <td>0.0</td>\n      <td>NaN</td>\n      <td>218452</td>\n      <td>1644274800000</td>\n      <td>254</td>\n      <td>...</td>\n      <td>0</td>\n      <td>207</td>\n      <td>256</td>\n      <td>18</td>\n      <td>1</td>\n      <td>192</td>\n      <td>357</td>\n      <td>0</td>\n      <td>4</td>\n      <td>49</td>\n    </tr>\n    <tr>\n      <th>971992</th>\n      <td>0</td>\n      <td>alxa-152</td>\n      <td>yangzhou-76</td>\n      <td>220208</td>\n      <td>NaN</td>\n      <td>0.0</td>\n      <td>NaN</td>\n      <td>218452</td>\n      <td>1644274800000</td>\n      <td>254</td>\n      <td>...</td>\n      <td>0</td>\n      <td>231</td>\n      <td>256</td>\n      <td>3</td>\n      <td>0</td>\n      <td>126</td>\n      <td>0</td>\n      <td>0</td>\n      <td>4</td>\n      <td>25</td>\n    </tr>\n  </tbody>\n</table>\n<p>971993 rows × 43 columns</p>\n</div>"
     },
     "execution_count": 68,
     "metadata": {},
     "output_type": "execute_result"
    }
   ],
   "source": [
    "china_rem_cond_referral['age_difference'] = abs(\n",
    "    china_rem_cond_referral['referee_age'] - china_rem_cond_referral['referral_age']).astype('Int64')\n",
    "china_rem_cond_referral['gender_difference'] = abs(\n",
    "    china_rem_cond_referral['referee_gender'] - china_rem_cond_referral['referral_gender']).astype('Int64')\n",
    "china_rem_cond_referral['residency_difference'] = abs(\n",
    "    china_rem_cond_referral['referee_residency'] - china_rem_cond_referral['referral_residency']).astype('Int64')\n",
    "china_rem_cond_referral['place_event_difference'] = abs(\n",
    "    china_rem_cond_referral['referee_place_event'] - china_rem_cond_referral['referral_place_event']).astype('Int64')\n",
    "china_rem_cond_referral['symptom_difference'] = abs(\n",
    "    china_rem_cond_referral['referee_symptom'] - china_rem_cond_referral['referral_symptom']).astype('Int64')\n",
    "china_rem_cond_referral['symptom_severity_difference'] = abs(\n",
    "    china_rem_cond_referral['referee_symptom_severity'] - china_rem_cond_referral['referral_symptom_severity']).astype('Int64')\n",
    "china_rem_cond_referral['place_admission_difference'] = abs(\n",
    "    china_rem_cond_referral['referee_place_admission'] - china_rem_cond_referral['referral_place_admission']).astype('Int64')\n",
    "china_rem_cond_referral"
   ],
   "metadata": {
    "collapsed": false,
    "pycharm": {
     "name": "#%%\n"
    }
   }
  },
  {
   "cell_type": "code",
   "execution_count": 69,
   "outputs": [],
   "source": [
    "china_rem_cond_referral['residency_difference'] = china_rem_cond_referral['residency_difference'].where(china_rem_cond_referral['residency_difference'] == 0, 1)\n",
    "china_rem_cond_referral['place_event_difference'] = china_rem_cond_referral['place_event_difference'].where(china_rem_cond_referral['place_event_difference'] == 0, 1)\n",
    "china_rem_cond_referral['symptom_difference'] = china_rem_cond_referral['symptom_difference'].where(china_rem_cond_referral['symptom_difference'] == 0, 1)\n",
    "china_rem_cond_referral['symptom_severity_difference'] = china_rem_cond_referral['symptom_severity_difference'].where(china_rem_cond_referral['symptom_severity_difference'] == 0, 1)\n",
    "china_rem_cond_referral['place_admission_difference'] = china_rem_cond_referral['place_admission_difference'].where(china_rem_cond_referral['place_admission_difference'] == 0, 1)"
   ],
   "metadata": {
    "collapsed": false,
    "pycharm": {
     "name": "#%%\n"
    }
   }
  },
  {
   "cell_type": "code",
   "execution_count": 70,
   "outputs": [],
   "source": [
    "china_rem_cond_referral.to_csv('../Data/Tables/rem/china_eventlist_nomination_cond_referral.csv')"
   ],
   "metadata": {
    "collapsed": false,
    "pycharm": {
     "name": "#%%\n"
    }
   }
  },
  {
   "cell_type": "code",
   "execution_count": null,
   "outputs": [],
   "source": [],
   "metadata": {
    "collapsed": false,
    "pycharm": {
     "name": "#%%\n"
    }
   }
  }
 ],
 "metadata": {
  "kernelspec": {
   "display_name": "Python 3",
   "language": "python",
   "name": "python3"
  },
  "language_info": {
   "codemirror_mode": {
    "name": "ipython",
    "version": 2
   },
   "file_extension": ".py",
   "mimetype": "text/x-python",
   "name": "python",
   "nbconvert_exporter": "python",
   "pygments_lexer": "ipython2",
   "version": "2.7.6"
  }
 },
 "nbformat": 4,
 "nbformat_minor": 0
}