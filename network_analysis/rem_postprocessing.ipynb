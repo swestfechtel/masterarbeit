{
 "cells": [
  {
   "cell_type": "code",
   "execution_count": 1,
   "outputs": [],
   "source": [
    "import pandas as pd\n",
    "import numpy as np"
   ],
   "metadata": {
    "collapsed": false,
    "pycharm": {
     "name": "#%%\n"
    }
   }
  },
  {
   "cell_type": "markdown",
   "source": [
    "# Yunnan"
   ],
   "metadata": {
    "collapsed": false,
    "pycharm": {
     "name": "#%% md\n"
    }
   }
  },
  {
   "cell_type": "markdown",
   "source": [
    "## Uncond"
   ],
   "metadata": {
    "collapsed": false,
    "pycharm": {
     "name": "#%% md\n"
    }
   }
  },
  {
   "cell_type": "code",
   "execution_count": 13,
   "outputs": [
    {
     "data": {
      "text/plain": "        Unnamed: 0  IS_OBSERVED  SOURCE  TARGET    TIME                TYPE  \\\n0                0            1       1      10  200117  contact_nomination   \n1                1            0     100       7  200117                 NaN   \n2                2            0     100       6  200117                 NaN   \n3                3            0     100       5  200117                 NaN   \n4                4            0     100       4  200117                 NaN   \n...            ...          ...     ...     ...     ...                 ...   \n406975      406975            0      99      94  200216                 NaN   \n406976      406976            0      99      95  200216                 NaN   \n406977      406977            0      99      96  200216                 NaN   \n406978      406978            0      99      97  200216                 NaN   \n406979      406979            0      99      98  200216                 NaN   \n\n        WEIGHT  EVENT_INTERVAL_ID  EVENT   INTEGER_TIME  ...   network_time  \\\n0          1.0                0.0    685  1579215600000  ...              0   \n1          0.0                NaN    685  1579215600000  ...              0   \n2          0.0                NaN    685  1579215600000  ...              0   \n3          0.0                NaN    685  1579215600000  ...              0   \n4          0.0                NaN    685  1579215600000  ...              0   \n...        ...                ...    ...            ...  ...            ...   \n406975     0.0                NaN    788  1581807600000  ...  1581634800000   \n406976     0.0                NaN    788  1581807600000  ...  1581634800000   \n406977     0.0                NaN    788  1581807600000  ...  1581634800000   \n406978     0.0                NaN    788  1581807600000  ...  1581634800000   \n406979     0.0                NaN    788  1581807600000  ...  1581634800000   \n\n        referee_age  referral_age  referee_gender  referral_gender  \\\n0               NaN          63.0             1.0              1.0   \n1              56.0          24.0             1.0              1.0   \n2              56.0          42.0             1.0              0.0   \n3              56.0          49.0             1.0              1.0   \n4              56.0          34.0             1.0              0.0   \n...             ...           ...             ...              ...   \n406975         37.0          70.0             0.0              0.0   \n406976         37.0          53.0             0.0              0.0   \n406977         37.0          72.0             0.0              1.0   \n406978         37.0          45.0             0.0              0.0   \n406979         37.0          62.0             0.0              0.0   \n\n        referee_relatives  referral_relatives  age_difference  \\\n0                     1.0                 NaN             NaN   \n1                     NaN                 NaN            32.0   \n2                     NaN                 NaN            14.0   \n3                     NaN                 NaN             7.0   \n4                     NaN                 NaN            22.0   \n...                   ...                 ...             ...   \n406975                1.0                 NaN            33.0   \n406976                1.0                 1.0            16.0   \n406977                1.0                 1.0            35.0   \n406978                1.0                 NaN             8.0   \n406979                1.0                 1.0            25.0   \n\n        gender_difference  relatives_difference  \n0                     0.0                   NaN  \n1                     0.0                   NaN  \n2                     1.0                   NaN  \n3                     0.0                   NaN  \n4                     1.0                   NaN  \n...                   ...                   ...  \n406975                0.0                   NaN  \n406976                0.0                   0.0  \n406977                1.0                   0.0  \n406978                0.0                   NaN  \n406979                0.0                   0.0  \n\n[406980 rows x 32 columns]",
      "text/html": "<div>\n<style scoped>\n    .dataframe tbody tr th:only-of-type {\n        vertical-align: middle;\n    }\n\n    .dataframe tbody tr th {\n        vertical-align: top;\n    }\n\n    .dataframe thead th {\n        text-align: right;\n    }\n</style>\n<table border=\"1\" class=\"dataframe\">\n  <thead>\n    <tr style=\"text-align: right;\">\n      <th></th>\n      <th>Unnamed: 0</th>\n      <th>IS_OBSERVED</th>\n      <th>SOURCE</th>\n      <th>TARGET</th>\n      <th>TIME</th>\n      <th>TYPE</th>\n      <th>WEIGHT</th>\n      <th>EVENT_INTERVAL_ID</th>\n      <th>EVENT</th>\n      <th>INTEGER_TIME</th>\n      <th>...</th>\n      <th>network_time</th>\n      <th>referee_age</th>\n      <th>referral_age</th>\n      <th>referee_gender</th>\n      <th>referral_gender</th>\n      <th>referee_relatives</th>\n      <th>referral_relatives</th>\n      <th>age_difference</th>\n      <th>gender_difference</th>\n      <th>relatives_difference</th>\n    </tr>\n  </thead>\n  <tbody>\n    <tr>\n      <th>0</th>\n      <td>0</td>\n      <td>1</td>\n      <td>1</td>\n      <td>10</td>\n      <td>200117</td>\n      <td>contact_nomination</td>\n      <td>1.0</td>\n      <td>0.0</td>\n      <td>685</td>\n      <td>1579215600000</td>\n      <td>...</td>\n      <td>0</td>\n      <td>NaN</td>\n      <td>63.0</td>\n      <td>1.0</td>\n      <td>1.0</td>\n      <td>1.0</td>\n      <td>NaN</td>\n      <td>NaN</td>\n      <td>0.0</td>\n      <td>NaN</td>\n    </tr>\n    <tr>\n      <th>1</th>\n      <td>1</td>\n      <td>0</td>\n      <td>100</td>\n      <td>7</td>\n      <td>200117</td>\n      <td>NaN</td>\n      <td>0.0</td>\n      <td>NaN</td>\n      <td>685</td>\n      <td>1579215600000</td>\n      <td>...</td>\n      <td>0</td>\n      <td>56.0</td>\n      <td>24.0</td>\n      <td>1.0</td>\n      <td>1.0</td>\n      <td>NaN</td>\n      <td>NaN</td>\n      <td>32.0</td>\n      <td>0.0</td>\n      <td>NaN</td>\n    </tr>\n    <tr>\n      <th>2</th>\n      <td>2</td>\n      <td>0</td>\n      <td>100</td>\n      <td>6</td>\n      <td>200117</td>\n      <td>NaN</td>\n      <td>0.0</td>\n      <td>NaN</td>\n      <td>685</td>\n      <td>1579215600000</td>\n      <td>...</td>\n      <td>0</td>\n      <td>56.0</td>\n      <td>42.0</td>\n      <td>1.0</td>\n      <td>0.0</td>\n      <td>NaN</td>\n      <td>NaN</td>\n      <td>14.0</td>\n      <td>1.0</td>\n      <td>NaN</td>\n    </tr>\n    <tr>\n      <th>3</th>\n      <td>3</td>\n      <td>0</td>\n      <td>100</td>\n      <td>5</td>\n      <td>200117</td>\n      <td>NaN</td>\n      <td>0.0</td>\n      <td>NaN</td>\n      <td>685</td>\n      <td>1579215600000</td>\n      <td>...</td>\n      <td>0</td>\n      <td>56.0</td>\n      <td>49.0</td>\n      <td>1.0</td>\n      <td>1.0</td>\n      <td>NaN</td>\n      <td>NaN</td>\n      <td>7.0</td>\n      <td>0.0</td>\n      <td>NaN</td>\n    </tr>\n    <tr>\n      <th>4</th>\n      <td>4</td>\n      <td>0</td>\n      <td>100</td>\n      <td>4</td>\n      <td>200117</td>\n      <td>NaN</td>\n      <td>0.0</td>\n      <td>NaN</td>\n      <td>685</td>\n      <td>1579215600000</td>\n      <td>...</td>\n      <td>0</td>\n      <td>56.0</td>\n      <td>34.0</td>\n      <td>1.0</td>\n      <td>0.0</td>\n      <td>NaN</td>\n      <td>NaN</td>\n      <td>22.0</td>\n      <td>1.0</td>\n      <td>NaN</td>\n    </tr>\n    <tr>\n      <th>...</th>\n      <td>...</td>\n      <td>...</td>\n      <td>...</td>\n      <td>...</td>\n      <td>...</td>\n      <td>...</td>\n      <td>...</td>\n      <td>...</td>\n      <td>...</td>\n      <td>...</td>\n      <td>...</td>\n      <td>...</td>\n      <td>...</td>\n      <td>...</td>\n      <td>...</td>\n      <td>...</td>\n      <td>...</td>\n      <td>...</td>\n      <td>...</td>\n      <td>...</td>\n      <td>...</td>\n    </tr>\n    <tr>\n      <th>406975</th>\n      <td>406975</td>\n      <td>0</td>\n      <td>99</td>\n      <td>94</td>\n      <td>200216</td>\n      <td>NaN</td>\n      <td>0.0</td>\n      <td>NaN</td>\n      <td>788</td>\n      <td>1581807600000</td>\n      <td>...</td>\n      <td>1581634800000</td>\n      <td>37.0</td>\n      <td>70.0</td>\n      <td>0.0</td>\n      <td>0.0</td>\n      <td>1.0</td>\n      <td>NaN</td>\n      <td>33.0</td>\n      <td>0.0</td>\n      <td>NaN</td>\n    </tr>\n    <tr>\n      <th>406976</th>\n      <td>406976</td>\n      <td>0</td>\n      <td>99</td>\n      <td>95</td>\n      <td>200216</td>\n      <td>NaN</td>\n      <td>0.0</td>\n      <td>NaN</td>\n      <td>788</td>\n      <td>1581807600000</td>\n      <td>...</td>\n      <td>1581634800000</td>\n      <td>37.0</td>\n      <td>53.0</td>\n      <td>0.0</td>\n      <td>0.0</td>\n      <td>1.0</td>\n      <td>1.0</td>\n      <td>16.0</td>\n      <td>0.0</td>\n      <td>0.0</td>\n    </tr>\n    <tr>\n      <th>406977</th>\n      <td>406977</td>\n      <td>0</td>\n      <td>99</td>\n      <td>96</td>\n      <td>200216</td>\n      <td>NaN</td>\n      <td>0.0</td>\n      <td>NaN</td>\n      <td>788</td>\n      <td>1581807600000</td>\n      <td>...</td>\n      <td>1581634800000</td>\n      <td>37.0</td>\n      <td>72.0</td>\n      <td>0.0</td>\n      <td>1.0</td>\n      <td>1.0</td>\n      <td>1.0</td>\n      <td>35.0</td>\n      <td>1.0</td>\n      <td>0.0</td>\n    </tr>\n    <tr>\n      <th>406978</th>\n      <td>406978</td>\n      <td>0</td>\n      <td>99</td>\n      <td>97</td>\n      <td>200216</td>\n      <td>NaN</td>\n      <td>0.0</td>\n      <td>NaN</td>\n      <td>788</td>\n      <td>1581807600000</td>\n      <td>...</td>\n      <td>1581634800000</td>\n      <td>37.0</td>\n      <td>45.0</td>\n      <td>0.0</td>\n      <td>0.0</td>\n      <td>1.0</td>\n      <td>NaN</td>\n      <td>8.0</td>\n      <td>0.0</td>\n      <td>NaN</td>\n    </tr>\n    <tr>\n      <th>406979</th>\n      <td>406979</td>\n      <td>0</td>\n      <td>99</td>\n      <td>98</td>\n      <td>200216</td>\n      <td>NaN</td>\n      <td>0.0</td>\n      <td>NaN</td>\n      <td>788</td>\n      <td>1581807600000</td>\n      <td>...</td>\n      <td>1581634800000</td>\n      <td>37.0</td>\n      <td>62.0</td>\n      <td>0.0</td>\n      <td>0.0</td>\n      <td>1.0</td>\n      <td>1.0</td>\n      <td>25.0</td>\n      <td>0.0</td>\n      <td>0.0</td>\n    </tr>\n  </tbody>\n</table>\n<p>406980 rows × 32 columns</p>\n</div>"
     },
     "execution_count": 13,
     "metadata": {},
     "output_type": "execute_result"
    }
   ],
   "source": [
    "yunnan_rem = pd.read_csv('../Data/Tables/rem/yunnan_eventlist_nomination.csv', low_memory=False)\n",
    "yunnan_rem"
   ],
   "metadata": {
    "collapsed": false,
    "pycharm": {
     "name": "#%%\n"
    }
   }
  },
  {
   "cell_type": "code",
   "execution_count": 14,
   "outputs": [],
   "source": [
    "yunnan_rem['referee_age'] = yunnan_rem['referee_age'].where(yunnan_rem['referee_age'] != -1, np.nan).astype('Int64')\n",
    "yunnan_rem['referral_age'] = yunnan_rem['referral_age'].where(yunnan_rem['referral_age'] != -1, np.nan).astype('Int64')\n",
    "\n",
    "yunnan_rem['referee_gender'] = yunnan_rem['referee_gender'].where(yunnan_rem['referee_gender'] != -1, np.nan).astype('Int64')\n",
    "yunnan_rem['referral_gender'] = yunnan_rem['referral_gender'].where(yunnan_rem['referral_gender'] != -1, np.nan).astype('Int64')\n",
    "\n",
    "yunnan_rem['referee_relatives'] = yunnan_rem['referee_relatives'].where(yunnan_rem['referee_relatives'] != -1, np.nan).astype('Int64')\n",
    "yunnan_rem['referral_relatives'] = yunnan_rem['referral_relatives'].where(yunnan_rem['referral_relatives'] != -1, np.nan).astype('Int64')"
   ],
   "metadata": {
    "collapsed": false,
    "pycharm": {
     "name": "#%%\n"
    }
   }
  },
  {
   "cell_type": "code",
   "execution_count": 15,
   "outputs": [
    {
     "data": {
      "text/plain": "        Unnamed: 0  IS_OBSERVED  SOURCE  TARGET    TIME                TYPE  \\\n0                0            1       1      10  200117  contact_nomination   \n1                1            0     100       7  200117                 NaN   \n2                2            0     100       6  200117                 NaN   \n3                3            0     100       5  200117                 NaN   \n4                4            0     100       4  200117                 NaN   \n...            ...          ...     ...     ...     ...                 ...   \n406975      406975            0      99      94  200216                 NaN   \n406976      406976            0      99      95  200216                 NaN   \n406977      406977            0      99      96  200216                 NaN   \n406978      406978            0      99      97  200216                 NaN   \n406979      406979            0      99      98  200216                 NaN   \n\n        WEIGHT  EVENT_INTERVAL_ID  EVENT   INTEGER_TIME  ...   network_time  \\\n0          1.0                0.0    685  1579215600000  ...              0   \n1          0.0                NaN    685  1579215600000  ...              0   \n2          0.0                NaN    685  1579215600000  ...              0   \n3          0.0                NaN    685  1579215600000  ...              0   \n4          0.0                NaN    685  1579215600000  ...              0   \n...        ...                ...    ...            ...  ...            ...   \n406975     0.0                NaN    788  1581807600000  ...  1581634800000   \n406976     0.0                NaN    788  1581807600000  ...  1581634800000   \n406977     0.0                NaN    788  1581807600000  ...  1581634800000   \n406978     0.0                NaN    788  1581807600000  ...  1581634800000   \n406979     0.0                NaN    788  1581807600000  ...  1581634800000   \n\n        referee_age  referral_age  referee_gender  referral_gender  \\\n0              <NA>            63               1                1   \n1                56            24               1                1   \n2                56            42               1                0   \n3                56            49               1                1   \n4                56            34               1                0   \n...             ...           ...             ...              ...   \n406975           37            70               0                0   \n406976           37            53               0                0   \n406977           37            72               0                1   \n406978           37            45               0                0   \n406979           37            62               0                0   \n\n        referee_relatives  referral_relatives  age_difference  \\\n0                       1                <NA>            <NA>   \n1                    <NA>                <NA>              32   \n2                    <NA>                <NA>              14   \n3                    <NA>                <NA>               7   \n4                    <NA>                <NA>              22   \n...                   ...                 ...             ...   \n406975                  1                <NA>              33   \n406976                  1                   1              16   \n406977                  1                   1              35   \n406978                  1                <NA>               8   \n406979                  1                   1              25   \n\n        gender_difference  relatives_difference  \n0                       0                  <NA>  \n1                       0                  <NA>  \n2                       1                  <NA>  \n3                       0                  <NA>  \n4                       1                  <NA>  \n...                   ...                   ...  \n406975                  0                  <NA>  \n406976                  0                     0  \n406977                  1                     0  \n406978                  0                  <NA>  \n406979                  0                     0  \n\n[406980 rows x 32 columns]",
      "text/html": "<div>\n<style scoped>\n    .dataframe tbody tr th:only-of-type {\n        vertical-align: middle;\n    }\n\n    .dataframe tbody tr th {\n        vertical-align: top;\n    }\n\n    .dataframe thead th {\n        text-align: right;\n    }\n</style>\n<table border=\"1\" class=\"dataframe\">\n  <thead>\n    <tr style=\"text-align: right;\">\n      <th></th>\n      <th>Unnamed: 0</th>\n      <th>IS_OBSERVED</th>\n      <th>SOURCE</th>\n      <th>TARGET</th>\n      <th>TIME</th>\n      <th>TYPE</th>\n      <th>WEIGHT</th>\n      <th>EVENT_INTERVAL_ID</th>\n      <th>EVENT</th>\n      <th>INTEGER_TIME</th>\n      <th>...</th>\n      <th>network_time</th>\n      <th>referee_age</th>\n      <th>referral_age</th>\n      <th>referee_gender</th>\n      <th>referral_gender</th>\n      <th>referee_relatives</th>\n      <th>referral_relatives</th>\n      <th>age_difference</th>\n      <th>gender_difference</th>\n      <th>relatives_difference</th>\n    </tr>\n  </thead>\n  <tbody>\n    <tr>\n      <th>0</th>\n      <td>0</td>\n      <td>1</td>\n      <td>1</td>\n      <td>10</td>\n      <td>200117</td>\n      <td>contact_nomination</td>\n      <td>1.0</td>\n      <td>0.0</td>\n      <td>685</td>\n      <td>1579215600000</td>\n      <td>...</td>\n      <td>0</td>\n      <td>&lt;NA&gt;</td>\n      <td>63</td>\n      <td>1</td>\n      <td>1</td>\n      <td>1</td>\n      <td>&lt;NA&gt;</td>\n      <td>&lt;NA&gt;</td>\n      <td>0</td>\n      <td>&lt;NA&gt;</td>\n    </tr>\n    <tr>\n      <th>1</th>\n      <td>1</td>\n      <td>0</td>\n      <td>100</td>\n      <td>7</td>\n      <td>200117</td>\n      <td>NaN</td>\n      <td>0.0</td>\n      <td>NaN</td>\n      <td>685</td>\n      <td>1579215600000</td>\n      <td>...</td>\n      <td>0</td>\n      <td>56</td>\n      <td>24</td>\n      <td>1</td>\n      <td>1</td>\n      <td>&lt;NA&gt;</td>\n      <td>&lt;NA&gt;</td>\n      <td>32</td>\n      <td>0</td>\n      <td>&lt;NA&gt;</td>\n    </tr>\n    <tr>\n      <th>2</th>\n      <td>2</td>\n      <td>0</td>\n      <td>100</td>\n      <td>6</td>\n      <td>200117</td>\n      <td>NaN</td>\n      <td>0.0</td>\n      <td>NaN</td>\n      <td>685</td>\n      <td>1579215600000</td>\n      <td>...</td>\n      <td>0</td>\n      <td>56</td>\n      <td>42</td>\n      <td>1</td>\n      <td>0</td>\n      <td>&lt;NA&gt;</td>\n      <td>&lt;NA&gt;</td>\n      <td>14</td>\n      <td>1</td>\n      <td>&lt;NA&gt;</td>\n    </tr>\n    <tr>\n      <th>3</th>\n      <td>3</td>\n      <td>0</td>\n      <td>100</td>\n      <td>5</td>\n      <td>200117</td>\n      <td>NaN</td>\n      <td>0.0</td>\n      <td>NaN</td>\n      <td>685</td>\n      <td>1579215600000</td>\n      <td>...</td>\n      <td>0</td>\n      <td>56</td>\n      <td>49</td>\n      <td>1</td>\n      <td>1</td>\n      <td>&lt;NA&gt;</td>\n      <td>&lt;NA&gt;</td>\n      <td>7</td>\n      <td>0</td>\n      <td>&lt;NA&gt;</td>\n    </tr>\n    <tr>\n      <th>4</th>\n      <td>4</td>\n      <td>0</td>\n      <td>100</td>\n      <td>4</td>\n      <td>200117</td>\n      <td>NaN</td>\n      <td>0.0</td>\n      <td>NaN</td>\n      <td>685</td>\n      <td>1579215600000</td>\n      <td>...</td>\n      <td>0</td>\n      <td>56</td>\n      <td>34</td>\n      <td>1</td>\n      <td>0</td>\n      <td>&lt;NA&gt;</td>\n      <td>&lt;NA&gt;</td>\n      <td>22</td>\n      <td>1</td>\n      <td>&lt;NA&gt;</td>\n    </tr>\n    <tr>\n      <th>...</th>\n      <td>...</td>\n      <td>...</td>\n      <td>...</td>\n      <td>...</td>\n      <td>...</td>\n      <td>...</td>\n      <td>...</td>\n      <td>...</td>\n      <td>...</td>\n      <td>...</td>\n      <td>...</td>\n      <td>...</td>\n      <td>...</td>\n      <td>...</td>\n      <td>...</td>\n      <td>...</td>\n      <td>...</td>\n      <td>...</td>\n      <td>...</td>\n      <td>...</td>\n      <td>...</td>\n    </tr>\n    <tr>\n      <th>406975</th>\n      <td>406975</td>\n      <td>0</td>\n      <td>99</td>\n      <td>94</td>\n      <td>200216</td>\n      <td>NaN</td>\n      <td>0.0</td>\n      <td>NaN</td>\n      <td>788</td>\n      <td>1581807600000</td>\n      <td>...</td>\n      <td>1581634800000</td>\n      <td>37</td>\n      <td>70</td>\n      <td>0</td>\n      <td>0</td>\n      <td>1</td>\n      <td>&lt;NA&gt;</td>\n      <td>33</td>\n      <td>0</td>\n      <td>&lt;NA&gt;</td>\n    </tr>\n    <tr>\n      <th>406976</th>\n      <td>406976</td>\n      <td>0</td>\n      <td>99</td>\n      <td>95</td>\n      <td>200216</td>\n      <td>NaN</td>\n      <td>0.0</td>\n      <td>NaN</td>\n      <td>788</td>\n      <td>1581807600000</td>\n      <td>...</td>\n      <td>1581634800000</td>\n      <td>37</td>\n      <td>53</td>\n      <td>0</td>\n      <td>0</td>\n      <td>1</td>\n      <td>1</td>\n      <td>16</td>\n      <td>0</td>\n      <td>0</td>\n    </tr>\n    <tr>\n      <th>406977</th>\n      <td>406977</td>\n      <td>0</td>\n      <td>99</td>\n      <td>96</td>\n      <td>200216</td>\n      <td>NaN</td>\n      <td>0.0</td>\n      <td>NaN</td>\n      <td>788</td>\n      <td>1581807600000</td>\n      <td>...</td>\n      <td>1581634800000</td>\n      <td>37</td>\n      <td>72</td>\n      <td>0</td>\n      <td>1</td>\n      <td>1</td>\n      <td>1</td>\n      <td>35</td>\n      <td>1</td>\n      <td>0</td>\n    </tr>\n    <tr>\n      <th>406978</th>\n      <td>406978</td>\n      <td>0</td>\n      <td>99</td>\n      <td>97</td>\n      <td>200216</td>\n      <td>NaN</td>\n      <td>0.0</td>\n      <td>NaN</td>\n      <td>788</td>\n      <td>1581807600000</td>\n      <td>...</td>\n      <td>1581634800000</td>\n      <td>37</td>\n      <td>45</td>\n      <td>0</td>\n      <td>0</td>\n      <td>1</td>\n      <td>&lt;NA&gt;</td>\n      <td>8</td>\n      <td>0</td>\n      <td>&lt;NA&gt;</td>\n    </tr>\n    <tr>\n      <th>406979</th>\n      <td>406979</td>\n      <td>0</td>\n      <td>99</td>\n      <td>98</td>\n      <td>200216</td>\n      <td>NaN</td>\n      <td>0.0</td>\n      <td>NaN</td>\n      <td>788</td>\n      <td>1581807600000</td>\n      <td>...</td>\n      <td>1581634800000</td>\n      <td>37</td>\n      <td>62</td>\n      <td>0</td>\n      <td>0</td>\n      <td>1</td>\n      <td>1</td>\n      <td>25</td>\n      <td>0</td>\n      <td>0</td>\n    </tr>\n  </tbody>\n</table>\n<p>406980 rows × 32 columns</p>\n</div>"
     },
     "execution_count": 15,
     "metadata": {},
     "output_type": "execute_result"
    }
   ],
   "source": [
    "yunnan_rem['age_difference'] = abs(yunnan_rem['referee_age'] - yunnan_rem['referral_age']).astype('Int64')\n",
    "yunnan_rem['gender_difference'] = abs(yunnan_rem['referee_gender'] - yunnan_rem['referral_gender']).astype('Int64')\n",
    "yunnan_rem['relatives_difference'] = abs(yunnan_rem['referee_relatives'] - yunnan_rem['referral_relatives']).astype('Int64')\n",
    "yunnan_rem"
   ],
   "metadata": {
    "collapsed": false,
    "pycharm": {
     "name": "#%%\n"
    }
   }
  },
  {
   "cell_type": "code",
   "execution_count": 16,
   "outputs": [],
   "source": [
    "yunnan_rem.to_csv('../Data/Tables/rem/yunnan_eventlist_nomination.csv')"
   ],
   "metadata": {
    "collapsed": false,
    "pycharm": {
     "name": "#%%\n"
    }
   }
  },
  {
   "cell_type": "markdown",
   "source": [
    "## Cond referee"
   ],
   "metadata": {
    "collapsed": false,
    "pycharm": {
     "name": "#%% md\n"
    }
   }
  },
  {
   "cell_type": "code",
   "execution_count": 17,
   "outputs": [],
   "source": [
    "yunnan_rem_cond_referee = pd.read_csv('../Data/Tables/rem/yunnan_eventlist_nomination_cond_referee.csv', low_memory=False)"
   ],
   "metadata": {
    "collapsed": false,
    "pycharm": {
     "name": "#%%\n"
    }
   }
  },
  {
   "cell_type": "code",
   "execution_count": 18,
   "outputs": [],
   "source": [
    "yunnan_rem_cond_referee['referee_age'] = yunnan_rem_cond_referee['referee_age'].where(yunnan_rem_cond_referee['referee_age'] != -1, np.nan).astype('Int64')\n",
    "yunnan_rem_cond_referee['referral_age'] = yunnan_rem_cond_referee['referral_age'].where(yunnan_rem_cond_referee['referral_age'] != -1, np.nan).astype('Int64')\n",
    "\n",
    "yunnan_rem_cond_referee['referee_gender'] = yunnan_rem_cond_referee['referee_gender'].where(yunnan_rem_cond_referee['referee_gender'] != -1, np.nan).astype('Int64')\n",
    "yunnan_rem_cond_referee['referral_gender'] = yunnan_rem_cond_referee['referral_gender'].where(yunnan_rem_cond_referee['referral_gender'] != -1, np.nan).astype('Int64')\n",
    "\n",
    "yunnan_rem_cond_referee['referee_relatives'] = yunnan_rem_cond_referee['referee_relatives'].where(yunnan_rem_cond_referee['referee_relatives'] != -1, np.nan).astype('Int64')\n",
    "yunnan_rem_cond_referee['referral_relatives'] = yunnan_rem_cond_referee['referral_relatives'].where(yunnan_rem_cond_referee['referral_relatives'] != -1, np.nan).astype('Int64')"
   ],
   "metadata": {
    "collapsed": false,
    "pycharm": {
     "name": "#%%\n"
    }
   }
  },
  {
   "cell_type": "code",
   "execution_count": 19,
   "outputs": [
    {
     "data": {
      "text/plain": "      IS_OBSERVED  SOURCE  TARGET    TIME                TYPE  WEIGHT  \\\n0               1       1      10  200117  contact_nomination     1.0   \n1               0       1     132  200117                 NaN     0.0   \n2               0       1     133  200117                 NaN     0.0   \n3               0       1     134  200117                 NaN     0.0   \n4               0       1     135  200117                 NaN     0.0   \n...           ...     ...     ...     ...                 ...     ...   \n6625            0     171      94  200216                 NaN     0.0   \n6626            0     171      93  200216                 NaN     0.0   \n6627            0     171      92  200216                 NaN     0.0   \n6628            0     171      91  200216                 NaN     0.0   \n6629            0     171      90  200216                 NaN     0.0   \n\n      EVENT_INTERVAL_ID  EVENT   INTEGER_TIME  TIME_POINT  ...   network_time  \\\n0                   0.0    685  1579215600000           2  ...              0   \n1                   NaN    685  1579215600000           2  ...              0   \n2                   NaN    685  1579215600000           2  ...              0   \n3                   NaN    685  1579215600000           2  ...              0   \n4                   NaN    685  1579215600000           2  ...              0   \n...                 ...    ...            ...         ...  ...            ...   \n6625                NaN    788  1581807600000          15  ...  1581634800000   \n6626                NaN    788  1581807600000          15  ...  1581634800000   \n6627                NaN    788  1581807600000          15  ...  1581634800000   \n6628                NaN    788  1581807600000          15  ...  1581634800000   \n6629                NaN    788  1581807600000          15  ...  1581634800000   \n\n      referee_age  referral_age  referee_gender  referral_gender  \\\n0            <NA>            63               1                1   \n1            <NA>            15               1                1   \n2            <NA>            46               1                1   \n3            <NA>            62               1                0   \n4            <NA>            39               1                1   \n...           ...           ...             ...              ...   \n6625           24            70               0                0   \n6626           24            24               0                1   \n6627           24            63               0                1   \n6628           24            70               0                0   \n6629           24            34               0                0   \n\n      referee_relatives  referral_relatives  age_difference  \\\n0                     1                <NA>            <NA>   \n1                     1                   1            <NA>   \n2                     1                   0            <NA>   \n3                     1                   1            <NA>   \n4                     1                   1            <NA>   \n...                 ...                 ...             ...   \n6625                  1                <NA>              46   \n6626                  1                <NA>               0   \n6627                  1                <NA>              39   \n6628                  1                   1              46   \n6629                  1                   1              10   \n\n      gender_difference  relatives_difference  \n0                     0                  <NA>  \n1                     0                     0  \n2                     0                     1  \n3                     1                     0  \n4                     0                     0  \n...                 ...                   ...  \n6625                  0                  <NA>  \n6626                  1                  <NA>  \n6627                  1                  <NA>  \n6628                  0                     0  \n6629                  0                     0  \n\n[6630 rows x 31 columns]",
      "text/html": "<div>\n<style scoped>\n    .dataframe tbody tr th:only-of-type {\n        vertical-align: middle;\n    }\n\n    .dataframe tbody tr th {\n        vertical-align: top;\n    }\n\n    .dataframe thead th {\n        text-align: right;\n    }\n</style>\n<table border=\"1\" class=\"dataframe\">\n  <thead>\n    <tr style=\"text-align: right;\">\n      <th></th>\n      <th>IS_OBSERVED</th>\n      <th>SOURCE</th>\n      <th>TARGET</th>\n      <th>TIME</th>\n      <th>TYPE</th>\n      <th>WEIGHT</th>\n      <th>EVENT_INTERVAL_ID</th>\n      <th>EVENT</th>\n      <th>INTEGER_TIME</th>\n      <th>TIME_POINT</th>\n      <th>...</th>\n      <th>network_time</th>\n      <th>referee_age</th>\n      <th>referral_age</th>\n      <th>referee_gender</th>\n      <th>referral_gender</th>\n      <th>referee_relatives</th>\n      <th>referral_relatives</th>\n      <th>age_difference</th>\n      <th>gender_difference</th>\n      <th>relatives_difference</th>\n    </tr>\n  </thead>\n  <tbody>\n    <tr>\n      <th>0</th>\n      <td>1</td>\n      <td>1</td>\n      <td>10</td>\n      <td>200117</td>\n      <td>contact_nomination</td>\n      <td>1.0</td>\n      <td>0.0</td>\n      <td>685</td>\n      <td>1579215600000</td>\n      <td>2</td>\n      <td>...</td>\n      <td>0</td>\n      <td>&lt;NA&gt;</td>\n      <td>63</td>\n      <td>1</td>\n      <td>1</td>\n      <td>1</td>\n      <td>&lt;NA&gt;</td>\n      <td>&lt;NA&gt;</td>\n      <td>0</td>\n      <td>&lt;NA&gt;</td>\n    </tr>\n    <tr>\n      <th>1</th>\n      <td>0</td>\n      <td>1</td>\n      <td>132</td>\n      <td>200117</td>\n      <td>NaN</td>\n      <td>0.0</td>\n      <td>NaN</td>\n      <td>685</td>\n      <td>1579215600000</td>\n      <td>2</td>\n      <td>...</td>\n      <td>0</td>\n      <td>&lt;NA&gt;</td>\n      <td>15</td>\n      <td>1</td>\n      <td>1</td>\n      <td>1</td>\n      <td>1</td>\n      <td>&lt;NA&gt;</td>\n      <td>0</td>\n      <td>0</td>\n    </tr>\n    <tr>\n      <th>2</th>\n      <td>0</td>\n      <td>1</td>\n      <td>133</td>\n      <td>200117</td>\n      <td>NaN</td>\n      <td>0.0</td>\n      <td>NaN</td>\n      <td>685</td>\n      <td>1579215600000</td>\n      <td>2</td>\n      <td>...</td>\n      <td>0</td>\n      <td>&lt;NA&gt;</td>\n      <td>46</td>\n      <td>1</td>\n      <td>1</td>\n      <td>1</td>\n      <td>0</td>\n      <td>&lt;NA&gt;</td>\n      <td>0</td>\n      <td>1</td>\n    </tr>\n    <tr>\n      <th>3</th>\n      <td>0</td>\n      <td>1</td>\n      <td>134</td>\n      <td>200117</td>\n      <td>NaN</td>\n      <td>0.0</td>\n      <td>NaN</td>\n      <td>685</td>\n      <td>1579215600000</td>\n      <td>2</td>\n      <td>...</td>\n      <td>0</td>\n      <td>&lt;NA&gt;</td>\n      <td>62</td>\n      <td>1</td>\n      <td>0</td>\n      <td>1</td>\n      <td>1</td>\n      <td>&lt;NA&gt;</td>\n      <td>1</td>\n      <td>0</td>\n    </tr>\n    <tr>\n      <th>4</th>\n      <td>0</td>\n      <td>1</td>\n      <td>135</td>\n      <td>200117</td>\n      <td>NaN</td>\n      <td>0.0</td>\n      <td>NaN</td>\n      <td>685</td>\n      <td>1579215600000</td>\n      <td>2</td>\n      <td>...</td>\n      <td>0</td>\n      <td>&lt;NA&gt;</td>\n      <td>39</td>\n      <td>1</td>\n      <td>1</td>\n      <td>1</td>\n      <td>1</td>\n      <td>&lt;NA&gt;</td>\n      <td>0</td>\n      <td>0</td>\n    </tr>\n    <tr>\n      <th>...</th>\n      <td>...</td>\n      <td>...</td>\n      <td>...</td>\n      <td>...</td>\n      <td>...</td>\n      <td>...</td>\n      <td>...</td>\n      <td>...</td>\n      <td>...</td>\n      <td>...</td>\n      <td>...</td>\n      <td>...</td>\n      <td>...</td>\n      <td>...</td>\n      <td>...</td>\n      <td>...</td>\n      <td>...</td>\n      <td>...</td>\n      <td>...</td>\n      <td>...</td>\n      <td>...</td>\n    </tr>\n    <tr>\n      <th>6625</th>\n      <td>0</td>\n      <td>171</td>\n      <td>94</td>\n      <td>200216</td>\n      <td>NaN</td>\n      <td>0.0</td>\n      <td>NaN</td>\n      <td>788</td>\n      <td>1581807600000</td>\n      <td>15</td>\n      <td>...</td>\n      <td>1581634800000</td>\n      <td>24</td>\n      <td>70</td>\n      <td>0</td>\n      <td>0</td>\n      <td>1</td>\n      <td>&lt;NA&gt;</td>\n      <td>46</td>\n      <td>0</td>\n      <td>&lt;NA&gt;</td>\n    </tr>\n    <tr>\n      <th>6626</th>\n      <td>0</td>\n      <td>171</td>\n      <td>93</td>\n      <td>200216</td>\n      <td>NaN</td>\n      <td>0.0</td>\n      <td>NaN</td>\n      <td>788</td>\n      <td>1581807600000</td>\n      <td>15</td>\n      <td>...</td>\n      <td>1581634800000</td>\n      <td>24</td>\n      <td>24</td>\n      <td>0</td>\n      <td>1</td>\n      <td>1</td>\n      <td>&lt;NA&gt;</td>\n      <td>0</td>\n      <td>1</td>\n      <td>&lt;NA&gt;</td>\n    </tr>\n    <tr>\n      <th>6627</th>\n      <td>0</td>\n      <td>171</td>\n      <td>92</td>\n      <td>200216</td>\n      <td>NaN</td>\n      <td>0.0</td>\n      <td>NaN</td>\n      <td>788</td>\n      <td>1581807600000</td>\n      <td>15</td>\n      <td>...</td>\n      <td>1581634800000</td>\n      <td>24</td>\n      <td>63</td>\n      <td>0</td>\n      <td>1</td>\n      <td>1</td>\n      <td>&lt;NA&gt;</td>\n      <td>39</td>\n      <td>1</td>\n      <td>&lt;NA&gt;</td>\n    </tr>\n    <tr>\n      <th>6628</th>\n      <td>0</td>\n      <td>171</td>\n      <td>91</td>\n      <td>200216</td>\n      <td>NaN</td>\n      <td>0.0</td>\n      <td>NaN</td>\n      <td>788</td>\n      <td>1581807600000</td>\n      <td>15</td>\n      <td>...</td>\n      <td>1581634800000</td>\n      <td>24</td>\n      <td>70</td>\n      <td>0</td>\n      <td>0</td>\n      <td>1</td>\n      <td>1</td>\n      <td>46</td>\n      <td>0</td>\n      <td>0</td>\n    </tr>\n    <tr>\n      <th>6629</th>\n      <td>0</td>\n      <td>171</td>\n      <td>90</td>\n      <td>200216</td>\n      <td>NaN</td>\n      <td>0.0</td>\n      <td>NaN</td>\n      <td>788</td>\n      <td>1581807600000</td>\n      <td>15</td>\n      <td>...</td>\n      <td>1581634800000</td>\n      <td>24</td>\n      <td>34</td>\n      <td>0</td>\n      <td>0</td>\n      <td>1</td>\n      <td>1</td>\n      <td>10</td>\n      <td>0</td>\n      <td>0</td>\n    </tr>\n  </tbody>\n</table>\n<p>6630 rows × 31 columns</p>\n</div>"
     },
     "execution_count": 19,
     "metadata": {},
     "output_type": "execute_result"
    }
   ],
   "source": [
    "yunnan_rem_cond_referee['age_difference'] = abs(yunnan_rem_cond_referee['referee_age'] - yunnan_rem_cond_referee['referral_age']).astype('Int64')\n",
    "yunnan_rem_cond_referee['gender_difference'] = abs(yunnan_rem_cond_referee['referee_gender'] - yunnan_rem_cond_referee['referral_gender']).astype('Int64')\n",
    "yunnan_rem_cond_referee['relatives_difference'] = abs(yunnan_rem_cond_referee['referee_relatives'] - yunnan_rem_cond_referee['referral_relatives']).astype('Int64')\n",
    "yunnan_rem_cond_referee"
   ],
   "metadata": {
    "collapsed": false,
    "pycharm": {
     "name": "#%%\n"
    }
   }
  },
  {
   "cell_type": "code",
   "execution_count": 25,
   "outputs": [],
   "source": [
    "yunnan_rem_cond_referee.to_csv('../Data/Tables/rem/yunnan_eventlist_nomination_cond_referee.csv')"
   ],
   "metadata": {
    "collapsed": false,
    "pycharm": {
     "name": "#%%\n"
    }
   }
  },
  {
   "cell_type": "markdown",
   "source": [
    "## Cond referral"
   ],
   "metadata": {
    "collapsed": false,
    "pycharm": {
     "name": "#%% md\n"
    }
   }
  },
  {
   "cell_type": "code",
   "execution_count": 21,
   "outputs": [],
   "source": [
    "yunnan_rem_cond_referral = pd.read_csv('../Data/Tables/rem/yunnan_eventlist_nomination_cond_referral.csv',\n",
    "                                      low_memory=False)"
   ],
   "metadata": {
    "collapsed": false,
    "pycharm": {
     "name": "#%%\n"
    }
   }
  },
  {
   "cell_type": "code",
   "execution_count": 22,
   "outputs": [],
   "source": [
    "yunnan_rem_cond_referral['referee_age'] = yunnan_rem_cond_referral['referee_age'].where(\n",
    "    yunnan_rem_cond_referral['referee_age'] != -1, np.nan).astype('Int64')\n",
    "yunnan_rem_cond_referral['referral_age'] = yunnan_rem_cond_referral['referral_age'].where(\n",
    "    yunnan_rem_cond_referral['referral_age'] != -1, np.nan).astype('Int64')\n",
    "\n",
    "yunnan_rem_cond_referral['referee_gender'] = yunnan_rem_cond_referral['referee_gender'].where(\n",
    "    yunnan_rem_cond_referral['referee_gender'] != -1, np.nan).astype('Int64')\n",
    "yunnan_rem_cond_referral['referral_gender'] = yunnan_rem_cond_referral['referral_gender'].where(\n",
    "    yunnan_rem_cond_referral['referral_gender'] != -1, np.nan).astype('Int64')\n",
    "\n",
    "yunnan_rem_cond_referral['referee_relatives'] = yunnan_rem_cond_referral['referee_relatives'].where(\n",
    "    yunnan_rem_cond_referral['referee_relatives'] != -1, np.nan).astype('Int64')\n",
    "yunnan_rem_cond_referral['referral_relatives'] = yunnan_rem_cond_referral['referral_relatives'].where(\n",
    "    yunnan_rem_cond_referral['referral_relatives'] != -1, np.nan).astype('Int64')"
   ],
   "metadata": {
    "collapsed": false,
    "pycharm": {
     "name": "#%%\n"
    }
   }
  },
  {
   "cell_type": "code",
   "execution_count": 23,
   "outputs": [
    {
     "data": {
      "text/plain": "      IS_OBSERVED  SOURCE  TARGET    TIME                TYPE  WEIGHT  \\\n0               1       1      10  200117  contact_nomination     1.0   \n1               0      77      10  200117                 NaN     0.0   \n2               0      65      10  200117                 NaN     0.0   \n3               0      53      10  200117                 NaN     0.0   \n4               0      41      10  200117                 NaN     0.0   \n...           ...     ...     ...     ...                 ...     ...   \n7815            0      21     155  200216                 NaN     0.0   \n7816            0      33     156  200216                 NaN     0.0   \n7817            0      33     155  200216                 NaN     0.0   \n7818            0      45     156  200216                 NaN     0.0   \n7819            0      21     156  200216                 NaN     0.0   \n\n      EVENT_INTERVAL_ID  EVENT   INTEGER_TIME  TIME_POINT  ...   network_time  \\\n0                   0.0    685  1579215600000           2  ...              0   \n1                   NaN    685  1579215600000           2  ...              0   \n2                   NaN    685  1579215600000           2  ...              0   \n3                   NaN    685  1579215600000           2  ...              0   \n4                   NaN    685  1579215600000           2  ...              0   \n...                 ...    ...            ...         ...  ...            ...   \n7815                NaN    788  1581807600000          15  ...  1581634800000   \n7816                NaN    788  1581807600000          15  ...  1581634800000   \n7817                NaN    788  1581807600000          15  ...  1581634800000   \n7818                NaN    788  1581807600000          15  ...  1581634800000   \n7819                NaN    788  1581807600000          15  ...  1581634800000   \n\n      referee_age  referral_age  referee_gender  referral_gender  \\\n0            <NA>            63               1                1   \n1              35            63               0                1   \n2            <NA>            63            <NA>                1   \n3            <NA>            63            <NA>                1   \n4            <NA>            63            <NA>                1   \n...           ...           ...             ...              ...   \n7815         <NA>            25            <NA>                1   \n7816         <NA>            47            <NA>                0   \n7817         <NA>            25            <NA>                1   \n7818         <NA>            47            <NA>                0   \n7819         <NA>            47            <NA>                0   \n\n      referee_relatives  referral_relatives  age_difference  \\\n0                     1                <NA>            <NA>   \n1                  <NA>                <NA>              28   \n2                  <NA>                <NA>            <NA>   \n3                  <NA>                <NA>            <NA>   \n4                  <NA>                <NA>            <NA>   \n...                 ...                 ...             ...   \n7815               <NA>                   1            <NA>   \n7816               <NA>                   1            <NA>   \n7817               <NA>                   1            <NA>   \n7818               <NA>                   1            <NA>   \n7819               <NA>                   1            <NA>   \n\n      gender_difference  relatives_difference  \n0                     0                  <NA>  \n1                     1                  <NA>  \n2                  <NA>                  <NA>  \n3                  <NA>                  <NA>  \n4                  <NA>                  <NA>  \n...                 ...                   ...  \n7815               <NA>                  <NA>  \n7816               <NA>                  <NA>  \n7817               <NA>                  <NA>  \n7818               <NA>                  <NA>  \n7819               <NA>                  <NA>  \n\n[7820 rows x 31 columns]",
      "text/html": "<div>\n<style scoped>\n    .dataframe tbody tr th:only-of-type {\n        vertical-align: middle;\n    }\n\n    .dataframe tbody tr th {\n        vertical-align: top;\n    }\n\n    .dataframe thead th {\n        text-align: right;\n    }\n</style>\n<table border=\"1\" class=\"dataframe\">\n  <thead>\n    <tr style=\"text-align: right;\">\n      <th></th>\n      <th>IS_OBSERVED</th>\n      <th>SOURCE</th>\n      <th>TARGET</th>\n      <th>TIME</th>\n      <th>TYPE</th>\n      <th>WEIGHT</th>\n      <th>EVENT_INTERVAL_ID</th>\n      <th>EVENT</th>\n      <th>INTEGER_TIME</th>\n      <th>TIME_POINT</th>\n      <th>...</th>\n      <th>network_time</th>\n      <th>referee_age</th>\n      <th>referral_age</th>\n      <th>referee_gender</th>\n      <th>referral_gender</th>\n      <th>referee_relatives</th>\n      <th>referral_relatives</th>\n      <th>age_difference</th>\n      <th>gender_difference</th>\n      <th>relatives_difference</th>\n    </tr>\n  </thead>\n  <tbody>\n    <tr>\n      <th>0</th>\n      <td>1</td>\n      <td>1</td>\n      <td>10</td>\n      <td>200117</td>\n      <td>contact_nomination</td>\n      <td>1.0</td>\n      <td>0.0</td>\n      <td>685</td>\n      <td>1579215600000</td>\n      <td>2</td>\n      <td>...</td>\n      <td>0</td>\n      <td>&lt;NA&gt;</td>\n      <td>63</td>\n      <td>1</td>\n      <td>1</td>\n      <td>1</td>\n      <td>&lt;NA&gt;</td>\n      <td>&lt;NA&gt;</td>\n      <td>0</td>\n      <td>&lt;NA&gt;</td>\n    </tr>\n    <tr>\n      <th>1</th>\n      <td>0</td>\n      <td>77</td>\n      <td>10</td>\n      <td>200117</td>\n      <td>NaN</td>\n      <td>0.0</td>\n      <td>NaN</td>\n      <td>685</td>\n      <td>1579215600000</td>\n      <td>2</td>\n      <td>...</td>\n      <td>0</td>\n      <td>35</td>\n      <td>63</td>\n      <td>0</td>\n      <td>1</td>\n      <td>&lt;NA&gt;</td>\n      <td>&lt;NA&gt;</td>\n      <td>28</td>\n      <td>1</td>\n      <td>&lt;NA&gt;</td>\n    </tr>\n    <tr>\n      <th>2</th>\n      <td>0</td>\n      <td>65</td>\n      <td>10</td>\n      <td>200117</td>\n      <td>NaN</td>\n      <td>0.0</td>\n      <td>NaN</td>\n      <td>685</td>\n      <td>1579215600000</td>\n      <td>2</td>\n      <td>...</td>\n      <td>0</td>\n      <td>&lt;NA&gt;</td>\n      <td>63</td>\n      <td>&lt;NA&gt;</td>\n      <td>1</td>\n      <td>&lt;NA&gt;</td>\n      <td>&lt;NA&gt;</td>\n      <td>&lt;NA&gt;</td>\n      <td>&lt;NA&gt;</td>\n      <td>&lt;NA&gt;</td>\n    </tr>\n    <tr>\n      <th>3</th>\n      <td>0</td>\n      <td>53</td>\n      <td>10</td>\n      <td>200117</td>\n      <td>NaN</td>\n      <td>0.0</td>\n      <td>NaN</td>\n      <td>685</td>\n      <td>1579215600000</td>\n      <td>2</td>\n      <td>...</td>\n      <td>0</td>\n      <td>&lt;NA&gt;</td>\n      <td>63</td>\n      <td>&lt;NA&gt;</td>\n      <td>1</td>\n      <td>&lt;NA&gt;</td>\n      <td>&lt;NA&gt;</td>\n      <td>&lt;NA&gt;</td>\n      <td>&lt;NA&gt;</td>\n      <td>&lt;NA&gt;</td>\n    </tr>\n    <tr>\n      <th>4</th>\n      <td>0</td>\n      <td>41</td>\n      <td>10</td>\n      <td>200117</td>\n      <td>NaN</td>\n      <td>0.0</td>\n      <td>NaN</td>\n      <td>685</td>\n      <td>1579215600000</td>\n      <td>2</td>\n      <td>...</td>\n      <td>0</td>\n      <td>&lt;NA&gt;</td>\n      <td>63</td>\n      <td>&lt;NA&gt;</td>\n      <td>1</td>\n      <td>&lt;NA&gt;</td>\n      <td>&lt;NA&gt;</td>\n      <td>&lt;NA&gt;</td>\n      <td>&lt;NA&gt;</td>\n      <td>&lt;NA&gt;</td>\n    </tr>\n    <tr>\n      <th>...</th>\n      <td>...</td>\n      <td>...</td>\n      <td>...</td>\n      <td>...</td>\n      <td>...</td>\n      <td>...</td>\n      <td>...</td>\n      <td>...</td>\n      <td>...</td>\n      <td>...</td>\n      <td>...</td>\n      <td>...</td>\n      <td>...</td>\n      <td>...</td>\n      <td>...</td>\n      <td>...</td>\n      <td>...</td>\n      <td>...</td>\n      <td>...</td>\n      <td>...</td>\n      <td>...</td>\n    </tr>\n    <tr>\n      <th>7815</th>\n      <td>0</td>\n      <td>21</td>\n      <td>155</td>\n      <td>200216</td>\n      <td>NaN</td>\n      <td>0.0</td>\n      <td>NaN</td>\n      <td>788</td>\n      <td>1581807600000</td>\n      <td>15</td>\n      <td>...</td>\n      <td>1581634800000</td>\n      <td>&lt;NA&gt;</td>\n      <td>25</td>\n      <td>&lt;NA&gt;</td>\n      <td>1</td>\n      <td>&lt;NA&gt;</td>\n      <td>1</td>\n      <td>&lt;NA&gt;</td>\n      <td>&lt;NA&gt;</td>\n      <td>&lt;NA&gt;</td>\n    </tr>\n    <tr>\n      <th>7816</th>\n      <td>0</td>\n      <td>33</td>\n      <td>156</td>\n      <td>200216</td>\n      <td>NaN</td>\n      <td>0.0</td>\n      <td>NaN</td>\n      <td>788</td>\n      <td>1581807600000</td>\n      <td>15</td>\n      <td>...</td>\n      <td>1581634800000</td>\n      <td>&lt;NA&gt;</td>\n      <td>47</td>\n      <td>&lt;NA&gt;</td>\n      <td>0</td>\n      <td>&lt;NA&gt;</td>\n      <td>1</td>\n      <td>&lt;NA&gt;</td>\n      <td>&lt;NA&gt;</td>\n      <td>&lt;NA&gt;</td>\n    </tr>\n    <tr>\n      <th>7817</th>\n      <td>0</td>\n      <td>33</td>\n      <td>155</td>\n      <td>200216</td>\n      <td>NaN</td>\n      <td>0.0</td>\n      <td>NaN</td>\n      <td>788</td>\n      <td>1581807600000</td>\n      <td>15</td>\n      <td>...</td>\n      <td>1581634800000</td>\n      <td>&lt;NA&gt;</td>\n      <td>25</td>\n      <td>&lt;NA&gt;</td>\n      <td>1</td>\n      <td>&lt;NA&gt;</td>\n      <td>1</td>\n      <td>&lt;NA&gt;</td>\n      <td>&lt;NA&gt;</td>\n      <td>&lt;NA&gt;</td>\n    </tr>\n    <tr>\n      <th>7818</th>\n      <td>0</td>\n      <td>45</td>\n      <td>156</td>\n      <td>200216</td>\n      <td>NaN</td>\n      <td>0.0</td>\n      <td>NaN</td>\n      <td>788</td>\n      <td>1581807600000</td>\n      <td>15</td>\n      <td>...</td>\n      <td>1581634800000</td>\n      <td>&lt;NA&gt;</td>\n      <td>47</td>\n      <td>&lt;NA&gt;</td>\n      <td>0</td>\n      <td>&lt;NA&gt;</td>\n      <td>1</td>\n      <td>&lt;NA&gt;</td>\n      <td>&lt;NA&gt;</td>\n      <td>&lt;NA&gt;</td>\n    </tr>\n    <tr>\n      <th>7819</th>\n      <td>0</td>\n      <td>21</td>\n      <td>156</td>\n      <td>200216</td>\n      <td>NaN</td>\n      <td>0.0</td>\n      <td>NaN</td>\n      <td>788</td>\n      <td>1581807600000</td>\n      <td>15</td>\n      <td>...</td>\n      <td>1581634800000</td>\n      <td>&lt;NA&gt;</td>\n      <td>47</td>\n      <td>&lt;NA&gt;</td>\n      <td>0</td>\n      <td>&lt;NA&gt;</td>\n      <td>1</td>\n      <td>&lt;NA&gt;</td>\n      <td>&lt;NA&gt;</td>\n      <td>&lt;NA&gt;</td>\n    </tr>\n  </tbody>\n</table>\n<p>7820 rows × 31 columns</p>\n</div>"
     },
     "execution_count": 23,
     "metadata": {},
     "output_type": "execute_result"
    }
   ],
   "source": [
    "yunnan_rem_cond_referral['age_difference'] = abs(\n",
    "    yunnan_rem_cond_referral['referee_age'] - yunnan_rem_cond_referral['referral_age']).astype('Int64')\n",
    "yunnan_rem_cond_referral['gender_difference'] = abs(\n",
    "    yunnan_rem_cond_referral['referee_gender'] - yunnan_rem_cond_referral['referral_gender']).astype('Int64')\n",
    "yunnan_rem_cond_referral['relatives_difference'] = abs(\n",
    "    yunnan_rem_cond_referral['referee_relatives'] - yunnan_rem_cond_referral['referral_relatives']).astype('Int64')\n",
    "yunnan_rem_cond_referral"
   ],
   "metadata": {
    "collapsed": false,
    "pycharm": {
     "name": "#%%\n"
    }
   }
  },
  {
   "cell_type": "code",
   "execution_count": 24,
   "outputs": [],
   "source": [
    "yunnan_rem_cond_referral.to_csv('../Data/Tables/rem/yunnan_eventlist_nomination_cond_referral.csv')"
   ],
   "metadata": {
    "collapsed": false,
    "pycharm": {
     "name": "#%%\n"
    }
   }
  },
  {
   "cell_type": "markdown",
   "source": [
    "# Hainan"
   ],
   "metadata": {
    "collapsed": false,
    "pycharm": {
     "name": "#%% md\n"
    }
   }
  },
  {
   "cell_type": "markdown",
   "source": [
    "## Uncond"
   ],
   "metadata": {
    "collapsed": false,
    "pycharm": {
     "name": "#%% md\n"
    }
   }
  },
  {
   "cell_type": "code",
   "execution_count": 28,
   "outputs": [
    {
     "data": {
      "text/plain": "        IS_OBSERVED  SOURCE  TARGET    TIME                TYPE  WEIGHT  \\\n0                 1       5       3  200123  contact_nomination     1.0   \n1                 0      11     141  200123                 NaN     0.0   \n2                 0      12     131  200123                 NaN     0.0   \n3                 0      14     111  200123                 NaN     0.0   \n4                 0      15     101  200123                 NaN     0.0   \n...             ...     ...     ...     ...                 ...     ...   \n444671            0      99      94  200214                 NaN     0.0   \n444672            0      99      95  200214                 NaN     0.0   \n444673            0      99      96  200214                 NaN     0.0   \n444674            0      99      97  200214                 NaN     0.0   \n444675            0      99      98  200214                 NaN     0.0   \n\n        EVENT_INTERVAL_ID  EVENT   INTEGER_TIME  TIME_POINT  ...  \\\n0                     0.0    649  1579734000000           2  ...   \n1                     NaN    649  1579734000000           2  ...   \n2                     NaN    649  1579734000000           2  ...   \n3                     NaN    649  1579734000000           2  ...   \n4                     NaN    649  1579734000000           2  ...   \n...                   ...    ...            ...         ...  ...   \n444671                NaN    770  1581634800000          19  ...   \n444672                NaN    770  1581634800000          19  ...   \n444673                NaN    770  1581634800000          19  ...   \n444674                NaN    770  1581634800000          19  ...   \n444675                NaN    770  1581634800000          19  ...   \n\n        triangle_effect_children  triangle_effect_parents  network_activity  \\\n0                              0                        0                 0   \n1                              0                        0                 0   \n2                              0                        0                 0   \n3                              0                        0                 0   \n4                              0                        0                 0   \n...                          ...                      ...               ...   \n444671                         0                        0               106   \n444672                         0                        0               106   \n444673                         0                        0               106   \n444674                         0                        0               106   \n444675                         0                        0               106   \n\n         network_time  referee_age  referral_age  referee_gender  \\\n0                   0           27            27               0   \n1                   0           47            54               0   \n2                   0           58            76               1   \n3                   0           44            36               0   \n4                   0           54            60               0   \n...               ...          ...           ...             ...   \n444671  1581462000000           55            50               0   \n444672  1581462000000           55             7               0   \n444673  1581462000000           55            28               0   \n444674  1581462000000           55            68               0   \n444675  1581462000000           55            25               0   \n\n        referral_gender  referee_relatives  referral_relatives  \n0                     1                  0                   0  \n1                     1                  1                   1  \n2                     0                  1                   1  \n3                     1                  1                   0  \n4                     0                  1                   0  \n...                 ...                ...                 ...  \n444671                0                  1                   1  \n444672                1                  1                   0  \n444673                0                  1                   0  \n444674                0                  1                   1  \n444675                1                  1                   0  \n\n[444676 rows x 28 columns]",
      "text/html": "<div>\n<style scoped>\n    .dataframe tbody tr th:only-of-type {\n        vertical-align: middle;\n    }\n\n    .dataframe tbody tr th {\n        vertical-align: top;\n    }\n\n    .dataframe thead th {\n        text-align: right;\n    }\n</style>\n<table border=\"1\" class=\"dataframe\">\n  <thead>\n    <tr style=\"text-align: right;\">\n      <th></th>\n      <th>IS_OBSERVED</th>\n      <th>SOURCE</th>\n      <th>TARGET</th>\n      <th>TIME</th>\n      <th>TYPE</th>\n      <th>WEIGHT</th>\n      <th>EVENT_INTERVAL_ID</th>\n      <th>EVENT</th>\n      <th>INTEGER_TIME</th>\n      <th>TIME_POINT</th>\n      <th>...</th>\n      <th>triangle_effect_children</th>\n      <th>triangle_effect_parents</th>\n      <th>network_activity</th>\n      <th>network_time</th>\n      <th>referee_age</th>\n      <th>referral_age</th>\n      <th>referee_gender</th>\n      <th>referral_gender</th>\n      <th>referee_relatives</th>\n      <th>referral_relatives</th>\n    </tr>\n  </thead>\n  <tbody>\n    <tr>\n      <th>0</th>\n      <td>1</td>\n      <td>5</td>\n      <td>3</td>\n      <td>200123</td>\n      <td>contact_nomination</td>\n      <td>1.0</td>\n      <td>0.0</td>\n      <td>649</td>\n      <td>1579734000000</td>\n      <td>2</td>\n      <td>...</td>\n      <td>0</td>\n      <td>0</td>\n      <td>0</td>\n      <td>0</td>\n      <td>27</td>\n      <td>27</td>\n      <td>0</td>\n      <td>1</td>\n      <td>0</td>\n      <td>0</td>\n    </tr>\n    <tr>\n      <th>1</th>\n      <td>0</td>\n      <td>11</td>\n      <td>141</td>\n      <td>200123</td>\n      <td>NaN</td>\n      <td>0.0</td>\n      <td>NaN</td>\n      <td>649</td>\n      <td>1579734000000</td>\n      <td>2</td>\n      <td>...</td>\n      <td>0</td>\n      <td>0</td>\n      <td>0</td>\n      <td>0</td>\n      <td>47</td>\n      <td>54</td>\n      <td>0</td>\n      <td>1</td>\n      <td>1</td>\n      <td>1</td>\n    </tr>\n    <tr>\n      <th>2</th>\n      <td>0</td>\n      <td>12</td>\n      <td>131</td>\n      <td>200123</td>\n      <td>NaN</td>\n      <td>0.0</td>\n      <td>NaN</td>\n      <td>649</td>\n      <td>1579734000000</td>\n      <td>2</td>\n      <td>...</td>\n      <td>0</td>\n      <td>0</td>\n      <td>0</td>\n      <td>0</td>\n      <td>58</td>\n      <td>76</td>\n      <td>1</td>\n      <td>0</td>\n      <td>1</td>\n      <td>1</td>\n    </tr>\n    <tr>\n      <th>3</th>\n      <td>0</td>\n      <td>14</td>\n      <td>111</td>\n      <td>200123</td>\n      <td>NaN</td>\n      <td>0.0</td>\n      <td>NaN</td>\n      <td>649</td>\n      <td>1579734000000</td>\n      <td>2</td>\n      <td>...</td>\n      <td>0</td>\n      <td>0</td>\n      <td>0</td>\n      <td>0</td>\n      <td>44</td>\n      <td>36</td>\n      <td>0</td>\n      <td>1</td>\n      <td>1</td>\n      <td>0</td>\n    </tr>\n    <tr>\n      <th>4</th>\n      <td>0</td>\n      <td>15</td>\n      <td>101</td>\n      <td>200123</td>\n      <td>NaN</td>\n      <td>0.0</td>\n      <td>NaN</td>\n      <td>649</td>\n      <td>1579734000000</td>\n      <td>2</td>\n      <td>...</td>\n      <td>0</td>\n      <td>0</td>\n      <td>0</td>\n      <td>0</td>\n      <td>54</td>\n      <td>60</td>\n      <td>0</td>\n      <td>0</td>\n      <td>1</td>\n      <td>0</td>\n    </tr>\n    <tr>\n      <th>...</th>\n      <td>...</td>\n      <td>...</td>\n      <td>...</td>\n      <td>...</td>\n      <td>...</td>\n      <td>...</td>\n      <td>...</td>\n      <td>...</td>\n      <td>...</td>\n      <td>...</td>\n      <td>...</td>\n      <td>...</td>\n      <td>...</td>\n      <td>...</td>\n      <td>...</td>\n      <td>...</td>\n      <td>...</td>\n      <td>...</td>\n      <td>...</td>\n      <td>...</td>\n      <td>...</td>\n    </tr>\n    <tr>\n      <th>444671</th>\n      <td>0</td>\n      <td>99</td>\n      <td>94</td>\n      <td>200214</td>\n      <td>NaN</td>\n      <td>0.0</td>\n      <td>NaN</td>\n      <td>770</td>\n      <td>1581634800000</td>\n      <td>19</td>\n      <td>...</td>\n      <td>0</td>\n      <td>0</td>\n      <td>106</td>\n      <td>1581462000000</td>\n      <td>55</td>\n      <td>50</td>\n      <td>0</td>\n      <td>0</td>\n      <td>1</td>\n      <td>1</td>\n    </tr>\n    <tr>\n      <th>444672</th>\n      <td>0</td>\n      <td>99</td>\n      <td>95</td>\n      <td>200214</td>\n      <td>NaN</td>\n      <td>0.0</td>\n      <td>NaN</td>\n      <td>770</td>\n      <td>1581634800000</td>\n      <td>19</td>\n      <td>...</td>\n      <td>0</td>\n      <td>0</td>\n      <td>106</td>\n      <td>1581462000000</td>\n      <td>55</td>\n      <td>7</td>\n      <td>0</td>\n      <td>1</td>\n      <td>1</td>\n      <td>0</td>\n    </tr>\n    <tr>\n      <th>444673</th>\n      <td>0</td>\n      <td>99</td>\n      <td>96</td>\n      <td>200214</td>\n      <td>NaN</td>\n      <td>0.0</td>\n      <td>NaN</td>\n      <td>770</td>\n      <td>1581634800000</td>\n      <td>19</td>\n      <td>...</td>\n      <td>0</td>\n      <td>0</td>\n      <td>106</td>\n      <td>1581462000000</td>\n      <td>55</td>\n      <td>28</td>\n      <td>0</td>\n      <td>0</td>\n      <td>1</td>\n      <td>0</td>\n    </tr>\n    <tr>\n      <th>444674</th>\n      <td>0</td>\n      <td>99</td>\n      <td>97</td>\n      <td>200214</td>\n      <td>NaN</td>\n      <td>0.0</td>\n      <td>NaN</td>\n      <td>770</td>\n      <td>1581634800000</td>\n      <td>19</td>\n      <td>...</td>\n      <td>0</td>\n      <td>0</td>\n      <td>106</td>\n      <td>1581462000000</td>\n      <td>55</td>\n      <td>68</td>\n      <td>0</td>\n      <td>0</td>\n      <td>1</td>\n      <td>1</td>\n    </tr>\n    <tr>\n      <th>444675</th>\n      <td>0</td>\n      <td>99</td>\n      <td>98</td>\n      <td>200214</td>\n      <td>NaN</td>\n      <td>0.0</td>\n      <td>NaN</td>\n      <td>770</td>\n      <td>1581634800000</td>\n      <td>19</td>\n      <td>...</td>\n      <td>0</td>\n      <td>0</td>\n      <td>106</td>\n      <td>1581462000000</td>\n      <td>55</td>\n      <td>25</td>\n      <td>0</td>\n      <td>1</td>\n      <td>1</td>\n      <td>0</td>\n    </tr>\n  </tbody>\n</table>\n<p>444676 rows × 28 columns</p>\n</div>"
     },
     "execution_count": 28,
     "metadata": {},
     "output_type": "execute_result"
    }
   ],
   "source": [
    "hainan_rem = pd.read_csv('../Data/Tables/rem/hainan_eventlist_nomination.csv', low_memory=False)\n",
    "hainan_rem"
   ],
   "metadata": {
    "collapsed": false,
    "pycharm": {
     "name": "#%%\n"
    }
   }
  },
  {
   "cell_type": "code",
   "execution_count": 29,
   "outputs": [],
   "source": [
    "hainan_rem['referee_age'] = hainan_rem['referee_age'].where(\n",
    "    hainan_rem['referee_age'] != -1, np.nan).astype('Int64')\n",
    "hainan_rem['referral_age'] = hainan_rem['referral_age'].where(\n",
    "    hainan_rem['referral_age'] != -1, np.nan).astype('Int64')\n",
    "\n",
    "hainan_rem['referee_gender'] = hainan_rem['referee_gender'].where(\n",
    "    hainan_rem['referee_gender'] != -1, np.nan).astype('Int64')\n",
    "hainan_rem['referral_gender'] = hainan_rem['referral_gender'].where(\n",
    "    hainan_rem['referral_gender'] != -1, np.nan).astype('Int64')\n",
    "\n",
    "hainan_rem['referee_relatives'] = hainan_rem['referee_relatives'].where(\n",
    "    hainan_rem['referee_relatives'] != -1, np.nan).astype('Int64')\n",
    "hainan_rem['referral_relatives'] = hainan_rem['referral_relatives'].where(\n",
    "    hainan_rem['referral_relatives'] != -1, np.nan).astype('Int64')\n"
   ],
   "metadata": {
    "collapsed": false,
    "pycharm": {
     "name": "#%%\n"
    }
   }
  },
  {
   "cell_type": "code",
   "execution_count": 30,
   "outputs": [
    {
     "data": {
      "text/plain": "        IS_OBSERVED  SOURCE  TARGET    TIME                TYPE  WEIGHT  \\\n0                 1       5       3  200123  contact_nomination     1.0   \n1                 0      11     141  200123                 NaN     0.0   \n2                 0      12     131  200123                 NaN     0.0   \n3                 0      14     111  200123                 NaN     0.0   \n4                 0      15     101  200123                 NaN     0.0   \n...             ...     ...     ...     ...                 ...     ...   \n444671            0      99      94  200214                 NaN     0.0   \n444672            0      99      95  200214                 NaN     0.0   \n444673            0      99      96  200214                 NaN     0.0   \n444674            0      99      97  200214                 NaN     0.0   \n444675            0      99      98  200214                 NaN     0.0   \n\n        EVENT_INTERVAL_ID  EVENT   INTEGER_TIME  TIME_POINT  ...  \\\n0                     0.0    649  1579734000000           2  ...   \n1                     NaN    649  1579734000000           2  ...   \n2                     NaN    649  1579734000000           2  ...   \n3                     NaN    649  1579734000000           2  ...   \n4                     NaN    649  1579734000000           2  ...   \n...                   ...    ...            ...         ...  ...   \n444671                NaN    770  1581634800000          19  ...   \n444672                NaN    770  1581634800000          19  ...   \n444673                NaN    770  1581634800000          19  ...   \n444674                NaN    770  1581634800000          19  ...   \n444675                NaN    770  1581634800000          19  ...   \n\n         network_time  referee_age  referral_age  referee_gender  \\\n0                   0           27            27               0   \n1                   0           47            54               0   \n2                   0           58            76               1   \n3                   0           44            36               0   \n4                   0           54            60               0   \n...               ...          ...           ...             ...   \n444671  1581462000000           55            50               0   \n444672  1581462000000           55             7               0   \n444673  1581462000000           55            28               0   \n444674  1581462000000           55            68               0   \n444675  1581462000000           55            25               0   \n\n        referral_gender  referee_relatives  referral_relatives  \\\n0                     1                  0                   0   \n1                     1                  1                   1   \n2                     0                  1                   1   \n3                     1                  1                   0   \n4                     0                  1                   0   \n...                 ...                ...                 ...   \n444671                0                  1                   1   \n444672                1                  1                   0   \n444673                0                  1                   0   \n444674                0                  1                   1   \n444675                1                  1                   0   \n\n        age_difference  gender_difference  relatives_difference  \n0                    0                  1                     0  \n1                    7                  1                     0  \n2                   18                  1                     0  \n3                    8                  1                     1  \n4                    6                  0                     1  \n...                ...                ...                   ...  \n444671               5                  0                     0  \n444672              48                  1                     1  \n444673              27                  0                     1  \n444674              13                  0                     0  \n444675              30                  1                     1  \n\n[444676 rows x 31 columns]",
      "text/html": "<div>\n<style scoped>\n    .dataframe tbody tr th:only-of-type {\n        vertical-align: middle;\n    }\n\n    .dataframe tbody tr th {\n        vertical-align: top;\n    }\n\n    .dataframe thead th {\n        text-align: right;\n    }\n</style>\n<table border=\"1\" class=\"dataframe\">\n  <thead>\n    <tr style=\"text-align: right;\">\n      <th></th>\n      <th>IS_OBSERVED</th>\n      <th>SOURCE</th>\n      <th>TARGET</th>\n      <th>TIME</th>\n      <th>TYPE</th>\n      <th>WEIGHT</th>\n      <th>EVENT_INTERVAL_ID</th>\n      <th>EVENT</th>\n      <th>INTEGER_TIME</th>\n      <th>TIME_POINT</th>\n      <th>...</th>\n      <th>network_time</th>\n      <th>referee_age</th>\n      <th>referral_age</th>\n      <th>referee_gender</th>\n      <th>referral_gender</th>\n      <th>referee_relatives</th>\n      <th>referral_relatives</th>\n      <th>age_difference</th>\n      <th>gender_difference</th>\n      <th>relatives_difference</th>\n    </tr>\n  </thead>\n  <tbody>\n    <tr>\n      <th>0</th>\n      <td>1</td>\n      <td>5</td>\n      <td>3</td>\n      <td>200123</td>\n      <td>contact_nomination</td>\n      <td>1.0</td>\n      <td>0.0</td>\n      <td>649</td>\n      <td>1579734000000</td>\n      <td>2</td>\n      <td>...</td>\n      <td>0</td>\n      <td>27</td>\n      <td>27</td>\n      <td>0</td>\n      <td>1</td>\n      <td>0</td>\n      <td>0</td>\n      <td>0</td>\n      <td>1</td>\n      <td>0</td>\n    </tr>\n    <tr>\n      <th>1</th>\n      <td>0</td>\n      <td>11</td>\n      <td>141</td>\n      <td>200123</td>\n      <td>NaN</td>\n      <td>0.0</td>\n      <td>NaN</td>\n      <td>649</td>\n      <td>1579734000000</td>\n      <td>2</td>\n      <td>...</td>\n      <td>0</td>\n      <td>47</td>\n      <td>54</td>\n      <td>0</td>\n      <td>1</td>\n      <td>1</td>\n      <td>1</td>\n      <td>7</td>\n      <td>1</td>\n      <td>0</td>\n    </tr>\n    <tr>\n      <th>2</th>\n      <td>0</td>\n      <td>12</td>\n      <td>131</td>\n      <td>200123</td>\n      <td>NaN</td>\n      <td>0.0</td>\n      <td>NaN</td>\n      <td>649</td>\n      <td>1579734000000</td>\n      <td>2</td>\n      <td>...</td>\n      <td>0</td>\n      <td>58</td>\n      <td>76</td>\n      <td>1</td>\n      <td>0</td>\n      <td>1</td>\n      <td>1</td>\n      <td>18</td>\n      <td>1</td>\n      <td>0</td>\n    </tr>\n    <tr>\n      <th>3</th>\n      <td>0</td>\n      <td>14</td>\n      <td>111</td>\n      <td>200123</td>\n      <td>NaN</td>\n      <td>0.0</td>\n      <td>NaN</td>\n      <td>649</td>\n      <td>1579734000000</td>\n      <td>2</td>\n      <td>...</td>\n      <td>0</td>\n      <td>44</td>\n      <td>36</td>\n      <td>0</td>\n      <td>1</td>\n      <td>1</td>\n      <td>0</td>\n      <td>8</td>\n      <td>1</td>\n      <td>1</td>\n    </tr>\n    <tr>\n      <th>4</th>\n      <td>0</td>\n      <td>15</td>\n      <td>101</td>\n      <td>200123</td>\n      <td>NaN</td>\n      <td>0.0</td>\n      <td>NaN</td>\n      <td>649</td>\n      <td>1579734000000</td>\n      <td>2</td>\n      <td>...</td>\n      <td>0</td>\n      <td>54</td>\n      <td>60</td>\n      <td>0</td>\n      <td>0</td>\n      <td>1</td>\n      <td>0</td>\n      <td>6</td>\n      <td>0</td>\n      <td>1</td>\n    </tr>\n    <tr>\n      <th>...</th>\n      <td>...</td>\n      <td>...</td>\n      <td>...</td>\n      <td>...</td>\n      <td>...</td>\n      <td>...</td>\n      <td>...</td>\n      <td>...</td>\n      <td>...</td>\n      <td>...</td>\n      <td>...</td>\n      <td>...</td>\n      <td>...</td>\n      <td>...</td>\n      <td>...</td>\n      <td>...</td>\n      <td>...</td>\n      <td>...</td>\n      <td>...</td>\n      <td>...</td>\n      <td>...</td>\n    </tr>\n    <tr>\n      <th>444671</th>\n      <td>0</td>\n      <td>99</td>\n      <td>94</td>\n      <td>200214</td>\n      <td>NaN</td>\n      <td>0.0</td>\n      <td>NaN</td>\n      <td>770</td>\n      <td>1581634800000</td>\n      <td>19</td>\n      <td>...</td>\n      <td>1581462000000</td>\n      <td>55</td>\n      <td>50</td>\n      <td>0</td>\n      <td>0</td>\n      <td>1</td>\n      <td>1</td>\n      <td>5</td>\n      <td>0</td>\n      <td>0</td>\n    </tr>\n    <tr>\n      <th>444672</th>\n      <td>0</td>\n      <td>99</td>\n      <td>95</td>\n      <td>200214</td>\n      <td>NaN</td>\n      <td>0.0</td>\n      <td>NaN</td>\n      <td>770</td>\n      <td>1581634800000</td>\n      <td>19</td>\n      <td>...</td>\n      <td>1581462000000</td>\n      <td>55</td>\n      <td>7</td>\n      <td>0</td>\n      <td>1</td>\n      <td>1</td>\n      <td>0</td>\n      <td>48</td>\n      <td>1</td>\n      <td>1</td>\n    </tr>\n    <tr>\n      <th>444673</th>\n      <td>0</td>\n      <td>99</td>\n      <td>96</td>\n      <td>200214</td>\n      <td>NaN</td>\n      <td>0.0</td>\n      <td>NaN</td>\n      <td>770</td>\n      <td>1581634800000</td>\n      <td>19</td>\n      <td>...</td>\n      <td>1581462000000</td>\n      <td>55</td>\n      <td>28</td>\n      <td>0</td>\n      <td>0</td>\n      <td>1</td>\n      <td>0</td>\n      <td>27</td>\n      <td>0</td>\n      <td>1</td>\n    </tr>\n    <tr>\n      <th>444674</th>\n      <td>0</td>\n      <td>99</td>\n      <td>97</td>\n      <td>200214</td>\n      <td>NaN</td>\n      <td>0.0</td>\n      <td>NaN</td>\n      <td>770</td>\n      <td>1581634800000</td>\n      <td>19</td>\n      <td>...</td>\n      <td>1581462000000</td>\n      <td>55</td>\n      <td>68</td>\n      <td>0</td>\n      <td>0</td>\n      <td>1</td>\n      <td>1</td>\n      <td>13</td>\n      <td>0</td>\n      <td>0</td>\n    </tr>\n    <tr>\n      <th>444675</th>\n      <td>0</td>\n      <td>99</td>\n      <td>98</td>\n      <td>200214</td>\n      <td>NaN</td>\n      <td>0.0</td>\n      <td>NaN</td>\n      <td>770</td>\n      <td>1581634800000</td>\n      <td>19</td>\n      <td>...</td>\n      <td>1581462000000</td>\n      <td>55</td>\n      <td>25</td>\n      <td>0</td>\n      <td>1</td>\n      <td>1</td>\n      <td>0</td>\n      <td>30</td>\n      <td>1</td>\n      <td>1</td>\n    </tr>\n  </tbody>\n</table>\n<p>444676 rows × 31 columns</p>\n</div>"
     },
     "execution_count": 30,
     "metadata": {},
     "output_type": "execute_result"
    }
   ],
   "source": [
    "hainan_rem['age_difference'] = abs(\n",
    "    hainan_rem['referee_age'] - hainan_rem['referral_age']).astype('Int64')\n",
    "hainan_rem['gender_difference'] = abs(\n",
    "    hainan_rem['referee_gender'] - hainan_rem['referral_gender']).astype('Int64')\n",
    "hainan_rem['relatives_difference'] = abs(\n",
    "    hainan_rem['referee_relatives'] - hainan_rem['referral_relatives']).astype('Int64')\n",
    "hainan_rem"
   ],
   "metadata": {
    "collapsed": false,
    "pycharm": {
     "name": "#%%\n"
    }
   }
  },
  {
   "cell_type": "code",
   "execution_count": 31,
   "outputs": [],
   "source": [
    "hainan_rem.to_csv('../Data/Tables/rem/hainan_eventlist_nomination.csv')"
   ],
   "metadata": {
    "collapsed": false,
    "pycharm": {
     "name": "#%%\n"
    }
   }
  },
  {
   "cell_type": "markdown",
   "source": [
    "## Cond referee"
   ],
   "metadata": {
    "collapsed": false,
    "pycharm": {
     "name": "#%% md\n"
    }
   }
  },
  {
   "cell_type": "code",
   "execution_count": 33,
   "outputs": [],
   "source": [
    "hainan_rem_cond_referral = pd.read_csv('../Data/Tables/rem/hainan_eventlist_nomination_cond_referral.csv',\n",
    "                                       low_memory=False)"
   ],
   "metadata": {
    "collapsed": false,
    "pycharm": {
     "name": "#%%\n"
    }
   }
  },
  {
   "cell_type": "code",
   "execution_count": 34,
   "outputs": [],
   "source": [
    "hainan_rem_cond_referral['referee_age'] = hainan_rem_cond_referral['referee_age'].where(\n",
    "    hainan_rem_cond_referral['referee_age'] != -1, np.nan).astype('Int64')\n",
    "hainan_rem_cond_referral['referral_age'] = hainan_rem_cond_referral['referral_age'].where(\n",
    "    hainan_rem_cond_referral['referral_age'] != -1, np.nan).astype('Int64')\n",
    "\n",
    "hainan_rem_cond_referral['referee_gender'] = hainan_rem_cond_referral['referee_gender'].where(\n",
    "    hainan_rem_cond_referral['referee_gender'] != -1, np.nan).astype('Int64')\n",
    "hainan_rem_cond_referral['referral_gender'] = hainan_rem_cond_referral['referral_gender'].where(\n",
    "    hainan_rem_cond_referral['referral_gender'] != -1, np.nan).astype('Int64')\n",
    "\n",
    "hainan_rem_cond_referral['referee_relatives'] = hainan_rem_cond_referral['referee_relatives'].where(\n",
    "    hainan_rem_cond_referral['referee_relatives'] != -1, np.nan).astype('Int64')\n",
    "hainan_rem_cond_referral['referral_relatives'] = hainan_rem_cond_referral['referral_relatives'].where(\n",
    "    hainan_rem_cond_referral['referral_relatives'] != -1, np.nan).astype('Int64')"
   ],
   "metadata": {
    "collapsed": false,
    "pycharm": {
     "name": "#%%\n"
    }
   }
  },
  {
   "cell_type": "code",
   "execution_count": 35,
   "outputs": [
    {
     "data": {
      "text/plain": "       IS_OBSERVED  SOURCE  TARGET    TIME                TYPE  WEIGHT  \\\n0                1       5       3  200123  contact_nomination     1.0   \n1                0       2       3  200123                 NaN     0.0   \n2                0     148       3  200123                 NaN     0.0   \n3                0     108       3  200123                 NaN     0.0   \n4                0      49       3  200123                 NaN     0.0   \n...            ...     ...     ...     ...                 ...     ...   \n14807            0      33     158  200214                 NaN     0.0   \n14808            0      57     159  200214                 NaN     0.0   \n14809            0      33     159  200214                 NaN     0.0   \n14810            0      79      76  200214                 NaN     0.0   \n14811            0       2     121  200214                 NaN     0.0   \n\n       EVENT_INTERVAL_ID  EVENT   INTEGER_TIME  TIME_POINT  ...  \\\n0                    0.0    649  1579734000000           2  ...   \n1                    NaN    649  1579734000000           2  ...   \n2                    NaN    649  1579734000000           2  ...   \n3                    NaN    649  1579734000000           2  ...   \n4                    NaN    649  1579734000000           2  ...   \n...                  ...    ...            ...         ...  ...   \n14807                NaN    770  1581634800000          19  ...   \n14808                NaN    770  1581634800000          19  ...   \n14809                NaN    770  1581634800000          19  ...   \n14810                NaN    770  1581634800000          19  ...   \n14811                NaN    770  1581634800000          19  ...   \n\n        network_time  referee_age  referral_age  referee_gender  \\\n0                  0           27            27               0   \n1                  0           68            27               0   \n2                  0           58            27               1   \n3                  0           59            27               1   \n4                  0           62            27               0   \n...              ...          ...           ...             ...   \n14807  1581462000000           63            62               0   \n14808  1581462000000           58            27               1   \n14809  1581462000000           63            27               0   \n14810  1581462000000           62            29               1   \n14811  1581462000000           68            46               0   \n\n       referral_gender  referee_relatives  referral_relatives  age_difference  \\\n0                    1                  0                   0               0   \n1                    1                  0                   0              41   \n2                    1                  0                   0              31   \n3                    1                  1                   0              32   \n4                    1                  1                   0              35   \n...                ...                ...                 ...             ...   \n14807                1                  0                   1               1   \n14808                0                  0                   1              31   \n14809                0                  0                   1              36   \n14810                1                  0                   1              33   \n14811                0                  0                   1              22   \n\n       gender_difference  relatives_difference  \n0                      1                     0  \n1                      1                     0  \n2                      0                     0  \n3                      0                     1  \n4                      1                     1  \n...                  ...                   ...  \n14807                  1                     1  \n14808                  1                     1  \n14809                  0                     1  \n14810                  0                     1  \n14811                  0                     1  \n\n[14812 rows x 31 columns]",
      "text/html": "<div>\n<style scoped>\n    .dataframe tbody tr th:only-of-type {\n        vertical-align: middle;\n    }\n\n    .dataframe tbody tr th {\n        vertical-align: top;\n    }\n\n    .dataframe thead th {\n        text-align: right;\n    }\n</style>\n<table border=\"1\" class=\"dataframe\">\n  <thead>\n    <tr style=\"text-align: right;\">\n      <th></th>\n      <th>IS_OBSERVED</th>\n      <th>SOURCE</th>\n      <th>TARGET</th>\n      <th>TIME</th>\n      <th>TYPE</th>\n      <th>WEIGHT</th>\n      <th>EVENT_INTERVAL_ID</th>\n      <th>EVENT</th>\n      <th>INTEGER_TIME</th>\n      <th>TIME_POINT</th>\n      <th>...</th>\n      <th>network_time</th>\n      <th>referee_age</th>\n      <th>referral_age</th>\n      <th>referee_gender</th>\n      <th>referral_gender</th>\n      <th>referee_relatives</th>\n      <th>referral_relatives</th>\n      <th>age_difference</th>\n      <th>gender_difference</th>\n      <th>relatives_difference</th>\n    </tr>\n  </thead>\n  <tbody>\n    <tr>\n      <th>0</th>\n      <td>1</td>\n      <td>5</td>\n      <td>3</td>\n      <td>200123</td>\n      <td>contact_nomination</td>\n      <td>1.0</td>\n      <td>0.0</td>\n      <td>649</td>\n      <td>1579734000000</td>\n      <td>2</td>\n      <td>...</td>\n      <td>0</td>\n      <td>27</td>\n      <td>27</td>\n      <td>0</td>\n      <td>1</td>\n      <td>0</td>\n      <td>0</td>\n      <td>0</td>\n      <td>1</td>\n      <td>0</td>\n    </tr>\n    <tr>\n      <th>1</th>\n      <td>0</td>\n      <td>2</td>\n      <td>3</td>\n      <td>200123</td>\n      <td>NaN</td>\n      <td>0.0</td>\n      <td>NaN</td>\n      <td>649</td>\n      <td>1579734000000</td>\n      <td>2</td>\n      <td>...</td>\n      <td>0</td>\n      <td>68</td>\n      <td>27</td>\n      <td>0</td>\n      <td>1</td>\n      <td>0</td>\n      <td>0</td>\n      <td>41</td>\n      <td>1</td>\n      <td>0</td>\n    </tr>\n    <tr>\n      <th>2</th>\n      <td>0</td>\n      <td>148</td>\n      <td>3</td>\n      <td>200123</td>\n      <td>NaN</td>\n      <td>0.0</td>\n      <td>NaN</td>\n      <td>649</td>\n      <td>1579734000000</td>\n      <td>2</td>\n      <td>...</td>\n      <td>0</td>\n      <td>58</td>\n      <td>27</td>\n      <td>1</td>\n      <td>1</td>\n      <td>0</td>\n      <td>0</td>\n      <td>31</td>\n      <td>0</td>\n      <td>0</td>\n    </tr>\n    <tr>\n      <th>3</th>\n      <td>0</td>\n      <td>108</td>\n      <td>3</td>\n      <td>200123</td>\n      <td>NaN</td>\n      <td>0.0</td>\n      <td>NaN</td>\n      <td>649</td>\n      <td>1579734000000</td>\n      <td>2</td>\n      <td>...</td>\n      <td>0</td>\n      <td>59</td>\n      <td>27</td>\n      <td>1</td>\n      <td>1</td>\n      <td>1</td>\n      <td>0</td>\n      <td>32</td>\n      <td>0</td>\n      <td>1</td>\n    </tr>\n    <tr>\n      <th>4</th>\n      <td>0</td>\n      <td>49</td>\n      <td>3</td>\n      <td>200123</td>\n      <td>NaN</td>\n      <td>0.0</td>\n      <td>NaN</td>\n      <td>649</td>\n      <td>1579734000000</td>\n      <td>2</td>\n      <td>...</td>\n      <td>0</td>\n      <td>62</td>\n      <td>27</td>\n      <td>0</td>\n      <td>1</td>\n      <td>1</td>\n      <td>0</td>\n      <td>35</td>\n      <td>1</td>\n      <td>1</td>\n    </tr>\n    <tr>\n      <th>...</th>\n      <td>...</td>\n      <td>...</td>\n      <td>...</td>\n      <td>...</td>\n      <td>...</td>\n      <td>...</td>\n      <td>...</td>\n      <td>...</td>\n      <td>...</td>\n      <td>...</td>\n      <td>...</td>\n      <td>...</td>\n      <td>...</td>\n      <td>...</td>\n      <td>...</td>\n      <td>...</td>\n      <td>...</td>\n      <td>...</td>\n      <td>...</td>\n      <td>...</td>\n      <td>...</td>\n    </tr>\n    <tr>\n      <th>14807</th>\n      <td>0</td>\n      <td>33</td>\n      <td>158</td>\n      <td>200214</td>\n      <td>NaN</td>\n      <td>0.0</td>\n      <td>NaN</td>\n      <td>770</td>\n      <td>1581634800000</td>\n      <td>19</td>\n      <td>...</td>\n      <td>1581462000000</td>\n      <td>63</td>\n      <td>62</td>\n      <td>0</td>\n      <td>1</td>\n      <td>0</td>\n      <td>1</td>\n      <td>1</td>\n      <td>1</td>\n      <td>1</td>\n    </tr>\n    <tr>\n      <th>14808</th>\n      <td>0</td>\n      <td>57</td>\n      <td>159</td>\n      <td>200214</td>\n      <td>NaN</td>\n      <td>0.0</td>\n      <td>NaN</td>\n      <td>770</td>\n      <td>1581634800000</td>\n      <td>19</td>\n      <td>...</td>\n      <td>1581462000000</td>\n      <td>58</td>\n      <td>27</td>\n      <td>1</td>\n      <td>0</td>\n      <td>0</td>\n      <td>1</td>\n      <td>31</td>\n      <td>1</td>\n      <td>1</td>\n    </tr>\n    <tr>\n      <th>14809</th>\n      <td>0</td>\n      <td>33</td>\n      <td>159</td>\n      <td>200214</td>\n      <td>NaN</td>\n      <td>0.0</td>\n      <td>NaN</td>\n      <td>770</td>\n      <td>1581634800000</td>\n      <td>19</td>\n      <td>...</td>\n      <td>1581462000000</td>\n      <td>63</td>\n      <td>27</td>\n      <td>0</td>\n      <td>0</td>\n      <td>0</td>\n      <td>1</td>\n      <td>36</td>\n      <td>0</td>\n      <td>1</td>\n    </tr>\n    <tr>\n      <th>14810</th>\n      <td>0</td>\n      <td>79</td>\n      <td>76</td>\n      <td>200214</td>\n      <td>NaN</td>\n      <td>0.0</td>\n      <td>NaN</td>\n      <td>770</td>\n      <td>1581634800000</td>\n      <td>19</td>\n      <td>...</td>\n      <td>1581462000000</td>\n      <td>62</td>\n      <td>29</td>\n      <td>1</td>\n      <td>1</td>\n      <td>0</td>\n      <td>1</td>\n      <td>33</td>\n      <td>0</td>\n      <td>1</td>\n    </tr>\n    <tr>\n      <th>14811</th>\n      <td>0</td>\n      <td>2</td>\n      <td>121</td>\n      <td>200214</td>\n      <td>NaN</td>\n      <td>0.0</td>\n      <td>NaN</td>\n      <td>770</td>\n      <td>1581634800000</td>\n      <td>19</td>\n      <td>...</td>\n      <td>1581462000000</td>\n      <td>68</td>\n      <td>46</td>\n      <td>0</td>\n      <td>0</td>\n      <td>0</td>\n      <td>1</td>\n      <td>22</td>\n      <td>0</td>\n      <td>1</td>\n    </tr>\n  </tbody>\n</table>\n<p>14812 rows × 31 columns</p>\n</div>"
     },
     "execution_count": 35,
     "metadata": {},
     "output_type": "execute_result"
    }
   ],
   "source": [
    "hainan_rem_cond_referral['age_difference'] = abs(\n",
    "    hainan_rem_cond_referral['referee_age'] - hainan_rem_cond_referral['referral_age']).astype('Int64')\n",
    "hainan_rem_cond_referral['gender_difference'] = abs(\n",
    "    hainan_rem_cond_referral['referee_gender'] - hainan_rem_cond_referral['referral_gender']).astype('Int64')\n",
    "hainan_rem_cond_referral['relatives_difference'] = abs(\n",
    "    hainan_rem_cond_referral['referee_relatives'] - hainan_rem_cond_referral['referral_relatives']).astype('Int64')\n",
    "hainan_rem_cond_referral"
   ],
   "metadata": {
    "collapsed": false,
    "pycharm": {
     "name": "#%%\n"
    }
   }
  },
  {
   "cell_type": "code",
   "execution_count": 36,
   "outputs": [],
   "source": [
    "hainan_rem_cond_referral.to_csv('../Data/Tables/rem/hainan_eventlist_nomination_cond_referee.csv')"
   ],
   "metadata": {
    "collapsed": false,
    "pycharm": {
     "name": "#%%\n"
    }
   }
  },
  {
   "cell_type": "markdown",
   "source": [
    "## Cond referral"
   ],
   "metadata": {
    "collapsed": false,
    "pycharm": {
     "name": "#%% md\n"
    }
   }
  },
  {
   "cell_type": "code",
   "execution_count": 37,
   "outputs": [],
   "source": [
    "hainan_rem_cond_referral = pd.read_csv('../Data/Tables/rem/hainan_eventlist_nomination_cond_referral.csv',\n",
    "                                       low_memory=False)"
   ],
   "metadata": {
    "collapsed": false,
    "pycharm": {
     "name": "#%%\n"
    }
   }
  },
  {
   "cell_type": "code",
   "execution_count": 38,
   "outputs": [],
   "source": [
    "hainan_rem_cond_referral['referee_age'] = hainan_rem_cond_referral['referee_age'].where(\n",
    "    hainan_rem_cond_referral['referee_age'] != -1, np.nan).astype('Int64')\n",
    "hainan_rem_cond_referral['referral_age'] = hainan_rem_cond_referral['referral_age'].where(\n",
    "    hainan_rem_cond_referral['referral_age'] != -1, np.nan).astype('Int64')\n",
    "\n",
    "hainan_rem_cond_referral['referee_gender'] = hainan_rem_cond_referral['referee_gender'].where(\n",
    "    hainan_rem_cond_referral['referee_gender'] != -1, np.nan).astype('Int64')\n",
    "hainan_rem_cond_referral['referral_gender'] = hainan_rem_cond_referral['referral_gender'].where(\n",
    "    hainan_rem_cond_referral['referral_gender'] != -1, np.nan).astype('Int64')\n",
    "\n",
    "hainan_rem_cond_referral['referee_relatives'] = hainan_rem_cond_referral['referee_relatives'].where(\n",
    "    hainan_rem_cond_referral['referee_relatives'] != -1, np.nan).astype('Int64')\n",
    "hainan_rem_cond_referral['referral_relatives'] = hainan_rem_cond_referral['referral_relatives'].where(\n",
    "    hainan_rem_cond_referral['referral_relatives'] != -1, np.nan).astype('Int64')"
   ],
   "metadata": {
    "collapsed": false,
    "pycharm": {
     "name": "#%%\n"
    }
   }
  },
  {
   "cell_type": "code",
   "execution_count": 39,
   "outputs": [
    {
     "data": {
      "text/plain": "       IS_OBSERVED  SOURCE  TARGET    TIME                TYPE  WEIGHT  \\\n0                1       5       3  200123  contact_nomination     1.0   \n1                0       2       3  200123                 NaN     0.0   \n2                0     148       3  200123                 NaN     0.0   \n3                0     108       3  200123                 NaN     0.0   \n4                0      49       3  200123                 NaN     0.0   \n...            ...     ...     ...     ...                 ...     ...   \n14807            0      33     158  200214                 NaN     0.0   \n14808            0      57     159  200214                 NaN     0.0   \n14809            0      33     159  200214                 NaN     0.0   \n14810            0      79      76  200214                 NaN     0.0   \n14811            0       2     121  200214                 NaN     0.0   \n\n       EVENT_INTERVAL_ID  EVENT   INTEGER_TIME  TIME_POINT  ...  \\\n0                    0.0    649  1579734000000           2  ...   \n1                    NaN    649  1579734000000           2  ...   \n2                    NaN    649  1579734000000           2  ...   \n3                    NaN    649  1579734000000           2  ...   \n4                    NaN    649  1579734000000           2  ...   \n...                  ...    ...            ...         ...  ...   \n14807                NaN    770  1581634800000          19  ...   \n14808                NaN    770  1581634800000          19  ...   \n14809                NaN    770  1581634800000          19  ...   \n14810                NaN    770  1581634800000          19  ...   \n14811                NaN    770  1581634800000          19  ...   \n\n        network_time  referee_age  referral_age  referee_gender  \\\n0                  0           27            27               0   \n1                  0           68            27               0   \n2                  0           58            27               1   \n3                  0           59            27               1   \n4                  0           62            27               0   \n...              ...          ...           ...             ...   \n14807  1581462000000           63            62               0   \n14808  1581462000000           58            27               1   \n14809  1581462000000           63            27               0   \n14810  1581462000000           62            29               1   \n14811  1581462000000           68            46               0   \n\n       referral_gender  referee_relatives  referral_relatives  age_difference  \\\n0                    1                  0                   0               0   \n1                    1                  0                   0              41   \n2                    1                  0                   0              31   \n3                    1                  1                   0              32   \n4                    1                  1                   0              35   \n...                ...                ...                 ...             ...   \n14807                1                  0                   1               1   \n14808                0                  0                   1              31   \n14809                0                  0                   1              36   \n14810                1                  0                   1              33   \n14811                0                  0                   1              22   \n\n       gender_difference  relatives_difference  \n0                      1                     0  \n1                      1                     0  \n2                      0                     0  \n3                      0                     1  \n4                      1                     1  \n...                  ...                   ...  \n14807                  1                     1  \n14808                  1                     1  \n14809                  0                     1  \n14810                  0                     1  \n14811                  0                     1  \n\n[14812 rows x 31 columns]",
      "text/html": "<div>\n<style scoped>\n    .dataframe tbody tr th:only-of-type {\n        vertical-align: middle;\n    }\n\n    .dataframe tbody tr th {\n        vertical-align: top;\n    }\n\n    .dataframe thead th {\n        text-align: right;\n    }\n</style>\n<table border=\"1\" class=\"dataframe\">\n  <thead>\n    <tr style=\"text-align: right;\">\n      <th></th>\n      <th>IS_OBSERVED</th>\n      <th>SOURCE</th>\n      <th>TARGET</th>\n      <th>TIME</th>\n      <th>TYPE</th>\n      <th>WEIGHT</th>\n      <th>EVENT_INTERVAL_ID</th>\n      <th>EVENT</th>\n      <th>INTEGER_TIME</th>\n      <th>TIME_POINT</th>\n      <th>...</th>\n      <th>network_time</th>\n      <th>referee_age</th>\n      <th>referral_age</th>\n      <th>referee_gender</th>\n      <th>referral_gender</th>\n      <th>referee_relatives</th>\n      <th>referral_relatives</th>\n      <th>age_difference</th>\n      <th>gender_difference</th>\n      <th>relatives_difference</th>\n    </tr>\n  </thead>\n  <tbody>\n    <tr>\n      <th>0</th>\n      <td>1</td>\n      <td>5</td>\n      <td>3</td>\n      <td>200123</td>\n      <td>contact_nomination</td>\n      <td>1.0</td>\n      <td>0.0</td>\n      <td>649</td>\n      <td>1579734000000</td>\n      <td>2</td>\n      <td>...</td>\n      <td>0</td>\n      <td>27</td>\n      <td>27</td>\n      <td>0</td>\n      <td>1</td>\n      <td>0</td>\n      <td>0</td>\n      <td>0</td>\n      <td>1</td>\n      <td>0</td>\n    </tr>\n    <tr>\n      <th>1</th>\n      <td>0</td>\n      <td>2</td>\n      <td>3</td>\n      <td>200123</td>\n      <td>NaN</td>\n      <td>0.0</td>\n      <td>NaN</td>\n      <td>649</td>\n      <td>1579734000000</td>\n      <td>2</td>\n      <td>...</td>\n      <td>0</td>\n      <td>68</td>\n      <td>27</td>\n      <td>0</td>\n      <td>1</td>\n      <td>0</td>\n      <td>0</td>\n      <td>41</td>\n      <td>1</td>\n      <td>0</td>\n    </tr>\n    <tr>\n      <th>2</th>\n      <td>0</td>\n      <td>148</td>\n      <td>3</td>\n      <td>200123</td>\n      <td>NaN</td>\n      <td>0.0</td>\n      <td>NaN</td>\n      <td>649</td>\n      <td>1579734000000</td>\n      <td>2</td>\n      <td>...</td>\n      <td>0</td>\n      <td>58</td>\n      <td>27</td>\n      <td>1</td>\n      <td>1</td>\n      <td>0</td>\n      <td>0</td>\n      <td>31</td>\n      <td>0</td>\n      <td>0</td>\n    </tr>\n    <tr>\n      <th>3</th>\n      <td>0</td>\n      <td>108</td>\n      <td>3</td>\n      <td>200123</td>\n      <td>NaN</td>\n      <td>0.0</td>\n      <td>NaN</td>\n      <td>649</td>\n      <td>1579734000000</td>\n      <td>2</td>\n      <td>...</td>\n      <td>0</td>\n      <td>59</td>\n      <td>27</td>\n      <td>1</td>\n      <td>1</td>\n      <td>1</td>\n      <td>0</td>\n      <td>32</td>\n      <td>0</td>\n      <td>1</td>\n    </tr>\n    <tr>\n      <th>4</th>\n      <td>0</td>\n      <td>49</td>\n      <td>3</td>\n      <td>200123</td>\n      <td>NaN</td>\n      <td>0.0</td>\n      <td>NaN</td>\n      <td>649</td>\n      <td>1579734000000</td>\n      <td>2</td>\n      <td>...</td>\n      <td>0</td>\n      <td>62</td>\n      <td>27</td>\n      <td>0</td>\n      <td>1</td>\n      <td>1</td>\n      <td>0</td>\n      <td>35</td>\n      <td>1</td>\n      <td>1</td>\n    </tr>\n    <tr>\n      <th>...</th>\n      <td>...</td>\n      <td>...</td>\n      <td>...</td>\n      <td>...</td>\n      <td>...</td>\n      <td>...</td>\n      <td>...</td>\n      <td>...</td>\n      <td>...</td>\n      <td>...</td>\n      <td>...</td>\n      <td>...</td>\n      <td>...</td>\n      <td>...</td>\n      <td>...</td>\n      <td>...</td>\n      <td>...</td>\n      <td>...</td>\n      <td>...</td>\n      <td>...</td>\n      <td>...</td>\n    </tr>\n    <tr>\n      <th>14807</th>\n      <td>0</td>\n      <td>33</td>\n      <td>158</td>\n      <td>200214</td>\n      <td>NaN</td>\n      <td>0.0</td>\n      <td>NaN</td>\n      <td>770</td>\n      <td>1581634800000</td>\n      <td>19</td>\n      <td>...</td>\n      <td>1581462000000</td>\n      <td>63</td>\n      <td>62</td>\n      <td>0</td>\n      <td>1</td>\n      <td>0</td>\n      <td>1</td>\n      <td>1</td>\n      <td>1</td>\n      <td>1</td>\n    </tr>\n    <tr>\n      <th>14808</th>\n      <td>0</td>\n      <td>57</td>\n      <td>159</td>\n      <td>200214</td>\n      <td>NaN</td>\n      <td>0.0</td>\n      <td>NaN</td>\n      <td>770</td>\n      <td>1581634800000</td>\n      <td>19</td>\n      <td>...</td>\n      <td>1581462000000</td>\n      <td>58</td>\n      <td>27</td>\n      <td>1</td>\n      <td>0</td>\n      <td>0</td>\n      <td>1</td>\n      <td>31</td>\n      <td>1</td>\n      <td>1</td>\n    </tr>\n    <tr>\n      <th>14809</th>\n      <td>0</td>\n      <td>33</td>\n      <td>159</td>\n      <td>200214</td>\n      <td>NaN</td>\n      <td>0.0</td>\n      <td>NaN</td>\n      <td>770</td>\n      <td>1581634800000</td>\n      <td>19</td>\n      <td>...</td>\n      <td>1581462000000</td>\n      <td>63</td>\n      <td>27</td>\n      <td>0</td>\n      <td>0</td>\n      <td>0</td>\n      <td>1</td>\n      <td>36</td>\n      <td>0</td>\n      <td>1</td>\n    </tr>\n    <tr>\n      <th>14810</th>\n      <td>0</td>\n      <td>79</td>\n      <td>76</td>\n      <td>200214</td>\n      <td>NaN</td>\n      <td>0.0</td>\n      <td>NaN</td>\n      <td>770</td>\n      <td>1581634800000</td>\n      <td>19</td>\n      <td>...</td>\n      <td>1581462000000</td>\n      <td>62</td>\n      <td>29</td>\n      <td>1</td>\n      <td>1</td>\n      <td>0</td>\n      <td>1</td>\n      <td>33</td>\n      <td>0</td>\n      <td>1</td>\n    </tr>\n    <tr>\n      <th>14811</th>\n      <td>0</td>\n      <td>2</td>\n      <td>121</td>\n      <td>200214</td>\n      <td>NaN</td>\n      <td>0.0</td>\n      <td>NaN</td>\n      <td>770</td>\n      <td>1581634800000</td>\n      <td>19</td>\n      <td>...</td>\n      <td>1581462000000</td>\n      <td>68</td>\n      <td>46</td>\n      <td>0</td>\n      <td>0</td>\n      <td>0</td>\n      <td>1</td>\n      <td>22</td>\n      <td>0</td>\n      <td>1</td>\n    </tr>\n  </tbody>\n</table>\n<p>14812 rows × 31 columns</p>\n</div>"
     },
     "execution_count": 39,
     "metadata": {},
     "output_type": "execute_result"
    }
   ],
   "source": [
    "hainan_rem_cond_referral['age_difference'] = abs(\n",
    "    hainan_rem_cond_referral['referee_age'] - hainan_rem_cond_referral['referral_age']).astype('Int64')\n",
    "hainan_rem_cond_referral['gender_difference'] = abs(\n",
    "    hainan_rem_cond_referral['referee_gender'] - hainan_rem_cond_referral['referral_gender']).astype('Int64')\n",
    "hainan_rem_cond_referral['relatives_difference'] = abs(\n",
    "    hainan_rem_cond_referral['referee_relatives'] - hainan_rem_cond_referral['referral_relatives']).astype('Int64')\n",
    "hainan_rem_cond_referral"
   ],
   "metadata": {
    "collapsed": false,
    "pycharm": {
     "name": "#%%\n"
    }
   }
  },
  {
   "cell_type": "code",
   "execution_count": 40,
   "outputs": [],
   "source": [
    "hainan_rem_cond_referral.to_csv('../Data/Tables/rem/hainan_eventlist_nomination_cond_referral.csv')"
   ],
   "metadata": {
    "collapsed": false,
    "pycharm": {
     "name": "#%%\n"
    }
   }
  },
  {
   "cell_type": "markdown",
   "source": [
    "# Shanxi"
   ],
   "metadata": {
    "collapsed": false,
    "pycharm": {
     "name": "#%% md\n"
    }
   }
  },
  {
   "cell_type": "markdown",
   "source": [
    "## Uncond"
   ],
   "metadata": {
    "collapsed": false,
    "pycharm": {
     "name": "#%% md\n"
    }
   }
  },
  {
   "cell_type": "code",
   "execution_count": 82,
   "outputs": [],
   "source": [
    "shanxi_rem = pd.read_csv('../Data/Tables/rem/shanxi_eventlist_nomination.csv',\n",
    "                                       low_memory=False)"
   ],
   "metadata": {
    "collapsed": false,
    "pycharm": {
     "name": "#%%\n"
    }
   }
  },
  {
   "cell_type": "code",
   "execution_count": 83,
   "outputs": [],
   "source": [
    "shanxi_rem['referee_age'] = shanxi_rem['referee_age'].where(\n",
    "    shanxi_rem['referee_age'] != -1, np.nan).astype('Int64')\n",
    "shanxi_rem['referral_age'] = shanxi_rem['referral_age'].where(\n",
    "    shanxi_rem['referral_age'] != -1, np.nan).astype('Int64')\n",
    "\n",
    "shanxi_rem['referee_gender'] = shanxi_rem['referee_gender'].where(\n",
    "    shanxi_rem['referee_gender'] != -1, np.nan).astype('Int64')\n",
    "shanxi_rem['referral_gender'] = shanxi_rem['referral_gender'].where(\n",
    "    shanxi_rem['referral_gender'] != -1, np.nan).astype('Int64')\n",
    "\n",
    "shanxi_rem['referee_relatives'] = shanxi_rem['referee_relatives'].where(\n",
    "    shanxi_rem['referee_relatives'] != -1, np.nan).astype('Int64')\n",
    "shanxi_rem['referral_relatives'] = shanxi_rem['referral_relatives'].where(\n",
    "    shanxi_rem['referral_relatives'] != -1, np.nan).astype('Int64')\n",
    "\n",
    "shanxi_rem['referee_hukou'] = shanxi_rem['referee_hukou'].where(\n",
    "    shanxi_rem['referee_hukou'] != -1, np.nan).astype('Int64')\n",
    "shanxi_rem['referral_hukou'] = shanxi_rem['referral_hukou'].where(\n",
    "    shanxi_rem['referral_hukou'] != -1, np.nan).astype('Int64')"
   ],
   "metadata": {
    "collapsed": false,
    "pycharm": {
     "name": "#%%\n"
    }
   }
  },
  {
   "cell_type": "code",
   "execution_count": 84,
   "outputs": [
    {
     "data": {
      "text/plain": "        IS_OBSERVED  SOURCE  TARGET    TIME                TYPE  WEIGHT  \\\n0                 1      11      10  200125  contact_nomination     1.0   \n1                 1      11       9  200125  contact_nomination     1.0   \n2                 1      10       9  200125  contact_nomination     1.0   \n3                 0     100       7  200125                 NaN     0.0   \n4                 0     100       6  200125                 NaN     0.0   \n...             ...     ...     ...     ...                 ...     ...   \n913899            0     199     235  200216                 NaN     0.0   \n913900            0     199     234  200216                 NaN     0.0   \n913901            0     199     233  200216                 NaN     0.0   \n913902            0     199     232  200216                 NaN     0.0   \n913903            0     199     231  200216                 NaN     0.0   \n\n        EVENT_INTERVAL_ID  EVENT   INTEGER_TIME  TIME_POINT  ...  \\\n0                     0.0   1186  1579906800000           2  ...   \n1                     0.0   1187  1579906800000           2  ...   \n2                     1.0   1188  1579906800000           2  ...   \n3                     NaN   1188  1579906800000           2  ...   \n4                     NaN   1188  1579906800000           2  ...   \n...                   ...    ...            ...         ...  ...   \n913899                NaN   1310  1581807600000          23  ...   \n913900                NaN   1310  1581807600000          23  ...   \n913901                NaN   1310  1581807600000          23  ...   \n913902                NaN   1310  1581807600000          23  ...   \n913903                NaN   1310  1581807600000          23  ...   \n\n        referee_gender  referral_gender  referee_relatives  \\\n0                    0                0                  1   \n1                    0                1                  1   \n2                    0                1                  1   \n3                    0                1                  0   \n4                    0                0                  0   \n...                ...              ...                ...   \n913899               1                1                  0   \n913900               1                1                  0   \n913901               1                0                  0   \n913902               1                0                  0   \n913903               1                0                  0   \n\n        referral_relatives  referee_hukou  referral_hukou  age_difference  \\\n0                        1             16              16              36   \n1                        1             16              16              37   \n2                        1             16              16               1   \n3                        0              4               0              20   \n4                        0              4              18              24   \n...                    ...            ...             ...             ...   \n913899                   1             17               4              21   \n913900                   0             17               4               4   \n913901                   0             17              15              17   \n913902                   0             17               0               4   \n913903                   1             17               0              32   \n\n        gender_difference  relatives_difference  hukou_difference  \n0                       0                     0                 0  \n1                       1                     0                 0  \n2                       1                     0                 0  \n3                       1                     0                 4  \n4                       0                     0                14  \n...                   ...                   ...               ...  \n913899                  0                     1                13  \n913900                  0                     0                13  \n913901                  1                     0                 2  \n913902                  1                     0                17  \n913903                  1                     1                17  \n\n[913904 rows x 34 columns]",
      "text/html": "<div>\n<style scoped>\n    .dataframe tbody tr th:only-of-type {\n        vertical-align: middle;\n    }\n\n    .dataframe tbody tr th {\n        vertical-align: top;\n    }\n\n    .dataframe thead th {\n        text-align: right;\n    }\n</style>\n<table border=\"1\" class=\"dataframe\">\n  <thead>\n    <tr style=\"text-align: right;\">\n      <th></th>\n      <th>IS_OBSERVED</th>\n      <th>SOURCE</th>\n      <th>TARGET</th>\n      <th>TIME</th>\n      <th>TYPE</th>\n      <th>WEIGHT</th>\n      <th>EVENT_INTERVAL_ID</th>\n      <th>EVENT</th>\n      <th>INTEGER_TIME</th>\n      <th>TIME_POINT</th>\n      <th>...</th>\n      <th>referee_gender</th>\n      <th>referral_gender</th>\n      <th>referee_relatives</th>\n      <th>referral_relatives</th>\n      <th>referee_hukou</th>\n      <th>referral_hukou</th>\n      <th>age_difference</th>\n      <th>gender_difference</th>\n      <th>relatives_difference</th>\n      <th>hukou_difference</th>\n    </tr>\n  </thead>\n  <tbody>\n    <tr>\n      <th>0</th>\n      <td>1</td>\n      <td>11</td>\n      <td>10</td>\n      <td>200125</td>\n      <td>contact_nomination</td>\n      <td>1.0</td>\n      <td>0.0</td>\n      <td>1186</td>\n      <td>1579906800000</td>\n      <td>2</td>\n      <td>...</td>\n      <td>0</td>\n      <td>0</td>\n      <td>1</td>\n      <td>1</td>\n      <td>16</td>\n      <td>16</td>\n      <td>36</td>\n      <td>0</td>\n      <td>0</td>\n      <td>0</td>\n    </tr>\n    <tr>\n      <th>1</th>\n      <td>1</td>\n      <td>11</td>\n      <td>9</td>\n      <td>200125</td>\n      <td>contact_nomination</td>\n      <td>1.0</td>\n      <td>0.0</td>\n      <td>1187</td>\n      <td>1579906800000</td>\n      <td>2</td>\n      <td>...</td>\n      <td>0</td>\n      <td>1</td>\n      <td>1</td>\n      <td>1</td>\n      <td>16</td>\n      <td>16</td>\n      <td>37</td>\n      <td>1</td>\n      <td>0</td>\n      <td>0</td>\n    </tr>\n    <tr>\n      <th>2</th>\n      <td>1</td>\n      <td>10</td>\n      <td>9</td>\n      <td>200125</td>\n      <td>contact_nomination</td>\n      <td>1.0</td>\n      <td>1.0</td>\n      <td>1188</td>\n      <td>1579906800000</td>\n      <td>2</td>\n      <td>...</td>\n      <td>0</td>\n      <td>1</td>\n      <td>1</td>\n      <td>1</td>\n      <td>16</td>\n      <td>16</td>\n      <td>1</td>\n      <td>1</td>\n      <td>0</td>\n      <td>0</td>\n    </tr>\n    <tr>\n      <th>3</th>\n      <td>0</td>\n      <td>100</td>\n      <td>7</td>\n      <td>200125</td>\n      <td>NaN</td>\n      <td>0.0</td>\n      <td>NaN</td>\n      <td>1188</td>\n      <td>1579906800000</td>\n      <td>2</td>\n      <td>...</td>\n      <td>0</td>\n      <td>1</td>\n      <td>0</td>\n      <td>0</td>\n      <td>4</td>\n      <td>0</td>\n      <td>20</td>\n      <td>1</td>\n      <td>0</td>\n      <td>4</td>\n    </tr>\n    <tr>\n      <th>4</th>\n      <td>0</td>\n      <td>100</td>\n      <td>6</td>\n      <td>200125</td>\n      <td>NaN</td>\n      <td>0.0</td>\n      <td>NaN</td>\n      <td>1188</td>\n      <td>1579906800000</td>\n      <td>2</td>\n      <td>...</td>\n      <td>0</td>\n      <td>0</td>\n      <td>0</td>\n      <td>0</td>\n      <td>4</td>\n      <td>18</td>\n      <td>24</td>\n      <td>0</td>\n      <td>0</td>\n      <td>14</td>\n    </tr>\n    <tr>\n      <th>...</th>\n      <td>...</td>\n      <td>...</td>\n      <td>...</td>\n      <td>...</td>\n      <td>...</td>\n      <td>...</td>\n      <td>...</td>\n      <td>...</td>\n      <td>...</td>\n      <td>...</td>\n      <td>...</td>\n      <td>...</td>\n      <td>...</td>\n      <td>...</td>\n      <td>...</td>\n      <td>...</td>\n      <td>...</td>\n      <td>...</td>\n      <td>...</td>\n      <td>...</td>\n      <td>...</td>\n    </tr>\n    <tr>\n      <th>913899</th>\n      <td>0</td>\n      <td>199</td>\n      <td>235</td>\n      <td>200216</td>\n      <td>NaN</td>\n      <td>0.0</td>\n      <td>NaN</td>\n      <td>1310</td>\n      <td>1581807600000</td>\n      <td>23</td>\n      <td>...</td>\n      <td>1</td>\n      <td>1</td>\n      <td>0</td>\n      <td>1</td>\n      <td>17</td>\n      <td>4</td>\n      <td>21</td>\n      <td>0</td>\n      <td>1</td>\n      <td>13</td>\n    </tr>\n    <tr>\n      <th>913900</th>\n      <td>0</td>\n      <td>199</td>\n      <td>234</td>\n      <td>200216</td>\n      <td>NaN</td>\n      <td>0.0</td>\n      <td>NaN</td>\n      <td>1310</td>\n      <td>1581807600000</td>\n      <td>23</td>\n      <td>...</td>\n      <td>1</td>\n      <td>1</td>\n      <td>0</td>\n      <td>0</td>\n      <td>17</td>\n      <td>4</td>\n      <td>4</td>\n      <td>0</td>\n      <td>0</td>\n      <td>13</td>\n    </tr>\n    <tr>\n      <th>913901</th>\n      <td>0</td>\n      <td>199</td>\n      <td>233</td>\n      <td>200216</td>\n      <td>NaN</td>\n      <td>0.0</td>\n      <td>NaN</td>\n      <td>1310</td>\n      <td>1581807600000</td>\n      <td>23</td>\n      <td>...</td>\n      <td>1</td>\n      <td>0</td>\n      <td>0</td>\n      <td>0</td>\n      <td>17</td>\n      <td>15</td>\n      <td>17</td>\n      <td>1</td>\n      <td>0</td>\n      <td>2</td>\n    </tr>\n    <tr>\n      <th>913902</th>\n      <td>0</td>\n      <td>199</td>\n      <td>232</td>\n      <td>200216</td>\n      <td>NaN</td>\n      <td>0.0</td>\n      <td>NaN</td>\n      <td>1310</td>\n      <td>1581807600000</td>\n      <td>23</td>\n      <td>...</td>\n      <td>1</td>\n      <td>0</td>\n      <td>0</td>\n      <td>0</td>\n      <td>17</td>\n      <td>0</td>\n      <td>4</td>\n      <td>1</td>\n      <td>0</td>\n      <td>17</td>\n    </tr>\n    <tr>\n      <th>913903</th>\n      <td>0</td>\n      <td>199</td>\n      <td>231</td>\n      <td>200216</td>\n      <td>NaN</td>\n      <td>0.0</td>\n      <td>NaN</td>\n      <td>1310</td>\n      <td>1581807600000</td>\n      <td>23</td>\n      <td>...</td>\n      <td>1</td>\n      <td>0</td>\n      <td>0</td>\n      <td>1</td>\n      <td>17</td>\n      <td>0</td>\n      <td>32</td>\n      <td>1</td>\n      <td>1</td>\n      <td>17</td>\n    </tr>\n  </tbody>\n</table>\n<p>913904 rows × 34 columns</p>\n</div>"
     },
     "execution_count": 84,
     "metadata": {},
     "output_type": "execute_result"
    }
   ],
   "source": [
    "shanxi_rem['age_difference'] = abs(\n",
    "    shanxi_rem['referee_age'] - shanxi_rem['referral_age']).astype('Int64')\n",
    "shanxi_rem['gender_difference'] = abs(\n",
    "    shanxi_rem['referee_gender'] - shanxi_rem['referral_gender']).astype('Int64')\n",
    "shanxi_rem['relatives_difference'] = abs(\n",
    "    shanxi_rem['referee_relatives'] - shanxi_rem['referral_relatives']).astype('Int64')\n",
    "shanxi_rem['hukou_difference'] = abs(\n",
    "    shanxi_rem['referee_hukou'] - shanxi_rem['referral_hukou']).astype('Int64')\n",
    "shanxi_rem"
   ],
   "metadata": {
    "collapsed": false,
    "pycharm": {
     "name": "#%%\n"
    }
   }
  },
  {
   "cell_type": "code",
   "execution_count": 87,
   "outputs": [
    {
     "data": {
      "text/plain": "<IntegerArray>\n[0, 1]\nLength: 2, dtype: Int64"
     },
     "execution_count": 87,
     "metadata": {},
     "output_type": "execute_result"
    }
   ],
   "source": [
    "shanxi_rem['hukou_difference'] = shanxi_rem['hukou_difference'].where(shanxi_rem['hukou_difference'] == 0, 1)\n",
    "shanxi_rem['hukou_difference'].unique()"
   ],
   "metadata": {
    "collapsed": false,
    "pycharm": {
     "name": "#%%\n"
    }
   }
  },
  {
   "cell_type": "code",
   "execution_count": 88,
   "outputs": [],
   "source": [
    "shanxi_rem.to_csv('../Data/Tables/rem/shanxi_eventlist_nomination.csv')"
   ],
   "metadata": {
    "collapsed": false,
    "pycharm": {
     "name": "#%%\n"
    }
   }
  },
  {
   "cell_type": "markdown",
   "source": [
    "## Cond referee"
   ],
   "metadata": {
    "collapsed": false,
    "pycharm": {
     "name": "#%% md\n"
    }
   }
  },
  {
   "cell_type": "code",
   "execution_count": 90,
   "outputs": [],
   "source": [
    "shanxi_rem_cond_referee = pd.read_csv('../Data/Tables/rem/shanxi_eventlist_nomination_cond_referee.csv',\n",
    "                         low_memory=False)"
   ],
   "metadata": {
    "collapsed": false,
    "pycharm": {
     "name": "#%%\n"
    }
   }
  },
  {
   "cell_type": "code",
   "execution_count": 91,
   "outputs": [],
   "source": [
    "shanxi_rem_cond_referee['referee_age'] = shanxi_rem_cond_referee['referee_age'].where(\n",
    "    shanxi_rem_cond_referee['referee_age'] != -1, np.nan).astype('Int64')\n",
    "shanxi_rem_cond_referee['referral_age'] = shanxi_rem_cond_referee['referral_age'].where(\n",
    "    shanxi_rem_cond_referee['referral_age'] != -1, np.nan).astype('Int64')\n",
    "\n",
    "shanxi_rem_cond_referee['referee_gender'] = shanxi_rem_cond_referee['referee_gender'].where(\n",
    "    shanxi_rem_cond_referee['referee_gender'] != -1, np.nan).astype('Int64')\n",
    "shanxi_rem_cond_referee['referral_gender'] = shanxi_rem_cond_referee['referral_gender'].where(\n",
    "    shanxi_rem_cond_referee['referral_gender'] != -1, np.nan).astype('Int64')\n",
    "\n",
    "shanxi_rem_cond_referee['referee_relatives'] = shanxi_rem_cond_referee['referee_relatives'].where(\n",
    "    shanxi_rem_cond_referee['referee_relatives'] != -1, np.nan).astype('Int64')\n",
    "shanxi_rem_cond_referee['referral_relatives'] = shanxi_rem_cond_referee['referral_relatives'].where(\n",
    "    shanxi_rem_cond_referee['referral_relatives'] != -1, np.nan).astype('Int64')\n",
    "\n",
    "shanxi_rem_cond_referee['referee_hukou'] = shanxi_rem_cond_referee['referee_hukou'].where(\n",
    "    shanxi_rem_cond_referee['referee_hukou'] != -1, np.nan).astype('Int64')\n",
    "shanxi_rem_cond_referee['referral_hukou'] = shanxi_rem_cond_referee['referral_hukou'].where(\n",
    "    shanxi_rem_cond_referee['referral_hukou'] != -1, np.nan).astype('Int64')"
   ],
   "metadata": {
    "collapsed": false,
    "pycharm": {
     "name": "#%%\n"
    }
   }
  },
  {
   "cell_type": "code",
   "execution_count": 92,
   "outputs": [
    {
     "data": {
      "text/plain": "       IS_OBSERVED  SOURCE  TARGET    TIME                TYPE  WEIGHT  \\\n0                1      11      10  200125  contact_nomination     1.0   \n1                1      11       9  200125  contact_nomination     1.0   \n2                1      10       9  200125  contact_nomination     1.0   \n3                0      11      32  200125                 NaN     0.0   \n4                0      10      42  200125                 NaN     0.0   \n...            ...     ...     ...     ...                 ...     ...   \n21944            0     237      90  200216                 NaN     0.0   \n21945            0     237      99  200216                 NaN     0.0   \n21946            0     237      98  200216                 NaN     0.0   \n21947            0     237      97  200216                 NaN     0.0   \n21948            0     237      96  200216                 NaN     0.0   \n\n       EVENT_INTERVAL_ID  EVENT   INTEGER_TIME  TIME_POINT  ...  \\\n0                    0.0   1186  1579906800000           2  ...   \n1                    0.0   1187  1579906800000           2  ...   \n2                    1.0   1188  1579906800000           2  ...   \n3                    NaN   1188  1579906800000           2  ...   \n4                    NaN   1188  1579906800000           2  ...   \n...                  ...    ...            ...         ...  ...   \n21944                NaN   1310  1581807600000          23  ...   \n21945                NaN   1310  1581807600000          23  ...   \n21946                NaN   1310  1581807600000          23  ...   \n21947                NaN   1310  1581807600000          23  ...   \n21948                NaN   1310  1581807600000          23  ...   \n\n       referee_gender  referral_gender  referee_relatives  referral_relatives  \\\n0                   0                0                  1                   1   \n1                   0                1                  1                   1   \n2                   0                1                  1                   1   \n3                   0                0                  1                   0   \n4                   0                1                  1                   1   \n...               ...              ...                ...                 ...   \n21944               0                1                  1                   0   \n21945               0                0                  1                   1   \n21946               0                1                  1                   0   \n21947               0                1                  1                   0   \n21948               0                0                  1                   0   \n\n       referee_hukou  referral_hukou  age_difference  gender_difference  \\\n0                 16              16              36                  0   \n1                 16              16              37                  1   \n2                 16              16               1                  1   \n3                 16               0              32                  0   \n4                 16              16               9                  1   \n...              ...             ...             ...                ...   \n21944              4              17              17                  1   \n21945              4               1              22                  0   \n21946              4               1              38                  1   \n21947              4               0              39                  1   \n21948              4              18              34                  0   \n\n       relatives_difference  hukou_difference  \n0                         0                 0  \n1                         0                 0  \n2                         0                 0  \n3                         1                16  \n4                         0                 0  \n...                     ...               ...  \n21944                     1                13  \n21945                     0                 3  \n21946                     1                 3  \n21947                     1                 4  \n21948                     1                14  \n\n[21949 rows x 34 columns]",
      "text/html": "<div>\n<style scoped>\n    .dataframe tbody tr th:only-of-type {\n        vertical-align: middle;\n    }\n\n    .dataframe tbody tr th {\n        vertical-align: top;\n    }\n\n    .dataframe thead th {\n        text-align: right;\n    }\n</style>\n<table border=\"1\" class=\"dataframe\">\n  <thead>\n    <tr style=\"text-align: right;\">\n      <th></th>\n      <th>IS_OBSERVED</th>\n      <th>SOURCE</th>\n      <th>TARGET</th>\n      <th>TIME</th>\n      <th>TYPE</th>\n      <th>WEIGHT</th>\n      <th>EVENT_INTERVAL_ID</th>\n      <th>EVENT</th>\n      <th>INTEGER_TIME</th>\n      <th>TIME_POINT</th>\n      <th>...</th>\n      <th>referee_gender</th>\n      <th>referral_gender</th>\n      <th>referee_relatives</th>\n      <th>referral_relatives</th>\n      <th>referee_hukou</th>\n      <th>referral_hukou</th>\n      <th>age_difference</th>\n      <th>gender_difference</th>\n      <th>relatives_difference</th>\n      <th>hukou_difference</th>\n    </tr>\n  </thead>\n  <tbody>\n    <tr>\n      <th>0</th>\n      <td>1</td>\n      <td>11</td>\n      <td>10</td>\n      <td>200125</td>\n      <td>contact_nomination</td>\n      <td>1.0</td>\n      <td>0.0</td>\n      <td>1186</td>\n      <td>1579906800000</td>\n      <td>2</td>\n      <td>...</td>\n      <td>0</td>\n      <td>0</td>\n      <td>1</td>\n      <td>1</td>\n      <td>16</td>\n      <td>16</td>\n      <td>36</td>\n      <td>0</td>\n      <td>0</td>\n      <td>0</td>\n    </tr>\n    <tr>\n      <th>1</th>\n      <td>1</td>\n      <td>11</td>\n      <td>9</td>\n      <td>200125</td>\n      <td>contact_nomination</td>\n      <td>1.0</td>\n      <td>0.0</td>\n      <td>1187</td>\n      <td>1579906800000</td>\n      <td>2</td>\n      <td>...</td>\n      <td>0</td>\n      <td>1</td>\n      <td>1</td>\n      <td>1</td>\n      <td>16</td>\n      <td>16</td>\n      <td>37</td>\n      <td>1</td>\n      <td>0</td>\n      <td>0</td>\n    </tr>\n    <tr>\n      <th>2</th>\n      <td>1</td>\n      <td>10</td>\n      <td>9</td>\n      <td>200125</td>\n      <td>contact_nomination</td>\n      <td>1.0</td>\n      <td>1.0</td>\n      <td>1188</td>\n      <td>1579906800000</td>\n      <td>2</td>\n      <td>...</td>\n      <td>0</td>\n      <td>1</td>\n      <td>1</td>\n      <td>1</td>\n      <td>16</td>\n      <td>16</td>\n      <td>1</td>\n      <td>1</td>\n      <td>0</td>\n      <td>0</td>\n    </tr>\n    <tr>\n      <th>3</th>\n      <td>0</td>\n      <td>11</td>\n      <td>32</td>\n      <td>200125</td>\n      <td>NaN</td>\n      <td>0.0</td>\n      <td>NaN</td>\n      <td>1188</td>\n      <td>1579906800000</td>\n      <td>2</td>\n      <td>...</td>\n      <td>0</td>\n      <td>0</td>\n      <td>1</td>\n      <td>0</td>\n      <td>16</td>\n      <td>0</td>\n      <td>32</td>\n      <td>0</td>\n      <td>1</td>\n      <td>16</td>\n    </tr>\n    <tr>\n      <th>4</th>\n      <td>0</td>\n      <td>10</td>\n      <td>42</td>\n      <td>200125</td>\n      <td>NaN</td>\n      <td>0.0</td>\n      <td>NaN</td>\n      <td>1188</td>\n      <td>1579906800000</td>\n      <td>2</td>\n      <td>...</td>\n      <td>0</td>\n      <td>1</td>\n      <td>1</td>\n      <td>1</td>\n      <td>16</td>\n      <td>16</td>\n      <td>9</td>\n      <td>1</td>\n      <td>0</td>\n      <td>0</td>\n    </tr>\n    <tr>\n      <th>...</th>\n      <td>...</td>\n      <td>...</td>\n      <td>...</td>\n      <td>...</td>\n      <td>...</td>\n      <td>...</td>\n      <td>...</td>\n      <td>...</td>\n      <td>...</td>\n      <td>...</td>\n      <td>...</td>\n      <td>...</td>\n      <td>...</td>\n      <td>...</td>\n      <td>...</td>\n      <td>...</td>\n      <td>...</td>\n      <td>...</td>\n      <td>...</td>\n      <td>...</td>\n      <td>...</td>\n    </tr>\n    <tr>\n      <th>21944</th>\n      <td>0</td>\n      <td>237</td>\n      <td>90</td>\n      <td>200216</td>\n      <td>NaN</td>\n      <td>0.0</td>\n      <td>NaN</td>\n      <td>1310</td>\n      <td>1581807600000</td>\n      <td>23</td>\n      <td>...</td>\n      <td>0</td>\n      <td>1</td>\n      <td>1</td>\n      <td>0</td>\n      <td>4</td>\n      <td>17</td>\n      <td>17</td>\n      <td>1</td>\n      <td>1</td>\n      <td>13</td>\n    </tr>\n    <tr>\n      <th>21945</th>\n      <td>0</td>\n      <td>237</td>\n      <td>99</td>\n      <td>200216</td>\n      <td>NaN</td>\n      <td>0.0</td>\n      <td>NaN</td>\n      <td>1310</td>\n      <td>1581807600000</td>\n      <td>23</td>\n      <td>...</td>\n      <td>0</td>\n      <td>0</td>\n      <td>1</td>\n      <td>1</td>\n      <td>4</td>\n      <td>1</td>\n      <td>22</td>\n      <td>0</td>\n      <td>0</td>\n      <td>3</td>\n    </tr>\n    <tr>\n      <th>21946</th>\n      <td>0</td>\n      <td>237</td>\n      <td>98</td>\n      <td>200216</td>\n      <td>NaN</td>\n      <td>0.0</td>\n      <td>NaN</td>\n      <td>1310</td>\n      <td>1581807600000</td>\n      <td>23</td>\n      <td>...</td>\n      <td>0</td>\n      <td>1</td>\n      <td>1</td>\n      <td>0</td>\n      <td>4</td>\n      <td>1</td>\n      <td>38</td>\n      <td>1</td>\n      <td>1</td>\n      <td>3</td>\n    </tr>\n    <tr>\n      <th>21947</th>\n      <td>0</td>\n      <td>237</td>\n      <td>97</td>\n      <td>200216</td>\n      <td>NaN</td>\n      <td>0.0</td>\n      <td>NaN</td>\n      <td>1310</td>\n      <td>1581807600000</td>\n      <td>23</td>\n      <td>...</td>\n      <td>0</td>\n      <td>1</td>\n      <td>1</td>\n      <td>0</td>\n      <td>4</td>\n      <td>0</td>\n      <td>39</td>\n      <td>1</td>\n      <td>1</td>\n      <td>4</td>\n    </tr>\n    <tr>\n      <th>21948</th>\n      <td>0</td>\n      <td>237</td>\n      <td>96</td>\n      <td>200216</td>\n      <td>NaN</td>\n      <td>0.0</td>\n      <td>NaN</td>\n      <td>1310</td>\n      <td>1581807600000</td>\n      <td>23</td>\n      <td>...</td>\n      <td>0</td>\n      <td>0</td>\n      <td>1</td>\n      <td>0</td>\n      <td>4</td>\n      <td>18</td>\n      <td>34</td>\n      <td>0</td>\n      <td>1</td>\n      <td>14</td>\n    </tr>\n  </tbody>\n</table>\n<p>21949 rows × 34 columns</p>\n</div>"
     },
     "execution_count": 92,
     "metadata": {},
     "output_type": "execute_result"
    }
   ],
   "source": [
    "shanxi_rem_cond_referee['age_difference'] = abs(\n",
    "    shanxi_rem_cond_referee['referee_age'] - shanxi_rem_cond_referee['referral_age']).astype('Int64')\n",
    "shanxi_rem_cond_referee['gender_difference'] = abs(\n",
    "    shanxi_rem_cond_referee['referee_gender'] - shanxi_rem_cond_referee['referral_gender']).astype('Int64')\n",
    "shanxi_rem_cond_referee['relatives_difference'] = abs(\n",
    "    shanxi_rem_cond_referee['referee_relatives'] - shanxi_rem_cond_referee['referral_relatives']).astype('Int64')\n",
    "shanxi_rem_cond_referee['hukou_difference'] = abs(\n",
    "    shanxi_rem_cond_referee['referee_hukou'] - shanxi_rem_cond_referee['referral_hukou']).astype('Int64')\n",
    "shanxi_rem_cond_referee"
   ],
   "metadata": {
    "collapsed": false,
    "pycharm": {
     "name": "#%%\n"
    }
   }
  },
  {
   "cell_type": "code",
   "execution_count": 93,
   "outputs": [
    {
     "data": {
      "text/plain": "<IntegerArray>\n[0, 1]\nLength: 2, dtype: Int64"
     },
     "execution_count": 93,
     "metadata": {},
     "output_type": "execute_result"
    }
   ],
   "source": [
    "shanxi_rem_cond_referee['hukou_difference'] = shanxi_rem_cond_referee['hukou_difference'].where(shanxi_rem_cond_referee['hukou_difference'] == 0, 1)\n",
    "shanxi_rem_cond_referee['hukou_difference'].unique()"
   ],
   "metadata": {
    "collapsed": false,
    "pycharm": {
     "name": "#%%\n"
    }
   }
  },
  {
   "cell_type": "code",
   "execution_count": 94,
   "outputs": [],
   "source": [
    "shanxi_rem_cond_referee.to_csv('../Data/Tables/rem/shanxi_eventlist_nomination_cond_referee.csv')"
   ],
   "metadata": {
    "collapsed": false,
    "pycharm": {
     "name": "#%%\n"
    }
   }
  },
  {
   "cell_type": "markdown",
   "source": [
    "## Cond referral"
   ],
   "metadata": {
    "collapsed": false,
    "pycharm": {
     "name": "#%% md\n"
    }
   }
  },
  {
   "cell_type": "code",
   "execution_count": 95,
   "outputs": [],
   "source": [
    "shanxi_rem_cond_referral = pd.read_csv('../Data/Tables/rem/shanxi_eventlist_nomination_cond_referral.csv',\n",
    "                                      low_memory=False)"
   ],
   "metadata": {
    "collapsed": false,
    "pycharm": {
     "name": "#%%\n"
    }
   }
  },
  {
   "cell_type": "code",
   "execution_count": 96,
   "outputs": [],
   "source": [
    "shanxi_rem_cond_referral['referee_age'] = shanxi_rem_cond_referral['referee_age'].where(\n",
    "    shanxi_rem_cond_referral['referee_age'] != -1, np.nan).astype('Int64')\n",
    "shanxi_rem_cond_referral['referral_age'] = shanxi_rem_cond_referral['referral_age'].where(\n",
    "    shanxi_rem_cond_referral['referral_age'] != -1, np.nan).astype('Int64')\n",
    "\n",
    "shanxi_rem_cond_referral['referee_gender'] = shanxi_rem_cond_referral['referee_gender'].where(\n",
    "    shanxi_rem_cond_referral['referee_gender'] != -1, np.nan).astype('Int64')\n",
    "shanxi_rem_cond_referral['referral_gender'] = shanxi_rem_cond_referral['referral_gender'].where(\n",
    "    shanxi_rem_cond_referral['referral_gender'] != -1, np.nan).astype('Int64')\n",
    "\n",
    "shanxi_rem_cond_referral['referee_relatives'] = shanxi_rem_cond_referral['referee_relatives'].where(\n",
    "    shanxi_rem_cond_referral['referee_relatives'] != -1, np.nan).astype('Int64')\n",
    "shanxi_rem_cond_referral['referral_relatives'] = shanxi_rem_cond_referral['referral_relatives'].where(\n",
    "    shanxi_rem_cond_referral['referral_relatives'] != -1, np.nan).astype('Int64')\n",
    "\n",
    "shanxi_rem_cond_referral['referee_hukou'] = shanxi_rem_cond_referral['referee_hukou'].where(\n",
    "    shanxi_rem_cond_referral['referee_hukou'] != -1, np.nan).astype('Int64')\n",
    "shanxi_rem_cond_referral['referral_hukou'] = shanxi_rem_cond_referral['referral_hukou'].where(\n",
    "    shanxi_rem_cond_referral['referral_hukou'] != -1, np.nan).astype('Int64')"
   ],
   "metadata": {
    "collapsed": false,
    "pycharm": {
     "name": "#%%\n"
    }
   }
  },
  {
   "cell_type": "code",
   "execution_count": 97,
   "outputs": [
    {
     "data": {
      "text/plain": "       IS_OBSERVED  SOURCE  TARGET    TIME                TYPE  WEIGHT  \\\n0                1      11      10  200125  contact_nomination     1.0   \n1                1      11       9  200125  contact_nomination     1.0   \n2                1      10       9  200125  contact_nomination     1.0   \n3                0     180      10  200125                 NaN     0.0   \n4                0     192      10  200125                 NaN     0.0   \n...            ...     ...     ...     ...                 ...     ...   \n24068            0      37     236  200216                 NaN     0.0   \n24069            0      13     236  200216                 NaN     0.0   \n24070            0     191     236  200216                 NaN     0.0   \n24071            0     191     235  200216                 NaN     0.0   \n24072            0     191     234  200216                 NaN     0.0   \n\n       EVENT_INTERVAL_ID  EVENT   INTEGER_TIME  TIME_POINT  ...  \\\n0                    0.0   1186  1579906800000           2  ...   \n1                    0.0   1187  1579906800000           2  ...   \n2                    1.0   1188  1579906800000           2  ...   \n3                    NaN   1188  1579906800000           2  ...   \n4                    NaN   1188  1579906800000           2  ...   \n...                  ...    ...            ...         ...  ...   \n24068                NaN   1310  1581807600000          23  ...   \n24069                NaN   1310  1581807600000          23  ...   \n24070                NaN   1310  1581807600000          23  ...   \n24071                NaN   1310  1581807600000          23  ...   \n24072                NaN   1310  1581807600000          23  ...   \n\n       referee_gender  referral_gender  referee_relatives  referral_relatives  \\\n0                   0                0                  1                   1   \n1                   0                1                  1                   1   \n2                   0                1                  1                   1   \n3                   1                0                  0                   1   \n4                   0                0                  0                   1   \n...               ...              ...                ...                 ...   \n24068               0                0                  0                   1   \n24069               1                0                  0                   1   \n24070               0                0                  0                   1   \n24071               0                1                  0                   1   \n24072               0                1                  0                   0   \n\n       referee_hukou  referral_hukou  age_difference  gender_difference  \\\n0                 16              16              36                  0   \n1                 16              16              37                  1   \n2                 16              16               1                  1   \n3                 17              16               8                  1   \n4                 17              16              14                  0   \n...              ...             ...             ...                ...   \n24068              1               4              25                  0   \n24069             17               4              38                  1   \n24070             17               4               0                  0   \n24071             17               4               5                  1   \n24072             17               4              20                  1   \n\n       relatives_difference  hukou_difference  \n0                         0                 0  \n1                         0                 0  \n2                         0                 0  \n3                         1                 1  \n4                         1                 1  \n...                     ...               ...  \n24068                     1                 3  \n24069                     1                13  \n24070                     1                13  \n24071                     1                13  \n24072                     0                13  \n\n[24073 rows x 34 columns]",
      "text/html": "<div>\n<style scoped>\n    .dataframe tbody tr th:only-of-type {\n        vertical-align: middle;\n    }\n\n    .dataframe tbody tr th {\n        vertical-align: top;\n    }\n\n    .dataframe thead th {\n        text-align: right;\n    }\n</style>\n<table border=\"1\" class=\"dataframe\">\n  <thead>\n    <tr style=\"text-align: right;\">\n      <th></th>\n      <th>IS_OBSERVED</th>\n      <th>SOURCE</th>\n      <th>TARGET</th>\n      <th>TIME</th>\n      <th>TYPE</th>\n      <th>WEIGHT</th>\n      <th>EVENT_INTERVAL_ID</th>\n      <th>EVENT</th>\n      <th>INTEGER_TIME</th>\n      <th>TIME_POINT</th>\n      <th>...</th>\n      <th>referee_gender</th>\n      <th>referral_gender</th>\n      <th>referee_relatives</th>\n      <th>referral_relatives</th>\n      <th>referee_hukou</th>\n      <th>referral_hukou</th>\n      <th>age_difference</th>\n      <th>gender_difference</th>\n      <th>relatives_difference</th>\n      <th>hukou_difference</th>\n    </tr>\n  </thead>\n  <tbody>\n    <tr>\n      <th>0</th>\n      <td>1</td>\n      <td>11</td>\n      <td>10</td>\n      <td>200125</td>\n      <td>contact_nomination</td>\n      <td>1.0</td>\n      <td>0.0</td>\n      <td>1186</td>\n      <td>1579906800000</td>\n      <td>2</td>\n      <td>...</td>\n      <td>0</td>\n      <td>0</td>\n      <td>1</td>\n      <td>1</td>\n      <td>16</td>\n      <td>16</td>\n      <td>36</td>\n      <td>0</td>\n      <td>0</td>\n      <td>0</td>\n    </tr>\n    <tr>\n      <th>1</th>\n      <td>1</td>\n      <td>11</td>\n      <td>9</td>\n      <td>200125</td>\n      <td>contact_nomination</td>\n      <td>1.0</td>\n      <td>0.0</td>\n      <td>1187</td>\n      <td>1579906800000</td>\n      <td>2</td>\n      <td>...</td>\n      <td>0</td>\n      <td>1</td>\n      <td>1</td>\n      <td>1</td>\n      <td>16</td>\n      <td>16</td>\n      <td>37</td>\n      <td>1</td>\n      <td>0</td>\n      <td>0</td>\n    </tr>\n    <tr>\n      <th>2</th>\n      <td>1</td>\n      <td>10</td>\n      <td>9</td>\n      <td>200125</td>\n      <td>contact_nomination</td>\n      <td>1.0</td>\n      <td>1.0</td>\n      <td>1188</td>\n      <td>1579906800000</td>\n      <td>2</td>\n      <td>...</td>\n      <td>0</td>\n      <td>1</td>\n      <td>1</td>\n      <td>1</td>\n      <td>16</td>\n      <td>16</td>\n      <td>1</td>\n      <td>1</td>\n      <td>0</td>\n      <td>0</td>\n    </tr>\n    <tr>\n      <th>3</th>\n      <td>0</td>\n      <td>180</td>\n      <td>10</td>\n      <td>200125</td>\n      <td>NaN</td>\n      <td>0.0</td>\n      <td>NaN</td>\n      <td>1188</td>\n      <td>1579906800000</td>\n      <td>2</td>\n      <td>...</td>\n      <td>1</td>\n      <td>0</td>\n      <td>0</td>\n      <td>1</td>\n      <td>17</td>\n      <td>16</td>\n      <td>8</td>\n      <td>1</td>\n      <td>1</td>\n      <td>1</td>\n    </tr>\n    <tr>\n      <th>4</th>\n      <td>0</td>\n      <td>192</td>\n      <td>10</td>\n      <td>200125</td>\n      <td>NaN</td>\n      <td>0.0</td>\n      <td>NaN</td>\n      <td>1188</td>\n      <td>1579906800000</td>\n      <td>2</td>\n      <td>...</td>\n      <td>0</td>\n      <td>0</td>\n      <td>0</td>\n      <td>1</td>\n      <td>17</td>\n      <td>16</td>\n      <td>14</td>\n      <td>0</td>\n      <td>1</td>\n      <td>1</td>\n    </tr>\n    <tr>\n      <th>...</th>\n      <td>...</td>\n      <td>...</td>\n      <td>...</td>\n      <td>...</td>\n      <td>...</td>\n      <td>...</td>\n      <td>...</td>\n      <td>...</td>\n      <td>...</td>\n      <td>...</td>\n      <td>...</td>\n      <td>...</td>\n      <td>...</td>\n      <td>...</td>\n      <td>...</td>\n      <td>...</td>\n      <td>...</td>\n      <td>...</td>\n      <td>...</td>\n      <td>...</td>\n      <td>...</td>\n    </tr>\n    <tr>\n      <th>24068</th>\n      <td>0</td>\n      <td>37</td>\n      <td>236</td>\n      <td>200216</td>\n      <td>NaN</td>\n      <td>0.0</td>\n      <td>NaN</td>\n      <td>1310</td>\n      <td>1581807600000</td>\n      <td>23</td>\n      <td>...</td>\n      <td>0</td>\n      <td>0</td>\n      <td>0</td>\n      <td>1</td>\n      <td>1</td>\n      <td>4</td>\n      <td>25</td>\n      <td>0</td>\n      <td>1</td>\n      <td>3</td>\n    </tr>\n    <tr>\n      <th>24069</th>\n      <td>0</td>\n      <td>13</td>\n      <td>236</td>\n      <td>200216</td>\n      <td>NaN</td>\n      <td>0.0</td>\n      <td>NaN</td>\n      <td>1310</td>\n      <td>1581807600000</td>\n      <td>23</td>\n      <td>...</td>\n      <td>1</td>\n      <td>0</td>\n      <td>0</td>\n      <td>1</td>\n      <td>17</td>\n      <td>4</td>\n      <td>38</td>\n      <td>1</td>\n      <td>1</td>\n      <td>13</td>\n    </tr>\n    <tr>\n      <th>24070</th>\n      <td>0</td>\n      <td>191</td>\n      <td>236</td>\n      <td>200216</td>\n      <td>NaN</td>\n      <td>0.0</td>\n      <td>NaN</td>\n      <td>1310</td>\n      <td>1581807600000</td>\n      <td>23</td>\n      <td>...</td>\n      <td>0</td>\n      <td>0</td>\n      <td>0</td>\n      <td>1</td>\n      <td>17</td>\n      <td>4</td>\n      <td>0</td>\n      <td>0</td>\n      <td>1</td>\n      <td>13</td>\n    </tr>\n    <tr>\n      <th>24071</th>\n      <td>0</td>\n      <td>191</td>\n      <td>235</td>\n      <td>200216</td>\n      <td>NaN</td>\n      <td>0.0</td>\n      <td>NaN</td>\n      <td>1310</td>\n      <td>1581807600000</td>\n      <td>23</td>\n      <td>...</td>\n      <td>0</td>\n      <td>1</td>\n      <td>0</td>\n      <td>1</td>\n      <td>17</td>\n      <td>4</td>\n      <td>5</td>\n      <td>1</td>\n      <td>1</td>\n      <td>13</td>\n    </tr>\n    <tr>\n      <th>24072</th>\n      <td>0</td>\n      <td>191</td>\n      <td>234</td>\n      <td>200216</td>\n      <td>NaN</td>\n      <td>0.0</td>\n      <td>NaN</td>\n      <td>1310</td>\n      <td>1581807600000</td>\n      <td>23</td>\n      <td>...</td>\n      <td>0</td>\n      <td>1</td>\n      <td>0</td>\n      <td>0</td>\n      <td>17</td>\n      <td>4</td>\n      <td>20</td>\n      <td>1</td>\n      <td>0</td>\n      <td>13</td>\n    </tr>\n  </tbody>\n</table>\n<p>24073 rows × 34 columns</p>\n</div>"
     },
     "execution_count": 97,
     "metadata": {},
     "output_type": "execute_result"
    }
   ],
   "source": [
    "shanxi_rem_cond_referral['age_difference'] = abs(\n",
    "    shanxi_rem_cond_referral['referee_age'] - shanxi_rem_cond_referral['referral_age']).astype('Int64')\n",
    "shanxi_rem_cond_referral['gender_difference'] = abs(\n",
    "    shanxi_rem_cond_referral['referee_gender'] - shanxi_rem_cond_referral['referral_gender']).astype('Int64')\n",
    "shanxi_rem_cond_referral['relatives_difference'] = abs(\n",
    "    shanxi_rem_cond_referral['referee_relatives'] - shanxi_rem_cond_referral['referral_relatives']).astype('Int64')\n",
    "shanxi_rem_cond_referral['hukou_difference'] = abs(\n",
    "    shanxi_rem_cond_referral['referee_hukou'] - shanxi_rem_cond_referral['referral_hukou']).astype('Int64')\n",
    "shanxi_rem_cond_referral"
   ],
   "metadata": {
    "collapsed": false,
    "pycharm": {
     "name": "#%%\n"
    }
   }
  },
  {
   "cell_type": "code",
   "execution_count": 98,
   "outputs": [
    {
     "data": {
      "text/plain": "<IntegerArray>\n[0, 1]\nLength: 2, dtype: Int64"
     },
     "execution_count": 98,
     "metadata": {},
     "output_type": "execute_result"
    }
   ],
   "source": [
    "shanxi_rem_cond_referral['hukou_difference'] = shanxi_rem_cond_referral['hukou_difference'].where(shanxi_rem_cond_referral['hukou_difference'] == 0, 1)\n",
    "shanxi_rem_cond_referral['hukou_difference'].unique()"
   ],
   "metadata": {
    "collapsed": false,
    "pycharm": {
     "name": "#%%\n"
    }
   }
  },
  {
   "cell_type": "code",
   "execution_count": 99,
   "outputs": [],
   "source": [
    "shanxi_rem_cond_referral.to_csv('../Data/Tables/rem/shanxi_eventlist_nomination_cond_referral.csv')"
   ],
   "metadata": {
    "collapsed": false,
    "pycharm": {
     "name": "#%%\n"
    }
   }
  },
  {
   "cell_type": "markdown",
   "source": [
    "# Bucharest"
   ],
   "metadata": {
    "collapsed": false,
    "pycharm": {
     "name": "#%% md\n"
    }
   }
  },
  {
   "cell_type": "markdown",
   "source": [
    "## Uncond"
   ],
   "metadata": {
    "collapsed": false,
    "pycharm": {
     "name": "#%% md\n"
    }
   }
  },
  {
   "cell_type": "code",
   "execution_count": 2,
   "outputs": [
    {
     "data": {
      "text/plain": "         IS_OBSERVED        SOURCE       TARGET    TIME                TYPE  \\\n0                  1         53594  10330S53594  200801  contact_nomination   \n1                  1         53594  10331S53594  200801  contact_nomination   \n2                  0   5596S129950        69499  200801                 NaN   \n3                  0        192557  8026S169866  200801                 NaN   \n4                  0  11525S191626       215334  200801                 NaN   \n...              ...           ...          ...     ...                 ...   \n1351049            0        127668       236629  201031                 NaN   \n1351050            0  12655S226068        90552  201031                 NaN   \n1351051            0        271600        28764  201031                 NaN   \n1351052            0         85239       192723  201031                 NaN   \n1351053            0        182708       217321  201031                 NaN   \n\n         WEIGHT  EVENT_INTERVAL_ID   EVENT   INTEGER_TIME  TIME_POINT  ...  \\\n0           1.0                0.0  289176  1596232800000           2  ...   \n1           1.0                0.0  289177  1596232800000           2  ...   \n2           0.0                NaN  289177  1596232800000           2  ...   \n3           0.0                NaN  289177  1596232800000           2  ...   \n4           0.0                NaN  289177  1596232800000           2  ...   \n...         ...                ...     ...            ...         ...  ...   \n1351049     0.0                NaN  302552  1604098800000          91  ...   \n1351050     0.0                NaN  302552  1604098800000          91  ...   \n1351051     0.0                NaN  302552  1604098800000          91  ...   \n1351052     0.0                NaN  302552  1604098800000          91  ...   \n1351053     0.0                NaN  302552  1604098800000          91  ...   \n\n         network_activity   network_time  referee_age  referral_age  \\\n0                       0              0           56            67   \n1                       0              0           56            22   \n2                       0              0           60            64   \n3                       0              0           40            82   \n4                       0              0           34            47   \n...                   ...            ...          ...           ...   \n1351049             13290  1604012400000            9            50   \n1351050             13290  1604012400000           22            56   \n1351051             13290  1604012400000           68            40   \n1351052             13290  1604012400000           26            50   \n1351053             13290  1604012400000           35            65   \n\n         referee_gender  referral_gender  referee_isco08_label  \\\n0                     2               -1                    20   \n1                     2               -1                    20   \n2                    -1                2                    20   \n3                     2               -1                    20   \n4                    -1                2                    20   \n...                 ...              ...                   ...   \n1351049               2                1                    20   \n1351050              -1                1                    20   \n1351051               1                1                    20   \n1351052               2                1                    20   \n1351053               1                1                    20   \n\n         referral_isco08_label  referee_medical  referral_medical  \n0                           12                2                 0  \n1                           20                2                 2  \n2                           20                2                 2  \n3                           12                2                 0  \n4                           20                2                 2  \n...                        ...              ...               ...  \n1351049                     20                2                 2  \n1351050                     20                2                 2  \n1351051                     20                2                 2  \n1351052                     20                2                 2  \n1351053                     20                2                 2  \n\n[1351054 rows x 30 columns]",
      "text/html": "<div>\n<style scoped>\n    .dataframe tbody tr th:only-of-type {\n        vertical-align: middle;\n    }\n\n    .dataframe tbody tr th {\n        vertical-align: top;\n    }\n\n    .dataframe thead th {\n        text-align: right;\n    }\n</style>\n<table border=\"1\" class=\"dataframe\">\n  <thead>\n    <tr style=\"text-align: right;\">\n      <th></th>\n      <th>IS_OBSERVED</th>\n      <th>SOURCE</th>\n      <th>TARGET</th>\n      <th>TIME</th>\n      <th>TYPE</th>\n      <th>WEIGHT</th>\n      <th>EVENT_INTERVAL_ID</th>\n      <th>EVENT</th>\n      <th>INTEGER_TIME</th>\n      <th>TIME_POINT</th>\n      <th>...</th>\n      <th>network_activity</th>\n      <th>network_time</th>\n      <th>referee_age</th>\n      <th>referral_age</th>\n      <th>referee_gender</th>\n      <th>referral_gender</th>\n      <th>referee_isco08_label</th>\n      <th>referral_isco08_label</th>\n      <th>referee_medical</th>\n      <th>referral_medical</th>\n    </tr>\n  </thead>\n  <tbody>\n    <tr>\n      <th>0</th>\n      <td>1</td>\n      <td>53594</td>\n      <td>10330S53594</td>\n      <td>200801</td>\n      <td>contact_nomination</td>\n      <td>1.0</td>\n      <td>0.0</td>\n      <td>289176</td>\n      <td>1596232800000</td>\n      <td>2</td>\n      <td>...</td>\n      <td>0</td>\n      <td>0</td>\n      <td>56</td>\n      <td>67</td>\n      <td>2</td>\n      <td>-1</td>\n      <td>20</td>\n      <td>12</td>\n      <td>2</td>\n      <td>0</td>\n    </tr>\n    <tr>\n      <th>1</th>\n      <td>1</td>\n      <td>53594</td>\n      <td>10331S53594</td>\n      <td>200801</td>\n      <td>contact_nomination</td>\n      <td>1.0</td>\n      <td>0.0</td>\n      <td>289177</td>\n      <td>1596232800000</td>\n      <td>2</td>\n      <td>...</td>\n      <td>0</td>\n      <td>0</td>\n      <td>56</td>\n      <td>22</td>\n      <td>2</td>\n      <td>-1</td>\n      <td>20</td>\n      <td>20</td>\n      <td>2</td>\n      <td>2</td>\n    </tr>\n    <tr>\n      <th>2</th>\n      <td>0</td>\n      <td>5596S129950</td>\n      <td>69499</td>\n      <td>200801</td>\n      <td>NaN</td>\n      <td>0.0</td>\n      <td>NaN</td>\n      <td>289177</td>\n      <td>1596232800000</td>\n      <td>2</td>\n      <td>...</td>\n      <td>0</td>\n      <td>0</td>\n      <td>60</td>\n      <td>64</td>\n      <td>-1</td>\n      <td>2</td>\n      <td>20</td>\n      <td>20</td>\n      <td>2</td>\n      <td>2</td>\n    </tr>\n    <tr>\n      <th>3</th>\n      <td>0</td>\n      <td>192557</td>\n      <td>8026S169866</td>\n      <td>200801</td>\n      <td>NaN</td>\n      <td>0.0</td>\n      <td>NaN</td>\n      <td>289177</td>\n      <td>1596232800000</td>\n      <td>2</td>\n      <td>...</td>\n      <td>0</td>\n      <td>0</td>\n      <td>40</td>\n      <td>82</td>\n      <td>2</td>\n      <td>-1</td>\n      <td>20</td>\n      <td>12</td>\n      <td>2</td>\n      <td>0</td>\n    </tr>\n    <tr>\n      <th>4</th>\n      <td>0</td>\n      <td>11525S191626</td>\n      <td>215334</td>\n      <td>200801</td>\n      <td>NaN</td>\n      <td>0.0</td>\n      <td>NaN</td>\n      <td>289177</td>\n      <td>1596232800000</td>\n      <td>2</td>\n      <td>...</td>\n      <td>0</td>\n      <td>0</td>\n      <td>34</td>\n      <td>47</td>\n      <td>-1</td>\n      <td>2</td>\n      <td>20</td>\n      <td>20</td>\n      <td>2</td>\n      <td>2</td>\n    </tr>\n    <tr>\n      <th>...</th>\n      <td>...</td>\n      <td>...</td>\n      <td>...</td>\n      <td>...</td>\n      <td>...</td>\n      <td>...</td>\n      <td>...</td>\n      <td>...</td>\n      <td>...</td>\n      <td>...</td>\n      <td>...</td>\n      <td>...</td>\n      <td>...</td>\n      <td>...</td>\n      <td>...</td>\n      <td>...</td>\n      <td>...</td>\n      <td>...</td>\n      <td>...</td>\n      <td>...</td>\n      <td>...</td>\n    </tr>\n    <tr>\n      <th>1351049</th>\n      <td>0</td>\n      <td>127668</td>\n      <td>236629</td>\n      <td>201031</td>\n      <td>NaN</td>\n      <td>0.0</td>\n      <td>NaN</td>\n      <td>302552</td>\n      <td>1604098800000</td>\n      <td>91</td>\n      <td>...</td>\n      <td>13290</td>\n      <td>1604012400000</td>\n      <td>9</td>\n      <td>50</td>\n      <td>2</td>\n      <td>1</td>\n      <td>20</td>\n      <td>20</td>\n      <td>2</td>\n      <td>2</td>\n    </tr>\n    <tr>\n      <th>1351050</th>\n      <td>0</td>\n      <td>12655S226068</td>\n      <td>90552</td>\n      <td>201031</td>\n      <td>NaN</td>\n      <td>0.0</td>\n      <td>NaN</td>\n      <td>302552</td>\n      <td>1604098800000</td>\n      <td>91</td>\n      <td>...</td>\n      <td>13290</td>\n      <td>1604012400000</td>\n      <td>22</td>\n      <td>56</td>\n      <td>-1</td>\n      <td>1</td>\n      <td>20</td>\n      <td>20</td>\n      <td>2</td>\n      <td>2</td>\n    </tr>\n    <tr>\n      <th>1351051</th>\n      <td>0</td>\n      <td>271600</td>\n      <td>28764</td>\n      <td>201031</td>\n      <td>NaN</td>\n      <td>0.0</td>\n      <td>NaN</td>\n      <td>302552</td>\n      <td>1604098800000</td>\n      <td>91</td>\n      <td>...</td>\n      <td>13290</td>\n      <td>1604012400000</td>\n      <td>68</td>\n      <td>40</td>\n      <td>1</td>\n      <td>1</td>\n      <td>20</td>\n      <td>20</td>\n      <td>2</td>\n      <td>2</td>\n    </tr>\n    <tr>\n      <th>1351052</th>\n      <td>0</td>\n      <td>85239</td>\n      <td>192723</td>\n      <td>201031</td>\n      <td>NaN</td>\n      <td>0.0</td>\n      <td>NaN</td>\n      <td>302552</td>\n      <td>1604098800000</td>\n      <td>91</td>\n      <td>...</td>\n      <td>13290</td>\n      <td>1604012400000</td>\n      <td>26</td>\n      <td>50</td>\n      <td>2</td>\n      <td>1</td>\n      <td>20</td>\n      <td>20</td>\n      <td>2</td>\n      <td>2</td>\n    </tr>\n    <tr>\n      <th>1351053</th>\n      <td>0</td>\n      <td>182708</td>\n      <td>217321</td>\n      <td>201031</td>\n      <td>NaN</td>\n      <td>0.0</td>\n      <td>NaN</td>\n      <td>302552</td>\n      <td>1604098800000</td>\n      <td>91</td>\n      <td>...</td>\n      <td>13290</td>\n      <td>1604012400000</td>\n      <td>35</td>\n      <td>65</td>\n      <td>1</td>\n      <td>1</td>\n      <td>20</td>\n      <td>20</td>\n      <td>2</td>\n      <td>2</td>\n    </tr>\n  </tbody>\n</table>\n<p>1351054 rows × 30 columns</p>\n</div>"
     },
     "execution_count": 2,
     "metadata": {},
     "output_type": "execute_result"
    }
   ],
   "source": [
    "bucharest_rem = pd.read_csv('../Data/Tables/rem/bucharest_eventlist_nomination.csv',\n",
    "                            low_memory=False)\n",
    "bucharest_rem"
   ],
   "metadata": {
    "collapsed": false,
    "pycharm": {
     "name": "#%%\n"
    }
   }
  },
  {
   "cell_type": "code",
   "execution_count": 3,
   "outputs": [],
   "source": [
    "bucharest_rem['referee_age'] = bucharest_rem['referee_age'].where(\n",
    "    bucharest_rem['referee_age'] != -1, np.nan).astype('Int64')\n",
    "bucharest_rem['referral_age'] = bucharest_rem['referral_age'].where(\n",
    "    bucharest_rem['referral_age'] != -1, np.nan).astype('Int64')\n",
    "\n",
    "bucharest_rem['referee_gender'] = bucharest_rem['referee_gender'].where(\n",
    "    bucharest_rem['referee_gender'] != -1, np.nan).astype('Int64')\n",
    "bucharest_rem['referral_gender'] = bucharest_rem['referral_gender'].where(\n",
    "    bucharest_rem['referral_gender'] != -1, np.nan).astype('Int64')\n",
    "\n",
    "bucharest_rem['referee_isco08_label'] = bucharest_rem['referee_isco08_label'].where(\n",
    "    bucharest_rem['referee_isco08_label'] != -1, np.nan).astype('Int64')\n",
    "bucharest_rem['referral_isco08_label'] = bucharest_rem['referral_isco08_label'].where(\n",
    "    bucharest_rem['referral_isco08_label'] != -1, np.nan).astype('Int64')\n",
    "\n",
    "bucharest_rem['referee_medical'] = bucharest_rem['referee_medical'].where(\n",
    "    bucharest_rem['referee_medical'] != -1, np.nan).astype('Int64')\n",
    "bucharest_rem['referral_medical'] = bucharest_rem['referral_medical'].where(\n",
    "    bucharest_rem['referral_medical'] != -1, np.nan).astype('Int64')"
   ],
   "metadata": {
    "collapsed": false,
    "pycharm": {
     "name": "#%%\n"
    }
   }
  },
  {
   "cell_type": "code",
   "execution_count": 4,
   "outputs": [
    {
     "data": {
      "text/plain": "         IS_OBSERVED        SOURCE       TARGET    TIME                TYPE  \\\n0                  1         53594  10330S53594  200801  contact_nomination   \n1                  1         53594  10331S53594  200801  contact_nomination   \n2                  0   5596S129950        69499  200801                 NaN   \n3                  0        192557  8026S169866  200801                 NaN   \n4                  0  11525S191626       215334  200801                 NaN   \n...              ...           ...          ...     ...                 ...   \n1351049            0        127668       236629  201031                 NaN   \n1351050            0  12655S226068        90552  201031                 NaN   \n1351051            0        271600        28764  201031                 NaN   \n1351052            0         85239       192723  201031                 NaN   \n1351053            0        182708       217321  201031                 NaN   \n\n         WEIGHT  EVENT_INTERVAL_ID   EVENT   INTEGER_TIME  TIME_POINT  ...  \\\n0           1.0                0.0  289176  1596232800000           2  ...   \n1           1.0                0.0  289177  1596232800000           2  ...   \n2           0.0                NaN  289177  1596232800000           2  ...   \n3           0.0                NaN  289177  1596232800000           2  ...   \n4           0.0                NaN  289177  1596232800000           2  ...   \n...         ...                ...     ...            ...         ...  ...   \n1351049     0.0                NaN  302552  1604098800000          91  ...   \n1351050     0.0                NaN  302552  1604098800000          91  ...   \n1351051     0.0                NaN  302552  1604098800000          91  ...   \n1351052     0.0                NaN  302552  1604098800000          91  ...   \n1351053     0.0                NaN  302552  1604098800000          91  ...   \n\n         referee_gender  referral_gender  referee_isco08_label  \\\n0                     2             <NA>                    20   \n1                     2             <NA>                    20   \n2                  <NA>                2                    20   \n3                     2             <NA>                    20   \n4                  <NA>                2                    20   \n...                 ...              ...                   ...   \n1351049               2                1                    20   \n1351050            <NA>                1                    20   \n1351051               1                1                    20   \n1351052               2                1                    20   \n1351053               1                1                    20   \n\n         referral_isco08_label  referee_medical  referral_medical  \\\n0                           12                2                 0   \n1                           20                2                 2   \n2                           20                2                 2   \n3                           12                2                 0   \n4                           20                2                 2   \n...                        ...              ...               ...   \n1351049                     20                2                 2   \n1351050                     20                2                 2   \n1351051                     20                2                 2   \n1351052                     20                2                 2   \n1351053                     20                2                 2   \n\n         age_difference  gender_difference  isco08_label_difference  \\\n0                    11               <NA>                        8   \n1                    34               <NA>                        0   \n2                     4               <NA>                        0   \n3                    42               <NA>                        8   \n4                    13               <NA>                        0   \n...                 ...                ...                      ...   \n1351049              41                  1                        0   \n1351050              34               <NA>                        0   \n1351051              28                  0                        0   \n1351052              24                  1                        0   \n1351053              30                  0                        0   \n\n         medical_difference  \n0                         2  \n1                         0  \n2                         0  \n3                         2  \n4                         0  \n...                     ...  \n1351049                   0  \n1351050                   0  \n1351051                   0  \n1351052                   0  \n1351053                   0  \n\n[1351054 rows x 34 columns]",
      "text/html": "<div>\n<style scoped>\n    .dataframe tbody tr th:only-of-type {\n        vertical-align: middle;\n    }\n\n    .dataframe tbody tr th {\n        vertical-align: top;\n    }\n\n    .dataframe thead th {\n        text-align: right;\n    }\n</style>\n<table border=\"1\" class=\"dataframe\">\n  <thead>\n    <tr style=\"text-align: right;\">\n      <th></th>\n      <th>IS_OBSERVED</th>\n      <th>SOURCE</th>\n      <th>TARGET</th>\n      <th>TIME</th>\n      <th>TYPE</th>\n      <th>WEIGHT</th>\n      <th>EVENT_INTERVAL_ID</th>\n      <th>EVENT</th>\n      <th>INTEGER_TIME</th>\n      <th>TIME_POINT</th>\n      <th>...</th>\n      <th>referee_gender</th>\n      <th>referral_gender</th>\n      <th>referee_isco08_label</th>\n      <th>referral_isco08_label</th>\n      <th>referee_medical</th>\n      <th>referral_medical</th>\n      <th>age_difference</th>\n      <th>gender_difference</th>\n      <th>isco08_label_difference</th>\n      <th>medical_difference</th>\n    </tr>\n  </thead>\n  <tbody>\n    <tr>\n      <th>0</th>\n      <td>1</td>\n      <td>53594</td>\n      <td>10330S53594</td>\n      <td>200801</td>\n      <td>contact_nomination</td>\n      <td>1.0</td>\n      <td>0.0</td>\n      <td>289176</td>\n      <td>1596232800000</td>\n      <td>2</td>\n      <td>...</td>\n      <td>2</td>\n      <td>&lt;NA&gt;</td>\n      <td>20</td>\n      <td>12</td>\n      <td>2</td>\n      <td>0</td>\n      <td>11</td>\n      <td>&lt;NA&gt;</td>\n      <td>8</td>\n      <td>2</td>\n    </tr>\n    <tr>\n      <th>1</th>\n      <td>1</td>\n      <td>53594</td>\n      <td>10331S53594</td>\n      <td>200801</td>\n      <td>contact_nomination</td>\n      <td>1.0</td>\n      <td>0.0</td>\n      <td>289177</td>\n      <td>1596232800000</td>\n      <td>2</td>\n      <td>...</td>\n      <td>2</td>\n      <td>&lt;NA&gt;</td>\n      <td>20</td>\n      <td>20</td>\n      <td>2</td>\n      <td>2</td>\n      <td>34</td>\n      <td>&lt;NA&gt;</td>\n      <td>0</td>\n      <td>0</td>\n    </tr>\n    <tr>\n      <th>2</th>\n      <td>0</td>\n      <td>5596S129950</td>\n      <td>69499</td>\n      <td>200801</td>\n      <td>NaN</td>\n      <td>0.0</td>\n      <td>NaN</td>\n      <td>289177</td>\n      <td>1596232800000</td>\n      <td>2</td>\n      <td>...</td>\n      <td>&lt;NA&gt;</td>\n      <td>2</td>\n      <td>20</td>\n      <td>20</td>\n      <td>2</td>\n      <td>2</td>\n      <td>4</td>\n      <td>&lt;NA&gt;</td>\n      <td>0</td>\n      <td>0</td>\n    </tr>\n    <tr>\n      <th>3</th>\n      <td>0</td>\n      <td>192557</td>\n      <td>8026S169866</td>\n      <td>200801</td>\n      <td>NaN</td>\n      <td>0.0</td>\n      <td>NaN</td>\n      <td>289177</td>\n      <td>1596232800000</td>\n      <td>2</td>\n      <td>...</td>\n      <td>2</td>\n      <td>&lt;NA&gt;</td>\n      <td>20</td>\n      <td>12</td>\n      <td>2</td>\n      <td>0</td>\n      <td>42</td>\n      <td>&lt;NA&gt;</td>\n      <td>8</td>\n      <td>2</td>\n    </tr>\n    <tr>\n      <th>4</th>\n      <td>0</td>\n      <td>11525S191626</td>\n      <td>215334</td>\n      <td>200801</td>\n      <td>NaN</td>\n      <td>0.0</td>\n      <td>NaN</td>\n      <td>289177</td>\n      <td>1596232800000</td>\n      <td>2</td>\n      <td>...</td>\n      <td>&lt;NA&gt;</td>\n      <td>2</td>\n      <td>20</td>\n      <td>20</td>\n      <td>2</td>\n      <td>2</td>\n      <td>13</td>\n      <td>&lt;NA&gt;</td>\n      <td>0</td>\n      <td>0</td>\n    </tr>\n    <tr>\n      <th>...</th>\n      <td>...</td>\n      <td>...</td>\n      <td>...</td>\n      <td>...</td>\n      <td>...</td>\n      <td>...</td>\n      <td>...</td>\n      <td>...</td>\n      <td>...</td>\n      <td>...</td>\n      <td>...</td>\n      <td>...</td>\n      <td>...</td>\n      <td>...</td>\n      <td>...</td>\n      <td>...</td>\n      <td>...</td>\n      <td>...</td>\n      <td>...</td>\n      <td>...</td>\n      <td>...</td>\n    </tr>\n    <tr>\n      <th>1351049</th>\n      <td>0</td>\n      <td>127668</td>\n      <td>236629</td>\n      <td>201031</td>\n      <td>NaN</td>\n      <td>0.0</td>\n      <td>NaN</td>\n      <td>302552</td>\n      <td>1604098800000</td>\n      <td>91</td>\n      <td>...</td>\n      <td>2</td>\n      <td>1</td>\n      <td>20</td>\n      <td>20</td>\n      <td>2</td>\n      <td>2</td>\n      <td>41</td>\n      <td>1</td>\n      <td>0</td>\n      <td>0</td>\n    </tr>\n    <tr>\n      <th>1351050</th>\n      <td>0</td>\n      <td>12655S226068</td>\n      <td>90552</td>\n      <td>201031</td>\n      <td>NaN</td>\n      <td>0.0</td>\n      <td>NaN</td>\n      <td>302552</td>\n      <td>1604098800000</td>\n      <td>91</td>\n      <td>...</td>\n      <td>&lt;NA&gt;</td>\n      <td>1</td>\n      <td>20</td>\n      <td>20</td>\n      <td>2</td>\n      <td>2</td>\n      <td>34</td>\n      <td>&lt;NA&gt;</td>\n      <td>0</td>\n      <td>0</td>\n    </tr>\n    <tr>\n      <th>1351051</th>\n      <td>0</td>\n      <td>271600</td>\n      <td>28764</td>\n      <td>201031</td>\n      <td>NaN</td>\n      <td>0.0</td>\n      <td>NaN</td>\n      <td>302552</td>\n      <td>1604098800000</td>\n      <td>91</td>\n      <td>...</td>\n      <td>1</td>\n      <td>1</td>\n      <td>20</td>\n      <td>20</td>\n      <td>2</td>\n      <td>2</td>\n      <td>28</td>\n      <td>0</td>\n      <td>0</td>\n      <td>0</td>\n    </tr>\n    <tr>\n      <th>1351052</th>\n      <td>0</td>\n      <td>85239</td>\n      <td>192723</td>\n      <td>201031</td>\n      <td>NaN</td>\n      <td>0.0</td>\n      <td>NaN</td>\n      <td>302552</td>\n      <td>1604098800000</td>\n      <td>91</td>\n      <td>...</td>\n      <td>2</td>\n      <td>1</td>\n      <td>20</td>\n      <td>20</td>\n      <td>2</td>\n      <td>2</td>\n      <td>24</td>\n      <td>1</td>\n      <td>0</td>\n      <td>0</td>\n    </tr>\n    <tr>\n      <th>1351053</th>\n      <td>0</td>\n      <td>182708</td>\n      <td>217321</td>\n      <td>201031</td>\n      <td>NaN</td>\n      <td>0.0</td>\n      <td>NaN</td>\n      <td>302552</td>\n      <td>1604098800000</td>\n      <td>91</td>\n      <td>...</td>\n      <td>1</td>\n      <td>1</td>\n      <td>20</td>\n      <td>20</td>\n      <td>2</td>\n      <td>2</td>\n      <td>30</td>\n      <td>0</td>\n      <td>0</td>\n      <td>0</td>\n    </tr>\n  </tbody>\n</table>\n<p>1351054 rows × 34 columns</p>\n</div>"
     },
     "execution_count": 4,
     "metadata": {},
     "output_type": "execute_result"
    }
   ],
   "source": [
    "bucharest_rem['age_difference'] = abs(\n",
    "    bucharest_rem['referee_age'] - bucharest_rem['referral_age']).astype('Int64')\n",
    "bucharest_rem['gender_difference'] = abs(\n",
    "    bucharest_rem['referee_gender'] - bucharest_rem['referral_gender']).astype('Int64')\n",
    "bucharest_rem['isco08_label_difference'] = abs(\n",
    "    bucharest_rem['referee_isco08_label'] - bucharest_rem['referral_isco08_label']).astype('Int64')\n",
    "bucharest_rem['medical_difference'] = abs(\n",
    "    bucharest_rem['referee_medical'] - bucharest_rem['referral_medical']).astype('Int64')\n",
    "bucharest_rem"
   ],
   "metadata": {
    "collapsed": false,
    "pycharm": {
     "name": "#%%\n"
    }
   }
  },
  {
   "cell_type": "code",
   "execution_count": 5,
   "outputs": [
    {
     "data": {
      "text/plain": "(<IntegerArray>\n [1, 0]\n Length: 2, dtype: Int64,\n <IntegerArray>\n [1, 0]\n Length: 2, dtype: Int64)"
     },
     "execution_count": 5,
     "metadata": {},
     "output_type": "execute_result"
    }
   ],
   "source": [
    "bucharest_rem['isco08_label_difference'] = bucharest_rem['isco08_label_difference'].where(bucharest_rem['isco08_label_difference'] == 0, 1)\n",
    "bucharest_rem['medical_difference'] = bucharest_rem['medical_difference'].where(bucharest_rem['medical_difference'] == 0, 1)\n",
    "bucharest_rem['isco08_label_difference'].unique(), bucharest_rem['medical_difference'].unique()"
   ],
   "metadata": {
    "collapsed": false,
    "pycharm": {
     "name": "#%%\n"
    }
   }
  },
  {
   "cell_type": "code",
   "execution_count": 6,
   "outputs": [],
   "source": [
    "bucharest_rem.to_csv('../Data/Tables/rem/bucharest_eventlist_nomination.csv')"
   ],
   "metadata": {
    "collapsed": false,
    "pycharm": {
     "name": "#%%\n"
    }
   }
  },
  {
   "cell_type": "markdown",
   "source": [
    "## Cond referee"
   ],
   "metadata": {
    "collapsed": false,
    "pycharm": {
     "name": "#%% md\n"
    }
   }
  },
  {
   "cell_type": "code",
   "execution_count": 7,
   "outputs": [],
   "source": [
    "bucharest_rem_cond_referee = pd.read_csv('../Data/Tables/rem/bucharest_eventlist_nomination_cond_referee.csv',\n",
    "                         low_memory=False)"
   ],
   "metadata": {
    "collapsed": false,
    "pycharm": {
     "name": "#%%\n"
    }
   }
  },
  {
   "cell_type": "code",
   "execution_count": 8,
   "outputs": [],
   "source": [
    "bucharest_rem_cond_referee['referee_age'] = bucharest_rem_cond_referee['referee_age'].where(\n",
    "    bucharest_rem_cond_referee['referee_age'] != -1, np.nan).astype('Int64')\n",
    "bucharest_rem_cond_referee['referral_age'] = bucharest_rem_cond_referee['referral_age'].where(\n",
    "    bucharest_rem_cond_referee['referral_age'] != -1, np.nan).astype('Int64')\n",
    "\n",
    "bucharest_rem_cond_referee['referee_gender'] = bucharest_rem_cond_referee['referee_gender'].where(\n",
    "    bucharest_rem_cond_referee['referee_gender'] != -1, np.nan).astype('Int64')\n",
    "bucharest_rem_cond_referee['referral_gender'] = bucharest_rem_cond_referee['referral_gender'].where(\n",
    "    bucharest_rem_cond_referee['referral_gender'] != -1, np.nan).astype('Int64')\n",
    "\n",
    "bucharest_rem_cond_referee['referee_isco08_label'] = bucharest_rem_cond_referee['referee_isco08_label'].where(\n",
    "    bucharest_rem_cond_referee['referee_isco08_label'] != -1, np.nan).astype('Int64')\n",
    "bucharest_rem_cond_referee['referral_isco08_label'] = bucharest_rem_cond_referee['referral_isco08_label'].where(\n",
    "    bucharest_rem_cond_referee['referral_isco08_label'] != -1, np.nan).astype('Int64')\n",
    "\n",
    "bucharest_rem_cond_referee['referee_medical'] = bucharest_rem_cond_referee['referee_medical'].where(\n",
    "    bucharest_rem_cond_referee['referee_medical'] != -1, np.nan).astype('Int64')\n",
    "bucharest_rem_cond_referee['referral_medical'] = bucharest_rem_cond_referee['referral_medical'].where(\n",
    "    bucharest_rem_cond_referee['referral_medical'] != -1, np.nan).astype('Int64')"
   ],
   "metadata": {
    "collapsed": false,
    "pycharm": {
     "name": "#%%\n"
    }
   }
  },
  {
   "cell_type": "code",
   "execution_count": 9,
   "outputs": [
    {
     "data": {
      "text/plain": "         IS_OBSERVED  SOURCE       TARGET    TIME                TYPE  WEIGHT  \\\n0                  1   53594  10330S53594  200801  contact_nomination     1.0   \n1                  1   53594  10331S53594  200801  contact_nomination     1.0   \n2                  0   53594        60113  200801                 NaN     0.0   \n3                  0   53594       285317  200801                 NaN     0.0   \n4                  0   53594       145495  200801                 NaN     0.0   \n...              ...     ...          ...     ...                 ...     ...   \n1351039            0  251724       180873  201031                 NaN     0.0   \n1351040            0  252032        39758  201031                 NaN     0.0   \n1351041            0  260323       225752  201031                 NaN     0.0   \n1351042            0  252233  9759S111599  201031                 NaN     0.0   \n1351043            0  252107       289645  201031                 NaN     0.0   \n\n         EVENT_INTERVAL_ID   EVENT   INTEGER_TIME  TIME_POINT  ...  \\\n0                      0.0  289176  1596232800000           2  ...   \n1                      0.0  289177  1596232800000           2  ...   \n2                      NaN  289177  1596232800000           2  ...   \n3                      NaN  289177  1596232800000           2  ...   \n4                      NaN  289177  1596232800000           2  ...   \n...                    ...     ...            ...         ...  ...   \n1351039                NaN  302552  1604098800000          91  ...   \n1351040                NaN  302552  1604098800000          91  ...   \n1351041                NaN  302552  1604098800000          91  ...   \n1351042                NaN  302552  1604098800000          91  ...   \n1351043                NaN  302552  1604098800000          91  ...   \n\n         referee_gender  referral_gender  referee_isco08_label  \\\n0                     2             <NA>                    20   \n1                     2             <NA>                    20   \n2                     2                2                    20   \n3                     2                2                    20   \n4                     2                1                    20   \n...                 ...              ...                   ...   \n1351039               2                2                    20   \n1351040               1                1                    20   \n1351041               1                1                    20   \n1351042               1             <NA>                    20   \n1351043               1                2                    11   \n\n         referral_isco08_label  referee_medical  referral_medical  \\\n0                           12                2                 0   \n1                           20                2                 2   \n2                           20                2                 2   \n3                           20                2                 2   \n4                            9                2                 2   \n...                        ...              ...               ...   \n1351039                     20                2                 2   \n1351040                     20                2                 2   \n1351041                     20                2                 2   \n1351042                     20                2                 2   \n1351043                     20                0                 2   \n\n         age_difference  gender_difference  isco08_label_difference  \\\n0                    11               <NA>                        8   \n1                    34               <NA>                        0   \n2                    20                  0                        0   \n3                    34                  0                        0   \n4                    16                  1                       11   \n...                 ...                ...                      ...   \n1351039              11                  0                        0   \n1351040              22                  0                        0   \n1351041              13                  0                        0   \n1351042               5               <NA>                        0   \n1351043              54                  1                        9   \n\n         medical_difference  \n0                         2  \n1                         0  \n2                         0  \n3                         0  \n4                         0  \n...                     ...  \n1351039                   0  \n1351040                   0  \n1351041                   0  \n1351042                   0  \n1351043                   2  \n\n[1351044 rows x 34 columns]",
      "text/html": "<div>\n<style scoped>\n    .dataframe tbody tr th:only-of-type {\n        vertical-align: middle;\n    }\n\n    .dataframe tbody tr th {\n        vertical-align: top;\n    }\n\n    .dataframe thead th {\n        text-align: right;\n    }\n</style>\n<table border=\"1\" class=\"dataframe\">\n  <thead>\n    <tr style=\"text-align: right;\">\n      <th></th>\n      <th>IS_OBSERVED</th>\n      <th>SOURCE</th>\n      <th>TARGET</th>\n      <th>TIME</th>\n      <th>TYPE</th>\n      <th>WEIGHT</th>\n      <th>EVENT_INTERVAL_ID</th>\n      <th>EVENT</th>\n      <th>INTEGER_TIME</th>\n      <th>TIME_POINT</th>\n      <th>...</th>\n      <th>referee_gender</th>\n      <th>referral_gender</th>\n      <th>referee_isco08_label</th>\n      <th>referral_isco08_label</th>\n      <th>referee_medical</th>\n      <th>referral_medical</th>\n      <th>age_difference</th>\n      <th>gender_difference</th>\n      <th>isco08_label_difference</th>\n      <th>medical_difference</th>\n    </tr>\n  </thead>\n  <tbody>\n    <tr>\n      <th>0</th>\n      <td>1</td>\n      <td>53594</td>\n      <td>10330S53594</td>\n      <td>200801</td>\n      <td>contact_nomination</td>\n      <td>1.0</td>\n      <td>0.0</td>\n      <td>289176</td>\n      <td>1596232800000</td>\n      <td>2</td>\n      <td>...</td>\n      <td>2</td>\n      <td>&lt;NA&gt;</td>\n      <td>20</td>\n      <td>12</td>\n      <td>2</td>\n      <td>0</td>\n      <td>11</td>\n      <td>&lt;NA&gt;</td>\n      <td>8</td>\n      <td>2</td>\n    </tr>\n    <tr>\n      <th>1</th>\n      <td>1</td>\n      <td>53594</td>\n      <td>10331S53594</td>\n      <td>200801</td>\n      <td>contact_nomination</td>\n      <td>1.0</td>\n      <td>0.0</td>\n      <td>289177</td>\n      <td>1596232800000</td>\n      <td>2</td>\n      <td>...</td>\n      <td>2</td>\n      <td>&lt;NA&gt;</td>\n      <td>20</td>\n      <td>20</td>\n      <td>2</td>\n      <td>2</td>\n      <td>34</td>\n      <td>&lt;NA&gt;</td>\n      <td>0</td>\n      <td>0</td>\n    </tr>\n    <tr>\n      <th>2</th>\n      <td>0</td>\n      <td>53594</td>\n      <td>60113</td>\n      <td>200801</td>\n      <td>NaN</td>\n      <td>0.0</td>\n      <td>NaN</td>\n      <td>289177</td>\n      <td>1596232800000</td>\n      <td>2</td>\n      <td>...</td>\n      <td>2</td>\n      <td>2</td>\n      <td>20</td>\n      <td>20</td>\n      <td>2</td>\n      <td>2</td>\n      <td>20</td>\n      <td>0</td>\n      <td>0</td>\n      <td>0</td>\n    </tr>\n    <tr>\n      <th>3</th>\n      <td>0</td>\n      <td>53594</td>\n      <td>285317</td>\n      <td>200801</td>\n      <td>NaN</td>\n      <td>0.0</td>\n      <td>NaN</td>\n      <td>289177</td>\n      <td>1596232800000</td>\n      <td>2</td>\n      <td>...</td>\n      <td>2</td>\n      <td>2</td>\n      <td>20</td>\n      <td>20</td>\n      <td>2</td>\n      <td>2</td>\n      <td>34</td>\n      <td>0</td>\n      <td>0</td>\n      <td>0</td>\n    </tr>\n    <tr>\n      <th>4</th>\n      <td>0</td>\n      <td>53594</td>\n      <td>145495</td>\n      <td>200801</td>\n      <td>NaN</td>\n      <td>0.0</td>\n      <td>NaN</td>\n      <td>289177</td>\n      <td>1596232800000</td>\n      <td>2</td>\n      <td>...</td>\n      <td>2</td>\n      <td>1</td>\n      <td>20</td>\n      <td>9</td>\n      <td>2</td>\n      <td>2</td>\n      <td>16</td>\n      <td>1</td>\n      <td>11</td>\n      <td>0</td>\n    </tr>\n    <tr>\n      <th>...</th>\n      <td>...</td>\n      <td>...</td>\n      <td>...</td>\n      <td>...</td>\n      <td>...</td>\n      <td>...</td>\n      <td>...</td>\n      <td>...</td>\n      <td>...</td>\n      <td>...</td>\n      <td>...</td>\n      <td>...</td>\n      <td>...</td>\n      <td>...</td>\n      <td>...</td>\n      <td>...</td>\n      <td>...</td>\n      <td>...</td>\n      <td>...</td>\n      <td>...</td>\n      <td>...</td>\n    </tr>\n    <tr>\n      <th>1351039</th>\n      <td>0</td>\n      <td>251724</td>\n      <td>180873</td>\n      <td>201031</td>\n      <td>NaN</td>\n      <td>0.0</td>\n      <td>NaN</td>\n      <td>302552</td>\n      <td>1604098800000</td>\n      <td>91</td>\n      <td>...</td>\n      <td>2</td>\n      <td>2</td>\n      <td>20</td>\n      <td>20</td>\n      <td>2</td>\n      <td>2</td>\n      <td>11</td>\n      <td>0</td>\n      <td>0</td>\n      <td>0</td>\n    </tr>\n    <tr>\n      <th>1351040</th>\n      <td>0</td>\n      <td>252032</td>\n      <td>39758</td>\n      <td>201031</td>\n      <td>NaN</td>\n      <td>0.0</td>\n      <td>NaN</td>\n      <td>302552</td>\n      <td>1604098800000</td>\n      <td>91</td>\n      <td>...</td>\n      <td>1</td>\n      <td>1</td>\n      <td>20</td>\n      <td>20</td>\n      <td>2</td>\n      <td>2</td>\n      <td>22</td>\n      <td>0</td>\n      <td>0</td>\n      <td>0</td>\n    </tr>\n    <tr>\n      <th>1351041</th>\n      <td>0</td>\n      <td>260323</td>\n      <td>225752</td>\n      <td>201031</td>\n      <td>NaN</td>\n      <td>0.0</td>\n      <td>NaN</td>\n      <td>302552</td>\n      <td>1604098800000</td>\n      <td>91</td>\n      <td>...</td>\n      <td>1</td>\n      <td>1</td>\n      <td>20</td>\n      <td>20</td>\n      <td>2</td>\n      <td>2</td>\n      <td>13</td>\n      <td>0</td>\n      <td>0</td>\n      <td>0</td>\n    </tr>\n    <tr>\n      <th>1351042</th>\n      <td>0</td>\n      <td>252233</td>\n      <td>9759S111599</td>\n      <td>201031</td>\n      <td>NaN</td>\n      <td>0.0</td>\n      <td>NaN</td>\n      <td>302552</td>\n      <td>1604098800000</td>\n      <td>91</td>\n      <td>...</td>\n      <td>1</td>\n      <td>&lt;NA&gt;</td>\n      <td>20</td>\n      <td>20</td>\n      <td>2</td>\n      <td>2</td>\n      <td>5</td>\n      <td>&lt;NA&gt;</td>\n      <td>0</td>\n      <td>0</td>\n    </tr>\n    <tr>\n      <th>1351043</th>\n      <td>0</td>\n      <td>252107</td>\n      <td>289645</td>\n      <td>201031</td>\n      <td>NaN</td>\n      <td>0.0</td>\n      <td>NaN</td>\n      <td>302552</td>\n      <td>1604098800000</td>\n      <td>91</td>\n      <td>...</td>\n      <td>1</td>\n      <td>2</td>\n      <td>11</td>\n      <td>20</td>\n      <td>0</td>\n      <td>2</td>\n      <td>54</td>\n      <td>1</td>\n      <td>9</td>\n      <td>2</td>\n    </tr>\n  </tbody>\n</table>\n<p>1351044 rows × 34 columns</p>\n</div>"
     },
     "execution_count": 9,
     "metadata": {},
     "output_type": "execute_result"
    }
   ],
   "source": [
    "bucharest_rem_cond_referee['age_difference'] = abs(\n",
    "    bucharest_rem_cond_referee['referee_age'] - bucharest_rem_cond_referee['referral_age']).astype('Int64')\n",
    "bucharest_rem_cond_referee['gender_difference'] = abs(\n",
    "    bucharest_rem_cond_referee['referee_gender'] - bucharest_rem_cond_referee['referral_gender']).astype('Int64')\n",
    "bucharest_rem_cond_referee['isco08_label_difference'] = abs(\n",
    "    bucharest_rem_cond_referee['referee_isco08_label'] - bucharest_rem_cond_referee['referral_isco08_label']).astype('Int64')\n",
    "bucharest_rem_cond_referee['medical_difference'] = abs(\n",
    "    bucharest_rem_cond_referee['referee_medical'] - bucharest_rem_cond_referee['referral_medical']).astype('Int64')\n",
    "bucharest_rem_cond_referee"
   ],
   "metadata": {
    "collapsed": false,
    "pycharm": {
     "name": "#%%\n"
    }
   }
  },
  {
   "cell_type": "code",
   "execution_count": 10,
   "outputs": [
    {
     "data": {
      "text/plain": "(<IntegerArray>\n [1, 0]\n Length: 2, dtype: Int64,\n <IntegerArray>\n [1, 0]\n Length: 2, dtype: Int64)"
     },
     "execution_count": 10,
     "metadata": {},
     "output_type": "execute_result"
    }
   ],
   "source": [
    "bucharest_rem_cond_referee['isco08_label_difference'] = bucharest_rem_cond_referee['isco08_label_difference'].where(bucharest_rem_cond_referee['isco08_label_difference'] == 0, 1)\n",
    "bucharest_rem_cond_referee['medical_difference'] = bucharest_rem_cond_referee['medical_difference'].where(bucharest_rem_cond_referee['medical_difference'] == 0, 1)\n",
    "bucharest_rem_cond_referee['isco08_label_difference'].unique(), bucharest_rem_cond_referee['medical_difference'].unique()"
   ],
   "metadata": {
    "collapsed": false,
    "pycharm": {
     "name": "#%%\n"
    }
   }
  },
  {
   "cell_type": "code",
   "execution_count": 11,
   "outputs": [],
   "source": [
    "bucharest_rem_cond_referee.to_csv('../Data/Tables/rem/bucharest_eventlist_nomination_cond_referee.csv')"
   ],
   "metadata": {
    "collapsed": false,
    "pycharm": {
     "name": "#%%\n"
    }
   }
  },
  {
   "cell_type": "markdown",
   "source": [
    "## Cond referral"
   ],
   "metadata": {
    "collapsed": false,
    "pycharm": {
     "name": "#%% md\n"
    }
   }
  },
  {
   "cell_type": "code",
   "execution_count": 12,
   "outputs": [],
   "source": [
    "bucharest_rem_cond_referral = pd.read_csv('../Data/Tables/rem/bucharest_eventlist_nomination_cond_referral.csv',\n",
    "                         low_memory=False)"
   ],
   "metadata": {
    "collapsed": false,
    "pycharm": {
     "name": "#%%\n"
    }
   }
  },
  {
   "cell_type": "code",
   "execution_count": 13,
   "outputs": [],
   "source": [
    "bucharest_rem_cond_referral['referee_age'] = bucharest_rem_cond_referral['referee_age'].where(\n",
    "    bucharest_rem_cond_referral['referee_age'] != -1, np.nan).astype('Int64')\n",
    "bucharest_rem_cond_referral['referral_age'] = bucharest_rem_cond_referral['referral_age'].where(\n",
    "    bucharest_rem_cond_referral['referral_age'] != -1, np.nan).astype('Int64')\n",
    "\n",
    "bucharest_rem_cond_referral['referee_gender'] = bucharest_rem_cond_referral['referee_gender'].where(\n",
    "    bucharest_rem_cond_referral['referee_gender'] != -1, np.nan).astype('Int64')\n",
    "bucharest_rem_cond_referral['referral_gender'] = bucharest_rem_cond_referral['referral_gender'].where(\n",
    "    bucharest_rem_cond_referral['referral_gender'] != -1, np.nan).astype('Int64')\n",
    "\n",
    "bucharest_rem_cond_referral['referee_isco08_label'] = bucharest_rem_cond_referral['referee_isco08_label'].where(\n",
    "    bucharest_rem_cond_referral['referee_isco08_label'] != -1, np.nan).astype('Int64')\n",
    "bucharest_rem_cond_referral['referral_isco08_label'] = bucharest_rem_cond_referral['referral_isco08_label'].where(\n",
    "    bucharest_rem_cond_referral['referral_isco08_label'] != -1, np.nan).astype('Int64')\n",
    "\n",
    "bucharest_rem_cond_referral['referee_medical'] = bucharest_rem_cond_referral['referee_medical'].where(\n",
    "    bucharest_rem_cond_referral['referee_medical'] != -1, np.nan).astype('Int64')\n",
    "bucharest_rem_cond_referral['referral_medical'] = bucharest_rem_cond_referral['referral_medical'].where(\n",
    "    bucharest_rem_cond_referral['referral_medical'] != -1, np.nan).astype('Int64')"
   ],
   "metadata": {
    "collapsed": false,
    "pycharm": {
     "name": "#%%\n"
    }
   }
  },
  {
   "cell_type": "code",
   "execution_count": 14,
   "outputs": [
    {
     "data": {
      "text/plain": "         IS_OBSERVED        SOURCE       TARGET    TIME                TYPE  \\\n0                  1         53594  10330S53594  200801  contact_nomination   \n1                  1         53594  10331S53594  200801  contact_nomination   \n2                  0  11294S187921  10331S53594  200801                 NaN   \n3                  0   4688S136112  10330S53594  200801                 NaN   \n4                  0         76426  10331S53594  200801                 NaN   \n...              ...           ...          ...     ...                 ...   \n1351043            0        121498  5435S251724  201031                 NaN   \n1351044            0        149481  9721S252092  201031                 NaN   \n1351045            0  12268S162990  4786S252341  201031                 NaN   \n1351046            0        224158       303035  201031                 NaN   \n1351047            0        127689  4026S243977  201031                 NaN   \n\n         WEIGHT  EVENT_INTERVAL_ID   EVENT   INTEGER_TIME  TIME_POINT  ...  \\\n0           1.0                0.0  289176  1596232800000           2  ...   \n1           1.0                0.0  289177  1596232800000           2  ...   \n2           0.0                NaN  289177  1596232800000           2  ...   \n3           0.0                NaN  289177  1596232800000           2  ...   \n4           0.0                NaN  289177  1596232800000           2  ...   \n...         ...                ...     ...            ...         ...  ...   \n1351043     0.0                NaN  302552  1604098800000          91  ...   \n1351044     0.0                NaN  302552  1604098800000          91  ...   \n1351045     0.0                NaN  302552  1604098800000          91  ...   \n1351046     0.0                NaN  302552  1604098800000          91  ...   \n1351047     0.0                NaN  302552  1604098800000          91  ...   \n\n         referee_gender  referral_gender  referee_isco08_label  \\\n0                     2             <NA>                    20   \n1                     2             <NA>                    20   \n2                  <NA>             <NA>                    20   \n3                  <NA>             <NA>                    20   \n4                     1             <NA>                    20   \n...                 ...              ...                   ...   \n1351043               2             <NA>                    20   \n1351044               1             <NA>                    20   \n1351045            <NA>             <NA>                    20   \n1351046               1                2                    20   \n1351047               2             <NA>                    20   \n\n         referral_isco08_label  referee_medical  referral_medical  \\\n0                           12                2                 0   \n1                           20                2                 2   \n2                           20                2                 2   \n3                           12                2                 0   \n4                           20                2                 2   \n...                        ...              ...               ...   \n1351043                     14                2                 0   \n1351044                     20                2                 2   \n1351045                     20                2                 2   \n1351046                     20                2                 2   \n1351047                     20                2                 2   \n\n         age_difference  gender_difference  isco08_label_difference  \\\n0                    11               <NA>                        8   \n1                    34               <NA>                        0   \n2                    40               <NA>                        0   \n3                    23               <NA>                        8   \n4                    14               <NA>                        0   \n...                 ...                ...                      ...   \n1351043              40               <NA>                        6   \n1351044               4               <NA>                        0   \n1351045               0               <NA>                        0   \n1351046               6                  1                        0   \n1351047              41               <NA>                        0   \n\n         medical_difference  \n0                         2  \n1                         0  \n2                         0  \n3                         2  \n4                         0  \n...                     ...  \n1351043                   2  \n1351044                   0  \n1351045                   0  \n1351046                   0  \n1351047                   0  \n\n[1351048 rows x 34 columns]",
      "text/html": "<div>\n<style scoped>\n    .dataframe tbody tr th:only-of-type {\n        vertical-align: middle;\n    }\n\n    .dataframe tbody tr th {\n        vertical-align: top;\n    }\n\n    .dataframe thead th {\n        text-align: right;\n    }\n</style>\n<table border=\"1\" class=\"dataframe\">\n  <thead>\n    <tr style=\"text-align: right;\">\n      <th></th>\n      <th>IS_OBSERVED</th>\n      <th>SOURCE</th>\n      <th>TARGET</th>\n      <th>TIME</th>\n      <th>TYPE</th>\n      <th>WEIGHT</th>\n      <th>EVENT_INTERVAL_ID</th>\n      <th>EVENT</th>\n      <th>INTEGER_TIME</th>\n      <th>TIME_POINT</th>\n      <th>...</th>\n      <th>referee_gender</th>\n      <th>referral_gender</th>\n      <th>referee_isco08_label</th>\n      <th>referral_isco08_label</th>\n      <th>referee_medical</th>\n      <th>referral_medical</th>\n      <th>age_difference</th>\n      <th>gender_difference</th>\n      <th>isco08_label_difference</th>\n      <th>medical_difference</th>\n    </tr>\n  </thead>\n  <tbody>\n    <tr>\n      <th>0</th>\n      <td>1</td>\n      <td>53594</td>\n      <td>10330S53594</td>\n      <td>200801</td>\n      <td>contact_nomination</td>\n      <td>1.0</td>\n      <td>0.0</td>\n      <td>289176</td>\n      <td>1596232800000</td>\n      <td>2</td>\n      <td>...</td>\n      <td>2</td>\n      <td>&lt;NA&gt;</td>\n      <td>20</td>\n      <td>12</td>\n      <td>2</td>\n      <td>0</td>\n      <td>11</td>\n      <td>&lt;NA&gt;</td>\n      <td>8</td>\n      <td>2</td>\n    </tr>\n    <tr>\n      <th>1</th>\n      <td>1</td>\n      <td>53594</td>\n      <td>10331S53594</td>\n      <td>200801</td>\n      <td>contact_nomination</td>\n      <td>1.0</td>\n      <td>0.0</td>\n      <td>289177</td>\n      <td>1596232800000</td>\n      <td>2</td>\n      <td>...</td>\n      <td>2</td>\n      <td>&lt;NA&gt;</td>\n      <td>20</td>\n      <td>20</td>\n      <td>2</td>\n      <td>2</td>\n      <td>34</td>\n      <td>&lt;NA&gt;</td>\n      <td>0</td>\n      <td>0</td>\n    </tr>\n    <tr>\n      <th>2</th>\n      <td>0</td>\n      <td>11294S187921</td>\n      <td>10331S53594</td>\n      <td>200801</td>\n      <td>NaN</td>\n      <td>0.0</td>\n      <td>NaN</td>\n      <td>289177</td>\n      <td>1596232800000</td>\n      <td>2</td>\n      <td>...</td>\n      <td>&lt;NA&gt;</td>\n      <td>&lt;NA&gt;</td>\n      <td>20</td>\n      <td>20</td>\n      <td>2</td>\n      <td>2</td>\n      <td>40</td>\n      <td>&lt;NA&gt;</td>\n      <td>0</td>\n      <td>0</td>\n    </tr>\n    <tr>\n      <th>3</th>\n      <td>0</td>\n      <td>4688S136112</td>\n      <td>10330S53594</td>\n      <td>200801</td>\n      <td>NaN</td>\n      <td>0.0</td>\n      <td>NaN</td>\n      <td>289177</td>\n      <td>1596232800000</td>\n      <td>2</td>\n      <td>...</td>\n      <td>&lt;NA&gt;</td>\n      <td>&lt;NA&gt;</td>\n      <td>20</td>\n      <td>12</td>\n      <td>2</td>\n      <td>0</td>\n      <td>23</td>\n      <td>&lt;NA&gt;</td>\n      <td>8</td>\n      <td>2</td>\n    </tr>\n    <tr>\n      <th>4</th>\n      <td>0</td>\n      <td>76426</td>\n      <td>10331S53594</td>\n      <td>200801</td>\n      <td>NaN</td>\n      <td>0.0</td>\n      <td>NaN</td>\n      <td>289177</td>\n      <td>1596232800000</td>\n      <td>2</td>\n      <td>...</td>\n      <td>1</td>\n      <td>&lt;NA&gt;</td>\n      <td>20</td>\n      <td>20</td>\n      <td>2</td>\n      <td>2</td>\n      <td>14</td>\n      <td>&lt;NA&gt;</td>\n      <td>0</td>\n      <td>0</td>\n    </tr>\n    <tr>\n      <th>...</th>\n      <td>...</td>\n      <td>...</td>\n      <td>...</td>\n      <td>...</td>\n      <td>...</td>\n      <td>...</td>\n      <td>...</td>\n      <td>...</td>\n      <td>...</td>\n      <td>...</td>\n      <td>...</td>\n      <td>...</td>\n      <td>...</td>\n      <td>...</td>\n      <td>...</td>\n      <td>...</td>\n      <td>...</td>\n      <td>...</td>\n      <td>...</td>\n      <td>...</td>\n      <td>...</td>\n    </tr>\n    <tr>\n      <th>1351043</th>\n      <td>0</td>\n      <td>121498</td>\n      <td>5435S251724</td>\n      <td>201031</td>\n      <td>NaN</td>\n      <td>0.0</td>\n      <td>NaN</td>\n      <td>302552</td>\n      <td>1604098800000</td>\n      <td>91</td>\n      <td>...</td>\n      <td>2</td>\n      <td>&lt;NA&gt;</td>\n      <td>20</td>\n      <td>14</td>\n      <td>2</td>\n      <td>0</td>\n      <td>40</td>\n      <td>&lt;NA&gt;</td>\n      <td>6</td>\n      <td>2</td>\n    </tr>\n    <tr>\n      <th>1351044</th>\n      <td>0</td>\n      <td>149481</td>\n      <td>9721S252092</td>\n      <td>201031</td>\n      <td>NaN</td>\n      <td>0.0</td>\n      <td>NaN</td>\n      <td>302552</td>\n      <td>1604098800000</td>\n      <td>91</td>\n      <td>...</td>\n      <td>1</td>\n      <td>&lt;NA&gt;</td>\n      <td>20</td>\n      <td>20</td>\n      <td>2</td>\n      <td>2</td>\n      <td>4</td>\n      <td>&lt;NA&gt;</td>\n      <td>0</td>\n      <td>0</td>\n    </tr>\n    <tr>\n      <th>1351045</th>\n      <td>0</td>\n      <td>12268S162990</td>\n      <td>4786S252341</td>\n      <td>201031</td>\n      <td>NaN</td>\n      <td>0.0</td>\n      <td>NaN</td>\n      <td>302552</td>\n      <td>1604098800000</td>\n      <td>91</td>\n      <td>...</td>\n      <td>&lt;NA&gt;</td>\n      <td>&lt;NA&gt;</td>\n      <td>20</td>\n      <td>20</td>\n      <td>2</td>\n      <td>2</td>\n      <td>0</td>\n      <td>&lt;NA&gt;</td>\n      <td>0</td>\n      <td>0</td>\n    </tr>\n    <tr>\n      <th>1351046</th>\n      <td>0</td>\n      <td>224158</td>\n      <td>303035</td>\n      <td>201031</td>\n      <td>NaN</td>\n      <td>0.0</td>\n      <td>NaN</td>\n      <td>302552</td>\n      <td>1604098800000</td>\n      <td>91</td>\n      <td>...</td>\n      <td>1</td>\n      <td>2</td>\n      <td>20</td>\n      <td>20</td>\n      <td>2</td>\n      <td>2</td>\n      <td>6</td>\n      <td>1</td>\n      <td>0</td>\n      <td>0</td>\n    </tr>\n    <tr>\n      <th>1351047</th>\n      <td>0</td>\n      <td>127689</td>\n      <td>4026S243977</td>\n      <td>201031</td>\n      <td>NaN</td>\n      <td>0.0</td>\n      <td>NaN</td>\n      <td>302552</td>\n      <td>1604098800000</td>\n      <td>91</td>\n      <td>...</td>\n      <td>2</td>\n      <td>&lt;NA&gt;</td>\n      <td>20</td>\n      <td>20</td>\n      <td>2</td>\n      <td>2</td>\n      <td>41</td>\n      <td>&lt;NA&gt;</td>\n      <td>0</td>\n      <td>0</td>\n    </tr>\n  </tbody>\n</table>\n<p>1351048 rows × 34 columns</p>\n</div>"
     },
     "execution_count": 14,
     "metadata": {},
     "output_type": "execute_result"
    }
   ],
   "source": [
    "bucharest_rem_cond_referral['age_difference'] = abs(\n",
    "    bucharest_rem_cond_referral['referee_age'] - bucharest_rem_cond_referral['referral_age']).astype('Int64')\n",
    "bucharest_rem_cond_referral['gender_difference'] = abs(\n",
    "    bucharest_rem_cond_referral['referee_gender'] - bucharest_rem_cond_referral['referral_gender']).astype('Int64')\n",
    "bucharest_rem_cond_referral['isco08_label_difference'] = abs(\n",
    "    bucharest_rem_cond_referral['referee_isco08_label'] - bucharest_rem_cond_referral['referral_isco08_label']).astype('Int64')\n",
    "bucharest_rem_cond_referral['medical_difference'] = abs(\n",
    "    bucharest_rem_cond_referral['referee_medical'] - bucharest_rem_cond_referral['referral_medical']).astype('Int64')\n",
    "bucharest_rem_cond_referral"
   ],
   "metadata": {
    "collapsed": false,
    "pycharm": {
     "name": "#%%\n"
    }
   }
  },
  {
   "cell_type": "code",
   "execution_count": 15,
   "outputs": [
    {
     "data": {
      "text/plain": "(<IntegerArray>\n [1, 0]\n Length: 2, dtype: Int64,\n <IntegerArray>\n [1, 0]\n Length: 2, dtype: Int64)"
     },
     "execution_count": 15,
     "metadata": {},
     "output_type": "execute_result"
    }
   ],
   "source": [
    "bucharest_rem_cond_referral['isco08_label_difference'] = bucharest_rem_cond_referral['isco08_label_difference'].where(bucharest_rem_cond_referral['isco08_label_difference'] == 0, 1)\n",
    "bucharest_rem_cond_referral['medical_difference'] = bucharest_rem_cond_referral['medical_difference'].where(bucharest_rem_cond_referral['medical_difference'] == 0, 1)\n",
    "bucharest_rem_cond_referral['isco08_label_difference'].unique(), bucharest_rem_cond_referral['medical_difference'].unique()"
   ],
   "metadata": {
    "collapsed": false,
    "pycharm": {
     "name": "#%%\n"
    }
   }
  },
  {
   "cell_type": "code",
   "execution_count": 16,
   "outputs": [],
   "source": [
    "bucharest_rem_cond_referral.to_csv('../Data/Tables/rem/bucharest_eventlist_nomination_cond_referral.csv')"
   ],
   "metadata": {
    "collapsed": false,
    "pycharm": {
     "name": "#%%\n"
    }
   }
  },
  {
   "cell_type": "markdown",
   "source": [
    "# China"
   ],
   "metadata": {
    "collapsed": false,
    "pycharm": {
     "name": "#%% md\n"
    }
   }
  },
  {
   "cell_type": "markdown",
   "source": [
    "## Uncond"
   ],
   "metadata": {
    "collapsed": false,
    "pycharm": {
     "name": "#%% md\n"
    }
   }
  },
  {
   "cell_type": "code",
   "execution_count": 118,
   "outputs": [
    {
     "data": {
      "text/plain": "        IS_OBSERVED            SOURCE            TARGET    TIME  \\\n0                 1  shijiazhuang-155  shijiazhuang-176  200109   \n1                 1  shijiazhuang-155  shijiazhuang-156  200109   \n2                 1  shijiazhuang-150   shijiazhuang-38  200109   \n3                 1  shijiazhuang-150  shijiazhuang-151  200109   \n4                 1  shijiazhuang-145  shijiazhuang-146  200109   \n...             ...               ...               ...     ...   \n971997            0       chengdu-273      hangzhou-156  220208   \n971998            0       xinyang-272       southbank-2  220208   \n971999            0        nanning-14        kaizhou-17  220208   \n972000            0      yangzhou-279       yongchuan-1  220208   \n972001            0       tonghua-317         bazhong-4  220208   \n\n                      TYPE  WEIGHT  EVENT_INTERVAL_ID   EVENT   INTEGER_TIME  \\\n0       contact_nomination     1.0                0.0  207017  1578524400000   \n1       contact_nomination     1.0                0.0  207018  1578524400000   \n2       contact_nomination     1.0                1.0  207019  1578524400000   \n3       contact_nomination     1.0                1.0  207020  1578524400000   \n4       contact_nomination     1.0                2.0  207021  1578524400000   \n...                    ...     ...                ...     ...            ...   \n971997                 NaN     0.0                NaN  218452  1644274800000   \n971998                 NaN     0.0                NaN  218452  1644274800000   \n971999                 NaN     0.0                NaN  218452  1644274800000   \n972000                 NaN     0.0                NaN  218452  1644274800000   \n972001                 NaN     0.0                NaN  218452  1644274800000   \n\n        TIME_POINT  ...  referee_residency  referral_residency  \\\n0                2  ...                244                 244   \n1                2  ...                244                 244   \n2                2  ...                244                 244   \n3                2  ...                244                 244   \n4                2  ...                244                 244   \n...            ...  ...                ...                 ...   \n971997         254  ...                480                 480   \n971998         254  ...                287                  90   \n971999         254  ...                200                  81   \n972000         254  ...                480                 480   \n972001         254  ...                416                 318   \n\n        referee_place_event  referral_place_event  referee_symptom  \\\n0                       748                  1365               55   \n1                       748                   748               55   \n2                       994                  1038               55   \n3                       994                   748               55   \n4                      1010                  1019              186   \n...                     ...                   ...              ...   \n971997                 1434                   748              103   \n971998                  748                   301              186   \n971999                  748                   748               55   \n972000                  748                   748               55   \n972001                  748                   748               55   \n\n        referral_symptom  referee_symptom_severity  referral_symptom_severity  \\\n0                     14                         4                          4   \n1                     55                         4                          4   \n2                     55                         4                          4   \n3                     55                         4                          4   \n4                    186                         4                          4   \n...                  ...                       ...                        ...   \n971997               114                         4                          4   \n971998                55                         4                          4   \n971999                55                         3                          4   \n972000                55                         4                          4   \n972001               186                         4                          4   \n\n        referee_place_admission  referral_place_admission  \n0                           172                       172  \n1                           172                       172  \n2                           172                       172  \n3                           172                       172  \n4                           172                       172  \n...                         ...                       ...  \n971997                      357                       462  \n971998                      206                        60  \n971999                      130                        50  \n972000                      256                        69  \n972001                      276                       356  \n\n[972002 rows x 36 columns]",
      "text/html": "<div>\n<style scoped>\n    .dataframe tbody tr th:only-of-type {\n        vertical-align: middle;\n    }\n\n    .dataframe tbody tr th {\n        vertical-align: top;\n    }\n\n    .dataframe thead th {\n        text-align: right;\n    }\n</style>\n<table border=\"1\" class=\"dataframe\">\n  <thead>\n    <tr style=\"text-align: right;\">\n      <th></th>\n      <th>IS_OBSERVED</th>\n      <th>SOURCE</th>\n      <th>TARGET</th>\n      <th>TIME</th>\n      <th>TYPE</th>\n      <th>WEIGHT</th>\n      <th>EVENT_INTERVAL_ID</th>\n      <th>EVENT</th>\n      <th>INTEGER_TIME</th>\n      <th>TIME_POINT</th>\n      <th>...</th>\n      <th>referee_residency</th>\n      <th>referral_residency</th>\n      <th>referee_place_event</th>\n      <th>referral_place_event</th>\n      <th>referee_symptom</th>\n      <th>referral_symptom</th>\n      <th>referee_symptom_severity</th>\n      <th>referral_symptom_severity</th>\n      <th>referee_place_admission</th>\n      <th>referral_place_admission</th>\n    </tr>\n  </thead>\n  <tbody>\n    <tr>\n      <th>0</th>\n      <td>1</td>\n      <td>shijiazhuang-155</td>\n      <td>shijiazhuang-176</td>\n      <td>200109</td>\n      <td>contact_nomination</td>\n      <td>1.0</td>\n      <td>0.0</td>\n      <td>207017</td>\n      <td>1578524400000</td>\n      <td>2</td>\n      <td>...</td>\n      <td>244</td>\n      <td>244</td>\n      <td>748</td>\n      <td>1365</td>\n      <td>55</td>\n      <td>14</td>\n      <td>4</td>\n      <td>4</td>\n      <td>172</td>\n      <td>172</td>\n    </tr>\n    <tr>\n      <th>1</th>\n      <td>1</td>\n      <td>shijiazhuang-155</td>\n      <td>shijiazhuang-156</td>\n      <td>200109</td>\n      <td>contact_nomination</td>\n      <td>1.0</td>\n      <td>0.0</td>\n      <td>207018</td>\n      <td>1578524400000</td>\n      <td>2</td>\n      <td>...</td>\n      <td>244</td>\n      <td>244</td>\n      <td>748</td>\n      <td>748</td>\n      <td>55</td>\n      <td>55</td>\n      <td>4</td>\n      <td>4</td>\n      <td>172</td>\n      <td>172</td>\n    </tr>\n    <tr>\n      <th>2</th>\n      <td>1</td>\n      <td>shijiazhuang-150</td>\n      <td>shijiazhuang-38</td>\n      <td>200109</td>\n      <td>contact_nomination</td>\n      <td>1.0</td>\n      <td>1.0</td>\n      <td>207019</td>\n      <td>1578524400000</td>\n      <td>2</td>\n      <td>...</td>\n      <td>244</td>\n      <td>244</td>\n      <td>994</td>\n      <td>1038</td>\n      <td>55</td>\n      <td>55</td>\n      <td>4</td>\n      <td>4</td>\n      <td>172</td>\n      <td>172</td>\n    </tr>\n    <tr>\n      <th>3</th>\n      <td>1</td>\n      <td>shijiazhuang-150</td>\n      <td>shijiazhuang-151</td>\n      <td>200109</td>\n      <td>contact_nomination</td>\n      <td>1.0</td>\n      <td>1.0</td>\n      <td>207020</td>\n      <td>1578524400000</td>\n      <td>2</td>\n      <td>...</td>\n      <td>244</td>\n      <td>244</td>\n      <td>994</td>\n      <td>748</td>\n      <td>55</td>\n      <td>55</td>\n      <td>4</td>\n      <td>4</td>\n      <td>172</td>\n      <td>172</td>\n    </tr>\n    <tr>\n      <th>4</th>\n      <td>1</td>\n      <td>shijiazhuang-145</td>\n      <td>shijiazhuang-146</td>\n      <td>200109</td>\n      <td>contact_nomination</td>\n      <td>1.0</td>\n      <td>2.0</td>\n      <td>207021</td>\n      <td>1578524400000</td>\n      <td>2</td>\n      <td>...</td>\n      <td>244</td>\n      <td>244</td>\n      <td>1010</td>\n      <td>1019</td>\n      <td>186</td>\n      <td>186</td>\n      <td>4</td>\n      <td>4</td>\n      <td>172</td>\n      <td>172</td>\n    </tr>\n    <tr>\n      <th>...</th>\n      <td>...</td>\n      <td>...</td>\n      <td>...</td>\n      <td>...</td>\n      <td>...</td>\n      <td>...</td>\n      <td>...</td>\n      <td>...</td>\n      <td>...</td>\n      <td>...</td>\n      <td>...</td>\n      <td>...</td>\n      <td>...</td>\n      <td>...</td>\n      <td>...</td>\n      <td>...</td>\n      <td>...</td>\n      <td>...</td>\n      <td>...</td>\n      <td>...</td>\n      <td>...</td>\n    </tr>\n    <tr>\n      <th>971997</th>\n      <td>0</td>\n      <td>chengdu-273</td>\n      <td>hangzhou-156</td>\n      <td>220208</td>\n      <td>NaN</td>\n      <td>0.0</td>\n      <td>NaN</td>\n      <td>218452</td>\n      <td>1644274800000</td>\n      <td>254</td>\n      <td>...</td>\n      <td>480</td>\n      <td>480</td>\n      <td>1434</td>\n      <td>748</td>\n      <td>103</td>\n      <td>114</td>\n      <td>4</td>\n      <td>4</td>\n      <td>357</td>\n      <td>462</td>\n    </tr>\n    <tr>\n      <th>971998</th>\n      <td>0</td>\n      <td>xinyang-272</td>\n      <td>southbank-2</td>\n      <td>220208</td>\n      <td>NaN</td>\n      <td>0.0</td>\n      <td>NaN</td>\n      <td>218452</td>\n      <td>1644274800000</td>\n      <td>254</td>\n      <td>...</td>\n      <td>287</td>\n      <td>90</td>\n      <td>748</td>\n      <td>301</td>\n      <td>186</td>\n      <td>55</td>\n      <td>4</td>\n      <td>4</td>\n      <td>206</td>\n      <td>60</td>\n    </tr>\n    <tr>\n      <th>971999</th>\n      <td>0</td>\n      <td>nanning-14</td>\n      <td>kaizhou-17</td>\n      <td>220208</td>\n      <td>NaN</td>\n      <td>0.0</td>\n      <td>NaN</td>\n      <td>218452</td>\n      <td>1644274800000</td>\n      <td>254</td>\n      <td>...</td>\n      <td>200</td>\n      <td>81</td>\n      <td>748</td>\n      <td>748</td>\n      <td>55</td>\n      <td>55</td>\n      <td>3</td>\n      <td>4</td>\n      <td>130</td>\n      <td>50</td>\n    </tr>\n    <tr>\n      <th>972000</th>\n      <td>0</td>\n      <td>yangzhou-279</td>\n      <td>yongchuan-1</td>\n      <td>220208</td>\n      <td>NaN</td>\n      <td>0.0</td>\n      <td>NaN</td>\n      <td>218452</td>\n      <td>1644274800000</td>\n      <td>254</td>\n      <td>...</td>\n      <td>480</td>\n      <td>480</td>\n      <td>748</td>\n      <td>748</td>\n      <td>55</td>\n      <td>55</td>\n      <td>4</td>\n      <td>4</td>\n      <td>256</td>\n      <td>69</td>\n    </tr>\n    <tr>\n      <th>972001</th>\n      <td>0</td>\n      <td>tonghua-317</td>\n      <td>bazhong-4</td>\n      <td>220208</td>\n      <td>NaN</td>\n      <td>0.0</td>\n      <td>NaN</td>\n      <td>218452</td>\n      <td>1644274800000</td>\n      <td>254</td>\n      <td>...</td>\n      <td>416</td>\n      <td>318</td>\n      <td>748</td>\n      <td>748</td>\n      <td>55</td>\n      <td>186</td>\n      <td>4</td>\n      <td>4</td>\n      <td>276</td>\n      <td>356</td>\n    </tr>\n  </tbody>\n</table>\n<p>972002 rows × 36 columns</p>\n</div>"
     },
     "execution_count": 118,
     "metadata": {},
     "output_type": "execute_result"
    }
   ],
   "source": [
    "china_rem = pd.read_csv('../Data/Tables/rem/china_eventlist_nomination.csv',\n",
    "                                          low_memory=False)\n",
    "china_rem"
   ],
   "metadata": {
    "collapsed": false,
    "pycharm": {
     "name": "#%%\n"
    }
   }
  },
  {
   "cell_type": "code",
   "execution_count": 119,
   "outputs": [],
   "source": [
    "china_rem['referee_age'] = china_rem['referee_age'].where(\n",
    "    china_rem['referee_age'] != -1, np.nan).astype('Int64')\n",
    "china_rem['referral_age'] = china_rem['referral_age'].where(\n",
    "    china_rem['referral_age'] != -1, np.nan).astype('Int64')\n",
    "\n",
    "china_rem['referee_gender'] = china_rem['referee_gender'].where(\n",
    "    china_rem['referee_gender'] != -1, np.nan).astype('Int64')\n",
    "china_rem['referral_gender'] = china_rem['referral_gender'].where(\n",
    "    china_rem['referral_gender'] != -1, np.nan).astype('Int64')\n",
    "\n",
    "china_rem['referee_residency'] = china_rem['referee_residency'].where(\n",
    "    china_rem['referee_residency'] != -1, np.nan).astype('Int64')\n",
    "china_rem['referral_residency'] = china_rem['referral_residency'].where(\n",
    "    china_rem['referral_residency'] != -1, np.nan).astype('Int64')\n",
    "\n",
    "china_rem['referee_place_event'] = china_rem['referee_place_event'].where(\n",
    "    china_rem['referee_place_event'] != -1, np.nan).astype('Int64')\n",
    "china_rem['referral_place_event'] = china_rem['referral_place_event'].where(\n",
    "    china_rem['referral_place_event'] != -1, np.nan).astype('Int64')\n",
    "\n",
    "china_rem['referee_symptom'] = china_rem['referee_symptom'].where(\n",
    "    china_rem['referee_symptom'] != -1, np.nan).astype('Int64')\n",
    "china_rem['referral_symptom'] = china_rem['referral_symptom'].where(\n",
    "    china_rem['referral_symptom'] != -1, np.nan).astype('Int64')\n",
    "\n",
    "china_rem['referee_symptom_severity'] = china_rem['referee_symptom_severity'].where(\n",
    "    china_rem['referee_symptom_severity'] != -1, np.nan).astype('Int64')\n",
    "china_rem['referral_symptom_severity'] = china_rem['referral_symptom_severity'].where(\n",
    "    china_rem['referral_symptom_severity'] != -1, np.nan).astype('Int64')\n",
    "\n",
    "china_rem['referee_place_admission'] = china_rem['referee_place_admission'].where(\n",
    "    china_rem['referee_place_admission'] != -1, np.nan).astype('Int64')\n",
    "china_rem['referral_place_admission'] = china_rem['referral_place_admission'].where(\n",
    "    china_rem['referral_place_admission'] != -1, np.nan).astype('Int64')"
   ],
   "metadata": {
    "collapsed": false,
    "pycharm": {
     "name": "#%%\n"
    }
   }
  },
  {
   "cell_type": "code",
   "execution_count": 120,
   "outputs": [
    {
     "data": {
      "text/plain": "        IS_OBSERVED            SOURCE            TARGET    TIME  \\\n0                 1  shijiazhuang-155  shijiazhuang-176  200109   \n1                 1  shijiazhuang-155  shijiazhuang-156  200109   \n2                 1  shijiazhuang-150   shijiazhuang-38  200109   \n3                 1  shijiazhuang-150  shijiazhuang-151  200109   \n4                 1  shijiazhuang-145  shijiazhuang-146  200109   \n...             ...               ...               ...     ...   \n971997            0       chengdu-273      hangzhou-156  220208   \n971998            0       xinyang-272       southbank-2  220208   \n971999            0        nanning-14        kaizhou-17  220208   \n972000            0      yangzhou-279       yongchuan-1  220208   \n972001            0       tonghua-317         bazhong-4  220208   \n\n                      TYPE  WEIGHT  EVENT_INTERVAL_ID   EVENT   INTEGER_TIME  \\\n0       contact_nomination     1.0                0.0  207017  1578524400000   \n1       contact_nomination     1.0                0.0  207018  1578524400000   \n2       contact_nomination     1.0                1.0  207019  1578524400000   \n3       contact_nomination     1.0                1.0  207020  1578524400000   \n4       contact_nomination     1.0                2.0  207021  1578524400000   \n...                    ...     ...                ...     ...            ...   \n971997                 NaN     0.0                NaN  218452  1644274800000   \n971998                 NaN     0.0                NaN  218452  1644274800000   \n971999                 NaN     0.0                NaN  218452  1644274800000   \n972000                 NaN     0.0                NaN  218452  1644274800000   \n972001                 NaN     0.0                NaN  218452  1644274800000   \n\n        TIME_POINT  ...  referral_symptom_severity  referee_place_admission  \\\n0                2  ...                          4                      172   \n1                2  ...                          4                      172   \n2                2  ...                          4                      172   \n3                2  ...                          4                      172   \n4                2  ...                          4                      172   \n...            ...  ...                        ...                      ...   \n971997         254  ...                          4                      357   \n971998         254  ...                          4                      206   \n971999         254  ...                          4                      130   \n972000         254  ...                          4                      256   \n972001         254  ...                          4                      276   \n\n        referral_place_admission  age_difference  gender_difference  \\\n0                            172              32                  1   \n1                            172               6                  0   \n2                            172              52                  0   \n3                            172              30                  0   \n4                            172              37                  0   \n...                          ...             ...                ...   \n971997                       462               4                  1   \n971998                        60              56                  1   \n971999                        50              46                  1   \n972000                        69            <NA>                  1   \n972001                       356            <NA>                  2   \n\n        residency_difference  place_event_difference  symptom_difference  \\\n0                          0                     617                  41   \n1                          0                       0                   0   \n2                          0                      44                   0   \n3                          0                     246                   0   \n4                          0                       9                   0   \n...                      ...                     ...                 ...   \n971997                     0                     686                  11   \n971998                   197                     447                 131   \n971999                   119                       0                   0   \n972000                     0                       0                   0   \n972001                    98                       0                 131   \n\n        symptom_severity_difference  place_admission_difference  \n0                                 0                           0  \n1                                 0                           0  \n2                                 0                           0  \n3                                 0                           0  \n4                                 0                           0  \n...                             ...                         ...  \n971997                            0                         105  \n971998                            0                         146  \n971999                            1                          80  \n972000                            0                         187  \n972001                            0                          80  \n\n[972002 rows x 43 columns]",
      "text/html": "<div>\n<style scoped>\n    .dataframe tbody tr th:only-of-type {\n        vertical-align: middle;\n    }\n\n    .dataframe tbody tr th {\n        vertical-align: top;\n    }\n\n    .dataframe thead th {\n        text-align: right;\n    }\n</style>\n<table border=\"1\" class=\"dataframe\">\n  <thead>\n    <tr style=\"text-align: right;\">\n      <th></th>\n      <th>IS_OBSERVED</th>\n      <th>SOURCE</th>\n      <th>TARGET</th>\n      <th>TIME</th>\n      <th>TYPE</th>\n      <th>WEIGHT</th>\n      <th>EVENT_INTERVAL_ID</th>\n      <th>EVENT</th>\n      <th>INTEGER_TIME</th>\n      <th>TIME_POINT</th>\n      <th>...</th>\n      <th>referral_symptom_severity</th>\n      <th>referee_place_admission</th>\n      <th>referral_place_admission</th>\n      <th>age_difference</th>\n      <th>gender_difference</th>\n      <th>residency_difference</th>\n      <th>place_event_difference</th>\n      <th>symptom_difference</th>\n      <th>symptom_severity_difference</th>\n      <th>place_admission_difference</th>\n    </tr>\n  </thead>\n  <tbody>\n    <tr>\n      <th>0</th>\n      <td>1</td>\n      <td>shijiazhuang-155</td>\n      <td>shijiazhuang-176</td>\n      <td>200109</td>\n      <td>contact_nomination</td>\n      <td>1.0</td>\n      <td>0.0</td>\n      <td>207017</td>\n      <td>1578524400000</td>\n      <td>2</td>\n      <td>...</td>\n      <td>4</td>\n      <td>172</td>\n      <td>172</td>\n      <td>32</td>\n      <td>1</td>\n      <td>0</td>\n      <td>617</td>\n      <td>41</td>\n      <td>0</td>\n      <td>0</td>\n    </tr>\n    <tr>\n      <th>1</th>\n      <td>1</td>\n      <td>shijiazhuang-155</td>\n      <td>shijiazhuang-156</td>\n      <td>200109</td>\n      <td>contact_nomination</td>\n      <td>1.0</td>\n      <td>0.0</td>\n      <td>207018</td>\n      <td>1578524400000</td>\n      <td>2</td>\n      <td>...</td>\n      <td>4</td>\n      <td>172</td>\n      <td>172</td>\n      <td>6</td>\n      <td>0</td>\n      <td>0</td>\n      <td>0</td>\n      <td>0</td>\n      <td>0</td>\n      <td>0</td>\n    </tr>\n    <tr>\n      <th>2</th>\n      <td>1</td>\n      <td>shijiazhuang-150</td>\n      <td>shijiazhuang-38</td>\n      <td>200109</td>\n      <td>contact_nomination</td>\n      <td>1.0</td>\n      <td>1.0</td>\n      <td>207019</td>\n      <td>1578524400000</td>\n      <td>2</td>\n      <td>...</td>\n      <td>4</td>\n      <td>172</td>\n      <td>172</td>\n      <td>52</td>\n      <td>0</td>\n      <td>0</td>\n      <td>44</td>\n      <td>0</td>\n      <td>0</td>\n      <td>0</td>\n    </tr>\n    <tr>\n      <th>3</th>\n      <td>1</td>\n      <td>shijiazhuang-150</td>\n      <td>shijiazhuang-151</td>\n      <td>200109</td>\n      <td>contact_nomination</td>\n      <td>1.0</td>\n      <td>1.0</td>\n      <td>207020</td>\n      <td>1578524400000</td>\n      <td>2</td>\n      <td>...</td>\n      <td>4</td>\n      <td>172</td>\n      <td>172</td>\n      <td>30</td>\n      <td>0</td>\n      <td>0</td>\n      <td>246</td>\n      <td>0</td>\n      <td>0</td>\n      <td>0</td>\n    </tr>\n    <tr>\n      <th>4</th>\n      <td>1</td>\n      <td>shijiazhuang-145</td>\n      <td>shijiazhuang-146</td>\n      <td>200109</td>\n      <td>contact_nomination</td>\n      <td>1.0</td>\n      <td>2.0</td>\n      <td>207021</td>\n      <td>1578524400000</td>\n      <td>2</td>\n      <td>...</td>\n      <td>4</td>\n      <td>172</td>\n      <td>172</td>\n      <td>37</td>\n      <td>0</td>\n      <td>0</td>\n      <td>9</td>\n      <td>0</td>\n      <td>0</td>\n      <td>0</td>\n    </tr>\n    <tr>\n      <th>...</th>\n      <td>...</td>\n      <td>...</td>\n      <td>...</td>\n      <td>...</td>\n      <td>...</td>\n      <td>...</td>\n      <td>...</td>\n      <td>...</td>\n      <td>...</td>\n      <td>...</td>\n      <td>...</td>\n      <td>...</td>\n      <td>...</td>\n      <td>...</td>\n      <td>...</td>\n      <td>...</td>\n      <td>...</td>\n      <td>...</td>\n      <td>...</td>\n      <td>...</td>\n      <td>...</td>\n    </tr>\n    <tr>\n      <th>971997</th>\n      <td>0</td>\n      <td>chengdu-273</td>\n      <td>hangzhou-156</td>\n      <td>220208</td>\n      <td>NaN</td>\n      <td>0.0</td>\n      <td>NaN</td>\n      <td>218452</td>\n      <td>1644274800000</td>\n      <td>254</td>\n      <td>...</td>\n      <td>4</td>\n      <td>357</td>\n      <td>462</td>\n      <td>4</td>\n      <td>1</td>\n      <td>0</td>\n      <td>686</td>\n      <td>11</td>\n      <td>0</td>\n      <td>105</td>\n    </tr>\n    <tr>\n      <th>971998</th>\n      <td>0</td>\n      <td>xinyang-272</td>\n      <td>southbank-2</td>\n      <td>220208</td>\n      <td>NaN</td>\n      <td>0.0</td>\n      <td>NaN</td>\n      <td>218452</td>\n      <td>1644274800000</td>\n      <td>254</td>\n      <td>...</td>\n      <td>4</td>\n      <td>206</td>\n      <td>60</td>\n      <td>56</td>\n      <td>1</td>\n      <td>197</td>\n      <td>447</td>\n      <td>131</td>\n      <td>0</td>\n      <td>146</td>\n    </tr>\n    <tr>\n      <th>971999</th>\n      <td>0</td>\n      <td>nanning-14</td>\n      <td>kaizhou-17</td>\n      <td>220208</td>\n      <td>NaN</td>\n      <td>0.0</td>\n      <td>NaN</td>\n      <td>218452</td>\n      <td>1644274800000</td>\n      <td>254</td>\n      <td>...</td>\n      <td>4</td>\n      <td>130</td>\n      <td>50</td>\n      <td>46</td>\n      <td>1</td>\n      <td>119</td>\n      <td>0</td>\n      <td>0</td>\n      <td>1</td>\n      <td>80</td>\n    </tr>\n    <tr>\n      <th>972000</th>\n      <td>0</td>\n      <td>yangzhou-279</td>\n      <td>yongchuan-1</td>\n      <td>220208</td>\n      <td>NaN</td>\n      <td>0.0</td>\n      <td>NaN</td>\n      <td>218452</td>\n      <td>1644274800000</td>\n      <td>254</td>\n      <td>...</td>\n      <td>4</td>\n      <td>256</td>\n      <td>69</td>\n      <td>&lt;NA&gt;</td>\n      <td>1</td>\n      <td>0</td>\n      <td>0</td>\n      <td>0</td>\n      <td>0</td>\n      <td>187</td>\n    </tr>\n    <tr>\n      <th>972001</th>\n      <td>0</td>\n      <td>tonghua-317</td>\n      <td>bazhong-4</td>\n      <td>220208</td>\n      <td>NaN</td>\n      <td>0.0</td>\n      <td>NaN</td>\n      <td>218452</td>\n      <td>1644274800000</td>\n      <td>254</td>\n      <td>...</td>\n      <td>4</td>\n      <td>276</td>\n      <td>356</td>\n      <td>&lt;NA&gt;</td>\n      <td>2</td>\n      <td>98</td>\n      <td>0</td>\n      <td>131</td>\n      <td>0</td>\n      <td>80</td>\n    </tr>\n  </tbody>\n</table>\n<p>972002 rows × 43 columns</p>\n</div>"
     },
     "execution_count": 120,
     "metadata": {},
     "output_type": "execute_result"
    }
   ],
   "source": [
    "china_rem['age_difference'] = abs(\n",
    "    china_rem['referee_age'] - china_rem['referral_age']).astype('Int64')\n",
    "china_rem['gender_difference'] = abs(\n",
    "    china_rem['referee_gender'] - china_rem['referral_gender']).astype('Int64')\n",
    "china_rem['residency_difference'] = abs(\n",
    "    china_rem['referee_residency'] - china_rem['referral_residency']).astype('Int64')\n",
    "china_rem['place_event_difference'] = abs(\n",
    "    china_rem['referee_place_event'] - china_rem['referral_place_event']).astype('Int64')\n",
    "china_rem['symptom_difference'] = abs(\n",
    "    china_rem['referee_symptom'] - china_rem['referral_symptom']).astype('Int64')\n",
    "china_rem['symptom_severity_difference'] = abs(\n",
    "    china_rem['referee_symptom_severity'] - china_rem['referral_symptom_severity']).astype('Int64')\n",
    "china_rem['place_admission_difference'] = abs(\n",
    "    china_rem['referee_place_admission'] - china_rem['referral_place_admission']).astype('Int64')\n",
    "china_rem"
   ],
   "metadata": {
    "collapsed": false,
    "pycharm": {
     "name": "#%%\n"
    }
   }
  },
  {
   "cell_type": "code",
   "execution_count": 121,
   "outputs": [],
   "source": [
    "china_rem['residency_difference'] = china_rem['residency_difference'].where(china_rem['residency_difference'] == 0, 1)\n",
    "china_rem['place_event_difference'] = china_rem['place_event_difference'].where(china_rem['place_event_difference'] == 0, 1)\n",
    "china_rem['symptom_difference'] = china_rem['symptom_difference'].where(china_rem['symptom_difference'] == 0, 1)\n",
    "china_rem['symptom_severity_difference'] = china_rem['symptom_severity_difference'].where(china_rem['symptom_severity_difference'] == 0, 1)\n",
    "china_rem['place_admission_difference'] = china_rem['place_admission_difference'].where(china_rem['place_admission_difference'] == 0, 1)"
   ],
   "metadata": {
    "collapsed": false,
    "pycharm": {
     "name": "#%%\n"
    }
   }
  },
  {
   "cell_type": "code",
   "execution_count": 122,
   "outputs": [],
   "source": [
    "china_rem.to_csv('../Data/Tables/rem/china_eventlist_nomination.csv')"
   ],
   "metadata": {
    "collapsed": false,
    "pycharm": {
     "name": "#%%\n"
    }
   }
  },
  {
   "cell_type": "markdown",
   "source": [
    "## Cond referee"
   ],
   "metadata": {
    "collapsed": false,
    "pycharm": {
     "name": "#%% md\n"
    }
   }
  },
  {
   "cell_type": "code",
   "execution_count": 123,
   "outputs": [],
   "source": [
    "china_rem_cond_referee = pd.read_csv('../Data/Tables/rem/china_eventlist_nomination_cond_referee.csv',\n",
    "                                          low_memory=False)"
   ],
   "metadata": {
    "collapsed": false,
    "pycharm": {
     "name": "#%%\n"
    }
   }
  },
  {
   "cell_type": "code",
   "execution_count": 124,
   "outputs": [],
   "source": [
    "china_rem_cond_referee['referee_age'] = china_rem_cond_referee['referee_age'].where(\n",
    "    china_rem_cond_referee['referee_age'] != -1, np.nan).astype('Int64')\n",
    "china_rem_cond_referee['referral_age'] = china_rem_cond_referee['referral_age'].where(\n",
    "    china_rem_cond_referee['referral_age'] != -1, np.nan).astype('Int64')\n",
    "\n",
    "china_rem_cond_referee['referee_gender'] = china_rem_cond_referee['referee_gender'].where(\n",
    "    china_rem_cond_referee['referee_gender'] != -1, np.nan).astype('Int64')\n",
    "china_rem_cond_referee['referral_gender'] = china_rem_cond_referee['referral_gender'].where(\n",
    "    china_rem_cond_referee['referral_gender'] != -1, np.nan).astype('Int64')\n",
    "\n",
    "china_rem_cond_referee['referee_residency'] = china_rem_cond_referee['referee_residency'].where(\n",
    "    china_rem_cond_referee['referee_residency'] != -1, np.nan).astype('Int64')\n",
    "china_rem_cond_referee['referral_residency'] = china_rem_cond_referee['referral_residency'].where(\n",
    "    china_rem_cond_referee['referral_residency'] != -1, np.nan).astype('Int64')\n",
    "\n",
    "china_rem_cond_referee['referee_place_event'] = china_rem_cond_referee['referee_place_event'].where(\n",
    "    china_rem_cond_referee['referee_place_event'] != -1, np.nan).astype('Int64')\n",
    "china_rem_cond_referee['referral_place_event'] = china_rem_cond_referee['referral_place_event'].where(\n",
    "    china_rem_cond_referee['referral_place_event'] != -1, np.nan).astype('Int64')\n",
    "\n",
    "china_rem_cond_referee['referee_symptom'] = china_rem_cond_referee['referee_symptom'].where(\n",
    "    china_rem_cond_referee['referee_symptom'] != -1, np.nan).astype('Int64')\n",
    "china_rem_cond_referee['referral_symptom'] = china_rem_cond_referee['referral_symptom'].where(\n",
    "    china_rem_cond_referee['referral_symptom'] != -1, np.nan).astype('Int64')\n",
    "\n",
    "china_rem_cond_referee['referee_symptom_severity'] = china_rem_cond_referee['referee_symptom_severity'].where(\n",
    "    china_rem_cond_referee['referee_symptom_severity'] != -1, np.nan).astype('Int64')\n",
    "china_rem_cond_referee['referral_symptom_severity'] = china_rem_cond_referee['referral_symptom_severity'].where(\n",
    "    china_rem_cond_referee['referral_symptom_severity'] != -1, np.nan).astype('Int64')\n",
    "\n",
    "china_rem_cond_referee['referee_place_admission'] = china_rem_cond_referee['referee_place_admission'].where(\n",
    "    china_rem_cond_referee['referee_place_admission'] != -1, np.nan).astype('Int64')\n",
    "china_rem_cond_referee['referral_place_admission'] = china_rem_cond_referee['referral_place_admission'].where(\n",
    "    china_rem_cond_referee['referral_place_admission'] != -1, np.nan).astype('Int64')"
   ],
   "metadata": {
    "collapsed": false,
    "pycharm": {
     "name": "#%%\n"
    }
   }
  },
  {
   "cell_type": "code",
   "execution_count": 125,
   "outputs": [
    {
     "data": {
      "text/plain": "        IS_OBSERVED            SOURCE            TARGET    TIME  \\\n0                 1  shijiazhuang-155  shijiazhuang-176  200109   \n1                 1  shijiazhuang-155  shijiazhuang-156  200109   \n2                 1  shijiazhuang-150   shijiazhuang-38  200109   \n3                 1  shijiazhuang-150  shijiazhuang-151  200109   \n4                 1  shijiazhuang-145  shijiazhuang-146  200109   \n...             ...               ...               ...     ...   \n971982            0       yangzhou-68     shanghai-1498  220208   \n971983            0       yangzhou-68        wenzhou-32  220208   \n971984            0       yangzhou-68      hangzhou-211  220208   \n971985            0       yangzhou-68            an-881  220208   \n971986            0       yangzhou-68     shanghai-1890  220208   \n\n                      TYPE  WEIGHT  EVENT_INTERVAL_ID   EVENT   INTEGER_TIME  \\\n0       contact_nomination     1.0                0.0  207017  1578524400000   \n1       contact_nomination     1.0                0.0  207018  1578524400000   \n2       contact_nomination     1.0                1.0  207019  1578524400000   \n3       contact_nomination     1.0                1.0  207020  1578524400000   \n4       contact_nomination     1.0                2.0  207021  1578524400000   \n...                    ...     ...                ...     ...            ...   \n971982                 NaN     0.0                NaN  218452  1644274800000   \n971983                 NaN     0.0                NaN  218452  1644274800000   \n971984                 NaN     0.0                NaN  218452  1644274800000   \n971985                 NaN     0.0                NaN  218452  1644274800000   \n971986                 NaN     0.0                NaN  218452  1644274800000   \n\n        TIME_POINT  ...  referral_symptom_severity  referee_place_admission  \\\n0                2  ...                          4                      172   \n1                2  ...                          4                      172   \n2                2  ...                          4                      172   \n3                2  ...                          4                      172   \n4                2  ...                          4                      172   \n...            ...  ...                        ...                      ...   \n971982         254  ...                          4                      256   \n971983         254  ...                          4                      256   \n971984         254  ...                          4                      256   \n971985         254  ...                          1                      256   \n971986         254  ...                          4                      256   \n\n        referral_place_admission  age_difference  gender_difference  \\\n0                            172              32                  1   \n1                            172               6                  0   \n2                            172              52                  0   \n3                            172              30                  0   \n4                            172              37                  0   \n...                          ...             ...                ...   \n971982                       339            <NA>                  2   \n971983                       470              52                  1   \n971984                       462              66                  1   \n971985                       314              38                  1   \n971986                       339            <NA>                  2   \n\n        residency_difference  place_event_difference  symptom_difference  \\\n0                          0                     617                  41   \n1                          0                       0                   0   \n2                          0                      44                   0   \n3                          0                     246                   0   \n4                          0                       9                   0   \n...                      ...                     ...                 ...   \n971982                   130                       0                   0   \n971983                     0                     790                  59   \n971984                     0                     342                   0   \n971985                    59                       0                   0   \n971986                   476                       0                   0   \n\n        symptom_severity_difference  place_admission_difference  \n0                                 0                           0  \n1                                 0                           0  \n2                                 0                           0  \n3                                 0                           0  \n4                                 0                           0  \n...                             ...                         ...  \n971982                            4                          83  \n971983                            4                         214  \n971984                            4                         206  \n971985                            1                          58  \n971986                            4                          83  \n\n[971987 rows x 43 columns]",
      "text/html": "<div>\n<style scoped>\n    .dataframe tbody tr th:only-of-type {\n        vertical-align: middle;\n    }\n\n    .dataframe tbody tr th {\n        vertical-align: top;\n    }\n\n    .dataframe thead th {\n        text-align: right;\n    }\n</style>\n<table border=\"1\" class=\"dataframe\">\n  <thead>\n    <tr style=\"text-align: right;\">\n      <th></th>\n      <th>IS_OBSERVED</th>\n      <th>SOURCE</th>\n      <th>TARGET</th>\n      <th>TIME</th>\n      <th>TYPE</th>\n      <th>WEIGHT</th>\n      <th>EVENT_INTERVAL_ID</th>\n      <th>EVENT</th>\n      <th>INTEGER_TIME</th>\n      <th>TIME_POINT</th>\n      <th>...</th>\n      <th>referral_symptom_severity</th>\n      <th>referee_place_admission</th>\n      <th>referral_place_admission</th>\n      <th>age_difference</th>\n      <th>gender_difference</th>\n      <th>residency_difference</th>\n      <th>place_event_difference</th>\n      <th>symptom_difference</th>\n      <th>symptom_severity_difference</th>\n      <th>place_admission_difference</th>\n    </tr>\n  </thead>\n  <tbody>\n    <tr>\n      <th>0</th>\n      <td>1</td>\n      <td>shijiazhuang-155</td>\n      <td>shijiazhuang-176</td>\n      <td>200109</td>\n      <td>contact_nomination</td>\n      <td>1.0</td>\n      <td>0.0</td>\n      <td>207017</td>\n      <td>1578524400000</td>\n      <td>2</td>\n      <td>...</td>\n      <td>4</td>\n      <td>172</td>\n      <td>172</td>\n      <td>32</td>\n      <td>1</td>\n      <td>0</td>\n      <td>617</td>\n      <td>41</td>\n      <td>0</td>\n      <td>0</td>\n    </tr>\n    <tr>\n      <th>1</th>\n      <td>1</td>\n      <td>shijiazhuang-155</td>\n      <td>shijiazhuang-156</td>\n      <td>200109</td>\n      <td>contact_nomination</td>\n      <td>1.0</td>\n      <td>0.0</td>\n      <td>207018</td>\n      <td>1578524400000</td>\n      <td>2</td>\n      <td>...</td>\n      <td>4</td>\n      <td>172</td>\n      <td>172</td>\n      <td>6</td>\n      <td>0</td>\n      <td>0</td>\n      <td>0</td>\n      <td>0</td>\n      <td>0</td>\n      <td>0</td>\n    </tr>\n    <tr>\n      <th>2</th>\n      <td>1</td>\n      <td>shijiazhuang-150</td>\n      <td>shijiazhuang-38</td>\n      <td>200109</td>\n      <td>contact_nomination</td>\n      <td>1.0</td>\n      <td>1.0</td>\n      <td>207019</td>\n      <td>1578524400000</td>\n      <td>2</td>\n      <td>...</td>\n      <td>4</td>\n      <td>172</td>\n      <td>172</td>\n      <td>52</td>\n      <td>0</td>\n      <td>0</td>\n      <td>44</td>\n      <td>0</td>\n      <td>0</td>\n      <td>0</td>\n    </tr>\n    <tr>\n      <th>3</th>\n      <td>1</td>\n      <td>shijiazhuang-150</td>\n      <td>shijiazhuang-151</td>\n      <td>200109</td>\n      <td>contact_nomination</td>\n      <td>1.0</td>\n      <td>1.0</td>\n      <td>207020</td>\n      <td>1578524400000</td>\n      <td>2</td>\n      <td>...</td>\n      <td>4</td>\n      <td>172</td>\n      <td>172</td>\n      <td>30</td>\n      <td>0</td>\n      <td>0</td>\n      <td>246</td>\n      <td>0</td>\n      <td>0</td>\n      <td>0</td>\n    </tr>\n    <tr>\n      <th>4</th>\n      <td>1</td>\n      <td>shijiazhuang-145</td>\n      <td>shijiazhuang-146</td>\n      <td>200109</td>\n      <td>contact_nomination</td>\n      <td>1.0</td>\n      <td>2.0</td>\n      <td>207021</td>\n      <td>1578524400000</td>\n      <td>2</td>\n      <td>...</td>\n      <td>4</td>\n      <td>172</td>\n      <td>172</td>\n      <td>37</td>\n      <td>0</td>\n      <td>0</td>\n      <td>9</td>\n      <td>0</td>\n      <td>0</td>\n      <td>0</td>\n    </tr>\n    <tr>\n      <th>...</th>\n      <td>...</td>\n      <td>...</td>\n      <td>...</td>\n      <td>...</td>\n      <td>...</td>\n      <td>...</td>\n      <td>...</td>\n      <td>...</td>\n      <td>...</td>\n      <td>...</td>\n      <td>...</td>\n      <td>...</td>\n      <td>...</td>\n      <td>...</td>\n      <td>...</td>\n      <td>...</td>\n      <td>...</td>\n      <td>...</td>\n      <td>...</td>\n      <td>...</td>\n      <td>...</td>\n    </tr>\n    <tr>\n      <th>971982</th>\n      <td>0</td>\n      <td>yangzhou-68</td>\n      <td>shanghai-1498</td>\n      <td>220208</td>\n      <td>NaN</td>\n      <td>0.0</td>\n      <td>NaN</td>\n      <td>218452</td>\n      <td>1644274800000</td>\n      <td>254</td>\n      <td>...</td>\n      <td>4</td>\n      <td>256</td>\n      <td>339</td>\n      <td>&lt;NA&gt;</td>\n      <td>2</td>\n      <td>130</td>\n      <td>0</td>\n      <td>0</td>\n      <td>4</td>\n      <td>83</td>\n    </tr>\n    <tr>\n      <th>971983</th>\n      <td>0</td>\n      <td>yangzhou-68</td>\n      <td>wenzhou-32</td>\n      <td>220208</td>\n      <td>NaN</td>\n      <td>0.0</td>\n      <td>NaN</td>\n      <td>218452</td>\n      <td>1644274800000</td>\n      <td>254</td>\n      <td>...</td>\n      <td>4</td>\n      <td>256</td>\n      <td>470</td>\n      <td>52</td>\n      <td>1</td>\n      <td>0</td>\n      <td>790</td>\n      <td>59</td>\n      <td>4</td>\n      <td>214</td>\n    </tr>\n    <tr>\n      <th>971984</th>\n      <td>0</td>\n      <td>yangzhou-68</td>\n      <td>hangzhou-211</td>\n      <td>220208</td>\n      <td>NaN</td>\n      <td>0.0</td>\n      <td>NaN</td>\n      <td>218452</td>\n      <td>1644274800000</td>\n      <td>254</td>\n      <td>...</td>\n      <td>4</td>\n      <td>256</td>\n      <td>462</td>\n      <td>66</td>\n      <td>1</td>\n      <td>0</td>\n      <td>342</td>\n      <td>0</td>\n      <td>4</td>\n      <td>206</td>\n    </tr>\n    <tr>\n      <th>971985</th>\n      <td>0</td>\n      <td>yangzhou-68</td>\n      <td>an-881</td>\n      <td>220208</td>\n      <td>NaN</td>\n      <td>0.0</td>\n      <td>NaN</td>\n      <td>218452</td>\n      <td>1644274800000</td>\n      <td>254</td>\n      <td>...</td>\n      <td>1</td>\n      <td>256</td>\n      <td>314</td>\n      <td>38</td>\n      <td>1</td>\n      <td>59</td>\n      <td>0</td>\n      <td>0</td>\n      <td>1</td>\n      <td>58</td>\n    </tr>\n    <tr>\n      <th>971986</th>\n      <td>0</td>\n      <td>yangzhou-68</td>\n      <td>shanghai-1890</td>\n      <td>220208</td>\n      <td>NaN</td>\n      <td>0.0</td>\n      <td>NaN</td>\n      <td>218452</td>\n      <td>1644274800000</td>\n      <td>254</td>\n      <td>...</td>\n      <td>4</td>\n      <td>256</td>\n      <td>339</td>\n      <td>&lt;NA&gt;</td>\n      <td>2</td>\n      <td>476</td>\n      <td>0</td>\n      <td>0</td>\n      <td>4</td>\n      <td>83</td>\n    </tr>\n  </tbody>\n</table>\n<p>971987 rows × 43 columns</p>\n</div>"
     },
     "execution_count": 125,
     "metadata": {},
     "output_type": "execute_result"
    }
   ],
   "source": [
    "china_rem_cond_referee['age_difference'] = abs(\n",
    "    china_rem_cond_referee['referee_age'] - china_rem_cond_referee['referral_age']).astype('Int64')\n",
    "china_rem_cond_referee['gender_difference'] = abs(\n",
    "    china_rem_cond_referee['referee_gender'] - china_rem_cond_referee['referral_gender']).astype('Int64')\n",
    "china_rem_cond_referee['residency_difference'] = abs(\n",
    "    china_rem_cond_referee['referee_residency'] - china_rem_cond_referee['referral_residency']).astype('Int64')\n",
    "china_rem_cond_referee['place_event_difference'] = abs(\n",
    "    china_rem_cond_referee['referee_place_event'] - china_rem_cond_referee['referral_place_event']).astype('Int64')\n",
    "china_rem_cond_referee['symptom_difference'] = abs(\n",
    "    china_rem_cond_referee['referee_symptom'] - china_rem_cond_referee['referral_symptom']).astype('Int64')\n",
    "china_rem_cond_referee['symptom_severity_difference'] = abs(\n",
    "    china_rem_cond_referee['referee_symptom_severity'] - china_rem_cond_referee['referral_symptom_severity']).astype('Int64')\n",
    "china_rem_cond_referee['place_admission_difference'] = abs(\n",
    "    china_rem_cond_referee['referee_place_admission'] - china_rem_cond_referee['referral_place_admission']).astype('Int64')\n",
    "china_rem_cond_referee"
   ],
   "metadata": {
    "collapsed": false,
    "pycharm": {
     "name": "#%%\n"
    }
   }
  },
  {
   "cell_type": "code",
   "execution_count": 126,
   "outputs": [],
   "source": [
    "china_rem_cond_referee['residency_difference'] = china_rem_cond_referee['residency_difference'].where(china_rem_cond_referee['residency_difference'] == 0, 1)\n",
    "china_rem_cond_referee['place_event_difference'] = china_rem_cond_referee['place_event_difference'].where(china_rem_cond_referee['place_event_difference'] == 0, 1)\n",
    "china_rem_cond_referee['symptom_difference'] = china_rem_cond_referee['symptom_difference'].where(china_rem_cond_referee['symptom_difference'] == 0, 1)\n",
    "china_rem_cond_referee['symptom_severity_difference'] = china_rem_cond_referee['symptom_severity_difference'].where(china_rem_cond_referee['symptom_severity_difference'] == 0, 1)\n",
    "china_rem_cond_referee['place_admission_difference'] = china_rem_cond_referee['place_admission_difference'].where(china_rem_cond_referee['place_admission_difference'] == 0, 1)"
   ],
   "metadata": {
    "collapsed": false,
    "pycharm": {
     "name": "#%%\n"
    }
   }
  },
  {
   "cell_type": "code",
   "execution_count": 128,
   "outputs": [],
   "source": [
    "china_rem_cond_referee.to_csv('../Data/Tables/rem/china_eventlist_nomination_cond_referee.csv')"
   ],
   "metadata": {
    "collapsed": false,
    "pycharm": {
     "name": "#%%\n"
    }
   }
  },
  {
   "cell_type": "markdown",
   "source": [
    "## Cond referral"
   ],
   "metadata": {
    "collapsed": false,
    "pycharm": {
     "name": "#%% md\n"
    }
   }
  },
  {
   "cell_type": "code",
   "execution_count": 129,
   "outputs": [],
   "source": [
    "china_rem_cond_referral = pd.read_csv('../Data/Tables/rem/china_eventlist_nomination_cond_referral.csv',\n",
    "                                          low_memory=False)"
   ],
   "metadata": {
    "collapsed": false,
    "pycharm": {
     "name": "#%%\n"
    }
   }
  },
  {
   "cell_type": "code",
   "execution_count": 130,
   "outputs": [],
   "source": [
    "china_rem_cond_referral['referee_age'] = china_rem_cond_referral['referee_age'].where(\n",
    "    china_rem_cond_referral['referee_age'] != -1, np.nan).astype('Int64')\n",
    "china_rem_cond_referral['referral_age'] = china_rem_cond_referral['referral_age'].where(\n",
    "    china_rem_cond_referral['referral_age'] != -1, np.nan).astype('Int64')\n",
    "\n",
    "china_rem_cond_referral['referee_gender'] = china_rem_cond_referral['referee_gender'].where(\n",
    "    china_rem_cond_referral['referee_gender'] != -1, np.nan).astype('Int64')\n",
    "china_rem_cond_referral['referral_gender'] = china_rem_cond_referral['referral_gender'].where(\n",
    "    china_rem_cond_referral['referral_gender'] != -1, np.nan).astype('Int64')\n",
    "\n",
    "china_rem_cond_referral['referee_residency'] = china_rem_cond_referral['referee_residency'].where(\n",
    "    china_rem_cond_referral['referee_residency'] != -1, np.nan).astype('Int64')\n",
    "china_rem_cond_referral['referral_residency'] = china_rem_cond_referral['referral_residency'].where(\n",
    "    china_rem_cond_referral['referral_residency'] != -1, np.nan).astype('Int64')\n",
    "\n",
    "china_rem_cond_referral['referee_place_event'] = china_rem_cond_referral['referee_place_event'].where(\n",
    "    china_rem_cond_referral['referee_place_event'] != -1, np.nan).astype('Int64')\n",
    "china_rem_cond_referral['referral_place_event'] = china_rem_cond_referral['referral_place_event'].where(\n",
    "    china_rem_cond_referral['referral_place_event'] != -1, np.nan).astype('Int64')\n",
    "\n",
    "china_rem_cond_referral['referee_symptom'] = china_rem_cond_referral['referee_symptom'].where(\n",
    "    china_rem_cond_referral['referee_symptom'] != -1, np.nan).astype('Int64')\n",
    "china_rem_cond_referral['referral_symptom'] = china_rem_cond_referral['referral_symptom'].where(\n",
    "    china_rem_cond_referral['referral_symptom'] != -1, np.nan).astype('Int64')\n",
    "\n",
    "china_rem_cond_referral['referee_symptom_severity'] = china_rem_cond_referral['referee_symptom_severity'].where(\n",
    "    china_rem_cond_referral['referee_symptom_severity'] != -1, np.nan).astype('Int64')\n",
    "china_rem_cond_referral['referral_symptom_severity'] = china_rem_cond_referral['referral_symptom_severity'].where(\n",
    "    china_rem_cond_referral['referral_symptom_severity'] != -1, np.nan).astype('Int64')\n",
    "\n",
    "china_rem_cond_referral['referee_place_admission'] = china_rem_cond_referral['referee_place_admission'].where(\n",
    "    china_rem_cond_referral['referee_place_admission'] != -1, np.nan).astype('Int64')\n",
    "china_rem_cond_referral['referral_place_admission'] = china_rem_cond_referral['referral_place_admission'].where(\n",
    "    china_rem_cond_referral['referral_place_admission'] != -1, np.nan).astype('Int64')"
   ],
   "metadata": {
    "collapsed": false,
    "pycharm": {
     "name": "#%%\n"
    }
   }
  },
  {
   "cell_type": "code",
   "execution_count": 131,
   "outputs": [
    {
     "data": {
      "text/plain": "        IS_OBSERVED            SOURCE            TARGET    TIME  \\\n0                 1  shijiazhuang-155  shijiazhuang-176  200109   \n1                 1  shijiazhuang-155  shijiazhuang-156  200109   \n2                 1  shijiazhuang-150   shijiazhuang-38  200109   \n3                 1  shijiazhuang-150  shijiazhuang-151  200109   \n4                 1  shijiazhuang-145  shijiazhuang-146  200109   \n...             ...               ...               ...     ...   \n971994            0         dalian-57       yangzhou-76  220208   \n971995            0     zhengzhou-274       yangzhou-76  220208   \n971996            0           an-1434       yangzhou-76  220208   \n971997            0     shanghai-1178       yangzhou-76  220208   \n971998            0      changzhou-24       yangzhou-76  220208   \n\n                      TYPE  WEIGHT  EVENT_INTERVAL_ID   EVENT   INTEGER_TIME  \\\n0       contact_nomination     1.0                0.0  207017  1578524400000   \n1       contact_nomination     1.0                0.0  207018  1578524400000   \n2       contact_nomination     1.0                1.0  207019  1578524400000   \n3       contact_nomination     1.0                1.0  207020  1578524400000   \n4       contact_nomination     1.0                2.0  207021  1578524400000   \n...                    ...     ...                ...     ...            ...   \n971994                 NaN     0.0                NaN  218452  1644274800000   \n971995                 NaN     0.0                NaN  218452  1644274800000   \n971996                 NaN     0.0                NaN  218452  1644274800000   \n971997                 NaN     0.0                NaN  218452  1644274800000   \n971998                 NaN     0.0                NaN  218452  1644274800000   \n\n        TIME_POINT  ...  referral_symptom_severity  referee_place_admission  \\\n0                2  ...                          4                      172   \n1                2  ...                          4                      172   \n2                2  ...                          4                      172   \n3                2  ...                          4                      172   \n4                2  ...                          4                      172   \n...            ...  ...                        ...                      ...   \n971994         254  ...                          0                      281   \n971995         254  ...                          0                      472   \n971996         254  ...                          0                      314   \n971997         254  ...                          0                      339   \n971998         254  ...                          0                      245   \n\n        referral_place_admission  age_difference  gender_difference  \\\n0                            172              32                  1   \n1                            172               6                  0   \n2                            172              52                  0   \n3                            172              30                  0   \n4                            172              37                  0   \n...                          ...             ...                ...   \n971994                       256               9                  1   \n971995                       256              17                  0   \n971996                       256              27                  1   \n971997                       256            <NA>                  1   \n971998                       256              39                  0   \n\n        residency_difference  place_event_difference  symptom_difference  \\\n0                          0                     617                  41   \n1                          0                       0                   0   \n2                          0                      44                   0   \n3                          0                     246                   0   \n4                          0                       9                   0   \n...                      ...                     ...                 ...   \n971994                    43                     484                   0   \n971995                   283                    1070                   0   \n971996                    59                       0                   0   \n971997                   166                       0                   0   \n971998                   105                       0                   0   \n\n        symptom_severity_difference  place_admission_difference  \n0                                 0                           0  \n1                                 0                           0  \n2                                 0                           0  \n3                                 0                           0  \n4                                 0                           0  \n...                             ...                         ...  \n971994                            3                          25  \n971995                            4                         216  \n971996                            1                          58  \n971997                            4                          83  \n971998                            3                          11  \n\n[971999 rows x 43 columns]",
      "text/html": "<div>\n<style scoped>\n    .dataframe tbody tr th:only-of-type {\n        vertical-align: middle;\n    }\n\n    .dataframe tbody tr th {\n        vertical-align: top;\n    }\n\n    .dataframe thead th {\n        text-align: right;\n    }\n</style>\n<table border=\"1\" class=\"dataframe\">\n  <thead>\n    <tr style=\"text-align: right;\">\n      <th></th>\n      <th>IS_OBSERVED</th>\n      <th>SOURCE</th>\n      <th>TARGET</th>\n      <th>TIME</th>\n      <th>TYPE</th>\n      <th>WEIGHT</th>\n      <th>EVENT_INTERVAL_ID</th>\n      <th>EVENT</th>\n      <th>INTEGER_TIME</th>\n      <th>TIME_POINT</th>\n      <th>...</th>\n      <th>referral_symptom_severity</th>\n      <th>referee_place_admission</th>\n      <th>referral_place_admission</th>\n      <th>age_difference</th>\n      <th>gender_difference</th>\n      <th>residency_difference</th>\n      <th>place_event_difference</th>\n      <th>symptom_difference</th>\n      <th>symptom_severity_difference</th>\n      <th>place_admission_difference</th>\n    </tr>\n  </thead>\n  <tbody>\n    <tr>\n      <th>0</th>\n      <td>1</td>\n      <td>shijiazhuang-155</td>\n      <td>shijiazhuang-176</td>\n      <td>200109</td>\n      <td>contact_nomination</td>\n      <td>1.0</td>\n      <td>0.0</td>\n      <td>207017</td>\n      <td>1578524400000</td>\n      <td>2</td>\n      <td>...</td>\n      <td>4</td>\n      <td>172</td>\n      <td>172</td>\n      <td>32</td>\n      <td>1</td>\n      <td>0</td>\n      <td>617</td>\n      <td>41</td>\n      <td>0</td>\n      <td>0</td>\n    </tr>\n    <tr>\n      <th>1</th>\n      <td>1</td>\n      <td>shijiazhuang-155</td>\n      <td>shijiazhuang-156</td>\n      <td>200109</td>\n      <td>contact_nomination</td>\n      <td>1.0</td>\n      <td>0.0</td>\n      <td>207018</td>\n      <td>1578524400000</td>\n      <td>2</td>\n      <td>...</td>\n      <td>4</td>\n      <td>172</td>\n      <td>172</td>\n      <td>6</td>\n      <td>0</td>\n      <td>0</td>\n      <td>0</td>\n      <td>0</td>\n      <td>0</td>\n      <td>0</td>\n    </tr>\n    <tr>\n      <th>2</th>\n      <td>1</td>\n      <td>shijiazhuang-150</td>\n      <td>shijiazhuang-38</td>\n      <td>200109</td>\n      <td>contact_nomination</td>\n      <td>1.0</td>\n      <td>1.0</td>\n      <td>207019</td>\n      <td>1578524400000</td>\n      <td>2</td>\n      <td>...</td>\n      <td>4</td>\n      <td>172</td>\n      <td>172</td>\n      <td>52</td>\n      <td>0</td>\n      <td>0</td>\n      <td>44</td>\n      <td>0</td>\n      <td>0</td>\n      <td>0</td>\n    </tr>\n    <tr>\n      <th>3</th>\n      <td>1</td>\n      <td>shijiazhuang-150</td>\n      <td>shijiazhuang-151</td>\n      <td>200109</td>\n      <td>contact_nomination</td>\n      <td>1.0</td>\n      <td>1.0</td>\n      <td>207020</td>\n      <td>1578524400000</td>\n      <td>2</td>\n      <td>...</td>\n      <td>4</td>\n      <td>172</td>\n      <td>172</td>\n      <td>30</td>\n      <td>0</td>\n      <td>0</td>\n      <td>246</td>\n      <td>0</td>\n      <td>0</td>\n      <td>0</td>\n    </tr>\n    <tr>\n      <th>4</th>\n      <td>1</td>\n      <td>shijiazhuang-145</td>\n      <td>shijiazhuang-146</td>\n      <td>200109</td>\n      <td>contact_nomination</td>\n      <td>1.0</td>\n      <td>2.0</td>\n      <td>207021</td>\n      <td>1578524400000</td>\n      <td>2</td>\n      <td>...</td>\n      <td>4</td>\n      <td>172</td>\n      <td>172</td>\n      <td>37</td>\n      <td>0</td>\n      <td>0</td>\n      <td>9</td>\n      <td>0</td>\n      <td>0</td>\n      <td>0</td>\n    </tr>\n    <tr>\n      <th>...</th>\n      <td>...</td>\n      <td>...</td>\n      <td>...</td>\n      <td>...</td>\n      <td>...</td>\n      <td>...</td>\n      <td>...</td>\n      <td>...</td>\n      <td>...</td>\n      <td>...</td>\n      <td>...</td>\n      <td>...</td>\n      <td>...</td>\n      <td>...</td>\n      <td>...</td>\n      <td>...</td>\n      <td>...</td>\n      <td>...</td>\n      <td>...</td>\n      <td>...</td>\n      <td>...</td>\n    </tr>\n    <tr>\n      <th>971994</th>\n      <td>0</td>\n      <td>dalian-57</td>\n      <td>yangzhou-76</td>\n      <td>220208</td>\n      <td>NaN</td>\n      <td>0.0</td>\n      <td>NaN</td>\n      <td>218452</td>\n      <td>1644274800000</td>\n      <td>254</td>\n      <td>...</td>\n      <td>0</td>\n      <td>281</td>\n      <td>256</td>\n      <td>9</td>\n      <td>1</td>\n      <td>43</td>\n      <td>484</td>\n      <td>0</td>\n      <td>3</td>\n      <td>25</td>\n    </tr>\n    <tr>\n      <th>971995</th>\n      <td>0</td>\n      <td>zhengzhou-274</td>\n      <td>yangzhou-76</td>\n      <td>220208</td>\n      <td>NaN</td>\n      <td>0.0</td>\n      <td>NaN</td>\n      <td>218452</td>\n      <td>1644274800000</td>\n      <td>254</td>\n      <td>...</td>\n      <td>0</td>\n      <td>472</td>\n      <td>256</td>\n      <td>17</td>\n      <td>0</td>\n      <td>283</td>\n      <td>1070</td>\n      <td>0</td>\n      <td>4</td>\n      <td>216</td>\n    </tr>\n    <tr>\n      <th>971996</th>\n      <td>0</td>\n      <td>an-1434</td>\n      <td>yangzhou-76</td>\n      <td>220208</td>\n      <td>NaN</td>\n      <td>0.0</td>\n      <td>NaN</td>\n      <td>218452</td>\n      <td>1644274800000</td>\n      <td>254</td>\n      <td>...</td>\n      <td>0</td>\n      <td>314</td>\n      <td>256</td>\n      <td>27</td>\n      <td>1</td>\n      <td>59</td>\n      <td>0</td>\n      <td>0</td>\n      <td>1</td>\n      <td>58</td>\n    </tr>\n    <tr>\n      <th>971997</th>\n      <td>0</td>\n      <td>shanghai-1178</td>\n      <td>yangzhou-76</td>\n      <td>220208</td>\n      <td>NaN</td>\n      <td>0.0</td>\n      <td>NaN</td>\n      <td>218452</td>\n      <td>1644274800000</td>\n      <td>254</td>\n      <td>...</td>\n      <td>0</td>\n      <td>339</td>\n      <td>256</td>\n      <td>&lt;NA&gt;</td>\n      <td>1</td>\n      <td>166</td>\n      <td>0</td>\n      <td>0</td>\n      <td>4</td>\n      <td>83</td>\n    </tr>\n    <tr>\n      <th>971998</th>\n      <td>0</td>\n      <td>changzhou-24</td>\n      <td>yangzhou-76</td>\n      <td>220208</td>\n      <td>NaN</td>\n      <td>0.0</td>\n      <td>NaN</td>\n      <td>218452</td>\n      <td>1644274800000</td>\n      <td>254</td>\n      <td>...</td>\n      <td>0</td>\n      <td>245</td>\n      <td>256</td>\n      <td>39</td>\n      <td>0</td>\n      <td>105</td>\n      <td>0</td>\n      <td>0</td>\n      <td>3</td>\n      <td>11</td>\n    </tr>\n  </tbody>\n</table>\n<p>971999 rows × 43 columns</p>\n</div>"
     },
     "execution_count": 131,
     "metadata": {},
     "output_type": "execute_result"
    }
   ],
   "source": [
    "china_rem_cond_referral['age_difference'] = abs(\n",
    "    china_rem_cond_referral['referee_age'] - china_rem_cond_referral['referral_age']).astype('Int64')\n",
    "china_rem_cond_referral['gender_difference'] = abs(\n",
    "    china_rem_cond_referral['referee_gender'] - china_rem_cond_referral['referral_gender']).astype('Int64')\n",
    "china_rem_cond_referral['residency_difference'] = abs(\n",
    "    china_rem_cond_referral['referee_residency'] - china_rem_cond_referral['referral_residency']).astype('Int64')\n",
    "china_rem_cond_referral['place_event_difference'] = abs(\n",
    "    china_rem_cond_referral['referee_place_event'] - china_rem_cond_referral['referral_place_event']).astype('Int64')\n",
    "china_rem_cond_referral['symptom_difference'] = abs(\n",
    "    china_rem_cond_referral['referee_symptom'] - china_rem_cond_referral['referral_symptom']).astype('Int64')\n",
    "china_rem_cond_referral['symptom_severity_difference'] = abs(\n",
    "    china_rem_cond_referral['referee_symptom_severity'] - china_rem_cond_referral['referral_symptom_severity']).astype('Int64')\n",
    "china_rem_cond_referral['place_admission_difference'] = abs(\n",
    "    china_rem_cond_referral['referee_place_admission'] - china_rem_cond_referral['referral_place_admission']).astype('Int64')\n",
    "china_rem_cond_referral"
   ],
   "metadata": {
    "collapsed": false,
    "pycharm": {
     "name": "#%%\n"
    }
   }
  },
  {
   "cell_type": "code",
   "execution_count": 132,
   "outputs": [],
   "source": [
    "china_rem_cond_referral['residency_difference'] = china_rem_cond_referral['residency_difference'].where(china_rem_cond_referral['residency_difference'] == 0, 1)\n",
    "china_rem_cond_referral['place_event_difference'] = china_rem_cond_referral['place_event_difference'].where(china_rem_cond_referral['place_event_difference'] == 0, 1)\n",
    "china_rem_cond_referral['symptom_difference'] = china_rem_cond_referral['symptom_difference'].where(china_rem_cond_referral['symptom_difference'] == 0, 1)\n",
    "china_rem_cond_referral['symptom_severity_difference'] = china_rem_cond_referral['symptom_severity_difference'].where(china_rem_cond_referral['symptom_severity_difference'] == 0, 1)\n",
    "china_rem_cond_referral['place_admission_difference'] = china_rem_cond_referral['place_admission_difference'].where(china_rem_cond_referral['place_admission_difference'] == 0, 1)"
   ],
   "metadata": {
    "collapsed": false,
    "pycharm": {
     "name": "#%%\n"
    }
   }
  },
  {
   "cell_type": "code",
   "execution_count": 133,
   "outputs": [],
   "source": [
    "china_rem_cond_referral.to_csv('../Data/Tables/rem/china_eventlist_nomination_cond_referral.csv')"
   ],
   "metadata": {
    "collapsed": false,
    "pycharm": {
     "name": "#%%\n"
    }
   }
  },
  {
   "cell_type": "code",
   "execution_count": null,
   "outputs": [],
   "source": [],
   "metadata": {
    "collapsed": false,
    "pycharm": {
     "name": "#%%\n"
    }
   }
  }
 ],
 "metadata": {
  "kernelspec": {
   "display_name": "Python 3",
   "language": "python",
   "name": "python3"
  },
  "language_info": {
   "codemirror_mode": {
    "name": "ipython",
    "version": 2
   },
   "file_extension": ".py",
   "mimetype": "text/x-python",
   "name": "python",
   "nbconvert_exporter": "python",
   "pygments_lexer": "ipython2",
   "version": "2.7.6"
  }
 },
 "nbformat": 4,
 "nbformat_minor": 0
}