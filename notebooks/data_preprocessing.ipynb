{
 "cells": [
  {
   "cell_type": "code",
   "execution_count": 2,
   "metadata": {
    "pycharm": {
     "name": "#%%\n"
    }
   },
   "outputs": [],
   "source": [
    "import json\n",
    "import re\n",
    "import warnings\n",
    "\n",
    "import pandas as pd\n",
    "import networkx as nx\n",
    "import numpy as np\n",
    "\n",
    "from difflib import SequenceMatcher\n",
    "from tqdm.notebook import tqdm"
   ]
  },
  {
   "cell_type": "code",
   "execution_count": 3,
   "metadata": {
    "pycharm": {
     "name": "#%%\n"
    }
   },
   "outputs": [],
   "source": [
    "warnings.filterwarnings('ignore')"
   ]
  },
  {
   "attachments": {},
   "cell_type": "markdown",
   "metadata": {
    "pycharm": {
     "name": "#%% md\n"
    }
   },
   "source": [
    "# Bucharest dataset"
   ]
  },
  {
   "cell_type": "code",
   "execution_count": 4,
   "metadata": {
    "pycharm": {
     "name": "#%%\n"
    }
   },
   "outputs": [],
   "source": [
    "bucharest = pd.read_excel('../Data/Raw/replication_data_clean_version.xlsx')\n",
    "bucharest_big = pd.read_excel('../Data/Raw/short database COVID_20.09.21_v3.xlsx')\n",
    "bucharest_big = bucharest_big[~bucharest_big['covid_patient'].isna()]"
   ]
  },
  {
   "cell_type": "code",
   "execution_count": 4,
   "metadata": {
    "pycharm": {
     "name": "#%%\n"
    }
   },
   "outputs": [
    {
     "data": {
      "text/plain": "((13377, 33), (46269, 40))"
     },
     "execution_count": 4,
     "metadata": {},
     "output_type": "execute_result"
    }
   ],
   "source": [
    "bucharest.shape, bucharest_big.shape"
   ]
  },
  {
   "cell_type": "code",
   "execution_count": 12,
   "metadata": {
    "pycharm": {
     "name": "#%%\n"
    }
   },
   "outputs": [
    {
     "data": {
      "text/plain": "0it [00:00, ?it/s]",
      "application/vnd.jupyter.widget-view+json": {
       "version_major": 2,
       "version_minor": 0,
       "model_id": "1c426ab581ae4bc6b278c841ac0a6a60"
      }
     },
     "metadata": {},
     "output_type": "display_data"
    },
    {
     "name": "stdout",
     "output_type": "stream",
     "text": [
      "19713 19713\n"
     ]
    },
    {
     "data": {
      "text/plain": "0it [00:00, ?it/s]",
      "application/vnd.jupyter.widget-view+json": {
       "version_major": 2,
       "version_minor": 0,
       "model_id": "cb269a4a91f443119df366ecf6208cb9"
      }
     },
     "metadata": {},
     "output_type": "display_data"
    },
    {
     "name": "stdout",
     "output_type": "stream",
     "text": [
      "57835 57835\n"
     ]
    }
   ],
   "source": [
    "bucharest_nodelist = pd.DataFrame(columns=['node_id', 'age', 'gender', 'medical', 'isco08_code', 'isco08_label'])\n",
    "unique_nodes = set()\n",
    "\n",
    "for index, row in tqdm(bucharest.iterrows()):\n",
    "    if (ref := str(row['REFEREE_CODE_HARVARD'])) not in unique_nodes:\n",
    "        bucharest_nodelist = bucharest_nodelist.append(pd.Series({'node_id': ref, 'age': row['REFEREE_AGE'], 'gender': row['REFEREE_SEX_MALE_1'], 'medical': row['REFEREE_medical_yes_no_not_active'],\n",
    "                                                                  'isco08_code': row['REFEREE_ISCO08_1_digit_code'], 'isco08_label': row['REFEREE_ISCO08_1_digit_label']}), ignore_index=True)\n",
    "    if (ref := str(row['REFERRAL_CODE_HARVARD'])) not in unique_nodes:\n",
    "        bucharest_nodelist = bucharest_nodelist.append(pd.Series({'node_id': ref, 'age': row['REFERRAL_AGE'], 'gender': row['REFERRAL_SEX_1_MALE'], 'medical': row['REFERRAL_medical_yes_no_not_active'],\n",
    "                                                                  'isco08_code': row['REFERRAL_ISCO08_1_digit_code'], 'isco08_label': row['REFERRAL_ISCO08_1_digit_label']}), ignore_index=True)\n",
    "    \n",
    "    unique_nodes.add(str(row['REFEREE_CODE_HARVARD']))\n",
    "    unique_nodes.add(str(row['REFERRAL_CODE_HARVARD']))\n",
    "\n",
    "print(bucharest_nodelist.shape[0], len(unique_nodes))\n",
    "\n",
    "for index, row in tqdm(bucharest_big.iterrows()):\n",
    "    if (ref := str(int(row['covid_patient']))) not in unique_nodes:\n",
    "        bucharest_nodelist = bucharest_nodelist.append(pd.Series({'node_id': ref, 'age': row['age'], 'gender': row['sex'], 'medical': np.nan,\n",
    "                                                                  'isco08_code': row['ISCO08_1_digit_code'], 'isco08_label': row['ISCO08_1_digit_label']}), ignore_index=True)\n",
    "    \n",
    "    unique_nodes.add(str(int(row['covid_patient'])))\n",
    "\n",
    "print(bucharest_nodelist.shape[0], len(unique_nodes))"
   ]
  },
  {
   "cell_type": "markdown",
   "source": [
    "**Sanity check**:\n",
    "\n",
    "- out of 19713 nodes in bucharest, 6895 referees and 1811 referrals are included in bucharest_big\n",
    "- that means that out of 46269 entries in bucharest_big, 6895 + 1811 = 8706 entries should be skipped -> 46269 - 8706 = 37563\n",
    "- therefore, the complete nodelist should contain 19713 nodes from bucharest and 37563 from bucharest_big -> 19713 + 37563 = 57276"
   ],
   "metadata": {
    "collapsed": false,
    "pycharm": {
     "name": "#%% md\n"
    }
   }
  },
  {
   "cell_type": "code",
   "execution_count": 13,
   "outputs": [],
   "source": [
    "bucharest_nodelist['node_id'] = bucharest_nodelist['node_id'].astype('str')"
   ],
   "metadata": {
    "collapsed": false,
    "pycharm": {
     "name": "#%%\n"
    }
   }
  },
  {
   "cell_type": "code",
   "execution_count": 17,
   "outputs": [
    {
     "data": {
      "text/plain": "float"
     },
     "execution_count": 17,
     "metadata": {},
     "output_type": "execute_result"
    }
   ],
   "source": [
    "type(bucharest_nodelist['medical'].unique()[1])"
   ],
   "metadata": {
    "collapsed": false,
    "pycharm": {
     "name": "#%%\n"
    }
   }
  },
  {
   "cell_type": "code",
   "execution_count": 22,
   "outputs": [
    {
     "data": {
      "text/plain": "array(['No', nan, 'Yes'], dtype=object)"
     },
     "execution_count": 22,
     "metadata": {},
     "output_type": "execute_result"
    }
   ],
   "source": [
    "bucharest_nodelist['medical'] = bucharest_nodelist['medical'].apply(lambda x: 'No' if (pd.notna(x)) and (x != 'Yes') else x)\n",
    "bucharest_nodelist['medical'].unique()"
   ],
   "metadata": {
    "collapsed": false,
    "pycharm": {
     "name": "#%%\n"
    }
   }
  },
  {
   "cell_type": "code",
   "execution_count": 23,
   "metadata": {
    "pycharm": {
     "name": "#%%\n"
    }
   },
   "outputs": [
    {
     "data": {
      "text/plain": "        node_id   age  gender medical isco08_code              isco08_label\n0        179373  65.0       1      No         NAP    Not Active - pensioner\n1      1S179373  63.0     NaN     NaN         NaN                       NaN\n2        146179  40.0       1      No         EMP  Employee - unknown group\n3        235990  32.0     2.0     NaN         NaN                       NaN\n4      3S146179   3.0     NaN      No         NAC        Not Active - Child\n...         ...   ...     ...     ...         ...                       ...\n57830        19  32.0    male     NaN         NaN                       NaN\n57831        18  30.0  female     NaN         NaN                       NaN\n57832        16  60.0    male     NaN         NaN                       NaN\n57833        14  42.0  female     NaN         NaN                       NaN\n57834        12  49.0    male     NaN         NaN                       NaN\n\n[57835 rows x 6 columns]",
      "text/html": "<div>\n<style scoped>\n    .dataframe tbody tr th:only-of-type {\n        vertical-align: middle;\n    }\n\n    .dataframe tbody tr th {\n        vertical-align: top;\n    }\n\n    .dataframe thead th {\n        text-align: right;\n    }\n</style>\n<table border=\"1\" class=\"dataframe\">\n  <thead>\n    <tr style=\"text-align: right;\">\n      <th></th>\n      <th>node_id</th>\n      <th>age</th>\n      <th>gender</th>\n      <th>medical</th>\n      <th>isco08_code</th>\n      <th>isco08_label</th>\n    </tr>\n  </thead>\n  <tbody>\n    <tr>\n      <th>0</th>\n      <td>179373</td>\n      <td>65.0</td>\n      <td>1</td>\n      <td>No</td>\n      <td>NAP</td>\n      <td>Not Active - pensioner</td>\n    </tr>\n    <tr>\n      <th>1</th>\n      <td>1S179373</td>\n      <td>63.0</td>\n      <td>NaN</td>\n      <td>NaN</td>\n      <td>NaN</td>\n      <td>NaN</td>\n    </tr>\n    <tr>\n      <th>2</th>\n      <td>146179</td>\n      <td>40.0</td>\n      <td>1</td>\n      <td>No</td>\n      <td>EMP</td>\n      <td>Employee - unknown group</td>\n    </tr>\n    <tr>\n      <th>3</th>\n      <td>235990</td>\n      <td>32.0</td>\n      <td>2.0</td>\n      <td>NaN</td>\n      <td>NaN</td>\n      <td>NaN</td>\n    </tr>\n    <tr>\n      <th>4</th>\n      <td>3S146179</td>\n      <td>3.0</td>\n      <td>NaN</td>\n      <td>No</td>\n      <td>NAC</td>\n      <td>Not Active - Child</td>\n    </tr>\n    <tr>\n      <th>...</th>\n      <td>...</td>\n      <td>...</td>\n      <td>...</td>\n      <td>...</td>\n      <td>...</td>\n      <td>...</td>\n    </tr>\n    <tr>\n      <th>57830</th>\n      <td>19</td>\n      <td>32.0</td>\n      <td>male</td>\n      <td>NaN</td>\n      <td>NaN</td>\n      <td>NaN</td>\n    </tr>\n    <tr>\n      <th>57831</th>\n      <td>18</td>\n      <td>30.0</td>\n      <td>female</td>\n      <td>NaN</td>\n      <td>NaN</td>\n      <td>NaN</td>\n    </tr>\n    <tr>\n      <th>57832</th>\n      <td>16</td>\n      <td>60.0</td>\n      <td>male</td>\n      <td>NaN</td>\n      <td>NaN</td>\n      <td>NaN</td>\n    </tr>\n    <tr>\n      <th>57833</th>\n      <td>14</td>\n      <td>42.0</td>\n      <td>female</td>\n      <td>NaN</td>\n      <td>NaN</td>\n      <td>NaN</td>\n    </tr>\n    <tr>\n      <th>57834</th>\n      <td>12</td>\n      <td>49.0</td>\n      <td>male</td>\n      <td>NaN</td>\n      <td>NaN</td>\n      <td>NaN</td>\n    </tr>\n  </tbody>\n</table>\n<p>57835 rows × 6 columns</p>\n</div>"
     },
     "execution_count": 23,
     "metadata": {},
     "output_type": "execute_result"
    }
   ],
   "source": [
    "bucharest_nodelist"
   ]
  },
  {
   "cell_type": "code",
   "execution_count": 5,
   "outputs": [],
   "source": [
    "#bucharest_edgelist = bucharest.copy()[['NR', 'REFEREE_CONFIRMATION_DAY', 'REFEREE_CODE_HARVARD', 'REFERRAL_CODE_HARVARD']]\n",
    "#bucharest_edgelist.rename({'NR': 'No', 'REFEREE_CONFIRMATION_DAY': 'Date', 'REFEREE_CODE_HARVARD': 'Referee', 'REFERRAL_CODE_HARVARD': 'Referral'}, axis=1, inplace=True)\n",
    "bucharest_edgelist = pd.DataFrame(columns=['Referee', 'Referral', 'Date'])"
   ],
   "metadata": {
    "collapsed": false,
    "pycharm": {
     "name": "#%%\n"
    }
   }
  },
  {
   "cell_type": "code",
   "execution_count": null,
   "outputs": [],
   "source": [
    "unique_nodes = set()\n",
    "\n",
    "for index, row in bucharest.iterrows():\n",
    "\n",
    "    bucharest_edgelist = pd.concat([bucharest_edgelist, pd.Series({'R'})])"
   ],
   "metadata": {
    "collapsed": false,
    "pycharm": {
     "name": "#%%\n"
    }
   }
  },
  {
   "cell_type": "code",
   "execution_count": 37,
   "metadata": {
    "pycharm": {
     "name": "#%%\n"
    }
   },
   "outputs": [
    {
     "data": {
      "text/plain": "0it [00:00, ?it/s]",
      "application/vnd.jupyter.widget-view+json": {
       "version_major": 2,
       "version_minor": 0,
       "model_id": "9ada267ae7a4489b80ce8aa504ec3a74"
      }
     },
     "metadata": {},
     "output_type": "display_data"
    }
   ],
   "source": [
    "referees = set(bucharest['REFEREE_CODE_HARVARD'].astype('str').to_numpy())\n",
    "referrals = set(bucharest['REFERRAL_CODE_HARVARD'].astype('str').to_numpy())\n",
    "\n",
    "for index, row in tqdm(bucharest_big.iterrows()):\n",
    "    covid_patient = str(int(row['covid_patient']))\n",
    "    if (covid_patient not in referees) and (covid_patient not in referrals):\n",
    "        bucharest_edgelist = bucharest_edgelist.append(pd.Series({'No': np.nan, 'Date': pd.to_datetime('2020-01-01'), 'Referee': covid_patient, 'Referral': np.nan}), ignore_index=True)"
   ]
  },
  {
   "cell_type": "code",
   "execution_count": 38,
   "outputs": [
    {
     "data": {
      "text/plain": "(51499, 4)"
     },
     "execution_count": 38,
     "metadata": {},
     "output_type": "execute_result"
    }
   ],
   "source": [
    "bucharest_edgelist.shape"
   ],
   "metadata": {
    "collapsed": false,
    "pycharm": {
     "name": "#%%\n"
    }
   }
  },
  {
   "cell_type": "markdown",
   "source": [
    "**Sanity check:\n",
    "\n",
    "- bucharest_edgelist is 13377 entries long before\n",
    "- 8706 entries from bucharest_big are already included in bucharest_edgelist, so don't need to add any non-edges for them\n",
    "-> need to add 46269 - 8706 = 37563 to edgelist: 13377 + 37563 = 50940"
   ],
   "metadata": {
    "collapsed": false,
    "pycharm": {
     "name": "#%% md\n"
    }
   }
  },
  {
   "cell_type": "code",
   "execution_count": 39,
   "metadata": {
    "pycharm": {
     "name": "#%%\n"
    }
   },
   "outputs": [
    {
     "data": {
      "text/plain": "            No    Date Referee      Referral\n25749      NaN  200101  222208           NaN\n34326      NaN  200101  143830           NaN\n34327      NaN  200101  143824           NaN\n34328      NaN  200101  143823           NaN\n34329      NaN  200101  143821           NaN\n...        ...     ...     ...           ...\n12815  13983.0  201031  251363  13983S251363\n10440  11400.0  201031  252010  11400S252010\n8904    9721.0  201031  252092   9721S252092\n5358    5800.0  201031  243980   5800S243980\n2713    2935.0  201031  251702        251723\n\n[51499 rows x 4 columns]",
      "text/html": "<div>\n<style scoped>\n    .dataframe tbody tr th:only-of-type {\n        vertical-align: middle;\n    }\n\n    .dataframe tbody tr th {\n        vertical-align: top;\n    }\n\n    .dataframe thead th {\n        text-align: right;\n    }\n</style>\n<table border=\"1\" class=\"dataframe\">\n  <thead>\n    <tr style=\"text-align: right;\">\n      <th></th>\n      <th>No</th>\n      <th>Date</th>\n      <th>Referee</th>\n      <th>Referral</th>\n    </tr>\n  </thead>\n  <tbody>\n    <tr>\n      <th>25749</th>\n      <td>NaN</td>\n      <td>200101</td>\n      <td>222208</td>\n      <td>NaN</td>\n    </tr>\n    <tr>\n      <th>34326</th>\n      <td>NaN</td>\n      <td>200101</td>\n      <td>143830</td>\n      <td>NaN</td>\n    </tr>\n    <tr>\n      <th>34327</th>\n      <td>NaN</td>\n      <td>200101</td>\n      <td>143824</td>\n      <td>NaN</td>\n    </tr>\n    <tr>\n      <th>34328</th>\n      <td>NaN</td>\n      <td>200101</td>\n      <td>143823</td>\n      <td>NaN</td>\n    </tr>\n    <tr>\n      <th>34329</th>\n      <td>NaN</td>\n      <td>200101</td>\n      <td>143821</td>\n      <td>NaN</td>\n    </tr>\n    <tr>\n      <th>...</th>\n      <td>...</td>\n      <td>...</td>\n      <td>...</td>\n      <td>...</td>\n    </tr>\n    <tr>\n      <th>12815</th>\n      <td>13983.0</td>\n      <td>201031</td>\n      <td>251363</td>\n      <td>13983S251363</td>\n    </tr>\n    <tr>\n      <th>10440</th>\n      <td>11400.0</td>\n      <td>201031</td>\n      <td>252010</td>\n      <td>11400S252010</td>\n    </tr>\n    <tr>\n      <th>8904</th>\n      <td>9721.0</td>\n      <td>201031</td>\n      <td>252092</td>\n      <td>9721S252092</td>\n    </tr>\n    <tr>\n      <th>5358</th>\n      <td>5800.0</td>\n      <td>201031</td>\n      <td>243980</td>\n      <td>5800S243980</td>\n    </tr>\n    <tr>\n      <th>2713</th>\n      <td>2935.0</td>\n      <td>201031</td>\n      <td>251702</td>\n      <td>251723</td>\n    </tr>\n  </tbody>\n</table>\n<p>51499 rows × 4 columns</p>\n</div>"
     },
     "execution_count": 39,
     "metadata": {},
     "output_type": "execute_result"
    }
   ],
   "source": [
    "bucharest_edgelist.sort_values(by='Date', ascending=True, inplace=True)\n",
    "bucharest_edgelist['Date'] = bucharest_edgelist['Date'].apply(lambda x: x.strftime('%y%m%d'))\n",
    "bucharest_edgelist"
   ]
  },
  {
   "cell_type": "code",
   "execution_count": 40,
   "metadata": {
    "pycharm": {
     "name": "#%%\n"
    }
   },
   "outputs": [],
   "source": [
    "bucharest_edgelist.to_csv('../Data/Preprocessed/bucharest_edgelist.csv')"
   ]
  },
  {
   "cell_type": "code",
   "execution_count": 24,
   "outputs": [],
   "source": [
    "bucharest_nodelist.to_csv('../Data/Preprocessed/bucharest_nodelist.csv')"
   ],
   "metadata": {
    "collapsed": false,
    "pycharm": {
     "name": "#%%\n"
    }
   }
  },
  {
   "attachments": {},
   "cell_type": "markdown",
   "metadata": {
    "pycharm": {
     "name": "#%% md\n"
    }
   },
   "source": [
    "# Yunnan dataset"
   ]
  },
  {
   "cell_type": "code",
   "execution_count": 3,
   "metadata": {
    "pycharm": {
     "name": "#%%\n"
    }
   },
   "outputs": [],
   "source": [
    "tmp = pd.read_stata('../Data/Raw/Yunnan & Hainan/Contact Network of Hainan and Yunnan.dta')\n",
    "yunnan = tmp.loc[tmp['Province'] == 'Yunnan']"
   ]
  },
  {
   "cell_type": "code",
   "execution_count": 4,
   "metadata": {
    "pycharm": {
     "name": "#%%\n"
    }
   },
   "outputs": [],
   "source": [
    "yunnan = yunnan[['No', 'Date', 'Age', 'Gender', 'relatives'] + [f'ties{x}' for x in range(1,10)]]"
   ]
  },
  {
   "cell_type": "code",
   "execution_count": 5,
   "outputs": [],
   "source": [
    "yunnan_nodelist = pd.DataFrame(columns=['node_id', 'age', 'gender', 'relatives'])"
   ],
   "metadata": {
    "collapsed": false,
    "pycharm": {
     "name": "#%%\n"
    }
   }
  },
  {
   "cell_type": "code",
   "execution_count": 7,
   "outputs": [],
   "source": [
    "unique_nodes = set()\n",
    "for index, row in yunnan.iterrows():\n",
    "    if row['No'] not in unique_nodes:\n",
    "        yunnan_nodelist = yunnan_nodelist.append(pd.Series({'node_id': row['No'], 'age': row['Age'], 'gender': row['Gender'], 'relatives': row['relatives']}), ignore_index=True)\n",
    "\n",
    "    unique_nodes.add(row['No'])"
   ],
   "metadata": {
    "collapsed": false,
    "pycharm": {
     "name": "#%%\n"
    }
   }
  },
  {
   "cell_type": "code",
   "execution_count": 8,
   "outputs": [
    {
     "data": {
      "text/plain": "(171, (171, 14))"
     },
     "execution_count": 8,
     "metadata": {},
     "output_type": "execute_result"
    }
   ],
   "source": [
    "len(unique_nodes), yunnan.shape"
   ],
   "metadata": {
    "collapsed": false,
    "pycharm": {
     "name": "#%%\n"
    }
   }
  },
  {
   "cell_type": "code",
   "execution_count": 6,
   "metadata": {
    "pycharm": {
     "name": "#%%\n"
    }
   },
   "outputs": [],
   "source": [
    "yunnan_edgelist = pd.DataFrame(columns=['Referee', 'Referral', 'Date'], dtype='int')"
   ]
  },
  {
   "cell_type": "code",
   "execution_count": 9,
   "metadata": {
    "pycharm": {
     "name": "#%%\n"
    }
   },
   "outputs": [],
   "source": [
    "for index, row in yunnan.iterrows():\n",
    "    yunnan_edgelist = yunnan_edgelist.append({'Referee': row['No'], 'Referral': np.nan, 'Date': row['Date']}, ignore_index=True)\n",
    "    for t in range(1,10):\n",
    "        if not np.isnan(row[f'ties{t}']):\n",
    "            yunnan_edgelist = yunnan_edgelist.append({'Referee': row['No'], 'Referral': row[f'ties{t}'], 'Date': row['Date']}, ignore_index=True)"
   ]
  },
  {
   "cell_type": "code",
   "execution_count": 10,
   "metadata": {
    "pycharm": {
     "name": "#%%\n"
    }
   },
   "outputs": [],
   "source": [
    "for col in yunnan_edgelist.columns:\n",
    "    yunnan_edgelist[col] = yunnan_edgelist[col].astype('Int64', errors='ignore')"
   ]
  },
  {
   "cell_type": "code",
   "execution_count": 11,
   "metadata": {
    "pycharm": {
     "name": "#%%\n"
    }
   },
   "outputs": [
    {
     "data": {
      "text/plain": "     Referee  Referral      Date\n0          1      <NA>  20200117\n1          1        10  20200117\n2          2      <NA>  20200122\n3          3      <NA>  20200124\n4          4      <NA>  20200124\n..       ...       ...       ...\n270      170       156  20200216\n271      171      <NA>  20200216\n272      171       155  20200216\n273      171       156  20200216\n274      171       170  20200216\n\n[275 rows x 3 columns]",
      "text/html": "<div>\n<style scoped>\n    .dataframe tbody tr th:only-of-type {\n        vertical-align: middle;\n    }\n\n    .dataframe tbody tr th {\n        vertical-align: top;\n    }\n\n    .dataframe thead th {\n        text-align: right;\n    }\n</style>\n<table border=\"1\" class=\"dataframe\">\n  <thead>\n    <tr style=\"text-align: right;\">\n      <th></th>\n      <th>Referee</th>\n      <th>Referral</th>\n      <th>Date</th>\n    </tr>\n  </thead>\n  <tbody>\n    <tr>\n      <th>0</th>\n      <td>1</td>\n      <td>&lt;NA&gt;</td>\n      <td>20200117</td>\n    </tr>\n    <tr>\n      <th>1</th>\n      <td>1</td>\n      <td>10</td>\n      <td>20200117</td>\n    </tr>\n    <tr>\n      <th>2</th>\n      <td>2</td>\n      <td>&lt;NA&gt;</td>\n      <td>20200122</td>\n    </tr>\n    <tr>\n      <th>3</th>\n      <td>3</td>\n      <td>&lt;NA&gt;</td>\n      <td>20200124</td>\n    </tr>\n    <tr>\n      <th>4</th>\n      <td>4</td>\n      <td>&lt;NA&gt;</td>\n      <td>20200124</td>\n    </tr>\n    <tr>\n      <th>...</th>\n      <td>...</td>\n      <td>...</td>\n      <td>...</td>\n    </tr>\n    <tr>\n      <th>270</th>\n      <td>170</td>\n      <td>156</td>\n      <td>20200216</td>\n    </tr>\n    <tr>\n      <th>271</th>\n      <td>171</td>\n      <td>&lt;NA&gt;</td>\n      <td>20200216</td>\n    </tr>\n    <tr>\n      <th>272</th>\n      <td>171</td>\n      <td>155</td>\n      <td>20200216</td>\n    </tr>\n    <tr>\n      <th>273</th>\n      <td>171</td>\n      <td>156</td>\n      <td>20200216</td>\n    </tr>\n    <tr>\n      <th>274</th>\n      <td>171</td>\n      <td>170</td>\n      <td>20200216</td>\n    </tr>\n  </tbody>\n</table>\n<p>275 rows × 3 columns</p>\n</div>"
     },
     "execution_count": 11,
     "metadata": {},
     "output_type": "execute_result"
    }
   ],
   "source": [
    "yunnan_edgelist"
   ]
  },
  {
   "cell_type": "code",
   "execution_count": 12,
   "metadata": {
    "pycharm": {
     "name": "#%%\n"
    }
   },
   "outputs": [],
   "source": [
    "dt = pd.to_datetime(yunnan_edgelist['Date'], format='%Y%m%d')\n",
    "yunnan_edgelist['Date'] = dt\n",
    "yunnan_edgelist.sort_values(by='Date', ascending=True, inplace=True)"
   ]
  },
  {
   "cell_type": "code",
   "execution_count": 13,
   "metadata": {
    "pycharm": {
     "name": "#%%\n"
    }
   },
   "outputs": [
    {
     "data": {
      "text/plain": "     Referee  Referral       Date\n0          1      <NA> 2020-01-17\n1          1        10 2020-01-17\n2          2      <NA> 2020-01-22\n3          3      <NA> 2020-01-24\n4          4      <NA> 2020-01-24\n..       ...       ...        ...\n273      171       156 2020-02-16\n269      170       155 2020-02-16\n268      170      <NA> 2020-02-16\n270      170       156 2020-02-16\n274      171       170 2020-02-16\n\n[275 rows x 3 columns]",
      "text/html": "<div>\n<style scoped>\n    .dataframe tbody tr th:only-of-type {\n        vertical-align: middle;\n    }\n\n    .dataframe tbody tr th {\n        vertical-align: top;\n    }\n\n    .dataframe thead th {\n        text-align: right;\n    }\n</style>\n<table border=\"1\" class=\"dataframe\">\n  <thead>\n    <tr style=\"text-align: right;\">\n      <th></th>\n      <th>Referee</th>\n      <th>Referral</th>\n      <th>Date</th>\n    </tr>\n  </thead>\n  <tbody>\n    <tr>\n      <th>0</th>\n      <td>1</td>\n      <td>&lt;NA&gt;</td>\n      <td>2020-01-17</td>\n    </tr>\n    <tr>\n      <th>1</th>\n      <td>1</td>\n      <td>10</td>\n      <td>2020-01-17</td>\n    </tr>\n    <tr>\n      <th>2</th>\n      <td>2</td>\n      <td>&lt;NA&gt;</td>\n      <td>2020-01-22</td>\n    </tr>\n    <tr>\n      <th>3</th>\n      <td>3</td>\n      <td>&lt;NA&gt;</td>\n      <td>2020-01-24</td>\n    </tr>\n    <tr>\n      <th>4</th>\n      <td>4</td>\n      <td>&lt;NA&gt;</td>\n      <td>2020-01-24</td>\n    </tr>\n    <tr>\n      <th>...</th>\n      <td>...</td>\n      <td>...</td>\n      <td>...</td>\n    </tr>\n    <tr>\n      <th>273</th>\n      <td>171</td>\n      <td>156</td>\n      <td>2020-02-16</td>\n    </tr>\n    <tr>\n      <th>269</th>\n      <td>170</td>\n      <td>155</td>\n      <td>2020-02-16</td>\n    </tr>\n    <tr>\n      <th>268</th>\n      <td>170</td>\n      <td>&lt;NA&gt;</td>\n      <td>2020-02-16</td>\n    </tr>\n    <tr>\n      <th>270</th>\n      <td>170</td>\n      <td>156</td>\n      <td>2020-02-16</td>\n    </tr>\n    <tr>\n      <th>274</th>\n      <td>171</td>\n      <td>170</td>\n      <td>2020-02-16</td>\n    </tr>\n  </tbody>\n</table>\n<p>275 rows × 3 columns</p>\n</div>"
     },
     "execution_count": 13,
     "metadata": {},
     "output_type": "execute_result"
    }
   ],
   "source": [
    "yunnan_edgelist"
   ]
  },
  {
   "cell_type": "code",
   "execution_count": 14,
   "metadata": {
    "pycharm": {
     "name": "#%%\n"
    }
   },
   "outputs": [],
   "source": [
    "yunnan_edgelist['Date'] = yunnan_edgelist['Date'].apply(lambda x: x.strftime('%y%m%d'))"
   ]
  },
  {
   "cell_type": "code",
   "execution_count": 15,
   "metadata": {
    "pycharm": {
     "name": "#%%\n"
    }
   },
   "outputs": [],
   "source": [
    "yunnan_edgelist.to_csv('../Data/Preprocessed/yunnan_edgelist.csv')"
   ]
  },
  {
   "cell_type": "code",
   "execution_count": 16,
   "outputs": [],
   "source": [
    "yunnan_nodelist.to_csv('../Data/Preprocessed/yunnan_nodelist.csv')"
   ],
   "metadata": {
    "collapsed": false,
    "pycharm": {
     "name": "#%%\n"
    }
   }
  },
  {
   "attachments": {},
   "cell_type": "markdown",
   "metadata": {
    "pycharm": {
     "name": "#%% md\n"
    }
   },
   "source": [
    "# Hainan dataset"
   ]
  },
  {
   "cell_type": "code",
   "execution_count": 17,
   "metadata": {
    "pycharm": {
     "name": "#%%\n"
    }
   },
   "outputs": [],
   "source": [
    "hainan = tmp.loc[tmp['Province'] == 'Hainan']"
   ]
  },
  {
   "cell_type": "code",
   "execution_count": 18,
   "metadata": {
    "pycharm": {
     "name": "#%%\n"
    }
   },
   "outputs": [],
   "source": [
    "hainan = hainan[['No', 'Date', 'Age', 'Gender', 'relatives'] + [f'ties{x}' for x in range(1,10)]]"
   ]
  },
  {
   "cell_type": "code",
   "execution_count": 20,
   "outputs": [],
   "source": [
    "hainan_nodelist = pd.DataFrame(columns=['node_id', 'age', 'gender', 'relatives'])"
   ],
   "metadata": {
    "collapsed": false,
    "pycharm": {
     "name": "#%%\n"
    }
   }
  },
  {
   "cell_type": "code",
   "execution_count": 21,
   "outputs": [],
   "source": [
    "unique_nodes = set()\n",
    "\n",
    "for index, row in hainan.iterrows():\n",
    "    if row['No'] not in unique_nodes:\n",
    "        hainan_nodelist = hainan_nodelist.append(pd.Series({'node_id': row['No'], 'age': row['Age'], 'gender': row['Gender'], 'relatives': row['relatives']}), ignore_index=True)\n",
    "\n",
    "    unique_nodes.add(row['No'])"
   ],
   "metadata": {
    "collapsed": false,
    "pycharm": {
     "name": "#%%\n"
    }
   }
  },
  {
   "cell_type": "code",
   "execution_count": 22,
   "outputs": [
    {
     "data": {
      "text/plain": "(162, (162, 14))"
     },
     "execution_count": 22,
     "metadata": {},
     "output_type": "execute_result"
    }
   ],
   "source": [
    "len(unique_nodes), hainan.shape"
   ],
   "metadata": {
    "collapsed": false,
    "pycharm": {
     "name": "#%%\n"
    }
   }
  },
  {
   "cell_type": "code",
   "execution_count": 19,
   "metadata": {
    "pycharm": {
     "name": "#%%\n"
    }
   },
   "outputs": [],
   "source": [
    "hainan_edgelist = pd.DataFrame(columns=['Referee', 'Referral', 'Date'], dtype='int')"
   ]
  },
  {
   "cell_type": "code",
   "execution_count": 23,
   "metadata": {
    "pycharm": {
     "name": "#%%\n"
    }
   },
   "outputs": [],
   "source": [
    "for index, row in hainan.iterrows():\n",
    "    hainan_edgelist = hainan_edgelist.append({'Referee': row['No'], 'Referral': np.nan, 'Date': row['Date']}, ignore_index=True)\n",
    "    for t in range(1,10):\n",
    "        if not np.isnan(row[f'ties{t}']):\n",
    "            hainan_edgelist = hainan_edgelist.append({'Referee': row['No'], 'Referral': row[f'ties{t}'], 'Date': row['Date']}, ignore_index=True)"
   ]
  },
  {
   "cell_type": "code",
   "execution_count": 24,
   "metadata": {
    "pycharm": {
     "name": "#%%\n"
    }
   },
   "outputs": [],
   "source": [
    "for col in hainan_edgelist.columns:\n",
    "    hainan_edgelist[col] = hainan_edgelist[col].astype('Int64', errors='ignore')"
   ]
  },
  {
   "cell_type": "code",
   "execution_count": 25,
   "metadata": {
    "pycharm": {
     "name": "#%%\n"
    }
   },
   "outputs": [
    {
     "data": {
      "text/plain": "     Referee  Referral      Date\n0          3      <NA>  20200122\n1          1      <NA>  20200122\n2          4      <NA>  20200122\n3          2      <NA>  20200122\n4          7      <NA>  20200123\n..       ...       ...       ...\n279      160       158  20200214\n280      159      <NA>  20200214\n281      159        37  20200214\n282      159        76  20200214\n283      162      <NA>  20200214\n\n[284 rows x 3 columns]",
      "text/html": "<div>\n<style scoped>\n    .dataframe tbody tr th:only-of-type {\n        vertical-align: middle;\n    }\n\n    .dataframe tbody tr th {\n        vertical-align: top;\n    }\n\n    .dataframe thead th {\n        text-align: right;\n    }\n</style>\n<table border=\"1\" class=\"dataframe\">\n  <thead>\n    <tr style=\"text-align: right;\">\n      <th></th>\n      <th>Referee</th>\n      <th>Referral</th>\n      <th>Date</th>\n    </tr>\n  </thead>\n  <tbody>\n    <tr>\n      <th>0</th>\n      <td>3</td>\n      <td>&lt;NA&gt;</td>\n      <td>20200122</td>\n    </tr>\n    <tr>\n      <th>1</th>\n      <td>1</td>\n      <td>&lt;NA&gt;</td>\n      <td>20200122</td>\n    </tr>\n    <tr>\n      <th>2</th>\n      <td>4</td>\n      <td>&lt;NA&gt;</td>\n      <td>20200122</td>\n    </tr>\n    <tr>\n      <th>3</th>\n      <td>2</td>\n      <td>&lt;NA&gt;</td>\n      <td>20200122</td>\n    </tr>\n    <tr>\n      <th>4</th>\n      <td>7</td>\n      <td>&lt;NA&gt;</td>\n      <td>20200123</td>\n    </tr>\n    <tr>\n      <th>...</th>\n      <td>...</td>\n      <td>...</td>\n      <td>...</td>\n    </tr>\n    <tr>\n      <th>279</th>\n      <td>160</td>\n      <td>158</td>\n      <td>20200214</td>\n    </tr>\n    <tr>\n      <th>280</th>\n      <td>159</td>\n      <td>&lt;NA&gt;</td>\n      <td>20200214</td>\n    </tr>\n    <tr>\n      <th>281</th>\n      <td>159</td>\n      <td>37</td>\n      <td>20200214</td>\n    </tr>\n    <tr>\n      <th>282</th>\n      <td>159</td>\n      <td>76</td>\n      <td>20200214</td>\n    </tr>\n    <tr>\n      <th>283</th>\n      <td>162</td>\n      <td>&lt;NA&gt;</td>\n      <td>20200214</td>\n    </tr>\n  </tbody>\n</table>\n<p>284 rows × 3 columns</p>\n</div>"
     },
     "execution_count": 25,
     "metadata": {},
     "output_type": "execute_result"
    }
   ],
   "source": [
    "hainan_edgelist"
   ]
  },
  {
   "cell_type": "code",
   "execution_count": 26,
   "metadata": {
    "pycharm": {
     "name": "#%%\n"
    }
   },
   "outputs": [
    {
     "data": {
      "text/plain": "0      200122\n1      200122\n2      200122\n3      200122\n7      200123\n        ...  \n264    200214\n263    200214\n282    200214\n272    200214\n283    200214\nName: Date, Length: 284, dtype: object"
     },
     "execution_count": 26,
     "metadata": {},
     "output_type": "execute_result"
    }
   ],
   "source": [
    "hainan_edgelist['Date'] = pd.to_datetime(hainan_edgelist['Date'], format='%Y%m%d')\n",
    "hainan_edgelist.sort_values(by='Date', ascending=True, inplace=True)\n",
    "hainan_edgelist['Date'] = hainan_edgelist['Date'].apply(lambda x: x.strftime('%y%m%d'))\n",
    "hainan_edgelist['Date']"
   ]
  },
  {
   "cell_type": "code",
   "execution_count": 27,
   "metadata": {
    "pycharm": {
     "name": "#%%\n"
    }
   },
   "outputs": [],
   "source": [
    "hainan_edgelist.to_csv('../Data/Preprocessed/hainan_edgelist.csv')"
   ]
  },
  {
   "cell_type": "code",
   "execution_count": 28,
   "outputs": [],
   "source": [
    "hainan_nodelist.to_csv('../Data/Preprocessed/hainan_nodelist.csv')"
   ],
   "metadata": {
    "collapsed": false,
    "pycharm": {
     "name": "#%%\n"
    }
   }
  },
  {
   "attachments": {},
   "cell_type": "markdown",
   "metadata": {
    "pycharm": {
     "name": "#%% md\n"
    }
   },
   "source": [
    "# Shanxi dataset"
   ]
  },
  {
   "cell_type": "code",
   "execution_count": 29,
   "metadata": {
    "pycharm": {
     "name": "#%%\n"
    }
   },
   "outputs": [],
   "source": [
    "shanxi = pd.read_stata('../Data/Raw/Shanxi/shannxi.dta')"
   ]
  },
  {
   "cell_type": "code",
   "execution_count": 30,
   "metadata": {
    "pycharm": {
     "name": "#%%\n"
    }
   },
   "outputs": [],
   "source": [
    "shanxi = shanxi[['No', 'Date', 'Age', 'Gender', 'Hukou', 'relatives'] + [f'ties{x}' for x in range(1,5)]]"
   ]
  },
  {
   "cell_type": "code",
   "execution_count": 32,
   "outputs": [],
   "source": [
    "shanxi_nodelist = pd.DataFrame(columns=['node_id', 'age', 'gender', 'hukou', 'relatives'])"
   ],
   "metadata": {
    "collapsed": false,
    "pycharm": {
     "name": "#%%\n"
    }
   }
  },
  {
   "cell_type": "code",
   "execution_count": 33,
   "outputs": [],
   "source": [
    "unique_nodes = set()\n",
    "\n",
    "for index, row in shanxi.iterrows():\n",
    "    if row['No'] not in unique_nodes:\n",
    "        shanxi_nodelist = shanxi_nodelist.append(pd.Series({'node_id': row['No'], 'age': row['Age'], 'gender': row['Gender'], 'relatives': row['relatives'], 'hukou': row['Hukou']}), ignore_index=True)\n",
    "\n",
    "    unique_nodes.add(row['No'])"
   ],
   "metadata": {
    "collapsed": false,
    "pycharm": {
     "name": "#%%\n"
    }
   }
  },
  {
   "cell_type": "code",
   "execution_count": 35,
   "outputs": [
    {
     "data": {
      "text/plain": "(237, (237, 10), (237, 5))"
     },
     "execution_count": 35,
     "metadata": {},
     "output_type": "execute_result"
    }
   ],
   "source": [
    "len(unique_nodes), shanxi.shape, shanxi_nodelist.shape"
   ],
   "metadata": {
    "collapsed": false,
    "pycharm": {
     "name": "#%%\n"
    }
   }
  },
  {
   "cell_type": "code",
   "execution_count": 36,
   "metadata": {
    "pycharm": {
     "name": "#%%\n"
    }
   },
   "outputs": [],
   "source": [
    "shanxi_edgelist = pd.DataFrame(columns=['Referee', 'Referral', 'Date'], dtype='int')"
   ]
  },
  {
   "cell_type": "code",
   "execution_count": 37,
   "metadata": {
    "pycharm": {
     "name": "#%%\n"
    }
   },
   "outputs": [],
   "source": [
    "for index, row in shanxi.iterrows():\n",
    "    shanxi_edgelist = shanxi_edgelist.append({'Referee': row['No'], 'Referral': np.nan, 'Date': row['Date']}, ignore_index=True)\n",
    "    \n",
    "    for t in range(1,5):\n",
    "        if not np.isnan(row[f'ties{t}']):\n",
    "            shanxi_edgelist = shanxi_edgelist.append({'Referee': row['No'], 'Referral': row[f'ties{t}'], 'Date': row['Date']}, ignore_index=True)"
   ]
  },
  {
   "cell_type": "code",
   "execution_count": 38,
   "metadata": {
    "pycharm": {
     "name": "#%%\n"
    }
   },
   "outputs": [],
   "source": [
    "for col in shanxi_edgelist.columns:\n",
    "    shanxi_edgelist[col] = shanxi_edgelist[col].astype('Int64', errors='ignore')"
   ]
  },
  {
   "cell_type": "code",
   "execution_count": 39,
   "metadata": {
    "pycharm": {
     "name": "#%%\n"
    }
   },
   "outputs": [
    {
     "data": {
      "text/plain": "     Referee  Referral      Date\n0          1      <NA>  20200123\n1          2      <NA>  20200123\n2          3      <NA>  20200123\n3          4      <NA>  20200124\n4          5      <NA>  20200124\n..       ...       ...       ...\n357      236       235  20200216\n358      237      <NA>  20200216\n359      237       234  20200216\n360      237       235  20200216\n361      237       236  20200216\n\n[362 rows x 3 columns]",
      "text/html": "<div>\n<style scoped>\n    .dataframe tbody tr th:only-of-type {\n        vertical-align: middle;\n    }\n\n    .dataframe tbody tr th {\n        vertical-align: top;\n    }\n\n    .dataframe thead th {\n        text-align: right;\n    }\n</style>\n<table border=\"1\" class=\"dataframe\">\n  <thead>\n    <tr style=\"text-align: right;\">\n      <th></th>\n      <th>Referee</th>\n      <th>Referral</th>\n      <th>Date</th>\n    </tr>\n  </thead>\n  <tbody>\n    <tr>\n      <th>0</th>\n      <td>1</td>\n      <td>&lt;NA&gt;</td>\n      <td>20200123</td>\n    </tr>\n    <tr>\n      <th>1</th>\n      <td>2</td>\n      <td>&lt;NA&gt;</td>\n      <td>20200123</td>\n    </tr>\n    <tr>\n      <th>2</th>\n      <td>3</td>\n      <td>&lt;NA&gt;</td>\n      <td>20200123</td>\n    </tr>\n    <tr>\n      <th>3</th>\n      <td>4</td>\n      <td>&lt;NA&gt;</td>\n      <td>20200124</td>\n    </tr>\n    <tr>\n      <th>4</th>\n      <td>5</td>\n      <td>&lt;NA&gt;</td>\n      <td>20200124</td>\n    </tr>\n    <tr>\n      <th>...</th>\n      <td>...</td>\n      <td>...</td>\n      <td>...</td>\n    </tr>\n    <tr>\n      <th>357</th>\n      <td>236</td>\n      <td>235</td>\n      <td>20200216</td>\n    </tr>\n    <tr>\n      <th>358</th>\n      <td>237</td>\n      <td>&lt;NA&gt;</td>\n      <td>20200216</td>\n    </tr>\n    <tr>\n      <th>359</th>\n      <td>237</td>\n      <td>234</td>\n      <td>20200216</td>\n    </tr>\n    <tr>\n      <th>360</th>\n      <td>237</td>\n      <td>235</td>\n      <td>20200216</td>\n    </tr>\n    <tr>\n      <th>361</th>\n      <td>237</td>\n      <td>236</td>\n      <td>20200216</td>\n    </tr>\n  </tbody>\n</table>\n<p>362 rows × 3 columns</p>\n</div>"
     },
     "execution_count": 39,
     "metadata": {},
     "output_type": "execute_result"
    }
   ],
   "source": [
    "shanxi_edgelist"
   ]
  },
  {
   "cell_type": "code",
   "execution_count": 40,
   "metadata": {
    "pycharm": {
     "name": "#%%\n"
    }
   },
   "outputs": [
    {
     "data": {
      "text/plain": "0      200123\n1      200123\n2      200123\n3      200124\n4      200124\n        ...  \n356    200216\n357    200216\n358    200216\n359    200216\n361    200216\nName: Date, Length: 362, dtype: object"
     },
     "execution_count": 40,
     "metadata": {},
     "output_type": "execute_result"
    }
   ],
   "source": [
    "shanxi_edgelist['Date'] = pd.to_datetime(shanxi_edgelist['Date'], format='%Y%m%d')\n",
    "shanxi_edgelist.sort_values(by='Date', ascending=True, inplace=True)\n",
    "shanxi_edgelist['Date'] = shanxi_edgelist['Date'].apply(lambda x: x.strftime('%y%m%d'))\n",
    "shanxi_edgelist['Date']"
   ]
  },
  {
   "cell_type": "code",
   "execution_count": 41,
   "metadata": {
    "pycharm": {
     "name": "#%%\n"
    }
   },
   "outputs": [],
   "source": [
    "shanxi_edgelist.to_csv('../Data/Preprocessed/shanxi_edgelist.csv')"
   ]
  },
  {
   "cell_type": "code",
   "execution_count": 42,
   "outputs": [],
   "source": [
    "shanxi_nodelist.to_csv('../Data/Preprocessed/shanxi_nodelist.csv')"
   ],
   "metadata": {
    "collapsed": false,
    "pycharm": {
     "name": "#%%\n"
    }
   }
  },
  {
   "cell_type": "markdown",
   "source": [
    "# Xian dataset"
   ],
   "metadata": {
    "collapsed": false,
    "pycharm": {
     "name": "#%% md\n"
    }
   }
  },
  {
   "cell_type": "code",
   "execution_count": 13,
   "outputs": [],
   "source": [
    "xian_nodes = pd.read_csv('../Data/Raw/Xian/xian.csv')\n",
    "xian_edges = pd.read_csv('../Data/Raw/Xian/xian_edges.csv')"
   ],
   "metadata": {
    "collapsed": false,
    "pycharm": {
     "name": "#%%\n"
    }
   }
  },
  {
   "cell_type": "code",
   "execution_count": 14,
   "outputs": [
    {
     "data": {
      "text/plain": "     Referee  Referral\n0          3         1\n1          5         4\n2          6         5\n3          7         5\n4          8         5\n..       ...       ...\n754     2027      1792\n755     2028       172\n756     2035      1792\n757     2036      1792\n758     2039      1833\n\n[759 rows x 2 columns]",
      "text/html": "<div>\n<style scoped>\n    .dataframe tbody tr th:only-of-type {\n        vertical-align: middle;\n    }\n\n    .dataframe tbody tr th {\n        vertical-align: top;\n    }\n\n    .dataframe thead th {\n        text-align: right;\n    }\n</style>\n<table border=\"1\" class=\"dataframe\">\n  <thead>\n    <tr style=\"text-align: right;\">\n      <th></th>\n      <th>Referee</th>\n      <th>Referral</th>\n    </tr>\n  </thead>\n  <tbody>\n    <tr>\n      <th>0</th>\n      <td>3</td>\n      <td>1</td>\n    </tr>\n    <tr>\n      <th>1</th>\n      <td>5</td>\n      <td>4</td>\n    </tr>\n    <tr>\n      <th>2</th>\n      <td>6</td>\n      <td>5</td>\n    </tr>\n    <tr>\n      <th>3</th>\n      <td>7</td>\n      <td>5</td>\n    </tr>\n    <tr>\n      <th>4</th>\n      <td>8</td>\n      <td>5</td>\n    </tr>\n    <tr>\n      <th>...</th>\n      <td>...</td>\n      <td>...</td>\n    </tr>\n    <tr>\n      <th>754</th>\n      <td>2027</td>\n      <td>1792</td>\n    </tr>\n    <tr>\n      <th>755</th>\n      <td>2028</td>\n      <td>172</td>\n    </tr>\n    <tr>\n      <th>756</th>\n      <td>2035</td>\n      <td>1792</td>\n    </tr>\n    <tr>\n      <th>757</th>\n      <td>2036</td>\n      <td>1792</td>\n    </tr>\n    <tr>\n      <th>758</th>\n      <td>2039</td>\n      <td>1833</td>\n    </tr>\n  </tbody>\n</table>\n<p>759 rows × 2 columns</p>\n</div>"
     },
     "execution_count": 14,
     "metadata": {},
     "output_type": "execute_result"
    }
   ],
   "source": [
    "xian_edgelist = xian_edges[['Source', 'Target']].rename(columns={'Source': 'Referee', 'Target': 'Referral'})\n",
    "xian_edgelist"
   ],
   "metadata": {
    "collapsed": false,
    "pycharm": {
     "name": "#%%\n"
    }
   }
  },
  {
   "cell_type": "code",
   "execution_count": 15,
   "outputs": [
    {
     "data": {
      "text/plain": "1085"
     },
     "execution_count": 15,
     "metadata": {},
     "output_type": "execute_result"
    }
   ],
   "source": [
    "nodes_present = set(xian_edgelist['Referee']).union(set(xian_edgelist['Referral']))\n",
    "len(nodes_present)"
   ],
   "metadata": {
    "collapsed": false,
    "pycharm": {
     "name": "#%%\n"
    }
   }
  },
  {
   "cell_type": "code",
   "execution_count": 16,
   "outputs": [
    {
     "data": {
      "text/plain": "      Referee  Referral\n0         3.0       1.0\n1         5.0       4.0\n2         6.0       5.0\n3         7.0       5.0\n4         8.0       5.0\n...       ...       ...\n1719   2046.0       NaN\n1720   2047.0       NaN\n1721   2048.0       NaN\n1722   2049.0       NaN\n1723   2050.0       NaN\n\n[1724 rows x 2 columns]",
      "text/html": "<div>\n<style scoped>\n    .dataframe tbody tr th:only-of-type {\n        vertical-align: middle;\n    }\n\n    .dataframe tbody tr th {\n        vertical-align: top;\n    }\n\n    .dataframe thead th {\n        text-align: right;\n    }\n</style>\n<table border=\"1\" class=\"dataframe\">\n  <thead>\n    <tr style=\"text-align: right;\">\n      <th></th>\n      <th>Referee</th>\n      <th>Referral</th>\n    </tr>\n  </thead>\n  <tbody>\n    <tr>\n      <th>0</th>\n      <td>3.0</td>\n      <td>1.0</td>\n    </tr>\n    <tr>\n      <th>1</th>\n      <td>5.0</td>\n      <td>4.0</td>\n    </tr>\n    <tr>\n      <th>2</th>\n      <td>6.0</td>\n      <td>5.0</td>\n    </tr>\n    <tr>\n      <th>3</th>\n      <td>7.0</td>\n      <td>5.0</td>\n    </tr>\n    <tr>\n      <th>4</th>\n      <td>8.0</td>\n      <td>5.0</td>\n    </tr>\n    <tr>\n      <th>...</th>\n      <td>...</td>\n      <td>...</td>\n    </tr>\n    <tr>\n      <th>1719</th>\n      <td>2046.0</td>\n      <td>NaN</td>\n    </tr>\n    <tr>\n      <th>1720</th>\n      <td>2047.0</td>\n      <td>NaN</td>\n    </tr>\n    <tr>\n      <th>1721</th>\n      <td>2048.0</td>\n      <td>NaN</td>\n    </tr>\n    <tr>\n      <th>1722</th>\n      <td>2049.0</td>\n      <td>NaN</td>\n    </tr>\n    <tr>\n      <th>1723</th>\n      <td>2050.0</td>\n      <td>NaN</td>\n    </tr>\n  </tbody>\n</table>\n<p>1724 rows × 2 columns</p>\n</div>"
     },
     "execution_count": 16,
     "metadata": {},
     "output_type": "execute_result"
    }
   ],
   "source": [
    "for index, row in xian_nodes.iterrows():\n",
    "    if row['Id'] in nodes_present:\n",
    "        continue\n",
    "\n",
    "    xian_edgelist = pd.concat([xian_edgelist, pd.Series({'Referee': row['Id'], 'Referral': np.nan}).to_frame().T], axis='index', ignore_index=True)\n",
    "\n",
    "xian_edgelist"
   ],
   "metadata": {
    "collapsed": false,
    "pycharm": {
     "name": "#%%\n"
    }
   }
  },
  {
   "cell_type": "code",
   "execution_count": 17,
   "outputs": [
    {
     "data": {
      "text/plain": "      Referee  Referral\n0           3         1\n1           5         4\n2           6         5\n3           7         5\n4           8         5\n...       ...       ...\n1719     2046      <NA>\n1720     2047      <NA>\n1721     2048      <NA>\n1722     2049      <NA>\n1723     2050      <NA>\n\n[1724 rows x 2 columns]",
      "text/html": "<div>\n<style scoped>\n    .dataframe tbody tr th:only-of-type {\n        vertical-align: middle;\n    }\n\n    .dataframe tbody tr th {\n        vertical-align: top;\n    }\n\n    .dataframe thead th {\n        text-align: right;\n    }\n</style>\n<table border=\"1\" class=\"dataframe\">\n  <thead>\n    <tr style=\"text-align: right;\">\n      <th></th>\n      <th>Referee</th>\n      <th>Referral</th>\n    </tr>\n  </thead>\n  <tbody>\n    <tr>\n      <th>0</th>\n      <td>3</td>\n      <td>1</td>\n    </tr>\n    <tr>\n      <th>1</th>\n      <td>5</td>\n      <td>4</td>\n    </tr>\n    <tr>\n      <th>2</th>\n      <td>6</td>\n      <td>5</td>\n    </tr>\n    <tr>\n      <th>3</th>\n      <td>7</td>\n      <td>5</td>\n    </tr>\n    <tr>\n      <th>4</th>\n      <td>8</td>\n      <td>5</td>\n    </tr>\n    <tr>\n      <th>...</th>\n      <td>...</td>\n      <td>...</td>\n    </tr>\n    <tr>\n      <th>1719</th>\n      <td>2046</td>\n      <td>&lt;NA&gt;</td>\n    </tr>\n    <tr>\n      <th>1720</th>\n      <td>2047</td>\n      <td>&lt;NA&gt;</td>\n    </tr>\n    <tr>\n      <th>1721</th>\n      <td>2048</td>\n      <td>&lt;NA&gt;</td>\n    </tr>\n    <tr>\n      <th>1722</th>\n      <td>2049</td>\n      <td>&lt;NA&gt;</td>\n    </tr>\n    <tr>\n      <th>1723</th>\n      <td>2050</td>\n      <td>&lt;NA&gt;</td>\n    </tr>\n  </tbody>\n</table>\n<p>1724 rows × 2 columns</p>\n</div>"
     },
     "execution_count": 17,
     "metadata": {},
     "output_type": "execute_result"
    }
   ],
   "source": [
    "xian_edgelist['Referee'] = xian_edgelist['Referee'].astype('Int64')\n",
    "xian_edgelist['Referral'] = xian_edgelist['Referral'].astype('Int64')\n",
    "xian_edgelist"
   ],
   "metadata": {
    "collapsed": false,
    "pycharm": {
     "name": "#%%\n"
    }
   }
  },
  {
   "cell_type": "code",
   "execution_count": 18,
   "outputs": [],
   "source": [
    "xian_edgelist.to_csv('../Data/Preprocessed/xian_edgelist.csv')"
   ],
   "metadata": {
    "collapsed": false,
    "pycharm": {
     "name": "#%%\n"
    }
   }
  },
  {
   "cell_type": "code",
   "execution_count": null,
   "outputs": [],
   "source": [],
   "metadata": {
    "collapsed": false,
    "pycharm": {
     "name": "#%%\n"
    }
   }
  },
  {
   "attachments": {},
   "cell_type": "markdown",
   "metadata": {
    "pycharm": {
     "name": "#%% md\n"
    }
   },
   "source": [
    "# China dataset"
   ]
  },
  {
   "cell_type": "code",
   "execution_count": 43,
   "metadata": {
    "pycharm": {
     "name": "#%%\n"
    }
   },
   "outputs": [],
   "source": [
    "china = pd.read_csv('../Data/Raw/dataset_EN.csv', encoding_errors='replace')"
   ]
  },
  {
   "cell_type": "code",
   "execution_count": 44,
   "metadata": {
    "pycharm": {
     "name": "#%%\n"
    }
   },
   "outputs": [],
   "source": [
    "china = china[['ID', 'Date_Disclose', 'Age', 'Gender', 'Place of Residency', 'Place and Event', 'Venue', 'With Whom', 'Contact_ID_Relationship', 'Symptom', 'Symptom_Severity', 'Place_Admission']]"
   ]
  },
  {
   "cell_type": "code",
   "execution_count": 45,
   "metadata": {
    "pycharm": {
     "name": "#%%\n"
    }
   },
   "outputs": [
    {
     "data": {
      "text/plain": "                        ID Date_Disclose  Age  Gender Place of Residency  \\\n0           Anhui_Anqing-1     2020/1/27   49    Male                NaN   \n1          Anhui_Anqing-10     2020/1/29   54    Male                NaN   \n2          Anhui_Anqing-11     2020/1/29   50  Female        Hubei_Wuhan   \n3          Anhui_Anqing-12     2020/1/29   46    Male                NaN   \n4          Anhui_Anqing-13     2020/1/29   58    Male        Hubei_Wuhan   \n...                    ...           ...  ...     ...                ...   \n27199  Zhejiang_Ningbo-256      1/7/2022  NaN  Female    Zhejiang-Ningbo   \n27200  Zhejiang_Ningbo-257      1/7/2022  NaN  Female    Zhejiang-Ningbo   \n27201  Zhejiang_Ningbo-258      1/7/2022  NaN  Female    Zhejiang-Ningbo   \n27202         Chongqing-22      1/8/2022  NaN     NaN                NaN   \n27203         Chongqing-23     1/11/2022  NaN     NaN                NaN   \n\n        Place and Event Venue With Whom               Contact_ID_Relationship  \\\n0          Wuhan Travel   NaN       NaN                                   NaN   \n1           Hainan Work   NaN       NaN  anqing-14 (wife) anqing-10 (husband)   \n2          Wuhan Travel   NaN       NaN                                   NaN   \n3      Yellowstone Work   NaN       NaN                                   NaN   \n4         Work In Wuhan   NaN       NaN                                   NaN   \n...                 ...   ...       ...                                   ...   \n27199               NaN   NaN       NaN                                   NaN   \n27200               NaN   NaN       NaN                                   NaN   \n27201               NaN   NaN       NaN                                   NaN   \n27202               NaN   NaN       NaN                                   NaN   \n27203               NaN   NaN       NaN                                   NaN   \n\n                                              Symptom Symptom_Severity  \\\n0                                                 NaN              NaN   \n1              Somatosensory Related-Sign Description           Stable   \n2      Respiratory System Related-Symptom Description           Stable   \n3              Somatosensory Related-Sign Description           Stable   \n4                                                 NaN           Stable   \n...                                               ...              ...   \n27199                                             NaN              NaN   \n27200                                             NaN              NaN   \n27201                                             NaN              NaN   \n27202                                             NaN              NaN   \n27203                                             NaN              NaN   \n\n       Place_Admission  \n0         Anhui_Anqing  \n1         Anhui_Anqing  \n2         Anhui_Anqing  \n3         Anhui_Anqing  \n4         Anhui_Anqing  \n...                ...  \n27199  Zhejiang-Ningbo  \n27200  Zhejiang-Ningbo  \n27201  Zhejiang-Ningbo  \n27202        Chongqing  \n27203        Chongqing  \n\n[27204 rows x 12 columns]",
      "text/html": "<div>\n<style scoped>\n    .dataframe tbody tr th:only-of-type {\n        vertical-align: middle;\n    }\n\n    .dataframe tbody tr th {\n        vertical-align: top;\n    }\n\n    .dataframe thead th {\n        text-align: right;\n    }\n</style>\n<table border=\"1\" class=\"dataframe\">\n  <thead>\n    <tr style=\"text-align: right;\">\n      <th></th>\n      <th>ID</th>\n      <th>Date_Disclose</th>\n      <th>Age</th>\n      <th>Gender</th>\n      <th>Place of Residency</th>\n      <th>Place and Event</th>\n      <th>Venue</th>\n      <th>With Whom</th>\n      <th>Contact_ID_Relationship</th>\n      <th>Symptom</th>\n      <th>Symptom_Severity</th>\n      <th>Place_Admission</th>\n    </tr>\n  </thead>\n  <tbody>\n    <tr>\n      <th>0</th>\n      <td>Anhui_Anqing-1</td>\n      <td>2020/1/27</td>\n      <td>49</td>\n      <td>Male</td>\n      <td>NaN</td>\n      <td>Wuhan Travel</td>\n      <td>NaN</td>\n      <td>NaN</td>\n      <td>NaN</td>\n      <td>NaN</td>\n      <td>NaN</td>\n      <td>Anhui_Anqing</td>\n    </tr>\n    <tr>\n      <th>1</th>\n      <td>Anhui_Anqing-10</td>\n      <td>2020/1/29</td>\n      <td>54</td>\n      <td>Male</td>\n      <td>NaN</td>\n      <td>Hainan Work</td>\n      <td>NaN</td>\n      <td>NaN</td>\n      <td>anqing-14 (wife) anqing-10 (husband)</td>\n      <td>Somatosensory Related-Sign Description</td>\n      <td>Stable</td>\n      <td>Anhui_Anqing</td>\n    </tr>\n    <tr>\n      <th>2</th>\n      <td>Anhui_Anqing-11</td>\n      <td>2020/1/29</td>\n      <td>50</td>\n      <td>Female</td>\n      <td>Hubei_Wuhan</td>\n      <td>Wuhan Travel</td>\n      <td>NaN</td>\n      <td>NaN</td>\n      <td>NaN</td>\n      <td>Respiratory System Related-Symptom Description</td>\n      <td>Stable</td>\n      <td>Anhui_Anqing</td>\n    </tr>\n    <tr>\n      <th>3</th>\n      <td>Anhui_Anqing-12</td>\n      <td>2020/1/29</td>\n      <td>46</td>\n      <td>Male</td>\n      <td>NaN</td>\n      <td>Yellowstone Work</td>\n      <td>NaN</td>\n      <td>NaN</td>\n      <td>NaN</td>\n      <td>Somatosensory Related-Sign Description</td>\n      <td>Stable</td>\n      <td>Anhui_Anqing</td>\n    </tr>\n    <tr>\n      <th>4</th>\n      <td>Anhui_Anqing-13</td>\n      <td>2020/1/29</td>\n      <td>58</td>\n      <td>Male</td>\n      <td>Hubei_Wuhan</td>\n      <td>Work In Wuhan</td>\n      <td>NaN</td>\n      <td>NaN</td>\n      <td>NaN</td>\n      <td>NaN</td>\n      <td>Stable</td>\n      <td>Anhui_Anqing</td>\n    </tr>\n    <tr>\n      <th>...</th>\n      <td>...</td>\n      <td>...</td>\n      <td>...</td>\n      <td>...</td>\n      <td>...</td>\n      <td>...</td>\n      <td>...</td>\n      <td>...</td>\n      <td>...</td>\n      <td>...</td>\n      <td>...</td>\n      <td>...</td>\n    </tr>\n    <tr>\n      <th>27199</th>\n      <td>Zhejiang_Ningbo-256</td>\n      <td>1/7/2022</td>\n      <td>NaN</td>\n      <td>Female</td>\n      <td>Zhejiang-Ningbo</td>\n      <td>NaN</td>\n      <td>NaN</td>\n      <td>NaN</td>\n      <td>NaN</td>\n      <td>NaN</td>\n      <td>NaN</td>\n      <td>Zhejiang-Ningbo</td>\n    </tr>\n    <tr>\n      <th>27200</th>\n      <td>Zhejiang_Ningbo-257</td>\n      <td>1/7/2022</td>\n      <td>NaN</td>\n      <td>Female</td>\n      <td>Zhejiang-Ningbo</td>\n      <td>NaN</td>\n      <td>NaN</td>\n      <td>NaN</td>\n      <td>NaN</td>\n      <td>NaN</td>\n      <td>NaN</td>\n      <td>Zhejiang-Ningbo</td>\n    </tr>\n    <tr>\n      <th>27201</th>\n      <td>Zhejiang_Ningbo-258</td>\n      <td>1/7/2022</td>\n      <td>NaN</td>\n      <td>Female</td>\n      <td>Zhejiang-Ningbo</td>\n      <td>NaN</td>\n      <td>NaN</td>\n      <td>NaN</td>\n      <td>NaN</td>\n      <td>NaN</td>\n      <td>NaN</td>\n      <td>Zhejiang-Ningbo</td>\n    </tr>\n    <tr>\n      <th>27202</th>\n      <td>Chongqing-22</td>\n      <td>1/8/2022</td>\n      <td>NaN</td>\n      <td>NaN</td>\n      <td>NaN</td>\n      <td>NaN</td>\n      <td>NaN</td>\n      <td>NaN</td>\n      <td>NaN</td>\n      <td>NaN</td>\n      <td>NaN</td>\n      <td>Chongqing</td>\n    </tr>\n    <tr>\n      <th>27203</th>\n      <td>Chongqing-23</td>\n      <td>1/11/2022</td>\n      <td>NaN</td>\n      <td>NaN</td>\n      <td>NaN</td>\n      <td>NaN</td>\n      <td>NaN</td>\n      <td>NaN</td>\n      <td>NaN</td>\n      <td>NaN</td>\n      <td>NaN</td>\n      <td>Chongqing</td>\n    </tr>\n  </tbody>\n</table>\n<p>27204 rows × 12 columns</p>\n</div>"
     },
     "execution_count": 45,
     "metadata": {},
     "output_type": "execute_result"
    }
   ],
   "source": [
    "china"
   ]
  },
  {
   "attachments": {},
   "cell_type": "markdown",
   "metadata": {
    "pycharm": {
     "name": "#%% md\n"
    }
   },
   "source": [
    "## Drop entries with invalid date"
   ]
  },
  {
   "cell_type": "code",
   "execution_count": 46,
   "metadata": {
    "pycharm": {
     "name": "#%%\n"
    }
   },
   "outputs": [],
   "source": [
    "china['Date_Disclose'] = pd.to_datetime(china['Date_Disclose'], infer_datetime_format=True, errors='coerce')\n",
    "china = china[~china['Date_Disclose'].isnull()]\n",
    "china.drop(china['Date_Disclose'][china['Date_Disclose'] > pd.to_datetime('2022/12/01')].index, inplace=True)"
   ]
  },
  {
   "attachments": {},
   "cell_type": "markdown",
   "metadata": {
    "pycharm": {
     "name": "#%% md\n"
    }
   },
   "source": [
    "## Build edgelist"
   ]
  },
  {
   "cell_type": "code",
   "execution_count": 47,
   "metadata": {
    "pycharm": {
     "name": "#%%\n"
    }
   },
   "outputs": [],
   "source": [
    "places = set()\n",
    "for place in china['Place_Admission'].unique():\n",
    "    try:\n",
    "        string = place.replace(' ', '_')\n",
    "    except AttributeError:\n",
    "        continue\n",
    "\n",
    "    string = re.sub('_+', '_', string)\n",
    "    string = re.sub('^_', '', string)\n",
    "    string = re.sub('_$', '', string)\n",
    "    string = re.sub(',', '', string)\n",
    "    try:\n",
    "        a, b = string.split('_')\n",
    "        places.add(a)\n",
    "        places.add(b)\n",
    "    except ValueError:\n",
    "        places.add(string)"
   ]
  },
  {
   "cell_type": "code",
   "execution_count": 48,
   "outputs": [],
   "source": [
    "china_nodelist = pd.DataFrame(columns=['node_id', 'age', 'gender', 'residency', 'place_event', 'possible_source', 'symptom', 'symptom_severity', 'place_admission'])"
   ],
   "metadata": {
    "collapsed": false,
    "pycharm": {
     "name": "#%%\n"
    }
   }
  },
  {
   "cell_type": "code",
   "execution_count": 49,
   "metadata": {
    "pycharm": {
     "name": "#%%\n"
    }
   },
   "outputs": [],
   "source": [
    "china_edgelist = pd.DataFrame(columns=['Referee', 'Referral', 'Date'])"
   ]
  },
  {
   "cell_type": "code",
   "execution_count": 50,
   "metadata": {
    "pycharm": {
     "name": "#%%\n"
    }
   },
   "outputs": [
    {
     "data": {
      "text/plain": "0it [00:00, ?it/s]",
      "application/vnd.jupyter.widget-view+json": {
       "version_major": 2,
       "version_minor": 0,
       "model_id": "cda12c219af44d37869c4a0e85cbe8ce"
      }
     },
     "metadata": {},
     "output_type": "display_data"
    },
    {
     "name": "stdout",
     "output_type": "stream",
     "text": [
      "Guangdong_Shenzhen\n",
      "Shandong_Rizhao - 100\n",
      "Shandong_Rizhao - 101\n",
      "Shandong_Wingdao - 100\n"
     ]
    }
   ],
   "source": [
    "exp = re.compile('(?:\\w+\\_)?(\\w+[-|_]\\d+)', re.IGNORECASE) # match abc_def[-|_]012 -> capture def[-|_]012\n",
    "failed = set()\n",
    "unique_nodes = set()\n",
    "\n",
    "for index, row in tqdm(china.iterrows()):\n",
    "    try:\n",
    "        row_id = exp.findall(row['ID'])[0].lower().replace('_', '-') # strip first part before _ from ID\n",
    "    except IndexError:\n",
    "        print(row['ID'])\n",
    "        continue\n",
    "\n",
    "    if row_id not in unique_nodes:\n",
    "        china_nodelist = china_nodelist.append(pd.Series({'node_id': row_id, 'age': row['Age'], 'gender': row['Gender'], 'residency': row['Place of Residency'], 'place_event': row['Place and Event'],\n",
    "                                                          'possible_source': row['With Whom'], 'symptom': row['Symptom'], 'symptom_severity': row['Symptom_Severity'], 'place_admission': row['Place_Admission']}), ignore_index=True)\n",
    "        unique_nodes.add(row_id)\n",
    "\n",
    "    china_edgelist = china_edgelist.append({'Referee': row_id, 'Referral': np.nan, 'Date': row['Date_Disclose']}, ignore_index=True)\n",
    "\n",
    "    try:\n",
    "        contacts = exp.findall(row['Contact_ID_Relationship']) # extract all IDs from contact column\n",
    "    except TypeError:\n",
    "        continue\n",
    "    \n",
    "    for contact in contacts:\n",
    "        try:\n",
    "            match = next(s for s in china['ID'].apply(lambda x: x.lower()) if contact.lower().replace('_', '-') in s) # try to find contact in IDs\n",
    "            match_id = exp.findall(match)[0].replace('_', '-') # strip first part before _ from ID\n",
    "            referral = china.loc[china['ID'].apply(lambda x: x.lower()) == match]\n",
    "            if row_id != match_id: # no self edges\n",
    "                # edge_list.append((row_id, match))\n",
    "                china_edgelist = china_edgelist.append({'Referee': row_id, 'Referral': match_id, 'Date': row['Date_Disclose']}, ignore_index=True)\n",
    "\n",
    "        except StopIteration:\n",
    "            failed.add((row_id, contact.lower()))"
   ]
  },
  {
   "cell_type": "code",
   "execution_count": 51,
   "metadata": {
    "pycharm": {
     "name": "#%%\n"
    }
   },
   "outputs": [
    {
     "data": {
      "text/plain": "            Referee   Referral       Date\n0          anqing-1        NaN 2020-01-27\n1         anqing-10        NaN 2020-01-29\n2         anqing-10  anqing-14 2020-01-29\n3         anqing-11        NaN 2020-01-29\n4         anqing-12        NaN 2020-01-29\n...             ...        ...        ...\n38388    ningbo-256        NaN 2022-01-07\n38389    ningbo-257        NaN 2022-01-07\n38390    ningbo-258        NaN 2022-01-07\n38391  chongqing-22        NaN 2022-01-08\n38392  chongqing-23        NaN 2022-01-11\n\n[38393 rows x 3 columns]",
      "text/html": "<div>\n<style scoped>\n    .dataframe tbody tr th:only-of-type {\n        vertical-align: middle;\n    }\n\n    .dataframe tbody tr th {\n        vertical-align: top;\n    }\n\n    .dataframe thead th {\n        text-align: right;\n    }\n</style>\n<table border=\"1\" class=\"dataframe\">\n  <thead>\n    <tr style=\"text-align: right;\">\n      <th></th>\n      <th>Referee</th>\n      <th>Referral</th>\n      <th>Date</th>\n    </tr>\n  </thead>\n  <tbody>\n    <tr>\n      <th>0</th>\n      <td>anqing-1</td>\n      <td>NaN</td>\n      <td>2020-01-27</td>\n    </tr>\n    <tr>\n      <th>1</th>\n      <td>anqing-10</td>\n      <td>NaN</td>\n      <td>2020-01-29</td>\n    </tr>\n    <tr>\n      <th>2</th>\n      <td>anqing-10</td>\n      <td>anqing-14</td>\n      <td>2020-01-29</td>\n    </tr>\n    <tr>\n      <th>3</th>\n      <td>anqing-11</td>\n      <td>NaN</td>\n      <td>2020-01-29</td>\n    </tr>\n    <tr>\n      <th>4</th>\n      <td>anqing-12</td>\n      <td>NaN</td>\n      <td>2020-01-29</td>\n    </tr>\n    <tr>\n      <th>...</th>\n      <td>...</td>\n      <td>...</td>\n      <td>...</td>\n    </tr>\n    <tr>\n      <th>38388</th>\n      <td>ningbo-256</td>\n      <td>NaN</td>\n      <td>2022-01-07</td>\n    </tr>\n    <tr>\n      <th>38389</th>\n      <td>ningbo-257</td>\n      <td>NaN</td>\n      <td>2022-01-07</td>\n    </tr>\n    <tr>\n      <th>38390</th>\n      <td>ningbo-258</td>\n      <td>NaN</td>\n      <td>2022-01-07</td>\n    </tr>\n    <tr>\n      <th>38391</th>\n      <td>chongqing-22</td>\n      <td>NaN</td>\n      <td>2022-01-08</td>\n    </tr>\n    <tr>\n      <th>38392</th>\n      <td>chongqing-23</td>\n      <td>NaN</td>\n      <td>2022-01-11</td>\n    </tr>\n  </tbody>\n</table>\n<p>38393 rows × 3 columns</p>\n</div>"
     },
     "execution_count": 51,
     "metadata": {},
     "output_type": "execute_result"
    }
   ],
   "source": [
    "china_edgelist"
   ]
  },
  {
   "cell_type": "code",
   "execution_count": 53,
   "outputs": [
    {
     "data": {
      "text/plain": "(25877, (26961, 12), (25877, 9), 588)"
     },
     "execution_count": 53,
     "metadata": {},
     "output_type": "execute_result"
    }
   ],
   "source": [
    "len(unique_nodes), china.shape, china_nodelist.shape, len(failed)"
   ],
   "metadata": {
    "collapsed": false,
    "pycharm": {
     "name": "#%%\n"
    }
   }
  },
  {
   "cell_type": "code",
   "execution_count": 54,
   "metadata": {
    "pycharm": {
     "name": "#%%\n"
    }
   },
   "outputs": [
    {
     "data": {
      "text/plain": "            Referee Referral    Date\n3267    beijing-362      NaN  200101\n3269    beijing-364      NaN  200101\n3270    beijing-365      NaN  200101\n3266    beijing-361      NaN  200101\n3268    beijing-363      NaN  200101\n...             ...      ...     ...\n20478     huaian-71      NaN  220728\n20477     huaian-70      NaN  220728\n20475     huaian-69      NaN  220728\n20474     huaian-68      NaN  220728\n22203  yangzhou-531      NaN  220814\n\n[38393 rows x 3 columns]",
      "text/html": "<div>\n<style scoped>\n    .dataframe tbody tr th:only-of-type {\n        vertical-align: middle;\n    }\n\n    .dataframe tbody tr th {\n        vertical-align: top;\n    }\n\n    .dataframe thead th {\n        text-align: right;\n    }\n</style>\n<table border=\"1\" class=\"dataframe\">\n  <thead>\n    <tr style=\"text-align: right;\">\n      <th></th>\n      <th>Referee</th>\n      <th>Referral</th>\n      <th>Date</th>\n    </tr>\n  </thead>\n  <tbody>\n    <tr>\n      <th>3267</th>\n      <td>beijing-362</td>\n      <td>NaN</td>\n      <td>200101</td>\n    </tr>\n    <tr>\n      <th>3269</th>\n      <td>beijing-364</td>\n      <td>NaN</td>\n      <td>200101</td>\n    </tr>\n    <tr>\n      <th>3270</th>\n      <td>beijing-365</td>\n      <td>NaN</td>\n      <td>200101</td>\n    </tr>\n    <tr>\n      <th>3266</th>\n      <td>beijing-361</td>\n      <td>NaN</td>\n      <td>200101</td>\n    </tr>\n    <tr>\n      <th>3268</th>\n      <td>beijing-363</td>\n      <td>NaN</td>\n      <td>200101</td>\n    </tr>\n    <tr>\n      <th>...</th>\n      <td>...</td>\n      <td>...</td>\n      <td>...</td>\n    </tr>\n    <tr>\n      <th>20478</th>\n      <td>huaian-71</td>\n      <td>NaN</td>\n      <td>220728</td>\n    </tr>\n    <tr>\n      <th>20477</th>\n      <td>huaian-70</td>\n      <td>NaN</td>\n      <td>220728</td>\n    </tr>\n    <tr>\n      <th>20475</th>\n      <td>huaian-69</td>\n      <td>NaN</td>\n      <td>220728</td>\n    </tr>\n    <tr>\n      <th>20474</th>\n      <td>huaian-68</td>\n      <td>NaN</td>\n      <td>220728</td>\n    </tr>\n    <tr>\n      <th>22203</th>\n      <td>yangzhou-531</td>\n      <td>NaN</td>\n      <td>220814</td>\n    </tr>\n  </tbody>\n</table>\n<p>38393 rows × 3 columns</p>\n</div>"
     },
     "execution_count": 54,
     "metadata": {},
     "output_type": "execute_result"
    }
   ],
   "source": [
    "china_edgelist.sort_values(by='Date', ascending=True, inplace=True)\n",
    "china_edgelist['Date'] = china_edgelist['Date'].apply(lambda x: x.strftime('%y%m%d'))\n",
    "china_edgelist"
   ]
  },
  {
   "cell_type": "code",
   "execution_count": 55,
   "metadata": {
    "pycharm": {
     "name": "#%%\n"
    }
   },
   "outputs": [],
   "source": [
    "china_edgelist.to_csv('../Data/Preprocessed/china_edgelist.csv')"
   ]
  },
  {
   "cell_type": "code",
   "execution_count": 56,
   "outputs": [],
   "source": [
    "china_nodelist.to_csv('../Data/Preprocessed/china_nodelist.csv')"
   ],
   "metadata": {
    "collapsed": false,
    "pycharm": {
     "name": "#%%\n"
    }
   }
  },
  {
   "cell_type": "code",
   "execution_count": null,
   "outputs": [],
   "source": [],
   "metadata": {
    "collapsed": false,
    "pycharm": {
     "name": "#%%\n"
    }
   }
  }
 ],
 "metadata": {
  "kernelspec": {
   "display_name": "masterprojekt",
   "language": "python",
   "name": "python3"
  },
  "language_info": {
   "codemirror_mode": {
    "name": "ipython",
    "version": 3
   },
   "file_extension": ".py",
   "mimetype": "text/x-python",
   "name": "python",
   "nbconvert_exporter": "python",
   "pygments_lexer": "ipython3",
   "version": "3.9.12"
  },
  "orig_nbformat": 4,
  "vscode": {
   "interpreter": {
    "hash": "885243f73453fea219f789251f1309298ed8b4b058bee017ab3fe05c409afd91"
   }
  }
 },
 "nbformat": 4,
 "nbformat_minor": 2
}