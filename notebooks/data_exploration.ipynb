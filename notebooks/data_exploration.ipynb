{
 "cells": [
  {
   "cell_type": "code",
   "execution_count": 20,
   "id": "f29ee157",
   "metadata": {
    "pycharm": {
     "name": "#%%\n"
    }
   },
   "outputs": [],
   "source": [
    "import pandas as pd\n",
    "import networkx as nx\n",
    "import numpy as np\n",
    "from difflib import SequenceMatcher\n",
    "from collections import Counter\n",
    "import json\n",
    "import re\n",
    "import network_analysis.basic_framework as baf\n",
    "from collections import OrderedDict"
   ]
  },
  {
   "cell_type": "markdown",
   "id": "74205fe7",
   "metadata": {
    "pycharm": {
     "name": "#%% md\n"
    }
   },
   "source": [
    "# Case contact networks"
   ]
  },
  {
   "cell_type": "markdown",
   "id": "639dc947",
   "metadata": {
    "pycharm": {
     "name": "#%% md\n"
    }
   },
   "source": [
    "## Bucharest Dataset"
   ]
  },
  {
   "cell_type": "code",
   "execution_count": 2,
   "id": "41044a21",
   "metadata": {
    "pycharm": {
     "name": "#%%\n"
    }
   },
   "outputs": [
    {
     "data": {
      "text/plain": "          NR       REFERRAL_CODE REFERRAL_CODE_HARVARD  Broker  \\\n0          1      1731S179373609              1S179373     NaN   \n1          2        173235990609                235990     NaN   \n2          3      1733S146179609              3S146179     NaN   \n3          4      1734S146179609              4S146179     NaN   \n4          5      1735S146179609              5S146179     NaN   \n...      ...                 ...                   ...     ...   \n13372  14590  17314590S146986609          14590S146986     NaN   \n13373  14591  17314591S146986609          14591S146986     NaN   \n13374  14595  17314595S179121609          14595S179121     NaN   \n13375  14596  17314596S179121609          14596S179121     NaN   \n13376  14597  17314597S179121609          14597S179121     NaN   \n\n      REFERRAL_sector_private_public REFERRAL_medical_yes_no_not_active  \\\n0                                NaN                                NaN   \n1                                NaN                                NaN   \n2                                NAC                                NAC   \n3                                NaN                                NaN   \n4                                NaN                                NaN   \n...                              ...                                ...   \n13372                            NaN                                NaN   \n13373                           NASS                               NASS   \n13374                            NaN                                NaN   \n13375                            NAP                                NAP   \n13376                           NASS                               NASS   \n\n      REFERRAL_ISCO08_1_digit_code REFERRAL_ISCO08_1_digit_label  \\\n0                              NaN                           NaN   \n1                              NaN                           NaN   \n2                              NAC            Not Active - Child   \n3                              NaN                           NaN   \n4                              NaN                           NaN   \n...                            ...                           ...   \n13372                          NaN                           NaN   \n13373                         NASS   Not Active - school student   \n13374                          NaN                           NaN   \n13375                          NAP        Not Active - pensioner   \n13376                         NASS   Not Active - school student   \n\n      REFERRAL_ISCO08_2_digit_code REFERRAL_ISCO08_2_digit_label  ...  \\\n0                              NaN                           NaN  ...   \n1                              NaN                           NaN  ...   \n2                              NAC            Not Active - Child  ...   \n3                              NaN                           NaN  ...   \n4                              NaN                           NaN  ...   \n...                            ...                           ...  ...   \n13372                          NaN                           NaN  ...   \n13373                         NASS   Not Active - school student  ...   \n13374                          NaN                           NaN  ...   \n13375                          NAP        Not Active - pensioner  ...   \n13376                         NASS   Not Active - school student  ...   \n\n      REFEREE_ISCO08_2_digit_code REFEREE_ISCO08_2_digit_label  \\\n0                             NAP       Not Active - pensioner   \n1                             EMP     Employee - unknown group   \n2                             EMP     Employee - unknown group   \n3                             EMP     Employee - unknown group   \n4                             EMP     Employee - unknown group   \n...                           ...                          ...   \n13372                         NaN                          NaN   \n13373                         NaN                          NaN   \n13374                         NaN                          NaN   \n13375                         NaN                          NaN   \n13376                         NaN                          NaN   \n\n       REFEREE_ISCO08_3_digit_code  REFEREE_ISCO08_3_digit_label REFEREE_AGE  \\\n0                              NAP        Not Active - pensioner        65.0   \n1                              EMP      Employee - unknown group        40.0   \n2                              EMP      Employee - unknown group        40.0   \n3                              EMP      Employee - unknown group        40.0   \n4                              EMP      Employee - unknown group        40.0   \n...                            ...                           ...         ...   \n13372                          NaN                           NaN        38.0   \n13373                          NaN                           NaN        38.0   \n13374                          NaN                           NaN        24.0   \n13375                          NaN                           NaN        24.0   \n13376                          NaN                           NaN        24.0   \n\n      REFEREE_SEX_MALE_1  REFEREE_Active_Yes_No  REFEREE_Age_classes  \\\n0                      1                     No            Pensioner   \n1                      1                    Yes                Adult   \n2                      1                    Yes                Adult   \n3                      1                    Yes                Adult   \n4                      1                    Yes                Adult   \n...                  ...                    ...                  ...   \n13372                  1                    Yes                Adult   \n13373                  1                    Yes                Adult   \n13374                  1                    Yes                Adult   \n13375                  1                    Yes                Adult   \n13376                  1                    Yes                Adult   \n\n       REFEREE_CONFIRMATION_MONTH REFEREE_CONFIRMATION_DAY  \n0                         OCTOBER               2020-10-16  \n1                         OCTOBER               2020-10-07  \n2                         OCTOBER               2020-10-07  \n3                         OCTOBER               2020-10-07  \n4                         OCTOBER               2020-10-07  \n...                           ...                      ...  \n13372                     OCTOBER               2020-10-07  \n13373                     OCTOBER               2020-10-07  \n13374                     OCTOBER               2020-10-16  \n13375                     OCTOBER               2020-10-16  \n13376                     OCTOBER               2020-10-16  \n\n[13377 rows x 33 columns]",
      "text/html": "<div>\n<style scoped>\n    .dataframe tbody tr th:only-of-type {\n        vertical-align: middle;\n    }\n\n    .dataframe tbody tr th {\n        vertical-align: top;\n    }\n\n    .dataframe thead th {\n        text-align: right;\n    }\n</style>\n<table border=\"1\" class=\"dataframe\">\n  <thead>\n    <tr style=\"text-align: right;\">\n      <th></th>\n      <th>NR</th>\n      <th>REFERRAL_CODE</th>\n      <th>REFERRAL_CODE_HARVARD</th>\n      <th>Broker</th>\n      <th>REFERRAL_sector_private_public</th>\n      <th>REFERRAL_medical_yes_no_not_active</th>\n      <th>REFERRAL_ISCO08_1_digit_code</th>\n      <th>REFERRAL_ISCO08_1_digit_label</th>\n      <th>REFERRAL_ISCO08_2_digit_code</th>\n      <th>REFERRAL_ISCO08_2_digit_label</th>\n      <th>...</th>\n      <th>REFEREE_ISCO08_2_digit_code</th>\n      <th>REFEREE_ISCO08_2_digit_label</th>\n      <th>REFEREE_ISCO08_3_digit_code</th>\n      <th>REFEREE_ISCO08_3_digit_label</th>\n      <th>REFEREE_AGE</th>\n      <th>REFEREE_SEX_MALE_1</th>\n      <th>REFEREE_Active_Yes_No</th>\n      <th>REFEREE_Age_classes</th>\n      <th>REFEREE_CONFIRMATION_MONTH</th>\n      <th>REFEREE_CONFIRMATION_DAY</th>\n    </tr>\n  </thead>\n  <tbody>\n    <tr>\n      <th>0</th>\n      <td>1</td>\n      <td>1731S179373609</td>\n      <td>1S179373</td>\n      <td>NaN</td>\n      <td>NaN</td>\n      <td>NaN</td>\n      <td>NaN</td>\n      <td>NaN</td>\n      <td>NaN</td>\n      <td>NaN</td>\n      <td>...</td>\n      <td>NAP</td>\n      <td>Not Active - pensioner</td>\n      <td>NAP</td>\n      <td>Not Active - pensioner</td>\n      <td>65.0</td>\n      <td>1</td>\n      <td>No</td>\n      <td>Pensioner</td>\n      <td>OCTOBER</td>\n      <td>2020-10-16</td>\n    </tr>\n    <tr>\n      <th>1</th>\n      <td>2</td>\n      <td>173235990609</td>\n      <td>235990</td>\n      <td>NaN</td>\n      <td>NaN</td>\n      <td>NaN</td>\n      <td>NaN</td>\n      <td>NaN</td>\n      <td>NaN</td>\n      <td>NaN</td>\n      <td>...</td>\n      <td>EMP</td>\n      <td>Employee - unknown group</td>\n      <td>EMP</td>\n      <td>Employee - unknown group</td>\n      <td>40.0</td>\n      <td>1</td>\n      <td>Yes</td>\n      <td>Adult</td>\n      <td>OCTOBER</td>\n      <td>2020-10-07</td>\n    </tr>\n    <tr>\n      <th>2</th>\n      <td>3</td>\n      <td>1733S146179609</td>\n      <td>3S146179</td>\n      <td>NaN</td>\n      <td>NAC</td>\n      <td>NAC</td>\n      <td>NAC</td>\n      <td>Not Active - Child</td>\n      <td>NAC</td>\n      <td>Not Active - Child</td>\n      <td>...</td>\n      <td>EMP</td>\n      <td>Employee - unknown group</td>\n      <td>EMP</td>\n      <td>Employee - unknown group</td>\n      <td>40.0</td>\n      <td>1</td>\n      <td>Yes</td>\n      <td>Adult</td>\n      <td>OCTOBER</td>\n      <td>2020-10-07</td>\n    </tr>\n    <tr>\n      <th>3</th>\n      <td>4</td>\n      <td>1734S146179609</td>\n      <td>4S146179</td>\n      <td>NaN</td>\n      <td>NaN</td>\n      <td>NaN</td>\n      <td>NaN</td>\n      <td>NaN</td>\n      <td>NaN</td>\n      <td>NaN</td>\n      <td>...</td>\n      <td>EMP</td>\n      <td>Employee - unknown group</td>\n      <td>EMP</td>\n      <td>Employee - unknown group</td>\n      <td>40.0</td>\n      <td>1</td>\n      <td>Yes</td>\n      <td>Adult</td>\n      <td>OCTOBER</td>\n      <td>2020-10-07</td>\n    </tr>\n    <tr>\n      <th>4</th>\n      <td>5</td>\n      <td>1735S146179609</td>\n      <td>5S146179</td>\n      <td>NaN</td>\n      <td>NaN</td>\n      <td>NaN</td>\n      <td>NaN</td>\n      <td>NaN</td>\n      <td>NaN</td>\n      <td>NaN</td>\n      <td>...</td>\n      <td>EMP</td>\n      <td>Employee - unknown group</td>\n      <td>EMP</td>\n      <td>Employee - unknown group</td>\n      <td>40.0</td>\n      <td>1</td>\n      <td>Yes</td>\n      <td>Adult</td>\n      <td>OCTOBER</td>\n      <td>2020-10-07</td>\n    </tr>\n    <tr>\n      <th>...</th>\n      <td>...</td>\n      <td>...</td>\n      <td>...</td>\n      <td>...</td>\n      <td>...</td>\n      <td>...</td>\n      <td>...</td>\n      <td>...</td>\n      <td>...</td>\n      <td>...</td>\n      <td>...</td>\n      <td>...</td>\n      <td>...</td>\n      <td>...</td>\n      <td>...</td>\n      <td>...</td>\n      <td>...</td>\n      <td>...</td>\n      <td>...</td>\n      <td>...</td>\n      <td>...</td>\n    </tr>\n    <tr>\n      <th>13372</th>\n      <td>14590</td>\n      <td>17314590S146986609</td>\n      <td>14590S146986</td>\n      <td>NaN</td>\n      <td>NaN</td>\n      <td>NaN</td>\n      <td>NaN</td>\n      <td>NaN</td>\n      <td>NaN</td>\n      <td>NaN</td>\n      <td>...</td>\n      <td>NaN</td>\n      <td>NaN</td>\n      <td>NaN</td>\n      <td>NaN</td>\n      <td>38.0</td>\n      <td>1</td>\n      <td>Yes</td>\n      <td>Adult</td>\n      <td>OCTOBER</td>\n      <td>2020-10-07</td>\n    </tr>\n    <tr>\n      <th>13373</th>\n      <td>14591</td>\n      <td>17314591S146986609</td>\n      <td>14591S146986</td>\n      <td>NaN</td>\n      <td>NASS</td>\n      <td>NASS</td>\n      <td>NASS</td>\n      <td>Not Active - school student</td>\n      <td>NASS</td>\n      <td>Not Active - school student</td>\n      <td>...</td>\n      <td>NaN</td>\n      <td>NaN</td>\n      <td>NaN</td>\n      <td>NaN</td>\n      <td>38.0</td>\n      <td>1</td>\n      <td>Yes</td>\n      <td>Adult</td>\n      <td>OCTOBER</td>\n      <td>2020-10-07</td>\n    </tr>\n    <tr>\n      <th>13374</th>\n      <td>14595</td>\n      <td>17314595S179121609</td>\n      <td>14595S179121</td>\n      <td>NaN</td>\n      <td>NaN</td>\n      <td>NaN</td>\n      <td>NaN</td>\n      <td>NaN</td>\n      <td>NaN</td>\n      <td>NaN</td>\n      <td>...</td>\n      <td>NaN</td>\n      <td>NaN</td>\n      <td>NaN</td>\n      <td>NaN</td>\n      <td>24.0</td>\n      <td>1</td>\n      <td>Yes</td>\n      <td>Adult</td>\n      <td>OCTOBER</td>\n      <td>2020-10-16</td>\n    </tr>\n    <tr>\n      <th>13375</th>\n      <td>14596</td>\n      <td>17314596S179121609</td>\n      <td>14596S179121</td>\n      <td>NaN</td>\n      <td>NAP</td>\n      <td>NAP</td>\n      <td>NAP</td>\n      <td>Not Active - pensioner</td>\n      <td>NAP</td>\n      <td>Not Active - pensioner</td>\n      <td>...</td>\n      <td>NaN</td>\n      <td>NaN</td>\n      <td>NaN</td>\n      <td>NaN</td>\n      <td>24.0</td>\n      <td>1</td>\n      <td>Yes</td>\n      <td>Adult</td>\n      <td>OCTOBER</td>\n      <td>2020-10-16</td>\n    </tr>\n    <tr>\n      <th>13376</th>\n      <td>14597</td>\n      <td>17314597S179121609</td>\n      <td>14597S179121</td>\n      <td>NaN</td>\n      <td>NASS</td>\n      <td>NASS</td>\n      <td>NASS</td>\n      <td>Not Active - school student</td>\n      <td>NASS</td>\n      <td>Not Active - school student</td>\n      <td>...</td>\n      <td>NaN</td>\n      <td>NaN</td>\n      <td>NaN</td>\n      <td>NaN</td>\n      <td>24.0</td>\n      <td>1</td>\n      <td>Yes</td>\n      <td>Adult</td>\n      <td>OCTOBER</td>\n      <td>2020-10-16</td>\n    </tr>\n  </tbody>\n</table>\n<p>13377 rows × 33 columns</p>\n</div>"
     },
     "execution_count": 2,
     "metadata": {},
     "output_type": "execute_result"
    }
   ],
   "source": [
    "bucharest = pd.read_excel('../Data/Raw/replication_data_clean_version.xlsx')\n",
    "bucharest"
   ]
  },
  {
   "cell_type": "code",
   "execution_count": 3,
   "id": "222fc9fe",
   "metadata": {
    "pycharm": {
     "name": "#%%\n"
    }
   },
   "outputs": [
    {
     "data": {
      "text/plain": "          NR       REFERRAL_CODE  REFEREE_CODE REFERRAL_CODE_HARVARD  \\\n0          1      1731S179373609  173179373609              1S179373   \n1          2        173235990609  173146179609                235990   \n2          3      1733S146179609  173146179609              3S146179   \n3          4      1734S146179609  173146179609              4S146179   \n4          5      1735S146179609  173146179609              5S146179   \n...      ...                 ...           ...                   ...   \n13372  14590  17314590S146986609  173146986609          14590S146986   \n13373  14591  17314591S146986609  173146986609          14591S146986   \n13374  14595  17314595S179121609  173179121609          14595S179121   \n13375  14596  17314596S179121609  173179121609          14596S179121   \n13376  14597  17314597S179121609  173179121609          14597S179121   \n\n       REFEREE_CODE_HARVARD  \n0                    179373  \n1                    146179  \n2                    146179  \n3                    146179  \n4                    146179  \n...                     ...  \n13372                146986  \n13373                146986  \n13374                179121  \n13375                179121  \n13376                179121  \n\n[13377 rows x 5 columns]",
      "text/html": "<div>\n<style scoped>\n    .dataframe tbody tr th:only-of-type {\n        vertical-align: middle;\n    }\n\n    .dataframe tbody tr th {\n        vertical-align: top;\n    }\n\n    .dataframe thead th {\n        text-align: right;\n    }\n</style>\n<table border=\"1\" class=\"dataframe\">\n  <thead>\n    <tr style=\"text-align: right;\">\n      <th></th>\n      <th>NR</th>\n      <th>REFERRAL_CODE</th>\n      <th>REFEREE_CODE</th>\n      <th>REFERRAL_CODE_HARVARD</th>\n      <th>REFEREE_CODE_HARVARD</th>\n    </tr>\n  </thead>\n  <tbody>\n    <tr>\n      <th>0</th>\n      <td>1</td>\n      <td>1731S179373609</td>\n      <td>173179373609</td>\n      <td>1S179373</td>\n      <td>179373</td>\n    </tr>\n    <tr>\n      <th>1</th>\n      <td>2</td>\n      <td>173235990609</td>\n      <td>173146179609</td>\n      <td>235990</td>\n      <td>146179</td>\n    </tr>\n    <tr>\n      <th>2</th>\n      <td>3</td>\n      <td>1733S146179609</td>\n      <td>173146179609</td>\n      <td>3S146179</td>\n      <td>146179</td>\n    </tr>\n    <tr>\n      <th>3</th>\n      <td>4</td>\n      <td>1734S146179609</td>\n      <td>173146179609</td>\n      <td>4S146179</td>\n      <td>146179</td>\n    </tr>\n    <tr>\n      <th>4</th>\n      <td>5</td>\n      <td>1735S146179609</td>\n      <td>173146179609</td>\n      <td>5S146179</td>\n      <td>146179</td>\n    </tr>\n    <tr>\n      <th>...</th>\n      <td>...</td>\n      <td>...</td>\n      <td>...</td>\n      <td>...</td>\n      <td>...</td>\n    </tr>\n    <tr>\n      <th>13372</th>\n      <td>14590</td>\n      <td>17314590S146986609</td>\n      <td>173146986609</td>\n      <td>14590S146986</td>\n      <td>146986</td>\n    </tr>\n    <tr>\n      <th>13373</th>\n      <td>14591</td>\n      <td>17314591S146986609</td>\n      <td>173146986609</td>\n      <td>14591S146986</td>\n      <td>146986</td>\n    </tr>\n    <tr>\n      <th>13374</th>\n      <td>14595</td>\n      <td>17314595S179121609</td>\n      <td>173179121609</td>\n      <td>14595S179121</td>\n      <td>179121</td>\n    </tr>\n    <tr>\n      <th>13375</th>\n      <td>14596</td>\n      <td>17314596S179121609</td>\n      <td>173179121609</td>\n      <td>14596S179121</td>\n      <td>179121</td>\n    </tr>\n    <tr>\n      <th>13376</th>\n      <td>14597</td>\n      <td>17314597S179121609</td>\n      <td>173179121609</td>\n      <td>14597S179121</td>\n      <td>179121</td>\n    </tr>\n  </tbody>\n</table>\n<p>13377 rows × 5 columns</p>\n</div>"
     },
     "execution_count": 3,
     "metadata": {},
     "output_type": "execute_result"
    }
   ],
   "source": [
    "bucharest[['NR', 'REFERRAL_CODE', 'REFEREE_CODE', 'REFERRAL_CODE_HARVARD', 'REFEREE_CODE_HARVARD']]"
   ]
  },
  {
   "cell_type": "code",
   "execution_count": 15,
   "id": "5eeb4132",
   "metadata": {
    "scrolled": true,
    "pycharm": {
     "name": "#%%\n"
    }
   },
   "outputs": [
    {
     "data": {
      "text/plain": "          nr  covid_patient testing_date confirmation_date  macro_phases  \\\n0          1       327931.0   2020-11-11        2020-11-11             3   \n1          2       327926.0   2020-11-11        2020-11-11             3   \n2          3       327925.0   2020-11-11        2020-11-11             3   \n3          4       327861.0   2020-11-11        2020-11-11             3   \n4          5       327835.0   2020-11-10        2020-11-11             3   \n...      ...            ...          ...               ...           ...   \n46435  46555            NaN          NaT               NaT             3   \n46436  46556            NaN          NaT               NaT             3   \n46437  46557            NaN          NaT               NaT             3   \n46438  46558            NaN          NaT               NaT             3   \n46439  46559            NaN          NaT               NaT             3   \n\n       stringency_index stringency_index_classes  \\\n0                 66.67            60 - 70 class   \n1                 66.67            60 - 70 class   \n2                 66.67            60 - 70 class   \n3                 66.67            60 - 70 class   \n4                 66.67            60 - 70 class   \n...                 ...                      ...   \n46435               NaN                      NaN   \n46436               NaN                      NaN   \n46437               NaN                      NaN   \n46438               NaN                      NaN   \n46439               NaN                      NaN   \n\n      stages_by_stringency_categories stages_by_stringency_categories_macro  \\\n0                              strong                strong_and_very_strong   \n1                              strong                strong_and_very_strong   \n2                              strong                strong_and_very_strong   \n3                              strong                strong_and_very_strong   \n4                              strong                strong_and_very_strong   \n...                               ...                                   ...   \n46435                             NaN                                   NaN   \n46436                             NaN                                   NaN   \n46437                             NaN                                   NaN   \n46438                             NaN                                   NaN   \n46439                             NaN                                   NaN   \n\n      stages_by_stringency  ...  active_yes_no age_classes  SOC18_Major_Group  \\\n0                 stage_25  ...            NaN         NaN                NaN   \n1                 stage_25  ...            NaN         NaN                NaN   \n2                 stage_25  ...            NaN         NaN                NaN   \n3                 stage_25  ...            NaN         NaN                NaN   \n4                 stage_25  ...            NaN         NaN                NaN   \n...                    ...  ...            ...         ...                ...   \n46435                  NaN  ...            NaN         NaN                NaN   \n46436                  NaN  ...            NaN         NaN                NaN   \n46437                  NaN  ...            NaN         NaN                NaN   \n46438                  NaN  ...            NaN         NaN                NaN   \n46439                  NaN  ...            NaN         NaN                NaN   \n\n      SOC18_Major_Group_label SOC18_Minor_Group  SOC18_Minor_Group_label  \\\n0                         NaN               NaN                      NaN   \n1                         NaN               NaN                      NaN   \n2                         NaN               NaN                      NaN   \n3                         NaN               NaN                      NaN   \n4                         NaN               NaN                      NaN   \n...                       ...               ...                      ...   \n46435                     NaN               NaN                      NaN   \n46436                     NaN               NaN                      NaN   \n46437                     NaN               NaN                      NaN   \n46438                     NaN               NaN                      NaN   \n46439                     NaN               NaN                      NaN   \n\n      SOC18_Broad_Group  SOC18_Broad_Group_label SOC18_Detailed_Occupation  \\\n0                   NaN                      NaN                       NaN   \n1                   NaN                      NaN                       NaN   \n2                   NaN                      NaN                       NaN   \n3                   NaN                      NaN                       NaN   \n4                   NaN                      NaN                       NaN   \n...                 ...                      ...                       ...   \n46435               NaN                      NaN                       NaN   \n46436               NaN                      NaN                       NaN   \n46437               NaN                      NaN                       NaN   \n46438               NaN                      NaN                       NaN   \n46439               NaN                      NaN                       NaN   \n\n      SOC18_Detailed_Occupation_label  \n0                                 NaN  \n1                                 NaN  \n2                                 NaN  \n3                                 NaN  \n4                                 NaN  \n...                               ...  \n46435                             NaN  \n46436                             NaN  \n46437                             NaN  \n46438                             NaN  \n46439                             NaN  \n\n[46440 rows x 40 columns]",
      "text/html": "<div>\n<style scoped>\n    .dataframe tbody tr th:only-of-type {\n        vertical-align: middle;\n    }\n\n    .dataframe tbody tr th {\n        vertical-align: top;\n    }\n\n    .dataframe thead th {\n        text-align: right;\n    }\n</style>\n<table border=\"1\" class=\"dataframe\">\n  <thead>\n    <tr style=\"text-align: right;\">\n      <th></th>\n      <th>nr</th>\n      <th>covid_patient</th>\n      <th>testing_date</th>\n      <th>confirmation_date</th>\n      <th>macro_phases</th>\n      <th>stringency_index</th>\n      <th>stringency_index_classes</th>\n      <th>stages_by_stringency_categories</th>\n      <th>stages_by_stringency_categories_macro</th>\n      <th>stages_by_stringency</th>\n      <th>...</th>\n      <th>active_yes_no</th>\n      <th>age_classes</th>\n      <th>SOC18_Major_Group</th>\n      <th>SOC18_Major_Group_label</th>\n      <th>SOC18_Minor_Group</th>\n      <th>SOC18_Minor_Group_label</th>\n      <th>SOC18_Broad_Group</th>\n      <th>SOC18_Broad_Group_label</th>\n      <th>SOC18_Detailed_Occupation</th>\n      <th>SOC18_Detailed_Occupation_label</th>\n    </tr>\n  </thead>\n  <tbody>\n    <tr>\n      <th>0</th>\n      <td>1</td>\n      <td>327931.0</td>\n      <td>2020-11-11</td>\n      <td>2020-11-11</td>\n      <td>3</td>\n      <td>66.67</td>\n      <td>60 - 70 class</td>\n      <td>strong</td>\n      <td>strong_and_very_strong</td>\n      <td>stage_25</td>\n      <td>...</td>\n      <td>NaN</td>\n      <td>NaN</td>\n      <td>NaN</td>\n      <td>NaN</td>\n      <td>NaN</td>\n      <td>NaN</td>\n      <td>NaN</td>\n      <td>NaN</td>\n      <td>NaN</td>\n      <td>NaN</td>\n    </tr>\n    <tr>\n      <th>1</th>\n      <td>2</td>\n      <td>327926.0</td>\n      <td>2020-11-11</td>\n      <td>2020-11-11</td>\n      <td>3</td>\n      <td>66.67</td>\n      <td>60 - 70 class</td>\n      <td>strong</td>\n      <td>strong_and_very_strong</td>\n      <td>stage_25</td>\n      <td>...</td>\n      <td>NaN</td>\n      <td>NaN</td>\n      <td>NaN</td>\n      <td>NaN</td>\n      <td>NaN</td>\n      <td>NaN</td>\n      <td>NaN</td>\n      <td>NaN</td>\n      <td>NaN</td>\n      <td>NaN</td>\n    </tr>\n    <tr>\n      <th>2</th>\n      <td>3</td>\n      <td>327925.0</td>\n      <td>2020-11-11</td>\n      <td>2020-11-11</td>\n      <td>3</td>\n      <td>66.67</td>\n      <td>60 - 70 class</td>\n      <td>strong</td>\n      <td>strong_and_very_strong</td>\n      <td>stage_25</td>\n      <td>...</td>\n      <td>NaN</td>\n      <td>NaN</td>\n      <td>NaN</td>\n      <td>NaN</td>\n      <td>NaN</td>\n      <td>NaN</td>\n      <td>NaN</td>\n      <td>NaN</td>\n      <td>NaN</td>\n      <td>NaN</td>\n    </tr>\n    <tr>\n      <th>3</th>\n      <td>4</td>\n      <td>327861.0</td>\n      <td>2020-11-11</td>\n      <td>2020-11-11</td>\n      <td>3</td>\n      <td>66.67</td>\n      <td>60 - 70 class</td>\n      <td>strong</td>\n      <td>strong_and_very_strong</td>\n      <td>stage_25</td>\n      <td>...</td>\n      <td>NaN</td>\n      <td>NaN</td>\n      <td>NaN</td>\n      <td>NaN</td>\n      <td>NaN</td>\n      <td>NaN</td>\n      <td>NaN</td>\n      <td>NaN</td>\n      <td>NaN</td>\n      <td>NaN</td>\n    </tr>\n    <tr>\n      <th>4</th>\n      <td>5</td>\n      <td>327835.0</td>\n      <td>2020-11-10</td>\n      <td>2020-11-11</td>\n      <td>3</td>\n      <td>66.67</td>\n      <td>60 - 70 class</td>\n      <td>strong</td>\n      <td>strong_and_very_strong</td>\n      <td>stage_25</td>\n      <td>...</td>\n      <td>NaN</td>\n      <td>NaN</td>\n      <td>NaN</td>\n      <td>NaN</td>\n      <td>NaN</td>\n      <td>NaN</td>\n      <td>NaN</td>\n      <td>NaN</td>\n      <td>NaN</td>\n      <td>NaN</td>\n    </tr>\n    <tr>\n      <th>...</th>\n      <td>...</td>\n      <td>...</td>\n      <td>...</td>\n      <td>...</td>\n      <td>...</td>\n      <td>...</td>\n      <td>...</td>\n      <td>...</td>\n      <td>...</td>\n      <td>...</td>\n      <td>...</td>\n      <td>...</td>\n      <td>...</td>\n      <td>...</td>\n      <td>...</td>\n      <td>...</td>\n      <td>...</td>\n      <td>...</td>\n      <td>...</td>\n      <td>...</td>\n      <td>...</td>\n    </tr>\n    <tr>\n      <th>46435</th>\n      <td>46555</td>\n      <td>NaN</td>\n      <td>NaT</td>\n      <td>NaT</td>\n      <td>3</td>\n      <td>NaN</td>\n      <td>NaN</td>\n      <td>NaN</td>\n      <td>NaN</td>\n      <td>NaN</td>\n      <td>...</td>\n      <td>NaN</td>\n      <td>NaN</td>\n      <td>NaN</td>\n      <td>NaN</td>\n      <td>NaN</td>\n      <td>NaN</td>\n      <td>NaN</td>\n      <td>NaN</td>\n      <td>NaN</td>\n      <td>NaN</td>\n    </tr>\n    <tr>\n      <th>46436</th>\n      <td>46556</td>\n      <td>NaN</td>\n      <td>NaT</td>\n      <td>NaT</td>\n      <td>3</td>\n      <td>NaN</td>\n      <td>NaN</td>\n      <td>NaN</td>\n      <td>NaN</td>\n      <td>NaN</td>\n      <td>...</td>\n      <td>NaN</td>\n      <td>NaN</td>\n      <td>NaN</td>\n      <td>NaN</td>\n      <td>NaN</td>\n      <td>NaN</td>\n      <td>NaN</td>\n      <td>NaN</td>\n      <td>NaN</td>\n      <td>NaN</td>\n    </tr>\n    <tr>\n      <th>46437</th>\n      <td>46557</td>\n      <td>NaN</td>\n      <td>NaT</td>\n      <td>NaT</td>\n      <td>3</td>\n      <td>NaN</td>\n      <td>NaN</td>\n      <td>NaN</td>\n      <td>NaN</td>\n      <td>NaN</td>\n      <td>...</td>\n      <td>NaN</td>\n      <td>NaN</td>\n      <td>NaN</td>\n      <td>NaN</td>\n      <td>NaN</td>\n      <td>NaN</td>\n      <td>NaN</td>\n      <td>NaN</td>\n      <td>NaN</td>\n      <td>NaN</td>\n    </tr>\n    <tr>\n      <th>46438</th>\n      <td>46558</td>\n      <td>NaN</td>\n      <td>NaT</td>\n      <td>NaT</td>\n      <td>3</td>\n      <td>NaN</td>\n      <td>NaN</td>\n      <td>NaN</td>\n      <td>NaN</td>\n      <td>NaN</td>\n      <td>...</td>\n      <td>NaN</td>\n      <td>NaN</td>\n      <td>NaN</td>\n      <td>NaN</td>\n      <td>NaN</td>\n      <td>NaN</td>\n      <td>NaN</td>\n      <td>NaN</td>\n      <td>NaN</td>\n      <td>NaN</td>\n    </tr>\n    <tr>\n      <th>46439</th>\n      <td>46559</td>\n      <td>NaN</td>\n      <td>NaT</td>\n      <td>NaT</td>\n      <td>3</td>\n      <td>NaN</td>\n      <td>NaN</td>\n      <td>NaN</td>\n      <td>NaN</td>\n      <td>NaN</td>\n      <td>...</td>\n      <td>NaN</td>\n      <td>NaN</td>\n      <td>NaN</td>\n      <td>NaN</td>\n      <td>NaN</td>\n      <td>NaN</td>\n      <td>NaN</td>\n      <td>NaN</td>\n      <td>NaN</td>\n      <td>NaN</td>\n    </tr>\n  </tbody>\n</table>\n<p>46440 rows × 40 columns</p>\n</div>"
     },
     "execution_count": 15,
     "metadata": {},
     "output_type": "execute_result"
    }
   ],
   "source": [
    "bucharest_big = pd.read_excel('../Data/Raw/short database COVID_20.09.21_v3.xlsx')\n",
    "bucharest_big"
   ]
  },
  {
   "cell_type": "code",
   "execution_count": 5,
   "outputs": [
    {
     "data": {
      "text/plain": "(6895, 13272, 46269)"
     },
     "execution_count": 5,
     "metadata": {},
     "output_type": "execute_result"
    }
   ],
   "source": [
    "bucharest['REFEREE_CODE_HARVARD'].nunique(), bucharest['REFERRAL_CODE_HARVARD'].nunique(), bucharest_big['covid_patient'].nunique()"
   ],
   "metadata": {
    "collapsed": false,
    "pycharm": {
     "name": "#%%\n"
    }
   }
  },
  {
   "cell_type": "code",
   "execution_count": 6,
   "id": "b45f6f1d",
   "metadata": {
    "pycharm": {
     "name": "#%%\n"
    }
   },
   "outputs": [],
   "source": [
    "from collections import Counter\n",
    "refs = [key for key, value in Counter(bucharest['REFERRAL_CODE_HARVARD']).items() if value > 1]"
   ]
  },
  {
   "cell_type": "code",
   "execution_count": 7,
   "id": "4ba511c2",
   "metadata": {
    "pycharm": {
     "name": "#%%\n"
    }
   },
   "outputs": [
    {
     "name": "stdout",
     "output_type": "stream",
     "text": [
      "95 95\n"
     ]
    }
   ],
   "source": [
    "in_big = 0\n",
    "for ref in refs:\n",
    "    if bucharest_big.loc[bucharest_big['covid_patient'] == int(ref)].shape[0] > 0:\n",
    "        in_big += 1\n",
    "\n",
    "print(len(refs), in_big)"
   ]
  },
  {
   "cell_type": "code",
   "execution_count": 8,
   "id": "4503f0bb",
   "metadata": {
    "pycharm": {
     "name": "#%%\n"
    }
   },
   "outputs": [
    {
     "name": "stdout",
     "output_type": "stream",
     "text": [
      "1811\n"
     ]
    }
   ],
   "source": [
    "in_big = 0\n",
    "for ref in bucharest['REFERRAL_CODE_HARVARD']:\n",
    "    try:\n",
    "        if bucharest_big.loc[bucharest_big['covid_patient'] == int(ref)].shape[0] > 0:\n",
    "            in_big += 1\n",
    "    except ValueError:\n",
    "        continue\n",
    "\n",
    "print(in_big)"
   ]
  },
  {
   "cell_type": "code",
   "execution_count": 9,
   "id": "89fc50a0",
   "metadata": {
    "pycharm": {
     "name": "#%%\n"
    }
   },
   "outputs": [
    {
     "name": "stdout",
     "output_type": "stream",
     "text": [
      "6895 6895\n"
     ]
    }
   ],
   "source": [
    "in_big = 0\n",
    "for ref in bucharest['REFEREE_CODE_HARVARD'].unique():\n",
    "    try:\n",
    "        if bucharest_big.loc[bucharest_big['covid_patient'] == int(ref)].shape[0] > 0:\n",
    "            in_big += 1\n",
    "    except ValueError:\n",
    "        continue\n",
    "\n",
    "print(in_big, bucharest['REFEREE_CODE_HARVARD'].nunique())"
   ]
  },
  {
   "cell_type": "markdown",
   "id": "3b86be0a",
   "metadata": {
    "pycharm": {
     "name": "#%% md\n"
    }
   },
   "source": [
    "**Conclusion: majority of referrals have never been recorded as patients**\n",
    "\n",
    "-> bucharest_big contains all recorded patients\n",
    "-> bucharest contains entries where\n",
    "- referees are recorded patients and present in bucharest_big\n",
    "- referrals can either be recorded patients and present in bucharest_big, or no recorded patient and therefore not present in bucharest_big"
   ]
  },
  {
   "cell_type": "code",
   "execution_count": 10,
   "id": "ed9546c9",
   "metadata": {
    "pycharm": {
     "name": "#%%\n"
    }
   },
   "outputs": [
    {
     "data": {
      "text/plain": "344       5423\n7711     22644\n7710     22644\n8098     24110\n1997     38303\n         ...  \n4727    280321\n4725    280321\n4839    280321\n4726    280321\n990     296609\nName: REFEREE_CODE_HARVARD, Length: 13377, dtype: int64"
     },
     "execution_count": 10,
     "metadata": {},
     "output_type": "execute_result"
    }
   ],
   "source": [
    "bucharest['REFEREE_CODE_HARVARD'].sort_values(ascending=True)"
   ]
  },
  {
   "cell_type": "code",
   "execution_count": 11,
   "id": "e8d5f3e0",
   "metadata": {
    "pycharm": {
     "name": "#%%\n"
    }
   },
   "outputs": [
    {
     "data": {
      "text/plain": "(12.0, 327931.0)"
     },
     "execution_count": 11,
     "metadata": {},
     "output_type": "execute_result"
    }
   ],
   "source": [
    "bucharest_big['covid_patient'].min(), bucharest_big['covid_patient'].max()"
   ]
  },
  {
   "cell_type": "code",
   "execution_count": 12,
   "id": "ec3a88ce",
   "metadata": {
    "pycharm": {
     "name": "#%%\n"
    }
   },
   "outputs": [
    {
     "data": {
      "text/plain": "Empty DataFrame\nColumns: [nr, covid_patient, testing_date, confirmation_date, macro_phases, stringency_index, stringency_index_classes, stages_by_stringency_categories, stages_by_stringency_categories_macro, stages_by_stringency, days_difference, sex, age, age_groups, periods, periods_CODE, sector, confirmation_month, new_periods, occupation, ISCO08_1_digit_code, ISCO08_1_digit_label, ISCO08_2_digit_code, ISCO08_2_digit_label, ISCO08_3_digit_code, ISCO08_3_digit_label, ISCO08_4_digit_code, ISCO08_4_digit_label, proximity_score, exposure_score, active_yes_no, age_classes, SOC18_Major_Group, SOC18_Major_Group_label, SOC18_Minor_Group, SOC18_Minor_Group_label, SOC18_Broad_Group, SOC18_Broad_Group_label, SOC18_Detailed_Occupation, SOC18_Detailed_Occupation_label]\nIndex: []\n\n[0 rows x 40 columns]",
      "text/html": "<div>\n<style scoped>\n    .dataframe tbody tr th:only-of-type {\n        vertical-align: middle;\n    }\n\n    .dataframe tbody tr th {\n        vertical-align: top;\n    }\n\n    .dataframe thead th {\n        text-align: right;\n    }\n</style>\n<table border=\"1\" class=\"dataframe\">\n  <thead>\n    <tr style=\"text-align: right;\">\n      <th></th>\n      <th>nr</th>\n      <th>covid_patient</th>\n      <th>testing_date</th>\n      <th>confirmation_date</th>\n      <th>macro_phases</th>\n      <th>stringency_index</th>\n      <th>stringency_index_classes</th>\n      <th>stages_by_stringency_categories</th>\n      <th>stages_by_stringency_categories_macro</th>\n      <th>stages_by_stringency</th>\n      <th>...</th>\n      <th>active_yes_no</th>\n      <th>age_classes</th>\n      <th>SOC18_Major_Group</th>\n      <th>SOC18_Major_Group_label</th>\n      <th>SOC18_Minor_Group</th>\n      <th>SOC18_Minor_Group_label</th>\n      <th>SOC18_Broad_Group</th>\n      <th>SOC18_Broad_Group_label</th>\n      <th>SOC18_Detailed_Occupation</th>\n      <th>SOC18_Detailed_Occupation_label</th>\n    </tr>\n  </thead>\n  <tbody>\n  </tbody>\n</table>\n<p>0 rows × 40 columns</p>\n</div>"
     },
     "execution_count": 12,
     "metadata": {},
     "output_type": "execute_result"
    }
   ],
   "source": [
    "bucharest_big.loc[bucharest_big['covid_patient'] == 14590]"
   ]
  },
  {
   "cell_type": "code",
   "execution_count": 13,
   "id": "e2d3115f",
   "metadata": {
    "pycharm": {
     "name": "#%%\n"
    }
   },
   "outputs": [
    {
     "data": {
      "text/plain": "False"
     },
     "execution_count": 13,
     "metadata": {},
     "output_type": "execute_result"
    }
   ],
   "source": [
    "22644 in bucharest['REFEREE_CODE_HARVARD']"
   ]
  },
  {
   "cell_type": "code",
   "execution_count": 14,
   "id": "d29d2dc0",
   "metadata": {
    "pycharm": {
     "name": "#%%\n"
    }
   },
   "outputs": [
    {
     "data": {
      "text/plain": "2"
     },
     "execution_count": 14,
     "metadata": {},
     "output_type": "execute_result"
    }
   ],
   "source": [
    "bucharest.loc[bucharest['REFEREE_CODE_HARVARD'] == 22644.0].shape[0]"
   ]
  },
  {
   "cell_type": "code",
   "execution_count": 15,
   "id": "84d2e0e0",
   "metadata": {
    "pycharm": {
     "name": "#%%\n"
    }
   },
   "outputs": [
    {
     "data": {
      "text/plain": "39545"
     },
     "execution_count": 15,
     "metadata": {},
     "output_type": "execute_result"
    }
   ],
   "source": [
    "i = 0\n",
    "for index, row in bucharest_big.iterrows():\n",
    "    if bucharest.loc[bucharest['REFEREE_CODE_HARVARD'] == row['covid_patient']].shape[0] == 0:\n",
    "        i += 1\n",
    "\n",
    "i"
   ]
  },
  {
   "cell_type": "code",
   "execution_count": 16,
   "id": "3e850072",
   "metadata": {
    "pycharm": {
     "name": "#%%\n"
    }
   },
   "outputs": [
    {
     "data": {
      "text/plain": "0"
     },
     "execution_count": 16,
     "metadata": {},
     "output_type": "execute_result"
    }
   ],
   "source": [
    "i = 0\n",
    "for index, row in bucharest.iterrows():\n",
    "    if bucharest_big.loc[bucharest_big['covid_patient'] == row['REFEREE_CODE_HARVARD']].shape[0] == 0:\n",
    "        i += 1\n",
    "\n",
    "i"
   ]
  },
  {
   "cell_type": "code",
   "execution_count": 17,
   "id": "fa4c6ccc",
   "metadata": {
    "pycharm": {
     "name": "#%%\n"
    }
   },
   "outputs": [
    {
     "data": {
      "text/plain": "Index(['NR', 'REFERRAL_CODE', 'REFERRAL_CODE_HARVARD', 'Broker',\n       'REFERRAL_sector_private_public', 'REFERRAL_medical_yes_no_not_active',\n       'REFERRAL_ISCO08_1_digit_code', 'REFERRAL_ISCO08_1_digit_label',\n       'REFERRAL_ISCO08_2_digit_code', 'REFERRAL_ISCO08_2_digit_label',\n       'REFERRAL_ISCO08_3_digit_code', 'REFERRAL_ISCO08_3_digit_label',\n       'REFERRAL_AGE', 'REFERRAL_SEX_1_MALE', 'REFERRAL_Active_Yes_No',\n       'REFERRAL_Age_classes', 'REFEREE_CODE', 'REFEREE_CODE_HARVARD',\n       'Brokers', 'REFEREE_sector_private_public',\n       'REFEREE_medical_yes_no_not_active', 'REFEREE_ISCO08_1_digit_code',\n       'REFEREE_ISCO08_1_digit_label', 'REFEREE_ISCO08_2_digit_code',\n       'REFEREE_ISCO08_2_digit_label', 'REFEREE_ISCO08_3_digit_code',\n       'REFEREE_ISCO08_3_digit_label', 'REFEREE_AGE', 'REFEREE_SEX_MALE_1',\n       'REFEREE_Active_Yes_No', 'REFEREE_Age_classes',\n       'REFEREE_CONFIRMATION_MONTH', 'REFEREE_CONFIRMATION_DAY'],\n      dtype='object')"
     },
     "execution_count": 17,
     "metadata": {},
     "output_type": "execute_result"
    }
   ],
   "source": [
    "bucharest.columns"
   ]
  },
  {
   "cell_type": "markdown",
   "id": "366cf5fc",
   "metadata": {
    "pycharm": {
     "name": "#%% md\n"
    }
   },
   "source": [
    "- referral_code: to_id\n",
    "- referee: from_id\n",
    "- isco08: occupation\n",
    "- sector\n",
    "- medical\n",
    "- age\n",
    "- sex\n",
    "- active: employability\n",
    "- confirmation_day: date of confirmation\n"
   ]
  },
  {
   "cell_type": "code",
   "execution_count": 18,
   "id": "67f8d294",
   "metadata": {
    "pycharm": {
     "name": "#%%\n"
    }
   },
   "outputs": [
    {
     "data": {
      "text/plain": "Index(['nr', 'covid_patient', 'testing_date', 'confirmation_date',\n       'macro_phases', 'stringency_index', 'stringency_index_classes',\n       'stages_by_stringency_categories',\n       'stages_by_stringency_categories_macro', 'stages_by_stringency',\n       'days_difference', 'sex', 'age', 'age_groups', 'periods',\n       'periods_CODE', 'sector', 'confirmation_month', 'new_periods',\n       'occupation', 'ISCO08_1_digit_code', 'ISCO08_1_digit_label',\n       'ISCO08_2_digit_code', 'ISCO08_2_digit_label', 'ISCO08_3_digit_code',\n       'ISCO08_3_digit_label', 'ISCO08_4_digit_code', 'ISCO08_4_digit_label',\n       'proximity_score', 'exposure_score', 'active_yes_no', 'age_classes',\n       'SOC18_Major_Group', 'SOC18_Major_Group_label', 'SOC18_Minor_Group',\n       'SOC18_Minor_Group_label', 'SOC18_Broad_Group',\n       'SOC18_Broad_Group_label', 'SOC18_Detailed_Occupation',\n       'SOC18_Detailed_Occupation_label'],\n      dtype='object')"
     },
     "execution_count": 18,
     "metadata": {},
     "output_type": "execute_result"
    }
   ],
   "source": [
    "bucharest_big.columns"
   ]
  },
  {
   "cell_type": "code",
   "execution_count": 44,
   "outputs": [],
   "source": [
    "bucharest_nodelist = pd.read_csv('../Data/Preprocessed/bucharest_nodelist.csv')"
   ],
   "metadata": {
    "collapsed": false,
    "pycharm": {
     "name": "#%%\n"
    }
   }
  },
  {
   "cell_type": "code",
   "execution_count": 41,
   "outputs": [],
   "source": [
    "bucharest_edgelist = pd.read_csv('../Data/Preprocessed/bucharest_edgelist.csv')"
   ],
   "metadata": {
    "collapsed": false,
    "pycharm": {
     "name": "#%%\n"
    }
   }
  },
  {
   "cell_type": "code",
   "execution_count": 5,
   "outputs": [
    {
     "name": "stderr",
     "output_type": "stream",
     "text": [
      "C:\\Users\\simon\\AppData\\Local\\Temp\\ipykernel_5896\\1904430900.py:1: DtypeWarning: Columns (2,3) have mixed types. Specify dtype option on import or set low_memory=False.\n",
      "  bucharest_eventlist = pd.read_csv('../Data/Preprocessed/bucharest_eventlist.csv')\n"
     ]
    }
   ],
   "source": [
    "bucharest_eventlist = pd.read_csv('../Data/Preprocessed/bucharest_eventlist.csv')"
   ],
   "metadata": {
    "collapsed": false,
    "pycharm": {
     "name": "#%%\n"
    }
   }
  },
  {
   "cell_type": "code",
   "execution_count": 39,
   "outputs": [
    {
     "name": "stderr",
     "output_type": "stream",
     "text": [
      "E:\\Data\\masterarbeit\\network_analysis\\basic_framework.py:19: SettingWithCopyWarning: \n",
      "A value is trying to be set on a copy of a slice from a DataFrame.\n",
      "Try using .loc[row_indexer,col_indexer] = value instead\n",
      "\n",
      "See the caveats in the documentation: https://pandas.pydata.org/pandas-docs/stable/user_guide/indexing.html#returning-a-view-versus-a-copy\n",
      "  rows_with_contact['Referee'] = rows_with_contact['Referee'].astype('str', errors='ignore').apply(lambda x: x.split('.')[0])\n",
      "E:\\Data\\masterarbeit\\network_analysis\\basic_framework.py:20: SettingWithCopyWarning: \n",
      "A value is trying to be set on a copy of a slice from a DataFrame.\n",
      "Try using .loc[row_indexer,col_indexer] = value instead\n",
      "\n",
      "See the caveats in the documentation: https://pandas.pydata.org/pandas-docs/stable/user_guide/indexing.html#returning-a-view-versus-a-copy\n",
      "  rows_with_contact['Referral'] = rows_with_contact['Referral'].astype('str', errors='ignore').apply(lambda x: x.split('.')[0])\n",
      "E:\\Data\\masterarbeit\\network_analysis\\basic_framework.py:21: SettingWithCopyWarning: \n",
      "A value is trying to be set on a copy of a slice from a DataFrame.\n",
      "Try using .loc[row_indexer,col_indexer] = value instead\n",
      "\n",
      "See the caveats in the documentation: https://pandas.pydata.org/pandas-docs/stable/user_guide/indexing.html#returning-a-view-versus-a-copy\n",
      "  rows_without_contact['Referee'] = rows_without_contact['Referee'].astype('str', errors='ignore').apply(lambda x: x.split('.')[0])\n",
      "E:\\Data\\masterarbeit\\network_analysis\\basic_framework.py:22: SettingWithCopyWarning: \n",
      "A value is trying to be set on a copy of a slice from a DataFrame.\n",
      "Try using .loc[row_indexer,col_indexer] = value instead\n",
      "\n",
      "See the caveats in the documentation: https://pandas.pydata.org/pandas-docs/stable/user_guide/indexing.html#returning-a-view-versus-a-copy\n",
      "  rows_without_contact['Referral'] = rows_without_contact['Referral'].astype('str', errors='ignore').apply(lambda x: x.split('.')[0])\n"
     ]
    }
   ],
   "source": [
    "bucharest_network = baf.BasicAnalysisFramework()\n",
    "bucharest_network.load_edgelist('../Data/Preprocessed/bucharest_edgelist.csv')"
   ],
   "metadata": {
    "collapsed": false,
    "pycharm": {
     "name": "#%%\n"
    }
   }
  },
  {
   "cell_type": "code",
   "execution_count": 40,
   "outputs": [
    {
     "data": {
      "text/plain": "OrderedDict([(0, 38122),\n             (1, 15856),\n             (2, 2130),\n             (3, 1083),\n             (4, 364),\n             (5, 139),\n             (6, 68),\n             (7, 32),\n             (8, 18),\n             (9, 8),\n             (10, 8),\n             (11, 4),\n             (12, 1),\n             (15, 1),\n             (19, 1)])"
     },
     "execution_count": 40,
     "metadata": {},
     "output_type": "execute_result"
    }
   ],
   "source": [
    "array = np.array(nx.degree_histogram(bucharest_network._network))\n",
    "d = dict()\n",
    "for i, degree in enumerate(np.argsort(array)):\n",
    "    count = np.sort(array)[i]\n",
    "    if count > 0:\n",
    "        d[degree] = count\n",
    "OrderedDict(sorted(d.items()))"
   ],
   "metadata": {
    "collapsed": false,
    "pycharm": {
     "name": "#%%\n"
    }
   }
  },
  {
   "cell_type": "code",
   "execution_count": 42,
   "outputs": [
    {
     "name": "stdout",
     "output_type": "stream",
     "text": [
      "<class 'pandas.core.series.Series'>\n",
      "RangeIndex: 51499 entries, 0 to 51498\n",
      "Series name: Referral\n",
      "Non-Null Count  Dtype \n",
      "--------------  ----- \n",
      "13377 non-null  object\n",
      "dtypes: object(1)\n",
      "memory usage: 402.5+ KB\n"
     ]
    }
   ],
   "source": [
    "bucharest_edgelist['Referral'].info()"
   ],
   "metadata": {
    "collapsed": false,
    "pycharm": {
     "name": "#%%\n"
    }
   }
  },
  {
   "cell_type": "code",
   "execution_count": 46,
   "outputs": [
    {
     "data": {
      "text/plain": "57835"
     },
     "execution_count": 46,
     "metadata": {},
     "output_type": "execute_result"
    }
   ],
   "source": [
    "bucharest_nodelist['node_id'].nunique()"
   ],
   "metadata": {
    "collapsed": false,
    "pycharm": {
     "name": "#%%\n"
    }
   }
  },
  {
   "cell_type": "code",
   "execution_count": 7,
   "outputs": [],
   "source": [
    "degrees = [x[1] for x in bucharest_network._network.degree]"
   ],
   "metadata": {
    "collapsed": false,
    "pycharm": {
     "name": "#%%\n"
    }
   }
  },
  {
   "cell_type": "code",
   "execution_count": 10,
   "outputs": [
    {
     "data": {
      "text/plain": "dict_items([(2, 2130), (1, 15856), (3, 1083), (4, 364), (5, 139), (15, 1), (7, 32), (10, 8), (6, 68), (11, 4), (9, 8), (8, 18), (12, 1), (19, 1), (0, 38122)])"
     },
     "execution_count": 10,
     "metadata": {},
     "output_type": "execute_result"
    }
   ],
   "source": [
    "Counter(degrees).items()"
   ],
   "metadata": {
    "collapsed": false,
    "pycharm": {
     "name": "#%%\n"
    }
   }
  },
  {
   "cell_type": "code",
   "execution_count": 23,
   "outputs": [
    {
     "data": {
      "text/plain": "(1727, 57835, 57835)"
     },
     "execution_count": 23,
     "metadata": {},
     "output_type": "execute_result"
    }
   ],
   "source": [
    "1083 + 364 + 139 + 1 + 32 + 8 + 68 + 4 + 8 + 18 + 1 + 1, 1727 + 2130 + 15856 + 38122, bucharest_nodelist.shape[0]"
   ],
   "metadata": {
    "collapsed": false,
    "pycharm": {
     "name": "#%%\n"
    }
   }
  },
  {
   "cell_type": "code",
   "execution_count": 20,
   "outputs": [
    {
     "data": {
      "text/plain": "(13377, 51499, 57835)"
     },
     "execution_count": 20,
     "metadata": {},
     "output_type": "execute_result"
    }
   ],
   "source": [
    "bucharest.shape[0], bucharest.shape[0] + 38122, bucharest_nodelist.shape[0]"
   ],
   "metadata": {
    "collapsed": false,
    "pycharm": {
     "name": "#%%\n"
    }
   }
  },
  {
   "cell_type": "code",
   "execution_count": 11,
   "outputs": [
    {
     "data": {
      "text/plain": "(57835, 51499)"
     },
     "execution_count": 11,
     "metadata": {},
     "output_type": "execute_result"
    }
   ],
   "source": [
    "bucharest_nodelist.shape[0], bucharest_edgelist.shape[0]"
   ],
   "metadata": {
    "collapsed": false,
    "pycharm": {
     "name": "#%%\n"
    }
   }
  },
  {
   "cell_type": "code",
   "execution_count": 21,
   "outputs": [
    {
     "data": {
      "text/plain": "46440"
     },
     "execution_count": 21,
     "metadata": {},
     "output_type": "execute_result"
    }
   ],
   "source": [
    "bucharest_big.shape[0]"
   ],
   "metadata": {
    "collapsed": false,
    "pycharm": {
     "name": "#%%\n"
    }
   }
  },
  {
   "cell_type": "code",
   "execution_count": 12,
   "outputs": [
    {
     "data": {
      "text/plain": "count    57725.000000\nmean        41.299091\nstd         18.941530\nmin          0.000000\n25%         29.000000\n50%         41.000000\n75%         53.000000\nmax        101.000000\nName: age, dtype: float64"
     },
     "execution_count": 12,
     "metadata": {},
     "output_type": "execute_result"
    }
   ],
   "source": [
    "bucharest_nodelist['age'].describe()"
   ],
   "metadata": {
    "collapsed": false,
    "pycharm": {
     "name": "#%%\n"
    }
   }
  },
  {
   "cell_type": "code",
   "execution_count": 29,
   "outputs": [
    {
     "data": {
      "text/plain": "female    20267\nmale      17855\n2          3512\n1          3145\n2.0         825\n1.0         665\nName: gender, dtype: int64"
     },
     "execution_count": 29,
     "metadata": {},
     "output_type": "execute_result"
    }
   ],
   "source": [
    "bucharest_nodelist['gender'].value_counts()"
   ],
   "metadata": {
    "collapsed": false,
    "pycharm": {
     "name": "#%%\n"
    }
   }
  },
  {
   "cell_type": "code",
   "execution_count": 30,
   "outputs": [
    {
     "data": {
      "text/plain": "(21665, 24604, 46269)"
     },
     "execution_count": 30,
     "metadata": {},
     "output_type": "execute_result"
    }
   ],
   "source": [
    "17855 + 3145 + 665, 20267 + 3512 + 825, bucharest_nodelist['gender'].value_counts().sum()"
   ],
   "metadata": {
    "collapsed": false,
    "pycharm": {
     "name": "#%%\n"
    }
   }
  },
  {
   "cell_type": "code",
   "execution_count": 13,
   "outputs": [
    {
     "data": {
      "text/plain": "count     13377.000000\nmean     200975.814981\nstd          60.566352\nmin      200801.000000\n25%      200926.000000\n50%      201009.000000\n75%      201017.000000\nmax      201031.000000\nName: date, dtype: float64"
     },
     "execution_count": 13,
     "metadata": {},
     "output_type": "execute_result"
    }
   ],
   "source": [
    "bucharest_eventlist.query('type == \"contact_nomination\"')['date'].describe()"
   ],
   "metadata": {
    "collapsed": false,
    "pycharm": {
     "name": "#%%\n"
    }
   }
  },
  {
   "cell_type": "code",
   "execution_count": 17,
   "outputs": [
    {
     "data": {
      "text/plain": "(Timestamp('2020-03-07 00:00:00'), Timestamp('2020-11-11 00:00:00'))"
     },
     "execution_count": 17,
     "metadata": {},
     "output_type": "execute_result"
    }
   ],
   "source": [
    "bucharest_big['confirmation_date'].min(), bucharest_big['confirmation_date'].max()"
   ],
   "metadata": {
    "collapsed": false,
    "pycharm": {
     "name": "#%%\n"
    }
   }
  },
  {
   "cell_type": "code",
   "execution_count": 43,
   "outputs": [
    {
     "data": {
      "text/plain": "       Unnamed: 0   node_id   age  gender medical isco08_code  \\\n0               0    179373  65.0       1     NAP         NAP   \n1               1  1S179373  63.0     NaN     NaN         NaN   \n2               2    146179  40.0       1      No         EMP   \n3               3    235990  32.0     2.0     NaN         NaN   \n4               4  3S146179   3.0     NaN     NAC         NAC   \n...           ...       ...   ...     ...     ...         ...   \n57830       57830        19  32.0    male     NaN         NaN   \n57831       57831        18  30.0  female     NaN         NaN   \n57832       57832        16  60.0    male     NaN         NaN   \n57833       57833        14  42.0  female     NaN         NaN   \n57834       57834        12  49.0    male     NaN         NaN   \n\n                   isco08_label  \n0        Not Active - pensioner  \n1                           NaN  \n2      Employee - unknown group  \n3                           NaN  \n4            Not Active - Child  \n...                         ...  \n57830                       NaN  \n57831                       NaN  \n57832                       NaN  \n57833                       NaN  \n57834                       NaN  \n\n[57835 rows x 7 columns]",
      "text/html": "<div>\n<style scoped>\n    .dataframe tbody tr th:only-of-type {\n        vertical-align: middle;\n    }\n\n    .dataframe tbody tr th {\n        vertical-align: top;\n    }\n\n    .dataframe thead th {\n        text-align: right;\n    }\n</style>\n<table border=\"1\" class=\"dataframe\">\n  <thead>\n    <tr style=\"text-align: right;\">\n      <th></th>\n      <th>Unnamed: 0</th>\n      <th>node_id</th>\n      <th>age</th>\n      <th>gender</th>\n      <th>medical</th>\n      <th>isco08_code</th>\n      <th>isco08_label</th>\n    </tr>\n  </thead>\n  <tbody>\n    <tr>\n      <th>0</th>\n      <td>0</td>\n      <td>179373</td>\n      <td>65.0</td>\n      <td>1</td>\n      <td>NAP</td>\n      <td>NAP</td>\n      <td>Not Active - pensioner</td>\n    </tr>\n    <tr>\n      <th>1</th>\n      <td>1</td>\n      <td>1S179373</td>\n      <td>63.0</td>\n      <td>NaN</td>\n      <td>NaN</td>\n      <td>NaN</td>\n      <td>NaN</td>\n    </tr>\n    <tr>\n      <th>2</th>\n      <td>2</td>\n      <td>146179</td>\n      <td>40.0</td>\n      <td>1</td>\n      <td>No</td>\n      <td>EMP</td>\n      <td>Employee - unknown group</td>\n    </tr>\n    <tr>\n      <th>3</th>\n      <td>3</td>\n      <td>235990</td>\n      <td>32.0</td>\n      <td>2.0</td>\n      <td>NaN</td>\n      <td>NaN</td>\n      <td>NaN</td>\n    </tr>\n    <tr>\n      <th>4</th>\n      <td>4</td>\n      <td>3S146179</td>\n      <td>3.0</td>\n      <td>NaN</td>\n      <td>NAC</td>\n      <td>NAC</td>\n      <td>Not Active - Child</td>\n    </tr>\n    <tr>\n      <th>...</th>\n      <td>...</td>\n      <td>...</td>\n      <td>...</td>\n      <td>...</td>\n      <td>...</td>\n      <td>...</td>\n      <td>...</td>\n    </tr>\n    <tr>\n      <th>57830</th>\n      <td>57830</td>\n      <td>19</td>\n      <td>32.0</td>\n      <td>male</td>\n      <td>NaN</td>\n      <td>NaN</td>\n      <td>NaN</td>\n    </tr>\n    <tr>\n      <th>57831</th>\n      <td>57831</td>\n      <td>18</td>\n      <td>30.0</td>\n      <td>female</td>\n      <td>NaN</td>\n      <td>NaN</td>\n      <td>NaN</td>\n    </tr>\n    <tr>\n      <th>57832</th>\n      <td>57832</td>\n      <td>16</td>\n      <td>60.0</td>\n      <td>male</td>\n      <td>NaN</td>\n      <td>NaN</td>\n      <td>NaN</td>\n    </tr>\n    <tr>\n      <th>57833</th>\n      <td>57833</td>\n      <td>14</td>\n      <td>42.0</td>\n      <td>female</td>\n      <td>NaN</td>\n      <td>NaN</td>\n      <td>NaN</td>\n    </tr>\n    <tr>\n      <th>57834</th>\n      <td>57834</td>\n      <td>12</td>\n      <td>49.0</td>\n      <td>male</td>\n      <td>NaN</td>\n      <td>NaN</td>\n      <td>NaN</td>\n    </tr>\n  </tbody>\n</table>\n<p>57835 rows × 7 columns</p>\n</div>"
     },
     "execution_count": 43,
     "metadata": {},
     "output_type": "execute_result"
    }
   ],
   "source": [
    "bucharest_nodelist"
   ],
   "metadata": {
    "collapsed": false,
    "pycharm": {
     "name": "#%%\n"
    }
   }
  },
  {
   "cell_type": "code",
   "execution_count": 24,
   "outputs": [
    {
     "data": {
      "text/plain": "array(['No', nan, 'Yes'], dtype=object)"
     },
     "execution_count": 24,
     "metadata": {},
     "output_type": "execute_result"
    }
   ],
   "source": [
    "bucharest_nodelist['medical'].unique()"
   ],
   "metadata": {
    "collapsed": false,
    "pycharm": {
     "name": "#%%\n"
    }
   }
  },
  {
   "cell_type": "code",
   "execution_count": 25,
   "outputs": [
    {
     "data": {
      "text/plain": "No     6778\nYes     186\nName: medical, dtype: int64"
     },
     "execution_count": 25,
     "metadata": {},
     "output_type": "execute_result"
    }
   ],
   "source": [
    "bucharest_nodelist['medical'].value_counts()"
   ],
   "metadata": {
    "collapsed": false,
    "pycharm": {
     "name": "#%%\n"
    }
   }
  },
  {
   "cell_type": "code",
   "execution_count": 26,
   "outputs": [
    {
     "data": {
      "text/plain": "Not Active - school student                    2691\nNot Active - pensioner                         2058\nEmployee - unknown group                       1870\nNot Active - Child                             1492\nProfessionals                                   950\nService and sales workers                       194\nActive - unemployed                             100\nTechnicians and associate professionals          69\nClerical support workers                         64\nManagers                                         61\nNot Active - student                             56\nArmed forces occupations                         54\nPlant and machine operators, and assemblers      40\nActive - maternity leave                         38\nCraft and related trades workers                 37\nActive - household (not formally working)        24\nElementary occupations                            5\nActive - medical leave                            1\nElementary Occupations                            1\nNot Active - person with disability               1\nName: isco08_label, dtype: int64"
     },
     "execution_count": 26,
     "metadata": {},
     "output_type": "execute_result"
    }
   ],
   "source": [
    "bucharest_nodelist['isco08_label'].value_counts()"
   ],
   "metadata": {
    "collapsed": false,
    "pycharm": {
     "name": "#%%\n"
    }
   }
  },
  {
   "cell_type": "code",
   "execution_count": 28,
   "outputs": [
    {
     "data": {
      "text/plain": "(9806, 6298)"
     },
     "execution_count": 28,
     "metadata": {},
     "output_type": "execute_result"
    }
   ],
   "source": [
    "bucharest_nodelist['isco08_label'].value_counts().sum(), 2691 + 2058 + 1492 + 56 + 1"
   ],
   "metadata": {
    "collapsed": false,
    "pycharm": {
     "name": "#%%\n"
    }
   }
  },
  {
   "cell_type": "code",
   "execution_count": null,
   "outputs": [],
   "source": [],
   "metadata": {
    "collapsed": false,
    "pycharm": {
     "name": "#%%\n"
    }
   }
  },
  {
   "cell_type": "code",
   "execution_count": null,
   "outputs": [],
   "source": [],
   "metadata": {
    "collapsed": false,
    "pycharm": {
     "name": "#%%\n"
    }
   }
  },
  {
   "cell_type": "code",
   "execution_count": 2,
   "id": "6ac60e48",
   "metadata": {
    "pycharm": {
     "name": "#%%\n"
    }
   },
   "outputs": [
    {
     "data": {
      "text/html": [
       "<div>\n",
       "<style scoped>\n",
       "    .dataframe tbody tr th:only-of-type {\n",
       "        vertical-align: middle;\n",
       "    }\n",
       "\n",
       "    .dataframe tbody tr th {\n",
       "        vertical-align: top;\n",
       "    }\n",
       "\n",
       "    .dataframe thead th {\n",
       "        text-align: right;\n",
       "    }\n",
       "</style>\n",
       "<table border=\"1\" class=\"dataframe\">\n",
       "  <thead>\n",
       "    <tr style=\"text-align: right;\">\n",
       "      <th></th>\n",
       "      <th>Date</th>\n",
       "      <th>No</th>\n",
       "      <th>Noingroup</th>\n",
       "      <th>Gender</th>\n",
       "      <th>Age</th>\n",
       "      <th>Arrivedate</th>\n",
       "      <th>Feverdate</th>\n",
       "      <th>Diagnosedate</th>\n",
       "      <th>Strangers</th>\n",
       "      <th>weakties</th>\n",
       "      <th>...</th>\n",
       "      <th>arrivediagtime</th>\n",
       "      <th>source</th>\n",
       "      <th>mage</th>\n",
       "      <th>mfever</th>\n",
       "      <th>mdiag</th>\n",
       "      <th>WeightedDegree</th>\n",
       "      <th>clustering</th>\n",
       "      <th>triangles</th>\n",
       "      <th>eigencentrality</th>\n",
       "      <th>Province</th>\n",
       "    </tr>\n",
       "  </thead>\n",
       "  <tbody>\n",
       "    <tr>\n",
       "      <th>0</th>\n",
       "      <td>20200117</td>\n",
       "      <td>1</td>\n",
       "      <td>1</td>\n",
       "      <td>1.0</td>\n",
       "      <td>NaN</td>\n",
       "      <td>NaN</td>\n",
       "      <td>NaN</td>\n",
       "      <td>NaN</td>\n",
       "      <td>0.0</td>\n",
       "      <td>0.0</td>\n",
       "      <td>...</td>\n",
       "      <td>NaN</td>\n",
       "      <td>NaN</td>\n",
       "      <td>NaN</td>\n",
       "      <td>NaN</td>\n",
       "      <td>NaN</td>\n",
       "      <td>NaN</td>\n",
       "      <td>NaN</td>\n",
       "      <td>NaN</td>\n",
       "      <td>NaN</td>\n",
       "      <td>Yunnan</td>\n",
       "    </tr>\n",
       "    <tr>\n",
       "      <th>1</th>\n",
       "      <td>20200122</td>\n",
       "      <td>2</td>\n",
       "      <td>1</td>\n",
       "      <td>1.0</td>\n",
       "      <td>53.0</td>\n",
       "      <td>20200116.0</td>\n",
       "      <td>20200116.0</td>\n",
       "      <td>20200122.0</td>\n",
       "      <td>NaN</td>\n",
       "      <td>NaN</td>\n",
       "      <td>...</td>\n",
       "      <td>NaN</td>\n",
       "      <td>1.0</td>\n",
       "      <td>53.000000</td>\n",
       "      <td>NaN</td>\n",
       "      <td>6.0</td>\n",
       "      <td>NaN</td>\n",
       "      <td>NaN</td>\n",
       "      <td>NaN</td>\n",
       "      <td>NaN</td>\n",
       "      <td>Yunnan</td>\n",
       "    </tr>\n",
       "    <tr>\n",
       "      <th>2</th>\n",
       "      <td>20200124</td>\n",
       "      <td>3</td>\n",
       "      <td>1</td>\n",
       "      <td>0.0</td>\n",
       "      <td>39.0</td>\n",
       "      <td>20200115.0</td>\n",
       "      <td>NaN</td>\n",
       "      <td>20200122.0</td>\n",
       "      <td>1.0</td>\n",
       "      <td>1.0</td>\n",
       "      <td>...</td>\n",
       "      <td>NaN</td>\n",
       "      <td>1.0</td>\n",
       "      <td>40.666668</td>\n",
       "      <td>NaN</td>\n",
       "      <td>NaN</td>\n",
       "      <td>NaN</td>\n",
       "      <td>NaN</td>\n",
       "      <td>NaN</td>\n",
       "      <td>NaN</td>\n",
       "      <td>Yunnan</td>\n",
       "    </tr>\n",
       "    <tr>\n",
       "      <th>3</th>\n",
       "      <td>20200124</td>\n",
       "      <td>4</td>\n",
       "      <td>2</td>\n",
       "      <td>0.0</td>\n",
       "      <td>34.0</td>\n",
       "      <td>20200120.0</td>\n",
       "      <td>NaN</td>\n",
       "      <td>20200123.0</td>\n",
       "      <td>NaN</td>\n",
       "      <td>NaN</td>\n",
       "      <td>...</td>\n",
       "      <td>NaN</td>\n",
       "      <td>1.0</td>\n",
       "      <td>40.666668</td>\n",
       "      <td>NaN</td>\n",
       "      <td>NaN</td>\n",
       "      <td>NaN</td>\n",
       "      <td>NaN</td>\n",
       "      <td>NaN</td>\n",
       "      <td>NaN</td>\n",
       "      <td>Yunnan</td>\n",
       "    </tr>\n",
       "    <tr>\n",
       "      <th>4</th>\n",
       "      <td>20200124</td>\n",
       "      <td>5</td>\n",
       "      <td>3</td>\n",
       "      <td>1.0</td>\n",
       "      <td>49.0</td>\n",
       "      <td>20200121.0</td>\n",
       "      <td>NaN</td>\n",
       "      <td>20200123.0</td>\n",
       "      <td>NaN</td>\n",
       "      <td>NaN</td>\n",
       "      <td>...</td>\n",
       "      <td>NaN</td>\n",
       "      <td>1.0</td>\n",
       "      <td>40.666668</td>\n",
       "      <td>NaN</td>\n",
       "      <td>NaN</td>\n",
       "      <td>NaN</td>\n",
       "      <td>NaN</td>\n",
       "      <td>NaN</td>\n",
       "      <td>NaN</td>\n",
       "      <td>Yunnan</td>\n",
       "    </tr>\n",
       "    <tr>\n",
       "      <th>...</th>\n",
       "      <td>...</td>\n",
       "      <td>...</td>\n",
       "      <td>...</td>\n",
       "      <td>...</td>\n",
       "      <td>...</td>\n",
       "      <td>...</td>\n",
       "      <td>...</td>\n",
       "      <td>...</td>\n",
       "      <td>...</td>\n",
       "      <td>...</td>\n",
       "      <td>...</td>\n",
       "      <td>...</td>\n",
       "      <td>...</td>\n",
       "      <td>...</td>\n",
       "      <td>...</td>\n",
       "      <td>...</td>\n",
       "      <td>...</td>\n",
       "      <td>...</td>\n",
       "      <td>...</td>\n",
       "      <td>...</td>\n",
       "      <td>...</td>\n",
       "    </tr>\n",
       "    <tr>\n",
       "      <th>328</th>\n",
       "      <td>20200214</td>\n",
       "      <td>161</td>\n",
       "      <td>4</td>\n",
       "      <td>0.0</td>\n",
       "      <td>58.0</td>\n",
       "      <td>20200125.0</td>\n",
       "      <td>NaN</td>\n",
       "      <td>20200125.0</td>\n",
       "      <td>1.0</td>\n",
       "      <td>1.0</td>\n",
       "      <td>...</td>\n",
       "      <td>0.0</td>\n",
       "      <td>1.0</td>\n",
       "      <td>49.000000</td>\n",
       "      <td>66.0</td>\n",
       "      <td>12.0</td>\n",
       "      <td>3.0</td>\n",
       "      <td>1.0</td>\n",
       "      <td>3.0</td>\n",
       "      <td>0.056348</td>\n",
       "      <td>Hainan</td>\n",
       "    </tr>\n",
       "    <tr>\n",
       "      <th>329</th>\n",
       "      <td>20200214</td>\n",
       "      <td>158</td>\n",
       "      <td>1</td>\n",
       "      <td>1.0</td>\n",
       "      <td>62.0</td>\n",
       "      <td>NaN</td>\n",
       "      <td>NaN</td>\n",
       "      <td>20200208.0</td>\n",
       "      <td>0.0</td>\n",
       "      <td>0.0</td>\n",
       "      <td>...</td>\n",
       "      <td>NaN</td>\n",
       "      <td>0.0</td>\n",
       "      <td>49.000000</td>\n",
       "      <td>66.0</td>\n",
       "      <td>12.0</td>\n",
       "      <td>6.0</td>\n",
       "      <td>1.0</td>\n",
       "      <td>15.0</td>\n",
       "      <td>1.000000</td>\n",
       "      <td>Hainan</td>\n",
       "    </tr>\n",
       "    <tr>\n",
       "      <th>330</th>\n",
       "      <td>20200214</td>\n",
       "      <td>160</td>\n",
       "      <td>3</td>\n",
       "      <td>0.0</td>\n",
       "      <td>25.0</td>\n",
       "      <td>NaN</td>\n",
       "      <td>NaN</td>\n",
       "      <td>20200208.0</td>\n",
       "      <td>0.0</td>\n",
       "      <td>0.0</td>\n",
       "      <td>...</td>\n",
       "      <td>NaN</td>\n",
       "      <td>0.0</td>\n",
       "      <td>49.000000</td>\n",
       "      <td>66.0</td>\n",
       "      <td>12.0</td>\n",
       "      <td>6.0</td>\n",
       "      <td>1.0</td>\n",
       "      <td>15.0</td>\n",
       "      <td>1.000000</td>\n",
       "      <td>Hainan</td>\n",
       "    </tr>\n",
       "    <tr>\n",
       "      <th>331</th>\n",
       "      <td>20200214</td>\n",
       "      <td>159</td>\n",
       "      <td>2</td>\n",
       "      <td>0.0</td>\n",
       "      <td>27.0</td>\n",
       "      <td>20200125.0</td>\n",
       "      <td>NaN</td>\n",
       "      <td>20200125.0</td>\n",
       "      <td>1.0</td>\n",
       "      <td>1.0</td>\n",
       "      <td>...</td>\n",
       "      <td>0.0</td>\n",
       "      <td>1.0</td>\n",
       "      <td>49.000000</td>\n",
       "      <td>66.0</td>\n",
       "      <td>12.0</td>\n",
       "      <td>3.0</td>\n",
       "      <td>1.0</td>\n",
       "      <td>3.0</td>\n",
       "      <td>0.056348</td>\n",
       "      <td>Hainan</td>\n",
       "    </tr>\n",
       "    <tr>\n",
       "      <th>332</th>\n",
       "      <td>20200214</td>\n",
       "      <td>162</td>\n",
       "      <td>5</td>\n",
       "      <td>1.0</td>\n",
       "      <td>73.0</td>\n",
       "      <td>20191124.0</td>\n",
       "      <td>20200129.0</td>\n",
       "      <td>20200210.0</td>\n",
       "      <td>1.0</td>\n",
       "      <td>1.0</td>\n",
       "      <td>...</td>\n",
       "      <td>78.0</td>\n",
       "      <td>0.0</td>\n",
       "      <td>49.000000</td>\n",
       "      <td>66.0</td>\n",
       "      <td>12.0</td>\n",
       "      <td>0.0</td>\n",
       "      <td>0.0</td>\n",
       "      <td>0.0</td>\n",
       "      <td>0.000000</td>\n",
       "      <td>Hainan</td>\n",
       "    </tr>\n",
       "  </tbody>\n",
       "</table>\n",
       "<p>333 rows × 58 columns</p>\n",
       "</div>"
      ],
      "text/plain": [
       "         Date   No  Noingroup  Gender   Age  Arrivedate   Feverdate  \\\n",
       "0    20200117    1          1     1.0   NaN         NaN         NaN   \n",
       "1    20200122    2          1     1.0  53.0  20200116.0  20200116.0   \n",
       "2    20200124    3          1     0.0  39.0  20200115.0         NaN   \n",
       "3    20200124    4          2     0.0  34.0  20200120.0         NaN   \n",
       "4    20200124    5          3     1.0  49.0  20200121.0         NaN   \n",
       "..        ...  ...        ...     ...   ...         ...         ...   \n",
       "328  20200214  161          4     0.0  58.0  20200125.0         NaN   \n",
       "329  20200214  158          1     1.0  62.0         NaN         NaN   \n",
       "330  20200214  160          3     0.0  25.0         NaN         NaN   \n",
       "331  20200214  159          2     0.0  27.0  20200125.0         NaN   \n",
       "332  20200214  162          5     1.0  73.0  20191124.0  20200129.0   \n",
       "\n",
       "     Diagnosedate  Strangers  weakties  ...  arrivediagtime  source  \\\n",
       "0             NaN        0.0       0.0  ...             NaN     NaN   \n",
       "1      20200122.0        NaN       NaN  ...             NaN     1.0   \n",
       "2      20200122.0        1.0       1.0  ...             NaN     1.0   \n",
       "3      20200123.0        NaN       NaN  ...             NaN     1.0   \n",
       "4      20200123.0        NaN       NaN  ...             NaN     1.0   \n",
       "..            ...        ...       ...  ...             ...     ...   \n",
       "328    20200125.0        1.0       1.0  ...             0.0     1.0   \n",
       "329    20200208.0        0.0       0.0  ...             NaN     0.0   \n",
       "330    20200208.0        0.0       0.0  ...             NaN     0.0   \n",
       "331    20200125.0        1.0       1.0  ...             0.0     1.0   \n",
       "332    20200210.0        1.0       1.0  ...            78.0     0.0   \n",
       "\n",
       "          mage  mfever  mdiag  WeightedDegree  clustering  triangles  \\\n",
       "0          NaN     NaN    NaN             NaN         NaN        NaN   \n",
       "1    53.000000     NaN    6.0             NaN         NaN        NaN   \n",
       "2    40.666668     NaN    NaN             NaN         NaN        NaN   \n",
       "3    40.666668     NaN    NaN             NaN         NaN        NaN   \n",
       "4    40.666668     NaN    NaN             NaN         NaN        NaN   \n",
       "..         ...     ...    ...             ...         ...        ...   \n",
       "328  49.000000    66.0   12.0             3.0         1.0        3.0   \n",
       "329  49.000000    66.0   12.0             6.0         1.0       15.0   \n",
       "330  49.000000    66.0   12.0             6.0         1.0       15.0   \n",
       "331  49.000000    66.0   12.0             3.0         1.0        3.0   \n",
       "332  49.000000    66.0   12.0             0.0         0.0        0.0   \n",
       "\n",
       "     eigencentrality  Province  \n",
       "0                NaN    Yunnan  \n",
       "1                NaN    Yunnan  \n",
       "2                NaN    Yunnan  \n",
       "3                NaN    Yunnan  \n",
       "4                NaN    Yunnan  \n",
       "..               ...       ...  \n",
       "328         0.056348    Hainan  \n",
       "329         1.000000    Hainan  \n",
       "330         1.000000    Hainan  \n",
       "331         0.056348    Hainan  \n",
       "332         0.000000    Hainan  \n",
       "\n",
       "[333 rows x 58 columns]"
      ]
     },
     "execution_count": 2,
     "metadata": {},
     "output_type": "execute_result"
    }
   ],
   "source": [
    "yunnan_hainan = pd.read_stata('./Data/Yunnan & Hainan/Contact Network of Hainan and Yunnan.dta')\n",
    "yunnan_hainan"
   ]
  },
  {
   "cell_type": "code",
   "execution_count": 3,
   "id": "772b89e2",
   "metadata": {
    "pycharm": {
     "name": "#%%\n"
    }
   },
   "outputs": [],
   "source": [
    "yunnan = yunnan_hainan.loc[yunnan_hainan['Province'] == 'Yunnan']\n",
    "hainan = yunnan_hainan.loc[yunnan_hainan['Province'] == 'Hainan']"
   ]
  },
  {
   "cell_type": "markdown",
   "id": "233e2c54",
   "metadata": {
    "pycharm": {
     "name": "#%% md\n"
    }
   },
   "source": [
    "## Yunnan Dataset"
   ]
  },
  {
   "cell_type": "code",
   "execution_count": 4,
   "id": "cdfc2162",
   "metadata": {
    "pycharm": {
     "name": "#%%\n"
    }
   },
   "outputs": [
    {
     "data": {
      "text/plain": [
       "Index(['Date', 'No', 'Noingroup', 'Gender', 'Age', 'Arrivedate', 'Feverdate',\n",
       "       'Diagnosedate', 'Strangers', 'weakties', 'strongties', 'relatives',\n",
       "       'ties1', 'ties2', 'ties3', 'ties4', 'ties5', 'ties6', 'ties7', 'ties8',\n",
       "       'ties9', 'Degree', 'Weighteddegree', 'modularity_class', 'pageranks',\n",
       "       'componentnumber', 'Eccentricity', 'closnesscentrality',\n",
       "       'harmonicclosnesscentrality', 'betweenesscentrality', 'year0', 'month0',\n",
       "       'day0', 'date1', 'year', 'month', 'day', 'feverdate1', 'year1',\n",
       "       'month1', 'day1', 'arrivedate1', 'year2', 'month2', 'day2', 'diagdate',\n",
       "       'fevertime', 'diagtime', 'arrivediagtime', 'source', 'mage', 'mfever',\n",
       "       'mdiag', 'WeightedDegree', 'clustering', 'triangles', 'eigencentrality',\n",
       "       'Province'],\n",
       "      dtype='object')"
      ]
     },
     "execution_count": 4,
     "metadata": {},
     "output_type": "execute_result"
    }
   ],
   "source": [
    "yunnan.columns"
   ]
  },
  {
   "cell_type": "code",
   "execution_count": 5,
   "id": "f700c795",
   "metadata": {
    "pycharm": {
     "name": "#%%\n"
    }
   },
   "outputs": [
    {
     "name": "stdout",
     "output_type": "stream",
     "text": [
      "<class 'pandas.core.frame.DataFrame'>\n",
      "Int64Index: 171 entries, 0 to 170\n",
      "Data columns (total 58 columns):\n",
      " #   Column                      Non-Null Count  Dtype         \n",
      "---  ------                      --------------  -----         \n",
      " 0   Date                        171 non-null    int32         \n",
      " 1   No                          171 non-null    int16         \n",
      " 2   Noingroup                   171 non-null    int8          \n",
      " 3   Gender                      120 non-null    float64       \n",
      " 4   Age                         119 non-null    float64       \n",
      " 5   Arrivedate                  90 non-null     float64       \n",
      " 6   Feverdate                   31 non-null     float64       \n",
      " 7   Diagnosedate                119 non-null    float64       \n",
      " 8   Strangers                   60 non-null     float64       \n",
      " 9   weakties                    60 non-null     float64       \n",
      " 10  strongties                  60 non-null     float64       \n",
      " 11  relatives                   60 non-null     float64       \n",
      " 12  ties1                       39 non-null     float64       \n",
      " 13  ties2                       19 non-null     float64       \n",
      " 14  ties3                       12 non-null     float64       \n",
      " 15  ties4                       9 non-null      float64       \n",
      " 16  ties5                       7 non-null      float64       \n",
      " 17  ties6                       6 non-null      float64       \n",
      " 18  ties7                       5 non-null      float64       \n",
      " 19  ties8                       4 non-null      float64       \n",
      " 20  ties9                       3 non-null      float64       \n",
      " 21  Degree                      171 non-null    int8          \n",
      " 22  Weighteddegree              171 non-null    float64       \n",
      " 23  modularity_class            171 non-null    int16         \n",
      " 24  pageranks                   171 non-null    float64       \n",
      " 25  componentnumber             171 non-null    int16         \n",
      " 26  Eccentricity                171 non-null    int8          \n",
      " 27  closnesscentrality          171 non-null    float64       \n",
      " 28  harmonicclosnesscentrality  171 non-null    float64       \n",
      " 29  betweenesscentrality        171 non-null    float64       \n",
      " 30  year0                       171 non-null    float32       \n",
      " 31  month0                      171 non-null    float32       \n",
      " 32  day0                        171 non-null    float32       \n",
      " 33  date1                       171 non-null    datetime64[ns]\n",
      " 34  year                        31 non-null     float32       \n",
      " 35  month                       31 non-null     float32       \n",
      " 36  day                         31 non-null     float32       \n",
      " 37  feverdate1                  31 non-null     datetime64[ns]\n",
      " 38  year1                       40 non-null     float32       \n",
      " 39  month1                      40 non-null     float32       \n",
      " 40  day1                        40 non-null     float32       \n",
      " 41  arrivedate1                 40 non-null     datetime64[ns]\n",
      " 42  year2                       119 non-null    float32       \n",
      " 43  month2                      119 non-null    float32       \n",
      " 44  day2                        119 non-null    float32       \n",
      " 45  diagdate                    119 non-null    datetime64[ns]\n",
      " 46  fevertime                   6 non-null      float32       \n",
      " 47  diagtime                    31 non-null     float32       \n",
      " 48  arrivediagtime              40 non-null     float32       \n",
      " 49  source                      132 non-null    float32       \n",
      " 50  mage                        119 non-null    float32       \n",
      " 51  mfever                      35 non-null     float32       \n",
      " 52  mdiag                       83 non-null     float32       \n",
      " 53  WeightedDegree              0 non-null      float64       \n",
      " 54  clustering                  0 non-null      float64       \n",
      " 55  triangles                   0 non-null      float64       \n",
      " 56  eigencentrality             0 non-null      float64       \n",
      " 57  Province                    171 non-null    category      \n",
      "dtypes: category(1), datetime64[ns](4), float32(19), float64(27), int16(3), int32(1), int8(3)\n",
      "memory usage: 57.9 KB\n"
     ]
    }
   ],
   "source": [
    "yunnan.info()"
   ]
  },
  {
   "cell_type": "code",
   "execution_count": 6,
   "id": "add7c2bc",
   "metadata": {
    "pycharm": {
     "name": "#%%\n"
    }
   },
   "outputs": [
    {
     "data": {
      "text/plain": [
       "(20200117, 20200216)"
      ]
     },
     "execution_count": 6,
     "metadata": {},
     "output_type": "execute_result"
    }
   ],
   "source": [
    "yunnan['Date'].min(), yunnan['Date'].max()"
   ]
  },
  {
   "cell_type": "code",
   "execution_count": 7,
   "id": "11eec118",
   "metadata": {
    "pycharm": {
     "name": "#%%\n"
    }
   },
   "outputs": [
    {
     "data": {
      "text/plain": [
       "(0     114\n",
       " 1      25\n",
       " 12     13\n",
       " 2      11\n",
       " 3       6\n",
       " 5       1\n",
       " 4       1\n",
       " Name: Degree, dtype: int64,\n",
       " count    171.000000\n",
       " mean       1.345029\n",
       " std        3.186962\n",
       " min        0.000000\n",
       " 25%        0.000000\n",
       " 50%        0.000000\n",
       " 75%        1.000000\n",
       " max       12.000000\n",
       " Name: Degree, dtype: float64)"
      ]
     },
     "execution_count": 7,
     "metadata": {},
     "output_type": "execute_result"
    }
   ],
   "source": [
    "yunnan['Degree'].value_counts(), yunnan['Degree'].describe()"
   ]
  },
  {
   "cell_type": "code",
   "execution_count": 8,
   "id": "9f16439d",
   "metadata": {
    "pycharm": {
     "name": "#%%\n"
    }
   },
   "outputs": [
    {
     "data": {
      "text/plain": [
       "125    13\n",
       "86      6\n",
       "131     4\n",
       "115     3\n",
       "129     3\n",
       "109     3\n",
       "80      3\n",
       "13      2\n",
       "103     2\n",
       "113     2\n",
       "107     2\n",
       "110     2\n",
       "78      2\n",
       "0       2\n",
       "72      2\n",
       "127     2\n",
       "73      2\n",
       "120     2\n",
       "Name: modularity_class, dtype: int64"
      ]
     },
     "execution_count": 8,
     "metadata": {},
     "output_type": "execute_result"
    }
   ],
   "source": [
    "yunnan['modularity_class'].value_counts().loc[yunnan['modularity_class'].value_counts() > 1]"
   ]
  },
  {
   "cell_type": "code",
   "execution_count": 14,
   "id": "a203f4c3",
   "metadata": {
    "pycharm": {
     "name": "#%%\n"
    }
   },
   "outputs": [
    {
     "data": {
      "text/plain": [
       "1.0    31\n",
       "0.0    29\n",
       "Name: relatives, dtype: int64"
      ]
     },
     "execution_count": 14,
     "metadata": {},
     "output_type": "execute_result"
    }
   ],
   "source": [
    "yunnan[~yunnan['relatives'].isnull()]['relatives'].value_counts()"
   ]
  },
  {
   "cell_type": "code",
   "execution_count": 19,
   "id": "1091628b",
   "metadata": {
    "pycharm": {
     "name": "#%%\n"
    }
   },
   "outputs": [
    {
     "data": {
      "text/html": [
       "<div>\n",
       "<style scoped>\n",
       "    .dataframe tbody tr th:only-of-type {\n",
       "        vertical-align: middle;\n",
       "    }\n",
       "\n",
       "    .dataframe tbody tr th {\n",
       "        vertical-align: top;\n",
       "    }\n",
       "\n",
       "    .dataframe thead th {\n",
       "        text-align: right;\n",
       "    }\n",
       "</style>\n",
       "<table border=\"1\" class=\"dataframe\">\n",
       "  <thead>\n",
       "    <tr style=\"text-align: right;\">\n",
       "      <th></th>\n",
       "      <th>relatives</th>\n",
       "      <th>Strangers</th>\n",
       "      <th>Degree</th>\n",
       "    </tr>\n",
       "  </thead>\n",
       "  <tbody>\n",
       "    <tr>\n",
       "      <th>0</th>\n",
       "      <td>1.0</td>\n",
       "      <td>0.0</td>\n",
       "      <td>1</td>\n",
       "    </tr>\n",
       "    <tr>\n",
       "      <th>2</th>\n",
       "      <td>0.0</td>\n",
       "      <td>1.0</td>\n",
       "      <td>0</td>\n",
       "    </tr>\n",
       "    <tr>\n",
       "      <th>14</th>\n",
       "      <td>1.0</td>\n",
       "      <td>1.0</td>\n",
       "      <td>1</td>\n",
       "    </tr>\n",
       "    <tr>\n",
       "      <th>15</th>\n",
       "      <td>1.0</td>\n",
       "      <td>1.0</td>\n",
       "      <td>1</td>\n",
       "    </tr>\n",
       "    <tr>\n",
       "      <th>70</th>\n",
       "      <td>0.0</td>\n",
       "      <td>1.0</td>\n",
       "      <td>0</td>\n",
       "    </tr>\n",
       "    <tr>\n",
       "      <th>75</th>\n",
       "      <td>0.0</td>\n",
       "      <td>1.0</td>\n",
       "      <td>1</td>\n",
       "    </tr>\n",
       "    <tr>\n",
       "      <th>81</th>\n",
       "      <td>1.0</td>\n",
       "      <td>1.0</td>\n",
       "      <td>1</td>\n",
       "    </tr>\n",
       "    <tr>\n",
       "      <th>82</th>\n",
       "      <td>1.0</td>\n",
       "      <td>1.0</td>\n",
       "      <td>1</td>\n",
       "    </tr>\n",
       "    <tr>\n",
       "      <th>84</th>\n",
       "      <td>0.0</td>\n",
       "      <td>1.0</td>\n",
       "      <td>2</td>\n",
       "    </tr>\n",
       "    <tr>\n",
       "      <th>85</th>\n",
       "      <td>0.0</td>\n",
       "      <td>1.0</td>\n",
       "      <td>2</td>\n",
       "    </tr>\n",
       "    <tr>\n",
       "      <th>89</th>\n",
       "      <td>1.0</td>\n",
       "      <td>0.0</td>\n",
       "      <td>1</td>\n",
       "    </tr>\n",
       "    <tr>\n",
       "      <th>90</th>\n",
       "      <td>1.0</td>\n",
       "      <td>0.0</td>\n",
       "      <td>5</td>\n",
       "    </tr>\n",
       "    <tr>\n",
       "      <th>94</th>\n",
       "      <td>1.0</td>\n",
       "      <td>1.0</td>\n",
       "      <td>4</td>\n",
       "    </tr>\n",
       "    <tr>\n",
       "      <th>95</th>\n",
       "      <td>1.0</td>\n",
       "      <td>1.0</td>\n",
       "      <td>2</td>\n",
       "    </tr>\n",
       "    <tr>\n",
       "      <th>97</th>\n",
       "      <td>1.0</td>\n",
       "      <td>1.0</td>\n",
       "      <td>3</td>\n",
       "    </tr>\n",
       "    <tr>\n",
       "      <th>98</th>\n",
       "      <td>1.0</td>\n",
       "      <td>1.0</td>\n",
       "      <td>3</td>\n",
       "    </tr>\n",
       "    <tr>\n",
       "      <th>101</th>\n",
       "      <td>0.0</td>\n",
       "      <td>1.0</td>\n",
       "      <td>0</td>\n",
       "    </tr>\n",
       "    <tr>\n",
       "      <th>102</th>\n",
       "      <td>1.0</td>\n",
       "      <td>1.0</td>\n",
       "      <td>1</td>\n",
       "    </tr>\n",
       "    <tr>\n",
       "      <th>105</th>\n",
       "      <td>0.0</td>\n",
       "      <td>1.0</td>\n",
       "      <td>1</td>\n",
       "    </tr>\n",
       "    <tr>\n",
       "      <th>119</th>\n",
       "      <td>1.0</td>\n",
       "      <td>1.0</td>\n",
       "      <td>1</td>\n",
       "    </tr>\n",
       "    <tr>\n",
       "      <th>120</th>\n",
       "      <td>1.0</td>\n",
       "      <td>1.0</td>\n",
       "      <td>1</td>\n",
       "    </tr>\n",
       "    <tr>\n",
       "      <th>122</th>\n",
       "      <td>0.0</td>\n",
       "      <td>1.0</td>\n",
       "      <td>0</td>\n",
       "    </tr>\n",
       "    <tr>\n",
       "      <th>123</th>\n",
       "      <td>0.0</td>\n",
       "      <td>1.0</td>\n",
       "      <td>0</td>\n",
       "    </tr>\n",
       "    <tr>\n",
       "      <th>124</th>\n",
       "      <td>0.0</td>\n",
       "      <td>1.0</td>\n",
       "      <td>1</td>\n",
       "    </tr>\n",
       "    <tr>\n",
       "      <th>125</th>\n",
       "      <td>1.0</td>\n",
       "      <td>1.0</td>\n",
       "      <td>1</td>\n",
       "    </tr>\n",
       "    <tr>\n",
       "      <th>127</th>\n",
       "      <td>1.0</td>\n",
       "      <td>1.0</td>\n",
       "      <td>2</td>\n",
       "    </tr>\n",
       "    <tr>\n",
       "      <th>128</th>\n",
       "      <td>1.0</td>\n",
       "      <td>1.0</td>\n",
       "      <td>1</td>\n",
       "    </tr>\n",
       "    <tr>\n",
       "      <th>129</th>\n",
       "      <td>1.0</td>\n",
       "      <td>1.0</td>\n",
       "      <td>1</td>\n",
       "    </tr>\n",
       "    <tr>\n",
       "      <th>131</th>\n",
       "      <td>1.0</td>\n",
       "      <td>1.0</td>\n",
       "      <td>2</td>\n",
       "    </tr>\n",
       "    <tr>\n",
       "      <th>132</th>\n",
       "      <td>0.0</td>\n",
       "      <td>1.0</td>\n",
       "      <td>0</td>\n",
       "    </tr>\n",
       "    <tr>\n",
       "      <th>133</th>\n",
       "      <td>1.0</td>\n",
       "      <td>0.0</td>\n",
       "      <td>1</td>\n",
       "    </tr>\n",
       "    <tr>\n",
       "      <th>134</th>\n",
       "      <td>1.0</td>\n",
       "      <td>1.0</td>\n",
       "      <td>0</td>\n",
       "    </tr>\n",
       "    <tr>\n",
       "      <th>135</th>\n",
       "      <td>0.0</td>\n",
       "      <td>1.0</td>\n",
       "      <td>2</td>\n",
       "    </tr>\n",
       "    <tr>\n",
       "      <th>137</th>\n",
       "      <td>0.0</td>\n",
       "      <td>1.0</td>\n",
       "      <td>1</td>\n",
       "    </tr>\n",
       "    <tr>\n",
       "      <th>138</th>\n",
       "      <td>0.0</td>\n",
       "      <td>1.0</td>\n",
       "      <td>12</td>\n",
       "    </tr>\n",
       "    <tr>\n",
       "      <th>140</th>\n",
       "      <td>1.0</td>\n",
       "      <td>1.0</td>\n",
       "      <td>1</td>\n",
       "    </tr>\n",
       "    <tr>\n",
       "      <th>143</th>\n",
       "      <td>0.0</td>\n",
       "      <td>1.0</td>\n",
       "      <td>1</td>\n",
       "    </tr>\n",
       "    <tr>\n",
       "      <th>144</th>\n",
       "      <td>1.0</td>\n",
       "      <td>1.0</td>\n",
       "      <td>1</td>\n",
       "    </tr>\n",
       "    <tr>\n",
       "      <th>145</th>\n",
       "      <td>1.0</td>\n",
       "      <td>1.0</td>\n",
       "      <td>0</td>\n",
       "    </tr>\n",
       "    <tr>\n",
       "      <th>147</th>\n",
       "      <td>1.0</td>\n",
       "      <td>1.0</td>\n",
       "      <td>0</td>\n",
       "    </tr>\n",
       "    <tr>\n",
       "      <th>149</th>\n",
       "      <td>0.0</td>\n",
       "      <td>0.0</td>\n",
       "      <td>12</td>\n",
       "    </tr>\n",
       "    <tr>\n",
       "      <th>150</th>\n",
       "      <td>0.0</td>\n",
       "      <td>0.0</td>\n",
       "      <td>12</td>\n",
       "    </tr>\n",
       "    <tr>\n",
       "      <th>151</th>\n",
       "      <td>0.0</td>\n",
       "      <td>1.0</td>\n",
       "      <td>2</td>\n",
       "    </tr>\n",
       "    <tr>\n",
       "      <th>153</th>\n",
       "      <td>1.0</td>\n",
       "      <td>0.0</td>\n",
       "      <td>1</td>\n",
       "    </tr>\n",
       "    <tr>\n",
       "      <th>154</th>\n",
       "      <td>1.0</td>\n",
       "      <td>0.0</td>\n",
       "      <td>3</td>\n",
       "    </tr>\n",
       "    <tr>\n",
       "      <th>155</th>\n",
       "      <td>1.0</td>\n",
       "      <td>0.0</td>\n",
       "      <td>3</td>\n",
       "    </tr>\n",
       "    <tr>\n",
       "      <th>156</th>\n",
       "      <td>0.0</td>\n",
       "      <td>0.0</td>\n",
       "      <td>12</td>\n",
       "    </tr>\n",
       "    <tr>\n",
       "      <th>157</th>\n",
       "      <td>0.0</td>\n",
       "      <td>0.0</td>\n",
       "      <td>12</td>\n",
       "    </tr>\n",
       "    <tr>\n",
       "      <th>158</th>\n",
       "      <td>0.0</td>\n",
       "      <td>0.0</td>\n",
       "      <td>12</td>\n",
       "    </tr>\n",
       "    <tr>\n",
       "      <th>159</th>\n",
       "      <td>0.0</td>\n",
       "      <td>0.0</td>\n",
       "      <td>12</td>\n",
       "    </tr>\n",
       "    <tr>\n",
       "      <th>160</th>\n",
       "      <td>0.0</td>\n",
       "      <td>0.0</td>\n",
       "      <td>12</td>\n",
       "    </tr>\n",
       "    <tr>\n",
       "      <th>162</th>\n",
       "      <td>0.0</td>\n",
       "      <td>0.0</td>\n",
       "      <td>12</td>\n",
       "    </tr>\n",
       "    <tr>\n",
       "      <th>163</th>\n",
       "      <td>0.0</td>\n",
       "      <td>0.0</td>\n",
       "      <td>12</td>\n",
       "    </tr>\n",
       "    <tr>\n",
       "      <th>164</th>\n",
       "      <td>0.0</td>\n",
       "      <td>0.0</td>\n",
       "      <td>12</td>\n",
       "    </tr>\n",
       "    <tr>\n",
       "      <th>165</th>\n",
       "      <td>0.0</td>\n",
       "      <td>0.0</td>\n",
       "      <td>12</td>\n",
       "    </tr>\n",
       "    <tr>\n",
       "      <th>166</th>\n",
       "      <td>0.0</td>\n",
       "      <td>0.0</td>\n",
       "      <td>12</td>\n",
       "    </tr>\n",
       "    <tr>\n",
       "      <th>167</th>\n",
       "      <td>0.0</td>\n",
       "      <td>1.0</td>\n",
       "      <td>1</td>\n",
       "    </tr>\n",
       "    <tr>\n",
       "      <th>168</th>\n",
       "      <td>1.0</td>\n",
       "      <td>0.0</td>\n",
       "      <td>0</td>\n",
       "    </tr>\n",
       "    <tr>\n",
       "      <th>169</th>\n",
       "      <td>1.0</td>\n",
       "      <td>0.0</td>\n",
       "      <td>3</td>\n",
       "    </tr>\n",
       "    <tr>\n",
       "      <th>170</th>\n",
       "      <td>1.0</td>\n",
       "      <td>0.0</td>\n",
       "      <td>3</td>\n",
       "    </tr>\n",
       "  </tbody>\n",
       "</table>\n",
       "</div>"
      ],
      "text/plain": [
       "     relatives  Strangers  Degree\n",
       "0          1.0        0.0       1\n",
       "2          0.0        1.0       0\n",
       "14         1.0        1.0       1\n",
       "15         1.0        1.0       1\n",
       "70         0.0        1.0       0\n",
       "75         0.0        1.0       1\n",
       "81         1.0        1.0       1\n",
       "82         1.0        1.0       1\n",
       "84         0.0        1.0       2\n",
       "85         0.0        1.0       2\n",
       "89         1.0        0.0       1\n",
       "90         1.0        0.0       5\n",
       "94         1.0        1.0       4\n",
       "95         1.0        1.0       2\n",
       "97         1.0        1.0       3\n",
       "98         1.0        1.0       3\n",
       "101        0.0        1.0       0\n",
       "102        1.0        1.0       1\n",
       "105        0.0        1.0       1\n",
       "119        1.0        1.0       1\n",
       "120        1.0        1.0       1\n",
       "122        0.0        1.0       0\n",
       "123        0.0        1.0       0\n",
       "124        0.0        1.0       1\n",
       "125        1.0        1.0       1\n",
       "127        1.0        1.0       2\n",
       "128        1.0        1.0       1\n",
       "129        1.0        1.0       1\n",
       "131        1.0        1.0       2\n",
       "132        0.0        1.0       0\n",
       "133        1.0        0.0       1\n",
       "134        1.0        1.0       0\n",
       "135        0.0        1.0       2\n",
       "137        0.0        1.0       1\n",
       "138        0.0        1.0      12\n",
       "140        1.0        1.0       1\n",
       "143        0.0        1.0       1\n",
       "144        1.0        1.0       1\n",
       "145        1.0        1.0       0\n",
       "147        1.0        1.0       0\n",
       "149        0.0        0.0      12\n",
       "150        0.0        0.0      12\n",
       "151        0.0        1.0       2\n",
       "153        1.0        0.0       1\n",
       "154        1.0        0.0       3\n",
       "155        1.0        0.0       3\n",
       "156        0.0        0.0      12\n",
       "157        0.0        0.0      12\n",
       "158        0.0        0.0      12\n",
       "159        0.0        0.0      12\n",
       "160        0.0        0.0      12\n",
       "162        0.0        0.0      12\n",
       "163        0.0        0.0      12\n",
       "164        0.0        0.0      12\n",
       "165        0.0        0.0      12\n",
       "166        0.0        0.0      12\n",
       "167        0.0        1.0       1\n",
       "168        1.0        0.0       0\n",
       "169        1.0        0.0       3\n",
       "170        1.0        0.0       3"
      ]
     },
     "execution_count": 19,
     "metadata": {},
     "output_type": "execute_result"
    }
   ],
   "source": [
    "yunnan[~yunnan['Strangers'].isnull()][['relatives', 'Strangers', 'Degree']]"
   ]
  },
  {
   "cell_type": "code",
   "execution_count": 10,
   "id": "07ed9f1e",
   "metadata": {
    "pycharm": {
     "name": "#%%\n"
    }
   },
   "outputs": [
    {
     "data": {
      "text/plain": [
       "1.0    62\n",
       "0.0    58\n",
       "Name: Gender, dtype: int64"
      ]
     },
     "execution_count": 10,
     "metadata": {},
     "output_type": "execute_result"
    }
   ],
   "source": [
    "yunnan['Gender'].value_counts()"
   ]
  },
  {
   "cell_type": "code",
   "execution_count": 11,
   "id": "1f4d0bb0",
   "metadata": {
    "pycharm": {
     "name": "#%%\n"
    }
   },
   "outputs": [
    {
     "data": {
      "text/plain": [
       "count    119.000000\n",
       "mean      41.092437\n",
       "std       18.316424\n",
       "min        3.000000\n",
       "25%       26.000000\n",
       "50%       40.000000\n",
       "75%       54.000000\n",
       "max       79.000000\n",
       "Name: Age, dtype: float64"
      ]
     },
     "execution_count": 11,
     "metadata": {},
     "output_type": "execute_result"
    }
   ],
   "source": [
    "yunnan['Age'].describe()"
   ]
  },
  {
   "cell_type": "code",
   "execution_count": 23,
   "id": "4453451b",
   "metadata": {
    "pycharm": {
     "name": "#%%\n"
    }
   },
   "outputs": [
    {
     "data": {
      "text/plain": [
       "20200205.0    3\n",
       "20200130.0    3\n",
       "20200131.0    2\n",
       "20200204.0    2\n",
       "20200127.0    2\n",
       "20200126.0    2\n",
       "20200215.0    2\n",
       "20200129.0    2\n",
       "20200128.0    2\n",
       "20200125.0    2\n",
       "20200201.0    1\n",
       "20200117.0    1\n",
       "20200121.0    1\n",
       "20200206.0    1\n",
       "20200209.0    1\n",
       "20200210.0    1\n",
       "20200208.0    1\n",
       "20200211.0    1\n",
       "20200116.0    1\n",
       "Name: Feverdate, dtype: int64"
      ]
     },
     "execution_count": 23,
     "metadata": {},
     "output_type": "execute_result"
    }
   ],
   "source": [
    "yunnan['Feverdate'].value_counts()"
   ]
  },
  {
   "cell_type": "markdown",
   "id": "b0539c8f",
   "metadata": {
    "pycharm": {
     "name": "#%% md\n"
    }
   },
   "source": [
    "## Hainan Dataset"
   ]
  },
  {
   "cell_type": "code",
   "execution_count": 34,
   "id": "2b5aa8ae",
   "metadata": {
    "pycharm": {
     "name": "#%%\n"
    }
   },
   "outputs": [
    {
     "name": "stdout",
     "output_type": "stream",
     "text": [
      "<class 'pandas.core.frame.DataFrame'>\n",
      "Int64Index: 162 entries, 171 to 332\n",
      "Data columns (total 58 columns):\n",
      " #   Column                      Non-Null Count  Dtype         \n",
      "---  ------                      --------------  -----         \n",
      " 0   Date                        162 non-null    int32         \n",
      " 1   No                          162 non-null    int16         \n",
      " 2   Noingroup                   162 non-null    int8          \n",
      " 3   Gender                      162 non-null    float64       \n",
      " 4   Age                         162 non-null    float64       \n",
      " 5   Arrivedate                  135 non-null    float64       \n",
      " 6   Feverdate                   32 non-null     float64       \n",
      " 7   Diagnosedate                147 non-null    float64       \n",
      " 8   Strangers                   162 non-null    float64       \n",
      " 9   weakties                    162 non-null    float64       \n",
      " 10  strongties                  162 non-null    float64       \n",
      " 11  relatives                   162 non-null    float64       \n",
      " 12  ties1                       60 non-null     float64       \n",
      " 13  ties2                       31 non-null     float64       \n",
      " 14  ties3                       16 non-null     float64       \n",
      " 15  ties4                       9 non-null      float64       \n",
      " 16  ties5                       5 non-null      float64       \n",
      " 17  ties6                       1 non-null      float64       \n",
      " 18  ties7                       0 non-null      float64       \n",
      " 19  ties8                       0 non-null      float64       \n",
      " 20  ties9                       0 non-null      float64       \n",
      " 21  Degree                      162 non-null    int8          \n",
      " 22  Weighteddegree              0 non-null      float64       \n",
      " 23  modularity_class            162 non-null    int16         \n",
      " 24  pageranks                   162 non-null    float64       \n",
      " 25  componentnumber             162 non-null    int16         \n",
      " 26  Eccentricity                162 non-null    int8          \n",
      " 27  closnesscentrality          162 non-null    float64       \n",
      " 28  harmonicclosnesscentrality  162 non-null    float64       \n",
      " 29  betweenesscentrality        162 non-null    float64       \n",
      " 30  year0                       162 non-null    float32       \n",
      " 31  month0                      162 non-null    float32       \n",
      " 32  day0                        162 non-null    float32       \n",
      " 33  date1                       162 non-null    datetime64[ns]\n",
      " 34  year                        32 non-null     float32       \n",
      " 35  month                       32 non-null     float32       \n",
      " 36  day                         32 non-null     float32       \n",
      " 37  feverdate1                  32 non-null     datetime64[ns]\n",
      " 38  year1                       135 non-null    float32       \n",
      " 39  month1                      135 non-null    float32       \n",
      " 40  day1                        135 non-null    float32       \n",
      " 41  arrivedate1                 133 non-null    datetime64[ns]\n",
      " 42  year2                       147 non-null    float32       \n",
      " 43  month2                      147 non-null    float32       \n",
      " 44  day2                        147 non-null    float32       \n",
      " 45  diagdate                    147 non-null    datetime64[ns]\n",
      " 46  fevertime                   23 non-null     float32       \n",
      " 47  diagtime                    31 non-null     float32       \n",
      " 48  arrivediagtime              118 non-null    float32       \n",
      " 49  source                      162 non-null    float32       \n",
      " 50  mage                        162 non-null    float32       \n",
      " 51  mfever                      63 non-null     float32       \n",
      " 52  mdiag                       78 non-null     float32       \n",
      " 53  WeightedDegree              162 non-null    float64       \n",
      " 54  clustering                  162 non-null    float64       \n",
      " 55  triangles                   162 non-null    float64       \n",
      " 56  eigencentrality             162 non-null    float64       \n",
      " 57  Province                    162 non-null    category      \n",
      "dtypes: category(1), datetime64[ns](4), float32(19), float64(27), int16(3), int32(1), int8(3)\n",
      "memory usage: 54.9 KB\n"
     ]
    }
   ],
   "source": [
    "hainan.info()"
   ]
  },
  {
   "cell_type": "code",
   "execution_count": 24,
   "id": "0d920beb",
   "metadata": {
    "pycharm": {
     "name": "#%%\n"
    }
   },
   "outputs": [
    {
     "data": {
      "text/plain": [
       "(20200122, 20200214)"
      ]
     },
     "execution_count": 24,
     "metadata": {},
     "output_type": "execute_result"
    }
   ],
   "source": [
    "hainan['Date'].min(), hainan['Date'].max()"
   ]
  },
  {
   "cell_type": "code",
   "execution_count": 25,
   "id": "73f6ffcb",
   "metadata": {
    "pycharm": {
     "name": "#%%\n"
    }
   },
   "outputs": [
    {
     "data": {
      "text/plain": [
       "(0    71\n",
       " 1    27\n",
       " 2    21\n",
       " 3    21\n",
       " 5     8\n",
       " 6     8\n",
       " 4     6\n",
       " Name: Degree, dtype: int64,\n",
       " count    162.000000\n",
       " mean       1.506173\n",
       " std        1.791099\n",
       " min        0.000000\n",
       " 25%        0.000000\n",
       " 50%        1.000000\n",
       " 75%        3.000000\n",
       " max        6.000000\n",
       " Name: Degree, dtype: float64)"
      ]
     },
     "execution_count": 25,
     "metadata": {},
     "output_type": "execute_result"
    }
   ],
   "source": [
    "hainan['Degree'].value_counts(), hainan['Degree'].describe()"
   ]
  },
  {
   "cell_type": "code",
   "execution_count": 32,
   "id": "a7d92011",
   "metadata": {
    "pycharm": {
     "name": "#%%\n"
    }
   },
   "outputs": [
    {
     "data": {
      "text/plain": [
       "(0.6666666666666666, 0.4382716049382716)"
      ]
     },
     "execution_count": 32,
     "metadata": {},
     "output_type": "execute_result"
    }
   ],
   "source": [
    "114/171, 71/162"
   ]
  },
  {
   "cell_type": "code",
   "execution_count": 26,
   "id": "6409d9e9",
   "metadata": {
    "pycharm": {
     "name": "#%%\n"
    }
   },
   "outputs": [
    {
     "data": {
      "text/plain": [
       "43    9\n",
       "83    7\n",
       "48    6\n",
       "96    6\n",
       "61    4\n",
       "31    4\n",
       "75    4\n",
       "47    4\n",
       "53    4\n",
       "76    4\n",
       "52    3\n",
       "46    3\n",
       "28    3\n",
       "45    3\n",
       "68    3\n",
       "27    2\n",
       "37    2\n",
       "38    2\n",
       "51    2\n",
       "58    2\n",
       "65    2\n",
       "24    2\n",
       "72    2\n",
       "63    2\n",
       "3     2\n",
       "69    2\n",
       "8     2\n",
       "Name: modularity_class, dtype: int64"
      ]
     },
     "execution_count": 26,
     "metadata": {},
     "output_type": "execute_result"
    }
   ],
   "source": [
    "hainan['modularity_class'].value_counts().loc[hainan['modularity_class'].value_counts() > 1]"
   ]
  },
  {
   "cell_type": "code",
   "execution_count": 27,
   "id": "36af11b0",
   "metadata": {
    "pycharm": {
     "name": "#%%\n"
    }
   },
   "outputs": [
    {
     "data": {
      "text/plain": [
       "0.0    87\n",
       "1.0    75\n",
       "Name: relatives, dtype: int64"
      ]
     },
     "execution_count": 27,
     "metadata": {},
     "output_type": "execute_result"
    }
   ],
   "source": [
    "hainan[~hainan['relatives'].isnull()]['relatives'].value_counts()"
   ]
  },
  {
   "cell_type": "code",
   "execution_count": 28,
   "id": "18e20d0c",
   "metadata": {
    "pycharm": {
     "name": "#%%\n"
    }
   },
   "outputs": [
    {
     "data": {
      "text/plain": [
       "0.0    84\n",
       "1.0    78\n",
       "Name: Gender, dtype: int64"
      ]
     },
     "execution_count": 28,
     "metadata": {},
     "output_type": "execute_result"
    }
   ],
   "source": [
    "hainan['Gender'].value_counts()"
   ]
  },
  {
   "cell_type": "code",
   "execution_count": 29,
   "id": "2194581f",
   "metadata": {
    "pycharm": {
     "name": "#%%\n"
    }
   },
   "outputs": [
    {
     "data": {
      "text/plain": [
       "count    162.000000\n",
       "mean      48.442901\n",
       "std       17.268708\n",
       "min        0.250000\n",
       "25%       36.000000\n",
       "50%       51.000000\n",
       "75%       62.000000\n",
       "max       79.000000\n",
       "Name: Age, dtype: float64"
      ]
     },
     "execution_count": 29,
     "metadata": {},
     "output_type": "execute_result"
    }
   ],
   "source": [
    "hainan['Age'].describe()"
   ]
  },
  {
   "cell_type": "code",
   "execution_count": 30,
   "id": "3e88c68e",
   "metadata": {
    "pycharm": {
     "name": "#%%\n"
    }
   },
   "outputs": [
    {
     "data": {
      "text/plain": [
       "20200130.0    5\n",
       "20200129.0    3\n",
       "20200126.0    3\n",
       "20200119.0    2\n",
       "20200118.0    2\n",
       "20200121.0    2\n",
       "20200203.0    2\n",
       "20200206.0    1\n",
       "20200125.0    1\n",
       "20200202.0    1\n",
       "20200207.0    1\n",
       "20200205.0    1\n",
       "20200117.0    1\n",
       "20200131.0    1\n",
       "20200116.0    1\n",
       "20200113.0    1\n",
       "20200124.0    1\n",
       "20200123.0    1\n",
       "20200122.0    1\n",
       "20200201.0    1\n",
       "Name: Feverdate, dtype: int64"
      ]
     },
     "execution_count": 30,
     "metadata": {},
     "output_type": "execute_result"
    }
   ],
   "source": [
    "hainan['Feverdate'].value_counts()"
   ]
  },
  {
   "cell_type": "markdown",
   "id": "26a1d018",
   "metadata": {
    "pycharm": {
     "name": "#%% md\n"
    }
   },
   "source": [
    "## Shanxi Dataset"
   ]
  },
  {
   "cell_type": "code",
   "execution_count": 33,
   "id": "59f71e94",
   "metadata": {
    "pycharm": {
     "name": "#%%\n"
    }
   },
   "outputs": [
    {
     "data": {
      "text/html": [
       "<div>\n",
       "<style scoped>\n",
       "    .dataframe tbody tr th:only-of-type {\n",
       "        vertical-align: middle;\n",
       "    }\n",
       "\n",
       "    .dataframe tbody tr th {\n",
       "        vertical-align: top;\n",
       "    }\n",
       "\n",
       "    .dataframe thead th {\n",
       "        text-align: right;\n",
       "    }\n",
       "</style>\n",
       "<table border=\"1\" class=\"dataframe\">\n",
       "  <thead>\n",
       "    <tr style=\"text-align: right;\">\n",
       "      <th></th>\n",
       "      <th>Date</th>\n",
       "      <th>No</th>\n",
       "      <th>Noingroup</th>\n",
       "      <th>Gender</th>\n",
       "      <th>Age</th>\n",
       "      <th>Hukou</th>\n",
       "      <th>Source</th>\n",
       "      <th>Arrivedate</th>\n",
       "      <th>Feverdate</th>\n",
       "      <th>Diagnosedate</th>\n",
       "      <th>...</th>\n",
       "      <th>year2</th>\n",
       "      <th>month2</th>\n",
       "      <th>day2</th>\n",
       "      <th>diagdate</th>\n",
       "      <th>feverdate1</th>\n",
       "      <th>fevertime</th>\n",
       "      <th>diagtime</th>\n",
       "      <th>arrivediagtime</th>\n",
       "      <th>mfever</th>\n",
       "      <th>mdiag</th>\n",
       "    </tr>\n",
       "  </thead>\n",
       "  <tbody>\n",
       "    <tr>\n",
       "      <th>0</th>\n",
       "      <td>20200123</td>\n",
       "      <td>1</td>\n",
       "      <td>1</td>\n",
       "      <td>1</td>\n",
       "      <td>42</td>\n",
       "      <td>xianyang</td>\n",
       "      <td>hubei</td>\n",
       "      <td>20200115.0</td>\n",
       "      <td>20200120.0</td>\n",
       "      <td>20200120.0</td>\n",
       "      <td>...</td>\n",
       "      <td>2020.0</td>\n",
       "      <td>1.0</td>\n",
       "      <td>20.0</td>\n",
       "      <td>2020-01-20</td>\n",
       "      <td>2020-01-20</td>\n",
       "      <td>5.0</td>\n",
       "      <td>0.0</td>\n",
       "      <td>5.0</td>\n",
       "      <td>3.333333</td>\n",
       "      <td>1.666667</td>\n",
       "    </tr>\n",
       "    <tr>\n",
       "      <th>1</th>\n",
       "      <td>20200123</td>\n",
       "      <td>2</td>\n",
       "      <td>2</td>\n",
       "      <td>0</td>\n",
       "      <td>32</td>\n",
       "      <td>xian</td>\n",
       "      <td>hangzhou</td>\n",
       "      <td>20200114.0</td>\n",
       "      <td>20200116.0</td>\n",
       "      <td>20200120.0</td>\n",
       "      <td>...</td>\n",
       "      <td>2020.0</td>\n",
       "      <td>1.0</td>\n",
       "      <td>20.0</td>\n",
       "      <td>2020-01-20</td>\n",
       "      <td>2020-01-16</td>\n",
       "      <td>2.0</td>\n",
       "      <td>4.0</td>\n",
       "      <td>6.0</td>\n",
       "      <td>3.333333</td>\n",
       "      <td>1.666667</td>\n",
       "    </tr>\n",
       "    <tr>\n",
       "      <th>2</th>\n",
       "      <td>20200123</td>\n",
       "      <td>3</td>\n",
       "      <td>3</td>\n",
       "      <td>1</td>\n",
       "      <td>22</td>\n",
       "      <td>xian</td>\n",
       "      <td>hubei</td>\n",
       "      <td>20200117.0</td>\n",
       "      <td>20200120.0</td>\n",
       "      <td>20200121.0</td>\n",
       "      <td>...</td>\n",
       "      <td>2020.0</td>\n",
       "      <td>1.0</td>\n",
       "      <td>21.0</td>\n",
       "      <td>2020-01-21</td>\n",
       "      <td>2020-01-20</td>\n",
       "      <td>3.0</td>\n",
       "      <td>1.0</td>\n",
       "      <td>4.0</td>\n",
       "      <td>3.333333</td>\n",
       "      <td>1.666667</td>\n",
       "    </tr>\n",
       "    <tr>\n",
       "      <th>3</th>\n",
       "      <td>20200124</td>\n",
       "      <td>4</td>\n",
       "      <td>1</td>\n",
       "      <td>1</td>\n",
       "      <td>49</td>\n",
       "      <td>ankang</td>\n",
       "      <td>hubei</td>\n",
       "      <td>20200119.0</td>\n",
       "      <td>20200119.0</td>\n",
       "      <td>20200121.0</td>\n",
       "      <td>...</td>\n",
       "      <td>2020.0</td>\n",
       "      <td>1.0</td>\n",
       "      <td>21.0</td>\n",
       "      <td>2020-01-21</td>\n",
       "      <td>2020-01-19</td>\n",
       "      <td>0.0</td>\n",
       "      <td>2.0</td>\n",
       "      <td>2.0</td>\n",
       "      <td>0.000000</td>\n",
       "      <td>1.000000</td>\n",
       "    </tr>\n",
       "    <tr>\n",
       "      <th>4</th>\n",
       "      <td>20200124</td>\n",
       "      <td>5</td>\n",
       "      <td>2</td>\n",
       "      <td>1</td>\n",
       "      <td>23</td>\n",
       "      <td>yanan</td>\n",
       "      <td>hubei</td>\n",
       "      <td>20200122.0</td>\n",
       "      <td>20200122.0</td>\n",
       "      <td>20200122.0</td>\n",
       "      <td>...</td>\n",
       "      <td>2020.0</td>\n",
       "      <td>1.0</td>\n",
       "      <td>22.0</td>\n",
       "      <td>2020-01-22</td>\n",
       "      <td>2020-01-22</td>\n",
       "      <td>0.0</td>\n",
       "      <td>0.0</td>\n",
       "      <td>0.0</td>\n",
       "      <td>0.000000</td>\n",
       "      <td>1.000000</td>\n",
       "    </tr>\n",
       "    <tr>\n",
       "      <th>...</th>\n",
       "      <td>...</td>\n",
       "      <td>...</td>\n",
       "      <td>...</td>\n",
       "      <td>...</td>\n",
       "      <td>...</td>\n",
       "      <td>...</td>\n",
       "      <td>...</td>\n",
       "      <td>...</td>\n",
       "      <td>...</td>\n",
       "      <td>...</td>\n",
       "      <td>...</td>\n",
       "      <td>...</td>\n",
       "      <td>...</td>\n",
       "      <td>...</td>\n",
       "      <td>...</td>\n",
       "      <td>...</td>\n",
       "      <td>...</td>\n",
       "      <td>...</td>\n",
       "      <td>...</td>\n",
       "      <td>...</td>\n",
       "      <td>...</td>\n",
       "    </tr>\n",
       "    <tr>\n",
       "      <th>232</th>\n",
       "      <td>20200215</td>\n",
       "      <td>233</td>\n",
       "      <td>2</td>\n",
       "      <td>0</td>\n",
       "      <td>67</td>\n",
       "      <td>weinan</td>\n",
       "      <td>weinan</td>\n",
       "      <td>NaN</td>\n",
       "      <td>20200203.0</td>\n",
       "      <td>20200203.0</td>\n",
       "      <td>...</td>\n",
       "      <td>2020.0</td>\n",
       "      <td>2.0</td>\n",
       "      <td>3.0</td>\n",
       "      <td>2020-02-03</td>\n",
       "      <td>2020-02-03</td>\n",
       "      <td>NaN</td>\n",
       "      <td>0.0</td>\n",
       "      <td>NaN</td>\n",
       "      <td>NaN</td>\n",
       "      <td>1.500000</td>\n",
       "    </tr>\n",
       "    <tr>\n",
       "      <th>233</th>\n",
       "      <td>20200216</td>\n",
       "      <td>234</td>\n",
       "      <td>1</td>\n",
       "      <td>1</td>\n",
       "      <td>46</td>\n",
       "      <td>hanzhong</td>\n",
       "      <td>ningbo</td>\n",
       "      <td>20200118.0</td>\n",
       "      <td>20200126.0</td>\n",
       "      <td>20200126.0</td>\n",
       "      <td>...</td>\n",
       "      <td>2020.0</td>\n",
       "      <td>1.0</td>\n",
       "      <td>26.0</td>\n",
       "      <td>2020-01-26</td>\n",
       "      <td>2020-01-26</td>\n",
       "      <td>8.0</td>\n",
       "      <td>0.0</td>\n",
       "      <td>8.0</td>\n",
       "      <td>8.000000</td>\n",
       "      <td>2.000000</td>\n",
       "    </tr>\n",
       "    <tr>\n",
       "      <th>234</th>\n",
       "      <td>20200216</td>\n",
       "      <td>235</td>\n",
       "      <td>2</td>\n",
       "      <td>1</td>\n",
       "      <td>71</td>\n",
       "      <td>hanzhong</td>\n",
       "      <td>hanzhong</td>\n",
       "      <td>NaN</td>\n",
       "      <td>20200131.0</td>\n",
       "      <td>20200204.0</td>\n",
       "      <td>...</td>\n",
       "      <td>2020.0</td>\n",
       "      <td>2.0</td>\n",
       "      <td>4.0</td>\n",
       "      <td>2020-02-04</td>\n",
       "      <td>2020-01-31</td>\n",
       "      <td>NaN</td>\n",
       "      <td>4.0</td>\n",
       "      <td>NaN</td>\n",
       "      <td>8.000000</td>\n",
       "      <td>2.000000</td>\n",
       "    </tr>\n",
       "    <tr>\n",
       "      <th>235</th>\n",
       "      <td>20200216</td>\n",
       "      <td>236</td>\n",
       "      <td>3</td>\n",
       "      <td>0</td>\n",
       "      <td>66</td>\n",
       "      <td>hanzhong</td>\n",
       "      <td>hanzhong</td>\n",
       "      <td>NaN</td>\n",
       "      <td>NaN</td>\n",
       "      <td>20200214.0</td>\n",
       "      <td>...</td>\n",
       "      <td>2020.0</td>\n",
       "      <td>2.0</td>\n",
       "      <td>14.0</td>\n",
       "      <td>2020-02-14</td>\n",
       "      <td>NaT</td>\n",
       "      <td>NaN</td>\n",
       "      <td>NaN</td>\n",
       "      <td>NaN</td>\n",
       "      <td>8.000000</td>\n",
       "      <td>2.000000</td>\n",
       "    </tr>\n",
       "    <tr>\n",
       "      <th>236</th>\n",
       "      <td>20200216</td>\n",
       "      <td>237</td>\n",
       "      <td>4</td>\n",
       "      <td>0</td>\n",
       "      <td>65</td>\n",
       "      <td>hanzhong</td>\n",
       "      <td>hanzhong</td>\n",
       "      <td>NaN</td>\n",
       "      <td>NaN</td>\n",
       "      <td>20200215.0</td>\n",
       "      <td>...</td>\n",
       "      <td>2020.0</td>\n",
       "      <td>2.0</td>\n",
       "      <td>15.0</td>\n",
       "      <td>2020-02-15</td>\n",
       "      <td>NaT</td>\n",
       "      <td>NaN</td>\n",
       "      <td>NaN</td>\n",
       "      <td>NaN</td>\n",
       "      <td>8.000000</td>\n",
       "      <td>2.000000</td>\n",
       "    </tr>\n",
       "  </tbody>\n",
       "</table>\n",
       "<p>237 rows × 63 columns</p>\n",
       "</div>"
      ],
      "text/plain": [
       "         Date   No  Noingroup  Gender  Age     Hukou    Source  Arrivedate  \\\n",
       "0    20200123    1          1       1   42  xianyang     hubei  20200115.0   \n",
       "1    20200123    2          2       0   32      xian  hangzhou  20200114.0   \n",
       "2    20200123    3          3       1   22      xian     hubei  20200117.0   \n",
       "3    20200124    4          1       1   49    ankang     hubei  20200119.0   \n",
       "4    20200124    5          2       1   23     yanan     hubei  20200122.0   \n",
       "..        ...  ...        ...     ...  ...       ...       ...         ...   \n",
       "232  20200215  233          2       0   67    weinan    weinan         NaN   \n",
       "233  20200216  234          1       1   46  hanzhong    ningbo  20200118.0   \n",
       "234  20200216  235          2       1   71  hanzhong  hanzhong         NaN   \n",
       "235  20200216  236          3       0   66  hanzhong  hanzhong         NaN   \n",
       "236  20200216  237          4       0   65  hanzhong  hanzhong         NaN   \n",
       "\n",
       "      Feverdate  Diagnosedate  ...   year2  month2  day2   diagdate  \\\n",
       "0    20200120.0    20200120.0  ...  2020.0     1.0  20.0 2020-01-20   \n",
       "1    20200116.0    20200120.0  ...  2020.0     1.0  20.0 2020-01-20   \n",
       "2    20200120.0    20200121.0  ...  2020.0     1.0  21.0 2020-01-21   \n",
       "3    20200119.0    20200121.0  ...  2020.0     1.0  21.0 2020-01-21   \n",
       "4    20200122.0    20200122.0  ...  2020.0     1.0  22.0 2020-01-22   \n",
       "..          ...           ...  ...     ...     ...   ...        ...   \n",
       "232  20200203.0    20200203.0  ...  2020.0     2.0   3.0 2020-02-03   \n",
       "233  20200126.0    20200126.0  ...  2020.0     1.0  26.0 2020-01-26   \n",
       "234  20200131.0    20200204.0  ...  2020.0     2.0   4.0 2020-02-04   \n",
       "235         NaN    20200214.0  ...  2020.0     2.0  14.0 2020-02-14   \n",
       "236         NaN    20200215.0  ...  2020.0     2.0  15.0 2020-02-15   \n",
       "\n",
       "     feverdate1  fevertime  diagtime  arrivediagtime    mfever     mdiag  \n",
       "0    2020-01-20        5.0       0.0             5.0  3.333333  1.666667  \n",
       "1    2020-01-16        2.0       4.0             6.0  3.333333  1.666667  \n",
       "2    2020-01-20        3.0       1.0             4.0  3.333333  1.666667  \n",
       "3    2020-01-19        0.0       2.0             2.0  0.000000  1.000000  \n",
       "4    2020-01-22        0.0       0.0             0.0  0.000000  1.000000  \n",
       "..          ...        ...       ...             ...       ...       ...  \n",
       "232  2020-02-03        NaN       0.0             NaN       NaN  1.500000  \n",
       "233  2020-01-26        8.0       0.0             8.0  8.000000  2.000000  \n",
       "234  2020-01-31        NaN       4.0             NaN  8.000000  2.000000  \n",
       "235         NaT        NaN       NaN             NaN  8.000000  2.000000  \n",
       "236         NaT        NaN       NaN             NaN  8.000000  2.000000  \n",
       "\n",
       "[237 rows x 63 columns]"
      ]
     },
     "execution_count": 33,
     "metadata": {},
     "output_type": "execute_result"
    }
   ],
   "source": [
    "shanxi = pd.read_stata('./Data/Shanxi/shannxi.dta')\n",
    "shanxi"
   ]
  },
  {
   "cell_type": "code",
   "execution_count": 34,
   "id": "b125be51",
   "metadata": {
    "pycharm": {
     "name": "#%%\n"
    }
   },
   "outputs": [
    {
     "data": {
      "text/plain": [
       "Index(['Date', 'No', 'Noingroup', 'Gender', 'Age', 'Hukou', 'Source',\n",
       "       'Arrivedate', 'Feverdate', 'Diagnosedate', 'Strangers', 'weakties',\n",
       "       'strongties', 'relatives', 'ties1', 'ties2', 'ties3', 'ties4', 'age2',\n",
       "       'source', 'mage', 'tstrangers', 'tweakties', 'tstrongties',\n",
       "       'trelatives', 'Label', 'timeset', 'Degree', 'WeightedDegree',\n",
       "       'Eccentricity', 'closnesscentrality', 'harmonicclosnesscentrality',\n",
       "       'betweenesscentrality', 'Authority', 'Hub', 'modularity_class',\n",
       "       'pageranks', 'componentnumber', 'clustering', 'triangles',\n",
       "       'eigencentrality', '_merge', 'year0', 'month0', 'day0', 'date1', 'year',\n",
       "       'month', 'day', 'year1', 'month1', 'day1', 'arrivedate1', 'year2',\n",
       "       'month2', 'day2', 'diagdate', 'feverdate1', 'fevertime', 'diagtime',\n",
       "       'arrivediagtime', 'mfever', 'mdiag'],\n",
       "      dtype='object')"
      ]
     },
     "execution_count": 34,
     "metadata": {},
     "output_type": "execute_result"
    }
   ],
   "source": [
    "shanxi.columns"
   ]
  },
  {
   "cell_type": "code",
   "execution_count": 29,
   "id": "d9cec548",
   "metadata": {
    "pycharm": {
     "name": "#%%\n"
    }
   },
   "outputs": [
    {
     "name": "stdout",
     "output_type": "stream",
     "text": [
      "<class 'pandas.core.frame.DataFrame'>\n",
      "Int64Index: 237 entries, 0 to 236\n",
      "Data columns (total 63 columns):\n",
      " #   Column                      Non-Null Count  Dtype         \n",
      "---  ------                      --------------  -----         \n",
      " 0   Date                        237 non-null    int32         \n",
      " 1   No                          237 non-null    int16         \n",
      " 2   Noingroup                   237 non-null    int8          \n",
      " 3   Gender                      237 non-null    int8          \n",
      " 4   Age                         237 non-null    int8          \n",
      " 5   Hukou                       237 non-null    object        \n",
      " 6   Source                      237 non-null    object        \n",
      " 7   Arrivedate                  112 non-null    float64       \n",
      " 8   Feverdate                   211 non-null    float64       \n",
      " 9   Diagnosedate                236 non-null    float64       \n",
      " 10  Strangers                   237 non-null    int8          \n",
      " 11  weakties                    237 non-null    int8          \n",
      " 12  strongties                  237 non-null    int8          \n",
      " 13  relatives                   237 non-null    int8          \n",
      " 14  ties1                       95 non-null     float64       \n",
      " 15  ties2                       25 non-null     float64       \n",
      " 16  ties3                       4 non-null      float64       \n",
      " 17  ties4                       1 non-null      float64       \n",
      " 18  age2                        237 non-null    float32       \n",
      " 19  source                      237 non-null    float32       \n",
      " 20  mage                        237 non-null    float32       \n",
      " 21  tstrangers                  237 non-null    float32       \n",
      " 22  tweakties                   237 non-null    float32       \n",
      " 23  tstrongties                 237 non-null    float32       \n",
      " 24  trelatives                  237 non-null    float32       \n",
      " 25  Label                       237 non-null    int16         \n",
      " 26  timeset                     0 non-null      float64       \n",
      " 27  Degree                      237 non-null    int8          \n",
      " 28  WeightedDegree              237 non-null    int8          \n",
      " 29  Eccentricity                237 non-null    int8          \n",
      " 30  closnesscentrality          237 non-null    float64       \n",
      " 31  harmonicclosnesscentrality  237 non-null    float64       \n",
      " 32  betweenesscentrality        237 non-null    float64       \n",
      " 33  Authority                   237 non-null    float64       \n",
      " 34  Hub                         237 non-null    float64       \n",
      " 35  modularity_class            237 non-null    int16         \n",
      " 36  pageranks                   237 non-null    float64       \n",
      " 37  componentnumber             237 non-null    int16         \n",
      " 38  clustering                  237 non-null    float64       \n",
      " 39  triangles                   237 non-null    int8          \n",
      " 40  eigencentrality             237 non-null    float64       \n",
      " 41  _merge                      237 non-null    category      \n",
      " 42  year0                       237 non-null    float32       \n",
      " 43  month0                      237 non-null    float32       \n",
      " 44  day0                        237 non-null    float32       \n",
      " 45  date1                       237 non-null    datetime64[ns]\n",
      " 46  year                        211 non-null    float32       \n",
      " 47  month                       211 non-null    float32       \n",
      " 48  day                         211 non-null    float32       \n",
      " 49  year1                       112 non-null    float32       \n",
      " 50  month1                      112 non-null    float32       \n",
      " 51  day1                        112 non-null    float32       \n",
      " 52  arrivedate1                 112 non-null    datetime64[ns]\n",
      " 53  year2                       236 non-null    float32       \n",
      " 54  month2                      236 non-null    float32       \n",
      " 55  day2                        236 non-null    float32       \n",
      " 56  diagdate                    236 non-null    datetime64[ns]\n",
      " 57  feverdate1                  211 non-null    datetime64[ns]\n",
      " 58  fevertime                   102 non-null    float32       \n",
      " 59  diagtime                    210 non-null    float32       \n",
      " 60  arrivediagtime              111 non-null    float32       \n",
      " 61  mfever                      215 non-null    float32       \n",
      " 62  mdiag                       236 non-null    float32       \n",
      "dtypes: category(1), datetime64[ns](4), float32(24), float64(16), int16(4), int32(1), int8(11), object(2)\n",
      "memory usage: 70.5+ KB\n"
     ]
    }
   ],
   "source": [
    "shanxi.info()"
   ]
  },
  {
   "cell_type": "code",
   "execution_count": 35,
   "id": "93fd2d2a",
   "metadata": {
    "pycharm": {
     "name": "#%%\n"
    }
   },
   "outputs": [
    {
     "data": {
      "text/plain": [
       "(20200123, 20200216)"
      ]
     },
     "execution_count": 35,
     "metadata": {},
     "output_type": "execute_result"
    }
   ],
   "source": [
    "shanxi['Date'].min(), shanxi['Date'].max()"
   ]
  },
  {
   "cell_type": "code",
   "execution_count": 36,
   "id": "a99578fe",
   "metadata": {
    "pycharm": {
     "name": "#%%\n"
    }
   },
   "outputs": [
    {
     "data": {
      "text/plain": [
       "(0     108\n",
       " 1      68\n",
       " 2      36\n",
       " 3      20\n",
       " 4       2\n",
       " 6       1\n",
       " 9       1\n",
       " 11      1\n",
       " Name: Degree, dtype: int64,\n",
       " count    237.000000\n",
       " mean       0.987342\n",
       " std        1.351336\n",
       " min        0.000000\n",
       " 25%        0.000000\n",
       " 50%        1.000000\n",
       " 75%        2.000000\n",
       " max       11.000000\n",
       " Name: Degree, dtype: float64)"
      ]
     },
     "execution_count": 36,
     "metadata": {},
     "output_type": "execute_result"
    }
   ],
   "source": [
    "shanxi['Degree'].value_counts(), shanxi['Degree'].describe()"
   ]
  },
  {
   "cell_type": "code",
   "execution_count": 42,
   "id": "2948691c",
   "metadata": {
    "pycharm": {
     "name": "#%%\n"
    }
   },
   "outputs": [
    {
     "data": {
      "text/plain": [
       "0.45569620253164556"
      ]
     },
     "execution_count": 42,
     "metadata": {},
     "output_type": "execute_result"
    }
   ],
   "source": [
    "108/237"
   ]
  },
  {
   "cell_type": "code",
   "execution_count": 37,
   "id": "abeb5b31",
   "metadata": {
    "pycharm": {
     "name": "#%%\n"
    }
   },
   "outputs": [
    {
     "data": {
      "text/plain": [
       "19     12\n",
       "7       7\n",
       "38      6\n",
       "109     5\n",
       "37      5\n",
       "12      4\n",
       "91      4\n",
       "103     4\n",
       "96      4\n",
       "124     4\n",
       "77      4\n",
       "147     4\n",
       "13      3\n",
       "129     3\n",
       "97      3\n",
       "102     3\n",
       "49      3\n",
       "46      3\n",
       "72      3\n",
       "50      3\n",
       "101     3\n",
       "114     3\n",
       "116     2\n",
       "132     2\n",
       "136     2\n",
       "111     2\n",
       "89      2\n",
       "44      2\n",
       "108     2\n",
       "48      2\n",
       "53      2\n",
       "131     2\n",
       "128     2\n",
       "123     2\n",
       "144     2\n",
       "143     2\n",
       "110     2\n",
       "138     2\n",
       "134     2\n",
       "70      2\n",
       "Name: modularity_class, dtype: int64"
      ]
     },
     "execution_count": 37,
     "metadata": {},
     "output_type": "execute_result"
    }
   ],
   "source": [
    "shanxi['modularity_class'].value_counts().loc[shanxi['modularity_class'].value_counts() > 1]"
   ]
  },
  {
   "cell_type": "code",
   "execution_count": 38,
   "id": "f0306224",
   "metadata": {
    "pycharm": {
     "name": "#%%\n"
    }
   },
   "outputs": [
    {
     "data": {
      "text/plain": [
       "0    150\n",
       "1     87\n",
       "Name: relatives, dtype: int64"
      ]
     },
     "execution_count": 38,
     "metadata": {},
     "output_type": "execute_result"
    }
   ],
   "source": [
    "shanxi[~shanxi['relatives'].isnull()]['relatives'].value_counts()"
   ]
  },
  {
   "cell_type": "code",
   "execution_count": 39,
   "id": "1575f693",
   "metadata": {
    "pycharm": {
     "name": "#%%\n"
    }
   },
   "outputs": [
    {
     "data": {
      "text/plain": [
       "1    129\n",
       "0    108\n",
       "Name: Gender, dtype: int64"
      ]
     },
     "execution_count": 39,
     "metadata": {},
     "output_type": "execute_result"
    }
   ],
   "source": [
    "shanxi['Gender'].value_counts()"
   ]
  },
  {
   "cell_type": "code",
   "execution_count": 44,
   "id": "d739c42a",
   "metadata": {
    "pycharm": {
     "name": "#%%\n"
    }
   },
   "outputs": [
    {
     "data": {
      "text/plain": [
       "0.45569620253164556"
      ]
     },
     "execution_count": 44,
     "metadata": {},
     "output_type": "execute_result"
    }
   ],
   "source": [
    "108/(129+108)"
   ]
  },
  {
   "cell_type": "code",
   "execution_count": 40,
   "id": "dda41c07",
   "metadata": {
    "pycharm": {
     "name": "#%%\n"
    }
   },
   "outputs": [
    {
     "data": {
      "text/plain": [
       "count    237.000000\n",
       "mean      45.898734\n",
       "std       16.581025\n",
       "min        3.000000\n",
       "25%       35.000000\n",
       "50%       45.000000\n",
       "75%       59.000000\n",
       "max       89.000000\n",
       "Name: Age, dtype: float64"
      ]
     },
     "execution_count": 40,
     "metadata": {},
     "output_type": "execute_result"
    }
   ],
   "source": [
    "shanxi['Age'].describe()"
   ]
  },
  {
   "cell_type": "code",
   "execution_count": 41,
   "id": "9ad1d22c",
   "metadata": {
    "pycharm": {
     "name": "#%%\n"
    }
   },
   "outputs": [
    {
     "data": {
      "text/plain": [
       "xian            97\n",
       "ankang          25\n",
       "hanzhong        23\n",
       "wuhan           21\n",
       "baoji           14\n",
       "xianyang        13\n",
       "weinan          11\n",
       "shangluo         6\n",
       "yanan            5\n",
       "tongchuan        4\n",
       "yulin            3\n",
       "suizhou          2\n",
       "tianmen          1\n",
       "yingcheng        1\n",
       "pingdingshan     1\n",
       "yichang          1\n",
       "nanjing          1\n",
       "xiaogan          1\n",
       "lingbao          1\n",
       "shanghai         1\n",
       "lantian          1\n",
       "hancheng         1\n",
       "henan            1\n",
       "dazhi            1\n",
       "yanglin          1\n",
       "Name: Hukou, dtype: int64"
      ]
     },
     "execution_count": 41,
     "metadata": {},
     "output_type": "execute_result"
    }
   ],
   "source": [
    "shanxi['Hukou'].value_counts()"
   ]
  },
  {
   "cell_type": "markdown",
   "id": "e8ab2637",
   "metadata": {
    "pycharm": {
     "name": "#%% md\n"
    }
   },
   "source": [
    "## Big China Dataset"
   ]
  },
  {
   "cell_type": "code",
   "execution_count": 2,
   "id": "3a2b33d9",
   "metadata": {
    "pycharm": {
     "name": "#%%\n"
    }
   },
   "outputs": [],
   "source": [
    "big_dataset = pd.read_csv('../Data/Raw/dataset_EN.csv', encoding_errors='replace')"
   ]
  },
  {
   "cell_type": "code",
   "execution_count": 3,
   "id": "767a02d9",
   "metadata": {
    "pycharm": {
     "name": "#%%\n"
    }
   },
   "outputs": [
    {
     "data": {
      "text/plain": "                        ID Virus type  Age  Gender Occupation  \\\n0           Anhui_Anqing-1        NaN   49    Male        NaN   \n1          Anhui_Anqing-10        NaN   54    Male  Architect   \n2          Anhui_Anqing-11        NaN   50  Female        NaN   \n3          Anhui_Anqing-12        NaN   46    Male     Worker   \n4          Anhui_Anqing-13        NaN   58    Male     Worker   \n...                    ...        ...  ...     ...        ...   \n27199  Zhejiang_Ningbo-256        NaN  NaN  Female        NaN   \n27200  Zhejiang_Ningbo-257        NaN  NaN  Female        NaN   \n27201  Zhejiang_Ningbo-258        NaN  NaN  Female        NaN   \n27202         Chongqing-22        NaN  NaN     NaN        NaN   \n27203         Chongqing-23        NaN  NaN     NaN        NaN   \n\n      Place of Residency   Place of Departure Place of Transit  \\\n0                    NaN          Hubei_Wuhan              NaN   \n1                    NaN  InnerMongolia_Wuhai              NaN   \n2            Hubei_Wuhan          Hubei_Wuhan              NaN   \n3                    NaN       Hubei_Huangshi              NaN   \n4            Hubei_Wuhan          Hubei_Wuhan              NaN   \n...                  ...                  ...              ...   \n27199    Zhejiang-Ningbo                  NaN              NaN   \n27200    Zhejiang-Ningbo                  NaN              NaN   \n27201    Zhejiang-Ningbo                  NaN              NaN   \n27202                NaN            Singapore              NaN   \n27203                NaN            Singapore              NaN   \n\n      Place of Destination Arrival Date  ... Date_Symptom_Onset  \\\n0             Anhui_Anqing    2020/1/19  ...                NaN   \n1             Anhui_Anqing     2020/1/9  ...          2020/1/21   \n2             Anhui_Anqing    2020/1/17  ...          2020/1/18   \n3             Anhui_Anqing    2020/1/21  ...          2020/1/21   \n4             Anhui_Anqing    2020/1/17  ...          2020/1/21   \n...                    ...          ...  ...                ...   \n27199                  NaN          NaN  ...                NaN   \n27200                  NaN          NaN  ...                NaN   \n27201                  NaN          NaN  ...                NaN   \n27202            Chongqing          NaN  ...                NaN   \n27203            Chongqing          NaN  ...                NaN   \n\n      Date_Hospitalisation                              Place_Hospitalisation  \\\n0                      NaN                                                NaN   \n1                2020/1/25  Susong County People's Hospital-Municipal Hosp...   \n2                2020/1/25  Susong County People's Hospital-Municipal Hosp...   \n3                2020/1/22  Susong County People's Hospital-Municipal Hosp...   \n4                2020/1/27  Susong County People's Hospital-Municipal Hosp...   \n...                    ...                                                ...   \n27199                  NaN                                Designated hospital   \n27200                  NaN                                Designated hospital   \n27201                  NaN                                Designated hospital   \n27202                  NaN                                                NaN   \n27203                  NaN                                                NaN   \n\n      Date_Confirmation Date_Disclose  \\\n0             2020/1/26     2020/1/27   \n1             2020/1/28     2020/1/29   \n2             2020/1/28     2020/1/29   \n3             2020/1/28     2020/1/29   \n4             2020/1/28     2020/1/29   \n...                 ...           ...   \n27199               NaN      1/7/2022   \n27200               NaN      1/7/2022   \n27201               NaN      1/7/2022   \n27202          1/7/2022      1/8/2022   \n27203         1/10/2022     1/11/2022   \n\n                                              Symptom Symptom_Severity  \\\n0                                                 NaN              NaN   \n1              Somatosensory Related-Sign Description           Stable   \n2      Respiratory System Related-Symptom Description           Stable   \n3              Somatosensory Related-Sign Description           Stable   \n4                                                 NaN           Stable   \n...                                               ...              ...   \n27199                                             NaN              NaN   \n27200                                             NaN              NaN   \n27201                                             NaN              NaN   \n27202                                             NaN              NaN   \n27203                                             NaN              NaN   \n\n                                        Original_Text_CN  \\\n0      ����1����/49��/��ס������/1��19����������ٳ�վ�˳�...   \n1      ����10����/54��/������/�ں���ʡ���½�����ҵ������1...   \n2      ����11��Ů/50��/������/�������人�~������ס��1��17...   \n3      ����12����/46��/������/�๤,2019��11�µ�����ʡ��ʯ�...   \n4      ����13����/58��/������/�������人�л��������¸ֲļӹ�...   \n...                                                  ...   \n27199  ����31��Фĳĳ��Ů��ȷ�ﲡ����2022��1��1-2�գ���Ҫ��켣�...   \n27200  ����32����ĳĳ��Ů��ȷ�ﲡ����2022��1��1-2�գ���Ҫ��켣...   \n27201  ����33����ĳĳ��Ů��ȷ�ﲡ����2022��1��1-3�գ���Ҫ��켣...   \n27202  1��7��0��24ʱ��������������������֢״��Ⱦ��1�����¼...   \n27203  1��10��0��24ʱ����������������������ȷ�ﲡ��������...   \n\n                                        Original_Text_EN Unnamed: 29  \n0      Case 1: Male, 49 years old, currently living i...         NaN  \n1      Case 10: Male, 54 years old, Susong, working i...         NaN  \n2      Case 11: female, 50 years old, Susong, living ...         NaN  \n3      Case 12: Male, 46 years old, Susong, mason, wo...         NaN  \n4      Case 13: Male, 58 years old, from Susong, enga...         NaN  \n...                                                  ...         ...  \n27199  Case 31: Xiao Moumou, female, confirmed case. ...         NaN  \n27200  Case 32: Song Moumou, female, confirmed case. ...         NaN  \n27201  Case 33: Fu Moumou, female, confirmed case. Fr...         NaN  \n27202  From 0 to 24:00 on January 7, 1 new case of as...         NaN  \n27203  From 0 to 24:00 on January 10, there were no n...         NaN  \n\n[27204 rows x 30 columns]",
      "text/html": "<div>\n<style scoped>\n    .dataframe tbody tr th:only-of-type {\n        vertical-align: middle;\n    }\n\n    .dataframe tbody tr th {\n        vertical-align: top;\n    }\n\n    .dataframe thead th {\n        text-align: right;\n    }\n</style>\n<table border=\"1\" class=\"dataframe\">\n  <thead>\n    <tr style=\"text-align: right;\">\n      <th></th>\n      <th>ID</th>\n      <th>Virus type</th>\n      <th>Age</th>\n      <th>Gender</th>\n      <th>Occupation</th>\n      <th>Place of Residency</th>\n      <th>Place of Departure</th>\n      <th>Place of Transit</th>\n      <th>Place of Destination</th>\n      <th>Arrival Date</th>\n      <th>...</th>\n      <th>Date_Symptom_Onset</th>\n      <th>Date_Hospitalisation</th>\n      <th>Place_Hospitalisation</th>\n      <th>Date_Confirmation</th>\n      <th>Date_Disclose</th>\n      <th>Symptom</th>\n      <th>Symptom_Severity</th>\n      <th>Original_Text_CN</th>\n      <th>Original_Text_EN</th>\n      <th>Unnamed: 29</th>\n    </tr>\n  </thead>\n  <tbody>\n    <tr>\n      <th>0</th>\n      <td>Anhui_Anqing-1</td>\n      <td>NaN</td>\n      <td>49</td>\n      <td>Male</td>\n      <td>NaN</td>\n      <td>NaN</td>\n      <td>Hubei_Wuhan</td>\n      <td>NaN</td>\n      <td>Anhui_Anqing</td>\n      <td>2020/1/19</td>\n      <td>...</td>\n      <td>NaN</td>\n      <td>NaN</td>\n      <td>NaN</td>\n      <td>2020/1/26</td>\n      <td>2020/1/27</td>\n      <td>NaN</td>\n      <td>NaN</td>\n      <td>����1����/49��/��ס������/1��19����������ٳ�վ�˳�...</td>\n      <td>Case 1: Male, 49 years old, currently living i...</td>\n      <td>NaN</td>\n    </tr>\n    <tr>\n      <th>1</th>\n      <td>Anhui_Anqing-10</td>\n      <td>NaN</td>\n      <td>54</td>\n      <td>Male</td>\n      <td>Architect</td>\n      <td>NaN</td>\n      <td>InnerMongolia_Wuhai</td>\n      <td>NaN</td>\n      <td>Anhui_Anqing</td>\n      <td>2020/1/9</td>\n      <td>...</td>\n      <td>2020/1/21</td>\n      <td>2020/1/25</td>\n      <td>Susong County People's Hospital-Municipal Hosp...</td>\n      <td>2020/1/28</td>\n      <td>2020/1/29</td>\n      <td>Somatosensory Related-Sign Description</td>\n      <td>Stable</td>\n      <td>����10����/54��/������/�ں���ʡ���½�����ҵ������1...</td>\n      <td>Case 10: Male, 54 years old, Susong, working i...</td>\n      <td>NaN</td>\n    </tr>\n    <tr>\n      <th>2</th>\n      <td>Anhui_Anqing-11</td>\n      <td>NaN</td>\n      <td>50</td>\n      <td>Female</td>\n      <td>NaN</td>\n      <td>Hubei_Wuhan</td>\n      <td>Hubei_Wuhan</td>\n      <td>NaN</td>\n      <td>Anhui_Anqing</td>\n      <td>2020/1/17</td>\n      <td>...</td>\n      <td>2020/1/18</td>\n      <td>2020/1/25</td>\n      <td>Susong County People's Hospital-Municipal Hosp...</td>\n      <td>2020/1/28</td>\n      <td>2020/1/29</td>\n      <td>Respiratory System Related-Symptom Description</td>\n      <td>Stable</td>\n      <td>����11��Ů/50��/������/�������人�~������ס��1��17...</td>\n      <td>Case 11: female, 50 years old, Susong, living ...</td>\n      <td>NaN</td>\n    </tr>\n    <tr>\n      <th>3</th>\n      <td>Anhui_Anqing-12</td>\n      <td>NaN</td>\n      <td>46</td>\n      <td>Male</td>\n      <td>Worker</td>\n      <td>NaN</td>\n      <td>Hubei_Huangshi</td>\n      <td>NaN</td>\n      <td>Anhui_Anqing</td>\n      <td>2020/1/21</td>\n      <td>...</td>\n      <td>2020/1/21</td>\n      <td>2020/1/22</td>\n      <td>Susong County People's Hospital-Municipal Hosp...</td>\n      <td>2020/1/28</td>\n      <td>2020/1/29</td>\n      <td>Somatosensory Related-Sign Description</td>\n      <td>Stable</td>\n      <td>����12����/46��/������/�๤,2019��11�µ�����ʡ��ʯ�...</td>\n      <td>Case 12: Male, 46 years old, Susong, mason, wo...</td>\n      <td>NaN</td>\n    </tr>\n    <tr>\n      <th>4</th>\n      <td>Anhui_Anqing-13</td>\n      <td>NaN</td>\n      <td>58</td>\n      <td>Male</td>\n      <td>Worker</td>\n      <td>Hubei_Wuhan</td>\n      <td>Hubei_Wuhan</td>\n      <td>NaN</td>\n      <td>Anhui_Anqing</td>\n      <td>2020/1/17</td>\n      <td>...</td>\n      <td>2020/1/21</td>\n      <td>2020/1/27</td>\n      <td>Susong County People's Hospital-Municipal Hosp...</td>\n      <td>2020/1/28</td>\n      <td>2020/1/29</td>\n      <td>NaN</td>\n      <td>Stable</td>\n      <td>����13����/58��/������/�������人�л��������¸ֲļӹ�...</td>\n      <td>Case 13: Male, 58 years old, from Susong, enga...</td>\n      <td>NaN</td>\n    </tr>\n    <tr>\n      <th>...</th>\n      <td>...</td>\n      <td>...</td>\n      <td>...</td>\n      <td>...</td>\n      <td>...</td>\n      <td>...</td>\n      <td>...</td>\n      <td>...</td>\n      <td>...</td>\n      <td>...</td>\n      <td>...</td>\n      <td>...</td>\n      <td>...</td>\n      <td>...</td>\n      <td>...</td>\n      <td>...</td>\n      <td>...</td>\n      <td>...</td>\n      <td>...</td>\n      <td>...</td>\n      <td>...</td>\n    </tr>\n    <tr>\n      <th>27199</th>\n      <td>Zhejiang_Ningbo-256</td>\n      <td>NaN</td>\n      <td>NaN</td>\n      <td>Female</td>\n      <td>NaN</td>\n      <td>Zhejiang-Ningbo</td>\n      <td>NaN</td>\n      <td>NaN</td>\n      <td>NaN</td>\n      <td>NaN</td>\n      <td>...</td>\n      <td>NaN</td>\n      <td>NaN</td>\n      <td>Designated hospital</td>\n      <td>NaN</td>\n      <td>1/7/2022</td>\n      <td>NaN</td>\n      <td>NaN</td>\n      <td>����31��Фĳĳ��Ů��ȷ�ﲡ����2022��1��1-2�գ���Ҫ��켣�...</td>\n      <td>Case 31: Xiao Moumou, female, confirmed case. ...</td>\n      <td>NaN</td>\n    </tr>\n    <tr>\n      <th>27200</th>\n      <td>Zhejiang_Ningbo-257</td>\n      <td>NaN</td>\n      <td>NaN</td>\n      <td>Female</td>\n      <td>NaN</td>\n      <td>Zhejiang-Ningbo</td>\n      <td>NaN</td>\n      <td>NaN</td>\n      <td>NaN</td>\n      <td>NaN</td>\n      <td>...</td>\n      <td>NaN</td>\n      <td>NaN</td>\n      <td>Designated hospital</td>\n      <td>NaN</td>\n      <td>1/7/2022</td>\n      <td>NaN</td>\n      <td>NaN</td>\n      <td>����32����ĳĳ��Ů��ȷ�ﲡ����2022��1��1-2�գ���Ҫ��켣...</td>\n      <td>Case 32: Song Moumou, female, confirmed case. ...</td>\n      <td>NaN</td>\n    </tr>\n    <tr>\n      <th>27201</th>\n      <td>Zhejiang_Ningbo-258</td>\n      <td>NaN</td>\n      <td>NaN</td>\n      <td>Female</td>\n      <td>NaN</td>\n      <td>Zhejiang-Ningbo</td>\n      <td>NaN</td>\n      <td>NaN</td>\n      <td>NaN</td>\n      <td>NaN</td>\n      <td>...</td>\n      <td>NaN</td>\n      <td>NaN</td>\n      <td>Designated hospital</td>\n      <td>NaN</td>\n      <td>1/7/2022</td>\n      <td>NaN</td>\n      <td>NaN</td>\n      <td>����33����ĳĳ��Ů��ȷ�ﲡ����2022��1��1-3�գ���Ҫ��켣...</td>\n      <td>Case 33: Fu Moumou, female, confirmed case. Fr...</td>\n      <td>NaN</td>\n    </tr>\n    <tr>\n      <th>27202</th>\n      <td>Chongqing-22</td>\n      <td>NaN</td>\n      <td>NaN</td>\n      <td>NaN</td>\n      <td>NaN</td>\n      <td>NaN</td>\n      <td>Singapore</td>\n      <td>NaN</td>\n      <td>Chongqing</td>\n      <td>NaN</td>\n      <td>...</td>\n      <td>NaN</td>\n      <td>NaN</td>\n      <td>NaN</td>\n      <td>1/7/2022</td>\n      <td>1/8/2022</td>\n      <td>NaN</td>\n      <td>NaN</td>\n      <td>1��7��0��24ʱ��������������������֢״��Ⱦ��1�����¼...</td>\n      <td>From 0 to 24:00 on January 7, 1 new case of as...</td>\n      <td>NaN</td>\n    </tr>\n    <tr>\n      <th>27203</th>\n      <td>Chongqing-23</td>\n      <td>NaN</td>\n      <td>NaN</td>\n      <td>NaN</td>\n      <td>NaN</td>\n      <td>NaN</td>\n      <td>Singapore</td>\n      <td>NaN</td>\n      <td>Chongqing</td>\n      <td>NaN</td>\n      <td>...</td>\n      <td>NaN</td>\n      <td>NaN</td>\n      <td>NaN</td>\n      <td>1/10/2022</td>\n      <td>1/11/2022</td>\n      <td>NaN</td>\n      <td>NaN</td>\n      <td>1��10��0��24ʱ����������������������ȷ�ﲡ��������...</td>\n      <td>From 0 to 24:00 on January 10, there were no n...</td>\n      <td>NaN</td>\n    </tr>\n  </tbody>\n</table>\n<p>27204 rows × 30 columns</p>\n</div>"
     },
     "execution_count": 3,
     "metadata": {},
     "output_type": "execute_result"
    }
   ],
   "source": [
    "big_dataset"
   ]
  },
  {
   "cell_type": "code",
   "execution_count": 4,
   "id": "de529f95",
   "metadata": {
    "pycharm": {
     "name": "#%%\n"
    }
   },
   "outputs": [
    {
     "data": {
      "text/plain": "Index(['ID', 'Virus type', 'Age', 'Gender', 'Occupation', 'Place of Residency',\n       'Place of Departure', 'Place of Transit', 'Place of Destination',\n       'Arrival Date', 'Earliest Possible Date', 'Latest Possible Date',\n       'Place and Event', 'Venue', 'With Whom', 'Contact_ID_Relationship',\n       'Place_Admission', 'Method_Discovery', 'Date_Quarantine',\n       'Place_Quarantine', 'Date_Symptom_Onset', 'Date_Hospitalisation',\n       'Place_Hospitalisation', 'Date_Confirmation', 'Date_Disclose',\n       'Symptom', 'Symptom_Severity', 'Original_Text_CN', 'Original_Text_EN',\n       'Unnamed: 29'],\n      dtype='object')"
     },
     "execution_count": 4,
     "metadata": {},
     "output_type": "execute_result"
    }
   ],
   "source": [
    "big_dataset.columns"
   ]
  },
  {
   "cell_type": "markdown",
   "id": "f5e3b0f0",
   "metadata": {
    "pycharm": {
     "name": "#%% md\n"
    }
   },
   "source": [
    "### Filter for entries with contact information (actually, this is stupid)"
   ]
  },
  {
   "cell_type": "code",
   "execution_count": 5,
   "id": "ad070fb6",
   "metadata": {
    "pycharm": {
     "name": "#%%\n"
    }
   },
   "outputs": [],
   "source": [
    "#cases_with_contact_info = big_dataset[~big_dataset['Contact_ID_Relationship'].isnull()]\n",
    "#cases_with_contact_info.describe()\n",
    "cases_with_contact_info = big_dataset"
   ]
  },
  {
   "cell_type": "code",
   "execution_count": 6,
   "id": "373df029",
   "metadata": {
    "pycharm": {
     "name": "#%%\n"
    }
   },
   "outputs": [
    {
     "name": "stdout",
     "output_type": "stream",
     "text": [
      "<class 'pandas.core.frame.DataFrame'>\n",
      "RangeIndex: 27204 entries, 0 to 27203\n",
      "Data columns (total 30 columns):\n",
      " #   Column                   Non-Null Count  Dtype \n",
      "---  ------                   --------------  ----- \n",
      " 0   ID                       27204 non-null  object\n",
      " 1   Virus type               601 non-null    object\n",
      " 2   Age                      20306 non-null  object\n",
      " 3   Gender                   20894 non-null  object\n",
      " 4   Occupation               4129 non-null   object\n",
      " 5   Place of Residency       17557 non-null  object\n",
      " 6   Place of Departure       14177 non-null  object\n",
      " 7   Place of Transit         3950 non-null   object\n",
      " 8   Place of Destination     14329 non-null  object\n",
      " 9   Arrival Date             13239 non-null  object\n",
      " 10  Earliest Possible Date   3432 non-null   object\n",
      " 11  Latest Possible Date     7654 non-null   object\n",
      " 12  Place and Event          8697 non-null   object\n",
      " 13  Venue                    5156 non-null   object\n",
      " 14  With Whom                6370 non-null   object\n",
      " 15  Contact_ID_Relationship  5716 non-null   object\n",
      " 16  Place_Admission          27057 non-null  object\n",
      " 17  Method_Discovery         21353 non-null  object\n",
      " 18  Date_Quarantine          14205 non-null  object\n",
      " 19  Place_Quarantine         15739 non-null  object\n",
      " 20  Date_Symptom_Onset       7881 non-null   object\n",
      " 21  Date_Hospitalisation     8974 non-null   object\n",
      " 22  Place_Hospitalisation    15925 non-null  object\n",
      " 23  Date_Confirmation        23144 non-null  object\n",
      " 24  Date_Disclose            27203 non-null  object\n",
      " 25  Symptom                  6237 non-null   object\n",
      " 26  Symptom_Severity         7565 non-null   object\n",
      " 27  Original_Text_CN         26641 non-null  object\n",
      " 28  Original_Text_EN         24764 non-null  object\n",
      " 29  Unnamed: 29              193 non-null    object\n",
      "dtypes: object(30)\n",
      "memory usage: 6.2+ MB\n"
     ]
    }
   ],
   "source": [
    "cases_with_contact_info.info()"
   ]
  },
  {
   "cell_type": "code",
   "execution_count": 7,
   "id": "87cf7eb4",
   "metadata": {
    "pycharm": {
     "name": "#%%\n"
    }
   },
   "outputs": [
    {
     "data": {
      "text/html": [
       "<div>\n",
       "<style scoped>\n",
       "    .dataframe tbody tr th:only-of-type {\n",
       "        vertical-align: middle;\n",
       "    }\n",
       "\n",
       "    .dataframe tbody tr th {\n",
       "        vertical-align: top;\n",
       "    }\n",
       "\n",
       "    .dataframe thead th {\n",
       "        text-align: right;\n",
       "    }\n",
       "</style>\n",
       "<table border=\"1\" class=\"dataframe\">\n",
       "  <thead>\n",
       "    <tr style=\"text-align: right;\">\n",
       "      <th></th>\n",
       "      <th>Contact_ID_Relationship</th>\n",
       "      <th>Virus type</th>\n",
       "      <th>Occupation</th>\n",
       "      <th>Place of Residency</th>\n",
       "      <th>Place and Event</th>\n",
       "      <th>Venue</th>\n",
       "      <th>With Whom</th>\n",
       "      <th>Symptom</th>\n",
       "      <th>Symptom_Severity</th>\n",
       "    </tr>\n",
       "  </thead>\n",
       "  <tbody>\n",
       "    <tr>\n",
       "      <th>1</th>\n",
       "      <td>anqing-14 (wife) anqing-10 (husband)</td>\n",
       "      <td>NaN</td>\n",
       "      <td>Architect</td>\n",
       "      <td>NaN</td>\n",
       "      <td>Hainan Work</td>\n",
       "      <td>NaN</td>\n",
       "      <td>NaN</td>\n",
       "      <td>Somatosensory Related-Sign Description</td>\n",
       "      <td>Stable</td>\n",
       "    </tr>\n",
       "    <tr>\n",
       "      <th>5</th>\n",
       "      <td>anqing-14 (wife) anqing-10 (husband)</td>\n",
       "      <td>NaN</td>\n",
       "      <td>NaN</td>\n",
       "      <td>NaN</td>\n",
       "      <td>NaN</td>\n",
       "      <td>NaN</td>\n",
       "      <td>NaN</td>\n",
       "      <td>Respiratory System Related-Symptom Description</td>\n",
       "      <td>Stable</td>\n",
       "    </tr>\n",
       "    <tr>\n",
       "      <th>11</th>\n",
       "      <td>anqing-2 (father) &amp; anqing-9 (son)</td>\n",
       "      <td>NaN</td>\n",
       "      <td>NaN</td>\n",
       "      <td>NaN</td>\n",
       "      <td>Wuhan Travel</td>\n",
       "      <td>NaN</td>\n",
       "      <td>NaN</td>\n",
       "      <td>NaN</td>\n",
       "      <td>NaN</td>\n",
       "    </tr>\n",
       "    <tr>\n",
       "      <th>13</th>\n",
       "      <td>anqing-21 (son) &amp; anqing-22 (mother) &amp; anqing-...</td>\n",
       "      <td>NaN</td>\n",
       "      <td>Seller</td>\n",
       "      <td>Hubei_Wuhan</td>\n",
       "      <td>Work In Wuhan</td>\n",
       "      <td>NaN</td>\n",
       "      <td>NaN</td>\n",
       "      <td>Somatosensory Related-Sign Description</td>\n",
       "      <td>Stable</td>\n",
       "    </tr>\n",
       "    <tr>\n",
       "      <th>14</th>\n",
       "      <td>anqing-21 (son) &amp; anqing-22 (mother) &amp; anqing-...</td>\n",
       "      <td>NaN</td>\n",
       "      <td>NaN</td>\n",
       "      <td>NaN</td>\n",
       "      <td>NaN</td>\n",
       "      <td>Family</td>\n",
       "      <td>Family member</td>\n",
       "      <td>Somatosensory Related-Symptom Description/Soma...</td>\n",
       "      <td>Stable</td>\n",
       "    </tr>\n",
       "    <tr>\n",
       "      <th>...</th>\n",
       "      <td>...</td>\n",
       "      <td>...</td>\n",
       "      <td>...</td>\n",
       "      <td>...</td>\n",
       "      <td>...</td>\n",
       "      <td>...</td>\n",
       "      <td>...</td>\n",
       "      <td>...</td>\n",
       "      <td>...</td>\n",
       "    </tr>\n",
       "    <tr>\n",
       "      <th>27012</th>\n",
       "      <td>Tianjin-833 (confirmed cases) &amp; Tianjin-854 (c...</td>\n",
       "      <td>NaN</td>\n",
       "      <td>ѧ��</td>\n",
       "      <td>NaN</td>\n",
       "      <td>NaN</td>\n",
       "      <td>NaN</td>\n",
       "      <td>confirmed cases</td>\n",
       "      <td>NaN</td>\n",
       "      <td>NaN</td>\n",
       "    </tr>\n",
       "    <tr>\n",
       "      <th>27013</th>\n",
       "      <td>Tianjin-833 (confirmed cases) &amp; Tianjin-855 (c...</td>\n",
       "      <td>NaN</td>\n",
       "      <td>ѧ��</td>\n",
       "      <td>NaN</td>\n",
       "      <td>NaN</td>\n",
       "      <td>NaN</td>\n",
       "      <td>confirmed cases</td>\n",
       "      <td>NaN</td>\n",
       "      <td>NaN</td>\n",
       "    </tr>\n",
       "    <tr>\n",
       "      <th>27014</th>\n",
       "      <td>Tianjin-833 (confirmed cases) &amp; Tianjin-856 (c...</td>\n",
       "      <td>NaN</td>\n",
       "      <td>ѧ��</td>\n",
       "      <td>NaN</td>\n",
       "      <td>NaN</td>\n",
       "      <td>NaN</td>\n",
       "      <td>confirmed cases</td>\n",
       "      <td>NaN</td>\n",
       "      <td>NaN</td>\n",
       "    </tr>\n",
       "    <tr>\n",
       "      <th>27015</th>\n",
       "      <td>Tianjin-833 (confirmed cases) &amp; Tianjin-857 (c...</td>\n",
       "      <td>NaN</td>\n",
       "      <td>ѧ��</td>\n",
       "      <td>NaN</td>\n",
       "      <td>NaN</td>\n",
       "      <td>NaN</td>\n",
       "      <td>confirmed cases</td>\n",
       "      <td>NaN</td>\n",
       "      <td>NaN</td>\n",
       "    </tr>\n",
       "    <tr>\n",
       "      <th>27016</th>\n",
       "      <td>Tianjin-833 (confirmed cases) &amp; Tianjin-858 (c...</td>\n",
       "      <td>NaN</td>\n",
       "      <td>ѧ��</td>\n",
       "      <td>NaN</td>\n",
       "      <td>NaN</td>\n",
       "      <td>NaN</td>\n",
       "      <td>confirmed cases</td>\n",
       "      <td>NaN</td>\n",
       "      <td>NaN</td>\n",
       "    </tr>\n",
       "  </tbody>\n",
       "</table>\n",
       "<p>5716 rows × 9 columns</p>\n",
       "</div>"
      ],
      "text/plain": [
       "                                 Contact_ID_Relationship Virus type  \\\n",
       "1                   anqing-14 (wife) anqing-10 (husband)        NaN   \n",
       "5                   anqing-14 (wife) anqing-10 (husband)        NaN   \n",
       "11                    anqing-2 (father) & anqing-9 (son)        NaN   \n",
       "13     anqing-21 (son) & anqing-22 (mother) & anqing-...        NaN   \n",
       "14     anqing-21 (son) & anqing-22 (mother) & anqing-...        NaN   \n",
       "...                                                  ...        ...   \n",
       "27012  Tianjin-833 (confirmed cases) & Tianjin-854 (c...        NaN   \n",
       "27013  Tianjin-833 (confirmed cases) & Tianjin-855 (c...        NaN   \n",
       "27014  Tianjin-833 (confirmed cases) & Tianjin-856 (c...        NaN   \n",
       "27015  Tianjin-833 (confirmed cases) & Tianjin-857 (c...        NaN   \n",
       "27016  Tianjin-833 (confirmed cases) & Tianjin-858 (c...        NaN   \n",
       "\n",
       "      Occupation Place of Residency Place and Event   Venue        With Whom  \\\n",
       "1      Architect                NaN     Hainan Work     NaN              NaN   \n",
       "5            NaN                NaN             NaN     NaN              NaN   \n",
       "11           NaN                NaN    Wuhan Travel     NaN              NaN   \n",
       "13        Seller        Hubei_Wuhan   Work In Wuhan     NaN              NaN   \n",
       "14           NaN                NaN             NaN  Family    Family member   \n",
       "...          ...                ...             ...     ...              ...   \n",
       "27012        ѧ��                NaN             NaN     NaN  confirmed cases   \n",
       "27013        ѧ��                NaN             NaN     NaN  confirmed cases   \n",
       "27014        ѧ��                NaN             NaN     NaN  confirmed cases   \n",
       "27015        ѧ��                NaN             NaN     NaN  confirmed cases   \n",
       "27016        ѧ��                NaN             NaN     NaN  confirmed cases   \n",
       "\n",
       "                                                 Symptom Symptom_Severity  \n",
       "1                 Somatosensory Related-Sign Description           Stable  \n",
       "5         Respiratory System Related-Symptom Description           Stable  \n",
       "11                                                   NaN              NaN  \n",
       "13                Somatosensory Related-Sign Description           Stable  \n",
       "14     Somatosensory Related-Symptom Description/Soma...           Stable  \n",
       "...                                                  ...              ...  \n",
       "27012                                                NaN              NaN  \n",
       "27013                                                NaN              NaN  \n",
       "27014                                                NaN              NaN  \n",
       "27015                                                NaN              NaN  \n",
       "27016                                                NaN              NaN  \n",
       "\n",
       "[5716 rows x 9 columns]"
      ]
     },
     "execution_count": 7,
     "metadata": {},
     "output_type": "execute_result"
    }
   ],
   "source": [
    "cases_with_contact_info[['Contact_ID_Relationship', 'Virus type', 'Occupation', 'Place of Residency', 'Place and Event', 'Venue', 'With Whom', 'Symptom', 'Symptom_Severity']]"
   ]
  },
  {
   "cell_type": "code",
   "execution_count": 54,
   "id": "f6ba4fe4",
   "metadata": {
    "pycharm": {
     "name": "#%%\n"
    }
   },
   "outputs": [
    {
     "name": "stdout",
     "output_type": "stream",
     "text": [
      "27204\n",
      "27198\n"
     ]
    }
   ],
   "source": [
    "cases_with_contact_info['Date_Disclose'] = pd.to_datetime(cases_with_contact_info['Date_Disclose'], infer_datetime_format=True, errors='coerce')\n",
    "print(cases_with_contact_info.shape[0])\n",
    "cases_with_contact_info = cases_with_contact_info[~cases_with_contact_info['Date_Disclose'].isnull()]\n",
    "print(cases_with_contact_info.shape[0])"
   ]
  },
  {
   "cell_type": "code",
   "execution_count": 55,
   "id": "e75226a0",
   "metadata": {
    "pycharm": {
     "name": "#%%\n"
    }
   },
   "outputs": [
    {
     "name": "stdout",
     "output_type": "stream",
     "text": [
      "26961\n"
     ]
    },
    {
     "name": "stderr",
     "output_type": "stream",
     "text": [
      "C:\\Users\\simon\\AppData\\Local\\Temp\\ipykernel_11220\\4274336409.py:1: SettingWithCopyWarning: \n",
      "A value is trying to be set on a copy of a slice from a DataFrame\n",
      "\n",
      "See the caveats in the documentation: https://pandas.pydata.org/pandas-docs/stable/user_guide/indexing.html#returning-a-view-versus-a-copy\n",
      "  cases_with_contact_info.drop(cases_with_contact_info['Date_Disclose'][cases_with_contact_info['Date_Disclose'] > pd.to_datetime('2022/12/01')].index, inplace=True)\n"
     ]
    }
   ],
   "source": [
    "cases_with_contact_info.drop(cases_with_contact_info['Date_Disclose'][cases_with_contact_info['Date_Disclose'] > pd.to_datetime('2022/12/01')].index, inplace=True)\n",
    "print(cases_with_contact_info.shape[0])"
   ]
  },
  {
   "cell_type": "code",
   "execution_count": 56,
   "id": "6c4a2cee",
   "metadata": {
    "pycharm": {
     "name": "#%%\n"
    }
   },
   "outputs": [
    {
     "data": {
      "text/plain": [
       "(Timestamp('2022-08-14 00:00:00'), Timestamp('2020-01-01 00:00:00'))"
      ]
     },
     "execution_count": 56,
     "metadata": {},
     "output_type": "execute_result"
    }
   ],
   "source": [
    "cases_with_contact_info['Date_Disclose'].max(), cases_with_contact_info['Date_Disclose'].min()"
   ]
  },
  {
   "cell_type": "code",
   "execution_count": 57,
   "id": "06b8d0c1",
   "metadata": {
    "pycharm": {
     "name": "#%%\n"
    }
   },
   "outputs": [
    {
     "data": {
      "text/plain": [
       "count    20046.000000\n",
       "mean        41.745560\n",
       "std         18.026487\n",
       "min          0.000000\n",
       "25%         30.000000\n",
       "50%         41.000000\n",
       "75%         54.000000\n",
       "max        644.000000\n",
       "Name: Age, dtype: float64"
      ]
     },
     "execution_count": 57,
     "metadata": {},
     "output_type": "execute_result"
    }
   ],
   "source": [
    "pd.to_numeric(cases_with_contact_info['Age'], errors='coerce').dropna().describe()"
   ]
  },
  {
   "cell_type": "code",
   "execution_count": 58,
   "id": "92e0c357",
   "metadata": {
    "pycharm": {
     "name": "#%%\n"
    }
   },
   "outputs": [
    {
     "data": {
      "text/plain": [
       "Male       9581\n",
       "Female     9108\n",
       "male       1515\n",
       "Man         277\n",
       "Female       59\n",
       "female       46\n",
       "Male         33\n",
       "NA           17\n",
       "Man           6\n",
       " Female       5\n",
       "��            4\n",
       "Ů             1\n",
       "56            1\n",
       " Male         1\n",
       " male         1\n",
       "student       1\n",
       "Name: Gender, dtype: int64"
      ]
     },
     "execution_count": 58,
     "metadata": {},
     "output_type": "execute_result"
    }
   ],
   "source": [
    "cases_with_contact_info['Gender'].value_counts()"
   ]
  },
  {
   "cell_type": "code",
   "execution_count": 59,
   "id": "01755182",
   "metadata": {
    "pycharm": {
     "name": "#%%\n"
    }
   },
   "outputs": [
    {
     "data": {
      "text/plain": [
       "Student                  970\n",
       "Worker                   548\n",
       "NA                       471\n",
       "Employee                 326\n",
       "Unemployed               126\n",
       "                        ... \n",
       "Fenggang Office Staff      1\n",
       "Clinic To Work             1\n",
       "Kindergarten Teacher       1\n",
       "welders                    1\n",
       "Barber                     1\n",
       "Name: Occupation, Length: 361, dtype: int64"
      ]
     },
     "execution_count": 59,
     "metadata": {},
     "output_type": "execute_result"
    }
   ],
   "source": [
    "cases_with_contact_info['Occupation'].value_counts()"
   ]
  },
  {
   "cell_type": "code",
   "execution_count": 60,
   "id": "7909b430",
   "metadata": {
    "pycharm": {
     "name": "#%%\n"
    }
   },
   "outputs": [
    {
     "data": {
      "text/plain": [
       "Shaanxi_Xi'an               1984\n",
       "Hubei_Wuhan                 1715\n",
       "Hebei_Shijiazhuang           888\n",
       "Inner Mongolia_Hulunbuir     547\n",
       "Henan_Xuchang                367\n",
       "                            ... \n",
       "Hubei_Chibi                    1\n",
       "Fiji                           1\n",
       "Inner Mongolia-Ordos           1\n",
       "Hubei_Zaoyang                  1\n",
       "Shenzhen_Futian                1\n",
       "Name: Place of Residency, Length: 812, dtype: int64"
      ]
     },
     "execution_count": 60,
     "metadata": {},
     "output_type": "execute_result"
    }
   ],
   "source": [
    "cases_with_contact_info['Place of Residency'].value_counts()"
   ]
  },
  {
   "cell_type": "code",
   "execution_count": 61,
   "id": "f4903a61",
   "metadata": {
    "pycharm": {
     "name": "#%%\n"
    }
   },
   "outputs": [
    {
     "data": {
      "text/plain": [
       "Delta      462\n",
       "Omicron    139\n",
       "Name: Virus type, dtype: int64"
      ]
     },
     "execution_count": 61,
     "metadata": {},
     "output_type": "execute_result"
    }
   ],
   "source": [
    "cases_with_contact_info['Virus type'].value_counts()"
   ]
  },
  {
   "cell_type": "code",
   "execution_count": 62,
   "id": "aac1e4eb",
   "metadata": {
    "pycharm": {
     "name": "#%%\n"
    }
   },
   "outputs": [
    {
     "data": {
      "text/plain": [
       "NA                                                                       754\n",
       "Wuhan Travel                                                             635\n",
       "Dinner                                                                   359\n",
       "Wuhan Residence                                                          337\n",
       "Work In Wuhan                                                            266\n",
       "                                                                        ... \n",
       "Zhengzhou play/school                                                      1\n",
       "Zhengzhou shopping/dining/seeing a doctor/refueling/exercise/tutoring      1\n",
       "Zhengzhou play/school/dining/seeing                                        1\n",
       "Zhengzhou on duty                                                          1\n",
       "shopping/travel/dining                                                     1\n",
       "Name: Place and Event, Length: 1958, dtype: int64"
      ]
     },
     "execution_count": 62,
     "metadata": {},
     "output_type": "execute_result"
    }
   ],
   "source": [
    "cases_with_contact_info['Place and Event'].value_counts()"
   ]
  },
  {
   "cell_type": "code",
   "execution_count": 63,
   "id": "9022b16b",
   "metadata": {
    "pycharm": {
     "name": "#%%\n"
    }
   },
   "outputs": [
    {
     "data": {
      "text/plain": [
       "NA                                                   940\n",
       "Family                                               938\n",
       "Outdoor                                              791\n",
       "Social place                                         503\n",
       "Indoor                                               382\n",
       "                                                    ... \n",
       "restaurant/factory                                     1\n",
       "Hotel/chess room                                       1\n",
       "Sanitary / Bath Center / Supermarket / Restaurant      1\n",
       "Public places/shopping malls/hospitals                 1\n",
       "market                                                 1\n",
       "Name: Venue, Length: 110, dtype: int64"
      ]
     },
     "execution_count": 63,
     "metadata": {},
     "output_type": "execute_result"
    }
   ],
   "source": [
    "cases_with_contact_info['Venue'].value_counts()"
   ]
  },
  {
   "cell_type": "code",
   "execution_count": 64,
   "id": "a32af435",
   "metadata": {
    "pycharm": {
     "name": "#%%\n"
    }
   },
   "outputs": [
    {
     "data": {
      "text/plain": [
       "Confirmed case                                                                                         2266\n",
       "Family member                                                                                          2060\n",
       "confirmed cases                                                                                         780\n",
       "NA                                                                                                      297\n",
       "Confirmed cases                                                                                         172\n",
       "Wuhan personnel                                                                                         107\n",
       "family                                                                                                   95\n",
       "Colleague                                                                                                94\n",
       "Returnee from Wuhan                                                                                      78\n",
       "Family                                                                                                   68\n",
       "Confirmed case                                                                                           38\n",
       "Friend                                                                                                   37\n",
       "Hubei personnel                                                                                          25\n",
       "Suspected case                                                                                           21\n",
       "confirmed case                                                                                           18\n",
       "Close contacts                                                                                           11\n",
       "Jiangxi_Jiujiang-101                                                                                     11\n",
       "����                                                                                                      9\n",
       "colleague                                                                                                 8\n",
       "classmate                                                                                                 7\n",
       "Returnee from other place                                                                                 6\n",
       "Tourist                                                                                                   6\n",
       "Classmate                                                                                                 6\n",
       "Jiangxi_Jiujiang-120                                                                                      4\n",
       "Jiangxi_Jiujiang-104                                                                                      4\n",
       "Returnee from Hubei                                                                                       4\n",
       "Field personnel                                                                                           4\n",
       "Fellow passengers                                                                                         4\n",
       "Jiangxi_Jiujiang-113                                                                                      3\n",
       "Relative                                                                                                  3\n",
       "ĸ��                                                                                                       3\n",
       "Returnee from abroad                                                                                      2\n",
       "Jiangxi_Jiujiang-102                                                                                      2\n",
       "Jiangxi_Jiujiang-114                                                                                      2\n",
       "Fellow villagers                                                                                          2\n",
       "Customer                                                                                                  2\n",
       "Guangdong_Guangzhou-1435 (mother) & Guangdong_Guangzhou-1444 (daughter)                                   2\n",
       "�ɷ�                                                                                                       2\n",
       "Neighbor                                                                                                  1\n",
       "Yichang personnel                                                                                         1\n",
       "Patient                                                                                                   1\n",
       "Traveler                                                                                                  1\n",
       "wife                                                                                                      1\n",
       "husband                                                                                                   1\n",
       "Fujian_Xiamen-143 (father) & Fujian_Xiamen-146 (son)                                                      1\n",
       "Fujian_Xiamen-143 (husband) & Fujian_Xiamen-149 (wife)                                                    1\n",
       "Fujian_Xiamen-149(wife)&Fujian_Xiamen-144(father)&Fujian_Xiamen-146((son)&Fujian_Xiamen-145(mother)       1\n",
       "Returnee from Wuhan                                                                                       1\n",
       "ĸ��/����                                                                                                  1\n",
       "Fujian_Xiamen-143 (son) & Fujian_Xiamen-144 (father)                                                      1\n",
       "Confirmed Case                                                                                            1\n",
       "Fujian_Xiamen-143 (son) & Fujian_Xiamen-145 (mother)                                                      1\n",
       "Returnee from Chengdu                                                                                     1\n",
       " Confirmed case                                                                                           1\n",
       "student                                                                                                   1\n",
       "Name: With Whom, dtype: int64"
      ]
     },
     "execution_count": 64,
     "metadata": {},
     "output_type": "execute_result"
    }
   ],
   "source": [
    "cases_with_contact_info['With Whom'].value_counts()"
   ]
  },
  {
   "cell_type": "code",
   "execution_count": 10,
   "id": "d629efdd",
   "metadata": {
    "pycharm": {
     "name": "#%%\n"
    }
   },
   "outputs": [
    {
     "data": {
      "text/plain": [
       "Somatosensory Related-Sign Description                                                                                                                                          447\n",
       "Respiratory System Related-Symptom Description/Somatosensory Related-Sign Description                                                                                           144\n",
       "NA                                                                                                                                                                              141\n",
       "Respiratory System Related-Symptom Description                                                                                                                                  122\n",
       "Somatosensory Related-Symptom Description/Somatosensory Related-Sign Description                                                                                                 76\n",
       "                                                                                                                                                                               ... \n",
       "Respiratory System Related-Sign Description/Somatosensory Related-Symptom Description/Respiratory System Related-Symptom Description/Somatosensory Related-Sign Description       1\n",
       "Respiratory System Related-Sign Description/Respiratory System Related-Symptom Description/Somatosensory Related-Symptom Description/Somatosensory Related-Sign Description       1\n",
       "Somatosensory Related-Symptom Description/\\nRespiratory System Related-Symptom Description/Somatosensory Related-Sign Description                                                 1\n",
       "Somatosensory Related-Symptom Description/Respiratory System Related-Symptom Description/Somatosensory Related-Sign Description/Respiratory System Related-Sign Description/      1\n",
       "Respiratory System Related-Symptom Description/Somatosensory Related-Symptom Description                                                                                          1\n",
       "Name: Symptom, Length: 93, dtype: int64"
      ]
     },
     "execution_count": 10,
     "metadata": {},
     "output_type": "execute_result"
    }
   ],
   "source": [
    "cases_with_contact_info['Symptom'].value_counts()"
   ]
  },
  {
   "cell_type": "markdown",
   "id": "646bef85",
   "metadata": {
    "pycharm": {
     "name": "#%% md\n"
    }
   },
   "source": [
    "### Build network"
   ]
  },
  {
   "cell_type": "code",
   "execution_count": 6,
   "id": "0f04c3aa",
   "metadata": {
    "pycharm": {
     "name": "#%%\n"
    }
   },
   "outputs": [
    {
     "data": {
      "text/html": [
       "<div>\n",
       "<style scoped>\n",
       "    .dataframe tbody tr th:only-of-type {\n",
       "        vertical-align: middle;\n",
       "    }\n",
       "\n",
       "    .dataframe tbody tr th {\n",
       "        vertical-align: top;\n",
       "    }\n",
       "\n",
       "    .dataframe thead th {\n",
       "        text-align: right;\n",
       "    }\n",
       "</style>\n",
       "<table border=\"1\" class=\"dataframe\">\n",
       "  <thead>\n",
       "    <tr style=\"text-align: right;\">\n",
       "      <th></th>\n",
       "      <th>Date_Disclose</th>\n",
       "      <th>Contact_ID_Relationship</th>\n",
       "      <th>ID</th>\n",
       "    </tr>\n",
       "  </thead>\n",
       "  <tbody>\n",
       "    <tr>\n",
       "      <th>1</th>\n",
       "      <td>2020-01-29</td>\n",
       "      <td>anqing-14 (wife) anqing-10 (husband)</td>\n",
       "      <td>Anhui_Anqing-10</td>\n",
       "    </tr>\n",
       "    <tr>\n",
       "      <th>5</th>\n",
       "      <td>2020-01-30</td>\n",
       "      <td>anqing-14 (wife) anqing-10 (husband)</td>\n",
       "      <td>Anhui_Anqing-14</td>\n",
       "    </tr>\n",
       "    <tr>\n",
       "      <th>11</th>\n",
       "      <td>2020-01-27</td>\n",
       "      <td>anqing-2 (father) &amp; anqing-9 (son)</td>\n",
       "      <td>Anhui_Anqing-2</td>\n",
       "    </tr>\n",
       "    <tr>\n",
       "      <th>13</th>\n",
       "      <td>2020-02-01</td>\n",
       "      <td>anqing-21 (son) &amp; anqing-22 (mother) &amp; anqing-...</td>\n",
       "      <td>Anhui_Anqing-21</td>\n",
       "    </tr>\n",
       "    <tr>\n",
       "      <th>14</th>\n",
       "      <td>2020-02-01</td>\n",
       "      <td>anqing-21 (son) &amp; anqing-22 (mother) &amp; anqing-...</td>\n",
       "      <td>Anhui_Anqing-22</td>\n",
       "    </tr>\n",
       "    <tr>\n",
       "      <th>...</th>\n",
       "      <td>...</td>\n",
       "      <td>...</td>\n",
       "      <td>...</td>\n",
       "    </tr>\n",
       "    <tr>\n",
       "      <th>27012</th>\n",
       "      <td>2022-01-10</td>\n",
       "      <td>Tianjin-833 (confirmed cases) &amp; Tianjin-854 (c...</td>\n",
       "      <td>Tianjin-854</td>\n",
       "    </tr>\n",
       "    <tr>\n",
       "      <th>27013</th>\n",
       "      <td>2022-01-10</td>\n",
       "      <td>Tianjin-833 (confirmed cases) &amp; Tianjin-855 (c...</td>\n",
       "      <td>Tianjin-855</td>\n",
       "    </tr>\n",
       "    <tr>\n",
       "      <th>27014</th>\n",
       "      <td>2022-01-10</td>\n",
       "      <td>Tianjin-833 (confirmed cases) &amp; Tianjin-856 (c...</td>\n",
       "      <td>Tianjin-856</td>\n",
       "    </tr>\n",
       "    <tr>\n",
       "      <th>27015</th>\n",
       "      <td>2022-01-10</td>\n",
       "      <td>Tianjin-833 (confirmed cases) &amp; Tianjin-857 (c...</td>\n",
       "      <td>Tianjin-857</td>\n",
       "    </tr>\n",
       "    <tr>\n",
       "      <th>27016</th>\n",
       "      <td>2022-01-10</td>\n",
       "      <td>Tianjin-833 (confirmed cases) &amp; Tianjin-858 (c...</td>\n",
       "      <td>Tianjin-858</td>\n",
       "    </tr>\n",
       "  </tbody>\n",
       "</table>\n",
       "<p>5627 rows × 3 columns</p>\n",
       "</div>"
      ],
      "text/plain": [
       "      Date_Disclose                            Contact_ID_Relationship  \\\n",
       "1        2020-01-29               anqing-14 (wife) anqing-10 (husband)   \n",
       "5        2020-01-30               anqing-14 (wife) anqing-10 (husband)   \n",
       "11       2020-01-27                 anqing-2 (father) & anqing-9 (son)   \n",
       "13       2020-02-01  anqing-21 (son) & anqing-22 (mother) & anqing-...   \n",
       "14       2020-02-01  anqing-21 (son) & anqing-22 (mother) & anqing-...   \n",
       "...             ...                                                ...   \n",
       "27012    2022-01-10  Tianjin-833 (confirmed cases) & Tianjin-854 (c...   \n",
       "27013    2022-01-10  Tianjin-833 (confirmed cases) & Tianjin-855 (c...   \n",
       "27014    2022-01-10  Tianjin-833 (confirmed cases) & Tianjin-856 (c...   \n",
       "27015    2022-01-10  Tianjin-833 (confirmed cases) & Tianjin-857 (c...   \n",
       "27016    2022-01-10  Tianjin-833 (confirmed cases) & Tianjin-858 (c...   \n",
       "\n",
       "                    ID  \n",
       "1      Anhui_Anqing-10  \n",
       "5      Anhui_Anqing-14  \n",
       "11      Anhui_Anqing-2  \n",
       "13     Anhui_Anqing-21  \n",
       "14     Anhui_Anqing-22  \n",
       "...                ...  \n",
       "27012      Tianjin-854  \n",
       "27013      Tianjin-855  \n",
       "27014      Tianjin-856  \n",
       "27015      Tianjin-857  \n",
       "27016      Tianjin-858  \n",
       "\n",
       "[5627 rows x 3 columns]"
      ]
     },
     "execution_count": 6,
     "metadata": {},
     "output_type": "execute_result"
    }
   ],
   "source": [
    "cases_with_contact_info[['Date_Disclose', 'Contact_ID_Relationship', 'ID']]"
   ]
  },
  {
   "cell_type": "code",
   "execution_count": 7,
   "id": "0be68a2f",
   "metadata": {
    "pycharm": {
     "name": "#%%\n"
    }
   },
   "outputs": [],
   "source": [
    "import re"
   ]
  },
  {
   "cell_type": "code",
   "execution_count": 8,
   "id": "6da618a9",
   "metadata": {
    "pycharm": {
     "name": "#%%\n"
    }
   },
   "outputs": [
    {
     "data": {
      "text/plain": [
       "['anqing-14', 'anqing-10']"
      ]
     },
     "execution_count": 8,
     "metadata": {},
     "output_type": "execute_result"
    }
   ],
   "source": [
    "s = 'anqing-14 (wife) anqing-10 (husband)'\n",
    "exp = re.compile('\\w+-\\d+', re.IGNORECASE)\n",
    "exp.findall(s)"
   ]
  },
  {
   "cell_type": "markdown",
   "id": "f6881f0f",
   "metadata": {
    "pycharm": {
     "name": "#%% md\n"
    }
   },
   "source": [
    "1. Replace whitespace with _\n",
    "2. Split on _\n",
    "3. Extract contact with regex: search for either phrase in contact_id_relationship, e.g. search for anhui and anqing\n",
    "4. Do the same for id\n",
    "5. match"
   ]
  },
  {
   "cell_type": "code",
   "execution_count": 9,
   "id": "36c47058",
   "metadata": {
    "pycharm": {
     "name": "#%%\n"
    }
   },
   "outputs": [],
   "source": [
    "places = set()\n",
    "for place in cases_with_contact_info['Place_Admission'].unique():\n",
    "    try:\n",
    "        string = place.replace(' ', '_')\n",
    "    except AttributeError:\n",
    "        continue\n",
    "\n",
    "    string = re.sub('_+', '_', string)\n",
    "    string = re.sub('^_', '', string)\n",
    "    string = re.sub('_$', '', string)\n",
    "    string = re.sub(',', '', string)\n",
    "    try:\n",
    "        a, b = string.split('_')\n",
    "        places.add(a)\n",
    "        places.add(b)\n",
    "    except ValueError:\n",
    "        places.add(string)"
   ]
  },
  {
   "cell_type": "code",
   "execution_count": 44,
   "id": "2e047ad5",
   "metadata": {
    "pycharm": {
     "name": "#%%\n"
    }
   },
   "outputs": [
    {
     "data": {
      "text/plain": [
       "(['Hefei-175'], ['Beijing_432'], ['Shenzhen_670'])"
      ]
     },
     "execution_count": 44,
     "metadata": {},
     "output_type": "execute_result"
    }
   ],
   "source": [
    "rexp = re.compile('(?:\\w+\\_)?(\\w+[-|_]\\d+)')\n",
    "rexp.findall('Anhui_Hefei-175'), rexp.findall('Beijing_432'), rexp.findall('Guangdong_Shenzhen_670')"
   ]
  },
  {
   "cell_type": "code",
   "execution_count": 41,
   "id": "534204b3",
   "metadata": {
    "pycharm": {
     "name": "#%%\n"
    }
   },
   "outputs": [
    {
     "data": {
      "text/plain": [
       "['xuchang-303']"
      ]
     },
     "execution_count": 41,
     "metadata": {},
     "output_type": "execute_result"
    }
   ],
   "source": [
    "rexp.findall('henan_xuchang-303')"
   ]
  },
  {
   "cell_type": "code",
   "execution_count": 66,
   "id": "884ffde0",
   "metadata": {
    "pycharm": {
     "name": "#%%\n"
    }
   },
   "outputs": [
    {
     "name": "stdout",
     "output_type": "stream",
     "text": [
      "Guangdong_Shenzhen\n",
      "Shandong_Rizhao - 100\n",
      "Shandong_Rizhao - 101\n",
      "Shandong_Wingdao - 100\n"
     ]
    }
   ],
   "source": [
    "exp = re.compile('(?:\\w+\\_)?(\\w+[-|_]\\d+)', re.IGNORECASE)\n",
    "edge_list = list()\n",
    "node_list = set()\n",
    "failed = set()\n",
    "for index, row in cases_with_contact_info.iterrows():\n",
    "    try:\n",
    "        row_id = exp.findall(row['ID'])[0].lower().replace('_', '-')\n",
    "    except IndexError:\n",
    "        print(row['ID'])\n",
    "        continue\n",
    "    try:\n",
    "        contacts = exp.findall(row['Contact_ID_Relationship'])\n",
    "    except TypeError:\n",
    "        node_list.add(row_id)\n",
    "    for contact in contacts:\n",
    "        try:\n",
    "            match = next(s for s in cases_with_contact_info['ID'].apply(lambda x: x.lower()) if contact.lower().replace('_', '-') in s)\n",
    "            if row_id != match:\n",
    "                edge_list.append((row_id, match))\n",
    "        except StopIteration:\n",
    "            failed.add((row_id, contact.lower()))"
   ]
  },
  {
   "cell_type": "code",
   "execution_count": 67,
   "id": "6b8b93c1",
   "metadata": {
    "pycharm": {
     "name": "#%%\n"
    }
   },
   "outputs": [
    {
     "data": {
      "text/plain": [
       "{('an-68', 'xian-67'),\n",
       " ('an-88', 'xian-117'),\n",
       " ('huaian-74', 'huaian-8'),\n",
       " ('beijing-585', 'zhuhai-126'),\n",
       " ('harbin-35', 'haerbin-50'),\n",
       " ('liangjiangnewdistrict-5', 'liangjiangxinqu-15'),\n",
       " ('yancheng-6', 'yangcheng-5'),\n",
       " ('an-87', 'xian-87'),\n",
       " ('an-405', 'xian-42'),\n",
       " ('garz-76', 'ganzi-8'),\n",
       " ('an-83', 'xian-90'),\n",
       " ('jiangsu-26', 'yangcheng-26'),\n",
       " ('shanghai-1666', 'zhuhai-126'),\n",
       " ('beijing-557', 'beijing_548'),\n",
       " ('beijing-564', 'beijing_548'),\n",
       " ('beijing-554', 'beijing_554'),\n",
       " ('wuhu-12', 'toling-25'),\n",
       " ('an-352', 'xian-74'),\n",
       " ('beijing-526', 'beijing_513'),\n",
       " ('beijing-504', 'beijing_500'),\n",
       " ('xuzhoujiangsu-58', 'xuzhou-5'),\n",
       " ('xiamen-533', 'zhuhai-126'),\n",
       " ('shanghai-1580', 'zhuhai-126'),\n",
       " ('an-878', 'xian-117'),\n",
       " ('shanghai-1600', 'zhuhai-126'),\n",
       " ('liangjiangnewdistrict-15', 'liangjiangxinqu-15'),\n",
       " ('shanghai-1658', 'zhuhai-126'),\n",
       " ('shanghai-1794', 'zhuhai-126'),\n",
       " ('xuzhoujiangsu-63', 'xuzhou-1'),\n",
       " ('harbin-47', 'haerbin-49'),\n",
       " ('xuzhoujiangsu-19', 'xuzhou-5'),\n",
       " ('liangjiangnewdistrict-14', 'liangjiangxinqu-15'),\n",
       " ('an-27', 'huaian-2'),\n",
       " ('an-404', 'xian-40'),\n",
       " ('shanghai-1753', 'zhuhai-126'),\n",
       " ('foshan-151', 'foahan-38'),\n",
       " ('an-2182', 'zhuhai-126'),\n",
       " ('xinxiang-15', 'nanyang-118'),\n",
       " ('an-456', 'xian-44'),\n",
       " ('an-378', 'xian-64'),\n",
       " ('xuzhoujiangsu-22', 'xuzhou-21'),\n",
       " ('liangjiangnewdistrict-17', 'liangjiangxinqu-15'),\n",
       " ('an-370', 'xian-37'),\n",
       " ('wuhu-11', 'toling-25'),\n",
       " ('wanzhou-60', 'wanzhouqu-26'),\n",
       " ('wangkui-6', 'qiqihaer-12'),\n",
       " ('an-28', 'huaian-10'),\n",
       " ('garz-5', 'ganzi-8'),\n",
       " ('baoshan-3', 'xuzhou-42'),\n",
       " ('harbin-7', 'haerbin-69'),\n",
       " ('shanghai-1761', 'zhuhai-126'),\n",
       " ('foshan-35', 'foahan-15'),\n",
       " ('chengdu-407', 'chengdu_405'),\n",
       " ('foshan-198', 'foahan-38'),\n",
       " ('beijing-493', 'beijing_492'),\n",
       " ('shanghai-1550', 'zhuhai-126'),\n",
       " ('foshan-60', 'foahan-58'),\n",
       " ('an-1402', 'xian-49'),\n",
       " ('beihai-24', 'beiihai-24'),\n",
       " ('harbin-38', 'haerbin-50'),\n",
       " ('an-140', 'xian-49'),\n",
       " ('shanghai-1865', 'zhuhai-126'),\n",
       " ('shanghai-1557', 'zhuhai-126'),\n",
       " ('baoshan-4', 'xuzhou-41'),\n",
       " ('shanghai-1721', 'zhuhai-126'),\n",
       " ('xuzhoujiangsu-32', 'xuzhou-26'),\n",
       " ('pingdingshan-50', 'nanyang-116'),\n",
       " ('tongling-4', 'toling-25'),\n",
       " ('shanghai-1771', 'zhuhai-126'),\n",
       " ('liangjiangnewdistrict-9', 'liangjiangxinqu-15'),\n",
       " ('an-379', 'xian-84'),\n",
       " ('beijing-103', 'beijing_549'),\n",
       " ('beijing-455', 'beijing_454'),\n",
       " ('southbank-4', 'nanan-4'),\n",
       " ('harbin-65', 'haerbin-50'),\n",
       " ('foshan-360', 'foahan-15'),\n",
       " ('an-443', 'xian-111'),\n",
       " ('xuzhoujiangsu-70', 'xuzhou-4'),\n",
       " ('liangping-3', 'liangjiangxinqu-11'),\n",
       " ('an-1066', 'xian-70'),\n",
       " ('an-870', 'xian-112'),\n",
       " ('an-240', 'xian-24'),\n",
       " ('foshan-19', 'foahan-38'),\n",
       " ('shanghai-1650', 'zhuhai-126'),\n",
       " ('shanghai-1560', 'zhuhai-126'),\n",
       " ('pingdingshan-15', 'nanyang-116'),\n",
       " ('xuzhoujiangsu-55', 'xuzhou-1'),\n",
       " ('shanghai-1730', 'zhuhai-126'),\n",
       " ('beijing-569', 'beijing_549'),\n",
       " ('an-1300', 'xian-91'),\n",
       " ('beijing-514', 'beijing_513'),\n",
       " ('xiamen-573', 'zhuhai-126'),\n",
       " ('an-26', 'huaian-15'),\n",
       " ('an-454', 'xian-111'),\n",
       " ('an-20', 'huaian-2'),\n",
       " ('beihai-21', 'beiihai-26'),\n",
       " ('beijing-476', 'beijing_463'),\n",
       " ('ordos-1', 'eerduosi-2'),\n",
       " ('an-9', 'guangan-21'),\n",
       " ('shanghai-1706', 'zhuhai-126'),\n",
       " ('an-1115', 'xian-44'),\n",
       " ('an-38', 'huaian-11'),\n",
       " ('xuzhoujiangsu-61', 'xuzhou-4'),\n",
       " ('lingaocounty-6', 'lingao-5'),\n",
       " ('xuzhoujiangsu-54', 'xuzhou-5'),\n",
       " ('beijing-535', 'beijing_535'),\n",
       " ('xiamen-584', 'zhuhai-126'),\n",
       " ('bozhou-70', 'fouzhou-96'),\n",
       " ('beijing-453', 'beijing_453'),\n",
       " ('pingxiang-28', 'pingxiang-326'),\n",
       " ('garz-75', 'ganzi-8'),\n",
       " ('tech-2', 'gaoxin-2'),\n",
       " ('an-706', 'xian-105'),\n",
       " ('beijing-452', 'beijing_450'),\n",
       " ('an-258', 'xian-24'),\n",
       " ('an-357', 'xian-36'),\n",
       " ('shanghai-1616', 'zhuhai-126'),\n",
       " ('an-40', 'xian-42'),\n",
       " ('xuzhoujiangsu-76', 'xuzhou-4'),\n",
       " ('harbin-37', 'haerbin-33'),\n",
       " ('yancheng-15', 'yangcheng-6'),\n",
       " ('pingdingshan-51', 'nanyang-116'),\n",
       " ('an-210', 'xian-62'),\n",
       " ('yancheng-16', 'yangcheng-6'),\n",
       " ('beijing-587', 'zhuhai-126'),\n",
       " ('xuzhoujiangsu-4', 'xuzhou-1'),\n",
       " ('beijing-584', 'zhuhai-126'),\n",
       " ('shanghai-1850', 'zhuhai-126'),\n",
       " ('beijing-513', 'beijing_513'),\n",
       " ('hefei-8', 'heifei-16'),\n",
       " ('an-243', 'yanan-4'),\n",
       " ('chengdu-424', 'chengdu_406'),\n",
       " ('maanshan-20', 'manashan-33'),\n",
       " ('an-23', 'huaian-10'),\n",
       " ('xuzhoujiangsu-34', 'xuzhou-26'),\n",
       " ('wanzhou-26', 'wanzhouqu-60'),\n",
       " ('xuzhoujiangsu-7', 'xuzhou-6'),\n",
       " ('an-443', 'xian-44'),\n",
       " ('an-372', 'xian-64'),\n",
       " ('xuzhoujiangsu-21', 'xuzhou-17'),\n",
       " ('beijing-580', 'beijing_557'),\n",
       " ('an-453', 'xian-111'),\n",
       " ('foshan-339', 'foahan-15'),\n",
       " ('an-44', 'xian-102'),\n",
       " ('an-706', 'xian-70'),\n",
       " ('garz-57', 'ganzi-8'),\n",
       " ('wuzhong-2', 'wuhzong-1'),\n",
       " ('an-2030', 'an-1971'),\n",
       " ('an-46', 'huaian-11'),\n",
       " ('garz-64', 'ganzi-8'),\n",
       " ('bayannaoer-2', 'huhehaote-1'),\n",
       " ('an-66', 'huaian-8'),\n",
       " ('xiamen-590', 'zhuhai-126'),\n",
       " ('beijing-566', 'beijing_549'),\n",
       " ('an-1055', 'xian-70'),\n",
       " ('an-63', 'xian-80'),\n",
       " ('beijing-465', 'beijing_462'),\n",
       " ('an-32', 'huaian-3'),\n",
       " ('beijing-575', 'beijing_549'),\n",
       " ('garz-70', 'ganzi-8'),\n",
       " ('garz-60', 'ganzi-8'),\n",
       " ('garz-61', 'ganzi-8'),\n",
       " ('foshan-184', 'foahan-38'),\n",
       " ('an-1407', 'xian-27'),\n",
       " ('shenzhen-278', 'shenzhne-278'),\n",
       " ('shanghai-1763', 'zhuhai-126'),\n",
       " ('an-1072', 'xian-95'),\n",
       " ('an-5', 'suiining-8'),\n",
       " ('xuzhoujiangsu-9', 'xuzhou-41'),\n",
       " ('shanghai-1911', 'zhuhai-126'),\n",
       " ('beijing-560', 'beijing_548'),\n",
       " ('an-2155', 'zhuhai-126'),\n",
       " ('an-782', 'xian-99'),\n",
       " ('an-2184', 'zhuhai-126'),\n",
       " ('fuzhou-149', 'zhuhai-126'),\n",
       " ('beijing-559', 'beijing_557'),\n",
       " ('beijing-450', 'beijing_451'),\n",
       " ('tech-2', 'gaoxin-1'),\n",
       " ('beijing-498', 'beijing_497'),\n",
       " ('xuzhoujiangsu-40', 'xuzhou-4'),\n",
       " ('huaian-71', 'huaian-8'),\n",
       " ('an-1054', 'xian-70'),\n",
       " ('xuzhoujiangsu-10', 'xuzhou-6'),\n",
       " ('xuzhoujiangsu-12', 'xuzhou-1'),\n",
       " ('yangzhou-238', 'yangzhou-2205'),\n",
       " ('chengdu-414', 'chengdu_411'),\n",
       " ('an-2149', 'zhuhai-126'),\n",
       " ('beijing-545', 'beijing_539'),\n",
       " ('beijing-539', 'beijing_536'),\n",
       " ('hefei-82', 'heifei-16'),\n",
       " ('beijing-500', 'beijing_495'),\n",
       " ('shanghai-1832', 'zhuhai-126'),\n",
       " ('dali-2', 'xuzhou-8'),\n",
       " ('beijing-526', 'beijing_514'),\n",
       " ('dali-11', 'xuzhou-42'),\n",
       " ('an-806', 'xian-63'),\n",
       " ('an-29', 'huaian-9'),\n",
       " ('an-1030', 'xian-35'),\n",
       " ('foshan-382', 'foahan-15'),\n",
       " ('ordos-3', 'eerduosi-1'),\n",
       " ('baoshan-3', 'xuzhou-8'),\n",
       " ('hefei-5', 'heifei-16'),\n",
       " ('shanghai-1802', 'zhuhai-126'),\n",
       " ('pingdingshan-37', 'nanyang-116'),\n",
       " ('wanzhou-29', 'wanzhouqu-60'),\n",
       " ('shanghai-1747', 'zhuhai-126'),\n",
       " ('xuzhoujiangsu-77', 'xuzhou-5'),\n",
       " ('beijing-509', 'beijing_502'),\n",
       " ('an-245', 'xian-25'),\n",
       " ('beijing-465', 'beijing_461'),\n",
       " ('harbin-85', 'haerbin-83'),\n",
       " ('beihai-19', 'beiihai-26'),\n",
       " ('shanghai-1631', 'zhuhai-126'),\n",
       " ('harbin-85', 'haerbin-80'),\n",
       " ('an-1052', 'xian-70'),\n",
       " ('harbin-98', 'haerbin-81'),\n",
       " ('beijing-550', 'beijing_551'),\n",
       " ('shanghai-1868', 'zhuhai-126'),\n",
       " ('xuzhoujiangsu-56', 'xuzhou-6'),\n",
       " ('fuzhou-156', 'zhuhai-126'),\n",
       " ('an-384', 'xian-64'),\n",
       " ('qingdao-250', 'zhuhai-126'),\n",
       " ('beijing-106', 'beijing_548'),\n",
       " ('shanghai-1862', 'zhuhai-126'),\n",
       " ('xiamen-585', 'zhuhai-126'),\n",
       " ('an-1407', 'xian-49'),\n",
       " ('beijing-562', 'beijing_549'),\n",
       " ('beijing-540', 'beijing_535'),\n",
       " ('xuzhoujiangsu-67', 'xuzhou-4'),\n",
       " ('shanghai-1858', 'zhuhai-126'),\n",
       " ('beijing-463', 'beijing_462'),\n",
       " ('tongling-27', 'tonling-24'),\n",
       " ('an-1037', 'xian-35'),\n",
       " ('xuzhoujiangsu-68', 'xuzhou-4'),\n",
       " ('heihe-1', 'haerbin-82'),\n",
       " ('beijing-583', 'beijing_548'),\n",
       " ('shanghai-1896', 'zhuhai-126'),\n",
       " ('an-2192', 'zhuhai-126'),\n",
       " ('an-879', 'xian-112'),\n",
       " ('xinxiang-16', 'nanyang-118'),\n",
       " ('nanyang-37', 'nanyang-117'),\n",
       " ('an-400', 'xian-40'),\n",
       " ('fuzhou-158', 'zhuhai-126'),\n",
       " ('shanghai-1680', 'zhuhai-126'),\n",
       " ('xiamen-587', 'zhuhai-126'),\n",
       " ('shanghai-1918', 'zhuhai-126'),\n",
       " ('xuzhoujiangsu-59', 'xuzhou-5'),\n",
       " ('an-2120', 'zhuhai-126'),\n",
       " ('an-375', 'xian-84'),\n",
       " ('an-2111', 'an-1927'),\n",
       " ('xiamen-548', 'zhuhai-126'),\n",
       " ('an-243', 'xian-24'),\n",
       " ('an-1410', 'xian-27'),\n",
       " ('shanghai-1592', 'zhuhai-126'),\n",
       " ('an-64', 'huaian-8'),\n",
       " ('an-407', 'xian-40'),\n",
       " ('shanghai-1601', 'zhuhai-126'),\n",
       " ('an-2193', 'zhuhai-126'),\n",
       " ('shanghai-1815', 'zhuhai-126'),\n",
       " ('ancounty-4', 'dingan-3'),\n",
       " ('shanghai-1776', 'zhuhai-126'),\n",
       " ('beijing-514', 'beijing_514'),\n",
       " ('an-850', 'xian-95'),\n",
       " ('an-395', 'xian-84'),\n",
       " ('beijing-460', 'beijing_456'),\n",
       " ('foshan-52', 'foahan-15'),\n",
       " ('an-23', 'huaian-15'),\n",
       " ('southbank-10', 'nanan-4'),\n",
       " ('pingdingshan-33', 'nanyang-116'),\n",
       " ('beijing-512', 'beijing_500'),\n",
       " ('an-28', 'huaian-9'),\n",
       " ('an-2187', 'zhuhai-126'),\n",
       " ('an-48', 'huaian-3'),\n",
       " ('putian-222', 'zhuhai-126'),\n",
       " ('foshan-172', 'foahan-38'),\n",
       " ('shanghai-1715', 'zhuhai-126'),\n",
       " ('shanghai-1899', 'zhuhai-126'),\n",
       " ('beijing-490', 'beijing_461'),\n",
       " ('beijing-463', 'beijing_461'),\n",
       " ('shanghai-1677', 'zhuhai-126'),\n",
       " ('xuzhoujiangsu-32', 'xuzhou-18'),\n",
       " ('an-702', 'xian-105'),\n",
       " ('liangjiangnewdistrict-8', 'liangjiangxinqu-11'),\n",
       " ('beijing-576', 'beijing_549'),\n",
       " ('harbin-52', 'haerbin-33'),\n",
       " ('foshan-373', 'foahan-15'),\n",
       " ('lingaocounty-4', 'lingao-4'),\n",
       " ('harbin-60', 'haerbin-33'),\n",
       " ('beijing-476', 'beijing_462'),\n",
       " ('beijing-500', 'beijing_500'),\n",
       " ('beijing-101', 'beijing_548'),\n",
       " ('harbin-49', 'haerbin-49'),\n",
       " ('garz-55', 'ganzi-8'),\n",
       " ('an-445', 'xian-44'),\n",
       " ('an-14', 'huaian-8'),\n",
       " ('an-371', 'xian-37'),\n",
       " ('beijing-513', 'beijing_514'),\n",
       " ('southbank-10', 'nanan-5'),\n",
       " ('an-2132', 'zhuhai-126'),\n",
       " ('beijing-523', 'beijing_513'),\n",
       " ('harbin-29', 'haerbin-27'),\n",
       " ('an-451', 'xian-44'),\n",
       " ('pingdingshan-40', 'nanyang-116'),\n",
       " ('liangping-3', 'liangjiangxinqu-15'),\n",
       " ('foshan-344', 'foahan-15'),\n",
       " ('an-1032', 'xian-35'),\n",
       " ('an-409', 'xian-42'),\n",
       " ('foshan-342', 'foahan-15'),\n",
       " ('pingdingshan-25', 'nanyang-116'),\n",
       " ('shanghai-1681', 'zhuhai-126'),\n",
       " ('beijing-568', 'beijing_557'),\n",
       " ('ordos-4', 'eerduosi-1'),\n",
       " ('an-1410', 'xian-49'),\n",
       " ('harbin-59', 'haerbin-50'),\n",
       " ('bazhong-10', 'shanxi-1'),\n",
       " ('xuzhoujiangsu-53', 'xuzhou-5'),\n",
       " ('an-691', 'xian-67'),\n",
       " ('an-702', 'xian-70'),\n",
       " ('xuzhoujiangsu-8', 'xuzhou-8'),\n",
       " ('an-883', 'xian-117'),\n",
       " ('heihe-10', 'haerbin-83'),\n",
       " ('an-1033', 'xian-35'),\n",
       " ('xuzhoujiangsu-71', 'xuzhou-6'),\n",
       " ('shanghai-1555', 'zhuhai-126'),\n",
       " ('beijing-506', 'beijing_500'),\n",
       " ('heihe-10', 'haerbin-80'),\n",
       " ('beijing-535', 'beijing_538'),\n",
       " ('bozhou-85', 'fouzhou-96'),\n",
       " ('pingdingshan-38', 'nanyang-116'),\n",
       " ('beijing-473', 'beijing_463'),\n",
       " ('an-2113', 'an-1927'),\n",
       " ('dali-11', 'xuzhou-8'),\n",
       " ('baoshan-4', 'xuzhou-42'),\n",
       " ('an-352', 'xian-36'),\n",
       " ('wanzhou-3', 'wanzhouqu-26'),\n",
       " ('beijing-547', 'beijing_536'),\n",
       " ('harbin-83', 'haerbin-81'),\n",
       " ('xiamen-542', 'zhuhai-126'),\n",
       " ('an-877', 'xian-117'),\n",
       " ('hefei-84', 'heifei-16'),\n",
       " ('an-901', 'xian-83'),\n",
       " ('xuzhoujiangsu-15', 'xuzhou-1'),\n",
       " ('xuzhoujiangsu-52', 'xuzhou-1'),\n",
       " ('beijing-476', 'beijing_461'),\n",
       " ('an-1142', 'xian-87'),\n",
       " ('shanghai-1788', 'zhuhai-126'),\n",
       " ('nanchong-9', 'nancong-36'),\n",
       " ('xuzhoujiangsu-50', 'xuzhou-1'),\n",
       " ('an-449', 'xian-102'),\n",
       " ('foshan-153', 'foahan-38'),\n",
       " ('xuzhoujiangsu-34', 'xuzhou-18'),\n",
       " ('shanghai-1657', 'zhuhai-126'),\n",
       " ('hefei-54', 'heifei-16'),\n",
       " ('garz-71', 'ganzi-8'),\n",
       " ('shanghai-1661', 'zhuhai-126'),\n",
       " ('an-37', 'xian-64'),\n",
       " ('an-6', 'xian-24'),\n",
       " ('an-1112', 'xian-44'),\n",
       " ('beijing-543', 'beijing_537'),\n",
       " ('xuzhoujiangsu-62', 'xuzhou-6'),\n",
       " ('beijing-582', 'beijing_557'),\n",
       " ('beijing-454', 'beijing_454'),\n",
       " ('liangjiangnewdistrict-2', 'liangjiangxinqu-11'),\n",
       " ('an-1011', 'xian-77'),\n",
       " ('an-803', 'xian-63'),\n",
       " ('an-703', 'xian-105'),\n",
       " ('an-880', 'xian-87'),\n",
       " ('baoshan-1', 'xuzhou-41'),\n",
       " ('beijing-546', 'beijing_535'),\n",
       " ('an-392', 'xian-37'),\n",
       " ('tongling-8', 'tonling-24'),\n",
       " ('an-248', 'yanan-2'),\n",
       " ('an-24', 'huaian-2'),\n",
       " ('pingdingshan-35', 'nanyang-116'),\n",
       " ('jiangsu-25', 'yangcheng-25'),\n",
       " ('fuzhou-155', 'zhuhai-126'),\n",
       " ('garz-7', 'ganzi-8'),\n",
       " ('foshan-171', 'foahan-38'),\n",
       " ('xuzhoujiangsu-14', 'xuzhou-4'),\n",
       " ('harbin-82', 'haerbin-83'),\n",
       " ('harbin-82', 'haerbin-80'),\n",
       " ('an-354', 'xian-74'),\n",
       " ('an-26', 'guangan-21'),\n",
       " ('an-408', 'xian-40'),\n",
       " ('xuzhoujiangsu-70', 'xuzhou-5'),\n",
       " ('harbin-80', 'haerbin-83'),\n",
       " ('hohhot-2', 'huhehaote-1'),\n",
       " ('harbin-80', 'haerbin-80'),\n",
       " ('garz-72', 'ganzi-8'),\n",
       " ('beijing-502', 'beijing_502'),\n",
       " ('an-86', 'xian-86'),\n",
       " ('shanghai-1574', 'zhuhai-126'),\n",
       " ('an-703', 'xian-70'),\n",
       " ('shanghai-1684', 'zhuhai-126'),\n",
       " ('an-852', 'xian-95'),\n",
       " ('an-2', 'ganzi-5'),\n",
       " ('xuzhoujiangsu-5', 'xuzhou-5'),\n",
       " ('tanghecounty-119', 'nanyang-118'),\n",
       " ('an-374', 'xian-37'),\n",
       " ('shanghai-1757', 'zhuhai-126'),\n",
       " ('an-7', 'guangan-21'),\n",
       " ('an-249', 'xian-24'),\n",
       " ('shanghai-1613', 'zhuhai-126'),\n",
       " ('harbin-81', 'haerbin-83'),\n",
       " ('harbin-81', 'haerbin-80'),\n",
       " ('qiqihar-12', 'qiqihaer-12'),\n",
       " ('nanyang-34', 'nanyang-117'),\n",
       " ('pingdingshan-11', 'nanyang-116'),\n",
       " ('an-88', 'xian-112'),\n",
       " ('hefei-72', 'heifei-16'),\n",
       " ('an-24', 'xian-24'),\n",
       " ('wanzhou-28', 'wanzhouqu-60'),\n",
       " ('foshan-186', 'foahan-38'),\n",
       " ('xuzhoujiangsu-61', 'xuzhou-5'),\n",
       " ('ulanchabu-1', 'eerduosi-1'),\n",
       " ('shanghai-1823', 'zhuhai-126'),\n",
       " ('an-42', 'huaian-11'),\n",
       " ('xuzhoujiangsu-75', 'xuzhou-4'),\n",
       " ('xuzhoujiangsu-16', 'xuzhou-6'),\n",
       " ('suihua-1', 'qiqihaer-12'),\n",
       " ('an-381', 'xian-64'),\n",
       " ('shanghai-1919', 'zhuhai-126'),\n",
       " ('an-10', 'huaian-10'),\n",
       " ('xuzhoujiangsu-20', 'xuzhou-6'),\n",
       " ('jiangsu-26', 'yangcheng-25'),\n",
       " ('an-878', 'xian-112'),\n",
       " ('xuzhoujiangsu-47', 'xuzhou-45'),\n",
       " ('liangjiangnewdistrict-11', 'liangjiangxinqu-11'),\n",
       " ('southbank-14', 'nanan-12'),\n",
       " ('qiqihar-7', 'qiqihaer-12'),\n",
       " ('an-351', 'xian-36'),\n",
       " ('xuzhoujiangsu-26', 'xuzhou-26'),\n",
       " ('taizhou-34', 'taihou-35'),\n",
       " ('suzhou-2', 'zuzhou-26'),\n",
       " ('an-403', 'xian-41'),\n",
       " ('xuzhoujiangsu-72', 'xuzhou-4'),\n",
       " ('xuzhoujiangsu-9', 'xuzhou-42'),\n",
       " ('beijing-557', 'beijing_557'),\n",
       " ('beijing-564', 'beijing_557'),\n",
       " ('xiamen-541', 'zhuhai-126'),\n",
       " ('foshan-18', 'foahan-38'),\n",
       " ('an-746', 'xian-35'),\n",
       " ('beijing-536', 'beijing_535'),\n",
       " ('an-4', 'xian-37'),\n",
       " ('liangjiangnewdistrict-4', 'liangjiangxinqu-11'),\n",
       " ('an-52', 'huaian-11'),\n",
       " ('an-12', 'ganzi-5'),\n",
       " ('foshan-385', 'foahan-15'),\n",
       " ('an-378', 'xian-37'),\n",
       " ('chengdu-429', 'chengdu_411'),\n",
       " ('xuzhoujiangsu-17', 'xuzhou-4'),\n",
       " ('xuzhoujiangsu-58', 'xuzhou-1'),\n",
       " ('shanghai-1773', 'zhuhai-126'),\n",
       " ('xuzhoujiangsu-45', 'xuzhou-39'),\n",
       " ('shanghai-1766', 'zhuhai-126'),\n",
       " ('beijing-588', 'zhuhai-126'),\n",
       " ('an-1031', 'xian-35'),\n",
       " ('an-353', 'xian-36'),\n",
       " ('beijing-572', 'beijing_557'),\n",
       " ('lingshuicounty-6', 'lingshui-1'),\n",
       " ('shanghai-1754', 'zhuhai-126'),\n",
       " ('shenzhen-667', 'shenzhen_667'),\n",
       " ('beijing-455', 'beijing_455'),\n",
       " ('shanghai-1775', 'zhuhai-126'),\n",
       " ('an-651', 'xian-37'),\n",
       " ('pingdingshan-41', 'nanyang-116'),\n",
       " ('beijing-581', 'beijing_549'),\n",
       " ('changjiang-2', 'wanchang-2'),\n",
       " ('an-240', 'xian-25'),\n",
       " ('xuzhoujiangsu-19', 'xuzhou-1'),\n",
       " ('xuzhoujiangsu-73', 'xuzhou-6'),\n",
       " ('an-747', 'xian-35'),\n",
       " ('an-876', 'xian-114'),\n",
       " ('ordos-2', 'eerduosi-1'),\n",
       " ('beijing-518', 'beijing_513'),\n",
       " ('beijing-523', 'beijing_514'),\n",
       " ('harbin-39', 'haerbin-33'),\n",
       " ('harbin-92', 'haerbin-82'),\n",
       " ('baoshan-4', 'xuzhou-8'),\n",
       " ('xiamen-527', 'zhuhai-126'),\n",
       " ('an-680', 'xian-67'),\n",
       " ('beijing-573', 'beijing_548'),\n",
       " ('yancheng-18', 'yangcheng-5'),\n",
       " ('shenzhen-663', 'shenzhen_657'),\n",
       " ('beijing-480', 'beijing_463'),\n",
       " ('xuzhoujiangsu-7', 'xuzhou-4'),\n",
       " ('wanzhou-26', 'wanzhouqu-27'),\n",
       " ('chengdu-416', 'chengdu_406'),\n",
       " ('tongling-8', 'toling-25'),\n",
       " ('dali-1', 'xuzhou-41'),\n",
       " ('an-97', 'xian-83'),\n",
       " ('an-243', 'yanan-5'),\n",
       " ('an-358', 'xian-103'),\n",
       " ('an-49', 'huaian-11'),\n",
       " ('shanghai-1914', 'zhuhai-126'),\n",
       " ('shanghai-1905', 'zhuhai-126'),\n",
       " ('an-872', 'xian-117'),\n",
       " ('pingdingshan-43', 'nanyang-116'),\n",
       " ('an-14', 'ganzi-5'),\n",
       " ('shanghai-1811', 'zhuhai-126'),\n",
       " ('xiamen-560', 'zhuhai-126'),\n",
       " ('xiamen-554', 'zhuhai-126'),\n",
       " ('an-380', 'xian-84'),\n",
       " ('yancheng-21', 'yangcheng-6'),\n",
       " ('an-2128', 'zhuhai-126'),\n",
       " ('bazhong-1', 'shanxi-1'),\n",
       " ('beijing-450', 'beijing_450'),\n",
       " ('an-357', 'xian-35'),\n",
       " ('an-180', 'xian-54'),\n",
       " ('nanyang-84', 'nanyang-116'),\n",
       " ('beijing-460', 'beijing_458'),\n",
       " ('pingdingshan-36', 'nanyang-116'),\n",
       " ('harbin-27', 'haerbin-40'),\n",
       " ('dali-4', 'xuzhou-41'),\n",
       " ('an-13', 'xian-55'),\n",
       " ('an-455', 'xian-111'),\n",
       " ('harbin-96', 'haerbin-82'),\n",
       " ('harbin-93', 'haerbin-82'),\n",
       " ('xiamen-528', 'zhuhai-126'),\n",
       " ('shanghai-1607', 'zhuhai-126'),\n",
       " ('an-356', 'xian-103'),\n",
       " ('lingshuicounty-2', 'lingshui-1'),\n",
       " ('yancheng-11', 'yangcheng-8'),\n",
       " ('beijing-456', 'beijing_457'),\n",
       " ('an-22', 'guangan-21'),\n",
       " ('shenzhen-661', 'shenzhen_657'),\n",
       " ('beijing-473', 'beijing_462'),\n",
       " ('suzhou-28', 'zuzhou-26'),\n",
       " ('shanghai-1828', 'zhuhai-126'),\n",
       " ('hefei-73', 'heifei-16'),\n",
       " ('an-57', 'huaian-3'),\n",
       " ('xuzhoujiangsu-54', 'xuzhou-1'),\n",
       " ('harbin-3', 'haerbin-26'),\n",
       " ('an-1036', 'xian-35'),\n",
       " ('an-1169', 'xian-83'),\n",
       " ('an-394', 'xian-84'),\n",
       " ('nanchong-6', 'nancong-36'),\n",
       " ('an-398', 'xian-64'),\n",
       " ('shanghai-1837', 'zhuhai-126'),\n",
       " ('beijing-592', 'zhuhai-126'),\n",
       " ('foshan-389', 'foahan-15'),\n",
       " ('an-36', 'huaian-3'),\n",
       " ('an-372', 'xian-37'),\n",
       " ('suihua-2', 'qiqihaer-11'),\n",
       " ('xuzhoujiangsu-68', 'xuzhou-5'),\n",
       " ('lingaocounty-6', 'lingao-2'),\n",
       " ('harbin-54', 'haerbin-33'),\n",
       " ('an-457', 'xian-102'),\n",
       " ('wanzhou-29', 'wanzhouqu-27'),\n",
       " ('liangping-2', 'liangjiangxinqu-15'),\n",
       " ('shanghai-1826', 'zhuhai-126'),\n",
       " ('shanghai-1579', 'zhuhai-126'),\n",
       " ('xiamen-575', 'zhuhai-126'),\n",
       " ('an-47', 'huaian-3'),\n",
       " ('harbin-5', 'haerbin-46'),\n",
       " ('an-881', 'xian-117'),\n",
       " ('an-36', 'xian-35'),\n",
       " ('an-25', 'huaian-9'),\n",
       " ('an-689', 'xian-67'),\n",
       " ('xuzhoujiangsu-56', 'xuzhou-4'),\n",
       " ('bayannaoer-2', 'huhehaote-2'),\n",
       " ('shenzhen-677', 'shenzhen_677'),\n",
       " ('beijing-538', 'beijing_538'),\n",
       " ('xuzhoujiangsu-9', 'xuzhou-8'),\n",
       " ('beijing-473', 'beijing_461'),\n",
       " ('an-45', 'xian-44'),\n",
       " ('beijing-457', 'beijing_456'),\n",
       " ('harbin-87', 'haerbin-82'),\n",
       " ('beijing-525', 'beijing_515'),\n",
       " ('lingshuicounty-5', 'lingshui-1'),\n",
       " ('yancheng-17', 'yangcheng-6'),\n",
       " ('shanghai-1827', 'zhuhai-126'),\n",
       " ('beijing-560', 'beijing_557'),\n",
       " ('beijing-563', 'beijing_557'),\n",
       " ('shanghai-1729', 'zhuhai-126'),\n",
       " ('foshan-194', 'foahan-38'),\n",
       " ('yangzhou-234', 'yangzhou-2210'),\n",
       " ('beijing-579', 'beijing_548'),\n",
       " ('beijing-553', 'beijing_553'),\n",
       " ('wangkui-5', 'qiqihaer-12'),\n",
       " ('beijing-569', 'beijing_557'),\n",
       " ('beijing-543', 'beijing_535'),\n",
       " ('beijing-105', 'beijing_549'),\n",
       " ('tech-4', 'gaoxin-2'),\n",
       " ('foshan-368', 'foahan-15'),\n",
       " ('baotou-2', 'huhehaote-1'),\n",
       " ('xuzhoujiangsu-30', 'xuzhou-26'),\n",
       " ('an-20', 'huaian-10'),\n",
       " ('an-1038', 'xian-35'),\n",
       " ('shanghai-1659', 'zhuhai-126'),\n",
       " ('an-87', 'xian-114'),\n",
       " ('foshan-169', 'foahan-38'),\n",
       " ('qiqihar-11', 'qiqihaer-9'),\n",
       " ('an-874', 'xian-112'),\n",
       " ('liangjiangnewdistrict-12', 'liangjiangxinqu-11'),\n",
       " ('an-3', 'huaian-3'),\n",
       " ('an-15', 'ganzi-5'),\n",
       " ('beihai-26', 'beiihai-24'),\n",
       " ('pingdingshan-18', 'nanyang-116'),\n",
       " ('qingdao-253', 'zhuhai-126'),\n",
       " ('shanghai-1908', 'zhuhai-126'),\n",
       " ('beijing-464', 'beijing_462'),\n",
       " ('liangjiangnewdistrict-16', 'liangjiangxinqu-15'),\n",
       " ('beihai-20', 'beiihai-26'),\n",
       " ('beijing-521', 'beijing_513'),\n",
       " ('an-2189', 'zhuhai-126'),\n",
       " ('an-2173', 'zhuhai-126'),\n",
       " ('harbin-80', 'haerbin-81'),\n",
       " ('pingxiang-27', 'pingxiang-326'),\n",
       " ('an-384', 'xian-37'),\n",
       " ('beijing-520', 'beijing_513'),\n",
       " ('an-130', 'xian-52'),\n",
       " ('an-452', 'xian-111'),\n",
       " ('shanghai-1810', 'zhuhai-126'),\n",
       " ('an-882', 'xian-87'),\n",
       " ('an-59', 'huaian-3'),\n",
       " ('shanghai-1878', 'zhuhai-126'),\n",
       " ('baoshan-1', 'xuzhou-42'),\n",
       " ('an-243', 'xian-25'),\n",
       " ('xuzhoujiangsu-77', 'xuzhou-1'),\n",
       " ('xiamen-569', 'zhuhai-126'),\n",
       " ('shanghai-1581', 'zhuhai-126'),\n",
       " ('beijing-479', 'beijing_461'),\n",
       " ('hohhot-1', 'huhehaote-2'),\n",
       " ('beijing-104', 'beijing_549'),\n",
       " ('harbin-81', 'haerbin-81'),\n",
       " ('shanghai-1782', 'zhuhai-126'),\n",
       " ('shanghai-1774', 'zhuhai-126'),\n",
       " ('an-62', 'huaian-8'),\n",
       " ('beijing-539', 'beijing_539'),\n",
       " ('hefei-50', 'heifei-16'),\n",
       " ('beijing-106', 'beijing_557'),\n",
       " ('beijing-518', 'beijing_514'),\n",
       " ('an-2015', 'an-1898'),\n",
       " ('an-800', 'xian-63'),\n",
       " ('liangjiangnewdistrict-11', 'liangjiangxinqu-15'),\n",
       " ('xuzhoujiangsu-26', 'xuzhou-18'),\n",
       " ('an-2118', 'zhuhai-126'),\n",
       " ('xuzhoujiangsu-66', 'xuzhou-5'),\n",
       " ('foshan-15', 'foahan-38'),\n",
       " ('ulanchabu-2', 'huhehaote-2'),\n",
       " ('shanghai-1615', 'zhuhai-126'),\n",
       " ('an-180', 'xian-26'),\n",
       " ('foshan-179', 'foahan-38'),\n",
       " ('beijing-475', 'beijing_463'),\n",
       " ('yancheng-7', 'yangcheng-5'),\n",
       " ('an-11', 'huaian-3'),\n",
       " ('beijing-593', 'zhuhai-126'),\n",
       " ('beijing-565', 'beijing_549'),\n",
       " ('an-2127', 'zhuhai-126'),\n",
       " ('beijing-583', 'beijing_557'),\n",
       " ('an-1018', 'xian-77'),\n",
       " ('chengdu-426', 'chengdu_406'),\n",
       " ('wuhai-1', 'wulanchabu-1'),\n",
       " ('tech-4', 'gaoxin-1'),\n",
       " ('shenzhen-279', 'shenzhne-278'),\n",
       " ('an-1111', 'xian-44'),\n",
       " ('beijing-464', 'beijing_461'),\n",
       " ('an-46', 'huaian-3'),\n",
       " ('harbin-60', 'haerbin-50'),\n",
       " ('an-2176', 'zhuhai-126'),\n",
       " ('shenzhen-662', 'shenzhen_657'),\n",
       " ('an-241', 'yanan-2'),\n",
       " ('beijing-578', 'beijing_549'),\n",
       " ('xuzhoujiangsu-11', 'xuzhou-6'),\n",
       " ('jiangsu-24', 'yangcheng-24'),\n",
       " ('xuzhoujiangsu-59', 'xuzhou-1'),\n",
       " ('bayannaoer-1', 'wulanchabu-1'),\n",
       " ('xuzhoujiangsu-71', 'xuzhou-4'),\n",
       " ('shanghai-1692', 'zhuhai-126'),\n",
       " ('beijing-480', 'beijing_462'),\n",
       " ('an-8', 'huaian-8'),\n",
       " ('an-692', 'xian-67'),\n",
       " ('an-27', 'huaian-15'),\n",
       " ('beijing-508', 'beijing_500'),\n",
       " ('foshan-155', 'foahan-38'),\n",
       " ('an-1404', 'xian-27'),\n",
       " ('an-37', 'huaian-3'),\n",
       " ('an-452', 'xian-44'),\n",
       " ('beijing-522', 'beijing_515'),\n",
       " ('pingdingshan-16', 'nanyang-116'),\n",
       " ('an-1051', 'xian-70'),\n",
       " ('beijing-462', 'beijing_461'),\n",
       " ('an-1007', 'xian-77'),\n",
       " ('harbin-29', 'haerbin-40'),\n",
       " ('xuzhoujiangsu-37', 'xuzhou-26'),\n",
       " ('an-242', 'yanan-4'),\n",
       " ('harbin-74', 'haerbin-70'),\n",
       " ('an-19', 'ganzi-5'),\n",
       " ('chengdu-418', 'chengdu_411'),\n",
       " ('xuzhoujiangsu-1', 'xuzhou-5'),\n",
       " ('shanghai-1872', 'zhuhai-126'),\n",
       " ('an-2134', 'zhuhai-126'),\n",
       " ('harbin-90', 'haerbin-82'),\n",
       " ('an-2136', 'zhuhai-126'),\n",
       " ('xuzhoujiangsu-62', 'xuzhou-4'),\n",
       " ('xiamen-567', 'zhuhai-126'),\n",
       " ('beijing-101', 'beijing_557'),\n",
       " ('shanghai-1660', 'zhuhai-126'),\n",
       " ('beijing-514', 'beijing_510'),\n",
       " ('an-444', 'xian-44'),\n",
       " ('xuzhoujiangsu-43', 'xuzhou-41'),\n",
       " ('harbin-77', 'haerbin-70'),\n",
       " ('an-65', 'xian-37'),\n",
       " ('harbin-74', 'haerbin-69'),\n",
       " ('an-1405', 'xian-27'),\n",
       " ('an-2201', 'zhuhai-126'),\n",
       " ('tongling-9', 'toling-25'),\n",
       " ('an-13', 'xian-31'),\n",
       " ('foshan-53', 'foahan-15'),\n",
       " ('harbin-35', 'haerbin-33'),\n",
       " ('southbank-12', 'nanan-13'),\n",
       " ('beijing-517', 'beijing_513'),\n",
       " ('an-2174', 'zhuhai-126'),\n",
       " ('tongling-5', 'tonling-24'),\n",
       " ('beijing-555', 'beijing_554'),\n",
       " ('chuxiong-2', 'xuzhou-41'),\n",
       " ('xiamen-589', 'zhuhai-126'),\n",
       " ('shanghai-1671', 'zhuhai-126'),\n",
       " ('an-450', 'xian-111'),\n",
       " ('an-86', 'xian-113'),\n",
       " ('an-883', 'xian-112'),\n",
       " ('an-1407', 'xian-60'),\n",
       " ('an-2013', 'an-1886'),\n",
       " ('garz-65', 'ganzi-8'),\n",
       " ('an-17', 'huaian-16'),\n",
       " ('an-630', 'xian-80'),\n",
       " ('an-32', 'huaian-11'),\n",
       " ('garz-78', 'ganzi-8'),\n",
       " ('foshan-361', 'foahan-15'),\n",
       " ('lianyungang-48', 'yangcheng-26'),\n",
       " ('an-1145', 'xian-87'),\n",
       " ('an-95', 'xian-107'),\n",
       " ('an-990', 'xian-78'),\n",
       " ('yangzhou-352', 'yangzhou-2206'),\n",
       " ('chengdu-420', 'chengdu_406'),\n",
       " ('shanghai-1887', 'zhuhai-126'),\n",
       " ('shanghai-1861', 'zhuhai-126'),\n",
       " ('beijing-454', 'beijing_455'),\n",
       " ('an-1404', 'xian-49'),\n",
       " ('shanghai-1624', 'zhuhai-126'),\n",
       " ('shanghai-1843', 'zhuhai-126'),\n",
       " ('xuzhoujiangsu-53', 'xuzhou-1'),\n",
       " ('southbank-11', 'nanan-11'),\n",
       " ('beijing-513', 'beijing_510'),\n",
       " ('an-1173', 'xian-87'),\n",
       " ('garz-52', 'ganzi-8'),\n",
       " ('fuzhou-154', 'zhuhai-126'),\n",
       " ('an-37', 'xian-37'),\n",
       " ('wangkui-6', 'qiqihaer-11'),\n",
       " ('harbin-25', 'haerbin-28'),\n",
       " ('zhanjiang-27', 'zhuhai-126'),\n",
       " ('shanghai-1588', 'zhuhai-126'),\n",
       " ('dali-1', 'xuzhou-42'),\n",
       " ('wanzhou-28', 'wanzhouqu-27'),\n",
       " ('foshan-157', 'foahan-38'),\n",
       " ('ancounty-4', 'dingan-4'),\n",
       " ('an-141', 'xian-60'),\n",
       " ('hechuan-10', 'hechaun-2'),\n",
       " ('shanghai-1856', 'zhuhai-126'),\n",
       " ('xuzhoujiangsu-16', 'xuzhou-4'),\n",
       " ('shenzhen-666', 'shenzhen_666'),\n",
       " ('xuzhoujiangsu-20', 'xuzhou-4'),\n",
       " ('baoshan-1', 'xuzhou-8'),\n",
       " ('lingshuicounty-3', 'lingshui-1'),\n",
       " ('beijing-549', 'beijing_537'),\n",
       " ('foshan-36', 'foahan-15'),\n",
       " ('an-7', 'suiining-8'),\n",
       " ('foshan-158', 'foahan-38'),\n",
       " ('pingdingshan-3', 'nanyang-116'),\n",
       " ('shanghai-1724', 'zhuhai-126'),\n",
       " ('an-1405', 'xian-49'),\n",
       " ('garz-67', 'ganzi-8'),\n",
       " ('dali-4', 'xuzhou-42'),\n",
       " ('beijing-532', 'beijing_513'),\n",
       " ('beijing-495', 'beijing_494'),\n",
       " ('an-1017', 'xian-77'),\n",
       " ('an-871', 'xian-87'),\n",
       " ('beijing-521', 'beijing_514'),\n",
       " ('shanghai-1895', 'zhuhai-126'),\n",
       " ('an-1300', 'xian-52'),\n",
       " ('beijing-100', 'beijing_548'),\n",
       " ('beijing-547', 'beijing_539'),\n",
       " ('an-951', 'xian-95'),\n",
       " ('beijing-544', 'beijing_537'),\n",
       " ('an-2', 'xian-24'),\n",
       " ('shanghai-1796', 'zhuhai-126'),\n",
       " ('beijing-571', 'beijing_548'),\n",
       " ('wuzhong-11', 'wuhzong-1'),\n",
       " ('an-2144', 'zhuhai-126'),\n",
       " ('beijing-553', 'beijing_550'),\n",
       " ('xiamen-582', 'zhuhai-126'),\n",
       " ('an-780', 'xian-99'),\n",
       " ('foshan-378', 'foahan-15'),\n",
       " ('an-242', 'xian-24'),\n",
       " ('an-1410', 'xian-60'),\n",
       " ('beijing-102', 'beijing_549'),\n",
       " ('harbin-70', 'haerbin-70'),\n",
       " ('nanyang-35', 'nanyang-117'),\n",
       " ('beijing-492', 'beijing_493'),\n",
       " ('harbin-30', 'haerbin-26'),\n",
       " ('an-1079', 'xian-95'),\n",
       " ('shuangyashan-2', 'qiqihaer-12'),\n",
       " ('xuzhoujiangsu-30', 'xuzhou-18'),\n",
       " ('xuzhoujiangsu-73', 'xuzhou-4'),\n",
       " ('an-442', 'xian-102'),\n",
       " ('yancheng-22', 'yangcheng-6'),\n",
       " ('an-381', 'xian-37'),\n",
       " ('xuzhoujiangsu-41', 'xuzhou-42'),\n",
       " ('an-645', 'xian-37'),\n",
       " ('beijing-457', 'beijing_458'),\n",
       " ('xuzhoujiangsu-70', 'xuzhou-1'),\n",
       " ('maanshan-2', 'manashan-33'),\n",
       " ('xuzhoujiangsu-42', 'xuzhou-41'),\n",
       " ('an-20', 'huaian-9'),\n",
       " ('an-100', 'xian-77'),\n",
       " ('liangjiangnewdistrict-6', 'liangjiangxinqu-15'),\n",
       " ('an-879', 'xian-87'),\n",
       " ('harbin-53', 'haerbin-33'),\n",
       " ('xuzhoujiangsu-5', 'xuzhou-1'),\n",
       " ('an-783', 'xian-78'),\n",
       " ('xinxiang-13', 'nanyang-118'),\n",
       " ('xuzhoujiangsu-48', 'xuzhou-45'),\n",
       " ('bozhou-83', 'fouzhou-96'),\n",
       " ('shanghai-1561', 'zhuhai-126'),\n",
       " ('an-875', 'xian-114'),\n",
       " ('xuzhoujiangsu-10', 'xuzhou-5'),\n",
       " ('xuzhoujiangsu-61', 'xuzhou-1'),\n",
       " ('an-40', 'huaian-3'),\n",
       " ('foshan-354', 'foahan-15'),\n",
       " ('an-353', 'xian-35'),\n",
       " ('xiamen-546', 'zhuhai-126'),\n",
       " ('an-830', 'xian-97'),\n",
       " ('an-770', 'xian-77'),\n",
       " ('beijing-570', 'beijing_549'),\n",
       " ('an-48', 'huaian-11'),\n",
       " ('beijing-574', 'beijing_549'),\n",
       " ('yancheng-14', 'yangcheng-6'),\n",
       " ('an-399', 'xian-64'),\n",
       " ('putian-224', 'zhuhai-126'),\n",
       " ('wuhai-1', 'huhehaote-1'),\n",
       " ('harbin-8', 'haerbin-70'),\n",
       " ('shanghai-1743', 'zhuhai-126'),\n",
       " ('shanghai-1845', 'zhuhai-126'),\n",
       " ('xuzhoujiangsu-76', 'xuzhou-6'),\n",
       " ('wangkui-8', 'qiqihaer-12'),\n",
       " ('shanghai-1654', 'zhuhai-126'),\n",
       " ('ordos-3', 'eerduosi-2'),\n",
       " ('dali-10', 'xuzhou-41'),\n",
       " ('an-2157', 'zhuhai-126'),\n",
       " ('shanghai-1742', 'zhuhai-126'),\n",
       " ('beijing-511', 'beijing_500'),\n",
       " ('shanghai-1679', 'zhuhai-126'),\n",
       " ('harbin-68', 'haerbin-33'),\n",
       " ('shanghai-1708', 'zhuhai-126'),\n",
       " ('xuzhoujiangsu-56', 'xuzhou-5'),\n",
       " ('an-24', 'huaian-10'),\n",
       " ('shanghai-1698', 'zhuhai-126'),\n",
       " ('harbin-8', 'haerbin-69'),\n",
       " ('an-456', 'xian-102'),\n",
       " ('garz-9', 'ganzi-5'),\n",
       " ('harbin-44', 'haerbin-50'),\n",
       " ('liangping-4', 'liangjiangxinqu-11'),\n",
       " ('foshan-376', 'foahan-15'),\n",
       " ('foshan-196', 'foahan-38'),\n",
       " ('an-357', 'xian-74'),\n",
       " ('beijing-545', 'beijing_535'),\n",
       " ('chengdu-427', 'chengdu_411'),\n",
       " ('shanghai-1610', 'zhuhai-126'),\n",
       " ('an-21', 'huaian-10'),\n",
       " ('xiamen-591', 'zhuhai-126'),\n",
       " ('beijing-542', 'beijing_539'),\n",
       " ('beijing-573', 'beijing_557'),\n",
       " ('an-446', 'xian-111'),\n",
       " ('an-1400', 'xian-49'),\n",
       " ('dali-1', 'xuzhou-8'),\n",
       " ('an-18', 'huaian-16'),\n",
       " ('an-13', 'xian-91'),\n",
       " ('an-872', 'xian-112'),\n",
       " ('harbin-78', 'haerbin-69'),\n",
       " ('an-2183', 'zhuhai-126'),\n",
       " ('wuzhong-1', 'wuhzong-1'),\n",
       " ('an-403', 'xian-40'),\n",
       " ('xuzhoujiangsu-37', 'xuzhou-18'),\n",
       " ('xuzhoujiangsu-6', 'xuzhou-6'),\n",
       " ('xiamen-559', 'zhuhai-126'),\n",
       " ('shanghai-1803', 'zhuhai-126'),\n",
       " ('chengdu-414', 'chengdu_406'),\n",
       " ('shanghai-1570', 'zhuhai-126'),\n",
       " ('wanzhou-61', 'wanzhouqu-60'),\n",
       " ('shanghai-1598', 'zhuhai-126'),\n",
       " ('harbin-75', 'haerbin-70'),\n",
       " ('foshan-154', 'foahan-38'),\n",
       " ('harbin-88', 'haerbin-82'),\n",
       " ('shanghai-1702', 'zhuhai-126'),\n",
       " ('an-25', 'huaian-2'),\n",
       " ('shenzhen-675', 'shenzhen_664'),\n",
       " ('harbin-76', 'haerbin-69'),\n",
       " ('hechuan-1', 'hechaun-2'),\n",
       " ('foshan-190', 'foahan-38'),\n",
       " ('an-21', 'guangan-22'),\n",
       " ('zhongshan-109', 'shenzhen_678'),\n",
       " ('harbin-9', 'haerbin-82'),\n",
       " ('yibin-1', 'suiining-8'),\n",
       " ('beijing-467', 'beijing_462'),\n",
       " ('beijing-510', 'beijing_502'),\n",
       " ('an-396', 'xian-84'),\n",
       " ('an-398', 'xian-37'),\n",
       " ('an-991', 'xian-78'),\n",
       " ('shanghai-1888', 'zhuhai-126'),\n",
       " ('an-2147', 'zhuhai-126'),\n",
       " ('hefei-57', 'heifei-16'),\n",
       " ('tongliang-1', 'nanan-7'),\n",
       " ('an-831', 'xian-97'),\n",
       " ('qiqihar-11', 'qiqihaer-10'),\n",
       " ('an-770', 'xian-100'),\n",
       " ('beijing-532', 'beijing_514'),\n",
       " ('shanghai-1739', 'zhuhai-126'),\n",
       " ('an-2142', 'zhuhai-126'),\n",
       " ('shanghai-1852', 'zhuhai-126'),\n",
       " ('harbin-86', 'haerbin-83'),\n",
       " ('xiamen-552', 'zhuhai-126'),\n",
       " ('garz-66', 'ganzi-8'),\n",
       " ('harbin-86', 'haerbin-80'),\n",
       " ('an-880', 'xian-114'),\n",
       " ('an-25', 'xian-24'),\n",
       " ('beijing-515', 'beijing_513'),\n",
       " ('pingdingshan-56', 'nanyang-116'),\n",
       " ('xuzhoujiangsu-41', 'xuzhou-8'),\n",
       " ('shanghai-1805', 'zhuhai-126'),\n",
       " ('an-881', 'xian-112'),\n",
       " ('an-391', 'xian-64'),\n",
       " ('an-873', 'xian-87'),\n",
       " ('harbin-56', 'haerbin-50'),\n",
       " ('harbin-89', 'haerbin-82'),\n",
       " ('huaian-68', 'huaian-8'),\n",
       " ('an-27', 'guangan-21'),\n",
       " ('xuzhoujiangsu-68', 'xuzhou-1'),\n",
       " ('xiamen-539', 'zhuhai-126'),\n",
       " ('pingdingshan-10', 'nanyang-116'),\n",
       " ('yangzhou-523', 'yangzhou-2436'),\n",
       " ('an-406', 'xian-40'),\n",
       " ('an-443', 'xian-102'),\n",
       " ('an-952', 'xian-107'),\n",
       " ('an-2190', 'zhuhai-126'),\n",
       " ('an-2208', 'zhuhai-126'),\n",
       " ('xuzhoujiangsu-43', 'xuzhou-42'),\n",
       " ('xuzhoujiangsu-71', 'xuzhou-5'),\n",
       " ('beijing-568', 'beijing_548'),\n",
       " ('wuhu-12', 'tonling-24'),\n",
       " ('beijing-467', 'beijing_461'),\n",
       " ('an-2117', 'zhuhai-126'),\n",
       " ('chuxiong-2', 'xuzhou-42'),\n",
       " ('suining-8', 'suiining-9'),\n",
       " ('an-88', 'xian-87'),\n",
       " ('shanghai-1844', 'zhuhai-126'),\n",
       " ('an-17', 'huaian-2'),\n",
       " ('harbin-95', 'haerbin-82'),\n",
       " ('an-401', 'xian-40'),\n",
       " ('tongling-23', 'tonling-24'),\n",
       " ('harbin-91', 'haerbin-82'),\n",
       " ('an-42', 'xian-40'),\n",
       " ('an-11', 'xian-32'),\n",
       " ('an-693', 'xian-67'),\n",
       " ('shanghai-1840', 'zhuhai-126'),\n",
       " ('an-259', 'xian-24'),\n",
       " ('an-441', 'xian-111'),\n",
       " ('beijing-474', 'beijing_462'),\n",
       " ('beijing-579', 'beijing_557'),\n",
       " ('chengdu-426', 'chengdu_411'),\n",
       " ('shanghai-1690', 'zhuhai-126'),\n",
       " ('an-2106', 'an-1847'),\n",
       " ('southbank-11', 'nanan-12'),\n",
       " ('xuzhoujiangsu-62', 'xuzhou-5'),\n",
       " ('baotou-2', 'huhehaote-2'),\n",
       " ('wangkui-2', 'qiqihaer-12'),\n",
       " ('shenzhen-669', 'shenzhen_668'),\n",
       " ('chuxiong-1', 'xuzhou-41'),\n",
       " ('shuangyashan-1', 'qiqihaer-12'),\n",
       " ('an-802', 'xian-63'),\n",
       " ('harbin-32', 'haerbin-31'),\n",
       " ('an-13', 'xian-98'),\n",
       " ('xuzhoujiangsu-11', 'xuzhou-4'),\n",
       " ('nanchong-23', 'nancong-22'),\n",
       " ('shenzhen-674', 'shenzhen_671'),\n",
       " ('shanghai-1846', 'zhuhai-126'),\n",
       " ('foshan-192', 'foahan-38'),\n",
       " ('an-1164', 'xian-83'),\n",
       " ('zhanjiang-26', 'zhuhai-126'),\n",
       " ('foshan-178', 'foahan-38'),\n",
       " ('baoshan-5', 'xuzhou-8'),\n",
       " ('shenzhen-676', 'shenzhen_671'),\n",
       " ('shanghai-1902', 'zhuhai-126'),\n",
       " ('foshan-365', 'foahan-15'),\n",
       " ('shanghai-1735', 'zhuhai-126'),\n",
       " ('shanghai-1762', 'zhuhai-126'),\n",
       " ('an-1403', 'xian-60'),\n",
       " ('suihua-3', 'qiqihaer-12'),\n",
       " ('xuzhoujiangsu-49', 'xuzhou-45'),\n",
       " ('baoshan-6', 'xuzhou-8'),\n",
       " ...}"
      ]
     },
     "execution_count": 67,
     "metadata": {},
     "output_type": "execute_result"
    }
   ],
   "source": [
    "failed"
   ]
  },
  {
   "cell_type": "code",
   "execution_count": 50,
   "id": "e53bce28",
   "metadata": {
    "pycharm": {
     "name": "#%%\n"
    }
   },
   "outputs": [
    {
     "data": {
      "text/plain": [
       "['Beijing_432',\n",
       " 'Beijing_433',\n",
       " 'Beijing_448',\n",
       " 'Beijing_449',\n",
       " 'Beijing_450',\n",
       " 'Beijing_451',\n",
       " 'Beijing_452',\n",
       " 'Beijing_453',\n",
       " 'Beijing_454',\n",
       " 'Beijing_455',\n",
       " 'Beijing_456',\n",
       " 'Beijing_457',\n",
       " 'Beijing_458',\n",
       " 'Beijing_461',\n",
       " 'Beijing_462',\n",
       " 'Beijing_463',\n",
       " 'Beijing_492',\n",
       " 'Beijing_493',\n",
       " 'Beijing_494',\n",
       " 'Beijing_495',\n",
       " 'Beijing_496',\n",
       " 'Beijing_497',\n",
       " 'Beijing_498',\n",
       " 'Beijing_500',\n",
       " 'Beijing_501',\n",
       " 'Beijing_502',\n",
       " 'Beijing_513',\n",
       " 'Beijing_514',\n",
       " 'Beijing_515',\n",
       " 'Beijing_535',\n",
       " 'Beijing_536',\n",
       " 'Beijing_537',\n",
       " 'Beijing_538',\n",
       " 'Beijing_539',\n",
       " 'Beijing_550',\n",
       " 'Beijing_551',\n",
       " 'Beijing_552',\n",
       " 'Beijing_553',\n",
       " 'Beijing_554',\n",
       " 'Beijing_557',\n",
       " 'Beijing-11',\n",
       " 'Beijing-12',\n",
       " 'Beijing-13',\n",
       " 'Beijing-14',\n",
       " 'Beijing-144',\n",
       " 'Beijing-146',\n",
       " 'Beijing-17',\n",
       " 'Beijing-173',\n",
       " 'Beijing-174',\n",
       " 'Beijing-175',\n",
       " 'Beijing-18',\n",
       " 'Beijing-19',\n",
       " 'Beijing-199',\n",
       " 'Beijing-200',\n",
       " 'Beijing-201',\n",
       " 'Beijing-203',\n",
       " 'Beijing-207',\n",
       " 'Beijing-208',\n",
       " 'Beijing-211',\n",
       " 'Beijing-212',\n",
       " 'Beijing-213',\n",
       " 'Beijing-214',\n",
       " 'Beijing-215',\n",
       " 'Beijing-216',\n",
       " 'Beijing-23',\n",
       " 'Beijing-24',\n",
       " 'Beijing-29',\n",
       " 'Beijing-30',\n",
       " 'Beijing-373',\n",
       " 'Beijing-374',\n",
       " 'Beijing-385',\n",
       " 'Beijing-386',\n",
       " 'Beijing-388',\n",
       " 'Beijing-67',\n",
       " 'Beijing-68',\n",
       " 'Beijing-69']"
      ]
     },
     "execution_count": 50,
     "metadata": {},
     "output_type": "execute_result"
    }
   ],
   "source": [
    "cases_with_contact_info['ID'].loc[cases_with_contact_info['ID'].str.contains('Beijing')].to_list()"
   ]
  },
  {
   "cell_type": "code",
   "execution_count": 68,
   "id": "926d9bef",
   "metadata": {
    "pycharm": {
     "name": "#%%\n"
    }
   },
   "outputs": [],
   "source": [
    "network = nx.Graph()\n",
    "network.add_edges_from(edge_list)\n",
    "network.add_nodes_from(node_list)"
   ]
  },
  {
   "cell_type": "code",
   "execution_count": 69,
   "id": "1ecfc65b",
   "metadata": {
    "pycharm": {
     "name": "#%%\n"
    }
   },
   "outputs": [
    {
     "data": {
      "text/plain": [
       "29529"
      ]
     },
     "execution_count": 69,
     "metadata": {},
     "output_type": "execute_result"
    }
   ],
   "source": [
    "len(network.nodes)"
   ]
  },
  {
   "cell_type": "code",
   "execution_count": 84,
   "id": "c86984b6",
   "metadata": {
    "pycharm": {
     "name": "#%%\n"
    }
   },
   "outputs": [],
   "source": [
    "\n",
    "with open('network.json', mode='w') as of:\n",
    "    json.dump(nx.node_link_data(network), of)"
   ]
  },
  {
   "cell_type": "code",
   "execution_count": 2,
   "id": "e61fa883",
   "metadata": {
    "pycharm": {
     "name": "#%%\n"
    }
   },
   "outputs": [],
   "source": [
    "with open('network.json', mode='r') as f:\n",
    "    network = nx.node_link_graph(json.load(f))"
   ]
  },
  {
   "cell_type": "code",
   "execution_count": 5,
   "id": "dbd58451",
   "metadata": {
    "pycharm": {
     "name": "#%%\n"
    }
   },
   "outputs": [
    {
     "data": {
      "text/plain": [
       "array([660, 810, 809, ...,   3,   1,   2], dtype=int64)"
      ]
     },
     "execution_count": 5,
     "metadata": {},
     "output_type": "execute_result"
    }
   ],
   "source": [
    "array = np.array(nx.degree_histogram(network))\n",
    "np.argsort(array)"
   ]
  },
  {
   "cell_type": "code",
   "execution_count": 71,
   "id": "36096282",
   "metadata": {
    "pycharm": {
     "name": "#%%\n"
    }
   },
   "outputs": [
    {
     "data": {
      "text/plain": [
       "array([    0,     0,     0, ...,  3194,  6179, 12818])"
      ]
     },
     "execution_count": 71,
     "metadata": {},
     "output_type": "execute_result"
    }
   ],
   "source": [
    "np.sort(array)"
   ]
  },
  {
   "cell_type": "code",
   "execution_count": 12,
   "id": "dd4a5d64",
   "metadata": {
    "pycharm": {
     "name": "#%%\n"
    }
   },
   "outputs": [
    {
     "data": {
      "text/plain": [
       "(3.600528294219242, 18.27318158555257)"
      ]
     },
     "execution_count": 12,
     "metadata": {},
     "output_type": "execute_result"
    }
   ],
   "source": [
    "pd.Series(dict(network.degree)).mean(), pd.Series(dict(network.degree)).std()"
   ]
  },
  {
   "cell_type": "code",
   "execution_count": 17,
   "id": "4e92d3a7",
   "metadata": {
    "pycharm": {
     "name": "#%%\n"
    }
   },
   "outputs": [
    {
     "data": {
      "text/plain": [
       "0.9318635917233906"
      ]
     },
     "execution_count": 17,
     "metadata": {},
     "output_type": "execute_result"
    }
   ],
   "source": [
    "tmp = pd.Series(dict(network.degree))\n",
    "tmp.loc[tmp > 0].shape[0] / tmp.shape[0]"
   ]
  },
  {
   "cell_type": "code",
   "execution_count": 18,
   "id": "93d2e162",
   "metadata": {
    "pycharm": {
     "name": "#%%\n"
    }
   },
   "outputs": [
    {
     "data": {
      "text/plain": [
       "2.0"
      ]
     },
     "execution_count": 18,
     "metadata": {},
     "output_type": "execute_result"
    }
   ],
   "source": [
    "tmp.median()"
   ]
  },
  {
   "cell_type": "code",
   "execution_count": 8,
   "id": "71ce61ba",
   "metadata": {
    "pycharm": {
     "name": "#%%\n"
    }
   },
   "outputs": [],
   "source": []
  },
  {
   "cell_type": "code",
   "execution_count": 77,
   "id": "2b44539b",
   "metadata": {
    "pycharm": {
     "name": "#%%\n"
    }
   },
   "outputs": [],
   "source": [
    "d = dict()\n",
    "for i, degree in enumerate(np.argsort(array)):\n",
    "    count = np.sort(array)[i]\n",
    "    if count > 0:\n",
    "        d[degree] = count"
   ]
  },
  {
   "cell_type": "code",
   "execution_count": 83,
   "id": "0a32ec52",
   "metadata": {
    "pycharm": {
     "name": "#%%\n"
    }
   },
   "outputs": [
    {
     "data": {
      "text/plain": [
       "29529"
      ]
     },
     "execution_count": 83,
     "metadata": {},
     "output_type": "execute_result"
    }
   ],
   "source": [
    "sum(d.values())"
   ]
  },
  {
   "cell_type": "code",
   "execution_count": 82,
   "id": "fffc95a0",
   "metadata": {
    "pycharm": {
     "name": "#%%\n"
    }
   },
   "outputs": [
    {
     "data": {
      "text/plain": [
       "OrderedDict([(0, 2012),\n",
       "             (1, 6179),\n",
       "             (2, 12818),\n",
       "             (3, 3194),\n",
       "             (4, 1619),\n",
       "             (5, 966),\n",
       "             (6, 504),\n",
       "             (7, 350),\n",
       "             (8, 446),\n",
       "             (9, 194),\n",
       "             (10, 152),\n",
       "             (11, 131),\n",
       "             (12, 150),\n",
       "             (13, 70),\n",
       "             (14, 74),\n",
       "             (15, 64),\n",
       "             (16, 64),\n",
       "             (17, 51),\n",
       "             (18, 20),\n",
       "             (19, 24),\n",
       "             (20, 23),\n",
       "             (21, 11),\n",
       "             (22, 35),\n",
       "             (23, 33),\n",
       "             (24, 20),\n",
       "             (25, 32),\n",
       "             (26, 9),\n",
       "             (27, 14),\n",
       "             (28, 15),\n",
       "             (29, 8),\n",
       "             (30, 4),\n",
       "             (31, 13),\n",
       "             (32, 3),\n",
       "             (33, 11),\n",
       "             (34, 7),\n",
       "             (35, 7),\n",
       "             (37, 9),\n",
       "             (38, 6),\n",
       "             (39, 4),\n",
       "             (40, 2),\n",
       "             (41, 6),\n",
       "             (42, 4),\n",
       "             (43, 2),\n",
       "             (44, 12),\n",
       "             (45, 4),\n",
       "             (46, 1),\n",
       "             (47, 2),\n",
       "             (50, 5),\n",
       "             (51, 4),\n",
       "             (53, 1),\n",
       "             (54, 8),\n",
       "             (55, 7),\n",
       "             (56, 1),\n",
       "             (57, 1),\n",
       "             (59, 1),\n",
       "             (60, 2),\n",
       "             (61, 2),\n",
       "             (64, 1),\n",
       "             (65, 3),\n",
       "             (66, 1),\n",
       "             (67, 1),\n",
       "             (69, 1),\n",
       "             (71, 1),\n",
       "             (75, 1),\n",
       "             (76, 3),\n",
       "             (77, 4),\n",
       "             (78, 5),\n",
       "             (79, 4),\n",
       "             (82, 1),\n",
       "             (87, 1),\n",
       "             (88, 2),\n",
       "             (89, 2),\n",
       "             (90, 3),\n",
       "             (92, 3),\n",
       "             (93, 5),\n",
       "             (99, 1),\n",
       "             (102, 4),\n",
       "             (103, 3),\n",
       "             (106, 2),\n",
       "             (108, 3),\n",
       "             (109, 2),\n",
       "             (119, 5),\n",
       "             (121, 2),\n",
       "             (132, 2),\n",
       "             (135, 8),\n",
       "             (152, 3),\n",
       "             (155, 1),\n",
       "             (156, 2),\n",
       "             (165, 9),\n",
       "             (169, 1),\n",
       "             (171, 1),\n",
       "             (175, 1),\n",
       "             (189, 1),\n",
       "             (203, 1),\n",
       "             (221, 2),\n",
       "             (225, 1),\n",
       "             (238, 2),\n",
       "             (264, 2),\n",
       "             (270, 1),\n",
       "             (287, 2),\n",
       "             (445, 1),\n",
       "             (462, 1),\n",
       "             (476, 1),\n",
       "             (478, 1),\n",
       "             (493, 2),\n",
       "             (542, 2),\n",
       "             (553, 2),\n",
       "             (582, 1),\n",
       "             (1123, 1),\n",
       "             (1317, 1),\n",
       "             (1320, 1)])"
      ]
     },
     "execution_count": 82,
     "metadata": {},
     "output_type": "execute_result"
    }
   ],
   "source": [
    "OrderedDict(sorted(d.items()))"
   ]
  },
  {
   "cell_type": "code",
   "execution_count": 72,
   "id": "7054dd20",
   "metadata": {
    "pycharm": {
     "name": "#%%\n"
    }
   },
   "outputs": [],
   "source": [
    "connected_components = nx.connected_components(network)\n",
    "connected_components = np.array(list(connected_components))"
   ]
  },
  {
   "cell_type": "code",
   "execution_count": 73,
   "id": "99af0846",
   "metadata": {
    "pycharm": {
     "name": "#%%\n"
    }
   },
   "outputs": [
    {
     "data": {
      "text/plain": [
       "3573"
      ]
     },
     "execution_count": 73,
     "metadata": {},
     "output_type": "execute_result"
    }
   ],
   "source": [
    "len(connected_components)"
   ]
  },
  {
   "cell_type": "code",
   "execution_count": 74,
   "id": "9d152fc4",
   "metadata": {
    "pycharm": {
     "name": "#%%\n"
    }
   },
   "outputs": [
    {
     "data": {
      "text/plain": [
       "Counter({True: 1333, False: 2240})"
      ]
     },
     "execution_count": 74,
     "metadata": {},
     "output_type": "execute_result"
    }
   ],
   "source": [
    "from collections import Counter\n",
    "Counter(np.array([len(x) for x in connected_components]) > 3)"
   ]
  },
  {
   "cell_type": "code",
   "execution_count": 7,
   "outputs": [],
   "source": [
    "china_nodelist = pd.read_csv('../Data/Preprocessed/china_nodelist.csv')\n"
   ],
   "metadata": {
    "collapsed": false,
    "pycharm": {
     "name": "#%%\n"
    }
   }
  },
  {
   "cell_type": "code",
   "execution_count": 9,
   "outputs": [
    {
     "name": "stdout",
     "output_type": "stream",
     "text": [
      "<class 'pandas.core.frame.DataFrame'>\n",
      "RangeIndex: 25877 entries, 0 to 25876\n",
      "Data columns (total 10 columns):\n",
      " #   Column            Non-Null Count  Dtype \n",
      "---  ------            --------------  ----- \n",
      " 0   Unnamed: 0        25877 non-null  int64 \n",
      " 1   node_id           25877 non-null  object\n",
      " 2   age               19702 non-null  object\n",
      " 3   gender            20275 non-null  object\n",
      " 4   residency         16800 non-null  object\n",
      " 5   place_event       8463 non-null   object\n",
      " 6   possible_source   6200 non-null   object\n",
      " 7   symptom           6002 non-null   object\n",
      " 8   symptom_severity  7249 non-null   object\n",
      " 9   place_admission   25730 non-null  object\n",
      "dtypes: int64(1), object(9)\n",
      "memory usage: 2.0+ MB\n"
     ]
    }
   ],
   "source": [
    "china_nodelist.info()"
   ],
   "metadata": {
    "collapsed": false,
    "pycharm": {
     "name": "#%%\n"
    }
   }
  },
  {
   "cell_type": "code",
   "execution_count": 24,
   "outputs": [
    {
     "data": {
      "text/plain": "0        49.0\n1        54.0\n2        50.0\n3        46.0\n4        58.0\n         ... \n25872     NaN\n25873     NaN\n25874     NaN\n25875     NaN\n25876     NaN\nName: age, Length: 25877, dtype: float64"
     },
     "execution_count": 24,
     "metadata": {},
     "output_type": "execute_result"
    }
   ],
   "source": [
    "china_nodelist['age'] = pd.to_numeric(china_nodelist['age'], errors='coerce')"
   ],
   "metadata": {
    "collapsed": false,
    "pycharm": {
     "name": "#%%\n"
    }
   }
  },
  {
   "cell_type": "code",
   "execution_count": 26,
   "outputs": [
    {
     "name": "stdout",
     "output_type": "stream",
     "text": [
      "<class 'pandas.core.series.Series'>\n",
      "RangeIndex: 25877 entries, 0 to 25876\n",
      "Series name: age\n",
      "Non-Null Count  Dtype  \n",
      "--------------  -----  \n",
      "19671 non-null  float64\n",
      "dtypes: float64(1)\n",
      "memory usage: 202.3 KB\n"
     ]
    }
   ],
   "source": [
    "china_nodelist['age'].info()"
   ],
   "metadata": {
    "collapsed": false,
    "pycharm": {
     "name": "#%%\n"
    }
   }
  },
  {
   "cell_type": "code",
   "execution_count": 25,
   "outputs": [
    {
     "data": {
      "text/plain": "count    19671.000000\nmean        41.711682\nstd         18.058628\nmin          0.000000\n25%         30.000000\n50%         41.000000\n75%         54.000000\nmax        644.000000\nName: age, dtype: float64"
     },
     "execution_count": 25,
     "metadata": {},
     "output_type": "execute_result"
    }
   ],
   "source": [
    "china_nodelist['age'].describe()"
   ],
   "metadata": {
    "collapsed": false,
    "pycharm": {
     "name": "#%%\n"
    }
   }
  },
  {
   "cell_type": "code",
   "execution_count": 27,
   "outputs": [],
   "source": [
    "china_nodelist['gender'] = china_nodelist['gender'].apply(lambda x: str(x).lower())\n",
    "china_nodelist['gender'] = china_nodelist['gender'].apply(lambda x: x.strip())\n",
    "china_nodelist['gender'] = china_nodelist['gender'].apply(lambda x: 'male' if x in ('male', 'man') else x)\n",
    "china_nodelist['gender'] = china_nodelist['gender'].apply(lambda x: np.nan if x not in ('male', 'female') else x)"
   ],
   "metadata": {
    "collapsed": false,
    "pycharm": {
     "name": "#%%\n"
    }
   }
  },
  {
   "cell_type": "code",
   "execution_count": 28,
   "outputs": [
    {
     "name": "stdout",
     "output_type": "stream",
     "text": [
      "<class 'pandas.core.series.Series'>\n",
      "RangeIndex: 25877 entries, 0 to 25876\n",
      "Series name: gender\n",
      "Non-Null Count  Dtype \n",
      "--------------  ----- \n",
      "20252 non-null  object\n",
      "dtypes: object(1)\n",
      "memory usage: 202.3+ KB\n"
     ]
    }
   ],
   "source": [
    "china_nodelist['gender'].info()"
   ],
   "metadata": {
    "collapsed": false,
    "pycharm": {
     "name": "#%%\n"
    }
   }
  },
  {
   "cell_type": "code",
   "execution_count": 29,
   "outputs": [
    {
     "data": {
      "text/plain": "dict_items([('male', 11182), ('female', 9070), (nan, 5625)])"
     },
     "execution_count": 29,
     "metadata": {},
     "output_type": "execute_result"
    }
   ],
   "source": [
    "Counter(china_nodelist['gender']).items()"
   ],
   "metadata": {
    "collapsed": false,
    "pycharm": {
     "name": "#%%\n"
    }
   }
  },
  {
   "cell_type": "code",
   "execution_count": 10,
   "outputs": [],
   "source": [
    "china_edgelist = pd.read_csv('../Data/Preprocessed/china_edgelist.csv')"
   ],
   "metadata": {
    "collapsed": false,
    "pycharm": {
     "name": "#%%\n"
    }
   }
  },
  {
   "cell_type": "code",
   "execution_count": 30,
   "outputs": [],
   "source": [
    "china_nodelist['residency'] = china_nodelist['residency'].apply(lambda x: str(x).lower())\n",
    "china_nodelist['residency'] = china_nodelist['residency'].apply(lambda x: x.strip())\n",
    "\n",
    "china_nodelist['place_event'] = china_nodelist['place_event'].apply(lambda x: str(x).lower())\n",
    "china_nodelist['place_event'] = china_nodelist['place_event'].apply(lambda x: x.strip())\n",
    "\n",
    "china_nodelist['symptom'] = china_nodelist['symptom'].apply(lambda x: str(x).lower())\n",
    "china_nodelist['symptom'] = china_nodelist['symptom'].apply(lambda x: x.strip())\n",
    "most_common_symptoms = Counter(china_nodelist['symptom']).most_common()\n",
    "symptom_keys = set([x[0] for x in most_common_symptoms])\n",
    "china_nodelist['symptom'] = china_nodelist['symptom'].apply(lambda x: x if x in symptom_keys else np.nan)\n",
    "\n",
    "china_nodelist['place_admission'] = china_nodelist['place_admission'].apply(lambda x: str(x).lower())\n",
    "china_nodelist['place_admission'] = china_nodelist['place_admission'].apply(lambda x: x.strip())\n",
    "\n",
    "china_nodelist['symptom_severity'] = china_nodelist['symptom_severity'].apply(lambda x: str(x).lower())\n",
    "china_nodelist['symptom_severity'] = china_nodelist['symptom_severity'].apply(lambda x: x.strip())\n",
    "china_nodelist['symptom_severity'] = china_nodelist['symptom_severity'].apply(lambda x: x if x in ('stable', 'mild', 'light', 'severe') else np.nan)"
   ],
   "metadata": {
    "collapsed": false,
    "pycharm": {
     "name": "#%%\n"
    }
   }
  },
  {
   "cell_type": "code",
   "execution_count": 32,
   "outputs": [
    {
     "data": {
      "text/plain": "[('nan', 9077),\n (\"shaanxi_xi'an\", 1947),\n ('hubei_wuhan', 1671),\n ('hebei_shijiazhuang', 888),\n ('inner mongolia_hulunbuir', 547),\n ('henan_xuchang', 367),\n ('jilin_tonghua', 324),\n ('zhengzhou, henan', 304),\n ('guangdong_shenzhen', 269),\n ('henan_xinyang', 200)]"
     },
     "execution_count": 32,
     "metadata": {},
     "output_type": "execute_result"
    }
   ],
   "source": [
    "Counter(china_nodelist['residency']).most_common(10)"
   ],
   "metadata": {
    "collapsed": false,
    "pycharm": {
     "name": "#%%\n"
    }
   }
  },
  {
   "cell_type": "code",
   "execution_count": 33,
   "outputs": [
    {
     "data": {
      "text/plain": "[('nan', 17414),\n ('na', 753),\n ('wuhan travel', 596),\n ('dinner', 360),\n ('wuhan residence', 337),\n ('work in wuhan', 263),\n ('travel', 224),\n ('wuhan life', 212),\n ('tourism', 190),\n ('family contact', 149)]"
     },
     "execution_count": 33,
     "metadata": {},
     "output_type": "execute_result"
    }
   ],
   "source": [
    "Counter(china_nodelist['place_event']).most_common(10)"
   ],
   "metadata": {
    "collapsed": false,
    "pycharm": {
     "name": "#%%\n"
    }
   }
  },
  {
   "cell_type": "code",
   "execution_count": 35,
   "outputs": [
    {
     "data": {
      "text/plain": "[('nan', 19875),\n ('somatosensory related-sign description', 1904),\n ('respiratory system related-symptom description/somatosensory related-sign description',\n  640),\n ('respiratory system related-symptom description', 495),\n ('asymptomatic', 458),\n ('somatosensory related-symptom description/somatosensory related-sign description',\n  371),\n ('na', 267),\n ('somatosensory related-symptom description', 226),\n ('somatosensory related-symptom description/respiratory system related-symptom description/somatosensory related-sign description',\n  208),\n ('asymptomatic/na', 189)]"
     },
     "execution_count": 35,
     "metadata": {},
     "output_type": "execute_result"
    }
   ],
   "source": [
    "Counter(china_nodelist['symptom']).most_common(10)"
   ],
   "metadata": {
    "collapsed": false,
    "pycharm": {
     "name": "#%%\n"
    }
   }
  },
  {
   "cell_type": "code",
   "execution_count": 36,
   "outputs": [
    {
     "data": {
      "text/plain": "[(nan, 18816),\n ('stable', 3979),\n ('mild', 2545),\n ('light', 405),\n ('severe', 132)]"
     },
     "execution_count": 36,
     "metadata": {},
     "output_type": "execute_result"
    }
   ],
   "source": [
    "Counter(china_nodelist['symptom_severity']).most_common(10)"
   ],
   "metadata": {
    "collapsed": false,
    "pycharm": {
     "name": "#%%\n"
    }
   }
  },
  {
   "cell_type": "code",
   "execution_count": 38,
   "outputs": [
    {
     "name": "stdout",
     "output_type": "stream",
     "text": [
      "<class 'pandas.core.series.Series'>\n",
      "RangeIndex: 25877 entries, 0 to 25876\n",
      "Series name: place_admission\n",
      "Non-Null Count  Dtype \n",
      "--------------  ----- \n",
      "25877 non-null  object\n",
      "dtypes: object(1)\n",
      "memory usage: 202.3+ KB\n"
     ]
    }
   ],
   "source": [
    "china_nodelist['place_admission'].info()"
   ],
   "metadata": {
    "collapsed": false,
    "pycharm": {
     "name": "#%%\n"
    }
   }
  },
  {
   "cell_type": "code",
   "execution_count": 37,
   "outputs": [
    {
     "data": {
      "text/plain": "[(\"shaanxi_xi'an\", 2292),\n ('shanghai', 2079),\n ('guangzhou, guangdong', 1398),\n ('hebei_shijiazhuang', 920),\n ('sichuan_chengdu', 768),\n ('inner mongolia_hulunbuir', 548),\n ('jiangsu_yangzhou', 547),\n ('tianjin', 511),\n ('fujian xiamen', 506),\n ('zhejiang_wenzhou', 473)]"
     },
     "execution_count": 37,
     "metadata": {},
     "output_type": "execute_result"
    }
   ],
   "source": [
    "Counter(china_nodelist['place_admission']).most_common(10)"
   ],
   "metadata": {
    "collapsed": false,
    "pycharm": {
     "name": "#%%\n"
    }
   }
  },
  {
   "cell_type": "code",
   "execution_count": 11,
   "outputs": [
    {
     "name": "stdout",
     "output_type": "stream",
     "text": [
      "<class 'pandas.core.frame.DataFrame'>\n",
      "RangeIndex: 38393 entries, 0 to 38392\n",
      "Data columns (total 4 columns):\n",
      " #   Column      Non-Null Count  Dtype \n",
      "---  ------      --------------  ----- \n",
      " 0   Unnamed: 0  38393 non-null  int64 \n",
      " 1   Referee     38393 non-null  object\n",
      " 2   Referral    11436 non-null  object\n",
      " 3   Date        38393 non-null  int64 \n",
      "dtypes: int64(2), object(2)\n",
      "memory usage: 1.2+ MB\n"
     ]
    }
   ],
   "source": [
    "china_edgelist.info()"
   ],
   "metadata": {
    "collapsed": false,
    "pycharm": {
     "name": "#%%\n"
    }
   }
  },
  {
   "cell_type": "code",
   "execution_count": 12,
   "outputs": [
    {
     "data": {
      "text/plain": "count     38393.000000\nmean     205439.980127\nstd        6431.278786\nmin      200101.000000\n25%      200206.000000\n50%      200413.000000\n75%      210814.000000\nmax      220814.000000\nName: Date, dtype: float64"
     },
     "execution_count": 12,
     "metadata": {},
     "output_type": "execute_result"
    }
   ],
   "source": [
    "china_edgelist['Date'].describe()"
   ],
   "metadata": {
    "collapsed": false,
    "pycharm": {
     "name": "#%%\n"
    }
   }
  },
  {
   "cell_type": "code",
   "execution_count": 17,
   "outputs": [],
   "source": [
    "from network_analysis.basic_framework import BasicAnalysisFramework\n",
    "network = BasicAnalysisFramework()"
   ],
   "metadata": {
    "collapsed": false,
    "pycharm": {
     "name": "#%%\n"
    }
   }
  },
  {
   "cell_type": "code",
   "execution_count": 18,
   "outputs": [
    {
     "name": "stderr",
     "output_type": "stream",
     "text": [
      "E:\\Data\\masterarbeit\\network_analysis\\basic_framework.py:19: SettingWithCopyWarning: \n",
      "A value is trying to be set on a copy of a slice from a DataFrame.\n",
      "Try using .loc[row_indexer,col_indexer] = value instead\n",
      "\n",
      "See the caveats in the documentation: https://pandas.pydata.org/pandas-docs/stable/user_guide/indexing.html#returning-a-view-versus-a-copy\n",
      "  rows_with_contact['Referee'] = rows_with_contact['Referee'].astype('str', errors='ignore').apply(lambda x: x.split('.')[0])\n",
      "E:\\Data\\masterarbeit\\network_analysis\\basic_framework.py:20: SettingWithCopyWarning: \n",
      "A value is trying to be set on a copy of a slice from a DataFrame.\n",
      "Try using .loc[row_indexer,col_indexer] = value instead\n",
      "\n",
      "See the caveats in the documentation: https://pandas.pydata.org/pandas-docs/stable/user_guide/indexing.html#returning-a-view-versus-a-copy\n",
      "  rows_with_contact['Referral'] = rows_with_contact['Referral'].astype('str', errors='ignore').apply(lambda x: x.split('.')[0])\n",
      "E:\\Data\\masterarbeit\\network_analysis\\basic_framework.py:21: SettingWithCopyWarning: \n",
      "A value is trying to be set on a copy of a slice from a DataFrame.\n",
      "Try using .loc[row_indexer,col_indexer] = value instead\n",
      "\n",
      "See the caveats in the documentation: https://pandas.pydata.org/pandas-docs/stable/user_guide/indexing.html#returning-a-view-versus-a-copy\n",
      "  rows_without_contact['Referee'] = rows_without_contact['Referee'].astype('str', errors='ignore').apply(lambda x: x.split('.')[0])\n",
      "E:\\Data\\masterarbeit\\network_analysis\\basic_framework.py:22: SettingWithCopyWarning: \n",
      "A value is trying to be set on a copy of a slice from a DataFrame.\n",
      "Try using .loc[row_indexer,col_indexer] = value instead\n",
      "\n",
      "See the caveats in the documentation: https://pandas.pydata.org/pandas-docs/stable/user_guide/indexing.html#returning-a-view-versus-a-copy\n",
      "  rows_without_contact['Referral'] = rows_without_contact['Referral'].astype('str', errors='ignore').apply(lambda x: x.split('.')[0])\n"
     ]
    }
   ],
   "source": [
    "network.load_edgelist('../Data/Preprocessed/china_edgelist.csv')"
   ],
   "metadata": {
    "collapsed": false,
    "pycharm": {
     "name": "#%%\n"
    }
   }
  },
  {
   "cell_type": "code",
   "execution_count": 21,
   "outputs": [
    {
     "data": {
      "text/plain": "OrderedDict([(0, 20557),\n             (1, 2995),\n             (2, 1045),\n             (3, 496),\n             (4, 237),\n             (5, 155),\n             (6, 113),\n             (7, 85),\n             (8, 25),\n             (9, 40),\n             (10, 33),\n             (11, 37),\n             (12, 1),\n             (13, 15),\n             (15, 2),\n             (16, 31),\n             (18, 1),\n             (22, 1),\n             (24, 2),\n             (44, 1),\n             (47, 1),\n             (56, 1),\n             (63, 1),\n             (64, 1),\n             (135, 1)])"
     },
     "execution_count": 21,
     "metadata": {},
     "output_type": "execute_result"
    }
   ],
   "source": [
    "array = np.array(nx.degree_histogram(network._network))\n",
    "d = dict()\n",
    "for i, degree in enumerate(np.argsort(array)):\n",
    "    count = np.sort(array)[i]\n",
    "    if count > 0:\n",
    "        d[degree] = count\n",
    "OrderedDict(sorted(d.items()))"
   ],
   "metadata": {
    "collapsed": false,
    "pycharm": {
     "name": "#%%\n"
    }
   }
  },
  {
   "cell_type": "code",
   "execution_count": null,
   "outputs": [],
   "source": [],
   "metadata": {
    "collapsed": false,
    "pycharm": {
     "name": "#%%\n"
    }
   }
  },
  {
   "cell_type": "code",
   "execution_count": null,
   "outputs": [],
   "source": [],
   "metadata": {
    "collapsed": false,
    "pycharm": {
     "name": "#%%\n"
    }
   }
  },
  {
   "cell_type": "markdown",
   "source": [
    "## Xi'an Dataset"
   ],
   "metadata": {
    "collapsed": false,
    "pycharm": {
     "name": "#%% md\n"
    }
   }
  },
  {
   "cell_type": "code",
   "execution_count": 2,
   "outputs": [
    {
     "data": {
      "text/plain": "        Id  Label  timeset  Degree  componentnumber  pageranks  Eccentricity  \\\n0        1    1.0      NaN       1                0   0.000813             1   \n1        2    NaN      NaN       0                1   0.000122             0   \n2        3    3.0      NaN       1                0   0.000813             1   \n3        4    4.0      NaN       5                2   0.001976             4   \n4        5    5.0      NaN      12                2   0.004200             3   \n...    ...    ...      ...     ...              ...        ...           ...   \n2045  2046    NaN      NaN       0             1286   0.000122             0   \n2046  2047    NaN      NaN       0             1287   0.000122             0   \n2047  2048    NaN      NaN       0             1288   0.000122             0   \n2048  2049    NaN      NaN       0             1289   0.000122             0   \n2049  2050    NaN      NaN       0             1290   0.000122             0   \n\n      closnesscentrality  harmonicclosnesscentrality  betweenesscentrality  \n0               1.000000                    1.000000                     0  \n1               0.000000                    0.000000                     0  \n2               1.000000                    1.000000                     0  \n3               0.357955                    0.404762                   242  \n4               0.516393                    0.574074                  1675  \n...                  ...                         ...                   ...  \n2045            0.000000                    0.000000                     0  \n2046            0.000000                    0.000000                     0  \n2047            0.000000                    0.000000                     0  \n2048            0.000000                    0.000000                     0  \n2049            0.000000                    0.000000                     0  \n\n[2050 rows x 10 columns]",
      "text/html": "<div>\n<style scoped>\n    .dataframe tbody tr th:only-of-type {\n        vertical-align: middle;\n    }\n\n    .dataframe tbody tr th {\n        vertical-align: top;\n    }\n\n    .dataframe thead th {\n        text-align: right;\n    }\n</style>\n<table border=\"1\" class=\"dataframe\">\n  <thead>\n    <tr style=\"text-align: right;\">\n      <th></th>\n      <th>Id</th>\n      <th>Label</th>\n      <th>timeset</th>\n      <th>Degree</th>\n      <th>componentnumber</th>\n      <th>pageranks</th>\n      <th>Eccentricity</th>\n      <th>closnesscentrality</th>\n      <th>harmonicclosnesscentrality</th>\n      <th>betweenesscentrality</th>\n    </tr>\n  </thead>\n  <tbody>\n    <tr>\n      <th>0</th>\n      <td>1</td>\n      <td>1.0</td>\n      <td>NaN</td>\n      <td>1</td>\n      <td>0</td>\n      <td>0.000813</td>\n      <td>1</td>\n      <td>1.000000</td>\n      <td>1.000000</td>\n      <td>0</td>\n    </tr>\n    <tr>\n      <th>1</th>\n      <td>2</td>\n      <td>NaN</td>\n      <td>NaN</td>\n      <td>0</td>\n      <td>1</td>\n      <td>0.000122</td>\n      <td>0</td>\n      <td>0.000000</td>\n      <td>0.000000</td>\n      <td>0</td>\n    </tr>\n    <tr>\n      <th>2</th>\n      <td>3</td>\n      <td>3.0</td>\n      <td>NaN</td>\n      <td>1</td>\n      <td>0</td>\n      <td>0.000813</td>\n      <td>1</td>\n      <td>1.000000</td>\n      <td>1.000000</td>\n      <td>0</td>\n    </tr>\n    <tr>\n      <th>3</th>\n      <td>4</td>\n      <td>4.0</td>\n      <td>NaN</td>\n      <td>5</td>\n      <td>2</td>\n      <td>0.001976</td>\n      <td>4</td>\n      <td>0.357955</td>\n      <td>0.404762</td>\n      <td>242</td>\n    </tr>\n    <tr>\n      <th>4</th>\n      <td>5</td>\n      <td>5.0</td>\n      <td>NaN</td>\n      <td>12</td>\n      <td>2</td>\n      <td>0.004200</td>\n      <td>3</td>\n      <td>0.516393</td>\n      <td>0.574074</td>\n      <td>1675</td>\n    </tr>\n    <tr>\n      <th>...</th>\n      <td>...</td>\n      <td>...</td>\n      <td>...</td>\n      <td>...</td>\n      <td>...</td>\n      <td>...</td>\n      <td>...</td>\n      <td>...</td>\n      <td>...</td>\n      <td>...</td>\n    </tr>\n    <tr>\n      <th>2045</th>\n      <td>2046</td>\n      <td>NaN</td>\n      <td>NaN</td>\n      <td>0</td>\n      <td>1286</td>\n      <td>0.000122</td>\n      <td>0</td>\n      <td>0.000000</td>\n      <td>0.000000</td>\n      <td>0</td>\n    </tr>\n    <tr>\n      <th>2046</th>\n      <td>2047</td>\n      <td>NaN</td>\n      <td>NaN</td>\n      <td>0</td>\n      <td>1287</td>\n      <td>0.000122</td>\n      <td>0</td>\n      <td>0.000000</td>\n      <td>0.000000</td>\n      <td>0</td>\n    </tr>\n    <tr>\n      <th>2047</th>\n      <td>2048</td>\n      <td>NaN</td>\n      <td>NaN</td>\n      <td>0</td>\n      <td>1288</td>\n      <td>0.000122</td>\n      <td>0</td>\n      <td>0.000000</td>\n      <td>0.000000</td>\n      <td>0</td>\n    </tr>\n    <tr>\n      <th>2048</th>\n      <td>2049</td>\n      <td>NaN</td>\n      <td>NaN</td>\n      <td>0</td>\n      <td>1289</td>\n      <td>0.000122</td>\n      <td>0</td>\n      <td>0.000000</td>\n      <td>0.000000</td>\n      <td>0</td>\n    </tr>\n    <tr>\n      <th>2049</th>\n      <td>2050</td>\n      <td>NaN</td>\n      <td>NaN</td>\n      <td>0</td>\n      <td>1290</td>\n      <td>0.000122</td>\n      <td>0</td>\n      <td>0.000000</td>\n      <td>0.000000</td>\n      <td>0</td>\n    </tr>\n  </tbody>\n</table>\n<p>2050 rows × 10 columns</p>\n</div>"
     },
     "execution_count": 2,
     "metadata": {},
     "output_type": "execute_result"
    }
   ],
   "source": [
    "xian = pd.read_csv('../Data/Raw/Xian/xian.csv')\n",
    "xian"
   ],
   "metadata": {
    "collapsed": false,
    "pycharm": {
     "name": "#%%\n"
    }
   }
  },
  {
   "cell_type": "code",
   "execution_count": 13,
   "outputs": [
    {
     "data": {
      "text/plain": "count    2050.000000\nmean        0.740488\nstd         1.379261\nmin         0.000000\n25%         0.000000\n50%         1.000000\n75%         1.000000\nmax        43.000000\nName: Degree, dtype: float64"
     },
     "execution_count": 13,
     "metadata": {},
     "output_type": "execute_result"
    }
   ],
   "source": [
    "xian['Degree'].describe()"
   ],
   "metadata": {
    "collapsed": false,
    "pycharm": {
     "name": "#%%\n"
    }
   }
  },
  {
   "cell_type": "code",
   "execution_count": 14,
   "outputs": [
    {
     "data": {
      "text/plain": "count    2050.000000\nmean        0.000488\nstd         0.000578\nmin         0.000122\n25%         0.000122\n50%         0.000448\n75%         0.000813\nmax         0.016498\nName: pageranks, dtype: float64"
     },
     "execution_count": 14,
     "metadata": {},
     "output_type": "execute_result"
    }
   ],
   "source": [
    "xian['pageranks'].describe()"
   ],
   "metadata": {
    "collapsed": false,
    "pycharm": {
     "name": "#%%\n"
    }
   }
  },
  {
   "cell_type": "code",
   "execution_count": 16,
   "outputs": [
    {
     "data": {
      "text/plain": "count    2050.000000\nmean        0.394488\nstd         0.410639\nmin         0.000000\n25%         0.000000\n50%         0.350044\n75%         0.666667\nmax         1.000000\nName: closnesscentrality, dtype: float64"
     },
     "execution_count": 16,
     "metadata": {},
     "output_type": "execute_result"
    }
   ],
   "source": [
    "xian['closnesscentrality'].describe()"
   ],
   "metadata": {
    "collapsed": false,
    "pycharm": {
     "name": "#%%\n"
    }
   }
  },
  {
   "cell_type": "code",
   "execution_count": 15,
   "outputs": [
    {
     "data": {
      "text/plain": "count    2050.000000\nmean        3.370244\nstd        50.579482\nmin         0.000000\n25%         0.000000\n50%         0.000000\n75%         0.000000\nmax      1675.000000\nName: betweenesscentrality, dtype: float64"
     },
     "execution_count": 15,
     "metadata": {},
     "output_type": "execute_result"
    }
   ],
   "source": [
    "xian['betweenesscentrality'].describe()"
   ],
   "metadata": {
    "collapsed": false,
    "pycharm": {
     "name": "#%%\n"
    }
   }
  },
  {
   "cell_type": "code",
   "execution_count": 3,
   "outputs": [
    {
     "data": {
      "text/plain": "     Source  Target        Type    Id  Label  timeset  Weight\n0         3       1  Undirected     2    NaN      NaN       1\n1         5       4  Undirected     4    NaN      NaN       1\n2         6       5  Undirected     5    NaN      NaN       1\n3         7       5  Undirected     6    NaN      NaN       1\n4         8       5  Undirected     7    NaN      NaN       1\n..      ...     ...         ...   ...    ...      ...     ...\n754    2027    1792  Undirected  2026    NaN      NaN       1\n755    2028     172  Undirected  2027    NaN      NaN       1\n756    2035    1792  Undirected  2034    NaN      NaN       1\n757    2036    1792  Undirected  2035    NaN      NaN       1\n758    2039    1833  Undirected  2038    NaN      NaN       1\n\n[759 rows x 7 columns]",
      "text/html": "<div>\n<style scoped>\n    .dataframe tbody tr th:only-of-type {\n        vertical-align: middle;\n    }\n\n    .dataframe tbody tr th {\n        vertical-align: top;\n    }\n\n    .dataframe thead th {\n        text-align: right;\n    }\n</style>\n<table border=\"1\" class=\"dataframe\">\n  <thead>\n    <tr style=\"text-align: right;\">\n      <th></th>\n      <th>Source</th>\n      <th>Target</th>\n      <th>Type</th>\n      <th>Id</th>\n      <th>Label</th>\n      <th>timeset</th>\n      <th>Weight</th>\n    </tr>\n  </thead>\n  <tbody>\n    <tr>\n      <th>0</th>\n      <td>3</td>\n      <td>1</td>\n      <td>Undirected</td>\n      <td>2</td>\n      <td>NaN</td>\n      <td>NaN</td>\n      <td>1</td>\n    </tr>\n    <tr>\n      <th>1</th>\n      <td>5</td>\n      <td>4</td>\n      <td>Undirected</td>\n      <td>4</td>\n      <td>NaN</td>\n      <td>NaN</td>\n      <td>1</td>\n    </tr>\n    <tr>\n      <th>2</th>\n      <td>6</td>\n      <td>5</td>\n      <td>Undirected</td>\n      <td>5</td>\n      <td>NaN</td>\n      <td>NaN</td>\n      <td>1</td>\n    </tr>\n    <tr>\n      <th>3</th>\n      <td>7</td>\n      <td>5</td>\n      <td>Undirected</td>\n      <td>6</td>\n      <td>NaN</td>\n      <td>NaN</td>\n      <td>1</td>\n    </tr>\n    <tr>\n      <th>4</th>\n      <td>8</td>\n      <td>5</td>\n      <td>Undirected</td>\n      <td>7</td>\n      <td>NaN</td>\n      <td>NaN</td>\n      <td>1</td>\n    </tr>\n    <tr>\n      <th>...</th>\n      <td>...</td>\n      <td>...</td>\n      <td>...</td>\n      <td>...</td>\n      <td>...</td>\n      <td>...</td>\n      <td>...</td>\n    </tr>\n    <tr>\n      <th>754</th>\n      <td>2027</td>\n      <td>1792</td>\n      <td>Undirected</td>\n      <td>2026</td>\n      <td>NaN</td>\n      <td>NaN</td>\n      <td>1</td>\n    </tr>\n    <tr>\n      <th>755</th>\n      <td>2028</td>\n      <td>172</td>\n      <td>Undirected</td>\n      <td>2027</td>\n      <td>NaN</td>\n      <td>NaN</td>\n      <td>1</td>\n    </tr>\n    <tr>\n      <th>756</th>\n      <td>2035</td>\n      <td>1792</td>\n      <td>Undirected</td>\n      <td>2034</td>\n      <td>NaN</td>\n      <td>NaN</td>\n      <td>1</td>\n    </tr>\n    <tr>\n      <th>757</th>\n      <td>2036</td>\n      <td>1792</td>\n      <td>Undirected</td>\n      <td>2035</td>\n      <td>NaN</td>\n      <td>NaN</td>\n      <td>1</td>\n    </tr>\n    <tr>\n      <th>758</th>\n      <td>2039</td>\n      <td>1833</td>\n      <td>Undirected</td>\n      <td>2038</td>\n      <td>NaN</td>\n      <td>NaN</td>\n      <td>1</td>\n    </tr>\n  </tbody>\n</table>\n<p>759 rows × 7 columns</p>\n</div>"
     },
     "execution_count": 3,
     "metadata": {},
     "output_type": "execute_result"
    }
   ],
   "source": [
    "xian_edges = pd.read_csv('../Data/Raw/Xian/xian_edges.csv')\n",
    "xian_edges"
   ],
   "metadata": {
    "collapsed": false,
    "pycharm": {
     "name": "#%%\n"
    }
   }
  },
  {
   "cell_type": "code",
   "execution_count": 4,
   "outputs": [
    {
     "data": {
      "text/plain": "[(3, 1),\n (5, 4),\n (6, 5),\n (7, 5),\n (8, 5),\n (9, 5),\n (10, 4),\n (12, 5),\n (13, 8),\n (15, 5),\n (16, 8),\n (17, 8),\n (18, 5),\n (22, 12),\n (24, 7),\n (26, 21),\n (29, 12),\n (31, 18),\n (32, 12),\n (33, 9),\n (36, 12),\n (37, 18),\n (39, 18),\n (40, 18),\n (43, 18),\n (45, 12),\n (46, 18),\n (47, 12),\n (48, 22),\n (49, 7),\n (50, 6),\n (51, 5),\n (52, 18),\n (56, 27),\n (57, 18),\n (58, 42),\n (68, 67),\n (70, 42),\n (74, 42),\n (79, 68),\n (80, 12),\n (81, 44),\n (89, 12),\n (92, 5),\n (94, 92),\n (100, 7),\n (105, 75),\n (107, 102),\n (109, 75),\n (110, 42),\n (112, 38),\n (116, 9),\n (118, 18),\n (121, 5),\n (122, 66),\n (128, 113),\n (130, 113),\n (143, 18),\n (144, 18),\n (145, 111),\n (146, 18),\n (147, 28),\n (148, 111),\n (149, 18),\n (150, 111),\n (153, 111),\n (155, 94),\n (156, 72),\n (157, 113),\n (158, 94),\n (160, 78),\n (162, 78),\n (165, 12),\n (166, 4),\n (168, 4),\n (178, 77),\n (179, 77),\n (184, 9),\n (185, 84),\n (189, 66),\n (190, 66),\n (198, 84),\n (200, 38),\n (202, 30),\n (204, 88),\n (212, 151),\n (215, 153),\n (217, 115),\n (229, 19),\n (234, 30),\n (241, 91),\n (242, 11),\n (245, 230),\n (248, 12),\n (249, 32),\n (250, 84),\n (253, 198),\n (255, 54),\n (256, 192),\n (259, 132),\n (262, 126),\n (263, 71),\n (269, 5),\n (270, 198),\n (271, 117),\n (273, 20),\n (274, 20),\n (275, 54),\n (277, 66),\n (278, 66),\n (280, 117),\n (289, 259),\n (290, 67),\n (293, 182),\n (295, 88),\n (296, 68),\n (297, 111),\n (298, 125),\n (299, 4),\n (303, 64),\n (304, 112),\n (306, 111),\n (312, 65),\n (315, 102),\n (318, 288),\n (324, 127),\n (325, 307),\n (326, 307),\n (336, 77),\n (338, 127),\n (340, 206),\n (344, 44),\n (345, 205),\n (347, 127),\n (348, 346),\n (365, 115),\n (367, 227),\n (368, 172),\n (369, 172),\n (376, 268),\n (379, 227),\n (384, 383),\n (386, 142),\n (387, 289),\n (393, 77),\n (401, 42),\n (411, 221),\n (413, 7),\n (416, 101),\n (430, 84),\n (431, 84),\n (432, 84),\n (435, 237),\n (436, 226),\n (437, 433),\n (441, 227),\n (442, 221),\n (443, 267),\n (444, 267),\n (449, 409),\n (456, 99),\n (457, 391),\n (465, 440),\n (472, 244),\n (491, 204),\n (495, 86),\n (496, 398),\n (497, 202),\n (498, 83),\n (499, 83),\n (500, 96),\n (501, 83),\n (502, 83),\n (504, 207),\n (505, 164),\n (515, 154),\n (516, 360),\n (519, 360),\n (545, 195),\n (559, 111),\n (573, 194),\n (574, 194),\n (576, 239),\n (577, 170),\n (578, 170),\n (579, 101),\n (583, 138),\n (584, 88),\n (591, 210),\n (592, 161),\n (594, 139),\n (595, 84),\n (596, 197),\n (597, 246),\n (598, 91),\n (599, 159),\n (600, 320),\n (602, 225),\n (605, 238),\n (606, 181),\n (609, 283),\n (612, 258),\n (622, 96),\n (623, 167),\n (624, 432),\n (625, 244),\n (648, 133),\n (651, 186),\n (652, 186),\n (665, 404),\n (672, 302),\n (693, 214),\n (700, 388),\n (701, 388),\n (714, 12),\n (715, 180),\n (720, 313),\n (721, 323),\n (722, 329),\n (725, 484),\n (731, 136),\n (735, 91),\n (753, 186),\n (754, 466),\n (768, 96),\n (775, 44),\n (776, 436),\n (794, 208),\n (803, 391),\n (814, 543),\n (815, 674),\n (816, 674),\n (817, 512),\n (821, 119),\n (835, 657),\n (847, 569),\n (848, 391),\n (849, 391),\n (852, 374),\n (853, 283),\n (857, 351),\n (865, 167),\n (869, 389),\n (871, 331),\n (878, 429),\n (879, 429),\n (880, 837),\n (881, 326),\n (887, 228),\n (891, 423),\n (893, 95),\n (894, 95),\n (895, 216),\n (896, 425),\n (897, 11),\n (898, 439),\n (899, 78),\n (900, 642),\n (906, 423),\n (907, 95),\n (911, 793),\n (912, 530),\n (918, 197),\n (919, 69),\n (922, 222),\n (924, 54),\n (925, 88),\n (930, 647),\n (934, 390),\n (935, 801),\n (939, 711),\n (942, 421),\n (943, 421),\n (944, 788),\n (945, 589),\n (946, 53),\n (952, 524),\n (956, 240),\n (959, 409),\n (961, 788),\n (962, 530),\n (969, 350),\n (975, 461),\n (978, 975),\n (980, 461),\n (981, 9),\n (982, 403),\n (986, 461),\n (987, 461),\n (994, 360),\n (995, 529),\n (999, 456),\n (1000, 834),\n (1004, 104),\n (1005, 200),\n (1007, 222),\n (1008, 239),\n (1011, 657),\n (1013, 662),\n (1016, 543),\n (1018, 181),\n (1020, 350),\n (1021, 757),\n (1023, 543),\n (1026, 108),\n (1027, 108),\n (1030, 238),\n (1032, 108),\n (1033, 321),\n (1035, 664),\n (1038, 349),\n (1041, 1040),\n (1045, 509),\n (1049, 428),\n (1050, 224),\n (1052, 224),\n (1055, 440),\n (1058, 399),\n (1059, 773),\n (1063, 404),\n (1074, 233),\n (1102, 227),\n (1106, 516),\n (1108, 742),\n (1115, 472),\n (1117, 78),\n (1118, 92),\n (1121, 115),\n (1122, 135),\n (1123, 161),\n (1127, 163),\n (1133, 199),\n (1149, 206),\n (1151, 231),\n (1152, 233),\n (1155, 308),\n (1156, 349),\n (1157, 379),\n (1158, 403),\n (1159, 419),\n (1160, 421),\n (1162, 428),\n (1164, 428),\n (1165, 438),\n (1166, 438),\n (1167, 438),\n (1168, 443),\n (1169, 477),\n (1171, 495),\n (1172, 524),\n (1173, 555),\n (1175, 556),\n (1176, 608),\n (1178, 615),\n (1182, 617),\n (1183, 621),\n (1184, 621),\n (1185, 621),\n (1189, 629),\n (1191, 629),\n (1193, 629),\n (1194, 645),\n (1196, 647),\n (1197, 662),\n (1198, 676),\n (1199, 678),\n (1201, 687),\n (1203, 687),\n (1204, 726),\n (1206, 731),\n (1208, 750),\n (1210, 750),\n (1211, 756),\n (1214, 756),\n (1215, 760),\n (1216, 760),\n (1219, 774),\n (1220, 789),\n (1221, 801),\n (1222, 812),\n (1223, 834),\n (1231, 874),\n (1234, 886),\n (1235, 901),\n (1236, 908),\n (1237, 921),\n (1238, 921),\n (1245, 923),\n (1247, 930),\n (1249, 932),\n (1253, 939),\n (1255, 949),\n (1256, 957),\n (1259, 959),\n (1261, 1000),\n (1265, 1037),\n (1267, 1049),\n (1269, 1061),\n (1270, 1061),\n (1273, 1061),\n (1274, 1198),\n (1278, 948),\n (1280, 691),\n (1281, 948),\n (1282, 948),\n (1283, 698),\n (1285, 153),\n (1288, 1171),\n (1289, 678),\n (1304, 170),\n (1305, 391),\n (1306, 617),\n (1309, 1119),\n (1310, 631),\n (1311, 970),\n (1312, 977),\n (1320, 902),\n (1321, 902),\n (1322, 1060),\n (1323, 923),\n (1324, 923),\n (1331, 970),\n (1332, 970),\n (1336, 244),\n (1339, 428),\n (1341, 940),\n (1342, 533),\n (1344, 970),\n (1355, 87),\n (1356, 217),\n (1359, 1192),\n (1368, 1174),\n (1369, 1107),\n (1372, 752),\n (1373, 732),\n (1374, 910),\n (1375, 459),\n (1377, 698),\n (1378, 698),\n (1379, 1110),\n (1381, 795),\n (1384, 752),\n (1385, 233),\n (1386, 752),\n (1388, 1244),\n (1390, 1036),\n (1391, 200),\n (1392, 653),\n (1395, 185),\n (1396, 185),\n (1402, 1316),\n (1403, 46),\n (1407, 932),\n (1410, 1088),\n (1411, 428),\n (1412, 1061),\n (1413, 1003),\n (1415, 1061),\n (1417, 1119),\n (1421, 332),\n (1427, 1047),\n (1428, 391),\n (1429, 154),\n (1430, 1047),\n (1434, 141),\n (1436, 141),\n (1437, 1254),\n (1439, 916),\n (1447, 283),\n (1448, 1412),\n (1450, 537),\n (1452, 936),\n (1453, 756),\n (1456, 611),\n (1458, 649),\n (1459, 263),\n (1462, 208),\n (1463, 698),\n (1466, 557),\n (1469, 1358),\n (1470, 608),\n (1471, 1346),\n (1472, 1346),\n (1473, 1358),\n (1476, 280),\n (1477, 1117),\n (1479, 752),\n (1489, 1431),\n (1491, 1358),\n (1492, 1358),\n (1493, 1047),\n (1494, 1290),\n (1495, 675),\n (1504, 1096),\n (1508, 973),\n (1509, 1338),\n (1510, 1096),\n (1516, 1096),\n (1519, 1226),\n (1521, 683),\n (1522, 321),\n (1526, 1119),\n (1527, 988),\n (1528, 1155),\n (1529, 1155),\n (1531, 1155),\n (1532, 989),\n (1534, 1073),\n (1535, 1107),\n (1536, 429),\n (1538, 912),\n (1539, 1060),\n (1544, 1205),\n (1546, 1272),\n (1548, 1017),\n (1549, 1071),\n (1550, 1071),\n (1553, 1070),\n (1554, 1070),\n (1558, 1213),\n (1559, 1442),\n (1560, 47),\n (1567, 339),\n (1569, 1387),\n (1570, 1387),\n (1571, 1387),\n (1572, 1387),\n (1574, 1226),\n (1575, 1119),\n (1576, 1316),\n (1577, 1390),\n (1578, 883),\n (1581, 1017),\n (1583, 970),\n (1585, 1159),\n (1587, 185),\n (1588, 181),\n (1592, 1431),\n (1593, 1431),\n (1601, 1272),\n (1602, 920),\n (1603, 734),\n (1605, 571),\n (1606, 1387),\n (1607, 691),\n (1612, 1088),\n (1613, 1502),\n (1614, 300),\n (1627, 1061),\n (1628, 1003),\n (1631, 916),\n (1639, 967),\n (1641, 645),\n (1643, 75),\n (1648, 1012),\n (1650, 1012),\n (1651, 1468),\n (1653, 294),\n (1654, 773),\n (1656, 1226),\n (1657, 1118),\n (1658, 42),\n (1659, 1399),\n (1661, 1277),\n (1662, 233),\n (1666, 1629),\n (1667, 1308),\n (1671, 1281),\n (1681, 1301),\n (1684, 1629),\n (1685, 1457),\n (1686, 1337),\n (1688, 1213),\n (1689, 1357),\n (1691, 1276),\n (1692, 1276),\n (1695, 86),\n (1696, 909),\n (1698, 428),\n (1699, 1298),\n (1701, 1213),\n (1704, 1096),\n (1707, 1298),\n (1708, 750),\n (1710, 1257),\n (1712, 1502),\n (1714, 51),\n (1715, 1556),\n (1716, 1128),\n (1719, 1037),\n (1720, 1153),\n (1722, 1099),\n (1726, 141),\n (1730, 912),\n (1731, 1056),\n (1732, 161),\n (1733, 185),\n (1734, 186),\n (1746, 399),\n (1747, 1464),\n (1750, 28),\n (1751, 1321),\n (1760, 973),\n (1762, 1346),\n (1764, 1188),\n (1769, 698),\n (1770, 1610),\n (1772, 1533),\n (1773, 1533),\n (1774, 1533),\n (1775, 1447),\n (1778, 539),\n (1779, 136),\n (1782, 181),\n (1784, 1781),\n (1790, 127),\n (1793, 809),\n (1795, 970),\n (1796, 970),\n (1797, 1031),\n (1798, 970),\n (1801, 433),\n (1802, 181),\n (1804, 1589),\n (1805, 1608),\n (1807, 1037),\n (1808, 1651),\n (1810, 1738),\n (1811, 1169),\n (1813, 570),\n (1814, 1137),\n (1816, 46),\n (1817, 940),\n (1818, 1321),\n (1821, 231),\n (1823, 1676),\n (1826, 1637),\n (1827, 1677),\n (1830, 328),\n (1834, 1739),\n (1835, 1344),\n (1836, 1465),\n (1839, 1637),\n (1841, 649),\n (1845, 1036),\n (1846, 1572),\n (1847, 1272),\n (1848, 1723),\n (1849, 1723),\n (1850, 1723),\n (1851, 1723),\n (1852, 1723),\n (1853, 1723),\n (1855, 1723),\n (1856, 1723),\n (1858, 1589),\n (1859, 1723),\n (1860, 1723),\n (1861, 1723),\n (1862, 1723),\n (1863, 1723),\n (1864, 1723),\n (1865, 902),\n (1866, 1723),\n (1867, 1480),\n (1870, 1723),\n (1873, 1723),\n (1874, 1723),\n (1880, 1226),\n (1882, 1723),\n (1883, 1723),\n (1884, 1723),\n (1892, 1723),\n (1893, 1723),\n (1894, 1723),\n (1895, 1723),\n (1896, 1723),\n (1897, 1723),\n (1898, 1723),\n (1899, 1723),\n (1900, 1723),\n (1901, 1723),\n (1902, 1723),\n (1903, 1723),\n (1904, 1723),\n (1905, 1723),\n (1906, 1723),\n (1907, 1723),\n (1908, 1723),\n (1909, 1723),\n (1914, 226),\n (1915, 181),\n (1916, 1673),\n (1917, 1505),\n (1918, 1675),\n (1920, 136),\n (1922, 557),\n (1925, 1047),\n (1926, 1124),\n (1932, 1750),\n (1933, 958),\n (1934, 1723),\n (1935, 1723),\n (1936, 1723),\n (1937, 1820),\n (1938, 1889),\n (1940, 1406),\n (1942, 1435),\n (1943, 1406),\n (1944, 1435),\n (1945, 1435),\n (1946, 1435),\n (1948, 1435),\n (1950, 1401),\n (1952, 1408),\n (1955, 1408),\n (1958, 1759),\n (1960, 1506),\n (1961, 847),\n (1966, 1500),\n (1967, 1302),\n (1968, 1723),\n (1969, 1756),\n (1971, 1877),\n (1972, 1877),\n (1973, 1877),\n (1974, 1877),\n (1975, 220),\n (1976, 1877),\n (1977, 1962),\n (1978, 1877),\n (1979, 1877),\n (1981, 1877),\n (1983, 1396),\n (1984, 1812),\n (1985, 1833),\n (1989, 1977),\n (1991, 1964),\n (1992, 1505),\n (1993, 1962),\n (1995, 1921),\n (2003, 1820),\n (2005, 620),\n (2006, 1963),\n (2007, 1911),\n (2008, 489),\n (2009, 620),\n (2015, 1792),\n (2017, 1964),\n (2019, 1465),\n (2021, 1963),\n (2022, 1226),\n (2024, 1829),\n (2025, 1679),\n (2027, 1792),\n (2028, 172),\n (2035, 1792),\n (2036, 1792),\n (2039, 1833)]"
     },
     "execution_count": 4,
     "metadata": {},
     "output_type": "execute_result"
    }
   ],
   "source": [
    "edge_list = list()\n",
    "for index, row in xian_edges.iterrows():\n",
    "    edge_list.append((row['Source'], row['Target']))\n",
    "\n",
    "edge_list"
   ],
   "metadata": {
    "collapsed": false,
    "pycharm": {
     "name": "#%%\n"
    }
   }
  },
  {
   "cell_type": "code",
   "execution_count": 5,
   "outputs": [],
   "source": [
    "network = nx.Graph()\n",
    "network.add_edges_from(edge_list)\n",
    "network.add_nodes_from(xian['Id'])"
   ],
   "metadata": {
    "collapsed": false,
    "pycharm": {
     "name": "#%%\n"
    }
   }
  },
  {
   "cell_type": "code",
   "execution_count": 6,
   "outputs": [
    {
     "data": {
      "text/plain": "(2050, 759)"
     },
     "execution_count": 6,
     "metadata": {},
     "output_type": "execute_result"
    }
   ],
   "source": [
    "len(network.nodes), len(network.edges)"
   ],
   "metadata": {
    "collapsed": false,
    "pycharm": {
     "name": "#%%\n"
    }
   }
  },
  {
   "cell_type": "code",
   "execution_count": 7,
   "outputs": [],
   "source": [
    "array = np.array(nx.degree_histogram(network))"
   ],
   "metadata": {
    "collapsed": false,
    "pycharm": {
     "name": "#%%\n"
    }
   }
  },
  {
   "cell_type": "code",
   "execution_count": 9,
   "outputs": [],
   "source": [
    "d = dict()\n",
    "for i, degree in enumerate(np.argsort(array)):\n",
    "    count = np.sort(array)[i]\n",
    "    if count > 0:\n",
    "        d[degree] = count"
   ],
   "metadata": {
    "collapsed": false,
    "pycharm": {
     "name": "#%%\n"
    }
   }
  },
  {
   "cell_type": "code",
   "execution_count": 10,
   "outputs": [
    {
     "data": {
      "text/plain": "OrderedDict([(0, 965),\n             (1, 871),\n             (2, 132),\n             (3, 43),\n             (4, 17),\n             (5, 9),\n             (6, 5),\n             (7, 2),\n             (8, 2),\n             (12, 2),\n             (14, 1),\n             (43, 1)])"
     },
     "execution_count": 10,
     "metadata": {},
     "output_type": "execute_result"
    }
   ],
   "source": [
    "OrderedDict(sorted(d.items()))"
   ],
   "metadata": {
    "collapsed": false,
    "pycharm": {
     "name": "#%%\n"
    }
   }
  },
  {
   "cell_type": "code",
   "execution_count": 11,
   "outputs": [
    {
     "data": {
      "text/plain": "1291"
     },
     "execution_count": 11,
     "metadata": {},
     "output_type": "execute_result"
    }
   ],
   "source": [
    "connected_components = nx.connected_components(network)\n",
    "connected_components = np.array(list(connected_components))\n",
    "len(connected_components)"
   ],
   "metadata": {
    "collapsed": false,
    "pycharm": {
     "name": "#%%\n"
    }
   }
  },
  {
   "cell_type": "code",
   "execution_count": 12,
   "outputs": [
    {
     "data": {
      "text/plain": "Counter({False: 1209, True: 82})"
     },
     "execution_count": 12,
     "metadata": {},
     "output_type": "execute_result"
    }
   ],
   "source": [
    "from collections import Counter\n",
    "\n",
    "Counter(np.array([len(x) for x in connected_components]) > 3)"
   ],
   "metadata": {
    "collapsed": false,
    "pycharm": {
     "name": "#%%\n"
    }
   }
  },
  {
   "cell_type": "code",
   "execution_count": null,
   "outputs": [],
   "source": [],
   "metadata": {
    "collapsed": false,
    "pycharm": {
     "name": "#%%\n"
    }
   }
  },
  {
   "cell_type": "markdown",
   "id": "f8308b91",
   "metadata": {
    "pycharm": {
     "name": "#%% md\n"
    }
   },
   "source": [
    "# Covid cases without contact information"
   ]
  },
  {
   "cell_type": "code",
   "execution_count": null,
   "id": "fe5ae040",
   "metadata": {
    "pycharm": {
     "name": "#%%\n"
    }
   },
   "outputs": [
    {
     "name": "stderr",
     "output_type": "stream",
     "text": [
      "C:\\Users\\simon\\AppData\\Local\\Temp\\ipykernel_15384\\3487171269.py:1: DtypeWarning: Columns (1,2,9,10,12,13,14,15,16,17,19,20,21,22,23,24,25,26,27,31,32) have mixed types. Specify dtype option on import or set low_memory=False.\n",
      "  covid_covariates = pd.read_csv('./Data/latestdata.csv')\n"
     ]
    }
   ],
   "source": [
    "covid_covariates = pd.read_csv('./Data/latestdata.csv')"
   ]
  },
  {
   "cell_type": "code",
   "execution_count": null,
   "id": "c3082ab9",
   "metadata": {
    "pycharm": {
     "name": "#%%\n"
    }
   },
   "outputs": [
    {
     "data": {
      "text/plain": [
       "Index(['ID', 'age', 'sex', 'city', 'province', 'country', 'latitude',\n",
       "       'longitude', 'geo_resolution', 'date_onset_symptoms',\n",
       "       'date_admission_hospital', 'date_confirmation', 'symptoms',\n",
       "       'lives_in_Wuhan', 'travel_history_dates', 'travel_history_location',\n",
       "       'reported_market_exposure', 'additional_information',\n",
       "       'chronic_disease_binary', 'chronic_disease', 'source',\n",
       "       'sequence_available', 'outcome', 'date_death_or_discharge',\n",
       "       'notes_for_discussion', 'location', 'admin3', 'admin2', 'admin1',\n",
       "       'country_new', 'admin_id', 'data_moderator_initials',\n",
       "       'travel_history_binary'],\n",
       "      dtype='object')"
      ]
     },
     "execution_count": 8,
     "metadata": {},
     "output_type": "execute_result"
    }
   ],
   "source": [
    "covid_covariates.columns"
   ]
  },
  {
   "cell_type": "code",
   "execution_count": null,
   "id": "4e9946ae",
   "metadata": {
    "pycharm": {
     "name": "#%%\n"
    }
   },
   "outputs": [
    {
     "name": "stdout",
     "output_type": "stream",
     "text": [
      "<class 'pandas.core.frame.DataFrame'>\n",
      "RangeIndex: 2676311 entries, 0 to 2676310\n",
      "Data columns (total 33 columns):\n",
      " #   Column                    Dtype  \n",
      "---  ------                    -----  \n",
      " 0   ID                        object \n",
      " 1   age                       object \n",
      " 2   sex                       object \n",
      " 3   city                      object \n",
      " 4   province                  object \n",
      " 5   country                   object \n",
      " 6   latitude                  float64\n",
      " 7   longitude                 float64\n",
      " 8   geo_resolution            object \n",
      " 9   date_onset_symptoms       object \n",
      " 10  date_admission_hospital   object \n",
      " 11  date_confirmation         object \n",
      " 12  symptoms                  object \n",
      " 13  lives_in_Wuhan            object \n",
      " 14  travel_history_dates      object \n",
      " 15  travel_history_location   object \n",
      " 16  reported_market_exposure  object \n",
      " 17  additional_information    object \n",
      " 18  chronic_disease_binary    bool   \n",
      " 19  chronic_disease           object \n",
      " 20  source                    object \n",
      " 21  sequence_available        object \n",
      " 22  outcome                   object \n",
      " 23  date_death_or_discharge   object \n",
      " 24  notes_for_discussion      object \n",
      " 25  location                  object \n",
      " 26  admin3                    object \n",
      " 27  admin2                    object \n",
      " 28  admin1                    object \n",
      " 29  country_new               object \n",
      " 30  admin_id                  float64\n",
      " 31  data_moderator_initials   object \n",
      " 32  travel_history_binary     object \n",
      "dtypes: bool(1), float64(3), object(29)\n",
      "memory usage: 655.9+ MB\n"
     ]
    }
   ],
   "source": [
    "covid_covariates.info()"
   ]
  },
  {
   "cell_type": "code",
   "execution_count": null,
   "id": "c96f4146",
   "metadata": {
    "pycharm": {
     "name": "#%%\n"
    }
   },
   "outputs": [
    {
     "data": {
      "text/html": [
       "<div>\n",
       "<style scoped>\n",
       "    .dataframe tbody tr th:only-of-type {\n",
       "        vertical-align: middle;\n",
       "    }\n",
       "\n",
       "    .dataframe tbody tr th {\n",
       "        vertical-align: top;\n",
       "    }\n",
       "\n",
       "    .dataframe thead th {\n",
       "        text-align: right;\n",
       "    }\n",
       "</style>\n",
       "<table border=\"1\" class=\"dataframe\">\n",
       "  <thead>\n",
       "    <tr style=\"text-align: right;\">\n",
       "      <th></th>\n",
       "      <th>ID</th>\n",
       "      <th>age</th>\n",
       "      <th>sex</th>\n",
       "      <th>city</th>\n",
       "      <th>province</th>\n",
       "      <th>country</th>\n",
       "      <th>latitude</th>\n",
       "      <th>longitude</th>\n",
       "      <th>symptoms</th>\n",
       "      <th>chronic_disease_binary</th>\n",
       "      <th>chronic_disease</th>\n",
       "      <th>date_confirmation</th>\n",
       "      <th>additional_information</th>\n",
       "    </tr>\n",
       "  </thead>\n",
       "  <tbody>\n",
       "    <tr>\n",
       "      <th>0</th>\n",
       "      <td>000-1-1</td>\n",
       "      <td>NaN</td>\n",
       "      <td>male</td>\n",
       "      <td>Shek Lei</td>\n",
       "      <td>Hong Kong</td>\n",
       "      <td>China</td>\n",
       "      <td>22.365019</td>\n",
       "      <td>114.133808</td>\n",
       "      <td>NaN</td>\n",
       "      <td>False</td>\n",
       "      <td>NaN</td>\n",
       "      <td>14.02.2020</td>\n",
       "      <td>Case 55; mainland China travel via the Lok Ma ...</td>\n",
       "    </tr>\n",
       "    <tr>\n",
       "      <th>1</th>\n",
       "      <td>000-1-10</td>\n",
       "      <td>78</td>\n",
       "      <td>male</td>\n",
       "      <td>Vo Euganeo</td>\n",
       "      <td>Veneto</td>\n",
       "      <td>Italy</td>\n",
       "      <td>45.297748</td>\n",
       "      <td>11.658382</td>\n",
       "      <td>NaN</td>\n",
       "      <td>False</td>\n",
       "      <td>NaN</td>\n",
       "      <td>21.02.2020</td>\n",
       "      <td>Hospitalized on 12.02.2020 for other reasons</td>\n",
       "    </tr>\n",
       "    <tr>\n",
       "      <th>2</th>\n",
       "      <td>000-1-100</td>\n",
       "      <td>61</td>\n",
       "      <td>female</td>\n",
       "      <td>NaN</td>\n",
       "      <td>NaN</td>\n",
       "      <td>Singapore</td>\n",
       "      <td>1.353460</td>\n",
       "      <td>103.815100</td>\n",
       "      <td>NaN</td>\n",
       "      <td>False</td>\n",
       "      <td>NaN</td>\n",
       "      <td>14.02.2020</td>\n",
       "      <td>Case 65; family member of Case 50, a DBS emplo...</td>\n",
       "    </tr>\n",
       "    <tr>\n",
       "      <th>3</th>\n",
       "      <td>000-1-1000</td>\n",
       "      <td>NaN</td>\n",
       "      <td>NaN</td>\n",
       "      <td>Zhengzhou City</td>\n",
       "      <td>Henan</td>\n",
       "      <td>China</td>\n",
       "      <td>34.629310</td>\n",
       "      <td>113.468000</td>\n",
       "      <td>NaN</td>\n",
       "      <td>False</td>\n",
       "      <td>NaN</td>\n",
       "      <td>26.01.2020</td>\n",
       "      <td>NaN</td>\n",
       "    </tr>\n",
       "    <tr>\n",
       "      <th>4</th>\n",
       "      <td>000-1-10000</td>\n",
       "      <td>NaN</td>\n",
       "      <td>NaN</td>\n",
       "      <td>Pingxiang City</td>\n",
       "      <td>Jiangxi</td>\n",
       "      <td>China</td>\n",
       "      <td>27.513560</td>\n",
       "      <td>113.902900</td>\n",
       "      <td>NaN</td>\n",
       "      <td>False</td>\n",
       "      <td>NaN</td>\n",
       "      <td>14.02.2020</td>\n",
       "      <td>NaN</td>\n",
       "    </tr>\n",
       "    <tr>\n",
       "      <th>...</th>\n",
       "      <td>...</td>\n",
       "      <td>...</td>\n",
       "      <td>...</td>\n",
       "      <td>...</td>\n",
       "      <td>...</td>\n",
       "      <td>...</td>\n",
       "      <td>...</td>\n",
       "      <td>...</td>\n",
       "      <td>...</td>\n",
       "      <td>...</td>\n",
       "      <td>...</td>\n",
       "      <td>...</td>\n",
       "      <td>...</td>\n",
       "    </tr>\n",
       "    <tr>\n",
       "      <th>2676306</th>\n",
       "      <td>010-99995</td>\n",
       "      <td>52.0</td>\n",
       "      <td>female</td>\n",
       "      <td>Calleria</td>\n",
       "      <td>Coronel Portillo</td>\n",
       "      <td>Peru</td>\n",
       "      <td>-8.378190</td>\n",
       "      <td>-74.539700</td>\n",
       "      <td>NaN</td>\n",
       "      <td>False</td>\n",
       "      <td>NaN</td>\n",
       "      <td>17.05.2020</td>\n",
       "      <td>NaN</td>\n",
       "    </tr>\n",
       "    <tr>\n",
       "      <th>2676307</th>\n",
       "      <td>010-99996</td>\n",
       "      <td>52.0</td>\n",
       "      <td>female</td>\n",
       "      <td>Pueblo Libre</td>\n",
       "      <td>Lima</td>\n",
       "      <td>Peru</td>\n",
       "      <td>-12.076530</td>\n",
       "      <td>-77.067350</td>\n",
       "      <td>NaN</td>\n",
       "      <td>False</td>\n",
       "      <td>NaN</td>\n",
       "      <td>17.05.2020</td>\n",
       "      <td>NaN</td>\n",
       "    </tr>\n",
       "    <tr>\n",
       "      <th>2676308</th>\n",
       "      <td>010-99997</td>\n",
       "      <td>52.0</td>\n",
       "      <td>female</td>\n",
       "      <td>Comas</td>\n",
       "      <td>Lima</td>\n",
       "      <td>Peru</td>\n",
       "      <td>-11.932980</td>\n",
       "      <td>-77.040850</td>\n",
       "      <td>NaN</td>\n",
       "      <td>False</td>\n",
       "      <td>NaN</td>\n",
       "      <td>17.05.2020</td>\n",
       "      <td>NaN</td>\n",
       "    </tr>\n",
       "    <tr>\n",
       "      <th>2676309</th>\n",
       "      <td>010-99998</td>\n",
       "      <td>52.0</td>\n",
       "      <td>male</td>\n",
       "      <td>Callao</td>\n",
       "      <td>Callao</td>\n",
       "      <td>Peru</td>\n",
       "      <td>-12.000740</td>\n",
       "      <td>-77.118240</td>\n",
       "      <td>NaN</td>\n",
       "      <td>False</td>\n",
       "      <td>NaN</td>\n",
       "      <td>17.05.2020</td>\n",
       "      <td>NaN</td>\n",
       "    </tr>\n",
       "    <tr>\n",
       "      <th>2676310</th>\n",
       "      <td>010-99999</td>\n",
       "      <td>52.0</td>\n",
       "      <td>male</td>\n",
       "      <td>Los Olivos</td>\n",
       "      <td>Lima</td>\n",
       "      <td>Peru</td>\n",
       "      <td>-11.976260</td>\n",
       "      <td>-77.075030</td>\n",
       "      <td>NaN</td>\n",
       "      <td>False</td>\n",
       "      <td>NaN</td>\n",
       "      <td>17.05.2020</td>\n",
       "      <td>NaN</td>\n",
       "    </tr>\n",
       "  </tbody>\n",
       "</table>\n",
       "<p>2676311 rows × 13 columns</p>\n",
       "</div>"
      ],
      "text/plain": [
       "                  ID   age     sex            city          province  \\\n",
       "0            000-1-1   NaN    male        Shek Lei         Hong Kong   \n",
       "1           000-1-10    78    male      Vo Euganeo            Veneto   \n",
       "2          000-1-100    61  female             NaN               NaN   \n",
       "3         000-1-1000   NaN     NaN  Zhengzhou City             Henan   \n",
       "4        000-1-10000   NaN     NaN  Pingxiang City           Jiangxi   \n",
       "...              ...   ...     ...             ...               ...   \n",
       "2676306    010-99995  52.0  female        Calleria  Coronel Portillo   \n",
       "2676307    010-99996  52.0  female    Pueblo Libre              Lima   \n",
       "2676308    010-99997  52.0  female           Comas              Lima   \n",
       "2676309    010-99998  52.0    male          Callao            Callao   \n",
       "2676310    010-99999  52.0    male      Los Olivos              Lima   \n",
       "\n",
       "           country   latitude   longitude symptoms  chronic_disease_binary  \\\n",
       "0            China  22.365019  114.133808      NaN                   False   \n",
       "1            Italy  45.297748   11.658382      NaN                   False   \n",
       "2        Singapore   1.353460  103.815100      NaN                   False   \n",
       "3            China  34.629310  113.468000      NaN                   False   \n",
       "4            China  27.513560  113.902900      NaN                   False   \n",
       "...            ...        ...         ...      ...                     ...   \n",
       "2676306       Peru  -8.378190  -74.539700      NaN                   False   \n",
       "2676307       Peru -12.076530  -77.067350      NaN                   False   \n",
       "2676308       Peru -11.932980  -77.040850      NaN                   False   \n",
       "2676309       Peru -12.000740  -77.118240      NaN                   False   \n",
       "2676310       Peru -11.976260  -77.075030      NaN                   False   \n",
       "\n",
       "        chronic_disease date_confirmation  \\\n",
       "0                   NaN        14.02.2020   \n",
       "1                   NaN        21.02.2020   \n",
       "2                   NaN        14.02.2020   \n",
       "3                   NaN        26.01.2020   \n",
       "4                   NaN        14.02.2020   \n",
       "...                 ...               ...   \n",
       "2676306             NaN        17.05.2020   \n",
       "2676307             NaN        17.05.2020   \n",
       "2676308             NaN        17.05.2020   \n",
       "2676309             NaN        17.05.2020   \n",
       "2676310             NaN        17.05.2020   \n",
       "\n",
       "                                    additional_information  \n",
       "0        Case 55; mainland China travel via the Lok Ma ...  \n",
       "1             Hospitalized on 12.02.2020 for other reasons  \n",
       "2        Case 65; family member of Case 50, a DBS emplo...  \n",
       "3                                                      NaN  \n",
       "4                                                      NaN  \n",
       "...                                                    ...  \n",
       "2676306                                                NaN  \n",
       "2676307                                                NaN  \n",
       "2676308                                                NaN  \n",
       "2676309                                                NaN  \n",
       "2676310                                                NaN  \n",
       "\n",
       "[2676311 rows x 13 columns]"
      ]
     },
     "execution_count": 10,
     "metadata": {},
     "output_type": "execute_result"
    }
   ],
   "source": [
    "covid_covariates[['ID', 'age', 'sex', 'city', 'province', 'country', 'latitude', 'longitude', 'symptoms', 'chronic_disease_binary', 'chronic_disease', 'date_confirmation', 'additional_information']]"
   ]
  },
  {
   "cell_type": "markdown",
   "id": "6b6c7795",
   "metadata": {
    "pycharm": {
     "name": "#%% md\n"
    }
   },
   "source": [
    "### Might be possible to identify contact information from ```additional_information``` column; would probably need some kind of text mining approach"
   ]
  },
  {
   "cell_type": "code",
   "execution_count": null,
   "id": "7444bf2c",
   "metadata": {
    "pycharm": {
     "name": "#%%\n"
    }
   },
   "outputs": [],
   "source": [
    "tmp = covid_covariates[~covid_covariates['additional_information'].isnull()]"
   ]
  },
  {
   "cell_type": "code",
   "execution_count": null,
   "id": "4b58e3b9",
   "metadata": {
    "pycharm": {
     "name": "#%%\n"
    }
   },
   "outputs": [
    {
     "name": "stdout",
     "output_type": "stream",
     "text": [
      "0                                           Case 55; mainland China travel via the Lok Ma Chau border crossing\n",
      "2                                             Case 65; family member of Case 50, a DBS employee, as is Case 55\n",
      "113                                                        Case 66; linked to the Grace Assembly of God church\n",
      "224                              Case 67; linked to the Grace Assembly of God church; family member of Case 61\n",
      "335       Case 68; Singapore Citizen with no recent travel history to China. She is a family member of Case 66\n",
      "                                                          ...                                                 \n",
      "650422                                                                     Close Contact of New Brunswick Case\n",
      "658592                                                                                 British Columbia Case 1\n",
      "658593                                                                                          Spouse of Case\n",
      "672419                                                  British Columbia Case 6 Recent return travel from Iran\n",
      "672540                British Columbia Case 2 woman had been in contact with family visitors from Wuhan, China\n",
      "Name: additional_information, Length: 1282, dtype: object\n"
     ]
    }
   ],
   "source": [
    "with pd.option_context('display.max_colwidth', None):\n",
    "    print(tmp[tmp['additional_information'].str.contains('Case')]['additional_information'])"
   ]
  },
  {
   "cell_type": "code",
   "execution_count": null,
   "id": "c7d4c24f",
   "metadata": {
    "pycharm": {
     "name": "#%%\n"
    }
   },
   "outputs": [],
   "source": []
  }
 ],
 "metadata": {
  "kernelspec": {
   "display_name": "Python 3 (ipykernel)",
   "language": "python",
   "name": "python3"
  },
  "language_info": {
   "codemirror_mode": {
    "name": "ipython",
    "version": 3
   },
   "file_extension": ".py",
   "mimetype": "text/x-python",
   "name": "python",
   "nbconvert_exporter": "python",
   "pygments_lexer": "ipython3",
   "version": "3.9.12"
  },
  "vscode": {
   "interpreter": {
    "hash": "885243f73453fea219f789251f1309298ed8b4b058bee017ab3fe05c409afd91"
   }
  }
 },
 "nbformat": 4,
 "nbformat_minor": 5
}