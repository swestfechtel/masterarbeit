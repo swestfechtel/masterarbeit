{
 "cells": [
  {
   "cell_type": "code",
   "execution_count": 1,
   "outputs": [],
   "source": [
    "import numpy as np\n",
    "import pandas as pd\n",
    "import scripts.generate_event_list as gel"
   ],
   "metadata": {
    "collapsed": false,
    "pycharm": {
     "name": "#%%\n"
    }
   }
  },
  {
   "cell_type": "code",
   "execution_count": 2,
   "outputs": [],
   "source": [
    "import importlib"
   ],
   "metadata": {
    "collapsed": false,
    "pycharm": {
     "name": "#%%\n"
    }
   }
  },
  {
   "cell_type": "code",
   "execution_count": 50,
   "outputs": [
    {
     "data": {
      "text/plain": "<module 'scripts.generate_event_list' from 'E:\\\\Data\\\\masterarbeit\\\\scripts\\\\generate_event_list.py'>"
     },
     "execution_count": 50,
     "metadata": {},
     "output_type": "execute_result"
    }
   ],
   "source": [
    "importlib.reload(gel)"
   ],
   "metadata": {
    "collapsed": false,
    "pycharm": {
     "name": "#%%\n"
    }
   }
  },
  {
   "cell_type": "markdown",
   "source": [
    "# Yunnan"
   ],
   "metadata": {
    "collapsed": false,
    "pycharm": {
     "name": "#%% md\n"
    }
   }
  },
  {
   "cell_type": "code",
   "execution_count": 7,
   "outputs": [
    {
     "name": "stdout",
     "output_type": "stream",
     "text": [
      "['age', 'gender', 'relatives']\n"
     ]
    },
    {
     "name": "stderr",
     "output_type": "stream",
     "text": [
      "171it [00:00, 225.10it/s]\n",
      "104it [00:00, 732.40it/s]\n"
     ]
    }
   ],
   "source": [
    "yunnan_event_list = gel.yunnan()"
   ],
   "metadata": {
    "collapsed": false,
    "pycharm": {
     "name": "#%%\n"
    }
   }
  },
  {
   "cell_type": "code",
   "execution_count": 8,
   "outputs": [
    {
     "data": {
      "text/plain": "    event_id  referee  referral    date                type  weight\n0          0      1.0       1.0  000101           add_actor     1.0\n1          0      1.0       1.0  000101                 age     NaN\n2          0      1.0       1.0  000101              gender     1.0\n3          0      1.0       1.0  000101           relatives     1.0\n4          0      2.0       2.0  000101           add_actor     1.0\n..       ...      ...       ...     ...                 ...     ...\n783       37    171.0     155.0  200216  contact_nomination     1.0\n784       37    171.0     156.0  200216  contact_nomination     1.0\n785       38    170.0     155.0  200216  contact_nomination     1.0\n786       38    170.0     156.0  200216  contact_nomination     1.0\n787       37    171.0     170.0  200216  contact_nomination     1.0\n\n[788 rows x 6 columns]",
      "text/html": "<div>\n<style scoped>\n    .dataframe tbody tr th:only-of-type {\n        vertical-align: middle;\n    }\n\n    .dataframe tbody tr th {\n        vertical-align: top;\n    }\n\n    .dataframe thead th {\n        text-align: right;\n    }\n</style>\n<table border=\"1\" class=\"dataframe\">\n  <thead>\n    <tr style=\"text-align: right;\">\n      <th></th>\n      <th>event_id</th>\n      <th>referee</th>\n      <th>referral</th>\n      <th>date</th>\n      <th>type</th>\n      <th>weight</th>\n    </tr>\n  </thead>\n  <tbody>\n    <tr>\n      <th>0</th>\n      <td>0</td>\n      <td>1.0</td>\n      <td>1.0</td>\n      <td>000101</td>\n      <td>add_actor</td>\n      <td>1.0</td>\n    </tr>\n    <tr>\n      <th>1</th>\n      <td>0</td>\n      <td>1.0</td>\n      <td>1.0</td>\n      <td>000101</td>\n      <td>age</td>\n      <td>NaN</td>\n    </tr>\n    <tr>\n      <th>2</th>\n      <td>0</td>\n      <td>1.0</td>\n      <td>1.0</td>\n      <td>000101</td>\n      <td>gender</td>\n      <td>1.0</td>\n    </tr>\n    <tr>\n      <th>3</th>\n      <td>0</td>\n      <td>1.0</td>\n      <td>1.0</td>\n      <td>000101</td>\n      <td>relatives</td>\n      <td>1.0</td>\n    </tr>\n    <tr>\n      <th>4</th>\n      <td>0</td>\n      <td>2.0</td>\n      <td>2.0</td>\n      <td>000101</td>\n      <td>add_actor</td>\n      <td>1.0</td>\n    </tr>\n    <tr>\n      <th>...</th>\n      <td>...</td>\n      <td>...</td>\n      <td>...</td>\n      <td>...</td>\n      <td>...</td>\n      <td>...</td>\n    </tr>\n    <tr>\n      <th>783</th>\n      <td>37</td>\n      <td>171.0</td>\n      <td>155.0</td>\n      <td>200216</td>\n      <td>contact_nomination</td>\n      <td>1.0</td>\n    </tr>\n    <tr>\n      <th>784</th>\n      <td>37</td>\n      <td>171.0</td>\n      <td>156.0</td>\n      <td>200216</td>\n      <td>contact_nomination</td>\n      <td>1.0</td>\n    </tr>\n    <tr>\n      <th>785</th>\n      <td>38</td>\n      <td>170.0</td>\n      <td>155.0</td>\n      <td>200216</td>\n      <td>contact_nomination</td>\n      <td>1.0</td>\n    </tr>\n    <tr>\n      <th>786</th>\n      <td>38</td>\n      <td>170.0</td>\n      <td>156.0</td>\n      <td>200216</td>\n      <td>contact_nomination</td>\n      <td>1.0</td>\n    </tr>\n    <tr>\n      <th>787</th>\n      <td>37</td>\n      <td>171.0</td>\n      <td>170.0</td>\n      <td>200216</td>\n      <td>contact_nomination</td>\n      <td>1.0</td>\n    </tr>\n  </tbody>\n</table>\n<p>788 rows × 6 columns</p>\n</div>"
     },
     "execution_count": 8,
     "metadata": {},
     "output_type": "execute_result"
    }
   ],
   "source": [
    "yunnan_event_list"
   ],
   "metadata": {
    "collapsed": false,
    "pycharm": {
     "name": "#%%\n"
    }
   }
  },
  {
   "cell_type": "code",
   "execution_count": 9,
   "outputs": [],
   "source": [
    "yunnan_event_list['referee'] = yunnan_event_list['referee'].astype('Int64')\n",
    "yunnan_event_list['referral'] = yunnan_event_list['referral'].astype('Int64')\n",
    "yunnan_event_list['weight'] = yunnan_event_list['weight'].astype('Int64')"
   ],
   "metadata": {
    "collapsed": false,
    "pycharm": {
     "name": "#%%\n"
    }
   }
  },
  {
   "cell_type": "code",
   "execution_count": 10,
   "outputs": [],
   "source": [
    "yunnan_event_list.fillna(value=-1.0, inplace=True)"
   ],
   "metadata": {
    "collapsed": false,
    "pycharm": {
     "name": "#%%\n"
    }
   }
  },
  {
   "cell_type": "code",
   "execution_count": 11,
   "outputs": [],
   "source": [
    "yunnan_event_list.to_csv('../Data/Preprocessed/yunnan_eventlist.csv', index=False)"
   ],
   "metadata": {
    "collapsed": false,
    "pycharm": {
     "name": "#%%\n"
    }
   }
  },
  {
   "cell_type": "markdown",
   "source": [
    "# Hainan"
   ],
   "metadata": {
    "collapsed": false,
    "pycharm": {
     "name": "#%% md\n"
    }
   }
  },
  {
   "cell_type": "code",
   "execution_count": 12,
   "outputs": [
    {
     "name": "stdout",
     "output_type": "stream",
     "text": [
      "['age', 'gender', 'relatives']\n"
     ]
    },
    {
     "name": "stderr",
     "output_type": "stream",
     "text": [
      "162it [00:00, 212.58it/s]\n",
      "122it [00:00, 746.71it/s]\n"
     ]
    }
   ],
   "source": [
    "hainan_event_list = gel.hainan()"
   ],
   "metadata": {
    "collapsed": false,
    "pycharm": {
     "name": "#%%\n"
    }
   }
  },
  {
   "cell_type": "code",
   "execution_count": 13,
   "outputs": [
    {
     "data": {
      "text/plain": "    event_id  referee  referral    date                type  weight\n0          0      3.0       3.0  000101           add_actor     1.0\n1          0      3.0       3.0  000101                 age    27.0\n2          0      3.0       3.0  000101              gender     1.0\n3          0      3.0       3.0  000101           relatives     0.0\n4          0      1.0       1.0  000101           add_actor     1.0\n..       ...      ...       ...     ...                 ...     ...\n765       59    158.0     121.0  200214  contact_nomination     1.0\n766       58    161.0     159.0  200214  contact_nomination     1.0\n767       58    161.0      37.0  200214  contact_nomination     1.0\n768       57    159.0      76.0  200214  contact_nomination     1.0\n769       59    158.0     141.0  200214  contact_nomination     1.0\n\n[770 rows x 6 columns]",
      "text/html": "<div>\n<style scoped>\n    .dataframe tbody tr th:only-of-type {\n        vertical-align: middle;\n    }\n\n    .dataframe tbody tr th {\n        vertical-align: top;\n    }\n\n    .dataframe thead th {\n        text-align: right;\n    }\n</style>\n<table border=\"1\" class=\"dataframe\">\n  <thead>\n    <tr style=\"text-align: right;\">\n      <th></th>\n      <th>event_id</th>\n      <th>referee</th>\n      <th>referral</th>\n      <th>date</th>\n      <th>type</th>\n      <th>weight</th>\n    </tr>\n  </thead>\n  <tbody>\n    <tr>\n      <th>0</th>\n      <td>0</td>\n      <td>3.0</td>\n      <td>3.0</td>\n      <td>000101</td>\n      <td>add_actor</td>\n      <td>1.0</td>\n    </tr>\n    <tr>\n      <th>1</th>\n      <td>0</td>\n      <td>3.0</td>\n      <td>3.0</td>\n      <td>000101</td>\n      <td>age</td>\n      <td>27.0</td>\n    </tr>\n    <tr>\n      <th>2</th>\n      <td>0</td>\n      <td>3.0</td>\n      <td>3.0</td>\n      <td>000101</td>\n      <td>gender</td>\n      <td>1.0</td>\n    </tr>\n    <tr>\n      <th>3</th>\n      <td>0</td>\n      <td>3.0</td>\n      <td>3.0</td>\n      <td>000101</td>\n      <td>relatives</td>\n      <td>0.0</td>\n    </tr>\n    <tr>\n      <th>4</th>\n      <td>0</td>\n      <td>1.0</td>\n      <td>1.0</td>\n      <td>000101</td>\n      <td>add_actor</td>\n      <td>1.0</td>\n    </tr>\n    <tr>\n      <th>...</th>\n      <td>...</td>\n      <td>...</td>\n      <td>...</td>\n      <td>...</td>\n      <td>...</td>\n      <td>...</td>\n    </tr>\n    <tr>\n      <th>765</th>\n      <td>59</td>\n      <td>158.0</td>\n      <td>121.0</td>\n      <td>200214</td>\n      <td>contact_nomination</td>\n      <td>1.0</td>\n    </tr>\n    <tr>\n      <th>766</th>\n      <td>58</td>\n      <td>161.0</td>\n      <td>159.0</td>\n      <td>200214</td>\n      <td>contact_nomination</td>\n      <td>1.0</td>\n    </tr>\n    <tr>\n      <th>767</th>\n      <td>58</td>\n      <td>161.0</td>\n      <td>37.0</td>\n      <td>200214</td>\n      <td>contact_nomination</td>\n      <td>1.0</td>\n    </tr>\n    <tr>\n      <th>768</th>\n      <td>57</td>\n      <td>159.0</td>\n      <td>76.0</td>\n      <td>200214</td>\n      <td>contact_nomination</td>\n      <td>1.0</td>\n    </tr>\n    <tr>\n      <th>769</th>\n      <td>59</td>\n      <td>158.0</td>\n      <td>141.0</td>\n      <td>200214</td>\n      <td>contact_nomination</td>\n      <td>1.0</td>\n    </tr>\n  </tbody>\n</table>\n<p>770 rows × 6 columns</p>\n</div>"
     },
     "execution_count": 13,
     "metadata": {},
     "output_type": "execute_result"
    }
   ],
   "source": [
    "hainan_event_list"
   ],
   "metadata": {
    "collapsed": false,
    "pycharm": {
     "name": "#%%\n"
    }
   }
  },
  {
   "cell_type": "code",
   "execution_count": 14,
   "outputs": [],
   "source": [
    "hainan_event_list['referee'] = hainan_event_list['referee'].astype('Int64')\n",
    "hainan_event_list['referral'] = hainan_event_list['referral'].astype('Int64')\n",
    "hainan_event_list['weight'] = hainan_event_list['weight'].apply(lambda x: int(x))"
   ],
   "metadata": {
    "collapsed": false,
    "pycharm": {
     "name": "#%%\n"
    }
   }
  },
  {
   "cell_type": "code",
   "execution_count": 15,
   "outputs": [],
   "source": [
    "hainan_event_list.fillna(value=-1.0, inplace=True)"
   ],
   "metadata": {
    "collapsed": false,
    "pycharm": {
     "name": "#%%\n"
    }
   }
  },
  {
   "cell_type": "code",
   "execution_count": 16,
   "outputs": [],
   "source": [
    "hainan_event_list.to_csv('../Data/Preprocessed/hainan_eventlist.csv')"
   ],
   "metadata": {
    "collapsed": false,
    "pycharm": {
     "name": "#%%\n"
    }
   }
  },
  {
   "cell_type": "markdown",
   "source": [
    "# Shanxi"
   ],
   "metadata": {
    "collapsed": false,
    "pycharm": {
     "name": "#%% md\n"
    }
   }
  },
  {
   "cell_type": "code",
   "execution_count": 17,
   "outputs": [
    {
     "name": "stdout",
     "output_type": "stream",
     "text": [
      "['age', 'gender', 'hukou', 'relatives']\n"
     ]
    },
    {
     "name": "stderr",
     "output_type": "stream",
     "text": [
      "237it [00:01, 161.45it/s]\n",
      "125it [00:00, 649.85it/s]\n"
     ]
    }
   ],
   "source": [
    "shanxi_event_list = gel.shanxi()"
   ],
   "metadata": {
    "collapsed": false,
    "pycharm": {
     "name": "#%%\n"
    }
   }
  },
  {
   "cell_type": "code",
   "execution_count": 18,
   "outputs": [
    {
     "data": {
      "text/plain": "     event_id referee referral    date                type weight\n0           0       1        1  000101           add_actor      1\n1           0       1        1  000101                 age     42\n2           0       1        1  000101              gender      1\n3           0       1        1  000101               hukou     18\n4           0       1        1  000101           relatives      0\n...       ...     ...      ...     ...                 ...    ...\n1305       93   235.0    234.0  200216  contact_nomination      1\n1306       94   236.0    234.0  200216  contact_nomination      1\n1307       94   236.0    235.0  200216  contact_nomination      1\n1308       92   237.0    234.0  200216  contact_nomination      1\n1309       92   237.0    236.0  200216  contact_nomination      1\n\n[1310 rows x 6 columns]",
      "text/html": "<div>\n<style scoped>\n    .dataframe tbody tr th:only-of-type {\n        vertical-align: middle;\n    }\n\n    .dataframe tbody tr th {\n        vertical-align: top;\n    }\n\n    .dataframe thead th {\n        text-align: right;\n    }\n</style>\n<table border=\"1\" class=\"dataframe\">\n  <thead>\n    <tr style=\"text-align: right;\">\n      <th></th>\n      <th>event_id</th>\n      <th>referee</th>\n      <th>referral</th>\n      <th>date</th>\n      <th>type</th>\n      <th>weight</th>\n    </tr>\n  </thead>\n  <tbody>\n    <tr>\n      <th>0</th>\n      <td>0</td>\n      <td>1</td>\n      <td>1</td>\n      <td>000101</td>\n      <td>add_actor</td>\n      <td>1</td>\n    </tr>\n    <tr>\n      <th>1</th>\n      <td>0</td>\n      <td>1</td>\n      <td>1</td>\n      <td>000101</td>\n      <td>age</td>\n      <td>42</td>\n    </tr>\n    <tr>\n      <th>2</th>\n      <td>0</td>\n      <td>1</td>\n      <td>1</td>\n      <td>000101</td>\n      <td>gender</td>\n      <td>1</td>\n    </tr>\n    <tr>\n      <th>3</th>\n      <td>0</td>\n      <td>1</td>\n      <td>1</td>\n      <td>000101</td>\n      <td>hukou</td>\n      <td>18</td>\n    </tr>\n    <tr>\n      <th>4</th>\n      <td>0</td>\n      <td>1</td>\n      <td>1</td>\n      <td>000101</td>\n      <td>relatives</td>\n      <td>0</td>\n    </tr>\n    <tr>\n      <th>...</th>\n      <td>...</td>\n      <td>...</td>\n      <td>...</td>\n      <td>...</td>\n      <td>...</td>\n      <td>...</td>\n    </tr>\n    <tr>\n      <th>1305</th>\n      <td>93</td>\n      <td>235.0</td>\n      <td>234.0</td>\n      <td>200216</td>\n      <td>contact_nomination</td>\n      <td>1</td>\n    </tr>\n    <tr>\n      <th>1306</th>\n      <td>94</td>\n      <td>236.0</td>\n      <td>234.0</td>\n      <td>200216</td>\n      <td>contact_nomination</td>\n      <td>1</td>\n    </tr>\n    <tr>\n      <th>1307</th>\n      <td>94</td>\n      <td>236.0</td>\n      <td>235.0</td>\n      <td>200216</td>\n      <td>contact_nomination</td>\n      <td>1</td>\n    </tr>\n    <tr>\n      <th>1308</th>\n      <td>92</td>\n      <td>237.0</td>\n      <td>234.0</td>\n      <td>200216</td>\n      <td>contact_nomination</td>\n      <td>1</td>\n    </tr>\n    <tr>\n      <th>1309</th>\n      <td>92</td>\n      <td>237.0</td>\n      <td>236.0</td>\n      <td>200216</td>\n      <td>contact_nomination</td>\n      <td>1</td>\n    </tr>\n  </tbody>\n</table>\n<p>1310 rows × 6 columns</p>\n</div>"
     },
     "execution_count": 18,
     "metadata": {},
     "output_type": "execute_result"
    }
   ],
   "source": [
    "shanxi_event_list"
   ],
   "metadata": {
    "collapsed": false,
    "pycharm": {
     "name": "#%%\n"
    }
   }
  },
  {
   "cell_type": "code",
   "execution_count": 19,
   "outputs": [],
   "source": [
    "shanxi_event_list['referee'] = shanxi_event_list['referee'].astype('Int64')\n",
    "shanxi_event_list['referral'] = shanxi_event_list['referral'].astype('Int64')\n",
    "shanxi_event_list['weight'] = shanxi_event_list['weight'].astype('Int64')"
   ],
   "metadata": {
    "collapsed": false,
    "pycharm": {
     "name": "#%%\n"
    }
   }
  },
  {
   "cell_type": "code",
   "execution_count": 20,
   "outputs": [],
   "source": [
    "shanxi_event_list.fillna(value=-1.0, inplace=True)"
   ],
   "metadata": {
    "collapsed": false,
    "pycharm": {
     "name": "#%%\n"
    }
   }
  },
  {
   "cell_type": "code",
   "execution_count": 21,
   "outputs": [],
   "source": [
    "shanxi_event_list.to_csv('../Data/Preprocessed/shanxi_eventlist.csv')"
   ],
   "metadata": {
    "collapsed": false,
    "pycharm": {
     "name": "#%%\n"
    }
   }
  },
  {
   "cell_type": "markdown",
   "source": [
    "# China"
   ],
   "metadata": {
    "collapsed": false,
    "pycharm": {
     "name": "#%% md\n"
    }
   }
  },
  {
   "cell_type": "code",
   "execution_count": 22,
   "outputs": [
    {
     "name": "stdout",
     "output_type": "stream",
     "text": [
      "['age', 'gender', 'residency', 'place_event', 'symptom', 'symptom_severity', 'place_admission']\n"
     ]
    },
    {
     "name": "stderr",
     "output_type": "stream",
     "text": [
      "25877it [06:14, 69.13it/s]\n",
      "11436it [02:23, 79.65it/s]\n"
     ]
    }
   ],
   "source": [
    "china_event_list = gel.china()"
   ],
   "metadata": {
    "collapsed": false,
    "pycharm": {
     "name": "#%%\n"
    }
   }
  },
  {
   "cell_type": "code",
   "execution_count": 23,
   "outputs": [
    {
     "data": {
      "text/plain": "       event_id      referee     referral    date                type weight\n0             0     anqing-1     anqing-1  000101           add_actor      1\n1             0     anqing-1     anqing-1  000101                 age     49\n2             0     anqing-1     anqing-1  000101              gender      1\n3             0     anqing-1     anqing-1  000101           residency    480\n4             0     anqing-1     anqing-1  000101         place_event   1538\n...         ...          ...          ...     ...                 ...    ...\n218447     4668  xuchang-373  xuchang-356  220116  contact_nomination      1\n218448     4669  xuchang-374  xuchang-308  220116  contact_nomination      1\n218449     4669  xuchang-374  xuchang-310  220116  contact_nomination      1\n218450     4670  xuchang-378  xuchang-148  220116  contact_nomination      1\n218451     4671  yangzhou-68  yangzhou-76  220208  contact_nomination      1\n\n[218452 rows x 6 columns]",
      "text/html": "<div>\n<style scoped>\n    .dataframe tbody tr th:only-of-type {\n        vertical-align: middle;\n    }\n\n    .dataframe tbody tr th {\n        vertical-align: top;\n    }\n\n    .dataframe thead th {\n        text-align: right;\n    }\n</style>\n<table border=\"1\" class=\"dataframe\">\n  <thead>\n    <tr style=\"text-align: right;\">\n      <th></th>\n      <th>event_id</th>\n      <th>referee</th>\n      <th>referral</th>\n      <th>date</th>\n      <th>type</th>\n      <th>weight</th>\n    </tr>\n  </thead>\n  <tbody>\n    <tr>\n      <th>0</th>\n      <td>0</td>\n      <td>anqing-1</td>\n      <td>anqing-1</td>\n      <td>000101</td>\n      <td>add_actor</td>\n      <td>1</td>\n    </tr>\n    <tr>\n      <th>1</th>\n      <td>0</td>\n      <td>anqing-1</td>\n      <td>anqing-1</td>\n      <td>000101</td>\n      <td>age</td>\n      <td>49</td>\n    </tr>\n    <tr>\n      <th>2</th>\n      <td>0</td>\n      <td>anqing-1</td>\n      <td>anqing-1</td>\n      <td>000101</td>\n      <td>gender</td>\n      <td>1</td>\n    </tr>\n    <tr>\n      <th>3</th>\n      <td>0</td>\n      <td>anqing-1</td>\n      <td>anqing-1</td>\n      <td>000101</td>\n      <td>residency</td>\n      <td>480</td>\n    </tr>\n    <tr>\n      <th>4</th>\n      <td>0</td>\n      <td>anqing-1</td>\n      <td>anqing-1</td>\n      <td>000101</td>\n      <td>place_event</td>\n      <td>1538</td>\n    </tr>\n    <tr>\n      <th>...</th>\n      <td>...</td>\n      <td>...</td>\n      <td>...</td>\n      <td>...</td>\n      <td>...</td>\n      <td>...</td>\n    </tr>\n    <tr>\n      <th>218447</th>\n      <td>4668</td>\n      <td>xuchang-373</td>\n      <td>xuchang-356</td>\n      <td>220116</td>\n      <td>contact_nomination</td>\n      <td>1</td>\n    </tr>\n    <tr>\n      <th>218448</th>\n      <td>4669</td>\n      <td>xuchang-374</td>\n      <td>xuchang-308</td>\n      <td>220116</td>\n      <td>contact_nomination</td>\n      <td>1</td>\n    </tr>\n    <tr>\n      <th>218449</th>\n      <td>4669</td>\n      <td>xuchang-374</td>\n      <td>xuchang-310</td>\n      <td>220116</td>\n      <td>contact_nomination</td>\n      <td>1</td>\n    </tr>\n    <tr>\n      <th>218450</th>\n      <td>4670</td>\n      <td>xuchang-378</td>\n      <td>xuchang-148</td>\n      <td>220116</td>\n      <td>contact_nomination</td>\n      <td>1</td>\n    </tr>\n    <tr>\n      <th>218451</th>\n      <td>4671</td>\n      <td>yangzhou-68</td>\n      <td>yangzhou-76</td>\n      <td>220208</td>\n      <td>contact_nomination</td>\n      <td>1</td>\n    </tr>\n  </tbody>\n</table>\n<p>218452 rows × 6 columns</p>\n</div>"
     },
     "execution_count": 23,
     "metadata": {},
     "output_type": "execute_result"
    }
   ],
   "source": [
    "china_event_list"
   ],
   "metadata": {
    "collapsed": false,
    "pycharm": {
     "name": "#%%\n"
    }
   }
  },
  {
   "cell_type": "code",
   "execution_count": 24,
   "outputs": [],
   "source": [
    "china_event_list['weight'] = pd.to_numeric(china_event_list['weight'], errors='coerce')\n",
    "china_event_list['weight'] = china_event_list['weight'].apply(lambda x: str(int(x)) if not np.isnan(x) else np.nan)"
   ],
   "metadata": {
    "collapsed": false,
    "pycharm": {
     "name": "#%%\n"
    }
   }
  },
  {
   "cell_type": "code",
   "execution_count": 25,
   "outputs": [],
   "source": [
    "china_event_list.fillna(value=-1.0, inplace=True)"
   ],
   "metadata": {
    "collapsed": false,
    "pycharm": {
     "name": "#%%\n"
    }
   }
  },
  {
   "cell_type": "code",
   "execution_count": 26,
   "outputs": [],
   "source": [
    "china_event_list.to_csv('../Data/Preprocessed/china_eventlist.csv')"
   ],
   "metadata": {
    "collapsed": false,
    "pycharm": {
     "name": "#%%\n"
    }
   }
  },
  {
   "cell_type": "markdown",
   "source": [
    "# Bucharest"
   ],
   "metadata": {
    "collapsed": false,
    "pycharm": {
     "name": "#%% md\n"
    }
   }
  },
  {
   "cell_type": "code",
   "execution_count": 27,
   "outputs": [
    {
     "name": "stdout",
     "output_type": "stream",
     "text": [
      "['age', 'gender', 'medical', 'isco08_label']\n"
     ]
    },
    {
     "name": "stderr",
     "output_type": "stream",
     "text": [
      "57835it [13:04, 73.70it/s] \n",
      "13377it [04:07, 54.09it/s]\n"
     ]
    }
   ],
   "source": [
    "bucharest_event_list = gel.bucharest()"
   ],
   "metadata": {
    "collapsed": false,
    "pycharm": {
     "name": "#%%\n"
    }
   }
  },
  {
   "cell_type": "code",
   "execution_count": 28,
   "outputs": [
    {
     "data": {
      "text/plain": "       event_id referee      referral    date                type weight\n0             0  179373        179373  000101           add_actor    1.0\n1             0  179373        179373  000101                 age   65.0\n2             0  179373        179373  000101              gender      1\n3             0  179373        179373  000101             medical      1\n4             0  179373        179373  000101        isco08_label     12\n...         ...     ...           ...     ...                 ...    ...\n302547     6892  251363  13983S251363  201031  contact_nomination      1\n302548     6893  252010  11400S252010  201031  contact_nomination      1\n302549     6894  252092   9721S252092  201031  contact_nomination      1\n302550     6863  243980   5800S243980  201031  contact_nomination      1\n302551     6881  251702        251723  201031  contact_nomination      1\n\n[302552 rows x 6 columns]",
      "text/html": "<div>\n<style scoped>\n    .dataframe tbody tr th:only-of-type {\n        vertical-align: middle;\n    }\n\n    .dataframe tbody tr th {\n        vertical-align: top;\n    }\n\n    .dataframe thead th {\n        text-align: right;\n    }\n</style>\n<table border=\"1\" class=\"dataframe\">\n  <thead>\n    <tr style=\"text-align: right;\">\n      <th></th>\n      <th>event_id</th>\n      <th>referee</th>\n      <th>referral</th>\n      <th>date</th>\n      <th>type</th>\n      <th>weight</th>\n    </tr>\n  </thead>\n  <tbody>\n    <tr>\n      <th>0</th>\n      <td>0</td>\n      <td>179373</td>\n      <td>179373</td>\n      <td>000101</td>\n      <td>add_actor</td>\n      <td>1.0</td>\n    </tr>\n    <tr>\n      <th>1</th>\n      <td>0</td>\n      <td>179373</td>\n      <td>179373</td>\n      <td>000101</td>\n      <td>age</td>\n      <td>65.0</td>\n    </tr>\n    <tr>\n      <th>2</th>\n      <td>0</td>\n      <td>179373</td>\n      <td>179373</td>\n      <td>000101</td>\n      <td>gender</td>\n      <td>1</td>\n    </tr>\n    <tr>\n      <th>3</th>\n      <td>0</td>\n      <td>179373</td>\n      <td>179373</td>\n      <td>000101</td>\n      <td>medical</td>\n      <td>1</td>\n    </tr>\n    <tr>\n      <th>4</th>\n      <td>0</td>\n      <td>179373</td>\n      <td>179373</td>\n      <td>000101</td>\n      <td>isco08_label</td>\n      <td>12</td>\n    </tr>\n    <tr>\n      <th>...</th>\n      <td>...</td>\n      <td>...</td>\n      <td>...</td>\n      <td>...</td>\n      <td>...</td>\n      <td>...</td>\n    </tr>\n    <tr>\n      <th>302547</th>\n      <td>6892</td>\n      <td>251363</td>\n      <td>13983S251363</td>\n      <td>201031</td>\n      <td>contact_nomination</td>\n      <td>1</td>\n    </tr>\n    <tr>\n      <th>302548</th>\n      <td>6893</td>\n      <td>252010</td>\n      <td>11400S252010</td>\n      <td>201031</td>\n      <td>contact_nomination</td>\n      <td>1</td>\n    </tr>\n    <tr>\n      <th>302549</th>\n      <td>6894</td>\n      <td>252092</td>\n      <td>9721S252092</td>\n      <td>201031</td>\n      <td>contact_nomination</td>\n      <td>1</td>\n    </tr>\n    <tr>\n      <th>302550</th>\n      <td>6863</td>\n      <td>243980</td>\n      <td>5800S243980</td>\n      <td>201031</td>\n      <td>contact_nomination</td>\n      <td>1</td>\n    </tr>\n    <tr>\n      <th>302551</th>\n      <td>6881</td>\n      <td>251702</td>\n      <td>251723</td>\n      <td>201031</td>\n      <td>contact_nomination</td>\n      <td>1</td>\n    </tr>\n  </tbody>\n</table>\n<p>302552 rows × 6 columns</p>\n</div>"
     },
     "execution_count": 28,
     "metadata": {},
     "output_type": "execute_result"
    }
   ],
   "source": [
    "bucharest_event_list"
   ],
   "metadata": {
    "collapsed": false,
    "pycharm": {
     "name": "#%%\n"
    }
   }
  },
  {
   "cell_type": "code",
   "execution_count": 29,
   "outputs": [],
   "source": [
    "bucharest_event_list['weight'] = pd.to_numeric(bucharest_event_list['weight'], errors='coerce')\n",
    "bucharest_event_list['weight'] = bucharest_event_list['weight'].apply(lambda x: str(int(x)) if not np.isnan(x) else np.nan)"
   ],
   "metadata": {
    "collapsed": false,
    "pycharm": {
     "name": "#%%\n"
    }
   }
  },
  {
   "cell_type": "code",
   "execution_count": 30,
   "outputs": [],
   "source": [
    "bucharest_event_list.fillna(value=-1.0, inplace=True)"
   ],
   "metadata": {
    "collapsed": false,
    "pycharm": {
     "name": "#%%\n"
    }
   }
  },
  {
   "cell_type": "code",
   "execution_count": 31,
   "outputs": [],
   "source": [
    "bucharest_event_list.to_csv('../Data/Preprocessed/bucharest_eventlist.csv')"
   ],
   "metadata": {
    "collapsed": false,
    "pycharm": {
     "name": "#%%\n"
    }
   }
  },
  {
   "cell_type": "code",
   "execution_count": null,
   "outputs": [],
   "source": [],
   "metadata": {
    "collapsed": false,
    "pycharm": {
     "name": "#%%\n"
    }
   }
  }
 ],
 "metadata": {
  "kernelspec": {
   "display_name": "Python 3",
   "language": "python",
   "name": "python3"
  },
  "language_info": {
   "codemirror_mode": {
    "name": "ipython",
    "version": 2
   },
   "file_extension": ".py",
   "mimetype": "text/x-python",
   "name": "python",
   "nbconvert_exporter": "python",
   "pygments_lexer": "ipython2",
   "version": "2.7.6"
  }
 },
 "nbformat": 4,
 "nbformat_minor": 0
}